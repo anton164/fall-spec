{
 "cells": [
  {
   "cell_type": "code",
   "execution_count": 3,
   "source": [
    "from notebook_utils import resolve_paths_from_parent_directory\n",
    "resolve_paths_from_parent_directory()\n",
    "# auto reload notebook deps\n",
    "%reload_ext autoreload\n",
    "%autoreload 2"
   ],
   "outputs": [],
   "metadata": {}
  },
  {
   "cell_type": "code",
   "execution_count": 4,
   "source": [
    "import pandas as pd\n",
    "\n",
    "df_celeb_raw = pd.read_csv(\"../data/celebrity/Top-1000-Celebrity-Twitter-Accounts.csv\")"
   ],
   "outputs": [],
   "metadata": {}
  },
  {
   "cell_type": "code",
   "execution_count": 5,
   "source": [
    "df_celeb_raw"
   ],
   "outputs": [
    {
     "output_type": "execute_result",
     "data": {
      "text/html": [
       "<div>\n",
       "<style scoped>\n",
       "    .dataframe tbody tr th:only-of-type {\n",
       "        vertical-align: middle;\n",
       "    }\n",
       "\n",
       "    .dataframe tbody tr th {\n",
       "        vertical-align: top;\n",
       "    }\n",
       "\n",
       "    .dataframe thead th {\n",
       "        text-align: right;\n",
       "    }\n",
       "</style>\n",
       "<table border=\"1\" class=\"dataframe\">\n",
       "  <thead>\n",
       "    <tr style=\"text-align: right;\">\n",
       "      <th></th>\n",
       "      <th>twitter</th>\n",
       "      <th>domain</th>\n",
       "      <th>name</th>\n",
       "      <th>type</th>\n",
       "    </tr>\n",
       "  </thead>\n",
       "  <tbody>\n",
       "    <tr>\n",
       "      <th>0</th>\n",
       "      <td>katyperry</td>\n",
       "      <td>katyperry.com</td>\n",
       "      <td>KATY PERRY</td>\n",
       "      <td>celebrity</td>\n",
       "    </tr>\n",
       "    <tr>\n",
       "      <th>1</th>\n",
       "      <td>justinbieber</td>\n",
       "      <td>smarturl.it</td>\n",
       "      <td>Justin Bieber</td>\n",
       "      <td>celebrity</td>\n",
       "    </tr>\n",
       "    <tr>\n",
       "      <th>2</th>\n",
       "      <td>taylorswift13</td>\n",
       "      <td>grmypro.co</td>\n",
       "      <td>Taylor Swift</td>\n",
       "      <td>celebrity</td>\n",
       "    </tr>\n",
       "    <tr>\n",
       "      <th>3</th>\n",
       "      <td>rihanna</td>\n",
       "      <td>rihannanow.com</td>\n",
       "      <td>Rihanna</td>\n",
       "      <td>celebrity</td>\n",
       "    </tr>\n",
       "    <tr>\n",
       "      <th>4</th>\n",
       "      <td>ladygaga</td>\n",
       "      <td>NaN</td>\n",
       "      <td>The Countess</td>\n",
       "      <td>celebrity</td>\n",
       "    </tr>\n",
       "    <tr>\n",
       "      <th>...</th>\n",
       "      <td>...</td>\n",
       "      <td>...</td>\n",
       "      <td>...</td>\n",
       "      <td>...</td>\n",
       "    </tr>\n",
       "    <tr>\n",
       "      <th>991</th>\n",
       "      <td>Zedd</td>\n",
       "      <td>smarturl.it</td>\n",
       "      <td>Zedd</td>\n",
       "      <td>celebrity</td>\n",
       "    </tr>\n",
       "    <tr>\n",
       "      <th>992</th>\n",
       "      <td>SleepintheGardn</td>\n",
       "      <td>katuriankaturiankaturian.tumblr.com</td>\n",
       "      <td>Troian</td>\n",
       "      <td>celebrity</td>\n",
       "    </tr>\n",
       "    <tr>\n",
       "      <th>993</th>\n",
       "      <td>therealjuicyj</td>\n",
       "      <td>thejuicyj.com</td>\n",
       "      <td>juicy j</td>\n",
       "      <td>celebrity</td>\n",
       "    </tr>\n",
       "    <tr>\n",
       "      <th>994</th>\n",
       "      <td>manugavassi</td>\n",
       "      <td>manugavassi.com.br</td>\n",
       "      <td>Manu Gavassi</td>\n",
       "      <td>celebrity</td>\n",
       "    </tr>\n",
       "    <tr>\n",
       "      <th>995</th>\n",
       "      <td>soujorge</td>\n",
       "      <td>seujorge.com</td>\n",
       "      <td>Seu Jorge</td>\n",
       "      <td>celebrity</td>\n",
       "    </tr>\n",
       "  </tbody>\n",
       "</table>\n",
       "<p>996 rows × 4 columns</p>\n",
       "</div>"
      ],
      "text/plain": [
       "             twitter                               domain           name  \\\n",
       "0          katyperry                        katyperry.com     KATY PERRY   \n",
       "1       justinbieber                          smarturl.it  Justin Bieber   \n",
       "2      taylorswift13                           grmypro.co   Taylor Swift   \n",
       "3            rihanna                       rihannanow.com        Rihanna   \n",
       "4           ladygaga                                  NaN   The Countess   \n",
       "..               ...                                  ...            ...   \n",
       "991             Zedd                          smarturl.it           Zedd   \n",
       "992  SleepintheGardn  katuriankaturiankaturian.tumblr.com         Troian   \n",
       "993    therealjuicyj                        thejuicyj.com        juicy j   \n",
       "994      manugavassi                   manugavassi.com.br   Manu Gavassi   \n",
       "995         soujorge                         seujorge.com      Seu Jorge   \n",
       "\n",
       "          type  \n",
       "0    celebrity  \n",
       "1    celebrity  \n",
       "2    celebrity  \n",
       "3    celebrity  \n",
       "4    celebrity  \n",
       "..         ...  \n",
       "991  celebrity  \n",
       "992  celebrity  \n",
       "993  celebrity  \n",
       "994  celebrity  \n",
       "995  celebrity  \n",
       "\n",
       "[996 rows x 4 columns]"
      ]
     },
     "metadata": {},
     "execution_count": 5
    }
   ],
   "metadata": {}
  },
  {
   "cell_type": "code",
   "execution_count": 6,
   "source": [
    "from api.twitter import fetch_users\n",
    "import numpy as np\n",
    "import math\n",
    "\n",
    "user_data = []\n",
    "errors = []\n",
    "for handle_chunk in np.array_split(\n",
    "    df_celeb_raw.twitter, \n",
    "    math.ceil(df_celeb_raw.shape[0] / 100)\n",
    "):\n",
    "    resp = fetch_users(handle_chunk)\n",
    "    user_data += resp[\"data\"]\n",
    "    errors += resp[\"errors\"]"
   ],
   "outputs": [
    {
     "output_type": "stream",
     "name": "stdout",
     "text": [
      "Successfully loaded Twitter API keys\n"
     ]
    },
    {
     "output_type": "stream",
     "name": "stderr",
     "text": [
      "2021-10-20 15:17:43.632 INFO    root: GET request to https://api.twitter.com/2/users/by, response 200\n",
      "2021-10-20 15:17:43.970 INFO    root: GET request to https://api.twitter.com/2/users/by, response 200\n",
      "2021-10-20 15:17:44.439 INFO    root: GET request to https://api.twitter.com/2/users/by, response 200\n",
      "2021-10-20 15:17:44.782 INFO    root: GET request to https://api.twitter.com/2/users/by, response 200\n",
      "2021-10-20 15:17:45.140 INFO    root: GET request to https://api.twitter.com/2/users/by, response 200\n",
      "2021-10-20 15:17:45.488 INFO    root: GET request to https://api.twitter.com/2/users/by, response 200\n",
      "2021-10-20 15:17:45.849 INFO    root: GET request to https://api.twitter.com/2/users/by, response 200\n",
      "2021-10-20 15:17:46.172 INFO    root: GET request to https://api.twitter.com/2/users/by, response 200\n",
      "2021-10-20 15:17:46.853 INFO    root: GET request to https://api.twitter.com/2/users/by, response 200\n",
      "2021-10-20 15:17:47.172 INFO    root: GET request to https://api.twitter.com/2/users/by, response 200\n"
     ]
    }
   ],
   "metadata": {}
  },
  {
   "cell_type": "code",
   "execution_count": 7,
   "source": [
    "df_celeb = df_celeb_raw.rename(\n",
    "    columns={\"twitter\": \"twitter_username\"}\n",
    ")\n",
    "user_data_by_username = {user[\"username\"]: user for user in user_data}\n",
    "\n",
    "# remove rows that are missing data\n",
    "df_celeb = df_celeb[df_celeb.twitter_username.apply(lambda u: u in user_data_by_username)]\n",
    "\n",
    "len(df_celeb)"
   ],
   "outputs": [
    {
     "output_type": "execute_result",
     "data": {
      "text/plain": [
       "939"
      ]
     },
     "metadata": {},
     "execution_count": 7
    }
   ],
   "metadata": {}
  },
  {
   "cell_type": "code",
   "execution_count": 8,
   "source": [
    "user_data[0]"
   ],
   "outputs": [
    {
     "output_type": "execute_result",
     "data": {
      "text/plain": [
       "{'description': 'Love. Light.',\n",
       " 'public_metrics': {'followers_count': 108789024,\n",
       "  'following_count': 236,\n",
       "  'tweet_count': 11460,\n",
       "  'listed_count': 128752},\n",
       " 'name': 'KATY PERRY',\n",
       " 'verified': True,\n",
       " 'id': '21447363',\n",
       " 'created_at': '2009-02-20T23:45:56.000Z',\n",
       " 'username': 'katyperry'}"
      ]
     },
     "metadata": {},
     "execution_count": 8
    }
   ],
   "metadata": {}
  },
  {
   "cell_type": "code",
   "execution_count": 9,
   "source": [
    "df_celeb[\"followers_count\"] = df_celeb.twitter_username.apply(\n",
    "    lambda u: user_data_by_username[u][\"public_metrics\"][\"followers_count\"]\n",
    ")\n",
    "df_celeb[\"tweet_count\"]  = df_celeb.twitter_username.apply(\n",
    "    lambda u: user_data_by_username[u][\"public_metrics\"][\"tweet_count\"]\n",
    ")\n",
    "df_celeb[\"name\"]  = df_celeb.twitter_username.apply(\n",
    "    lambda u: user_data_by_username[u][\"name\"]\n",
    ")\n",
    "df_celeb[\"created_at\"]  = df_celeb.twitter_username.apply(\n",
    "    lambda u: user_data_by_username[u][\"created_at\"]\n",
    ")\n",
    "df_celeb[\"id\"]  = df_celeb.twitter_username.apply(\n",
    "    lambda u: user_data_by_username[u][\"id\"]\n",
    ")\n",
    "df_celeb.head()"
   ],
   "outputs": [
    {
     "output_type": "execute_result",
     "data": {
      "text/html": [
       "<div>\n",
       "<style scoped>\n",
       "    .dataframe tbody tr th:only-of-type {\n",
       "        vertical-align: middle;\n",
       "    }\n",
       "\n",
       "    .dataframe tbody tr th {\n",
       "        vertical-align: top;\n",
       "    }\n",
       "\n",
       "    .dataframe thead th {\n",
       "        text-align: right;\n",
       "    }\n",
       "</style>\n",
       "<table border=\"1\" class=\"dataframe\">\n",
       "  <thead>\n",
       "    <tr style=\"text-align: right;\">\n",
       "      <th></th>\n",
       "      <th>twitter_username</th>\n",
       "      <th>domain</th>\n",
       "      <th>name</th>\n",
       "      <th>type</th>\n",
       "      <th>followers_count</th>\n",
       "      <th>tweet_count</th>\n",
       "      <th>created_at</th>\n",
       "      <th>id</th>\n",
       "    </tr>\n",
       "  </thead>\n",
       "  <tbody>\n",
       "    <tr>\n",
       "      <th>0</th>\n",
       "      <td>katyperry</td>\n",
       "      <td>katyperry.com</td>\n",
       "      <td>KATY PERRY</td>\n",
       "      <td>celebrity</td>\n",
       "      <td>108789024</td>\n",
       "      <td>11460</td>\n",
       "      <td>2009-02-20T23:45:56.000Z</td>\n",
       "      <td>21447363</td>\n",
       "    </tr>\n",
       "    <tr>\n",
       "      <th>1</th>\n",
       "      <td>justinbieber</td>\n",
       "      <td>smarturl.it</td>\n",
       "      <td>Justin Bieber</td>\n",
       "      <td>celebrity</td>\n",
       "      <td>114060688</td>\n",
       "      <td>31380</td>\n",
       "      <td>2009-03-28T16:41:22.000Z</td>\n",
       "      <td>27260086</td>\n",
       "    </tr>\n",
       "    <tr>\n",
       "      <th>2</th>\n",
       "      <td>taylorswift13</td>\n",
       "      <td>grmypro.co</td>\n",
       "      <td>Taylor Swift</td>\n",
       "      <td>celebrity</td>\n",
       "      <td>88903543</td>\n",
       "      <td>691</td>\n",
       "      <td>2008-12-06T10:10:54.000Z</td>\n",
       "      <td>17919972</td>\n",
       "    </tr>\n",
       "    <tr>\n",
       "      <th>3</th>\n",
       "      <td>rihanna</td>\n",
       "      <td>rihannanow.com</td>\n",
       "      <td>Rihanna</td>\n",
       "      <td>celebrity</td>\n",
       "      <td>103256018</td>\n",
       "      <td>10587</td>\n",
       "      <td>2009-10-02T21:37:33.000Z</td>\n",
       "      <td>79293791</td>\n",
       "    </tr>\n",
       "    <tr>\n",
       "      <th>4</th>\n",
       "      <td>ladygaga</td>\n",
       "      <td>NaN</td>\n",
       "      <td>Lady Gaga</td>\n",
       "      <td>celebrity</td>\n",
       "      <td>83801008</td>\n",
       "      <td>9645</td>\n",
       "      <td>2008-03-26T22:37:48.000Z</td>\n",
       "      <td>14230524</td>\n",
       "    </tr>\n",
       "  </tbody>\n",
       "</table>\n",
       "</div>"
      ],
      "text/plain": [
       "  twitter_username          domain           name       type  followers_count  \\\n",
       "0        katyperry   katyperry.com     KATY PERRY  celebrity        108789024   \n",
       "1     justinbieber     smarturl.it  Justin Bieber  celebrity        114060688   \n",
       "2    taylorswift13      grmypro.co   Taylor Swift  celebrity         88903543   \n",
       "3          rihanna  rihannanow.com        Rihanna  celebrity        103256018   \n",
       "4         ladygaga             NaN      Lady Gaga  celebrity         83801008   \n",
       "\n",
       "   tweet_count                created_at        id  \n",
       "0        11460  2009-02-20T23:45:56.000Z  21447363  \n",
       "1        31380  2009-03-28T16:41:22.000Z  27260086  \n",
       "2          691  2008-12-06T10:10:54.000Z  17919972  \n",
       "3        10587  2009-10-02T21:37:33.000Z  79293791  \n",
       "4         9645  2008-03-26T22:37:48.000Z  14230524  "
      ]
     },
     "metadata": {},
     "execution_count": 9
    }
   ],
   "metadata": {}
  },
  {
   "cell_type": "code",
   "execution_count": 10,
   "source": [
    "df_celeb.followers_count.plot.hist()"
   ],
   "outputs": [
    {
     "output_type": "execute_result",
     "data": {
      "text/plain": [
       "<AxesSubplot:ylabel='Frequency'>"
      ]
     },
     "metadata": {},
     "execution_count": 10
    },
    {
     "output_type": "display_data",
     "data": {
      "image/png": "[encoded data removed]",
      "text/plain": [
       "<Figure size 432x288 with 1 Axes>"
      ]
     },
     "metadata": {
      "needs_background": "light"
     }
    }
   ],
   "metadata": {}
  },
  {
   "cell_type": "markdown",
   "source": [
    "## Enhance with Tweet Counts API results"
   ],
   "metadata": {}
  },
  {
   "cell_type": "code",
   "execution_count": 11,
   "source": [
    "from datetime import datetime, timezone\n",
    "from dateutil.relativedelta import relativedelta\n",
    "from api.twitter import fetch_historical_counts\n",
    "\n",
    "def get_query_for_username(username):\n",
    "    return f\"@{username} OR from:{username} OR to:{username}\"\n",
    "\n",
    "def get_tweet_counts_by_username(username):\n",
    "    start_time = datetime.strptime(\n",
    "        \"2021-01-01\", \n",
    "        '%Y-%m-%d'\n",
    "    )\n",
    "    end_time = start_time + relativedelta(months=3)\n",
    "\n",
    "    granularity = \"day\" # hour\n",
    "\n",
    "    return fetch_historical_counts({\n",
    "        \"query\": get_query_for_username(username),\n",
    "        \"start_time\": datetime.combine(\n",
    "            start_time,\n",
    "            datetime.min.time()\n",
    "        ).replace(tzinfo=timezone.utc).isoformat(),\n",
    "        \"end_time\": datetime.combine(\n",
    "            end_time,\n",
    "            datetime.min.time()\n",
    "        ).replace(tzinfo=timezone.utc).isoformat(),\n",
    "        \"granularity\": granularity\n",
    "    })"
   ],
   "outputs": [],
   "metadata": {}
  },
  {
   "cell_type": "code",
   "execution_count": 12,
   "source": [
    "tweet_count_data_by_user = {}"
   ],
   "outputs": [],
   "metadata": {}
  },
  {
   "cell_type": "code",
   "execution_count": 34,
   "source": [
    "import time\n",
    "\n",
    "i = 0\n",
    "for user in df_celeb_raw.twitter.sort_values():\n",
    "    if (i < 300):\n",
    "        try:\n",
    "            if user not in tweet_count_data_by_user:\n",
    "                i += 1\n",
    "                tweet_count_data_by_user[user] = get_tweet_counts_by_username(user)\n",
    "        except:\n",
    "            print(f\"Rate limited for {user}, waiting 15 sec..\")\n",
    "            time.sleep(15)"
   ],
   "outputs": [],
   "metadata": {}
  },
  {
   "cell_type": "code",
   "execution_count": 35,
   "source": [
    "len(tweet_count_data_by_user)"
   ],
   "outputs": [
    {
     "output_type": "execute_result",
     "data": {
      "text/plain": [
       "986"
      ]
     },
     "metadata": {},
     "execution_count": 35
    }
   ],
   "metadata": {}
  },
  {
   "cell_type": "code",
   "execution_count": 36,
   "source": [
    "import pickle\n",
    "\n",
    "# Safety for not overriding the cache with an empty dict...\n",
    "if (len(tweet_count_data_by_user) >= 986):\n",
    "    with open(\"../data/celebrity/tweet_count_data_by_user\", \"wb\") as f:\n",
    "        pickle.dump(tweet_count_data_by_user, f)"
   ],
   "outputs": [],
   "metadata": {}
  },
  {
   "cell_type": "code",
   "execution_count": 37,
   "source": [
    "import pickle\n",
    "with open(\"../data/celebrity/tweet_count_data_by_user\", \"rb\") as f:\n",
    "    cached_tweet_count_data_by_user = pickle.load(f)\n",
    "len(cached_tweet_count_data_by_user)"
   ],
   "outputs": [
    {
     "output_type": "execute_result",
     "data": {
      "text/plain": [
       "986"
      ]
     },
     "metadata": {},
     "execution_count": 37
    }
   ],
   "metadata": {}
  },
  {
   "cell_type": "code",
   "execution_count": 31,
   "source": [
    "df_celeb.drop([\"domain\", \"type\"], axis=1).to_csv(\"../data/celebrity/enhanced_1k_celebrities.csv\")"
   ],
   "outputs": [],
   "metadata": {}
  },
  {
   "cell_type": "code",
   "execution_count": null,
   "source": [
    "## TODO, convert tweet_count_data_by_user to timeseries, sum counts and detect spikes"
   ],
   "outputs": [],
   "metadata": {}
  }
 ],
 "metadata": {
  "orig_nbformat": 4,
  "language_info": {
   "name": "python",
   "version": "3.8.11",
   "mimetype": "text/x-python",
   "codemirror_mode": {
    "name": "ipython",
    "version": 3
   },
   "pygments_lexer": "ipython3",
   "nbconvert_exporter": "python",
   "file_extension": ".py"
  },
  "kernelspec": {
   "name": "python3",
   "display_name": "Python 3.8.11 64-bit ('spec-project': conda)"
  },
  "interpreter": {
   "hash": "d5626e6117a626f228c3b35b757f4e3d945537012d8c7ec5db5088829d27e251"
  }
 },
 "nbformat": 4,
 "nbformat_minor": 2
}