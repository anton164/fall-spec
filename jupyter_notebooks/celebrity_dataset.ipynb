{
 "cells": [
  {
   "cell_type": "code",
   "execution_count": 38,
   "source": [
    "from notebook_utils import resolve_paths_from_parent_directory\n",
    "resolve_paths_from_parent_directory()\n",
    "# auto reload notebook deps\n",
    "%reload_ext autoreload\n",
    "%autoreload 2"
   ],
   "outputs": [
    {
     "output_type": "stream",
     "name": "stdout",
     "text": [
      "Successfully loaded Twitter API keys\n",
      "Successfully loaded Twitter API keys\n"
     ]
    }
   ],
   "metadata": {}
  },
  {
   "cell_type": "code",
   "execution_count": 39,
   "source": [
    "import pandas as pd\n",
    "\n",
    "df_celeb_raw = pd.read_csv(\"../data/celebrity/Top-1000-Celebrity-Twitter-Accounts.csv\")"
   ],
   "outputs": [],
   "metadata": {}
  },
  {
   "cell_type": "code",
   "execution_count": 40,
   "source": [
    "df_celeb_raw"
   ],
   "outputs": [
    {
     "output_type": "execute_result",
     "data": {
      "text/html": [
       "<div>\n",
       "<style scoped>\n",
       "    .dataframe tbody tr th:only-of-type {\n",
       "        vertical-align: middle;\n",
       "    }\n",
       "\n",
       "    .dataframe tbody tr th {\n",
       "        vertical-align: top;\n",
       "    }\n",
       "\n",
       "    .dataframe thead th {\n",
       "        text-align: right;\n",
       "    }\n",
       "</style>\n",
       "<table border=\"1\" class=\"dataframe\">\n",
       "  <thead>\n",
       "    <tr style=\"text-align: right;\">\n",
       "      <th></th>\n",
       "      <th>twitter</th>\n",
       "      <th>domain</th>\n",
       "      <th>name</th>\n",
       "      <th>type</th>\n",
       "    </tr>\n",
       "  </thead>\n",
       "  <tbody>\n",
       "    <tr>\n",
       "      <th>0</th>\n",
       "      <td>katyperry</td>\n",
       "      <td>katyperry.com</td>\n",
       "      <td>KATY PERRY</td>\n",
       "      <td>celebrity</td>\n",
       "    </tr>\n",
       "    <tr>\n",
       "      <th>1</th>\n",
       "      <td>justinbieber</td>\n",
       "      <td>smarturl.it</td>\n",
       "      <td>Justin Bieber</td>\n",
       "      <td>celebrity</td>\n",
       "    </tr>\n",
       "    <tr>\n",
       "      <th>2</th>\n",
       "      <td>taylorswift13</td>\n",
       "      <td>grmypro.co</td>\n",
       "      <td>Taylor Swift</td>\n",
       "      <td>celebrity</td>\n",
       "    </tr>\n",
       "    <tr>\n",
       "      <th>3</th>\n",
       "      <td>rihanna</td>\n",
       "      <td>rihannanow.com</td>\n",
       "      <td>Rihanna</td>\n",
       "      <td>celebrity</td>\n",
       "    </tr>\n",
       "    <tr>\n",
       "      <th>4</th>\n",
       "      <td>ladygaga</td>\n",
       "      <td>NaN</td>\n",
       "      <td>The Countess</td>\n",
       "      <td>celebrity</td>\n",
       "    </tr>\n",
       "    <tr>\n",
       "      <th>...</th>\n",
       "      <td>...</td>\n",
       "      <td>...</td>\n",
       "      <td>...</td>\n",
       "      <td>...</td>\n",
       "    </tr>\n",
       "    <tr>\n",
       "      <th>991</th>\n",
       "      <td>Zedd</td>\n",
       "      <td>smarturl.it</td>\n",
       "      <td>Zedd</td>\n",
       "      <td>celebrity</td>\n",
       "    </tr>\n",
       "    <tr>\n",
       "      <th>992</th>\n",
       "      <td>SleepintheGardn</td>\n",
       "      <td>katuriankaturiankaturian.tumblr.com</td>\n",
       "      <td>Troian</td>\n",
       "      <td>celebrity</td>\n",
       "    </tr>\n",
       "    <tr>\n",
       "      <th>993</th>\n",
       "      <td>therealjuicyj</td>\n",
       "      <td>thejuicyj.com</td>\n",
       "      <td>juicy j</td>\n",
       "      <td>celebrity</td>\n",
       "    </tr>\n",
       "    <tr>\n",
       "      <th>994</th>\n",
       "      <td>manugavassi</td>\n",
       "      <td>manugavassi.com.br</td>\n",
       "      <td>Manu Gavassi</td>\n",
       "      <td>celebrity</td>\n",
       "    </tr>\n",
       "    <tr>\n",
       "      <th>995</th>\n",
       "      <td>soujorge</td>\n",
       "      <td>seujorge.com</td>\n",
       "      <td>Seu Jorge</td>\n",
       "      <td>celebrity</td>\n",
       "    </tr>\n",
       "  </tbody>\n",
       "</table>\n",
       "<p>996 rows × 4 columns</p>\n",
       "</div>"
      ],
      "text/plain": [
       "             twitter                               domain           name  \\\n",
       "0          katyperry                        katyperry.com     KATY PERRY   \n",
       "1       justinbieber                          smarturl.it  Justin Bieber   \n",
       "2      taylorswift13                           grmypro.co   Taylor Swift   \n",
       "3            rihanna                       rihannanow.com        Rihanna   \n",
       "4           ladygaga                                  NaN   The Countess   \n",
       "..               ...                                  ...            ...   \n",
       "991             Zedd                          smarturl.it           Zedd   \n",
       "992  SleepintheGardn  katuriankaturiankaturian.tumblr.com         Troian   \n",
       "993    therealjuicyj                        thejuicyj.com        juicy j   \n",
       "994      manugavassi                   manugavassi.com.br   Manu Gavassi   \n",
       "995         soujorge                         seujorge.com      Seu Jorge   \n",
       "\n",
       "          type  \n",
       "0    celebrity  \n",
       "1    celebrity  \n",
       "2    celebrity  \n",
       "3    celebrity  \n",
       "4    celebrity  \n",
       "..         ...  \n",
       "991  celebrity  \n",
       "992  celebrity  \n",
       "993  celebrity  \n",
       "994  celebrity  \n",
       "995  celebrity  \n",
       "\n",
       "[996 rows x 4 columns]"
      ]
     },
     "metadata": {},
     "execution_count": 40
    }
   ],
   "metadata": {}
  },
  {
   "cell_type": "code",
   "execution_count": 6,
   "source": [
    "from api.twitter import fetch_users\n",
    "import numpy as np\n",
    "import math\n",
    "\n",
    "user_data = []\n",
    "errors = []\n",
    "for handle_chunk in np.array_split(\n",
    "    df_celeb_raw.twitter, \n",
    "    math.ceil(df_celeb_raw.shape[0] / 100)\n",
    "):\n",
    "    resp = fetch_users(handle_chunk)\n",
    "    user_data += resp[\"data\"]\n",
    "    errors += resp[\"errors\"]"
   ],
   "outputs": [
    {
     "output_type": "stream",
     "name": "stdout",
     "text": [
      "Successfully loaded Twitter API keys\n"
     ]
    },
    {
     "output_type": "stream",
     "name": "stderr",
     "text": [
      "2021-10-20 15:17:43.632 INFO    root: GET request to https://api.twitter.com/2/users/by, response 200\n",
      "2021-10-20 15:17:43.970 INFO    root: GET request to https://api.twitter.com/2/users/by, response 200\n",
      "2021-10-20 15:17:44.439 INFO    root: GET request to https://api.twitter.com/2/users/by, response 200\n",
      "2021-10-20 15:17:44.782 INFO    root: GET request to https://api.twitter.com/2/users/by, response 200\n",
      "2021-10-20 15:17:45.140 INFO    root: GET request to https://api.twitter.com/2/users/by, response 200\n",
      "2021-10-20 15:17:45.488 INFO    root: GET request to https://api.twitter.com/2/users/by, response 200\n",
      "2021-10-20 15:17:45.849 INFO    root: GET request to https://api.twitter.com/2/users/by, response 200\n",
      "2021-10-20 15:17:46.172 INFO    root: GET request to https://api.twitter.com/2/users/by, response 200\n",
      "2021-10-20 15:17:46.853 INFO    root: GET request to https://api.twitter.com/2/users/by, response 200\n",
      "2021-10-20 15:17:47.172 INFO    root: GET request to https://api.twitter.com/2/users/by, response 200\n"
     ]
    }
   ],
   "metadata": {}
  },
  {
   "cell_type": "code",
   "execution_count": 7,
   "source": [
    "df_celeb = df_celeb_raw.rename(\n",
    "    columns={\"twitter\": \"twitter_username\"}\n",
    ")\n",
    "user_data_by_username = {user[\"username\"]: user for user in user_data}\n",
    "\n",
    "# remove rows that are missing data\n",
    "df_celeb = df_celeb[df_celeb.twitter_username.apply(lambda u: u in user_data_by_username)]\n",
    "\n",
    "len(df_celeb)"
   ],
   "outputs": [
    {
     "output_type": "execute_result",
     "data": {
      "text/plain": [
       "939"
      ]
     },
     "metadata": {},
     "execution_count": 7
    }
   ],
   "metadata": {}
  },
  {
   "cell_type": "code",
   "execution_count": 8,
   "source": [
    "user_data[0]"
   ],
   "outputs": [
    {
     "output_type": "execute_result",
     "data": {
      "text/plain": [
       "{'description': 'Love. Light.',\n",
       " 'public_metrics': {'followers_count': 108789024,\n",
       "  'following_count': 236,\n",
       "  'tweet_count': 11460,\n",
       "  'listed_count': 128752},\n",
       " 'name': 'KATY PERRY',\n",
       " 'verified': True,\n",
       " 'id': '21447363',\n",
       " 'created_at': '2009-02-20T23:45:56.000Z',\n",
       " 'username': 'katyperry'}"
      ]
     },
     "metadata": {},
     "execution_count": 8
    }
   ],
   "metadata": {}
  },
  {
   "cell_type": "code",
   "execution_count": 9,
   "source": [
    "df_celeb[\"followers_count\"] = df_celeb.twitter_username.apply(\n",
    "    lambda u: user_data_by_username[u][\"public_metrics\"][\"followers_count\"]\n",
    ")\n",
    "df_celeb[\"user_tweet_count\"]  = df_celeb.twitter_username.apply(\n",
    "    lambda u: user_data_by_username[u][\"public_metrics\"][\"tweet_count\"]\n",
    ")\n",
    "df_celeb[\"name\"]  = df_celeb.twitter_username.apply(\n",
    "    lambda u: user_data_by_username[u][\"name\"]\n",
    ")\n",
    "df_celeb[\"created_at\"]  = df_celeb.twitter_username.apply(\n",
    "    lambda u: user_data_by_username[u][\"created_at\"]\n",
    ")\n",
    "df_celeb[\"id\"]  = df_celeb.twitter_username.apply(\n",
    "    lambda u: user_data_by_username[u][\"id\"]\n",
    ")\n",
    "df_celeb.head()"
   ],
   "outputs": [
    {
     "output_type": "execute_result",
     "data": {
      "text/html": [
       "<div>\n",
       "<style scoped>\n",
       "    .dataframe tbody tr th:only-of-type {\n",
       "        vertical-align: middle;\n",
       "    }\n",
       "\n",
       "    .dataframe tbody tr th {\n",
       "        vertical-align: top;\n",
       "    }\n",
       "\n",
       "    .dataframe thead th {\n",
       "        text-align: right;\n",
       "    }\n",
       "</style>\n",
       "<table border=\"1\" class=\"dataframe\">\n",
       "  <thead>\n",
       "    <tr style=\"text-align: right;\">\n",
       "      <th></th>\n",
       "      <th>twitter_username</th>\n",
       "      <th>domain</th>\n",
       "      <th>name</th>\n",
       "      <th>type</th>\n",
       "      <th>followers_count</th>\n",
       "      <th>tweet_count</th>\n",
       "      <th>created_at</th>\n",
       "      <th>id</th>\n",
       "    </tr>\n",
       "  </thead>\n",
       "  <tbody>\n",
       "    <tr>\n",
       "      <th>0</th>\n",
       "      <td>katyperry</td>\n",
       "      <td>katyperry.com</td>\n",
       "      <td>KATY PERRY</td>\n",
       "      <td>celebrity</td>\n",
       "      <td>108789024</td>\n",
       "      <td>11460</td>\n",
       "      <td>2009-02-20T23:45:56.000Z</td>\n",
       "      <td>21447363</td>\n",
       "    </tr>\n",
       "    <tr>\n",
       "      <th>1</th>\n",
       "      <td>justinbieber</td>\n",
       "      <td>smarturl.it</td>\n",
       "      <td>Justin Bieber</td>\n",
       "      <td>celebrity</td>\n",
       "      <td>114060688</td>\n",
       "      <td>31380</td>\n",
       "      <td>2009-03-28T16:41:22.000Z</td>\n",
       "      <td>27260086</td>\n",
       "    </tr>\n",
       "    <tr>\n",
       "      <th>2</th>\n",
       "      <td>taylorswift13</td>\n",
       "      <td>grmypro.co</td>\n",
       "      <td>Taylor Swift</td>\n",
       "      <td>celebrity</td>\n",
       "      <td>88903543</td>\n",
       "      <td>691</td>\n",
       "      <td>2008-12-06T10:10:54.000Z</td>\n",
       "      <td>17919972</td>\n",
       "    </tr>\n",
       "    <tr>\n",
       "      <th>3</th>\n",
       "      <td>rihanna</td>\n",
       "      <td>rihannanow.com</td>\n",
       "      <td>Rihanna</td>\n",
       "      <td>celebrity</td>\n",
       "      <td>103256018</td>\n",
       "      <td>10587</td>\n",
       "      <td>2009-10-02T21:37:33.000Z</td>\n",
       "      <td>79293791</td>\n",
       "    </tr>\n",
       "    <tr>\n",
       "      <th>4</th>\n",
       "      <td>ladygaga</td>\n",
       "      <td>NaN</td>\n",
       "      <td>Lady Gaga</td>\n",
       "      <td>celebrity</td>\n",
       "      <td>83801008</td>\n",
       "      <td>9645</td>\n",
       "      <td>2008-03-26T22:37:48.000Z</td>\n",
       "      <td>14230524</td>\n",
       "    </tr>\n",
       "  </tbody>\n",
       "</table>\n",
       "</div>"
      ],
      "text/plain": [
       "  twitter_username          domain           name       type  followers_count  \\\n",
       "0        katyperry   katyperry.com     KATY PERRY  celebrity        108789024   \n",
       "1     justinbieber     smarturl.it  Justin Bieber  celebrity        114060688   \n",
       "2    taylorswift13      grmypro.co   Taylor Swift  celebrity         88903543   \n",
       "3          rihanna  rihannanow.com        Rihanna  celebrity        103256018   \n",
       "4         ladygaga             NaN      Lady Gaga  celebrity         83801008   \n",
       "\n",
       "   tweet_count                created_at        id  \n",
       "0        11460  2009-02-20T23:45:56.000Z  21447363  \n",
       "1        31380  2009-03-28T16:41:22.000Z  27260086  \n",
       "2          691  2008-12-06T10:10:54.000Z  17919972  \n",
       "3        10587  2009-10-02T21:37:33.000Z  79293791  \n",
       "4         9645  2008-03-26T22:37:48.000Z  14230524  "
      ]
     },
     "metadata": {},
     "execution_count": 9
    }
   ],
   "metadata": {}
  },
  {
   "cell_type": "code",
   "execution_count": 10,
   "source": [
    "df_celeb.followers_count.plot.hist()"
   ],
   "outputs": [
    {
     "output_type": "execute_result",
     "data": {
      "text/plain": [
       "<AxesSubplot:ylabel='Frequency'>"
      ]
     },
     "metadata": {},
     "execution_count": 10
    },
    {
     "output_type": "display_data",
     "data": {
      "image/png": "[encoded data removed]",
      "text/plain": [
       "<Figure size 432x288 with 1 Axes>"
      ]
     },
     "metadata": {
      "needs_background": "light"
     }
    }
   ],
   "metadata": {}
  },
  {
   "cell_type": "code",
   "execution_count": 68,
   "source": [
    "df_celeb.drop([\"domain\", \"type\"], axis=1).to_csv(\"../data/celebrity/enhanced_1k_celebrities.csv\", index=False)"
   ],
   "outputs": [],
   "metadata": {}
  },
  {
   "cell_type": "markdown",
   "source": [
    "## Enhance with Tweet Counts API results"
   ],
   "metadata": {}
  },
  {
   "cell_type": "code",
   "execution_count": 11,
   "source": [
    "from datetime import datetime, timezone\n",
    "from dateutil.relativedelta import relativedelta\n",
    "from api.twitter import fetch_historical_counts\n",
    "\n",
    "def get_query_for_username(username):\n",
    "    return f\"@{username} OR from:{username} OR to:{username}\"\n",
    "\n",
    "def get_tweet_counts_by_username(username):\n",
    "    start_time = datetime.strptime(\n",
    "        \"2021-01-01\", \n",
    "        '%Y-%m-%d'\n",
    "    )\n",
    "    end_time = start_time + relativedelta(months=3)\n",
    "\n",
    "    granularity = \"day\" # hour\n",
    "\n",
    "    return fetch_historical_counts({\n",
    "        \"query\": get_query_for_username(username),\n",
    "        \"start_time\": datetime.combine(\n",
    "            start_time,\n",
    "            datetime.min.time()\n",
    "        ).replace(tzinfo=timezone.utc).isoformat(),\n",
    "        \"end_time\": datetime.combine(\n",
    "            end_time,\n",
    "            datetime.min.time()\n",
    "        ).replace(tzinfo=timezone.utc).isoformat(),\n",
    "        \"granularity\": granularity\n",
    "    })"
   ],
   "outputs": [],
   "metadata": {}
  },
  {
   "cell_type": "code",
   "execution_count": 12,
   "source": [
    "tweet_count_data_by_user = {}"
   ],
   "outputs": [],
   "metadata": {}
  },
  {
   "cell_type": "code",
   "execution_count": 34,
   "source": [
    "import time\n",
    "\n",
    "i = 0\n",
    "for user in df_celeb_raw.twitter.sort_values():\n",
    "    if (i < 300):\n",
    "        try:\n",
    "            if user not in tweet_count_data_by_user:\n",
    "                i += 1\n",
    "                tweet_count_data_by_user[user] = get_tweet_counts_by_username(user)\n",
    "        except:\n",
    "            print(f\"Rate limited for {user}, waiting 15 sec..\")\n",
    "            time.sleep(15)"
   ],
   "outputs": [],
   "metadata": {}
  },
  {
   "cell_type": "code",
   "execution_count": 35,
   "source": [
    "len(tweet_count_data_by_user)"
   ],
   "outputs": [
    {
     "output_type": "execute_result",
     "data": {
      "text/plain": [
       "986"
      ]
     },
     "metadata": {},
     "execution_count": 35
    }
   ],
   "metadata": {}
  },
  {
   "cell_type": "code",
   "execution_count": 36,
   "source": [
    "import pickle\n",
    "\n",
    "# Safety for not overriding the cache with an empty dict...\n",
    "if (len(tweet_count_data_by_user) >= 986):\n",
    "    with open(\"../data/celebrity/tweet_count_data_by_user\", \"wb\") as f:\n",
    "        pickle.dump(tweet_count_data_by_user, f)"
   ],
   "outputs": [],
   "metadata": {}
  },
  {
   "cell_type": "code",
   "execution_count": 41,
   "source": [
    "import pickle\n",
    "with open(\"../data/celebrity/tweet_count_data_by_user\", \"rb\") as f:\n",
    "    cached_tweet_count_data_by_user = pickle.load(f)\n",
    "len(cached_tweet_count_data_by_user)"
   ],
   "outputs": [
    {
     "output_type": "execute_result",
     "data": {
      "text/plain": [
       "986"
      ]
     },
     "metadata": {},
     "execution_count": 41
    }
   ],
   "metadata": {}
  },
  {
   "cell_type": "code",
   "execution_count": 92,
   "source": [
    "df_celeb = pd.read_csv(\"../data/celebrity/enhanced_1k_celebrities.csv\")\n",
    "df_celeb[\"query_tweet_count\"] = df_celeb.twitter_username.apply(\n",
    "    lambda u: cached_tweet_count_data_by_user[u][\"meta\"][\"total_tweet_count\"]\n",
    ")\n",
    "df_celeb"
   ],
   "outputs": [
    {
     "output_type": "execute_result",
     "data": {
      "text/html": [
       "<div>\n",
       "<style scoped>\n",
       "    .dataframe tbody tr th:only-of-type {\n",
       "        vertical-align: middle;\n",
       "    }\n",
       "\n",
       "    .dataframe tbody tr th {\n",
       "        vertical-align: top;\n",
       "    }\n",
       "\n",
       "    .dataframe thead th {\n",
       "        text-align: right;\n",
       "    }\n",
       "</style>\n",
       "<table border=\"1\" class=\"dataframe\">\n",
       "  <thead>\n",
       "    <tr style=\"text-align: right;\">\n",
       "      <th></th>\n",
       "      <th>twitter_username</th>\n",
       "      <th>name</th>\n",
       "      <th>followers_count</th>\n",
       "      <th>user_tweet_count</th>\n",
       "      <th>created_at</th>\n",
       "      <th>id</th>\n",
       "      <th>query_tweet_count</th>\n",
       "    </tr>\n",
       "  </thead>\n",
       "  <tbody>\n",
       "    <tr>\n",
       "      <th>0</th>\n",
       "      <td>katyperry</td>\n",
       "      <td>KATY PERRY</td>\n",
       "      <td>108789024</td>\n",
       "      <td>11460</td>\n",
       "      <td>2009-02-20T23:45:56.000Z</td>\n",
       "      <td>21447363</td>\n",
       "      <td>748786</td>\n",
       "    </tr>\n",
       "    <tr>\n",
       "      <th>1</th>\n",
       "      <td>justinbieber</td>\n",
       "      <td>Justin Bieber</td>\n",
       "      <td>114060688</td>\n",
       "      <td>31380</td>\n",
       "      <td>2009-03-28T16:41:22.000Z</td>\n",
       "      <td>27260086</td>\n",
       "      <td>4589799</td>\n",
       "    </tr>\n",
       "    <tr>\n",
       "      <th>2</th>\n",
       "      <td>taylorswift13</td>\n",
       "      <td>Taylor Swift</td>\n",
       "      <td>88903543</td>\n",
       "      <td>691</td>\n",
       "      <td>2008-12-06T10:10:54.000Z</td>\n",
       "      <td>17919972</td>\n",
       "      <td>4375820</td>\n",
       "    </tr>\n",
       "    <tr>\n",
       "      <th>3</th>\n",
       "      <td>rihanna</td>\n",
       "      <td>Rihanna</td>\n",
       "      <td>103256018</td>\n",
       "      <td>10587</td>\n",
       "      <td>2009-10-02T21:37:33.000Z</td>\n",
       "      <td>79293791</td>\n",
       "      <td>2893095</td>\n",
       "    </tr>\n",
       "    <tr>\n",
       "      <th>4</th>\n",
       "      <td>ladygaga</td>\n",
       "      <td>Lady Gaga</td>\n",
       "      <td>83801008</td>\n",
       "      <td>9645</td>\n",
       "      <td>2008-03-26T22:37:48.000Z</td>\n",
       "      <td>14230524</td>\n",
       "      <td>1546900</td>\n",
       "    </tr>\n",
       "    <tr>\n",
       "      <th>...</th>\n",
       "      <td>...</td>\n",
       "      <td>...</td>\n",
       "      <td>...</td>\n",
       "      <td>...</td>\n",
       "      <td>...</td>\n",
       "      <td>...</td>\n",
       "      <td>...</td>\n",
       "    </tr>\n",
       "    <tr>\n",
       "      <th>934</th>\n",
       "      <td>Zedd</td>\n",
       "      <td>Zedd</td>\n",
       "      <td>7742802</td>\n",
       "      <td>34966</td>\n",
       "      <td>2010-06-14T21:53:37.000Z</td>\n",
       "      <td>155705264</td>\n",
       "      <td>44148</td>\n",
       "    </tr>\n",
       "    <tr>\n",
       "      <th>935</th>\n",
       "      <td>SleepintheGardn</td>\n",
       "      <td>Troian</td>\n",
       "      <td>2349183</td>\n",
       "      <td>8321</td>\n",
       "      <td>2010-04-08T23:29:12.000Z</td>\n",
       "      <td>130991061</td>\n",
       "      <td>5632</td>\n",
       "    </tr>\n",
       "    <tr>\n",
       "      <th>936</th>\n",
       "      <td>therealjuicyj</td>\n",
       "      <td>juicy j</td>\n",
       "      <td>2795518</td>\n",
       "      <td>46484</td>\n",
       "      <td>2009-03-13T22:59:30.000Z</td>\n",
       "      <td>24275419</td>\n",
       "      <td>83570</td>\n",
       "    </tr>\n",
       "    <tr>\n",
       "      <th>937</th>\n",
       "      <td>manugavassi</td>\n",
       "      <td>Manu Gavassi</td>\n",
       "      <td>6433461</td>\n",
       "      <td>42676</td>\n",
       "      <td>2009-04-15T22:44:52.000Z</td>\n",
       "      <td>31547933</td>\n",
       "      <td>169243</td>\n",
       "    </tr>\n",
       "    <tr>\n",
       "      <th>938</th>\n",
       "      <td>soujorge</td>\n",
       "      <td>soujorge</td>\n",
       "      <td>38</td>\n",
       "      <td>1</td>\n",
       "      <td>2020-06-03T22:59:57.000Z</td>\n",
       "      <td>1268316455197708288</td>\n",
       "      <td>18</td>\n",
       "    </tr>\n",
       "  </tbody>\n",
       "</table>\n",
       "<p>939 rows × 7 columns</p>\n",
       "</div>"
      ],
      "text/plain": [
       "    twitter_username           name  followers_count  user_tweet_count  \\\n",
       "0          katyperry     KATY PERRY        108789024             11460   \n",
       "1       justinbieber  Justin Bieber        114060688             31380   \n",
       "2      taylorswift13   Taylor Swift         88903543               691   \n",
       "3            rihanna        Rihanna        103256018             10587   \n",
       "4           ladygaga      Lady Gaga         83801008              9645   \n",
       "..               ...            ...              ...               ...   \n",
       "934             Zedd           Zedd          7742802             34966   \n",
       "935  SleepintheGardn         Troian          2349183              8321   \n",
       "936    therealjuicyj        juicy j          2795518             46484   \n",
       "937      manugavassi   Manu Gavassi          6433461             42676   \n",
       "938         soujorge       soujorge               38                 1   \n",
       "\n",
       "                   created_at                   id  query_tweet_count  \n",
       "0    2009-02-20T23:45:56.000Z             21447363             748786  \n",
       "1    2009-03-28T16:41:22.000Z             27260086            4589799  \n",
       "2    2008-12-06T10:10:54.000Z             17919972            4375820  \n",
       "3    2009-10-02T21:37:33.000Z             79293791            2893095  \n",
       "4    2008-03-26T22:37:48.000Z             14230524            1546900  \n",
       "..                        ...                  ...                ...  \n",
       "934  2010-06-14T21:53:37.000Z            155705264              44148  \n",
       "935  2010-04-08T23:29:12.000Z            130991061               5632  \n",
       "936  2009-03-13T22:59:30.000Z             24275419              83570  \n",
       "937  2009-04-15T22:44:52.000Z             31547933             169243  \n",
       "938  2020-06-03T22:59:57.000Z  1268316455197708288                 18  \n",
       "\n",
       "[939 rows x 7 columns]"
      ]
     },
     "metadata": {},
     "execution_count": 92
    }
   ],
   "metadata": {}
  },
  {
   "cell_type": "code",
   "execution_count": 201,
   "source": [
    "# Drop non-celeb account\n",
    "df_celeb = df_celeb[df_celeb.followers_count > 1000].drop_duplicates(\"twitter_username\")\n",
    "df_celeb.reset_index(drop=True).sort_values(\"query_tweet_count\", ascending=False)"
   ],
   "outputs": [
    {
     "output_type": "execute_result",
     "data": {
      "text/html": [
       "<div>\n",
       "<style scoped>\n",
       "    .dataframe tbody tr th:only-of-type {\n",
       "        vertical-align: middle;\n",
       "    }\n",
       "\n",
       "    .dataframe tbody tr th {\n",
       "        vertical-align: top;\n",
       "    }\n",
       "\n",
       "    .dataframe thead th {\n",
       "        text-align: right;\n",
       "    }\n",
       "</style>\n",
       "<table border=\"1\" class=\"dataframe\">\n",
       "  <thead>\n",
       "    <tr style=\"text-align: right;\">\n",
       "      <th></th>\n",
       "      <th>twitter_username</th>\n",
       "      <th>name</th>\n",
       "      <th>followers_count</th>\n",
       "      <th>user_tweet_count</th>\n",
       "      <th>created_at</th>\n",
       "      <th>id</th>\n",
       "      <th>query_tweet_count</th>\n",
       "    </tr>\n",
       "  </thead>\n",
       "  <tbody>\n",
       "    <tr>\n",
       "      <th>702</th>\n",
       "      <td>elonmusk</td>\n",
       "      <td>Elon Musk</td>\n",
       "      <td>61115743</td>\n",
       "      <td>15714</td>\n",
       "      <td>2009-06-02T20:12:29.000Z</td>\n",
       "      <td>44196397</td>\n",
       "      <td>14968780</td>\n",
       "    </tr>\n",
       "    <tr>\n",
       "      <th>34</th>\n",
       "      <td>Louis_Tomlinson</td>\n",
       "      <td>Louis Tomlinson</td>\n",
       "      <td>35939242</td>\n",
       "      <td>7564</td>\n",
       "      <td>2009-10-22T08:58:11.000Z</td>\n",
       "      <td>84279963</td>\n",
       "      <td>11279933</td>\n",
       "    </tr>\n",
       "    <tr>\n",
       "      <th>19</th>\n",
       "      <td>Harry_Styles</td>\n",
       "      <td>Harry Styles.</td>\n",
       "      <td>37010333</td>\n",
       "      <td>5581</td>\n",
       "      <td>2010-08-22T14:19:06.000Z</td>\n",
       "      <td>181561712</td>\n",
       "      <td>6283104</td>\n",
       "    </tr>\n",
       "    <tr>\n",
       "      <th>56</th>\n",
       "      <td>BeingSalmanKhan</td>\n",
       "      <td>Salman Khan</td>\n",
       "      <td>43043216</td>\n",
       "      <td>43028</td>\n",
       "      <td>2010-04-13T02:56:21.000Z</td>\n",
       "      <td>132385468</td>\n",
       "      <td>5416612</td>\n",
       "    </tr>\n",
       "    <tr>\n",
       "      <th>1</th>\n",
       "      <td>justinbieber</td>\n",
       "      <td>Justin Bieber</td>\n",
       "      <td>114060688</td>\n",
       "      <td>31380</td>\n",
       "      <td>2009-03-28T16:41:22.000Z</td>\n",
       "      <td>27260086</td>\n",
       "      <td>4589799</td>\n",
       "    </tr>\n",
       "    <tr>\n",
       "      <th>...</th>\n",
       "      <td>...</td>\n",
       "      <td>...</td>\n",
       "      <td>...</td>\n",
       "      <td>...</td>\n",
       "      <td>...</td>\n",
       "      <td>...</td>\n",
       "      <td>...</td>\n",
       "    </tr>\n",
       "    <tr>\n",
       "      <th>282</th>\n",
       "      <td>Angelluisr</td>\n",
       "      <td>Angel Rivera</td>\n",
       "      <td>1127856</td>\n",
       "      <td>8428</td>\n",
       "      <td>2009-02-10T04:02:59.000Z</td>\n",
       "      <td>20490840</td>\n",
       "      <td>23</td>\n",
       "    </tr>\n",
       "    <tr>\n",
       "      <th>566</th>\n",
       "      <td>BRUNOIERULLO</td>\n",
       "      <td>BRUNO IERULLO</td>\n",
       "      <td>956975</td>\n",
       "      <td>1025</td>\n",
       "      <td>2009-04-07T12:59:13.000Z</td>\n",
       "      <td>29441764</td>\n",
       "      <td>11</td>\n",
       "    </tr>\n",
       "    <tr>\n",
       "      <th>892</th>\n",
       "      <td>bonnovanderputt</td>\n",
       "      <td>bonno van der putten</td>\n",
       "      <td>436268</td>\n",
       "      <td>26581</td>\n",
       "      <td>2012-01-28T17:27:40.000Z</td>\n",
       "      <td>476946794</td>\n",
       "      <td>9</td>\n",
       "    </tr>\n",
       "    <tr>\n",
       "      <th>848</th>\n",
       "      <td>siyovushdustov</td>\n",
       "      <td>Siyovush Dustov</td>\n",
       "      <td>418448</td>\n",
       "      <td>3</td>\n",
       "      <td>2012-02-28T06:59:04.000Z</td>\n",
       "      <td>507005731</td>\n",
       "      <td>3</td>\n",
       "    </tr>\n",
       "    <tr>\n",
       "      <th>279</th>\n",
       "      <td>bepe20s</td>\n",
       "      <td>•Bambang Pamungkas•</td>\n",
       "      <td>1012</td>\n",
       "      <td>104</td>\n",
       "      <td>2015-08-08T10:21:12.000Z</td>\n",
       "      <td>3309596149</td>\n",
       "      <td>3</td>\n",
       "    </tr>\n",
       "  </tbody>\n",
       "</table>\n",
       "<p>908 rows × 7 columns</p>\n",
       "</div>"
      ],
      "text/plain": [
       "    twitter_username                  name  followers_count  user_tweet_count  \\\n",
       "702         elonmusk             Elon Musk         61115743             15714   \n",
       "34   Louis_Tomlinson       Louis Tomlinson         35939242              7564   \n",
       "19      Harry_Styles         Harry Styles.         37010333              5581   \n",
       "56   BeingSalmanKhan           Salman Khan         43043216             43028   \n",
       "1       justinbieber         Justin Bieber        114060688             31380   \n",
       "..               ...                   ...              ...               ...   \n",
       "282       Angelluisr          Angel Rivera          1127856              8428   \n",
       "566     BRUNOIERULLO         BRUNO IERULLO           956975              1025   \n",
       "892  bonnovanderputt  bonno van der putten           436268             26581   \n",
       "848   siyovushdustov       Siyovush Dustov           418448                 3   \n",
       "279          bepe20s   •Bambang Pamungkas•             1012               104   \n",
       "\n",
       "                   created_at          id  query_tweet_count  \n",
       "702  2009-06-02T20:12:29.000Z    44196397           14968780  \n",
       "34   2009-10-22T08:58:11.000Z    84279963           11279933  \n",
       "19   2010-08-22T14:19:06.000Z   181561712            6283104  \n",
       "56   2010-04-13T02:56:21.000Z   132385468            5416612  \n",
       "1    2009-03-28T16:41:22.000Z    27260086            4589799  \n",
       "..                        ...         ...                ...  \n",
       "282  2009-02-10T04:02:59.000Z    20490840                 23  \n",
       "566  2009-04-07T12:59:13.000Z    29441764                 11  \n",
       "892  2012-01-28T17:27:40.000Z   476946794                  9  \n",
       "848  2012-02-28T06:59:04.000Z   507005731                  3  \n",
       "279  2015-08-08T10:21:12.000Z  3309596149                  3  \n",
       "\n",
       "[908 rows x 7 columns]"
      ]
     },
     "metadata": {},
     "execution_count": 201
    }
   ],
   "metadata": {}
  },
  {
   "cell_type": "code",
   "execution_count": 203,
   "source": [
    "df_celeb.to_csv(\"../data/celebrity/enhanced_1k_celebrities.csv\", index=False)"
   ],
   "outputs": [],
   "metadata": {}
  },
  {
   "cell_type": "code",
   "execution_count": 194,
   "source": [
    "import matplotlib.pyplot as plt\n",
    "import matplotlib.ticker as mtick\n",
    "out = pd.qcut(\n",
    "    df_celeb.query_tweet_count, \n",
    "    q=8\n",
    ")\n",
    "ax = out.value_counts(sort=False).plot.barh(rot=0, figsize=(6,4))\n",
    "ax.set_yticklabels([str(int(c.mid / 1000)) + \" * 10^3\" for c in out.cat.categories])\n",
    "plt.title(\"Celebrity Queries Binned by Query Tweet Count\")\n",
    "plt.show()"
   ],
   "outputs": [
    {
     "output_type": "display_data",
     "data": {
      "image/png": "[encoded data removed]",
      "text/plain": [
       "<Figure size 432x288 with 1 Axes>"
      ]
     },
     "metadata": {
      "needs_background": "light"
     }
    }
   ],
   "metadata": {}
  },
  {
   "cell_type": "code",
   "execution_count": 242,
   "source": [
    "from utils.label_spikes import timeseries_from_query_counts\n",
    "\n",
    "get_timeseries = timeseries_from_query_counts\n",
    "rihanna_timeseries = get_timeseries(cached_tweet_count_data_by_user[\"rihanna\"])\n",
    "rihanna_timeseries"
   ],
   "outputs": [
    {
     "output_type": "execute_result",
     "data": {
      "text/html": [
       "<div>\n",
       "<style scoped>\n",
       "    .dataframe tbody tr th:only-of-type {\n",
       "        vertical-align: middle;\n",
       "    }\n",
       "\n",
       "    .dataframe tbody tr th {\n",
       "        vertical-align: top;\n",
       "    }\n",
       "\n",
       "    .dataframe thead th {\n",
       "        text-align: right;\n",
       "    }\n",
       "</style>\n",
       "<table border=\"1\" class=\"dataframe\">\n",
       "  <thead>\n",
       "    <tr style=\"text-align: right;\">\n",
       "      <th></th>\n",
       "      <th>tweet_count</th>\n",
       "    </tr>\n",
       "    <tr>\n",
       "      <th>time_end</th>\n",
       "      <th></th>\n",
       "    </tr>\n",
       "  </thead>\n",
       "  <tbody>\n",
       "    <tr>\n",
       "      <th>2021-01-02 00:00:00+00:00</th>\n",
       "      <td>34871</td>\n",
       "    </tr>\n",
       "    <tr>\n",
       "      <th>2021-01-03 00:00:00+00:00</th>\n",
       "      <td>29705</td>\n",
       "    </tr>\n",
       "    <tr>\n",
       "      <th>2021-01-04 00:00:00+00:00</th>\n",
       "      <td>5130</td>\n",
       "    </tr>\n",
       "    <tr>\n",
       "      <th>2021-01-05 00:00:00+00:00</th>\n",
       "      <td>4462</td>\n",
       "    </tr>\n",
       "    <tr>\n",
       "      <th>2021-01-06 00:00:00+00:00</th>\n",
       "      <td>3339</td>\n",
       "    </tr>\n",
       "    <tr>\n",
       "      <th>...</th>\n",
       "      <td>...</td>\n",
       "    </tr>\n",
       "    <tr>\n",
       "      <th>2021-03-28 00:00:00+00:00</th>\n",
       "      <td>11538</td>\n",
       "    </tr>\n",
       "    <tr>\n",
       "      <th>2021-03-29 00:00:00+00:00</th>\n",
       "      <td>4551</td>\n",
       "    </tr>\n",
       "    <tr>\n",
       "      <th>2021-03-30 00:00:00+00:00</th>\n",
       "      <td>5687</td>\n",
       "    </tr>\n",
       "    <tr>\n",
       "      <th>2021-03-31 00:00:00+00:00</th>\n",
       "      <td>8480</td>\n",
       "    </tr>\n",
       "    <tr>\n",
       "      <th>2021-04-01 00:00:00+00:00</th>\n",
       "      <td>5153</td>\n",
       "    </tr>\n",
       "  </tbody>\n",
       "</table>\n",
       "<p>90 rows × 1 columns</p>\n",
       "</div>"
      ],
      "text/plain": [
       "                           tweet_count\n",
       "time_end                              \n",
       "2021-01-02 00:00:00+00:00        34871\n",
       "2021-01-03 00:00:00+00:00        29705\n",
       "2021-01-04 00:00:00+00:00         5130\n",
       "2021-01-05 00:00:00+00:00         4462\n",
       "2021-01-06 00:00:00+00:00         3339\n",
       "...                                ...\n",
       "2021-03-28 00:00:00+00:00        11538\n",
       "2021-03-29 00:00:00+00:00         4551\n",
       "2021-03-30 00:00:00+00:00         5687\n",
       "2021-03-31 00:00:00+00:00         8480\n",
       "2021-04-01 00:00:00+00:00         5153\n",
       "\n",
       "[90 rows x 1 columns]"
      ]
     },
     "metadata": {},
     "execution_count": 242
    }
   ],
   "metadata": {}
  },
  {
   "cell_type": "code",
   "execution_count": 191,
   "source": [
    "import plotly.express as px\n",
    "\n",
    "px.line(rihanna_timeseries.tweet_count)"
   ],
   "outputs": [
    {
     "output_type": "display_data",
     "data": {
      "application/vnd.plotly.v1+json": {
       "config": {
        "plotlyServerURL": "https://plot.ly"
       },
       "data": [
        {
         "hovertemplate": "variable=tweet_count<br>time_end=%{x}<br>value=%{y}<extra></extra>",
         "legendgroup": "tweet_count",
         "line": {
          "color": "#636efa",
          "dash": "solid"
         },
         "marker": {
          "symbol": "circle"
         },
         "mode": "lines",
         "name": "tweet_count",
         "orientation": "v",
         "showlegend": true,
         "type": "scatter",
         "x": [
          "2021-01-02T00:00:00+00:00",
          "2021-01-03T00:00:00+00:00",
          "2021-01-04T00:00:00+00:00",
          "2021-01-05T00:00:00+00:00",
          "2021-01-06T00:00:00+00:00",
          "2021-01-07T00:00:00+00:00",
          "2021-01-08T00:00:00+00:00",
          "2021-01-09T00:00:00+00:00",
          "2021-01-10T00:00:00+00:00",
          "2021-01-11T00:00:00+00:00",
          "2021-01-12T00:00:00+00:00",
          "2021-01-13T00:00:00+00:00",
          "2021-01-14T00:00:00+00:00",
          "2021-01-15T00:00:00+00:00",
          "2021-01-16T00:00:00+00:00",
          "2021-01-17T00:00:00+00:00",
          "2021-01-18T00:00:00+00:00",
          "2021-01-19T00:00:00+00:00",
          "2021-01-20T00:00:00+00:00",
          "2021-01-21T00:00:00+00:00",
          "2021-01-22T00:00:00+00:00",
          "2021-01-23T00:00:00+00:00",
          "2021-01-24T00:00:00+00:00",
          "2021-01-25T00:00:00+00:00",
          "2021-01-26T00:00:00+00:00",
          "2021-01-27T00:00:00+00:00",
          "2021-01-28T00:00:00+00:00",
          "2021-01-29T00:00:00+00:00",
          "2021-01-30T00:00:00+00:00",
          "2021-01-31T00:00:00+00:00",
          "2021-02-01T00:00:00+00:00",
          "2021-02-02T00:00:00+00:00",
          "2021-02-03T00:00:00+00:00",
          "2021-02-04T00:00:00+00:00",
          "2021-02-05T00:00:00+00:00",
          "2021-02-06T00:00:00+00:00",
          "2021-02-07T00:00:00+00:00",
          "2021-02-08T00:00:00+00:00",
          "2021-02-09T00:00:00+00:00",
          "2021-02-10T00:00:00+00:00",
          "2021-02-11T00:00:00+00:00",
          "2021-02-12T00:00:00+00:00",
          "2021-02-13T00:00:00+00:00",
          "2021-02-14T00:00:00+00:00",
          "2021-02-15T00:00:00+00:00",
          "2021-02-16T00:00:00+00:00",
          "2021-02-17T00:00:00+00:00",
          "2021-02-18T00:00:00+00:00",
          "2021-02-19T00:00:00+00:00",
          "2021-02-20T00:00:00+00:00",
          "2021-02-21T00:00:00+00:00",
          "2021-02-22T00:00:00+00:00",
          "2021-02-23T00:00:00+00:00",
          "2021-02-24T00:00:00+00:00",
          "2021-02-25T00:00:00+00:00",
          "2021-02-26T00:00:00+00:00",
          "2021-02-27T00:00:00+00:00",
          "2021-02-28T00:00:00+00:00",
          "2021-03-01T00:00:00+00:00",
          "2021-03-02T00:00:00+00:00",
          "2021-03-03T00:00:00+00:00",
          "2021-03-04T00:00:00+00:00",
          "2021-03-05T00:00:00+00:00",
          "2021-03-06T00:00:00+00:00",
          "2021-03-07T00:00:00+00:00",
          "2021-03-08T00:00:00+00:00",
          "2021-03-09T00:00:00+00:00",
          "2021-03-10T00:00:00+00:00",
          "2021-03-11T00:00:00+00:00",
          "2021-03-12T00:00:00+00:00",
          "2021-03-13T00:00:00+00:00",
          "2021-03-14T00:00:00+00:00",
          "2021-03-15T00:00:00+00:00",
          "2021-03-16T00:00:00+00:00",
          "2021-03-17T00:00:00+00:00",
          "2021-03-18T00:00:00+00:00",
          "2021-03-19T00:00:00+00:00",
          "2021-03-20T00:00:00+00:00",
          "2021-03-21T00:00:00+00:00",
          "2021-03-22T00:00:00+00:00",
          "2021-03-23T00:00:00+00:00",
          "2021-03-24T00:00:00+00:00",
          "2021-03-25T00:00:00+00:00",
          "2021-03-26T00:00:00+00:00",
          "2021-03-27T00:00:00+00:00",
          "2021-03-28T00:00:00+00:00",
          "2021-03-29T00:00:00+00:00",
          "2021-03-30T00:00:00+00:00",
          "2021-03-31T00:00:00+00:00",
          "2021-04-01T00:00:00+00:00"
         ],
         "xaxis": "x",
         "y": [
          34871,
          29705,
          5130,
          4462,
          3339,
          3257,
          4563,
          3845,
          3488,
          5631,
          3839,
          5200,
          37472,
          42490,
          13729,
          4983,
          4370,
          2835,
          3582,
          59920,
          60519,
          10187,
          4163,
          13417,
          20521,
          5847,
          5699,
          12588,
          94295,
          11837,
          5365,
          43441,
          399182,
          587092,
          254736,
          113215,
          136845,
          64415,
          28157,
          18873,
          24087,
          16529,
          16163,
          66601,
          29789,
          34537,
          35522,
          21379,
          27424,
          14918,
          72955,
          38022,
          8187,
          7136,
          10109,
          9878,
          4840,
          14166,
          5364,
          19520,
          5902,
          5027,
          5187,
          5595,
          8390,
          6144,
          14343,
          12188,
          5960,
          5305,
          3434,
          5237,
          6395,
          5268,
          7739,
          5445,
          34002,
          8054,
          5613,
          3921,
          5294,
          10271,
          14746,
          14991,
          9004,
          11538,
          4551,
          5687,
          8480,
          5153
         ],
         "yaxis": "y"
        }
       ],
       "layout": {
        "legend": {
         "title": {
          "text": "variable"
         },
         "tracegroupgap": 0
        },
        "margin": {
         "t": 60
        },
        "template": {
         "data": {
          "bar": [
           {
            "error_x": {
             "color": "#2a3f5f"
            },
            "error_y": {
             "color": "#2a3f5f"
            },
            "marker": {
             "line": {
              "color": "#E5ECF6",
              "width": 0.5
             },
             "pattern": {
              "fillmode": "overlay",
              "size": 10,
              "solidity": 0.2
             }
            },
            "type": "bar"
           }
          ],
          "barpolar": [
           {
            "marker": {
             "line": {
              "color": "#E5ECF6",
              "width": 0.5
             },
             "pattern": {
              "fillmode": "overlay",
              "size": 10,
              "solidity": 0.2
             }
            },
            "type": "barpolar"
           }
          ],
          "carpet": [
           {
            "aaxis": {
             "endlinecolor": "#2a3f5f",
             "gridcolor": "white",
             "linecolor": "white",
             "minorgridcolor": "white",
             "startlinecolor": "#2a3f5f"
            },
            "baxis": {
             "endlinecolor": "#2a3f5f",
             "gridcolor": "white",
             "linecolor": "white",
             "minorgridcolor": "white",
             "startlinecolor": "#2a3f5f"
            },
            "type": "carpet"
           }
          ],
          "choropleth": [
           {
            "colorbar": {
             "outlinewidth": 0,
             "ticks": ""
            },
            "type": "choropleth"
           }
          ],
          "contour": [
           {
            "colorbar": {
             "outlinewidth": 0,
             "ticks": ""
            },
            "colorscale": [
             [
              0,
              "#0d0887"
             ],
             [
              0.1111111111111111,
              "#46039f"
             ],
             [
              0.2222222222222222,
              "#7201a8"
             ],
             [
              0.3333333333333333,
              "#9c179e"
             ],
             [
              0.4444444444444444,
              "#bd3786"
             ],
             [
              0.5555555555555556,
              "#d8576b"
             ],
             [
              0.6666666666666666,
              "#ed7953"
             ],
             [
              0.7777777777777778,
              "#fb9f3a"
             ],
             [
              0.8888888888888888,
              "#fdca26"
             ],
             [
              1,
              "#f0f921"
             ]
            ],
            "type": "contour"
           }
          ],
          "contourcarpet": [
           {
            "colorbar": {
             "outlinewidth": 0,
             "ticks": ""
            },
            "type": "contourcarpet"
           }
          ],
          "heatmap": [
           {
            "colorbar": {
             "outlinewidth": 0,
             "ticks": ""
            },
            "colorscale": [
             [
              0,
              "#0d0887"
             ],
             [
              0.1111111111111111,
              "#46039f"
             ],
             [
              0.2222222222222222,
              "#7201a8"
             ],
             [
              0.3333333333333333,
              "#9c179e"
             ],
             [
              0.4444444444444444,
              "#bd3786"
             ],
             [
              0.5555555555555556,
              "#d8576b"
             ],
             [
              0.6666666666666666,
              "#ed7953"
             ],
             [
              0.7777777777777778,
              "#fb9f3a"
             ],
             [
              0.8888888888888888,
              "#fdca26"
             ],
             [
              1,
              "#f0f921"
             ]
            ],
            "type": "heatmap"
           }
          ],
          "heatmapgl": [
           {
            "colorbar": {
             "outlinewidth": 0,
             "ticks": ""
            },
            "colorscale": [
             [
              0,
              "#0d0887"
             ],
             [
              0.1111111111111111,
              "#46039f"
             ],
             [
              0.2222222222222222,
              "#7201a8"
             ],
             [
              0.3333333333333333,
              "#9c179e"
             ],
             [
              0.4444444444444444,
              "#bd3786"
             ],
             [
              0.5555555555555556,
              "#d8576b"
             ],
             [
              0.6666666666666666,
              "#ed7953"
             ],
             [
              0.7777777777777778,
              "#fb9f3a"
             ],
             [
              0.8888888888888888,
              "#fdca26"
             ],
             [
              1,
              "#f0f921"
             ]
            ],
            "type": "heatmapgl"
           }
          ],
          "histogram": [
           {
            "marker": {
             "pattern": {
              "fillmode": "overlay",
              "size": 10,
              "solidity": 0.2
             }
            },
            "type": "histogram"
           }
          ],
          "histogram2d": [
           {
            "colorbar": {
             "outlinewidth": 0,
             "ticks": ""
            },
            "colorscale": [
             [
              0,
              "#0d0887"
             ],
             [
              0.1111111111111111,
              "#46039f"
             ],
             [
              0.2222222222222222,
              "#7201a8"
             ],
             [
              0.3333333333333333,
              "#9c179e"
             ],
             [
              0.4444444444444444,
              "#bd3786"
             ],
             [
              0.5555555555555556,
              "#d8576b"
             ],
             [
              0.6666666666666666,
              "#ed7953"
             ],
             [
              0.7777777777777778,
              "#fb9f3a"
             ],
             [
              0.8888888888888888,
              "#fdca26"
             ],
             [
              1,
              "#f0f921"
             ]
            ],
            "type": "histogram2d"
           }
          ],
          "histogram2dcontour": [
           {
            "colorbar": {
             "outlinewidth": 0,
             "ticks": ""
            },
            "colorscale": [
             [
              0,
              "#0d0887"
             ],
             [
              0.1111111111111111,
              "#46039f"
             ],
             [
              0.2222222222222222,
              "#7201a8"
             ],
             [
              0.3333333333333333,
              "#9c179e"
             ],
             [
              0.4444444444444444,
              "#bd3786"
             ],
             [
              0.5555555555555556,
              "#d8576b"
             ],
             [
              0.6666666666666666,
              "#ed7953"
             ],
             [
              0.7777777777777778,
              "#fb9f3a"
             ],
             [
              0.8888888888888888,
              "#fdca26"
             ],
             [
              1,
              "#f0f921"
             ]
            ],
            "type": "histogram2dcontour"
           }
          ],
          "mesh3d": [
           {
            "colorbar": {
             "outlinewidth": 0,
             "ticks": ""
            },
            "type": "mesh3d"
           }
          ],
          "parcoords": [
           {
            "line": {
             "colorbar": {
              "outlinewidth": 0,
              "ticks": ""
             }
            },
            "type": "parcoords"
           }
          ],
          "pie": [
           {
            "automargin": true,
            "type": "pie"
           }
          ],
          "scatter": [
           {
            "marker": {
             "colorbar": {
              "outlinewidth": 0,
              "ticks": ""
             }
            },
            "type": "scatter"
           }
          ],
          "scatter3d": [
           {
            "line": {
             "colorbar": {
              "outlinewidth": 0,
              "ticks": ""
             }
            },
            "marker": {
             "colorbar": {
              "outlinewidth": 0,
              "ticks": ""
             }
            },
            "type": "scatter3d"
           }
          ],
          "scattercarpet": [
           {
            "marker": {
             "colorbar": {
              "outlinewidth": 0,
              "ticks": ""
             }
            },
            "type": "scattercarpet"
           }
          ],
          "scattergeo": [
           {
            "marker": {
             "colorbar": {
              "outlinewidth": 0,
              "ticks": ""
             }
            },
            "type": "scattergeo"
           }
          ],
          "scattergl": [
           {
            "marker": {
             "colorbar": {
              "outlinewidth": 0,
              "ticks": ""
             }
            },
            "type": "scattergl"
           }
          ],
          "scattermapbox": [
           {
            "marker": {
             "colorbar": {
              "outlinewidth": 0,
              "ticks": ""
             }
            },
            "type": "scattermapbox"
           }
          ],
          "scatterpolar": [
           {
            "marker": {
             "colorbar": {
              "outlinewidth": 0,
              "ticks": ""
             }
            },
            "type": "scatterpolar"
           }
          ],
          "scatterpolargl": [
           {
            "marker": {
             "colorbar": {
              "outlinewidth": 0,
              "ticks": ""
             }
            },
            "type": "scatterpolargl"
           }
          ],
          "scatterternary": [
           {
            "marker": {
             "colorbar": {
              "outlinewidth": 0,
              "ticks": ""
             }
            },
            "type": "scatterternary"
           }
          ],
          "surface": [
           {
            "colorbar": {
             "outlinewidth": 0,
             "ticks": ""
            },
            "colorscale": [
             [
              0,
              "#0d0887"
             ],
             [
              0.1111111111111111,
              "#46039f"
             ],
             [
              0.2222222222222222,
              "#7201a8"
             ],
             [
              0.3333333333333333,
              "#9c179e"
             ],
             [
              0.4444444444444444,
              "#bd3786"
             ],
             [
              0.5555555555555556,
              "#d8576b"
             ],
             [
              0.6666666666666666,
              "#ed7953"
             ],
             [
              0.7777777777777778,
              "#fb9f3a"
             ],
             [
              0.8888888888888888,
              "#fdca26"
             ],
             [
              1,
              "#f0f921"
             ]
            ],
            "type": "surface"
           }
          ],
          "table": [
           {
            "cells": {
             "fill": {
              "color": "#EBF0F8"
             },
             "line": {
              "color": "white"
             }
            },
            "header": {
             "fill": {
              "color": "#C8D4E3"
             },
             "line": {
              "color": "white"
             }
            },
            "type": "table"
           }
          ]
         },
         "layout": {
          "annotationdefaults": {
           "arrowcolor": "#2a3f5f",
           "arrowhead": 0,
           "arrowwidth": 1
          },
          "autotypenumbers": "strict",
          "coloraxis": {
           "colorbar": {
            "outlinewidth": 0,
            "ticks": ""
           }
          },
          "colorscale": {
           "diverging": [
            [
             0,
             "#8e0152"
            ],
            [
             0.1,
             "#c51b7d"
            ],
            [
             0.2,
             "#de77ae"
            ],
            [
             0.3,
             "#f1b6da"
            ],
            [
             0.4,
             "#fde0ef"
            ],
            [
             0.5,
             "#f7f7f7"
            ],
            [
             0.6,
             "#e6f5d0"
            ],
            [
             0.7,
             "#b8e186"
            ],
            [
             0.8,
             "#7fbc41"
            ],
            [
             0.9,
             "#4d9221"
            ],
            [
             1,
             "#276419"
            ]
           ],
           "sequential": [
            [
             0,
             "#0d0887"
            ],
            [
             0.1111111111111111,
             "#46039f"
            ],
            [
             0.2222222222222222,
             "#7201a8"
            ],
            [
             0.3333333333333333,
             "#9c179e"
            ],
            [
             0.4444444444444444,
             "#bd3786"
            ],
            [
             0.5555555555555556,
             "#d8576b"
            ],
            [
             0.6666666666666666,
             "#ed7953"
            ],
            [
             0.7777777777777778,
             "#fb9f3a"
            ],
            [
             0.8888888888888888,
             "#fdca26"
            ],
            [
             1,
             "#f0f921"
            ]
           ],
           "sequentialminus": [
            [
             0,
             "#0d0887"
            ],
            [
             0.1111111111111111,
             "#46039f"
            ],
            [
             0.2222222222222222,
             "#7201a8"
            ],
            [
             0.3333333333333333,
             "#9c179e"
            ],
            [
             0.4444444444444444,
             "#bd3786"
            ],
            [
             0.5555555555555556,
             "#d8576b"
            ],
            [
             0.6666666666666666,
             "#ed7953"
            ],
            [
             0.7777777777777778,
             "#fb9f3a"
            ],
            [
             0.8888888888888888,
             "#fdca26"
            ],
            [
             1,
             "#f0f921"
            ]
           ]
          },
          "colorway": [
           "#636efa",
           "#EF553B",
           "#00cc96",
           "#ab63fa",
           "#FFA15A",
           "#19d3f3",
           "#FF6692",
           "#B6E880",
           "#FF97FF",
           "#FECB52"
          ],
          "font": {
           "color": "#2a3f5f"
          },
          "geo": {
           "bgcolor": "white",
           "lakecolor": "white",
           "landcolor": "#E5ECF6",
           "showlakes": true,
           "showland": true,
           "subunitcolor": "white"
          },
          "hoverlabel": {
           "align": "left"
          },
          "hovermode": "closest",
          "mapbox": {
           "style": "light"
          },
          "paper_bgcolor": "white",
          "plot_bgcolor": "#E5ECF6",
          "polar": {
           "angularaxis": {
            "gridcolor": "white",
            "linecolor": "white",
            "ticks": ""
           },
           "bgcolor": "#E5ECF6",
           "radialaxis": {
            "gridcolor": "white",
            "linecolor": "white",
            "ticks": ""
           }
          },
          "scene": {
           "xaxis": {
            "backgroundcolor": "#E5ECF6",
            "gridcolor": "white",
            "gridwidth": 2,
            "linecolor": "white",
            "showbackground": true,
            "ticks": "",
            "zerolinecolor": "white"
           },
           "yaxis": {
            "backgroundcolor": "#E5ECF6",
            "gridcolor": "white",
            "gridwidth": 2,
            "linecolor": "white",
            "showbackground": true,
            "ticks": "",
            "zerolinecolor": "white"
           },
           "zaxis": {
            "backgroundcolor": "#E5ECF6",
            "gridcolor": "white",
            "gridwidth": 2,
            "linecolor": "white",
            "showbackground": true,
            "ticks": "",
            "zerolinecolor": "white"
           }
          },
          "shapedefaults": {
           "line": {
            "color": "#2a3f5f"
           }
          },
          "ternary": {
           "aaxis": {
            "gridcolor": "white",
            "linecolor": "white",
            "ticks": ""
           },
           "baxis": {
            "gridcolor": "white",
            "linecolor": "white",
            "ticks": ""
           },
           "bgcolor": "#E5ECF6",
           "caxis": {
            "gridcolor": "white",
            "linecolor": "white",
            "ticks": ""
           }
          },
          "title": {
           "x": 0.05
          },
          "xaxis": {
           "automargin": true,
           "gridcolor": "white",
           "linecolor": "white",
           "ticks": "",
           "title": {
            "standoff": 15
           },
           "zerolinecolor": "white",
           "zerolinewidth": 2
          },
          "yaxis": {
           "automargin": true,
           "gridcolor": "white",
           "linecolor": "white",
           "ticks": "",
           "title": {
            "standoff": 15
           },
           "zerolinecolor": "white",
           "zerolinewidth": 2
          }
         }
        },
        "xaxis": {
         "anchor": "y",
         "domain": [
          0,
          1
         ],
         "title": {
          "text": "time_end"
         }
        },
        "yaxis": {
         "anchor": "x",
         "domain": [
          0,
          1
         ],
         "title": {
          "text": "value"
         }
        }
       }
      }
     },
     "metadata": {}
    }
   ],
   "metadata": {}
  },
  {
   "cell_type": "code",
   "execution_count": 273,
   "source": [
    "from utils.label_spikes import detect_anomalies\n",
    "from merlion.transform.moving_average import MovingAverage\n",
    "from merlion.post_process.threshold import Threshold\n",
    "from merlion.models.anomaly.forecast_based.prophet import ProphetDetectorConfig, ProphetDetector\n",
    "\n",
    "prophet_config = ProphetDetectorConfig(\n",
    "    threshold=Threshold(alm_threshold=0.5),\n",
    "    #transform=MovingAverage(n_steps=1),\n",
    "    yearly_seasonality=False,\n",
    "    weekly_seasonality=True,\n",
    "    daily_seasonality=False,\n",
    "    add_seasonality=True,  \n",
    "    uncertainty_samples=1000\n",
    ")\n",
    "\n",
    "df_scores, df_labels, plot = anomaly_scores = detect_anomalies(\n",
    "    rihanna_timeseries, \n",
    "    \"tweet_count\",\n",
    "    model=ProphetDetector(prophet_config),\n",
    ")\n",
    "plot.show()"
   ],
   "outputs": [
    {
     "output_type": "stream",
     "name": "stdout",
     "text": [
      "\n",
      "Initial log joint probability = -52.164\n",
      "Iteration  1. Log joint probability =    88.8234. Improved by 140.987.\n",
      "Iteration  2. Log joint probability =    108.412. Improved by 19.5887.\n",
      "Iteration  3. Log joint probability =    113.778. Improved by 5.36642.\n",
      "Iteration  4. Log joint probability =    113.837. Improved by 0.0581746.\n",
      "Iteration  5. Log joint probability =    113.883. Improved by 0.0467115.\n",
      "Iteration  6. Log joint probability =    113.921. Improved by 0.0379321.\n",
      "Iteration  7. Log joint probability =    113.932. Improved by 0.0108165.\n",
      "Iteration  8. Log joint probability =    113.969. Improved by 0.0365996.\n",
      "Iteration  9. Log joint probability =    113.987. Improved by 0.0182486.\n",
      "Iteration 10. Log joint probability =    114.059. Improved by 0.0719874.\n",
      "Iteration 11. Log joint probability =    114.076. Improved by 0.0169669.\n",
      "Iteration 12. Log joint probability =    114.098. Improved by 0.022149.\n",
      "Iteration 13. Log joint probability =    114.122. Improved by 0.0238892.\n",
      "Iteration 14. Log joint probability =    114.227. Improved by 0.104855.\n",
      "Iteration 15. Log joint probability =    114.303. Improved by 0.0764072.\n",
      "Iteration 16. Log joint probability =    114.509. Improved by 0.206204.\n",
      "Iteration 17. Log joint probability =    114.522. Improved by 0.0123496.\n",
      "Iteration 18. Log joint probability =    114.577. Improved by 0.0552701.\n",
      "Iteration 19. Log joint probability =    114.899. Improved by 0.322237.\n",
      "Iteration 20. Log joint probability =    114.909. Improved by 0.0096269.\n",
      "Iteration 21. Log joint probability =    114.926. Improved by 0.0168319.\n",
      "Iteration 22. Log joint probability =     114.99. Improved by 0.0644335.\n",
      "Iteration 23. Log joint probability =    115.021. Improved by 0.0308202.\n",
      "Iteration 24. Log joint probability =    115.074. Improved by 0.0532597.\n",
      "Iteration 25. Log joint probability =    115.198. Improved by 0.123392.\n",
      "Iteration 26. Log joint probability =    115.286. Improved by 0.088211.\n",
      "Iteration 27. Log joint probability =    115.352. Improved by 0.0665771.\n",
      "Iteration 28. Log joint probability =    115.376. Improved by 0.0240159.\n",
      "Iteration 29. Log joint probability =    115.394. Improved by 0.0170902.\n",
      "Iteration 30. Log joint probability =    115.398. Improved by 0.00455855.\n",
      "Iteration 31. Log joint probability =    115.423. Improved by 0.0248212.\n",
      "Iteration 32. Log joint probability =    115.424. Improved by 0.000962695.\n",
      "Iteration 33. Log joint probability =    115.425. Improved by 0.000877443.\n",
      "Iteration 34. Log joint probability =    115.434. Improved by 0.00919967.\n",
      "Iteration 35. Log joint probability =    115.441. Improved by 0.00674336.\n",
      "Iteration 36. Log joint probability =    115.444. Improved by 0.00339246.\n",
      "Iteration 37. Log joint probability =    115.448. Improved by 0.00374246.\n",
      "Iteration 38. Log joint probability =    115.449. Improved by 0.000663624.\n",
      "Iteration 39. Log joint probability =    115.449. Improved by 0.00036558.\n",
      "Iteration 40. Log joint probability =     115.45. Improved by 0.000791291.\n",
      "Iteration 41. Log joint probability =     115.45. Improved by 0.000208414.\n",
      "Iteration 42. Log joint probability =     115.45. Improved by 5.61782e-05.\n",
      "Iteration 43. Log joint probability =     115.45. Improved by 0.000202576.\n",
      "Iteration 44. Log joint probability =     115.45. Improved by 9.6083e-05.\n",
      "Iteration 45. Log joint probability =     115.45. Improved by 1.91158e-05.\n",
      "Iteration 46. Log joint probability =     115.45. Improved by 1.91331e-05.\n",
      "Iteration 47. Log joint probability =     115.45. Improved by 1.91647e-05.\n",
      "Iteration 48. Log joint probability =     115.45. Improved by 9.22643e-06.\n",
      "Iteration 49. Log joint probability =     115.45. Improved by 5.34008e-06.\n",
      "Iteration 50. Log joint probability =     115.45. Improved by 1.65751e-06.\n",
      "Iteration 51. Log joint probability =     115.45. Improved by 2.05542e-06.\n",
      "Iteration 52. Log joint probability =     115.45. Improved by 5.56858e-07.\n",
      "Iteration 53. Log joint probability =     115.45. Improved by 1.26453e-06.\n",
      "Iteration 54. Log joint probability =     115.45. Improved by 7.52791e-08.\n",
      "Iteration 55. Log joint probability =     115.45. Improved by 7.05057e-07.\n",
      "Iteration 56. Log joint probability =     115.45. Improved by 1.08599e-07.\n",
      "Iteration 57. Log joint probability =     115.45. Improved by 3.57825e-07.\n",
      "Iteration 58. Log joint probability =     115.45. Improved by 1.6982e-07.\n",
      "Iteration 59. Log joint probability =     115.45. Improved by 4.53265e-08.\n",
      "Iteration 60. Log joint probability =     115.45. Improved by 9.63928e-08.\n",
      "Iteration 61. Log joint probability =     115.45. Improved by 2.51987e-08.\n",
      "Iteration 62. Log joint probability =     115.45. Improved by 8.78659e-09.\n"
     ]
    },
    {
     "output_type": "display_data",
     "data": {
      "application/vnd.plotly.v1+json": {
       "config": {
        "plotlyServerURL": "https://plot.ly"
       },
       "data": [
        {
         "hoverinfo": "skip",
         "line": {
          "width": 0
         },
         "mode": "lines",
         "showlegend": false,
         "type": "scatter",
         "x": [
          "2021-01-03T00:00:00",
          "2021-01-04T00:00:00",
          "2021-01-05T00:00:00",
          "2021-01-06T00:00:00",
          "2021-01-07T00:00:00",
          "2021-01-08T00:00:00",
          "2021-01-09T00:00:00",
          "2021-01-10T00:00:00",
          "2021-01-11T00:00:00",
          "2021-01-12T00:00:00",
          "2021-01-13T00:00:00",
          "2021-01-14T00:00:00",
          "2021-01-15T00:00:00",
          "2021-01-16T00:00:00",
          "2021-01-17T00:00:00",
          "2021-01-18T00:00:00",
          "2021-01-19T00:00:00",
          "2021-01-20T00:00:00",
          "2021-01-21T00:00:00",
          "2021-01-22T00:00:00",
          "2021-01-23T00:00:00",
          "2021-01-24T00:00:00",
          "2021-01-25T00:00:00",
          "2021-01-26T00:00:00",
          "2021-01-27T00:00:00",
          "2021-01-28T00:00:00",
          "2021-01-29T00:00:00",
          "2021-01-30T00:00:00",
          "2021-01-31T00:00:00",
          "2021-02-01T00:00:00",
          "2021-02-02T00:00:00",
          "2021-02-03T00:00:00",
          "2021-02-04T00:00:00",
          "2021-02-05T00:00:00",
          "2021-02-06T00:00:00",
          "2021-02-07T00:00:00",
          "2021-02-08T00:00:00",
          "2021-02-09T00:00:00",
          "2021-02-10T00:00:00",
          "2021-02-11T00:00:00",
          "2021-02-12T00:00:00",
          "2021-02-13T00:00:00",
          "2021-02-14T00:00:00",
          "2021-02-15T00:00:00",
          "2021-02-16T00:00:00",
          "2021-02-17T00:00:00",
          "2021-02-18T00:00:00",
          "2021-02-19T00:00:00",
          "2021-02-20T00:00:00",
          "2021-02-21T00:00:00",
          "2021-02-22T00:00:00",
          "2021-02-23T00:00:00",
          "2021-02-24T00:00:00",
          "2021-02-25T00:00:00",
          "2021-02-26T00:00:00",
          "2021-02-27T00:00:00",
          "2021-02-28T00:00:00",
          "2021-03-01T00:00:00",
          "2021-03-02T00:00:00",
          "2021-03-03T00:00:00",
          "2021-03-04T00:00:00",
          "2021-03-05T00:00:00",
          "2021-03-06T00:00:00",
          "2021-03-07T00:00:00",
          "2021-03-08T00:00:00",
          "2021-03-09T00:00:00",
          "2021-03-10T00:00:00",
          "2021-03-11T00:00:00",
          "2021-03-12T00:00:00",
          "2021-03-13T00:00:00",
          "2021-03-14T00:00:00",
          "2021-03-15T00:00:00",
          "2021-03-16T00:00:00",
          "2021-03-17T00:00:00",
          "2021-03-18T00:00:00",
          "2021-03-19T00:00:00",
          "2021-03-20T00:00:00",
          "2021-03-21T00:00:00",
          "2021-03-22T00:00:00",
          "2021-03-23T00:00:00",
          "2021-03-24T00:00:00",
          "2021-03-25T00:00:00",
          "2021-03-26T00:00:00",
          "2021-03-27T00:00:00",
          "2021-03-28T00:00:00",
          "2021-03-29T00:00:00",
          "2021-03-30T00:00:00",
          "2021-03-31T00:00:00",
          "2021-04-01T00:00:00"
         ],
         "y": [
          48785.34062819533,
          26678.524808715047,
          42230.735563431044,
          65722.04707152015,
          59721.27486655156,
          19644.07114136304,
          24185.35549107792,
          46886.19695942057,
          26089.10919034405,
          37657.40701375502,
          65412.73487715469,
          62630.169965484776,
          15132.745454673179,
          25420.224493740814,
          45408.34447670647,
          28422.838659423847,
          39791.291155008854,
          70435.6762145027,
          57732.12208076639,
          9667.244905457002,
          21105.568319303922,
          42375.45149206709,
          26891.459535237922,
          38178.19324403249,
          66053.18542874994,
          63405.69934852095,
          15925.282488599281,
          24541.387706613757,
          39928.92373008318,
          27048.145907944105,
          40852.8487692349,
          65219.72949919067,
          59101.68124099678,
          11315.124815360286,
          25462.84414641162,
          38931.335791619334,
          19544.36650519826,
          38665.61044026252,
          66810.22604209423,
          60069.13897537651,
          15343.189979319479,
          24159.83017464015,
          39656.21111607491,
          24995.090515721335,
          41028.36565791234,
          65325.76968832404,
          59574.66390965968,
          23244.983369020574,
          25907.764615862157,
          45152.36249811025,
          24527.54119193021,
          38058.28208440489,
          65185.75634216437,
          60475.524557452285,
          16991.59576213637,
          22331.31238567292,
          39874.43577708627,
          25425.227161010327,
          38877.1449952699,
          66415.923159777,
          60980.040939570674,
          14107.10980831353,
          22269.673638581684,
          38461.87980905327,
          26347.129225454097,
          38924.65687358464,
          64222.18618773123,
          57429.85773434063,
          11435.534635798227,
          25603.377021544446,
          40690.55787770924,
          24469.104633674848,
          47484.12427599667,
          68690.47969505502,
          54689.058673069914,
          14864.787627253692,
          15044.660990690987,
          42016.406542641314,
          19738.89670763555,
          36681.84239852616,
          60550.91280059633,
          61388.99850150713,
          10514.89588362115,
          24757.06060303053,
          38876.597463636426,
          20701.44011561794,
          38129.8829968357,
          70458.92296578157,
          59055.04733094832
         ]
        },
        {
         "fill": "tonexty",
         "fillcolor": "rgba(0, 114, 178, 0.2)",
         "line": {
          "color": "#0072B2",
          "width": 2
         },
         "mode": "lines",
         "name": "Forecast",
         "type": "scatter",
         "x": [
          "2021-01-03T00:00:00",
          "2021-01-04T00:00:00",
          "2021-01-05T00:00:00",
          "2021-01-06T00:00:00",
          "2021-01-07T00:00:00",
          "2021-01-08T00:00:00",
          "2021-01-09T00:00:00",
          "2021-01-10T00:00:00",
          "2021-01-11T00:00:00",
          "2021-01-12T00:00:00",
          "2021-01-13T00:00:00",
          "2021-01-14T00:00:00",
          "2021-01-15T00:00:00",
          "2021-01-16T00:00:00",
          "2021-01-17T00:00:00",
          "2021-01-18T00:00:00",
          "2021-01-19T00:00:00",
          "2021-01-20T00:00:00",
          "2021-01-21T00:00:00",
          "2021-01-22T00:00:00",
          "2021-01-23T00:00:00",
          "2021-01-24T00:00:00",
          "2021-01-25T00:00:00",
          "2021-01-26T00:00:00",
          "2021-01-27T00:00:00",
          "2021-01-28T00:00:00",
          "2021-01-29T00:00:00",
          "2021-01-30T00:00:00",
          "2021-01-31T00:00:00",
          "2021-02-01T00:00:00",
          "2021-02-02T00:00:00",
          "2021-02-03T00:00:00",
          "2021-02-04T00:00:00",
          "2021-02-05T00:00:00",
          "2021-02-06T00:00:00",
          "2021-02-07T00:00:00",
          "2021-02-08T00:00:00",
          "2021-02-09T00:00:00",
          "2021-02-10T00:00:00",
          "2021-02-11T00:00:00",
          "2021-02-12T00:00:00",
          "2021-02-13T00:00:00",
          "2021-02-14T00:00:00",
          "2021-02-15T00:00:00",
          "2021-02-16T00:00:00",
          "2021-02-17T00:00:00",
          "2021-02-18T00:00:00",
          "2021-02-19T00:00:00",
          "2021-02-20T00:00:00",
          "2021-02-21T00:00:00",
          "2021-02-22T00:00:00",
          "2021-02-23T00:00:00",
          "2021-02-24T00:00:00",
          "2021-02-25T00:00:00",
          "2021-02-26T00:00:00",
          "2021-02-27T00:00:00",
          "2021-02-28T00:00:00",
          "2021-03-01T00:00:00",
          "2021-03-02T00:00:00",
          "2021-03-03T00:00:00",
          "2021-03-04T00:00:00",
          "2021-03-05T00:00:00",
          "2021-03-06T00:00:00",
          "2021-03-07T00:00:00",
          "2021-03-08T00:00:00",
          "2021-03-09T00:00:00",
          "2021-03-10T00:00:00",
          "2021-03-11T00:00:00",
          "2021-03-12T00:00:00",
          "2021-03-13T00:00:00",
          "2021-03-14T00:00:00",
          "2021-03-15T00:00:00",
          "2021-03-16T00:00:00",
          "2021-03-17T00:00:00",
          "2021-03-18T00:00:00",
          "2021-03-19T00:00:00",
          "2021-03-20T00:00:00",
          "2021-03-21T00:00:00",
          "2021-03-22T00:00:00",
          "2021-03-23T00:00:00",
          "2021-03-24T00:00:00",
          "2021-03-25T00:00:00",
          "2021-03-26T00:00:00",
          "2021-03-27T00:00:00",
          "2021-03-28T00:00:00",
          "2021-03-29T00:00:00",
          "2021-03-30T00:00:00",
          "2021-03-31T00:00:00",
          "2021-04-01T00:00:00"
         ],
         "y": [
          4540.525779157276,
          -12837.314540821115,
          1492.2108608388935,
          26341.235072639327,
          21347.706005262182,
          -23159.84977149054,
          -14751.11286891933,
          4354.423933829851,
          -13023.416386466215,
          1306.109015080996,
          26155.133226790218,
          21161.60415972794,
          -23345.951616491217,
          -14937.214713357618,
          4168.322089831192,
          -13209.518229742576,
          1120.0071722884045,
          25969.03138443504,
          20975.50231753295,
          -23532.053458517497,
          -15123.316555422498,
          3982.2202482378643,
          -13395.620071159323,
          933.9053313076215,
          25782.929543777784,
          20789.40047756244,
          -23718.155298438964,
          -15309.41839521398,
          3796.118408045485,
          -13581.72191134964,
          747.8034908215741,
          25596.827703197832,
          20603.298636416264,
          -23904.257139481626,
          -15495.520236263277,
          3610.0165672554263,
          -13767.823752355986,
          561.701650136521,
          25410.725862781102,
          20417.196796538847,
          -24090.358979261033,
          -15681.622075910664,
          3423.914727564944,
          -13953.925591303787,
          375.59981147250517,
          25224.62402436869,
          20231.094958128728,
          -24276.46081744369,
          -15867.72391368782,
          3237.812890086736,
          -14140.027429245394,
          189.49797298720318,
          25038.522185539132,
          20044.993119173047,
          -24462.562657148505,
          -16053.825754143065,
          3051.7110489332736,
          -14326.129271632299,
          3.3961293246582045,
          24852.42034062493,
          19858.891272953908,
          -24648.664503851745,
          -16239.927601564303,
          2865.609201669902,
          -14512.231118232243,
          -182.7057158512498,
          24666.318496824297,
          19672.789430512123,
          -24834.76634452478,
          -16426.029440464736,
          2679.5073638245567,
          -14698.332955076827,
          -368.80755238998336,
          24480.2166604648,
          19486.6875944653,
          -25020.868180629255,
          -16612.13127658123,
          2493.405527608587,
          -14884.43479125835,
          -554.9093885974812,
          24294.11482425714,
          19300.585758225992,
          -25206.970016862044,
          -16798.23311279203,
          2307.303691390658,
          -15070.536627475249,
          -741.0112247865791,
          24108.012988045262,
          19114.483921953095
         ]
        },
        {
         "fill": "tonexty",
         "fillcolor": "rgba(0, 114, 178, 0.2)",
         "hoverinfo": "skip",
         "line": {
          "width": 0
         },
         "mode": "lines",
         "showlegend": false,
         "type": "scatter",
         "x": [
          "2021-01-03T00:00:00",
          "2021-01-04T00:00:00",
          "2021-01-05T00:00:00",
          "2021-01-06T00:00:00",
          "2021-01-07T00:00:00",
          "2021-01-08T00:00:00",
          "2021-01-09T00:00:00",
          "2021-01-10T00:00:00",
          "2021-01-11T00:00:00",
          "2021-01-12T00:00:00",
          "2021-01-13T00:00:00",
          "2021-01-14T00:00:00",
          "2021-01-15T00:00:00",
          "2021-01-16T00:00:00",
          "2021-01-17T00:00:00",
          "2021-01-18T00:00:00",
          "2021-01-19T00:00:00",
          "2021-01-20T00:00:00",
          "2021-01-21T00:00:00",
          "2021-01-22T00:00:00",
          "2021-01-23T00:00:00",
          "2021-01-24T00:00:00",
          "2021-01-25T00:00:00",
          "2021-01-26T00:00:00",
          "2021-01-27T00:00:00",
          "2021-01-28T00:00:00",
          "2021-01-29T00:00:00",
          "2021-01-30T00:00:00",
          "2021-01-31T00:00:00",
          "2021-02-01T00:00:00",
          "2021-02-02T00:00:00",
          "2021-02-03T00:00:00",
          "2021-02-04T00:00:00",
          "2021-02-05T00:00:00",
          "2021-02-06T00:00:00",
          "2021-02-07T00:00:00",
          "2021-02-08T00:00:00",
          "2021-02-09T00:00:00",
          "2021-02-10T00:00:00",
          "2021-02-11T00:00:00",
          "2021-02-12T00:00:00",
          "2021-02-13T00:00:00",
          "2021-02-14T00:00:00",
          "2021-02-15T00:00:00",
          "2021-02-16T00:00:00",
          "2021-02-17T00:00:00",
          "2021-02-18T00:00:00",
          "2021-02-19T00:00:00",
          "2021-02-20T00:00:00",
          "2021-02-21T00:00:00",
          "2021-02-22T00:00:00",
          "2021-02-23T00:00:00",
          "2021-02-24T00:00:00",
          "2021-02-25T00:00:00",
          "2021-02-26T00:00:00",
          "2021-02-27T00:00:00",
          "2021-02-28T00:00:00",
          "2021-03-01T00:00:00",
          "2021-03-02T00:00:00",
          "2021-03-03T00:00:00",
          "2021-03-04T00:00:00",
          "2021-03-05T00:00:00",
          "2021-03-06T00:00:00",
          "2021-03-07T00:00:00",
          "2021-03-08T00:00:00",
          "2021-03-09T00:00:00",
          "2021-03-10T00:00:00",
          "2021-03-11T00:00:00",
          "2021-03-12T00:00:00",
          "2021-03-13T00:00:00",
          "2021-03-14T00:00:00",
          "2021-03-15T00:00:00",
          "2021-03-16T00:00:00",
          "2021-03-17T00:00:00",
          "2021-03-18T00:00:00",
          "2021-03-19T00:00:00",
          "2021-03-20T00:00:00",
          "2021-03-21T00:00:00",
          "2021-03-22T00:00:00",
          "2021-03-23T00:00:00",
          "2021-03-24T00:00:00",
          "2021-03-25T00:00:00",
          "2021-03-26T00:00:00",
          "2021-03-27T00:00:00",
          "2021-03-28T00:00:00",
          "2021-03-29T00:00:00",
          "2021-03-30T00:00:00",
          "2021-03-31T00:00:00",
          "2021-04-01T00:00:00"
         ],
         "y": [
          -38404.47873710141,
          -52772.268476633224,
          -39267.826575507264,
          -14689.19046708593,
          -21288.52301266046,
          -68781.50588811164,
          -58887.96919185066,
          -29938.015428072446,
          -50194.61524850248,
          -44322.97233706975,
          -15336.357764570275,
          -20007.184931246957,
          -60114.835290122806,
          -57336.8427421947,
          -33115.51450239175,
          -52111.73662189138,
          -37400.837665390034,
          -11115.418373713619,
          -19283.57769122953,
          -67890.14828095741,
          -55428.63281227512,
          -39404.01927798003,
          -51405.02298698157,
          -38380.64357064611,
          -18213.580456084463,
          -14241.485118341181,
          -63354.99528394389,
          -51484.97580442732,
          -37224.08760076624,
          -57794.08716401869,
          -37395.110830764475,
          -8629.005587282893,
          -20970.04541968707,
          -66153.74543828602,
          -53324.479233519276,
          -36692.723065616956,
          -58559.861785639754,
          -38175.467194348545,
          -12214.208642348887,
          -22601.642414728114,
          -65360.39556319447,
          -54295.08468302083,
          -37721.98603696676,
          -53345.28968041522,
          -42180.216996536066,
          -11759.830056209124,
          -20266.25851940699,
          -61209.068403721874,
          -48039.46192310643,
          -33995.96426127674,
          -53140.86965854956,
          -37649.02993564033,
          -17252.88289198164,
          -16767.274364410096,
          -66013.07322887777,
          -59697.737599113156,
          -35281.59754320608,
          -55788.72952289328,
          -40116.69177539848,
          -16463.385345469098,
          -20573.80273634979,
          -61945.49247811018,
          -56651.86698570621,
          -34278.11172860618,
          -54207.396793479566,
          -43105.331310777205,
          -16858.71121684321,
          -21293.000217005043,
          -67283.46534712301,
          -61048.862381054154,
          -32574.730932115443,
          -54716.20651776662,
          -39193.423903825256,
          -14664.463839740129,
          -22418.42647372467,
          -64992.52065015922,
          -60483.03499604162,
          -35265.988171242825,
          -59153.26819576665,
          -41513.12317851408,
          -16425.4495775687,
          -20706.72124612316,
          -64411.90082103769,
          -56803.337946393265,
          -41137.66746920836,
          -55796.70598174633,
          -36891.3344765744,
          -12858.956389572075,
          -22251.731069980426
         ]
        },
        {
         "line": {
          "color": "black",
          "width": 2
         },
         "mode": "lines",
         "name": "tweet_count",
         "type": "scatter",
         "x": [
          "2021-01-03T00:00:00",
          "2021-01-04T00:00:00",
          "2021-01-05T00:00:00",
          "2021-01-06T00:00:00",
          "2021-01-07T00:00:00",
          "2021-01-08T00:00:00",
          "2021-01-09T00:00:00",
          "2021-01-10T00:00:00",
          "2021-01-11T00:00:00",
          "2021-01-12T00:00:00",
          "2021-01-13T00:00:00",
          "2021-01-14T00:00:00",
          "2021-01-15T00:00:00",
          "2021-01-16T00:00:00",
          "2021-01-17T00:00:00",
          "2021-01-18T00:00:00",
          "2021-01-19T00:00:00",
          "2021-01-20T00:00:00",
          "2021-01-21T00:00:00",
          "2021-01-22T00:00:00",
          "2021-01-23T00:00:00",
          "2021-01-24T00:00:00",
          "2021-01-25T00:00:00",
          "2021-01-26T00:00:00",
          "2021-01-27T00:00:00",
          "2021-01-28T00:00:00",
          "2021-01-29T00:00:00",
          "2021-01-30T00:00:00",
          "2021-01-31T00:00:00",
          "2021-02-01T00:00:00",
          "2021-02-02T00:00:00",
          "2021-02-03T00:00:00",
          "2021-02-04T00:00:00",
          "2021-02-05T00:00:00",
          "2021-02-06T00:00:00",
          "2021-02-07T00:00:00",
          "2021-02-08T00:00:00",
          "2021-02-09T00:00:00",
          "2021-02-10T00:00:00",
          "2021-02-11T00:00:00",
          "2021-02-12T00:00:00",
          "2021-02-13T00:00:00",
          "2021-02-14T00:00:00",
          "2021-02-15T00:00:00",
          "2021-02-16T00:00:00",
          "2021-02-17T00:00:00",
          "2021-02-18T00:00:00",
          "2021-02-19T00:00:00",
          "2021-02-20T00:00:00",
          "2021-02-21T00:00:00",
          "2021-02-22T00:00:00",
          "2021-02-23T00:00:00",
          "2021-02-24T00:00:00",
          "2021-02-25T00:00:00",
          "2021-02-26T00:00:00",
          "2021-02-27T00:00:00",
          "2021-02-28T00:00:00",
          "2021-03-01T00:00:00",
          "2021-03-02T00:00:00",
          "2021-03-03T00:00:00",
          "2021-03-04T00:00:00",
          "2021-03-05T00:00:00",
          "2021-03-06T00:00:00",
          "2021-03-07T00:00:00",
          "2021-03-08T00:00:00",
          "2021-03-09T00:00:00",
          "2021-03-10T00:00:00",
          "2021-03-11T00:00:00",
          "2021-03-12T00:00:00",
          "2021-03-13T00:00:00",
          "2021-03-14T00:00:00",
          "2021-03-15T00:00:00",
          "2021-03-16T00:00:00",
          "2021-03-17T00:00:00",
          "2021-03-18T00:00:00",
          "2021-03-19T00:00:00",
          "2021-03-20T00:00:00",
          "2021-03-21T00:00:00",
          "2021-03-22T00:00:00",
          "2021-03-23T00:00:00",
          "2021-03-24T00:00:00",
          "2021-03-25T00:00:00",
          "2021-03-26T00:00:00",
          "2021-03-27T00:00:00",
          "2021-03-28T00:00:00",
          "2021-03-29T00:00:00",
          "2021-03-30T00:00:00",
          "2021-03-31T00:00:00",
          "2021-04-01T00:00:00"
         ],
         "y": [
          -5166,
          -24575,
          -668,
          -1123,
          -82,
          1306,
          -718,
          -357,
          2143,
          -1792,
          1361,
          32272,
          5018,
          -28761,
          -8746,
          -613,
          -1535,
          747,
          56338,
          599,
          -50332,
          -6024,
          9254,
          7104,
          -14674,
          -148,
          6889,
          81707,
          -82458,
          -6472,
          38076,
          355741,
          187910,
          -332356,
          -141521,
          23630,
          -72430,
          -36258,
          -9284,
          5214,
          -7558,
          -366,
          50438,
          -36812,
          4748,
          985,
          -14143,
          6045,
          -12506,
          58037,
          -34933,
          -29835,
          -1051,
          2973,
          -231,
          -5038,
          9326,
          -8802,
          14156,
          -13618,
          -875,
          160,
          408,
          2795,
          -2246,
          8199,
          -2155,
          -6228,
          -655,
          -1871,
          1803,
          1158,
          -1127,
          2471,
          -2294,
          28557,
          -25948,
          -2441,
          -1692,
          1373,
          4977,
          4475,
          245,
          -5987,
          2534,
          -6987,
          1136,
          2793,
          -3327
         ]
        },
        {
         "line": {
          "color": "red",
          "width": 2
         },
         "mode": "lines",
         "name": "Anomaly Score",
         "type": "scatter",
         "x": [
          "2021-01-03T00:00:00",
          "2021-01-04T00:00:00",
          "2021-01-05T00:00:00",
          "2021-01-06T00:00:00",
          "2021-01-07T00:00:00",
          "2021-01-08T00:00:00",
          "2021-01-09T00:00:00",
          "2021-01-10T00:00:00",
          "2021-01-11T00:00:00",
          "2021-01-12T00:00:00",
          "2021-01-13T00:00:00",
          "2021-01-14T00:00:00",
          "2021-01-15T00:00:00",
          "2021-01-16T00:00:00",
          "2021-01-17T00:00:00",
          "2021-01-18T00:00:00",
          "2021-01-19T00:00:00",
          "2021-01-20T00:00:00",
          "2021-01-21T00:00:00",
          "2021-01-22T00:00:00",
          "2021-01-23T00:00:00",
          "2021-01-24T00:00:00",
          "2021-01-25T00:00:00",
          "2021-01-26T00:00:00",
          "2021-01-27T00:00:00",
          "2021-01-28T00:00:00",
          "2021-01-29T00:00:00",
          "2021-01-30T00:00:00",
          "2021-01-31T00:00:00",
          "2021-02-01T00:00:00",
          "2021-02-02T00:00:00",
          "2021-02-03T00:00:00",
          "2021-02-04T00:00:00",
          "2021-02-05T00:00:00",
          "2021-02-06T00:00:00",
          "2021-02-07T00:00:00",
          "2021-02-08T00:00:00",
          "2021-02-09T00:00:00",
          "2021-02-10T00:00:00",
          "2021-02-11T00:00:00",
          "2021-02-12T00:00:00",
          "2021-02-13T00:00:00",
          "2021-02-14T00:00:00",
          "2021-02-15T00:00:00",
          "2021-02-16T00:00:00",
          "2021-02-17T00:00:00",
          "2021-02-18T00:00:00",
          "2021-02-19T00:00:00",
          "2021-02-20T00:00:00",
          "2021-02-21T00:00:00",
          "2021-02-22T00:00:00",
          "2021-02-23T00:00:00",
          "2021-02-24T00:00:00",
          "2021-02-25T00:00:00",
          "2021-02-26T00:00:00",
          "2021-02-27T00:00:00",
          "2021-02-28T00:00:00",
          "2021-03-01T00:00:00",
          "2021-03-02T00:00:00",
          "2021-03-03T00:00:00",
          "2021-03-04T00:00:00",
          "2021-03-05T00:00:00",
          "2021-03-06T00:00:00",
          "2021-03-07T00:00:00",
          "2021-03-08T00:00:00",
          "2021-03-09T00:00:00",
          "2021-03-10T00:00:00",
          "2021-03-11T00:00:00",
          "2021-03-12T00:00:00",
          "2021-03-13T00:00:00",
          "2021-03-14T00:00:00",
          "2021-03-15T00:00:00",
          "2021-03-16T00:00:00",
          "2021-03-17T00:00:00",
          "2021-03-18T00:00:00",
          "2021-03-19T00:00:00",
          "2021-03-20T00:00:00",
          "2021-03-21T00:00:00",
          "2021-03-22T00:00:00",
          "2021-03-23T00:00:00",
          "2021-03-24T00:00:00",
          "2021-03-25T00:00:00",
          "2021-03-26T00:00:00",
          "2021-03-27T00:00:00",
          "2021-03-28T00:00:00",
          "2021-03-29T00:00:00",
          "2021-03-30T00:00:00",
          "2021-03-31T00:00:00",
          "2021-04-01T00:00:00"
         ],
         "xaxis": "x",
         "y": [
          0,
          0,
          0,
          -1.1107891887560855,
          -0.8891783069084844,
          0.9777181650472508,
          0,
          0,
          0.5311876837492991,
          0,
          -1.007682309150451,
          0,
          1.1919948872689428,
          0,
          0,
          0,
          0,
          -1.0084447044869047,
          1.4492333902131271,
          0.9557221744250051,
          -1.434491750020022,
          0,
          0.9455838468284979,
          0,
          -1.5142043398037919,
          -0.852021625653857,
          1.2721608604926402,
          1.9879435478263008,
          -1.9234213425294333,
          0,
          1.4827339271931448,
          3.596046259958558,
          2.4966516896673463,
          -3.358655011793493,
          -2.203545603334474,
          0.7875991020806345,
          -1.7493339823519525,
          -1.4714191179293772,
          -1.4017228984513794,
          -0.5118969832119761,
          0.5841308007278311,
          0.5353434442282328,
          1.6184312320667704,
          -0.9341067792652651,
          0,
          -1.010747718365658,
          -1.4038361650921676,
          1.2273183731377906,
          0,
          1.7075390850179777,
          -0.8438466986978183,
          -1.2806240101081234,
          -1.0457812581690664,
          -0.6244165387107867,
          0.9668364294809791,
          0,
          0,
          0,
          0,
          -1.4799004650631573,
          -0.8079341847723824,
          1.0737487316418683,
          0.5758580694045433,
          0,
          0,
          0,
          -1.0992571602881702,
          -1.1083590067101774,
          0.9846420010015536,
          0,
          0,
          0.5784109905605176,
          0,
          -0.9239729330367957,
          -0.860724840181224,
          1.6898900570781623,
          0,
          0,
          0,
          0,
          -0.7596152768993188,
          0,
          1.0694848714617893,
          0,
          0,
          0,
          0,
          -0.8106882885662057,
          -0.9107496634934471
         ],
         "yaxis": "y2"
        }
       ],
       "layout": {
        "height": 600,
        "shapes": [
         {
          "fillcolor": "#e07070",
          "line": {
           "width": 0
          },
          "opacity": 0.4,
          "type": "rect",
          "x0": "2021-01-06T00:00:00",
          "x1": "2021-01-07T00:00:00",
          "xref": "x",
          "y0": 0,
          "y1": 1,
          "yref": "y domain"
         },
         {
          "fillcolor": "#e07070",
          "line": {
           "width": 0
          },
          "opacity": 0.4,
          "type": "rect",
          "x0": "2021-01-07T00:00:00",
          "x1": "2021-01-08T00:00:00",
          "xref": "x",
          "y0": 0,
          "y1": 1,
          "yref": "y domain"
         },
         {
          "fillcolor": "#e07070",
          "line": {
           "width": 0
          },
          "opacity": 0.4,
          "type": "rect",
          "x0": "2021-01-08T00:00:00",
          "x1": "2021-01-09T00:00:00",
          "xref": "x",
          "y0": 0,
          "y1": 1,
          "yref": "y domain"
         },
         {
          "fillcolor": "#e07070",
          "line": {
           "width": 0
          },
          "opacity": 0.4,
          "type": "rect",
          "x0": "2021-01-11T00:00:00",
          "x1": "2021-01-12T00:00:00",
          "xref": "x",
          "y0": 0,
          "y1": 1,
          "yref": "y domain"
         },
         {
          "fillcolor": "#e07070",
          "line": {
           "width": 0
          },
          "opacity": 0.4,
          "type": "rect",
          "x0": "2021-01-13T00:00:00",
          "x1": "2021-01-14T00:00:00",
          "xref": "x",
          "y0": 0,
          "y1": 1,
          "yref": "y domain"
         },
         {
          "fillcolor": "#e07070",
          "line": {
           "width": 0
          },
          "opacity": 0.4,
          "type": "rect",
          "x0": "2021-01-15T00:00:00",
          "x1": "2021-01-16T00:00:00",
          "xref": "x",
          "y0": 0,
          "y1": 1,
          "yref": "y domain"
         },
         {
          "fillcolor": "#e07070",
          "line": {
           "width": 0
          },
          "opacity": 0.4,
          "type": "rect",
          "x0": "2021-01-20T00:00:00",
          "x1": "2021-01-21T00:00:00",
          "xref": "x",
          "y0": 0,
          "y1": 1,
          "yref": "y domain"
         },
         {
          "fillcolor": "#e07070",
          "line": {
           "width": 0
          },
          "opacity": 0.4,
          "type": "rect",
          "x0": "2021-01-21T00:00:00",
          "x1": "2021-01-22T00:00:00",
          "xref": "x",
          "y0": 0,
          "y1": 1,
          "yref": "y domain"
         },
         {
          "fillcolor": "#e07070",
          "line": {
           "width": 0
          },
          "opacity": 0.4,
          "type": "rect",
          "x0": "2021-01-22T00:00:00",
          "x1": "2021-01-23T00:00:00",
          "xref": "x",
          "y0": 0,
          "y1": 1,
          "yref": "y domain"
         },
         {
          "fillcolor": "#e07070",
          "line": {
           "width": 0
          },
          "opacity": 0.4,
          "type": "rect",
          "x0": "2021-01-23T00:00:00",
          "x1": "2021-01-24T00:00:00",
          "xref": "x",
          "y0": 0,
          "y1": 1,
          "yref": "y domain"
         },
         {
          "fillcolor": "#e07070",
          "line": {
           "width": 0
          },
          "opacity": 0.4,
          "type": "rect",
          "x0": "2021-01-25T00:00:00",
          "x1": "2021-01-26T00:00:00",
          "xref": "x",
          "y0": 0,
          "y1": 1,
          "yref": "y domain"
         },
         {
          "fillcolor": "#e07070",
          "line": {
           "width": 0
          },
          "opacity": 0.4,
          "type": "rect",
          "x0": "2021-01-27T00:00:00",
          "x1": "2021-01-28T00:00:00",
          "xref": "x",
          "y0": 0,
          "y1": 1,
          "yref": "y domain"
         },
         {
          "fillcolor": "#e07070",
          "line": {
           "width": 0
          },
          "opacity": 0.4,
          "type": "rect",
          "x0": "2021-01-28T00:00:00",
          "x1": "2021-01-29T00:00:00",
          "xref": "x",
          "y0": 0,
          "y1": 1,
          "yref": "y domain"
         },
         {
          "fillcolor": "#e07070",
          "line": {
           "width": 0
          },
          "opacity": 0.4,
          "type": "rect",
          "x0": "2021-01-29T00:00:00",
          "x1": "2021-01-30T00:00:00",
          "xref": "x",
          "y0": 0,
          "y1": 1,
          "yref": "y domain"
         },
         {
          "fillcolor": "#e07070",
          "line": {
           "width": 0
          },
          "opacity": 0.4,
          "type": "rect",
          "x0": "2021-01-30T00:00:00",
          "x1": "2021-01-31T00:00:00",
          "xref": "x",
          "y0": 0,
          "y1": 1,
          "yref": "y domain"
         },
         {
          "fillcolor": "#e07070",
          "line": {
           "width": 0
          },
          "opacity": 0.4,
          "type": "rect",
          "x0": "2021-01-31T00:00:00",
          "x1": "2021-02-01T00:00:00",
          "xref": "x",
          "y0": 0,
          "y1": 1,
          "yref": "y domain"
         },
         {
          "fillcolor": "#e07070",
          "line": {
           "width": 0
          },
          "opacity": 0.4,
          "type": "rect",
          "x0": "2021-02-02T00:00:00",
          "x1": "2021-02-03T00:00:00",
          "xref": "x",
          "y0": 0,
          "y1": 1,
          "yref": "y domain"
         },
         {
          "fillcolor": "#e07070",
          "line": {
           "width": 0
          },
          "opacity": 0.4,
          "type": "rect",
          "x0": "2021-02-03T00:00:00",
          "x1": "2021-02-04T00:00:00",
          "xref": "x",
          "y0": 0,
          "y1": 1,
          "yref": "y domain"
         },
         {
          "fillcolor": "#e07070",
          "line": {
           "width": 0
          },
          "opacity": 0.4,
          "type": "rect",
          "x0": "2021-02-04T00:00:00",
          "x1": "2021-02-05T00:00:00",
          "xref": "x",
          "y0": 0,
          "y1": 1,
          "yref": "y domain"
         },
         {
          "fillcolor": "#e07070",
          "line": {
           "width": 0
          },
          "opacity": 0.4,
          "type": "rect",
          "x0": "2021-02-05T00:00:00",
          "x1": "2021-02-06T00:00:00",
          "xref": "x",
          "y0": 0,
          "y1": 1,
          "yref": "y domain"
         },
         {
          "fillcolor": "#e07070",
          "line": {
           "width": 0
          },
          "opacity": 0.4,
          "type": "rect",
          "x0": "2021-02-06T00:00:00",
          "x1": "2021-02-07T00:00:00",
          "xref": "x",
          "y0": 0,
          "y1": 1,
          "yref": "y domain"
         },
         {
          "fillcolor": "#e07070",
          "line": {
           "width": 0
          },
          "opacity": 0.4,
          "type": "rect",
          "x0": "2021-02-07T00:00:00",
          "x1": "2021-02-08T00:00:00",
          "xref": "x",
          "y0": 0,
          "y1": 1,
          "yref": "y domain"
         },
         {
          "fillcolor": "#e07070",
          "line": {
           "width": 0
          },
          "opacity": 0.4,
          "type": "rect",
          "x0": "2021-02-08T00:00:00",
          "x1": "2021-02-09T00:00:00",
          "xref": "x",
          "y0": 0,
          "y1": 1,
          "yref": "y domain"
         },
         {
          "fillcolor": "#e07070",
          "line": {
           "width": 0
          },
          "opacity": 0.4,
          "type": "rect",
          "x0": "2021-02-09T00:00:00",
          "x1": "2021-02-10T00:00:00",
          "xref": "x",
          "y0": 0,
          "y1": 1,
          "yref": "y domain"
         },
         {
          "fillcolor": "#e07070",
          "line": {
           "width": 0
          },
          "opacity": 0.4,
          "type": "rect",
          "x0": "2021-02-10T00:00:00",
          "x1": "2021-02-11T00:00:00",
          "xref": "x",
          "y0": 0,
          "y1": 1,
          "yref": "y domain"
         },
         {
          "fillcolor": "#e07070",
          "line": {
           "width": 0
          },
          "opacity": 0.4,
          "type": "rect",
          "x0": "2021-02-11T00:00:00",
          "x1": "2021-02-12T00:00:00",
          "xref": "x",
          "y0": 0,
          "y1": 1,
          "yref": "y domain"
         },
         {
          "fillcolor": "#e07070",
          "line": {
           "width": 0
          },
          "opacity": 0.4,
          "type": "rect",
          "x0": "2021-02-12T00:00:00",
          "x1": "2021-02-13T00:00:00",
          "xref": "x",
          "y0": 0,
          "y1": 1,
          "yref": "y domain"
         },
         {
          "fillcolor": "#e07070",
          "line": {
           "width": 0
          },
          "opacity": 0.4,
          "type": "rect",
          "x0": "2021-02-13T00:00:00",
          "x1": "2021-02-14T00:00:00",
          "xref": "x",
          "y0": 0,
          "y1": 1,
          "yref": "y domain"
         },
         {
          "fillcolor": "#e07070",
          "line": {
           "width": 0
          },
          "opacity": 0.4,
          "type": "rect",
          "x0": "2021-02-14T00:00:00",
          "x1": "2021-02-15T00:00:00",
          "xref": "x",
          "y0": 0,
          "y1": 1,
          "yref": "y domain"
         },
         {
          "fillcolor": "#e07070",
          "line": {
           "width": 0
          },
          "opacity": 0.4,
          "type": "rect",
          "x0": "2021-02-15T00:00:00",
          "x1": "2021-02-16T00:00:00",
          "xref": "x",
          "y0": 0,
          "y1": 1,
          "yref": "y domain"
         },
         {
          "fillcolor": "#e07070",
          "line": {
           "width": 0
          },
          "opacity": 0.4,
          "type": "rect",
          "x0": "2021-02-17T00:00:00",
          "x1": "2021-02-18T00:00:00",
          "xref": "x",
          "y0": 0,
          "y1": 1,
          "yref": "y domain"
         },
         {
          "fillcolor": "#e07070",
          "line": {
           "width": 0
          },
          "opacity": 0.4,
          "type": "rect",
          "x0": "2021-02-18T00:00:00",
          "x1": "2021-02-19T00:00:00",
          "xref": "x",
          "y0": 0,
          "y1": 1,
          "yref": "y domain"
         },
         {
          "fillcolor": "#e07070",
          "line": {
           "width": 0
          },
          "opacity": 0.4,
          "type": "rect",
          "x0": "2021-02-19T00:00:00",
          "x1": "2021-02-20T00:00:00",
          "xref": "x",
          "y0": 0,
          "y1": 1,
          "yref": "y domain"
         },
         {
          "fillcolor": "#e07070",
          "line": {
           "width": 0
          },
          "opacity": 0.4,
          "type": "rect",
          "x0": "2021-02-21T00:00:00",
          "x1": "2021-02-22T00:00:00",
          "xref": "x",
          "y0": 0,
          "y1": 1,
          "yref": "y domain"
         },
         {
          "fillcolor": "#e07070",
          "line": {
           "width": 0
          },
          "opacity": 0.4,
          "type": "rect",
          "x0": "2021-02-22T00:00:00",
          "x1": "2021-02-23T00:00:00",
          "xref": "x",
          "y0": 0,
          "y1": 1,
          "yref": "y domain"
         },
         {
          "fillcolor": "#e07070",
          "line": {
           "width": 0
          },
          "opacity": 0.4,
          "type": "rect",
          "x0": "2021-02-23T00:00:00",
          "x1": "2021-02-24T00:00:00",
          "xref": "x",
          "y0": 0,
          "y1": 1,
          "yref": "y domain"
         },
         {
          "fillcolor": "#e07070",
          "line": {
           "width": 0
          },
          "opacity": 0.4,
          "type": "rect",
          "x0": "2021-02-24T00:00:00",
          "x1": "2021-02-25T00:00:00",
          "xref": "x",
          "y0": 0,
          "y1": 1,
          "yref": "y domain"
         },
         {
          "fillcolor": "#e07070",
          "line": {
           "width": 0
          },
          "opacity": 0.4,
          "type": "rect",
          "x0": "2021-02-25T00:00:00",
          "x1": "2021-02-26T00:00:00",
          "xref": "x",
          "y0": 0,
          "y1": 1,
          "yref": "y domain"
         },
         {
          "fillcolor": "#e07070",
          "line": {
           "width": 0
          },
          "opacity": 0.4,
          "type": "rect",
          "x0": "2021-02-26T00:00:00",
          "x1": "2021-02-27T00:00:00",
          "xref": "x",
          "y0": 0,
          "y1": 1,
          "yref": "y domain"
         },
         {
          "fillcolor": "#e07070",
          "line": {
           "width": 0
          },
          "opacity": 0.4,
          "type": "rect",
          "x0": "2021-03-03T00:00:00",
          "x1": "2021-03-04T00:00:00",
          "xref": "x",
          "y0": 0,
          "y1": 1,
          "yref": "y domain"
         },
         {
          "fillcolor": "#e07070",
          "line": {
           "width": 0
          },
          "opacity": 0.4,
          "type": "rect",
          "x0": "2021-03-04T00:00:00",
          "x1": "2021-03-05T00:00:00",
          "xref": "x",
          "y0": 0,
          "y1": 1,
          "yref": "y domain"
         },
         {
          "fillcolor": "#e07070",
          "line": {
           "width": 0
          },
          "opacity": 0.4,
          "type": "rect",
          "x0": "2021-03-05T00:00:00",
          "x1": "2021-03-06T00:00:00",
          "xref": "x",
          "y0": 0,
          "y1": 1,
          "yref": "y domain"
         },
         {
          "fillcolor": "#e07070",
          "line": {
           "width": 0
          },
          "opacity": 0.4,
          "type": "rect",
          "x0": "2021-03-06T00:00:00",
          "x1": "2021-03-07T00:00:00",
          "xref": "x",
          "y0": 0,
          "y1": 1,
          "yref": "y domain"
         },
         {
          "fillcolor": "#e07070",
          "line": {
           "width": 0
          },
          "opacity": 0.4,
          "type": "rect",
          "x0": "2021-03-10T00:00:00",
          "x1": "2021-03-11T00:00:00",
          "xref": "x",
          "y0": 0,
          "y1": 1,
          "yref": "y domain"
         },
         {
          "fillcolor": "#e07070",
          "line": {
           "width": 0
          },
          "opacity": 0.4,
          "type": "rect",
          "x0": "2021-03-11T00:00:00",
          "x1": "2021-03-12T00:00:00",
          "xref": "x",
          "y0": 0,
          "y1": 1,
          "yref": "y domain"
         },
         {
          "fillcolor": "#e07070",
          "line": {
           "width": 0
          },
          "opacity": 0.4,
          "type": "rect",
          "x0": "2021-03-12T00:00:00",
          "x1": "2021-03-13T00:00:00",
          "xref": "x",
          "y0": 0,
          "y1": 1,
          "yref": "y domain"
         },
         {
          "fillcolor": "#e07070",
          "line": {
           "width": 0
          },
          "opacity": 0.4,
          "type": "rect",
          "x0": "2021-03-15T00:00:00",
          "x1": "2021-03-16T00:00:00",
          "xref": "x",
          "y0": 0,
          "y1": 1,
          "yref": "y domain"
         },
         {
          "fillcolor": "#e07070",
          "line": {
           "width": 0
          },
          "opacity": 0.4,
          "type": "rect",
          "x0": "2021-03-17T00:00:00",
          "x1": "2021-03-18T00:00:00",
          "xref": "x",
          "y0": 0,
          "y1": 1,
          "yref": "y domain"
         },
         {
          "fillcolor": "#e07070",
          "line": {
           "width": 0
          },
          "opacity": 0.4,
          "type": "rect",
          "x0": "2021-03-18T00:00:00",
          "x1": "2021-03-19T00:00:00",
          "xref": "x",
          "y0": 0,
          "y1": 1,
          "yref": "y domain"
         },
         {
          "fillcolor": "#e07070",
          "line": {
           "width": 0
          },
          "opacity": 0.4,
          "type": "rect",
          "x0": "2021-03-19T00:00:00",
          "x1": "2021-03-20T00:00:00",
          "xref": "x",
          "y0": 0,
          "y1": 1,
          "yref": "y domain"
         },
         {
          "fillcolor": "#e07070",
          "line": {
           "width": 0
          },
          "opacity": 0.4,
          "type": "rect",
          "x0": "2021-03-24T00:00:00",
          "x1": "2021-03-25T00:00:00",
          "xref": "x",
          "y0": 0,
          "y1": 1,
          "yref": "y domain"
         },
         {
          "fillcolor": "#e07070",
          "line": {
           "width": 0
          },
          "opacity": 0.4,
          "type": "rect",
          "x0": "2021-03-26T00:00:00",
          "x1": "2021-03-27T00:00:00",
          "xref": "x",
          "y0": 0,
          "y1": 1,
          "yref": "y domain"
         },
         {
          "fillcolor": "#e07070",
          "line": {
           "width": 0
          },
          "opacity": 0.4,
          "type": "rect",
          "x0": "2021-03-31T00:00:00",
          "x1": "2021-04-01T00:00:00",
          "xref": "x",
          "y0": 0,
          "y1": 1,
          "yref": "y domain"
         },
         {
          "fillcolor": "#e07070",
          "line": {
           "width": 0
          },
          "opacity": 0.4,
          "type": "rect",
          "x0": "2021-04-01T00:00:00",
          "x1": "2021-04-01T00:00:00",
          "xref": "x",
          "y0": 0,
          "y1": 1,
          "yref": "y domain"
         }
        ],
        "showlegend": true,
        "template": {
         "data": {
          "bar": [
           {
            "error_x": {
             "color": "#2a3f5f"
            },
            "error_y": {
             "color": "#2a3f5f"
            },
            "marker": {
             "line": {
              "color": "#E5ECF6",
              "width": 0.5
             },
             "pattern": {
              "fillmode": "overlay",
              "size": 10,
              "solidity": 0.2
             }
            },
            "type": "bar"
           }
          ],
          "barpolar": [
           {
            "marker": {
             "line": {
              "color": "#E5ECF6",
              "width": 0.5
             },
             "pattern": {
              "fillmode": "overlay",
              "size": 10,
              "solidity": 0.2
             }
            },
            "type": "barpolar"
           }
          ],
          "carpet": [
           {
            "aaxis": {
             "endlinecolor": "#2a3f5f",
             "gridcolor": "white",
             "linecolor": "white",
             "minorgridcolor": "white",
             "startlinecolor": "#2a3f5f"
            },
            "baxis": {
             "endlinecolor": "#2a3f5f",
             "gridcolor": "white",
             "linecolor": "white",
             "minorgridcolor": "white",
             "startlinecolor": "#2a3f5f"
            },
            "type": "carpet"
           }
          ],
          "choropleth": [
           {
            "colorbar": {
             "outlinewidth": 0,
             "ticks": ""
            },
            "type": "choropleth"
           }
          ],
          "contour": [
           {
            "colorbar": {
             "outlinewidth": 0,
             "ticks": ""
            },
            "colorscale": [
             [
              0,
              "#0d0887"
             ],
             [
              0.1111111111111111,
              "#46039f"
             ],
             [
              0.2222222222222222,
              "#7201a8"
             ],
             [
              0.3333333333333333,
              "#9c179e"
             ],
             [
              0.4444444444444444,
              "#bd3786"
             ],
             [
              0.5555555555555556,
              "#d8576b"
             ],
             [
              0.6666666666666666,
              "#ed7953"
             ],
             [
              0.7777777777777778,
              "#fb9f3a"
             ],
             [
              0.8888888888888888,
              "#fdca26"
             ],
             [
              1,
              "#f0f921"
             ]
            ],
            "type": "contour"
           }
          ],
          "contourcarpet": [
           {
            "colorbar": {
             "outlinewidth": 0,
             "ticks": ""
            },
            "type": "contourcarpet"
           }
          ],
          "heatmap": [
           {
            "colorbar": {
             "outlinewidth": 0,
             "ticks": ""
            },
            "colorscale": [
             [
              0,
              "#0d0887"
             ],
             [
              0.1111111111111111,
              "#46039f"
             ],
             [
              0.2222222222222222,
              "#7201a8"
             ],
             [
              0.3333333333333333,
              "#9c179e"
             ],
             [
              0.4444444444444444,
              "#bd3786"
             ],
             [
              0.5555555555555556,
              "#d8576b"
             ],
             [
              0.6666666666666666,
              "#ed7953"
             ],
             [
              0.7777777777777778,
              "#fb9f3a"
             ],
             [
              0.8888888888888888,
              "#fdca26"
             ],
             [
              1,
              "#f0f921"
             ]
            ],
            "type": "heatmap"
           }
          ],
          "heatmapgl": [
           {
            "colorbar": {
             "outlinewidth": 0,
             "ticks": ""
            },
            "colorscale": [
             [
              0,
              "#0d0887"
             ],
             [
              0.1111111111111111,
              "#46039f"
             ],
             [
              0.2222222222222222,
              "#7201a8"
             ],
             [
              0.3333333333333333,
              "#9c179e"
             ],
             [
              0.4444444444444444,
              "#bd3786"
             ],
             [
              0.5555555555555556,
              "#d8576b"
             ],
             [
              0.6666666666666666,
              "#ed7953"
             ],
             [
              0.7777777777777778,
              "#fb9f3a"
             ],
             [
              0.8888888888888888,
              "#fdca26"
             ],
             [
              1,
              "#f0f921"
             ]
            ],
            "type": "heatmapgl"
           }
          ],
          "histogram": [
           {
            "marker": {
             "pattern": {
              "fillmode": "overlay",
              "size": 10,
              "solidity": 0.2
             }
            },
            "type": "histogram"
           }
          ],
          "histogram2d": [
           {
            "colorbar": {
             "outlinewidth": 0,
             "ticks": ""
            },
            "colorscale": [
             [
              0,
              "#0d0887"
             ],
             [
              0.1111111111111111,
              "#46039f"
             ],
             [
              0.2222222222222222,
              "#7201a8"
             ],
             [
              0.3333333333333333,
              "#9c179e"
             ],
             [
              0.4444444444444444,
              "#bd3786"
             ],
             [
              0.5555555555555556,
              "#d8576b"
             ],
             [
              0.6666666666666666,
              "#ed7953"
             ],
             [
              0.7777777777777778,
              "#fb9f3a"
             ],
             [
              0.8888888888888888,
              "#fdca26"
             ],
             [
              1,
              "#f0f921"
             ]
            ],
            "type": "histogram2d"
           }
          ],
          "histogram2dcontour": [
           {
            "colorbar": {
             "outlinewidth": 0,
             "ticks": ""
            },
            "colorscale": [
             [
              0,
              "#0d0887"
             ],
             [
              0.1111111111111111,
              "#46039f"
             ],
             [
              0.2222222222222222,
              "#7201a8"
             ],
             [
              0.3333333333333333,
              "#9c179e"
             ],
             [
              0.4444444444444444,
              "#bd3786"
             ],
             [
              0.5555555555555556,
              "#d8576b"
             ],
             [
              0.6666666666666666,
              "#ed7953"
             ],
             [
              0.7777777777777778,
              "#fb9f3a"
             ],
             [
              0.8888888888888888,
              "#fdca26"
             ],
             [
              1,
              "#f0f921"
             ]
            ],
            "type": "histogram2dcontour"
           }
          ],
          "mesh3d": [
           {
            "colorbar": {
             "outlinewidth": 0,
             "ticks": ""
            },
            "type": "mesh3d"
           }
          ],
          "parcoords": [
           {
            "line": {
             "colorbar": {
              "outlinewidth": 0,
              "ticks": ""
             }
            },
            "type": "parcoords"
           }
          ],
          "pie": [
           {
            "automargin": true,
            "type": "pie"
           }
          ],
          "scatter": [
           {
            "marker": {
             "colorbar": {
              "outlinewidth": 0,
              "ticks": ""
             }
            },
            "type": "scatter"
           }
          ],
          "scatter3d": [
           {
            "line": {
             "colorbar": {
              "outlinewidth": 0,
              "ticks": ""
             }
            },
            "marker": {
             "colorbar": {
              "outlinewidth": 0,
              "ticks": ""
             }
            },
            "type": "scatter3d"
           }
          ],
          "scattercarpet": [
           {
            "marker": {
             "colorbar": {
              "outlinewidth": 0,
              "ticks": ""
             }
            },
            "type": "scattercarpet"
           }
          ],
          "scattergeo": [
           {
            "marker": {
             "colorbar": {
              "outlinewidth": 0,
              "ticks": ""
             }
            },
            "type": "scattergeo"
           }
          ],
          "scattergl": [
           {
            "marker": {
             "colorbar": {
              "outlinewidth": 0,
              "ticks": ""
             }
            },
            "type": "scattergl"
           }
          ],
          "scattermapbox": [
           {
            "marker": {
             "colorbar": {
              "outlinewidth": 0,
              "ticks": ""
             }
            },
            "type": "scattermapbox"
           }
          ],
          "scatterpolar": [
           {
            "marker": {
             "colorbar": {
              "outlinewidth": 0,
              "ticks": ""
             }
            },
            "type": "scatterpolar"
           }
          ],
          "scatterpolargl": [
           {
            "marker": {
             "colorbar": {
              "outlinewidth": 0,
              "ticks": ""
             }
            },
            "type": "scatterpolargl"
           }
          ],
          "scatterternary": [
           {
            "marker": {
             "colorbar": {
              "outlinewidth": 0,
              "ticks": ""
             }
            },
            "type": "scatterternary"
           }
          ],
          "surface": [
           {
            "colorbar": {
             "outlinewidth": 0,
             "ticks": ""
            },
            "colorscale": [
             [
              0,
              "#0d0887"
             ],
             [
              0.1111111111111111,
              "#46039f"
             ],
             [
              0.2222222222222222,
              "#7201a8"
             ],
             [
              0.3333333333333333,
              "#9c179e"
             ],
             [
              0.4444444444444444,
              "#bd3786"
             ],
             [
              0.5555555555555556,
              "#d8576b"
             ],
             [
              0.6666666666666666,
              "#ed7953"
             ],
             [
              0.7777777777777778,
              "#fb9f3a"
             ],
             [
              0.8888888888888888,
              "#fdca26"
             ],
             [
              1,
              "#f0f921"
             ]
            ],
            "type": "surface"
           }
          ],
          "table": [
           {
            "cells": {
             "fill": {
              "color": "#EBF0F8"
             },
             "line": {
              "color": "white"
             }
            },
            "header": {
             "fill": {
              "color": "#C8D4E3"
             },
             "line": {
              "color": "white"
             }
            },
            "type": "table"
           }
          ]
         },
         "layout": {
          "annotationdefaults": {
           "arrowcolor": "#2a3f5f",
           "arrowhead": 0,
           "arrowwidth": 1
          },
          "autotypenumbers": "strict",
          "coloraxis": {
           "colorbar": {
            "outlinewidth": 0,
            "ticks": ""
           }
          },
          "colorscale": {
           "diverging": [
            [
             0,
             "#8e0152"
            ],
            [
             0.1,
             "#c51b7d"
            ],
            [
             0.2,
             "#de77ae"
            ],
            [
             0.3,
             "#f1b6da"
            ],
            [
             0.4,
             "#fde0ef"
            ],
            [
             0.5,
             "#f7f7f7"
            ],
            [
             0.6,
             "#e6f5d0"
            ],
            [
             0.7,
             "#b8e186"
            ],
            [
             0.8,
             "#7fbc41"
            ],
            [
             0.9,
             "#4d9221"
            ],
            [
             1,
             "#276419"
            ]
           ],
           "sequential": [
            [
             0,
             "#0d0887"
            ],
            [
             0.1111111111111111,
             "#46039f"
            ],
            [
             0.2222222222222222,
             "#7201a8"
            ],
            [
             0.3333333333333333,
             "#9c179e"
            ],
            [
             0.4444444444444444,
             "#bd3786"
            ],
            [
             0.5555555555555556,
             "#d8576b"
            ],
            [
             0.6666666666666666,
             "#ed7953"
            ],
            [
             0.7777777777777778,
             "#fb9f3a"
            ],
            [
             0.8888888888888888,
             "#fdca26"
            ],
            [
             1,
             "#f0f921"
            ]
           ],
           "sequentialminus": [
            [
             0,
             "#0d0887"
            ],
            [
             0.1111111111111111,
             "#46039f"
            ],
            [
             0.2222222222222222,
             "#7201a8"
            ],
            [
             0.3333333333333333,
             "#9c179e"
            ],
            [
             0.4444444444444444,
             "#bd3786"
            ],
            [
             0.5555555555555556,
             "#d8576b"
            ],
            [
             0.6666666666666666,
             "#ed7953"
            ],
            [
             0.7777777777777778,
             "#fb9f3a"
            ],
            [
             0.8888888888888888,
             "#fdca26"
            ],
            [
             1,
             "#f0f921"
            ]
           ]
          },
          "colorway": [
           "#636efa",
           "#EF553B",
           "#00cc96",
           "#ab63fa",
           "#FFA15A",
           "#19d3f3",
           "#FF6692",
           "#B6E880",
           "#FF97FF",
           "#FECB52"
          ],
          "font": {
           "color": "#2a3f5f"
          },
          "geo": {
           "bgcolor": "white",
           "lakecolor": "white",
           "landcolor": "#E5ECF6",
           "showlakes": true,
           "showland": true,
           "subunitcolor": "white"
          },
          "hoverlabel": {
           "align": "left"
          },
          "hovermode": "closest",
          "mapbox": {
           "style": "light"
          },
          "paper_bgcolor": "white",
          "plot_bgcolor": "#E5ECF6",
          "polar": {
           "angularaxis": {
            "gridcolor": "white",
            "linecolor": "white",
            "ticks": ""
           },
           "bgcolor": "#E5ECF6",
           "radialaxis": {
            "gridcolor": "white",
            "linecolor": "white",
            "ticks": ""
           }
          },
          "scene": {
           "xaxis": {
            "backgroundcolor": "#E5ECF6",
            "gridcolor": "white",
            "gridwidth": 2,
            "linecolor": "white",
            "showbackground": true,
            "ticks": "",
            "zerolinecolor": "white"
           },
           "yaxis": {
            "backgroundcolor": "#E5ECF6",
            "gridcolor": "white",
            "gridwidth": 2,
            "linecolor": "white",
            "showbackground": true,
            "ticks": "",
            "zerolinecolor": "white"
           },
           "zaxis": {
            "backgroundcolor": "#E5ECF6",
            "gridcolor": "white",
            "gridwidth": 2,
            "linecolor": "white",
            "showbackground": true,
            "ticks": "",
            "zerolinecolor": "white"
           }
          },
          "shapedefaults": {
           "line": {
            "color": "#2a3f5f"
           }
          },
          "ternary": {
           "aaxis": {
            "gridcolor": "white",
            "linecolor": "white",
            "ticks": ""
           },
           "baxis": {
            "gridcolor": "white",
            "linecolor": "white",
            "ticks": ""
           },
           "bgcolor": "#E5ECF6",
           "caxis": {
            "gridcolor": "white",
            "linecolor": "white",
            "ticks": ""
           }
          },
          "title": {
           "x": 0.05
          },
          "xaxis": {
           "automargin": true,
           "gridcolor": "white",
           "linecolor": "white",
           "ticks": "",
           "title": {
            "standoff": 15
           },
           "zerolinecolor": "white",
           "zerolinewidth": 2
          },
          "yaxis": {
           "automargin": true,
           "gridcolor": "white",
           "linecolor": "white",
           "ticks": "",
           "title": {
            "standoff": 15
           },
           "zerolinecolor": "white",
           "zerolinewidth": 2
          }
         }
        },
        "title": {
         "text": "ProphetDetector: Anomalies in tweet_count (Forecast Overlaid)"
        },
        "width": 1000,
        "xaxis": {
         "anchor": "y",
         "domain": [
          0,
          0.94
         ],
         "rangeselector": {
          "buttons": [
           {
            "count": 7,
            "label": "1w",
            "step": "day",
            "stepmode": "backward"
           },
           {
            "count": 1,
            "label": "1m",
            "step": "month",
            "stepmode": "backward"
           },
           {
            "count": 6,
            "label": "6m",
            "step": "month",
            "stepmode": "backward"
           },
           {
            "count": 1,
            "label": "1y",
            "step": "year",
            "stepmode": "backward"
           },
           {
            "step": "all"
           }
          ]
         },
         "rangeslider": {
          "visible": true
         },
         "title": {
          "text": "Time"
         },
         "type": "date"
        },
        "yaxis": {
         "anchor": "x",
         "domain": [
          0,
          1
         ],
         "title": {
          "text": "tweet_count"
         }
        },
        "yaxis2": {
         "anchor": "x",
         "overlaying": "y",
         "range": [
          -4.227992670762499,
          17.50544880346266
         ],
         "side": "right",
         "title": {
          "text": "Anomaly Score"
         }
        }
       }
      }
     },
     "metadata": {}
    }
   ],
   "metadata": {}
  },
  {
   "cell_type": "code",
   "execution_count": 241,
   "source": [
    "def count_spikes(df_labels, anom_score_cutoff):\n",
    "    anoms = pd.DataFrame(df_labels.anom_score > anom_score_cutoff).astype(int)\n",
    "    anoms[\"reset\"] = anoms.anom_score == 0\n",
    "    anoms[\"consecutive_sum\"] = anoms.groupby(anoms[\"reset\"].cumsum())[\"anom_score\"].cumsum()\n",
    "    \n",
    "\n",
    "    return (anoms[\"consecutive_sum\"] == 1).sum()\n",
    "\n",
    "print(\"--Consecutive spikes--\")\n",
    "for threshold in [0.5, 1, 2, 3]:\n",
    "    print(f\"Anomaly score > {threshold}: {count_spikes(df_labels, threshold)}\")"
   ],
   "outputs": [
    {
     "output_type": "stream",
     "name": "stdout",
     "text": [
      "--Consecutive spikes--\n",
      "Anomaly score > 0.5: 19\n",
      "Anomaly score > 1: 10\n",
      "Anomaly score > 2: 1\n",
      "Anomaly score > 3: 1\n"
     ]
    }
   ],
   "metadata": {}
  },
  {
   "cell_type": "code",
   "execution_count": null,
   "source": [
    "detected_spikes_by_user = {}\n",
    "ANOMALY_THRESHOLDS = [0.5, 1, 2, 3]\n",
    "for username in df_celeb.twitter_username:\n",
    "    if username not in detected_spikes_by_user:\n",
    "        df_timeseries = get_timeseries(cached_tweet_count_data_by_user[username])\n",
    "        \n",
    "        df_scores, df_labels = anomaly_scores = detect_anomalies(\n",
    "            df_timeseries, \n",
    "            \"tweet_count\",\n",
    "            model=ProphetDetector(prophet_config),\n",
    "            plot=False\n",
    "        )\n",
    "        detected_spikes = {}\n",
    "        \n",
    "        for threshold in [0.5, 1, 2, 3]:\n",
    "            detected_spikes[threshold] = count_spikes(df_labels, threshold)\n",
    "        detected_spikes_by_user[username] = detected_spikes\n"
   ],
   "outputs": [],
   "metadata": {}
  },
  {
   "cell_type": "code",
   "execution_count": 255,
   "source": [
    "for threshold in ANOMALY_THRESHOLDS:\n",
    "    col = f\"spikes_above_{threshold}\"\n",
    "    df_celeb[col] = df_celeb.twitter_username.apply(\n",
    "        lambda u: detected_spikes_by_user[u][threshold]\n",
    "    )\n",
    "\n",
    "df_celeb"
   ],
   "outputs": [
    {
     "output_type": "execute_result",
     "data": {
      "text/html": [
       "<div>\n",
       "<style scoped>\n",
       "    .dataframe tbody tr th:only-of-type {\n",
       "        vertical-align: middle;\n",
       "    }\n",
       "\n",
       "    .dataframe tbody tr th {\n",
       "        vertical-align: top;\n",
       "    }\n",
       "\n",
       "    .dataframe thead th {\n",
       "        text-align: right;\n",
       "    }\n",
       "</style>\n",
       "<table border=\"1\" class=\"dataframe\">\n",
       "  <thead>\n",
       "    <tr style=\"text-align: right;\">\n",
       "      <th></th>\n",
       "      <th>twitter_username</th>\n",
       "      <th>name</th>\n",
       "      <th>followers_count</th>\n",
       "      <th>user_tweet_count</th>\n",
       "      <th>created_at</th>\n",
       "      <th>id</th>\n",
       "      <th>query_tweet_count</th>\n",
       "      <th>spikes_above_0.5</th>\n",
       "      <th>spikes_above_1</th>\n",
       "      <th>spikes_above_2</th>\n",
       "      <th>spikes_above_3</th>\n",
       "    </tr>\n",
       "  </thead>\n",
       "  <tbody>\n",
       "    <tr>\n",
       "      <th>0</th>\n",
       "      <td>katyperry</td>\n",
       "      <td>KATY PERRY</td>\n",
       "      <td>108789024</td>\n",
       "      <td>11460</td>\n",
       "      <td>2009-02-20T23:45:56.000Z</td>\n",
       "      <td>21447363</td>\n",
       "      <td>748786</td>\n",
       "      <td>22</td>\n",
       "      <td>11</td>\n",
       "      <td>1</td>\n",
       "      <td>1</td>\n",
       "    </tr>\n",
       "    <tr>\n",
       "      <th>1</th>\n",
       "      <td>justinbieber</td>\n",
       "      <td>Justin Bieber</td>\n",
       "      <td>114060688</td>\n",
       "      <td>31380</td>\n",
       "      <td>2009-03-28T16:41:22.000Z</td>\n",
       "      <td>27260086</td>\n",
       "      <td>4589799</td>\n",
       "      <td>18</td>\n",
       "      <td>14</td>\n",
       "      <td>3</td>\n",
       "      <td>0</td>\n",
       "    </tr>\n",
       "    <tr>\n",
       "      <th>2</th>\n",
       "      <td>taylorswift13</td>\n",
       "      <td>Taylor Swift</td>\n",
       "      <td>88903543</td>\n",
       "      <td>691</td>\n",
       "      <td>2008-12-06T10:10:54.000Z</td>\n",
       "      <td>17919972</td>\n",
       "      <td>4375820</td>\n",
       "      <td>25</td>\n",
       "      <td>13</td>\n",
       "      <td>3</td>\n",
       "      <td>1</td>\n",
       "    </tr>\n",
       "    <tr>\n",
       "      <th>3</th>\n",
       "      <td>rihanna</td>\n",
       "      <td>Rihanna</td>\n",
       "      <td>103256018</td>\n",
       "      <td>10587</td>\n",
       "      <td>2009-10-02T21:37:33.000Z</td>\n",
       "      <td>79293791</td>\n",
       "      <td>2893095</td>\n",
       "      <td>18</td>\n",
       "      <td>10</td>\n",
       "      <td>1</td>\n",
       "      <td>1</td>\n",
       "    </tr>\n",
       "    <tr>\n",
       "      <th>4</th>\n",
       "      <td>ladygaga</td>\n",
       "      <td>Lady Gaga</td>\n",
       "      <td>83801008</td>\n",
       "      <td>9645</td>\n",
       "      <td>2008-03-26T22:37:48.000Z</td>\n",
       "      <td>14230524</td>\n",
       "      <td>1546900</td>\n",
       "      <td>19</td>\n",
       "      <td>10</td>\n",
       "      <td>2</td>\n",
       "      <td>2</td>\n",
       "    </tr>\n",
       "    <tr>\n",
       "      <th>...</th>\n",
       "      <td>...</td>\n",
       "      <td>...</td>\n",
       "      <td>...</td>\n",
       "      <td>...</td>\n",
       "      <td>...</td>\n",
       "      <td>...</td>\n",
       "      <td>...</td>\n",
       "      <td>...</td>\n",
       "      <td>...</td>\n",
       "      <td>...</td>\n",
       "      <td>...</td>\n",
       "    </tr>\n",
       "    <tr>\n",
       "      <th>933</th>\n",
       "      <td>kylieminogue</td>\n",
       "      <td>Kylie Minogue</td>\n",
       "      <td>2199320</td>\n",
       "      <td>14025</td>\n",
       "      <td>2009-08-05T16:03:32.000Z</td>\n",
       "      <td>63172203</td>\n",
       "      <td>105694</td>\n",
       "      <td>21</td>\n",
       "      <td>14</td>\n",
       "      <td>2</td>\n",
       "      <td>0</td>\n",
       "    </tr>\n",
       "    <tr>\n",
       "      <th>934</th>\n",
       "      <td>Zedd</td>\n",
       "      <td>Zedd</td>\n",
       "      <td>7742802</td>\n",
       "      <td>34966</td>\n",
       "      <td>2010-06-14T21:53:37.000Z</td>\n",
       "      <td>155705264</td>\n",
       "      <td>44148</td>\n",
       "      <td>21</td>\n",
       "      <td>11</td>\n",
       "      <td>3</td>\n",
       "      <td>1</td>\n",
       "    </tr>\n",
       "    <tr>\n",
       "      <th>935</th>\n",
       "      <td>SleepintheGardn</td>\n",
       "      <td>Troian</td>\n",
       "      <td>2349183</td>\n",
       "      <td>8321</td>\n",
       "      <td>2010-04-08T23:29:12.000Z</td>\n",
       "      <td>130991061</td>\n",
       "      <td>5632</td>\n",
       "      <td>21</td>\n",
       "      <td>10</td>\n",
       "      <td>2</td>\n",
       "      <td>0</td>\n",
       "    </tr>\n",
       "    <tr>\n",
       "      <th>936</th>\n",
       "      <td>therealjuicyj</td>\n",
       "      <td>juicy j</td>\n",
       "      <td>2795518</td>\n",
       "      <td>46484</td>\n",
       "      <td>2009-03-13T22:59:30.000Z</td>\n",
       "      <td>24275419</td>\n",
       "      <td>83570</td>\n",
       "      <td>23</td>\n",
       "      <td>14</td>\n",
       "      <td>3</td>\n",
       "      <td>1</td>\n",
       "    </tr>\n",
       "    <tr>\n",
       "      <th>937</th>\n",
       "      <td>manugavassi</td>\n",
       "      <td>Manu Gavassi</td>\n",
       "      <td>6433461</td>\n",
       "      <td>42676</td>\n",
       "      <td>2009-04-15T22:44:52.000Z</td>\n",
       "      <td>31547933</td>\n",
       "      <td>169243</td>\n",
       "      <td>23</td>\n",
       "      <td>12</td>\n",
       "      <td>3</td>\n",
       "      <td>0</td>\n",
       "    </tr>\n",
       "  </tbody>\n",
       "</table>\n",
       "<p>908 rows × 11 columns</p>\n",
       "</div>"
      ],
      "text/plain": [
       "    twitter_username           name  followers_count  user_tweet_count  \\\n",
       "0          katyperry     KATY PERRY        108789024             11460   \n",
       "1       justinbieber  Justin Bieber        114060688             31380   \n",
       "2      taylorswift13   Taylor Swift         88903543               691   \n",
       "3            rihanna        Rihanna        103256018             10587   \n",
       "4           ladygaga      Lady Gaga         83801008              9645   \n",
       "..               ...            ...              ...               ...   \n",
       "933     kylieminogue  Kylie Minogue          2199320             14025   \n",
       "934             Zedd           Zedd          7742802             34966   \n",
       "935  SleepintheGardn         Troian          2349183              8321   \n",
       "936    therealjuicyj        juicy j          2795518             46484   \n",
       "937      manugavassi   Manu Gavassi          6433461             42676   \n",
       "\n",
       "                   created_at         id  query_tweet_count  spikes_above_0.5  \\\n",
       "0    2009-02-20T23:45:56.000Z   21447363             748786                22   \n",
       "1    2009-03-28T16:41:22.000Z   27260086            4589799                18   \n",
       "2    2008-12-06T10:10:54.000Z   17919972            4375820                25   \n",
       "3    2009-10-02T21:37:33.000Z   79293791            2893095                18   \n",
       "4    2008-03-26T22:37:48.000Z   14230524            1546900                19   \n",
       "..                        ...        ...                ...               ...   \n",
       "933  2009-08-05T16:03:32.000Z   63172203             105694                21   \n",
       "934  2010-06-14T21:53:37.000Z  155705264              44148                21   \n",
       "935  2010-04-08T23:29:12.000Z  130991061               5632                21   \n",
       "936  2009-03-13T22:59:30.000Z   24275419              83570                23   \n",
       "937  2009-04-15T22:44:52.000Z   31547933             169243                23   \n",
       "\n",
       "     spikes_above_1  spikes_above_2  spikes_above_3  \n",
       "0                11               1               1  \n",
       "1                14               3               0  \n",
       "2                13               3               1  \n",
       "3                10               1               1  \n",
       "4                10               2               2  \n",
       "..              ...             ...             ...  \n",
       "933              14               2               0  \n",
       "934              11               3               1  \n",
       "935              10               2               0  \n",
       "936              14               3               1  \n",
       "937              12               3               0  \n",
       "\n",
       "[908 rows x 11 columns]"
      ]
     },
     "metadata": {},
     "execution_count": 255
    }
   ],
   "metadata": {}
  },
  {
   "cell_type": "code",
   "execution_count": 266,
   "source": [
    "df_celeb.sort_values(\"query_tweet_count\", ascending=False).to_csv(\"../data/celebrity/enhanced_1k_celebrities_with_spikes.csv\", index=False)"
   ],
   "outputs": [],
   "metadata": {}
  },
  {
   "cell_type": "code",
   "execution_count": 267,
   "source": [
    "df_celeb_with_spikes = pd.read_csv(\"../data/celebrity/enhanced_1k_celebrities_with_spikes.csv\")"
   ],
   "outputs": [],
   "metadata": {}
  },
  {
   "cell_type": "code",
   "execution_count": 272,
   "source": [
    "px.scatter(\n",
    "    x=df_celeb_with_spikes.query_tweet_count,\n",
    "    y=df_celeb_with_spikes.spikes_above_1,\n",
    "    title=\"Number of spikes with anomaly score above 1 vs. query tweet count\"\n",
    ")"
   ],
   "outputs": [
    {
     "output_type": "display_data",
     "data": {
      "application/vnd.plotly.v1+json": {
       "config": {
        "plotlyServerURL": "https://plot.ly"
       },
       "data": [
        {
         "hovertemplate": "x=%{x}<br>y=%{y}<extra></extra>",
         "legendgroup": "",
         "marker": {
          "color": "#636efa",
          "symbol": "circle"
         },
         "mode": "markers",
         "name": "",
         "orientation": "v",
         "showlegend": false,
         "type": "scatter",
         "x": [
          14968780,
          11279933,
          6283104,
          5416612,
          4589799,
          4395741,
          4375820,
          3907417,
          3895578,
          3349735,
          3307870,
          2969023,
          2910776,
          2893095,
          2726638,
          2399843,
          2080420,
          1948656,
          1790061,
          1779426,
          1745321,
          1712939,
          1667836,
          1546900,
          1521722,
          1505414,
          1249095,
          1230561,
          1194952,
          1124745,
          1060447,
          1051596,
          1042776,
          1037564,
          1009205,
          984815,
          980488,
          978550,
          954641,
          953295,
          952132,
          937289,
          929806,
          893290,
          884775,
          875786,
          838148,
          804312,
          794390,
          762727,
          748786,
          708518,
          702240,
          696885,
          672893,
          667780,
          661285,
          659088,
          632397,
          621295,
          598567,
          593792,
          580082,
          564848,
          562856,
          558043,
          552559,
          550965,
          539141,
          526942,
          514938,
          514165,
          510434,
          506239,
          502388,
          491141,
          485068,
          466691,
          448903,
          447346,
          445010,
          444064,
          419513,
          410901,
          407985,
          405789,
          396167,
          393040,
          389418,
          385843,
          384196,
          368975,
          368611,
          363103,
          356190,
          352714,
          349197,
          344564,
          343536,
          333282,
          331775,
          327028,
          321448,
          321230,
          320107,
          319314,
          318095,
          317471,
          311775,
          310628,
          308650,
          306073,
          303645,
          300686,
          298392,
          292775,
          291432,
          289225,
          281186,
          280232,
          278147,
          277534,
          272708,
          271625,
          268672,
          267911,
          267387,
          267097,
          259202,
          256520,
          253602,
          253387,
          251998,
          249694,
          249254,
          241865,
          240826,
          240232,
          238058,
          237104,
          236141,
          235630,
          234375,
          233521,
          232088,
          231797,
          230311,
          226886,
          225340,
          223863,
          222543,
          222152,
          219571,
          215560,
          214347,
          211028,
          209624,
          209232,
          204175,
          202141,
          199960,
          198027,
          197148,
          196832,
          196127,
          194647,
          193426,
          193195,
          190871,
          190693,
          190629,
          190601,
          188805,
          188636,
          188380,
          188354,
          188003,
          187294,
          185885,
          181562,
          181184,
          180806,
          180403,
          178893,
          178535,
          177964,
          177799,
          173311,
          173269,
          173063,
          171682,
          171676,
          169243,
          169213,
          168487,
          167728,
          165701,
          163818,
          161847,
          161408,
          161173,
          159593,
          159039,
          158157,
          157955,
          156916,
          156247,
          155004,
          153579,
          153117,
          150544,
          149956,
          149848,
          149750,
          149591,
          148014,
          147005,
          146554,
          146335,
          145998,
          145448,
          144433,
          143479,
          142554,
          140434,
          137764,
          137406,
          137197,
          135899,
          135331,
          134981,
          134794,
          131961,
          131326,
          127229,
          126848,
          126046,
          125456,
          121384,
          120889,
          120760,
          120407,
          119270,
          119194,
          118572,
          118290,
          117832,
          116769,
          116702,
          114824,
          114785,
          114160,
          114105,
          112390,
          111153,
          110746,
          109416,
          108549,
          106678,
          106586,
          106309,
          106133,
          105917,
          105694,
          104545,
          102549,
          101931,
          101553,
          100534,
          98879,
          98050,
          97375,
          97136,
          96959,
          96265,
          95707,
          95071,
          94065,
          93866,
          93690,
          91824,
          91480,
          89723,
          89701,
          88452,
          88174,
          87848,
          86710,
          85884,
          85715,
          85181,
          85141,
          84693,
          84222,
          83990,
          83570,
          82430,
          82230,
          82168,
          81146,
          80941,
          78915,
          78727,
          76921,
          76734,
          76651,
          75559,
          75116,
          73728,
          73705,
          73556,
          73081,
          72733,
          72224,
          72180,
          72040,
          71542,
          71250,
          71165,
          70291,
          69062,
          69027,
          68848,
          68681,
          68235,
          68197,
          67355,
          66449,
          65939,
          65761,
          65666,
          65652,
          65517,
          64099,
          63169,
          62641,
          62425,
          62037,
          60767,
          60680,
          60304,
          60272,
          60154,
          60062,
          58836,
          58566,
          57322,
          56740,
          56611,
          55872,
          53967,
          53588,
          52510,
          52384,
          52180,
          51595,
          51292,
          51049,
          50920,
          50825,
          50749,
          50448,
          49868,
          49858,
          49739,
          49480,
          49225,
          49096,
          48634,
          48058,
          47982,
          47980,
          47538,
          47167,
          47117,
          47116,
          46692,
          45803,
          45672,
          45414,
          45338,
          45138,
          44291,
          44148,
          44062,
          43813,
          42992,
          42897,
          42249,
          42168,
          41821,
          41792,
          41666,
          41409,
          41313,
          40549,
          39997,
          39623,
          39471,
          39391,
          39384,
          39298,
          39052,
          39008,
          38922,
          38510,
          38502,
          38251,
          37976,
          37861,
          37707,
          37644,
          37449,
          37018,
          36962,
          36432,
          36259,
          36198,
          36119,
          36104,
          36003,
          35956,
          35698,
          35652,
          34460,
          33961,
          33955,
          33882,
          33652,
          33380,
          33374,
          33356,
          33298,
          33078,
          32987,
          32935,
          32623,
          32600,
          31921,
          31549,
          31318,
          30992,
          30769,
          30651,
          30647,
          30206,
          30171,
          29851,
          29791,
          29475,
          29453,
          28905,
          28728,
          28550,
          28437,
          28267,
          28183,
          28057,
          27940,
          27707,
          27415,
          27296,
          27186,
          26922,
          26646,
          26488,
          26449,
          25697,
          25635,
          25231,
          25104,
          25078,
          24727,
          24642,
          24335,
          24292,
          24235,
          24115,
          24044,
          24036,
          24024,
          23993,
          23989,
          23845,
          23791,
          23606,
          23410,
          23254,
          23173,
          23134,
          23020,
          22961,
          22905,
          22796,
          22748,
          22670,
          22637,
          22537,
          22532,
          22286,
          22013,
          21878,
          21745,
          21586,
          21488,
          21448,
          21356,
          21288,
          21151,
          20862,
          20799,
          20756,
          20582,
          20538,
          20468,
          20360,
          20133,
          20092,
          20035,
          19910,
          19837,
          19663,
          19617,
          19552,
          19500,
          19055,
          18945,
          18937,
          18907,
          18576,
          18422,
          18386,
          18328,
          18319,
          18317,
          18104,
          18097,
          17880,
          17828,
          17680,
          17519,
          16983,
          16952,
          16929,
          16872,
          16828,
          16728,
          16596,
          16534,
          16478,
          16418,
          16201,
          16127,
          16055,
          16040,
          16036,
          15996,
          15915,
          15910,
          15310,
          15133,
          15067,
          14781,
          14624,
          14570,
          14526,
          14245,
          14229,
          14204,
          14194,
          14135,
          14127,
          13986,
          13830,
          13812,
          13594,
          13504,
          13470,
          13164,
          13126,
          13117,
          13040,
          13009,
          12968,
          12870,
          12858,
          12847,
          12768,
          12716,
          12617,
          12423,
          12325,
          12257,
          12247,
          12088,
          11904,
          11788,
          11777,
          11762,
          11757,
          11640,
          11594,
          11578,
          11531,
          11095,
          11007,
          10994,
          10896,
          10812,
          10644,
          10560,
          10544,
          10326,
          10292,
          10222,
          10109,
          10076,
          10040,
          10030,
          10011,
          9992,
          9810,
          9777,
          9720,
          9656,
          9630,
          9613,
          9596,
          9480,
          9420,
          9395,
          9361,
          9343,
          9244,
          9209,
          9096,
          8969,
          8964,
          8944,
          8921,
          8899,
          8817,
          8768,
          8744,
          8723,
          8685,
          8644,
          8616,
          8534,
          8457,
          8450,
          8335,
          8314,
          8251,
          8247,
          8204,
          8168,
          8116,
          8115,
          8056,
          8046,
          8040,
          8032,
          7994,
          7923,
          7912,
          7860,
          7844,
          7810,
          7654,
          7602,
          7585,
          7479,
          7368,
          7338,
          7278,
          7030,
          6972,
          6955,
          6870,
          6597,
          6528,
          6490,
          6469,
          6421,
          6392,
          6316,
          6315,
          6245,
          6217,
          6184,
          6134,
          6085,
          5888,
          5877,
          5830,
          5655,
          5645,
          5641,
          5632,
          5619,
          5611,
          5539,
          5524,
          5510,
          5483,
          5469,
          5422,
          5370,
          5290,
          5217,
          5047,
          5015,
          4903,
          4866,
          4862,
          4783,
          4755,
          4674,
          4624,
          4567,
          4486,
          4452,
          4406,
          4285,
          4279,
          4252,
          4236,
          4219,
          4197,
          4144,
          4141,
          4138,
          4120,
          4090,
          4058,
          4031,
          3987,
          3987,
          3957,
          3929,
          3810,
          3792,
          3787,
          3680,
          3644,
          3596,
          3521,
          3514,
          3502,
          3494,
          3493,
          3467,
          3463,
          3443,
          3433,
          3420,
          3388,
          3378,
          3372,
          3290,
          3289,
          3284,
          3257,
          3172,
          3158,
          3102,
          3092,
          3051,
          3031,
          2960,
          2944,
          2904,
          2838,
          2804,
          2800,
          2767,
          2732,
          2727,
          2726,
          2688,
          2681,
          2639,
          2604,
          2583,
          2569,
          2535,
          2461,
          2447,
          2438,
          2360,
          2346,
          2305,
          2254,
          2109,
          2106,
          2071,
          1995,
          1960,
          1959,
          1929,
          1882,
          1875,
          1862,
          1843,
          1829,
          1787,
          1773,
          1764,
          1743,
          1668,
          1646,
          1594,
          1593,
          1542,
          1490,
          1488,
          1480,
          1426,
          1417,
          1340,
          1273,
          1243,
          1228,
          1210,
          1201,
          1126,
          1084,
          1076,
          1057,
          1034,
          1017,
          1013,
          1010,
          996,
          967,
          922,
          903,
          840,
          839,
          822,
          812,
          805,
          762,
          742,
          735,
          729,
          723,
          721,
          714,
          700,
          691,
          656,
          646,
          590,
          568,
          568,
          538,
          528,
          513,
          498,
          467,
          462,
          459,
          428,
          390,
          383,
          382,
          360,
          350,
          348,
          309,
          306,
          305,
          255,
          237,
          228,
          226,
          225,
          204,
          202,
          184,
          178,
          174,
          171,
          170,
          166,
          163,
          145,
          139,
          126,
          121,
          102,
          95,
          93,
          85,
          77,
          75,
          70,
          60,
          45,
          37,
          32,
          23,
          11,
          9,
          3,
          3
         ],
         "xaxis": "x",
         "y": [
          14,
          12,
          11,
          12,
          14,
          13,
          13,
          17,
          15,
          13,
          13,
          10,
          13,
          10,
          15,
          12,
          9,
          8,
          12,
          13,
          12,
          11,
          13,
          10,
          14,
          12,
          12,
          14,
          14,
          13,
          10,
          14,
          13,
          9,
          12,
          10,
          14,
          13,
          10,
          13,
          11,
          15,
          9,
          10,
          11,
          12,
          12,
          15,
          12,
          11,
          11,
          17,
          11,
          13,
          14,
          11,
          13,
          13,
          12,
          8,
          15,
          9,
          14,
          13,
          13,
          14,
          12,
          11,
          14,
          16,
          14,
          11,
          10,
          10,
          14,
          11,
          12,
          14,
          16,
          14,
          13,
          9,
          11,
          12,
          12,
          16,
          13,
          12,
          12,
          14,
          10,
          14,
          13,
          8,
          8,
          13,
          19,
          13,
          12,
          10,
          10,
          13,
          12,
          13,
          12,
          10,
          13,
          14,
          15,
          11,
          12,
          12,
          12,
          9,
          13,
          11,
          14,
          11,
          10,
          12,
          11,
          9,
          13,
          13,
          12,
          12,
          11,
          14,
          14,
          12,
          14,
          12,
          14,
          13,
          12,
          11,
          12,
          13,
          12,
          9,
          13,
          10,
          11,
          13,
          13,
          10,
          13,
          13,
          12,
          8,
          12,
          11,
          14,
          12,
          14,
          10,
          14,
          13,
          13,
          10,
          13,
          12,
          12,
          9,
          12,
          14,
          12,
          10,
          8,
          16,
          10,
          10,
          12,
          16,
          13,
          11,
          12,
          9,
          10,
          12,
          10,
          14,
          11,
          14,
          14,
          13,
          12,
          12,
          10,
          14,
          12,
          8,
          12,
          12,
          9,
          13,
          13,
          12,
          16,
          14,
          13,
          17,
          12,
          11,
          13,
          6,
          15,
          12,
          14,
          13,
          10,
          16,
          15,
          13,
          11,
          12,
          9,
          13,
          12,
          13,
          12,
          8,
          15,
          13,
          12,
          14,
          13,
          6,
          11,
          12,
          12,
          14,
          12,
          12,
          12,
          10,
          7,
          13,
          10,
          13,
          14,
          15,
          12,
          13,
          13,
          12,
          6,
          12,
          12,
          12,
          13,
          11,
          14,
          12,
          10,
          12,
          10,
          13,
          11,
          14,
          16,
          11,
          14,
          14,
          15,
          11,
          12,
          14,
          13,
          11,
          11,
          14,
          11,
          14,
          13,
          14,
          11,
          9,
          11,
          14,
          13,
          12,
          13,
          12,
          14,
          11,
          14,
          11,
          15,
          11,
          12,
          14,
          12,
          14,
          11,
          14,
          12,
          15,
          10,
          11,
          13,
          15,
          9,
          10,
          10,
          13,
          12,
          12,
          10,
          14,
          11,
          11,
          9,
          13,
          12,
          14,
          13,
          12,
          12,
          13,
          12,
          13,
          14,
          9,
          11,
          12,
          13,
          12,
          10,
          14,
          12,
          14,
          13,
          18,
          15,
          16,
          12,
          10,
          14,
          14,
          16,
          11,
          9,
          15,
          14,
          12,
          13,
          9,
          13,
          16,
          11,
          14,
          15,
          14,
          13,
          14,
          13,
          13,
          12,
          11,
          13,
          12,
          13,
          10,
          12,
          12,
          13,
          14,
          10,
          13,
          11,
          11,
          12,
          15,
          12,
          13,
          13,
          12,
          13,
          13,
          14,
          11,
          13,
          11,
          15,
          14,
          12,
          12,
          10,
          15,
          11,
          12,
          15,
          11,
          14,
          11,
          9,
          12,
          12,
          12,
          11,
          11,
          13,
          11,
          13,
          15,
          10,
          15,
          10,
          13,
          11,
          12,
          13,
          13,
          12,
          10,
          11,
          12,
          13,
          12,
          12,
          14,
          11,
          12,
          10,
          12,
          14,
          15,
          12,
          9,
          3,
          14,
          13,
          12,
          11,
          8,
          16,
          9,
          12,
          13,
          14,
          15,
          18,
          9,
          13,
          14,
          13,
          15,
          11,
          14,
          14,
          8,
          16,
          11,
          12,
          14,
          11,
          17,
          13,
          8,
          13,
          10,
          16,
          13,
          11,
          11,
          11,
          9,
          11,
          13,
          12,
          11,
          9,
          11,
          11,
          13,
          14,
          15,
          15,
          12,
          10,
          13,
          11,
          12,
          11,
          16,
          14,
          16,
          13,
          13,
          10,
          14,
          11,
          15,
          14,
          13,
          11,
          10,
          15,
          11,
          12,
          10,
          12,
          13,
          12,
          12,
          15,
          11,
          11,
          13,
          14,
          15,
          13,
          14,
          12,
          15,
          9,
          12,
          13,
          12,
          12,
          11,
          15,
          11,
          15,
          14,
          12,
          12,
          16,
          13,
          11,
          14,
          13,
          12,
          11,
          10,
          15,
          12,
          11,
          13,
          11,
          11,
          12,
          12,
          10,
          13,
          14,
          10,
          12,
          12,
          14,
          11,
          10,
          13,
          12,
          15,
          17,
          13,
          12,
          15,
          15,
          12,
          13,
          13,
          12,
          14,
          13,
          13,
          12,
          14,
          14,
          13,
          13,
          12,
          12,
          16,
          13,
          12,
          12,
          10,
          14,
          10,
          14,
          11,
          12,
          14,
          11,
          15,
          13,
          6,
          14,
          13,
          14,
          12,
          12,
          12,
          15,
          11,
          14,
          14,
          11,
          12,
          14,
          14,
          12,
          16,
          10,
          11,
          11,
          10,
          10,
          13,
          13,
          14,
          12,
          16,
          13,
          12,
          12,
          15,
          13,
          12,
          15,
          10,
          9,
          10,
          11,
          11,
          11,
          11,
          12,
          12,
          14,
          9,
          14,
          11,
          13,
          12,
          13,
          13,
          15,
          14,
          13,
          13,
          13,
          9,
          14,
          14,
          13,
          11,
          15,
          11,
          13,
          14,
          16,
          13,
          13,
          11,
          11,
          15,
          13,
          13,
          16,
          12,
          11,
          10,
          14,
          14,
          10,
          14,
          10,
          10,
          13,
          13,
          10,
          11,
          13,
          11,
          13,
          13,
          13,
          7,
          12,
          13,
          13,
          13,
          15,
          12,
          9,
          15,
          11,
          12,
          11,
          12,
          10,
          11,
          12,
          12,
          11,
          10,
          12,
          13,
          14,
          13,
          16,
          9,
          10,
          11,
          13,
          15,
          13,
          17,
          12,
          11,
          13,
          10,
          15,
          13,
          12,
          12,
          14,
          11,
          14,
          13,
          14,
          12,
          11,
          10,
          12,
          13,
          13,
          17,
          12,
          11,
          16,
          13,
          12,
          11,
          9,
          14,
          13,
          13,
          12,
          14,
          13,
          8,
          12,
          12,
          13,
          14,
          13,
          13,
          11,
          11,
          11,
          14,
          13,
          9,
          13,
          13,
          10,
          11,
          12,
          15,
          12,
          11,
          12,
          13,
          12,
          12,
          12,
          10,
          16,
          14,
          13,
          12,
          14,
          13,
          12,
          12,
          12,
          13,
          14,
          9,
          14,
          12,
          11,
          13,
          11,
          14,
          14,
          13,
          14,
          10,
          13,
          11,
          12,
          13,
          15,
          13,
          10,
          13,
          15,
          13,
          12,
          10,
          11,
          13,
          14,
          14,
          14,
          12,
          13,
          13,
          14,
          12,
          15,
          11,
          13,
          14,
          13,
          11,
          11,
          11,
          18,
          10,
          11,
          8,
          15,
          13,
          10,
          14,
          13,
          9,
          12,
          13,
          15,
          13,
          13,
          13,
          12,
          14,
          13,
          11,
          15,
          11,
          12,
          12,
          12,
          14,
          14,
          14,
          13,
          14,
          16,
          13,
          12,
          11,
          13,
          12,
          15,
          11,
          15,
          12,
          14,
          13,
          12,
          16,
          13,
          12,
          12,
          11,
          13,
          11,
          14,
          13,
          12,
          15,
          13,
          16,
          14,
          13,
          13,
          12,
          14,
          11,
          13,
          10,
          15,
          12,
          12,
          14,
          14,
          13,
          13,
          14,
          15,
          15,
          13,
          14,
          13,
          13,
          13,
          15,
          13,
          11,
          11,
          13
         ],
         "yaxis": "y"
        }
       ],
       "layout": {
        "legend": {
         "tracegroupgap": 0
        },
        "template": {
         "data": {
          "bar": [
           {
            "error_x": {
             "color": "#2a3f5f"
            },
            "error_y": {
             "color": "#2a3f5f"
            },
            "marker": {
             "line": {
              "color": "#E5ECF6",
              "width": 0.5
             },
             "pattern": {
              "fillmode": "overlay",
              "size": 10,
              "solidity": 0.2
             }
            },
            "type": "bar"
           }
          ],
          "barpolar": [
           {
            "marker": {
             "line": {
              "color": "#E5ECF6",
              "width": 0.5
             },
             "pattern": {
              "fillmode": "overlay",
              "size": 10,
              "solidity": 0.2
             }
            },
            "type": "barpolar"
           }
          ],
          "carpet": [
           {
            "aaxis": {
             "endlinecolor": "#2a3f5f",
             "gridcolor": "white",
             "linecolor": "white",
             "minorgridcolor": "white",
             "startlinecolor": "#2a3f5f"
            },
            "baxis": {
             "endlinecolor": "#2a3f5f",
             "gridcolor": "white",
             "linecolor": "white",
             "minorgridcolor": "white",
             "startlinecolor": "#2a3f5f"
            },
            "type": "carpet"
           }
          ],
          "choropleth": [
           {
            "colorbar": {
             "outlinewidth": 0,
             "ticks": ""
            },
            "type": "choropleth"
           }
          ],
          "contour": [
           {
            "colorbar": {
             "outlinewidth": 0,
             "ticks": ""
            },
            "colorscale": [
             [
              0,
              "#0d0887"
             ],
             [
              0.1111111111111111,
              "#46039f"
             ],
             [
              0.2222222222222222,
              "#7201a8"
             ],
             [
              0.3333333333333333,
              "#9c179e"
             ],
             [
              0.4444444444444444,
              "#bd3786"
             ],
             [
              0.5555555555555556,
              "#d8576b"
             ],
             [
              0.6666666666666666,
              "#ed7953"
             ],
             [
              0.7777777777777778,
              "#fb9f3a"
             ],
             [
              0.8888888888888888,
              "#fdca26"
             ],
             [
              1,
              "#f0f921"
             ]
            ],
            "type": "contour"
           }
          ],
          "contourcarpet": [
           {
            "colorbar": {
             "outlinewidth": 0,
             "ticks": ""
            },
            "type": "contourcarpet"
           }
          ],
          "heatmap": [
           {
            "colorbar": {
             "outlinewidth": 0,
             "ticks": ""
            },
            "colorscale": [
             [
              0,
              "#0d0887"
             ],
             [
              0.1111111111111111,
              "#46039f"
             ],
             [
              0.2222222222222222,
              "#7201a8"
             ],
             [
              0.3333333333333333,
              "#9c179e"
             ],
             [
              0.4444444444444444,
              "#bd3786"
             ],
             [
              0.5555555555555556,
              "#d8576b"
             ],
             [
              0.6666666666666666,
              "#ed7953"
             ],
             [
              0.7777777777777778,
              "#fb9f3a"
             ],
             [
              0.8888888888888888,
              "#fdca26"
             ],
             [
              1,
              "#f0f921"
             ]
            ],
            "type": "heatmap"
           }
          ],
          "heatmapgl": [
           {
            "colorbar": {
             "outlinewidth": 0,
             "ticks": ""
            },
            "colorscale": [
             [
              0,
              "#0d0887"
             ],
             [
              0.1111111111111111,
              "#46039f"
             ],
             [
              0.2222222222222222,
              "#7201a8"
             ],
             [
              0.3333333333333333,
              "#9c179e"
             ],
             [
              0.4444444444444444,
              "#bd3786"
             ],
             [
              0.5555555555555556,
              "#d8576b"
             ],
             [
              0.6666666666666666,
              "#ed7953"
             ],
             [
              0.7777777777777778,
              "#fb9f3a"
             ],
             [
              0.8888888888888888,
              "#fdca26"
             ],
             [
              1,
              "#f0f921"
             ]
            ],
            "type": "heatmapgl"
           }
          ],
          "histogram": [
           {
            "marker": {
             "pattern": {
              "fillmode": "overlay",
              "size": 10,
              "solidity": 0.2
             }
            },
            "type": "histogram"
           }
          ],
          "histogram2d": [
           {
            "colorbar": {
             "outlinewidth": 0,
             "ticks": ""
            },
            "colorscale": [
             [
              0,
              "#0d0887"
             ],
             [
              0.1111111111111111,
              "#46039f"
             ],
             [
              0.2222222222222222,
              "#7201a8"
             ],
             [
              0.3333333333333333,
              "#9c179e"
             ],
             [
              0.4444444444444444,
              "#bd3786"
             ],
             [
              0.5555555555555556,
              "#d8576b"
             ],
             [
              0.6666666666666666,
              "#ed7953"
             ],
             [
              0.7777777777777778,
              "#fb9f3a"
             ],
             [
              0.8888888888888888,
              "#fdca26"
             ],
             [
              1,
              "#f0f921"
             ]
            ],
            "type": "histogram2d"
           }
          ],
          "histogram2dcontour": [
           {
            "colorbar": {
             "outlinewidth": 0,
             "ticks": ""
            },
            "colorscale": [
             [
              0,
              "#0d0887"
             ],
             [
              0.1111111111111111,
              "#46039f"
             ],
             [
              0.2222222222222222,
              "#7201a8"
             ],
             [
              0.3333333333333333,
              "#9c179e"
             ],
             [
              0.4444444444444444,
              "#bd3786"
             ],
             [
              0.5555555555555556,
              "#d8576b"
             ],
             [
              0.6666666666666666,
              "#ed7953"
             ],
             [
              0.7777777777777778,
              "#fb9f3a"
             ],
             [
              0.8888888888888888,
              "#fdca26"
             ],
             [
              1,
              "#f0f921"
             ]
            ],
            "type": "histogram2dcontour"
           }
          ],
          "mesh3d": [
           {
            "colorbar": {
             "outlinewidth": 0,
             "ticks": ""
            },
            "type": "mesh3d"
           }
          ],
          "parcoords": [
           {
            "line": {
             "colorbar": {
              "outlinewidth": 0,
              "ticks": ""
             }
            },
            "type": "parcoords"
           }
          ],
          "pie": [
           {
            "automargin": true,
            "type": "pie"
           }
          ],
          "scatter": [
           {
            "marker": {
             "colorbar": {
              "outlinewidth": 0,
              "ticks": ""
             }
            },
            "type": "scatter"
           }
          ],
          "scatter3d": [
           {
            "line": {
             "colorbar": {
              "outlinewidth": 0,
              "ticks": ""
             }
            },
            "marker": {
             "colorbar": {
              "outlinewidth": 0,
              "ticks": ""
             }
            },
            "type": "scatter3d"
           }
          ],
          "scattercarpet": [
           {
            "marker": {
             "colorbar": {
              "outlinewidth": 0,
              "ticks": ""
             }
            },
            "type": "scattercarpet"
           }
          ],
          "scattergeo": [
           {
            "marker": {
             "colorbar": {
              "outlinewidth": 0,
              "ticks": ""
             }
            },
            "type": "scattergeo"
           }
          ],
          "scattergl": [
           {
            "marker": {
             "colorbar": {
              "outlinewidth": 0,
              "ticks": ""
             }
            },
            "type": "scattergl"
           }
          ],
          "scattermapbox": [
           {
            "marker": {
             "colorbar": {
              "outlinewidth": 0,
              "ticks": ""
             }
            },
            "type": "scattermapbox"
           }
          ],
          "scatterpolar": [
           {
            "marker": {
             "colorbar": {
              "outlinewidth": 0,
              "ticks": ""
             }
            },
            "type": "scatterpolar"
           }
          ],
          "scatterpolargl": [
           {
            "marker": {
             "colorbar": {
              "outlinewidth": 0,
              "ticks": ""
             }
            },
            "type": "scatterpolargl"
           }
          ],
          "scatterternary": [
           {
            "marker": {
             "colorbar": {
              "outlinewidth": 0,
              "ticks": ""
             }
            },
            "type": "scatterternary"
           }
          ],
          "surface": [
           {
            "colorbar": {
             "outlinewidth": 0,
             "ticks": ""
            },
            "colorscale": [
             [
              0,
              "#0d0887"
             ],
             [
              0.1111111111111111,
              "#46039f"
             ],
             [
              0.2222222222222222,
              "#7201a8"
             ],
             [
              0.3333333333333333,
              "#9c179e"
             ],
             [
              0.4444444444444444,
              "#bd3786"
             ],
             [
              0.5555555555555556,
              "#d8576b"
             ],
             [
              0.6666666666666666,
              "#ed7953"
             ],
             [
              0.7777777777777778,
              "#fb9f3a"
             ],
             [
              0.8888888888888888,
              "#fdca26"
             ],
             [
              1,
              "#f0f921"
             ]
            ],
            "type": "surface"
           }
          ],
          "table": [
           {
            "cells": {
             "fill": {
              "color": "#EBF0F8"
             },
             "line": {
              "color": "white"
             }
            },
            "header": {
             "fill": {
              "color": "#C8D4E3"
             },
             "line": {
              "color": "white"
             }
            },
            "type": "table"
           }
          ]
         },
         "layout": {
          "annotationdefaults": {
           "arrowcolor": "#2a3f5f",
           "arrowhead": 0,
           "arrowwidth": 1
          },
          "autotypenumbers": "strict",
          "coloraxis": {
           "colorbar": {
            "outlinewidth": 0,
            "ticks": ""
           }
          },
          "colorscale": {
           "diverging": [
            [
             0,
             "#8e0152"
            ],
            [
             0.1,
             "#c51b7d"
            ],
            [
             0.2,
             "#de77ae"
            ],
            [
             0.3,
             "#f1b6da"
            ],
            [
             0.4,
             "#fde0ef"
            ],
            [
             0.5,
             "#f7f7f7"
            ],
            [
             0.6,
             "#e6f5d0"
            ],
            [
             0.7,
             "#b8e186"
            ],
            [
             0.8,
             "#7fbc41"
            ],
            [
             0.9,
             "#4d9221"
            ],
            [
             1,
             "#276419"
            ]
           ],
           "sequential": [
            [
             0,
             "#0d0887"
            ],
            [
             0.1111111111111111,
             "#46039f"
            ],
            [
             0.2222222222222222,
             "#7201a8"
            ],
            [
             0.3333333333333333,
             "#9c179e"
            ],
            [
             0.4444444444444444,
             "#bd3786"
            ],
            [
             0.5555555555555556,
             "#d8576b"
            ],
            [
             0.6666666666666666,
             "#ed7953"
            ],
            [
             0.7777777777777778,
             "#fb9f3a"
            ],
            [
             0.8888888888888888,
             "#fdca26"
            ],
            [
             1,
             "#f0f921"
            ]
           ],
           "sequentialminus": [
            [
             0,
             "#0d0887"
            ],
            [
             0.1111111111111111,
             "#46039f"
            ],
            [
             0.2222222222222222,
             "#7201a8"
            ],
            [
             0.3333333333333333,
             "#9c179e"
            ],
            [
             0.4444444444444444,
             "#bd3786"
            ],
            [
             0.5555555555555556,
             "#d8576b"
            ],
            [
             0.6666666666666666,
             "#ed7953"
            ],
            [
             0.7777777777777778,
             "#fb9f3a"
            ],
            [
             0.8888888888888888,
             "#fdca26"
            ],
            [
             1,
             "#f0f921"
            ]
           ]
          },
          "colorway": [
           "#636efa",
           "#EF553B",
           "#00cc96",
           "#ab63fa",
           "#FFA15A",
           "#19d3f3",
           "#FF6692",
           "#B6E880",
           "#FF97FF",
           "#FECB52"
          ],
          "font": {
           "color": "#2a3f5f"
          },
          "geo": {
           "bgcolor": "white",
           "lakecolor": "white",
           "landcolor": "#E5ECF6",
           "showlakes": true,
           "showland": true,
           "subunitcolor": "white"
          },
          "hoverlabel": {
           "align": "left"
          },
          "hovermode": "closest",
          "mapbox": {
           "style": "light"
          },
          "paper_bgcolor": "white",
          "plot_bgcolor": "#E5ECF6",
          "polar": {
           "angularaxis": {
            "gridcolor": "white",
            "linecolor": "white",
            "ticks": ""
           },
           "bgcolor": "#E5ECF6",
           "radialaxis": {
            "gridcolor": "white",
            "linecolor": "white",
            "ticks": ""
           }
          },
          "scene": {
           "xaxis": {
            "backgroundcolor": "#E5ECF6",
            "gridcolor": "white",
            "gridwidth": 2,
            "linecolor": "white",
            "showbackground": true,
            "ticks": "",
            "zerolinecolor": "white"
           },
           "yaxis": {
            "backgroundcolor": "#E5ECF6",
            "gridcolor": "white",
            "gridwidth": 2,
            "linecolor": "white",
            "showbackground": true,
            "ticks": "",
            "zerolinecolor": "white"
           },
           "zaxis": {
            "backgroundcolor": "#E5ECF6",
            "gridcolor": "white",
            "gridwidth": 2,
            "linecolor": "white",
            "showbackground": true,
            "ticks": "",
            "zerolinecolor": "white"
           }
          },
          "shapedefaults": {
           "line": {
            "color": "#2a3f5f"
           }
          },
          "ternary": {
           "aaxis": {
            "gridcolor": "white",
            "linecolor": "white",
            "ticks": ""
           },
           "baxis": {
            "gridcolor": "white",
            "linecolor": "white",
            "ticks": ""
           },
           "bgcolor": "#E5ECF6",
           "caxis": {
            "gridcolor": "white",
            "linecolor": "white",
            "ticks": ""
           }
          },
          "title": {
           "x": 0.05
          },
          "xaxis": {
           "automargin": true,
           "gridcolor": "white",
           "linecolor": "white",
           "ticks": "",
           "title": {
            "standoff": 15
           },
           "zerolinecolor": "white",
           "zerolinewidth": 2
          },
          "yaxis": {
           "automargin": true,
           "gridcolor": "white",
           "linecolor": "white",
           "ticks": "",
           "title": {
            "standoff": 15
           },
           "zerolinecolor": "white",
           "zerolinewidth": 2
          }
         }
        },
        "title": {
         "text": "Number of spikes with anomaly score above 1 vs. query tweet count"
        },
        "xaxis": {
         "anchor": "y",
         "domain": [
          0,
          1
         ],
         "title": {
          "text": "x"
         }
        },
        "yaxis": {
         "anchor": "x",
         "domain": [
          0,
          1
         ],
         "title": {
          "text": "y"
         }
        }
       }
      }
     },
     "metadata": {}
    }
   ],
   "metadata": {}
  }
 ],
 "metadata": {
  "orig_nbformat": 4,
  "language_info": {
   "name": "python",
   "version": "3.8.11",
   "mimetype": "text/x-python",
   "codemirror_mode": {
    "name": "ipython",
    "version": 3
   },
   "pygments_lexer": "ipython3",
   "nbconvert_exporter": "python",
   "file_extension": ".py"
  },
  "kernelspec": {
   "name": "python3",
   "display_name": "Python 3.8.11 64-bit ('spec-project': conda)"
  },
  "interpreter": {
   "hash": "d5626e6117a626f228c3b35b757f4e3d945537012d8c7ec5db5088829d27e251"
  }
 },
 "nbformat": 4,
 "nbformat_minor": 2
}