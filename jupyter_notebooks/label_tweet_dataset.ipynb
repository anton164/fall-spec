{
 "cells": [
  {
   "cell_type": "code",
   "execution_count": 1,
   "metadata": {},
   "outputs": [],
   "source": [
    "from notebook_utils import resolve_paths_from_parent_directory\n",
    "resolve_paths_from_parent_directory()\n",
    "# auto reload notebook deps\n",
    "%reload_ext autoreload\n",
    "%autoreload 2"
   ]
  },
  {
   "cell_type": "code",
   "execution_count": 2,
   "metadata": {},
   "outputs": [],
   "source": [
    "import json\n",
    "import pandas as pd\n",
    "\n",
    "DATASETS = {\n",
    "    \"CentralParkNYC\": {\n",
    "        \"input_location\": \"../data/tweet_objects/CentralParkNYC/2021-01-27-2021-02-06.json\",\n",
    "        \"output_location\": \"../data/labeled_datasets/CentralParkNYC-2021-01-27-2021-02-06.json\",\n",
    "        \"spike_start\": \"Feb 1, 2021, 17:00\",\n",
    "        \"spike_end\": \"Feb 3, 2021, 04:00\",\n",
    "    },\n",
    "    \"united\": {\n",
    "        \"input_location\": \"../data/tweet_objects/united/2020-12-05-2020-12-15.json\",\n",
    "        \"output_location\": \"../data/labeled_datasets/united-2020-12-05-2020-12-15.json\",\n",
    "        \"spike_start\": \"Dec 12, 2020, 05:00\",\n",
    "        \"spike_end\": \"Dec 13, 2020, 06:00\",\n",
    "    },\n",
    "    \"nationalGridUS\": {\n",
    "        \"input_location\": \"../data/tweet_objects/nationalGridUS/2020-10-01-2020-10-12.json\",\n",
    "        \"output_location\": \"../data/labeled_datasets/nationalGridUS-2020-10-01-2020-10-12.json\",\n",
    "        \"spike_start\": \"Oct 7, 2020, 17:00\",\n",
    "        \"spike_end\": \"Oct 9, 2020, 04:00\",\n",
    "    },\n",
    "    \"soccer_gareth_bale\": {\n",
    "        \"input_location\": \"../data/tweet_objects/soccer_gareth_bale/2021-01-01-2021-04-01.json\",\n",
    "        \"output_location\": \"../data/labeled_datasets/soccer_gareth_bale.json\",\n",
    "        \"spike_start\": \"Oct 7, 2020, 17:00\",\n",
    "        \"spike_end\": \"Oct 9, 2020, 04:00\",\n",
    "    },\n",
    "    \"soccer_raphael_varane\": {\n",
    "        \"input_location\": \"../data/tweet_objects/soccer_raphael_varane/2021-01-01-2021-04-01.json\",\n",
    "        \"output_location\": \"../data/labeled_datasets/soccer_raphael_varane.json\",\n",
    "        \"spike_start\": \"Oct 7, 2020, 17:00\",\n",
    "        \"spike_end\": \"Oct 9, 2020, 04:00\",\n",
    "    },\n",
    "    \"celebrity_martin_garrix\": {\n",
    "        \"input_location\": \"../data/tweet_objects/celebrity_martin_garrix/2021-01-01-2021-04-01.json\",\n",
    "        \"output_location\": \"../data/labeled_datasets/celebrity_martin_garrix.json\",\n",
    "        \"spike_start\": \"Oct 7, 2020, 17:00\",\n",
    "        \"spike_end\": \"Oct 9, 2020, 04:00\",\n",
    "    },\n",
    "    \"celebrity_jk_rowling\": {\n",
    "        \"input_location\": \"../data/tweet_objects/celebrity_jk_rowling/2021-01-01-2021-04-01.json\",\n",
    "        \"output_location\": \"../data/labeled_datasets/celebrity_jk_rowling.json\",\n",
    "        \"spike_start\": \"Oct 7, 2020, 17:00\",\n",
    "        \"spike_end\": \"Oct 9, 2020, 04:00\",\n",
    "    },\n",
    "    \"voterfraud2020\": {\n",
    "        \"input_location\": \"../data/voterfraud2020/processed/df_sample.json\",\n",
    "        \"output_location\": \"../data/labeled_datasets/voterfraud2020_sample.json\",\n",
    "        \"spike_start\": \"Oct 7, 2020, 17:00\",\n",
    "        \"spike_end\": \"Oct 9, 2020, 04:00\",\n",
    "    },\n",
    "    \"celebrity_jerry_seinfeld\": {\n",
    "        \"input_location\": \"../data/tweet_objects/celebrity_jerry_seinfeld/2021-01-01-2021-04-01.json\",\n",
    "        \"output_location\": \"../data/labeled_datasets/celebrity_jerry_seinfeld.json\",\n",
    "        \"spike_start\": \"Oct 7, 2020, 17:00\",\n",
    "        \"spike_end\": \"Oct 9, 2020, 04:00\",\n",
    "    },\n",
    "    \"celebrity_akon\": {\n",
    "        \"input_location\": \"../data/tweet_objects/celebrity_akon/2021-01-01-2021-04-01.json\",\n",
    "        \"output_location\": \"../data/labeled_datasets/celebrity_akon.json\",\n",
    "        \"spike_start\": \"Oct 7, 2020, 17:00\",\n",
    "        \"spike_end\": \"Oct 9, 2020, 04:00\",\n",
    "    },\n",
    "    \"soccer_alan_shearer\": {\n",
    "        \"input_location\": \"../data/tweet_objects/soccer_alan_shearer/2021-01-01-2021-04-01.json\",\n",
    "        \"output_location\": \"../data/labeled_datasets/soccer_alan_shearer.json\",\n",
    "        \"spike_start\": \"Oct 7, 2020, 17:00\",\n",
    "        \"spike_end\": \"Oct 9, 2020, 04:00\",\n",
    "    },\n",
    "    \"soccer_rioferdy5\": {\n",
    "        \"input_location\": \"../data/tweet_objects/celebrity_soccer_rioferdy5/2021-01-01-2021-02-15.json\",\n",
    "        \"output_location\": \"../data/labeled_datasets/soccer_rioferdy5.json\",\n",
    "        \"spike_start\": \"Oct 7, 2020, 17:00\",\n",
    "        \"spike_end\": \"Oct 9, 2020, 04:00\",\n",
    "    }\n",
    "}\n",
    "\n",
    "selected_dataset = DATASETS[\"soccer_rioferdy5\"]\n",
    "labeled_spike_start = pd.to_datetime(selected_dataset[\"spike_start\"]).tz_localize(\"UTC\")\n",
    "labeled_spike_end = pd.to_datetime(selected_dataset[\"spike_end\"]).tz_localize(\"UTC\")"
   ]
  },
  {
   "cell_type": "code",
   "execution_count": 3,
   "metadata": {},
   "outputs": [
    {
     "data": {
      "text/html": [
       "<div>\n",
       "<style scoped>\n",
       "    .dataframe tbody tr th:only-of-type {\n",
       "        vertical-align: middle;\n",
       "    }\n",
       "\n",
       "    .dataframe tbody tr th {\n",
       "        vertical-align: top;\n",
       "    }\n",
       "\n",
       "    .dataframe thead th {\n",
       "        text-align: right;\n",
       "    }\n",
       "</style>\n",
       "<table border=\"1\" class=\"dataframe\">\n",
       "  <thead>\n",
       "    <tr style=\"text-align: right;\">\n",
       "      <th></th>\n",
       "      <th>id</th>\n",
       "      <th>text</th>\n",
       "      <th>created_at</th>\n",
       "      <th>hashtags</th>\n",
       "      <th>mentions</th>\n",
       "      <th>in_reply_to_user_id</th>\n",
       "      <th>user_id</th>\n",
       "      <th>retweet_count</th>\n",
       "      <th>quote_count</th>\n",
       "      <th>reply_count</th>\n",
       "      <th>like_count</th>\n",
       "      <th>replied_to</th>\n",
       "      <th>retweeted</th>\n",
       "      <th>quoted</th>\n",
       "      <th>is_anomaly</th>\n",
       "    </tr>\n",
       "  </thead>\n",
       "  <tbody>\n",
       "    <tr>\n",
       "      <th>144254</th>\n",
       "      <td>1345285636090163202</td>\n",
       "      <td>@EdHaytam @rioferdy5 @ManUtd No that's your ma...</td>\n",
       "      <td>2021-01-02 08:27:44+00:00</td>\n",
       "      <td>[]</td>\n",
       "      <td>[rioferdy5, manutd]</td>\n",
       "      <td>1272199811899539462</td>\n",
       "      <td>945311776425611264</td>\n",
       "      <td>0</td>\n",
       "      <td>0</td>\n",
       "      <td>0</td>\n",
       "      <td>0</td>\n",
       "      <td>1345127589141237763</td>\n",
       "      <td>NaN</td>\n",
       "      <td>NaN</td>\n",
       "      <td>0</td>\n",
       "    </tr>\n",
       "    <tr>\n",
       "      <th>144253</th>\n",
       "      <td>1345285645191835648</td>\n",
       "      <td>@rioferdy5 @ManUtd This will be gold in a coup...</td>\n",
       "      <td>2021-01-02 08:27:46+00:00</td>\n",
       "      <td>[]</td>\n",
       "      <td>[rioferdy5, manutd]</td>\n",
       "      <td>155927976</td>\n",
       "      <td>92084834</td>\n",
       "      <td>0</td>\n",
       "      <td>0</td>\n",
       "      <td>0</td>\n",
       "      <td>0</td>\n",
       "      <td>1345127322278621184</td>\n",
       "      <td>NaN</td>\n",
       "      <td>NaN</td>\n",
       "      <td>0</td>\n",
       "    </tr>\n",
       "    <tr>\n",
       "      <th>144252</th>\n",
       "      <td>1345285698761486336</td>\n",
       "      <td>RT @rioferdy5: Welcome to 2️⃣0️⃣2️⃣1️⃣\\nHappy ...</td>\n",
       "      <td>2021-01-02 08:27:59+00:00</td>\n",
       "      <td>[]</td>\n",
       "      <td>[rioferdy5]</td>\n",
       "      <td>None</td>\n",
       "      <td>1344173235970191361</td>\n",
       "      <td>0</td>\n",
       "      <td>0</td>\n",
       "      <td>0</td>\n",
       "      <td>0</td>\n",
       "      <td>NaN</td>\n",
       "      <td>1345127322278621184</td>\n",
       "      <td>NaN</td>\n",
       "      <td>0</td>\n",
       "    </tr>\n",
       "    <tr>\n",
       "      <th>144251</th>\n",
       "      <td>1345285706361540608</td>\n",
       "      <td>RT @rioferdy5: Welcome to 2️⃣0️⃣2️⃣1️⃣\\nHappy ...</td>\n",
       "      <td>2021-01-02 08:28:01+00:00</td>\n",
       "      <td>[]</td>\n",
       "      <td>[rioferdy5]</td>\n",
       "      <td>None</td>\n",
       "      <td>442390383</td>\n",
       "      <td>0</td>\n",
       "      <td>0</td>\n",
       "      <td>0</td>\n",
       "      <td>0</td>\n",
       "      <td>NaN</td>\n",
       "      <td>1345127322278621184</td>\n",
       "      <td>NaN</td>\n",
       "      <td>0</td>\n",
       "    </tr>\n",
       "    <tr>\n",
       "      <th>144250</th>\n",
       "      <td>1345285806752231424</td>\n",
       "      <td>@Footie888 @rioferdy5 @ManUtd Also, breaking n...</td>\n",
       "      <td>2021-01-02 08:28:25+00:00</td>\n",
       "      <td>[]</td>\n",
       "      <td>[footie888, rioferdy5, manutd]</td>\n",
       "      <td>2304928413</td>\n",
       "      <td>22637245</td>\n",
       "      <td>0</td>\n",
       "      <td>0</td>\n",
       "      <td>0</td>\n",
       "      <td>0</td>\n",
       "      <td>1345221197722755073</td>\n",
       "      <td>NaN</td>\n",
       "      <td>NaN</td>\n",
       "      <td>0</td>\n",
       "    </tr>\n",
       "  </tbody>\n",
       "</table>\n",
       "</div>"
      ],
      "text/plain": [
       "                         id  \\\n",
       "144254  1345285636090163202   \n",
       "144253  1345285645191835648   \n",
       "144252  1345285698761486336   \n",
       "144251  1345285706361540608   \n",
       "144250  1345285806752231424   \n",
       "\n",
       "                                                     text  \\\n",
       "144254  @EdHaytam @rioferdy5 @ManUtd No that's your ma...   \n",
       "144253  @rioferdy5 @ManUtd This will be gold in a coup...   \n",
       "144252  RT @rioferdy5: Welcome to 2️⃣0️⃣2️⃣1️⃣\\nHappy ...   \n",
       "144251  RT @rioferdy5: Welcome to 2️⃣0️⃣2️⃣1️⃣\\nHappy ...   \n",
       "144250  @Footie888 @rioferdy5 @ManUtd Also, breaking n...   \n",
       "\n",
       "                      created_at hashtags                        mentions  \\\n",
       "144254 2021-01-02 08:27:44+00:00       []             [rioferdy5, manutd]   \n",
       "144253 2021-01-02 08:27:46+00:00       []             [rioferdy5, manutd]   \n",
       "144252 2021-01-02 08:27:59+00:00       []                     [rioferdy5]   \n",
       "144251 2021-01-02 08:28:01+00:00       []                     [rioferdy5]   \n",
       "144250 2021-01-02 08:28:25+00:00       []  [footie888, rioferdy5, manutd]   \n",
       "\n",
       "        in_reply_to_user_id              user_id  retweet_count  quote_count  \\\n",
       "144254  1272199811899539462   945311776425611264              0            0   \n",
       "144253            155927976             92084834              0            0   \n",
       "144252                 None  1344173235970191361              0            0   \n",
       "144251                 None            442390383              0            0   \n",
       "144250           2304928413             22637245              0            0   \n",
       "\n",
       "        reply_count  like_count           replied_to            retweeted  \\\n",
       "144254            0           0  1345127589141237763                  NaN   \n",
       "144253            0           0  1345127322278621184                  NaN   \n",
       "144252            0           0                  NaN  1345127322278621184   \n",
       "144251            0           0                  NaN  1345127322278621184   \n",
       "144250            0           0  1345221197722755073                  NaN   \n",
       "\n",
       "       quoted  is_anomaly  \n",
       "144254    NaN           0  \n",
       "144253    NaN           0  \n",
       "144252    NaN           0  \n",
       "144251    NaN           0  \n",
       "144250    NaN           0  "
      ]
     },
     "execution_count": 3,
     "metadata": {},
     "output_type": "execute_result"
    }
   ],
   "source": [
    "from utils.dataset import create_tweet_df\n",
    "\n",
    "if \"voterfraud2020\" in selected_dataset[\"input_location\"]:\n",
    "    df_tweets = pd.read_json(selected_dataset[\"input_location\"])\n",
    "    df_tweets[\"created_at\"] = pd.to_datetime(df_tweets[\"created_at\"]).dt.tz_localize(\"UTC\")\n",
    "    df_tweets.sort_values(\"created_at\", inplace=True)\n",
    "else:\n",
    "    with open(selected_dataset[\"input_location\"], \"r\") as f:\n",
    "        raw_dataset = json.load(f)\n",
    "\n",
    "    df_tweets = create_tweet_df(raw_dataset[\"tweets\"])\n",
    "\n",
    "# lower entities\n",
    "df_tweets[\"hashtags\"] = df_tweets.hashtags.apply(lambda xs: [x.lower() for x in xs])\n",
    "df_tweets[\"mentions\"] = df_tweets.mentions.apply(lambda xs: [x.lower() for x in xs])\n",
    "\n",
    "# Set retweet count 0 for retweets\n",
    "df_tweets[\"retweet_count\"] = df_tweets.apply(\n",
    "    lambda x: x.retweet_count if x.retweeted is None else 0, \n",
    "    axis=1\n",
    ")\n",
    "\n",
    "# Label tweets\n",
    "df_tweets[\"is_anomaly\"] = df_tweets.created_at.apply(\n",
    "    lambda x: 0 if (x < labeled_spike_start or x > labeled_spike_end) else 1\n",
    ")\n",
    "\n",
    "df_tweets.head()"
   ]
  },
  {
   "cell_type": "code",
   "execution_count": 4,
   "metadata": {},
   "outputs": [
    {
     "data": {
      "text/html": [
       "<div>\n",
       "<style scoped>\n",
       "    .dataframe tbody tr th:only-of-type {\n",
       "        vertical-align: middle;\n",
       "    }\n",
       "\n",
       "    .dataframe tbody tr th {\n",
       "        vertical-align: top;\n",
       "    }\n",
       "\n",
       "    .dataframe thead th {\n",
       "        text-align: right;\n",
       "    }\n",
       "</style>\n",
       "<table border=\"1\" class=\"dataframe\">\n",
       "  <thead>\n",
       "    <tr style=\"text-align: right;\">\n",
       "      <th></th>\n",
       "      <th>value</th>\n",
       "      <th>count</th>\n",
       "      <th>pct</th>\n",
       "    </tr>\n",
       "  </thead>\n",
       "  <tbody>\n",
       "    <tr>\n",
       "      <th>4</th>\n",
       "      <td>mufc</td>\n",
       "      <td>5195</td>\n",
       "      <td>0.036013</td>\n",
       "    </tr>\n",
       "    <tr>\n",
       "      <th>1210</th>\n",
       "      <td>flowersofmanchester</td>\n",
       "      <td>3780</td>\n",
       "      <td>0.026204</td>\n",
       "    </tr>\n",
       "    <tr>\n",
       "      <th>68</th>\n",
       "      <td>lfc</td>\n",
       "      <td>2165</td>\n",
       "      <td>0.015008</td>\n",
       "    </tr>\n",
       "    <tr>\n",
       "      <th>97</th>\n",
       "      <td>arsenal</td>\n",
       "      <td>1986</td>\n",
       "      <td>0.013767</td>\n",
       "    </tr>\n",
       "    <tr>\n",
       "      <th>721</th>\n",
       "      <td>munshu</td>\n",
       "      <td>1103</td>\n",
       "      <td>0.007646</td>\n",
       "    </tr>\n",
       "    <tr>\n",
       "      <th>60</th>\n",
       "      <td>facts</td>\n",
       "      <td>823</td>\n",
       "      <td>0.005705</td>\n",
       "    </tr>\n",
       "    <tr>\n",
       "      <th>482</th>\n",
       "      <td>munliv</td>\n",
       "      <td>762</td>\n",
       "      <td>0.005282</td>\n",
       "    </tr>\n",
       "    <tr>\n",
       "      <th>368</th>\n",
       "      <td>emiratesfacup</td>\n",
       "      <td>755</td>\n",
       "      <td>0.005234</td>\n",
       "    </tr>\n",
       "    <tr>\n",
       "      <th>341</th>\n",
       "      <td>livmun</td>\n",
       "      <td>382</td>\n",
       "      <td>0.002648</td>\n",
       "    </tr>\n",
       "    <tr>\n",
       "      <th>559</th>\n",
       "      <td>mulive</td>\n",
       "      <td>365</td>\n",
       "      <td>0.002530</td>\n",
       "    </tr>\n",
       "    <tr>\n",
       "      <th>1214</th>\n",
       "      <td>indveng</td>\n",
       "      <td>221</td>\n",
       "      <td>0.001532</td>\n",
       "    </tr>\n",
       "    <tr>\n",
       "      <th>121</th>\n",
       "      <td>liverpool</td>\n",
       "      <td>220</td>\n",
       "      <td>0.001525</td>\n",
       "    </tr>\n",
       "    <tr>\n",
       "      <th>366</th>\n",
       "      <td>pogback</td>\n",
       "      <td>186</td>\n",
       "      <td>0.001289</td>\n",
       "    </tr>\n",
       "    <tr>\n",
       "      <th>299</th>\n",
       "      <td>toty</td>\n",
       "      <td>147</td>\n",
       "      <td>0.001019</td>\n",
       "    </tr>\n",
       "    <tr>\n",
       "      <th>267</th>\n",
       "      <td>fifa21</td>\n",
       "      <td>133</td>\n",
       "      <td>0.000922</td>\n",
       "    </tr>\n",
       "    <tr>\n",
       "      <th>293</th>\n",
       "      <td>fut</td>\n",
       "      <td>129</td>\n",
       "      <td>0.000894</td>\n",
       "    </tr>\n",
       "    <tr>\n",
       "      <th>1010</th>\n",
       "      <td>vibewithfive</td>\n",
       "      <td>113</td>\n",
       "      <td>0.000783</td>\n",
       "    </tr>\n",
       "    <tr>\n",
       "      <th>686</th>\n",
       "      <td>cfc</td>\n",
       "      <td>105</td>\n",
       "      <td>0.000728</td>\n",
       "    </tr>\n",
       "    <tr>\n",
       "      <th>72</th>\n",
       "      <td>ggmu</td>\n",
       "      <td>101</td>\n",
       "      <td>0.000700</td>\n",
       "    </tr>\n",
       "    <tr>\n",
       "      <th>982</th>\n",
       "      <td>myanmar</td>\n",
       "      <td>96</td>\n",
       "      <td>0.000665</td>\n",
       "    </tr>\n",
       "  </tbody>\n",
       "</table>\n",
       "</div>"
      ],
      "text/plain": [
       "                    value  count       pct\n",
       "4                    mufc   5195  0.036013\n",
       "1210  flowersofmanchester   3780  0.026204\n",
       "68                    lfc   2165  0.015008\n",
       "97                arsenal   1986  0.013767\n",
       "721                munshu   1103  0.007646\n",
       "60                  facts    823  0.005705\n",
       "482                munliv    762  0.005282\n",
       "368         emiratesfacup    755  0.005234\n",
       "341                livmun    382  0.002648\n",
       "559                mulive    365  0.002530\n",
       "1214              indveng    221  0.001532\n",
       "121             liverpool    220  0.001525\n",
       "366               pogback    186  0.001289\n",
       "299                  toty    147  0.001019\n",
       "267                fifa21    133  0.000922\n",
       "293                   fut    129  0.000894\n",
       "1010         vibewithfive    113  0.000783\n",
       "686                   cfc    105  0.000728\n",
       "72                   ggmu    101  0.000700\n",
       "982               myanmar     96  0.000665"
      ]
     },
     "execution_count": 4,
     "metadata": {},
     "output_type": "execute_result"
    }
   ],
   "source": [
    "## Create timeseries from tweets\n",
    "from utils.dataset import count_array_column\n",
    "\n",
    "df_top_hashtags = count_array_column(df_tweets[\"hashtags\"])\n",
    "df_top_mentions = count_array_column(df_tweets[\"mentions\"])\n",
    "\n",
    "df_top_hashtags[:20]"
   ]
  },
  {
   "cell_type": "code",
   "execution_count": 5,
   "metadata": {},
   "outputs": [
    {
     "data": {
      "text/html": [
       "<div>\n",
       "<style scoped>\n",
       "    .dataframe tbody tr th:only-of-type {\n",
       "        vertical-align: middle;\n",
       "    }\n",
       "\n",
       "    .dataframe tbody tr th {\n",
       "        vertical-align: top;\n",
       "    }\n",
       "\n",
       "    .dataframe thead th {\n",
       "        text-align: right;\n",
       "    }\n",
       "</style>\n",
       "<table border=\"1\" class=\"dataframe\">\n",
       "  <thead>\n",
       "    <tr style=\"text-align: right;\">\n",
       "      <th></th>\n",
       "      <th>total_count</th>\n",
       "      <th>is_anomaly</th>\n",
       "      <th>retweet_count</th>\n",
       "      <th>quote_count</th>\n",
       "      <th>top1_hashtag_count</th>\n",
       "      <th>top2_hashtag_count</th>\n",
       "      <th>top3_hashtag_count</th>\n",
       "      <th>top1_mention_count</th>\n",
       "      <th>top2_mention_count</th>\n",
       "      <th>top3_mention_count</th>\n",
       "    </tr>\n",
       "    <tr>\n",
       "      <th>created_at</th>\n",
       "      <th></th>\n",
       "      <th></th>\n",
       "      <th></th>\n",
       "      <th></th>\n",
       "      <th></th>\n",
       "      <th></th>\n",
       "      <th></th>\n",
       "      <th></th>\n",
       "      <th></th>\n",
       "      <th></th>\n",
       "    </tr>\n",
       "  </thead>\n",
       "  <tbody>\n",
       "    <tr>\n",
       "      <th>2021-01-02 09:00:00+00:00</th>\n",
       "      <td>142</td>\n",
       "      <td>False</td>\n",
       "      <td>107</td>\n",
       "      <td>0</td>\n",
       "      <td>0</td>\n",
       "      <td>0</td>\n",
       "      <td>0</td>\n",
       "      <td>142</td>\n",
       "      <td>0</td>\n",
       "      <td>0</td>\n",
       "    </tr>\n",
       "    <tr>\n",
       "      <th>2021-01-02 14:00:00+00:00</th>\n",
       "      <td>1634</td>\n",
       "      <td>False</td>\n",
       "      <td>886</td>\n",
       "      <td>11</td>\n",
       "      <td>3</td>\n",
       "      <td>0</td>\n",
       "      <td>0</td>\n",
       "      <td>1577</td>\n",
       "      <td>0</td>\n",
       "      <td>295</td>\n",
       "    </tr>\n",
       "    <tr>\n",
       "      <th>2021-01-02 19:00:00+00:00</th>\n",
       "      <td>902</td>\n",
       "      <td>False</td>\n",
       "      <td>497</td>\n",
       "      <td>11</td>\n",
       "      <td>0</td>\n",
       "      <td>0</td>\n",
       "      <td>0</td>\n",
       "      <td>865</td>\n",
       "      <td>0</td>\n",
       "      <td>126</td>\n",
       "    </tr>\n",
       "    <tr>\n",
       "      <th>2021-01-03 00:00:00+00:00</th>\n",
       "      <td>377</td>\n",
       "      <td>False</td>\n",
       "      <td>222</td>\n",
       "      <td>4</td>\n",
       "      <td>0</td>\n",
       "      <td>0</td>\n",
       "      <td>0</td>\n",
       "      <td>368</td>\n",
       "      <td>0</td>\n",
       "      <td>37</td>\n",
       "    </tr>\n",
       "    <tr>\n",
       "      <th>2021-01-03 05:00:00+00:00</th>\n",
       "      <td>75</td>\n",
       "      <td>False</td>\n",
       "      <td>52</td>\n",
       "      <td>1</td>\n",
       "      <td>0</td>\n",
       "      <td>0</td>\n",
       "      <td>0</td>\n",
       "      <td>73</td>\n",
       "      <td>0</td>\n",
       "      <td>10</td>\n",
       "    </tr>\n",
       "  </tbody>\n",
       "</table>\n",
       "</div>"
      ],
      "text/plain": [
       "                           total_count  is_anomaly  retweet_count  \\\n",
       "created_at                                                          \n",
       "2021-01-02 09:00:00+00:00          142       False            107   \n",
       "2021-01-02 14:00:00+00:00         1634       False            886   \n",
       "2021-01-02 19:00:00+00:00          902       False            497   \n",
       "2021-01-03 00:00:00+00:00          377       False            222   \n",
       "2021-01-03 05:00:00+00:00           75       False             52   \n",
       "\n",
       "                           quote_count  top1_hashtag_count  \\\n",
       "created_at                                                   \n",
       "2021-01-02 09:00:00+00:00            0                   0   \n",
       "2021-01-02 14:00:00+00:00           11                   3   \n",
       "2021-01-02 19:00:00+00:00           11                   0   \n",
       "2021-01-03 00:00:00+00:00            4                   0   \n",
       "2021-01-03 05:00:00+00:00            1                   0   \n",
       "\n",
       "                           top2_hashtag_count  top3_hashtag_count  \\\n",
       "created_at                                                          \n",
       "2021-01-02 09:00:00+00:00                   0                   0   \n",
       "2021-01-02 14:00:00+00:00                   0                   0   \n",
       "2021-01-02 19:00:00+00:00                   0                   0   \n",
       "2021-01-03 00:00:00+00:00                   0                   0   \n",
       "2021-01-03 05:00:00+00:00                   0                   0   \n",
       "\n",
       "                           top1_mention_count  top2_mention_count  \\\n",
       "created_at                                                          \n",
       "2021-01-02 09:00:00+00:00                 142                   0   \n",
       "2021-01-02 14:00:00+00:00                1577                   0   \n",
       "2021-01-02 19:00:00+00:00                 865                   0   \n",
       "2021-01-03 00:00:00+00:00                 368                   0   \n",
       "2021-01-03 05:00:00+00:00                  73                   0   \n",
       "\n",
       "                           top3_mention_count  \n",
       "created_at                                     \n",
       "2021-01-02 09:00:00+00:00                   0  \n",
       "2021-01-02 14:00:00+00:00                 295  \n",
       "2021-01-02 19:00:00+00:00                 126  \n",
       "2021-01-03 00:00:00+00:00                  37  \n",
       "2021-01-03 05:00:00+00:00                  10  "
      ]
     },
     "execution_count": 5,
     "metadata": {},
     "output_type": "execute_result"
    }
   ],
   "source": [
    "def count_col_occurrence(df_col, value):\n",
    "    return df_col.apply(lambda values: value in values).sum()\n",
    "\n",
    "time_bucket_size = \"300Min\"\n",
    "\n",
    "df_timeseries = df_tweets.groupby(df_tweets.created_at.dt.ceil(time_bucket_size)).agg(\n",
    "    total_count=('id', 'count'), \n",
    "    is_anomaly=('is_anomaly', lambda x: x.any()),\n",
    "    retweet_count=('retweeted', lambda x: pd.notna(x).sum()),\n",
    "    quote_count=('quoted', lambda x: pd.notna(x).sum()),\n",
    "    # replied_to_count=('replied_to', lambda x: pd.notna(x).sum()),\n",
    "    top1_hashtag_count=(\n",
    "        'hashtags', \n",
    "        lambda x: count_col_occurrence(x, df_top_hashtags.iloc[0].value)\n",
    "    ),\n",
    "    top2_hashtag_count=(\n",
    "        'hashtags', \n",
    "        lambda x: count_col_occurrence(x, df_top_hashtags.iloc[1].value)\n",
    "    ),\n",
    "    top3_hashtag_count=(\n",
    "        'hashtags', \n",
    "        lambda x: count_col_occurrence(x, df_top_hashtags.iloc[2].value)\n",
    "    ),\n",
    "    top1_mention_count=(\n",
    "        'mentions', \n",
    "        lambda x: count_col_occurrence(x, df_top_mentions.iloc[0].value)\n",
    "    ),\n",
    "    top2_mention_count=(\n",
    "        'mentions', \n",
    "        lambda x: count_col_occurrence(x, df_top_mentions.iloc[1].value)\n",
    "    ),\n",
    "    top3_mention_count=(\n",
    "        'mentions', \n",
    "        lambda x: count_col_occurrence(x, df_top_mentions.iloc[2].value)\n",
    "    )\n",
    ")\n",
    "df_timeseries.head()"
   ]
  },
  {
   "cell_type": "code",
   "execution_count": 6,
   "metadata": {},
   "outputs": [],
   "source": [
    "from merlion.utils import TimeSeries\n",
    "from merlion.models.anomaly.forecast_based.prophet import ProphetDetector, ProphetDetectorConfig\n",
    "from merlion.plot import plot_anoms_plotly\n",
    "from merlion.post_process.threshold import Threshold\n",
    "\n",
    "def convert_to_merlion(df, column):\n",
    "    df = df.copy()\n",
    "    df = df[column]\n",
    "    df.index = df.index.tz_convert(None)\n",
    "    return TimeSeries.from_pd(df)\n",
    "\n",
    "def detect_anomalies(\n",
    "    df_timeseries, \n",
    "    column,\n",
    "    model=ProphetDetector(ProphetDetectorConfig(\n",
    "        threshold=Threshold(alm_threshold=0.5, abs_score=False),\n",
    "        yearly_seasonality=False,\n",
    "        weekly_seasonality=False,\n",
    "        daily_seasonality=False,\n",
    "        add_seasonality=False,\n",
    "        uncertainty_samples=500,\n",
    "    )),\n",
    "    plot=True\n",
    "):\n",
    "    train_data = convert_to_merlion(df_timeseries, column)\n",
    "    anomaly_score = model.train(train_data=train_data, anomaly_labels=None)\n",
    "    scores = model.get_anomaly_score(train_data)\n",
    "    df_scores = scores.to_pd()\n",
    "    labels_train = model.get_anomaly_label(train_data)\n",
    "\n",
    "    fig = model.plot_anomaly_plotly(\n",
    "        time_series=train_data,\n",
    "        plot_forecast=True,\n",
    "        plot_forecast_uncertainty=True\n",
    "    )\n",
    "    plot_anoms_plotly(fig, anomaly_labels=labels_train)\n",
    "    fig.show()\n",
    "\n",
    "    df_labels = labels_train.to_pd()\n",
    "    df_labels.resample(time_bucket_size).fillna(\"bfill\")\n",
    "\n",
    "    def set_anom_score(created_at):\n",
    "        lookup = created_at.tz_convert(None).ceil(time_bucket_size)\n",
    "        if lookup in df_labels.index:\n",
    "            return df_labels.loc[lookup].anom_score\n",
    "        else:\n",
    "            return 0    \n",
    "\n",
    "    ## Label df_tweets with anomaly\n",
    "    df_tweets[\"merlion_anomaly_\" + column] = df_tweets.created_at.apply(\n",
    "        set_anom_score\n",
    "    )\n",
    "    return df_scores\n",
    "\n",
    "#anomaly_scores = detect_anomalies(\n",
    "#    df_timeseries, \n",
    "#    \"total_count\"\n",
    "#)"
   ]
  },
  {
   "cell_type": "code",
   "execution_count": 7,
   "metadata": {},
   "outputs": [
    {
     "data": {
      "application/vnd.plotly.v1+json": {
       "config": {
        "plotlyServerURL": "https://plot.ly"
       },
       "data": [
        {
         "hovertemplate": "variable=total_count<br>created_at=%{x}<br>value=%{y}<extra></extra>",
         "legendgroup": "total_count",
         "line": {
          "color": "#636efa",
          "dash": "solid"
         },
         "marker": {
          "symbol": "circle"
         },
         "mode": "lines",
         "name": "total_count",
         "orientation": "v",
         "showlegend": true,
         "type": "scatter",
         "x": [
          "2021-01-02T09:00:00+00:00",
          "2021-01-02T14:00:00+00:00",
          "2021-01-02T19:00:00+00:00",
          "2021-01-03T00:00:00+00:00",
          "2021-01-03T05:00:00+00:00",
          "2021-01-03T10:00:00+00:00",
          "2021-01-03T15:00:00+00:00",
          "2021-01-03T20:00:00+00:00",
          "2021-01-04T01:00:00+00:00",
          "2021-01-04T06:00:00+00:00",
          "2021-01-04T11:00:00+00:00",
          "2021-01-04T16:00:00+00:00",
          "2021-01-04T21:00:00+00:00",
          "2021-01-05T02:00:00+00:00",
          "2021-01-05T07:00:00+00:00",
          "2021-01-05T12:00:00+00:00",
          "2021-01-05T17:00:00+00:00",
          "2021-01-05T22:00:00+00:00",
          "2021-01-06T03:00:00+00:00",
          "2021-01-06T08:00:00+00:00",
          "2021-01-06T13:00:00+00:00",
          "2021-01-06T18:00:00+00:00",
          "2021-01-06T23:00:00+00:00",
          "2021-01-07T04:00:00+00:00",
          "2021-01-07T09:00:00+00:00",
          "2021-01-07T14:00:00+00:00",
          "2021-01-07T19:00:00+00:00",
          "2021-01-08T00:00:00+00:00",
          "2021-01-08T05:00:00+00:00",
          "2021-01-08T10:00:00+00:00",
          "2021-01-08T15:00:00+00:00",
          "2021-01-08T20:00:00+00:00",
          "2021-01-09T01:00:00+00:00",
          "2021-01-09T06:00:00+00:00",
          "2021-01-09T11:00:00+00:00",
          "2021-01-09T16:00:00+00:00",
          "2021-01-09T21:00:00+00:00",
          "2021-01-10T02:00:00+00:00",
          "2021-01-10T07:00:00+00:00",
          "2021-01-10T12:00:00+00:00",
          "2021-01-10T17:00:00+00:00",
          "2021-01-10T22:00:00+00:00",
          "2021-01-11T03:00:00+00:00",
          "2021-01-11T08:00:00+00:00",
          "2021-01-11T13:00:00+00:00",
          "2021-01-11T18:00:00+00:00",
          "2021-01-11T23:00:00+00:00",
          "2021-01-12T04:00:00+00:00",
          "2021-01-12T09:00:00+00:00",
          "2021-01-12T14:00:00+00:00",
          "2021-01-12T19:00:00+00:00",
          "2021-01-13T00:00:00+00:00",
          "2021-01-13T05:00:00+00:00",
          "2021-01-13T10:00:00+00:00",
          "2021-01-13T15:00:00+00:00",
          "2021-01-13T20:00:00+00:00",
          "2021-01-14T01:00:00+00:00",
          "2021-01-14T06:00:00+00:00",
          "2021-01-14T11:00:00+00:00",
          "2021-01-14T16:00:00+00:00",
          "2021-01-14T21:00:00+00:00",
          "2021-01-15T02:00:00+00:00",
          "2021-01-15T07:00:00+00:00",
          "2021-01-15T12:00:00+00:00",
          "2021-01-15T17:00:00+00:00",
          "2021-01-15T22:00:00+00:00",
          "2021-01-16T03:00:00+00:00",
          "2021-01-16T08:00:00+00:00",
          "2021-01-16T13:00:00+00:00",
          "2021-01-16T18:00:00+00:00",
          "2021-01-16T23:00:00+00:00",
          "2021-01-17T04:00:00+00:00",
          "2021-01-17T09:00:00+00:00",
          "2021-01-17T14:00:00+00:00",
          "2021-01-17T19:00:00+00:00",
          "2021-01-18T00:00:00+00:00",
          "2021-01-18T05:00:00+00:00",
          "2021-01-18T10:00:00+00:00",
          "2021-01-18T15:00:00+00:00",
          "2021-01-18T20:00:00+00:00",
          "2021-01-19T01:00:00+00:00",
          "2021-01-19T06:00:00+00:00",
          "2021-01-19T11:00:00+00:00",
          "2021-01-19T16:00:00+00:00",
          "2021-01-19T21:00:00+00:00",
          "2021-01-20T02:00:00+00:00",
          "2021-01-20T07:00:00+00:00",
          "2021-01-20T12:00:00+00:00",
          "2021-01-20T17:00:00+00:00",
          "2021-01-20T22:00:00+00:00",
          "2021-01-21T03:00:00+00:00",
          "2021-01-21T08:00:00+00:00",
          "2021-01-21T13:00:00+00:00",
          "2021-01-21T18:00:00+00:00",
          "2021-01-21T23:00:00+00:00",
          "2021-01-22T04:00:00+00:00",
          "2021-01-22T09:00:00+00:00",
          "2021-01-22T14:00:00+00:00",
          "2021-01-22T19:00:00+00:00",
          "2021-01-23T00:00:00+00:00",
          "2021-01-23T05:00:00+00:00",
          "2021-01-23T10:00:00+00:00",
          "2021-01-23T15:00:00+00:00",
          "2021-01-23T20:00:00+00:00",
          "2021-01-24T01:00:00+00:00",
          "2021-01-24T06:00:00+00:00",
          "2021-01-24T11:00:00+00:00",
          "2021-01-24T16:00:00+00:00",
          "2021-01-24T21:00:00+00:00",
          "2021-01-25T02:00:00+00:00",
          "2021-01-25T07:00:00+00:00",
          "2021-01-25T12:00:00+00:00",
          "2021-01-25T17:00:00+00:00",
          "2021-01-25T22:00:00+00:00",
          "2021-01-26T03:00:00+00:00",
          "2021-01-26T08:00:00+00:00",
          "2021-01-26T13:00:00+00:00",
          "2021-01-26T18:00:00+00:00",
          "2021-01-26T23:00:00+00:00",
          "2021-01-27T04:00:00+00:00",
          "2021-01-27T09:00:00+00:00",
          "2021-01-27T14:00:00+00:00",
          "2021-01-27T19:00:00+00:00",
          "2021-01-28T00:00:00+00:00",
          "2021-01-28T05:00:00+00:00",
          "2021-01-28T10:00:00+00:00",
          "2021-01-28T15:00:00+00:00",
          "2021-01-28T20:00:00+00:00",
          "2021-01-29T01:00:00+00:00",
          "2021-01-29T06:00:00+00:00",
          "2021-01-29T11:00:00+00:00",
          "2021-01-29T16:00:00+00:00",
          "2021-01-29T21:00:00+00:00",
          "2021-01-30T02:00:00+00:00",
          "2021-01-30T07:00:00+00:00",
          "2021-01-30T12:00:00+00:00",
          "2021-01-30T17:00:00+00:00",
          "2021-01-30T22:00:00+00:00",
          "2021-01-31T03:00:00+00:00",
          "2021-01-31T08:00:00+00:00",
          "2021-01-31T13:00:00+00:00",
          "2021-01-31T18:00:00+00:00",
          "2021-01-31T23:00:00+00:00",
          "2021-02-01T04:00:00+00:00",
          "2021-02-01T09:00:00+00:00",
          "2021-02-01T14:00:00+00:00",
          "2021-02-01T19:00:00+00:00",
          "2021-02-02T00:00:00+00:00",
          "2021-02-02T05:00:00+00:00",
          "2021-02-02T10:00:00+00:00",
          "2021-02-02T15:00:00+00:00",
          "2021-02-02T20:00:00+00:00",
          "2021-02-03T01:00:00+00:00",
          "2021-02-03T06:00:00+00:00",
          "2021-02-03T11:00:00+00:00",
          "2021-02-03T16:00:00+00:00",
          "2021-02-03T21:00:00+00:00",
          "2021-02-04T02:00:00+00:00",
          "2021-02-04T07:00:00+00:00",
          "2021-02-04T12:00:00+00:00",
          "2021-02-04T17:00:00+00:00",
          "2021-02-04T22:00:00+00:00",
          "2021-02-05T03:00:00+00:00",
          "2021-02-05T08:00:00+00:00",
          "2021-02-05T13:00:00+00:00",
          "2021-02-05T18:00:00+00:00",
          "2021-02-05T23:00:00+00:00",
          "2021-02-06T04:00:00+00:00",
          "2021-02-06T09:00:00+00:00",
          "2021-02-06T14:00:00+00:00",
          "2021-02-06T19:00:00+00:00",
          "2021-02-07T00:00:00+00:00",
          "2021-02-07T05:00:00+00:00",
          "2021-02-07T10:00:00+00:00",
          "2021-02-07T15:00:00+00:00",
          "2021-02-07T20:00:00+00:00",
          "2021-02-08T01:00:00+00:00",
          "2021-02-08T06:00:00+00:00",
          "2021-02-08T11:00:00+00:00",
          "2021-02-08T16:00:00+00:00",
          "2021-02-08T21:00:00+00:00",
          "2021-02-09T02:00:00+00:00",
          "2021-02-09T07:00:00+00:00",
          "2021-02-09T12:00:00+00:00",
          "2021-02-09T17:00:00+00:00",
          "2021-02-09T22:00:00+00:00",
          "2021-02-10T03:00:00+00:00",
          "2021-02-10T08:00:00+00:00",
          "2021-02-10T13:00:00+00:00",
          "2021-02-10T18:00:00+00:00",
          "2021-02-10T23:00:00+00:00",
          "2021-02-11T04:00:00+00:00",
          "2021-02-11T09:00:00+00:00",
          "2021-02-11T14:00:00+00:00",
          "2021-02-11T19:00:00+00:00",
          "2021-02-12T00:00:00+00:00",
          "2021-02-12T05:00:00+00:00",
          "2021-02-12T10:00:00+00:00",
          "2021-02-12T15:00:00+00:00",
          "2021-02-12T20:00:00+00:00",
          "2021-02-13T01:00:00+00:00",
          "2021-02-13T06:00:00+00:00",
          "2021-02-13T11:00:00+00:00",
          "2021-02-13T16:00:00+00:00",
          "2021-02-13T21:00:00+00:00",
          "2021-02-14T02:00:00+00:00",
          "2021-02-14T07:00:00+00:00",
          "2021-02-14T12:00:00+00:00",
          "2021-02-14T17:00:00+00:00",
          "2021-02-14T22:00:00+00:00",
          "2021-02-15T03:00:00+00:00",
          "2021-02-15T08:00:00+00:00",
          "2021-02-15T13:00:00+00:00",
          "2021-02-15T18:00:00+00:00",
          "2021-02-15T23:00:00+00:00",
          "2021-02-16T04:00:00+00:00"
         ],
         "xaxis": "x",
         "y": [
          142,
          1634,
          902,
          377,
          75,
          104,
          143,
          126,
          42,
          16,
          33,
          146,
          701,
          4694,
          504,
          521,
          350,
          190,
          46,
          19,
          67,
          101,
          2657,
          370,
          203,
          148,
          94,
          62,
          6,
          23,
          30,
          22,
          26,
          4,
          25,
          182,
          356,
          721,
          152,
          268,
          286,
          197,
          52,
          35,
          29,
          275,
          367,
          75,
          56,
          129,
          281,
          4245,
          334,
          1536,
          915,
          371,
          320,
          53,
          75,
          364,
          558,
          281,
          85,
          172,
          1572,
          1117,
          333,
          161,
          3824,
          2830,
          1063,
          572,
          345,
          2317,
          1157,
          367,
          64,
          106,
          92,
          675,
          108,
          25,
          91,
          43,
          68,
          25,
          10,
          93,
          78,
          2014,
          1817,
          449,
          684,
          369,
          353,
          63,
          844,
          863,
          207,
          125,
          37,
          30,
          48,
          90,
          45,
          9,
          15,
          47,
          6393,
          1151,
          405,
          463,
          189,
          499,
          116,
          31,
          38,
          69,
          963,
          154,
          169,
          437,
          1527,
          6693,
          1165,
          1487,
          10498,
          3132,
          1638,
          419,
          661,
          391,
          214,
          101,
          36,
          392,
          1293,
          4949,
          637,
          413,
          541,
          469,
          131,
          38,
          44,
          65,
          238,
          174,
          26,
          40,
          55,
          160,
          1340,
          479,
          563,
          274,
          89,
          2634,
          562,
          590,
          382,
          230,
          433,
          61,
          139,
          7397,
          3603,
          1458,
          1078,
          3701,
          1327,
          697,
          157,
          175,
          589,
          1544,
          805,
          214,
          307,
          144,
          178,
          70,
          22,
          65,
          88,
          788,
          251,
          91,
          158,
          79,
          75,
          63,
          125,
          163,
          88,
          63,
          50,
          93,
          76,
          31,
          32,
          4,
          15,
          1059,
          321,
          90,
          15,
          54,
          938,
          2156,
          430,
          324,
          540,
          362,
          2632,
          372
         ],
         "yaxis": "y"
        }
       ],
       "layout": {
        "legend": {
         "title": {
          "text": "variable"
         },
         "tracegroupgap": 0
        },
        "margin": {
         "t": 60
        },
        "template": {
         "data": {
          "bar": [
           {
            "error_x": {
             "color": "#2a3f5f"
            },
            "error_y": {
             "color": "#2a3f5f"
            },
            "marker": {
             "line": {
              "color": "#E5ECF6",
              "width": 0.5
             },
             "pattern": {
              "fillmode": "overlay",
              "size": 10,
              "solidity": 0.2
             }
            },
            "type": "bar"
           }
          ],
          "barpolar": [
           {
            "marker": {
             "line": {
              "color": "#E5ECF6",
              "width": 0.5
             },
             "pattern": {
              "fillmode": "overlay",
              "size": 10,
              "solidity": 0.2
             }
            },
            "type": "barpolar"
           }
          ],
          "carpet": [
           {
            "aaxis": {
             "endlinecolor": "#2a3f5f",
             "gridcolor": "white",
             "linecolor": "white",
             "minorgridcolor": "white",
             "startlinecolor": "#2a3f5f"
            },
            "baxis": {
             "endlinecolor": "#2a3f5f",
             "gridcolor": "white",
             "linecolor": "white",
             "minorgridcolor": "white",
             "startlinecolor": "#2a3f5f"
            },
            "type": "carpet"
           }
          ],
          "choropleth": [
           {
            "colorbar": {
             "outlinewidth": 0,
             "ticks": ""
            },
            "type": "choropleth"
           }
          ],
          "contour": [
           {
            "colorbar": {
             "outlinewidth": 0,
             "ticks": ""
            },
            "colorscale": [
             [
              0,
              "#0d0887"
             ],
             [
              0.1111111111111111,
              "#46039f"
             ],
             [
              0.2222222222222222,
              "#7201a8"
             ],
             [
              0.3333333333333333,
              "#9c179e"
             ],
             [
              0.4444444444444444,
              "#bd3786"
             ],
             [
              0.5555555555555556,
              "#d8576b"
             ],
             [
              0.6666666666666666,
              "#ed7953"
             ],
             [
              0.7777777777777778,
              "#fb9f3a"
             ],
             [
              0.8888888888888888,
              "#fdca26"
             ],
             [
              1,
              "#f0f921"
             ]
            ],
            "type": "contour"
           }
          ],
          "contourcarpet": [
           {
            "colorbar": {
             "outlinewidth": 0,
             "ticks": ""
            },
            "type": "contourcarpet"
           }
          ],
          "heatmap": [
           {
            "colorbar": {
             "outlinewidth": 0,
             "ticks": ""
            },
            "colorscale": [
             [
              0,
              "#0d0887"
             ],
             [
              0.1111111111111111,
              "#46039f"
             ],
             [
              0.2222222222222222,
              "#7201a8"
             ],
             [
              0.3333333333333333,
              "#9c179e"
             ],
             [
              0.4444444444444444,
              "#bd3786"
             ],
             [
              0.5555555555555556,
              "#d8576b"
             ],
             [
              0.6666666666666666,
              "#ed7953"
             ],
             [
              0.7777777777777778,
              "#fb9f3a"
             ],
             [
              0.8888888888888888,
              "#fdca26"
             ],
             [
              1,
              "#f0f921"
             ]
            ],
            "type": "heatmap"
           }
          ],
          "heatmapgl": [
           {
            "colorbar": {
             "outlinewidth": 0,
             "ticks": ""
            },
            "colorscale": [
             [
              0,
              "#0d0887"
             ],
             [
              0.1111111111111111,
              "#46039f"
             ],
             [
              0.2222222222222222,
              "#7201a8"
             ],
             [
              0.3333333333333333,
              "#9c179e"
             ],
             [
              0.4444444444444444,
              "#bd3786"
             ],
             [
              0.5555555555555556,
              "#d8576b"
             ],
             [
              0.6666666666666666,
              "#ed7953"
             ],
             [
              0.7777777777777778,
              "#fb9f3a"
             ],
             [
              0.8888888888888888,
              "#fdca26"
             ],
             [
              1,
              "#f0f921"
             ]
            ],
            "type": "heatmapgl"
           }
          ],
          "histogram": [
           {
            "marker": {
             "pattern": {
              "fillmode": "overlay",
              "size": 10,
              "solidity": 0.2
             }
            },
            "type": "histogram"
           }
          ],
          "histogram2d": [
           {
            "colorbar": {
             "outlinewidth": 0,
             "ticks": ""
            },
            "colorscale": [
             [
              0,
              "#0d0887"
             ],
             [
              0.1111111111111111,
              "#46039f"
             ],
             [
              0.2222222222222222,
              "#7201a8"
             ],
             [
              0.3333333333333333,
              "#9c179e"
             ],
             [
              0.4444444444444444,
              "#bd3786"
             ],
             [
              0.5555555555555556,
              "#d8576b"
             ],
             [
              0.6666666666666666,
              "#ed7953"
             ],
             [
              0.7777777777777778,
              "#fb9f3a"
             ],
             [
              0.8888888888888888,
              "#fdca26"
             ],
             [
              1,
              "#f0f921"
             ]
            ],
            "type": "histogram2d"
           }
          ],
          "histogram2dcontour": [
           {
            "colorbar": {
             "outlinewidth": 0,
             "ticks": ""
            },
            "colorscale": [
             [
              0,
              "#0d0887"
             ],
             [
              0.1111111111111111,
              "#46039f"
             ],
             [
              0.2222222222222222,
              "#7201a8"
             ],
             [
              0.3333333333333333,
              "#9c179e"
             ],
             [
              0.4444444444444444,
              "#bd3786"
             ],
             [
              0.5555555555555556,
              "#d8576b"
             ],
             [
              0.6666666666666666,
              "#ed7953"
             ],
             [
              0.7777777777777778,
              "#fb9f3a"
             ],
             [
              0.8888888888888888,
              "#fdca26"
             ],
             [
              1,
              "#f0f921"
             ]
            ],
            "type": "histogram2dcontour"
           }
          ],
          "mesh3d": [
           {
            "colorbar": {
             "outlinewidth": 0,
             "ticks": ""
            },
            "type": "mesh3d"
           }
          ],
          "parcoords": [
           {
            "line": {
             "colorbar": {
              "outlinewidth": 0,
              "ticks": ""
             }
            },
            "type": "parcoords"
           }
          ],
          "pie": [
           {
            "automargin": true,
            "type": "pie"
           }
          ],
          "scatter": [
           {
            "marker": {
             "colorbar": {
              "outlinewidth": 0,
              "ticks": ""
             }
            },
            "type": "scatter"
           }
          ],
          "scatter3d": [
           {
            "line": {
             "colorbar": {
              "outlinewidth": 0,
              "ticks": ""
             }
            },
            "marker": {
             "colorbar": {
              "outlinewidth": 0,
              "ticks": ""
             }
            },
            "type": "scatter3d"
           }
          ],
          "scattercarpet": [
           {
            "marker": {
             "colorbar": {
              "outlinewidth": 0,
              "ticks": ""
             }
            },
            "type": "scattercarpet"
           }
          ],
          "scattergeo": [
           {
            "marker": {
             "colorbar": {
              "outlinewidth": 0,
              "ticks": ""
             }
            },
            "type": "scattergeo"
           }
          ],
          "scattergl": [
           {
            "marker": {
             "colorbar": {
              "outlinewidth": 0,
              "ticks": ""
             }
            },
            "type": "scattergl"
           }
          ],
          "scattermapbox": [
           {
            "marker": {
             "colorbar": {
              "outlinewidth": 0,
              "ticks": ""
             }
            },
            "type": "scattermapbox"
           }
          ],
          "scatterpolar": [
           {
            "marker": {
             "colorbar": {
              "outlinewidth": 0,
              "ticks": ""
             }
            },
            "type": "scatterpolar"
           }
          ],
          "scatterpolargl": [
           {
            "marker": {
             "colorbar": {
              "outlinewidth": 0,
              "ticks": ""
             }
            },
            "type": "scatterpolargl"
           }
          ],
          "scatterternary": [
           {
            "marker": {
             "colorbar": {
              "outlinewidth": 0,
              "ticks": ""
             }
            },
            "type": "scatterternary"
           }
          ],
          "surface": [
           {
            "colorbar": {
             "outlinewidth": 0,
             "ticks": ""
            },
            "colorscale": [
             [
              0,
              "#0d0887"
             ],
             [
              0.1111111111111111,
              "#46039f"
             ],
             [
              0.2222222222222222,
              "#7201a8"
             ],
             [
              0.3333333333333333,
              "#9c179e"
             ],
             [
              0.4444444444444444,
              "#bd3786"
             ],
             [
              0.5555555555555556,
              "#d8576b"
             ],
             [
              0.6666666666666666,
              "#ed7953"
             ],
             [
              0.7777777777777778,
              "#fb9f3a"
             ],
             [
              0.8888888888888888,
              "#fdca26"
             ],
             [
              1,
              "#f0f921"
             ]
            ],
            "type": "surface"
           }
          ],
          "table": [
           {
            "cells": {
             "fill": {
              "color": "#EBF0F8"
             },
             "line": {
              "color": "white"
             }
            },
            "header": {
             "fill": {
              "color": "#C8D4E3"
             },
             "line": {
              "color": "white"
             }
            },
            "type": "table"
           }
          ]
         },
         "layout": {
          "annotationdefaults": {
           "arrowcolor": "#2a3f5f",
           "arrowhead": 0,
           "arrowwidth": 1
          },
          "autotypenumbers": "strict",
          "coloraxis": {
           "colorbar": {
            "outlinewidth": 0,
            "ticks": ""
           }
          },
          "colorscale": {
           "diverging": [
            [
             0,
             "#8e0152"
            ],
            [
             0.1,
             "#c51b7d"
            ],
            [
             0.2,
             "#de77ae"
            ],
            [
             0.3,
             "#f1b6da"
            ],
            [
             0.4,
             "#fde0ef"
            ],
            [
             0.5,
             "#f7f7f7"
            ],
            [
             0.6,
             "#e6f5d0"
            ],
            [
             0.7,
             "#b8e186"
            ],
            [
             0.8,
             "#7fbc41"
            ],
            [
             0.9,
             "#4d9221"
            ],
            [
             1,
             "#276419"
            ]
           ],
           "sequential": [
            [
             0,
             "#0d0887"
            ],
            [
             0.1111111111111111,
             "#46039f"
            ],
            [
             0.2222222222222222,
             "#7201a8"
            ],
            [
             0.3333333333333333,
             "#9c179e"
            ],
            [
             0.4444444444444444,
             "#bd3786"
            ],
            [
             0.5555555555555556,
             "#d8576b"
            ],
            [
             0.6666666666666666,
             "#ed7953"
            ],
            [
             0.7777777777777778,
             "#fb9f3a"
            ],
            [
             0.8888888888888888,
             "#fdca26"
            ],
            [
             1,
             "#f0f921"
            ]
           ],
           "sequentialminus": [
            [
             0,
             "#0d0887"
            ],
            [
             0.1111111111111111,
             "#46039f"
            ],
            [
             0.2222222222222222,
             "#7201a8"
            ],
            [
             0.3333333333333333,
             "#9c179e"
            ],
            [
             0.4444444444444444,
             "#bd3786"
            ],
            [
             0.5555555555555556,
             "#d8576b"
            ],
            [
             0.6666666666666666,
             "#ed7953"
            ],
            [
             0.7777777777777778,
             "#fb9f3a"
            ],
            [
             0.8888888888888888,
             "#fdca26"
            ],
            [
             1,
             "#f0f921"
            ]
           ]
          },
          "colorway": [
           "#636efa",
           "#EF553B",
           "#00cc96",
           "#ab63fa",
           "#FFA15A",
           "#19d3f3",
           "#FF6692",
           "#B6E880",
           "#FF97FF",
           "#FECB52"
          ],
          "font": {
           "color": "#2a3f5f"
          },
          "geo": {
           "bgcolor": "white",
           "lakecolor": "white",
           "landcolor": "#E5ECF6",
           "showlakes": true,
           "showland": true,
           "subunitcolor": "white"
          },
          "hoverlabel": {
           "align": "left"
          },
          "hovermode": "closest",
          "mapbox": {
           "style": "light"
          },
          "paper_bgcolor": "white",
          "plot_bgcolor": "#E5ECF6",
          "polar": {
           "angularaxis": {
            "gridcolor": "white",
            "linecolor": "white",
            "ticks": ""
           },
           "bgcolor": "#E5ECF6",
           "radialaxis": {
            "gridcolor": "white",
            "linecolor": "white",
            "ticks": ""
           }
          },
          "scene": {
           "xaxis": {
            "backgroundcolor": "#E5ECF6",
            "gridcolor": "white",
            "gridwidth": 2,
            "linecolor": "white",
            "showbackground": true,
            "ticks": "",
            "zerolinecolor": "white"
           },
           "yaxis": {
            "backgroundcolor": "#E5ECF6",
            "gridcolor": "white",
            "gridwidth": 2,
            "linecolor": "white",
            "showbackground": true,
            "ticks": "",
            "zerolinecolor": "white"
           },
           "zaxis": {
            "backgroundcolor": "#E5ECF6",
            "gridcolor": "white",
            "gridwidth": 2,
            "linecolor": "white",
            "showbackground": true,
            "ticks": "",
            "zerolinecolor": "white"
           }
          },
          "shapedefaults": {
           "line": {
            "color": "#2a3f5f"
           }
          },
          "ternary": {
           "aaxis": {
            "gridcolor": "white",
            "linecolor": "white",
            "ticks": ""
           },
           "baxis": {
            "gridcolor": "white",
            "linecolor": "white",
            "ticks": ""
           },
           "bgcolor": "#E5ECF6",
           "caxis": {
            "gridcolor": "white",
            "linecolor": "white",
            "ticks": ""
           }
          },
          "title": {
           "x": 0.05
          },
          "xaxis": {
           "automargin": true,
           "gridcolor": "white",
           "linecolor": "white",
           "ticks": "",
           "title": {
            "standoff": 15
           },
           "zerolinecolor": "white",
           "zerolinewidth": 2
          },
          "yaxis": {
           "automargin": true,
           "gridcolor": "white",
           "linecolor": "white",
           "ticks": "",
           "title": {
            "standoff": 15
           },
           "zerolinecolor": "white",
           "zerolinewidth": 2
          }
         }
        },
        "xaxis": {
         "anchor": "y",
         "domain": [
          0,
          1
         ],
         "title": {
          "text": "created_at"
         }
        },
        "yaxis": {
         "anchor": "x",
         "domain": [
          0,
          1
         ],
         "title": {
          "text": "value"
         }
        }
       }
      }
     },
     "metadata": {},
     "output_type": "display_data"
    }
   ],
   "source": [
    "import plotly.express as px\n",
    "\n",
    "\n",
    "px.line(\n",
    "    df_timeseries.total_count\n",
    ")"
   ]
  },
  {
   "cell_type": "code",
   "execution_count": 8,
   "metadata": {},
   "outputs": [],
   "source": [
    "from merlion.transform.moving_average import MovingAverage\n",
    "from merlion.post_process.threshold import Threshold\n",
    "\n",
    "prophet_config = ProphetDetectorConfig(\n",
    "    threshold=Threshold(alm_threshold=0.5, abs_score=False),\n",
    "    # transform=MovingAverage(n_steps=3),\n",
    "    yearly_seasonality=False,\n",
    "    weekly_seasonality=False,\n",
    "    daily_seasonality=False,\n",
    "    add_seasonality=False,  \n",
    "    uncertainty_samples=500\n",
    ")\n",
    "\n",
    "#anomaly_scores = detect_anomalies(\n",
    "#    df_timeseries, \n",
    "#    \"total_count\",\n",
    "#    model=ProphetDetector(prophet_config)\n",
    "#)"
   ]
  },
  {
   "cell_type": "code",
   "execution_count": 9,
   "metadata": {},
   "outputs": [
    {
     "name": "stdout",
     "output_type": "stream",
     "text": [
      "Initial log joint probability = -7.05513\n",
      "    Iter      log prob        ||dx||      ||grad||       alpha      alpha0  # evals  Notes \n",
      "      99       266.688   8.63992e-08       96.8364      0.3553           1      127   \n",
      "    Iter      log prob        ||dx||      ||grad||       alpha      alpha0  # evals  Notes \n",
      "     105       266.688   3.68214e-09       99.5536      0.3712      0.3712      135   \n",
      "Optimization terminated normally: \n",
      "  Convergence detected: absolute parameter change was below tolerance\n"
     ]
    },
    {
     "data": {
      "application/vnd.plotly.v1+json": {
       "config": {
        "plotlyServerURL": "https://plot.ly"
       },
       "data": [
        {
         "hoverinfo": "skip",
         "line": {
          "width": 0
         },
         "mode": "lines",
         "showlegend": false,
         "type": "scatter",
         "x": [
          "2021-01-02T14:00:00",
          "2021-01-02T19:00:00",
          "2021-01-03T00:00:00",
          "2021-01-03T05:00:00",
          "2021-01-03T10:00:00",
          "2021-01-03T15:00:00",
          "2021-01-03T20:00:00",
          "2021-01-04T01:00:00",
          "2021-01-04T06:00:00",
          "2021-01-04T11:00:00",
          "2021-01-04T16:00:00",
          "2021-01-04T21:00:00",
          "2021-01-05T02:00:00",
          "2021-01-05T07:00:00",
          "2021-01-05T12:00:00",
          "2021-01-05T17:00:00",
          "2021-01-05T22:00:00",
          "2021-01-06T03:00:00",
          "2021-01-06T08:00:00",
          "2021-01-06T13:00:00",
          "2021-01-06T18:00:00",
          "2021-01-06T23:00:00",
          "2021-01-07T04:00:00",
          "2021-01-07T09:00:00",
          "2021-01-07T14:00:00",
          "2021-01-07T19:00:00",
          "2021-01-08T00:00:00",
          "2021-01-08T05:00:00",
          "2021-01-08T10:00:00",
          "2021-01-08T15:00:00",
          "2021-01-08T20:00:00",
          "2021-01-09T01:00:00",
          "2021-01-09T06:00:00",
          "2021-01-09T11:00:00",
          "2021-01-09T16:00:00",
          "2021-01-09T21:00:00",
          "2021-01-10T02:00:00",
          "2021-01-10T07:00:00",
          "2021-01-10T12:00:00",
          "2021-01-10T17:00:00",
          "2021-01-10T22:00:00",
          "2021-01-11T03:00:00",
          "2021-01-11T08:00:00",
          "2021-01-11T13:00:00",
          "2021-01-11T18:00:00",
          "2021-01-11T23:00:00",
          "2021-01-12T04:00:00",
          "2021-01-12T09:00:00",
          "2021-01-12T14:00:00",
          "2021-01-12T19:00:00",
          "2021-01-13T00:00:00",
          "2021-01-13T05:00:00",
          "2021-01-13T10:00:00",
          "2021-01-13T15:00:00",
          "2021-01-13T20:00:00",
          "2021-01-14T01:00:00",
          "2021-01-14T06:00:00",
          "2021-01-14T11:00:00",
          "2021-01-14T16:00:00",
          "2021-01-14T21:00:00",
          "2021-01-15T02:00:00",
          "2021-01-15T07:00:00",
          "2021-01-15T12:00:00",
          "2021-01-15T17:00:00",
          "2021-01-15T22:00:00",
          "2021-01-16T03:00:00",
          "2021-01-16T08:00:00",
          "2021-01-16T13:00:00",
          "2021-01-16T18:00:00",
          "2021-01-16T23:00:00",
          "2021-01-17T04:00:00",
          "2021-01-17T09:00:00",
          "2021-01-17T14:00:00",
          "2021-01-17T19:00:00",
          "2021-01-18T00:00:00",
          "2021-01-18T05:00:00",
          "2021-01-18T10:00:00",
          "2021-01-18T15:00:00",
          "2021-01-18T20:00:00",
          "2021-01-19T01:00:00",
          "2021-01-19T06:00:00",
          "2021-01-19T11:00:00",
          "2021-01-19T16:00:00",
          "2021-01-19T21:00:00",
          "2021-01-20T02:00:00",
          "2021-01-20T07:00:00",
          "2021-01-20T12:00:00",
          "2021-01-20T17:00:00",
          "2021-01-20T22:00:00",
          "2021-01-21T03:00:00",
          "2021-01-21T08:00:00",
          "2021-01-21T13:00:00",
          "2021-01-21T18:00:00",
          "2021-01-21T23:00:00",
          "2021-01-22T04:00:00",
          "2021-01-22T09:00:00",
          "2021-01-22T14:00:00",
          "2021-01-22T19:00:00",
          "2021-01-23T00:00:00",
          "2021-01-23T05:00:00",
          "2021-01-23T10:00:00",
          "2021-01-23T15:00:00",
          "2021-01-23T20:00:00",
          "2021-01-24T01:00:00",
          "2021-01-24T06:00:00",
          "2021-01-24T11:00:00",
          "2021-01-24T16:00:00",
          "2021-01-24T21:00:00",
          "2021-01-25T02:00:00",
          "2021-01-25T07:00:00",
          "2021-01-25T12:00:00",
          "2021-01-25T17:00:00",
          "2021-01-25T22:00:00",
          "2021-01-26T03:00:00",
          "2021-01-26T08:00:00",
          "2021-01-26T13:00:00",
          "2021-01-26T18:00:00",
          "2021-01-26T23:00:00",
          "2021-01-27T04:00:00",
          "2021-01-27T09:00:00",
          "2021-01-27T14:00:00",
          "2021-01-27T19:00:00",
          "2021-01-28T00:00:00",
          "2021-01-28T05:00:00",
          "2021-01-28T10:00:00",
          "2021-01-28T15:00:00",
          "2021-01-28T20:00:00",
          "2021-01-29T01:00:00",
          "2021-01-29T06:00:00",
          "2021-01-29T11:00:00",
          "2021-01-29T16:00:00",
          "2021-01-29T21:00:00",
          "2021-01-30T02:00:00",
          "2021-01-30T07:00:00",
          "2021-01-30T12:00:00",
          "2021-01-30T17:00:00",
          "2021-01-30T22:00:00",
          "2021-01-31T03:00:00",
          "2021-01-31T08:00:00",
          "2021-01-31T13:00:00",
          "2021-01-31T18:00:00",
          "2021-01-31T23:00:00",
          "2021-02-01T04:00:00",
          "2021-02-01T09:00:00",
          "2021-02-01T14:00:00",
          "2021-02-01T19:00:00",
          "2021-02-02T00:00:00",
          "2021-02-02T05:00:00",
          "2021-02-02T10:00:00",
          "2021-02-02T15:00:00",
          "2021-02-02T20:00:00",
          "2021-02-03T01:00:00",
          "2021-02-03T06:00:00",
          "2021-02-03T11:00:00",
          "2021-02-03T16:00:00",
          "2021-02-03T21:00:00",
          "2021-02-04T02:00:00",
          "2021-02-04T07:00:00",
          "2021-02-04T12:00:00",
          "2021-02-04T17:00:00",
          "2021-02-04T22:00:00",
          "2021-02-05T03:00:00",
          "2021-02-05T08:00:00",
          "2021-02-05T13:00:00",
          "2021-02-05T18:00:00",
          "2021-02-05T23:00:00",
          "2021-02-06T04:00:00",
          "2021-02-06T09:00:00",
          "2021-02-06T14:00:00",
          "2021-02-06T19:00:00",
          "2021-02-07T00:00:00",
          "2021-02-07T05:00:00",
          "2021-02-07T10:00:00",
          "2021-02-07T15:00:00",
          "2021-02-07T20:00:00",
          "2021-02-08T01:00:00",
          "2021-02-08T06:00:00",
          "2021-02-08T11:00:00",
          "2021-02-08T16:00:00",
          "2021-02-08T21:00:00",
          "2021-02-09T02:00:00",
          "2021-02-09T07:00:00",
          "2021-02-09T12:00:00",
          "2021-02-09T17:00:00",
          "2021-02-09T22:00:00",
          "2021-02-10T03:00:00",
          "2021-02-10T08:00:00",
          "2021-02-10T13:00:00",
          "2021-02-10T18:00:00",
          "2021-02-10T23:00:00",
          "2021-02-11T04:00:00",
          "2021-02-11T09:00:00",
          "2021-02-11T14:00:00",
          "2021-02-11T19:00:00",
          "2021-02-12T00:00:00",
          "2021-02-12T05:00:00",
          "2021-02-12T10:00:00",
          "2021-02-12T15:00:00",
          "2021-02-12T20:00:00",
          "2021-02-13T01:00:00",
          "2021-02-13T06:00:00",
          "2021-02-13T11:00:00",
          "2021-02-13T16:00:00",
          "2021-02-13T21:00:00",
          "2021-02-14T02:00:00",
          "2021-02-14T07:00:00",
          "2021-02-14T12:00:00",
          "2021-02-14T17:00:00",
          "2021-02-14T22:00:00",
          "2021-02-15T03:00:00",
          "2021-02-15T08:00:00",
          "2021-02-15T13:00:00",
          "2021-02-15T18:00:00",
          "2021-02-15T23:00:00",
          "2021-02-16T04:00:00"
         ],
         "y": [
          1119.7133102589341,
          1102.38721304155,
          1083.8409706508298,
          1169.731468224975,
          963.090120049578,
          1271.795566704812,
          1001.6773169808988,
          1125.3946559375213,
          1114.3992898995684,
          983.7752839517618,
          1288.4567288479616,
          1111.0121532822693,
          1213.6810355992268,
          1011.2924083020808,
          1065.4417706125896,
          1147.6060484464829,
          1065.893925091282,
          1007.4580463023933,
          929.4957281772957,
          1116.663010444778,
          1053.0317254975012,
          908.4527600478713,
          1006.0914727135769,
          1232.466303647813,
          931.1608414200483,
          1317.7249102534352,
          1131.9956261671557,
          1048.6961573239314,
          1260.6385022150578,
          1051.113425439191,
          1063.0277045284915,
          1057.8293949930878,
          1115.5545578361998,
          1020.6096954232315,
          1059.1761504972606,
          1050.0672425660662,
          1052.8008283062877,
          1163.4381197276505,
          1141.5346437588323,
          1117.2877189254966,
          1025.8034302489189,
          1071.1240496244634,
          1295.5704457159095,
          1359.771704013937,
          1003.8544599184133,
          1001.9277804152989,
          1126.051655396536,
          1061.018421436151,
          1061.9847090421072,
          1069.362823161926,
          1023.694705747697,
          1004.9218420704151,
          978.7873268601256,
          983.669149818974,
          1175.9121743992705,
          1086.2919665242757,
          1067.9464826316187,
          1053.587598807387,
          1051.7698204434573,
          899.1917823369693,
          924.9456904886545,
          992.297945862443,
          1214.9113296165865,
          898.35737898129,
          1082.3842590775264,
          1245.0307216939332,
          1115.807035668416,
          964.8576461414665,
          1085.5491364625775,
          1192.994033822163,
          1197.6280803286804,
          925.8706249722043,
          904.7194193545316,
          1101.6250209336858,
          1065.9537937457872,
          847.0130845134378,
          1039.4741221500728,
          1057.4339911331192,
          1322.4727914262933,
          1155.2523258147585,
          1185.87110840781,
          1152.056929110469,
          1161.0339796669602,
          938.5029226143877,
          1104.4221741063695,
          891.0608294508627,
          1108.9523612017347,
          965.2584285862673,
          1078.8513116039248,
          1065.687987420186,
          1000.2977441038115,
          1025.648347380627,
          1252.484946592258,
          980.5788913166324,
          849.2589630248224,
          889.6794731105798,
          1100.840959343331,
          1183.216925471922,
          1038.7839311129032,
          940.0217311479802,
          1217.1315766077207,
          1111.2864725794639,
          1116.3068954196524,
          1048.5562993036228,
          1035.1161781528074,
          1063.7487240427058,
          1122.25046625038,
          1053.9002680582032,
          1145.6346935690367,
          1201.4489595834164,
          853.6764237343893,
          968.4334939079068,
          1112.9130300807728,
          902.4673375053851,
          967.2841567723156,
          1228.4210384326434,
          937.4999426266901,
          1164.9331766756875,
          977.8396277299669,
          1154.4730488273076,
          1118.7554315294144,
          1083.1262787686144,
          1110.1031033704458,
          1024.8671374085702,
          1059.0139486592668,
          1057.0725995854943,
          1061.7970287696958,
          1094.0819972772424,
          1141.6997703729462,
          1117.4659841067028,
          1245.0863985660462,
          1024.015621909934,
          948.6814487230358,
          1100.1787069666618,
          1016.3883229152422,
          1104.0610950594096,
          1002.3569618444803,
          944.3306833138109,
          1057.3003113039833,
          992.5986307026039,
          1160.6760685127224,
          934.1285405528215,
          950.3265211654748,
          1020.173486570361,
          1224.556694194782,
          942.4391463215591,
          1028.8549825249388,
          1202.186650166375,
          963.2106142647536,
          1074.2134024123986,
          1053.1579037672075,
          1018.9436601552727,
          1008.9067125066874,
          1088.0586853050452,
          1042.7245055153073,
          964.0491554503791,
          1119.623763061497,
          983.1583363208638,
          1083.3250512050113,
          1113.975472527853,
          1140.3619179108712,
          1037.057661786161,
          1033.7957530984363,
          1140.1440953130539,
          1175.310996747248,
          1185.615724597511,
          1089.6356293489346,
          848.9484430021105,
          865.8533668763527,
          1094.8643607502888,
          1017.7673093534677,
          1138.7527908042857,
          1127.6276857048256,
          1178.0139226097174,
          1195.3967980005227,
          1072.0455587781837,
          1057.0494911124,
          1111.3918391901004,
          856.6317595929729,
          1063.1105477424312,
          863.6546508735837,
          1222.0921722988385,
          888.7728658006929,
          1201.1990056585441,
          1184.3725112651716,
          1073.0193502118027,
          1045.8580278945294,
          966.7613983723508,
          1131.7392582154425,
          952.6344354853179,
          1015.4235471208409,
          1122.8836040061701,
          1063.2131567943381,
          1000.4677608994598,
          943.3639073214333,
          967.0254632049663,
          901.2504582623308,
          1037.1088918677117,
          983.8325467077854,
          1156.623182275379,
          1049.3215450223838,
          937.2091493496443,
          864.3838834177468,
          1181.5055484396603,
          781.0514725303051,
          1074.4028597187978,
          986.6778934407674,
          1054.6906907751872,
          1121.4729070742671,
          884.4167078728768,
          1037.3616580724865,
          1139.4733780535478,
          1090.382333255253,
          976.3660730510717,
          1026.459608678382
         ]
        },
        {
         "fill": "tonexty",
         "fillcolor": "rgba(0, 114, 178, 0.2)",
         "line": {
          "color": "#0072B2",
          "width": 2
         },
         "mode": "lines",
         "name": "Forecast",
         "type": "scatter",
         "x": [
          "2021-01-02T14:00:00",
          "2021-01-02T19:00:00",
          "2021-01-03T00:00:00",
          "2021-01-03T05:00:00",
          "2021-01-03T10:00:00",
          "2021-01-03T15:00:00",
          "2021-01-03T20:00:00",
          "2021-01-04T01:00:00",
          "2021-01-04T06:00:00",
          "2021-01-04T11:00:00",
          "2021-01-04T16:00:00",
          "2021-01-04T21:00:00",
          "2021-01-05T02:00:00",
          "2021-01-05T07:00:00",
          "2021-01-05T12:00:00",
          "2021-01-05T17:00:00",
          "2021-01-05T22:00:00",
          "2021-01-06T03:00:00",
          "2021-01-06T08:00:00",
          "2021-01-06T13:00:00",
          "2021-01-06T18:00:00",
          "2021-01-06T23:00:00",
          "2021-01-07T04:00:00",
          "2021-01-07T09:00:00",
          "2021-01-07T14:00:00",
          "2021-01-07T19:00:00",
          "2021-01-08T00:00:00",
          "2021-01-08T05:00:00",
          "2021-01-08T10:00:00",
          "2021-01-08T15:00:00",
          "2021-01-08T20:00:00",
          "2021-01-09T01:00:00",
          "2021-01-09T06:00:00",
          "2021-01-09T11:00:00",
          "2021-01-09T16:00:00",
          "2021-01-09T21:00:00",
          "2021-01-10T02:00:00",
          "2021-01-10T07:00:00",
          "2021-01-10T12:00:00",
          "2021-01-10T17:00:00",
          "2021-01-10T22:00:00",
          "2021-01-11T03:00:00",
          "2021-01-11T08:00:00",
          "2021-01-11T13:00:00",
          "2021-01-11T18:00:00",
          "2021-01-11T23:00:00",
          "2021-01-12T04:00:00",
          "2021-01-12T09:00:00",
          "2021-01-12T14:00:00",
          "2021-01-12T19:00:00",
          "2021-01-13T00:00:00",
          "2021-01-13T05:00:00",
          "2021-01-13T10:00:00",
          "2021-01-13T15:00:00",
          "2021-01-13T20:00:00",
          "2021-01-14T01:00:00",
          "2021-01-14T06:00:00",
          "2021-01-14T11:00:00",
          "2021-01-14T16:00:00",
          "2021-01-14T21:00:00",
          "2021-01-15T02:00:00",
          "2021-01-15T07:00:00",
          "2021-01-15T12:00:00",
          "2021-01-15T17:00:00",
          "2021-01-15T22:00:00",
          "2021-01-16T03:00:00",
          "2021-01-16T08:00:00",
          "2021-01-16T13:00:00",
          "2021-01-16T18:00:00",
          "2021-01-16T23:00:00",
          "2021-01-17T04:00:00",
          "2021-01-17T09:00:00",
          "2021-01-17T14:00:00",
          "2021-01-17T19:00:00",
          "2021-01-18T00:00:00",
          "2021-01-18T05:00:00",
          "2021-01-18T10:00:00",
          "2021-01-18T15:00:00",
          "2021-01-18T20:00:00",
          "2021-01-19T01:00:00",
          "2021-01-19T06:00:00",
          "2021-01-19T11:00:00",
          "2021-01-19T16:00:00",
          "2021-01-19T21:00:00",
          "2021-01-20T02:00:00",
          "2021-01-20T07:00:00",
          "2021-01-20T12:00:00",
          "2021-01-20T17:00:00",
          "2021-01-20T22:00:00",
          "2021-01-21T03:00:00",
          "2021-01-21T08:00:00",
          "2021-01-21T13:00:00",
          "2021-01-21T18:00:00",
          "2021-01-21T23:00:00",
          "2021-01-22T04:00:00",
          "2021-01-22T09:00:00",
          "2021-01-22T14:00:00",
          "2021-01-22T19:00:00",
          "2021-01-23T00:00:00",
          "2021-01-23T05:00:00",
          "2021-01-23T10:00:00",
          "2021-01-23T15:00:00",
          "2021-01-23T20:00:00",
          "2021-01-24T01:00:00",
          "2021-01-24T06:00:00",
          "2021-01-24T11:00:00",
          "2021-01-24T16:00:00",
          "2021-01-24T21:00:00",
          "2021-01-25T02:00:00",
          "2021-01-25T07:00:00",
          "2021-01-25T12:00:00",
          "2021-01-25T17:00:00",
          "2021-01-25T22:00:00",
          "2021-01-26T03:00:00",
          "2021-01-26T08:00:00",
          "2021-01-26T13:00:00",
          "2021-01-26T18:00:00",
          "2021-01-26T23:00:00",
          "2021-01-27T04:00:00",
          "2021-01-27T09:00:00",
          "2021-01-27T14:00:00",
          "2021-01-27T19:00:00",
          "2021-01-28T00:00:00",
          "2021-01-28T05:00:00",
          "2021-01-28T10:00:00",
          "2021-01-28T15:00:00",
          "2021-01-28T20:00:00",
          "2021-01-29T01:00:00",
          "2021-01-29T06:00:00",
          "2021-01-29T11:00:00",
          "2021-01-29T16:00:00",
          "2021-01-29T21:00:00",
          "2021-01-30T02:00:00",
          "2021-01-30T07:00:00",
          "2021-01-30T12:00:00",
          "2021-01-30T17:00:00",
          "2021-01-30T22:00:00",
          "2021-01-31T03:00:00",
          "2021-01-31T08:00:00",
          "2021-01-31T13:00:00",
          "2021-01-31T18:00:00",
          "2021-01-31T23:00:00",
          "2021-02-01T04:00:00",
          "2021-02-01T09:00:00",
          "2021-02-01T14:00:00",
          "2021-02-01T19:00:00",
          "2021-02-02T00:00:00",
          "2021-02-02T05:00:00",
          "2021-02-02T10:00:00",
          "2021-02-02T15:00:00",
          "2021-02-02T20:00:00",
          "2021-02-03T01:00:00",
          "2021-02-03T06:00:00",
          "2021-02-03T11:00:00",
          "2021-02-03T16:00:00",
          "2021-02-03T21:00:00",
          "2021-02-04T02:00:00",
          "2021-02-04T07:00:00",
          "2021-02-04T12:00:00",
          "2021-02-04T17:00:00",
          "2021-02-04T22:00:00",
          "2021-02-05T03:00:00",
          "2021-02-05T08:00:00",
          "2021-02-05T13:00:00",
          "2021-02-05T18:00:00",
          "2021-02-05T23:00:00",
          "2021-02-06T04:00:00",
          "2021-02-06T09:00:00",
          "2021-02-06T14:00:00",
          "2021-02-06T19:00:00",
          "2021-02-07T00:00:00",
          "2021-02-07T05:00:00",
          "2021-02-07T10:00:00",
          "2021-02-07T15:00:00",
          "2021-02-07T20:00:00",
          "2021-02-08T01:00:00",
          "2021-02-08T06:00:00",
          "2021-02-08T11:00:00",
          "2021-02-08T16:00:00",
          "2021-02-08T21:00:00",
          "2021-02-09T02:00:00",
          "2021-02-09T07:00:00",
          "2021-02-09T12:00:00",
          "2021-02-09T17:00:00",
          "2021-02-09T22:00:00",
          "2021-02-10T03:00:00",
          "2021-02-10T08:00:00",
          "2021-02-10T13:00:00",
          "2021-02-10T18:00:00",
          "2021-02-10T23:00:00",
          "2021-02-11T04:00:00",
          "2021-02-11T09:00:00",
          "2021-02-11T14:00:00",
          "2021-02-11T19:00:00",
          "2021-02-12T00:00:00",
          "2021-02-12T05:00:00",
          "2021-02-12T10:00:00",
          "2021-02-12T15:00:00",
          "2021-02-12T20:00:00",
          "2021-02-13T01:00:00",
          "2021-02-13T06:00:00",
          "2021-02-13T11:00:00",
          "2021-02-13T16:00:00",
          "2021-02-13T21:00:00",
          "2021-02-14T02:00:00",
          "2021-02-14T07:00:00",
          "2021-02-14T12:00:00",
          "2021-02-14T17:00:00",
          "2021-02-14T22:00:00",
          "2021-02-15T03:00:00",
          "2021-02-15T08:00:00",
          "2021-02-15T13:00:00",
          "2021-02-15T18:00:00",
          "2021-02-15T23:00:00",
          "2021-02-16T04:00:00"
         ],
         "y": [
          31.328191507842135,
          30.97107440664554,
          30.613957305448942,
          30.25684020425235,
          29.899723103055756,
          29.542606001859156,
          29.185488900662563,
          28.82837179946597,
          28.512099793741108,
          28.19582778801625,
          27.87955578229139,
          27.563283776566532,
          27.247011770841674,
          26.930739765116815,
          26.614467759391953,
          26.29819590831003,
          25.981924057228113,
          25.665652206146195,
          25.349380355064273,
          25.033108503982355,
          24.716836652900437,
          24.400564801818515,
          24.08429290552316,
          23.768021009227805,
          23.45174911293245,
          23.135477216637096,
          22.81920532034174,
          22.50293342404639,
          22.186661792251147,
          21.870390160455912,
          21.55411852866067,
          21.237846896865435,
          20.921575265070196,
          20.605303633274954,
          20.28903200147972,
          19.97276031811175,
          19.656488634743777,
          19.340216951375805,
          19.023945268007836,
          18.707673584639863,
          18.391401901271895,
          18.075130217903922,
          17.758858690159922,
          17.442587162415926,
          17.12631563467193,
          16.810044106927933,
          16.493772579183936,
          16.17750105143994,
          15.861229523695945,
          15.54495802075724,
          15.228686517818533,
          14.912415014879826,
          14.596143511941118,
          14.279872009002412,
          13.963600506063706,
          13.647329003125002,
          13.331057585272202,
          13.014786167419405,
          12.698514749566606,
          12.382243331713806,
          12.065971913861006,
          11.74970049600821,
          11.43342907815541,
          11.117157642114195,
          10.800886206072983,
          10.484614770031769,
          10.168343333990558,
          9.852071897949344,
          9.535800461908131,
          9.219528855743164,
          8.903257249578198,
          8.586985643413232,
          8.270714037248261,
          7.9544424310832955,
          7.638170824918329,
          7.321899218753363,
          7.005627611981387,
          6.689356005209406,
          6.37308439843743,
          6.056812791665454,
          5.740541184893474,
          5.424269578121498,
          5.107997971349517,
          4.7917263601988855,
          4.47545474904825,
          4.159183137897618,
          3.842911526746983,
          3.5266399155963515,
          3.2103683044457156,
          2.8940966932950842,
          2.5778251114432518,
          2.2615535295914193,
          1.945281947739587,
          1.6290103658877546,
          1.3127387840359224,
          0.99646720218409,
          0.6801956203322577,
          0.3639242275615097,
          0.04765283479076181,
          -0.2686185579799822,
          -0.5848899507507301,
          -0.901161343521478,
          -1.217432736292226,
          -1.5337041290629738,
          -1.849975583683571,
          -2.1662470383041645,
          -2.4825184929247617,
          -2.798789947545359,
          -3.1150614021659524,
          -3.4313328567865535,
          -3.747604530218904,
          -4.063876203651263,
          -4.380147877083617,
          -4.696419550515976,
          -5.012691223948326,
          -5.328962897380685,
          -5.64523457081304,
          -5.9615060882398545,
          -6.277777605666669,
          -6.594049123093484,
          -6.910320640520299,
          -7.226592157947113,
          -7.54286367537392,
          -7.859135192800743,
          -8.175405778476751,
          -8.491676364152774,
          -8.80794694982878,
          -9.124217535504805,
          -9.440488121180818,
          -9.756758706856834,
          -10.073029292532846,
          -10.38929993615993,
          -10.705570579787013,
          -11.021841223414096,
          -11.338111867041171,
          -11.654382510668254,
          -11.97065315429533,
          -12.286923797922414,
          -12.60319398039422,
          -12.919464162866028,
          -13.235734345337836,
          -13.552004527809643,
          -13.868274710281451,
          -14.184544892753266,
          -14.500815075225061,
          -14.817085372289476,
          -15.133355669353875,
          -15.449625966418282,
          -15.76589626348268,
          -16.082166560547087,
          -16.398436857611486,
          -16.71470710578406,
          -17.030977353956626,
          -17.3472476021292,
          -17.663517850301773,
          -17.979788098474348,
          -18.296058346646912,
          -18.612328594819488,
          -18.92859867985841,
          -19.244868764897333,
          -19.561138849936253,
          -19.877408934975183,
          -20.193679020014105,
          -20.50994910505303,
          -20.826219190091958,
          -21.14248908768534,
          -21.458758985278724,
          -21.775028882872114,
          -22.091298780465497,
          -22.40756867805888,
          -22.723838575652263,
          -23.040108473245652,
          -23.35637849162696,
          -23.672648510008283,
          -23.98891852838959,
          -24.305188546770903,
          -24.621458565152217,
          -24.937728583533534,
          -25.25399860191484,
          -25.570268620296154,
          -25.886538638677468,
          -26.20280865705878,
          -26.51907867544009,
          -26.835348693821402,
          -27.15161871220272,
          -27.467888730584033,
          -27.78415874896534,
          -28.10042876734666,
          -28.416698785727966,
          -28.732968804109284,
          -29.04923882249059,
          -29.36550884087191,
          -29.681778859253217,
          -29.99804887763453,
          -30.314318896015838,
          -30.630588914397162,
          -30.94685893277847,
          -31.263128951159782,
          -31.579398969541096,
          -31.89566898792241,
          -32.211939006303716,
          -32.52820902468503,
          -32.84447904306634,
          -33.16074906144766,
          -33.47701907982896,
          -33.79328909821029,
          -34.1095591165916,
          -34.42582913497291,
          -34.74209915335422,
          -35.058369171735535,
          -35.37463919011685,
          -35.69090920849816,
          -36.007179226879465,
          -36.32344924526079,
          -36.63971926364209
         ]
        },
        {
         "fill": "tonexty",
         "fillcolor": "rgba(0, 114, 178, 0.2)",
         "hoverinfo": "skip",
         "line": {
          "width": 0
         },
         "mode": "lines",
         "showlegend": false,
         "type": "scatter",
         "x": [
          "2021-01-02T14:00:00",
          "2021-01-02T19:00:00",
          "2021-01-03T00:00:00",
          "2021-01-03T05:00:00",
          "2021-01-03T10:00:00",
          "2021-01-03T15:00:00",
          "2021-01-03T20:00:00",
          "2021-01-04T01:00:00",
          "2021-01-04T06:00:00",
          "2021-01-04T11:00:00",
          "2021-01-04T16:00:00",
          "2021-01-04T21:00:00",
          "2021-01-05T02:00:00",
          "2021-01-05T07:00:00",
          "2021-01-05T12:00:00",
          "2021-01-05T17:00:00",
          "2021-01-05T22:00:00",
          "2021-01-06T03:00:00",
          "2021-01-06T08:00:00",
          "2021-01-06T13:00:00",
          "2021-01-06T18:00:00",
          "2021-01-06T23:00:00",
          "2021-01-07T04:00:00",
          "2021-01-07T09:00:00",
          "2021-01-07T14:00:00",
          "2021-01-07T19:00:00",
          "2021-01-08T00:00:00",
          "2021-01-08T05:00:00",
          "2021-01-08T10:00:00",
          "2021-01-08T15:00:00",
          "2021-01-08T20:00:00",
          "2021-01-09T01:00:00",
          "2021-01-09T06:00:00",
          "2021-01-09T11:00:00",
          "2021-01-09T16:00:00",
          "2021-01-09T21:00:00",
          "2021-01-10T02:00:00",
          "2021-01-10T07:00:00",
          "2021-01-10T12:00:00",
          "2021-01-10T17:00:00",
          "2021-01-10T22:00:00",
          "2021-01-11T03:00:00",
          "2021-01-11T08:00:00",
          "2021-01-11T13:00:00",
          "2021-01-11T18:00:00",
          "2021-01-11T23:00:00",
          "2021-01-12T04:00:00",
          "2021-01-12T09:00:00",
          "2021-01-12T14:00:00",
          "2021-01-12T19:00:00",
          "2021-01-13T00:00:00",
          "2021-01-13T05:00:00",
          "2021-01-13T10:00:00",
          "2021-01-13T15:00:00",
          "2021-01-13T20:00:00",
          "2021-01-14T01:00:00",
          "2021-01-14T06:00:00",
          "2021-01-14T11:00:00",
          "2021-01-14T16:00:00",
          "2021-01-14T21:00:00",
          "2021-01-15T02:00:00",
          "2021-01-15T07:00:00",
          "2021-01-15T12:00:00",
          "2021-01-15T17:00:00",
          "2021-01-15T22:00:00",
          "2021-01-16T03:00:00",
          "2021-01-16T08:00:00",
          "2021-01-16T13:00:00",
          "2021-01-16T18:00:00",
          "2021-01-16T23:00:00",
          "2021-01-17T04:00:00",
          "2021-01-17T09:00:00",
          "2021-01-17T14:00:00",
          "2021-01-17T19:00:00",
          "2021-01-18T00:00:00",
          "2021-01-18T05:00:00",
          "2021-01-18T10:00:00",
          "2021-01-18T15:00:00",
          "2021-01-18T20:00:00",
          "2021-01-19T01:00:00",
          "2021-01-19T06:00:00",
          "2021-01-19T11:00:00",
          "2021-01-19T16:00:00",
          "2021-01-19T21:00:00",
          "2021-01-20T02:00:00",
          "2021-01-20T07:00:00",
          "2021-01-20T12:00:00",
          "2021-01-20T17:00:00",
          "2021-01-20T22:00:00",
          "2021-01-21T03:00:00",
          "2021-01-21T08:00:00",
          "2021-01-21T13:00:00",
          "2021-01-21T18:00:00",
          "2021-01-21T23:00:00",
          "2021-01-22T04:00:00",
          "2021-01-22T09:00:00",
          "2021-01-22T14:00:00",
          "2021-01-22T19:00:00",
          "2021-01-23T00:00:00",
          "2021-01-23T05:00:00",
          "2021-01-23T10:00:00",
          "2021-01-23T15:00:00",
          "2021-01-23T20:00:00",
          "2021-01-24T01:00:00",
          "2021-01-24T06:00:00",
          "2021-01-24T11:00:00",
          "2021-01-24T16:00:00",
          "2021-01-24T21:00:00",
          "2021-01-25T02:00:00",
          "2021-01-25T07:00:00",
          "2021-01-25T12:00:00",
          "2021-01-25T17:00:00",
          "2021-01-25T22:00:00",
          "2021-01-26T03:00:00",
          "2021-01-26T08:00:00",
          "2021-01-26T13:00:00",
          "2021-01-26T18:00:00",
          "2021-01-26T23:00:00",
          "2021-01-27T04:00:00",
          "2021-01-27T09:00:00",
          "2021-01-27T14:00:00",
          "2021-01-27T19:00:00",
          "2021-01-28T00:00:00",
          "2021-01-28T05:00:00",
          "2021-01-28T10:00:00",
          "2021-01-28T15:00:00",
          "2021-01-28T20:00:00",
          "2021-01-29T01:00:00",
          "2021-01-29T06:00:00",
          "2021-01-29T11:00:00",
          "2021-01-29T16:00:00",
          "2021-01-29T21:00:00",
          "2021-01-30T02:00:00",
          "2021-01-30T07:00:00",
          "2021-01-30T12:00:00",
          "2021-01-30T17:00:00",
          "2021-01-30T22:00:00",
          "2021-01-31T03:00:00",
          "2021-01-31T08:00:00",
          "2021-01-31T13:00:00",
          "2021-01-31T18:00:00",
          "2021-01-31T23:00:00",
          "2021-02-01T04:00:00",
          "2021-02-01T09:00:00",
          "2021-02-01T14:00:00",
          "2021-02-01T19:00:00",
          "2021-02-02T00:00:00",
          "2021-02-02T05:00:00",
          "2021-02-02T10:00:00",
          "2021-02-02T15:00:00",
          "2021-02-02T20:00:00",
          "2021-02-03T01:00:00",
          "2021-02-03T06:00:00",
          "2021-02-03T11:00:00",
          "2021-02-03T16:00:00",
          "2021-02-03T21:00:00",
          "2021-02-04T02:00:00",
          "2021-02-04T07:00:00",
          "2021-02-04T12:00:00",
          "2021-02-04T17:00:00",
          "2021-02-04T22:00:00",
          "2021-02-05T03:00:00",
          "2021-02-05T08:00:00",
          "2021-02-05T13:00:00",
          "2021-02-05T18:00:00",
          "2021-02-05T23:00:00",
          "2021-02-06T04:00:00",
          "2021-02-06T09:00:00",
          "2021-02-06T14:00:00",
          "2021-02-06T19:00:00",
          "2021-02-07T00:00:00",
          "2021-02-07T05:00:00",
          "2021-02-07T10:00:00",
          "2021-02-07T15:00:00",
          "2021-02-07T20:00:00",
          "2021-02-08T01:00:00",
          "2021-02-08T06:00:00",
          "2021-02-08T11:00:00",
          "2021-02-08T16:00:00",
          "2021-02-08T21:00:00",
          "2021-02-09T02:00:00",
          "2021-02-09T07:00:00",
          "2021-02-09T12:00:00",
          "2021-02-09T17:00:00",
          "2021-02-09T22:00:00",
          "2021-02-10T03:00:00",
          "2021-02-10T08:00:00",
          "2021-02-10T13:00:00",
          "2021-02-10T18:00:00",
          "2021-02-10T23:00:00",
          "2021-02-11T04:00:00",
          "2021-02-11T09:00:00",
          "2021-02-11T14:00:00",
          "2021-02-11T19:00:00",
          "2021-02-12T00:00:00",
          "2021-02-12T05:00:00",
          "2021-02-12T10:00:00",
          "2021-02-12T15:00:00",
          "2021-02-12T20:00:00",
          "2021-02-13T01:00:00",
          "2021-02-13T06:00:00",
          "2021-02-13T11:00:00",
          "2021-02-13T16:00:00",
          "2021-02-13T21:00:00",
          "2021-02-14T02:00:00",
          "2021-02-14T07:00:00",
          "2021-02-14T12:00:00",
          "2021-02-14T17:00:00",
          "2021-02-14T22:00:00",
          "2021-02-15T03:00:00",
          "2021-02-15T08:00:00",
          "2021-02-15T13:00:00",
          "2021-02-15T18:00:00",
          "2021-02-15T23:00:00",
          "2021-02-16T04:00:00"
         ],
         "y": [
          -1108.4590927097302,
          -909.5887051998897,
          -1037.552670434927,
          -967.0660208527987,
          -1402.5249264106544,
          -941.7183725731604,
          -1320.4196131550684,
          -980.5835782297511,
          -945.1651705122599,
          -1137.0397052798771,
          -968.948821829834,
          -1292.6024287037237,
          -966.8142469556168,
          -1022.7283435008924,
          -996.2936801851964,
          -1054.4645942759016,
          -1108.523149308969,
          -1090.2461391952083,
          -1173.8295219161503,
          -1031.8400477366522,
          -927.2120804351302,
          -1224.4544948385485,
          -1044.361474139108,
          -1007.8799955270049,
          -1092.384578917787,
          -958.4831406933146,
          -1059.0867250971953,
          -1081.0444275624486,
          -843.8640408162719,
          -853.2032447763454,
          -1153.3789734893162,
          -1020.549012117566,
          -1265.4856471829235,
          -990.5430523017784,
          -1135.941506679372,
          -991.4695467427437,
          -1065.8057809366799,
          -1097.9654820308824,
          -915.4112019459907,
          -1107.051694691792,
          -1101.2371565243013,
          -1278.2186748823335,
          -1023.120508251222,
          -1053.7115097180683,
          -913.2811637001289,
          -1102.7407485417957,
          -1123.7089174532887,
          -1115.8102040441001,
          -1020.0521208886765,
          -1036.7002907153214,
          -951.1022731727991,
          -1003.8270603987207,
          -1082.9755085449474,
          -1201.1510938512213,
          -967.1392798915787,
          -898.3438354114927,
          -1120.091302540708,
          -1063.6193162586515,
          -1058.86754739346,
          -1102.157004342451,
          -1233.2428428677288,
          -984.5212826293762,
          -1163.9305532418502,
          -1003.6049575208407,
          -1059.8449405535741,
          -977.1902935353377,
          -835.693607213904,
          -1098.3607380200294,
          -1098.8014217199452,
          -999.7421524894554,
          -1063.5450242396862,
          -1225.3497186673983,
          -1215.9553225111158,
          -948.4105499953442,
          -1040.2040739603217,
          -1147.1003150265249,
          -1211.43116441094,
          -1019.1117797878185,
          -1073.7913705286585,
          -899.6335707774734,
          -947.1670093913746,
          -944.5258988227528,
          -1046.4147894126309,
          -1108.248523990299,
          -1168.808706165389,
          -1316.291804485165,
          -852.1150756325512,
          -1105.72098672789,
          -937.0887223544496,
          -1183.7165532024349,
          -1035.9741072393292,
          -1114.467307361354,
          -1072.8815985217857,
          -1008.8313036960603,
          -1189.7968233032618,
          -1048.0056962630422,
          -993.5223486052549,
          -1109.3177912286374,
          -1159.78363140173,
          -1114.5351317978373,
          -995.4271251906649,
          -1048.2686075946567,
          -941.624580973564,
          -1110.0022146249378,
          -1086.542664183122,
          -1132.3724444614827,
          -1248.0660203243872,
          -1147.4984210307557,
          -1020.09413216797,
          -978.8195546090158,
          -1256.1343599328352,
          -1190.9534998749589,
          -967.1300495617378,
          -1157.0187426774494,
          -1154.8912981084973,
          -893.4770546089759,
          -921.3241386708198,
          -1009.4058059623728,
          -1199.5164786880603,
          -1143.649559543532,
          -1083.03079709922,
          -854.3182482631623,
          -1029.7541745044466,
          -1139.0726045780218,
          -1045.3509684007784,
          -1283.9497677197219,
          -952.751939338916,
          -1107.271558454335,
          -1014.5328341279171,
          -978.5716122121119,
          -959.0603051788547,
          -1155.1606538697358,
          -1006.5063085329715,
          -1064.757432601664,
          -967.7687417218035,
          -1110.7308441633015,
          -1174.748583880424,
          -1191.7164998499034,
          -1162.04529192536,
          -1072.4072003350398,
          -1103.7187493790925,
          -1157.253094316817,
          -1088.6057101038652,
          -953.1200872182038,
          -1045.0651728155422,
          -1221.8477868564855,
          -1136.4976526526375,
          -1163.6279957997908,
          -1004.9965714868387,
          -982.0220306909508,
          -1047.5481014708676,
          -1162.4695358569543,
          -1070.843290353572,
          -1032.7616372249686,
          -1189.6669980663949,
          -1192.0865306466924,
          -831.9085462288108,
          -1057.5061626278582,
          -1224.630858409701,
          -1076.2568778375914,
          -1001.7841744750467,
          -1180.8253715081844,
          -1203.7966783094187,
          -1135.212303718717,
          -1009.0916355269328,
          -1075.575223028855,
          -958.424035162981,
          -1169.2905219017905,
          -1143.2841441912867,
          -1013.5336638930147,
          -1070.591902205738,
          -1042.2890023645336,
          -962.7450282225878,
          -1116.568642447102,
          -962.2638852518783,
          -975.7978030061066,
          -977.5037146160187,
          -996.1280762231114,
          -1259.5721994684525,
          -1072.0978823728383,
          -1128.439379291801,
          -1252.1016321346137,
          -1082.0338095423924,
          -993.6266779980839,
          -1151.7623288950601,
          -1095.8480156746275,
          -851.3009773583009,
          -1180.1942865571318,
          -998.8493408650238,
          -1124.4840186115646,
          -915.2686250845761,
          -1075.6534902363924,
          -1214.6162526592582,
          -964.8118673353331,
          -1257.1484008888883,
          -1067.2348707812384,
          -1050.7713270015488,
          -1260.78241714358,
          -1129.0636119577123,
          -1187.8448123718988,
          -940.9522236616059,
          -1069.9618841550778,
          -1186.306545379169,
          -1017.9137826239678,
          -1360.8328345671666,
          -991.2192145423928,
          -932.0848327822763,
          -1165.7055646122783,
          -1157.875723106634,
          -1194.178564588788,
          -1059.4487619334493,
          -1131.1618240734083,
          -1180.8416352676309,
          -1002.4054204749146,
          -1097.6897783698143
         ]
        },
        {
         "line": {
          "color": "black",
          "width": 2
         },
         "mode": "lines",
         "name": "total_count",
         "type": "scatter",
         "x": [
          "2021-01-02T14:00:00",
          "2021-01-02T19:00:00",
          "2021-01-03T00:00:00",
          "2021-01-03T05:00:00",
          "2021-01-03T10:00:00",
          "2021-01-03T15:00:00",
          "2021-01-03T20:00:00",
          "2021-01-04T01:00:00",
          "2021-01-04T06:00:00",
          "2021-01-04T11:00:00",
          "2021-01-04T16:00:00",
          "2021-01-04T21:00:00",
          "2021-01-05T02:00:00",
          "2021-01-05T07:00:00",
          "2021-01-05T12:00:00",
          "2021-01-05T17:00:00",
          "2021-01-05T22:00:00",
          "2021-01-06T03:00:00",
          "2021-01-06T08:00:00",
          "2021-01-06T13:00:00",
          "2021-01-06T18:00:00",
          "2021-01-06T23:00:00",
          "2021-01-07T04:00:00",
          "2021-01-07T09:00:00",
          "2021-01-07T14:00:00",
          "2021-01-07T19:00:00",
          "2021-01-08T00:00:00",
          "2021-01-08T05:00:00",
          "2021-01-08T10:00:00",
          "2021-01-08T15:00:00",
          "2021-01-08T20:00:00",
          "2021-01-09T01:00:00",
          "2021-01-09T06:00:00",
          "2021-01-09T11:00:00",
          "2021-01-09T16:00:00",
          "2021-01-09T21:00:00",
          "2021-01-10T02:00:00",
          "2021-01-10T07:00:00",
          "2021-01-10T12:00:00",
          "2021-01-10T17:00:00",
          "2021-01-10T22:00:00",
          "2021-01-11T03:00:00",
          "2021-01-11T08:00:00",
          "2021-01-11T13:00:00",
          "2021-01-11T18:00:00",
          "2021-01-11T23:00:00",
          "2021-01-12T04:00:00",
          "2021-01-12T09:00:00",
          "2021-01-12T14:00:00",
          "2021-01-12T19:00:00",
          "2021-01-13T00:00:00",
          "2021-01-13T05:00:00",
          "2021-01-13T10:00:00",
          "2021-01-13T15:00:00",
          "2021-01-13T20:00:00",
          "2021-01-14T01:00:00",
          "2021-01-14T06:00:00",
          "2021-01-14T11:00:00",
          "2021-01-14T16:00:00",
          "2021-01-14T21:00:00",
          "2021-01-15T02:00:00",
          "2021-01-15T07:00:00",
          "2021-01-15T12:00:00",
          "2021-01-15T17:00:00",
          "2021-01-15T22:00:00",
          "2021-01-16T03:00:00",
          "2021-01-16T08:00:00",
          "2021-01-16T13:00:00",
          "2021-01-16T18:00:00",
          "2021-01-16T23:00:00",
          "2021-01-17T04:00:00",
          "2021-01-17T09:00:00",
          "2021-01-17T14:00:00",
          "2021-01-17T19:00:00",
          "2021-01-18T00:00:00",
          "2021-01-18T05:00:00",
          "2021-01-18T10:00:00",
          "2021-01-18T15:00:00",
          "2021-01-18T20:00:00",
          "2021-01-19T01:00:00",
          "2021-01-19T06:00:00",
          "2021-01-19T11:00:00",
          "2021-01-19T16:00:00",
          "2021-01-19T21:00:00",
          "2021-01-20T02:00:00",
          "2021-01-20T07:00:00",
          "2021-01-20T12:00:00",
          "2021-01-20T17:00:00",
          "2021-01-20T22:00:00",
          "2021-01-21T03:00:00",
          "2021-01-21T08:00:00",
          "2021-01-21T13:00:00",
          "2021-01-21T18:00:00",
          "2021-01-21T23:00:00",
          "2021-01-22T04:00:00",
          "2021-01-22T09:00:00",
          "2021-01-22T14:00:00",
          "2021-01-22T19:00:00",
          "2021-01-23T00:00:00",
          "2021-01-23T05:00:00",
          "2021-01-23T10:00:00",
          "2021-01-23T15:00:00",
          "2021-01-23T20:00:00",
          "2021-01-24T01:00:00",
          "2021-01-24T06:00:00",
          "2021-01-24T11:00:00",
          "2021-01-24T16:00:00",
          "2021-01-24T21:00:00",
          "2021-01-25T02:00:00",
          "2021-01-25T07:00:00",
          "2021-01-25T12:00:00",
          "2021-01-25T17:00:00",
          "2021-01-25T22:00:00",
          "2021-01-26T03:00:00",
          "2021-01-26T08:00:00",
          "2021-01-26T13:00:00",
          "2021-01-26T18:00:00",
          "2021-01-26T23:00:00",
          "2021-01-27T04:00:00",
          "2021-01-27T09:00:00",
          "2021-01-27T14:00:00",
          "2021-01-27T19:00:00",
          "2021-01-28T00:00:00",
          "2021-01-28T05:00:00",
          "2021-01-28T10:00:00",
          "2021-01-28T15:00:00",
          "2021-01-28T20:00:00",
          "2021-01-29T01:00:00",
          "2021-01-29T06:00:00",
          "2021-01-29T11:00:00",
          "2021-01-29T16:00:00",
          "2021-01-29T21:00:00",
          "2021-01-30T02:00:00",
          "2021-01-30T07:00:00",
          "2021-01-30T12:00:00",
          "2021-01-30T17:00:00",
          "2021-01-30T22:00:00",
          "2021-01-31T03:00:00",
          "2021-01-31T08:00:00",
          "2021-01-31T13:00:00",
          "2021-01-31T18:00:00",
          "2021-01-31T23:00:00",
          "2021-02-01T04:00:00",
          "2021-02-01T09:00:00",
          "2021-02-01T14:00:00",
          "2021-02-01T19:00:00",
          "2021-02-02T00:00:00",
          "2021-02-02T05:00:00",
          "2021-02-02T10:00:00",
          "2021-02-02T15:00:00",
          "2021-02-02T20:00:00",
          "2021-02-03T01:00:00",
          "2021-02-03T06:00:00",
          "2021-02-03T11:00:00",
          "2021-02-03T16:00:00",
          "2021-02-03T21:00:00",
          "2021-02-04T02:00:00",
          "2021-02-04T07:00:00",
          "2021-02-04T12:00:00",
          "2021-02-04T17:00:00",
          "2021-02-04T22:00:00",
          "2021-02-05T03:00:00",
          "2021-02-05T08:00:00",
          "2021-02-05T13:00:00",
          "2021-02-05T18:00:00",
          "2021-02-05T23:00:00",
          "2021-02-06T04:00:00",
          "2021-02-06T09:00:00",
          "2021-02-06T14:00:00",
          "2021-02-06T19:00:00",
          "2021-02-07T00:00:00",
          "2021-02-07T05:00:00",
          "2021-02-07T10:00:00",
          "2021-02-07T15:00:00",
          "2021-02-07T20:00:00",
          "2021-02-08T01:00:00",
          "2021-02-08T06:00:00",
          "2021-02-08T11:00:00",
          "2021-02-08T16:00:00",
          "2021-02-08T21:00:00",
          "2021-02-09T02:00:00",
          "2021-02-09T07:00:00",
          "2021-02-09T12:00:00",
          "2021-02-09T17:00:00",
          "2021-02-09T22:00:00",
          "2021-02-10T03:00:00",
          "2021-02-10T08:00:00",
          "2021-02-10T13:00:00",
          "2021-02-10T18:00:00",
          "2021-02-10T23:00:00",
          "2021-02-11T04:00:00",
          "2021-02-11T09:00:00",
          "2021-02-11T14:00:00",
          "2021-02-11T19:00:00",
          "2021-02-12T00:00:00",
          "2021-02-12T05:00:00",
          "2021-02-12T10:00:00",
          "2021-02-12T15:00:00",
          "2021-02-12T20:00:00",
          "2021-02-13T01:00:00",
          "2021-02-13T06:00:00",
          "2021-02-13T11:00:00",
          "2021-02-13T16:00:00",
          "2021-02-13T21:00:00",
          "2021-02-14T02:00:00",
          "2021-02-14T07:00:00",
          "2021-02-14T12:00:00",
          "2021-02-14T17:00:00",
          "2021-02-14T22:00:00",
          "2021-02-15T03:00:00",
          "2021-02-15T08:00:00",
          "2021-02-15T13:00:00",
          "2021-02-15T18:00:00",
          "2021-02-15T23:00:00",
          "2021-02-16T04:00:00"
         ],
         "y": [
          1492,
          -732,
          -525,
          -302,
          29,
          39,
          -17,
          -84,
          -26,
          17,
          113,
          555,
          3993,
          -4190,
          17,
          -171,
          -160,
          -144,
          -27,
          48,
          34,
          2556,
          -2287,
          -167,
          -55,
          -54,
          -32,
          -56,
          17,
          7,
          -8,
          4,
          -22,
          21,
          157,
          174,
          365,
          -569,
          116,
          18,
          -89,
          -145,
          -17,
          -6,
          246,
          92,
          -292,
          -19,
          73,
          152,
          3964,
          -3911,
          1202,
          -621,
          -544,
          -51,
          -267,
          22,
          289,
          194,
          -277,
          -196,
          87,
          1400,
          -455,
          -784,
          -172,
          3663,
          -994,
          -1767,
          -491,
          -227,
          1972,
          -1160,
          -790,
          -303,
          42,
          -14,
          583,
          -567,
          -83,
          66,
          -48,
          25,
          -43,
          -15,
          83,
          -15,
          1936,
          -197,
          -1368,
          235,
          -315,
          -16,
          -290,
          781,
          19,
          -656,
          -82,
          -88,
          -7,
          18,
          42,
          -45,
          -36,
          6,
          32,
          6346,
          -5242,
          -746,
          58,
          -274,
          310,
          -383,
          -85,
          7,
          31,
          894,
          -809,
          15,
          268,
          1090,
          5166,
          -5528,
          322,
          9011,
          -7366,
          -1494,
          -1219,
          242,
          -270,
          -177,
          -113,
          -65,
          356,
          901,
          3656,
          -4312,
          -224,
          128,
          -72,
          -338,
          -93,
          6,
          21,
          173,
          -64,
          -148,
          14,
          15,
          105,
          1180,
          -861,
          84,
          -289,
          -185,
          2545,
          -2072,
          28,
          -208,
          -152,
          203,
          -372,
          78,
          7258,
          -3794,
          -2145,
          -380,
          2623,
          -2374,
          -630,
          -540,
          18,
          414,
          955,
          -739,
          -591,
          93,
          -163,
          34,
          -108,
          -48,
          43,
          23,
          700,
          -537,
          -160,
          67,
          -79,
          -4,
          -12,
          62,
          38,
          -75,
          -25,
          -13,
          43,
          -17,
          -45,
          1,
          -28,
          11,
          1044,
          -738,
          -231,
          -75,
          39,
          884,
          1218,
          -1726,
          -106,
          216,
          -178,
          2270,
          -2260
         ]
        },
        {
         "line": {
          "color": "red",
          "width": 2
         },
         "mode": "lines",
         "name": "Anomaly Score",
         "type": "scatter",
         "x": [
          "2021-01-02T14:00:00",
          "2021-01-02T19:00:00",
          "2021-01-03T00:00:00",
          "2021-01-03T05:00:00",
          "2021-01-03T10:00:00",
          "2021-01-03T15:00:00",
          "2021-01-03T20:00:00",
          "2021-01-04T01:00:00",
          "2021-01-04T06:00:00",
          "2021-01-04T11:00:00",
          "2021-01-04T16:00:00",
          "2021-01-04T21:00:00",
          "2021-01-05T02:00:00",
          "2021-01-05T07:00:00",
          "2021-01-05T12:00:00",
          "2021-01-05T17:00:00",
          "2021-01-05T22:00:00",
          "2021-01-06T03:00:00",
          "2021-01-06T08:00:00",
          "2021-01-06T13:00:00",
          "2021-01-06T18:00:00",
          "2021-01-06T23:00:00",
          "2021-01-07T04:00:00",
          "2021-01-07T09:00:00",
          "2021-01-07T14:00:00",
          "2021-01-07T19:00:00",
          "2021-01-08T00:00:00",
          "2021-01-08T05:00:00",
          "2021-01-08T10:00:00",
          "2021-01-08T15:00:00",
          "2021-01-08T20:00:00",
          "2021-01-09T01:00:00",
          "2021-01-09T06:00:00",
          "2021-01-09T11:00:00",
          "2021-01-09T16:00:00",
          "2021-01-09T21:00:00",
          "2021-01-10T02:00:00",
          "2021-01-10T07:00:00",
          "2021-01-10T12:00:00",
          "2021-01-10T17:00:00",
          "2021-01-10T22:00:00",
          "2021-01-11T03:00:00",
          "2021-01-11T08:00:00",
          "2021-01-11T13:00:00",
          "2021-01-11T18:00:00",
          "2021-01-11T23:00:00",
          "2021-01-12T04:00:00",
          "2021-01-12T09:00:00",
          "2021-01-12T14:00:00",
          "2021-01-12T19:00:00",
          "2021-01-13T00:00:00",
          "2021-01-13T05:00:00",
          "2021-01-13T10:00:00",
          "2021-01-13T15:00:00",
          "2021-01-13T20:00:00",
          "2021-01-14T01:00:00",
          "2021-01-14T06:00:00",
          "2021-01-14T11:00:00",
          "2021-01-14T16:00:00",
          "2021-01-14T21:00:00",
          "2021-01-15T02:00:00",
          "2021-01-15T07:00:00",
          "2021-01-15T12:00:00",
          "2021-01-15T17:00:00",
          "2021-01-15T22:00:00",
          "2021-01-16T03:00:00",
          "2021-01-16T08:00:00",
          "2021-01-16T13:00:00",
          "2021-01-16T18:00:00",
          "2021-01-16T23:00:00",
          "2021-01-17T04:00:00",
          "2021-01-17T09:00:00",
          "2021-01-17T14:00:00",
          "2021-01-17T19:00:00",
          "2021-01-18T00:00:00",
          "2021-01-18T05:00:00",
          "2021-01-18T10:00:00",
          "2021-01-18T15:00:00",
          "2021-01-18T20:00:00",
          "2021-01-19T01:00:00",
          "2021-01-19T06:00:00",
          "2021-01-19T11:00:00",
          "2021-01-19T16:00:00",
          "2021-01-19T21:00:00",
          "2021-01-20T02:00:00",
          "2021-01-20T07:00:00",
          "2021-01-20T12:00:00",
          "2021-01-20T17:00:00",
          "2021-01-20T22:00:00",
          "2021-01-21T03:00:00",
          "2021-01-21T08:00:00",
          "2021-01-21T13:00:00",
          "2021-01-21T18:00:00",
          "2021-01-21T23:00:00",
          "2021-01-22T04:00:00",
          "2021-01-22T09:00:00",
          "2021-01-22T14:00:00",
          "2021-01-22T19:00:00",
          "2021-01-23T00:00:00",
          "2021-01-23T05:00:00",
          "2021-01-23T10:00:00",
          "2021-01-23T15:00:00",
          "2021-01-23T20:00:00",
          "2021-01-24T01:00:00",
          "2021-01-24T06:00:00",
          "2021-01-24T11:00:00",
          "2021-01-24T16:00:00",
          "2021-01-24T21:00:00",
          "2021-01-25T02:00:00",
          "2021-01-25T07:00:00",
          "2021-01-25T12:00:00",
          "2021-01-25T17:00:00",
          "2021-01-25T22:00:00",
          "2021-01-26T03:00:00",
          "2021-01-26T08:00:00",
          "2021-01-26T13:00:00",
          "2021-01-26T18:00:00",
          "2021-01-26T23:00:00",
          "2021-01-27T04:00:00",
          "2021-01-27T09:00:00",
          "2021-01-27T14:00:00",
          "2021-01-27T19:00:00",
          "2021-01-28T00:00:00",
          "2021-01-28T05:00:00",
          "2021-01-28T10:00:00",
          "2021-01-28T15:00:00",
          "2021-01-28T20:00:00",
          "2021-01-29T01:00:00",
          "2021-01-29T06:00:00",
          "2021-01-29T11:00:00",
          "2021-01-29T16:00:00",
          "2021-01-29T21:00:00",
          "2021-01-30T02:00:00",
          "2021-01-30T07:00:00",
          "2021-01-30T12:00:00",
          "2021-01-30T17:00:00",
          "2021-01-30T22:00:00",
          "2021-01-31T03:00:00",
          "2021-01-31T08:00:00",
          "2021-01-31T13:00:00",
          "2021-01-31T18:00:00",
          "2021-01-31T23:00:00",
          "2021-02-01T04:00:00",
          "2021-02-01T09:00:00",
          "2021-02-01T14:00:00",
          "2021-02-01T19:00:00",
          "2021-02-02T00:00:00",
          "2021-02-02T05:00:00",
          "2021-02-02T10:00:00",
          "2021-02-02T15:00:00",
          "2021-02-02T20:00:00",
          "2021-02-03T01:00:00",
          "2021-02-03T06:00:00",
          "2021-02-03T11:00:00",
          "2021-02-03T16:00:00",
          "2021-02-03T21:00:00",
          "2021-02-04T02:00:00",
          "2021-02-04T07:00:00",
          "2021-02-04T12:00:00",
          "2021-02-04T17:00:00",
          "2021-02-04T22:00:00",
          "2021-02-05T03:00:00",
          "2021-02-05T08:00:00",
          "2021-02-05T13:00:00",
          "2021-02-05T18:00:00",
          "2021-02-05T23:00:00",
          "2021-02-06T04:00:00",
          "2021-02-06T09:00:00",
          "2021-02-06T14:00:00",
          "2021-02-06T19:00:00",
          "2021-02-07T00:00:00",
          "2021-02-07T05:00:00",
          "2021-02-07T10:00:00",
          "2021-02-07T15:00:00",
          "2021-02-07T20:00:00",
          "2021-02-08T01:00:00",
          "2021-02-08T06:00:00",
          "2021-02-08T11:00:00",
          "2021-02-08T16:00:00",
          "2021-02-08T21:00:00",
          "2021-02-09T02:00:00",
          "2021-02-09T07:00:00",
          "2021-02-09T12:00:00",
          "2021-02-09T17:00:00",
          "2021-02-09T22:00:00",
          "2021-02-10T03:00:00",
          "2021-02-10T08:00:00",
          "2021-02-10T13:00:00",
          "2021-02-10T18:00:00",
          "2021-02-10T23:00:00",
          "2021-02-11T04:00:00",
          "2021-02-11T09:00:00",
          "2021-02-11T14:00:00",
          "2021-02-11T19:00:00",
          "2021-02-12T00:00:00",
          "2021-02-12T05:00:00",
          "2021-02-12T10:00:00",
          "2021-02-12T15:00:00",
          "2021-02-12T20:00:00",
          "2021-02-13T01:00:00",
          "2021-02-13T06:00:00",
          "2021-02-13T11:00:00",
          "2021-02-13T16:00:00",
          "2021-02-13T21:00:00",
          "2021-02-14T02:00:00",
          "2021-02-14T07:00:00",
          "2021-02-14T12:00:00",
          "2021-02-14T17:00:00",
          "2021-02-14T22:00:00",
          "2021-02-15T03:00:00",
          "2021-02-15T08:00:00",
          "2021-02-15T13:00:00",
          "2021-02-15T18:00:00",
          "2021-02-15T23:00:00",
          "2021-02-16T04:00:00"
         ],
         "xaxis": "x",
         "y": [
          1.4717062214828762,
          0,
          0,
          0,
          0,
          0,
          0,
          0,
          0,
          0,
          0,
          1.0603681044632847,
          1.9984660119408169,
          0,
          0,
          0,
          0,
          0,
          0,
          0,
          0,
          1.749498982730633,
          0,
          0,
          0,
          0,
          0,
          0,
          0,
          0,
          0,
          0,
          0,
          0,
          0.609493098192758,
          0.6632220656720264,
          0.9341570392241595,
          0,
          0.5290544716577049,
          0,
          0,
          0,
          0,
          0,
          0.7954083866990631,
          0,
          0,
          0,
          0,
          0.6230371757836929,
          2.0055819779810777,
          0,
          1.4064345146586559,
          0,
          0,
          0,
          0,
          0,
          0.8639905605972307,
          0.7207782515714802,
          0,
          0,
          0,
          1.487615747146008,
          0,
          0,
          0,
          1.9530596266043343,
          0,
          0,
          0,
          0,
          1.6309339621780312,
          0,
          0,
          0,
          0,
          0,
          1.0761021049922552,
          0,
          0,
          0,
          0,
          0,
          0,
          0,
          0,
          0,
          1.6500615853013019,
          0,
          0,
          0.7810895862614067,
          0,
          0,
          0,
          1.2499143535569026,
          0,
          0,
          0,
          0,
          0,
          0,
          0,
          0,
          0,
          0,
          0,
          2.4622397126333038,
          0,
          0,
          0,
          0,
          0.8885180397697939,
          0,
          0,
          0,
          0,
          1.272308127748176,
          0,
          0,
          0.8331647401150846,
          1.404187875112077,
          2.2543198900773866,
          0,
          0.9122998283102611,
          2.9611901064075226,
          0,
          0,
          0,
          0.8340337145886506,
          0,
          0,
          0,
          0,
          0.9688181884856232,
          1.2852147825004125,
          1.9477579216990943,
          0,
          0,
          0.634131177518838,
          0,
          0,
          0,
          0,
          0,
          0.725026732100186,
          0,
          0,
          0,
          0,
          0.5848764816313325,
          1.4104763385200934,
          0,
          0.5516394383708916,
          0,
          0,
          1.7715447320205553,
          0,
          0,
          0,
          0,
          0.7810340902910625,
          0,
          0.5278420632220044,
          2.7024573297203442,
          0,
          0,
          0,
          1.7877487155876233,
          0,
          0,
          0,
          0,
          0.9976338982840401,
          1.3417993975296252,
          0,
          0,
          0.5823224101949901,
          0,
          0,
          0,
          0,
          0,
          0,
          1.192246263451181,
          0,
          0,
          0.517425563196552,
          0,
          0,
          0,
          0.515326965623741,
          0,
          0,
          0,
          0,
          0,
          0,
          0,
          0,
          0,
          0,
          1.3872568293269676,
          0,
          0,
          0,
          0,
          1.304445256424585,
          1.4363588733635693,
          0,
          0,
          0.8075560768510102,
          0,
          1.7201396999907732,
          0
         ],
         "yaxis": "y2"
        }
       ],
       "layout": {
        "height": 600,
        "shapes": [
         {
          "fillcolor": "#e07070",
          "line": {
           "width": 0
          },
          "opacity": 0.4,
          "type": "rect",
          "x0": "2021-01-02T14:00:00",
          "x1": "2021-01-02T19:00:00",
          "xref": "x",
          "y0": 0,
          "y1": 1,
          "yref": "y domain"
         },
         {
          "fillcolor": "#e07070",
          "line": {
           "width": 0
          },
          "opacity": 0.4,
          "type": "rect",
          "x0": "2021-01-04T21:00:00",
          "x1": "2021-01-05T02:00:00",
          "xref": "x",
          "y0": 0,
          "y1": 1,
          "yref": "y domain"
         },
         {
          "fillcolor": "#e07070",
          "line": {
           "width": 0
          },
          "opacity": 0.4,
          "type": "rect",
          "x0": "2021-01-05T02:00:00",
          "x1": "2021-01-05T07:00:00",
          "xref": "x",
          "y0": 0,
          "y1": 1,
          "yref": "y domain"
         },
         {
          "fillcolor": "#e07070",
          "line": {
           "width": 0
          },
          "opacity": 0.4,
          "type": "rect",
          "x0": "2021-01-06T23:00:00",
          "x1": "2021-01-07T04:00:00",
          "xref": "x",
          "y0": 0,
          "y1": 1,
          "yref": "y domain"
         },
         {
          "fillcolor": "#e07070",
          "line": {
           "width": 0
          },
          "opacity": 0.4,
          "type": "rect",
          "x0": "2021-01-09T16:00:00",
          "x1": "2021-01-09T21:00:00",
          "xref": "x",
          "y0": 0,
          "y1": 1,
          "yref": "y domain"
         },
         {
          "fillcolor": "#e07070",
          "line": {
           "width": 0
          },
          "opacity": 0.4,
          "type": "rect",
          "x0": "2021-01-09T21:00:00",
          "x1": "2021-01-10T02:00:00",
          "xref": "x",
          "y0": 0,
          "y1": 1,
          "yref": "y domain"
         },
         {
          "fillcolor": "#e07070",
          "line": {
           "width": 0
          },
          "opacity": 0.4,
          "type": "rect",
          "x0": "2021-01-10T02:00:00",
          "x1": "2021-01-10T07:00:00",
          "xref": "x",
          "y0": 0,
          "y1": 1,
          "yref": "y domain"
         },
         {
          "fillcolor": "#e07070",
          "line": {
           "width": 0
          },
          "opacity": 0.4,
          "type": "rect",
          "x0": "2021-01-10T12:00:00",
          "x1": "2021-01-10T17:00:00",
          "xref": "x",
          "y0": 0,
          "y1": 1,
          "yref": "y domain"
         },
         {
          "fillcolor": "#e07070",
          "line": {
           "width": 0
          },
          "opacity": 0.4,
          "type": "rect",
          "x0": "2021-01-11T18:00:00",
          "x1": "2021-01-11T23:00:00",
          "xref": "x",
          "y0": 0,
          "y1": 1,
          "yref": "y domain"
         },
         {
          "fillcolor": "#e07070",
          "line": {
           "width": 0
          },
          "opacity": 0.4,
          "type": "rect",
          "x0": "2021-01-12T19:00:00",
          "x1": "2021-01-13T00:00:00",
          "xref": "x",
          "y0": 0,
          "y1": 1,
          "yref": "y domain"
         },
         {
          "fillcolor": "#e07070",
          "line": {
           "width": 0
          },
          "opacity": 0.4,
          "type": "rect",
          "x0": "2021-01-13T00:00:00",
          "x1": "2021-01-13T05:00:00",
          "xref": "x",
          "y0": 0,
          "y1": 1,
          "yref": "y domain"
         },
         {
          "fillcolor": "#e07070",
          "line": {
           "width": 0
          },
          "opacity": 0.4,
          "type": "rect",
          "x0": "2021-01-13T10:00:00",
          "x1": "2021-01-13T15:00:00",
          "xref": "x",
          "y0": 0,
          "y1": 1,
          "yref": "y domain"
         },
         {
          "fillcolor": "#e07070",
          "line": {
           "width": 0
          },
          "opacity": 0.4,
          "type": "rect",
          "x0": "2021-01-14T16:00:00",
          "x1": "2021-01-14T21:00:00",
          "xref": "x",
          "y0": 0,
          "y1": 1,
          "yref": "y domain"
         },
         {
          "fillcolor": "#e07070",
          "line": {
           "width": 0
          },
          "opacity": 0.4,
          "type": "rect",
          "x0": "2021-01-14T21:00:00",
          "x1": "2021-01-15T02:00:00",
          "xref": "x",
          "y0": 0,
          "y1": 1,
          "yref": "y domain"
         },
         {
          "fillcolor": "#e07070",
          "line": {
           "width": 0
          },
          "opacity": 0.4,
          "type": "rect",
          "x0": "2021-01-15T17:00:00",
          "x1": "2021-01-15T22:00:00",
          "xref": "x",
          "y0": 0,
          "y1": 1,
          "yref": "y domain"
         },
         {
          "fillcolor": "#e07070",
          "line": {
           "width": 0
          },
          "opacity": 0.4,
          "type": "rect",
          "x0": "2021-01-16T13:00:00",
          "x1": "2021-01-16T18:00:00",
          "xref": "x",
          "y0": 0,
          "y1": 1,
          "yref": "y domain"
         },
         {
          "fillcolor": "#e07070",
          "line": {
           "width": 0
          },
          "opacity": 0.4,
          "type": "rect",
          "x0": "2021-01-17T14:00:00",
          "x1": "2021-01-17T19:00:00",
          "xref": "x",
          "y0": 0,
          "y1": 1,
          "yref": "y domain"
         },
         {
          "fillcolor": "#e07070",
          "line": {
           "width": 0
          },
          "opacity": 0.4,
          "type": "rect",
          "x0": "2021-01-18T20:00:00",
          "x1": "2021-01-19T01:00:00",
          "xref": "x",
          "y0": 0,
          "y1": 1,
          "yref": "y domain"
         },
         {
          "fillcolor": "#e07070",
          "line": {
           "width": 0
          },
          "opacity": 0.4,
          "type": "rect",
          "x0": "2021-01-20T22:00:00",
          "x1": "2021-01-21T03:00:00",
          "xref": "x",
          "y0": 0,
          "y1": 1,
          "yref": "y domain"
         },
         {
          "fillcolor": "#e07070",
          "line": {
           "width": 0
          },
          "opacity": 0.4,
          "type": "rect",
          "x0": "2021-01-21T13:00:00",
          "x1": "2021-01-21T18:00:00",
          "xref": "x",
          "y0": 0,
          "y1": 1,
          "yref": "y domain"
         },
         {
          "fillcolor": "#e07070",
          "line": {
           "width": 0
          },
          "opacity": 0.4,
          "type": "rect",
          "x0": "2021-01-22T09:00:00",
          "x1": "2021-01-22T14:00:00",
          "xref": "x",
          "y0": 0,
          "y1": 1,
          "yref": "y domain"
         },
         {
          "fillcolor": "#e07070",
          "line": {
           "width": 0
          },
          "opacity": 0.4,
          "type": "rect",
          "x0": "2021-01-24T21:00:00",
          "x1": "2021-01-25T02:00:00",
          "xref": "x",
          "y0": 0,
          "y1": 1,
          "yref": "y domain"
         },
         {
          "fillcolor": "#e07070",
          "line": {
           "width": 0
          },
          "opacity": 0.4,
          "type": "rect",
          "x0": "2021-01-25T22:00:00",
          "x1": "2021-01-26T03:00:00",
          "xref": "x",
          "y0": 0,
          "y1": 1,
          "yref": "y domain"
         },
         {
          "fillcolor": "#e07070",
          "line": {
           "width": 0
          },
          "opacity": 0.4,
          "type": "rect",
          "x0": "2021-01-26T23:00:00",
          "x1": "2021-01-27T04:00:00",
          "xref": "x",
          "y0": 0,
          "y1": 1,
          "yref": "y domain"
         },
         {
          "fillcolor": "#e07070",
          "line": {
           "width": 0
          },
          "opacity": 0.4,
          "type": "rect",
          "x0": "2021-01-27T14:00:00",
          "x1": "2021-01-27T19:00:00",
          "xref": "x",
          "y0": 0,
          "y1": 1,
          "yref": "y domain"
         },
         {
          "fillcolor": "#e07070",
          "line": {
           "width": 0
          },
          "opacity": 0.4,
          "type": "rect",
          "x0": "2021-01-27T19:00:00",
          "x1": "2021-01-28T00:00:00",
          "xref": "x",
          "y0": 0,
          "y1": 1,
          "yref": "y domain"
         },
         {
          "fillcolor": "#e07070",
          "line": {
           "width": 0
          },
          "opacity": 0.4,
          "type": "rect",
          "x0": "2021-01-28T00:00:00",
          "x1": "2021-01-28T05:00:00",
          "xref": "x",
          "y0": 0,
          "y1": 1,
          "yref": "y domain"
         },
         {
          "fillcolor": "#e07070",
          "line": {
           "width": 0
          },
          "opacity": 0.4,
          "type": "rect",
          "x0": "2021-01-28T10:00:00",
          "x1": "2021-01-28T15:00:00",
          "xref": "x",
          "y0": 0,
          "y1": 1,
          "yref": "y domain"
         },
         {
          "fillcolor": "#e07070",
          "line": {
           "width": 0
          },
          "opacity": 0.4,
          "type": "rect",
          "x0": "2021-01-28T15:00:00",
          "x1": "2021-01-28T20:00:00",
          "xref": "x",
          "y0": 0,
          "y1": 1,
          "yref": "y domain"
         },
         {
          "fillcolor": "#e07070",
          "line": {
           "width": 0
          },
          "opacity": 0.4,
          "type": "rect",
          "x0": "2021-01-29T11:00:00",
          "x1": "2021-01-29T16:00:00",
          "xref": "x",
          "y0": 0,
          "y1": 1,
          "yref": "y domain"
         },
         {
          "fillcolor": "#e07070",
          "line": {
           "width": 0
          },
          "opacity": 0.4,
          "type": "rect",
          "x0": "2021-01-30T12:00:00",
          "x1": "2021-01-30T17:00:00",
          "xref": "x",
          "y0": 0,
          "y1": 1,
          "yref": "y domain"
         },
         {
          "fillcolor": "#e07070",
          "line": {
           "width": 0
          },
          "opacity": 0.4,
          "type": "rect",
          "x0": "2021-01-30T17:00:00",
          "x1": "2021-01-30T22:00:00",
          "xref": "x",
          "y0": 0,
          "y1": 1,
          "yref": "y domain"
         },
         {
          "fillcolor": "#e07070",
          "line": {
           "width": 0
          },
          "opacity": 0.4,
          "type": "rect",
          "x0": "2021-01-30T22:00:00",
          "x1": "2021-01-31T03:00:00",
          "xref": "x",
          "y0": 0,
          "y1": 1,
          "yref": "y domain"
         },
         {
          "fillcolor": "#e07070",
          "line": {
           "width": 0
          },
          "opacity": 0.4,
          "type": "rect",
          "x0": "2021-01-31T13:00:00",
          "x1": "2021-01-31T18:00:00",
          "xref": "x",
          "y0": 0,
          "y1": 1,
          "yref": "y domain"
         },
         {
          "fillcolor": "#e07070",
          "line": {
           "width": 0
          },
          "opacity": 0.4,
          "type": "rect",
          "x0": "2021-02-01T19:00:00",
          "x1": "2021-02-02T00:00:00",
          "xref": "x",
          "y0": 0,
          "y1": 1,
          "yref": "y domain"
         },
         {
          "fillcolor": "#e07070",
          "line": {
           "width": 0
          },
          "opacity": 0.4,
          "type": "rect",
          "x0": "2021-02-02T20:00:00",
          "x1": "2021-02-03T01:00:00",
          "xref": "x",
          "y0": 0,
          "y1": 1,
          "yref": "y domain"
         },
         {
          "fillcolor": "#e07070",
          "line": {
           "width": 0
          },
          "opacity": 0.4,
          "type": "rect",
          "x0": "2021-02-03T01:00:00",
          "x1": "2021-02-03T06:00:00",
          "xref": "x",
          "y0": 0,
          "y1": 1,
          "yref": "y domain"
         },
         {
          "fillcolor": "#e07070",
          "line": {
           "width": 0
          },
          "opacity": 0.4,
          "type": "rect",
          "x0": "2021-02-03T11:00:00",
          "x1": "2021-02-03T16:00:00",
          "xref": "x",
          "y0": 0,
          "y1": 1,
          "yref": "y domain"
         },
         {
          "fillcolor": "#e07070",
          "line": {
           "width": 0
          },
          "opacity": 0.4,
          "type": "rect",
          "x0": "2021-02-04T02:00:00",
          "x1": "2021-02-04T07:00:00",
          "xref": "x",
          "y0": 0,
          "y1": 1,
          "yref": "y domain"
         },
         {
          "fillcolor": "#e07070",
          "line": {
           "width": 0
          },
          "opacity": 0.4,
          "type": "rect",
          "x0": "2021-02-05T03:00:00",
          "x1": "2021-02-05T08:00:00",
          "xref": "x",
          "y0": 0,
          "y1": 1,
          "yref": "y domain"
         },
         {
          "fillcolor": "#e07070",
          "line": {
           "width": 0
          },
          "opacity": 0.4,
          "type": "rect",
          "x0": "2021-02-05T13:00:00",
          "x1": "2021-02-05T18:00:00",
          "xref": "x",
          "y0": 0,
          "y1": 1,
          "yref": "y domain"
         },
         {
          "fillcolor": "#e07070",
          "line": {
           "width": 0
          },
          "opacity": 0.4,
          "type": "rect",
          "x0": "2021-02-05T18:00:00",
          "x1": "2021-02-05T23:00:00",
          "xref": "x",
          "y0": 0,
          "y1": 1,
          "yref": "y domain"
         },
         {
          "fillcolor": "#e07070",
          "line": {
           "width": 0
          },
          "opacity": 0.4,
          "type": "rect",
          "x0": "2021-02-06T14:00:00",
          "x1": "2021-02-06T19:00:00",
          "xref": "x",
          "y0": 0,
          "y1": 1,
          "yref": "y domain"
         },
         {
          "fillcolor": "#e07070",
          "line": {
           "width": 0
          },
          "opacity": 0.4,
          "type": "rect",
          "x0": "2021-02-07T15:00:00",
          "x1": "2021-02-07T20:00:00",
          "xref": "x",
          "y0": 0,
          "y1": 1,
          "yref": "y domain"
         },
         {
          "fillcolor": "#e07070",
          "line": {
           "width": 0
          },
          "opacity": 0.4,
          "type": "rect",
          "x0": "2021-02-07T20:00:00",
          "x1": "2021-02-08T01:00:00",
          "xref": "x",
          "y0": 0,
          "y1": 1,
          "yref": "y domain"
         },
         {
          "fillcolor": "#e07070",
          "line": {
           "width": 0
          },
          "opacity": 0.4,
          "type": "rect",
          "x0": "2021-02-08T11:00:00",
          "x1": "2021-02-08T16:00:00",
          "xref": "x",
          "y0": 0,
          "y1": 1,
          "yref": "y domain"
         },
         {
          "fillcolor": "#e07070",
          "line": {
           "width": 0
          },
          "opacity": 0.4,
          "type": "rect",
          "x0": "2021-02-09T22:00:00",
          "x1": "2021-02-10T03:00:00",
          "xref": "x",
          "y0": 0,
          "y1": 1,
          "yref": "y domain"
         },
         {
          "fillcolor": "#e07070",
          "line": {
           "width": 0
          },
          "opacity": 0.4,
          "type": "rect",
          "x0": "2021-02-10T13:00:00",
          "x1": "2021-02-10T18:00:00",
          "xref": "x",
          "y0": 0,
          "y1": 1,
          "yref": "y domain"
         },
         {
          "fillcolor": "#e07070",
          "line": {
           "width": 0
          },
          "opacity": 0.4,
          "type": "rect",
          "x0": "2021-02-11T09:00:00",
          "x1": "2021-02-11T14:00:00",
          "xref": "x",
          "y0": 0,
          "y1": 1,
          "yref": "y domain"
         },
         {
          "fillcolor": "#e07070",
          "line": {
           "width": 0
          },
          "opacity": 0.4,
          "type": "rect",
          "x0": "2021-02-13T16:00:00",
          "x1": "2021-02-13T21:00:00",
          "xref": "x",
          "y0": 0,
          "y1": 1,
          "yref": "y domain"
         },
         {
          "fillcolor": "#e07070",
          "line": {
           "width": 0
          },
          "opacity": 0.4,
          "type": "rect",
          "x0": "2021-02-14T17:00:00",
          "x1": "2021-02-14T22:00:00",
          "xref": "x",
          "y0": 0,
          "y1": 1,
          "yref": "y domain"
         },
         {
          "fillcolor": "#e07070",
          "line": {
           "width": 0
          },
          "opacity": 0.4,
          "type": "rect",
          "x0": "2021-02-14T22:00:00",
          "x1": "2021-02-15T03:00:00",
          "xref": "x",
          "y0": 0,
          "y1": 1,
          "yref": "y domain"
         },
         {
          "fillcolor": "#e07070",
          "line": {
           "width": 0
          },
          "opacity": 0.4,
          "type": "rect",
          "x0": "2021-02-15T13:00:00",
          "x1": "2021-02-15T18:00:00",
          "xref": "x",
          "y0": 0,
          "y1": 1,
          "yref": "y domain"
         },
         {
          "fillcolor": "#e07070",
          "line": {
           "width": 0
          },
          "opacity": 0.4,
          "type": "rect",
          "x0": "2021-02-15T23:00:00",
          "x1": "2021-02-16T04:00:00",
          "xref": "x",
          "y0": 0,
          "y1": 1,
          "yref": "y domain"
         }
        ],
        "showlegend": true,
        "template": {
         "data": {
          "bar": [
           {
            "error_x": {
             "color": "#2a3f5f"
            },
            "error_y": {
             "color": "#2a3f5f"
            },
            "marker": {
             "line": {
              "color": "#E5ECF6",
              "width": 0.5
             },
             "pattern": {
              "fillmode": "overlay",
              "size": 10,
              "solidity": 0.2
             }
            },
            "type": "bar"
           }
          ],
          "barpolar": [
           {
            "marker": {
             "line": {
              "color": "#E5ECF6",
              "width": 0.5
             },
             "pattern": {
              "fillmode": "overlay",
              "size": 10,
              "solidity": 0.2
             }
            },
            "type": "barpolar"
           }
          ],
          "carpet": [
           {
            "aaxis": {
             "endlinecolor": "#2a3f5f",
             "gridcolor": "white",
             "linecolor": "white",
             "minorgridcolor": "white",
             "startlinecolor": "#2a3f5f"
            },
            "baxis": {
             "endlinecolor": "#2a3f5f",
             "gridcolor": "white",
             "linecolor": "white",
             "minorgridcolor": "white",
             "startlinecolor": "#2a3f5f"
            },
            "type": "carpet"
           }
          ],
          "choropleth": [
           {
            "colorbar": {
             "outlinewidth": 0,
             "ticks": ""
            },
            "type": "choropleth"
           }
          ],
          "contour": [
           {
            "colorbar": {
             "outlinewidth": 0,
             "ticks": ""
            },
            "colorscale": [
             [
              0,
              "#0d0887"
             ],
             [
              0.1111111111111111,
              "#46039f"
             ],
             [
              0.2222222222222222,
              "#7201a8"
             ],
             [
              0.3333333333333333,
              "#9c179e"
             ],
             [
              0.4444444444444444,
              "#bd3786"
             ],
             [
              0.5555555555555556,
              "#d8576b"
             ],
             [
              0.6666666666666666,
              "#ed7953"
             ],
             [
              0.7777777777777778,
              "#fb9f3a"
             ],
             [
              0.8888888888888888,
              "#fdca26"
             ],
             [
              1,
              "#f0f921"
             ]
            ],
            "type": "contour"
           }
          ],
          "contourcarpet": [
           {
            "colorbar": {
             "outlinewidth": 0,
             "ticks": ""
            },
            "type": "contourcarpet"
           }
          ],
          "heatmap": [
           {
            "colorbar": {
             "outlinewidth": 0,
             "ticks": ""
            },
            "colorscale": [
             [
              0,
              "#0d0887"
             ],
             [
              0.1111111111111111,
              "#46039f"
             ],
             [
              0.2222222222222222,
              "#7201a8"
             ],
             [
              0.3333333333333333,
              "#9c179e"
             ],
             [
              0.4444444444444444,
              "#bd3786"
             ],
             [
              0.5555555555555556,
              "#d8576b"
             ],
             [
              0.6666666666666666,
              "#ed7953"
             ],
             [
              0.7777777777777778,
              "#fb9f3a"
             ],
             [
              0.8888888888888888,
              "#fdca26"
             ],
             [
              1,
              "#f0f921"
             ]
            ],
            "type": "heatmap"
           }
          ],
          "heatmapgl": [
           {
            "colorbar": {
             "outlinewidth": 0,
             "ticks": ""
            },
            "colorscale": [
             [
              0,
              "#0d0887"
             ],
             [
              0.1111111111111111,
              "#46039f"
             ],
             [
              0.2222222222222222,
              "#7201a8"
             ],
             [
              0.3333333333333333,
              "#9c179e"
             ],
             [
              0.4444444444444444,
              "#bd3786"
             ],
             [
              0.5555555555555556,
              "#d8576b"
             ],
             [
              0.6666666666666666,
              "#ed7953"
             ],
             [
              0.7777777777777778,
              "#fb9f3a"
             ],
             [
              0.8888888888888888,
              "#fdca26"
             ],
             [
              1,
              "#f0f921"
             ]
            ],
            "type": "heatmapgl"
           }
          ],
          "histogram": [
           {
            "marker": {
             "pattern": {
              "fillmode": "overlay",
              "size": 10,
              "solidity": 0.2
             }
            },
            "type": "histogram"
           }
          ],
          "histogram2d": [
           {
            "colorbar": {
             "outlinewidth": 0,
             "ticks": ""
            },
            "colorscale": [
             [
              0,
              "#0d0887"
             ],
             [
              0.1111111111111111,
              "#46039f"
             ],
             [
              0.2222222222222222,
              "#7201a8"
             ],
             [
              0.3333333333333333,
              "#9c179e"
             ],
             [
              0.4444444444444444,
              "#bd3786"
             ],
             [
              0.5555555555555556,
              "#d8576b"
             ],
             [
              0.6666666666666666,
              "#ed7953"
             ],
             [
              0.7777777777777778,
              "#fb9f3a"
             ],
             [
              0.8888888888888888,
              "#fdca26"
             ],
             [
              1,
              "#f0f921"
             ]
            ],
            "type": "histogram2d"
           }
          ],
          "histogram2dcontour": [
           {
            "colorbar": {
             "outlinewidth": 0,
             "ticks": ""
            },
            "colorscale": [
             [
              0,
              "#0d0887"
             ],
             [
              0.1111111111111111,
              "#46039f"
             ],
             [
              0.2222222222222222,
              "#7201a8"
             ],
             [
              0.3333333333333333,
              "#9c179e"
             ],
             [
              0.4444444444444444,
              "#bd3786"
             ],
             [
              0.5555555555555556,
              "#d8576b"
             ],
             [
              0.6666666666666666,
              "#ed7953"
             ],
             [
              0.7777777777777778,
              "#fb9f3a"
             ],
             [
              0.8888888888888888,
              "#fdca26"
             ],
             [
              1,
              "#f0f921"
             ]
            ],
            "type": "histogram2dcontour"
           }
          ],
          "mesh3d": [
           {
            "colorbar": {
             "outlinewidth": 0,
             "ticks": ""
            },
            "type": "mesh3d"
           }
          ],
          "parcoords": [
           {
            "line": {
             "colorbar": {
              "outlinewidth": 0,
              "ticks": ""
             }
            },
            "type": "parcoords"
           }
          ],
          "pie": [
           {
            "automargin": true,
            "type": "pie"
           }
          ],
          "scatter": [
           {
            "marker": {
             "colorbar": {
              "outlinewidth": 0,
              "ticks": ""
             }
            },
            "type": "scatter"
           }
          ],
          "scatter3d": [
           {
            "line": {
             "colorbar": {
              "outlinewidth": 0,
              "ticks": ""
             }
            },
            "marker": {
             "colorbar": {
              "outlinewidth": 0,
              "ticks": ""
             }
            },
            "type": "scatter3d"
           }
          ],
          "scattercarpet": [
           {
            "marker": {
             "colorbar": {
              "outlinewidth": 0,
              "ticks": ""
             }
            },
            "type": "scattercarpet"
           }
          ],
          "scattergeo": [
           {
            "marker": {
             "colorbar": {
              "outlinewidth": 0,
              "ticks": ""
             }
            },
            "type": "scattergeo"
           }
          ],
          "scattergl": [
           {
            "marker": {
             "colorbar": {
              "outlinewidth": 0,
              "ticks": ""
             }
            },
            "type": "scattergl"
           }
          ],
          "scattermapbox": [
           {
            "marker": {
             "colorbar": {
              "outlinewidth": 0,
              "ticks": ""
             }
            },
            "type": "scattermapbox"
           }
          ],
          "scatterpolar": [
           {
            "marker": {
             "colorbar": {
              "outlinewidth": 0,
              "ticks": ""
             }
            },
            "type": "scatterpolar"
           }
          ],
          "scatterpolargl": [
           {
            "marker": {
             "colorbar": {
              "outlinewidth": 0,
              "ticks": ""
             }
            },
            "type": "scatterpolargl"
           }
          ],
          "scatterternary": [
           {
            "marker": {
             "colorbar": {
              "outlinewidth": 0,
              "ticks": ""
             }
            },
            "type": "scatterternary"
           }
          ],
          "surface": [
           {
            "colorbar": {
             "outlinewidth": 0,
             "ticks": ""
            },
            "colorscale": [
             [
              0,
              "#0d0887"
             ],
             [
              0.1111111111111111,
              "#46039f"
             ],
             [
              0.2222222222222222,
              "#7201a8"
             ],
             [
              0.3333333333333333,
              "#9c179e"
             ],
             [
              0.4444444444444444,
              "#bd3786"
             ],
             [
              0.5555555555555556,
              "#d8576b"
             ],
             [
              0.6666666666666666,
              "#ed7953"
             ],
             [
              0.7777777777777778,
              "#fb9f3a"
             ],
             [
              0.8888888888888888,
              "#fdca26"
             ],
             [
              1,
              "#f0f921"
             ]
            ],
            "type": "surface"
           }
          ],
          "table": [
           {
            "cells": {
             "fill": {
              "color": "#EBF0F8"
             },
             "line": {
              "color": "white"
             }
            },
            "header": {
             "fill": {
              "color": "#C8D4E3"
             },
             "line": {
              "color": "white"
             }
            },
            "type": "table"
           }
          ]
         },
         "layout": {
          "annotationdefaults": {
           "arrowcolor": "#2a3f5f",
           "arrowhead": 0,
           "arrowwidth": 1
          },
          "autotypenumbers": "strict",
          "coloraxis": {
           "colorbar": {
            "outlinewidth": 0,
            "ticks": ""
           }
          },
          "colorscale": {
           "diverging": [
            [
             0,
             "#8e0152"
            ],
            [
             0.1,
             "#c51b7d"
            ],
            [
             0.2,
             "#de77ae"
            ],
            [
             0.3,
             "#f1b6da"
            ],
            [
             0.4,
             "#fde0ef"
            ],
            [
             0.5,
             "#f7f7f7"
            ],
            [
             0.6,
             "#e6f5d0"
            ],
            [
             0.7,
             "#b8e186"
            ],
            [
             0.8,
             "#7fbc41"
            ],
            [
             0.9,
             "#4d9221"
            ],
            [
             1,
             "#276419"
            ]
           ],
           "sequential": [
            [
             0,
             "#0d0887"
            ],
            [
             0.1111111111111111,
             "#46039f"
            ],
            [
             0.2222222222222222,
             "#7201a8"
            ],
            [
             0.3333333333333333,
             "#9c179e"
            ],
            [
             0.4444444444444444,
             "#bd3786"
            ],
            [
             0.5555555555555556,
             "#d8576b"
            ],
            [
             0.6666666666666666,
             "#ed7953"
            ],
            [
             0.7777777777777778,
             "#fb9f3a"
            ],
            [
             0.8888888888888888,
             "#fdca26"
            ],
            [
             1,
             "#f0f921"
            ]
           ],
           "sequentialminus": [
            [
             0,
             "#0d0887"
            ],
            [
             0.1111111111111111,
             "#46039f"
            ],
            [
             0.2222222222222222,
             "#7201a8"
            ],
            [
             0.3333333333333333,
             "#9c179e"
            ],
            [
             0.4444444444444444,
             "#bd3786"
            ],
            [
             0.5555555555555556,
             "#d8576b"
            ],
            [
             0.6666666666666666,
             "#ed7953"
            ],
            [
             0.7777777777777778,
             "#fb9f3a"
            ],
            [
             0.8888888888888888,
             "#fdca26"
            ],
            [
             1,
             "#f0f921"
            ]
           ]
          },
          "colorway": [
           "#636efa",
           "#EF553B",
           "#00cc96",
           "#ab63fa",
           "#FFA15A",
           "#19d3f3",
           "#FF6692",
           "#B6E880",
           "#FF97FF",
           "#FECB52"
          ],
          "font": {
           "color": "#2a3f5f"
          },
          "geo": {
           "bgcolor": "white",
           "lakecolor": "white",
           "landcolor": "#E5ECF6",
           "showlakes": true,
           "showland": true,
           "subunitcolor": "white"
          },
          "hoverlabel": {
           "align": "left"
          },
          "hovermode": "closest",
          "mapbox": {
           "style": "light"
          },
          "paper_bgcolor": "white",
          "plot_bgcolor": "#E5ECF6",
          "polar": {
           "angularaxis": {
            "gridcolor": "white",
            "linecolor": "white",
            "ticks": ""
           },
           "bgcolor": "#E5ECF6",
           "radialaxis": {
            "gridcolor": "white",
            "linecolor": "white",
            "ticks": ""
           }
          },
          "scene": {
           "xaxis": {
            "backgroundcolor": "#E5ECF6",
            "gridcolor": "white",
            "gridwidth": 2,
            "linecolor": "white",
            "showbackground": true,
            "ticks": "",
            "zerolinecolor": "white"
           },
           "yaxis": {
            "backgroundcolor": "#E5ECF6",
            "gridcolor": "white",
            "gridwidth": 2,
            "linecolor": "white",
            "showbackground": true,
            "ticks": "",
            "zerolinecolor": "white"
           },
           "zaxis": {
            "backgroundcolor": "#E5ECF6",
            "gridcolor": "white",
            "gridwidth": 2,
            "linecolor": "white",
            "showbackground": true,
            "ticks": "",
            "zerolinecolor": "white"
           }
          },
          "shapedefaults": {
           "line": {
            "color": "#2a3f5f"
           }
          },
          "ternary": {
           "aaxis": {
            "gridcolor": "white",
            "linecolor": "white",
            "ticks": ""
           },
           "baxis": {
            "gridcolor": "white",
            "linecolor": "white",
            "ticks": ""
           },
           "bgcolor": "#E5ECF6",
           "caxis": {
            "gridcolor": "white",
            "linecolor": "white",
            "ticks": ""
           }
          },
          "title": {
           "x": 0.05
          },
          "xaxis": {
           "automargin": true,
           "gridcolor": "white",
           "linecolor": "white",
           "ticks": "",
           "title": {
            "standoff": 15
           },
           "zerolinecolor": "white",
           "zerolinewidth": 2
          },
          "yaxis": {
           "automargin": true,
           "gridcolor": "white",
           "linecolor": "white",
           "ticks": "",
           "title": {
            "standoff": 15
           },
           "zerolinecolor": "white",
           "zerolinewidth": 2
          }
         }
        },
        "title": {
         "text": "ProphetDetector: Anomalies in total_count (Forecast Overlaid)"
        },
        "width": 1000,
        "xaxis": {
         "anchor": "y",
         "domain": [
          0,
          0.94
         ],
         "rangeselector": {
          "buttons": [
           {
            "count": 7,
            "label": "1w",
            "step": "day",
            "stepmode": "backward"
           },
           {
            "count": 1,
            "label": "1m",
            "step": "month",
            "stepmode": "backward"
           },
           {
            "count": 6,
            "label": "6m",
            "step": "month",
            "stepmode": "backward"
           },
           {
            "count": 1,
            "label": "1y",
            "step": "year",
            "stepmode": "backward"
           },
           {
            "step": "all"
           }
          ]
         },
         "rangeslider": {
          "visible": true
         },
         "title": {
          "text": "Time"
         },
         "type": "date"
        },
        "yaxis": {
         "anchor": "x",
         "domain": [
          0,
          1
         ],
         "title": {
          "text": "total_count"
         }
        },
        "yaxis2": {
         "anchor": "x",
         "overlaying": "y",
         "range": [
          -0.3701487633009403,
          8.883570319222567
         ],
         "side": "right",
         "title": {
          "text": "Anomaly Score"
         }
        }
       }
      }
     },
     "metadata": {},
     "output_type": "display_data"
    },
    {
     "name": "stdout",
     "output_type": "stream",
     "text": [
      "Initial log joint probability = -3.25995\n",
      "    Iter      log prob        ||dx||      ||grad||       alpha      alpha0  # evals  Notes \n",
      "      57       370.467   1.33969e-08       89.5294      0.7899      0.7899       81   \n",
      "Optimization terminated normally: \n",
      "  Convergence detected: relative gradient magnitude is below tolerance\n"
     ]
    },
    {
     "data": {
      "application/vnd.plotly.v1+json": {
       "config": {
        "plotlyServerURL": "https://plot.ly"
       },
       "data": [
        {
         "hoverinfo": "skip",
         "line": {
          "width": 0
         },
         "mode": "lines",
         "showlegend": false,
         "type": "scatter",
         "x": [
          "2021-01-02T14:00:00",
          "2021-01-02T19:00:00",
          "2021-01-03T00:00:00",
          "2021-01-03T05:00:00",
          "2021-01-03T10:00:00",
          "2021-01-03T15:00:00",
          "2021-01-03T20:00:00",
          "2021-01-04T01:00:00",
          "2021-01-04T06:00:00",
          "2021-01-04T11:00:00",
          "2021-01-04T16:00:00",
          "2021-01-04T21:00:00",
          "2021-01-05T02:00:00",
          "2021-01-05T07:00:00",
          "2021-01-05T12:00:00",
          "2021-01-05T17:00:00",
          "2021-01-05T22:00:00",
          "2021-01-06T03:00:00",
          "2021-01-06T08:00:00",
          "2021-01-06T13:00:00",
          "2021-01-06T18:00:00",
          "2021-01-06T23:00:00",
          "2021-01-07T04:00:00",
          "2021-01-07T09:00:00",
          "2021-01-07T14:00:00",
          "2021-01-07T19:00:00",
          "2021-01-08T00:00:00",
          "2021-01-08T05:00:00",
          "2021-01-08T10:00:00",
          "2021-01-08T15:00:00",
          "2021-01-08T20:00:00",
          "2021-01-09T01:00:00",
          "2021-01-09T06:00:00",
          "2021-01-09T11:00:00",
          "2021-01-09T16:00:00",
          "2021-01-09T21:00:00",
          "2021-01-10T02:00:00",
          "2021-01-10T07:00:00",
          "2021-01-10T12:00:00",
          "2021-01-10T17:00:00",
          "2021-01-10T22:00:00",
          "2021-01-11T03:00:00",
          "2021-01-11T08:00:00",
          "2021-01-11T13:00:00",
          "2021-01-11T18:00:00",
          "2021-01-11T23:00:00",
          "2021-01-12T04:00:00",
          "2021-01-12T09:00:00",
          "2021-01-12T14:00:00",
          "2021-01-12T19:00:00",
          "2021-01-13T00:00:00",
          "2021-01-13T05:00:00",
          "2021-01-13T10:00:00",
          "2021-01-13T15:00:00",
          "2021-01-13T20:00:00",
          "2021-01-14T01:00:00",
          "2021-01-14T06:00:00",
          "2021-01-14T11:00:00",
          "2021-01-14T16:00:00",
          "2021-01-14T21:00:00",
          "2021-01-15T02:00:00",
          "2021-01-15T07:00:00",
          "2021-01-15T12:00:00",
          "2021-01-15T17:00:00",
          "2021-01-15T22:00:00",
          "2021-01-16T03:00:00",
          "2021-01-16T08:00:00",
          "2021-01-16T13:00:00",
          "2021-01-16T18:00:00",
          "2021-01-16T23:00:00",
          "2021-01-17T04:00:00",
          "2021-01-17T09:00:00",
          "2021-01-17T14:00:00",
          "2021-01-17T19:00:00",
          "2021-01-18T00:00:00",
          "2021-01-18T05:00:00",
          "2021-01-18T10:00:00",
          "2021-01-18T15:00:00",
          "2021-01-18T20:00:00",
          "2021-01-19T01:00:00",
          "2021-01-19T06:00:00",
          "2021-01-19T11:00:00",
          "2021-01-19T16:00:00",
          "2021-01-19T21:00:00",
          "2021-01-20T02:00:00",
          "2021-01-20T07:00:00",
          "2021-01-20T12:00:00",
          "2021-01-20T17:00:00",
          "2021-01-20T22:00:00",
          "2021-01-21T03:00:00",
          "2021-01-21T08:00:00",
          "2021-01-21T13:00:00",
          "2021-01-21T18:00:00",
          "2021-01-21T23:00:00",
          "2021-01-22T04:00:00",
          "2021-01-22T09:00:00",
          "2021-01-22T14:00:00",
          "2021-01-22T19:00:00",
          "2021-01-23T00:00:00",
          "2021-01-23T05:00:00",
          "2021-01-23T10:00:00",
          "2021-01-23T15:00:00",
          "2021-01-23T20:00:00",
          "2021-01-24T01:00:00",
          "2021-01-24T06:00:00",
          "2021-01-24T11:00:00",
          "2021-01-24T16:00:00",
          "2021-01-24T21:00:00",
          "2021-01-25T02:00:00",
          "2021-01-25T07:00:00",
          "2021-01-25T12:00:00",
          "2021-01-25T17:00:00",
          "2021-01-25T22:00:00",
          "2021-01-26T03:00:00",
          "2021-01-26T08:00:00",
          "2021-01-26T13:00:00",
          "2021-01-26T18:00:00",
          "2021-01-26T23:00:00",
          "2021-01-27T04:00:00",
          "2021-01-27T09:00:00",
          "2021-01-27T14:00:00",
          "2021-01-27T19:00:00",
          "2021-01-28T00:00:00",
          "2021-01-28T05:00:00",
          "2021-01-28T10:00:00",
          "2021-01-28T15:00:00",
          "2021-01-28T20:00:00",
          "2021-01-29T01:00:00",
          "2021-01-29T06:00:00",
          "2021-01-29T11:00:00",
          "2021-01-29T16:00:00",
          "2021-01-29T21:00:00",
          "2021-01-30T02:00:00",
          "2021-01-30T07:00:00",
          "2021-01-30T12:00:00",
          "2021-01-30T17:00:00",
          "2021-01-30T22:00:00",
          "2021-01-31T03:00:00",
          "2021-01-31T08:00:00",
          "2021-01-31T13:00:00",
          "2021-01-31T18:00:00",
          "2021-01-31T23:00:00",
          "2021-02-01T04:00:00",
          "2021-02-01T09:00:00",
          "2021-02-01T14:00:00",
          "2021-02-01T19:00:00",
          "2021-02-02T00:00:00",
          "2021-02-02T05:00:00",
          "2021-02-02T10:00:00",
          "2021-02-02T15:00:00",
          "2021-02-02T20:00:00",
          "2021-02-03T01:00:00",
          "2021-02-03T06:00:00",
          "2021-02-03T11:00:00",
          "2021-02-03T16:00:00",
          "2021-02-03T21:00:00",
          "2021-02-04T02:00:00",
          "2021-02-04T07:00:00",
          "2021-02-04T12:00:00",
          "2021-02-04T17:00:00",
          "2021-02-04T22:00:00",
          "2021-02-05T03:00:00",
          "2021-02-05T08:00:00",
          "2021-02-05T13:00:00",
          "2021-02-05T18:00:00",
          "2021-02-05T23:00:00",
          "2021-02-06T04:00:00",
          "2021-02-06T09:00:00",
          "2021-02-06T14:00:00",
          "2021-02-06T19:00:00",
          "2021-02-07T00:00:00",
          "2021-02-07T05:00:00",
          "2021-02-07T10:00:00",
          "2021-02-07T15:00:00",
          "2021-02-07T20:00:00",
          "2021-02-08T01:00:00",
          "2021-02-08T06:00:00",
          "2021-02-08T11:00:00",
          "2021-02-08T16:00:00",
          "2021-02-08T21:00:00",
          "2021-02-09T02:00:00",
          "2021-02-09T07:00:00",
          "2021-02-09T12:00:00",
          "2021-02-09T17:00:00",
          "2021-02-09T22:00:00",
          "2021-02-10T03:00:00",
          "2021-02-10T08:00:00",
          "2021-02-10T13:00:00",
          "2021-02-10T18:00:00",
          "2021-02-10T23:00:00",
          "2021-02-11T04:00:00",
          "2021-02-11T09:00:00",
          "2021-02-11T14:00:00",
          "2021-02-11T19:00:00",
          "2021-02-12T00:00:00",
          "2021-02-12T05:00:00",
          "2021-02-12T10:00:00",
          "2021-02-12T15:00:00",
          "2021-02-12T20:00:00",
          "2021-02-13T01:00:00",
          "2021-02-13T06:00:00",
          "2021-02-13T11:00:00",
          "2021-02-13T16:00:00",
          "2021-02-13T21:00:00",
          "2021-02-14T02:00:00",
          "2021-02-14T07:00:00",
          "2021-02-14T12:00:00",
          "2021-02-14T17:00:00",
          "2021-02-14T22:00:00",
          "2021-02-15T03:00:00",
          "2021-02-15T08:00:00",
          "2021-02-15T13:00:00",
          "2021-02-15T18:00:00",
          "2021-02-15T23:00:00",
          "2021-02-16T04:00:00"
         ],
         "y": [
          94.7606047086993,
          87.74786531526443,
          94.90337966534199,
          85.98633088363356,
          77.74472244088055,
          80.20283755873143,
          84.82381990245747,
          90.46247515677145,
          93.78386683064183,
          104.1257209111285,
          101.20296525553454,
          92.10426538027477,
          100.84692064774983,
          97.22898176705017,
          93.99183665648614,
          88.44498483193432,
          89.64894700053168,
          91.00289641242689,
          82.34437798980106,
          93.05771781376033,
          98.67201015450033,
          84.26363988816522,
          90.18253373606623,
          93.48574872595317,
          98.13384063020342,
          86.94262999602182,
          87.80001689216814,
          99.3724811849379,
          94.44393472235492,
          96.16594747360313,
          83.78700461849338,
          93.72232455270888,
          97.81364544596173,
          114.18994733064513,
          96.13622095997076,
          86.71448072726204,
          107.16627458816674,
          101.39274054348708,
          84.81887195124354,
          95.99787624510874,
          110.67168458200808,
          106.27623589712147,
          95.92807791312866,
          97.35942506784528,
          97.42984628119558,
          94.1406072309224,
          84.94148598441191,
          94.82610252521697,
          80.85376206341623,
          86.03574138590088,
          96.18199897377691,
          96.41219878247585,
          85.0230367567515,
          88.74463232514204,
          91.10434886239825,
          114.27962154854634,
          99.28111957043565,
          100.24680848543876,
          83.05954978430029,
          91.12434475754387,
          93.0689156570429,
          77.6460398015466,
          109.43800306906846,
          95.78172162386518,
          74.82978974390946,
          94.36111500561643,
          93.87599583454926,
          85.3120817073733,
          84.70986336272647,
          81.20535042577941,
          82.14867220116994,
          88.3508680496579,
          100.90815618969148,
          103.67873892515927,
          93.39863512631726,
          79.39062058253829,
          78.85348911967144,
          91.68419241120296,
          78.19688691417264,
          95.48035643017327,
          88.37285238996974,
          73.70980522810295,
          96.14627276355768,
          84.9915896015535,
          104.54049768873809,
          100.88720505951503,
          83.8361853910971,
          102.59722895926019,
          100.45683616013478,
          95.34492452693362,
          88.80107832490052,
          92.55345294217842,
          104.04867846044118,
          89.45612137318085,
          86.52875141885377,
          91.74654486623685,
          92.11917418191845,
          91.24480471576808,
          89.63587831368389,
          96.99742392011109,
          72.20158851450009,
          101.83556648820289,
          90.48367381351147,
          93.73528772290695,
          107.68452742711004,
          84.97535952236527,
          89.5379210467887,
          84.32995346894592,
          101.98378576478855,
          97.01999282141014,
          90.6093361742596,
          87.55586675466989,
          87.47564856688462,
          92.89997274454403,
          90.40655266202205,
          105.29613132712392,
          82.82342644179478,
          91.48757289991646,
          80.97652246763886,
          89.1343704808469,
          84.7549830936433,
          96.0978083811801,
          79.17830903583445,
          98.27203181257596,
          93.2410674595347,
          80.27789708628843,
          102.84951901443333,
          96.02403589056752,
          93.36891164872023,
          92.89352527688847,
          103.43711102898088,
          76.81605056099774,
          100.15463395796358,
          99.32328873483706,
          92.088631855919,
          95.95929451294592,
          78.3396078073758,
          97.17180933512749,
          78.4307014847885,
          92.92001765472322,
          84.97023017373368,
          87.65286348776803,
          100.24509826402586,
          99.47384584527367,
          84.13567649220315,
          93.30777718182483,
          76.29824456122459,
          98.87350459544828,
          93.61369199156458,
          91.37114630215896,
          100.3093484438052,
          80.06795416068194,
          97.95110185734741,
          78.0635945594105,
          84.1137257787956,
          88.8678970814854,
          86.8409470914073,
          90.36650165734332,
          84.93010520408866,
          97.82214772204814,
          117.29815251860794,
          91.07631696365021,
          89.55218121370768,
          79.37476636003615,
          90.67493696136609,
          77.38295750563897,
          92.02237614249151,
          84.26036051603889,
          81.81923483502796,
          99.46615133946993,
          88.12503466689734,
          86.96878700846344,
          83.65128293434366,
          87.77812719984993,
          81.34005527732067,
          97.98758470037423,
          95.27424764576106,
          88.38046815070476,
          88.06445757998458,
          111.04366264063684,
          82.07712395431336,
          77.34679973109088,
          94.23344005715994,
          96.97211660997323,
          79.74432745256362,
          100.25229307282018,
          99.6746381350041,
          84.26247343692482,
          90.82877849042511,
          80.89093419281538,
          91.72277726489203,
          89.34963532186497,
          88.12440367629654,
          91.84668692966078,
          75.03920431684772,
          93.40259563264502,
          90.57340597925673,
          95.33091035952121,
          88.00204692477992,
          85.17831051083076,
          94.2421335908922,
          79.99336223712824,
          76.3663705078585,
          87.42133231306026,
          87.19194023963242,
          99.05999347635165,
          80.07807271666955,
          71.22749535804594,
          95.99819395466758,
          82.69660698259824,
          102.31728005691986,
          94.502581259812,
          88.69003044057982,
          81.3125425546346,
          84.41717855110907
         ]
        },
        {
         "fill": "tonexty",
         "fillcolor": "rgba(0, 114, 178, 0.2)",
         "line": {
          "color": "#0072B2",
          "width": 2
         },
         "mode": "lines",
         "name": "Forecast",
         "type": "scatter",
         "x": [
          "2021-01-02T14:00:00",
          "2021-01-02T19:00:00",
          "2021-01-03T00:00:00",
          "2021-01-03T05:00:00",
          "2021-01-03T10:00:00",
          "2021-01-03T15:00:00",
          "2021-01-03T20:00:00",
          "2021-01-04T01:00:00",
          "2021-01-04T06:00:00",
          "2021-01-04T11:00:00",
          "2021-01-04T16:00:00",
          "2021-01-04T21:00:00",
          "2021-01-05T02:00:00",
          "2021-01-05T07:00:00",
          "2021-01-05T12:00:00",
          "2021-01-05T17:00:00",
          "2021-01-05T22:00:00",
          "2021-01-06T03:00:00",
          "2021-01-06T08:00:00",
          "2021-01-06T13:00:00",
          "2021-01-06T18:00:00",
          "2021-01-06T23:00:00",
          "2021-01-07T04:00:00",
          "2021-01-07T09:00:00",
          "2021-01-07T14:00:00",
          "2021-01-07T19:00:00",
          "2021-01-08T00:00:00",
          "2021-01-08T05:00:00",
          "2021-01-08T10:00:00",
          "2021-01-08T15:00:00",
          "2021-01-08T20:00:00",
          "2021-01-09T01:00:00",
          "2021-01-09T06:00:00",
          "2021-01-09T11:00:00",
          "2021-01-09T16:00:00",
          "2021-01-09T21:00:00",
          "2021-01-10T02:00:00",
          "2021-01-10T07:00:00",
          "2021-01-10T12:00:00",
          "2021-01-10T17:00:00",
          "2021-01-10T22:00:00",
          "2021-01-11T03:00:00",
          "2021-01-11T08:00:00",
          "2021-01-11T13:00:00",
          "2021-01-11T18:00:00",
          "2021-01-11T23:00:00",
          "2021-01-12T04:00:00",
          "2021-01-12T09:00:00",
          "2021-01-12T14:00:00",
          "2021-01-12T19:00:00",
          "2021-01-13T00:00:00",
          "2021-01-13T05:00:00",
          "2021-01-13T10:00:00",
          "2021-01-13T15:00:00",
          "2021-01-13T20:00:00",
          "2021-01-14T01:00:00",
          "2021-01-14T06:00:00",
          "2021-01-14T11:00:00",
          "2021-01-14T16:00:00",
          "2021-01-14T21:00:00",
          "2021-01-15T02:00:00",
          "2021-01-15T07:00:00",
          "2021-01-15T12:00:00",
          "2021-01-15T17:00:00",
          "2021-01-15T22:00:00",
          "2021-01-16T03:00:00",
          "2021-01-16T08:00:00",
          "2021-01-16T13:00:00",
          "2021-01-16T18:00:00",
          "2021-01-16T23:00:00",
          "2021-01-17T04:00:00",
          "2021-01-17T09:00:00",
          "2021-01-17T14:00:00",
          "2021-01-17T19:00:00",
          "2021-01-18T00:00:00",
          "2021-01-18T05:00:00",
          "2021-01-18T10:00:00",
          "2021-01-18T15:00:00",
          "2021-01-18T20:00:00",
          "2021-01-19T01:00:00",
          "2021-01-19T06:00:00",
          "2021-01-19T11:00:00",
          "2021-01-19T16:00:00",
          "2021-01-19T21:00:00",
          "2021-01-20T02:00:00",
          "2021-01-20T07:00:00",
          "2021-01-20T12:00:00",
          "2021-01-20T17:00:00",
          "2021-01-20T22:00:00",
          "2021-01-21T03:00:00",
          "2021-01-21T08:00:00",
          "2021-01-21T13:00:00",
          "2021-01-21T18:00:00",
          "2021-01-21T23:00:00",
          "2021-01-22T04:00:00",
          "2021-01-22T09:00:00",
          "2021-01-22T14:00:00",
          "2021-01-22T19:00:00",
          "2021-01-23T00:00:00",
          "2021-01-23T05:00:00",
          "2021-01-23T10:00:00",
          "2021-01-23T15:00:00",
          "2021-01-23T20:00:00",
          "2021-01-24T01:00:00",
          "2021-01-24T06:00:00",
          "2021-01-24T11:00:00",
          "2021-01-24T16:00:00",
          "2021-01-24T21:00:00",
          "2021-01-25T02:00:00",
          "2021-01-25T07:00:00",
          "2021-01-25T12:00:00",
          "2021-01-25T17:00:00",
          "2021-01-25T22:00:00",
          "2021-01-26T03:00:00",
          "2021-01-26T08:00:00",
          "2021-01-26T13:00:00",
          "2021-01-26T18:00:00",
          "2021-01-26T23:00:00",
          "2021-01-27T04:00:00",
          "2021-01-27T09:00:00",
          "2021-01-27T14:00:00",
          "2021-01-27T19:00:00",
          "2021-01-28T00:00:00",
          "2021-01-28T05:00:00",
          "2021-01-28T10:00:00",
          "2021-01-28T15:00:00",
          "2021-01-28T20:00:00",
          "2021-01-29T01:00:00",
          "2021-01-29T06:00:00",
          "2021-01-29T11:00:00",
          "2021-01-29T16:00:00",
          "2021-01-29T21:00:00",
          "2021-01-30T02:00:00",
          "2021-01-30T07:00:00",
          "2021-01-30T12:00:00",
          "2021-01-30T17:00:00",
          "2021-01-30T22:00:00",
          "2021-01-31T03:00:00",
          "2021-01-31T08:00:00",
          "2021-01-31T13:00:00",
          "2021-01-31T18:00:00",
          "2021-01-31T23:00:00",
          "2021-02-01T04:00:00",
          "2021-02-01T09:00:00",
          "2021-02-01T14:00:00",
          "2021-02-01T19:00:00",
          "2021-02-02T00:00:00",
          "2021-02-02T05:00:00",
          "2021-02-02T10:00:00",
          "2021-02-02T15:00:00",
          "2021-02-02T20:00:00",
          "2021-02-03T01:00:00",
          "2021-02-03T06:00:00",
          "2021-02-03T11:00:00",
          "2021-02-03T16:00:00",
          "2021-02-03T21:00:00",
          "2021-02-04T02:00:00",
          "2021-02-04T07:00:00",
          "2021-02-04T12:00:00",
          "2021-02-04T17:00:00",
          "2021-02-04T22:00:00",
          "2021-02-05T03:00:00",
          "2021-02-05T08:00:00",
          "2021-02-05T13:00:00",
          "2021-02-05T18:00:00",
          "2021-02-05T23:00:00",
          "2021-02-06T04:00:00",
          "2021-02-06T09:00:00",
          "2021-02-06T14:00:00",
          "2021-02-06T19:00:00",
          "2021-02-07T00:00:00",
          "2021-02-07T05:00:00",
          "2021-02-07T10:00:00",
          "2021-02-07T15:00:00",
          "2021-02-07T20:00:00",
          "2021-02-08T01:00:00",
          "2021-02-08T06:00:00",
          "2021-02-08T11:00:00",
          "2021-02-08T16:00:00",
          "2021-02-08T21:00:00",
          "2021-02-09T02:00:00",
          "2021-02-09T07:00:00",
          "2021-02-09T12:00:00",
          "2021-02-09T17:00:00",
          "2021-02-09T22:00:00",
          "2021-02-10T03:00:00",
          "2021-02-10T08:00:00",
          "2021-02-10T13:00:00",
          "2021-02-10T18:00:00",
          "2021-02-10T23:00:00",
          "2021-02-11T04:00:00",
          "2021-02-11T09:00:00",
          "2021-02-11T14:00:00",
          "2021-02-11T19:00:00",
          "2021-02-12T00:00:00",
          "2021-02-12T05:00:00",
          "2021-02-12T10:00:00",
          "2021-02-12T15:00:00",
          "2021-02-12T20:00:00",
          "2021-02-13T01:00:00",
          "2021-02-13T06:00:00",
          "2021-02-13T11:00:00",
          "2021-02-13T16:00:00",
          "2021-02-13T21:00:00",
          "2021-02-14T02:00:00",
          "2021-02-14T07:00:00",
          "2021-02-14T12:00:00",
          "2021-02-14T17:00:00",
          "2021-02-14T22:00:00",
          "2021-02-15T03:00:00",
          "2021-02-15T08:00:00",
          "2021-02-15T13:00:00",
          "2021-02-15T18:00:00",
          "2021-02-15T23:00:00",
          "2021-02-16T04:00:00"
         ],
         "y": [
          2.0308729990859247,
          2.0092042735813553,
          1.9875355480767862,
          1.9658668225722171,
          1.9441980970676478,
          1.9225293715630787,
          1.9008606460585094,
          1.8791919205539402,
          1.857523199774665,
          1.8358544789953901,
          1.8141857582161147,
          1.79251703743684,
          1.7708483166575646,
          1.7491795958782894,
          1.7275108750990145,
          1.7058421905243135,
          1.684173505949613,
          1.662504821374912,
          1.6408361368002113,
          1.6191674522255108,
          1.59749876765081,
          1.5758300830761092,
          1.5541613981691889,
          1.5324927132622685,
          1.5108240283553485,
          1.4891553434484281,
          1.4674866585415078,
          1.4458179736345882,
          1.4241493247111565,
          1.402480675787725,
          1.3808120268642936,
          1.359143377940862,
          1.3374747290174303,
          1.3158060800939988,
          1.2941374311705676,
          1.2724688041951666,
          1.2508001772197659,
          1.2291315502443652,
          1.2074629232689646,
          1.185794296293564,
          1.1641256693181634,
          1.1424570423427625,
          1.1207884444269824,
          1.0991198465112024,
          1.0774512485954226,
          1.0557826506796426,
          1.0341140527638626,
          1.0124454548480826,
          0.9907768569323027,
          0.9691082707065404,
          0.947439684480778,
          0.9257710982550158,
          0.9041025120292536,
          0.8824339258034912,
          0.8607653395777292,
          0.8390967533519668,
          0.8174281767266406,
          0.7957596001013144,
          0.7740910234759882,
          0.7524224468506621,
          0.7307538702253359,
          0.7090852936000096,
          0.6874167169746832,
          0.6657481612262881,
          0.6440796054778929,
          0.6224110497294978,
          0.6007424939811027,
          0.5790739382327076,
          0.5574053824843124,
          0.5357368345683523,
          0.514068286652392,
          0.49239973873643167,
          0.47073119082047166,
          0.4490626429045113,
          0.42739409498855097,
          0.4057255470725907,
          0.38405701021013017,
          0.36238847334766944,
          0.3407199364852087,
          0.319051399622748,
          0.2973828627602873,
          0.2757143258978266,
          0.25404578903536584,
          0.23237725682251303,
          0.21070872460966,
          0.18904019239680722,
          0.1673716601839542,
          0.1457031279711014,
          0.12403459575824836,
          0.10236606354539558,
          0.08069753806222109,
          0.05902901257904685,
          0.03736048709587262,
          0.015691961612698386,
          -0.005976563870476119,
          -0.02764508935365035,
          -0.04931361483682486,
          -0.07098215202301296,
          -0.09265068920920105,
          -0.11431922639538915,
          -0.13598776358157724,
          -0.15765630076776563,
          -0.17932483795395374,
          -0.2009933751401421,
          -0.22266190799396932,
          -0.24433044084779654,
          -0.2659989737016238,
          -0.287667506555451,
          -0.30933603940927795,
          -0.3310045722631054,
          -0.35267309039980393,
          -0.37434160853650267,
          -0.3960101266732011,
          -0.41767864480989986,
          -0.43934716294659837,
          -0.4610156810832974,
          -0.48268419921999556,
          -0.504352715680104,
          -0.5260212321402118,
          -0.5476897486003207,
          -0.5693582650604285,
          -0.591026781520537,
          -0.6126952979806448,
          -0.6343638144407535,
          -0.6555718530541582,
          -0.676779891667563,
          -0.6979879302809673,
          -0.7191959688943721,
          -0.7404040075077764,
          -0.761612046121181,
          -0.7828200847345853,
          -0.8040281440329041,
          -0.8252362033312217,
          -0.8464442626295404,
          -0.8676523219278587,
          -0.8888603812261774,
          -0.9100684405244956,
          -0.9312764998228144,
          -0.9524845677474024,
          -0.9736926356719912,
          -0.9949007035965793,
          -1.0161087715211674,
          -1.0373168394457555,
          -1.0585249073703442,
          -1.079732975294932,
          -1.1009410450878059,
          -1.1221491148806784,
          -1.143357184673552,
          -1.1645652544664247,
          -1.1857733242592983,
          -1.206981394052171,
          -1.2281894468943058,
          -1.2493974997364392,
          -1.2706055525785735,
          -1.291813605420707,
          -1.3130216582628411,
          -1.3342297111049748,
          -1.3554377639471094,
          -1.3766458123648868,
          -1.3978538607826643,
          -1.419061909200442,
          -1.4402699576182194,
          -1.4614780060359964,
          -1.4826860544537745,
          -1.5038941028715518,
          -1.5251021454491878,
          -1.5463101880268237,
          -1.5675182306044597,
          -1.5887262731820957,
          -1.6099343157597314,
          -1.6311423583373674,
          -1.6523504009150036,
          -1.6735584542722846,
          -1.6947665076295657,
          -1.715974560986846,
          -1.7371826143441276,
          -1.7583906677014078,
          -1.779598721058689,
          -1.80080677441597,
          -1.8220148277732509,
          -1.8432228811305318,
          -1.8644309344878127,
          -1.8856389878450932,
          -1.9068470412023746,
          -1.928055094559655,
          -1.949263147916936,
          -1.970471201274217,
          -1.9916792546314979,
          -2.012887307988779,
          -2.03409536134606,
          -2.05530341470334,
          -2.076511468060622,
          -2.0977195214179023,
          -2.1189275747751832,
          -2.140135628132464,
          -2.161343681489745,
          -2.1825517348470256,
          -2.203759788204307,
          -2.2249678415615874,
          -2.2461758949188684,
          -2.2673839482761493,
          -2.2885920016334302,
          -2.309800054990711,
          -2.331008108347992,
          -2.3522161617052726,
          -2.373424215062554,
          -2.3946322684198345,
          -2.4158403217771154,
          -2.4370483751343963,
          -2.4582564284916772,
          -2.479464481848958,
          -2.500672535206239,
          -2.5218805885635196,
          -2.543088641920801,
          -2.5642966952780815
         ]
        },
        {
         "fill": "tonexty",
         "fillcolor": "rgba(0, 114, 178, 0.2)",
         "hoverinfo": "skip",
         "line": {
          "width": 0
         },
         "mode": "lines",
         "showlegend": false,
         "type": "scatter",
         "x": [
          "2021-01-02T14:00:00",
          "2021-01-02T19:00:00",
          "2021-01-03T00:00:00",
          "2021-01-03T05:00:00",
          "2021-01-03T10:00:00",
          "2021-01-03T15:00:00",
          "2021-01-03T20:00:00",
          "2021-01-04T01:00:00",
          "2021-01-04T06:00:00",
          "2021-01-04T11:00:00",
          "2021-01-04T16:00:00",
          "2021-01-04T21:00:00",
          "2021-01-05T02:00:00",
          "2021-01-05T07:00:00",
          "2021-01-05T12:00:00",
          "2021-01-05T17:00:00",
          "2021-01-05T22:00:00",
          "2021-01-06T03:00:00",
          "2021-01-06T08:00:00",
          "2021-01-06T13:00:00",
          "2021-01-06T18:00:00",
          "2021-01-06T23:00:00",
          "2021-01-07T04:00:00",
          "2021-01-07T09:00:00",
          "2021-01-07T14:00:00",
          "2021-01-07T19:00:00",
          "2021-01-08T00:00:00",
          "2021-01-08T05:00:00",
          "2021-01-08T10:00:00",
          "2021-01-08T15:00:00",
          "2021-01-08T20:00:00",
          "2021-01-09T01:00:00",
          "2021-01-09T06:00:00",
          "2021-01-09T11:00:00",
          "2021-01-09T16:00:00",
          "2021-01-09T21:00:00",
          "2021-01-10T02:00:00",
          "2021-01-10T07:00:00",
          "2021-01-10T12:00:00",
          "2021-01-10T17:00:00",
          "2021-01-10T22:00:00",
          "2021-01-11T03:00:00",
          "2021-01-11T08:00:00",
          "2021-01-11T13:00:00",
          "2021-01-11T18:00:00",
          "2021-01-11T23:00:00",
          "2021-01-12T04:00:00",
          "2021-01-12T09:00:00",
          "2021-01-12T14:00:00",
          "2021-01-12T19:00:00",
          "2021-01-13T00:00:00",
          "2021-01-13T05:00:00",
          "2021-01-13T10:00:00",
          "2021-01-13T15:00:00",
          "2021-01-13T20:00:00",
          "2021-01-14T01:00:00",
          "2021-01-14T06:00:00",
          "2021-01-14T11:00:00",
          "2021-01-14T16:00:00",
          "2021-01-14T21:00:00",
          "2021-01-15T02:00:00",
          "2021-01-15T07:00:00",
          "2021-01-15T12:00:00",
          "2021-01-15T17:00:00",
          "2021-01-15T22:00:00",
          "2021-01-16T03:00:00",
          "2021-01-16T08:00:00",
          "2021-01-16T13:00:00",
          "2021-01-16T18:00:00",
          "2021-01-16T23:00:00",
          "2021-01-17T04:00:00",
          "2021-01-17T09:00:00",
          "2021-01-17T14:00:00",
          "2021-01-17T19:00:00",
          "2021-01-18T00:00:00",
          "2021-01-18T05:00:00",
          "2021-01-18T10:00:00",
          "2021-01-18T15:00:00",
          "2021-01-18T20:00:00",
          "2021-01-19T01:00:00",
          "2021-01-19T06:00:00",
          "2021-01-19T11:00:00",
          "2021-01-19T16:00:00",
          "2021-01-19T21:00:00",
          "2021-01-20T02:00:00",
          "2021-01-20T07:00:00",
          "2021-01-20T12:00:00",
          "2021-01-20T17:00:00",
          "2021-01-20T22:00:00",
          "2021-01-21T03:00:00",
          "2021-01-21T08:00:00",
          "2021-01-21T13:00:00",
          "2021-01-21T18:00:00",
          "2021-01-21T23:00:00",
          "2021-01-22T04:00:00",
          "2021-01-22T09:00:00",
          "2021-01-22T14:00:00",
          "2021-01-22T19:00:00",
          "2021-01-23T00:00:00",
          "2021-01-23T05:00:00",
          "2021-01-23T10:00:00",
          "2021-01-23T15:00:00",
          "2021-01-23T20:00:00",
          "2021-01-24T01:00:00",
          "2021-01-24T06:00:00",
          "2021-01-24T11:00:00",
          "2021-01-24T16:00:00",
          "2021-01-24T21:00:00",
          "2021-01-25T02:00:00",
          "2021-01-25T07:00:00",
          "2021-01-25T12:00:00",
          "2021-01-25T17:00:00",
          "2021-01-25T22:00:00",
          "2021-01-26T03:00:00",
          "2021-01-26T08:00:00",
          "2021-01-26T13:00:00",
          "2021-01-26T18:00:00",
          "2021-01-26T23:00:00",
          "2021-01-27T04:00:00",
          "2021-01-27T09:00:00",
          "2021-01-27T14:00:00",
          "2021-01-27T19:00:00",
          "2021-01-28T00:00:00",
          "2021-01-28T05:00:00",
          "2021-01-28T10:00:00",
          "2021-01-28T15:00:00",
          "2021-01-28T20:00:00",
          "2021-01-29T01:00:00",
          "2021-01-29T06:00:00",
          "2021-01-29T11:00:00",
          "2021-01-29T16:00:00",
          "2021-01-29T21:00:00",
          "2021-01-30T02:00:00",
          "2021-01-30T07:00:00",
          "2021-01-30T12:00:00",
          "2021-01-30T17:00:00",
          "2021-01-30T22:00:00",
          "2021-01-31T03:00:00",
          "2021-01-31T08:00:00",
          "2021-01-31T13:00:00",
          "2021-01-31T18:00:00",
          "2021-01-31T23:00:00",
          "2021-02-01T04:00:00",
          "2021-02-01T09:00:00",
          "2021-02-01T14:00:00",
          "2021-02-01T19:00:00",
          "2021-02-02T00:00:00",
          "2021-02-02T05:00:00",
          "2021-02-02T10:00:00",
          "2021-02-02T15:00:00",
          "2021-02-02T20:00:00",
          "2021-02-03T01:00:00",
          "2021-02-03T06:00:00",
          "2021-02-03T11:00:00",
          "2021-02-03T16:00:00",
          "2021-02-03T21:00:00",
          "2021-02-04T02:00:00",
          "2021-02-04T07:00:00",
          "2021-02-04T12:00:00",
          "2021-02-04T17:00:00",
          "2021-02-04T22:00:00",
          "2021-02-05T03:00:00",
          "2021-02-05T08:00:00",
          "2021-02-05T13:00:00",
          "2021-02-05T18:00:00",
          "2021-02-05T23:00:00",
          "2021-02-06T04:00:00",
          "2021-02-06T09:00:00",
          "2021-02-06T14:00:00",
          "2021-02-06T19:00:00",
          "2021-02-07T00:00:00",
          "2021-02-07T05:00:00",
          "2021-02-07T10:00:00",
          "2021-02-07T15:00:00",
          "2021-02-07T20:00:00",
          "2021-02-08T01:00:00",
          "2021-02-08T06:00:00",
          "2021-02-08T11:00:00",
          "2021-02-08T16:00:00",
          "2021-02-08T21:00:00",
          "2021-02-09T02:00:00",
          "2021-02-09T07:00:00",
          "2021-02-09T12:00:00",
          "2021-02-09T17:00:00",
          "2021-02-09T22:00:00",
          "2021-02-10T03:00:00",
          "2021-02-10T08:00:00",
          "2021-02-10T13:00:00",
          "2021-02-10T18:00:00",
          "2021-02-10T23:00:00",
          "2021-02-11T04:00:00",
          "2021-02-11T09:00:00",
          "2021-02-11T14:00:00",
          "2021-02-11T19:00:00",
          "2021-02-12T00:00:00",
          "2021-02-12T05:00:00",
          "2021-02-12T10:00:00",
          "2021-02-12T15:00:00",
          "2021-02-12T20:00:00",
          "2021-02-13T01:00:00",
          "2021-02-13T06:00:00",
          "2021-02-13T11:00:00",
          "2021-02-13T16:00:00",
          "2021-02-13T21:00:00",
          "2021-02-14T02:00:00",
          "2021-02-14T07:00:00",
          "2021-02-14T12:00:00",
          "2021-02-14T17:00:00",
          "2021-02-14T22:00:00",
          "2021-02-15T03:00:00",
          "2021-02-15T08:00:00",
          "2021-02-15T13:00:00",
          "2021-02-15T18:00:00",
          "2021-02-15T23:00:00",
          "2021-02-16T04:00:00"
         ],
         "y": [
          -91.33168496473854,
          -87.40358515531815,
          -85.3823148879773,
          -87.45071845112622,
          -97.95925604899814,
          -103.82817676154434,
          -77.45316077314158,
          -82.06625616574824,
          -106.82342066333749,
          -73.26955301325644,
          -89.59804776955137,
          -87.32463695451888,
          -98.21470921815802,
          -73.37106395403539,
          -86.55824917288544,
          -99.89884217327698,
          -81.59881630906992,
          -98.30335238552385,
          -83.94041060353634,
          -80.25022505144635,
          -78.8726692261191,
          -85.51184293258768,
          -105.99082107742421,
          -87.9934051070396,
          -86.72222412403958,
          -102.78386942110399,
          -99.30236004993826,
          -86.59877633124302,
          -82.43656947894853,
          -83.94893014112621,
          -79.98988372465611,
          -99.24037727248121,
          -95.22875861273063,
          -85.04701304217562,
          -82.28319285193102,
          -86.72684062489802,
          -68.6927526058399,
          -103.71165986011552,
          -84.04584334694951,
          -102.19230736708433,
          -85.88249608455646,
          -85.91950313988929,
          -94.18992328509808,
          -80.74441802027934,
          -84.75466997030233,
          -76.48547984041792,
          -96.07194614303616,
          -79.95289637927918,
          -101.98940729853648,
          -97.72149382135392,
          -88.73604618403351,
          -93.1565176106612,
          -104.50439296972897,
          -97.915563953,
          -94.93321106113257,
          -90.93884416778947,
          -87.15514165618178,
          -86.83240974950003,
          -108.21015223990373,
          -97.94483754493533,
          -90.13333532446832,
          -89.66823607349475,
          -68.29617378259927,
          -95.62567026144814,
          -92.91026551941863,
          -91.43725563485067,
          -74.47421359148352,
          -104.5071209239258,
          -97.84199116727544,
          -101.30433314539765,
          -100.9372604131136,
          -79.2655112852779,
          -87.7472288662796,
          -90.59869080174023,
          -97.20553865606149,
          -90.97317215882974,
          -94.001115588271,
          -101.24443938539179,
          -82.825422776505,
          -97.23388086411413,
          -87.48003230802622,
          -104.45090952689465,
          -89.27213822643311,
          -82.99001846295981,
          -99.69347921387411,
          -80.99256218858318,
          -84.11597293854302,
          -86.1940424995921,
          -68.66600973530592,
          -81.78502794716715,
          -82.98382319133961,
          -99.25817166710029,
          -81.56948831371588,
          -89.98114337175753,
          -99.86470873042272,
          -103.52431629510917,
          -92.63205104453058,
          -98.38856737292448,
          -98.42353885929323,
          -100.08791444192869,
          -110.00974585020832,
          -85.10336161278477,
          -89.79707741060597,
          -97.76534898262494,
          -77.97767328513628,
          -99.70354678640746,
          -100.88144760215972,
          -103.54067458364415,
          -69.97807865371219,
          -78.48583325741285,
          -85.99375501594233,
          -97.30142372848988,
          -86.10512962561644,
          -82.65805801069614,
          -95.24455543702598,
          -68.03952660196325,
          -104.99733721673077,
          -81.13698633614925,
          -96.5234090050662,
          -109.91778948188048,
          -95.34477051870445,
          -87.10879971647046,
          -89.49875143453346,
          -97.86676349581867,
          -78.74788559743986,
          -98.45721462858992,
          -71.69088070466647,
          -89.75220570397073,
          -97.91202413627894,
          -91.78459006256188,
          -84.92747226081646,
          -99.77671440104733,
          -84.28011462133351,
          -81.7666069903295,
          -89.74460669081796,
          -95.66957735544729,
          -94.05191700012568,
          -80.54897609460318,
          -91.71271405385006,
          -100.83071602026546,
          -88.98320366101801,
          -81.48568856150513,
          -95.44578032662848,
          -84.36237684481237,
          -90.75038103782109,
          -97.23275407163273,
          -97.83761202032306,
          -75.98046476541545,
          -94.19235023805803,
          -91.12243118474537,
          -95.44994403304979,
          -98.8729886318765,
          -99.81921223262746,
          -94.44219008817093,
          -96.3814380355373,
          -86.1706016461241,
          -94.21809603244748,
          -98.95342973750779,
          -94.65994268088353,
          -96.36926062039085,
          -71.24169154074208,
          -89.87542332844923,
          -105.06484565021822,
          -89.5556119633082,
          -94.3939566015789,
          -86.56072455691547,
          -84.45355437463037,
          -93.24554001037505,
          -82.6670581809783,
          -91.52717545720718,
          -98.07563649537663,
          -101.4825257451304,
          -91.40525623906218,
          -84.1374938054814,
          -95.9303382575563,
          -75.41440322868303,
          -84.95826279703903,
          -96.19202440452715,
          -90.4480768226584,
          -84.80351528373674,
          -95.72309694779142,
          -97.89847110424964,
          -86.53827171408649,
          -100.12250036862794,
          -100.35174454805033,
          -70.57684205825424,
          -78.90322898225165,
          -100.26992361727996,
          -83.47206132995518,
          -100.60436873897244,
          -77.50499303361981,
          -90.9691043332944,
          -81.75722842916646,
          -103.58890335688255,
          -94.06400797301984,
          -90.20483738438725,
          -100.57633282308883,
          -86.71248131064452,
          -92.17558270841306,
          -95.67569375318091,
          -104.04999775320717,
          -110.54587051855701,
          -100.3981370101046,
          -89.21907398831772,
          -94.47109711807678,
          -92.40478091969186,
          -87.08763362335137,
          -92.32864716199799,
          -97.66111172793276,
          -87.16300915388777,
          -96.72716414658272,
          -92.1805086922484,
          -101.05624023388529,
          -92.99533387087635,
          -93.72643050536634
         ]
        },
        {
         "line": {
          "color": "black",
          "width": 2
         },
         "mode": "lines",
         "name": "top1_hashtag_count",
         "type": "scatter",
         "x": [
          "2021-01-02T14:00:00",
          "2021-01-02T19:00:00",
          "2021-01-03T00:00:00",
          "2021-01-03T05:00:00",
          "2021-01-03T10:00:00",
          "2021-01-03T15:00:00",
          "2021-01-03T20:00:00",
          "2021-01-04T01:00:00",
          "2021-01-04T06:00:00",
          "2021-01-04T11:00:00",
          "2021-01-04T16:00:00",
          "2021-01-04T21:00:00",
          "2021-01-05T02:00:00",
          "2021-01-05T07:00:00",
          "2021-01-05T12:00:00",
          "2021-01-05T17:00:00",
          "2021-01-05T22:00:00",
          "2021-01-06T03:00:00",
          "2021-01-06T08:00:00",
          "2021-01-06T13:00:00",
          "2021-01-06T18:00:00",
          "2021-01-06T23:00:00",
          "2021-01-07T04:00:00",
          "2021-01-07T09:00:00",
          "2021-01-07T14:00:00",
          "2021-01-07T19:00:00",
          "2021-01-08T00:00:00",
          "2021-01-08T05:00:00",
          "2021-01-08T10:00:00",
          "2021-01-08T15:00:00",
          "2021-01-08T20:00:00",
          "2021-01-09T01:00:00",
          "2021-01-09T06:00:00",
          "2021-01-09T11:00:00",
          "2021-01-09T16:00:00",
          "2021-01-09T21:00:00",
          "2021-01-10T02:00:00",
          "2021-01-10T07:00:00",
          "2021-01-10T12:00:00",
          "2021-01-10T17:00:00",
          "2021-01-10T22:00:00",
          "2021-01-11T03:00:00",
          "2021-01-11T08:00:00",
          "2021-01-11T13:00:00",
          "2021-01-11T18:00:00",
          "2021-01-11T23:00:00",
          "2021-01-12T04:00:00",
          "2021-01-12T09:00:00",
          "2021-01-12T14:00:00",
          "2021-01-12T19:00:00",
          "2021-01-13T00:00:00",
          "2021-01-13T05:00:00",
          "2021-01-13T10:00:00",
          "2021-01-13T15:00:00",
          "2021-01-13T20:00:00",
          "2021-01-14T01:00:00",
          "2021-01-14T06:00:00",
          "2021-01-14T11:00:00",
          "2021-01-14T16:00:00",
          "2021-01-14T21:00:00",
          "2021-01-15T02:00:00",
          "2021-01-15T07:00:00",
          "2021-01-15T12:00:00",
          "2021-01-15T17:00:00",
          "2021-01-15T22:00:00",
          "2021-01-16T03:00:00",
          "2021-01-16T08:00:00",
          "2021-01-16T13:00:00",
          "2021-01-16T18:00:00",
          "2021-01-16T23:00:00",
          "2021-01-17T04:00:00",
          "2021-01-17T09:00:00",
          "2021-01-17T14:00:00",
          "2021-01-17T19:00:00",
          "2021-01-18T00:00:00",
          "2021-01-18T05:00:00",
          "2021-01-18T10:00:00",
          "2021-01-18T15:00:00",
          "2021-01-18T20:00:00",
          "2021-01-19T01:00:00",
          "2021-01-19T06:00:00",
          "2021-01-19T11:00:00",
          "2021-01-19T16:00:00",
          "2021-01-19T21:00:00",
          "2021-01-20T02:00:00",
          "2021-01-20T07:00:00",
          "2021-01-20T12:00:00",
          "2021-01-20T17:00:00",
          "2021-01-20T22:00:00",
          "2021-01-21T03:00:00",
          "2021-01-21T08:00:00",
          "2021-01-21T13:00:00",
          "2021-01-21T18:00:00",
          "2021-01-21T23:00:00",
          "2021-01-22T04:00:00",
          "2021-01-22T09:00:00",
          "2021-01-22T14:00:00",
          "2021-01-22T19:00:00",
          "2021-01-23T00:00:00",
          "2021-01-23T05:00:00",
          "2021-01-23T10:00:00",
          "2021-01-23T15:00:00",
          "2021-01-23T20:00:00",
          "2021-01-24T01:00:00",
          "2021-01-24T06:00:00",
          "2021-01-24T11:00:00",
          "2021-01-24T16:00:00",
          "2021-01-24T21:00:00",
          "2021-01-25T02:00:00",
          "2021-01-25T07:00:00",
          "2021-01-25T12:00:00",
          "2021-01-25T17:00:00",
          "2021-01-25T22:00:00",
          "2021-01-26T03:00:00",
          "2021-01-26T08:00:00",
          "2021-01-26T13:00:00",
          "2021-01-26T18:00:00",
          "2021-01-26T23:00:00",
          "2021-01-27T04:00:00",
          "2021-01-27T09:00:00",
          "2021-01-27T14:00:00",
          "2021-01-27T19:00:00",
          "2021-01-28T00:00:00",
          "2021-01-28T05:00:00",
          "2021-01-28T10:00:00",
          "2021-01-28T15:00:00",
          "2021-01-28T20:00:00",
          "2021-01-29T01:00:00",
          "2021-01-29T06:00:00",
          "2021-01-29T11:00:00",
          "2021-01-29T16:00:00",
          "2021-01-29T21:00:00",
          "2021-01-30T02:00:00",
          "2021-01-30T07:00:00",
          "2021-01-30T12:00:00",
          "2021-01-30T17:00:00",
          "2021-01-30T22:00:00",
          "2021-01-31T03:00:00",
          "2021-01-31T08:00:00",
          "2021-01-31T13:00:00",
          "2021-01-31T18:00:00",
          "2021-01-31T23:00:00",
          "2021-02-01T04:00:00",
          "2021-02-01T09:00:00",
          "2021-02-01T14:00:00",
          "2021-02-01T19:00:00",
          "2021-02-02T00:00:00",
          "2021-02-02T05:00:00",
          "2021-02-02T10:00:00",
          "2021-02-02T15:00:00",
          "2021-02-02T20:00:00",
          "2021-02-03T01:00:00",
          "2021-02-03T06:00:00",
          "2021-02-03T11:00:00",
          "2021-02-03T16:00:00",
          "2021-02-03T21:00:00",
          "2021-02-04T02:00:00",
          "2021-02-04T07:00:00",
          "2021-02-04T12:00:00",
          "2021-02-04T17:00:00",
          "2021-02-04T22:00:00",
          "2021-02-05T03:00:00",
          "2021-02-05T08:00:00",
          "2021-02-05T13:00:00",
          "2021-02-05T18:00:00",
          "2021-02-05T23:00:00",
          "2021-02-06T04:00:00",
          "2021-02-06T09:00:00",
          "2021-02-06T14:00:00",
          "2021-02-06T19:00:00",
          "2021-02-07T00:00:00",
          "2021-02-07T05:00:00",
          "2021-02-07T10:00:00",
          "2021-02-07T15:00:00",
          "2021-02-07T20:00:00",
          "2021-02-08T01:00:00",
          "2021-02-08T06:00:00",
          "2021-02-08T11:00:00",
          "2021-02-08T16:00:00",
          "2021-02-08T21:00:00",
          "2021-02-09T02:00:00",
          "2021-02-09T07:00:00",
          "2021-02-09T12:00:00",
          "2021-02-09T17:00:00",
          "2021-02-09T22:00:00",
          "2021-02-10T03:00:00",
          "2021-02-10T08:00:00",
          "2021-02-10T13:00:00",
          "2021-02-10T18:00:00",
          "2021-02-10T23:00:00",
          "2021-02-11T04:00:00",
          "2021-02-11T09:00:00",
          "2021-02-11T14:00:00",
          "2021-02-11T19:00:00",
          "2021-02-12T00:00:00",
          "2021-02-12T05:00:00",
          "2021-02-12T10:00:00",
          "2021-02-12T15:00:00",
          "2021-02-12T20:00:00",
          "2021-02-13T01:00:00",
          "2021-02-13T06:00:00",
          "2021-02-13T11:00:00",
          "2021-02-13T16:00:00",
          "2021-02-13T21:00:00",
          "2021-02-14T02:00:00",
          "2021-02-14T07:00:00",
          "2021-02-14T12:00:00",
          "2021-02-14T17:00:00",
          "2021-02-14T22:00:00",
          "2021-02-15T03:00:00",
          "2021-02-15T08:00:00",
          "2021-02-15T13:00:00",
          "2021-02-15T18:00:00",
          "2021-02-15T23:00:00",
          "2021-02-16T04:00:00"
         ],
         "y": [
          3,
          -3,
          0,
          0,
          0,
          0,
          0,
          0,
          0,
          1,
          1,
          27,
          -6,
          -19,
          1,
          -3,
          4,
          -5,
          0,
          0,
          0,
          14,
          -13,
          -1,
          1,
          -2,
          0,
          0,
          1,
          -1,
          0,
          2,
          -2,
          0,
          1,
          102,
          295,
          -290,
          14,
          -72,
          -35,
          -15,
          3,
          -1,
          29,
          41,
          -58,
          -8,
          10,
          -9,
          1258,
          -1088,
          780,
          -401,
          -393,
          -98,
          -48,
          -1,
          -14,
          6,
          -4,
          -3,
          0,
          1,
          2,
          -4,
          0,
          3,
          -2,
          1,
          -1,
          3,
          230,
          -127,
          -78,
          -22,
          -5,
          0,
          24,
          -17,
          -9,
          2,
          -2,
          1,
          -1,
          1,
          0,
          -1,
          7,
          7,
          -14,
          2,
          -1,
          0,
          -1,
          5,
          -4,
          1,
          -2,
          0,
          0,
          1,
          -1,
          0,
          0,
          0,
          1,
          9,
          -9,
          1,
          -2,
          0,
          1,
          -1,
          0,
          0,
          0,
          3,
          -2,
          -1,
          2,
          11,
          26,
          -36,
          5,
          6,
          -11,
          0,
          -3,
          1,
          3,
          -3,
          0,
          -1,
          0,
          13,
          4,
          -13,
          -4,
          0,
          1,
          -1,
          0,
          0,
          0,
          53,
          -29,
          -20,
          1,
          -1,
          0,
          21,
          -23,
          0,
          3,
          -4,
          -1,
          0,
          1,
          0,
          0,
          -1,
          0,
          0,
          16,
          -14,
          -2,
          1,
          -1,
          0,
          7,
          -7,
          3,
          0,
          -1,
          -1,
          0,
          10,
          -9,
          46,
          -35,
          -8,
          -1,
          -2,
          -1,
          0,
          -1,
          0,
          0,
          0,
          0,
          2,
          -2,
          2,
          -1,
          0,
          0,
          -1,
          0,
          0,
          0,
          0,
          2,
          -1,
          -1,
          0,
          0,
          14,
          -12,
          1,
          -2,
          1,
          -1,
          3,
          -2
         ]
        },
        {
         "line": {
          "color": "red",
          "width": 2
         },
         "mode": "lines",
         "name": "Anomaly Score",
         "type": "scatter",
         "x": [
          "2021-01-02T14:00:00",
          "2021-01-02T19:00:00",
          "2021-01-03T00:00:00",
          "2021-01-03T05:00:00",
          "2021-01-03T10:00:00",
          "2021-01-03T15:00:00",
          "2021-01-03T20:00:00",
          "2021-01-04T01:00:00",
          "2021-01-04T06:00:00",
          "2021-01-04T11:00:00",
          "2021-01-04T16:00:00",
          "2021-01-04T21:00:00",
          "2021-01-05T02:00:00",
          "2021-01-05T07:00:00",
          "2021-01-05T12:00:00",
          "2021-01-05T17:00:00",
          "2021-01-05T22:00:00",
          "2021-01-06T03:00:00",
          "2021-01-06T08:00:00",
          "2021-01-06T13:00:00",
          "2021-01-06T18:00:00",
          "2021-01-06T23:00:00",
          "2021-01-07T04:00:00",
          "2021-01-07T09:00:00",
          "2021-01-07T14:00:00",
          "2021-01-07T19:00:00",
          "2021-01-08T00:00:00",
          "2021-01-08T05:00:00",
          "2021-01-08T10:00:00",
          "2021-01-08T15:00:00",
          "2021-01-08T20:00:00",
          "2021-01-09T01:00:00",
          "2021-01-09T06:00:00",
          "2021-01-09T11:00:00",
          "2021-01-09T16:00:00",
          "2021-01-09T21:00:00",
          "2021-01-10T02:00:00",
          "2021-01-10T07:00:00",
          "2021-01-10T12:00:00",
          "2021-01-10T17:00:00",
          "2021-01-10T22:00:00",
          "2021-01-11T03:00:00",
          "2021-01-11T08:00:00",
          "2021-01-11T13:00:00",
          "2021-01-11T18:00:00",
          "2021-01-11T23:00:00",
          "2021-01-12T04:00:00",
          "2021-01-12T09:00:00",
          "2021-01-12T14:00:00",
          "2021-01-12T19:00:00",
          "2021-01-13T00:00:00",
          "2021-01-13T05:00:00",
          "2021-01-13T10:00:00",
          "2021-01-13T15:00:00",
          "2021-01-13T20:00:00",
          "2021-01-14T01:00:00",
          "2021-01-14T06:00:00",
          "2021-01-14T11:00:00",
          "2021-01-14T16:00:00",
          "2021-01-14T21:00:00",
          "2021-01-15T02:00:00",
          "2021-01-15T07:00:00",
          "2021-01-15T12:00:00",
          "2021-01-15T17:00:00",
          "2021-01-15T22:00:00",
          "2021-01-16T03:00:00",
          "2021-01-16T08:00:00",
          "2021-01-16T13:00:00",
          "2021-01-16T18:00:00",
          "2021-01-16T23:00:00",
          "2021-01-17T04:00:00",
          "2021-01-17T09:00:00",
          "2021-01-17T14:00:00",
          "2021-01-17T19:00:00",
          "2021-01-18T00:00:00",
          "2021-01-18T05:00:00",
          "2021-01-18T10:00:00",
          "2021-01-18T15:00:00",
          "2021-01-18T20:00:00",
          "2021-01-19T01:00:00",
          "2021-01-19T06:00:00",
          "2021-01-19T11:00:00",
          "2021-01-19T16:00:00",
          "2021-01-19T21:00:00",
          "2021-01-20T02:00:00",
          "2021-01-20T07:00:00",
          "2021-01-20T12:00:00",
          "2021-01-20T17:00:00",
          "2021-01-20T22:00:00",
          "2021-01-21T03:00:00",
          "2021-01-21T08:00:00",
          "2021-01-21T13:00:00",
          "2021-01-21T18:00:00",
          "2021-01-21T23:00:00",
          "2021-01-22T04:00:00",
          "2021-01-22T09:00:00",
          "2021-01-22T14:00:00",
          "2021-01-22T19:00:00",
          "2021-01-23T00:00:00",
          "2021-01-23T05:00:00",
          "2021-01-23T10:00:00",
          "2021-01-23T15:00:00",
          "2021-01-23T20:00:00",
          "2021-01-24T01:00:00",
          "2021-01-24T06:00:00",
          "2021-01-24T11:00:00",
          "2021-01-24T16:00:00",
          "2021-01-24T21:00:00",
          "2021-01-25T02:00:00",
          "2021-01-25T07:00:00",
          "2021-01-25T12:00:00",
          "2021-01-25T17:00:00",
          "2021-01-25T22:00:00",
          "2021-01-26T03:00:00",
          "2021-01-26T08:00:00",
          "2021-01-26T13:00:00",
          "2021-01-26T18:00:00",
          "2021-01-26T23:00:00",
          "2021-01-27T04:00:00",
          "2021-01-27T09:00:00",
          "2021-01-27T14:00:00",
          "2021-01-27T19:00:00",
          "2021-01-28T00:00:00",
          "2021-01-28T05:00:00",
          "2021-01-28T10:00:00",
          "2021-01-28T15:00:00",
          "2021-01-28T20:00:00",
          "2021-01-29T01:00:00",
          "2021-01-29T06:00:00",
          "2021-01-29T11:00:00",
          "2021-01-29T16:00:00",
          "2021-01-29T21:00:00",
          "2021-01-30T02:00:00",
          "2021-01-30T07:00:00",
          "2021-01-30T12:00:00",
          "2021-01-30T17:00:00",
          "2021-01-30T22:00:00",
          "2021-01-31T03:00:00",
          "2021-01-31T08:00:00",
          "2021-01-31T13:00:00",
          "2021-01-31T18:00:00",
          "2021-01-31T23:00:00",
          "2021-02-01T04:00:00",
          "2021-02-01T09:00:00",
          "2021-02-01T14:00:00",
          "2021-02-01T19:00:00",
          "2021-02-02T00:00:00",
          "2021-02-02T05:00:00",
          "2021-02-02T10:00:00",
          "2021-02-02T15:00:00",
          "2021-02-02T20:00:00",
          "2021-02-03T01:00:00",
          "2021-02-03T06:00:00",
          "2021-02-03T11:00:00",
          "2021-02-03T16:00:00",
          "2021-02-03T21:00:00",
          "2021-02-04T02:00:00",
          "2021-02-04T07:00:00",
          "2021-02-04T12:00:00",
          "2021-02-04T17:00:00",
          "2021-02-04T22:00:00",
          "2021-02-05T03:00:00",
          "2021-02-05T08:00:00",
          "2021-02-05T13:00:00",
          "2021-02-05T18:00:00",
          "2021-02-05T23:00:00",
          "2021-02-06T04:00:00",
          "2021-02-06T09:00:00",
          "2021-02-06T14:00:00",
          "2021-02-06T19:00:00",
          "2021-02-07T00:00:00",
          "2021-02-07T05:00:00",
          "2021-02-07T10:00:00",
          "2021-02-07T15:00:00",
          "2021-02-07T20:00:00",
          "2021-02-08T01:00:00",
          "2021-02-08T06:00:00",
          "2021-02-08T11:00:00",
          "2021-02-08T16:00:00",
          "2021-02-08T21:00:00",
          "2021-02-09T02:00:00",
          "2021-02-09T07:00:00",
          "2021-02-09T12:00:00",
          "2021-02-09T17:00:00",
          "2021-02-09T22:00:00",
          "2021-02-10T03:00:00",
          "2021-02-10T08:00:00",
          "2021-02-10T13:00:00",
          "2021-02-10T18:00:00",
          "2021-02-10T23:00:00",
          "2021-02-11T04:00:00",
          "2021-02-11T09:00:00",
          "2021-02-11T14:00:00",
          "2021-02-11T19:00:00",
          "2021-02-12T00:00:00",
          "2021-02-12T05:00:00",
          "2021-02-12T10:00:00",
          "2021-02-12T15:00:00",
          "2021-02-12T20:00:00",
          "2021-02-13T01:00:00",
          "2021-02-13T06:00:00",
          "2021-02-13T11:00:00",
          "2021-02-13T16:00:00",
          "2021-02-13T21:00:00",
          "2021-02-14T02:00:00",
          "2021-02-14T07:00:00",
          "2021-02-14T12:00:00",
          "2021-02-14T17:00:00",
          "2021-02-14T22:00:00",
          "2021-02-15T03:00:00",
          "2021-02-15T08:00:00",
          "2021-02-15T13:00:00",
          "2021-02-15T18:00:00",
          "2021-02-15T23:00:00",
          "2021-02-16T04:00:00"
         ],
         "xaxis": "x",
         "y": [
          0,
          0,
          0,
          0,
          0,
          0,
          0,
          0,
          0,
          0,
          0,
          1.5582600573886145,
          0,
          0,
          0,
          0,
          0.6399982356491759,
          0,
          0,
          0,
          0,
          1.3439670732977846,
          0,
          0,
          0,
          0,
          0,
          0,
          0,
          0,
          0,
          0,
          0,
          0,
          0,
          1.9958162622535662,
          2.525428709767837,
          0,
          1.346088745998518,
          0,
          0,
          0,
          0.5287555386695372,
          0,
          1.6012937708760533,
          1.7061520564556871,
          0,
          0,
          1.1957087917850788,
          0,
          4.28479407436417,
          0,
          3.5425312750156905,
          0,
          0,
          0,
          0,
          0,
          0,
          1.0068469809230258,
          0,
          0,
          0,
          0,
          0,
          0,
          0,
          0.655132995084951,
          0,
          0,
          0,
          0.7258982416864859,
          2.3425648628441724,
          0,
          0,
          0,
          0,
          0,
          1.5504763130012393,
          0,
          0,
          0.5049681005798875,
          0,
          0,
          0,
          0,
          0,
          0,
          1.105755168489867,
          1.1124601196857398,
          0,
          0.5302954856870069,
          0,
          0,
          0,
          0.9872135592360719,
          0,
          0,
          0,
          0,
          0,
          0,
          0,
          0,
          0,
          0,
          0,
          1.1961645478695864,
          0,
          0,
          0,
          0,
          0,
          0,
          0,
          0,
          0,
          0.8489712964286288,
          0,
          0,
          0.6812467019855452,
          1.2760014904348078,
          1.5836772831192367,
          0,
          1.0473232381579092,
          1.0896730981091869,
          0,
          0,
          0,
          0.5133681315840422,
          0.8694255569373963,
          0,
          0,
          0,
          0,
          1.3605390767484455,
          0.9914351059393466,
          0,
          0,
          0,
          0.5842151571754456,
          0,
          0,
          0,
          0,
          1.795987560246386,
          0,
          0,
          0.5879092720778749,
          0,
          0,
          1.5256846289535773,
          0,
          0,
          0.932861318593396,
          0,
          0,
          0,
          0.6406144413327246,
          0,
          0,
          0,
          0,
          0,
          1.4429092271608224,
          0,
          0,
          0.6705642624613836,
          0,
          0,
          1.184462243273941,
          0,
          0.9775175321884366,
          0.532115120268637,
          0,
          0,
          0.5172903228766357,
          1.3033640672784392,
          0,
          1.757231774077718,
          0,
          0,
          0,
          0,
          0,
          0.5610295086028607,
          0,
          0.5615452983143528,
          0.5809454002407995,
          0.5586979837466624,
          0.5801529902965107,
          0.9109111579989607,
          0,
          0.8986623645045091,
          0,
          0.6097251069528713,
          0.593641877338167,
          0,
          0.6345226153415586,
          0.6146996098451164,
          0.5973378283438227,
          0.6062439025748054,
          0.9676958544405388,
          0,
          0,
          0.6302990271590622,
          0.6752603865888762,
          1.4442395402806056,
          0,
          0.8421987109493931,
          0,
          0.8347467140690291,
          0,
          1.0306586939209519,
          0
         ],
         "yaxis": "y2"
        }
       ],
       "layout": {
        "height": 600,
        "shapes": [
         {
          "fillcolor": "#e07070",
          "line": {
           "width": 0
          },
          "opacity": 0.4,
          "type": "rect",
          "x0": "2021-01-04T21:00:00",
          "x1": "2021-01-05T02:00:00",
          "xref": "x",
          "y0": 0,
          "y1": 1,
          "yref": "y domain"
         },
         {
          "fillcolor": "#e07070",
          "line": {
           "width": 0
          },
          "opacity": 0.4,
          "type": "rect",
          "x0": "2021-01-05T22:00:00",
          "x1": "2021-01-06T03:00:00",
          "xref": "x",
          "y0": 0,
          "y1": 1,
          "yref": "y domain"
         },
         {
          "fillcolor": "#e07070",
          "line": {
           "width": 0
          },
          "opacity": 0.4,
          "type": "rect",
          "x0": "2021-01-06T23:00:00",
          "x1": "2021-01-07T04:00:00",
          "xref": "x",
          "y0": 0,
          "y1": 1,
          "yref": "y domain"
         },
         {
          "fillcolor": "#e07070",
          "line": {
           "width": 0
          },
          "opacity": 0.4,
          "type": "rect",
          "x0": "2021-01-09T21:00:00",
          "x1": "2021-01-10T02:00:00",
          "xref": "x",
          "y0": 0,
          "y1": 1,
          "yref": "y domain"
         },
         {
          "fillcolor": "#e07070",
          "line": {
           "width": 0
          },
          "opacity": 0.4,
          "type": "rect",
          "x0": "2021-01-10T02:00:00",
          "x1": "2021-01-10T07:00:00",
          "xref": "x",
          "y0": 0,
          "y1": 1,
          "yref": "y domain"
         },
         {
          "fillcolor": "#e07070",
          "line": {
           "width": 0
          },
          "opacity": 0.4,
          "type": "rect",
          "x0": "2021-01-10T12:00:00",
          "x1": "2021-01-10T17:00:00",
          "xref": "x",
          "y0": 0,
          "y1": 1,
          "yref": "y domain"
         },
         {
          "fillcolor": "#e07070",
          "line": {
           "width": 0
          },
          "opacity": 0.4,
          "type": "rect",
          "x0": "2021-01-11T08:00:00",
          "x1": "2021-01-11T13:00:00",
          "xref": "x",
          "y0": 0,
          "y1": 1,
          "yref": "y domain"
         },
         {
          "fillcolor": "#e07070",
          "line": {
           "width": 0
          },
          "opacity": 0.4,
          "type": "rect",
          "x0": "2021-01-11T18:00:00",
          "x1": "2021-01-11T23:00:00",
          "xref": "x",
          "y0": 0,
          "y1": 1,
          "yref": "y domain"
         },
         {
          "fillcolor": "#e07070",
          "line": {
           "width": 0
          },
          "opacity": 0.4,
          "type": "rect",
          "x0": "2021-01-11T23:00:00",
          "x1": "2021-01-12T04:00:00",
          "xref": "x",
          "y0": 0,
          "y1": 1,
          "yref": "y domain"
         },
         {
          "fillcolor": "#e07070",
          "line": {
           "width": 0
          },
          "opacity": 0.4,
          "type": "rect",
          "x0": "2021-01-12T14:00:00",
          "x1": "2021-01-12T19:00:00",
          "xref": "x",
          "y0": 0,
          "y1": 1,
          "yref": "y domain"
         },
         {
          "fillcolor": "#e07070",
          "line": {
           "width": 0
          },
          "opacity": 0.4,
          "type": "rect",
          "x0": "2021-01-13T00:00:00",
          "x1": "2021-01-13T05:00:00",
          "xref": "x",
          "y0": 0,
          "y1": 1,
          "yref": "y domain"
         },
         {
          "fillcolor": "#e07070",
          "line": {
           "width": 0
          },
          "opacity": 0.4,
          "type": "rect",
          "x0": "2021-01-13T10:00:00",
          "x1": "2021-01-13T15:00:00",
          "xref": "x",
          "y0": 0,
          "y1": 1,
          "yref": "y domain"
         },
         {
          "fillcolor": "#e07070",
          "line": {
           "width": 0
          },
          "opacity": 0.4,
          "type": "rect",
          "x0": "2021-01-14T21:00:00",
          "x1": "2021-01-15T02:00:00",
          "xref": "x",
          "y0": 0,
          "y1": 1,
          "yref": "y domain"
         },
         {
          "fillcolor": "#e07070",
          "line": {
           "width": 0
          },
          "opacity": 0.4,
          "type": "rect",
          "x0": "2021-01-16T13:00:00",
          "x1": "2021-01-16T18:00:00",
          "xref": "x",
          "y0": 0,
          "y1": 1,
          "yref": "y domain"
         },
         {
          "fillcolor": "#e07070",
          "line": {
           "width": 0
          },
          "opacity": 0.4,
          "type": "rect",
          "x0": "2021-01-17T09:00:00",
          "x1": "2021-01-17T14:00:00",
          "xref": "x",
          "y0": 0,
          "y1": 1,
          "yref": "y domain"
         },
         {
          "fillcolor": "#e07070",
          "line": {
           "width": 0
          },
          "opacity": 0.4,
          "type": "rect",
          "x0": "2021-01-17T14:00:00",
          "x1": "2021-01-17T19:00:00",
          "xref": "x",
          "y0": 0,
          "y1": 1,
          "yref": "y domain"
         },
         {
          "fillcolor": "#e07070",
          "line": {
           "width": 0
          },
          "opacity": 0.4,
          "type": "rect",
          "x0": "2021-01-18T20:00:00",
          "x1": "2021-01-19T01:00:00",
          "xref": "x",
          "y0": 0,
          "y1": 1,
          "yref": "y domain"
         },
         {
          "fillcolor": "#e07070",
          "line": {
           "width": 0
          },
          "opacity": 0.4,
          "type": "rect",
          "x0": "2021-01-19T11:00:00",
          "x1": "2021-01-19T16:00:00",
          "xref": "x",
          "y0": 0,
          "y1": 1,
          "yref": "y domain"
         },
         {
          "fillcolor": "#e07070",
          "line": {
           "width": 0
          },
          "opacity": 0.4,
          "type": "rect",
          "x0": "2021-01-20T22:00:00",
          "x1": "2021-01-21T03:00:00",
          "xref": "x",
          "y0": 0,
          "y1": 1,
          "yref": "y domain"
         },
         {
          "fillcolor": "#e07070",
          "line": {
           "width": 0
          },
          "opacity": 0.4,
          "type": "rect",
          "x0": "2021-01-21T03:00:00",
          "x1": "2021-01-21T08:00:00",
          "xref": "x",
          "y0": 0,
          "y1": 1,
          "yref": "y domain"
         },
         {
          "fillcolor": "#e07070",
          "line": {
           "width": 0
          },
          "opacity": 0.4,
          "type": "rect",
          "x0": "2021-01-21T13:00:00",
          "x1": "2021-01-21T18:00:00",
          "xref": "x",
          "y0": 0,
          "y1": 1,
          "yref": "y domain"
         },
         {
          "fillcolor": "#e07070",
          "line": {
           "width": 0
          },
          "opacity": 0.4,
          "type": "rect",
          "x0": "2021-01-22T09:00:00",
          "x1": "2021-01-22T14:00:00",
          "xref": "x",
          "y0": 0,
          "y1": 1,
          "yref": "y domain"
         },
         {
          "fillcolor": "#e07070",
          "line": {
           "width": 0
          },
          "opacity": 0.4,
          "type": "rect",
          "x0": "2021-01-24T21:00:00",
          "x1": "2021-01-25T02:00:00",
          "xref": "x",
          "y0": 0,
          "y1": 1,
          "yref": "y domain"
         },
         {
          "fillcolor": "#e07070",
          "line": {
           "width": 0
          },
          "opacity": 0.4,
          "type": "rect",
          "x0": "2021-01-26T23:00:00",
          "x1": "2021-01-27T04:00:00",
          "xref": "x",
          "y0": 0,
          "y1": 1,
          "yref": "y domain"
         },
         {
          "fillcolor": "#e07070",
          "line": {
           "width": 0
          },
          "opacity": 0.4,
          "type": "rect",
          "x0": "2021-01-27T14:00:00",
          "x1": "2021-01-27T19:00:00",
          "xref": "x",
          "y0": 0,
          "y1": 1,
          "yref": "y domain"
         },
         {
          "fillcolor": "#e07070",
          "line": {
           "width": 0
          },
          "opacity": 0.4,
          "type": "rect",
          "x0": "2021-01-27T19:00:00",
          "x1": "2021-01-28T00:00:00",
          "xref": "x",
          "y0": 0,
          "y1": 1,
          "yref": "y domain"
         },
         {
          "fillcolor": "#e07070",
          "line": {
           "width": 0
          },
          "opacity": 0.4,
          "type": "rect",
          "x0": "2021-01-28T00:00:00",
          "x1": "2021-01-28T05:00:00",
          "xref": "x",
          "y0": 0,
          "y1": 1,
          "yref": "y domain"
         },
         {
          "fillcolor": "#e07070",
          "line": {
           "width": 0
          },
          "opacity": 0.4,
          "type": "rect",
          "x0": "2021-01-28T10:00:00",
          "x1": "2021-01-28T15:00:00",
          "xref": "x",
          "y0": 0,
          "y1": 1,
          "yref": "y domain"
         },
         {
          "fillcolor": "#e07070",
          "line": {
           "width": 0
          },
          "opacity": 0.4,
          "type": "rect",
          "x0": "2021-01-28T15:00:00",
          "x1": "2021-01-28T20:00:00",
          "xref": "x",
          "y0": 0,
          "y1": 1,
          "yref": "y domain"
         },
         {
          "fillcolor": "#e07070",
          "line": {
           "width": 0
          },
          "opacity": 0.4,
          "type": "rect",
          "x0": "2021-01-29T11:00:00",
          "x1": "2021-01-29T16:00:00",
          "xref": "x",
          "y0": 0,
          "y1": 1,
          "yref": "y domain"
         },
         {
          "fillcolor": "#e07070",
          "line": {
           "width": 0
          },
          "opacity": 0.4,
          "type": "rect",
          "x0": "2021-01-29T16:00:00",
          "x1": "2021-01-29T21:00:00",
          "xref": "x",
          "y0": 0,
          "y1": 1,
          "yref": "y domain"
         },
         {
          "fillcolor": "#e07070",
          "line": {
           "width": 0
          },
          "opacity": 0.4,
          "type": "rect",
          "x0": "2021-01-30T17:00:00",
          "x1": "2021-01-30T22:00:00",
          "xref": "x",
          "y0": 0,
          "y1": 1,
          "yref": "y domain"
         },
         {
          "fillcolor": "#e07070",
          "line": {
           "width": 0
          },
          "opacity": 0.4,
          "type": "rect",
          "x0": "2021-01-30T22:00:00",
          "x1": "2021-01-31T03:00:00",
          "xref": "x",
          "y0": 0,
          "y1": 1,
          "yref": "y domain"
         },
         {
          "fillcolor": "#e07070",
          "line": {
           "width": 0
          },
          "opacity": 0.4,
          "type": "rect",
          "x0": "2021-01-31T18:00:00",
          "x1": "2021-01-31T23:00:00",
          "xref": "x",
          "y0": 0,
          "y1": 1,
          "yref": "y domain"
         },
         {
          "fillcolor": "#e07070",
          "line": {
           "width": 0
          },
          "opacity": 0.4,
          "type": "rect",
          "x0": "2021-02-01T19:00:00",
          "x1": "2021-02-02T00:00:00",
          "xref": "x",
          "y0": 0,
          "y1": 1,
          "yref": "y domain"
         },
         {
          "fillcolor": "#e07070",
          "line": {
           "width": 0
          },
          "opacity": 0.4,
          "type": "rect",
          "x0": "2021-02-02T10:00:00",
          "x1": "2021-02-02T15:00:00",
          "xref": "x",
          "y0": 0,
          "y1": 1,
          "yref": "y domain"
         },
         {
          "fillcolor": "#e07070",
          "line": {
           "width": 0
          },
          "opacity": 0.4,
          "type": "rect",
          "x0": "2021-02-03T01:00:00",
          "x1": "2021-02-03T06:00:00",
          "xref": "x",
          "y0": 0,
          "y1": 1,
          "yref": "y domain"
         },
         {
          "fillcolor": "#e07070",
          "line": {
           "width": 0
          },
          "opacity": 0.4,
          "type": "rect",
          "x0": "2021-02-03T16:00:00",
          "x1": "2021-02-03T21:00:00",
          "xref": "x",
          "y0": 0,
          "y1": 1,
          "yref": "y domain"
         },
         {
          "fillcolor": "#e07070",
          "line": {
           "width": 0
          },
          "opacity": 0.4,
          "type": "rect",
          "x0": "2021-02-04T12:00:00",
          "x1": "2021-02-04T17:00:00",
          "xref": "x",
          "y0": 0,
          "y1": 1,
          "yref": "y domain"
         },
         {
          "fillcolor": "#e07070",
          "line": {
           "width": 0
          },
          "opacity": 0.4,
          "type": "rect",
          "x0": "2021-02-05T18:00:00",
          "x1": "2021-02-05T23:00:00",
          "xref": "x",
          "y0": 0,
          "y1": 1,
          "yref": "y domain"
         },
         {
          "fillcolor": "#e07070",
          "line": {
           "width": 0
          },
          "opacity": 0.4,
          "type": "rect",
          "x0": "2021-02-06T09:00:00",
          "x1": "2021-02-06T14:00:00",
          "xref": "x",
          "y0": 0,
          "y1": 1,
          "yref": "y domain"
         },
         {
          "fillcolor": "#e07070",
          "line": {
           "width": 0
          },
          "opacity": 0.4,
          "type": "rect",
          "x0": "2021-02-07T00:00:00",
          "x1": "2021-02-07T05:00:00",
          "xref": "x",
          "y0": 0,
          "y1": 1,
          "yref": "y domain"
         },
         {
          "fillcolor": "#e07070",
          "line": {
           "width": 0
          },
          "opacity": 0.4,
          "type": "rect",
          "x0": "2021-02-07T10:00:00",
          "x1": "2021-02-07T15:00:00",
          "xref": "x",
          "y0": 0,
          "y1": 1,
          "yref": "y domain"
         },
         {
          "fillcolor": "#e07070",
          "line": {
           "width": 0
          },
          "opacity": 0.4,
          "type": "rect",
          "x0": "2021-02-07T15:00:00",
          "x1": "2021-02-07T20:00:00",
          "xref": "x",
          "y0": 0,
          "y1": 1,
          "yref": "y domain"
         },
         {
          "fillcolor": "#e07070",
          "line": {
           "width": 0
          },
          "opacity": 0.4,
          "type": "rect",
          "x0": "2021-02-08T06:00:00",
          "x1": "2021-02-08T11:00:00",
          "xref": "x",
          "y0": 0,
          "y1": 1,
          "yref": "y domain"
         },
         {
          "fillcolor": "#e07070",
          "line": {
           "width": 0
          },
          "opacity": 0.4,
          "type": "rect",
          "x0": "2021-02-08T11:00:00",
          "x1": "2021-02-08T16:00:00",
          "xref": "x",
          "y0": 0,
          "y1": 1,
          "yref": "y domain"
         },
         {
          "fillcolor": "#e07070",
          "line": {
           "width": 0
          },
          "opacity": 0.4,
          "type": "rect",
          "x0": "2021-02-08T21:00:00",
          "x1": "2021-02-09T02:00:00",
          "xref": "x",
          "y0": 0,
          "y1": 1,
          "yref": "y domain"
         },
         {
          "fillcolor": "#e07070",
          "line": {
           "width": 0
          },
          "opacity": 0.4,
          "type": "rect",
          "x0": "2021-02-10T03:00:00",
          "x1": "2021-02-10T08:00:00",
          "xref": "x",
          "y0": 0,
          "y1": 1,
          "yref": "y domain"
         },
         {
          "fillcolor": "#e07070",
          "line": {
           "width": 0
          },
          "opacity": 0.4,
          "type": "rect",
          "x0": "2021-02-10T13:00:00",
          "x1": "2021-02-10T18:00:00",
          "xref": "x",
          "y0": 0,
          "y1": 1,
          "yref": "y domain"
         },
         {
          "fillcolor": "#e07070",
          "line": {
           "width": 0
          },
          "opacity": 0.4,
          "type": "rect",
          "x0": "2021-02-10T18:00:00",
          "x1": "2021-02-10T23:00:00",
          "xref": "x",
          "y0": 0,
          "y1": 1,
          "yref": "y domain"
         },
         {
          "fillcolor": "#e07070",
          "line": {
           "width": 0
          },
          "opacity": 0.4,
          "type": "rect",
          "x0": "2021-02-10T23:00:00",
          "x1": "2021-02-11T04:00:00",
          "xref": "x",
          "y0": 0,
          "y1": 1,
          "yref": "y domain"
         },
         {
          "fillcolor": "#e07070",
          "line": {
           "width": 0
          },
          "opacity": 0.4,
          "type": "rect",
          "x0": "2021-02-11T04:00:00",
          "x1": "2021-02-11T09:00:00",
          "xref": "x",
          "y0": 0,
          "y1": 1,
          "yref": "y domain"
         },
         {
          "fillcolor": "#e07070",
          "line": {
           "width": 0
          },
          "opacity": 0.4,
          "type": "rect",
          "x0": "2021-02-11T09:00:00",
          "x1": "2021-02-11T14:00:00",
          "xref": "x",
          "y0": 0,
          "y1": 1,
          "yref": "y domain"
         },
         {
          "fillcolor": "#e07070",
          "line": {
           "width": 0
          },
          "opacity": 0.4,
          "type": "rect",
          "x0": "2021-02-11T19:00:00",
          "x1": "2021-02-12T00:00:00",
          "xref": "x",
          "y0": 0,
          "y1": 1,
          "yref": "y domain"
         },
         {
          "fillcolor": "#e07070",
          "line": {
           "width": 0
          },
          "opacity": 0.4,
          "type": "rect",
          "x0": "2021-02-12T05:00:00",
          "x1": "2021-02-12T10:00:00",
          "xref": "x",
          "y0": 0,
          "y1": 1,
          "yref": "y domain"
         },
         {
          "fillcolor": "#e07070",
          "line": {
           "width": 0
          },
          "opacity": 0.4,
          "type": "rect",
          "x0": "2021-02-12T10:00:00",
          "x1": "2021-02-12T15:00:00",
          "xref": "x",
          "y0": 0,
          "y1": 1,
          "yref": "y domain"
         },
         {
          "fillcolor": "#e07070",
          "line": {
           "width": 0
          },
          "opacity": 0.4,
          "type": "rect",
          "x0": "2021-02-12T20:00:00",
          "x1": "2021-02-13T01:00:00",
          "xref": "x",
          "y0": 0,
          "y1": 1,
          "yref": "y domain"
         },
         {
          "fillcolor": "#e07070",
          "line": {
           "width": 0
          },
          "opacity": 0.4,
          "type": "rect",
          "x0": "2021-02-13T01:00:00",
          "x1": "2021-02-13T06:00:00",
          "xref": "x",
          "y0": 0,
          "y1": 1,
          "yref": "y domain"
         },
         {
          "fillcolor": "#e07070",
          "line": {
           "width": 0
          },
          "opacity": 0.4,
          "type": "rect",
          "x0": "2021-02-13T06:00:00",
          "x1": "2021-02-13T11:00:00",
          "xref": "x",
          "y0": 0,
          "y1": 1,
          "yref": "y domain"
         },
         {
          "fillcolor": "#e07070",
          "line": {
           "width": 0
          },
          "opacity": 0.4,
          "type": "rect",
          "x0": "2021-02-13T11:00:00",
          "x1": "2021-02-13T16:00:00",
          "xref": "x",
          "y0": 0,
          "y1": 1,
          "yref": "y domain"
         },
         {
          "fillcolor": "#e07070",
          "line": {
           "width": 0
          },
          "opacity": 0.4,
          "type": "rect",
          "x0": "2021-02-13T16:00:00",
          "x1": "2021-02-13T21:00:00",
          "xref": "x",
          "y0": 0,
          "y1": 1,
          "yref": "y domain"
         },
         {
          "fillcolor": "#e07070",
          "line": {
           "width": 0
          },
          "opacity": 0.4,
          "type": "rect",
          "x0": "2021-02-14T07:00:00",
          "x1": "2021-02-14T12:00:00",
          "xref": "x",
          "y0": 0,
          "y1": 1,
          "yref": "y domain"
         },
         {
          "fillcolor": "#e07070",
          "line": {
           "width": 0
          },
          "opacity": 0.4,
          "type": "rect",
          "x0": "2021-02-14T12:00:00",
          "x1": "2021-02-14T17:00:00",
          "xref": "x",
          "y0": 0,
          "y1": 1,
          "yref": "y domain"
         },
         {
          "fillcolor": "#e07070",
          "line": {
           "width": 0
          },
          "opacity": 0.4,
          "type": "rect",
          "x0": "2021-02-14T17:00:00",
          "x1": "2021-02-14T22:00:00",
          "xref": "x",
          "y0": 0,
          "y1": 1,
          "yref": "y domain"
         },
         {
          "fillcolor": "#e07070",
          "line": {
           "width": 0
          },
          "opacity": 0.4,
          "type": "rect",
          "x0": "2021-02-15T03:00:00",
          "x1": "2021-02-15T08:00:00",
          "xref": "x",
          "y0": 0,
          "y1": 1,
          "yref": "y domain"
         },
         {
          "fillcolor": "#e07070",
          "line": {
           "width": 0
          },
          "opacity": 0.4,
          "type": "rect",
          "x0": "2021-02-15T13:00:00",
          "x1": "2021-02-15T18:00:00",
          "xref": "x",
          "y0": 0,
          "y1": 1,
          "yref": "y domain"
         },
         {
          "fillcolor": "#e07070",
          "line": {
           "width": 0
          },
          "opacity": 0.4,
          "type": "rect",
          "x0": "2021-02-15T23:00:00",
          "x1": "2021-02-16T04:00:00",
          "xref": "x",
          "y0": 0,
          "y1": 1,
          "yref": "y domain"
         }
        ],
        "showlegend": true,
        "template": {
         "data": {
          "bar": [
           {
            "error_x": {
             "color": "#2a3f5f"
            },
            "error_y": {
             "color": "#2a3f5f"
            },
            "marker": {
             "line": {
              "color": "#E5ECF6",
              "width": 0.5
             },
             "pattern": {
              "fillmode": "overlay",
              "size": 10,
              "solidity": 0.2
             }
            },
            "type": "bar"
           }
          ],
          "barpolar": [
           {
            "marker": {
             "line": {
              "color": "#E5ECF6",
              "width": 0.5
             },
             "pattern": {
              "fillmode": "overlay",
              "size": 10,
              "solidity": 0.2
             }
            },
            "type": "barpolar"
           }
          ],
          "carpet": [
           {
            "aaxis": {
             "endlinecolor": "#2a3f5f",
             "gridcolor": "white",
             "linecolor": "white",
             "minorgridcolor": "white",
             "startlinecolor": "#2a3f5f"
            },
            "baxis": {
             "endlinecolor": "#2a3f5f",
             "gridcolor": "white",
             "linecolor": "white",
             "minorgridcolor": "white",
             "startlinecolor": "#2a3f5f"
            },
            "type": "carpet"
           }
          ],
          "choropleth": [
           {
            "colorbar": {
             "outlinewidth": 0,
             "ticks": ""
            },
            "type": "choropleth"
           }
          ],
          "contour": [
           {
            "colorbar": {
             "outlinewidth": 0,
             "ticks": ""
            },
            "colorscale": [
             [
              0,
              "#0d0887"
             ],
             [
              0.1111111111111111,
              "#46039f"
             ],
             [
              0.2222222222222222,
              "#7201a8"
             ],
             [
              0.3333333333333333,
              "#9c179e"
             ],
             [
              0.4444444444444444,
              "#bd3786"
             ],
             [
              0.5555555555555556,
              "#d8576b"
             ],
             [
              0.6666666666666666,
              "#ed7953"
             ],
             [
              0.7777777777777778,
              "#fb9f3a"
             ],
             [
              0.8888888888888888,
              "#fdca26"
             ],
             [
              1,
              "#f0f921"
             ]
            ],
            "type": "contour"
           }
          ],
          "contourcarpet": [
           {
            "colorbar": {
             "outlinewidth": 0,
             "ticks": ""
            },
            "type": "contourcarpet"
           }
          ],
          "heatmap": [
           {
            "colorbar": {
             "outlinewidth": 0,
             "ticks": ""
            },
            "colorscale": [
             [
              0,
              "#0d0887"
             ],
             [
              0.1111111111111111,
              "#46039f"
             ],
             [
              0.2222222222222222,
              "#7201a8"
             ],
             [
              0.3333333333333333,
              "#9c179e"
             ],
             [
              0.4444444444444444,
              "#bd3786"
             ],
             [
              0.5555555555555556,
              "#d8576b"
             ],
             [
              0.6666666666666666,
              "#ed7953"
             ],
             [
              0.7777777777777778,
              "#fb9f3a"
             ],
             [
              0.8888888888888888,
              "#fdca26"
             ],
             [
              1,
              "#f0f921"
             ]
            ],
            "type": "heatmap"
           }
          ],
          "heatmapgl": [
           {
            "colorbar": {
             "outlinewidth": 0,
             "ticks": ""
            },
            "colorscale": [
             [
              0,
              "#0d0887"
             ],
             [
              0.1111111111111111,
              "#46039f"
             ],
             [
              0.2222222222222222,
              "#7201a8"
             ],
             [
              0.3333333333333333,
              "#9c179e"
             ],
             [
              0.4444444444444444,
              "#bd3786"
             ],
             [
              0.5555555555555556,
              "#d8576b"
             ],
             [
              0.6666666666666666,
              "#ed7953"
             ],
             [
              0.7777777777777778,
              "#fb9f3a"
             ],
             [
              0.8888888888888888,
              "#fdca26"
             ],
             [
              1,
              "#f0f921"
             ]
            ],
            "type": "heatmapgl"
           }
          ],
          "histogram": [
           {
            "marker": {
             "pattern": {
              "fillmode": "overlay",
              "size": 10,
              "solidity": 0.2
             }
            },
            "type": "histogram"
           }
          ],
          "histogram2d": [
           {
            "colorbar": {
             "outlinewidth": 0,
             "ticks": ""
            },
            "colorscale": [
             [
              0,
              "#0d0887"
             ],
             [
              0.1111111111111111,
              "#46039f"
             ],
             [
              0.2222222222222222,
              "#7201a8"
             ],
             [
              0.3333333333333333,
              "#9c179e"
             ],
             [
              0.4444444444444444,
              "#bd3786"
             ],
             [
              0.5555555555555556,
              "#d8576b"
             ],
             [
              0.6666666666666666,
              "#ed7953"
             ],
             [
              0.7777777777777778,
              "#fb9f3a"
             ],
             [
              0.8888888888888888,
              "#fdca26"
             ],
             [
              1,
              "#f0f921"
             ]
            ],
            "type": "histogram2d"
           }
          ],
          "histogram2dcontour": [
           {
            "colorbar": {
             "outlinewidth": 0,
             "ticks": ""
            },
            "colorscale": [
             [
              0,
              "#0d0887"
             ],
             [
              0.1111111111111111,
              "#46039f"
             ],
             [
              0.2222222222222222,
              "#7201a8"
             ],
             [
              0.3333333333333333,
              "#9c179e"
             ],
             [
              0.4444444444444444,
              "#bd3786"
             ],
             [
              0.5555555555555556,
              "#d8576b"
             ],
             [
              0.6666666666666666,
              "#ed7953"
             ],
             [
              0.7777777777777778,
              "#fb9f3a"
             ],
             [
              0.8888888888888888,
              "#fdca26"
             ],
             [
              1,
              "#f0f921"
             ]
            ],
            "type": "histogram2dcontour"
           }
          ],
          "mesh3d": [
           {
            "colorbar": {
             "outlinewidth": 0,
             "ticks": ""
            },
            "type": "mesh3d"
           }
          ],
          "parcoords": [
           {
            "line": {
             "colorbar": {
              "outlinewidth": 0,
              "ticks": ""
             }
            },
            "type": "parcoords"
           }
          ],
          "pie": [
           {
            "automargin": true,
            "type": "pie"
           }
          ],
          "scatter": [
           {
            "marker": {
             "colorbar": {
              "outlinewidth": 0,
              "ticks": ""
             }
            },
            "type": "scatter"
           }
          ],
          "scatter3d": [
           {
            "line": {
             "colorbar": {
              "outlinewidth": 0,
              "ticks": ""
             }
            },
            "marker": {
             "colorbar": {
              "outlinewidth": 0,
              "ticks": ""
             }
            },
            "type": "scatter3d"
           }
          ],
          "scattercarpet": [
           {
            "marker": {
             "colorbar": {
              "outlinewidth": 0,
              "ticks": ""
             }
            },
            "type": "scattercarpet"
           }
          ],
          "scattergeo": [
           {
            "marker": {
             "colorbar": {
              "outlinewidth": 0,
              "ticks": ""
             }
            },
            "type": "scattergeo"
           }
          ],
          "scattergl": [
           {
            "marker": {
             "colorbar": {
              "outlinewidth": 0,
              "ticks": ""
             }
            },
            "type": "scattergl"
           }
          ],
          "scattermapbox": [
           {
            "marker": {
             "colorbar": {
              "outlinewidth": 0,
              "ticks": ""
             }
            },
            "type": "scattermapbox"
           }
          ],
          "scatterpolar": [
           {
            "marker": {
             "colorbar": {
              "outlinewidth": 0,
              "ticks": ""
             }
            },
            "type": "scatterpolar"
           }
          ],
          "scatterpolargl": [
           {
            "marker": {
             "colorbar": {
              "outlinewidth": 0,
              "ticks": ""
             }
            },
            "type": "scatterpolargl"
           }
          ],
          "scatterternary": [
           {
            "marker": {
             "colorbar": {
              "outlinewidth": 0,
              "ticks": ""
             }
            },
            "type": "scatterternary"
           }
          ],
          "surface": [
           {
            "colorbar": {
             "outlinewidth": 0,
             "ticks": ""
            },
            "colorscale": [
             [
              0,
              "#0d0887"
             ],
             [
              0.1111111111111111,
              "#46039f"
             ],
             [
              0.2222222222222222,
              "#7201a8"
             ],
             [
              0.3333333333333333,
              "#9c179e"
             ],
             [
              0.4444444444444444,
              "#bd3786"
             ],
             [
              0.5555555555555556,
              "#d8576b"
             ],
             [
              0.6666666666666666,
              "#ed7953"
             ],
             [
              0.7777777777777778,
              "#fb9f3a"
             ],
             [
              0.8888888888888888,
              "#fdca26"
             ],
             [
              1,
              "#f0f921"
             ]
            ],
            "type": "surface"
           }
          ],
          "table": [
           {
            "cells": {
             "fill": {
              "color": "#EBF0F8"
             },
             "line": {
              "color": "white"
             }
            },
            "header": {
             "fill": {
              "color": "#C8D4E3"
             },
             "line": {
              "color": "white"
             }
            },
            "type": "table"
           }
          ]
         },
         "layout": {
          "annotationdefaults": {
           "arrowcolor": "#2a3f5f",
           "arrowhead": 0,
           "arrowwidth": 1
          },
          "autotypenumbers": "strict",
          "coloraxis": {
           "colorbar": {
            "outlinewidth": 0,
            "ticks": ""
           }
          },
          "colorscale": {
           "diverging": [
            [
             0,
             "#8e0152"
            ],
            [
             0.1,
             "#c51b7d"
            ],
            [
             0.2,
             "#de77ae"
            ],
            [
             0.3,
             "#f1b6da"
            ],
            [
             0.4,
             "#fde0ef"
            ],
            [
             0.5,
             "#f7f7f7"
            ],
            [
             0.6,
             "#e6f5d0"
            ],
            [
             0.7,
             "#b8e186"
            ],
            [
             0.8,
             "#7fbc41"
            ],
            [
             0.9,
             "#4d9221"
            ],
            [
             1,
             "#276419"
            ]
           ],
           "sequential": [
            [
             0,
             "#0d0887"
            ],
            [
             0.1111111111111111,
             "#46039f"
            ],
            [
             0.2222222222222222,
             "#7201a8"
            ],
            [
             0.3333333333333333,
             "#9c179e"
            ],
            [
             0.4444444444444444,
             "#bd3786"
            ],
            [
             0.5555555555555556,
             "#d8576b"
            ],
            [
             0.6666666666666666,
             "#ed7953"
            ],
            [
             0.7777777777777778,
             "#fb9f3a"
            ],
            [
             0.8888888888888888,
             "#fdca26"
            ],
            [
             1,
             "#f0f921"
            ]
           ],
           "sequentialminus": [
            [
             0,
             "#0d0887"
            ],
            [
             0.1111111111111111,
             "#46039f"
            ],
            [
             0.2222222222222222,
             "#7201a8"
            ],
            [
             0.3333333333333333,
             "#9c179e"
            ],
            [
             0.4444444444444444,
             "#bd3786"
            ],
            [
             0.5555555555555556,
             "#d8576b"
            ],
            [
             0.6666666666666666,
             "#ed7953"
            ],
            [
             0.7777777777777778,
             "#fb9f3a"
            ],
            [
             0.8888888888888888,
             "#fdca26"
            ],
            [
             1,
             "#f0f921"
            ]
           ]
          },
          "colorway": [
           "#636efa",
           "#EF553B",
           "#00cc96",
           "#ab63fa",
           "#FFA15A",
           "#19d3f3",
           "#FF6692",
           "#B6E880",
           "#FF97FF",
           "#FECB52"
          ],
          "font": {
           "color": "#2a3f5f"
          },
          "geo": {
           "bgcolor": "white",
           "lakecolor": "white",
           "landcolor": "#E5ECF6",
           "showlakes": true,
           "showland": true,
           "subunitcolor": "white"
          },
          "hoverlabel": {
           "align": "left"
          },
          "hovermode": "closest",
          "mapbox": {
           "style": "light"
          },
          "paper_bgcolor": "white",
          "plot_bgcolor": "#E5ECF6",
          "polar": {
           "angularaxis": {
            "gridcolor": "white",
            "linecolor": "white",
            "ticks": ""
           },
           "bgcolor": "#E5ECF6",
           "radialaxis": {
            "gridcolor": "white",
            "linecolor": "white",
            "ticks": ""
           }
          },
          "scene": {
           "xaxis": {
            "backgroundcolor": "#E5ECF6",
            "gridcolor": "white",
            "gridwidth": 2,
            "linecolor": "white",
            "showbackground": true,
            "ticks": "",
            "zerolinecolor": "white"
           },
           "yaxis": {
            "backgroundcolor": "#E5ECF6",
            "gridcolor": "white",
            "gridwidth": 2,
            "linecolor": "white",
            "showbackground": true,
            "ticks": "",
            "zerolinecolor": "white"
           },
           "zaxis": {
            "backgroundcolor": "#E5ECF6",
            "gridcolor": "white",
            "gridwidth": 2,
            "linecolor": "white",
            "showbackground": true,
            "ticks": "",
            "zerolinecolor": "white"
           }
          },
          "shapedefaults": {
           "line": {
            "color": "#2a3f5f"
           }
          },
          "ternary": {
           "aaxis": {
            "gridcolor": "white",
            "linecolor": "white",
            "ticks": ""
           },
           "baxis": {
            "gridcolor": "white",
            "linecolor": "white",
            "ticks": ""
           },
           "bgcolor": "#E5ECF6",
           "caxis": {
            "gridcolor": "white",
            "linecolor": "white",
            "ticks": ""
           }
          },
          "title": {
           "x": 0.05
          },
          "xaxis": {
           "automargin": true,
           "gridcolor": "white",
           "linecolor": "white",
           "ticks": "",
           "title": {
            "standoff": 15
           },
           "zerolinecolor": "white",
           "zerolinewidth": 2
          },
          "yaxis": {
           "automargin": true,
           "gridcolor": "white",
           "linecolor": "white",
           "ticks": "",
           "title": {
            "standoff": 15
           },
           "zerolinecolor": "white",
           "zerolinewidth": 2
          }
         }
        },
        "title": {
         "text": "ProphetDetector: Anomalies in top1_hashtag_count (Forecast Overlaid)"
        },
        "width": 1000,
        "xaxis": {
         "anchor": "y",
         "domain": [
          0,
          0.94
         ],
         "rangeselector": {
          "buttons": [
           {
            "count": 7,
            "label": "1w",
            "step": "day",
            "stepmode": "backward"
           },
           {
            "count": 1,
            "label": "1m",
            "step": "month",
            "stepmode": "backward"
           },
           {
            "count": 6,
            "label": "6m",
            "step": "month",
            "stepmode": "backward"
           },
           {
            "count": 1,
            "label": "1y",
            "step": "year",
            "stepmode": "backward"
           },
           {
            "step": "all"
           }
          ]
         },
         "rangeslider": {
          "visible": true
         },
         "title": {
          "text": "Time"
         },
         "type": "date"
        },
        "yaxis": {
         "anchor": "x",
         "domain": [
          0,
          1
         ],
         "title": {
          "text": "top1_hashtag_count"
         }
        },
        "yaxis2": {
         "anchor": "x",
         "overlaying": "y",
         "range": [
          -0.5355992592955212,
          12.854382223092509
         ],
         "side": "right",
         "title": {
          "text": "Anomaly Score"
         }
        }
       }
      }
     },
     "metadata": {},
     "output_type": "display_data"
    },
    {
     "name": "stdout",
     "output_type": "stream",
     "text": [
      "Initial log joint probability = -2.74529\n",
      "    Iter      log prob        ||dx||      ||grad||       alpha      alpha0  # evals  Notes \n",
      "      45       426.919   1.56263e-09       99.4957      0.1152      0.1152       68   \n",
      "Optimization terminated normally: \n",
      "  Convergence detected: absolute parameter change was below tolerance\n"
     ]
    },
    {
     "data": {
      "application/vnd.plotly.v1+json": {
       "config": {
        "plotlyServerURL": "https://plot.ly"
       },
       "data": [
        {
         "hoverinfo": "skip",
         "line": {
          "width": 0
         },
         "mode": "lines",
         "showlegend": false,
         "type": "scatter",
         "x": [
          "2021-01-02T14:00:00",
          "2021-01-02T19:00:00",
          "2021-01-03T00:00:00",
          "2021-01-03T05:00:00",
          "2021-01-03T10:00:00",
          "2021-01-03T15:00:00",
          "2021-01-03T20:00:00",
          "2021-01-04T01:00:00",
          "2021-01-04T06:00:00",
          "2021-01-04T11:00:00",
          "2021-01-04T16:00:00",
          "2021-01-04T21:00:00",
          "2021-01-05T02:00:00",
          "2021-01-05T07:00:00",
          "2021-01-05T12:00:00",
          "2021-01-05T17:00:00",
          "2021-01-05T22:00:00",
          "2021-01-06T03:00:00",
          "2021-01-06T08:00:00",
          "2021-01-06T13:00:00",
          "2021-01-06T18:00:00",
          "2021-01-06T23:00:00",
          "2021-01-07T04:00:00",
          "2021-01-07T09:00:00",
          "2021-01-07T14:00:00",
          "2021-01-07T19:00:00",
          "2021-01-08T00:00:00",
          "2021-01-08T05:00:00",
          "2021-01-08T10:00:00",
          "2021-01-08T15:00:00",
          "2021-01-08T20:00:00",
          "2021-01-09T01:00:00",
          "2021-01-09T06:00:00",
          "2021-01-09T11:00:00",
          "2021-01-09T16:00:00",
          "2021-01-09T21:00:00",
          "2021-01-10T02:00:00",
          "2021-01-10T07:00:00",
          "2021-01-10T12:00:00",
          "2021-01-10T17:00:00",
          "2021-01-10T22:00:00",
          "2021-01-11T03:00:00",
          "2021-01-11T08:00:00",
          "2021-01-11T13:00:00",
          "2021-01-11T18:00:00",
          "2021-01-11T23:00:00",
          "2021-01-12T04:00:00",
          "2021-01-12T09:00:00",
          "2021-01-12T14:00:00",
          "2021-01-12T19:00:00",
          "2021-01-13T00:00:00",
          "2021-01-13T05:00:00",
          "2021-01-13T10:00:00",
          "2021-01-13T15:00:00",
          "2021-01-13T20:00:00",
          "2021-01-14T01:00:00",
          "2021-01-14T06:00:00",
          "2021-01-14T11:00:00",
          "2021-01-14T16:00:00",
          "2021-01-14T21:00:00",
          "2021-01-15T02:00:00",
          "2021-01-15T07:00:00",
          "2021-01-15T12:00:00",
          "2021-01-15T17:00:00",
          "2021-01-15T22:00:00",
          "2021-01-16T03:00:00",
          "2021-01-16T08:00:00",
          "2021-01-16T13:00:00",
          "2021-01-16T18:00:00",
          "2021-01-16T23:00:00",
          "2021-01-17T04:00:00",
          "2021-01-17T09:00:00",
          "2021-01-17T14:00:00",
          "2021-01-17T19:00:00",
          "2021-01-18T00:00:00",
          "2021-01-18T05:00:00",
          "2021-01-18T10:00:00",
          "2021-01-18T15:00:00",
          "2021-01-18T20:00:00",
          "2021-01-19T01:00:00",
          "2021-01-19T06:00:00",
          "2021-01-19T11:00:00",
          "2021-01-19T16:00:00",
          "2021-01-19T21:00:00",
          "2021-01-20T02:00:00",
          "2021-01-20T07:00:00",
          "2021-01-20T12:00:00",
          "2021-01-20T17:00:00",
          "2021-01-20T22:00:00",
          "2021-01-21T03:00:00",
          "2021-01-21T08:00:00",
          "2021-01-21T13:00:00",
          "2021-01-21T18:00:00",
          "2021-01-21T23:00:00",
          "2021-01-22T04:00:00",
          "2021-01-22T09:00:00",
          "2021-01-22T14:00:00",
          "2021-01-22T19:00:00",
          "2021-01-23T00:00:00",
          "2021-01-23T05:00:00",
          "2021-01-23T10:00:00",
          "2021-01-23T15:00:00",
          "2021-01-23T20:00:00",
          "2021-01-24T01:00:00",
          "2021-01-24T06:00:00",
          "2021-01-24T11:00:00",
          "2021-01-24T16:00:00",
          "2021-01-24T21:00:00",
          "2021-01-25T02:00:00",
          "2021-01-25T07:00:00",
          "2021-01-25T12:00:00",
          "2021-01-25T17:00:00",
          "2021-01-25T22:00:00",
          "2021-01-26T03:00:00",
          "2021-01-26T08:00:00",
          "2021-01-26T13:00:00",
          "2021-01-26T18:00:00",
          "2021-01-26T23:00:00",
          "2021-01-27T04:00:00",
          "2021-01-27T09:00:00",
          "2021-01-27T14:00:00",
          "2021-01-27T19:00:00",
          "2021-01-28T00:00:00",
          "2021-01-28T05:00:00",
          "2021-01-28T10:00:00",
          "2021-01-28T15:00:00",
          "2021-01-28T20:00:00",
          "2021-01-29T01:00:00",
          "2021-01-29T06:00:00",
          "2021-01-29T11:00:00",
          "2021-01-29T16:00:00",
          "2021-01-29T21:00:00",
          "2021-01-30T02:00:00",
          "2021-01-30T07:00:00",
          "2021-01-30T12:00:00",
          "2021-01-30T17:00:00",
          "2021-01-30T22:00:00",
          "2021-01-31T03:00:00",
          "2021-01-31T08:00:00",
          "2021-01-31T13:00:00",
          "2021-01-31T18:00:00",
          "2021-01-31T23:00:00",
          "2021-02-01T04:00:00",
          "2021-02-01T09:00:00",
          "2021-02-01T14:00:00",
          "2021-02-01T19:00:00",
          "2021-02-02T00:00:00",
          "2021-02-02T05:00:00",
          "2021-02-02T10:00:00",
          "2021-02-02T15:00:00",
          "2021-02-02T20:00:00",
          "2021-02-03T01:00:00",
          "2021-02-03T06:00:00",
          "2021-02-03T11:00:00",
          "2021-02-03T16:00:00",
          "2021-02-03T21:00:00",
          "2021-02-04T02:00:00",
          "2021-02-04T07:00:00",
          "2021-02-04T12:00:00",
          "2021-02-04T17:00:00",
          "2021-02-04T22:00:00",
          "2021-02-05T03:00:00",
          "2021-02-05T08:00:00",
          "2021-02-05T13:00:00",
          "2021-02-05T18:00:00",
          "2021-02-05T23:00:00",
          "2021-02-06T04:00:00",
          "2021-02-06T09:00:00",
          "2021-02-06T14:00:00",
          "2021-02-06T19:00:00",
          "2021-02-07T00:00:00",
          "2021-02-07T05:00:00",
          "2021-02-07T10:00:00",
          "2021-02-07T15:00:00",
          "2021-02-07T20:00:00",
          "2021-02-08T01:00:00",
          "2021-02-08T06:00:00",
          "2021-02-08T11:00:00",
          "2021-02-08T16:00:00",
          "2021-02-08T21:00:00",
          "2021-02-09T02:00:00",
          "2021-02-09T07:00:00",
          "2021-02-09T12:00:00",
          "2021-02-09T17:00:00",
          "2021-02-09T22:00:00",
          "2021-02-10T03:00:00",
          "2021-02-10T08:00:00",
          "2021-02-10T13:00:00",
          "2021-02-10T18:00:00",
          "2021-02-10T23:00:00",
          "2021-02-11T04:00:00",
          "2021-02-11T09:00:00",
          "2021-02-11T14:00:00",
          "2021-02-11T19:00:00",
          "2021-02-12T00:00:00",
          "2021-02-12T05:00:00",
          "2021-02-12T10:00:00",
          "2021-02-12T15:00:00",
          "2021-02-12T20:00:00",
          "2021-02-13T01:00:00",
          "2021-02-13T06:00:00",
          "2021-02-13T11:00:00",
          "2021-02-13T16:00:00",
          "2021-02-13T21:00:00",
          "2021-02-14T02:00:00",
          "2021-02-14T07:00:00",
          "2021-02-14T12:00:00",
          "2021-02-14T17:00:00",
          "2021-02-14T22:00:00",
          "2021-02-15T03:00:00",
          "2021-02-15T08:00:00",
          "2021-02-15T13:00:00",
          "2021-02-15T18:00:00",
          "2021-02-15T23:00:00",
          "2021-02-16T04:00:00"
         ],
         "y": [
          129.22356905017114,
          144.12342738491583,
          146.87619318390074,
          131.38405611392398,
          149.96524942875158,
          148.49681920356494,
          155.91837963278806,
          131.27041435386377,
          154.9888809974719,
          136.3429237337708,
          147.41037010804422,
          149.61418800968542,
          152.4859711622172,
          127.07846821948304,
          132.08975471921414,
          157.6731456016407,
          141.560368014132,
          150.4761295297297,
          136.90484647387126,
          144.2633581247802,
          140.4468533627042,
          139.4367236514949,
          115.61892529426537,
          134.72644383547868,
          148.76953392664544,
          135.19872574601132,
          167.5330326867461,
          164.86673623437795,
          130.79167513662864,
          141.7045917539928,
          109.39041708632215,
          157.34872358855068,
          149.96519421502495,
          155.57522438848534,
          155.20537285626176,
          146.34681674289558,
          137.88607685084352,
          140.66849703453593,
          148.16462365844114,
          123.656239107686,
          111.65091908113591,
          141.1479301983787,
          164.87191067257635,
          155.32307121357377,
          169.5846061319405,
          151.27279393466503,
          144.04000666647394,
          147.399992809034,
          149.5474454495885,
          139.28410521032652,
          142.18779264316368,
          147.9703116093448,
          157.83893023373514,
          143.57775199778976,
          138.87777632976102,
          169.16981092108156,
          130.24944341305056,
          140.25781859488163,
          135.07990520300785,
          116.4377402753481,
          119.27590402543561,
          147.8060926372295,
          116.52819434580915,
          161.51435997984598,
          153.02234522228017,
          164.67410284520045,
          154.58414753959104,
          146.00975795666113,
          131.72966226521788,
          122.5587615450672,
          135.53308329530435,
          144.50706516147312,
          146.71461922760506,
          125.24877664482938,
          153.12685825597526,
          145.27571715592484,
          150.16226167129082,
          125.68475378714851,
          139.6129530112205,
          138.85871908462155,
          130.3119874626623,
          136.23535651228204,
          164.865126010762,
          140.6472239541098,
          172.1020849930929,
          150.05034413196722,
          147.7010564138067,
          156.77966495250334,
          152.67236869627303,
          153.64838189463546,
          149.71159499403012,
          135.16108376194646,
          160.55568084813774,
          141.81145466113438,
          143.42402623482712,
          136.93264807294153,
          146.67549041106423,
          150.15490771617894,
          118.41158149400086,
          158.9472690123779,
          130.6203671234932,
          137.40480307702092,
          130.47257284908272,
          130.2759843184774,
          147.6476993253935,
          150.21894568321633,
          133.097938895434,
          120.0505103130144,
          145.57657242806928,
          128.86824522917607,
          151.57926817111385,
          131.6990168584687,
          128.81468367145925,
          140.6334104783839,
          128.12472893342454,
          117.8496341622388,
          141.71363084046757,
          131.96500418868754,
          151.99507035924546,
          156.99915200471582,
          127.69877214153611,
          135.85172126595967,
          145.13730430553403,
          159.99285456545076,
          143.92180107724462,
          147.00100567853653,
          143.5894953447171,
          115.3205372075937,
          136.95438009567806,
          129.48426448887304,
          137.31921179891702,
          152.52017317295633,
          132.80927375061987,
          141.46928907168305,
          145.37966539466285,
          142.55366056025827,
          140.91072472700628,
          138.2957134285685,
          166.06807760117468,
          146.42238526965306,
          157.44359138804288,
          134.0607704950961,
          142.53640685283452,
          121.17486330365388,
          120.60531822410898,
          147.93896608614526,
          144.01598287368563,
          145.2323388911445,
          161.52545783361816,
          121.17305080474274,
          117.93334504944497,
          144.2975279000055,
          135.61836635733127,
          148.76736569959073,
          153.29570618153247,
          136.84744000895714,
          125.70048728382581,
          125.37536951859157,
          143.43474684407332,
          142.1171765114364,
          153.9858105974753,
          120.5158636962699,
          145.98565006325123,
          137.1899018632595,
          153.5457432368895,
          134.55437415615532,
          152.5645480717245,
          153.03585447891578,
          130.7620270173615,
          116.57221330995263,
          140.06657285692756,
          142.32840354098835,
          134.42138907416512,
          154.55272300224306,
          120.3445501552139,
          146.75859609390923,
          144.28870114520905,
          151.39476206590032,
          125.46260867833792,
          146.93258512709096,
          148.64528294550968,
          128.91776405849885,
          158.61588330026302,
          155.87436916065928,
          132.07208937449832,
          146.70350382977614,
          127.93475117904907,
          108.14559972027264,
          131.31815304950663,
          125.35495223532877,
          150.78403879025228,
          123.06071215502755,
          139.00879542426654,
          137.61991373359987,
          141.55262774572577,
          140.8416240415447,
          140.9368497318202,
          133.2509298063021,
          135.66049705942063,
          141.43389652316878,
          117.49951532375556,
          131.75019457013445,
          153.8599449206362,
          138.15197375121755,
          141.4958421991242,
          128.67988710514064,
          157.06155769932715,
          151.48360682469172,
          138.0270474271365,
          168.0896709718885,
          145.01289407400628,
          149.66323248964446,
          126.46383849033984,
          142.184463877286,
          110.99352624065246
         ]
        },
        {
         "fill": "tonexty",
         "fillcolor": "rgba(0, 114, 178, 0.2)",
         "line": {
          "color": "#0072B2",
          "width": 2
         },
         "mode": "lines",
         "name": "Forecast",
         "type": "scatter",
         "x": [
          "2021-01-02T14:00:00",
          "2021-01-02T19:00:00",
          "2021-01-03T00:00:00",
          "2021-01-03T05:00:00",
          "2021-01-03T10:00:00",
          "2021-01-03T15:00:00",
          "2021-01-03T20:00:00",
          "2021-01-04T01:00:00",
          "2021-01-04T06:00:00",
          "2021-01-04T11:00:00",
          "2021-01-04T16:00:00",
          "2021-01-04T21:00:00",
          "2021-01-05T02:00:00",
          "2021-01-05T07:00:00",
          "2021-01-05T12:00:00",
          "2021-01-05T17:00:00",
          "2021-01-05T22:00:00",
          "2021-01-06T03:00:00",
          "2021-01-06T08:00:00",
          "2021-01-06T13:00:00",
          "2021-01-06T18:00:00",
          "2021-01-06T23:00:00",
          "2021-01-07T04:00:00",
          "2021-01-07T09:00:00",
          "2021-01-07T14:00:00",
          "2021-01-07T19:00:00",
          "2021-01-08T00:00:00",
          "2021-01-08T05:00:00",
          "2021-01-08T10:00:00",
          "2021-01-08T15:00:00",
          "2021-01-08T20:00:00",
          "2021-01-09T01:00:00",
          "2021-01-09T06:00:00",
          "2021-01-09T11:00:00",
          "2021-01-09T16:00:00",
          "2021-01-09T21:00:00",
          "2021-01-10T02:00:00",
          "2021-01-10T07:00:00",
          "2021-01-10T12:00:00",
          "2021-01-10T17:00:00",
          "2021-01-10T22:00:00",
          "2021-01-11T03:00:00",
          "2021-01-11T08:00:00",
          "2021-01-11T13:00:00",
          "2021-01-11T18:00:00",
          "2021-01-11T23:00:00",
          "2021-01-12T04:00:00",
          "2021-01-12T09:00:00",
          "2021-01-12T14:00:00",
          "2021-01-12T19:00:00",
          "2021-01-13T00:00:00",
          "2021-01-13T05:00:00",
          "2021-01-13T10:00:00",
          "2021-01-13T15:00:00",
          "2021-01-13T20:00:00",
          "2021-01-14T01:00:00",
          "2021-01-14T06:00:00",
          "2021-01-14T11:00:00",
          "2021-01-14T16:00:00",
          "2021-01-14T21:00:00",
          "2021-01-15T02:00:00",
          "2021-01-15T07:00:00",
          "2021-01-15T12:00:00",
          "2021-01-15T17:00:00",
          "2021-01-15T22:00:00",
          "2021-01-16T03:00:00",
          "2021-01-16T08:00:00",
          "2021-01-16T13:00:00",
          "2021-01-16T18:00:00",
          "2021-01-16T23:00:00",
          "2021-01-17T04:00:00",
          "2021-01-17T09:00:00",
          "2021-01-17T14:00:00",
          "2021-01-17T19:00:00",
          "2021-01-18T00:00:00",
          "2021-01-18T05:00:00",
          "2021-01-18T10:00:00",
          "2021-01-18T15:00:00",
          "2021-01-18T20:00:00",
          "2021-01-19T01:00:00",
          "2021-01-19T06:00:00",
          "2021-01-19T11:00:00",
          "2021-01-19T16:00:00",
          "2021-01-19T21:00:00",
          "2021-01-20T02:00:00",
          "2021-01-20T07:00:00",
          "2021-01-20T12:00:00",
          "2021-01-20T17:00:00",
          "2021-01-20T22:00:00",
          "2021-01-21T03:00:00",
          "2021-01-21T08:00:00",
          "2021-01-21T13:00:00",
          "2021-01-21T18:00:00",
          "2021-01-21T23:00:00",
          "2021-01-22T04:00:00",
          "2021-01-22T09:00:00",
          "2021-01-22T14:00:00",
          "2021-01-22T19:00:00",
          "2021-01-23T00:00:00",
          "2021-01-23T05:00:00",
          "2021-01-23T10:00:00",
          "2021-01-23T15:00:00",
          "2021-01-23T20:00:00",
          "2021-01-24T01:00:00",
          "2021-01-24T06:00:00",
          "2021-01-24T11:00:00",
          "2021-01-24T16:00:00",
          "2021-01-24T21:00:00",
          "2021-01-25T02:00:00",
          "2021-01-25T07:00:00",
          "2021-01-25T12:00:00",
          "2021-01-25T17:00:00",
          "2021-01-25T22:00:00",
          "2021-01-26T03:00:00",
          "2021-01-26T08:00:00",
          "2021-01-26T13:00:00",
          "2021-01-26T18:00:00",
          "2021-01-26T23:00:00",
          "2021-01-27T04:00:00",
          "2021-01-27T09:00:00",
          "2021-01-27T14:00:00",
          "2021-01-27T19:00:00",
          "2021-01-28T00:00:00",
          "2021-01-28T05:00:00",
          "2021-01-28T10:00:00",
          "2021-01-28T15:00:00",
          "2021-01-28T20:00:00",
          "2021-01-29T01:00:00",
          "2021-01-29T06:00:00",
          "2021-01-29T11:00:00",
          "2021-01-29T16:00:00",
          "2021-01-29T21:00:00",
          "2021-01-30T02:00:00",
          "2021-01-30T07:00:00",
          "2021-01-30T12:00:00",
          "2021-01-30T17:00:00",
          "2021-01-30T22:00:00",
          "2021-01-31T03:00:00",
          "2021-01-31T08:00:00",
          "2021-01-31T13:00:00",
          "2021-01-31T18:00:00",
          "2021-01-31T23:00:00",
          "2021-02-01T04:00:00",
          "2021-02-01T09:00:00",
          "2021-02-01T14:00:00",
          "2021-02-01T19:00:00",
          "2021-02-02T00:00:00",
          "2021-02-02T05:00:00",
          "2021-02-02T10:00:00",
          "2021-02-02T15:00:00",
          "2021-02-02T20:00:00",
          "2021-02-03T01:00:00",
          "2021-02-03T06:00:00",
          "2021-02-03T11:00:00",
          "2021-02-03T16:00:00",
          "2021-02-03T21:00:00",
          "2021-02-04T02:00:00",
          "2021-02-04T07:00:00",
          "2021-02-04T12:00:00",
          "2021-02-04T17:00:00",
          "2021-02-04T22:00:00",
          "2021-02-05T03:00:00",
          "2021-02-05T08:00:00",
          "2021-02-05T13:00:00",
          "2021-02-05T18:00:00",
          "2021-02-05T23:00:00",
          "2021-02-06T04:00:00",
          "2021-02-06T09:00:00",
          "2021-02-06T14:00:00",
          "2021-02-06T19:00:00",
          "2021-02-07T00:00:00",
          "2021-02-07T05:00:00",
          "2021-02-07T10:00:00",
          "2021-02-07T15:00:00",
          "2021-02-07T20:00:00",
          "2021-02-08T01:00:00",
          "2021-02-08T06:00:00",
          "2021-02-08T11:00:00",
          "2021-02-08T16:00:00",
          "2021-02-08T21:00:00",
          "2021-02-09T02:00:00",
          "2021-02-09T07:00:00",
          "2021-02-09T12:00:00",
          "2021-02-09T17:00:00",
          "2021-02-09T22:00:00",
          "2021-02-10T03:00:00",
          "2021-02-10T08:00:00",
          "2021-02-10T13:00:00",
          "2021-02-10T18:00:00",
          "2021-02-10T23:00:00",
          "2021-02-11T04:00:00",
          "2021-02-11T09:00:00",
          "2021-02-11T14:00:00",
          "2021-02-11T19:00:00",
          "2021-02-12T00:00:00",
          "2021-02-12T05:00:00",
          "2021-02-12T10:00:00",
          "2021-02-12T15:00:00",
          "2021-02-12T20:00:00",
          "2021-02-13T01:00:00",
          "2021-02-13T06:00:00",
          "2021-02-13T11:00:00",
          "2021-02-13T16:00:00",
          "2021-02-13T21:00:00",
          "2021-02-14T02:00:00",
          "2021-02-14T07:00:00",
          "2021-02-14T12:00:00",
          "2021-02-14T17:00:00",
          "2021-02-14T22:00:00",
          "2021-02-15T03:00:00",
          "2021-02-15T08:00:00",
          "2021-02-15T13:00:00",
          "2021-02-15T18:00:00",
          "2021-02-15T23:00:00",
          "2021-02-16T04:00:00"
         ],
         "y": [
          -0.18929063526840795,
          -0.19375476032190905,
          -0.19821888537541016,
          -0.2026830104289113,
          -0.2071471354824124,
          -0.21161126053591353,
          -0.21607538558941464,
          -0.22053951064291574,
          -0.2247627034000544,
          -0.228985896157193,
          -0.23320908891433165,
          -0.2374322816714703,
          -0.24165547442860894,
          -0.24587866718574755,
          -0.2501018599428862,
          -0.2543251176371097,
          -0.2585483753313331,
          -0.26277163302555656,
          -0.26699489071978005,
          -0.27121814841400355,
          -0.275441406108227,
          -0.2796646638024504,
          -0.2838878551744292,
          -0.28811104654640807,
          -0.29233423791838686,
          -0.2965574292903657,
          -0.3007806206623445,
          -0.3050038120343233,
          -0.3092270011743651,
          -0.3134501903144069,
          -0.3176733794544487,
          -0.32189656859449045,
          -0.3261197577345322,
          -0.330342946874574,
          -0.3345661360146157,
          -0.33878936416570765,
          -0.34301259231679954,
          -0.3472358204678915,
          -0.35145904861898336,
          -0.35568227677007525,
          -0.35990550492116713,
          -0.36412873307225907,
          -0.36835193564451285,
          -0.3725751382167667,
          -0.3767983407890205,
          -0.3810215433612743,
          -0.38524474593352814,
          -0.389467948505782,
          -0.39369115107803576,
          -0.39791427189200845,
          -0.4021373927059811,
          -0.40636051351995367,
          -0.41058363433392636,
          -0.41480675514789894,
          -0.4190298759618715,
          -0.42325299677584416,
          -0.42747617192528103,
          -0.43169934707471797,
          -0.43592252222415484,
          -0.44014569737359177,
          -0.44436887252302865,
          -0.4485920476724655,
          -0.4528152228219024,
          -0.457038348912051,
          -0.46126147500219955,
          -0.4654846010923481,
          -0.46970772718249665,
          -0.4739308532726452,
          -0.4781539793627938,
          -0.48237709330599254,
          -0.4866002072491914,
          -0.49082332119239025,
          -0.49504643513558905,
          -0.4992695490787879,
          -0.5034926630219867,
          -0.5077157769651856,
          -0.5119388719735484,
          -0.5161619669819114,
          -0.5203850619902743,
          -0.5246081569986373,
          -0.5288312520070002,
          -0.5330543470153631,
          -0.5372774420237261,
          -0.5415005626819108,
          -0.5457236833400957,
          -0.5499468039982806,
          -0.5541699246564654,
          -0.5583930453146502,
          -0.5626161659728349,
          -0.5668392866310198,
          -0.5710624613749111,
          -0.5752856361188026,
          -0.579508810862694,
          -0.5837319856065853,
          -0.5879551603504768,
          -0.5921783350943681,
          -0.5964015098382596,
          -0.6006247202614288,
          -0.604847930684598,
          -0.6090711411077673,
          -0.6132943515309365,
          -0.6175175619541058,
          -0.621740772377275,
          -0.6259639828004441,
          -0.6301872133816779,
          -0.6344104439629117,
          -0.6386336745441454,
          -0.6428569051253792,
          -0.647080135706613,
          -0.6513033662878468,
          -0.6555264562629967,
          -0.6597495462381465,
          -0.6639726362132963,
          -0.6681957261884461,
          -0.672418816163596,
          -0.6766419061387459,
          -0.6808649961138957,
          -0.6850881113422942,
          -0.6893112265706928,
          -0.6935343417990912,
          -0.6977574570274897,
          -0.7019805722558884,
          -0.7062036874842867,
          -0.7104268027126852,
          -0.714649980798335,
          -0.7188731588839847,
          -0.7230963369696344,
          -0.7273195150552841,
          -0.7315426931409338,
          -0.7357658712265835,
          -0.7399890493122331,
          -0.7442122694825964,
          -0.7484354896529598,
          -0.7526587098233233,
          -0.7568819299936866,
          -0.7611051501640502,
          -0.7653283703344135,
          -0.7695515905047771,
          -0.7737749489426264,
          -0.7779983073804759,
          -0.7822216658183254,
          -0.7864450242561749,
          -0.7906683826940243,
          -0.7948917411318739,
          -0.7991150995697233,
          -0.8033385417406976,
          -0.8075619839116718,
          -0.8117854260826461,
          -0.8160088682536204,
          -0.8202323104245947,
          -0.8244557525955689,
          -0.8286791902689834,
          -0.8329026279423977,
          -0.837126065615812,
          -0.8413495032892263,
          -0.8455729409626407,
          -0.849796378636055,
          -0.8540198163094694,
          -0.8582432217801674,
          -0.8624666272508653,
          -0.8666900327215633,
          -0.8709134381922615,
          -0.8751368436629595,
          -0.8793602491336575,
          -0.8835836546043556,
          -0.8878070291416474,
          -0.8920304036789393,
          -0.8962537782162312,
          -0.9004771527535231,
          -0.9047005272908151,
          -0.9089239018281068,
          -0.9131472763653987,
          -0.9173706632300854,
          -0.921594050094772,
          -0.9258174369594586,
          -0.9300408238241453,
          -0.9342642106888319,
          -0.9384875975535186,
          -0.9427109844182052,
          -0.9469343712828918,
          -0.9511577581475785,
          -0.9553811450122651,
          -0.9596045318769517,
          -0.9638279187416384,
          -0.968051305606325,
          -0.9722746924710117,
          -0.9764980793356983,
          -0.9807214662003849,
          -0.9849448530650716,
          -0.9891682399297582,
          -0.9933916267944449,
          -0.9976150136591317,
          -1.0018384005238181,
          -1.0060617873885052,
          -1.0102851742531915,
          -1.0145085611178783,
          -1.0187319479825647,
          -1.0229553348472515,
          -1.027178721711938,
          -1.031402108576625,
          -1.0356254954413113,
          -1.0398488823059981,
          -1.0440722691706847,
          -1.0482956560353716,
          -1.0525190429000582,
          -1.0567424297647448,
          -1.0609658166294313,
          -1.065189203494118,
          -1.0694125903588048,
          -1.0736359772234914,
          -1.077859364088178,
          -1.0820827509528645,
          -1.0863061378175511,
          -1.090529524682238,
          -1.0947529115469246
         ]
        },
        {
         "fill": "tonexty",
         "fillcolor": "rgba(0, 114, 178, 0.2)",
         "hoverinfo": "skip",
         "line": {
          "width": 0
         },
         "mode": "lines",
         "showlegend": false,
         "type": "scatter",
         "x": [
          "2021-01-02T14:00:00",
          "2021-01-02T19:00:00",
          "2021-01-03T00:00:00",
          "2021-01-03T05:00:00",
          "2021-01-03T10:00:00",
          "2021-01-03T15:00:00",
          "2021-01-03T20:00:00",
          "2021-01-04T01:00:00",
          "2021-01-04T06:00:00",
          "2021-01-04T11:00:00",
          "2021-01-04T16:00:00",
          "2021-01-04T21:00:00",
          "2021-01-05T02:00:00",
          "2021-01-05T07:00:00",
          "2021-01-05T12:00:00",
          "2021-01-05T17:00:00",
          "2021-01-05T22:00:00",
          "2021-01-06T03:00:00",
          "2021-01-06T08:00:00",
          "2021-01-06T13:00:00",
          "2021-01-06T18:00:00",
          "2021-01-06T23:00:00",
          "2021-01-07T04:00:00",
          "2021-01-07T09:00:00",
          "2021-01-07T14:00:00",
          "2021-01-07T19:00:00",
          "2021-01-08T00:00:00",
          "2021-01-08T05:00:00",
          "2021-01-08T10:00:00",
          "2021-01-08T15:00:00",
          "2021-01-08T20:00:00",
          "2021-01-09T01:00:00",
          "2021-01-09T06:00:00",
          "2021-01-09T11:00:00",
          "2021-01-09T16:00:00",
          "2021-01-09T21:00:00",
          "2021-01-10T02:00:00",
          "2021-01-10T07:00:00",
          "2021-01-10T12:00:00",
          "2021-01-10T17:00:00",
          "2021-01-10T22:00:00",
          "2021-01-11T03:00:00",
          "2021-01-11T08:00:00",
          "2021-01-11T13:00:00",
          "2021-01-11T18:00:00",
          "2021-01-11T23:00:00",
          "2021-01-12T04:00:00",
          "2021-01-12T09:00:00",
          "2021-01-12T14:00:00",
          "2021-01-12T19:00:00",
          "2021-01-13T00:00:00",
          "2021-01-13T05:00:00",
          "2021-01-13T10:00:00",
          "2021-01-13T15:00:00",
          "2021-01-13T20:00:00",
          "2021-01-14T01:00:00",
          "2021-01-14T06:00:00",
          "2021-01-14T11:00:00",
          "2021-01-14T16:00:00",
          "2021-01-14T21:00:00",
          "2021-01-15T02:00:00",
          "2021-01-15T07:00:00",
          "2021-01-15T12:00:00",
          "2021-01-15T17:00:00",
          "2021-01-15T22:00:00",
          "2021-01-16T03:00:00",
          "2021-01-16T08:00:00",
          "2021-01-16T13:00:00",
          "2021-01-16T18:00:00",
          "2021-01-16T23:00:00",
          "2021-01-17T04:00:00",
          "2021-01-17T09:00:00",
          "2021-01-17T14:00:00",
          "2021-01-17T19:00:00",
          "2021-01-18T00:00:00",
          "2021-01-18T05:00:00",
          "2021-01-18T10:00:00",
          "2021-01-18T15:00:00",
          "2021-01-18T20:00:00",
          "2021-01-19T01:00:00",
          "2021-01-19T06:00:00",
          "2021-01-19T11:00:00",
          "2021-01-19T16:00:00",
          "2021-01-19T21:00:00",
          "2021-01-20T02:00:00",
          "2021-01-20T07:00:00",
          "2021-01-20T12:00:00",
          "2021-01-20T17:00:00",
          "2021-01-20T22:00:00",
          "2021-01-21T03:00:00",
          "2021-01-21T08:00:00",
          "2021-01-21T13:00:00",
          "2021-01-21T18:00:00",
          "2021-01-21T23:00:00",
          "2021-01-22T04:00:00",
          "2021-01-22T09:00:00",
          "2021-01-22T14:00:00",
          "2021-01-22T19:00:00",
          "2021-01-23T00:00:00",
          "2021-01-23T05:00:00",
          "2021-01-23T10:00:00",
          "2021-01-23T15:00:00",
          "2021-01-23T20:00:00",
          "2021-01-24T01:00:00",
          "2021-01-24T06:00:00",
          "2021-01-24T11:00:00",
          "2021-01-24T16:00:00",
          "2021-01-24T21:00:00",
          "2021-01-25T02:00:00",
          "2021-01-25T07:00:00",
          "2021-01-25T12:00:00",
          "2021-01-25T17:00:00",
          "2021-01-25T22:00:00",
          "2021-01-26T03:00:00",
          "2021-01-26T08:00:00",
          "2021-01-26T13:00:00",
          "2021-01-26T18:00:00",
          "2021-01-26T23:00:00",
          "2021-01-27T04:00:00",
          "2021-01-27T09:00:00",
          "2021-01-27T14:00:00",
          "2021-01-27T19:00:00",
          "2021-01-28T00:00:00",
          "2021-01-28T05:00:00",
          "2021-01-28T10:00:00",
          "2021-01-28T15:00:00",
          "2021-01-28T20:00:00",
          "2021-01-29T01:00:00",
          "2021-01-29T06:00:00",
          "2021-01-29T11:00:00",
          "2021-01-29T16:00:00",
          "2021-01-29T21:00:00",
          "2021-01-30T02:00:00",
          "2021-01-30T07:00:00",
          "2021-01-30T12:00:00",
          "2021-01-30T17:00:00",
          "2021-01-30T22:00:00",
          "2021-01-31T03:00:00",
          "2021-01-31T08:00:00",
          "2021-01-31T13:00:00",
          "2021-01-31T18:00:00",
          "2021-01-31T23:00:00",
          "2021-02-01T04:00:00",
          "2021-02-01T09:00:00",
          "2021-02-01T14:00:00",
          "2021-02-01T19:00:00",
          "2021-02-02T00:00:00",
          "2021-02-02T05:00:00",
          "2021-02-02T10:00:00",
          "2021-02-02T15:00:00",
          "2021-02-02T20:00:00",
          "2021-02-03T01:00:00",
          "2021-02-03T06:00:00",
          "2021-02-03T11:00:00",
          "2021-02-03T16:00:00",
          "2021-02-03T21:00:00",
          "2021-02-04T02:00:00",
          "2021-02-04T07:00:00",
          "2021-02-04T12:00:00",
          "2021-02-04T17:00:00",
          "2021-02-04T22:00:00",
          "2021-02-05T03:00:00",
          "2021-02-05T08:00:00",
          "2021-02-05T13:00:00",
          "2021-02-05T18:00:00",
          "2021-02-05T23:00:00",
          "2021-02-06T04:00:00",
          "2021-02-06T09:00:00",
          "2021-02-06T14:00:00",
          "2021-02-06T19:00:00",
          "2021-02-07T00:00:00",
          "2021-02-07T05:00:00",
          "2021-02-07T10:00:00",
          "2021-02-07T15:00:00",
          "2021-02-07T20:00:00",
          "2021-02-08T01:00:00",
          "2021-02-08T06:00:00",
          "2021-02-08T11:00:00",
          "2021-02-08T16:00:00",
          "2021-02-08T21:00:00",
          "2021-02-09T02:00:00",
          "2021-02-09T07:00:00",
          "2021-02-09T12:00:00",
          "2021-02-09T17:00:00",
          "2021-02-09T22:00:00",
          "2021-02-10T03:00:00",
          "2021-02-10T08:00:00",
          "2021-02-10T13:00:00",
          "2021-02-10T18:00:00",
          "2021-02-10T23:00:00",
          "2021-02-11T04:00:00",
          "2021-02-11T09:00:00",
          "2021-02-11T14:00:00",
          "2021-02-11T19:00:00",
          "2021-02-12T00:00:00",
          "2021-02-12T05:00:00",
          "2021-02-12T10:00:00",
          "2021-02-12T15:00:00",
          "2021-02-12T20:00:00",
          "2021-02-13T01:00:00",
          "2021-02-13T06:00:00",
          "2021-02-13T11:00:00",
          "2021-02-13T16:00:00",
          "2021-02-13T21:00:00",
          "2021-02-14T02:00:00",
          "2021-02-14T07:00:00",
          "2021-02-14T12:00:00",
          "2021-02-14T17:00:00",
          "2021-02-14T22:00:00",
          "2021-02-15T03:00:00",
          "2021-02-15T08:00:00",
          "2021-02-15T13:00:00",
          "2021-02-15T18:00:00",
          "2021-02-15T23:00:00",
          "2021-02-16T04:00:00"
         ],
         "y": [
          -139.20699349881554,
          -128.0901385193451,
          -127.60432590702223,
          -148.64643320654653,
          -119.22945091919826,
          -146.5746506002996,
          -146.58345451751003,
          -127.33226722239193,
          -157.212029962831,
          -143.33868138196377,
          -128.70796778629474,
          -132.0132496127428,
          -138.5595584562777,
          -129.7897937538465,
          -140.48922413808805,
          -130.8361907758208,
          -108.0508563575981,
          -133.2136416593206,
          -132.0650935750686,
          -158.59555755404398,
          -143.54005679850678,
          -125.53812277629339,
          -140.09558293169957,
          -113.55655148170419,
          -128.30736484944737,
          -135.9156659998925,
          -129.750012427395,
          -121.44884267113048,
          -149.95361553591076,
          -141.63402808222347,
          -148.49062091068197,
          -146.84152878582904,
          -140.89672153957605,
          -108.56154798838314,
          -147.9488930780398,
          -151.2570794661783,
          -147.360708407439,
          -153.04545352639857,
          -141.53249005895876,
          -141.55065715596714,
          -121.50770264860492,
          -132.52118470811578,
          -151.661049008458,
          -147.69263634476695,
          -110.6630003485662,
          -155.69247204150992,
          -142.26813972904333,
          -125.00887250165998,
          -126.33864462951249,
          -156.19517781884792,
          -128.1714056734072,
          -124.59515864515664,
          -127.44096052349859,
          -137.77366029334874,
          -118.48576220370268,
          -120.87877281349483,
          -139.95444449141718,
          -143.8188875214669,
          -150.22259353437218,
          -171.2155119090718,
          -149.55229292583996,
          -156.9416206284104,
          -130.47014714785914,
          -144.35337585297304,
          -130.0028076905668,
          -147.3993368129845,
          -140.89223704656058,
          -150.1438939016485,
          -151.80066817262426,
          -135.51500690959554,
          -136.11897684969642,
          -111.46446351644866,
          -137.53884984673994,
          -152.64647880977847,
          -143.82921601115305,
          -156.2429942273577,
          -123.09465158880221,
          -133.92673406335845,
          -117.19445735444624,
          -141.62062772276573,
          -137.15272413658667,
          -134.1477521847649,
          -138.2314372840293,
          -133.5388232963065,
          -123.48055801883038,
          -132.44699659051903,
          -123.5324991256594,
          -137.16711647506511,
          -157.32168601758818,
          -136.80159718355605,
          -144.66781681037972,
          -125.171008695363,
          -142.76419935744462,
          -137.58486805529117,
          -139.63893152271487,
          -134.9661449127367,
          -137.3371914889158,
          -141.1141877073259,
          -156.91962107361778,
          -125.7213782322473,
          -146.8590935840535,
          -167.74955025450893,
          -151.66549958184407,
          -137.10624970712553,
          -133.7774413357872,
          -152.92172906149383,
          -148.18448362200445,
          -136.60951012921146,
          -132.35713156038133,
          -147.89318419306937,
          -139.30787066355782,
          -128.78656288827196,
          -136.37475114799938,
          -149.47506017180086,
          -141.01297706857136,
          -146.2964327355879,
          -158.1643476916172,
          -151.13962689566014,
          -111.3021268144632,
          -129.57665929962997,
          -121.76921269985336,
          -151.8634057541319,
          -125.77321365475383,
          -142.3890458636841,
          -130.5996616183454,
          -138.40038402645922,
          -134.9463308122944,
          -153.93142357849626,
          -153.0033765503637,
          -140.34182379556742,
          -146.07091097557915,
          -150.47457065247076,
          -148.17589563840093,
          -110.59288330110668,
          -114.35782897272367,
          -161.37881811049652,
          -124.86190146774204,
          -129.94507179700165,
          -124.11700658295,
          -135.86328469232228,
          -132.04474359678,
          -137.6402961502584,
          -117.06114980427311,
          -146.73766704553032,
          -163.48391656203952,
          -150.64265781136916,
          -138.52109815840691,
          -121.28628782175977,
          -166.17238416397376,
          -132.87053949465923,
          -144.0798975503903,
          -140.01532692660868,
          -145.12695483283855,
          -136.83028652050695,
          -133.5564272930217,
          -141.16578378632528,
          -108.09607873072798,
          -144.9129844701723,
          -141.90113257658405,
          -155.97081697982307,
          -145.04169826822508,
          -164.39682775622435,
          -125.76327834636301,
          -141.9677983649537,
          -144.18925786645588,
          -139.78108053695493,
          -132.60391369819394,
          -135.92487728520197,
          -142.65287352292762,
          -141.27750935721033,
          -139.67480564960167,
          -157.34883067617898,
          -164.48209755204354,
          -136.40767467970264,
          -142.04719686026795,
          -137.1037988057232,
          -141.78321075223369,
          -135.0972498755679,
          -148.11946700612125,
          -148.6072934429693,
          -130.13167622002015,
          -142.04145141493518,
          -138.58432625168297,
          -131.73344000864373,
          -133.5312131749717,
          -121.09871882197861,
          -159.25194682762898,
          -145.43851358246548,
          -143.94409352631675,
          -146.96181442661424,
          -136.57628628528514,
          -166.0956280106414,
          -131.87498156949698,
          -141.3840362073142,
          -120.41005502688816,
          -143.0261492366657,
          -144.66530933322318,
          -157.27612967610773,
          -115.24568910980342,
          -139.77002258208176,
          -147.27548710468815,
          -153.8578239347968,
          -99.72740517321692,
          -127.3302983229039,
          -117.50538795256497,
          -153.2740428402537,
          -121.48793422864944,
          -130.68281196744726,
          -137.70627674199812,
          -142.2679957271203,
          -129.40595899562848,
          -132.17276320620792,
          -149.19016825909074,
          -132.91904249067534,
          -146.9042016107063
         ]
        },
        {
         "line": {
          "color": "black",
          "width": 2
         },
         "mode": "lines",
         "name": "top2_hashtag_count",
         "type": "scatter",
         "x": [
          "2021-01-02T14:00:00",
          "2021-01-02T19:00:00",
          "2021-01-03T00:00:00",
          "2021-01-03T05:00:00",
          "2021-01-03T10:00:00",
          "2021-01-03T15:00:00",
          "2021-01-03T20:00:00",
          "2021-01-04T01:00:00",
          "2021-01-04T06:00:00",
          "2021-01-04T11:00:00",
          "2021-01-04T16:00:00",
          "2021-01-04T21:00:00",
          "2021-01-05T02:00:00",
          "2021-01-05T07:00:00",
          "2021-01-05T12:00:00",
          "2021-01-05T17:00:00",
          "2021-01-05T22:00:00",
          "2021-01-06T03:00:00",
          "2021-01-06T08:00:00",
          "2021-01-06T13:00:00",
          "2021-01-06T18:00:00",
          "2021-01-06T23:00:00",
          "2021-01-07T04:00:00",
          "2021-01-07T09:00:00",
          "2021-01-07T14:00:00",
          "2021-01-07T19:00:00",
          "2021-01-08T00:00:00",
          "2021-01-08T05:00:00",
          "2021-01-08T10:00:00",
          "2021-01-08T15:00:00",
          "2021-01-08T20:00:00",
          "2021-01-09T01:00:00",
          "2021-01-09T06:00:00",
          "2021-01-09T11:00:00",
          "2021-01-09T16:00:00",
          "2021-01-09T21:00:00",
          "2021-01-10T02:00:00",
          "2021-01-10T07:00:00",
          "2021-01-10T12:00:00",
          "2021-01-10T17:00:00",
          "2021-01-10T22:00:00",
          "2021-01-11T03:00:00",
          "2021-01-11T08:00:00",
          "2021-01-11T13:00:00",
          "2021-01-11T18:00:00",
          "2021-01-11T23:00:00",
          "2021-01-12T04:00:00",
          "2021-01-12T09:00:00",
          "2021-01-12T14:00:00",
          "2021-01-12T19:00:00",
          "2021-01-13T00:00:00",
          "2021-01-13T05:00:00",
          "2021-01-13T10:00:00",
          "2021-01-13T15:00:00",
          "2021-01-13T20:00:00",
          "2021-01-14T01:00:00",
          "2021-01-14T06:00:00",
          "2021-01-14T11:00:00",
          "2021-01-14T16:00:00",
          "2021-01-14T21:00:00",
          "2021-01-15T02:00:00",
          "2021-01-15T07:00:00",
          "2021-01-15T12:00:00",
          "2021-01-15T17:00:00",
          "2021-01-15T22:00:00",
          "2021-01-16T03:00:00",
          "2021-01-16T08:00:00",
          "2021-01-16T13:00:00",
          "2021-01-16T18:00:00",
          "2021-01-16T23:00:00",
          "2021-01-17T04:00:00",
          "2021-01-17T09:00:00",
          "2021-01-17T14:00:00",
          "2021-01-17T19:00:00",
          "2021-01-18T00:00:00",
          "2021-01-18T05:00:00",
          "2021-01-18T10:00:00",
          "2021-01-18T15:00:00",
          "2021-01-18T20:00:00",
          "2021-01-19T01:00:00",
          "2021-01-19T06:00:00",
          "2021-01-19T11:00:00",
          "2021-01-19T16:00:00",
          "2021-01-19T21:00:00",
          "2021-01-20T02:00:00",
          "2021-01-20T07:00:00",
          "2021-01-20T12:00:00",
          "2021-01-20T17:00:00",
          "2021-01-20T22:00:00",
          "2021-01-21T03:00:00",
          "2021-01-21T08:00:00",
          "2021-01-21T13:00:00",
          "2021-01-21T18:00:00",
          "2021-01-21T23:00:00",
          "2021-01-22T04:00:00",
          "2021-01-22T09:00:00",
          "2021-01-22T14:00:00",
          "2021-01-22T19:00:00",
          "2021-01-23T00:00:00",
          "2021-01-23T05:00:00",
          "2021-01-23T10:00:00",
          "2021-01-23T15:00:00",
          "2021-01-23T20:00:00",
          "2021-01-24T01:00:00",
          "2021-01-24T06:00:00",
          "2021-01-24T11:00:00",
          "2021-01-24T16:00:00",
          "2021-01-24T21:00:00",
          "2021-01-25T02:00:00",
          "2021-01-25T07:00:00",
          "2021-01-25T12:00:00",
          "2021-01-25T17:00:00",
          "2021-01-25T22:00:00",
          "2021-01-26T03:00:00",
          "2021-01-26T08:00:00",
          "2021-01-26T13:00:00",
          "2021-01-26T18:00:00",
          "2021-01-26T23:00:00",
          "2021-01-27T04:00:00",
          "2021-01-27T09:00:00",
          "2021-01-27T14:00:00",
          "2021-01-27T19:00:00",
          "2021-01-28T00:00:00",
          "2021-01-28T05:00:00",
          "2021-01-28T10:00:00",
          "2021-01-28T15:00:00",
          "2021-01-28T20:00:00",
          "2021-01-29T01:00:00",
          "2021-01-29T06:00:00",
          "2021-01-29T11:00:00",
          "2021-01-29T16:00:00",
          "2021-01-29T21:00:00",
          "2021-01-30T02:00:00",
          "2021-01-30T07:00:00",
          "2021-01-30T12:00:00",
          "2021-01-30T17:00:00",
          "2021-01-30T22:00:00",
          "2021-01-31T03:00:00",
          "2021-01-31T08:00:00",
          "2021-01-31T13:00:00",
          "2021-01-31T18:00:00",
          "2021-01-31T23:00:00",
          "2021-02-01T04:00:00",
          "2021-02-01T09:00:00",
          "2021-02-01T14:00:00",
          "2021-02-01T19:00:00",
          "2021-02-02T00:00:00",
          "2021-02-02T05:00:00",
          "2021-02-02T10:00:00",
          "2021-02-02T15:00:00",
          "2021-02-02T20:00:00",
          "2021-02-03T01:00:00",
          "2021-02-03T06:00:00",
          "2021-02-03T11:00:00",
          "2021-02-03T16:00:00",
          "2021-02-03T21:00:00",
          "2021-02-04T02:00:00",
          "2021-02-04T07:00:00",
          "2021-02-04T12:00:00",
          "2021-02-04T17:00:00",
          "2021-02-04T22:00:00",
          "2021-02-05T03:00:00",
          "2021-02-05T08:00:00",
          "2021-02-05T13:00:00",
          "2021-02-05T18:00:00",
          "2021-02-05T23:00:00",
          "2021-02-06T04:00:00",
          "2021-02-06T09:00:00",
          "2021-02-06T14:00:00",
          "2021-02-06T19:00:00",
          "2021-02-07T00:00:00",
          "2021-02-07T05:00:00",
          "2021-02-07T10:00:00",
          "2021-02-07T15:00:00",
          "2021-02-07T20:00:00",
          "2021-02-08T01:00:00",
          "2021-02-08T06:00:00",
          "2021-02-08T11:00:00",
          "2021-02-08T16:00:00",
          "2021-02-08T21:00:00",
          "2021-02-09T02:00:00",
          "2021-02-09T07:00:00",
          "2021-02-09T12:00:00",
          "2021-02-09T17:00:00",
          "2021-02-09T22:00:00",
          "2021-02-10T03:00:00",
          "2021-02-10T08:00:00",
          "2021-02-10T13:00:00",
          "2021-02-10T18:00:00",
          "2021-02-10T23:00:00",
          "2021-02-11T04:00:00",
          "2021-02-11T09:00:00",
          "2021-02-11T14:00:00",
          "2021-02-11T19:00:00",
          "2021-02-12T00:00:00",
          "2021-02-12T05:00:00",
          "2021-02-12T10:00:00",
          "2021-02-12T15:00:00",
          "2021-02-12T20:00:00",
          "2021-02-13T01:00:00",
          "2021-02-13T06:00:00",
          "2021-02-13T11:00:00",
          "2021-02-13T16:00:00",
          "2021-02-13T21:00:00",
          "2021-02-14T02:00:00",
          "2021-02-14T07:00:00",
          "2021-02-14T12:00:00",
          "2021-02-14T17:00:00",
          "2021-02-14T22:00:00",
          "2021-02-15T03:00:00",
          "2021-02-15T08:00:00",
          "2021-02-15T13:00:00",
          "2021-02-15T18:00:00",
          "2021-02-15T23:00:00",
          "2021-02-16T04:00:00"
         ],
         "y": [
          0,
          0,
          0,
          0,
          0,
          0,
          0,
          0,
          0,
          0,
          0,
          0,
          0,
          0,
          0,
          0,
          0,
          0,
          0,
          0,
          0,
          0,
          0,
          0,
          0,
          0,
          0,
          0,
          0,
          0,
          0,
          0,
          0,
          0,
          0,
          0,
          0,
          0,
          0,
          0,
          0,
          0,
          0,
          0,
          0,
          0,
          0,
          0,
          0,
          0,
          0,
          0,
          0,
          0,
          0,
          0,
          0,
          0,
          0,
          0,
          0,
          0,
          0,
          0,
          0,
          0,
          0,
          0,
          0,
          0,
          0,
          0,
          0,
          0,
          0,
          0,
          0,
          0,
          0,
          0,
          0,
          0,
          0,
          0,
          0,
          0,
          0,
          0,
          0,
          0,
          0,
          0,
          0,
          0,
          0,
          0,
          0,
          0,
          0,
          0,
          0,
          0,
          0,
          0,
          0,
          0,
          0,
          0,
          0,
          0,
          0,
          0,
          0,
          0,
          0,
          0,
          0,
          0,
          0,
          0,
          0,
          0,
          0,
          0,
          0,
          0,
          0,
          0,
          0,
          0,
          0,
          0,
          0,
          0,
          0,
          0,
          0,
          0,
          0,
          0,
          0,
          0,
          0,
          0,
          0,
          0,
          0,
          0,
          0,
          0,
          0,
          0,
          0,
          0,
          0,
          0,
          0,
          0,
          0,
          0,
          0,
          0,
          0,
          0,
          0,
          0,
          0,
          1,
          2492,
          -1642,
          -513,
          -294,
          -23,
          -11,
          -4,
          -2,
          -2,
          0,
          -1,
          0,
          -1,
          1,
          -1,
          1,
          -1,
          1,
          -1,
          1,
          -1,
          0,
          0,
          0,
          0,
          0,
          0,
          0,
          0,
          1,
          -1,
          0,
          0,
          0,
          0,
          0,
          0,
          0,
          0,
          0,
          0,
          0,
          0,
          0,
          0,
          1,
          -1
         ]
        },
        {
         "line": {
          "color": "red",
          "width": 2
         },
         "mode": "lines",
         "name": "Anomaly Score",
         "type": "scatter",
         "x": [
          "2021-01-02T14:00:00",
          "2021-01-02T19:00:00",
          "2021-01-03T00:00:00",
          "2021-01-03T05:00:00",
          "2021-01-03T10:00:00",
          "2021-01-03T15:00:00",
          "2021-01-03T20:00:00",
          "2021-01-04T01:00:00",
          "2021-01-04T06:00:00",
          "2021-01-04T11:00:00",
          "2021-01-04T16:00:00",
          "2021-01-04T21:00:00",
          "2021-01-05T02:00:00",
          "2021-01-05T07:00:00",
          "2021-01-05T12:00:00",
          "2021-01-05T17:00:00",
          "2021-01-05T22:00:00",
          "2021-01-06T03:00:00",
          "2021-01-06T08:00:00",
          "2021-01-06T13:00:00",
          "2021-01-06T18:00:00",
          "2021-01-06T23:00:00",
          "2021-01-07T04:00:00",
          "2021-01-07T09:00:00",
          "2021-01-07T14:00:00",
          "2021-01-07T19:00:00",
          "2021-01-08T00:00:00",
          "2021-01-08T05:00:00",
          "2021-01-08T10:00:00",
          "2021-01-08T15:00:00",
          "2021-01-08T20:00:00",
          "2021-01-09T01:00:00",
          "2021-01-09T06:00:00",
          "2021-01-09T11:00:00",
          "2021-01-09T16:00:00",
          "2021-01-09T21:00:00",
          "2021-01-10T02:00:00",
          "2021-01-10T07:00:00",
          "2021-01-10T12:00:00",
          "2021-01-10T17:00:00",
          "2021-01-10T22:00:00",
          "2021-01-11T03:00:00",
          "2021-01-11T08:00:00",
          "2021-01-11T13:00:00",
          "2021-01-11T18:00:00",
          "2021-01-11T23:00:00",
          "2021-01-12T04:00:00",
          "2021-01-12T09:00:00",
          "2021-01-12T14:00:00",
          "2021-01-12T19:00:00",
          "2021-01-13T00:00:00",
          "2021-01-13T05:00:00",
          "2021-01-13T10:00:00",
          "2021-01-13T15:00:00",
          "2021-01-13T20:00:00",
          "2021-01-14T01:00:00",
          "2021-01-14T06:00:00",
          "2021-01-14T11:00:00",
          "2021-01-14T16:00:00",
          "2021-01-14T21:00:00",
          "2021-01-15T02:00:00",
          "2021-01-15T07:00:00",
          "2021-01-15T12:00:00",
          "2021-01-15T17:00:00",
          "2021-01-15T22:00:00",
          "2021-01-16T03:00:00",
          "2021-01-16T08:00:00",
          "2021-01-16T13:00:00",
          "2021-01-16T18:00:00",
          "2021-01-16T23:00:00",
          "2021-01-17T04:00:00",
          "2021-01-17T09:00:00",
          "2021-01-17T14:00:00",
          "2021-01-17T19:00:00",
          "2021-01-18T00:00:00",
          "2021-01-18T05:00:00",
          "2021-01-18T10:00:00",
          "2021-01-18T15:00:00",
          "2021-01-18T20:00:00",
          "2021-01-19T01:00:00",
          "2021-01-19T06:00:00",
          "2021-01-19T11:00:00",
          "2021-01-19T16:00:00",
          "2021-01-19T21:00:00",
          "2021-01-20T02:00:00",
          "2021-01-20T07:00:00",
          "2021-01-20T12:00:00",
          "2021-01-20T17:00:00",
          "2021-01-20T22:00:00",
          "2021-01-21T03:00:00",
          "2021-01-21T08:00:00",
          "2021-01-21T13:00:00",
          "2021-01-21T18:00:00",
          "2021-01-21T23:00:00",
          "2021-01-22T04:00:00",
          "2021-01-22T09:00:00",
          "2021-01-22T14:00:00",
          "2021-01-22T19:00:00",
          "2021-01-23T00:00:00",
          "2021-01-23T05:00:00",
          "2021-01-23T10:00:00",
          "2021-01-23T15:00:00",
          "2021-01-23T20:00:00",
          "2021-01-24T01:00:00",
          "2021-01-24T06:00:00",
          "2021-01-24T11:00:00",
          "2021-01-24T16:00:00",
          "2021-01-24T21:00:00",
          "2021-01-25T02:00:00",
          "2021-01-25T07:00:00",
          "2021-01-25T12:00:00",
          "2021-01-25T17:00:00",
          "2021-01-25T22:00:00",
          "2021-01-26T03:00:00",
          "2021-01-26T08:00:00",
          "2021-01-26T13:00:00",
          "2021-01-26T18:00:00",
          "2021-01-26T23:00:00",
          "2021-01-27T04:00:00",
          "2021-01-27T09:00:00",
          "2021-01-27T14:00:00",
          "2021-01-27T19:00:00",
          "2021-01-28T00:00:00",
          "2021-01-28T05:00:00",
          "2021-01-28T10:00:00",
          "2021-01-28T15:00:00",
          "2021-01-28T20:00:00",
          "2021-01-29T01:00:00",
          "2021-01-29T06:00:00",
          "2021-01-29T11:00:00",
          "2021-01-29T16:00:00",
          "2021-01-29T21:00:00",
          "2021-01-30T02:00:00",
          "2021-01-30T07:00:00",
          "2021-01-30T12:00:00",
          "2021-01-30T17:00:00",
          "2021-01-30T22:00:00",
          "2021-01-31T03:00:00",
          "2021-01-31T08:00:00",
          "2021-01-31T13:00:00",
          "2021-01-31T18:00:00",
          "2021-01-31T23:00:00",
          "2021-02-01T04:00:00",
          "2021-02-01T09:00:00",
          "2021-02-01T14:00:00",
          "2021-02-01T19:00:00",
          "2021-02-02T00:00:00",
          "2021-02-02T05:00:00",
          "2021-02-02T10:00:00",
          "2021-02-02T15:00:00",
          "2021-02-02T20:00:00",
          "2021-02-03T01:00:00",
          "2021-02-03T06:00:00",
          "2021-02-03T11:00:00",
          "2021-02-03T16:00:00",
          "2021-02-03T21:00:00",
          "2021-02-04T02:00:00",
          "2021-02-04T07:00:00",
          "2021-02-04T12:00:00",
          "2021-02-04T17:00:00",
          "2021-02-04T22:00:00",
          "2021-02-05T03:00:00",
          "2021-02-05T08:00:00",
          "2021-02-05T13:00:00",
          "2021-02-05T18:00:00",
          "2021-02-05T23:00:00",
          "2021-02-06T04:00:00",
          "2021-02-06T09:00:00",
          "2021-02-06T14:00:00",
          "2021-02-06T19:00:00",
          "2021-02-07T00:00:00",
          "2021-02-07T05:00:00",
          "2021-02-07T10:00:00",
          "2021-02-07T15:00:00",
          "2021-02-07T20:00:00",
          "2021-02-08T01:00:00",
          "2021-02-08T06:00:00",
          "2021-02-08T11:00:00",
          "2021-02-08T16:00:00",
          "2021-02-08T21:00:00",
          "2021-02-09T02:00:00",
          "2021-02-09T07:00:00",
          "2021-02-09T12:00:00",
          "2021-02-09T17:00:00",
          "2021-02-09T22:00:00",
          "2021-02-10T03:00:00",
          "2021-02-10T08:00:00",
          "2021-02-10T13:00:00",
          "2021-02-10T18:00:00",
          "2021-02-10T23:00:00",
          "2021-02-11T04:00:00",
          "2021-02-11T09:00:00",
          "2021-02-11T14:00:00",
          "2021-02-11T19:00:00",
          "2021-02-12T00:00:00",
          "2021-02-12T05:00:00",
          "2021-02-12T10:00:00",
          "2021-02-12T15:00:00",
          "2021-02-12T20:00:00",
          "2021-02-13T01:00:00",
          "2021-02-13T06:00:00",
          "2021-02-13T11:00:00",
          "2021-02-13T16:00:00",
          "2021-02-13T21:00:00",
          "2021-02-14T02:00:00",
          "2021-02-14T07:00:00",
          "2021-02-14T12:00:00",
          "2021-02-14T17:00:00",
          "2021-02-14T22:00:00",
          "2021-02-15T03:00:00",
          "2021-02-15T08:00:00",
          "2021-02-15T13:00:00",
          "2021-02-15T18:00:00",
          "2021-02-15T23:00:00",
          "2021-02-16T04:00:00"
         ],
         "xaxis": "x",
         "y": [
          0,
          0,
          0,
          0,
          0,
          0,
          0,
          0,
          0,
          0,
          0,
          0,
          0,
          0,
          0,
          0,
          0,
          0,
          0,
          0,
          0,
          0,
          0,
          0,
          0,
          0,
          0,
          0,
          0,
          0,
          0,
          0,
          0,
          0,
          0,
          0,
          0,
          0,
          0,
          0,
          0,
          0,
          0,
          0,
          0,
          0,
          0,
          0,
          0,
          0,
          0,
          0,
          0,
          0,
          0,
          0,
          0,
          0,
          0,
          0,
          0,
          0,
          0,
          0,
          0,
          0,
          0,
          0,
          0,
          0.5200045526673032,
          0,
          0.5166975027584128,
          0,
          0.5087598997001523,
          0,
          0,
          0.502610642337022,
          0.56562311286745,
          0.5412992437855211,
          0.5552910073370351,
          0.5513641703801666,
          0.5844424671342139,
          0.5424009066857828,
          0.5511351749909773,
          0.5697047363648716,
          0.6039636920358371,
          0.588489379319027,
          0.6311548400089388,
          0.5467998374652935,
          0.6185685142418957,
          0.5845480153673873,
          0.6727702625497601,
          0.5768065341008479,
          0.674639795038997,
          0.675510970965883,
          0.695455418137703,
          0.6644423155310627,
          0.6330957143315891,
          0.6364780822223818,
          0.669516598208589,
          0.6421798039176908,
          0.6428776019298568,
          0.7216440581230127,
          0.7268663598043203,
          0.6711200620558397,
          0.6937406961330849,
          0.6950252674963772,
          0.7883289217916093,
          0.7456634126418625,
          0.745032933333951,
          0.754070357255911,
          0.7515450662689439,
          0.7786630449769837,
          0.7756428037869766,
          0.7774885750466555,
          0.8644355827621681,
          0.7652338209169632,
          0.8267771598173569,
          0.806865590439459,
          0.8234256993366543,
          0.9402577632445985,
          0.8710383164990709,
          0.8814782606282295,
          0.8287884854522787,
          0.9031195706985533,
          0.9183836737218625,
          0.922114688055941,
          0.9399368959316466,
          0.8714393419762414,
          0.922156324527694,
          0.9542534886951958,
          0.9512498182266371,
          1.057103279874768,
          0.9678162996576611,
          1.0524633052632426,
          0.8869573594840161,
          0.9634990981071642,
          1.0373840103115772,
          0.9938054003852056,
          0.9705842995565689,
          0.9870753225901713,
          0.9544839288252047,
          1.125637173484384,
          0.9543605511122684,
          1.1184776215008005,
          1.0229601309580925,
          1.0630520014326033,
          1.1613066388671887,
          0.9620648126099312,
          1.1048787422221165,
          1.0571297919140608,
          1.0992087477120784,
          1.1346525835045183,
          1.1893136643608004,
          1.1712800541690267,
          1.2149746911430832,
          1.2393430504929672,
          1.3056845018885102,
          1.2245437225548772,
          1.1838264693925664,
          1.091623794511333,
          1.1277622659510327,
          1.212997659879892,
          1.2685041457378041,
          1.1784835700156837,
          1.2856504080622002,
          1.2476455796757018,
          1.99622239906411,
          4.609722807805301,
          0,
          0,
          0,
          0,
          0,
          0,
          0,
          0,
          1.3366737420335264,
          0,
          1.2747276633508793,
          0,
          2.0000059686809037,
          0,
          1.9999511792965239,
          0,
          2.000143792997155,
          0,
          2.000256528030794,
          0,
          1.4755889745201616,
          1.439203189570609,
          1.5074939834701884,
          1.4922532296992386,
          1.5076713002997446,
          1.477627265668245,
          1.4560707136471163,
          1.4945499250360248,
          2.000043248007143,
          0,
          1.4671833515629555,
          1.5176817973384942,
          1.5498048393048414,
          1.5159622657434781,
          1.5177525722861027,
          1.569299033126673,
          1.4758066219093824,
          1.5398790748309226,
          1.5338502502190658,
          1.5679399844570492,
          1.5133300276901354,
          1.4916236151998898,
          1.5353734614520396,
          1.5611679426254117,
          2.0003304594003515,
          0
         ],
         "yaxis": "y2"
        }
       ],
       "layout": {
        "height": 600,
        "shapes": [
         {
          "fillcolor": "#e07070",
          "line": {
           "width": 0
          },
          "opacity": 0.4,
          "type": "rect",
          "x0": "2021-01-16T23:00:00",
          "x1": "2021-01-17T04:00:00",
          "xref": "x",
          "y0": 0,
          "y1": 1,
          "yref": "y domain"
         },
         {
          "fillcolor": "#e07070",
          "line": {
           "width": 0
          },
          "opacity": 0.4,
          "type": "rect",
          "x0": "2021-01-17T09:00:00",
          "x1": "2021-01-17T14:00:00",
          "xref": "x",
          "y0": 0,
          "y1": 1,
          "yref": "y domain"
         },
         {
          "fillcolor": "#e07070",
          "line": {
           "width": 0
          },
          "opacity": 0.4,
          "type": "rect",
          "x0": "2021-01-17T19:00:00",
          "x1": "2021-01-18T00:00:00",
          "xref": "x",
          "y0": 0,
          "y1": 1,
          "yref": "y domain"
         },
         {
          "fillcolor": "#e07070",
          "line": {
           "width": 0
          },
          "opacity": 0.4,
          "type": "rect",
          "x0": "2021-01-18T10:00:00",
          "x1": "2021-01-18T15:00:00",
          "xref": "x",
          "y0": 0,
          "y1": 1,
          "yref": "y domain"
         },
         {
          "fillcolor": "#e07070",
          "line": {
           "width": 0
          },
          "opacity": 0.4,
          "type": "rect",
          "x0": "2021-01-18T15:00:00",
          "x1": "2021-01-18T20:00:00",
          "xref": "x",
          "y0": 0,
          "y1": 1,
          "yref": "y domain"
         },
         {
          "fillcolor": "#e07070",
          "line": {
           "width": 0
          },
          "opacity": 0.4,
          "type": "rect",
          "x0": "2021-01-18T20:00:00",
          "x1": "2021-01-19T01:00:00",
          "xref": "x",
          "y0": 0,
          "y1": 1,
          "yref": "y domain"
         },
         {
          "fillcolor": "#e07070",
          "line": {
           "width": 0
          },
          "opacity": 0.4,
          "type": "rect",
          "x0": "2021-01-19T01:00:00",
          "x1": "2021-01-19T06:00:00",
          "xref": "x",
          "y0": 0,
          "y1": 1,
          "yref": "y domain"
         },
         {
          "fillcolor": "#e07070",
          "line": {
           "width": 0
          },
          "opacity": 0.4,
          "type": "rect",
          "x0": "2021-01-19T06:00:00",
          "x1": "2021-01-19T11:00:00",
          "xref": "x",
          "y0": 0,
          "y1": 1,
          "yref": "y domain"
         },
         {
          "fillcolor": "#e07070",
          "line": {
           "width": 0
          },
          "opacity": 0.4,
          "type": "rect",
          "x0": "2021-01-19T11:00:00",
          "x1": "2021-01-19T16:00:00",
          "xref": "x",
          "y0": 0,
          "y1": 1,
          "yref": "y domain"
         },
         {
          "fillcolor": "#e07070",
          "line": {
           "width": 0
          },
          "opacity": 0.4,
          "type": "rect",
          "x0": "2021-01-19T16:00:00",
          "x1": "2021-01-19T21:00:00",
          "xref": "x",
          "y0": 0,
          "y1": 1,
          "yref": "y domain"
         },
         {
          "fillcolor": "#e07070",
          "line": {
           "width": 0
          },
          "opacity": 0.4,
          "type": "rect",
          "x0": "2021-01-19T21:00:00",
          "x1": "2021-01-20T02:00:00",
          "xref": "x",
          "y0": 0,
          "y1": 1,
          "yref": "y domain"
         },
         {
          "fillcolor": "#e07070",
          "line": {
           "width": 0
          },
          "opacity": 0.4,
          "type": "rect",
          "x0": "2021-01-20T02:00:00",
          "x1": "2021-01-20T07:00:00",
          "xref": "x",
          "y0": 0,
          "y1": 1,
          "yref": "y domain"
         },
         {
          "fillcolor": "#e07070",
          "line": {
           "width": 0
          },
          "opacity": 0.4,
          "type": "rect",
          "x0": "2021-01-20T07:00:00",
          "x1": "2021-01-20T12:00:00",
          "xref": "x",
          "y0": 0,
          "y1": 1,
          "yref": "y domain"
         },
         {
          "fillcolor": "#e07070",
          "line": {
           "width": 0
          },
          "opacity": 0.4,
          "type": "rect",
          "x0": "2021-01-20T12:00:00",
          "x1": "2021-01-20T17:00:00",
          "xref": "x",
          "y0": 0,
          "y1": 1,
          "yref": "y domain"
         },
         {
          "fillcolor": "#e07070",
          "line": {
           "width": 0
          },
          "opacity": 0.4,
          "type": "rect",
          "x0": "2021-01-20T17:00:00",
          "x1": "2021-01-20T22:00:00",
          "xref": "x",
          "y0": 0,
          "y1": 1,
          "yref": "y domain"
         },
         {
          "fillcolor": "#e07070",
          "line": {
           "width": 0
          },
          "opacity": 0.4,
          "type": "rect",
          "x0": "2021-01-20T22:00:00",
          "x1": "2021-01-21T03:00:00",
          "xref": "x",
          "y0": 0,
          "y1": 1,
          "yref": "y domain"
         },
         {
          "fillcolor": "#e07070",
          "line": {
           "width": 0
          },
          "opacity": 0.4,
          "type": "rect",
          "x0": "2021-01-21T03:00:00",
          "x1": "2021-01-21T08:00:00",
          "xref": "x",
          "y0": 0,
          "y1": 1,
          "yref": "y domain"
         },
         {
          "fillcolor": "#e07070",
          "line": {
           "width": 0
          },
          "opacity": 0.4,
          "type": "rect",
          "x0": "2021-01-21T08:00:00",
          "x1": "2021-01-21T13:00:00",
          "xref": "x",
          "y0": 0,
          "y1": 1,
          "yref": "y domain"
         },
         {
          "fillcolor": "#e07070",
          "line": {
           "width": 0
          },
          "opacity": 0.4,
          "type": "rect",
          "x0": "2021-01-21T13:00:00",
          "x1": "2021-01-21T18:00:00",
          "xref": "x",
          "y0": 0,
          "y1": 1,
          "yref": "y domain"
         },
         {
          "fillcolor": "#e07070",
          "line": {
           "width": 0
          },
          "opacity": 0.4,
          "type": "rect",
          "x0": "2021-01-21T18:00:00",
          "x1": "2021-01-21T23:00:00",
          "xref": "x",
          "y0": 0,
          "y1": 1,
          "yref": "y domain"
         },
         {
          "fillcolor": "#e07070",
          "line": {
           "width": 0
          },
          "opacity": 0.4,
          "type": "rect",
          "x0": "2021-01-21T23:00:00",
          "x1": "2021-01-22T04:00:00",
          "xref": "x",
          "y0": 0,
          "y1": 1,
          "yref": "y domain"
         },
         {
          "fillcolor": "#e07070",
          "line": {
           "width": 0
          },
          "opacity": 0.4,
          "type": "rect",
          "x0": "2021-01-22T04:00:00",
          "x1": "2021-01-22T09:00:00",
          "xref": "x",
          "y0": 0,
          "y1": 1,
          "yref": "y domain"
         },
         {
          "fillcolor": "#e07070",
          "line": {
           "width": 0
          },
          "opacity": 0.4,
          "type": "rect",
          "x0": "2021-01-22T09:00:00",
          "x1": "2021-01-22T14:00:00",
          "xref": "x",
          "y0": 0,
          "y1": 1,
          "yref": "y domain"
         },
         {
          "fillcolor": "#e07070",
          "line": {
           "width": 0
          },
          "opacity": 0.4,
          "type": "rect",
          "x0": "2021-01-22T14:00:00",
          "x1": "2021-01-22T19:00:00",
          "xref": "x",
          "y0": 0,
          "y1": 1,
          "yref": "y domain"
         },
         {
          "fillcolor": "#e07070",
          "line": {
           "width": 0
          },
          "opacity": 0.4,
          "type": "rect",
          "x0": "2021-01-22T19:00:00",
          "x1": "2021-01-23T00:00:00",
          "xref": "x",
          "y0": 0,
          "y1": 1,
          "yref": "y domain"
         },
         {
          "fillcolor": "#e07070",
          "line": {
           "width": 0
          },
          "opacity": 0.4,
          "type": "rect",
          "x0": "2021-01-23T00:00:00",
          "x1": "2021-01-23T05:00:00",
          "xref": "x",
          "y0": 0,
          "y1": 1,
          "yref": "y domain"
         },
         {
          "fillcolor": "#e07070",
          "line": {
           "width": 0
          },
          "opacity": 0.4,
          "type": "rect",
          "x0": "2021-01-23T05:00:00",
          "x1": "2021-01-23T10:00:00",
          "xref": "x",
          "y0": 0,
          "y1": 1,
          "yref": "y domain"
         },
         {
          "fillcolor": "#e07070",
          "line": {
           "width": 0
          },
          "opacity": 0.4,
          "type": "rect",
          "x0": "2021-01-23T10:00:00",
          "x1": "2021-01-23T15:00:00",
          "xref": "x",
          "y0": 0,
          "y1": 1,
          "yref": "y domain"
         },
         {
          "fillcolor": "#e07070",
          "line": {
           "width": 0
          },
          "opacity": 0.4,
          "type": "rect",
          "x0": "2021-01-23T15:00:00",
          "x1": "2021-01-23T20:00:00",
          "xref": "x",
          "y0": 0,
          "y1": 1,
          "yref": "y domain"
         },
         {
          "fillcolor": "#e07070",
          "line": {
           "width": 0
          },
          "opacity": 0.4,
          "type": "rect",
          "x0": "2021-01-23T20:00:00",
          "x1": "2021-01-24T01:00:00",
          "xref": "x",
          "y0": 0,
          "y1": 1,
          "yref": "y domain"
         },
         {
          "fillcolor": "#e07070",
          "line": {
           "width": 0
          },
          "opacity": 0.4,
          "type": "rect",
          "x0": "2021-01-24T01:00:00",
          "x1": "2021-01-24T06:00:00",
          "xref": "x",
          "y0": 0,
          "y1": 1,
          "yref": "y domain"
         },
         {
          "fillcolor": "#e07070",
          "line": {
           "width": 0
          },
          "opacity": 0.4,
          "type": "rect",
          "x0": "2021-01-24T06:00:00",
          "x1": "2021-01-24T11:00:00",
          "xref": "x",
          "y0": 0,
          "y1": 1,
          "yref": "y domain"
         },
         {
          "fillcolor": "#e07070",
          "line": {
           "width": 0
          },
          "opacity": 0.4,
          "type": "rect",
          "x0": "2021-01-24T11:00:00",
          "x1": "2021-01-24T16:00:00",
          "xref": "x",
          "y0": 0,
          "y1": 1,
          "yref": "y domain"
         },
         {
          "fillcolor": "#e07070",
          "line": {
           "width": 0
          },
          "opacity": 0.4,
          "type": "rect",
          "x0": "2021-01-24T16:00:00",
          "x1": "2021-01-24T21:00:00",
          "xref": "x",
          "y0": 0,
          "y1": 1,
          "yref": "y domain"
         },
         {
          "fillcolor": "#e07070",
          "line": {
           "width": 0
          },
          "opacity": 0.4,
          "type": "rect",
          "x0": "2021-01-24T21:00:00",
          "x1": "2021-01-25T02:00:00",
          "xref": "x",
          "y0": 0,
          "y1": 1,
          "yref": "y domain"
         },
         {
          "fillcolor": "#e07070",
          "line": {
           "width": 0
          },
          "opacity": 0.4,
          "type": "rect",
          "x0": "2021-01-25T02:00:00",
          "x1": "2021-01-25T07:00:00",
          "xref": "x",
          "y0": 0,
          "y1": 1,
          "yref": "y domain"
         },
         {
          "fillcolor": "#e07070",
          "line": {
           "width": 0
          },
          "opacity": 0.4,
          "type": "rect",
          "x0": "2021-01-25T07:00:00",
          "x1": "2021-01-25T12:00:00",
          "xref": "x",
          "y0": 0,
          "y1": 1,
          "yref": "y domain"
         },
         {
          "fillcolor": "#e07070",
          "line": {
           "width": 0
          },
          "opacity": 0.4,
          "type": "rect",
          "x0": "2021-01-25T12:00:00",
          "x1": "2021-01-25T17:00:00",
          "xref": "x",
          "y0": 0,
          "y1": 1,
          "yref": "y domain"
         },
         {
          "fillcolor": "#e07070",
          "line": {
           "width": 0
          },
          "opacity": 0.4,
          "type": "rect",
          "x0": "2021-01-25T17:00:00",
          "x1": "2021-01-25T22:00:00",
          "xref": "x",
          "y0": 0,
          "y1": 1,
          "yref": "y domain"
         },
         {
          "fillcolor": "#e07070",
          "line": {
           "width": 0
          },
          "opacity": 0.4,
          "type": "rect",
          "x0": "2021-01-25T22:00:00",
          "x1": "2021-01-26T03:00:00",
          "xref": "x",
          "y0": 0,
          "y1": 1,
          "yref": "y domain"
         },
         {
          "fillcolor": "#e07070",
          "line": {
           "width": 0
          },
          "opacity": 0.4,
          "type": "rect",
          "x0": "2021-01-26T03:00:00",
          "x1": "2021-01-26T08:00:00",
          "xref": "x",
          "y0": 0,
          "y1": 1,
          "yref": "y domain"
         },
         {
          "fillcolor": "#e07070",
          "line": {
           "width": 0
          },
          "opacity": 0.4,
          "type": "rect",
          "x0": "2021-01-26T08:00:00",
          "x1": "2021-01-26T13:00:00",
          "xref": "x",
          "y0": 0,
          "y1": 1,
          "yref": "y domain"
         },
         {
          "fillcolor": "#e07070",
          "line": {
           "width": 0
          },
          "opacity": 0.4,
          "type": "rect",
          "x0": "2021-01-26T13:00:00",
          "x1": "2021-01-26T18:00:00",
          "xref": "x",
          "y0": 0,
          "y1": 1,
          "yref": "y domain"
         },
         {
          "fillcolor": "#e07070",
          "line": {
           "width": 0
          },
          "opacity": 0.4,
          "type": "rect",
          "x0": "2021-01-26T18:00:00",
          "x1": "2021-01-26T23:00:00",
          "xref": "x",
          "y0": 0,
          "y1": 1,
          "yref": "y domain"
         },
         {
          "fillcolor": "#e07070",
          "line": {
           "width": 0
          },
          "opacity": 0.4,
          "type": "rect",
          "x0": "2021-01-26T23:00:00",
          "x1": "2021-01-27T04:00:00",
          "xref": "x",
          "y0": 0,
          "y1": 1,
          "yref": "y domain"
         },
         {
          "fillcolor": "#e07070",
          "line": {
           "width": 0
          },
          "opacity": 0.4,
          "type": "rect",
          "x0": "2021-01-27T04:00:00",
          "x1": "2021-01-27T09:00:00",
          "xref": "x",
          "y0": 0,
          "y1": 1,
          "yref": "y domain"
         },
         {
          "fillcolor": "#e07070",
          "line": {
           "width": 0
          },
          "opacity": 0.4,
          "type": "rect",
          "x0": "2021-01-27T09:00:00",
          "x1": "2021-01-27T14:00:00",
          "xref": "x",
          "y0": 0,
          "y1": 1,
          "yref": "y domain"
         },
         {
          "fillcolor": "#e07070",
          "line": {
           "width": 0
          },
          "opacity": 0.4,
          "type": "rect",
          "x0": "2021-01-27T14:00:00",
          "x1": "2021-01-27T19:00:00",
          "xref": "x",
          "y0": 0,
          "y1": 1,
          "yref": "y domain"
         },
         {
          "fillcolor": "#e07070",
          "line": {
           "width": 0
          },
          "opacity": 0.4,
          "type": "rect",
          "x0": "2021-01-27T19:00:00",
          "x1": "2021-01-28T00:00:00",
          "xref": "x",
          "y0": 0,
          "y1": 1,
          "yref": "y domain"
         },
         {
          "fillcolor": "#e07070",
          "line": {
           "width": 0
          },
          "opacity": 0.4,
          "type": "rect",
          "x0": "2021-01-28T00:00:00",
          "x1": "2021-01-28T05:00:00",
          "xref": "x",
          "y0": 0,
          "y1": 1,
          "yref": "y domain"
         },
         {
          "fillcolor": "#e07070",
          "line": {
           "width": 0
          },
          "opacity": 0.4,
          "type": "rect",
          "x0": "2021-01-28T05:00:00",
          "x1": "2021-01-28T10:00:00",
          "xref": "x",
          "y0": 0,
          "y1": 1,
          "yref": "y domain"
         },
         {
          "fillcolor": "#e07070",
          "line": {
           "width": 0
          },
          "opacity": 0.4,
          "type": "rect",
          "x0": "2021-01-28T10:00:00",
          "x1": "2021-01-28T15:00:00",
          "xref": "x",
          "y0": 0,
          "y1": 1,
          "yref": "y domain"
         },
         {
          "fillcolor": "#e07070",
          "line": {
           "width": 0
          },
          "opacity": 0.4,
          "type": "rect",
          "x0": "2021-01-28T15:00:00",
          "x1": "2021-01-28T20:00:00",
          "xref": "x",
          "y0": 0,
          "y1": 1,
          "yref": "y domain"
         },
         {
          "fillcolor": "#e07070",
          "line": {
           "width": 0
          },
          "opacity": 0.4,
          "type": "rect",
          "x0": "2021-01-28T20:00:00",
          "x1": "2021-01-29T01:00:00",
          "xref": "x",
          "y0": 0,
          "y1": 1,
          "yref": "y domain"
         },
         {
          "fillcolor": "#e07070",
          "line": {
           "width": 0
          },
          "opacity": 0.4,
          "type": "rect",
          "x0": "2021-01-29T01:00:00",
          "x1": "2021-01-29T06:00:00",
          "xref": "x",
          "y0": 0,
          "y1": 1,
          "yref": "y domain"
         },
         {
          "fillcolor": "#e07070",
          "line": {
           "width": 0
          },
          "opacity": 0.4,
          "type": "rect",
          "x0": "2021-01-29T06:00:00",
          "x1": "2021-01-29T11:00:00",
          "xref": "x",
          "y0": 0,
          "y1": 1,
          "yref": "y domain"
         },
         {
          "fillcolor": "#e07070",
          "line": {
           "width": 0
          },
          "opacity": 0.4,
          "type": "rect",
          "x0": "2021-01-29T11:00:00",
          "x1": "2021-01-29T16:00:00",
          "xref": "x",
          "y0": 0,
          "y1": 1,
          "yref": "y domain"
         },
         {
          "fillcolor": "#e07070",
          "line": {
           "width": 0
          },
          "opacity": 0.4,
          "type": "rect",
          "x0": "2021-01-29T16:00:00",
          "x1": "2021-01-29T21:00:00",
          "xref": "x",
          "y0": 0,
          "y1": 1,
          "yref": "y domain"
         },
         {
          "fillcolor": "#e07070",
          "line": {
           "width": 0
          },
          "opacity": 0.4,
          "type": "rect",
          "x0": "2021-01-29T21:00:00",
          "x1": "2021-01-30T02:00:00",
          "xref": "x",
          "y0": 0,
          "y1": 1,
          "yref": "y domain"
         },
         {
          "fillcolor": "#e07070",
          "line": {
           "width": 0
          },
          "opacity": 0.4,
          "type": "rect",
          "x0": "2021-01-30T02:00:00",
          "x1": "2021-01-30T07:00:00",
          "xref": "x",
          "y0": 0,
          "y1": 1,
          "yref": "y domain"
         },
         {
          "fillcolor": "#e07070",
          "line": {
           "width": 0
          },
          "opacity": 0.4,
          "type": "rect",
          "x0": "2021-01-30T07:00:00",
          "x1": "2021-01-30T12:00:00",
          "xref": "x",
          "y0": 0,
          "y1": 1,
          "yref": "y domain"
         },
         {
          "fillcolor": "#e07070",
          "line": {
           "width": 0
          },
          "opacity": 0.4,
          "type": "rect",
          "x0": "2021-01-30T12:00:00",
          "x1": "2021-01-30T17:00:00",
          "xref": "x",
          "y0": 0,
          "y1": 1,
          "yref": "y domain"
         },
         {
          "fillcolor": "#e07070",
          "line": {
           "width": 0
          },
          "opacity": 0.4,
          "type": "rect",
          "x0": "2021-01-30T17:00:00",
          "x1": "2021-01-30T22:00:00",
          "xref": "x",
          "y0": 0,
          "y1": 1,
          "yref": "y domain"
         },
         {
          "fillcolor": "#e07070",
          "line": {
           "width": 0
          },
          "opacity": 0.4,
          "type": "rect",
          "x0": "2021-01-30T22:00:00",
          "x1": "2021-01-31T03:00:00",
          "xref": "x",
          "y0": 0,
          "y1": 1,
          "yref": "y domain"
         },
         {
          "fillcolor": "#e07070",
          "line": {
           "width": 0
          },
          "opacity": 0.4,
          "type": "rect",
          "x0": "2021-01-31T03:00:00",
          "x1": "2021-01-31T08:00:00",
          "xref": "x",
          "y0": 0,
          "y1": 1,
          "yref": "y domain"
         },
         {
          "fillcolor": "#e07070",
          "line": {
           "width": 0
          },
          "opacity": 0.4,
          "type": "rect",
          "x0": "2021-01-31T08:00:00",
          "x1": "2021-01-31T13:00:00",
          "xref": "x",
          "y0": 0,
          "y1": 1,
          "yref": "y domain"
         },
         {
          "fillcolor": "#e07070",
          "line": {
           "width": 0
          },
          "opacity": 0.4,
          "type": "rect",
          "x0": "2021-01-31T13:00:00",
          "x1": "2021-01-31T18:00:00",
          "xref": "x",
          "y0": 0,
          "y1": 1,
          "yref": "y domain"
         },
         {
          "fillcolor": "#e07070",
          "line": {
           "width": 0
          },
          "opacity": 0.4,
          "type": "rect",
          "x0": "2021-01-31T18:00:00",
          "x1": "2021-01-31T23:00:00",
          "xref": "x",
          "y0": 0,
          "y1": 1,
          "yref": "y domain"
         },
         {
          "fillcolor": "#e07070",
          "line": {
           "width": 0
          },
          "opacity": 0.4,
          "type": "rect",
          "x0": "2021-01-31T23:00:00",
          "x1": "2021-02-01T04:00:00",
          "xref": "x",
          "y0": 0,
          "y1": 1,
          "yref": "y domain"
         },
         {
          "fillcolor": "#e07070",
          "line": {
           "width": 0
          },
          "opacity": 0.4,
          "type": "rect",
          "x0": "2021-02-01T04:00:00",
          "x1": "2021-02-01T09:00:00",
          "xref": "x",
          "y0": 0,
          "y1": 1,
          "yref": "y domain"
         },
         {
          "fillcolor": "#e07070",
          "line": {
           "width": 0
          },
          "opacity": 0.4,
          "type": "rect",
          "x0": "2021-02-01T09:00:00",
          "x1": "2021-02-01T14:00:00",
          "xref": "x",
          "y0": 0,
          "y1": 1,
          "yref": "y domain"
         },
         {
          "fillcolor": "#e07070",
          "line": {
           "width": 0
          },
          "opacity": 0.4,
          "type": "rect",
          "x0": "2021-02-01T14:00:00",
          "x1": "2021-02-01T19:00:00",
          "xref": "x",
          "y0": 0,
          "y1": 1,
          "yref": "y domain"
         },
         {
          "fillcolor": "#e07070",
          "line": {
           "width": 0
          },
          "opacity": 0.4,
          "type": "rect",
          "x0": "2021-02-01T19:00:00",
          "x1": "2021-02-02T00:00:00",
          "xref": "x",
          "y0": 0,
          "y1": 1,
          "yref": "y domain"
         },
         {
          "fillcolor": "#e07070",
          "line": {
           "width": 0
          },
          "opacity": 0.4,
          "type": "rect",
          "x0": "2021-02-02T00:00:00",
          "x1": "2021-02-02T05:00:00",
          "xref": "x",
          "y0": 0,
          "y1": 1,
          "yref": "y domain"
         },
         {
          "fillcolor": "#e07070",
          "line": {
           "width": 0
          },
          "opacity": 0.4,
          "type": "rect",
          "x0": "2021-02-02T05:00:00",
          "x1": "2021-02-02T10:00:00",
          "xref": "x",
          "y0": 0,
          "y1": 1,
          "yref": "y domain"
         },
         {
          "fillcolor": "#e07070",
          "line": {
           "width": 0
          },
          "opacity": 0.4,
          "type": "rect",
          "x0": "2021-02-02T10:00:00",
          "x1": "2021-02-02T15:00:00",
          "xref": "x",
          "y0": 0,
          "y1": 1,
          "yref": "y domain"
         },
         {
          "fillcolor": "#e07070",
          "line": {
           "width": 0
          },
          "opacity": 0.4,
          "type": "rect",
          "x0": "2021-02-02T15:00:00",
          "x1": "2021-02-02T20:00:00",
          "xref": "x",
          "y0": 0,
          "y1": 1,
          "yref": "y domain"
         },
         {
          "fillcolor": "#e07070",
          "line": {
           "width": 0
          },
          "opacity": 0.4,
          "type": "rect",
          "x0": "2021-02-02T20:00:00",
          "x1": "2021-02-03T01:00:00",
          "xref": "x",
          "y0": 0,
          "y1": 1,
          "yref": "y domain"
         },
         {
          "fillcolor": "#e07070",
          "line": {
           "width": 0
          },
          "opacity": 0.4,
          "type": "rect",
          "x0": "2021-02-03T01:00:00",
          "x1": "2021-02-03T06:00:00",
          "xref": "x",
          "y0": 0,
          "y1": 1,
          "yref": "y domain"
         },
         {
          "fillcolor": "#e07070",
          "line": {
           "width": 0
          },
          "opacity": 0.4,
          "type": "rect",
          "x0": "2021-02-03T06:00:00",
          "x1": "2021-02-03T11:00:00",
          "xref": "x",
          "y0": 0,
          "y1": 1,
          "yref": "y domain"
         },
         {
          "fillcolor": "#e07070",
          "line": {
           "width": 0
          },
          "opacity": 0.4,
          "type": "rect",
          "x0": "2021-02-03T11:00:00",
          "x1": "2021-02-03T16:00:00",
          "xref": "x",
          "y0": 0,
          "y1": 1,
          "yref": "y domain"
         },
         {
          "fillcolor": "#e07070",
          "line": {
           "width": 0
          },
          "opacity": 0.4,
          "type": "rect",
          "x0": "2021-02-03T16:00:00",
          "x1": "2021-02-03T21:00:00",
          "xref": "x",
          "y0": 0,
          "y1": 1,
          "yref": "y domain"
         },
         {
          "fillcolor": "#e07070",
          "line": {
           "width": 0
          },
          "opacity": 0.4,
          "type": "rect",
          "x0": "2021-02-03T21:00:00",
          "x1": "2021-02-04T02:00:00",
          "xref": "x",
          "y0": 0,
          "y1": 1,
          "yref": "y domain"
         },
         {
          "fillcolor": "#e07070",
          "line": {
           "width": 0
          },
          "opacity": 0.4,
          "type": "rect",
          "x0": "2021-02-04T02:00:00",
          "x1": "2021-02-04T07:00:00",
          "xref": "x",
          "y0": 0,
          "y1": 1,
          "yref": "y domain"
         },
         {
          "fillcolor": "#e07070",
          "line": {
           "width": 0
          },
          "opacity": 0.4,
          "type": "rect",
          "x0": "2021-02-04T07:00:00",
          "x1": "2021-02-04T12:00:00",
          "xref": "x",
          "y0": 0,
          "y1": 1,
          "yref": "y domain"
         },
         {
          "fillcolor": "#e07070",
          "line": {
           "width": 0
          },
          "opacity": 0.4,
          "type": "rect",
          "x0": "2021-02-04T12:00:00",
          "x1": "2021-02-04T17:00:00",
          "xref": "x",
          "y0": 0,
          "y1": 1,
          "yref": "y domain"
         },
         {
          "fillcolor": "#e07070",
          "line": {
           "width": 0
          },
          "opacity": 0.4,
          "type": "rect",
          "x0": "2021-02-04T17:00:00",
          "x1": "2021-02-04T22:00:00",
          "xref": "x",
          "y0": 0,
          "y1": 1,
          "yref": "y domain"
         },
         {
          "fillcolor": "#e07070",
          "line": {
           "width": 0
          },
          "opacity": 0.4,
          "type": "rect",
          "x0": "2021-02-04T22:00:00",
          "x1": "2021-02-05T03:00:00",
          "xref": "x",
          "y0": 0,
          "y1": 1,
          "yref": "y domain"
         },
         {
          "fillcolor": "#e07070",
          "line": {
           "width": 0
          },
          "opacity": 0.4,
          "type": "rect",
          "x0": "2021-02-05T03:00:00",
          "x1": "2021-02-05T08:00:00",
          "xref": "x",
          "y0": 0,
          "y1": 1,
          "yref": "y domain"
         },
         {
          "fillcolor": "#e07070",
          "line": {
           "width": 0
          },
          "opacity": 0.4,
          "type": "rect",
          "x0": "2021-02-05T08:00:00",
          "x1": "2021-02-05T13:00:00",
          "xref": "x",
          "y0": 0,
          "y1": 1,
          "yref": "y domain"
         },
         {
          "fillcolor": "#e07070",
          "line": {
           "width": 0
          },
          "opacity": 0.4,
          "type": "rect",
          "x0": "2021-02-05T13:00:00",
          "x1": "2021-02-05T18:00:00",
          "xref": "x",
          "y0": 0,
          "y1": 1,
          "yref": "y domain"
         },
         {
          "fillcolor": "#e07070",
          "line": {
           "width": 0
          },
          "opacity": 0.4,
          "type": "rect",
          "x0": "2021-02-05T18:00:00",
          "x1": "2021-02-05T23:00:00",
          "xref": "x",
          "y0": 0,
          "y1": 1,
          "yref": "y domain"
         },
         {
          "fillcolor": "#e07070",
          "line": {
           "width": 0
          },
          "opacity": 0.4,
          "type": "rect",
          "x0": "2021-02-05T23:00:00",
          "x1": "2021-02-06T04:00:00",
          "xref": "x",
          "y0": 0,
          "y1": 1,
          "yref": "y domain"
         },
         {
          "fillcolor": "#e07070",
          "line": {
           "width": 0
          },
          "opacity": 0.4,
          "type": "rect",
          "x0": "2021-02-06T04:00:00",
          "x1": "2021-02-06T09:00:00",
          "xref": "x",
          "y0": 0,
          "y1": 1,
          "yref": "y domain"
         },
         {
          "fillcolor": "#e07070",
          "line": {
           "width": 0
          },
          "opacity": 0.4,
          "type": "rect",
          "x0": "2021-02-06T09:00:00",
          "x1": "2021-02-06T14:00:00",
          "xref": "x",
          "y0": 0,
          "y1": 1,
          "yref": "y domain"
         },
         {
          "fillcolor": "#e07070",
          "line": {
           "width": 0
          },
          "opacity": 0.4,
          "type": "rect",
          "x0": "2021-02-06T14:00:00",
          "x1": "2021-02-06T19:00:00",
          "xref": "x",
          "y0": 0,
          "y1": 1,
          "yref": "y domain"
         },
         {
          "fillcolor": "#e07070",
          "line": {
           "width": 0
          },
          "opacity": 0.4,
          "type": "rect",
          "x0": "2021-02-08T11:00:00",
          "x1": "2021-02-08T16:00:00",
          "xref": "x",
          "y0": 0,
          "y1": 1,
          "yref": "y domain"
         },
         {
          "fillcolor": "#e07070",
          "line": {
           "width": 0
          },
          "opacity": 0.4,
          "type": "rect",
          "x0": "2021-02-08T21:00:00",
          "x1": "2021-02-09T02:00:00",
          "xref": "x",
          "y0": 0,
          "y1": 1,
          "yref": "y domain"
         },
         {
          "fillcolor": "#e07070",
          "line": {
           "width": 0
          },
          "opacity": 0.4,
          "type": "rect",
          "x0": "2021-02-09T07:00:00",
          "x1": "2021-02-09T12:00:00",
          "xref": "x",
          "y0": 0,
          "y1": 1,
          "yref": "y domain"
         },
         {
          "fillcolor": "#e07070",
          "line": {
           "width": 0
          },
          "opacity": 0.4,
          "type": "rect",
          "x0": "2021-02-09T17:00:00",
          "x1": "2021-02-09T22:00:00",
          "xref": "x",
          "y0": 0,
          "y1": 1,
          "yref": "y domain"
         },
         {
          "fillcolor": "#e07070",
          "line": {
           "width": 0
          },
          "opacity": 0.4,
          "type": "rect",
          "x0": "2021-02-10T03:00:00",
          "x1": "2021-02-10T08:00:00",
          "xref": "x",
          "y0": 0,
          "y1": 1,
          "yref": "y domain"
         },
         {
          "fillcolor": "#e07070",
          "line": {
           "width": 0
          },
          "opacity": 0.4,
          "type": "rect",
          "x0": "2021-02-10T13:00:00",
          "x1": "2021-02-10T18:00:00",
          "xref": "x",
          "y0": 0,
          "y1": 1,
          "yref": "y domain"
         },
         {
          "fillcolor": "#e07070",
          "line": {
           "width": 0
          },
          "opacity": 0.4,
          "type": "rect",
          "x0": "2021-02-10T23:00:00",
          "x1": "2021-02-11T04:00:00",
          "xref": "x",
          "y0": 0,
          "y1": 1,
          "yref": "y domain"
         },
         {
          "fillcolor": "#e07070",
          "line": {
           "width": 0
          },
          "opacity": 0.4,
          "type": "rect",
          "x0": "2021-02-11T04:00:00",
          "x1": "2021-02-11T09:00:00",
          "xref": "x",
          "y0": 0,
          "y1": 1,
          "yref": "y domain"
         },
         {
          "fillcolor": "#e07070",
          "line": {
           "width": 0
          },
          "opacity": 0.4,
          "type": "rect",
          "x0": "2021-02-11T09:00:00",
          "x1": "2021-02-11T14:00:00",
          "xref": "x",
          "y0": 0,
          "y1": 1,
          "yref": "y domain"
         },
         {
          "fillcolor": "#e07070",
          "line": {
           "width": 0
          },
          "opacity": 0.4,
          "type": "rect",
          "x0": "2021-02-11T14:00:00",
          "x1": "2021-02-11T19:00:00",
          "xref": "x",
          "y0": 0,
          "y1": 1,
          "yref": "y domain"
         },
         {
          "fillcolor": "#e07070",
          "line": {
           "width": 0
          },
          "opacity": 0.4,
          "type": "rect",
          "x0": "2021-02-11T19:00:00",
          "x1": "2021-02-12T00:00:00",
          "xref": "x",
          "y0": 0,
          "y1": 1,
          "yref": "y domain"
         },
         {
          "fillcolor": "#e07070",
          "line": {
           "width": 0
          },
          "opacity": 0.4,
          "type": "rect",
          "x0": "2021-02-12T00:00:00",
          "x1": "2021-02-12T05:00:00",
          "xref": "x",
          "y0": 0,
          "y1": 1,
          "yref": "y domain"
         },
         {
          "fillcolor": "#e07070",
          "line": {
           "width": 0
          },
          "opacity": 0.4,
          "type": "rect",
          "x0": "2021-02-12T05:00:00",
          "x1": "2021-02-12T10:00:00",
          "xref": "x",
          "y0": 0,
          "y1": 1,
          "yref": "y domain"
         },
         {
          "fillcolor": "#e07070",
          "line": {
           "width": 0
          },
          "opacity": 0.4,
          "type": "rect",
          "x0": "2021-02-12T10:00:00",
          "x1": "2021-02-12T15:00:00",
          "xref": "x",
          "y0": 0,
          "y1": 1,
          "yref": "y domain"
         },
         {
          "fillcolor": "#e07070",
          "line": {
           "width": 0
          },
          "opacity": 0.4,
          "type": "rect",
          "x0": "2021-02-12T15:00:00",
          "x1": "2021-02-12T20:00:00",
          "xref": "x",
          "y0": 0,
          "y1": 1,
          "yref": "y domain"
         },
         {
          "fillcolor": "#e07070",
          "line": {
           "width": 0
          },
          "opacity": 0.4,
          "type": "rect",
          "x0": "2021-02-13T01:00:00",
          "x1": "2021-02-13T06:00:00",
          "xref": "x",
          "y0": 0,
          "y1": 1,
          "yref": "y domain"
         },
         {
          "fillcolor": "#e07070",
          "line": {
           "width": 0
          },
          "opacity": 0.4,
          "type": "rect",
          "x0": "2021-02-13T06:00:00",
          "x1": "2021-02-13T11:00:00",
          "xref": "x",
          "y0": 0,
          "y1": 1,
          "yref": "y domain"
         },
         {
          "fillcolor": "#e07070",
          "line": {
           "width": 0
          },
          "opacity": 0.4,
          "type": "rect",
          "x0": "2021-02-13T11:00:00",
          "x1": "2021-02-13T16:00:00",
          "xref": "x",
          "y0": 0,
          "y1": 1,
          "yref": "y domain"
         },
         {
          "fillcolor": "#e07070",
          "line": {
           "width": 0
          },
          "opacity": 0.4,
          "type": "rect",
          "x0": "2021-02-13T16:00:00",
          "x1": "2021-02-13T21:00:00",
          "xref": "x",
          "y0": 0,
          "y1": 1,
          "yref": "y domain"
         },
         {
          "fillcolor": "#e07070",
          "line": {
           "width": 0
          },
          "opacity": 0.4,
          "type": "rect",
          "x0": "2021-02-13T21:00:00",
          "x1": "2021-02-14T02:00:00",
          "xref": "x",
          "y0": 0,
          "y1": 1,
          "yref": "y domain"
         },
         {
          "fillcolor": "#e07070",
          "line": {
           "width": 0
          },
          "opacity": 0.4,
          "type": "rect",
          "x0": "2021-02-14T02:00:00",
          "x1": "2021-02-14T07:00:00",
          "xref": "x",
          "y0": 0,
          "y1": 1,
          "yref": "y domain"
         },
         {
          "fillcolor": "#e07070",
          "line": {
           "width": 0
          },
          "opacity": 0.4,
          "type": "rect",
          "x0": "2021-02-14T07:00:00",
          "x1": "2021-02-14T12:00:00",
          "xref": "x",
          "y0": 0,
          "y1": 1,
          "yref": "y domain"
         },
         {
          "fillcolor": "#e07070",
          "line": {
           "width": 0
          },
          "opacity": 0.4,
          "type": "rect",
          "x0": "2021-02-14T12:00:00",
          "x1": "2021-02-14T17:00:00",
          "xref": "x",
          "y0": 0,
          "y1": 1,
          "yref": "y domain"
         },
         {
          "fillcolor": "#e07070",
          "line": {
           "width": 0
          },
          "opacity": 0.4,
          "type": "rect",
          "x0": "2021-02-14T17:00:00",
          "x1": "2021-02-14T22:00:00",
          "xref": "x",
          "y0": 0,
          "y1": 1,
          "yref": "y domain"
         },
         {
          "fillcolor": "#e07070",
          "line": {
           "width": 0
          },
          "opacity": 0.4,
          "type": "rect",
          "x0": "2021-02-14T22:00:00",
          "x1": "2021-02-15T03:00:00",
          "xref": "x",
          "y0": 0,
          "y1": 1,
          "yref": "y domain"
         },
         {
          "fillcolor": "#e07070",
          "line": {
           "width": 0
          },
          "opacity": 0.4,
          "type": "rect",
          "x0": "2021-02-15T03:00:00",
          "x1": "2021-02-15T08:00:00",
          "xref": "x",
          "y0": 0,
          "y1": 1,
          "yref": "y domain"
         },
         {
          "fillcolor": "#e07070",
          "line": {
           "width": 0
          },
          "opacity": 0.4,
          "type": "rect",
          "x0": "2021-02-15T08:00:00",
          "x1": "2021-02-15T13:00:00",
          "xref": "x",
          "y0": 0,
          "y1": 1,
          "yref": "y domain"
         },
         {
          "fillcolor": "#e07070",
          "line": {
           "width": 0
          },
          "opacity": 0.4,
          "type": "rect",
          "x0": "2021-02-15T13:00:00",
          "x1": "2021-02-15T18:00:00",
          "xref": "x",
          "y0": 0,
          "y1": 1,
          "yref": "y domain"
         },
         {
          "fillcolor": "#e07070",
          "line": {
           "width": 0
          },
          "opacity": 0.4,
          "type": "rect",
          "x0": "2021-02-15T18:00:00",
          "x1": "2021-02-15T23:00:00",
          "xref": "x",
          "y0": 0,
          "y1": 1,
          "yref": "y domain"
         },
         {
          "fillcolor": "#e07070",
          "line": {
           "width": 0
          },
          "opacity": 0.4,
          "type": "rect",
          "x0": "2021-02-15T23:00:00",
          "x1": "2021-02-16T04:00:00",
          "xref": "x",
          "y0": 0,
          "y1": 1,
          "yref": "y domain"
         }
        ],
        "showlegend": true,
        "template": {
         "data": {
          "bar": [
           {
            "error_x": {
             "color": "#2a3f5f"
            },
            "error_y": {
             "color": "#2a3f5f"
            },
            "marker": {
             "line": {
              "color": "#E5ECF6",
              "width": 0.5
             },
             "pattern": {
              "fillmode": "overlay",
              "size": 10,
              "solidity": 0.2
             }
            },
            "type": "bar"
           }
          ],
          "barpolar": [
           {
            "marker": {
             "line": {
              "color": "#E5ECF6",
              "width": 0.5
             },
             "pattern": {
              "fillmode": "overlay",
              "size": 10,
              "solidity": 0.2
             }
            },
            "type": "barpolar"
           }
          ],
          "carpet": [
           {
            "aaxis": {
             "endlinecolor": "#2a3f5f",
             "gridcolor": "white",
             "linecolor": "white",
             "minorgridcolor": "white",
             "startlinecolor": "#2a3f5f"
            },
            "baxis": {
             "endlinecolor": "#2a3f5f",
             "gridcolor": "white",
             "linecolor": "white",
             "minorgridcolor": "white",
             "startlinecolor": "#2a3f5f"
            },
            "type": "carpet"
           }
          ],
          "choropleth": [
           {
            "colorbar": {
             "outlinewidth": 0,
             "ticks": ""
            },
            "type": "choropleth"
           }
          ],
          "contour": [
           {
            "colorbar": {
             "outlinewidth": 0,
             "ticks": ""
            },
            "colorscale": [
             [
              0,
              "#0d0887"
             ],
             [
              0.1111111111111111,
              "#46039f"
             ],
             [
              0.2222222222222222,
              "#7201a8"
             ],
             [
              0.3333333333333333,
              "#9c179e"
             ],
             [
              0.4444444444444444,
              "#bd3786"
             ],
             [
              0.5555555555555556,
              "#d8576b"
             ],
             [
              0.6666666666666666,
              "#ed7953"
             ],
             [
              0.7777777777777778,
              "#fb9f3a"
             ],
             [
              0.8888888888888888,
              "#fdca26"
             ],
             [
              1,
              "#f0f921"
             ]
            ],
            "type": "contour"
           }
          ],
          "contourcarpet": [
           {
            "colorbar": {
             "outlinewidth": 0,
             "ticks": ""
            },
            "type": "contourcarpet"
           }
          ],
          "heatmap": [
           {
            "colorbar": {
             "outlinewidth": 0,
             "ticks": ""
            },
            "colorscale": [
             [
              0,
              "#0d0887"
             ],
             [
              0.1111111111111111,
              "#46039f"
             ],
             [
              0.2222222222222222,
              "#7201a8"
             ],
             [
              0.3333333333333333,
              "#9c179e"
             ],
             [
              0.4444444444444444,
              "#bd3786"
             ],
             [
              0.5555555555555556,
              "#d8576b"
             ],
             [
              0.6666666666666666,
              "#ed7953"
             ],
             [
              0.7777777777777778,
              "#fb9f3a"
             ],
             [
              0.8888888888888888,
              "#fdca26"
             ],
             [
              1,
              "#f0f921"
             ]
            ],
            "type": "heatmap"
           }
          ],
          "heatmapgl": [
           {
            "colorbar": {
             "outlinewidth": 0,
             "ticks": ""
            },
            "colorscale": [
             [
              0,
              "#0d0887"
             ],
             [
              0.1111111111111111,
              "#46039f"
             ],
             [
              0.2222222222222222,
              "#7201a8"
             ],
             [
              0.3333333333333333,
              "#9c179e"
             ],
             [
              0.4444444444444444,
              "#bd3786"
             ],
             [
              0.5555555555555556,
              "#d8576b"
             ],
             [
              0.6666666666666666,
              "#ed7953"
             ],
             [
              0.7777777777777778,
              "#fb9f3a"
             ],
             [
              0.8888888888888888,
              "#fdca26"
             ],
             [
              1,
              "#f0f921"
             ]
            ],
            "type": "heatmapgl"
           }
          ],
          "histogram": [
           {
            "marker": {
             "pattern": {
              "fillmode": "overlay",
              "size": 10,
              "solidity": 0.2
             }
            },
            "type": "histogram"
           }
          ],
          "histogram2d": [
           {
            "colorbar": {
             "outlinewidth": 0,
             "ticks": ""
            },
            "colorscale": [
             [
              0,
              "#0d0887"
             ],
             [
              0.1111111111111111,
              "#46039f"
             ],
             [
              0.2222222222222222,
              "#7201a8"
             ],
             [
              0.3333333333333333,
              "#9c179e"
             ],
             [
              0.4444444444444444,
              "#bd3786"
             ],
             [
              0.5555555555555556,
              "#d8576b"
             ],
             [
              0.6666666666666666,
              "#ed7953"
             ],
             [
              0.7777777777777778,
              "#fb9f3a"
             ],
             [
              0.8888888888888888,
              "#fdca26"
             ],
             [
              1,
              "#f0f921"
             ]
            ],
            "type": "histogram2d"
           }
          ],
          "histogram2dcontour": [
           {
            "colorbar": {
             "outlinewidth": 0,
             "ticks": ""
            },
            "colorscale": [
             [
              0,
              "#0d0887"
             ],
             [
              0.1111111111111111,
              "#46039f"
             ],
             [
              0.2222222222222222,
              "#7201a8"
             ],
             [
              0.3333333333333333,
              "#9c179e"
             ],
             [
              0.4444444444444444,
              "#bd3786"
             ],
             [
              0.5555555555555556,
              "#d8576b"
             ],
             [
              0.6666666666666666,
              "#ed7953"
             ],
             [
              0.7777777777777778,
              "#fb9f3a"
             ],
             [
              0.8888888888888888,
              "#fdca26"
             ],
             [
              1,
              "#f0f921"
             ]
            ],
            "type": "histogram2dcontour"
           }
          ],
          "mesh3d": [
           {
            "colorbar": {
             "outlinewidth": 0,
             "ticks": ""
            },
            "type": "mesh3d"
           }
          ],
          "parcoords": [
           {
            "line": {
             "colorbar": {
              "outlinewidth": 0,
              "ticks": ""
             }
            },
            "type": "parcoords"
           }
          ],
          "pie": [
           {
            "automargin": true,
            "type": "pie"
           }
          ],
          "scatter": [
           {
            "marker": {
             "colorbar": {
              "outlinewidth": 0,
              "ticks": ""
             }
            },
            "type": "scatter"
           }
          ],
          "scatter3d": [
           {
            "line": {
             "colorbar": {
              "outlinewidth": 0,
              "ticks": ""
             }
            },
            "marker": {
             "colorbar": {
              "outlinewidth": 0,
              "ticks": ""
             }
            },
            "type": "scatter3d"
           }
          ],
          "scattercarpet": [
           {
            "marker": {
             "colorbar": {
              "outlinewidth": 0,
              "ticks": ""
             }
            },
            "type": "scattercarpet"
           }
          ],
          "scattergeo": [
           {
            "marker": {
             "colorbar": {
              "outlinewidth": 0,
              "ticks": ""
             }
            },
            "type": "scattergeo"
           }
          ],
          "scattergl": [
           {
            "marker": {
             "colorbar": {
              "outlinewidth": 0,
              "ticks": ""
             }
            },
            "type": "scattergl"
           }
          ],
          "scattermapbox": [
           {
            "marker": {
             "colorbar": {
              "outlinewidth": 0,
              "ticks": ""
             }
            },
            "type": "scattermapbox"
           }
          ],
          "scatterpolar": [
           {
            "marker": {
             "colorbar": {
              "outlinewidth": 0,
              "ticks": ""
             }
            },
            "type": "scatterpolar"
           }
          ],
          "scatterpolargl": [
           {
            "marker": {
             "colorbar": {
              "outlinewidth": 0,
              "ticks": ""
             }
            },
            "type": "scatterpolargl"
           }
          ],
          "scatterternary": [
           {
            "marker": {
             "colorbar": {
              "outlinewidth": 0,
              "ticks": ""
             }
            },
            "type": "scatterternary"
           }
          ],
          "surface": [
           {
            "colorbar": {
             "outlinewidth": 0,
             "ticks": ""
            },
            "colorscale": [
             [
              0,
              "#0d0887"
             ],
             [
              0.1111111111111111,
              "#46039f"
             ],
             [
              0.2222222222222222,
              "#7201a8"
             ],
             [
              0.3333333333333333,
              "#9c179e"
             ],
             [
              0.4444444444444444,
              "#bd3786"
             ],
             [
              0.5555555555555556,
              "#d8576b"
             ],
             [
              0.6666666666666666,
              "#ed7953"
             ],
             [
              0.7777777777777778,
              "#fb9f3a"
             ],
             [
              0.8888888888888888,
              "#fdca26"
             ],
             [
              1,
              "#f0f921"
             ]
            ],
            "type": "surface"
           }
          ],
          "table": [
           {
            "cells": {
             "fill": {
              "color": "#EBF0F8"
             },
             "line": {
              "color": "white"
             }
            },
            "header": {
             "fill": {
              "color": "#C8D4E3"
             },
             "line": {
              "color": "white"
             }
            },
            "type": "table"
           }
          ]
         },
         "layout": {
          "annotationdefaults": {
           "arrowcolor": "#2a3f5f",
           "arrowhead": 0,
           "arrowwidth": 1
          },
          "autotypenumbers": "strict",
          "coloraxis": {
           "colorbar": {
            "outlinewidth": 0,
            "ticks": ""
           }
          },
          "colorscale": {
           "diverging": [
            [
             0,
             "#8e0152"
            ],
            [
             0.1,
             "#c51b7d"
            ],
            [
             0.2,
             "#de77ae"
            ],
            [
             0.3,
             "#f1b6da"
            ],
            [
             0.4,
             "#fde0ef"
            ],
            [
             0.5,
             "#f7f7f7"
            ],
            [
             0.6,
             "#e6f5d0"
            ],
            [
             0.7,
             "#b8e186"
            ],
            [
             0.8,
             "#7fbc41"
            ],
            [
             0.9,
             "#4d9221"
            ],
            [
             1,
             "#276419"
            ]
           ],
           "sequential": [
            [
             0,
             "#0d0887"
            ],
            [
             0.1111111111111111,
             "#46039f"
            ],
            [
             0.2222222222222222,
             "#7201a8"
            ],
            [
             0.3333333333333333,
             "#9c179e"
            ],
            [
             0.4444444444444444,
             "#bd3786"
            ],
            [
             0.5555555555555556,
             "#d8576b"
            ],
            [
             0.6666666666666666,
             "#ed7953"
            ],
            [
             0.7777777777777778,
             "#fb9f3a"
            ],
            [
             0.8888888888888888,
             "#fdca26"
            ],
            [
             1,
             "#f0f921"
            ]
           ],
           "sequentialminus": [
            [
             0,
             "#0d0887"
            ],
            [
             0.1111111111111111,
             "#46039f"
            ],
            [
             0.2222222222222222,
             "#7201a8"
            ],
            [
             0.3333333333333333,
             "#9c179e"
            ],
            [
             0.4444444444444444,
             "#bd3786"
            ],
            [
             0.5555555555555556,
             "#d8576b"
            ],
            [
             0.6666666666666666,
             "#ed7953"
            ],
            [
             0.7777777777777778,
             "#fb9f3a"
            ],
            [
             0.8888888888888888,
             "#fdca26"
            ],
            [
             1,
             "#f0f921"
            ]
           ]
          },
          "colorway": [
           "#636efa",
           "#EF553B",
           "#00cc96",
           "#ab63fa",
           "#FFA15A",
           "#19d3f3",
           "#FF6692",
           "#B6E880",
           "#FF97FF",
           "#FECB52"
          ],
          "font": {
           "color": "#2a3f5f"
          },
          "geo": {
           "bgcolor": "white",
           "lakecolor": "white",
           "landcolor": "#E5ECF6",
           "showlakes": true,
           "showland": true,
           "subunitcolor": "white"
          },
          "hoverlabel": {
           "align": "left"
          },
          "hovermode": "closest",
          "mapbox": {
           "style": "light"
          },
          "paper_bgcolor": "white",
          "plot_bgcolor": "#E5ECF6",
          "polar": {
           "angularaxis": {
            "gridcolor": "white",
            "linecolor": "white",
            "ticks": ""
           },
           "bgcolor": "#E5ECF6",
           "radialaxis": {
            "gridcolor": "white",
            "linecolor": "white",
            "ticks": ""
           }
          },
          "scene": {
           "xaxis": {
            "backgroundcolor": "#E5ECF6",
            "gridcolor": "white",
            "gridwidth": 2,
            "linecolor": "white",
            "showbackground": true,
            "ticks": "",
            "zerolinecolor": "white"
           },
           "yaxis": {
            "backgroundcolor": "#E5ECF6",
            "gridcolor": "white",
            "gridwidth": 2,
            "linecolor": "white",
            "showbackground": true,
            "ticks": "",
            "zerolinecolor": "white"
           },
           "zaxis": {
            "backgroundcolor": "#E5ECF6",
            "gridcolor": "white",
            "gridwidth": 2,
            "linecolor": "white",
            "showbackground": true,
            "ticks": "",
            "zerolinecolor": "white"
           }
          },
          "shapedefaults": {
           "line": {
            "color": "#2a3f5f"
           }
          },
          "ternary": {
           "aaxis": {
            "gridcolor": "white",
            "linecolor": "white",
            "ticks": ""
           },
           "baxis": {
            "gridcolor": "white",
            "linecolor": "white",
            "ticks": ""
           },
           "bgcolor": "#E5ECF6",
           "caxis": {
            "gridcolor": "white",
            "linecolor": "white",
            "ticks": ""
           }
          },
          "title": {
           "x": 0.05
          },
          "xaxis": {
           "automargin": true,
           "gridcolor": "white",
           "linecolor": "white",
           "ticks": "",
           "title": {
            "standoff": 15
           },
           "zerolinecolor": "white",
           "zerolinewidth": 2
          },
          "yaxis": {
           "automargin": true,
           "gridcolor": "white",
           "linecolor": "white",
           "ticks": "",
           "title": {
            "standoff": 15
           },
           "zerolinecolor": "white",
           "zerolinewidth": 2
          }
         }
        },
        "title": {
         "text": "ProphetDetector: Anomalies in top2_hashtag_count (Forecast Overlaid)"
        },
        "width": 1000,
        "xaxis": {
         "anchor": "y",
         "domain": [
          0,
          0.94
         ],
         "rangeselector": {
          "buttons": [
           {
            "count": 7,
            "label": "1w",
            "step": "day",
            "stepmode": "backward"
           },
           {
            "count": 1,
            "label": "1m",
            "step": "month",
            "stepmode": "backward"
           },
           {
            "count": 6,
            "label": "6m",
            "step": "month",
            "stepmode": "backward"
           },
           {
            "count": 1,
            "label": "1y",
            "step": "year",
            "stepmode": "backward"
           },
           {
            "step": "all"
           }
          ]
         },
         "rangeslider": {
          "visible": true
         },
         "title": {
          "text": "Time"
         },
         "type": "date"
        },
        "yaxis": {
         "anchor": "x",
         "domain": [
          0,
          1
         ],
         "title": {
          "text": "top2_hashtag_count"
         }
        },
        "yaxis2": {
         "anchor": "x",
         "overlaying": "y",
         "range": [
          -0.5762153509756627,
          13.829168423415904
         ],
         "side": "right",
         "title": {
          "text": "Anomaly Score"
         }
        }
       }
      }
     },
     "metadata": {},
     "output_type": "display_data"
    },
    {
     "name": "stdout",
     "output_type": "stream",
     "text": [
      "Initial log joint probability = -2.73167\n",
      "    Iter      log prob        ||dx||      ||grad||       alpha      alpha0  # evals  Notes \n",
      "      39       428.901   2.70874e-09        97.857      0.1472      0.1472       64   \n",
      "Optimization terminated normally: \n",
      "  Convergence detected: absolute parameter change was below tolerance\n"
     ]
    },
    {
     "data": {
      "application/vnd.plotly.v1+json": {
       "config": {
        "plotlyServerURL": "https://plot.ly"
       },
       "data": [
        {
         "hoverinfo": "skip",
         "line": {
          "width": 0
         },
         "mode": "lines",
         "showlegend": false,
         "type": "scatter",
         "x": [
          "2021-01-02T14:00:00",
          "2021-01-02T19:00:00",
          "2021-01-03T00:00:00",
          "2021-01-03T05:00:00",
          "2021-01-03T10:00:00",
          "2021-01-03T15:00:00",
          "2021-01-03T20:00:00",
          "2021-01-04T01:00:00",
          "2021-01-04T06:00:00",
          "2021-01-04T11:00:00",
          "2021-01-04T16:00:00",
          "2021-01-04T21:00:00",
          "2021-01-05T02:00:00",
          "2021-01-05T07:00:00",
          "2021-01-05T12:00:00",
          "2021-01-05T17:00:00",
          "2021-01-05T22:00:00",
          "2021-01-06T03:00:00",
          "2021-01-06T08:00:00",
          "2021-01-06T13:00:00",
          "2021-01-06T18:00:00",
          "2021-01-06T23:00:00",
          "2021-01-07T04:00:00",
          "2021-01-07T09:00:00",
          "2021-01-07T14:00:00",
          "2021-01-07T19:00:00",
          "2021-01-08T00:00:00",
          "2021-01-08T05:00:00",
          "2021-01-08T10:00:00",
          "2021-01-08T15:00:00",
          "2021-01-08T20:00:00",
          "2021-01-09T01:00:00",
          "2021-01-09T06:00:00",
          "2021-01-09T11:00:00",
          "2021-01-09T16:00:00",
          "2021-01-09T21:00:00",
          "2021-01-10T02:00:00",
          "2021-01-10T07:00:00",
          "2021-01-10T12:00:00",
          "2021-01-10T17:00:00",
          "2021-01-10T22:00:00",
          "2021-01-11T03:00:00",
          "2021-01-11T08:00:00",
          "2021-01-11T13:00:00",
          "2021-01-11T18:00:00",
          "2021-01-11T23:00:00",
          "2021-01-12T04:00:00",
          "2021-01-12T09:00:00",
          "2021-01-12T14:00:00",
          "2021-01-12T19:00:00",
          "2021-01-13T00:00:00",
          "2021-01-13T05:00:00",
          "2021-01-13T10:00:00",
          "2021-01-13T15:00:00",
          "2021-01-13T20:00:00",
          "2021-01-14T01:00:00",
          "2021-01-14T06:00:00",
          "2021-01-14T11:00:00",
          "2021-01-14T16:00:00",
          "2021-01-14T21:00:00",
          "2021-01-15T02:00:00",
          "2021-01-15T07:00:00",
          "2021-01-15T12:00:00",
          "2021-01-15T17:00:00",
          "2021-01-15T22:00:00",
          "2021-01-16T03:00:00",
          "2021-01-16T08:00:00",
          "2021-01-16T13:00:00",
          "2021-01-16T18:00:00",
          "2021-01-16T23:00:00",
          "2021-01-17T04:00:00",
          "2021-01-17T09:00:00",
          "2021-01-17T14:00:00",
          "2021-01-17T19:00:00",
          "2021-01-18T00:00:00",
          "2021-01-18T05:00:00",
          "2021-01-18T10:00:00",
          "2021-01-18T15:00:00",
          "2021-01-18T20:00:00",
          "2021-01-19T01:00:00",
          "2021-01-19T06:00:00",
          "2021-01-19T11:00:00",
          "2021-01-19T16:00:00",
          "2021-01-19T21:00:00",
          "2021-01-20T02:00:00",
          "2021-01-20T07:00:00",
          "2021-01-20T12:00:00",
          "2021-01-20T17:00:00",
          "2021-01-20T22:00:00",
          "2021-01-21T03:00:00",
          "2021-01-21T08:00:00",
          "2021-01-21T13:00:00",
          "2021-01-21T18:00:00",
          "2021-01-21T23:00:00",
          "2021-01-22T04:00:00",
          "2021-01-22T09:00:00",
          "2021-01-22T14:00:00",
          "2021-01-22T19:00:00",
          "2021-01-23T00:00:00",
          "2021-01-23T05:00:00",
          "2021-01-23T10:00:00",
          "2021-01-23T15:00:00",
          "2021-01-23T20:00:00",
          "2021-01-24T01:00:00",
          "2021-01-24T06:00:00",
          "2021-01-24T11:00:00",
          "2021-01-24T16:00:00",
          "2021-01-24T21:00:00",
          "2021-01-25T02:00:00",
          "2021-01-25T07:00:00",
          "2021-01-25T12:00:00",
          "2021-01-25T17:00:00",
          "2021-01-25T22:00:00",
          "2021-01-26T03:00:00",
          "2021-01-26T08:00:00",
          "2021-01-26T13:00:00",
          "2021-01-26T18:00:00",
          "2021-01-26T23:00:00",
          "2021-01-27T04:00:00",
          "2021-01-27T09:00:00",
          "2021-01-27T14:00:00",
          "2021-01-27T19:00:00",
          "2021-01-28T00:00:00",
          "2021-01-28T05:00:00",
          "2021-01-28T10:00:00",
          "2021-01-28T15:00:00",
          "2021-01-28T20:00:00",
          "2021-01-29T01:00:00",
          "2021-01-29T06:00:00",
          "2021-01-29T11:00:00",
          "2021-01-29T16:00:00",
          "2021-01-29T21:00:00",
          "2021-01-30T02:00:00",
          "2021-01-30T07:00:00",
          "2021-01-30T12:00:00",
          "2021-01-30T17:00:00",
          "2021-01-30T22:00:00",
          "2021-01-31T03:00:00",
          "2021-01-31T08:00:00",
          "2021-01-31T13:00:00",
          "2021-01-31T18:00:00",
          "2021-01-31T23:00:00",
          "2021-02-01T04:00:00",
          "2021-02-01T09:00:00",
          "2021-02-01T14:00:00",
          "2021-02-01T19:00:00",
          "2021-02-02T00:00:00",
          "2021-02-02T05:00:00",
          "2021-02-02T10:00:00",
          "2021-02-02T15:00:00",
          "2021-02-02T20:00:00",
          "2021-02-03T01:00:00",
          "2021-02-03T06:00:00",
          "2021-02-03T11:00:00",
          "2021-02-03T16:00:00",
          "2021-02-03T21:00:00",
          "2021-02-04T02:00:00",
          "2021-02-04T07:00:00",
          "2021-02-04T12:00:00",
          "2021-02-04T17:00:00",
          "2021-02-04T22:00:00",
          "2021-02-05T03:00:00",
          "2021-02-05T08:00:00",
          "2021-02-05T13:00:00",
          "2021-02-05T18:00:00",
          "2021-02-05T23:00:00",
          "2021-02-06T04:00:00",
          "2021-02-06T09:00:00",
          "2021-02-06T14:00:00",
          "2021-02-06T19:00:00",
          "2021-02-07T00:00:00",
          "2021-02-07T05:00:00",
          "2021-02-07T10:00:00",
          "2021-02-07T15:00:00",
          "2021-02-07T20:00:00",
          "2021-02-08T01:00:00",
          "2021-02-08T06:00:00",
          "2021-02-08T11:00:00",
          "2021-02-08T16:00:00",
          "2021-02-08T21:00:00",
          "2021-02-09T02:00:00",
          "2021-02-09T07:00:00",
          "2021-02-09T12:00:00",
          "2021-02-09T17:00:00",
          "2021-02-09T22:00:00",
          "2021-02-10T03:00:00",
          "2021-02-10T08:00:00",
          "2021-02-10T13:00:00",
          "2021-02-10T18:00:00",
          "2021-02-10T23:00:00",
          "2021-02-11T04:00:00",
          "2021-02-11T09:00:00",
          "2021-02-11T14:00:00",
          "2021-02-11T19:00:00",
          "2021-02-12T00:00:00",
          "2021-02-12T05:00:00",
          "2021-02-12T10:00:00",
          "2021-02-12T15:00:00",
          "2021-02-12T20:00:00",
          "2021-02-13T01:00:00",
          "2021-02-13T06:00:00",
          "2021-02-13T11:00:00",
          "2021-02-13T16:00:00",
          "2021-02-13T21:00:00",
          "2021-02-14T02:00:00",
          "2021-02-14T07:00:00",
          "2021-02-14T12:00:00",
          "2021-02-14T17:00:00",
          "2021-02-14T22:00:00",
          "2021-02-15T03:00:00",
          "2021-02-15T08:00:00",
          "2021-02-15T13:00:00",
          "2021-02-15T18:00:00",
          "2021-02-15T23:00:00",
          "2021-02-16T04:00:00"
         ],
         "y": [
          75.68599607175815,
          63.17242136566093,
          72.84976569802453,
          80.63475789348347,
          66.08466933366371,
          63.02139735191743,
          71.06880437896572,
          62.76179583323555,
          66.27279794135251,
          77.86208489068032,
          63.859513193023915,
          68.90740594824747,
          83.08939103208748,
          70.26090919412235,
          81.343135318127,
          56.83968383338576,
          72.26852392916665,
          82.1212534175232,
          69.90637290070649,
          84.10214349238248,
          71.1334419621266,
          69.56730128702605,
          67.76128001049831,
          84.77181997440968,
          80.38958138775523,
          72.53549108003845,
          86.92881548394232,
          76.44101915529819,
          69.72742841423285,
          78.608748200778,
          64.49781081336816,
          63.53065952540619,
          65.57932726127889,
          70.33196476363584,
          79.66261704534651,
          79.63034955670815,
          71.66452437168827,
          77.4148675269695,
          64.7895071945892,
          83.9035454444176,
          75.89130134617241,
          74.87730535116769,
          79.81648419175087,
          73.39735082531767,
          75.02652909056069,
          73.3415535867899,
          81.96071658530427,
          71.1255134782562,
          73.1545216794215,
          76.7173864318232,
          63.22514355768184,
          67.01366971507277,
          76.5254150262716,
          79.36217766427282,
          83.89606428113395,
          74.01887671678186,
          71.69643313087073,
          75.06816873213013,
          80.58020661116025,
          74.84898218825614,
          66.41577923201346,
          68.8384481844081,
          76.44053054470193,
          69.82918939900094,
          73.01500486815965,
          68.25030698899721,
          67.82957180930505,
          76.06912466765608,
          61.98905019347665,
          84.4390898927131,
          82.65218757586851,
          66.8971400659891,
          74.92780328918589,
          81.20430545268559,
          83.7233004213812,
          70.47390399234848,
          80.82541256427508,
          76.06803851172293,
          76.19951067277589,
          69.06590066950204,
          76.10560152323018,
          67.2479592800322,
          75.64016604437691,
          76.85307596952087,
          71.53542697574066,
          73.19940864139532,
          71.65860600682427,
          72.90636494935188,
          72.29019257927642,
          73.08475708099397,
          67.13481676120804,
          70.28301732676677,
          91.50367000895645,
          65.57274955757694,
          73.7504341832793,
          66.85673822412387,
          69.63725037458951,
          64.9905490370429,
          68.31686634471697,
          79.19762993286601,
          76.4866610148158,
          70.52133626673583,
          84.00003175503532,
          76.61962915038511,
          70.75666439879977,
          77.29348440066114,
          77.89416118105557,
          85.90410658306489,
          81.37425453231317,
          78.74007700933112,
          80.61531908814908,
          72.64774751350613,
          71.69917172572988,
          60.962837459110055,
          64.05652089315852,
          69.0075721621678,
          70.88583245335197,
          83.26843191816091,
          78.60148794719007,
          60.736961700768674,
          68.51623028609716,
          86.41572348380559,
          87.5704467857162,
          83.13659008466391,
          68.63960501248818,
          72.02319589982886,
          83.73426641922984,
          77.76031066929701,
          80.22749365727252,
          79.6184050497601,
          75.63352094993064,
          80.24293877933214,
          73.75544090633264,
          70.6943485460361,
          70.3062163706356,
          70.14486801587964,
          66.71427322894205,
          74.17193315177077,
          78.5661453584174,
          76.8338130405537,
          76.68796598977117,
          74.17893485828681,
          76.56680634795438,
          61.976046286109835,
          78.89747986041891,
          74.36620623519693,
          74.97093704455536,
          76.0944640273754,
          66.8296139694591,
          69.6144195170144,
          79.20008929556342,
          74.56905506492114,
          74.92884981543439,
          76.85735848025416,
          73.12884726005763,
          82.45504869881135,
          65.17460409847139,
          65.90954381329644,
          78.89974864673837,
          66.64116457843095,
          83.5286442639315,
          72.74153056427423,
          68.49095413540276,
          75.72310028872155,
          78.24878429785407,
          60.70028362334226,
          81.8470126651047,
          69.78993061446307,
          78.83954480424634,
          72.9004131629479,
          73.45244770880655,
          69.98831039823101,
          79.98127030238913,
          67.62211192476154,
          70.21902466707608,
          82.99519635709609,
          80.05904104835034,
          69.98942704707676,
          76.69919447696078,
          78.39447117671573,
          71.81909828074794,
          79.41192069271493,
          79.91450868065878,
          72.02067144410161,
          72.0172603002875,
          75.76364935667786,
          69.17351651104013,
          68.45891300491428,
          67.93930420694387,
          73.33029479890921,
          71.86326564999185,
          67.40916257042599,
          73.46849175279317,
          60.72119041619265,
          67.09167296677674,
          64.20798254733636,
          78.5105270901103,
          72.65871514008695,
          74.20255655432203,
          77.70139643111638,
          74.41521406632336,
          75.23460559773807,
          83.96932935361035,
          84.93729703520766,
          60.5518368838277,
          81.59931873702719,
          76.94150118809989,
          86.50200243013505,
          84.58378418121282,
          71.59252436055836,
          73.31907120225888,
          65.8799212799815,
          60.846303405577046,
          77.56057424133944,
          76.1511408142564
         ]
        },
        {
         "fill": "tonexty",
         "fillcolor": "rgba(0, 114, 178, 0.2)",
         "line": {
          "color": "#0072B2",
          "width": 2
         },
         "mode": "lines",
         "name": "Forecast",
         "type": "scatter",
         "x": [
          "2021-01-02T14:00:00",
          "2021-01-02T19:00:00",
          "2021-01-03T00:00:00",
          "2021-01-03T05:00:00",
          "2021-01-03T10:00:00",
          "2021-01-03T15:00:00",
          "2021-01-03T20:00:00",
          "2021-01-04T01:00:00",
          "2021-01-04T06:00:00",
          "2021-01-04T11:00:00",
          "2021-01-04T16:00:00",
          "2021-01-04T21:00:00",
          "2021-01-05T02:00:00",
          "2021-01-05T07:00:00",
          "2021-01-05T12:00:00",
          "2021-01-05T17:00:00",
          "2021-01-05T22:00:00",
          "2021-01-06T03:00:00",
          "2021-01-06T08:00:00",
          "2021-01-06T13:00:00",
          "2021-01-06T18:00:00",
          "2021-01-06T23:00:00",
          "2021-01-07T04:00:00",
          "2021-01-07T09:00:00",
          "2021-01-07T14:00:00",
          "2021-01-07T19:00:00",
          "2021-01-08T00:00:00",
          "2021-01-08T05:00:00",
          "2021-01-08T10:00:00",
          "2021-01-08T15:00:00",
          "2021-01-08T20:00:00",
          "2021-01-09T01:00:00",
          "2021-01-09T06:00:00",
          "2021-01-09T11:00:00",
          "2021-01-09T16:00:00",
          "2021-01-09T21:00:00",
          "2021-01-10T02:00:00",
          "2021-01-10T07:00:00",
          "2021-01-10T12:00:00",
          "2021-01-10T17:00:00",
          "2021-01-10T22:00:00",
          "2021-01-11T03:00:00",
          "2021-01-11T08:00:00",
          "2021-01-11T13:00:00",
          "2021-01-11T18:00:00",
          "2021-01-11T23:00:00",
          "2021-01-12T04:00:00",
          "2021-01-12T09:00:00",
          "2021-01-12T14:00:00",
          "2021-01-12T19:00:00",
          "2021-01-13T00:00:00",
          "2021-01-13T05:00:00",
          "2021-01-13T10:00:00",
          "2021-01-13T15:00:00",
          "2021-01-13T20:00:00",
          "2021-01-14T01:00:00",
          "2021-01-14T06:00:00",
          "2021-01-14T11:00:00",
          "2021-01-14T16:00:00",
          "2021-01-14T21:00:00",
          "2021-01-15T02:00:00",
          "2021-01-15T07:00:00",
          "2021-01-15T12:00:00",
          "2021-01-15T17:00:00",
          "2021-01-15T22:00:00",
          "2021-01-16T03:00:00",
          "2021-01-16T08:00:00",
          "2021-01-16T13:00:00",
          "2021-01-16T18:00:00",
          "2021-01-16T23:00:00",
          "2021-01-17T04:00:00",
          "2021-01-17T09:00:00",
          "2021-01-17T14:00:00",
          "2021-01-17T19:00:00",
          "2021-01-18T00:00:00",
          "2021-01-18T05:00:00",
          "2021-01-18T10:00:00",
          "2021-01-18T15:00:00",
          "2021-01-18T20:00:00",
          "2021-01-19T01:00:00",
          "2021-01-19T06:00:00",
          "2021-01-19T11:00:00",
          "2021-01-19T16:00:00",
          "2021-01-19T21:00:00",
          "2021-01-20T02:00:00",
          "2021-01-20T07:00:00",
          "2021-01-20T12:00:00",
          "2021-01-20T17:00:00",
          "2021-01-20T22:00:00",
          "2021-01-21T03:00:00",
          "2021-01-21T08:00:00",
          "2021-01-21T13:00:00",
          "2021-01-21T18:00:00",
          "2021-01-21T23:00:00",
          "2021-01-22T04:00:00",
          "2021-01-22T09:00:00",
          "2021-01-22T14:00:00",
          "2021-01-22T19:00:00",
          "2021-01-23T00:00:00",
          "2021-01-23T05:00:00",
          "2021-01-23T10:00:00",
          "2021-01-23T15:00:00",
          "2021-01-23T20:00:00",
          "2021-01-24T01:00:00",
          "2021-01-24T06:00:00",
          "2021-01-24T11:00:00",
          "2021-01-24T16:00:00",
          "2021-01-24T21:00:00",
          "2021-01-25T02:00:00",
          "2021-01-25T07:00:00",
          "2021-01-25T12:00:00",
          "2021-01-25T17:00:00",
          "2021-01-25T22:00:00",
          "2021-01-26T03:00:00",
          "2021-01-26T08:00:00",
          "2021-01-26T13:00:00",
          "2021-01-26T18:00:00",
          "2021-01-26T23:00:00",
          "2021-01-27T04:00:00",
          "2021-01-27T09:00:00",
          "2021-01-27T14:00:00",
          "2021-01-27T19:00:00",
          "2021-01-28T00:00:00",
          "2021-01-28T05:00:00",
          "2021-01-28T10:00:00",
          "2021-01-28T15:00:00",
          "2021-01-28T20:00:00",
          "2021-01-29T01:00:00",
          "2021-01-29T06:00:00",
          "2021-01-29T11:00:00",
          "2021-01-29T16:00:00",
          "2021-01-29T21:00:00",
          "2021-01-30T02:00:00",
          "2021-01-30T07:00:00",
          "2021-01-30T12:00:00",
          "2021-01-30T17:00:00",
          "2021-01-30T22:00:00",
          "2021-01-31T03:00:00",
          "2021-01-31T08:00:00",
          "2021-01-31T13:00:00",
          "2021-01-31T18:00:00",
          "2021-01-31T23:00:00",
          "2021-02-01T04:00:00",
          "2021-02-01T09:00:00",
          "2021-02-01T14:00:00",
          "2021-02-01T19:00:00",
          "2021-02-02T00:00:00",
          "2021-02-02T05:00:00",
          "2021-02-02T10:00:00",
          "2021-02-02T15:00:00",
          "2021-02-02T20:00:00",
          "2021-02-03T01:00:00",
          "2021-02-03T06:00:00",
          "2021-02-03T11:00:00",
          "2021-02-03T16:00:00",
          "2021-02-03T21:00:00",
          "2021-02-04T02:00:00",
          "2021-02-04T07:00:00",
          "2021-02-04T12:00:00",
          "2021-02-04T17:00:00",
          "2021-02-04T22:00:00",
          "2021-02-05T03:00:00",
          "2021-02-05T08:00:00",
          "2021-02-05T13:00:00",
          "2021-02-05T18:00:00",
          "2021-02-05T23:00:00",
          "2021-02-06T04:00:00",
          "2021-02-06T09:00:00",
          "2021-02-06T14:00:00",
          "2021-02-06T19:00:00",
          "2021-02-07T00:00:00",
          "2021-02-07T05:00:00",
          "2021-02-07T10:00:00",
          "2021-02-07T15:00:00",
          "2021-02-07T20:00:00",
          "2021-02-08T01:00:00",
          "2021-02-08T06:00:00",
          "2021-02-08T11:00:00",
          "2021-02-08T16:00:00",
          "2021-02-08T21:00:00",
          "2021-02-09T02:00:00",
          "2021-02-09T07:00:00",
          "2021-02-09T12:00:00",
          "2021-02-09T17:00:00",
          "2021-02-09T22:00:00",
          "2021-02-10T03:00:00",
          "2021-02-10T08:00:00",
          "2021-02-10T13:00:00",
          "2021-02-10T18:00:00",
          "2021-02-10T23:00:00",
          "2021-02-11T04:00:00",
          "2021-02-11T09:00:00",
          "2021-02-11T14:00:00",
          "2021-02-11T19:00:00",
          "2021-02-12T00:00:00",
          "2021-02-12T05:00:00",
          "2021-02-12T10:00:00",
          "2021-02-12T15:00:00",
          "2021-02-12T20:00:00",
          "2021-02-13T01:00:00",
          "2021-02-13T06:00:00",
          "2021-02-13T11:00:00",
          "2021-02-13T16:00:00",
          "2021-02-13T21:00:00",
          "2021-02-14T02:00:00",
          "2021-02-14T07:00:00",
          "2021-02-14T12:00:00",
          "2021-02-14T17:00:00",
          "2021-02-14T22:00:00",
          "2021-02-15T03:00:00",
          "2021-02-15T08:00:00",
          "2021-02-15T13:00:00",
          "2021-02-15T18:00:00",
          "2021-02-15T23:00:00",
          "2021-02-16T04:00:00"
         ],
         "y": [
          0.20890466217665185,
          0.20929450986467,
          0.20968435755268816,
          0.2100742052407063,
          0.21046405292872447,
          0.21085390061674258,
          0.21124374830476075,
          0.2116335959927789,
          0.2120234445420388,
          0.21241329309129875,
          0.2128031416405587,
          0.21319299018981858,
          0.21358283873907852,
          0.21397268728833843,
          0.21436253583759837,
          0.2147524100280629,
          0.2151422842185274,
          0.21553215840899193,
          0.21592203259945644,
          0.21631190678992096,
          0.21670178098038548,
          0.21709165517085,
          0.2174814506718031,
          0.2178712461727562,
          0.21826104167370927,
          0.21865083717466238,
          0.21904063267561547,
          0.21943042817656858,
          0.21982019663460567,
          0.22020996509264276,
          0.22059973355067988,
          0.22098950200871698,
          0.2213792704667541,
          0.2217690389247912,
          0.22215880738282826,
          0.22254857223571778,
          0.2229383370886073,
          0.22332810194149683,
          0.22371786679438635,
          0.22410763164727587,
          0.2244973965001654,
          0.22488716135305492,
          0.225276833812008,
          0.22566650627096108,
          0.22605617872991415,
          0.2264458511888673,
          0.22683552364782036,
          0.22722519610677347,
          0.22761486856572655,
          0.2280044891315848,
          0.22839410969744312,
          0.2287837302633014,
          0.22917335082915966,
          0.22956297139501797,
          0.22995259196087625,
          0.2303422125267345,
          0.23073151784012333,
          0.2311208231535121,
          0.23151012846690092,
          0.23189943378028968,
          0.23228873909367848,
          0.23267804440706727,
          0.23306734972045604,
          0.23345664716149844,
          0.23384594460254082,
          0.23423524204358323,
          0.23462453948462558,
          0.23501383692566796,
          0.23540313436671037,
          0.23579243034952918,
          0.236181726332348,
          0.2365710223151668,
          0.2369603182979856,
          0.23734961428080442,
          0.23773891026362323,
          0.23812820624644204,
          0.23851743315133814,
          0.23890666005623423,
          0.23929588696113033,
          0.23968511386602645,
          0.24007434077092255,
          0.24046356767581864,
          0.2408527945807148,
          0.24124199654622944,
          0.24163119851174408,
          0.24202040047725873,
          0.2424096024427734,
          0.24279880440828805,
          0.2431880063738027,
          0.24357720833931737,
          0.2439664128884848,
          0.24435561743765224,
          0.2447448219868197,
          0.24513402653598715,
          0.2455232310851546,
          0.24591243563432202,
          0.24630164018348946,
          0.246690858538502,
          0.2470800768935145,
          0.24746929524852698,
          0.2478585136035395,
          0.248247731958552,
          0.24863695031356448,
          0.24902616866857696,
          0.24941542006472742,
          0.24980467146087787,
          0.2501939228570283,
          0.2505831742531788,
          0.2509724256493292,
          0.2513616770454796,
          0.25175092535899496,
          0.25214017367251024,
          0.2525294219860256,
          0.2529186702995409,
          0.25330791861305624,
          0.25369716692657157,
          0.25408641524008685,
          0.25447571493854665,
          0.2548650146370064,
          0.2552543143354662,
          0.255643614033926,
          0.25603291373238574,
          0.25642221343084554,
          0.2568115131293053,
          0.2572008282566063,
          0.25759014338390734,
          0.25797945851120846,
          0.25836877363850946,
          0.2587580887658105,
          0.2591474038931116,
          0.25953671902041264,
          0.25992607946995006,
          0.2603154399194875,
          0.26070480036902505,
          0.26109416081856246,
          0.2614835212680999,
          0.2618728817176374,
          0.26226224216717486,
          0.262651622360122,
          0.2630410025530692,
          0.2634303827460163,
          0.26381976293896353,
          0.26420914313191063,
          0.26459852332485784,
          0.264987903517805,
          0.2653773261731637,
          0.2657667488285223,
          0.26615617148388093,
          0.2665455941392396,
          0.26693501679459825,
          0.26732443944995693,
          0.2677138892286802,
          0.2681033390074035,
          0.2684927887861268,
          0.26888223856485016,
          0.26927168834357346,
          0.26966113812229675,
          0.27005058790102004,
          0.27044002077994245,
          0.2708294536588648,
          0.27121888653778714,
          0.27160831941670954,
          0.2719977522956319,
          0.27238718517455424,
          0.27277661805347664,
          0.2731660472886404,
          0.2735554765238042,
          0.27394490575896796,
          0.27433433499413173,
          0.2747237642292955,
          0.2751131934644593,
          0.27550262269962306,
          0.27589207317013037,
          0.2762815236406377,
          0.276670974111145,
          0.2770604245816523,
          0.2774498750521596,
          0.2778393255226669,
          0.27822877599317425,
          0.27861822646368156,
          0.2790076769341888,
          0.2793971274046962,
          0.2797865778752035,
          0.28017602834571076,
          0.28056547881621813,
          0.28095492928672544,
          0.2813443797572327,
          0.28173383022774007,
          0.2821232806982473,
          0.28251273116875464,
          0.28290218163926195,
          0.28329163210976926,
          0.2836810825802766,
          0.2840705330507839,
          0.2844599835212912,
          0.2848494339917985,
          0.28523888446230583,
          0.28562833493281314,
          0.28601778540332046,
          0.28640723587382777,
          0.2867966863443351,
          0.2871861368148424,
          0.2875755872853497,
          0.287965037755857,
          0.28835448822636434,
          0.28874393869687165,
          0.28913338916737896,
          0.2895228396378863,
          0.2899122901083936,
          0.2903017405789009,
          0.2906911910494082,
          0.29108064151991553,
          0.29147009199042284,
          0.29185954246093015,
          0.29224899293143747
         ]
        },
        {
         "fill": "tonexty",
         "fillcolor": "rgba(0, 114, 178, 0.2)",
         "hoverinfo": "skip",
         "line": {
          "width": 0
         },
         "mode": "lines",
         "showlegend": false,
         "type": "scatter",
         "x": [
          "2021-01-02T14:00:00",
          "2021-01-02T19:00:00",
          "2021-01-03T00:00:00",
          "2021-01-03T05:00:00",
          "2021-01-03T10:00:00",
          "2021-01-03T15:00:00",
          "2021-01-03T20:00:00",
          "2021-01-04T01:00:00",
          "2021-01-04T06:00:00",
          "2021-01-04T11:00:00",
          "2021-01-04T16:00:00",
          "2021-01-04T21:00:00",
          "2021-01-05T02:00:00",
          "2021-01-05T07:00:00",
          "2021-01-05T12:00:00",
          "2021-01-05T17:00:00",
          "2021-01-05T22:00:00",
          "2021-01-06T03:00:00",
          "2021-01-06T08:00:00",
          "2021-01-06T13:00:00",
          "2021-01-06T18:00:00",
          "2021-01-06T23:00:00",
          "2021-01-07T04:00:00",
          "2021-01-07T09:00:00",
          "2021-01-07T14:00:00",
          "2021-01-07T19:00:00",
          "2021-01-08T00:00:00",
          "2021-01-08T05:00:00",
          "2021-01-08T10:00:00",
          "2021-01-08T15:00:00",
          "2021-01-08T20:00:00",
          "2021-01-09T01:00:00",
          "2021-01-09T06:00:00",
          "2021-01-09T11:00:00",
          "2021-01-09T16:00:00",
          "2021-01-09T21:00:00",
          "2021-01-10T02:00:00",
          "2021-01-10T07:00:00",
          "2021-01-10T12:00:00",
          "2021-01-10T17:00:00",
          "2021-01-10T22:00:00",
          "2021-01-11T03:00:00",
          "2021-01-11T08:00:00",
          "2021-01-11T13:00:00",
          "2021-01-11T18:00:00",
          "2021-01-11T23:00:00",
          "2021-01-12T04:00:00",
          "2021-01-12T09:00:00",
          "2021-01-12T14:00:00",
          "2021-01-12T19:00:00",
          "2021-01-13T00:00:00",
          "2021-01-13T05:00:00",
          "2021-01-13T10:00:00",
          "2021-01-13T15:00:00",
          "2021-01-13T20:00:00",
          "2021-01-14T01:00:00",
          "2021-01-14T06:00:00",
          "2021-01-14T11:00:00",
          "2021-01-14T16:00:00",
          "2021-01-14T21:00:00",
          "2021-01-15T02:00:00",
          "2021-01-15T07:00:00",
          "2021-01-15T12:00:00",
          "2021-01-15T17:00:00",
          "2021-01-15T22:00:00",
          "2021-01-16T03:00:00",
          "2021-01-16T08:00:00",
          "2021-01-16T13:00:00",
          "2021-01-16T18:00:00",
          "2021-01-16T23:00:00",
          "2021-01-17T04:00:00",
          "2021-01-17T09:00:00",
          "2021-01-17T14:00:00",
          "2021-01-17T19:00:00",
          "2021-01-18T00:00:00",
          "2021-01-18T05:00:00",
          "2021-01-18T10:00:00",
          "2021-01-18T15:00:00",
          "2021-01-18T20:00:00",
          "2021-01-19T01:00:00",
          "2021-01-19T06:00:00",
          "2021-01-19T11:00:00",
          "2021-01-19T16:00:00",
          "2021-01-19T21:00:00",
          "2021-01-20T02:00:00",
          "2021-01-20T07:00:00",
          "2021-01-20T12:00:00",
          "2021-01-20T17:00:00",
          "2021-01-20T22:00:00",
          "2021-01-21T03:00:00",
          "2021-01-21T08:00:00",
          "2021-01-21T13:00:00",
          "2021-01-21T18:00:00",
          "2021-01-21T23:00:00",
          "2021-01-22T04:00:00",
          "2021-01-22T09:00:00",
          "2021-01-22T14:00:00",
          "2021-01-22T19:00:00",
          "2021-01-23T00:00:00",
          "2021-01-23T05:00:00",
          "2021-01-23T10:00:00",
          "2021-01-23T15:00:00",
          "2021-01-23T20:00:00",
          "2021-01-24T01:00:00",
          "2021-01-24T06:00:00",
          "2021-01-24T11:00:00",
          "2021-01-24T16:00:00",
          "2021-01-24T21:00:00",
          "2021-01-25T02:00:00",
          "2021-01-25T07:00:00",
          "2021-01-25T12:00:00",
          "2021-01-25T17:00:00",
          "2021-01-25T22:00:00",
          "2021-01-26T03:00:00",
          "2021-01-26T08:00:00",
          "2021-01-26T13:00:00",
          "2021-01-26T18:00:00",
          "2021-01-26T23:00:00",
          "2021-01-27T04:00:00",
          "2021-01-27T09:00:00",
          "2021-01-27T14:00:00",
          "2021-01-27T19:00:00",
          "2021-01-28T00:00:00",
          "2021-01-28T05:00:00",
          "2021-01-28T10:00:00",
          "2021-01-28T15:00:00",
          "2021-01-28T20:00:00",
          "2021-01-29T01:00:00",
          "2021-01-29T06:00:00",
          "2021-01-29T11:00:00",
          "2021-01-29T16:00:00",
          "2021-01-29T21:00:00",
          "2021-01-30T02:00:00",
          "2021-01-30T07:00:00",
          "2021-01-30T12:00:00",
          "2021-01-30T17:00:00",
          "2021-01-30T22:00:00",
          "2021-01-31T03:00:00",
          "2021-01-31T08:00:00",
          "2021-01-31T13:00:00",
          "2021-01-31T18:00:00",
          "2021-01-31T23:00:00",
          "2021-02-01T04:00:00",
          "2021-02-01T09:00:00",
          "2021-02-01T14:00:00",
          "2021-02-01T19:00:00",
          "2021-02-02T00:00:00",
          "2021-02-02T05:00:00",
          "2021-02-02T10:00:00",
          "2021-02-02T15:00:00",
          "2021-02-02T20:00:00",
          "2021-02-03T01:00:00",
          "2021-02-03T06:00:00",
          "2021-02-03T11:00:00",
          "2021-02-03T16:00:00",
          "2021-02-03T21:00:00",
          "2021-02-04T02:00:00",
          "2021-02-04T07:00:00",
          "2021-02-04T12:00:00",
          "2021-02-04T17:00:00",
          "2021-02-04T22:00:00",
          "2021-02-05T03:00:00",
          "2021-02-05T08:00:00",
          "2021-02-05T13:00:00",
          "2021-02-05T18:00:00",
          "2021-02-05T23:00:00",
          "2021-02-06T04:00:00",
          "2021-02-06T09:00:00",
          "2021-02-06T14:00:00",
          "2021-02-06T19:00:00",
          "2021-02-07T00:00:00",
          "2021-02-07T05:00:00",
          "2021-02-07T10:00:00",
          "2021-02-07T15:00:00",
          "2021-02-07T20:00:00",
          "2021-02-08T01:00:00",
          "2021-02-08T06:00:00",
          "2021-02-08T11:00:00",
          "2021-02-08T16:00:00",
          "2021-02-08T21:00:00",
          "2021-02-09T02:00:00",
          "2021-02-09T07:00:00",
          "2021-02-09T12:00:00",
          "2021-02-09T17:00:00",
          "2021-02-09T22:00:00",
          "2021-02-10T03:00:00",
          "2021-02-10T08:00:00",
          "2021-02-10T13:00:00",
          "2021-02-10T18:00:00",
          "2021-02-10T23:00:00",
          "2021-02-11T04:00:00",
          "2021-02-11T09:00:00",
          "2021-02-11T14:00:00",
          "2021-02-11T19:00:00",
          "2021-02-12T00:00:00",
          "2021-02-12T05:00:00",
          "2021-02-12T10:00:00",
          "2021-02-12T15:00:00",
          "2021-02-12T20:00:00",
          "2021-02-13T01:00:00",
          "2021-02-13T06:00:00",
          "2021-02-13T11:00:00",
          "2021-02-13T16:00:00",
          "2021-02-13T21:00:00",
          "2021-02-14T02:00:00",
          "2021-02-14T07:00:00",
          "2021-02-14T12:00:00",
          "2021-02-14T17:00:00",
          "2021-02-14T22:00:00",
          "2021-02-15T03:00:00",
          "2021-02-15T08:00:00",
          "2021-02-15T13:00:00",
          "2021-02-15T18:00:00",
          "2021-02-15T23:00:00",
          "2021-02-16T04:00:00"
         ],
         "y": [
          -78.28157813424914,
          -77.80922555657831,
          -59.71424380635585,
          -63.380124710980446,
          -65.70612298804188,
          -73.28319224866846,
          -81.34063754263089,
          -72.08100406536825,
          -85.48924267741053,
          -68.4874717465858,
          -78.05904229866292,
          -82.86247263400357,
          -76.73393084059025,
          -71.25303525086906,
          -77.01467152579524,
          -87.61002860663125,
          -68.26024381768082,
          -77.9112047699935,
          -75.23236180356433,
          -71.35962623898946,
          -66.27769930407696,
          -74.04131578881216,
          -70.0805311762356,
          -64.5967941104956,
          -64.66166131538138,
          -70.69819322905147,
          -56.35569569554815,
          -77.38206374195597,
          -71.18298991611161,
          -80.53482449933028,
          -76.73320946694952,
          -76.98368737943085,
          -71.29556731058109,
          -65.57869666089935,
          -69.66572141560559,
          -78.3770429333613,
          -63.29141324941496,
          -65.6029686368528,
          -80.82401497823491,
          -65.5109615040358,
          -78.21823190767147,
          -67.67181487114537,
          -76.3220334338131,
          -79.08957751072143,
          -73.7182987091941,
          -68.64691289397618,
          -71.7208188133576,
          -78.3353344756529,
          -88.75161028902562,
          -81.43793023069544,
          -85.94835510031251,
          -74.35501925792352,
          -76.20575639158743,
          -60.30623984859046,
          -68.78560256872706,
          -78.18153519161528,
          -73.97992980373871,
          -79.0802865751447,
          -71.01932485988463,
          -69.69741462211289,
          -80.00915627964469,
          -82.81844904799479,
          -68.58723419567498,
          -74.40942563377942,
          -69.64726600181139,
          -67.65229078154653,
          -71.1647268725183,
          -78.39422362712929,
          -75.50755194042841,
          -67.96140982545495,
          -75.56212768430265,
          -72.11240676770038,
          -76.09755649139721,
          -67.03389308249236,
          -69.7489480301941,
          -87.42746250411244,
          -81.51558347325556,
          -63.79365007573201,
          -77.81084026810683,
          -84.99201475251655,
          -71.00352361755462,
          -65.63420992285276,
          -80.6755035484367,
          -60.77040565224552,
          -68.96379726398233,
          -74.08244097346129,
          -74.9362448084129,
          -66.36236547242527,
          -78.48719082006563,
          -78.7736259607829,
          -79.77562807251756,
          -60.94145157929839,
          -66.55622578688958,
          -84.42919498750618,
          -83.00867264662013,
          -86.54242676037632,
          -64.87894332135444,
          -75.6725833166152,
          -74.71342631239715,
          -74.50769717343856,
          -75.82941688396917,
          -70.25030882263017,
          -69.63359489589742,
          -80.18172637361357,
          -84.36096491768207,
          -69.98195411345003,
          -81.15100629132843,
          -61.03760980372896,
          -67.32818856665655,
          -76.4649877205139,
          -78.88428060513189,
          -77.51025911589636,
          -74.56688029525114,
          -71.01132807291295,
          -75.24475678605707,
          -76.94635106148786,
          -75.70509262850491,
          -68.01670324532476,
          -64.4696943855027,
          -65.60190993886579,
          -77.03263175291298,
          -73.48947978692078,
          -73.00532971896754,
          -60.998435183211306,
          -76.65919926112576,
          -76.59181696757477,
          -80.89345676997874,
          -67.49153844361136,
          -72.6617848508749,
          -76.46142567225316,
          -75.33059888378627,
          -65.86823677291416,
          -75.24652932346659,
          -81.31701452765678,
          -80.45400198989061,
          -77.96266466322365,
          -82.46270418228048,
          -73.6650857594984,
          -75.19255305323301,
          -78.48450039405941,
          -76.10632347954109,
          -80.31393231459064,
          -71.27334854992266,
          -78.47521992740272,
          -72.2451612335603,
          -59.23002167745697,
          -81.87061900817594,
          -65.83485760320994,
          -70.38743347747264,
          -73.29084425668184,
          -81.72260319927693,
          -67.95109761919743,
          -73.1582388117759,
          -74.08844827352192,
          -64.04755601741827,
          -73.91411177332134,
          -84.72237005667917,
          -72.73429283207982,
          -78.49596387436966,
          -72.9877902450365,
          -68.78420251949572,
          -71.25624185926867,
          -85.24355239714245,
          -69.22920488344299,
          -84.1859289712864,
          -75.72793747081344,
          -69.93491955944685,
          -77.35329334751204,
          -70.9988217675861,
          -71.33848541893268,
          -67.97783865344144,
          -66.21454605428754,
          -79.52891506740103,
          -72.48372633341972,
          -76.60853138622497,
          -76.5094404586642,
          -59.92687747556863,
          -68.93248053454097,
          -71.03866880927995,
          -73.80139117742935,
          -71.30669322306994,
          -76.35208389042502,
          -69.34125442083655,
          -63.678780780610865,
          -75.93756408264314,
          -74.92805828059473,
          -80.29114872366253,
          -67.7929559392542,
          -76.23850729219643,
          -73.028280389674,
          -71.48128617035653,
          -79.95611664401538,
          -80.26621889099656,
          -83.44942965323031,
          -81.60691500413591,
          -82.35474813453745,
          -74.68424629246765,
          -70.89779802983553,
          -83.3821636335417,
          -77.88547794529005,
          -83.61734244745548,
          -83.73583546290898,
          -69.28881875375778,
          -65.98476947318399,
          -85.16103433828363,
          -72.98491329403224,
          -79.53269473771277,
          -75.5951053959295,
          -71.650816003036,
          -72.01613146794362,
          -69.19460989334263,
          -70.05944640805008,
          -72.32613163315085,
          -81.98833359996061,
          -68.78522252675899
         ]
        },
        {
         "line": {
          "color": "black",
          "width": 2
         },
         "mode": "lines",
         "name": "top3_hashtag_count",
         "type": "scatter",
         "x": [
          "2021-01-02T14:00:00",
          "2021-01-02T19:00:00",
          "2021-01-03T00:00:00",
          "2021-01-03T05:00:00",
          "2021-01-03T10:00:00",
          "2021-01-03T15:00:00",
          "2021-01-03T20:00:00",
          "2021-01-04T01:00:00",
          "2021-01-04T06:00:00",
          "2021-01-04T11:00:00",
          "2021-01-04T16:00:00",
          "2021-01-04T21:00:00",
          "2021-01-05T02:00:00",
          "2021-01-05T07:00:00",
          "2021-01-05T12:00:00",
          "2021-01-05T17:00:00",
          "2021-01-05T22:00:00",
          "2021-01-06T03:00:00",
          "2021-01-06T08:00:00",
          "2021-01-06T13:00:00",
          "2021-01-06T18:00:00",
          "2021-01-06T23:00:00",
          "2021-01-07T04:00:00",
          "2021-01-07T09:00:00",
          "2021-01-07T14:00:00",
          "2021-01-07T19:00:00",
          "2021-01-08T00:00:00",
          "2021-01-08T05:00:00",
          "2021-01-08T10:00:00",
          "2021-01-08T15:00:00",
          "2021-01-08T20:00:00",
          "2021-01-09T01:00:00",
          "2021-01-09T06:00:00",
          "2021-01-09T11:00:00",
          "2021-01-09T16:00:00",
          "2021-01-09T21:00:00",
          "2021-01-10T02:00:00",
          "2021-01-10T07:00:00",
          "2021-01-10T12:00:00",
          "2021-01-10T17:00:00",
          "2021-01-10T22:00:00",
          "2021-01-11T03:00:00",
          "2021-01-11T08:00:00",
          "2021-01-11T13:00:00",
          "2021-01-11T18:00:00",
          "2021-01-11T23:00:00",
          "2021-01-12T04:00:00",
          "2021-01-12T09:00:00",
          "2021-01-12T14:00:00",
          "2021-01-12T19:00:00",
          "2021-01-13T00:00:00",
          "2021-01-13T05:00:00",
          "2021-01-13T10:00:00",
          "2021-01-13T15:00:00",
          "2021-01-13T20:00:00",
          "2021-01-14T01:00:00",
          "2021-01-14T06:00:00",
          "2021-01-14T11:00:00",
          "2021-01-14T16:00:00",
          "2021-01-14T21:00:00",
          "2021-01-15T02:00:00",
          "2021-01-15T07:00:00",
          "2021-01-15T12:00:00",
          "2021-01-15T17:00:00",
          "2021-01-15T22:00:00",
          "2021-01-16T03:00:00",
          "2021-01-16T08:00:00",
          "2021-01-16T13:00:00",
          "2021-01-16T18:00:00",
          "2021-01-16T23:00:00",
          "2021-01-17T04:00:00",
          "2021-01-17T09:00:00",
          "2021-01-17T14:00:00",
          "2021-01-17T19:00:00",
          "2021-01-18T00:00:00",
          "2021-01-18T05:00:00",
          "2021-01-18T10:00:00",
          "2021-01-18T15:00:00",
          "2021-01-18T20:00:00",
          "2021-01-19T01:00:00",
          "2021-01-19T06:00:00",
          "2021-01-19T11:00:00",
          "2021-01-19T16:00:00",
          "2021-01-19T21:00:00",
          "2021-01-20T02:00:00",
          "2021-01-20T07:00:00",
          "2021-01-20T12:00:00",
          "2021-01-20T17:00:00",
          "2021-01-20T22:00:00",
          "2021-01-21T03:00:00",
          "2021-01-21T08:00:00",
          "2021-01-21T13:00:00",
          "2021-01-21T18:00:00",
          "2021-01-21T23:00:00",
          "2021-01-22T04:00:00",
          "2021-01-22T09:00:00",
          "2021-01-22T14:00:00",
          "2021-01-22T19:00:00",
          "2021-01-23T00:00:00",
          "2021-01-23T05:00:00",
          "2021-01-23T10:00:00",
          "2021-01-23T15:00:00",
          "2021-01-23T20:00:00",
          "2021-01-24T01:00:00",
          "2021-01-24T06:00:00",
          "2021-01-24T11:00:00",
          "2021-01-24T16:00:00",
          "2021-01-24T21:00:00",
          "2021-01-25T02:00:00",
          "2021-01-25T07:00:00",
          "2021-01-25T12:00:00",
          "2021-01-25T17:00:00",
          "2021-01-25T22:00:00",
          "2021-01-26T03:00:00",
          "2021-01-26T08:00:00",
          "2021-01-26T13:00:00",
          "2021-01-26T18:00:00",
          "2021-01-26T23:00:00",
          "2021-01-27T04:00:00",
          "2021-01-27T09:00:00",
          "2021-01-27T14:00:00",
          "2021-01-27T19:00:00",
          "2021-01-28T00:00:00",
          "2021-01-28T05:00:00",
          "2021-01-28T10:00:00",
          "2021-01-28T15:00:00",
          "2021-01-28T20:00:00",
          "2021-01-29T01:00:00",
          "2021-01-29T06:00:00",
          "2021-01-29T11:00:00",
          "2021-01-29T16:00:00",
          "2021-01-29T21:00:00",
          "2021-01-30T02:00:00",
          "2021-01-30T07:00:00",
          "2021-01-30T12:00:00",
          "2021-01-30T17:00:00",
          "2021-01-30T22:00:00",
          "2021-01-31T03:00:00",
          "2021-01-31T08:00:00",
          "2021-01-31T13:00:00",
          "2021-01-31T18:00:00",
          "2021-01-31T23:00:00",
          "2021-02-01T04:00:00",
          "2021-02-01T09:00:00",
          "2021-02-01T14:00:00",
          "2021-02-01T19:00:00",
          "2021-02-02T00:00:00",
          "2021-02-02T05:00:00",
          "2021-02-02T10:00:00",
          "2021-02-02T15:00:00",
          "2021-02-02T20:00:00",
          "2021-02-03T01:00:00",
          "2021-02-03T06:00:00",
          "2021-02-03T11:00:00",
          "2021-02-03T16:00:00",
          "2021-02-03T21:00:00",
          "2021-02-04T02:00:00",
          "2021-02-04T07:00:00",
          "2021-02-04T12:00:00",
          "2021-02-04T17:00:00",
          "2021-02-04T22:00:00",
          "2021-02-05T03:00:00",
          "2021-02-05T08:00:00",
          "2021-02-05T13:00:00",
          "2021-02-05T18:00:00",
          "2021-02-05T23:00:00",
          "2021-02-06T04:00:00",
          "2021-02-06T09:00:00",
          "2021-02-06T14:00:00",
          "2021-02-06T19:00:00",
          "2021-02-07T00:00:00",
          "2021-02-07T05:00:00",
          "2021-02-07T10:00:00",
          "2021-02-07T15:00:00",
          "2021-02-07T20:00:00",
          "2021-02-08T01:00:00",
          "2021-02-08T06:00:00",
          "2021-02-08T11:00:00",
          "2021-02-08T16:00:00",
          "2021-02-08T21:00:00",
          "2021-02-09T02:00:00",
          "2021-02-09T07:00:00",
          "2021-02-09T12:00:00",
          "2021-02-09T17:00:00",
          "2021-02-09T22:00:00",
          "2021-02-10T03:00:00",
          "2021-02-10T08:00:00",
          "2021-02-10T13:00:00",
          "2021-02-10T18:00:00",
          "2021-02-10T23:00:00",
          "2021-02-11T04:00:00",
          "2021-02-11T09:00:00",
          "2021-02-11T14:00:00",
          "2021-02-11T19:00:00",
          "2021-02-12T00:00:00",
          "2021-02-12T05:00:00",
          "2021-02-12T10:00:00",
          "2021-02-12T15:00:00",
          "2021-02-12T20:00:00",
          "2021-02-13T01:00:00",
          "2021-02-13T06:00:00",
          "2021-02-13T11:00:00",
          "2021-02-13T16:00:00",
          "2021-02-13T21:00:00",
          "2021-02-14T02:00:00",
          "2021-02-14T07:00:00",
          "2021-02-14T12:00:00",
          "2021-02-14T17:00:00",
          "2021-02-14T22:00:00",
          "2021-02-15T03:00:00",
          "2021-02-15T08:00:00",
          "2021-02-15T13:00:00",
          "2021-02-15T18:00:00",
          "2021-02-15T23:00:00",
          "2021-02-16T04:00:00"
         ],
         "y": [
          0,
          0,
          0,
          0,
          0,
          1,
          -1,
          0,
          0,
          0,
          0,
          0,
          1,
          -1,
          0,
          0,
          0,
          0,
          0,
          0,
          0,
          0,
          0,
          0,
          0,
          0,
          0,
          0,
          0,
          0,
          0,
          0,
          0,
          0,
          0,
          0,
          0,
          0,
          0,
          0,
          0,
          0,
          0,
          0,
          0,
          0,
          0,
          0,
          0,
          0,
          0,
          0,
          0,
          0,
          0,
          0,
          0,
          0,
          0,
          0,
          0,
          0,
          0,
          0,
          0,
          0,
          0,
          0,
          0,
          0,
          0,
          0,
          1336,
          -632,
          -652,
          -40,
          12,
          -24,
          5,
          -5,
          1,
          0,
          -1,
          0,
          1,
          -1,
          1,
          -1,
          0,
          0,
          0,
          0,
          1,
          -1,
          0,
          0,
          0,
          0,
          1,
          -1,
          0,
          0,
          0,
          0,
          2,
          -2,
          0,
          1,
          -1,
          0,
          0,
          1,
          -1,
          0,
          0,
          0,
          0,
          0,
          0,
          0,
          0,
          1,
          -1,
          0,
          2,
          -2,
          3,
          1,
          -4,
          0,
          0,
          0,
          0,
          0,
          0,
          0,
          0,
          0,
          0,
          0,
          0,
          0,
          0,
          0,
          0,
          0,
          0,
          0,
          0,
          0,
          0,
          0,
          0,
          0,
          0,
          0,
          0,
          0,
          0,
          0,
          0,
          0,
          0,
          0,
          0,
          0,
          0,
          0,
          0,
          0,
          0,
          0,
          0,
          0,
          1,
          -1,
          0,
          0,
          0,
          0,
          0,
          0,
          0,
          0,
          0,
          0,
          0,
          0,
          0,
          0,
          0,
          0,
          0,
          0,
          0,
          0,
          0,
          0,
          0,
          0,
          0,
          0,
          6,
          -5,
          -1,
          0,
          0,
          1,
          -1,
          1,
          -1,
          0,
          0,
          0,
          0
         ]
        },
        {
         "line": {
          "color": "red",
          "width": 2
         },
         "mode": "lines",
         "name": "Anomaly Score",
         "type": "scatter",
         "x": [
          "2021-01-02T14:00:00",
          "2021-01-02T19:00:00",
          "2021-01-03T00:00:00",
          "2021-01-03T05:00:00",
          "2021-01-03T10:00:00",
          "2021-01-03T15:00:00",
          "2021-01-03T20:00:00",
          "2021-01-04T01:00:00",
          "2021-01-04T06:00:00",
          "2021-01-04T11:00:00",
          "2021-01-04T16:00:00",
          "2021-01-04T21:00:00",
          "2021-01-05T02:00:00",
          "2021-01-05T07:00:00",
          "2021-01-05T12:00:00",
          "2021-01-05T17:00:00",
          "2021-01-05T22:00:00",
          "2021-01-06T03:00:00",
          "2021-01-06T08:00:00",
          "2021-01-06T13:00:00",
          "2021-01-06T18:00:00",
          "2021-01-06T23:00:00",
          "2021-01-07T04:00:00",
          "2021-01-07T09:00:00",
          "2021-01-07T14:00:00",
          "2021-01-07T19:00:00",
          "2021-01-08T00:00:00",
          "2021-01-08T05:00:00",
          "2021-01-08T10:00:00",
          "2021-01-08T15:00:00",
          "2021-01-08T20:00:00",
          "2021-01-09T01:00:00",
          "2021-01-09T06:00:00",
          "2021-01-09T11:00:00",
          "2021-01-09T16:00:00",
          "2021-01-09T21:00:00",
          "2021-01-10T02:00:00",
          "2021-01-10T07:00:00",
          "2021-01-10T12:00:00",
          "2021-01-10T17:00:00",
          "2021-01-10T22:00:00",
          "2021-01-11T03:00:00",
          "2021-01-11T08:00:00",
          "2021-01-11T13:00:00",
          "2021-01-11T18:00:00",
          "2021-01-11T23:00:00",
          "2021-01-12T04:00:00",
          "2021-01-12T09:00:00",
          "2021-01-12T14:00:00",
          "2021-01-12T19:00:00",
          "2021-01-13T00:00:00",
          "2021-01-13T05:00:00",
          "2021-01-13T10:00:00",
          "2021-01-13T15:00:00",
          "2021-01-13T20:00:00",
          "2021-01-14T01:00:00",
          "2021-01-14T06:00:00",
          "2021-01-14T11:00:00",
          "2021-01-14T16:00:00",
          "2021-01-14T21:00:00",
          "2021-01-15T02:00:00",
          "2021-01-15T07:00:00",
          "2021-01-15T12:00:00",
          "2021-01-15T17:00:00",
          "2021-01-15T22:00:00",
          "2021-01-16T03:00:00",
          "2021-01-16T08:00:00",
          "2021-01-16T13:00:00",
          "2021-01-16T18:00:00",
          "2021-01-16T23:00:00",
          "2021-01-17T04:00:00",
          "2021-01-17T09:00:00",
          "2021-01-17T14:00:00",
          "2021-01-17T19:00:00",
          "2021-01-18T00:00:00",
          "2021-01-18T05:00:00",
          "2021-01-18T10:00:00",
          "2021-01-18T15:00:00",
          "2021-01-18T20:00:00",
          "2021-01-19T01:00:00",
          "2021-01-19T06:00:00",
          "2021-01-19T11:00:00",
          "2021-01-19T16:00:00",
          "2021-01-19T21:00:00",
          "2021-01-20T02:00:00",
          "2021-01-20T07:00:00",
          "2021-01-20T12:00:00",
          "2021-01-20T17:00:00",
          "2021-01-20T22:00:00",
          "2021-01-21T03:00:00",
          "2021-01-21T08:00:00",
          "2021-01-21T13:00:00",
          "2021-01-21T18:00:00",
          "2021-01-21T23:00:00",
          "2021-01-22T04:00:00",
          "2021-01-22T09:00:00",
          "2021-01-22T14:00:00",
          "2021-01-22T19:00:00",
          "2021-01-23T00:00:00",
          "2021-01-23T05:00:00",
          "2021-01-23T10:00:00",
          "2021-01-23T15:00:00",
          "2021-01-23T20:00:00",
          "2021-01-24T01:00:00",
          "2021-01-24T06:00:00",
          "2021-01-24T11:00:00",
          "2021-01-24T16:00:00",
          "2021-01-24T21:00:00",
          "2021-01-25T02:00:00",
          "2021-01-25T07:00:00",
          "2021-01-25T12:00:00",
          "2021-01-25T17:00:00",
          "2021-01-25T22:00:00",
          "2021-01-26T03:00:00",
          "2021-01-26T08:00:00",
          "2021-01-26T13:00:00",
          "2021-01-26T18:00:00",
          "2021-01-26T23:00:00",
          "2021-01-27T04:00:00",
          "2021-01-27T09:00:00",
          "2021-01-27T14:00:00",
          "2021-01-27T19:00:00",
          "2021-01-28T00:00:00",
          "2021-01-28T05:00:00",
          "2021-01-28T10:00:00",
          "2021-01-28T15:00:00",
          "2021-01-28T20:00:00",
          "2021-01-29T01:00:00",
          "2021-01-29T06:00:00",
          "2021-01-29T11:00:00",
          "2021-01-29T16:00:00",
          "2021-01-29T21:00:00",
          "2021-01-30T02:00:00",
          "2021-01-30T07:00:00",
          "2021-01-30T12:00:00",
          "2021-01-30T17:00:00",
          "2021-01-30T22:00:00",
          "2021-01-31T03:00:00",
          "2021-01-31T08:00:00",
          "2021-01-31T13:00:00",
          "2021-01-31T18:00:00",
          "2021-01-31T23:00:00",
          "2021-02-01T04:00:00",
          "2021-02-01T09:00:00",
          "2021-02-01T14:00:00",
          "2021-02-01T19:00:00",
          "2021-02-02T00:00:00",
          "2021-02-02T05:00:00",
          "2021-02-02T10:00:00",
          "2021-02-02T15:00:00",
          "2021-02-02T20:00:00",
          "2021-02-03T01:00:00",
          "2021-02-03T06:00:00",
          "2021-02-03T11:00:00",
          "2021-02-03T16:00:00",
          "2021-02-03T21:00:00",
          "2021-02-04T02:00:00",
          "2021-02-04T07:00:00",
          "2021-02-04T12:00:00",
          "2021-02-04T17:00:00",
          "2021-02-04T22:00:00",
          "2021-02-05T03:00:00",
          "2021-02-05T08:00:00",
          "2021-02-05T13:00:00",
          "2021-02-05T18:00:00",
          "2021-02-05T23:00:00",
          "2021-02-06T04:00:00",
          "2021-02-06T09:00:00",
          "2021-02-06T14:00:00",
          "2021-02-06T19:00:00",
          "2021-02-07T00:00:00",
          "2021-02-07T05:00:00",
          "2021-02-07T10:00:00",
          "2021-02-07T15:00:00",
          "2021-02-07T20:00:00",
          "2021-02-08T01:00:00",
          "2021-02-08T06:00:00",
          "2021-02-08T11:00:00",
          "2021-02-08T16:00:00",
          "2021-02-08T21:00:00",
          "2021-02-09T02:00:00",
          "2021-02-09T07:00:00",
          "2021-02-09T12:00:00",
          "2021-02-09T17:00:00",
          "2021-02-09T22:00:00",
          "2021-02-10T03:00:00",
          "2021-02-10T08:00:00",
          "2021-02-10T13:00:00",
          "2021-02-10T18:00:00",
          "2021-02-10T23:00:00",
          "2021-02-11T04:00:00",
          "2021-02-11T09:00:00",
          "2021-02-11T14:00:00",
          "2021-02-11T19:00:00",
          "2021-02-12T00:00:00",
          "2021-02-12T05:00:00",
          "2021-02-12T10:00:00",
          "2021-02-12T15:00:00",
          "2021-02-12T20:00:00",
          "2021-02-13T01:00:00",
          "2021-02-13T06:00:00",
          "2021-02-13T11:00:00",
          "2021-02-13T16:00:00",
          "2021-02-13T21:00:00",
          "2021-02-14T02:00:00",
          "2021-02-14T07:00:00",
          "2021-02-14T12:00:00",
          "2021-02-14T17:00:00",
          "2021-02-14T22:00:00",
          "2021-02-15T03:00:00",
          "2021-02-15T08:00:00",
          "2021-02-15T13:00:00",
          "2021-02-15T18:00:00",
          "2021-02-15T23:00:00",
          "2021-02-16T04:00:00"
         ],
         "xaxis": "x",
         "y": [
          0,
          0,
          0,
          0,
          0,
          1.4314182369219555,
          0,
          0,
          0,
          0,
          0,
          0,
          1.3894641516936177,
          0,
          0,
          0,
          0,
          0,
          0,
          0,
          0,
          0,
          0,
          0,
          0,
          0,
          0,
          0,
          0,
          0,
          0,
          0,
          0,
          0,
          0,
          0,
          0,
          0,
          0,
          0,
          0,
          0,
          0,
          0,
          0,
          0,
          0,
          0,
          0,
          0,
          0,
          0,
          0,
          0,
          0,
          0,
          0,
          0,
          0,
          0,
          0,
          0,
          0,
          0,
          0,
          0,
          0,
          0,
          0,
          0,
          0,
          0,
          4.5988397765068365,
          0,
          0,
          0,
          2.0241430460039735,
          0,
          2.0010423148451904,
          0,
          1.398165219166835,
          0,
          0,
          0,
          1.398011893355684,
          0,
          1.4083029518228958,
          0,
          0,
          0,
          0,
          0,
          1.387926256480429,
          0,
          0,
          0,
          0,
          0,
          1.4010353486839162,
          0,
          0,
          0,
          0,
          0,
          1.6737621324502154,
          0,
          0,
          1.3936161631731803,
          0,
          0,
          0,
          1.4017021226522444,
          0,
          0,
          0,
          0,
          0,
          0,
          0,
          0,
          0,
          1.3821568070300805,
          0,
          0,
          1.6605515080869169,
          0,
          1.831648936531224,
          1.4050637104257566,
          0,
          0,
          0,
          0,
          0,
          0,
          0,
          0,
          0,
          0,
          0,
          0,
          0,
          0,
          0,
          0,
          0,
          0,
          0,
          0,
          0,
          0,
          0,
          0,
          0,
          0,
          0,
          0,
          0,
          0,
          0,
          0,
          0,
          0,
          0,
          0,
          0,
          0,
          0,
          0,
          0,
          0,
          0,
          0,
          0,
          0,
          1.399485353631217,
          0,
          0,
          0,
          0,
          0,
          0,
          0,
          0,
          0,
          0,
          0,
          0,
          0,
          0,
          0,
          0,
          0,
          0,
          0,
          0,
          0,
          0,
          0,
          0,
          0,
          0,
          0,
          2.004348960805375,
          0,
          0,
          0,
          0,
          1.3649814953362231,
          0,
          1.3759282232292216,
          0,
          0,
          0,
          0,
          0
         ],
         "yaxis": "y2"
        }
       ],
       "layout": {
        "height": 600,
        "shapes": [
         {
          "fillcolor": "#e07070",
          "line": {
           "width": 0
          },
          "opacity": 0.4,
          "type": "rect",
          "x0": "2021-01-03T15:00:00",
          "x1": "2021-01-03T20:00:00",
          "xref": "x",
          "y0": 0,
          "y1": 1,
          "yref": "y domain"
         },
         {
          "fillcolor": "#e07070",
          "line": {
           "width": 0
          },
          "opacity": 0.4,
          "type": "rect",
          "x0": "2021-01-05T02:00:00",
          "x1": "2021-01-05T07:00:00",
          "xref": "x",
          "y0": 0,
          "y1": 1,
          "yref": "y domain"
         },
         {
          "fillcolor": "#e07070",
          "line": {
           "width": 0
          },
          "opacity": 0.4,
          "type": "rect",
          "x0": "2021-01-17T14:00:00",
          "x1": "2021-01-17T19:00:00",
          "xref": "x",
          "y0": 0,
          "y1": 1,
          "yref": "y domain"
         },
         {
          "fillcolor": "#e07070",
          "line": {
           "width": 0
          },
          "opacity": 0.4,
          "type": "rect",
          "x0": "2021-01-18T10:00:00",
          "x1": "2021-01-18T15:00:00",
          "xref": "x",
          "y0": 0,
          "y1": 1,
          "yref": "y domain"
         },
         {
          "fillcolor": "#e07070",
          "line": {
           "width": 0
          },
          "opacity": 0.4,
          "type": "rect",
          "x0": "2021-01-18T20:00:00",
          "x1": "2021-01-19T01:00:00",
          "xref": "x",
          "y0": 0,
          "y1": 1,
          "yref": "y domain"
         },
         {
          "fillcolor": "#e07070",
          "line": {
           "width": 0
          },
          "opacity": 0.4,
          "type": "rect",
          "x0": "2021-01-19T06:00:00",
          "x1": "2021-01-19T11:00:00",
          "xref": "x",
          "y0": 0,
          "y1": 1,
          "yref": "y domain"
         },
         {
          "fillcolor": "#e07070",
          "line": {
           "width": 0
          },
          "opacity": 0.4,
          "type": "rect",
          "x0": "2021-01-20T02:00:00",
          "x1": "2021-01-20T07:00:00",
          "xref": "x",
          "y0": 0,
          "y1": 1,
          "yref": "y domain"
         },
         {
          "fillcolor": "#e07070",
          "line": {
           "width": 0
          },
          "opacity": 0.4,
          "type": "rect",
          "x0": "2021-01-20T12:00:00",
          "x1": "2021-01-20T17:00:00",
          "xref": "x",
          "y0": 0,
          "y1": 1,
          "yref": "y domain"
         },
         {
          "fillcolor": "#e07070",
          "line": {
           "width": 0
          },
          "opacity": 0.4,
          "type": "rect",
          "x0": "2021-01-21T18:00:00",
          "x1": "2021-01-21T23:00:00",
          "xref": "x",
          "y0": 0,
          "y1": 1,
          "yref": "y domain"
         },
         {
          "fillcolor": "#e07070",
          "line": {
           "width": 0
          },
          "opacity": 0.4,
          "type": "rect",
          "x0": "2021-01-23T00:00:00",
          "x1": "2021-01-23T05:00:00",
          "xref": "x",
          "y0": 0,
          "y1": 1,
          "yref": "y domain"
         },
         {
          "fillcolor": "#e07070",
          "line": {
           "width": 0
          },
          "opacity": 0.4,
          "type": "rect",
          "x0": "2021-01-24T06:00:00",
          "x1": "2021-01-24T11:00:00",
          "xref": "x",
          "y0": 0,
          "y1": 1,
          "yref": "y domain"
         },
         {
          "fillcolor": "#e07070",
          "line": {
           "width": 0
          },
          "opacity": 0.4,
          "type": "rect",
          "x0": "2021-01-24T21:00:00",
          "x1": "2021-01-25T02:00:00",
          "xref": "x",
          "y0": 0,
          "y1": 1,
          "yref": "y domain"
         },
         {
          "fillcolor": "#e07070",
          "line": {
           "width": 0
          },
          "opacity": 0.4,
          "type": "rect",
          "x0": "2021-01-25T17:00:00",
          "x1": "2021-01-25T22:00:00",
          "xref": "x",
          "y0": 0,
          "y1": 1,
          "yref": "y domain"
         },
         {
          "fillcolor": "#e07070",
          "line": {
           "width": 0
          },
          "opacity": 0.4,
          "type": "rect",
          "x0": "2021-01-27T19:00:00",
          "x1": "2021-01-28T00:00:00",
          "xref": "x",
          "y0": 0,
          "y1": 1,
          "yref": "y domain"
         },
         {
          "fillcolor": "#e07070",
          "line": {
           "width": 0
          },
          "opacity": 0.4,
          "type": "rect",
          "x0": "2021-01-28T10:00:00",
          "x1": "2021-01-28T15:00:00",
          "xref": "x",
          "y0": 0,
          "y1": 1,
          "yref": "y domain"
         },
         {
          "fillcolor": "#e07070",
          "line": {
           "width": 0
          },
          "opacity": 0.4,
          "type": "rect",
          "x0": "2021-01-28T20:00:00",
          "x1": "2021-01-29T01:00:00",
          "xref": "x",
          "y0": 0,
          "y1": 1,
          "yref": "y domain"
         },
         {
          "fillcolor": "#e07070",
          "line": {
           "width": 0
          },
          "opacity": 0.4,
          "type": "rect",
          "x0": "2021-01-29T01:00:00",
          "x1": "2021-01-29T06:00:00",
          "xref": "x",
          "y0": 0,
          "y1": 1,
          "yref": "y domain"
         },
         {
          "fillcolor": "#e07070",
          "line": {
           "width": 0
          },
          "opacity": 0.4,
          "type": "rect",
          "x0": "2021-02-07T20:00:00",
          "x1": "2021-02-08T01:00:00",
          "xref": "x",
          "y0": 0,
          "y1": 1,
          "yref": "y domain"
         },
         {
          "fillcolor": "#e07070",
          "line": {
           "width": 0
          },
          "opacity": 0.4,
          "type": "rect",
          "x0": "2021-02-13T16:00:00",
          "x1": "2021-02-13T21:00:00",
          "xref": "x",
          "y0": 0,
          "y1": 1,
          "yref": "y domain"
         },
         {
          "fillcolor": "#e07070",
          "line": {
           "width": 0
          },
          "opacity": 0.4,
          "type": "rect",
          "x0": "2021-02-14T17:00:00",
          "x1": "2021-02-14T22:00:00",
          "xref": "x",
          "y0": 0,
          "y1": 1,
          "yref": "y domain"
         },
         {
          "fillcolor": "#e07070",
          "line": {
           "width": 0
          },
          "opacity": 0.4,
          "type": "rect",
          "x0": "2021-02-15T03:00:00",
          "x1": "2021-02-15T08:00:00",
          "xref": "x",
          "y0": 0,
          "y1": 1,
          "yref": "y domain"
         }
        ],
        "showlegend": true,
        "template": {
         "data": {
          "bar": [
           {
            "error_x": {
             "color": "#2a3f5f"
            },
            "error_y": {
             "color": "#2a3f5f"
            },
            "marker": {
             "line": {
              "color": "#E5ECF6",
              "width": 0.5
             },
             "pattern": {
              "fillmode": "overlay",
              "size": 10,
              "solidity": 0.2
             }
            },
            "type": "bar"
           }
          ],
          "barpolar": [
           {
            "marker": {
             "line": {
              "color": "#E5ECF6",
              "width": 0.5
             },
             "pattern": {
              "fillmode": "overlay",
              "size": 10,
              "solidity": 0.2
             }
            },
            "type": "barpolar"
           }
          ],
          "carpet": [
           {
            "aaxis": {
             "endlinecolor": "#2a3f5f",
             "gridcolor": "white",
             "linecolor": "white",
             "minorgridcolor": "white",
             "startlinecolor": "#2a3f5f"
            },
            "baxis": {
             "endlinecolor": "#2a3f5f",
             "gridcolor": "white",
             "linecolor": "white",
             "minorgridcolor": "white",
             "startlinecolor": "#2a3f5f"
            },
            "type": "carpet"
           }
          ],
          "choropleth": [
           {
            "colorbar": {
             "outlinewidth": 0,
             "ticks": ""
            },
            "type": "choropleth"
           }
          ],
          "contour": [
           {
            "colorbar": {
             "outlinewidth": 0,
             "ticks": ""
            },
            "colorscale": [
             [
              0,
              "#0d0887"
             ],
             [
              0.1111111111111111,
              "#46039f"
             ],
             [
              0.2222222222222222,
              "#7201a8"
             ],
             [
              0.3333333333333333,
              "#9c179e"
             ],
             [
              0.4444444444444444,
              "#bd3786"
             ],
             [
              0.5555555555555556,
              "#d8576b"
             ],
             [
              0.6666666666666666,
              "#ed7953"
             ],
             [
              0.7777777777777778,
              "#fb9f3a"
             ],
             [
              0.8888888888888888,
              "#fdca26"
             ],
             [
              1,
              "#f0f921"
             ]
            ],
            "type": "contour"
           }
          ],
          "contourcarpet": [
           {
            "colorbar": {
             "outlinewidth": 0,
             "ticks": ""
            },
            "type": "contourcarpet"
           }
          ],
          "heatmap": [
           {
            "colorbar": {
             "outlinewidth": 0,
             "ticks": ""
            },
            "colorscale": [
             [
              0,
              "#0d0887"
             ],
             [
              0.1111111111111111,
              "#46039f"
             ],
             [
              0.2222222222222222,
              "#7201a8"
             ],
             [
              0.3333333333333333,
              "#9c179e"
             ],
             [
              0.4444444444444444,
              "#bd3786"
             ],
             [
              0.5555555555555556,
              "#d8576b"
             ],
             [
              0.6666666666666666,
              "#ed7953"
             ],
             [
              0.7777777777777778,
              "#fb9f3a"
             ],
             [
              0.8888888888888888,
              "#fdca26"
             ],
             [
              1,
              "#f0f921"
             ]
            ],
            "type": "heatmap"
           }
          ],
          "heatmapgl": [
           {
            "colorbar": {
             "outlinewidth": 0,
             "ticks": ""
            },
            "colorscale": [
             [
              0,
              "#0d0887"
             ],
             [
              0.1111111111111111,
              "#46039f"
             ],
             [
              0.2222222222222222,
              "#7201a8"
             ],
             [
              0.3333333333333333,
              "#9c179e"
             ],
             [
              0.4444444444444444,
              "#bd3786"
             ],
             [
              0.5555555555555556,
              "#d8576b"
             ],
             [
              0.6666666666666666,
              "#ed7953"
             ],
             [
              0.7777777777777778,
              "#fb9f3a"
             ],
             [
              0.8888888888888888,
              "#fdca26"
             ],
             [
              1,
              "#f0f921"
             ]
            ],
            "type": "heatmapgl"
           }
          ],
          "histogram": [
           {
            "marker": {
             "pattern": {
              "fillmode": "overlay",
              "size": 10,
              "solidity": 0.2
             }
            },
            "type": "histogram"
           }
          ],
          "histogram2d": [
           {
            "colorbar": {
             "outlinewidth": 0,
             "ticks": ""
            },
            "colorscale": [
             [
              0,
              "#0d0887"
             ],
             [
              0.1111111111111111,
              "#46039f"
             ],
             [
              0.2222222222222222,
              "#7201a8"
             ],
             [
              0.3333333333333333,
              "#9c179e"
             ],
             [
              0.4444444444444444,
              "#bd3786"
             ],
             [
              0.5555555555555556,
              "#d8576b"
             ],
             [
              0.6666666666666666,
              "#ed7953"
             ],
             [
              0.7777777777777778,
              "#fb9f3a"
             ],
             [
              0.8888888888888888,
              "#fdca26"
             ],
             [
              1,
              "#f0f921"
             ]
            ],
            "type": "histogram2d"
           }
          ],
          "histogram2dcontour": [
           {
            "colorbar": {
             "outlinewidth": 0,
             "ticks": ""
            },
            "colorscale": [
             [
              0,
              "#0d0887"
             ],
             [
              0.1111111111111111,
              "#46039f"
             ],
             [
              0.2222222222222222,
              "#7201a8"
             ],
             [
              0.3333333333333333,
              "#9c179e"
             ],
             [
              0.4444444444444444,
              "#bd3786"
             ],
             [
              0.5555555555555556,
              "#d8576b"
             ],
             [
              0.6666666666666666,
              "#ed7953"
             ],
             [
              0.7777777777777778,
              "#fb9f3a"
             ],
             [
              0.8888888888888888,
              "#fdca26"
             ],
             [
              1,
              "#f0f921"
             ]
            ],
            "type": "histogram2dcontour"
           }
          ],
          "mesh3d": [
           {
            "colorbar": {
             "outlinewidth": 0,
             "ticks": ""
            },
            "type": "mesh3d"
           }
          ],
          "parcoords": [
           {
            "line": {
             "colorbar": {
              "outlinewidth": 0,
              "ticks": ""
             }
            },
            "type": "parcoords"
           }
          ],
          "pie": [
           {
            "automargin": true,
            "type": "pie"
           }
          ],
          "scatter": [
           {
            "marker": {
             "colorbar": {
              "outlinewidth": 0,
              "ticks": ""
             }
            },
            "type": "scatter"
           }
          ],
          "scatter3d": [
           {
            "line": {
             "colorbar": {
              "outlinewidth": 0,
              "ticks": ""
             }
            },
            "marker": {
             "colorbar": {
              "outlinewidth": 0,
              "ticks": ""
             }
            },
            "type": "scatter3d"
           }
          ],
          "scattercarpet": [
           {
            "marker": {
             "colorbar": {
              "outlinewidth": 0,
              "ticks": ""
             }
            },
            "type": "scattercarpet"
           }
          ],
          "scattergeo": [
           {
            "marker": {
             "colorbar": {
              "outlinewidth": 0,
              "ticks": ""
             }
            },
            "type": "scattergeo"
           }
          ],
          "scattergl": [
           {
            "marker": {
             "colorbar": {
              "outlinewidth": 0,
              "ticks": ""
             }
            },
            "type": "scattergl"
           }
          ],
          "scattermapbox": [
           {
            "marker": {
             "colorbar": {
              "outlinewidth": 0,
              "ticks": ""
             }
            },
            "type": "scattermapbox"
           }
          ],
          "scatterpolar": [
           {
            "marker": {
             "colorbar": {
              "outlinewidth": 0,
              "ticks": ""
             }
            },
            "type": "scatterpolar"
           }
          ],
          "scatterpolargl": [
           {
            "marker": {
             "colorbar": {
              "outlinewidth": 0,
              "ticks": ""
             }
            },
            "type": "scatterpolargl"
           }
          ],
          "scatterternary": [
           {
            "marker": {
             "colorbar": {
              "outlinewidth": 0,
              "ticks": ""
             }
            },
            "type": "scatterternary"
           }
          ],
          "surface": [
           {
            "colorbar": {
             "outlinewidth": 0,
             "ticks": ""
            },
            "colorscale": [
             [
              0,
              "#0d0887"
             ],
             [
              0.1111111111111111,
              "#46039f"
             ],
             [
              0.2222222222222222,
              "#7201a8"
             ],
             [
              0.3333333333333333,
              "#9c179e"
             ],
             [
              0.4444444444444444,
              "#bd3786"
             ],
             [
              0.5555555555555556,
              "#d8576b"
             ],
             [
              0.6666666666666666,
              "#ed7953"
             ],
             [
              0.7777777777777778,
              "#fb9f3a"
             ],
             [
              0.8888888888888888,
              "#fdca26"
             ],
             [
              1,
              "#f0f921"
             ]
            ],
            "type": "surface"
           }
          ],
          "table": [
           {
            "cells": {
             "fill": {
              "color": "#EBF0F8"
             },
             "line": {
              "color": "white"
             }
            },
            "header": {
             "fill": {
              "color": "#C8D4E3"
             },
             "line": {
              "color": "white"
             }
            },
            "type": "table"
           }
          ]
         },
         "layout": {
          "annotationdefaults": {
           "arrowcolor": "#2a3f5f",
           "arrowhead": 0,
           "arrowwidth": 1
          },
          "autotypenumbers": "strict",
          "coloraxis": {
           "colorbar": {
            "outlinewidth": 0,
            "ticks": ""
           }
          },
          "colorscale": {
           "diverging": [
            [
             0,
             "#8e0152"
            ],
            [
             0.1,
             "#c51b7d"
            ],
            [
             0.2,
             "#de77ae"
            ],
            [
             0.3,
             "#f1b6da"
            ],
            [
             0.4,
             "#fde0ef"
            ],
            [
             0.5,
             "#f7f7f7"
            ],
            [
             0.6,
             "#e6f5d0"
            ],
            [
             0.7,
             "#b8e186"
            ],
            [
             0.8,
             "#7fbc41"
            ],
            [
             0.9,
             "#4d9221"
            ],
            [
             1,
             "#276419"
            ]
           ],
           "sequential": [
            [
             0,
             "#0d0887"
            ],
            [
             0.1111111111111111,
             "#46039f"
            ],
            [
             0.2222222222222222,
             "#7201a8"
            ],
            [
             0.3333333333333333,
             "#9c179e"
            ],
            [
             0.4444444444444444,
             "#bd3786"
            ],
            [
             0.5555555555555556,
             "#d8576b"
            ],
            [
             0.6666666666666666,
             "#ed7953"
            ],
            [
             0.7777777777777778,
             "#fb9f3a"
            ],
            [
             0.8888888888888888,
             "#fdca26"
            ],
            [
             1,
             "#f0f921"
            ]
           ],
           "sequentialminus": [
            [
             0,
             "#0d0887"
            ],
            [
             0.1111111111111111,
             "#46039f"
            ],
            [
             0.2222222222222222,
             "#7201a8"
            ],
            [
             0.3333333333333333,
             "#9c179e"
            ],
            [
             0.4444444444444444,
             "#bd3786"
            ],
            [
             0.5555555555555556,
             "#d8576b"
            ],
            [
             0.6666666666666666,
             "#ed7953"
            ],
            [
             0.7777777777777778,
             "#fb9f3a"
            ],
            [
             0.8888888888888888,
             "#fdca26"
            ],
            [
             1,
             "#f0f921"
            ]
           ]
          },
          "colorway": [
           "#636efa",
           "#EF553B",
           "#00cc96",
           "#ab63fa",
           "#FFA15A",
           "#19d3f3",
           "#FF6692",
           "#B6E880",
           "#FF97FF",
           "#FECB52"
          ],
          "font": {
           "color": "#2a3f5f"
          },
          "geo": {
           "bgcolor": "white",
           "lakecolor": "white",
           "landcolor": "#E5ECF6",
           "showlakes": true,
           "showland": true,
           "subunitcolor": "white"
          },
          "hoverlabel": {
           "align": "left"
          },
          "hovermode": "closest",
          "mapbox": {
           "style": "light"
          },
          "paper_bgcolor": "white",
          "plot_bgcolor": "#E5ECF6",
          "polar": {
           "angularaxis": {
            "gridcolor": "white",
            "linecolor": "white",
            "ticks": ""
           },
           "bgcolor": "#E5ECF6",
           "radialaxis": {
            "gridcolor": "white",
            "linecolor": "white",
            "ticks": ""
           }
          },
          "scene": {
           "xaxis": {
            "backgroundcolor": "#E5ECF6",
            "gridcolor": "white",
            "gridwidth": 2,
            "linecolor": "white",
            "showbackground": true,
            "ticks": "",
            "zerolinecolor": "white"
           },
           "yaxis": {
            "backgroundcolor": "#E5ECF6",
            "gridcolor": "white",
            "gridwidth": 2,
            "linecolor": "white",
            "showbackground": true,
            "ticks": "",
            "zerolinecolor": "white"
           },
           "zaxis": {
            "backgroundcolor": "#E5ECF6",
            "gridcolor": "white",
            "gridwidth": 2,
            "linecolor": "white",
            "showbackground": true,
            "ticks": "",
            "zerolinecolor": "white"
           }
          },
          "shapedefaults": {
           "line": {
            "color": "#2a3f5f"
           }
          },
          "ternary": {
           "aaxis": {
            "gridcolor": "white",
            "linecolor": "white",
            "ticks": ""
           },
           "baxis": {
            "gridcolor": "white",
            "linecolor": "white",
            "ticks": ""
           },
           "bgcolor": "#E5ECF6",
           "caxis": {
            "gridcolor": "white",
            "linecolor": "white",
            "ticks": ""
           }
          },
          "title": {
           "x": 0.05
          },
          "xaxis": {
           "automargin": true,
           "gridcolor": "white",
           "linecolor": "white",
           "ticks": "",
           "title": {
            "standoff": 15
           },
           "zerolinecolor": "white",
           "zerolinewidth": 2
          },
          "yaxis": {
           "automargin": true,
           "gridcolor": "white",
           "linecolor": "white",
           "ticks": "",
           "title": {
            "standoff": 15
           },
           "zerolinecolor": "white",
           "zerolinewidth": 2
          }
         }
        },
        "title": {
         "text": "ProphetDetector: Anomalies in top3_hashtag_count (Forecast Overlaid)"
        },
        "width": 1000,
        "xaxis": {
         "anchor": "y",
         "domain": [
          0,
          0.94
         ],
         "rangeselector": {
          "buttons": [
           {
            "count": 7,
            "label": "1w",
            "step": "day",
            "stepmode": "backward"
           },
           {
            "count": 1,
            "label": "1m",
            "step": "month",
            "stepmode": "backward"
           },
           {
            "count": 6,
            "label": "6m",
            "step": "month",
            "stepmode": "backward"
           },
           {
            "count": 1,
            "label": "1y",
            "step": "year",
            "stepmode": "backward"
           },
           {
            "step": "all"
           }
          ]
         },
         "rangeslider": {
          "visible": true
         },
         "title": {
          "text": "Time"
         },
         "type": "date"
        },
        "yaxis": {
         "anchor": "x",
         "domain": [
          0,
          1
         ],
         "title": {
          "text": "top3_hashtag_count"
         }
        },
        "yaxis2": {
         "anchor": "x",
         "overlaying": "y",
         "range": [
          -0.5748549720633546,
          13.79651932952051
         ],
         "side": "right",
         "title": {
          "text": "Anomaly Score"
         }
        }
       }
      }
     },
     "metadata": {},
     "output_type": "display_data"
    }
   ],
   "source": [
    "for feat in [\"total_count\", \"top1_hashtag_count\", \"top2_hashtag_count\", \"top3_hashtag_count\"]:\n",
    "    detect_anomalies(\n",
    "        df_timeseries, \n",
    "        feat,\n",
    "        model=ProphetDetector(prophet_config)\n",
    "    )"
   ]
  },
  {
   "cell_type": "code",
   "execution_count": 10,
   "metadata": {},
   "outputs": [
    {
     "name": "stdout",
     "output_type": "stream",
     "text": [
      "<class 'pandas.core.frame.DataFrame'>\n",
      "Int64Index: 144255 entries, 144254 to 0\n",
      "Data columns (total 19 columns):\n",
      " #   Column                              Non-Null Count   Dtype              \n",
      "---  ------                              --------------   -----              \n",
      " 0   id                                  144255 non-null  object             \n",
      " 1   text                                144255 non-null  object             \n",
      " 2   created_at                          144255 non-null  datetime64[ns, UTC]\n",
      " 3   hashtags                            144255 non-null  object             \n",
      " 4   mentions                            144255 non-null  object             \n",
      " 5   in_reply_to_user_id                 41267 non-null   object             \n",
      " 6   user_id                             144255 non-null  object             \n",
      " 7   retweet_count                       144255 non-null  int64              \n",
      " 8   quote_count                         144255 non-null  int64              \n",
      " 9   reply_count                         144255 non-null  int64              \n",
      " 10  like_count                          144255 non-null  int64              \n",
      " 11  replied_to                          38964 non-null   object             \n",
      " 12  retweeted                           100350 non-null  object             \n",
      " 13  quoted                              1141 non-null    object             \n",
      " 14  is_anomaly                          144255 non-null  int64              \n",
      " 15  merlion_anomaly_total_count         144255 non-null  float64            \n",
      " 16  merlion_anomaly_top1_hashtag_count  144255 non-null  float64            \n",
      " 17  merlion_anomaly_top2_hashtag_count  144255 non-null  float64            \n",
      " 18  merlion_anomaly_top3_hashtag_count  144255 non-null  float64            \n",
      "dtypes: datetime64[ns, UTC](1), float64(4), int64(5), object(9)\n",
      "memory usage: 26.0+ MB\n"
     ]
    }
   ],
   "source": [
    "# Export \n",
    "df_tweets.to_json(\n",
    "    selected_dataset[\"output_location\"],\n",
    "    orient=\"records\"\n",
    ")\n",
    "df_tweets.info()"
   ]
  }
 ],
 "metadata": {
  "interpreter": {
   "hash": "df992fc124326766f58f7c2e22136e421c9eff1490b9aff540e878db41ea4e0b"
  },
  "kernelspec": {
   "display_name": "Python 3.8.11 64-bit ('spec-project': conda)",
   "name": "python3"
  },
  "language_info": {
   "codemirror_mode": {
    "name": "ipython",
    "version": 3
   },
   "file_extension": ".py",
   "mimetype": "text/x-python",
   "name": "python",
   "nbconvert_exporter": "python",
   "pygments_lexer": "ipython3",
   "version": "3.8.11"
  },
  "orig_nbformat": 4
 },
 "nbformat": 4,
 "nbformat_minor": 2
}
