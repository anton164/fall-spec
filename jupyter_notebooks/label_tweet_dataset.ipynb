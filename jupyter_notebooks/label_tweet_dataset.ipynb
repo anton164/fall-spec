{
 "cells": [
  {
   "cell_type": "code",
   "execution_count": 1,
   "source": [
    "# auto reload notebook deps\n",
    "%reload_ext autoreload\n",
    "%autoreload 2"
   ],
   "outputs": [],
   "metadata": {}
  },
  {
   "cell_type": "code",
   "execution_count": 2,
   "source": [
    "import json\n",
    "import pandas as pd\n",
    "\n",
    "DATASETS = {\n",
    "    \"CentralParkNYC\": {\n",
    "        \"input_location\": \"../data/tweet_objects/CentralParkNYC/2021-01-27-2021-02-06.json\",\n",
    "        \"output_location\": \"../data/labeled_datasets/CentralParkNYC-2021-01-27-2021-02-06.json\",\n",
    "        \"spike_start\": \"Feb 1, 2021, 17:00\",\n",
    "        \"spike_end\": \"Feb 3, 2021, 04:00\",\n",
    "    },\n",
    "    \"united\": {\n",
    "        \"input_location\": \"../data/tweet_objects/united/2020-12-05-2020-12-15.json\",\n",
    "        \"output_location\": \"../data/labeled_datasets/united-2020-12-05-2020-12-15.json\",\n",
    "        \"spike_start\": \"Dec 12, 2020, 05:00\",\n",
    "        \"spike_end\": \"Dec 13, 2020, 06:00\",\n",
    "    },\n",
    "    \"nationalGridUS\": {\n",
    "        \"input_location\": \"../data/tweet_objects/nationalGridUS/2020-10-01-2020-10-12.json\",\n",
    "        \"output_location\": \"../data/labeled_datasets/nationalGridUS-2020-10-01-2020-10-12.json\",\n",
    "        \"spike_start\": \"Oct 7, 2020, 17:00\",\n",
    "        \"spike_end\": \"Oct 9, 2020, 04:00\",\n",
    "    }\n",
    "}\n",
    "\n",
    "selected_dataset = DATASETS[\"nationalGridUS\"]\n",
    "labeled_spike_start = pd.to_datetime(selected_dataset[\"spike_start\"]).tz_localize(\"UTC\")\n",
    "labeled_spike_end = pd.to_datetime(selected_dataset[\"spike_end\"]).tz_localize(\"UTC\")"
   ],
   "outputs": [],
   "metadata": {}
  },
  {
   "cell_type": "code",
   "execution_count": 3,
   "source": [
    "from utils.dataset import create_tweet_df\n",
    "\n",
    "with open(selected_dataset[\"input_location\"], \"r\") as f:\n",
    "    raw_dataset = json.load(f)\n",
    "\n",
    "df_tweets = create_tweet_df(raw_dataset[\"tweets\"])\n",
    "\n",
    "# Label tweets\n",
    "df_tweets[\"is_anomaly\"] = df_tweets.created_at.apply(\n",
    "    lambda x: 0 if (x < labeled_spike_start or x > labeled_spike_end) else 1\n",
    ")\n",
    "\n",
    "df_tweets.head()"
   ],
   "outputs": [
    {
     "output_type": "error",
     "ename": "ModuleNotFoundError",
     "evalue": "No module named 'utils'",
     "traceback": [
      "\u001b[0;31m---------------------------------------------------------------------------\u001b[0m",
      "\u001b[0;31mModuleNotFoundError\u001b[0m                       Traceback (most recent call last)",
      "\u001b[0;32m/var/folders/yb/l4pdzll51k946vtlt23kftkh0000gn/T/ipykernel_28630/45114766.py\u001b[0m in \u001b[0;36m<module>\u001b[0;34m\u001b[0m\n\u001b[0;32m----> 1\u001b[0;31m \u001b[0;32mfrom\u001b[0m \u001b[0mutils\u001b[0m\u001b[0;34m.\u001b[0m\u001b[0mdataset\u001b[0m \u001b[0;32mimport\u001b[0m \u001b[0mcreate_tweet_df\u001b[0m\u001b[0;34m\u001b[0m\u001b[0;34m\u001b[0m\u001b[0m\n\u001b[0m\u001b[1;32m      2\u001b[0m \u001b[0;34m\u001b[0m\u001b[0m\n\u001b[1;32m      3\u001b[0m \u001b[0;32mwith\u001b[0m \u001b[0mopen\u001b[0m\u001b[0;34m(\u001b[0m\u001b[0mselected_dataset\u001b[0m\u001b[0;34m[\u001b[0m\u001b[0;34m\"input_location\"\u001b[0m\u001b[0;34m]\u001b[0m\u001b[0;34m,\u001b[0m \u001b[0;34m\"r\"\u001b[0m\u001b[0;34m)\u001b[0m \u001b[0;32mas\u001b[0m \u001b[0mf\u001b[0m\u001b[0;34m:\u001b[0m\u001b[0;34m\u001b[0m\u001b[0;34m\u001b[0m\u001b[0m\n\u001b[1;32m      4\u001b[0m     \u001b[0mraw_dataset\u001b[0m \u001b[0;34m=\u001b[0m \u001b[0mjson\u001b[0m\u001b[0;34m.\u001b[0m\u001b[0mload\u001b[0m\u001b[0;34m(\u001b[0m\u001b[0mf\u001b[0m\u001b[0;34m)\u001b[0m\u001b[0;34m\u001b[0m\u001b[0;34m\u001b[0m\u001b[0m\n\u001b[1;32m      5\u001b[0m \u001b[0;34m\u001b[0m\u001b[0m\n",
      "\u001b[0;31mModuleNotFoundError\u001b[0m: No module named 'utils'"
     ]
    }
   ],
   "metadata": {}
  },
  {
   "cell_type": "code",
   "execution_count": null,
   "source": [
    "# Export \n",
    "df_tweets.to_json(\n",
    "    selected_dataset[\"output_location\"],\n",
    "    orient=\"records\"\n",
    ")"
   ],
   "outputs": [],
   "metadata": {}
  },
  {
   "cell_type": "code",
   "execution_count": null,
   "source": [
    "df_tweets.info()"
   ],
   "outputs": [
    {
     "output_type": "stream",
     "name": "stdout",
     "text": [
      "<class 'pandas.core.frame.DataFrame'>\n",
      "Int64Index: 2126 entries, 2125 to 0\n",
      "Data columns (total 15 columns):\n",
      " #   Column               Non-Null Count  Dtype              \n",
      "---  ------               --------------  -----              \n",
      " 0   id                   2126 non-null   object             \n",
      " 1   text                 2126 non-null   object             \n",
      " 2   created_at           2126 non-null   datetime64[ns, UTC]\n",
      " 3   hashtags             2126 non-null   object             \n",
      " 4   mentions             2126 non-null   object             \n",
      " 5   in_reply_to_user_id  1302 non-null   object             \n",
      " 6   user_id              2126 non-null   object             \n",
      " 7   retweet_count        2126 non-null   int64              \n",
      " 8   quote_count          2126 non-null   int64              \n",
      " 9   reply_count          2126 non-null   int64              \n",
      " 10  like_count           2126 non-null   int64              \n",
      " 11  retweeted            416 non-null    object             \n",
      " 12  replied_to           1062 non-null   object             \n",
      " 13  quoted               51 non-null     object             \n",
      " 14  is_anomaly           2126 non-null   int64              \n",
      "dtypes: datetime64[ns, UTC](1), int64(5), object(9)\n",
      "memory usage: 330.3+ KB\n"
     ]
    }
   ],
   "metadata": {}
  }
 ],
 "metadata": {
  "orig_nbformat": 4,
  "language_info": {
   "name": "python",
   "version": "3.8.11",
   "mimetype": "text/x-python",
   "codemirror_mode": {
    "name": "ipython",
    "version": 3
   },
   "pygments_lexer": "ipython3",
   "nbconvert_exporter": "python",
   "file_extension": ".py"
  },
  "kernelspec": {
   "name": "python3",
   "display_name": "Python 3.8.11 64-bit ('spec-project': conda)"
  },
  "interpreter": {
   "hash": "d5626e6117a626f228c3b35b757f4e3d945537012d8c7ec5db5088829d27e251"
  }
 },
 "nbformat": 4,
 "nbformat_minor": 2
}