{
 "cells": [
  {
   "cell_type": "code",
   "execution_count": 130,
   "source": [
    "from notebook_utils import resolve_paths_from_parent_directory\n",
    "resolve_paths_from_parent_directory()\n",
    "# auto reload notebook deps\n",
    "%reload_ext autoreload\n",
    "%autoreload 2"
   ],
   "outputs": [],
   "metadata": {}
  },
  {
   "cell_type": "code",
   "execution_count": 131,
   "source": [
    "import json\n",
    "import pandas as pd\n",
    "\n",
    "DATASETS = {\n",
    "    \"CentralParkNYC\": {\n",
    "        \"input_location\": \"../data/tweet_objects/CentralParkNYC/2021-01-27-2021-02-06.json\",\n",
    "        \"output_location\": \"../data/labeled_datasets/CentralParkNYC-2021-01-27-2021-02-06.json\",\n",
    "        \"spike_start\": \"Feb 1, 2021, 17:00\",\n",
    "        \"spike_end\": \"Feb 3, 2021, 04:00\",\n",
    "    },\n",
    "    \"united\": {\n",
    "        \"input_location\": \"../data/tweet_objects/united/2020-12-05-2020-12-15.json\",\n",
    "        \"output_location\": \"../data/labeled_datasets/united-2020-12-05-2020-12-15.json\",\n",
    "        \"spike_start\": \"Dec 12, 2020, 05:00\",\n",
    "        \"spike_end\": \"Dec 13, 2020, 06:00\",\n",
    "    },\n",
    "    \"nationalGridUS\": {\n",
    "        \"input_location\": \"../data/tweet_objects/nationalGridUS/2020-10-01-2020-10-12.json\",\n",
    "        \"output_location\": \"../data/labeled_datasets/nationalGridUS-2020-10-01-2020-10-12.json\",\n",
    "        \"spike_start\": \"Oct 7, 2020, 17:00\",\n",
    "        \"spike_end\": \"Oct 9, 2020, 04:00\",\n",
    "    }\n",
    "}\n",
    "\n",
    "selected_dataset = DATASETS[\"nationalGridUS\"]\n",
    "labeled_spike_start = pd.to_datetime(selected_dataset[\"spike_start\"]).tz_localize(\"UTC\")\n",
    "labeled_spike_end = pd.to_datetime(selected_dataset[\"spike_end\"]).tz_localize(\"UTC\")"
   ],
   "outputs": [],
   "metadata": {}
  },
  {
   "cell_type": "code",
   "execution_count": 132,
   "source": [
    "from utils.dataset import create_tweet_df\n",
    "\n",
    "with open(selected_dataset[\"input_location\"], \"r\") as f:\n",
    "    raw_dataset = json.load(f)\n",
    "\n",
    "df_tweets = create_tweet_df(raw_dataset[\"tweets\"])\n",
    "\n",
    "# lower entities\n",
    "df_tweets[\"hashtags\"] = df_tweets.hashtags.apply(lambda xs: [x.lower() for x in xs])\n",
    "df_tweets[\"mentions\"] = df_tweets.mentions.apply(lambda xs: [x.lower() for x in xs])\n",
    "\n",
    "# Set retweet count 0 for retweets\n",
    "df_tweets[\"retweet_count\"] = df_tweets.apply(\n",
    "    lambda x: x.retweet_count if x.retweeted is None else 0, \n",
    "    axis=1\n",
    ")\n",
    "\n",
    "# Label tweets\n",
    "df_tweets[\"is_anomaly\"] = df_tweets.created_at.apply(\n",
    "    lambda x: 0 if (x < labeled_spike_start or x > labeled_spike_end) else 1\n",
    ")\n",
    "\n",
    "df_tweets.head()"
   ],
   "outputs": [
    {
     "output_type": "execute_result",
     "data": {
      "text/html": [
       "<div>\n",
       "<style scoped>\n",
       "    .dataframe tbody tr th:only-of-type {\n",
       "        vertical-align: middle;\n",
       "    }\n",
       "\n",
       "    .dataframe tbody tr th {\n",
       "        vertical-align: top;\n",
       "    }\n",
       "\n",
       "    .dataframe thead th {\n",
       "        text-align: right;\n",
       "    }\n",
       "</style>\n",
       "<table border=\"1\" class=\"dataframe\">\n",
       "  <thead>\n",
       "    <tr style=\"text-align: right;\">\n",
       "      <th></th>\n",
       "      <th>id</th>\n",
       "      <th>text</th>\n",
       "      <th>created_at</th>\n",
       "      <th>hashtags</th>\n",
       "      <th>mentions</th>\n",
       "      <th>in_reply_to_user_id</th>\n",
       "      <th>user_id</th>\n",
       "      <th>retweet_count</th>\n",
       "      <th>quote_count</th>\n",
       "      <th>reply_count</th>\n",
       "      <th>like_count</th>\n",
       "      <th>retweeted</th>\n",
       "      <th>replied_to</th>\n",
       "      <th>quoted</th>\n",
       "      <th>is_anomaly</th>\n",
       "    </tr>\n",
       "  </thead>\n",
       "  <tbody>\n",
       "    <tr>\n",
       "      <th>2125</th>\n",
       "      <td>1311464085071036416</td>\n",
       "      <td>@nationalgridus YESS!!! It’s back on</td>\n",
       "      <td>2020-10-01 00:32:58+00:00</td>\n",
       "      <td>[]</td>\n",
       "      <td>[nationalgridus]</td>\n",
       "      <td>109524559</td>\n",
       "      <td>812872943134982144</td>\n",
       "      <td>0</td>\n",
       "      <td>0</td>\n",
       "      <td>0</td>\n",
       "      <td>0</td>\n",
       "      <td>NaN</td>\n",
       "      <td>1311416336787091457</td>\n",
       "      <td>NaN</td>\n",
       "      <td>0</td>\n",
       "    </tr>\n",
       "    <tr>\n",
       "      <th>2124</th>\n",
       "      <td>1311464351459672065</td>\n",
       "      <td>@ToSaveEnergy @SCE @LimeEnergy @NYPAenergy @na...</td>\n",
       "      <td>2020-10-01 00:34:01+00:00</td>\n",
       "      <td>[maintenance, cooling, energyefficiency, refri...</td>\n",
       "      <td>[tosaveenergy, sce, limeenergy, nypaenergy, na...</td>\n",
       "      <td>17881345</td>\n",
       "      <td>1591198093</td>\n",
       "      <td>0</td>\n",
       "      <td>0</td>\n",
       "      <td>0</td>\n",
       "      <td>0</td>\n",
       "      <td>NaN</td>\n",
       "      <td>1311369549837676544</td>\n",
       "      <td>NaN</td>\n",
       "      <td>0</td>\n",
       "    </tr>\n",
       "    <tr>\n",
       "      <th>2123</th>\n",
       "      <td>1311464409559166976</td>\n",
       "      <td>RT @ToSaveEnergy: Another insightful #ActiveEf...</td>\n",
       "      <td>2020-10-01 00:34:15+00:00</td>\n",
       "      <td>[activeefficiency]</td>\n",
       "      <td>[tosaveenergy]</td>\n",
       "      <td>None</td>\n",
       "      <td>1591198093</td>\n",
       "      <td>0</td>\n",
       "      <td>0</td>\n",
       "      <td>0</td>\n",
       "      <td>0</td>\n",
       "      <td>1311369549837676544</td>\n",
       "      <td>NaN</td>\n",
       "      <td>NaN</td>\n",
       "      <td>0</td>\n",
       "    </tr>\n",
       "    <tr>\n",
       "      <th>2122</th>\n",
       "      <td>1311469381868814337</td>\n",
       "      <td>@DeanFelicetti Hi Dean. We understand not havi...</td>\n",
       "      <td>2020-10-01 00:54:01+00:00</td>\n",
       "      <td>[]</td>\n",
       "      <td>[deanfelicetti]</td>\n",
       "      <td>3225669874</td>\n",
       "      <td>109524559</td>\n",
       "      <td>0</td>\n",
       "      <td>0</td>\n",
       "      <td>0</td>\n",
       "      <td>0</td>\n",
       "      <td>NaN</td>\n",
       "      <td>1311404424661737477</td>\n",
       "      <td>NaN</td>\n",
       "      <td>0</td>\n",
       "    </tr>\n",
       "    <tr>\n",
       "      <th>2121</th>\n",
       "      <td>1311471757967134722</td>\n",
       "      <td>@DeanFelicetti @nationalgridus Didn’t the wind...</td>\n",
       "      <td>2020-10-01 01:03:27+00:00</td>\n",
       "      <td>[]</td>\n",
       "      <td>[deanfelicetti, nationalgridus]</td>\n",
       "      <td>3225669874</td>\n",
       "      <td>170846420</td>\n",
       "      <td>0</td>\n",
       "      <td>0</td>\n",
       "      <td>0</td>\n",
       "      <td>0</td>\n",
       "      <td>NaN</td>\n",
       "      <td>1311404424661737477</td>\n",
       "      <td>NaN</td>\n",
       "      <td>0</td>\n",
       "    </tr>\n",
       "  </tbody>\n",
       "</table>\n",
       "</div>"
      ],
      "text/plain": [
       "                       id                                               text  \\\n",
       "2125  1311464085071036416               @nationalgridus YESS!!! It’s back on   \n",
       "2124  1311464351459672065  @ToSaveEnergy @SCE @LimeEnergy @NYPAenergy @na...   \n",
       "2123  1311464409559166976  RT @ToSaveEnergy: Another insightful #ActiveEf...   \n",
       "2122  1311469381868814337  @DeanFelicetti Hi Dean. We understand not havi...   \n",
       "2121  1311471757967134722  @DeanFelicetti @nationalgridus Didn’t the wind...   \n",
       "\n",
       "                    created_at  \\\n",
       "2125 2020-10-01 00:32:58+00:00   \n",
       "2124 2020-10-01 00:34:01+00:00   \n",
       "2123 2020-10-01 00:34:15+00:00   \n",
       "2122 2020-10-01 00:54:01+00:00   \n",
       "2121 2020-10-01 01:03:27+00:00   \n",
       "\n",
       "                                               hashtags  \\\n",
       "2125                                                 []   \n",
       "2124  [maintenance, cooling, energyefficiency, refri...   \n",
       "2123                                 [activeefficiency]   \n",
       "2122                                                 []   \n",
       "2121                                                 []   \n",
       "\n",
       "                                               mentions in_reply_to_user_id  \\\n",
       "2125                                   [nationalgridus]           109524559   \n",
       "2124  [tosaveenergy, sce, limeenergy, nypaenergy, na...            17881345   \n",
       "2123                                     [tosaveenergy]                None   \n",
       "2122                                    [deanfelicetti]          3225669874   \n",
       "2121                    [deanfelicetti, nationalgridus]          3225669874   \n",
       "\n",
       "                 user_id  retweet_count  quote_count  reply_count  like_count  \\\n",
       "2125  812872943134982144              0            0            0           0   \n",
       "2124          1591198093              0            0            0           0   \n",
       "2123          1591198093              0            0            0           0   \n",
       "2122           109524559              0            0            0           0   \n",
       "2121           170846420              0            0            0           0   \n",
       "\n",
       "                retweeted           replied_to quoted  is_anomaly  \n",
       "2125                  NaN  1311416336787091457    NaN           0  \n",
       "2124                  NaN  1311369549837676544    NaN           0  \n",
       "2123  1311369549837676544                  NaN    NaN           0  \n",
       "2122                  NaN  1311404424661737477    NaN           0  \n",
       "2121                  NaN  1311404424661737477    NaN           0  "
      ]
     },
     "metadata": {},
     "execution_count": 132
    }
   ],
   "metadata": {}
  },
  {
   "cell_type": "code",
   "execution_count": 133,
   "source": [
    "## Create timeseries from tweets\n",
    "from utils.dataset import count_array_column\n",
    "\n",
    "df_top_hashtags = count_array_column(df_tweets[\"hashtags\"])\n",
    "df_top_mentions = count_array_column(df_tweets[\"mentions\"])\n",
    "\n",
    "df_top_hashtags[:5]"
   ],
   "outputs": [
    {
     "output_type": "execute_result",
     "data": {
      "text/html": [
       "<div>\n",
       "<style scoped>\n",
       "    .dataframe tbody tr th:only-of-type {\n",
       "        vertical-align: middle;\n",
       "    }\n",
       "\n",
       "    .dataframe tbody tr th {\n",
       "        vertical-align: top;\n",
       "    }\n",
       "\n",
       "    .dataframe thead th {\n",
       "        text-align: right;\n",
       "    }\n",
       "</style>\n",
       "<table border=\"1\" class=\"dataframe\">\n",
       "  <thead>\n",
       "    <tr style=\"text-align: right;\">\n",
       "      <th></th>\n",
       "      <th>value</th>\n",
       "      <th>count</th>\n",
       "      <th>pct</th>\n",
       "    </tr>\n",
       "  </thead>\n",
       "  <tbody>\n",
       "    <tr>\n",
       "      <th>66</th>\n",
       "      <td>troyny</td>\n",
       "      <td>12</td>\n",
       "      <td>0.005644</td>\n",
       "    </tr>\n",
       "    <tr>\n",
       "      <th>76</th>\n",
       "      <td>poweroutage</td>\n",
       "      <td>11</td>\n",
       "      <td>0.005174</td>\n",
       "    </tr>\n",
       "    <tr>\n",
       "      <th>19</th>\n",
       "      <td>frackedgas</td>\n",
       "      <td>9</td>\n",
       "      <td>0.004233</td>\n",
       "    </tr>\n",
       "    <tr>\n",
       "      <th>31</th>\n",
       "      <td>netzero</td>\n",
       "      <td>9</td>\n",
       "      <td>0.004233</td>\n",
       "    </tr>\n",
       "    <tr>\n",
       "      <th>53</th>\n",
       "      <td>renewable</td>\n",
       "      <td>9</td>\n",
       "      <td>0.004233</td>\n",
       "    </tr>\n",
       "  </tbody>\n",
       "</table>\n",
       "</div>"
      ],
      "text/plain": [
       "          value  count       pct\n",
       "66       troyny     12  0.005644\n",
       "76  poweroutage     11  0.005174\n",
       "19   frackedgas      9  0.004233\n",
       "31      netzero      9  0.004233\n",
       "53    renewable      9  0.004233"
      ]
     },
     "metadata": {},
     "execution_count": 133
    }
   ],
   "metadata": {}
  },
  {
   "cell_type": "code",
   "execution_count": 134,
   "source": [
    "def count_col_occurrence(df_col, value):\n",
    "    return df_col.apply(lambda values: value in values).sum()\n",
    "\n",
    "time_bucket_size = \"60Min\"\n",
    "\n",
    "df_timeseries = df_tweets.groupby(df_tweets.created_at.dt.ceil(time_bucket_size)).agg(\n",
    "    total_count=('id', 'count'), \n",
    "    is_anomaly=('is_anomaly', lambda x: x.any()),\n",
    "    retweet_count=('retweeted', lambda x: pd.notna(x).sum()),\n",
    "    quote_count=('quoted', lambda x: pd.notna(x).sum()),\n",
    "    replied_to_count=('replied_to', lambda x: pd.notna(x).sum()),\n",
    "    top1_hashtag_count=(\n",
    "        'hashtags', \n",
    "        lambda x: count_col_occurrence(x, df_top_hashtags.iloc[0].value)\n",
    "    ),\n",
    "    top2_hashtag_count=(\n",
    "        'hashtags', \n",
    "        lambda x: count_col_occurrence(x, df_top_hashtags.iloc[1].value)\n",
    "    ),\n",
    "    top3_hashtag_count=(\n",
    "        'hashtags', \n",
    "        lambda x: count_col_occurrence(x, df_top_hashtags.iloc[2].value)\n",
    "    ),\n",
    "    top1_mention_count=(\n",
    "        'mentions', \n",
    "        lambda x: count_col_occurrence(x, df_top_mentions.iloc[0].value)\n",
    "    ),\n",
    "    top2_mention_count=(\n",
    "        'mentions', \n",
    "        lambda x: count_col_occurrence(x, df_top_mentions.iloc[1].value)\n",
    "    ),\n",
    "    top3_mention_count=(\n",
    "        'mentions', \n",
    "        lambda x: count_col_occurrence(x, df_top_mentions.iloc[2].value)\n",
    "    )\n",
    ")\n",
    "df_timeseries.head()"
   ],
   "outputs": [
    {
     "output_type": "execute_result",
     "data": {
      "text/html": [
       "<div>\n",
       "<style scoped>\n",
       "    .dataframe tbody tr th:only-of-type {\n",
       "        vertical-align: middle;\n",
       "    }\n",
       "\n",
       "    .dataframe tbody tr th {\n",
       "        vertical-align: top;\n",
       "    }\n",
       "\n",
       "    .dataframe thead th {\n",
       "        text-align: right;\n",
       "    }\n",
       "</style>\n",
       "<table border=\"1\" class=\"dataframe\">\n",
       "  <thead>\n",
       "    <tr style=\"text-align: right;\">\n",
       "      <th></th>\n",
       "      <th>total_count</th>\n",
       "      <th>is_anomaly</th>\n",
       "      <th>retweet_count</th>\n",
       "      <th>quote_count</th>\n",
       "      <th>replied_to_count</th>\n",
       "      <th>top1_hashtag_count</th>\n",
       "      <th>top2_hashtag_count</th>\n",
       "      <th>top3_hashtag_count</th>\n",
       "      <th>top1_mention_count</th>\n",
       "      <th>top2_mention_count</th>\n",
       "      <th>top3_mention_count</th>\n",
       "    </tr>\n",
       "    <tr>\n",
       "      <th>created_at</th>\n",
       "      <th></th>\n",
       "      <th></th>\n",
       "      <th></th>\n",
       "      <th></th>\n",
       "      <th></th>\n",
       "      <th></th>\n",
       "      <th></th>\n",
       "      <th></th>\n",
       "      <th></th>\n",
       "      <th></th>\n",
       "      <th></th>\n",
       "    </tr>\n",
       "  </thead>\n",
       "  <tbody>\n",
       "    <tr>\n",
       "      <th>2020-10-01 01:00:00+00:00</th>\n",
       "      <td>4</td>\n",
       "      <td>False</td>\n",
       "      <td>1</td>\n",
       "      <td>0</td>\n",
       "      <td>3</td>\n",
       "      <td>0</td>\n",
       "      <td>0</td>\n",
       "      <td>0</td>\n",
       "      <td>2</td>\n",
       "      <td>0</td>\n",
       "      <td>0</td>\n",
       "    </tr>\n",
       "    <tr>\n",
       "      <th>2020-10-01 02:00:00+00:00</th>\n",
       "      <td>3</td>\n",
       "      <td>False</td>\n",
       "      <td>1</td>\n",
       "      <td>0</td>\n",
       "      <td>1</td>\n",
       "      <td>0</td>\n",
       "      <td>0</td>\n",
       "      <td>0</td>\n",
       "      <td>3</td>\n",
       "      <td>0</td>\n",
       "      <td>0</td>\n",
       "    </tr>\n",
       "    <tr>\n",
       "      <th>2020-10-01 03:00:00+00:00</th>\n",
       "      <td>1</td>\n",
       "      <td>False</td>\n",
       "      <td>0</td>\n",
       "      <td>0</td>\n",
       "      <td>1</td>\n",
       "      <td>0</td>\n",
       "      <td>0</td>\n",
       "      <td>0</td>\n",
       "      <td>1</td>\n",
       "      <td>0</td>\n",
       "      <td>0</td>\n",
       "    </tr>\n",
       "    <tr>\n",
       "      <th>2020-10-01 05:00:00+00:00</th>\n",
       "      <td>2</td>\n",
       "      <td>False</td>\n",
       "      <td>0</td>\n",
       "      <td>0</td>\n",
       "      <td>0</td>\n",
       "      <td>0</td>\n",
       "      <td>0</td>\n",
       "      <td>0</td>\n",
       "      <td>2</td>\n",
       "      <td>0</td>\n",
       "      <td>0</td>\n",
       "    </tr>\n",
       "    <tr>\n",
       "      <th>2020-10-01 11:00:00+00:00</th>\n",
       "      <td>1</td>\n",
       "      <td>False</td>\n",
       "      <td>0</td>\n",
       "      <td>0</td>\n",
       "      <td>1</td>\n",
       "      <td>0</td>\n",
       "      <td>0</td>\n",
       "      <td>0</td>\n",
       "      <td>1</td>\n",
       "      <td>0</td>\n",
       "      <td>0</td>\n",
       "    </tr>\n",
       "  </tbody>\n",
       "</table>\n",
       "</div>"
      ],
      "text/plain": [
       "                           total_count  is_anomaly  retweet_count  \\\n",
       "created_at                                                          \n",
       "2020-10-01 01:00:00+00:00            4       False              1   \n",
       "2020-10-01 02:00:00+00:00            3       False              1   \n",
       "2020-10-01 03:00:00+00:00            1       False              0   \n",
       "2020-10-01 05:00:00+00:00            2       False              0   \n",
       "2020-10-01 11:00:00+00:00            1       False              0   \n",
       "\n",
       "                           quote_count  replied_to_count  top1_hashtag_count  \\\n",
       "created_at                                                                     \n",
       "2020-10-01 01:00:00+00:00            0                 3                   0   \n",
       "2020-10-01 02:00:00+00:00            0                 1                   0   \n",
       "2020-10-01 03:00:00+00:00            0                 1                   0   \n",
       "2020-10-01 05:00:00+00:00            0                 0                   0   \n",
       "2020-10-01 11:00:00+00:00            0                 1                   0   \n",
       "\n",
       "                           top2_hashtag_count  top3_hashtag_count  \\\n",
       "created_at                                                          \n",
       "2020-10-01 01:00:00+00:00                   0                   0   \n",
       "2020-10-01 02:00:00+00:00                   0                   0   \n",
       "2020-10-01 03:00:00+00:00                   0                   0   \n",
       "2020-10-01 05:00:00+00:00                   0                   0   \n",
       "2020-10-01 11:00:00+00:00                   0                   0   \n",
       "\n",
       "                           top1_mention_count  top2_mention_count  \\\n",
       "created_at                                                          \n",
       "2020-10-01 01:00:00+00:00                   2                   0   \n",
       "2020-10-01 02:00:00+00:00                   3                   0   \n",
       "2020-10-01 03:00:00+00:00                   1                   0   \n",
       "2020-10-01 05:00:00+00:00                   2                   0   \n",
       "2020-10-01 11:00:00+00:00                   1                   0   \n",
       "\n",
       "                           top3_mention_count  \n",
       "created_at                                     \n",
       "2020-10-01 01:00:00+00:00                   0  \n",
       "2020-10-01 02:00:00+00:00                   0  \n",
       "2020-10-01 03:00:00+00:00                   0  \n",
       "2020-10-01 05:00:00+00:00                   0  \n",
       "2020-10-01 11:00:00+00:00                   0  "
      ]
     },
     "metadata": {},
     "execution_count": 134
    }
   ],
   "metadata": {}
  },
  {
   "cell_type": "code",
   "execution_count": 126,
   "source": [
    "from merlion.utils import TimeSeries\n",
    "from merlion.models.anomaly.forecast_based.prophet import ProphetDetector, ProphetDetectorConfig\n",
    "from merlion.plot import plot_anoms_plotly\n",
    "from merlion.post_process.threshold import Threshold\n",
    "\n",
    "def convert_to_merlion(df, column):\n",
    "    df = df.copy()\n",
    "    df = df[column]\n",
    "    df.index = df.index.tz_convert(None)\n",
    "    return TimeSeries.from_pd(df)\n",
    "\n",
    "def detect_anomalies(\n",
    "    df_timeseries, \n",
    "    column,\n",
    "    model=ProphetDetector(ProphetDetectorConfig(\n",
    "        threshold=Threshold(alm_threshold=0.5),\n",
    "        yearly_seasonality=False,\n",
    "        weekly_seasonality=False,\n",
    "        daily_seasonality=False,\n",
    "        add_seasonality=False,\n",
    "        uncertainty_samples=1000\n",
    "    )),\n",
    "    plot=True\n",
    "):\n",
    "    train_data = convert_to_merlion(df_timeseries, column)\n",
    "    anomaly_score = model.train(train_data=train_data, anomaly_labels=None)\n",
    "    scores = model.get_anomaly_score(train_data)\n",
    "    df_scores = scores.to_pd()\n",
    "    labels_train = model.get_anomaly_label(train_data)\n",
    "\n",
    "    fig = model.plot_anomaly_plotly(\n",
    "        time_series=train_data,\n",
    "        plot_forecast=True,\n",
    "        plot_forecast_uncertainty=True\n",
    "    )\n",
    "    plot_anoms_plotly(fig, anomaly_labels=labels_train)\n",
    "    fig.show()\n",
    "\n",
    "    df_labels = labels_train.to_pd()\n",
    "    df_labels.resample(time_bucket_size).fillna(\"bfill\")\n",
    "\n",
    "    def set_anom_score(created_at):\n",
    "        lookup = created_at.tz_convert(None).ceil(time_bucket_size)\n",
    "        if lookup in df_labels.index:\n",
    "            return df_labels.loc[lookup].anom_score\n",
    "        else:\n",
    "            return 0    \n",
    "\n",
    "    ## Label df_tweets with anomaly\n",
    "    df_tweets[\"merlion_anomaly_\" + column] = df_tweets.created_at.apply(\n",
    "        set_anom_score\n",
    "    )\n",
    "    return df_scores\n",
    "\n",
    "anomaly_scores = detect_anomalies(\n",
    "    df_timeseries, \n",
    "    \"total_count\"\n",
    ")"
   ],
   "outputs": [
    {
     "output_type": "stream",
     "name": "stdout",
     "text": [
      "Initial log joint probability = -7.51234\n",
      "    Iter      log prob        ||dx||      ||grad||       alpha      alpha0  # evals  Notes \n",
      "      99       206.015   2.81469e-07       98.5857      0.7247      0.7247      128   \n",
      "    Iter      log prob        ||dx||      ||grad||       alpha      alpha0  # evals  Notes \n",
      "     196       206.391   6.83875e-09       91.1417      0.2957           1      249   \n",
      "Optimization terminated normally: \n",
      "  Convergence detected: absolute parameter change was below tolerance\n"
     ]
    },
    {
     "output_type": "display_data",
     "data": {
      "application/vnd.plotly.v1+json": {
       "config": {
        "plotlyServerURL": "https://plot.ly"
       },
       "data": [
        {
         "hoverinfo": "skip",
         "line": {
          "width": 0
         },
         "mode": "lines",
         "showlegend": false,
         "type": "scatter",
         "x": [
          "2020-10-01T02:00:00",
          "2020-10-01T03:00:00",
          "2020-10-01T05:00:00",
          "2020-10-01T11:00:00",
          "2020-10-01T13:00:00",
          "2020-10-01T14:00:00",
          "2020-10-01T15:00:00",
          "2020-10-01T16:00:00",
          "2020-10-01T17:00:00",
          "2020-10-01T18:00:00",
          "2020-10-01T19:00:00",
          "2020-10-01T20:00:00",
          "2020-10-01T21:00:00",
          "2020-10-01T22:00:00",
          "2020-10-01T23:00:00",
          "2020-10-02T00:00:00",
          "2020-10-02T02:00:00",
          "2020-10-02T03:00:00",
          "2020-10-02T04:00:00",
          "2020-10-02T05:00:00",
          "2020-10-02T07:00:00",
          "2020-10-02T12:00:00",
          "2020-10-02T14:00:00",
          "2020-10-02T15:00:00",
          "2020-10-02T16:00:00",
          "2020-10-02T17:00:00",
          "2020-10-02T18:00:00",
          "2020-10-02T19:00:00",
          "2020-10-02T20:00:00",
          "2020-10-02T21:00:00",
          "2020-10-02T22:00:00",
          "2020-10-03T00:00:00",
          "2020-10-03T01:00:00",
          "2020-10-03T02:00:00",
          "2020-10-03T13:00:00",
          "2020-10-03T15:00:00",
          "2020-10-03T16:00:00",
          "2020-10-03T18:00:00",
          "2020-10-03T19:00:00",
          "2020-10-03T20:00:00",
          "2020-10-03T21:00:00",
          "2020-10-03T22:00:00",
          "2020-10-04T12:00:00",
          "2020-10-04T13:00:00",
          "2020-10-04T16:00:00",
          "2020-10-04T20:00:00",
          "2020-10-04T22:00:00",
          "2020-10-05T00:00:00",
          "2020-10-05T04:00:00",
          "2020-10-05T09:00:00",
          "2020-10-05T13:00:00",
          "2020-10-05T14:00:00",
          "2020-10-05T15:00:00",
          "2020-10-05T16:00:00",
          "2020-10-05T17:00:00",
          "2020-10-05T18:00:00",
          "2020-10-05T19:00:00",
          "2020-10-05T20:00:00",
          "2020-10-05T22:00:00",
          "2020-10-05T23:00:00",
          "2020-10-06T01:00:00",
          "2020-10-06T02:00:00",
          "2020-10-06T03:00:00",
          "2020-10-06T06:00:00",
          "2020-10-06T13:00:00",
          "2020-10-06T14:00:00",
          "2020-10-06T16:00:00",
          "2020-10-06T17:00:00",
          "2020-10-06T18:00:00",
          "2020-10-06T19:00:00",
          "2020-10-06T20:00:00",
          "2020-10-06T21:00:00",
          "2020-10-06T22:00:00",
          "2020-10-06T23:00:00",
          "2020-10-07T00:00:00",
          "2020-10-07T01:00:00",
          "2020-10-07T02:00:00",
          "2020-10-07T03:00:00",
          "2020-10-07T10:00:00",
          "2020-10-07T12:00:00",
          "2020-10-07T14:00:00",
          "2020-10-07T15:00:00",
          "2020-10-07T16:00:00",
          "2020-10-07T17:00:00",
          "2020-10-07T18:00:00",
          "2020-10-07T19:00:00",
          "2020-10-07T20:00:00",
          "2020-10-07T21:00:00",
          "2020-10-07T22:00:00",
          "2020-10-07T23:00:00",
          "2020-10-08T00:00:00",
          "2020-10-08T01:00:00",
          "2020-10-08T02:00:00",
          "2020-10-08T03:00:00",
          "2020-10-08T04:00:00",
          "2020-10-08T05:00:00",
          "2020-10-08T06:00:00",
          "2020-10-08T07:00:00",
          "2020-10-08T08:00:00",
          "2020-10-08T09:00:00",
          "2020-10-08T10:00:00",
          "2020-10-08T11:00:00",
          "2020-10-08T12:00:00",
          "2020-10-08T13:00:00",
          "2020-10-08T14:00:00",
          "2020-10-08T15:00:00",
          "2020-10-08T16:00:00",
          "2020-10-08T17:00:00",
          "2020-10-08T18:00:00",
          "2020-10-08T19:00:00",
          "2020-10-08T20:00:00",
          "2020-10-08T21:00:00",
          "2020-10-08T22:00:00",
          "2020-10-08T23:00:00",
          "2020-10-09T00:00:00",
          "2020-10-09T01:00:00",
          "2020-10-09T02:00:00",
          "2020-10-09T03:00:00",
          "2020-10-09T04:00:00",
          "2020-10-09T05:00:00",
          "2020-10-09T06:00:00",
          "2020-10-09T09:00:00",
          "2020-10-09T10:00:00",
          "2020-10-09T11:00:00",
          "2020-10-09T12:00:00",
          "2020-10-09T13:00:00",
          "2020-10-09T14:00:00",
          "2020-10-09T15:00:00",
          "2020-10-09T16:00:00",
          "2020-10-09T17:00:00",
          "2020-10-09T18:00:00",
          "2020-10-09T19:00:00",
          "2020-10-09T20:00:00",
          "2020-10-09T21:00:00",
          "2020-10-09T22:00:00",
          "2020-10-09T23:00:00",
          "2020-10-10T00:00:00",
          "2020-10-10T01:00:00",
          "2020-10-10T02:00:00",
          "2020-10-10T03:00:00",
          "2020-10-10T04:00:00",
          "2020-10-10T05:00:00",
          "2020-10-10T07:00:00",
          "2020-10-10T08:00:00",
          "2020-10-10T11:00:00",
          "2020-10-10T12:00:00",
          "2020-10-10T13:00:00",
          "2020-10-10T14:00:00",
          "2020-10-10T15:00:00",
          "2020-10-10T16:00:00",
          "2020-10-10T17:00:00",
          "2020-10-10T18:00:00",
          "2020-10-10T19:00:00",
          "2020-10-10T20:00:00",
          "2020-10-10T21:00:00",
          "2020-10-10T22:00:00",
          "2020-10-10T23:00:00",
          "2020-10-11T00:00:00",
          "2020-10-11T01:00:00",
          "2020-10-11T02:00:00",
          "2020-10-11T03:00:00",
          "2020-10-11T04:00:00",
          "2020-10-11T05:00:00",
          "2020-10-11T07:00:00",
          "2020-10-11T09:00:00",
          "2020-10-11T12:00:00",
          "2020-10-11T13:00:00",
          "2020-10-11T14:00:00",
          "2020-10-11T15:00:00",
          "2020-10-11T16:00:00",
          "2020-10-11T17:00:00",
          "2020-10-11T18:00:00",
          "2020-10-11T19:00:00",
          "2020-10-11T20:00:00",
          "2020-10-11T21:00:00",
          "2020-10-11T22:00:00",
          "2020-10-11T23:00:00",
          "2020-10-12T00:00:00",
          "2020-10-12T01:00:00",
          "2020-10-12T03:00:00",
          "2020-10-12T12:00:00",
          "2020-10-12T13:00:00",
          "2020-10-12T14:00:00",
          "2020-10-12T15:00:00",
          "2020-10-12T16:00:00",
          "2020-10-12T17:00:00",
          "2020-10-12T18:00:00",
          "2020-10-12T19:00:00",
          "2020-10-12T20:00:00",
          "2020-10-12T21:00:00",
          "2020-10-12T22:00:00",
          "2020-10-12T23:00:00",
          "2020-10-13T00:00:00"
         ],
         "y": [
          5.6104973359854835,
          5.657330916887376,
          5.833539480817207,
          6.0773507195369945,
          5.450331134634199,
          5.795070777524561,
          5.4885778100408515,
          5.193643944521481,
          5.786397687776395,
          6.215288046342485,
          5.940390524993149,
          6.595404155318735,
          5.54845055964196,
          5.628187063018109,
          5.253605225402122,
          5.61037377820465,
          5.855662561985462,
          5.71229415761141,
          6.094413234590548,
          5.776833863194916,
          6.133692706351741,
          5.065620093847953,
          5.624179083550625,
          6.702059989857869,
          6.2283968671225205,
          6.234545726265765,
          5.741053497991805,
          5.6720730350267985,
          5.890579782312491,
          4.729790433160306,
          5.929747351095268,
          5.602802192781613,
          5.8870727475814,
          5.878890498127811,
          6.032295539765184,
          5.193840246324925,
          5.716228362340581,
          6.263205110857543,
          5.9444120740036315,
          5.505272047049353,
          5.922486646306874,
          5.7420263741734425,
          5.51498521711571,
          5.410898319796044,
          5.973592778897848,
          5.824867131044399,
          5.726900066471896,
          5.347136970814938,
          5.537798586248732,
          5.060802971486683,
          5.592277894950045,
          5.993594419074091,
          5.580550767567726,
          5.835960659697538,
          4.954203264813617,
          5.729132040719176,
          4.890315955639119,
          6.00482429411356,
          5.550584399270704,
          5.276502758938237,
          6.085996918920727,
          5.702113594212911,
          5.734674119407051,
          5.624922539256987,
          5.952974131574221,
          5.101791917668145,
          5.1751067934953845,
          5.831585035563254,
          5.54656810124268,
          5.7465461843610095,
          5.270009263512479,
          5.3297643291190555,
          4.540951927876994,
          5.390221053959456,
          5.278342048421116,
          6.053683302091221,
          5.613267654385878,
          5.427204428677363,
          6.024388505161895,
          5.279643237909972,
          4.933813239699398,
          5.354703264064815,
          5.6556243570110185,
          5.282168283973745,
          5.642775765505557,
          5.607715093378251,
          5.200674751715778,
          5.830371234359356,
          5.230043676915785,
          6.176134393077945,
          4.627836553381731,
          5.5921140933220475,
          5.295406315372586,
          5.198360855211972,
          4.80689445396433,
          5.231654982715827,
          5.150465198226906,
          5.099315571895928,
          5.491575417259362,
          5.65829775809414,
          5.011744919135725,
          5.605771416850897,
          5.210204914211791,
          4.98721456349332,
          6.006242964418922,
          5.650757782052902,
          5.821806405278874,
          5.469694367440408,
          5.914585442044168,
          5.219882485684016,
          5.617830055509331,
          5.398819942458085,
          5.118433704594857,
          5.715766098227369,
          5.348047333390071,
          4.721595533121872,
          5.379958888640405,
          4.911149785512211,
          5.938664575096049,
          5.204144182229151,
          5.1128594442625594,
          4.616805722307016,
          5.557531813335969,
          5.247017142144088,
          5.991558689802862,
          5.48696113017732,
          5.300742392682653,
          4.8738079078200185,
          5.564289386936574,
          5.289544859952652,
          5.391090553830508,
          5.279971522552074,
          5.103905648810949,
          5.167502572870398,
          5.232490298444747,
          5.3980076052689965,
          5.258678040734865,
          5.318863125197561,
          5.345928745846,
          5.074767849391317,
          5.031208473625928,
          5.0234223994466145,
          4.946757394307903,
          4.77225234115633,
          5.602843634368657,
          5.380760733381204,
          5.293396521892136,
          5.388036268884697,
          4.982424217765734,
          5.563566322384879,
          5.160637876739726,
          4.796356264395442,
          5.751454964181276,
          4.799789505816406,
          5.972478462138712,
          4.7639928693460405,
          4.727719291946928,
          5.286513126365979,
          5.423687668391754,
          4.808930189096406,
          5.077178293087453,
          4.720239193713062,
          5.022872072077971,
          5.467544719311582,
          5.608786557760417,
          4.9315722330760074,
          5.2344246400262,
          4.474553746576641,
          5.5269229685468595,
          5.1922775732198465,
          4.972220161869515,
          5.332683352282421,
          5.5216434492585655,
          5.194911281245791,
          5.226416080287344,
          4.9235614038217435,
          4.926117834123879,
          5.262986693795462,
          5.460486670212813,
          5.265074479820296,
          4.696981778613345,
          5.027440010063812,
          4.967731395991631,
          5.594539539621421,
          5.013809177574995,
          4.431135829785591,
          5.556452519200904,
          5.157240721828259,
          4.993677090604116,
          4.876639957611224,
          4.614047195026882,
          4.559037001696255,
          5.029938127541085
         ]
        },
        {
         "fill": "tonexty",
         "fillcolor": "rgba(0, 114, 178, 0.2)",
         "line": {
          "color": "#0072B2",
          "width": 2
         },
         "mode": "lines",
         "name": "Forecast",
         "type": "scatter",
         "x": [
          "2020-10-01T02:00:00",
          "2020-10-01T03:00:00",
          "2020-10-01T05:00:00",
          "2020-10-01T11:00:00",
          "2020-10-01T13:00:00",
          "2020-10-01T14:00:00",
          "2020-10-01T15:00:00",
          "2020-10-01T16:00:00",
          "2020-10-01T17:00:00",
          "2020-10-01T18:00:00",
          "2020-10-01T19:00:00",
          "2020-10-01T20:00:00",
          "2020-10-01T21:00:00",
          "2020-10-01T22:00:00",
          "2020-10-01T23:00:00",
          "2020-10-02T00:00:00",
          "2020-10-02T02:00:00",
          "2020-10-02T03:00:00",
          "2020-10-02T04:00:00",
          "2020-10-02T05:00:00",
          "2020-10-02T07:00:00",
          "2020-10-02T12:00:00",
          "2020-10-02T14:00:00",
          "2020-10-02T15:00:00",
          "2020-10-02T16:00:00",
          "2020-10-02T17:00:00",
          "2020-10-02T18:00:00",
          "2020-10-02T19:00:00",
          "2020-10-02T20:00:00",
          "2020-10-02T21:00:00",
          "2020-10-02T22:00:00",
          "2020-10-03T00:00:00",
          "2020-10-03T01:00:00",
          "2020-10-03T02:00:00",
          "2020-10-03T13:00:00",
          "2020-10-03T15:00:00",
          "2020-10-03T16:00:00",
          "2020-10-03T18:00:00",
          "2020-10-03T19:00:00",
          "2020-10-03T20:00:00",
          "2020-10-03T21:00:00",
          "2020-10-03T22:00:00",
          "2020-10-04T12:00:00",
          "2020-10-04T13:00:00",
          "2020-10-04T16:00:00",
          "2020-10-04T20:00:00",
          "2020-10-04T22:00:00",
          "2020-10-05T00:00:00",
          "2020-10-05T04:00:00",
          "2020-10-05T09:00:00",
          "2020-10-05T13:00:00",
          "2020-10-05T14:00:00",
          "2020-10-05T15:00:00",
          "2020-10-05T16:00:00",
          "2020-10-05T17:00:00",
          "2020-10-05T18:00:00",
          "2020-10-05T19:00:00",
          "2020-10-05T20:00:00",
          "2020-10-05T22:00:00",
          "2020-10-05T23:00:00",
          "2020-10-06T01:00:00",
          "2020-10-06T02:00:00",
          "2020-10-06T03:00:00",
          "2020-10-06T06:00:00",
          "2020-10-06T13:00:00",
          "2020-10-06T14:00:00",
          "2020-10-06T16:00:00",
          "2020-10-06T17:00:00",
          "2020-10-06T18:00:00",
          "2020-10-06T19:00:00",
          "2020-10-06T20:00:00",
          "2020-10-06T21:00:00",
          "2020-10-06T22:00:00",
          "2020-10-06T23:00:00",
          "2020-10-07T00:00:00",
          "2020-10-07T01:00:00",
          "2020-10-07T02:00:00",
          "2020-10-07T03:00:00",
          "2020-10-07T10:00:00",
          "2020-10-07T12:00:00",
          "2020-10-07T14:00:00",
          "2020-10-07T15:00:00",
          "2020-10-07T16:00:00",
          "2020-10-07T17:00:00",
          "2020-10-07T18:00:00",
          "2020-10-07T19:00:00",
          "2020-10-07T20:00:00",
          "2020-10-07T21:00:00",
          "2020-10-07T22:00:00",
          "2020-10-07T23:00:00",
          "2020-10-08T00:00:00",
          "2020-10-08T01:00:00",
          "2020-10-08T02:00:00",
          "2020-10-08T03:00:00",
          "2020-10-08T04:00:00",
          "2020-10-08T05:00:00",
          "2020-10-08T06:00:00",
          "2020-10-08T07:00:00",
          "2020-10-08T08:00:00",
          "2020-10-08T09:00:00",
          "2020-10-08T10:00:00",
          "2020-10-08T11:00:00",
          "2020-10-08T12:00:00",
          "2020-10-08T13:00:00",
          "2020-10-08T14:00:00",
          "2020-10-08T15:00:00",
          "2020-10-08T16:00:00",
          "2020-10-08T17:00:00",
          "2020-10-08T18:00:00",
          "2020-10-08T19:00:00",
          "2020-10-08T20:00:00",
          "2020-10-08T21:00:00",
          "2020-10-08T22:00:00",
          "2020-10-08T23:00:00",
          "2020-10-09T00:00:00",
          "2020-10-09T01:00:00",
          "2020-10-09T02:00:00",
          "2020-10-09T03:00:00",
          "2020-10-09T04:00:00",
          "2020-10-09T05:00:00",
          "2020-10-09T06:00:00",
          "2020-10-09T09:00:00",
          "2020-10-09T10:00:00",
          "2020-10-09T11:00:00",
          "2020-10-09T12:00:00",
          "2020-10-09T13:00:00",
          "2020-10-09T14:00:00",
          "2020-10-09T15:00:00",
          "2020-10-09T16:00:00",
          "2020-10-09T17:00:00",
          "2020-10-09T18:00:00",
          "2020-10-09T19:00:00",
          "2020-10-09T20:00:00",
          "2020-10-09T21:00:00",
          "2020-10-09T22:00:00",
          "2020-10-09T23:00:00",
          "2020-10-10T00:00:00",
          "2020-10-10T01:00:00",
          "2020-10-10T02:00:00",
          "2020-10-10T03:00:00",
          "2020-10-10T04:00:00",
          "2020-10-10T05:00:00",
          "2020-10-10T07:00:00",
          "2020-10-10T08:00:00",
          "2020-10-10T11:00:00",
          "2020-10-10T12:00:00",
          "2020-10-10T13:00:00",
          "2020-10-10T14:00:00",
          "2020-10-10T15:00:00",
          "2020-10-10T16:00:00",
          "2020-10-10T17:00:00",
          "2020-10-10T18:00:00",
          "2020-10-10T19:00:00",
          "2020-10-10T20:00:00",
          "2020-10-10T21:00:00",
          "2020-10-10T22:00:00",
          "2020-10-10T23:00:00",
          "2020-10-11T00:00:00",
          "2020-10-11T01:00:00",
          "2020-10-11T02:00:00",
          "2020-10-11T03:00:00",
          "2020-10-11T04:00:00",
          "2020-10-11T05:00:00",
          "2020-10-11T07:00:00",
          "2020-10-11T09:00:00",
          "2020-10-11T12:00:00",
          "2020-10-11T13:00:00",
          "2020-10-11T14:00:00",
          "2020-10-11T15:00:00",
          "2020-10-11T16:00:00",
          "2020-10-11T17:00:00",
          "2020-10-11T18:00:00",
          "2020-10-11T19:00:00",
          "2020-10-11T20:00:00",
          "2020-10-11T21:00:00",
          "2020-10-11T22:00:00",
          "2020-10-11T23:00:00",
          "2020-10-12T00:00:00",
          "2020-10-12T01:00:00",
          "2020-10-12T03:00:00",
          "2020-10-12T12:00:00",
          "2020-10-12T13:00:00",
          "2020-10-12T14:00:00",
          "2020-10-12T15:00:00",
          "2020-10-12T16:00:00",
          "2020-10-12T17:00:00",
          "2020-10-12T18:00:00",
          "2020-10-12T19:00:00",
          "2020-10-12T20:00:00",
          "2020-10-12T21:00:00",
          "2020-10-12T22:00:00",
          "2020-10-12T23:00:00",
          "2020-10-13T00:00:00"
         ],
         "y": [
          0.3524039171474378,
          0.3495774784771976,
          0.34392460113671725,
          0.3269659691152761,
          0.3213130917747957,
          0.3184866531045555,
          0.3156602144343153,
          0.3128337869077549,
          0.31000735938119434,
          0.30718093185463385,
          0.3043545043280734,
          0.3015280768015129,
          0.2987016492749524,
          0.29587522206407774,
          0.29304879485320307,
          0.29022236764232845,
          0.28456951322057916,
          0.2817430860097045,
          0.2789166587988298,
          0.2762670498381111,
          0.27096783191667373,
          0.2577197871130803,
          0.2524205691916429,
          0.24977096023092418,
          0.24712135127020549,
          0.2444717426944158,
          0.24182213411862605,
          0.2391725255428363,
          0.23652291696704658,
          0.2338733083912569,
          0.23122369981546714,
          0.22592448266388768,
          0.22327487767552903,
          0.22062527268717033,
          0.19147961781522488,
          0.18618040783850753,
          0.18353080285014886,
          0.17823159287343154,
          0.17558198808378703,
          0.1729323832941425,
          0.170282778504498,
          0.1676331737148535,
          0.13053870665983042,
          0.1278891018701859,
          0.11994029026365778,
          0.10934187478828689,
          0.10404266705060145,
          0.09874345931291602,
          0.08814504383754512,
          0.07489702449333153,
          0.06429861051682476,
          0.06164900702269806,
          0.058999403528571394,
          0.056349800034444654,
          0.053700196540317956,
          0.05105059304619129,
          0.048400989764567526,
          0.045751386482943766,
          0.04045217991969618,
          0.03780257663807242,
          0.032503370074824824,
          0.029853766793201064,
          0.027204163786304903,
          0.019255354765616284,
          0.0007081337173427509,
          -0.001941469289553478,
          -0.007240675303345868,
          -0.009890278310242097,
          -0.012539881116573953,
          -0.01518948392290581,
          -0.017839086729237667,
          -0.020488689535569524,
          -0.023138292341901446,
          -0.025787895148233368,
          -0.028437498081368643,
          -0.031087101014503984,
          -0.03373670394763932,
          -0.0363863068807746,
          -0.054933527412721846,
          -0.060232733278992465,
          -0.06553193914526308,
          -0.0681815418973602,
          -0.07083114464945725,
          -0.07348074740155439,
          -0.07613035015365151,
          -0.07877995290574856,
          -0.0814295556578457,
          -0.08407915816742119,
          -0.08672876067699677,
          -0.08937836318657226,
          -0.09202796569614784,
          -0.09467756820572347,
          -0.09732717071529898,
          -0.09997677313314408,
          -0.1026263755509892,
          -0.10527597796883431,
          -0.10792558038667943,
          -0.11057518280452461,
          -0.11322478522236973,
          -0.11587438703314057,
          -0.11852398884391142,
          -0.12117359065468226,
          -0.12382319246545319,
          -0.12647279427622396,
          -0.12912239608699488,
          -0.13177199799506412,
          -0.13442159990313324,
          -0.13707120181120241,
          -0.13972080371927154,
          -0.14237040562734077,
          -0.1450200075354098,
          -0.14766960966551687,
          -0.15031921179562382,
          -0.1529688139257309,
          -0.15561841605583787,
          -0.15826801818594488,
          -0.16091762031605195,
          -0.16356722246566696,
          -0.166216824615282,
          -0.16886642676489702,
          -0.17151602891451212,
          -0.17946483536335725,
          -0.1821144375129722,
          -0.18476403955235016,
          -0.18741364159172813,
          -0.19006324363110608,
          -0.19271284567048405,
          -0.19536244770986194,
          -0.19801204974923997,
          -0.20066165178861786,
          -0.20331125361205438,
          -0.20596085543549092,
          -0.20861045725892743,
          -0.21126005908236403,
          -0.2139096609058005,
          -0.21655926272923703,
          -0.2192088644692595,
          -0.22185846620928204,
          -0.2245080679493045,
          -0.22715766968932696,
          -0.22980727142934942,
          -0.23245687316937197,
          -0.2377560759759549,
          -0.24040567737924645,
          -0.24835448158912085,
          -0.2510040829924124,
          -0.2536536843957039,
          -0.2563032857989954,
          -0.2589528876066879,
          -0.26160248941438036,
          -0.26425209122207294,
          -0.2669016930297654,
          -0.2695512948374578,
          -0.27220089664515046,
          -0.2748504985366953,
          -0.2775001004282403,
          -0.28014970231978514,
          -0.2827993042113301,
          -0.28544890610287493,
          -0.28809850799441994,
          -0.2907481098859649,
          -0.29339771177750984,
          -0.29604731366905485,
          -0.30134651745214464,
          -0.3066457212352345,
          -0.3145945269098693,
          -0.3172441288014142,
          -0.31989373069295907,
          -0.32254333258450407,
          -0.325192934476049,
          -0.32784253636759386,
          -0.3304921382591388,
          -0.3331417401506838,
          -0.33579134204222866,
          -0.3384409439337736,
          -0.34109054582531845,
          -0.34374014771686345,
          -0.3463897496084084,
          -0.3490393514999534,
          -0.3543385552830432,
          -0.3781849723069476,
          -0.38083457419849254,
          -0.3834841760900374,
          -0.3861337779815824,
          -0.3887833798731272,
          -0.39143298176467217,
          -0.3940825836562171,
          -0.39673218554776213,
          -0.39938178743930697,
          -0.4020313893308519,
          -0.4046809912223969,
          -0.40733059311394176,
          -0.4099801950054867
         ]
        },
        {
         "fill": "tonexty",
         "fillcolor": "rgba(0, 114, 178, 0.2)",
         "hoverinfo": "skip",
         "line": {
          "width": 0
         },
         "mode": "lines",
         "showlegend": false,
         "type": "scatter",
         "x": [
          "2020-10-01T02:00:00",
          "2020-10-01T03:00:00",
          "2020-10-01T05:00:00",
          "2020-10-01T11:00:00",
          "2020-10-01T13:00:00",
          "2020-10-01T14:00:00",
          "2020-10-01T15:00:00",
          "2020-10-01T16:00:00",
          "2020-10-01T17:00:00",
          "2020-10-01T18:00:00",
          "2020-10-01T19:00:00",
          "2020-10-01T20:00:00",
          "2020-10-01T21:00:00",
          "2020-10-01T22:00:00",
          "2020-10-01T23:00:00",
          "2020-10-02T00:00:00",
          "2020-10-02T02:00:00",
          "2020-10-02T03:00:00",
          "2020-10-02T04:00:00",
          "2020-10-02T05:00:00",
          "2020-10-02T07:00:00",
          "2020-10-02T12:00:00",
          "2020-10-02T14:00:00",
          "2020-10-02T15:00:00",
          "2020-10-02T16:00:00",
          "2020-10-02T17:00:00",
          "2020-10-02T18:00:00",
          "2020-10-02T19:00:00",
          "2020-10-02T20:00:00",
          "2020-10-02T21:00:00",
          "2020-10-02T22:00:00",
          "2020-10-03T00:00:00",
          "2020-10-03T01:00:00",
          "2020-10-03T02:00:00",
          "2020-10-03T13:00:00",
          "2020-10-03T15:00:00",
          "2020-10-03T16:00:00",
          "2020-10-03T18:00:00",
          "2020-10-03T19:00:00",
          "2020-10-03T20:00:00",
          "2020-10-03T21:00:00",
          "2020-10-03T22:00:00",
          "2020-10-04T12:00:00",
          "2020-10-04T13:00:00",
          "2020-10-04T16:00:00",
          "2020-10-04T20:00:00",
          "2020-10-04T22:00:00",
          "2020-10-05T00:00:00",
          "2020-10-05T04:00:00",
          "2020-10-05T09:00:00",
          "2020-10-05T13:00:00",
          "2020-10-05T14:00:00",
          "2020-10-05T15:00:00",
          "2020-10-05T16:00:00",
          "2020-10-05T17:00:00",
          "2020-10-05T18:00:00",
          "2020-10-05T19:00:00",
          "2020-10-05T20:00:00",
          "2020-10-05T22:00:00",
          "2020-10-05T23:00:00",
          "2020-10-06T01:00:00",
          "2020-10-06T02:00:00",
          "2020-10-06T03:00:00",
          "2020-10-06T06:00:00",
          "2020-10-06T13:00:00",
          "2020-10-06T14:00:00",
          "2020-10-06T16:00:00",
          "2020-10-06T17:00:00",
          "2020-10-06T18:00:00",
          "2020-10-06T19:00:00",
          "2020-10-06T20:00:00",
          "2020-10-06T21:00:00",
          "2020-10-06T22:00:00",
          "2020-10-06T23:00:00",
          "2020-10-07T00:00:00",
          "2020-10-07T01:00:00",
          "2020-10-07T02:00:00",
          "2020-10-07T03:00:00",
          "2020-10-07T10:00:00",
          "2020-10-07T12:00:00",
          "2020-10-07T14:00:00",
          "2020-10-07T15:00:00",
          "2020-10-07T16:00:00",
          "2020-10-07T17:00:00",
          "2020-10-07T18:00:00",
          "2020-10-07T19:00:00",
          "2020-10-07T20:00:00",
          "2020-10-07T21:00:00",
          "2020-10-07T22:00:00",
          "2020-10-07T23:00:00",
          "2020-10-08T00:00:00",
          "2020-10-08T01:00:00",
          "2020-10-08T02:00:00",
          "2020-10-08T03:00:00",
          "2020-10-08T04:00:00",
          "2020-10-08T05:00:00",
          "2020-10-08T06:00:00",
          "2020-10-08T07:00:00",
          "2020-10-08T08:00:00",
          "2020-10-08T09:00:00",
          "2020-10-08T10:00:00",
          "2020-10-08T11:00:00",
          "2020-10-08T12:00:00",
          "2020-10-08T13:00:00",
          "2020-10-08T14:00:00",
          "2020-10-08T15:00:00",
          "2020-10-08T16:00:00",
          "2020-10-08T17:00:00",
          "2020-10-08T18:00:00",
          "2020-10-08T19:00:00",
          "2020-10-08T20:00:00",
          "2020-10-08T21:00:00",
          "2020-10-08T22:00:00",
          "2020-10-08T23:00:00",
          "2020-10-09T00:00:00",
          "2020-10-09T01:00:00",
          "2020-10-09T02:00:00",
          "2020-10-09T03:00:00",
          "2020-10-09T04:00:00",
          "2020-10-09T05:00:00",
          "2020-10-09T06:00:00",
          "2020-10-09T09:00:00",
          "2020-10-09T10:00:00",
          "2020-10-09T11:00:00",
          "2020-10-09T12:00:00",
          "2020-10-09T13:00:00",
          "2020-10-09T14:00:00",
          "2020-10-09T15:00:00",
          "2020-10-09T16:00:00",
          "2020-10-09T17:00:00",
          "2020-10-09T18:00:00",
          "2020-10-09T19:00:00",
          "2020-10-09T20:00:00",
          "2020-10-09T21:00:00",
          "2020-10-09T22:00:00",
          "2020-10-09T23:00:00",
          "2020-10-10T00:00:00",
          "2020-10-10T01:00:00",
          "2020-10-10T02:00:00",
          "2020-10-10T03:00:00",
          "2020-10-10T04:00:00",
          "2020-10-10T05:00:00",
          "2020-10-10T07:00:00",
          "2020-10-10T08:00:00",
          "2020-10-10T11:00:00",
          "2020-10-10T12:00:00",
          "2020-10-10T13:00:00",
          "2020-10-10T14:00:00",
          "2020-10-10T15:00:00",
          "2020-10-10T16:00:00",
          "2020-10-10T17:00:00",
          "2020-10-10T18:00:00",
          "2020-10-10T19:00:00",
          "2020-10-10T20:00:00",
          "2020-10-10T21:00:00",
          "2020-10-10T22:00:00",
          "2020-10-10T23:00:00",
          "2020-10-11T00:00:00",
          "2020-10-11T01:00:00",
          "2020-10-11T02:00:00",
          "2020-10-11T03:00:00",
          "2020-10-11T04:00:00",
          "2020-10-11T05:00:00",
          "2020-10-11T07:00:00",
          "2020-10-11T09:00:00",
          "2020-10-11T12:00:00",
          "2020-10-11T13:00:00",
          "2020-10-11T14:00:00",
          "2020-10-11T15:00:00",
          "2020-10-11T16:00:00",
          "2020-10-11T17:00:00",
          "2020-10-11T18:00:00",
          "2020-10-11T19:00:00",
          "2020-10-11T20:00:00",
          "2020-10-11T21:00:00",
          "2020-10-11T22:00:00",
          "2020-10-11T23:00:00",
          "2020-10-12T00:00:00",
          "2020-10-12T01:00:00",
          "2020-10-12T03:00:00",
          "2020-10-12T12:00:00",
          "2020-10-12T13:00:00",
          "2020-10-12T14:00:00",
          "2020-10-12T15:00:00",
          "2020-10-12T16:00:00",
          "2020-10-12T17:00:00",
          "2020-10-12T18:00:00",
          "2020-10-12T19:00:00",
          "2020-10-12T20:00:00",
          "2020-10-12T21:00:00",
          "2020-10-12T22:00:00",
          "2020-10-12T23:00:00",
          "2020-10-13T00:00:00"
         ],
         "y": [
          -4.516268258513942,
          -5.283752080211505,
          -5.139294578027636,
          -4.898597318675041,
          -5.03070755529399,
          -5.175141270358628,
          -4.571213232766721,
          -5.006637608414376,
          -5.237609696370727,
          -4.953082305704723,
          -5.337514869815222,
          -4.768745864295078,
          -5.375080804475437,
          -4.942313725131365,
          -5.259964379851689,
          -5.747535107350912,
          -5.623973167277172,
          -5.124739367697291,
          -4.647226638016725,
          -5.115378621293585,
          -4.804934134171127,
          -5.884062660656466,
          -5.69794895340515,
          -4.647072626810327,
          -5.115998578385771,
          -5.528059146208334,
          -4.950054994025382,
          -5.441986835483579,
          -5.423949571912037,
          -5.780345913041445,
          -4.776533272827935,
          -5.038430051979536,
          -5.625455995052137,
          -5.085097352559337,
          -5.222832605654099,
          -5.604320998375551,
          -5.095947819202554,
          -4.810198415662126,
          -5.097292723001439,
          -5.463226947209003,
          -5.415609435296306,
          -5.740165851053086,
          -4.535543399267453,
          -5.500708132021852,
          -4.992324979587992,
          -4.847636971301651,
          -5.345812515180127,
          -5.576870394207535,
          -5.387001190766891,
          -5.962939591556569,
          -5.688437896791942,
          -5.233907847859436,
          -5.112020118988864,
          -5.381870128211577,
          -5.884798225399229,
          -4.332009447721821,
          -5.335189540396065,
          -5.161490408631326,
          -4.667639226495494,
          -5.2650704335797505,
          -5.338072130877111,
          -5.16124368664228,
          -5.2512780073781435,
          -5.262110946912752,
          -5.6293500536071,
          -5.396521954083893,
          -5.420621918702167,
          -5.380940937580493,
          -4.949344406210237,
          -5.240635596434285,
          -5.087198648400351,
          -5.87517120883133,
          -6.005246320394495,
          -5.8642870467420565,
          -5.029291410892705,
          -5.398099998129529,
          -5.483493001237884,
          -5.462685222406612,
          -4.6092470104487555,
          -5.531281675688048,
          -5.522541897751314,
          -5.007992104640124,
          -5.092640643907141,
          -5.352858113544683,
          -5.759924303195643,
          -5.730585181795453,
          -5.526412935463718,
          -5.3905488849458045,
          -5.889953563383442,
          -4.946744014710575,
          -5.277431715591805,
          -5.124530113793327,
          -6.075738389007655,
          -6.1188021919624065,
          -5.766116516591578,
          -5.90185420256786,
          -5.481984957362844,
          -6.076757446755635,
          -5.5253298718900155,
          -5.953742523831997,
          -5.3316288882337775,
          -5.290681195394796,
          -5.631196264333905,
          -5.87143778786654,
          -5.456641956119862,
          -5.184975924358931,
          -5.282348807107031,
          -5.721176816864436,
          -4.8696180863889165,
          -6.075902880608932,
          -5.909293037873669,
          -5.113100386993127,
          -5.99125612458872,
          -5.246129786416881,
          -5.389004453954041,
          -5.324240695463332,
          -5.492104911024899,
          -5.595131541003513,
          -5.325337183171294,
          -5.772180422827156,
          -5.975638773203936,
          -6.10655034132196,
          -5.487581224753299,
          -5.933065236527369,
          -5.44016761668306,
          -5.968772425041999,
          -5.931075749603191,
          -5.93103454525327,
          -4.57238148435731,
          -5.915468142181055,
          -4.871140889326773,
          -5.930971943720219,
          -5.306097151437157,
          -5.6570500868655325,
          -5.5968924157129445,
          -5.234644229896101,
          -5.576033171614991,
          -5.6508304520862875,
          -5.930070454624325,
          -5.747398998572566,
          -5.260957962209668,
          -6.2287520456969725,
          -6.373074135575496,
          -5.81888122145924,
          -5.796338591729113,
          -5.503907326927722,
          -5.844762272896229,
          -5.665995406279973,
          -6.369030241937913,
          -5.521478541364903,
          -5.805946280172169,
          -5.426848381560752,
          -5.146042825979056,
          -6.231879078661386,
          -5.130743434420018,
          -5.99621361544291,
          -5.4631111513720905,
          -5.970725517429253,
          -6.07184139528134,
          -6.4770562815264405,
          -5.765658116523655,
          -6.629200606565218,
          -5.243512750589701,
          -6.123284269108068,
          -5.000860174912285,
          -6.2453634705323315,
          -4.84145018915509,
          -5.522283370070517,
          -5.840670041218289,
          -5.648281292119253,
          -5.89570805262731,
          -5.869826537901874,
          -6.040095162434492,
          -5.916233814961527,
          -5.991881322176924,
          -5.190567981475159,
          -6.70612107597463,
          -6.253744084271724,
          -5.482493580624686,
          -5.817186639493995,
          -6.197460850108281,
          -5.989100234194954,
          -6.217062106324457,
          -5.816434361810126,
          -5.785547030734301,
          -6.06967876121052,
          -5.454328848654817,
          -6.378617880465096,
          -5.510743267395613,
          -5.9976606455820685,
          -5.95580767480348,
          -5.8240405885854285,
          -6.363651574532377
         ]
        },
        {
         "line": {
          "color": "black",
          "width": 2
         },
         "mode": "lines",
         "name": "total_count",
         "type": "scatter",
         "x": [
          "2020-10-01T02:00:00",
          "2020-10-01T03:00:00",
          "2020-10-01T05:00:00",
          "2020-10-01T11:00:00",
          "2020-10-01T13:00:00",
          "2020-10-01T14:00:00",
          "2020-10-01T15:00:00",
          "2020-10-01T16:00:00",
          "2020-10-01T17:00:00",
          "2020-10-01T18:00:00",
          "2020-10-01T19:00:00",
          "2020-10-01T20:00:00",
          "2020-10-01T21:00:00",
          "2020-10-01T22:00:00",
          "2020-10-01T23:00:00",
          "2020-10-02T00:00:00",
          "2020-10-02T02:00:00",
          "2020-10-02T03:00:00",
          "2020-10-02T04:00:00",
          "2020-10-02T05:00:00",
          "2020-10-02T07:00:00",
          "2020-10-02T12:00:00",
          "2020-10-02T14:00:00",
          "2020-10-02T15:00:00",
          "2020-10-02T16:00:00",
          "2020-10-02T17:00:00",
          "2020-10-02T18:00:00",
          "2020-10-02T19:00:00",
          "2020-10-02T20:00:00",
          "2020-10-02T21:00:00",
          "2020-10-02T22:00:00",
          "2020-10-03T00:00:00",
          "2020-10-03T01:00:00",
          "2020-10-03T02:00:00",
          "2020-10-03T13:00:00",
          "2020-10-03T15:00:00",
          "2020-10-03T16:00:00",
          "2020-10-03T18:00:00",
          "2020-10-03T19:00:00",
          "2020-10-03T20:00:00",
          "2020-10-03T21:00:00",
          "2020-10-03T22:00:00",
          "2020-10-04T12:00:00",
          "2020-10-04T13:00:00",
          "2020-10-04T16:00:00",
          "2020-10-04T20:00:00",
          "2020-10-04T22:00:00",
          "2020-10-05T00:00:00",
          "2020-10-05T04:00:00",
          "2020-10-05T09:00:00",
          "2020-10-05T13:00:00",
          "2020-10-05T14:00:00",
          "2020-10-05T15:00:00",
          "2020-10-05T16:00:00",
          "2020-10-05T17:00:00",
          "2020-10-05T18:00:00",
          "2020-10-05T19:00:00",
          "2020-10-05T20:00:00",
          "2020-10-05T22:00:00",
          "2020-10-05T23:00:00",
          "2020-10-06T01:00:00",
          "2020-10-06T02:00:00",
          "2020-10-06T03:00:00",
          "2020-10-06T06:00:00",
          "2020-10-06T13:00:00",
          "2020-10-06T14:00:00",
          "2020-10-06T16:00:00",
          "2020-10-06T17:00:00",
          "2020-10-06T18:00:00",
          "2020-10-06T19:00:00",
          "2020-10-06T20:00:00",
          "2020-10-06T21:00:00",
          "2020-10-06T22:00:00",
          "2020-10-06T23:00:00",
          "2020-10-07T00:00:00",
          "2020-10-07T01:00:00",
          "2020-10-07T02:00:00",
          "2020-10-07T03:00:00",
          "2020-10-07T10:00:00",
          "2020-10-07T12:00:00",
          "2020-10-07T14:00:00",
          "2020-10-07T15:00:00",
          "2020-10-07T16:00:00",
          "2020-10-07T17:00:00",
          "2020-10-07T18:00:00",
          "2020-10-07T19:00:00",
          "2020-10-07T20:00:00",
          "2020-10-07T21:00:00",
          "2020-10-07T22:00:00",
          "2020-10-07T23:00:00",
          "2020-10-08T00:00:00",
          "2020-10-08T01:00:00",
          "2020-10-08T02:00:00",
          "2020-10-08T03:00:00",
          "2020-10-08T04:00:00",
          "2020-10-08T05:00:00",
          "2020-10-08T06:00:00",
          "2020-10-08T07:00:00",
          "2020-10-08T08:00:00",
          "2020-10-08T09:00:00",
          "2020-10-08T10:00:00",
          "2020-10-08T11:00:00",
          "2020-10-08T12:00:00",
          "2020-10-08T13:00:00",
          "2020-10-08T14:00:00",
          "2020-10-08T15:00:00",
          "2020-10-08T16:00:00",
          "2020-10-08T17:00:00",
          "2020-10-08T18:00:00",
          "2020-10-08T19:00:00",
          "2020-10-08T20:00:00",
          "2020-10-08T21:00:00",
          "2020-10-08T22:00:00",
          "2020-10-08T23:00:00",
          "2020-10-09T00:00:00",
          "2020-10-09T01:00:00",
          "2020-10-09T02:00:00",
          "2020-10-09T03:00:00",
          "2020-10-09T04:00:00",
          "2020-10-09T05:00:00",
          "2020-10-09T06:00:00",
          "2020-10-09T09:00:00",
          "2020-10-09T10:00:00",
          "2020-10-09T11:00:00",
          "2020-10-09T12:00:00",
          "2020-10-09T13:00:00",
          "2020-10-09T14:00:00",
          "2020-10-09T15:00:00",
          "2020-10-09T16:00:00",
          "2020-10-09T17:00:00",
          "2020-10-09T18:00:00",
          "2020-10-09T19:00:00",
          "2020-10-09T20:00:00",
          "2020-10-09T21:00:00",
          "2020-10-09T22:00:00",
          "2020-10-09T23:00:00",
          "2020-10-10T00:00:00",
          "2020-10-10T01:00:00",
          "2020-10-10T02:00:00",
          "2020-10-10T03:00:00",
          "2020-10-10T04:00:00",
          "2020-10-10T05:00:00",
          "2020-10-10T07:00:00",
          "2020-10-10T08:00:00",
          "2020-10-10T11:00:00",
          "2020-10-10T12:00:00",
          "2020-10-10T13:00:00",
          "2020-10-10T14:00:00",
          "2020-10-10T15:00:00",
          "2020-10-10T16:00:00",
          "2020-10-10T17:00:00",
          "2020-10-10T18:00:00",
          "2020-10-10T19:00:00",
          "2020-10-10T20:00:00",
          "2020-10-10T21:00:00",
          "2020-10-10T22:00:00",
          "2020-10-10T23:00:00",
          "2020-10-11T00:00:00",
          "2020-10-11T01:00:00",
          "2020-10-11T02:00:00",
          "2020-10-11T03:00:00",
          "2020-10-11T04:00:00",
          "2020-10-11T05:00:00",
          "2020-10-11T07:00:00",
          "2020-10-11T09:00:00",
          "2020-10-11T12:00:00",
          "2020-10-11T13:00:00",
          "2020-10-11T14:00:00",
          "2020-10-11T15:00:00",
          "2020-10-11T16:00:00",
          "2020-10-11T17:00:00",
          "2020-10-11T18:00:00",
          "2020-10-11T19:00:00",
          "2020-10-11T20:00:00",
          "2020-10-11T21:00:00",
          "2020-10-11T22:00:00",
          "2020-10-11T23:00:00",
          "2020-10-12T00:00:00",
          "2020-10-12T01:00:00",
          "2020-10-12T03:00:00",
          "2020-10-12T12:00:00",
          "2020-10-12T13:00:00",
          "2020-10-12T14:00:00",
          "2020-10-12T15:00:00",
          "2020-10-12T16:00:00",
          "2020-10-12T17:00:00",
          "2020-10-12T18:00:00",
          "2020-10-12T19:00:00",
          "2020-10-12T20:00:00",
          "2020-10-12T21:00:00",
          "2020-10-12T22:00:00",
          "2020-10-12T23:00:00",
          "2020-10-13T00:00:00"
         ],
         "y": [
          -1,
          -2,
          1,
          -1,
          3,
          1,
          0,
          1,
          0,
          -1,
          -3,
          5,
          -6,
          4,
          -3,
          -1,
          0,
          3,
          -3,
          0,
          0,
          0,
          8,
          11,
          -8,
          -10,
          0,
          6,
          -6,
          2,
          -2,
          1,
          3,
          -5,
          3,
          -3,
          0,
          0,
          3,
          -3,
          0,
          2,
          -2,
          0,
          1,
          -1,
          0,
          0,
          0,
          0,
          0,
          2,
          4,
          1,
          -4,
          2,
          1,
          3,
          -8,
          1,
          -2,
          0,
          1,
          -1,
          1,
          1,
          4,
          -6,
          2,
          5,
          -6,
          7,
          -3,
          -5,
          2,
          -1,
          0,
          0,
          -1,
          0,
          2,
          4,
          -3,
          9,
          -7,
          5,
          -1,
          13,
          0,
          23,
          33,
          -2,
          -4,
          -21,
          -20,
          -3,
          -15,
          -11,
          1,
          0,
          3,
          8,
          33,
          3,
          3,
          -19,
          -12,
          14,
          5,
          -1,
          36,
          -39,
          -11,
          1,
          2,
          -6,
          5,
          -11,
          -6,
          -7,
          -3,
          2,
          4,
          -6,
          24,
          3,
          6,
          2,
          -6,
          -11,
          5,
          -7,
          9,
          -1,
          -13,
          10,
          4,
          3,
          -14,
          -6,
          -8,
          -1,
          0,
          0,
          0,
          0,
          12,
          -6,
          6,
          2,
          -13,
          4,
          2,
          4,
          -6,
          2,
          1,
          -6,
          3,
          8,
          -11,
          1,
          -3,
          0,
          0,
          1,
          -1,
          0,
          2,
          3,
          0,
          -4,
          -1,
          0,
          0,
          0,
          1,
          -1,
          0,
          0,
          11,
          -8,
          4,
          10,
          -7,
          -3,
          -5,
          -1,
          2,
          22,
          -11,
          -7,
          -7
         ]
        },
        {
         "line": {
          "color": "red",
          "width": 2
         },
         "mode": "lines",
         "name": "Anomaly Score",
         "type": "scatter",
         "x": [
          "2020-10-01T02:00:00",
          "2020-10-01T03:00:00",
          "2020-10-01T05:00:00",
          "2020-10-01T11:00:00",
          "2020-10-01T13:00:00",
          "2020-10-01T14:00:00",
          "2020-10-01T15:00:00",
          "2020-10-01T16:00:00",
          "2020-10-01T17:00:00",
          "2020-10-01T18:00:00",
          "2020-10-01T19:00:00",
          "2020-10-01T20:00:00",
          "2020-10-01T21:00:00",
          "2020-10-01T22:00:00",
          "2020-10-01T23:00:00",
          "2020-10-02T00:00:00",
          "2020-10-02T02:00:00",
          "2020-10-02T03:00:00",
          "2020-10-02T04:00:00",
          "2020-10-02T05:00:00",
          "2020-10-02T07:00:00",
          "2020-10-02T12:00:00",
          "2020-10-02T14:00:00",
          "2020-10-02T15:00:00",
          "2020-10-02T16:00:00",
          "2020-10-02T17:00:00",
          "2020-10-02T18:00:00",
          "2020-10-02T19:00:00",
          "2020-10-02T20:00:00",
          "2020-10-02T21:00:00",
          "2020-10-02T22:00:00",
          "2020-10-03T00:00:00",
          "2020-10-03T01:00:00",
          "2020-10-03T02:00:00",
          "2020-10-03T13:00:00",
          "2020-10-03T15:00:00",
          "2020-10-03T16:00:00",
          "2020-10-03T18:00:00",
          "2020-10-03T19:00:00",
          "2020-10-03T20:00:00",
          "2020-10-03T21:00:00",
          "2020-10-03T22:00:00",
          "2020-10-04T12:00:00",
          "2020-10-04T13:00:00",
          "2020-10-04T16:00:00",
          "2020-10-04T20:00:00",
          "2020-10-04T22:00:00",
          "2020-10-05T00:00:00",
          "2020-10-05T04:00:00",
          "2020-10-05T09:00:00",
          "2020-10-05T13:00:00",
          "2020-10-05T14:00:00",
          "2020-10-05T15:00:00",
          "2020-10-05T16:00:00",
          "2020-10-05T17:00:00",
          "2020-10-05T18:00:00",
          "2020-10-05T19:00:00",
          "2020-10-05T20:00:00",
          "2020-10-05T22:00:00",
          "2020-10-05T23:00:00",
          "2020-10-06T01:00:00",
          "2020-10-06T02:00:00",
          "2020-10-06T03:00:00",
          "2020-10-06T06:00:00",
          "2020-10-06T13:00:00",
          "2020-10-06T14:00:00",
          "2020-10-06T16:00:00",
          "2020-10-06T17:00:00",
          "2020-10-06T18:00:00",
          "2020-10-06T19:00:00",
          "2020-10-06T20:00:00",
          "2020-10-06T21:00:00",
          "2020-10-06T22:00:00",
          "2020-10-06T23:00:00",
          "2020-10-07T00:00:00",
          "2020-10-07T01:00:00",
          "2020-10-07T02:00:00",
          "2020-10-07T03:00:00",
          "2020-10-07T10:00:00",
          "2020-10-07T12:00:00",
          "2020-10-07T14:00:00",
          "2020-10-07T15:00:00",
          "2020-10-07T16:00:00",
          "2020-10-07T17:00:00",
          "2020-10-07T18:00:00",
          "2020-10-07T19:00:00",
          "2020-10-07T20:00:00",
          "2020-10-07T21:00:00",
          "2020-10-07T22:00:00",
          "2020-10-07T23:00:00",
          "2020-10-08T00:00:00",
          "2020-10-08T01:00:00",
          "2020-10-08T02:00:00",
          "2020-10-08T03:00:00",
          "2020-10-08T04:00:00",
          "2020-10-08T05:00:00",
          "2020-10-08T06:00:00",
          "2020-10-08T07:00:00",
          "2020-10-08T08:00:00",
          "2020-10-08T09:00:00",
          "2020-10-08T10:00:00",
          "2020-10-08T11:00:00",
          "2020-10-08T12:00:00",
          "2020-10-08T13:00:00",
          "2020-10-08T14:00:00",
          "2020-10-08T15:00:00",
          "2020-10-08T16:00:00",
          "2020-10-08T17:00:00",
          "2020-10-08T18:00:00",
          "2020-10-08T19:00:00",
          "2020-10-08T20:00:00",
          "2020-10-08T21:00:00",
          "2020-10-08T22:00:00",
          "2020-10-08T23:00:00",
          "2020-10-09T00:00:00",
          "2020-10-09T01:00:00",
          "2020-10-09T02:00:00",
          "2020-10-09T03:00:00",
          "2020-10-09T04:00:00",
          "2020-10-09T05:00:00",
          "2020-10-09T06:00:00",
          "2020-10-09T09:00:00",
          "2020-10-09T10:00:00",
          "2020-10-09T11:00:00",
          "2020-10-09T12:00:00",
          "2020-10-09T13:00:00",
          "2020-10-09T14:00:00",
          "2020-10-09T15:00:00",
          "2020-10-09T16:00:00",
          "2020-10-09T17:00:00",
          "2020-10-09T18:00:00",
          "2020-10-09T19:00:00",
          "2020-10-09T20:00:00",
          "2020-10-09T21:00:00",
          "2020-10-09T22:00:00",
          "2020-10-09T23:00:00",
          "2020-10-10T00:00:00",
          "2020-10-10T01:00:00",
          "2020-10-10T02:00:00",
          "2020-10-10T03:00:00",
          "2020-10-10T04:00:00",
          "2020-10-10T05:00:00",
          "2020-10-10T07:00:00",
          "2020-10-10T08:00:00",
          "2020-10-10T11:00:00",
          "2020-10-10T12:00:00",
          "2020-10-10T13:00:00",
          "2020-10-10T14:00:00",
          "2020-10-10T15:00:00",
          "2020-10-10T16:00:00",
          "2020-10-10T17:00:00",
          "2020-10-10T18:00:00",
          "2020-10-10T19:00:00",
          "2020-10-10T20:00:00",
          "2020-10-10T21:00:00",
          "2020-10-10T22:00:00",
          "2020-10-10T23:00:00",
          "2020-10-11T00:00:00",
          "2020-10-11T01:00:00",
          "2020-10-11T02:00:00",
          "2020-10-11T03:00:00",
          "2020-10-11T04:00:00",
          "2020-10-11T05:00:00",
          "2020-10-11T07:00:00",
          "2020-10-11T09:00:00",
          "2020-10-11T12:00:00",
          "2020-10-11T13:00:00",
          "2020-10-11T14:00:00",
          "2020-10-11T15:00:00",
          "2020-10-11T16:00:00",
          "2020-10-11T17:00:00",
          "2020-10-11T18:00:00",
          "2020-10-11T19:00:00",
          "2020-10-11T20:00:00",
          "2020-10-11T21:00:00",
          "2020-10-11T22:00:00",
          "2020-10-11T23:00:00",
          "2020-10-12T00:00:00",
          "2020-10-12T01:00:00",
          "2020-10-12T03:00:00",
          "2020-10-12T12:00:00",
          "2020-10-12T13:00:00",
          "2020-10-12T14:00:00",
          "2020-10-12T15:00:00",
          "2020-10-12T16:00:00",
          "2020-10-12T17:00:00",
          "2020-10-12T18:00:00",
          "2020-10-12T19:00:00",
          "2020-10-12T20:00:00",
          "2020-10-12T21:00:00",
          "2020-10-12T22:00:00",
          "2020-10-12T23:00:00",
          "2020-10-13T00:00:00"
         ],
         "xaxis": "x",
         "y": [
          0,
          -0.5596999224386362,
          0,
          0,
          0.6308687437409904,
          0,
          0,
          0,
          0,
          0,
          -0.72397770476846,
          0.9142622713490465,
          -1.0915746213942246,
          0.7791614829626906,
          -0.7213368784340659,
          0,
          0,
          0.6422688551088617,
          -0.7354947664428746,
          0,
          0,
          0,
          1.2403217193794924,
          1.5225195639199622,
          -1.2945030576899537,
          -1.4672824246530687,
          0,
          1.053989150768711,
          -1.0981182815696144,
          0,
          -0.5521326651831748,
          0,
          0.6276067121840267,
          -0.9812790123766817,
          0.6440507166050403,
          -0.711355521868245,
          0,
          0,
          0.6458494615795172,
          -0.7132734390881099,
          0,
          0,
          -0.5236049495292763,
          0,
          0,
          0,
          0,
          0,
          0,
          0,
          0,
          0,
          0.8380992906194173,
          0,
          -0.8373058833931315,
          0.5012371901108382,
          0,
          0.6858527411913232,
          -1.305576266445201,
          0,
          0,
          0,
          0,
          0,
          0,
          0,
          0.828664350410088,
          -1.093247915848318,
          0.5048424177732662,
          0.9525281084095981,
          -1.0604221514895154,
          1.1952256998215456,
          -0.6645106921681494,
          -0.9436525059379047,
          0.5169484694977814,
          0,
          0,
          0,
          0,
          0,
          0.529707884807842,
          0.8649522695043558,
          -0.667749272422675,
          1.3868012382678936,
          -1.1637154551443711,
          0.9635950989668403,
          0,
          1.6701326211224694,
          0,
          2.2249169038140044,
          2.818921061442781,
          0,
          -0.8178362307884658,
          -2.123849637305379,
          -2.0557720673013695,
          -0.6682025351634149,
          -1.804761841425169,
          -1.5297676826964979,
          0,
          0,
          0.7169421344467295,
          1.3195150439845273,
          2.836197243004205,
          0.7040231109660261,
          0.684371319732012,
          -2.0008374719350885,
          -1.6045057911261906,
          1.7320946377810598,
          0.9816952879642754,
          0,
          2.92060694377715,
          -3.0922634725673626,
          -1.5189186370905419,
          0,
          0.5343372881798065,
          -1.0738844477565663,
          0.9819607186195475,
          -1.5205996291760184,
          -1.0479772913635779,
          -1.1797591174012896,
          -0.664887394905181,
          0.52670136217309,
          0.8406382668398312,
          -1.0635111792309628,
          2.25955802169657,
          0.7104327830058265,
          1.0940709327529388,
          0.5484261952270008,
          -1.0605063602416323,
          -1.5239545960441387,
          0.9825451530346148,
          -1.1542641969622431,
          1.3983016066850527,
          0,
          -1.6397364767890068,
          1.4833409943168705,
          0.8767345303505928,
          0.7297412221804283,
          -1.7076516077060124,
          -1.058613023931592,
          -1.2760302341628205,
          0,
          0,
          0,
          0,
          0,
          1.6033666169680472,
          -1.0661064532668447,
          1.0945620609981948,
          0.5311664683491096,
          -1.6406597358007724,
          0.8628255454332515,
          0.536454218007802,
          0.8760607957596962,
          -1.0332013707534975,
          0.5627331243025613,
          0,
          -1.057542072567848,
          0.7097694191256628,
          1.3194142251987757,
          -1.4989590840309395,
          0,
          -0.6361068224277663,
          0,
          0,
          0,
          0,
          0,
          0.548721220362156,
          0.7295138729087634,
          0,
          -0.766493907617156,
          0,
          0,
          0,
          0,
          0,
          0,
          0,
          0,
          1.576540458077472,
          -1.2435184402883055,
          0.8817237944382103,
          1.4991720041897885,
          -1.1746075861010645,
          -0.6151859322772766,
          -0.9186466700073034,
          0,
          0.5858030028373693,
          2.2112954551637554,
          -1.5386571920012933,
          -1.1462600596567523,
          -1.1521064630094764
         ],
         "yaxis": "y2"
        }
       ],
       "layout": {
        "height": 600,
        "shapes": [
         {
          "fillcolor": "#e07070",
          "line": {
           "width": 0
          },
          "opacity": 0.4,
          "type": "rect",
          "x0": "2020-10-01T03:00:00",
          "x1": "2020-10-01T05:00:00",
          "xref": "x",
          "y0": 0,
          "y1": 1,
          "yref": "y domain"
         },
         {
          "fillcolor": "#e07070",
          "line": {
           "width": 0
          },
          "opacity": 0.4,
          "type": "rect",
          "x0": "2020-10-01T13:00:00",
          "x1": "2020-10-01T14:00:00",
          "xref": "x",
          "y0": 0,
          "y1": 1,
          "yref": "y domain"
         },
         {
          "fillcolor": "#e07070",
          "line": {
           "width": 0
          },
          "opacity": 0.4,
          "type": "rect",
          "x0": "2020-10-01T19:00:00",
          "x1": "2020-10-01T20:00:00",
          "xref": "x",
          "y0": 0,
          "y1": 1,
          "yref": "y domain"
         },
         {
          "fillcolor": "#e07070",
          "line": {
           "width": 0
          },
          "opacity": 0.4,
          "type": "rect",
          "x0": "2020-10-01T20:00:00",
          "x1": "2020-10-01T21:00:00",
          "xref": "x",
          "y0": 0,
          "y1": 1,
          "yref": "y domain"
         },
         {
          "fillcolor": "#e07070",
          "line": {
           "width": 0
          },
          "opacity": 0.4,
          "type": "rect",
          "x0": "2020-10-01T21:00:00",
          "x1": "2020-10-01T22:00:00",
          "xref": "x",
          "y0": 0,
          "y1": 1,
          "yref": "y domain"
         },
         {
          "fillcolor": "#e07070",
          "line": {
           "width": 0
          },
          "opacity": 0.4,
          "type": "rect",
          "x0": "2020-10-01T22:00:00",
          "x1": "2020-10-01T23:00:00",
          "xref": "x",
          "y0": 0,
          "y1": 1,
          "yref": "y domain"
         },
         {
          "fillcolor": "#e07070",
          "line": {
           "width": 0
          },
          "opacity": 0.4,
          "type": "rect",
          "x0": "2020-10-01T23:00:00",
          "x1": "2020-10-02T00:00:00",
          "xref": "x",
          "y0": 0,
          "y1": 1,
          "yref": "y domain"
         },
         {
          "fillcolor": "#e07070",
          "line": {
           "width": 0
          },
          "opacity": 0.4,
          "type": "rect",
          "x0": "2020-10-02T03:00:00",
          "x1": "2020-10-02T04:00:00",
          "xref": "x",
          "y0": 0,
          "y1": 1,
          "yref": "y domain"
         },
         {
          "fillcolor": "#e07070",
          "line": {
           "width": 0
          },
          "opacity": 0.4,
          "type": "rect",
          "x0": "2020-10-02T04:00:00",
          "x1": "2020-10-02T05:00:00",
          "xref": "x",
          "y0": 0,
          "y1": 1,
          "yref": "y domain"
         },
         {
          "fillcolor": "#e07070",
          "line": {
           "width": 0
          },
          "opacity": 0.4,
          "type": "rect",
          "x0": "2020-10-02T14:00:00",
          "x1": "2020-10-02T15:00:00",
          "xref": "x",
          "y0": 0,
          "y1": 1,
          "yref": "y domain"
         },
         {
          "fillcolor": "#e07070",
          "line": {
           "width": 0
          },
          "opacity": 0.4,
          "type": "rect",
          "x0": "2020-10-02T15:00:00",
          "x1": "2020-10-02T16:00:00",
          "xref": "x",
          "y0": 0,
          "y1": 1,
          "yref": "y domain"
         },
         {
          "fillcolor": "#e07070",
          "line": {
           "width": 0
          },
          "opacity": 0.4,
          "type": "rect",
          "x0": "2020-10-02T16:00:00",
          "x1": "2020-10-02T17:00:00",
          "xref": "x",
          "y0": 0,
          "y1": 1,
          "yref": "y domain"
         },
         {
          "fillcolor": "#e07070",
          "line": {
           "width": 0
          },
          "opacity": 0.4,
          "type": "rect",
          "x0": "2020-10-02T17:00:00",
          "x1": "2020-10-02T18:00:00",
          "xref": "x",
          "y0": 0,
          "y1": 1,
          "yref": "y domain"
         },
         {
          "fillcolor": "#e07070",
          "line": {
           "width": 0
          },
          "opacity": 0.4,
          "type": "rect",
          "x0": "2020-10-02T19:00:00",
          "x1": "2020-10-02T20:00:00",
          "xref": "x",
          "y0": 0,
          "y1": 1,
          "yref": "y domain"
         },
         {
          "fillcolor": "#e07070",
          "line": {
           "width": 0
          },
          "opacity": 0.4,
          "type": "rect",
          "x0": "2020-10-02T20:00:00",
          "x1": "2020-10-02T21:00:00",
          "xref": "x",
          "y0": 0,
          "y1": 1,
          "yref": "y domain"
         },
         {
          "fillcolor": "#e07070",
          "line": {
           "width": 0
          },
          "opacity": 0.4,
          "type": "rect",
          "x0": "2020-10-02T22:00:00",
          "x1": "2020-10-03T00:00:00",
          "xref": "x",
          "y0": 0,
          "y1": 1,
          "yref": "y domain"
         },
         {
          "fillcolor": "#e07070",
          "line": {
           "width": 0
          },
          "opacity": 0.4,
          "type": "rect",
          "x0": "2020-10-03T01:00:00",
          "x1": "2020-10-03T02:00:00",
          "xref": "x",
          "y0": 0,
          "y1": 1,
          "yref": "y domain"
         },
         {
          "fillcolor": "#e07070",
          "line": {
           "width": 0
          },
          "opacity": 0.4,
          "type": "rect",
          "x0": "2020-10-03T02:00:00",
          "x1": "2020-10-03T13:00:00",
          "xref": "x",
          "y0": 0,
          "y1": 1,
          "yref": "y domain"
         },
         {
          "fillcolor": "#e07070",
          "line": {
           "width": 0
          },
          "opacity": 0.4,
          "type": "rect",
          "x0": "2020-10-03T13:00:00",
          "x1": "2020-10-03T15:00:00",
          "xref": "x",
          "y0": 0,
          "y1": 1,
          "yref": "y domain"
         },
         {
          "fillcolor": "#e07070",
          "line": {
           "width": 0
          },
          "opacity": 0.4,
          "type": "rect",
          "x0": "2020-10-03T15:00:00",
          "x1": "2020-10-03T16:00:00",
          "xref": "x",
          "y0": 0,
          "y1": 1,
          "yref": "y domain"
         },
         {
          "fillcolor": "#e07070",
          "line": {
           "width": 0
          },
          "opacity": 0.4,
          "type": "rect",
          "x0": "2020-10-03T19:00:00",
          "x1": "2020-10-03T20:00:00",
          "xref": "x",
          "y0": 0,
          "y1": 1,
          "yref": "y domain"
         },
         {
          "fillcolor": "#e07070",
          "line": {
           "width": 0
          },
          "opacity": 0.4,
          "type": "rect",
          "x0": "2020-10-03T20:00:00",
          "x1": "2020-10-03T21:00:00",
          "xref": "x",
          "y0": 0,
          "y1": 1,
          "yref": "y domain"
         },
         {
          "fillcolor": "#e07070",
          "line": {
           "width": 0
          },
          "opacity": 0.4,
          "type": "rect",
          "x0": "2020-10-04T12:00:00",
          "x1": "2020-10-04T13:00:00",
          "xref": "x",
          "y0": 0,
          "y1": 1,
          "yref": "y domain"
         },
         {
          "fillcolor": "#e07070",
          "line": {
           "width": 0
          },
          "opacity": 0.4,
          "type": "rect",
          "x0": "2020-10-05T15:00:00",
          "x1": "2020-10-05T16:00:00",
          "xref": "x",
          "y0": 0,
          "y1": 1,
          "yref": "y domain"
         },
         {
          "fillcolor": "#e07070",
          "line": {
           "width": 0
          },
          "opacity": 0.4,
          "type": "rect",
          "x0": "2020-10-05T17:00:00",
          "x1": "2020-10-05T18:00:00",
          "xref": "x",
          "y0": 0,
          "y1": 1,
          "yref": "y domain"
         },
         {
          "fillcolor": "#e07070",
          "line": {
           "width": 0
          },
          "opacity": 0.4,
          "type": "rect",
          "x0": "2020-10-05T18:00:00",
          "x1": "2020-10-05T19:00:00",
          "xref": "x",
          "y0": 0,
          "y1": 1,
          "yref": "y domain"
         },
         {
          "fillcolor": "#e07070",
          "line": {
           "width": 0
          },
          "opacity": 0.4,
          "type": "rect",
          "x0": "2020-10-05T20:00:00",
          "x1": "2020-10-05T22:00:00",
          "xref": "x",
          "y0": 0,
          "y1": 1,
          "yref": "y domain"
         },
         {
          "fillcolor": "#e07070",
          "line": {
           "width": 0
          },
          "opacity": 0.4,
          "type": "rect",
          "x0": "2020-10-05T22:00:00",
          "x1": "2020-10-05T23:00:00",
          "xref": "x",
          "y0": 0,
          "y1": 1,
          "yref": "y domain"
         },
         {
          "fillcolor": "#e07070",
          "line": {
           "width": 0
          },
          "opacity": 0.4,
          "type": "rect",
          "x0": "2020-10-06T16:00:00",
          "x1": "2020-10-06T17:00:00",
          "xref": "x",
          "y0": 0,
          "y1": 1,
          "yref": "y domain"
         },
         {
          "fillcolor": "#e07070",
          "line": {
           "width": 0
          },
          "opacity": 0.4,
          "type": "rect",
          "x0": "2020-10-06T17:00:00",
          "x1": "2020-10-06T18:00:00",
          "xref": "x",
          "y0": 0,
          "y1": 1,
          "yref": "y domain"
         },
         {
          "fillcolor": "#e07070",
          "line": {
           "width": 0
          },
          "opacity": 0.4,
          "type": "rect",
          "x0": "2020-10-06T18:00:00",
          "x1": "2020-10-06T19:00:00",
          "xref": "x",
          "y0": 0,
          "y1": 1,
          "yref": "y domain"
         },
         {
          "fillcolor": "#e07070",
          "line": {
           "width": 0
          },
          "opacity": 0.4,
          "type": "rect",
          "x0": "2020-10-06T19:00:00",
          "x1": "2020-10-06T20:00:00",
          "xref": "x",
          "y0": 0,
          "y1": 1,
          "yref": "y domain"
         },
         {
          "fillcolor": "#e07070",
          "line": {
           "width": 0
          },
          "opacity": 0.4,
          "type": "rect",
          "x0": "2020-10-06T20:00:00",
          "x1": "2020-10-06T21:00:00",
          "xref": "x",
          "y0": 0,
          "y1": 1,
          "yref": "y domain"
         },
         {
          "fillcolor": "#e07070",
          "line": {
           "width": 0
          },
          "opacity": 0.4,
          "type": "rect",
          "x0": "2020-10-06T21:00:00",
          "x1": "2020-10-06T22:00:00",
          "xref": "x",
          "y0": 0,
          "y1": 1,
          "yref": "y domain"
         },
         {
          "fillcolor": "#e07070",
          "line": {
           "width": 0
          },
          "opacity": 0.4,
          "type": "rect",
          "x0": "2020-10-06T22:00:00",
          "x1": "2020-10-06T23:00:00",
          "xref": "x",
          "y0": 0,
          "y1": 1,
          "yref": "y domain"
         },
         {
          "fillcolor": "#e07070",
          "line": {
           "width": 0
          },
          "opacity": 0.4,
          "type": "rect",
          "x0": "2020-10-06T23:00:00",
          "x1": "2020-10-07T00:00:00",
          "xref": "x",
          "y0": 0,
          "y1": 1,
          "yref": "y domain"
         },
         {
          "fillcolor": "#e07070",
          "line": {
           "width": 0
          },
          "opacity": 0.4,
          "type": "rect",
          "x0": "2020-10-07T00:00:00",
          "x1": "2020-10-07T01:00:00",
          "xref": "x",
          "y0": 0,
          "y1": 1,
          "yref": "y domain"
         },
         {
          "fillcolor": "#e07070",
          "line": {
           "width": 0
          },
          "opacity": 0.4,
          "type": "rect",
          "x0": "2020-10-07T14:00:00",
          "x1": "2020-10-07T15:00:00",
          "xref": "x",
          "y0": 0,
          "y1": 1,
          "yref": "y domain"
         },
         {
          "fillcolor": "#e07070",
          "line": {
           "width": 0
          },
          "opacity": 0.4,
          "type": "rect",
          "x0": "2020-10-07T15:00:00",
          "x1": "2020-10-07T16:00:00",
          "xref": "x",
          "y0": 0,
          "y1": 1,
          "yref": "y domain"
         },
         {
          "fillcolor": "#e07070",
          "line": {
           "width": 0
          },
          "opacity": 0.4,
          "type": "rect",
          "x0": "2020-10-07T16:00:00",
          "x1": "2020-10-07T17:00:00",
          "xref": "x",
          "y0": 0,
          "y1": 1,
          "yref": "y domain"
         },
         {
          "fillcolor": "#e07070",
          "line": {
           "width": 0
          },
          "opacity": 0.4,
          "type": "rect",
          "x0": "2020-10-07T17:00:00",
          "x1": "2020-10-07T18:00:00",
          "xref": "x",
          "y0": 0,
          "y1": 1,
          "yref": "y domain"
         },
         {
          "fillcolor": "#e07070",
          "line": {
           "width": 0
          },
          "opacity": 0.4,
          "type": "rect",
          "x0": "2020-10-07T18:00:00",
          "x1": "2020-10-07T19:00:00",
          "xref": "x",
          "y0": 0,
          "y1": 1,
          "yref": "y domain"
         },
         {
          "fillcolor": "#e07070",
          "line": {
           "width": 0
          },
          "opacity": 0.4,
          "type": "rect",
          "x0": "2020-10-07T19:00:00",
          "x1": "2020-10-07T20:00:00",
          "xref": "x",
          "y0": 0,
          "y1": 1,
          "yref": "y domain"
         },
         {
          "fillcolor": "#e07070",
          "line": {
           "width": 0
          },
          "opacity": 0.4,
          "type": "rect",
          "x0": "2020-10-07T21:00:00",
          "x1": "2020-10-07T22:00:00",
          "xref": "x",
          "y0": 0,
          "y1": 1,
          "yref": "y domain"
         },
         {
          "fillcolor": "#e07070",
          "line": {
           "width": 0
          },
          "opacity": 0.4,
          "type": "rect",
          "x0": "2020-10-07T23:00:00",
          "x1": "2020-10-08T00:00:00",
          "xref": "x",
          "y0": 0,
          "y1": 1,
          "yref": "y domain"
         },
         {
          "fillcolor": "#e07070",
          "line": {
           "width": 0
          },
          "opacity": 0.4,
          "type": "rect",
          "x0": "2020-10-08T00:00:00",
          "x1": "2020-10-08T01:00:00",
          "xref": "x",
          "y0": 0,
          "y1": 1,
          "yref": "y domain"
         },
         {
          "fillcolor": "#e07070",
          "line": {
           "width": 0
          },
          "opacity": 0.4,
          "type": "rect",
          "x0": "2020-10-08T02:00:00",
          "x1": "2020-10-08T03:00:00",
          "xref": "x",
          "y0": 0,
          "y1": 1,
          "yref": "y domain"
         },
         {
          "fillcolor": "#e07070",
          "line": {
           "width": 0
          },
          "opacity": 0.4,
          "type": "rect",
          "x0": "2020-10-08T03:00:00",
          "x1": "2020-10-08T04:00:00",
          "xref": "x",
          "y0": 0,
          "y1": 1,
          "yref": "y domain"
         },
         {
          "fillcolor": "#e07070",
          "line": {
           "width": 0
          },
          "opacity": 0.4,
          "type": "rect",
          "x0": "2020-10-08T04:00:00",
          "x1": "2020-10-08T05:00:00",
          "xref": "x",
          "y0": 0,
          "y1": 1,
          "yref": "y domain"
         },
         {
          "fillcolor": "#e07070",
          "line": {
           "width": 0
          },
          "opacity": 0.4,
          "type": "rect",
          "x0": "2020-10-08T05:00:00",
          "x1": "2020-10-08T06:00:00",
          "xref": "x",
          "y0": 0,
          "y1": 1,
          "yref": "y domain"
         },
         {
          "fillcolor": "#e07070",
          "line": {
           "width": 0
          },
          "opacity": 0.4,
          "type": "rect",
          "x0": "2020-10-08T06:00:00",
          "x1": "2020-10-08T07:00:00",
          "xref": "x",
          "y0": 0,
          "y1": 1,
          "yref": "y domain"
         },
         {
          "fillcolor": "#e07070",
          "line": {
           "width": 0
          },
          "opacity": 0.4,
          "type": "rect",
          "x0": "2020-10-08T07:00:00",
          "x1": "2020-10-08T08:00:00",
          "xref": "x",
          "y0": 0,
          "y1": 1,
          "yref": "y domain"
         },
         {
          "fillcolor": "#e07070",
          "line": {
           "width": 0
          },
          "opacity": 0.4,
          "type": "rect",
          "x0": "2020-10-08T10:00:00",
          "x1": "2020-10-08T11:00:00",
          "xref": "x",
          "y0": 0,
          "y1": 1,
          "yref": "y domain"
         },
         {
          "fillcolor": "#e07070",
          "line": {
           "width": 0
          },
          "opacity": 0.4,
          "type": "rect",
          "x0": "2020-10-08T11:00:00",
          "x1": "2020-10-08T12:00:00",
          "xref": "x",
          "y0": 0,
          "y1": 1,
          "yref": "y domain"
         },
         {
          "fillcolor": "#e07070",
          "line": {
           "width": 0
          },
          "opacity": 0.4,
          "type": "rect",
          "x0": "2020-10-08T12:00:00",
          "x1": "2020-10-08T13:00:00",
          "xref": "x",
          "y0": 0,
          "y1": 1,
          "yref": "y domain"
         },
         {
          "fillcolor": "#e07070",
          "line": {
           "width": 0
          },
          "opacity": 0.4,
          "type": "rect",
          "x0": "2020-10-08T13:00:00",
          "x1": "2020-10-08T14:00:00",
          "xref": "x",
          "y0": 0,
          "y1": 1,
          "yref": "y domain"
         },
         {
          "fillcolor": "#e07070",
          "line": {
           "width": 0
          },
          "opacity": 0.4,
          "type": "rect",
          "x0": "2020-10-08T14:00:00",
          "x1": "2020-10-08T15:00:00",
          "xref": "x",
          "y0": 0,
          "y1": 1,
          "yref": "y domain"
         },
         {
          "fillcolor": "#e07070",
          "line": {
           "width": 0
          },
          "opacity": 0.4,
          "type": "rect",
          "x0": "2020-10-08T15:00:00",
          "x1": "2020-10-08T16:00:00",
          "xref": "x",
          "y0": 0,
          "y1": 1,
          "yref": "y domain"
         },
         {
          "fillcolor": "#e07070",
          "line": {
           "width": 0
          },
          "opacity": 0.4,
          "type": "rect",
          "x0": "2020-10-08T16:00:00",
          "x1": "2020-10-08T17:00:00",
          "xref": "x",
          "y0": 0,
          "y1": 1,
          "yref": "y domain"
         },
         {
          "fillcolor": "#e07070",
          "line": {
           "width": 0
          },
          "opacity": 0.4,
          "type": "rect",
          "x0": "2020-10-08T17:00:00",
          "x1": "2020-10-08T18:00:00",
          "xref": "x",
          "y0": 0,
          "y1": 1,
          "yref": "y domain"
         },
         {
          "fillcolor": "#e07070",
          "line": {
           "width": 0
          },
          "opacity": 0.4,
          "type": "rect",
          "x0": "2020-10-08T18:00:00",
          "x1": "2020-10-08T19:00:00",
          "xref": "x",
          "y0": 0,
          "y1": 1,
          "yref": "y domain"
         },
         {
          "fillcolor": "#e07070",
          "line": {
           "width": 0
          },
          "opacity": 0.4,
          "type": "rect",
          "x0": "2020-10-08T20:00:00",
          "x1": "2020-10-08T21:00:00",
          "xref": "x",
          "y0": 0,
          "y1": 1,
          "yref": "y domain"
         },
         {
          "fillcolor": "#e07070",
          "line": {
           "width": 0
          },
          "opacity": 0.4,
          "type": "rect",
          "x0": "2020-10-08T21:00:00",
          "x1": "2020-10-08T22:00:00",
          "xref": "x",
          "y0": 0,
          "y1": 1,
          "yref": "y domain"
         },
         {
          "fillcolor": "#e07070",
          "line": {
           "width": 0
          },
          "opacity": 0.4,
          "type": "rect",
          "x0": "2020-10-08T22:00:00",
          "x1": "2020-10-08T23:00:00",
          "xref": "x",
          "y0": 0,
          "y1": 1,
          "yref": "y domain"
         },
         {
          "fillcolor": "#e07070",
          "line": {
           "width": 0
          },
          "opacity": 0.4,
          "type": "rect",
          "x0": "2020-10-09T00:00:00",
          "x1": "2020-10-09T01:00:00",
          "xref": "x",
          "y0": 0,
          "y1": 1,
          "yref": "y domain"
         },
         {
          "fillcolor": "#e07070",
          "line": {
           "width": 0
          },
          "opacity": 0.4,
          "type": "rect",
          "x0": "2020-10-09T01:00:00",
          "x1": "2020-10-09T02:00:00",
          "xref": "x",
          "y0": 0,
          "y1": 1,
          "yref": "y domain"
         },
         {
          "fillcolor": "#e07070",
          "line": {
           "width": 0
          },
          "opacity": 0.4,
          "type": "rect",
          "x0": "2020-10-09T02:00:00",
          "x1": "2020-10-09T03:00:00",
          "xref": "x",
          "y0": 0,
          "y1": 1,
          "yref": "y domain"
         },
         {
          "fillcolor": "#e07070",
          "line": {
           "width": 0
          },
          "opacity": 0.4,
          "type": "rect",
          "x0": "2020-10-09T03:00:00",
          "x1": "2020-10-09T04:00:00",
          "xref": "x",
          "y0": 0,
          "y1": 1,
          "yref": "y domain"
         },
         {
          "fillcolor": "#e07070",
          "line": {
           "width": 0
          },
          "opacity": 0.4,
          "type": "rect",
          "x0": "2020-10-09T04:00:00",
          "x1": "2020-10-09T05:00:00",
          "xref": "x",
          "y0": 0,
          "y1": 1,
          "yref": "y domain"
         },
         {
          "fillcolor": "#e07070",
          "line": {
           "width": 0
          },
          "opacity": 0.4,
          "type": "rect",
          "x0": "2020-10-09T05:00:00",
          "x1": "2020-10-09T06:00:00",
          "xref": "x",
          "y0": 0,
          "y1": 1,
          "yref": "y domain"
         },
         {
          "fillcolor": "#e07070",
          "line": {
           "width": 0
          },
          "opacity": 0.4,
          "type": "rect",
          "x0": "2020-10-09T06:00:00",
          "x1": "2020-10-09T09:00:00",
          "xref": "x",
          "y0": 0,
          "y1": 1,
          "yref": "y domain"
         },
         {
          "fillcolor": "#e07070",
          "line": {
           "width": 0
          },
          "opacity": 0.4,
          "type": "rect",
          "x0": "2020-10-09T09:00:00",
          "x1": "2020-10-09T10:00:00",
          "xref": "x",
          "y0": 0,
          "y1": 1,
          "yref": "y domain"
         },
         {
          "fillcolor": "#e07070",
          "line": {
           "width": 0
          },
          "opacity": 0.4,
          "type": "rect",
          "x0": "2020-10-09T10:00:00",
          "x1": "2020-10-09T11:00:00",
          "xref": "x",
          "y0": 0,
          "y1": 1,
          "yref": "y domain"
         },
         {
          "fillcolor": "#e07070",
          "line": {
           "width": 0
          },
          "opacity": 0.4,
          "type": "rect",
          "x0": "2020-10-09T11:00:00",
          "x1": "2020-10-09T12:00:00",
          "xref": "x",
          "y0": 0,
          "y1": 1,
          "yref": "y domain"
         },
         {
          "fillcolor": "#e07070",
          "line": {
           "width": 0
          },
          "opacity": 0.4,
          "type": "rect",
          "x0": "2020-10-09T12:00:00",
          "x1": "2020-10-09T13:00:00",
          "xref": "x",
          "y0": 0,
          "y1": 1,
          "yref": "y domain"
         },
         {
          "fillcolor": "#e07070",
          "line": {
           "width": 0
          },
          "opacity": 0.4,
          "type": "rect",
          "x0": "2020-10-09T13:00:00",
          "x1": "2020-10-09T14:00:00",
          "xref": "x",
          "y0": 0,
          "y1": 1,
          "yref": "y domain"
         },
         {
          "fillcolor": "#e07070",
          "line": {
           "width": 0
          },
          "opacity": 0.4,
          "type": "rect",
          "x0": "2020-10-09T14:00:00",
          "x1": "2020-10-09T15:00:00",
          "xref": "x",
          "y0": 0,
          "y1": 1,
          "yref": "y domain"
         },
         {
          "fillcolor": "#e07070",
          "line": {
           "width": 0
          },
          "opacity": 0.4,
          "type": "rect",
          "x0": "2020-10-09T15:00:00",
          "x1": "2020-10-09T16:00:00",
          "xref": "x",
          "y0": 0,
          "y1": 1,
          "yref": "y domain"
         },
         {
          "fillcolor": "#e07070",
          "line": {
           "width": 0
          },
          "opacity": 0.4,
          "type": "rect",
          "x0": "2020-10-09T16:00:00",
          "x1": "2020-10-09T17:00:00",
          "xref": "x",
          "y0": 0,
          "y1": 1,
          "yref": "y domain"
         },
         {
          "fillcolor": "#e07070",
          "line": {
           "width": 0
          },
          "opacity": 0.4,
          "type": "rect",
          "x0": "2020-10-09T17:00:00",
          "x1": "2020-10-09T18:00:00",
          "xref": "x",
          "y0": 0,
          "y1": 1,
          "yref": "y domain"
         },
         {
          "fillcolor": "#e07070",
          "line": {
           "width": 0
          },
          "opacity": 0.4,
          "type": "rect",
          "x0": "2020-10-09T18:00:00",
          "x1": "2020-10-09T19:00:00",
          "xref": "x",
          "y0": 0,
          "y1": 1,
          "yref": "y domain"
         },
         {
          "fillcolor": "#e07070",
          "line": {
           "width": 0
          },
          "opacity": 0.4,
          "type": "rect",
          "x0": "2020-10-09T19:00:00",
          "x1": "2020-10-09T20:00:00",
          "xref": "x",
          "y0": 0,
          "y1": 1,
          "yref": "y domain"
         },
         {
          "fillcolor": "#e07070",
          "line": {
           "width": 0
          },
          "opacity": 0.4,
          "type": "rect",
          "x0": "2020-10-09T20:00:00",
          "x1": "2020-10-09T21:00:00",
          "xref": "x",
          "y0": 0,
          "y1": 1,
          "yref": "y domain"
         },
         {
          "fillcolor": "#e07070",
          "line": {
           "width": 0
          },
          "opacity": 0.4,
          "type": "rect",
          "x0": "2020-10-09T22:00:00",
          "x1": "2020-10-09T23:00:00",
          "xref": "x",
          "y0": 0,
          "y1": 1,
          "yref": "y domain"
         },
         {
          "fillcolor": "#e07070",
          "line": {
           "width": 0
          },
          "opacity": 0.4,
          "type": "rect",
          "x0": "2020-10-09T23:00:00",
          "x1": "2020-10-10T00:00:00",
          "xref": "x",
          "y0": 0,
          "y1": 1,
          "yref": "y domain"
         },
         {
          "fillcolor": "#e07070",
          "line": {
           "width": 0
          },
          "opacity": 0.4,
          "type": "rect",
          "x0": "2020-10-10T00:00:00",
          "x1": "2020-10-10T01:00:00",
          "xref": "x",
          "y0": 0,
          "y1": 1,
          "yref": "y domain"
         },
         {
          "fillcolor": "#e07070",
          "line": {
           "width": 0
          },
          "opacity": 0.4,
          "type": "rect",
          "x0": "2020-10-10T01:00:00",
          "x1": "2020-10-10T02:00:00",
          "xref": "x",
          "y0": 0,
          "y1": 1,
          "yref": "y domain"
         },
         {
          "fillcolor": "#e07070",
          "line": {
           "width": 0
          },
          "opacity": 0.4,
          "type": "rect",
          "x0": "2020-10-10T02:00:00",
          "x1": "2020-10-10T03:00:00",
          "xref": "x",
          "y0": 0,
          "y1": 1,
          "yref": "y domain"
         },
         {
          "fillcolor": "#e07070",
          "line": {
           "width": 0
          },
          "opacity": 0.4,
          "type": "rect",
          "x0": "2020-10-10T03:00:00",
          "x1": "2020-10-10T04:00:00",
          "xref": "x",
          "y0": 0,
          "y1": 1,
          "yref": "y domain"
         },
         {
          "fillcolor": "#e07070",
          "line": {
           "width": 0
          },
          "opacity": 0.4,
          "type": "rect",
          "x0": "2020-10-10T04:00:00",
          "x1": "2020-10-10T05:00:00",
          "xref": "x",
          "y0": 0,
          "y1": 1,
          "yref": "y domain"
         },
         {
          "fillcolor": "#e07070",
          "line": {
           "width": 0
          },
          "opacity": 0.4,
          "type": "rect",
          "x0": "2020-10-10T13:00:00",
          "x1": "2020-10-10T14:00:00",
          "xref": "x",
          "y0": 0,
          "y1": 1,
          "yref": "y domain"
         },
         {
          "fillcolor": "#e07070",
          "line": {
           "width": 0
          },
          "opacity": 0.4,
          "type": "rect",
          "x0": "2020-10-10T14:00:00",
          "x1": "2020-10-10T15:00:00",
          "xref": "x",
          "y0": 0,
          "y1": 1,
          "yref": "y domain"
         },
         {
          "fillcolor": "#e07070",
          "line": {
           "width": 0
          },
          "opacity": 0.4,
          "type": "rect",
          "x0": "2020-10-10T15:00:00",
          "x1": "2020-10-10T16:00:00",
          "xref": "x",
          "y0": 0,
          "y1": 1,
          "yref": "y domain"
         },
         {
          "fillcolor": "#e07070",
          "line": {
           "width": 0
          },
          "opacity": 0.4,
          "type": "rect",
          "x0": "2020-10-10T16:00:00",
          "x1": "2020-10-10T17:00:00",
          "xref": "x",
          "y0": 0,
          "y1": 1,
          "yref": "y domain"
         },
         {
          "fillcolor": "#e07070",
          "line": {
           "width": 0
          },
          "opacity": 0.4,
          "type": "rect",
          "x0": "2020-10-10T17:00:00",
          "x1": "2020-10-10T18:00:00",
          "xref": "x",
          "y0": 0,
          "y1": 1,
          "yref": "y domain"
         },
         {
          "fillcolor": "#e07070",
          "line": {
           "width": 0
          },
          "opacity": 0.4,
          "type": "rect",
          "x0": "2020-10-10T18:00:00",
          "x1": "2020-10-10T19:00:00",
          "xref": "x",
          "y0": 0,
          "y1": 1,
          "yref": "y domain"
         },
         {
          "fillcolor": "#e07070",
          "line": {
           "width": 0
          },
          "opacity": 0.4,
          "type": "rect",
          "x0": "2020-10-10T19:00:00",
          "x1": "2020-10-10T20:00:00",
          "xref": "x",
          "y0": 0,
          "y1": 1,
          "yref": "y domain"
         },
         {
          "fillcolor": "#e07070",
          "line": {
           "width": 0
          },
          "opacity": 0.4,
          "type": "rect",
          "x0": "2020-10-10T20:00:00",
          "x1": "2020-10-10T21:00:00",
          "xref": "x",
          "y0": 0,
          "y1": 1,
          "yref": "y domain"
         },
         {
          "fillcolor": "#e07070",
          "line": {
           "width": 0
          },
          "opacity": 0.4,
          "type": "rect",
          "x0": "2020-10-10T21:00:00",
          "x1": "2020-10-10T22:00:00",
          "xref": "x",
          "y0": 0,
          "y1": 1,
          "yref": "y domain"
         },
         {
          "fillcolor": "#e07070",
          "line": {
           "width": 0
          },
          "opacity": 0.4,
          "type": "rect",
          "x0": "2020-10-10T22:00:00",
          "x1": "2020-10-10T23:00:00",
          "xref": "x",
          "y0": 0,
          "y1": 1,
          "yref": "y domain"
         },
         {
          "fillcolor": "#e07070",
          "line": {
           "width": 0
          },
          "opacity": 0.4,
          "type": "rect",
          "x0": "2020-10-11T00:00:00",
          "x1": "2020-10-11T01:00:00",
          "xref": "x",
          "y0": 0,
          "y1": 1,
          "yref": "y domain"
         },
         {
          "fillcolor": "#e07070",
          "line": {
           "width": 0
          },
          "opacity": 0.4,
          "type": "rect",
          "x0": "2020-10-11T01:00:00",
          "x1": "2020-10-11T02:00:00",
          "xref": "x",
          "y0": 0,
          "y1": 1,
          "yref": "y domain"
         },
         {
          "fillcolor": "#e07070",
          "line": {
           "width": 0
          },
          "opacity": 0.4,
          "type": "rect",
          "x0": "2020-10-11T02:00:00",
          "x1": "2020-10-11T03:00:00",
          "xref": "x",
          "y0": 0,
          "y1": 1,
          "yref": "y domain"
         },
         {
          "fillcolor": "#e07070",
          "line": {
           "width": 0
          },
          "opacity": 0.4,
          "type": "rect",
          "x0": "2020-10-11T03:00:00",
          "x1": "2020-10-11T04:00:00",
          "xref": "x",
          "y0": 0,
          "y1": 1,
          "yref": "y domain"
         },
         {
          "fillcolor": "#e07070",
          "line": {
           "width": 0
          },
          "opacity": 0.4,
          "type": "rect",
          "x0": "2020-10-11T05:00:00",
          "x1": "2020-10-11T07:00:00",
          "xref": "x",
          "y0": 0,
          "y1": 1,
          "yref": "y domain"
         },
         {
          "fillcolor": "#e07070",
          "line": {
           "width": 0
          },
          "opacity": 0.4,
          "type": "rect",
          "x0": "2020-10-11T15:00:00",
          "x1": "2020-10-11T16:00:00",
          "xref": "x",
          "y0": 0,
          "y1": 1,
          "yref": "y domain"
         },
         {
          "fillcolor": "#e07070",
          "line": {
           "width": 0
          },
          "opacity": 0.4,
          "type": "rect",
          "x0": "2020-10-11T16:00:00",
          "x1": "2020-10-11T17:00:00",
          "xref": "x",
          "y0": 0,
          "y1": 1,
          "yref": "y domain"
         },
         {
          "fillcolor": "#e07070",
          "line": {
           "width": 0
          },
          "opacity": 0.4,
          "type": "rect",
          "x0": "2020-10-11T18:00:00",
          "x1": "2020-10-11T19:00:00",
          "xref": "x",
          "y0": 0,
          "y1": 1,
          "yref": "y domain"
         },
         {
          "fillcolor": "#e07070",
          "line": {
           "width": 0
          },
          "opacity": 0.4,
          "type": "rect",
          "x0": "2020-10-12T12:00:00",
          "x1": "2020-10-12T13:00:00",
          "xref": "x",
          "y0": 0,
          "y1": 1,
          "yref": "y domain"
         },
         {
          "fillcolor": "#e07070",
          "line": {
           "width": 0
          },
          "opacity": 0.4,
          "type": "rect",
          "x0": "2020-10-12T13:00:00",
          "x1": "2020-10-12T14:00:00",
          "xref": "x",
          "y0": 0,
          "y1": 1,
          "yref": "y domain"
         },
         {
          "fillcolor": "#e07070",
          "line": {
           "width": 0
          },
          "opacity": 0.4,
          "type": "rect",
          "x0": "2020-10-12T14:00:00",
          "x1": "2020-10-12T15:00:00",
          "xref": "x",
          "y0": 0,
          "y1": 1,
          "yref": "y domain"
         },
         {
          "fillcolor": "#e07070",
          "line": {
           "width": 0
          },
          "opacity": 0.4,
          "type": "rect",
          "x0": "2020-10-12T15:00:00",
          "x1": "2020-10-12T16:00:00",
          "xref": "x",
          "y0": 0,
          "y1": 1,
          "yref": "y domain"
         },
         {
          "fillcolor": "#e07070",
          "line": {
           "width": 0
          },
          "opacity": 0.4,
          "type": "rect",
          "x0": "2020-10-12T16:00:00",
          "x1": "2020-10-12T17:00:00",
          "xref": "x",
          "y0": 0,
          "y1": 1,
          "yref": "y domain"
         },
         {
          "fillcolor": "#e07070",
          "line": {
           "width": 0
          },
          "opacity": 0.4,
          "type": "rect",
          "x0": "2020-10-12T17:00:00",
          "x1": "2020-10-12T18:00:00",
          "xref": "x",
          "y0": 0,
          "y1": 1,
          "yref": "y domain"
         },
         {
          "fillcolor": "#e07070",
          "line": {
           "width": 0
          },
          "opacity": 0.4,
          "type": "rect",
          "x0": "2020-10-12T18:00:00",
          "x1": "2020-10-12T19:00:00",
          "xref": "x",
          "y0": 0,
          "y1": 1,
          "yref": "y domain"
         },
         {
          "fillcolor": "#e07070",
          "line": {
           "width": 0
          },
          "opacity": 0.4,
          "type": "rect",
          "x0": "2020-10-12T20:00:00",
          "x1": "2020-10-12T21:00:00",
          "xref": "x",
          "y0": 0,
          "y1": 1,
          "yref": "y domain"
         },
         {
          "fillcolor": "#e07070",
          "line": {
           "width": 0
          },
          "opacity": 0.4,
          "type": "rect",
          "x0": "2020-10-12T21:00:00",
          "x1": "2020-10-12T22:00:00",
          "xref": "x",
          "y0": 0,
          "y1": 1,
          "yref": "y domain"
         },
         {
          "fillcolor": "#e07070",
          "line": {
           "width": 0
          },
          "opacity": 0.4,
          "type": "rect",
          "x0": "2020-10-12T22:00:00",
          "x1": "2020-10-12T23:00:00",
          "xref": "x",
          "y0": 0,
          "y1": 1,
          "yref": "y domain"
         },
         {
          "fillcolor": "#e07070",
          "line": {
           "width": 0
          },
          "opacity": 0.4,
          "type": "rect",
          "x0": "2020-10-12T23:00:00",
          "x1": "2020-10-13T00:00:00",
          "xref": "x",
          "y0": 0,
          "y1": 1,
          "yref": "y domain"
         },
         {
          "fillcolor": "#e07070",
          "line": {
           "width": 0
          },
          "opacity": 0.4,
          "type": "rect",
          "x0": "2020-10-13T00:00:00",
          "x1": "2020-10-13T00:00:00",
          "xref": "x",
          "y0": 0,
          "y1": 1,
          "yref": "y domain"
         }
        ],
        "showlegend": true,
        "template": {
         "data": {
          "bar": [
           {
            "error_x": {
             "color": "#2a3f5f"
            },
            "error_y": {
             "color": "#2a3f5f"
            },
            "marker": {
             "line": {
              "color": "#E5ECF6",
              "width": 0.5
             },
             "pattern": {
              "fillmode": "overlay",
              "size": 10,
              "solidity": 0.2
             }
            },
            "type": "bar"
           }
          ],
          "barpolar": [
           {
            "marker": {
             "line": {
              "color": "#E5ECF6",
              "width": 0.5
             },
             "pattern": {
              "fillmode": "overlay",
              "size": 10,
              "solidity": 0.2
             }
            },
            "type": "barpolar"
           }
          ],
          "carpet": [
           {
            "aaxis": {
             "endlinecolor": "#2a3f5f",
             "gridcolor": "white",
             "linecolor": "white",
             "minorgridcolor": "white",
             "startlinecolor": "#2a3f5f"
            },
            "baxis": {
             "endlinecolor": "#2a3f5f",
             "gridcolor": "white",
             "linecolor": "white",
             "minorgridcolor": "white",
             "startlinecolor": "#2a3f5f"
            },
            "type": "carpet"
           }
          ],
          "choropleth": [
           {
            "colorbar": {
             "outlinewidth": 0,
             "ticks": ""
            },
            "type": "choropleth"
           }
          ],
          "contour": [
           {
            "colorbar": {
             "outlinewidth": 0,
             "ticks": ""
            },
            "colorscale": [
             [
              0,
              "#0d0887"
             ],
             [
              0.1111111111111111,
              "#46039f"
             ],
             [
              0.2222222222222222,
              "#7201a8"
             ],
             [
              0.3333333333333333,
              "#9c179e"
             ],
             [
              0.4444444444444444,
              "#bd3786"
             ],
             [
              0.5555555555555556,
              "#d8576b"
             ],
             [
              0.6666666666666666,
              "#ed7953"
             ],
             [
              0.7777777777777778,
              "#fb9f3a"
             ],
             [
              0.8888888888888888,
              "#fdca26"
             ],
             [
              1,
              "#f0f921"
             ]
            ],
            "type": "contour"
           }
          ],
          "contourcarpet": [
           {
            "colorbar": {
             "outlinewidth": 0,
             "ticks": ""
            },
            "type": "contourcarpet"
           }
          ],
          "heatmap": [
           {
            "colorbar": {
             "outlinewidth": 0,
             "ticks": ""
            },
            "colorscale": [
             [
              0,
              "#0d0887"
             ],
             [
              0.1111111111111111,
              "#46039f"
             ],
             [
              0.2222222222222222,
              "#7201a8"
             ],
             [
              0.3333333333333333,
              "#9c179e"
             ],
             [
              0.4444444444444444,
              "#bd3786"
             ],
             [
              0.5555555555555556,
              "#d8576b"
             ],
             [
              0.6666666666666666,
              "#ed7953"
             ],
             [
              0.7777777777777778,
              "#fb9f3a"
             ],
             [
              0.8888888888888888,
              "#fdca26"
             ],
             [
              1,
              "#f0f921"
             ]
            ],
            "type": "heatmap"
           }
          ],
          "heatmapgl": [
           {
            "colorbar": {
             "outlinewidth": 0,
             "ticks": ""
            },
            "colorscale": [
             [
              0,
              "#0d0887"
             ],
             [
              0.1111111111111111,
              "#46039f"
             ],
             [
              0.2222222222222222,
              "#7201a8"
             ],
             [
              0.3333333333333333,
              "#9c179e"
             ],
             [
              0.4444444444444444,
              "#bd3786"
             ],
             [
              0.5555555555555556,
              "#d8576b"
             ],
             [
              0.6666666666666666,
              "#ed7953"
             ],
             [
              0.7777777777777778,
              "#fb9f3a"
             ],
             [
              0.8888888888888888,
              "#fdca26"
             ],
             [
              1,
              "#f0f921"
             ]
            ],
            "type": "heatmapgl"
           }
          ],
          "histogram": [
           {
            "marker": {
             "pattern": {
              "fillmode": "overlay",
              "size": 10,
              "solidity": 0.2
             }
            },
            "type": "histogram"
           }
          ],
          "histogram2d": [
           {
            "colorbar": {
             "outlinewidth": 0,
             "ticks": ""
            },
            "colorscale": [
             [
              0,
              "#0d0887"
             ],
             [
              0.1111111111111111,
              "#46039f"
             ],
             [
              0.2222222222222222,
              "#7201a8"
             ],
             [
              0.3333333333333333,
              "#9c179e"
             ],
             [
              0.4444444444444444,
              "#bd3786"
             ],
             [
              0.5555555555555556,
              "#d8576b"
             ],
             [
              0.6666666666666666,
              "#ed7953"
             ],
             [
              0.7777777777777778,
              "#fb9f3a"
             ],
             [
              0.8888888888888888,
              "#fdca26"
             ],
             [
              1,
              "#f0f921"
             ]
            ],
            "type": "histogram2d"
           }
          ],
          "histogram2dcontour": [
           {
            "colorbar": {
             "outlinewidth": 0,
             "ticks": ""
            },
            "colorscale": [
             [
              0,
              "#0d0887"
             ],
             [
              0.1111111111111111,
              "#46039f"
             ],
             [
              0.2222222222222222,
              "#7201a8"
             ],
             [
              0.3333333333333333,
              "#9c179e"
             ],
             [
              0.4444444444444444,
              "#bd3786"
             ],
             [
              0.5555555555555556,
              "#d8576b"
             ],
             [
              0.6666666666666666,
              "#ed7953"
             ],
             [
              0.7777777777777778,
              "#fb9f3a"
             ],
             [
              0.8888888888888888,
              "#fdca26"
             ],
             [
              1,
              "#f0f921"
             ]
            ],
            "type": "histogram2dcontour"
           }
          ],
          "mesh3d": [
           {
            "colorbar": {
             "outlinewidth": 0,
             "ticks": ""
            },
            "type": "mesh3d"
           }
          ],
          "parcoords": [
           {
            "line": {
             "colorbar": {
              "outlinewidth": 0,
              "ticks": ""
             }
            },
            "type": "parcoords"
           }
          ],
          "pie": [
           {
            "automargin": true,
            "type": "pie"
           }
          ],
          "scatter": [
           {
            "marker": {
             "colorbar": {
              "outlinewidth": 0,
              "ticks": ""
             }
            },
            "type": "scatter"
           }
          ],
          "scatter3d": [
           {
            "line": {
             "colorbar": {
              "outlinewidth": 0,
              "ticks": ""
             }
            },
            "marker": {
             "colorbar": {
              "outlinewidth": 0,
              "ticks": ""
             }
            },
            "type": "scatter3d"
           }
          ],
          "scattercarpet": [
           {
            "marker": {
             "colorbar": {
              "outlinewidth": 0,
              "ticks": ""
             }
            },
            "type": "scattercarpet"
           }
          ],
          "scattergeo": [
           {
            "marker": {
             "colorbar": {
              "outlinewidth": 0,
              "ticks": ""
             }
            },
            "type": "scattergeo"
           }
          ],
          "scattergl": [
           {
            "marker": {
             "colorbar": {
              "outlinewidth": 0,
              "ticks": ""
             }
            },
            "type": "scattergl"
           }
          ],
          "scattermapbox": [
           {
            "marker": {
             "colorbar": {
              "outlinewidth": 0,
              "ticks": ""
             }
            },
            "type": "scattermapbox"
           }
          ],
          "scatterpolar": [
           {
            "marker": {
             "colorbar": {
              "outlinewidth": 0,
              "ticks": ""
             }
            },
            "type": "scatterpolar"
           }
          ],
          "scatterpolargl": [
           {
            "marker": {
             "colorbar": {
              "outlinewidth": 0,
              "ticks": ""
             }
            },
            "type": "scatterpolargl"
           }
          ],
          "scatterternary": [
           {
            "marker": {
             "colorbar": {
              "outlinewidth": 0,
              "ticks": ""
             }
            },
            "type": "scatterternary"
           }
          ],
          "surface": [
           {
            "colorbar": {
             "outlinewidth": 0,
             "ticks": ""
            },
            "colorscale": [
             [
              0,
              "#0d0887"
             ],
             [
              0.1111111111111111,
              "#46039f"
             ],
             [
              0.2222222222222222,
              "#7201a8"
             ],
             [
              0.3333333333333333,
              "#9c179e"
             ],
             [
              0.4444444444444444,
              "#bd3786"
             ],
             [
              0.5555555555555556,
              "#d8576b"
             ],
             [
              0.6666666666666666,
              "#ed7953"
             ],
             [
              0.7777777777777778,
              "#fb9f3a"
             ],
             [
              0.8888888888888888,
              "#fdca26"
             ],
             [
              1,
              "#f0f921"
             ]
            ],
            "type": "surface"
           }
          ],
          "table": [
           {
            "cells": {
             "fill": {
              "color": "#EBF0F8"
             },
             "line": {
              "color": "white"
             }
            },
            "header": {
             "fill": {
              "color": "#C8D4E3"
             },
             "line": {
              "color": "white"
             }
            },
            "type": "table"
           }
          ]
         },
         "layout": {
          "annotationdefaults": {
           "arrowcolor": "#2a3f5f",
           "arrowhead": 0,
           "arrowwidth": 1
          },
          "autotypenumbers": "strict",
          "coloraxis": {
           "colorbar": {
            "outlinewidth": 0,
            "ticks": ""
           }
          },
          "colorscale": {
           "diverging": [
            [
             0,
             "#8e0152"
            ],
            [
             0.1,
             "#c51b7d"
            ],
            [
             0.2,
             "#de77ae"
            ],
            [
             0.3,
             "#f1b6da"
            ],
            [
             0.4,
             "#fde0ef"
            ],
            [
             0.5,
             "#f7f7f7"
            ],
            [
             0.6,
             "#e6f5d0"
            ],
            [
             0.7,
             "#b8e186"
            ],
            [
             0.8,
             "#7fbc41"
            ],
            [
             0.9,
             "#4d9221"
            ],
            [
             1,
             "#276419"
            ]
           ],
           "sequential": [
            [
             0,
             "#0d0887"
            ],
            [
             0.1111111111111111,
             "#46039f"
            ],
            [
             0.2222222222222222,
             "#7201a8"
            ],
            [
             0.3333333333333333,
             "#9c179e"
            ],
            [
             0.4444444444444444,
             "#bd3786"
            ],
            [
             0.5555555555555556,
             "#d8576b"
            ],
            [
             0.6666666666666666,
             "#ed7953"
            ],
            [
             0.7777777777777778,
             "#fb9f3a"
            ],
            [
             0.8888888888888888,
             "#fdca26"
            ],
            [
             1,
             "#f0f921"
            ]
           ],
           "sequentialminus": [
            [
             0,
             "#0d0887"
            ],
            [
             0.1111111111111111,
             "#46039f"
            ],
            [
             0.2222222222222222,
             "#7201a8"
            ],
            [
             0.3333333333333333,
             "#9c179e"
            ],
            [
             0.4444444444444444,
             "#bd3786"
            ],
            [
             0.5555555555555556,
             "#d8576b"
            ],
            [
             0.6666666666666666,
             "#ed7953"
            ],
            [
             0.7777777777777778,
             "#fb9f3a"
            ],
            [
             0.8888888888888888,
             "#fdca26"
            ],
            [
             1,
             "#f0f921"
            ]
           ]
          },
          "colorway": [
           "#636efa",
           "#EF553B",
           "#00cc96",
           "#ab63fa",
           "#FFA15A",
           "#19d3f3",
           "#FF6692",
           "#B6E880",
           "#FF97FF",
           "#FECB52"
          ],
          "font": {
           "color": "#2a3f5f"
          },
          "geo": {
           "bgcolor": "white",
           "lakecolor": "white",
           "landcolor": "#E5ECF6",
           "showlakes": true,
           "showland": true,
           "subunitcolor": "white"
          },
          "hoverlabel": {
           "align": "left"
          },
          "hovermode": "closest",
          "mapbox": {
           "style": "light"
          },
          "paper_bgcolor": "white",
          "plot_bgcolor": "#E5ECF6",
          "polar": {
           "angularaxis": {
            "gridcolor": "white",
            "linecolor": "white",
            "ticks": ""
           },
           "bgcolor": "#E5ECF6",
           "radialaxis": {
            "gridcolor": "white",
            "linecolor": "white",
            "ticks": ""
           }
          },
          "scene": {
           "xaxis": {
            "backgroundcolor": "#E5ECF6",
            "gridcolor": "white",
            "gridwidth": 2,
            "linecolor": "white",
            "showbackground": true,
            "ticks": "",
            "zerolinecolor": "white"
           },
           "yaxis": {
            "backgroundcolor": "#E5ECF6",
            "gridcolor": "white",
            "gridwidth": 2,
            "linecolor": "white",
            "showbackground": true,
            "ticks": "",
            "zerolinecolor": "white"
           },
           "zaxis": {
            "backgroundcolor": "#E5ECF6",
            "gridcolor": "white",
            "gridwidth": 2,
            "linecolor": "white",
            "showbackground": true,
            "ticks": "",
            "zerolinecolor": "white"
           }
          },
          "shapedefaults": {
           "line": {
            "color": "#2a3f5f"
           }
          },
          "ternary": {
           "aaxis": {
            "gridcolor": "white",
            "linecolor": "white",
            "ticks": ""
           },
           "baxis": {
            "gridcolor": "white",
            "linecolor": "white",
            "ticks": ""
           },
           "bgcolor": "#E5ECF6",
           "caxis": {
            "gridcolor": "white",
            "linecolor": "white",
            "ticks": ""
           }
          },
          "title": {
           "x": 0.05
          },
          "xaxis": {
           "automargin": true,
           "gridcolor": "white",
           "linecolor": "white",
           "ticks": "",
           "title": {
            "standoff": 15
           },
           "zerolinecolor": "white",
           "zerolinewidth": 2
          },
          "yaxis": {
           "automargin": true,
           "gridcolor": "white",
           "linecolor": "white",
           "ticks": "",
           "title": {
            "standoff": 15
           },
           "zerolinecolor": "white",
           "zerolinewidth": 2
          }
         }
        },
        "title": {
         "text": "ProphetDetector: Anomalies in total_count (Forecast Overlaid)"
        },
        "width": 1000,
        "xaxis": {
         "anchor": "y",
         "domain": [
          0,
          0.94
         ],
         "rangeselector": {
          "buttons": [
           {
            "count": 7,
            "label": "1w",
            "step": "day",
            "stepmode": "backward"
           },
           {
            "count": 1,
            "label": "1m",
            "step": "month",
            "stepmode": "backward"
           },
           {
            "count": 6,
            "label": "6m",
            "step": "month",
            "stepmode": "backward"
           },
           {
            "count": 1,
            "label": "1y",
            "step": "year",
            "stepmode": "backward"
           },
           {
            "step": "all"
           }
          ]
         },
         "rangeslider": {
          "visible": true
         },
         "title": {
          "text": "Time"
         },
         "type": "date"
        },
        "yaxis": {
         "anchor": "x",
         "domain": [
          0,
          1
         ],
         "title": {
          "text": "total_count"
         }
        },
        "yaxis2": {
         "anchor": "x",
         "overlaying": "y",
         "range": [
          -3.8438722746104266,
          14.946347776466174
         ],
         "side": "right",
         "title": {
          "text": "Anomaly Score"
         }
        }
       }
      }
     },
     "metadata": {}
    }
   ],
   "metadata": {}
  },
  {
   "cell_type": "code",
   "execution_count": 127,
   "source": [
    "from merlion.transform.moving_average import MovingAverage\n",
    "from merlion.post_process.threshold import Threshold\n",
    "\n",
    "prophet_config = ProphetDetectorConfig(\n",
    "    threshold=Threshold(alm_threshold=0.5),\n",
    "    transform=MovingAverage(n_steps=3),\n",
    "    yearly_seasonality=False,\n",
    "    weekly_seasonality=False,\n",
    "    daily_seasonality=False,\n",
    "    add_seasonality=False,  \n",
    "    uncertainty_samples=1000\n",
    ")\n",
    "\n",
    "anomaly_scores = detect_anomalies(\n",
    "    df_timeseries, \n",
    "    \"total_count\",\n",
    "    model=ProphetDetector(prophet_config)\n",
    ")"
   ],
   "outputs": [
    {
     "output_type": "stream",
     "name": "stdout",
     "text": [
      "Initial log joint probability = -5.79112\n",
      "    Iter      log prob        ||dx||      ||grad||       alpha      alpha0  # evals  Notes \n",
      "      99       240.942    1.1693e-05       73.8893      0.5456      0.5456      123   \n",
      "    Iter      log prob        ||dx||      ||grad||       alpha      alpha0  # evals  Notes \n",
      "     199        241.06   5.15566e-08       77.4327      0.2683      0.8701      263   \n",
      "    Iter      log prob        ||dx||      ||grad||       alpha      alpha0  # evals  Notes \n",
      "     203        241.06   8.31105e-09       72.3467       0.219       0.219      268   \n",
      "Optimization terminated normally: \n",
      "  Convergence detected: absolute parameter change was below tolerance\n"
     ]
    },
    {
     "output_type": "display_data",
     "data": {
      "application/vnd.plotly.v1+json": {
       "config": {
        "plotlyServerURL": "https://plot.ly"
       },
       "data": [
        {
         "hoverinfo": "skip",
         "line": {
          "width": 0
         },
         "mode": "lines",
         "showlegend": false,
         "type": "scatter",
         "x": [
          "2020-10-01T01:00:00",
          "2020-10-01T02:00:00",
          "2020-10-01T03:00:00",
          "2020-10-01T05:00:00",
          "2020-10-01T11:00:00",
          "2020-10-01T13:00:00",
          "2020-10-01T14:00:00",
          "2020-10-01T15:00:00",
          "2020-10-01T16:00:00",
          "2020-10-01T17:00:00",
          "2020-10-01T18:00:00",
          "2020-10-01T19:00:00",
          "2020-10-01T20:00:00",
          "2020-10-01T21:00:00",
          "2020-10-01T22:00:00",
          "2020-10-01T23:00:00",
          "2020-10-02T00:00:00",
          "2020-10-02T02:00:00",
          "2020-10-02T03:00:00",
          "2020-10-02T04:00:00",
          "2020-10-02T05:00:00",
          "2020-10-02T07:00:00",
          "2020-10-02T12:00:00",
          "2020-10-02T14:00:00",
          "2020-10-02T15:00:00",
          "2020-10-02T16:00:00",
          "2020-10-02T17:00:00",
          "2020-10-02T18:00:00",
          "2020-10-02T19:00:00",
          "2020-10-02T20:00:00",
          "2020-10-02T21:00:00",
          "2020-10-02T22:00:00",
          "2020-10-03T00:00:00",
          "2020-10-03T01:00:00",
          "2020-10-03T02:00:00",
          "2020-10-03T13:00:00",
          "2020-10-03T15:00:00",
          "2020-10-03T16:00:00",
          "2020-10-03T18:00:00",
          "2020-10-03T19:00:00",
          "2020-10-03T20:00:00",
          "2020-10-03T21:00:00",
          "2020-10-03T22:00:00",
          "2020-10-04T12:00:00",
          "2020-10-04T13:00:00",
          "2020-10-04T16:00:00",
          "2020-10-04T20:00:00",
          "2020-10-04T22:00:00",
          "2020-10-05T00:00:00",
          "2020-10-05T04:00:00",
          "2020-10-05T09:00:00",
          "2020-10-05T13:00:00",
          "2020-10-05T14:00:00",
          "2020-10-05T15:00:00",
          "2020-10-05T16:00:00",
          "2020-10-05T17:00:00",
          "2020-10-05T18:00:00",
          "2020-10-05T19:00:00",
          "2020-10-05T20:00:00",
          "2020-10-05T22:00:00",
          "2020-10-05T23:00:00",
          "2020-10-06T01:00:00",
          "2020-10-06T02:00:00",
          "2020-10-06T03:00:00",
          "2020-10-06T06:00:00",
          "2020-10-06T13:00:00",
          "2020-10-06T14:00:00",
          "2020-10-06T16:00:00",
          "2020-10-06T17:00:00",
          "2020-10-06T18:00:00",
          "2020-10-06T19:00:00",
          "2020-10-06T20:00:00",
          "2020-10-06T21:00:00",
          "2020-10-06T22:00:00",
          "2020-10-06T23:00:00",
          "2020-10-07T00:00:00",
          "2020-10-07T01:00:00",
          "2020-10-07T02:00:00",
          "2020-10-07T03:00:00",
          "2020-10-07T10:00:00",
          "2020-10-07T12:00:00",
          "2020-10-07T14:00:00",
          "2020-10-07T15:00:00",
          "2020-10-07T16:00:00",
          "2020-10-07T17:00:00",
          "2020-10-07T18:00:00",
          "2020-10-07T19:00:00",
          "2020-10-07T20:00:00",
          "2020-10-07T21:00:00",
          "2020-10-07T22:00:00",
          "2020-10-07T23:00:00",
          "2020-10-08T00:00:00",
          "2020-10-08T01:00:00",
          "2020-10-08T02:00:00",
          "2020-10-08T03:00:00",
          "2020-10-08T04:00:00",
          "2020-10-08T05:00:00",
          "2020-10-08T06:00:00",
          "2020-10-08T07:00:00",
          "2020-10-08T08:00:00",
          "2020-10-08T09:00:00",
          "2020-10-08T10:00:00",
          "2020-10-08T11:00:00",
          "2020-10-08T12:00:00",
          "2020-10-08T13:00:00",
          "2020-10-08T14:00:00",
          "2020-10-08T15:00:00",
          "2020-10-08T16:00:00",
          "2020-10-08T17:00:00",
          "2020-10-08T18:00:00",
          "2020-10-08T19:00:00",
          "2020-10-08T20:00:00",
          "2020-10-08T21:00:00",
          "2020-10-08T22:00:00",
          "2020-10-08T23:00:00",
          "2020-10-09T00:00:00",
          "2020-10-09T01:00:00",
          "2020-10-09T02:00:00",
          "2020-10-09T03:00:00",
          "2020-10-09T04:00:00",
          "2020-10-09T05:00:00",
          "2020-10-09T06:00:00",
          "2020-10-09T09:00:00",
          "2020-10-09T10:00:00",
          "2020-10-09T11:00:00",
          "2020-10-09T12:00:00",
          "2020-10-09T13:00:00",
          "2020-10-09T14:00:00",
          "2020-10-09T15:00:00",
          "2020-10-09T16:00:00",
          "2020-10-09T17:00:00",
          "2020-10-09T18:00:00",
          "2020-10-09T19:00:00",
          "2020-10-09T20:00:00",
          "2020-10-09T21:00:00",
          "2020-10-09T22:00:00",
          "2020-10-09T23:00:00",
          "2020-10-10T00:00:00",
          "2020-10-10T01:00:00",
          "2020-10-10T02:00:00",
          "2020-10-10T03:00:00",
          "2020-10-10T04:00:00",
          "2020-10-10T05:00:00",
          "2020-10-10T07:00:00",
          "2020-10-10T08:00:00",
          "2020-10-10T11:00:00",
          "2020-10-10T12:00:00",
          "2020-10-10T13:00:00",
          "2020-10-10T14:00:00",
          "2020-10-10T15:00:00",
          "2020-10-10T16:00:00",
          "2020-10-10T17:00:00",
          "2020-10-10T18:00:00",
          "2020-10-10T19:00:00",
          "2020-10-10T20:00:00",
          "2020-10-10T21:00:00",
          "2020-10-10T22:00:00",
          "2020-10-10T23:00:00",
          "2020-10-11T00:00:00",
          "2020-10-11T01:00:00",
          "2020-10-11T02:00:00",
          "2020-10-11T03:00:00",
          "2020-10-11T04:00:00",
          "2020-10-11T05:00:00",
          "2020-10-11T07:00:00",
          "2020-10-11T09:00:00",
          "2020-10-11T12:00:00",
          "2020-10-11T13:00:00",
          "2020-10-11T14:00:00",
          "2020-10-11T15:00:00",
          "2020-10-11T16:00:00",
          "2020-10-11T17:00:00",
          "2020-10-11T18:00:00",
          "2020-10-11T19:00:00",
          "2020-10-11T20:00:00",
          "2020-10-11T21:00:00",
          "2020-10-11T22:00:00",
          "2020-10-11T23:00:00",
          "2020-10-12T00:00:00",
          "2020-10-12T01:00:00",
          "2020-10-12T03:00:00",
          "2020-10-12T12:00:00",
          "2020-10-12T13:00:00",
          "2020-10-12T14:00:00",
          "2020-10-12T15:00:00",
          "2020-10-12T16:00:00",
          "2020-10-12T17:00:00",
          "2020-10-12T18:00:00",
          "2020-10-12T19:00:00",
          "2020-10-12T20:00:00",
          "2020-10-12T21:00:00",
          "2020-10-12T22:00:00",
          "2020-10-12T23:00:00",
          "2020-10-13T00:00:00"
         ],
         "y": [
          6.725059135369534,
          8.455753874555896,
          8.283800757717263,
          7.903814966558141,
          9.64380805554786,
          8.82541189624322,
          9.972817286846784,
          9.819931584330401,
          10.197597329355792,
          9.578405347695934,
          10.482251186169506,
          10.592388874450021,
          8.598802906300321,
          10.535330239323548,
          9.597346923619282,
          10.577419744687836,
          10.129834622136567,
          10.4616991901583,
          10.186608585278702,
          9.97693397426168,
          11.236417217995184,
          11.19944224365647,
          11.237540542726522,
          11.945571981226088,
          11.77543228511542,
          12.009385350833785,
          11.355532579274357,
          11.904017370602508,
          12.754151623578913,
          12.872345583403613,
          12.223408415046933,
          12.431795230318066,
          12.50238664675912,
          12.39034153458584,
          13.22732485771207,
          14.27133948321491,
          13.70360834291743,
          14.612535786380327,
          14.528346549175758,
          13.646740994944643,
          14.957460692979296,
          14.814307372352031,
          14.784517237796162,
          16.979216369204526,
          16.190799081599756,
          16.35316771583105,
          17.1593369679507,
          17.25985086243963,
          17.660245033165083,
          17.14769314688465,
          18.324751524697362,
          18.849879562775072,
          18.76860745971775,
          19.169402505507996,
          19.58208513840014,
          19.21699835320857,
          18.5574624052081,
          20.442653708986803,
          18.54946911341093,
          19.755118070372845,
          19.875445011215355,
          19.747533085283898,
          19.11239728573508,
          19.98691478767885,
          19.42188521970629,
          20.429384530191992,
          21.122403592410294,
          21.0541348886596,
          22.04016721517302,
          21.280637515435707,
          20.452156640360492,
          21.90784543557936,
          21.48833722604303,
          21.97163238175197,
          21.35172983419781,
          23.753082778703394,
          21.320003323969196,
          21.88957650160058,
          21.94580617256836,
          22.6948186720019,
          21.838487509161947,
          22.666955457932268,
          23.751955927315215,
          24.722080419529426,
          22.950806742402946,
          23.647475148534596,
          23.82406495242551,
          23.888557928646705,
          23.122010232744525,
          24.667220295103153,
          23.665296428694788,
          23.836072039936422,
          24.17809610863458,
          24.68298929338436,
          24.614354241786927,
          24.448063561007327,
          25.3143221049139,
          25.261273913414417,
          23.989455604517275,
          25.284174003614503,
          24.824821223399503,
          24.51558468584625,
          25.14993700887861,
          25.299914161711108,
          25.392020857319793,
          25.197512200907617,
          24.811230930982397,
          25.15161689892721,
          25.782664317846955,
          24.345529219315424,
          25.627832989726762,
          25.50883242124434,
          25.316603609218806,
          25.149277833352343,
          25.01952385262711,
          24.317534321595993,
          24.271371952267007,
          25.360419700866522,
          24.87761527960226,
          24.67286178693887,
          24.76397847346754,
          23.840090048774982,
          24.489800521842092,
          24.712458180227273,
          23.526285800050257,
          23.41998312944282,
          25.115663666651226,
          24.809634840925725,
          23.851105289975912,
          23.31600180696055,
          23.986859731480727,
          23.071409381697364,
          24.212531682804013,
          23.445961625915363,
          23.576121343450342,
          23.789232677220003,
          22.995101465920875,
          23.421877646097606,
          22.506851528096046,
          22.18879293261304,
          23.279938712039055,
          21.96756581098483,
          23.090776646759352,
          22.433041335116407,
          22.684369303449735,
          21.73209379642129,
          21.156120002789283,
          21.798620559171304,
          21.872095559057104,
          21.739394412083556,
          21.316623762734494,
          21.518179354544763,
          21.126550590239226,
          22.162791653279925,
          20.861430145351164,
          20.84491859692094,
          20.911839055996484,
          21.518853257020634,
          20.282485187177997,
          21.102685118420617,
          20.597036115559,
          20.769250390798824,
          20.29166591729726,
          20.173674188822037,
          20.257905168184486,
          20.31180244969812,
          20.525699424527357,
          20.419595229979997,
          18.73891119395141,
          19.417198735656534,
          19.97857164300199,
          20.4057704451509,
          19.266173059049063,
          19.957304466319457,
          18.84105532257309,
          18.446542217079134,
          18.890678690294056,
          19.118912751161478,
          17.853853424906426,
          18.690902851192405,
          17.649079604480495,
          17.593228619565465,
          17.716681010739343,
          17.4067405304329,
          16.931472358007905,
          17.57171535130984,
          17.333096126888847,
          17.674168700765502,
          17.43724180438668,
          15.792512997131261,
          16.35767328221084,
          16.405851406181196,
          17.126080417486406,
          17.302052540456128
         ]
        },
        {
         "fill": "tonexty",
         "fillcolor": "rgba(0, 114, 178, 0.2)",
         "line": {
          "color": "#0072B2",
          "width": 2
         },
         "mode": "lines",
         "name": "Forecast",
         "type": "scatter",
         "x": [
          "2020-10-01T01:00:00",
          "2020-10-01T02:00:00",
          "2020-10-01T03:00:00",
          "2020-10-01T05:00:00",
          "2020-10-01T11:00:00",
          "2020-10-01T13:00:00",
          "2020-10-01T14:00:00",
          "2020-10-01T15:00:00",
          "2020-10-01T16:00:00",
          "2020-10-01T17:00:00",
          "2020-10-01T18:00:00",
          "2020-10-01T19:00:00",
          "2020-10-01T20:00:00",
          "2020-10-01T21:00:00",
          "2020-10-01T22:00:00",
          "2020-10-01T23:00:00",
          "2020-10-02T00:00:00",
          "2020-10-02T02:00:00",
          "2020-10-02T03:00:00",
          "2020-10-02T04:00:00",
          "2020-10-02T05:00:00",
          "2020-10-02T07:00:00",
          "2020-10-02T12:00:00",
          "2020-10-02T14:00:00",
          "2020-10-02T15:00:00",
          "2020-10-02T16:00:00",
          "2020-10-02T17:00:00",
          "2020-10-02T18:00:00",
          "2020-10-02T19:00:00",
          "2020-10-02T20:00:00",
          "2020-10-02T21:00:00",
          "2020-10-02T22:00:00",
          "2020-10-03T00:00:00",
          "2020-10-03T01:00:00",
          "2020-10-03T02:00:00",
          "2020-10-03T13:00:00",
          "2020-10-03T15:00:00",
          "2020-10-03T16:00:00",
          "2020-10-03T18:00:00",
          "2020-10-03T19:00:00",
          "2020-10-03T20:00:00",
          "2020-10-03T21:00:00",
          "2020-10-03T22:00:00",
          "2020-10-04T12:00:00",
          "2020-10-04T13:00:00",
          "2020-10-04T16:00:00",
          "2020-10-04T20:00:00",
          "2020-10-04T22:00:00",
          "2020-10-05T00:00:00",
          "2020-10-05T04:00:00",
          "2020-10-05T09:00:00",
          "2020-10-05T13:00:00",
          "2020-10-05T14:00:00",
          "2020-10-05T15:00:00",
          "2020-10-05T16:00:00",
          "2020-10-05T17:00:00",
          "2020-10-05T18:00:00",
          "2020-10-05T19:00:00",
          "2020-10-05T20:00:00",
          "2020-10-05T22:00:00",
          "2020-10-05T23:00:00",
          "2020-10-06T01:00:00",
          "2020-10-06T02:00:00",
          "2020-10-06T03:00:00",
          "2020-10-06T06:00:00",
          "2020-10-06T13:00:00",
          "2020-10-06T14:00:00",
          "2020-10-06T16:00:00",
          "2020-10-06T17:00:00",
          "2020-10-06T18:00:00",
          "2020-10-06T19:00:00",
          "2020-10-06T20:00:00",
          "2020-10-06T21:00:00",
          "2020-10-06T22:00:00",
          "2020-10-06T23:00:00",
          "2020-10-07T00:00:00",
          "2020-10-07T01:00:00",
          "2020-10-07T02:00:00",
          "2020-10-07T03:00:00",
          "2020-10-07T10:00:00",
          "2020-10-07T12:00:00",
          "2020-10-07T14:00:00",
          "2020-10-07T15:00:00",
          "2020-10-07T16:00:00",
          "2020-10-07T17:00:00",
          "2020-10-07T18:00:00",
          "2020-10-07T19:00:00",
          "2020-10-07T20:00:00",
          "2020-10-07T21:00:00",
          "2020-10-07T22:00:00",
          "2020-10-07T23:00:00",
          "2020-10-08T00:00:00",
          "2020-10-08T01:00:00",
          "2020-10-08T02:00:00",
          "2020-10-08T03:00:00",
          "2020-10-08T04:00:00",
          "2020-10-08T05:00:00",
          "2020-10-08T06:00:00",
          "2020-10-08T07:00:00",
          "2020-10-08T08:00:00",
          "2020-10-08T09:00:00",
          "2020-10-08T10:00:00",
          "2020-10-08T11:00:00",
          "2020-10-08T12:00:00",
          "2020-10-08T13:00:00",
          "2020-10-08T14:00:00",
          "2020-10-08T15:00:00",
          "2020-10-08T16:00:00",
          "2020-10-08T17:00:00",
          "2020-10-08T18:00:00",
          "2020-10-08T19:00:00",
          "2020-10-08T20:00:00",
          "2020-10-08T21:00:00",
          "2020-10-08T22:00:00",
          "2020-10-08T23:00:00",
          "2020-10-09T00:00:00",
          "2020-10-09T01:00:00",
          "2020-10-09T02:00:00",
          "2020-10-09T03:00:00",
          "2020-10-09T04:00:00",
          "2020-10-09T05:00:00",
          "2020-10-09T06:00:00",
          "2020-10-09T09:00:00",
          "2020-10-09T10:00:00",
          "2020-10-09T11:00:00",
          "2020-10-09T12:00:00",
          "2020-10-09T13:00:00",
          "2020-10-09T14:00:00",
          "2020-10-09T15:00:00",
          "2020-10-09T16:00:00",
          "2020-10-09T17:00:00",
          "2020-10-09T18:00:00",
          "2020-10-09T19:00:00",
          "2020-10-09T20:00:00",
          "2020-10-09T21:00:00",
          "2020-10-09T22:00:00",
          "2020-10-09T23:00:00",
          "2020-10-10T00:00:00",
          "2020-10-10T01:00:00",
          "2020-10-10T02:00:00",
          "2020-10-10T03:00:00",
          "2020-10-10T04:00:00",
          "2020-10-10T05:00:00",
          "2020-10-10T07:00:00",
          "2020-10-10T08:00:00",
          "2020-10-10T11:00:00",
          "2020-10-10T12:00:00",
          "2020-10-10T13:00:00",
          "2020-10-10T14:00:00",
          "2020-10-10T15:00:00",
          "2020-10-10T16:00:00",
          "2020-10-10T17:00:00",
          "2020-10-10T18:00:00",
          "2020-10-10T19:00:00",
          "2020-10-10T20:00:00",
          "2020-10-10T21:00:00",
          "2020-10-10T22:00:00",
          "2020-10-10T23:00:00",
          "2020-10-11T00:00:00",
          "2020-10-11T01:00:00",
          "2020-10-11T02:00:00",
          "2020-10-11T03:00:00",
          "2020-10-11T04:00:00",
          "2020-10-11T05:00:00",
          "2020-10-11T07:00:00",
          "2020-10-11T09:00:00",
          "2020-10-11T12:00:00",
          "2020-10-11T13:00:00",
          "2020-10-11T14:00:00",
          "2020-10-11T15:00:00",
          "2020-10-11T16:00:00",
          "2020-10-11T17:00:00",
          "2020-10-11T18:00:00",
          "2020-10-11T19:00:00",
          "2020-10-11T20:00:00",
          "2020-10-11T21:00:00",
          "2020-10-11T22:00:00",
          "2020-10-11T23:00:00",
          "2020-10-12T00:00:00",
          "2020-10-12T01:00:00",
          "2020-10-12T03:00:00",
          "2020-10-12T12:00:00",
          "2020-10-12T13:00:00",
          "2020-10-12T14:00:00",
          "2020-10-12T15:00:00",
          "2020-10-12T16:00:00",
          "2020-10-12T17:00:00",
          "2020-10-12T18:00:00",
          "2020-10-12T19:00:00",
          "2020-10-12T20:00:00",
          "2020-10-12T21:00:00",
          "2020-10-12T22:00:00",
          "2020-10-12T23:00:00",
          "2020-10-13T00:00:00"
         ],
         "y": [
          -0.18602719397154768,
          -0.08958014774150433,
          0.006866898488539027,
          0.19976099094862573,
          0.7784432683288859,
          0.9713373607889727,
          1.067784407019016,
          1.1642314521510388,
          1.2606784972830614,
          1.3571255424150843,
          1.4535725875471068,
          1.5500196326791296,
          1.646466677811152,
          1.7429137216120147,
          1.8393607654128774,
          1.9358078092137407,
          2.0322548530146034,
          2.225148940616329,
          2.3215959844171916,
          2.4180430285626064,
          2.514490072708021,
          2.70738416099885,
          3.189619381725924,
          3.3825134700167534,
          3.478960514162168,
          3.575407558307582,
          3.6718546021702414,
          3.7683016460329006,
          3.86474868989556,
          3.961195733758219,
          4.057642777620877,
          4.154089821483537,
          4.346983911818751,
          4.443430956986359,
          4.539878002153966,
          5.600795498997642,
          5.793689589332857,
          5.890136634500465,
          6.083030725390555,
          6.1794777708356,
          6.275924816280646,
          6.372371861725691,
          6.4688189071707365,
          7.819077543401374,
          7.915524586422781,
          8.204865715487006,
          8.59065388757264,
          8.783547973615457,
          8.976442059658273,
          9.362230231743908,
          9.844465446195318,
          10.230253617756446,
          10.326700660646727,
          10.42314770353701,
          10.519594746427291,
          10.616041789317576,
          10.712488832968974,
          10.808935876620376,
          10.905382920271776,
          11.09827700757458,
          11.19472405122598,
          11.387618138528783,
          11.484065182180181,
          11.580512223657431,
          11.869853348089174,
          12.544982638429914,
          12.641429679907162,
          12.834323762861661,
          12.93077080433891,
          13.027217844360997,
          13.123664884383086,
          13.220111924405176,
          13.316558964427264,
          13.413006004449352,
          13.50945304447144,
          13.605900083675738,
          13.702347122880031,
          13.798794162084326,
          13.895241201288624,
          14.570370475718684,
          14.763264554127273,
          14.956147279984089,
          15.0525886429125,
          15.149030005840906,
          15.245471368769312,
          15.341912731697724,
          15.43835409462613,
          15.530851568391016,
          15.623349042155901,
          15.715846515920788,
          15.808343989685673,
          15.900841463450556,
          15.99333893721544,
          16.063546294715593,
          16.133753652215738,
          16.20396100971589,
          16.274168367216035,
          16.344375724716187,
          16.414583082216335,
          16.484790439716484,
          16.52289054618447,
          16.560990652652464,
          16.59909075912045,
          16.637190865588437,
          16.675290972056423,
          16.713391078524413,
          16.713073665380733,
          16.712756252237053,
          16.712438839093373,
          16.712121425949693,
          16.711804012806013,
          16.711486599662333,
          16.671684756648954,
          16.631882913635568,
          16.592081070622186,
          16.552279227608803,
          16.51247738459542,
          16.472675541582035,
          16.39963123749747,
          16.326586933412905,
          16.253542629328336,
          16.180498325243775,
          15.961365412990078,
          15.888321108905517,
          15.802646753428668,
          15.71697239795182,
          15.631298042474969,
          15.54562368699812,
          15.45994933152127,
          15.37427497604442,
          15.284423393360036,
          15.194571810675653,
          15.10472022799127,
          15.014868645306892,
          14.925017062622507,
          14.835165479938123,
          14.745313897253745,
          14.655462301025873,
          14.565610704798003,
          14.47575910857013,
          14.385907512342262,
          14.29605591611439,
          14.206204319886519,
          14.026493242445623,
          13.93663770372518,
          13.667071087563833,
          13.577215548843386,
          13.487360010122938,
          13.397504471402495,
          13.307648931159418,
          13.217793390916343,
          13.127937850673266,
          13.03808231043019,
          12.948226770187118,
          12.858371229944042,
          12.768515691222246,
          12.678660152500447,
          12.588804613778652,
          12.498949075056853,
          12.409093536335059,
          12.319237997613262,
          12.229382458891468,
          12.139526920169669,
          12.049671381447874,
          11.869960304004284,
          11.69024922656069,
          11.4206826103953,
          11.330827071673506,
          11.24097153295171,
          11.15111599422991,
          11.061260455508116,
          10.97140491678632,
          10.881549378064522,
          10.791693839342726,
          10.701838300620926,
          10.611982761899132,
          10.522127223177337,
          10.432271684455538,
          10.342416145733742,
          10.252560607011947,
          10.072849529568353,
          9.264149681072189,
          9.174294142350389,
          9.084438603628595,
          8.994583064906799,
          8.904727526185,
          8.814871987463205,
          8.72501644874141,
          8.63516091001961,
          8.545305371297816,
          8.45544983257602,
          8.365594293854226,
          8.275738755132426,
          8.18588321641063
         ]
        },
        {
         "fill": "tonexty",
         "fillcolor": "rgba(0, 114, 178, 0.2)",
         "hoverinfo": "skip",
         "line": {
          "width": 0
         },
         "mode": "lines",
         "showlegend": false,
         "type": "scatter",
         "x": [
          "2020-10-01T01:00:00",
          "2020-10-01T02:00:00",
          "2020-10-01T03:00:00",
          "2020-10-01T05:00:00",
          "2020-10-01T11:00:00",
          "2020-10-01T13:00:00",
          "2020-10-01T14:00:00",
          "2020-10-01T15:00:00",
          "2020-10-01T16:00:00",
          "2020-10-01T17:00:00",
          "2020-10-01T18:00:00",
          "2020-10-01T19:00:00",
          "2020-10-01T20:00:00",
          "2020-10-01T21:00:00",
          "2020-10-01T22:00:00",
          "2020-10-01T23:00:00",
          "2020-10-02T00:00:00",
          "2020-10-02T02:00:00",
          "2020-10-02T03:00:00",
          "2020-10-02T04:00:00",
          "2020-10-02T05:00:00",
          "2020-10-02T07:00:00",
          "2020-10-02T12:00:00",
          "2020-10-02T14:00:00",
          "2020-10-02T15:00:00",
          "2020-10-02T16:00:00",
          "2020-10-02T17:00:00",
          "2020-10-02T18:00:00",
          "2020-10-02T19:00:00",
          "2020-10-02T20:00:00",
          "2020-10-02T21:00:00",
          "2020-10-02T22:00:00",
          "2020-10-03T00:00:00",
          "2020-10-03T01:00:00",
          "2020-10-03T02:00:00",
          "2020-10-03T13:00:00",
          "2020-10-03T15:00:00",
          "2020-10-03T16:00:00",
          "2020-10-03T18:00:00",
          "2020-10-03T19:00:00",
          "2020-10-03T20:00:00",
          "2020-10-03T21:00:00",
          "2020-10-03T22:00:00",
          "2020-10-04T12:00:00",
          "2020-10-04T13:00:00",
          "2020-10-04T16:00:00",
          "2020-10-04T20:00:00",
          "2020-10-04T22:00:00",
          "2020-10-05T00:00:00",
          "2020-10-05T04:00:00",
          "2020-10-05T09:00:00",
          "2020-10-05T13:00:00",
          "2020-10-05T14:00:00",
          "2020-10-05T15:00:00",
          "2020-10-05T16:00:00",
          "2020-10-05T17:00:00",
          "2020-10-05T18:00:00",
          "2020-10-05T19:00:00",
          "2020-10-05T20:00:00",
          "2020-10-05T22:00:00",
          "2020-10-05T23:00:00",
          "2020-10-06T01:00:00",
          "2020-10-06T02:00:00",
          "2020-10-06T03:00:00",
          "2020-10-06T06:00:00",
          "2020-10-06T13:00:00",
          "2020-10-06T14:00:00",
          "2020-10-06T16:00:00",
          "2020-10-06T17:00:00",
          "2020-10-06T18:00:00",
          "2020-10-06T19:00:00",
          "2020-10-06T20:00:00",
          "2020-10-06T21:00:00",
          "2020-10-06T22:00:00",
          "2020-10-06T23:00:00",
          "2020-10-07T00:00:00",
          "2020-10-07T01:00:00",
          "2020-10-07T02:00:00",
          "2020-10-07T03:00:00",
          "2020-10-07T10:00:00",
          "2020-10-07T12:00:00",
          "2020-10-07T14:00:00",
          "2020-10-07T15:00:00",
          "2020-10-07T16:00:00",
          "2020-10-07T17:00:00",
          "2020-10-07T18:00:00",
          "2020-10-07T19:00:00",
          "2020-10-07T20:00:00",
          "2020-10-07T21:00:00",
          "2020-10-07T22:00:00",
          "2020-10-07T23:00:00",
          "2020-10-08T00:00:00",
          "2020-10-08T01:00:00",
          "2020-10-08T02:00:00",
          "2020-10-08T03:00:00",
          "2020-10-08T04:00:00",
          "2020-10-08T05:00:00",
          "2020-10-08T06:00:00",
          "2020-10-08T07:00:00",
          "2020-10-08T08:00:00",
          "2020-10-08T09:00:00",
          "2020-10-08T10:00:00",
          "2020-10-08T11:00:00",
          "2020-10-08T12:00:00",
          "2020-10-08T13:00:00",
          "2020-10-08T14:00:00",
          "2020-10-08T15:00:00",
          "2020-10-08T16:00:00",
          "2020-10-08T17:00:00",
          "2020-10-08T18:00:00",
          "2020-10-08T19:00:00",
          "2020-10-08T20:00:00",
          "2020-10-08T21:00:00",
          "2020-10-08T22:00:00",
          "2020-10-08T23:00:00",
          "2020-10-09T00:00:00",
          "2020-10-09T01:00:00",
          "2020-10-09T02:00:00",
          "2020-10-09T03:00:00",
          "2020-10-09T04:00:00",
          "2020-10-09T05:00:00",
          "2020-10-09T06:00:00",
          "2020-10-09T09:00:00",
          "2020-10-09T10:00:00",
          "2020-10-09T11:00:00",
          "2020-10-09T12:00:00",
          "2020-10-09T13:00:00",
          "2020-10-09T14:00:00",
          "2020-10-09T15:00:00",
          "2020-10-09T16:00:00",
          "2020-10-09T17:00:00",
          "2020-10-09T18:00:00",
          "2020-10-09T19:00:00",
          "2020-10-09T20:00:00",
          "2020-10-09T21:00:00",
          "2020-10-09T22:00:00",
          "2020-10-09T23:00:00",
          "2020-10-10T00:00:00",
          "2020-10-10T01:00:00",
          "2020-10-10T02:00:00",
          "2020-10-10T03:00:00",
          "2020-10-10T04:00:00",
          "2020-10-10T05:00:00",
          "2020-10-10T07:00:00",
          "2020-10-10T08:00:00",
          "2020-10-10T11:00:00",
          "2020-10-10T12:00:00",
          "2020-10-10T13:00:00",
          "2020-10-10T14:00:00",
          "2020-10-10T15:00:00",
          "2020-10-10T16:00:00",
          "2020-10-10T17:00:00",
          "2020-10-10T18:00:00",
          "2020-10-10T19:00:00",
          "2020-10-10T20:00:00",
          "2020-10-10T21:00:00",
          "2020-10-10T22:00:00",
          "2020-10-10T23:00:00",
          "2020-10-11T00:00:00",
          "2020-10-11T01:00:00",
          "2020-10-11T02:00:00",
          "2020-10-11T03:00:00",
          "2020-10-11T04:00:00",
          "2020-10-11T05:00:00",
          "2020-10-11T07:00:00",
          "2020-10-11T09:00:00",
          "2020-10-11T12:00:00",
          "2020-10-11T13:00:00",
          "2020-10-11T14:00:00",
          "2020-10-11T15:00:00",
          "2020-10-11T16:00:00",
          "2020-10-11T17:00:00",
          "2020-10-11T18:00:00",
          "2020-10-11T19:00:00",
          "2020-10-11T20:00:00",
          "2020-10-11T21:00:00",
          "2020-10-11T22:00:00",
          "2020-10-11T23:00:00",
          "2020-10-12T00:00:00",
          "2020-10-12T01:00:00",
          "2020-10-12T03:00:00",
          "2020-10-12T12:00:00",
          "2020-10-12T13:00:00",
          "2020-10-12T14:00:00",
          "2020-10-12T15:00:00",
          "2020-10-12T16:00:00",
          "2020-10-12T17:00:00",
          "2020-10-12T18:00:00",
          "2020-10-12T19:00:00",
          "2020-10-12T20:00:00",
          "2020-10-12T21:00:00",
          "2020-10-12T22:00:00",
          "2020-10-12T23:00:00",
          "2020-10-13T00:00:00"
         ],
         "y": [
          -9.072727999211306,
          -7.927445196053321,
          -8.37950852259798,
          -8.247043340397395,
          -7.7495655080450305,
          -7.782086533413444,
          -6.895141810990239,
          -6.942548876261881,
          -6.235971219570527,
          -7.40709820095696,
          -7.169092910981233,
          -7.208754529185507,
          -6.408787200128525,
          -6.997795217160995,
          -6.482264439045819,
          -5.421825992041242,
          -6.753466206511206,
          -6.269946403038331,
          -5.564067626638977,
          -5.9936396021756755,
          -5.16004719471122,
          -5.388204511246422,
          -5.241810799317353,
          -5.453482517795155,
          -4.681069505435563,
          -4.889199529910741,
          -4.959498076188159,
          -4.436650330761978,
          -4.4114418969461,
          -4.144372889209134,
          -4.548059792205352,
          -4.183959235584569,
          -4.78542694659614,
          -3.66551547921243,
          -3.4946545790253456,
          -3.125601470342814,
          -3.2842940271417422,
          -2.430327297328688,
          -2.309929691996383,
          -2.328502079139607,
          -2.2847081465213472,
          -1.8541590940571862,
          -2.3301351970640924,
          0.0032278109646206588,
          -0.3512070235973477,
          -0.007481155915828097,
          0.2427645518419954,
          1.1201425342052858,
          0.8149061230807799,
          0.2708013470225019,
          1.5403129865432952,
          0.8377104782896971,
          2.6144547978701063,
          2.595075057775462,
          2.5853634490421173,
          2.5305302591056584,
          2.695557078564933,
          1.997235019908091,
          2.0507172527045334,
          3.260593751862382,
          2.6579759428364778,
          3.275102448631049,
          3.351287116706816,
          3.4895757926741577,
          2.9710451182268685,
          5.001269066927014,
          4.2272695141233605,
          4.334838566452531,
          5.431523442664307,
          5.55315950992209,
          4.650018729467211,
          5.201818034635872,
          5.898786042132704,
          4.752030609720384,
          4.818731827087694,
          5.855606655092229,
          5.837880371172128,
          5.656713319854605,
          5.901339649271739,
          6.478359667152082,
          5.8707629833995565,
          6.280058501440722,
          7.320669621558791,
          6.671771761316421,
          6.527280255836745,
          6.96884574297156,
          7.238567279562261,
          6.901811214704127,
          6.798430645317374,
          6.853237048740123,
          8.356302854822449,
          7.326117831046746,
          7.5232417277043595,
          8.280341583109312,
          8.216575586949187,
          8.234595382872703,
          7.810628348274475,
          7.943722608017945,
          7.775861109903463,
          7.246544918697527,
          8.952162337165507,
          8.403723642980939,
          9.0868099615803,
          8.969229503655622,
          7.911655142630881,
          8.524795039664781,
          7.709647198905381,
          7.757978316884877,
          8.527115550383416,
          9.043049589062676,
          7.827359209092686,
          8.36589135954888,
          8.264492677353113,
          7.661552259336435,
          8.092760863605932,
          8.056876547885517,
          8.257485815330067,
          8.335647984716262,
          7.43352079800599,
          7.911549728858768,
          8.555605062799039,
          6.944880087458735,
          7.64814964325916,
          7.47541786613386,
          7.441656456258791,
          6.541789213871494,
          8.215271598901737,
          7.291867366766619,
          6.44552905401417,
          7.090449915480507,
          6.438207887171391,
          5.6529334661508575,
          8.080763335118363,
          6.431497726697417,
          6.466261620713224,
          7.0770155844142115,
          6.76321816843115,
          6.82158939141869,
          5.58189515084675,
          6.659598438694561,
          5.950260338124382,
          5.908664480567376,
          5.422916792658073,
          6.385693296632922,
          6.075804751664362,
          4.999209348428902,
          4.834150559435317,
          5.045367113959266,
          5.346439074020164,
          4.713972888168707,
          4.8278021033353,
          4.749230265888988,
          4.091527328062927,
          4.36204944562021,
          5.145686951422665,
          4.2057042375167875,
          5.367282603790201,
          4.056555522716675,
          3.6339449192142563,
          3.4672550378623566,
          4.105895773483246,
          4.0281293744941244,
          3.6382782812768575,
          3.480590320831361,
          3.734923690975318,
          2.689127226354076,
          2.781109844375255,
          2.677538748334916,
          2.9746966091426987,
          3.38337584421875,
          2.6784067396079028,
          2.826765993576622,
          2.728168122489423,
          2.1536617190096674,
          2.9680367705648347,
          2.481958727486141,
          2.1970847224552923,
          1.7699071991547886,
          1.527368935958938,
          0.5431747917720102,
          1.417485096508388,
          0.600312063782555,
          0.7681034577259016,
          0.8762044822102641,
          0.2562671856901435,
          0.09504394364991242,
          -0.15400020954878002,
          1.183272838428354,
          0.07796844457785213,
          -0.3858212683017488,
          0.0006252130667991906,
          0.22013593199217496,
          -0.09377010935060248,
          -0.17608662049558887
         ]
        },
        {
         "line": {
          "color": "black",
          "width": 2
         },
         "mode": "lines",
         "name": "total_count",
         "type": "scatter",
         "x": [
          "2020-10-01T01:00:00",
          "2020-10-01T02:00:00",
          "2020-10-01T03:00:00",
          "2020-10-01T05:00:00",
          "2020-10-01T11:00:00",
          "2020-10-01T13:00:00",
          "2020-10-01T14:00:00",
          "2020-10-01T15:00:00",
          "2020-10-01T16:00:00",
          "2020-10-01T17:00:00",
          "2020-10-01T18:00:00",
          "2020-10-01T19:00:00",
          "2020-10-01T20:00:00",
          "2020-10-01T21:00:00",
          "2020-10-01T22:00:00",
          "2020-10-01T23:00:00",
          "2020-10-02T00:00:00",
          "2020-10-02T02:00:00",
          "2020-10-02T03:00:00",
          "2020-10-02T04:00:00",
          "2020-10-02T05:00:00",
          "2020-10-02T07:00:00",
          "2020-10-02T12:00:00",
          "2020-10-02T14:00:00",
          "2020-10-02T15:00:00",
          "2020-10-02T16:00:00",
          "2020-10-02T17:00:00",
          "2020-10-02T18:00:00",
          "2020-10-02T19:00:00",
          "2020-10-02T20:00:00",
          "2020-10-02T21:00:00",
          "2020-10-02T22:00:00",
          "2020-10-03T00:00:00",
          "2020-10-03T01:00:00",
          "2020-10-03T02:00:00",
          "2020-10-03T13:00:00",
          "2020-10-03T15:00:00",
          "2020-10-03T16:00:00",
          "2020-10-03T18:00:00",
          "2020-10-03T19:00:00",
          "2020-10-03T20:00:00",
          "2020-10-03T21:00:00",
          "2020-10-03T22:00:00",
          "2020-10-04T12:00:00",
          "2020-10-04T13:00:00",
          "2020-10-04T16:00:00",
          "2020-10-04T20:00:00",
          "2020-10-04T22:00:00",
          "2020-10-05T00:00:00",
          "2020-10-05T04:00:00",
          "2020-10-05T09:00:00",
          "2020-10-05T13:00:00",
          "2020-10-05T14:00:00",
          "2020-10-05T15:00:00",
          "2020-10-05T16:00:00",
          "2020-10-05T17:00:00",
          "2020-10-05T18:00:00",
          "2020-10-05T19:00:00",
          "2020-10-05T20:00:00",
          "2020-10-05T22:00:00",
          "2020-10-05T23:00:00",
          "2020-10-06T01:00:00",
          "2020-10-06T02:00:00",
          "2020-10-06T03:00:00",
          "2020-10-06T06:00:00",
          "2020-10-06T13:00:00",
          "2020-10-06T14:00:00",
          "2020-10-06T16:00:00",
          "2020-10-06T17:00:00",
          "2020-10-06T18:00:00",
          "2020-10-06T19:00:00",
          "2020-10-06T20:00:00",
          "2020-10-06T21:00:00",
          "2020-10-06T22:00:00",
          "2020-10-06T23:00:00",
          "2020-10-07T00:00:00",
          "2020-10-07T01:00:00",
          "2020-10-07T02:00:00",
          "2020-10-07T03:00:00",
          "2020-10-07T10:00:00",
          "2020-10-07T12:00:00",
          "2020-10-07T14:00:00",
          "2020-10-07T15:00:00",
          "2020-10-07T16:00:00",
          "2020-10-07T17:00:00",
          "2020-10-07T18:00:00",
          "2020-10-07T19:00:00",
          "2020-10-07T20:00:00",
          "2020-10-07T21:00:00",
          "2020-10-07T22:00:00",
          "2020-10-07T23:00:00",
          "2020-10-08T00:00:00",
          "2020-10-08T01:00:00",
          "2020-10-08T02:00:00",
          "2020-10-08T03:00:00",
          "2020-10-08T04:00:00",
          "2020-10-08T05:00:00",
          "2020-10-08T06:00:00",
          "2020-10-08T07:00:00",
          "2020-10-08T08:00:00",
          "2020-10-08T09:00:00",
          "2020-10-08T10:00:00",
          "2020-10-08T11:00:00",
          "2020-10-08T12:00:00",
          "2020-10-08T13:00:00",
          "2020-10-08T14:00:00",
          "2020-10-08T15:00:00",
          "2020-10-08T16:00:00",
          "2020-10-08T17:00:00",
          "2020-10-08T18:00:00",
          "2020-10-08T19:00:00",
          "2020-10-08T20:00:00",
          "2020-10-08T21:00:00",
          "2020-10-08T22:00:00",
          "2020-10-08T23:00:00",
          "2020-10-09T00:00:00",
          "2020-10-09T01:00:00",
          "2020-10-09T02:00:00",
          "2020-10-09T03:00:00",
          "2020-10-09T04:00:00",
          "2020-10-09T05:00:00",
          "2020-10-09T06:00:00",
          "2020-10-09T09:00:00",
          "2020-10-09T10:00:00",
          "2020-10-09T11:00:00",
          "2020-10-09T12:00:00",
          "2020-10-09T13:00:00",
          "2020-10-09T14:00:00",
          "2020-10-09T15:00:00",
          "2020-10-09T16:00:00",
          "2020-10-09T17:00:00",
          "2020-10-09T18:00:00",
          "2020-10-09T19:00:00",
          "2020-10-09T20:00:00",
          "2020-10-09T21:00:00",
          "2020-10-09T22:00:00",
          "2020-10-09T23:00:00",
          "2020-10-10T00:00:00",
          "2020-10-10T01:00:00",
          "2020-10-10T02:00:00",
          "2020-10-10T03:00:00",
          "2020-10-10T04:00:00",
          "2020-10-10T05:00:00",
          "2020-10-10T07:00:00",
          "2020-10-10T08:00:00",
          "2020-10-10T11:00:00",
          "2020-10-10T12:00:00",
          "2020-10-10T13:00:00",
          "2020-10-10T14:00:00",
          "2020-10-10T15:00:00",
          "2020-10-10T16:00:00",
          "2020-10-10T17:00:00",
          "2020-10-10T18:00:00",
          "2020-10-10T19:00:00",
          "2020-10-10T20:00:00",
          "2020-10-10T21:00:00",
          "2020-10-10T22:00:00",
          "2020-10-10T23:00:00",
          "2020-10-11T00:00:00",
          "2020-10-11T01:00:00",
          "2020-10-11T02:00:00",
          "2020-10-11T03:00:00",
          "2020-10-11T04:00:00",
          "2020-10-11T05:00:00",
          "2020-10-11T07:00:00",
          "2020-10-11T09:00:00",
          "2020-10-11T12:00:00",
          "2020-10-11T13:00:00",
          "2020-10-11T14:00:00",
          "2020-10-11T15:00:00",
          "2020-10-11T16:00:00",
          "2020-10-11T17:00:00",
          "2020-10-11T18:00:00",
          "2020-10-11T19:00:00",
          "2020-10-11T20:00:00",
          "2020-10-11T21:00:00",
          "2020-10-11T22:00:00",
          "2020-10-11T23:00:00",
          "2020-10-12T00:00:00",
          "2020-10-12T01:00:00",
          "2020-10-12T03:00:00",
          "2020-10-12T12:00:00",
          "2020-10-12T13:00:00",
          "2020-10-12T14:00:00",
          "2020-10-12T15:00:00",
          "2020-10-12T16:00:00",
          "2020-10-12T17:00:00",
          "2020-10-12T18:00:00",
          "2020-10-12T19:00:00",
          "2020-10-12T20:00:00",
          "2020-10-12T21:00:00",
          "2020-10-12T22:00:00",
          "2020-10-12T23:00:00",
          "2020-10-13T00:00:00"
         ],
         "y": [
          1.3333333333333333,
          2.333333333333333,
          2.6666666666666665,
          2,
          1.3333333333333333,
          2.333333333333333,
          3.333333333333333,
          4.666666666666666,
          5.333333333333333,
          5.666666666666666,
          5.666666666666666,
          4.333333333333333,
          4.666666666666666,
          3.333333333333333,
          4.333333333333333,
          2.6666666666666665,
          2.6666666666666665,
          1.3333333333333333,
          2,
          1.9999999999999998,
          1.9999999999999998,
          1,
          1,
          3.6666666666666665,
          10,
          13.666666666666666,
          11.333333333333332,
          5.333333333333334,
          4,
          3.9999999999999996,
          4.666666666666666,
          2.6666666666666665,
          3,
          3.6666666666666665,
          3.3333333333333335,
          3.666666666666667,
          1.9999999999999998,
          1.9999999999999998,
          1,
          2,
          1.9999999999999998,
          1.9999999999999998,
          1.6666666666666665,
          1.6666666666666665,
          1.6666666666666665,
          1.3333333333333333,
          1.3333333333333333,
          1.3333333333333333,
          1,
          1,
          1,
          1,
          1.6666666666666665,
          3.666666666666666,
          6,
          6.333333333333333,
          6,
          5.666666666666666,
          7.666666666666666,
          6.333333333333333,
          5,
          1.9999999999999998,
          1.6666666666666665,
          1.3333333333333333,
          1.3333333333333333,
          1.6666666666666665,
          2,
          3.9999999999999996,
          3.6666666666666665,
          3.6666666666666665,
          4,
          4.333333333333333,
          6.333333333333333,
          5.666666666666666,
          5.333333333333333,
          3.3333333333333335,
          2,
          2.333333333333333,
          2,
          1.6666666666666665,
          1.3333333333333333,
          1.6666666666666665,
          3.666666666666666,
          4.666666666666666,
          7.999999999999999,
          7.666666666666666,
          10,
          9,
          14.666666666666666,
          18.666666666666664,
          30.666666666666664,
          49.33333333333333,
          67.33333333333333,
          76.33333333333333,
          67.33333333333333,
          52.33333333333333,
          37.666666666666664,
          25,
          15.333333333333332,
          6.999999999999999,
          3.666666666666666,
          5,
          8.666666666666666,
          23.333333333333332,
          38,
          51,
          46.666666666666664,
          37.33333333333333,
          31.666666666666664,
          34,
          40,
          53.33333333333333,
          51.99999999999999,
          47.33333333333333,
          30.999999999999996,
          28.333333333333332,
          27.333333333333332,
          27.666666666666664,
          23.666666666666664,
          19.666666666666664,
          11.666666666666666,
          6.333333333333333,
          3.666666666666666,
          4.666666666666666,
          4.666666666666667,
          12,
          19,
          30,
          33.666666666666664,
          34.33333333333333,
          29.33333333333333,
          25.333333333333332,
          21,
          23.333333333333332,
          23.666666666666664,
          21.999999999999996,
          20.666666666666664,
          21,
          26.666666666666664,
          24.333333333333332,
          18.666666666666664,
          9.333333333333332,
          4.333333333333333,
          1.3333333333333333,
          1,
          1,
          1,
          5,
          6.999999999999999,
          11,
          11.666666666666666,
          9.999999999999998,
          7.666666666666667,
          5.333333333333333,
          8.666666666666666,
          8.666666666666666,
          8.666666666666666,
          7.666666666666666,
          6.666666666666666,
          6,
          7.666666666666666,
          7.666666666666666,
          6.999999999999999,
          2.6666666666666665,
          1.9999999999999998,
          1,
          1.3333333333333333,
          1.3333333333333333,
          1.3333333333333333,
          1.6666666666666665,
          3.333333333333333,
          5,
          4.666666666666667,
          3,
          1.3333333333333333,
          1,
          1,
          1.3333333333333333,
          1.3333333333333333,
          1.3333333333333333,
          1,
          4.666666666666667,
          5.666666666666666,
          8,
          10,
          12.333333333333332,
          12.333333333333332,
          7.333333333333333,
          4.333333333333333,
          3,
          10.666666666666666,
          15,
          16.333333333333332,
          7.999999999999999
         ]
        },
        {
         "line": {
          "color": "red",
          "width": 2
         },
         "mode": "lines",
         "name": "Anomaly Score",
         "type": "scatter",
         "x": [
          "2020-10-01T01:00:00",
          "2020-10-01T02:00:00",
          "2020-10-01T03:00:00",
          "2020-10-01T05:00:00",
          "2020-10-01T11:00:00",
          "2020-10-01T13:00:00",
          "2020-10-01T14:00:00",
          "2020-10-01T15:00:00",
          "2020-10-01T16:00:00",
          "2020-10-01T17:00:00",
          "2020-10-01T18:00:00",
          "2020-10-01T19:00:00",
          "2020-10-01T20:00:00",
          "2020-10-01T21:00:00",
          "2020-10-01T22:00:00",
          "2020-10-01T23:00:00",
          "2020-10-02T00:00:00",
          "2020-10-02T02:00:00",
          "2020-10-02T03:00:00",
          "2020-10-02T04:00:00",
          "2020-10-02T05:00:00",
          "2020-10-02T07:00:00",
          "2020-10-02T12:00:00",
          "2020-10-02T14:00:00",
          "2020-10-02T15:00:00",
          "2020-10-02T16:00:00",
          "2020-10-02T17:00:00",
          "2020-10-02T18:00:00",
          "2020-10-02T19:00:00",
          "2020-10-02T20:00:00",
          "2020-10-02T21:00:00",
          "2020-10-02T22:00:00",
          "2020-10-03T00:00:00",
          "2020-10-03T01:00:00",
          "2020-10-03T02:00:00",
          "2020-10-03T13:00:00",
          "2020-10-03T15:00:00",
          "2020-10-03T16:00:00",
          "2020-10-03T18:00:00",
          "2020-10-03T19:00:00",
          "2020-10-03T20:00:00",
          "2020-10-03T21:00:00",
          "2020-10-03T22:00:00",
          "2020-10-04T12:00:00",
          "2020-10-04T13:00:00",
          "2020-10-04T16:00:00",
          "2020-10-04T20:00:00",
          "2020-10-04T22:00:00",
          "2020-10-05T00:00:00",
          "2020-10-05T04:00:00",
          "2020-10-05T09:00:00",
          "2020-10-05T13:00:00",
          "2020-10-05T14:00:00",
          "2020-10-05T15:00:00",
          "2020-10-05T16:00:00",
          "2020-10-05T17:00:00",
          "2020-10-05T18:00:00",
          "2020-10-05T19:00:00",
          "2020-10-05T20:00:00",
          "2020-10-05T22:00:00",
          "2020-10-05T23:00:00",
          "2020-10-06T01:00:00",
          "2020-10-06T02:00:00",
          "2020-10-06T03:00:00",
          "2020-10-06T06:00:00",
          "2020-10-06T13:00:00",
          "2020-10-06T14:00:00",
          "2020-10-06T16:00:00",
          "2020-10-06T17:00:00",
          "2020-10-06T18:00:00",
          "2020-10-06T19:00:00",
          "2020-10-06T20:00:00",
          "2020-10-06T21:00:00",
          "2020-10-06T22:00:00",
          "2020-10-06T23:00:00",
          "2020-10-07T00:00:00",
          "2020-10-07T01:00:00",
          "2020-10-07T02:00:00",
          "2020-10-07T03:00:00",
          "2020-10-07T10:00:00",
          "2020-10-07T12:00:00",
          "2020-10-07T14:00:00",
          "2020-10-07T15:00:00",
          "2020-10-07T16:00:00",
          "2020-10-07T17:00:00",
          "2020-10-07T18:00:00",
          "2020-10-07T19:00:00",
          "2020-10-07T20:00:00",
          "2020-10-07T21:00:00",
          "2020-10-07T22:00:00",
          "2020-10-07T23:00:00",
          "2020-10-08T00:00:00",
          "2020-10-08T01:00:00",
          "2020-10-08T02:00:00",
          "2020-10-08T03:00:00",
          "2020-10-08T04:00:00",
          "2020-10-08T05:00:00",
          "2020-10-08T06:00:00",
          "2020-10-08T07:00:00",
          "2020-10-08T08:00:00",
          "2020-10-08T09:00:00",
          "2020-10-08T10:00:00",
          "2020-10-08T11:00:00",
          "2020-10-08T12:00:00",
          "2020-10-08T13:00:00",
          "2020-10-08T14:00:00",
          "2020-10-08T15:00:00",
          "2020-10-08T16:00:00",
          "2020-10-08T17:00:00",
          "2020-10-08T18:00:00",
          "2020-10-08T19:00:00",
          "2020-10-08T20:00:00",
          "2020-10-08T21:00:00",
          "2020-10-08T22:00:00",
          "2020-10-08T23:00:00",
          "2020-10-09T00:00:00",
          "2020-10-09T01:00:00",
          "2020-10-09T02:00:00",
          "2020-10-09T03:00:00",
          "2020-10-09T04:00:00",
          "2020-10-09T05:00:00",
          "2020-10-09T06:00:00",
          "2020-10-09T09:00:00",
          "2020-10-09T10:00:00",
          "2020-10-09T11:00:00",
          "2020-10-09T12:00:00",
          "2020-10-09T13:00:00",
          "2020-10-09T14:00:00",
          "2020-10-09T15:00:00",
          "2020-10-09T16:00:00",
          "2020-10-09T17:00:00",
          "2020-10-09T18:00:00",
          "2020-10-09T19:00:00",
          "2020-10-09T20:00:00",
          "2020-10-09T21:00:00",
          "2020-10-09T22:00:00",
          "2020-10-09T23:00:00",
          "2020-10-10T00:00:00",
          "2020-10-10T01:00:00",
          "2020-10-10T02:00:00",
          "2020-10-10T03:00:00",
          "2020-10-10T04:00:00",
          "2020-10-10T05:00:00",
          "2020-10-10T07:00:00",
          "2020-10-10T08:00:00",
          "2020-10-10T11:00:00",
          "2020-10-10T12:00:00",
          "2020-10-10T13:00:00",
          "2020-10-10T14:00:00",
          "2020-10-10T15:00:00",
          "2020-10-10T16:00:00",
          "2020-10-10T17:00:00",
          "2020-10-10T18:00:00",
          "2020-10-10T19:00:00",
          "2020-10-10T20:00:00",
          "2020-10-10T21:00:00",
          "2020-10-10T22:00:00",
          "2020-10-10T23:00:00",
          "2020-10-11T00:00:00",
          "2020-10-11T01:00:00",
          "2020-10-11T02:00:00",
          "2020-10-11T03:00:00",
          "2020-10-11T04:00:00",
          "2020-10-11T05:00:00",
          "2020-10-11T07:00:00",
          "2020-10-11T09:00:00",
          "2020-10-11T12:00:00",
          "2020-10-11T13:00:00",
          "2020-10-11T14:00:00",
          "2020-10-11T15:00:00",
          "2020-10-11T16:00:00",
          "2020-10-11T17:00:00",
          "2020-10-11T18:00:00",
          "2020-10-11T19:00:00",
          "2020-10-11T20:00:00",
          "2020-10-11T21:00:00",
          "2020-10-11T22:00:00",
          "2020-10-11T23:00:00",
          "2020-10-12T00:00:00",
          "2020-10-12T01:00:00",
          "2020-10-12T03:00:00",
          "2020-10-12T12:00:00",
          "2020-10-12T13:00:00",
          "2020-10-12T14:00:00",
          "2020-10-12T15:00:00",
          "2020-10-12T16:00:00",
          "2020-10-12T17:00:00",
          "2020-10-12T18:00:00",
          "2020-10-12T19:00:00",
          "2020-10-12T20:00:00",
          "2020-10-12T21:00:00",
          "2020-10-12T22:00:00",
          "2020-10-12T23:00:00",
          "2020-10-13T00:00:00"
         ],
         "xaxis": "x",
         "y": [
          0,
          0,
          0,
          0,
          0,
          0,
          0,
          0,
          0,
          0,
          0,
          0,
          0,
          0,
          0,
          0,
          0,
          0,
          0,
          0,
          0,
          0,
          0,
          0,
          0.6368491467098428,
          1.0527819640886782,
          0.7778953069579942,
          0,
          0,
          0,
          0,
          0,
          0,
          0,
          0,
          0,
          0,
          0,
          -0.5075453033319084,
          0,
          0,
          0,
          0,
          -0.6158351578383379,
          -0.6218640151646336,
          -0.6811365679971266,
          -0.7377709583210669,
          -0.7635656304252214,
          -0.8192692565637862,
          -0.847680277685309,
          -0.9271043989638595,
          -0.9260993288466406,
          -0.9273054115302742,
          -0.7074101764476928,
          0,
          0,
          0,
          0,
          0,
          0,
          -0.6147650875008493,
          -0.9933755637897025,
          -1.0764872913177432,
          -1.1371315951834495,
          -1.1553080615340707,
          -1.3037238404835054,
          -1.1875434125694426,
          -0.9290577939606677,
          -0.9732346458968624,
          -0.9956927201961256,
          -1.0000771856485942,
          -0.9367965290550004,
          -0.7330479947961693,
          -0.7762392119589722,
          -0.883391823573129,
          -1.0686912167001812,
          -1.3674516639099394,
          -1.3712174093108698,
          -1.4128756262163251,
          -1.5060043740333304,
          -1.5289412253237773,
          -1.5120048552965444,
          -1.3019525467935784,
          -1.049639695971229,
          -0.7301435631518151,
          -0.7774826194657025,
          -0.5376821240218064,
          -0.6529151691432876,
          0,
          0,
          1.6192995293793326,
          2.0758603101647912,
          2.6200684530759553,
          2.960300873545764,
          2.5915332306270735,
          2.1657932097926107,
          1.7870204253059014,
          0.895418352690253,
          0,
          -0.9674049521167941,
          -1.491190177884902,
          -1.349321156959839,
          -0.8667554367718675,
          0.6742689695556076,
          1.7953456294032057,
          2.0945247391996302,
          1.9431297892434116,
          1.7742154083572725,
          1.5970932730535936,
          1.686856834004795,
          1.8227181206336014,
          2.178095286992965,
          2.125107830905066,
          1.9924042708235234,
          1.5570317809064347,
          1.374053878004716,
          1.2175616701001446,
          1.212764063247015,
          0.7228903172436356,
          0,
          0,
          -1.0447990160553446,
          -1.3847308945245174,
          -1.2499813957716084,
          -1.2424660583445124,
          0,
          0,
          1.558468299520489,
          1.6857676916822968,
          1.726027501962368,
          1.5325461649021912,
          1.063988997038279,
          0.5846999826941974,
          0.847510716545321,
          0.899032151918028,
          0.737152188625817,
          0.5751223477393819,
          0.6265943250682953,
          1.3558209553348997,
          1.085075821536915,
          0,
          -0.5091258197426007,
          -1.0145156094576395,
          -1.4827059700945227,
          -1.4744558642759777,
          -1.4832446035938187,
          -1.4314367627027205,
          -0.9101807951561067,
          -0.6619202699709863,
          0,
          0,
          0,
          -0.5208981648681731,
          -0.7494047108321801,
          0,
          0,
          0,
          0,
          -0.5760463453119141,
          -0.624351034257682,
          0,
          0,
          -0.5072550748692854,
          -1.0191545750617002,
          -1.0250952987321635,
          -1.1682880347082287,
          -1.023266837557087,
          -1.0380466812203424,
          -1.1039142738214311,
          -0.9967657417206017,
          -0.7870653138198495,
          -0.5847720287241209,
          -0.6150272662781997,
          -0.7839168702808876,
          -1.0065485307104274,
          -1.069446886292335,
          -1.0150728316162652,
          -0.9383221737504169,
          -0.9499699713135382,
          -0.8713945046660123,
          -0.9582014572379193,
          0,
          0,
          0,
          0,
          0,
          0,
          0,
          0,
          -0.5508895997606266,
          0,
          0.6571790338441155,
          0.8051314463763563,
          0
         ],
         "yaxis": "y2"
        }
       ],
       "layout": {
        "height": 600,
        "shapes": [
         {
          "fillcolor": "#e07070",
          "line": {
           "width": 0
          },
          "opacity": 0.4,
          "type": "rect",
          "x0": "2020-10-02T15:00:00",
          "x1": "2020-10-02T16:00:00",
          "xref": "x",
          "y0": 0,
          "y1": 1,
          "yref": "y domain"
         },
         {
          "fillcolor": "#e07070",
          "line": {
           "width": 0
          },
          "opacity": 0.4,
          "type": "rect",
          "x0": "2020-10-02T16:00:00",
          "x1": "2020-10-02T17:00:00",
          "xref": "x",
          "y0": 0,
          "y1": 1,
          "yref": "y domain"
         },
         {
          "fillcolor": "#e07070",
          "line": {
           "width": 0
          },
          "opacity": 0.4,
          "type": "rect",
          "x0": "2020-10-02T17:00:00",
          "x1": "2020-10-02T18:00:00",
          "xref": "x",
          "y0": 0,
          "y1": 1,
          "yref": "y domain"
         },
         {
          "fillcolor": "#e07070",
          "line": {
           "width": 0
          },
          "opacity": 0.4,
          "type": "rect",
          "x0": "2020-10-03T18:00:00",
          "x1": "2020-10-03T19:00:00",
          "xref": "x",
          "y0": 0,
          "y1": 1,
          "yref": "y domain"
         },
         {
          "fillcolor": "#e07070",
          "line": {
           "width": 0
          },
          "opacity": 0.4,
          "type": "rect",
          "x0": "2020-10-04T12:00:00",
          "x1": "2020-10-04T13:00:00",
          "xref": "x",
          "y0": 0,
          "y1": 1,
          "yref": "y domain"
         },
         {
          "fillcolor": "#e07070",
          "line": {
           "width": 0
          },
          "opacity": 0.4,
          "type": "rect",
          "x0": "2020-10-04T13:00:00",
          "x1": "2020-10-04T16:00:00",
          "xref": "x",
          "y0": 0,
          "y1": 1,
          "yref": "y domain"
         },
         {
          "fillcolor": "#e07070",
          "line": {
           "width": 0
          },
          "opacity": 0.4,
          "type": "rect",
          "x0": "2020-10-04T16:00:00",
          "x1": "2020-10-04T20:00:00",
          "xref": "x",
          "y0": 0,
          "y1": 1,
          "yref": "y domain"
         },
         {
          "fillcolor": "#e07070",
          "line": {
           "width": 0
          },
          "opacity": 0.4,
          "type": "rect",
          "x0": "2020-10-04T20:00:00",
          "x1": "2020-10-04T22:00:00",
          "xref": "x",
          "y0": 0,
          "y1": 1,
          "yref": "y domain"
         },
         {
          "fillcolor": "#e07070",
          "line": {
           "width": 0
          },
          "opacity": 0.4,
          "type": "rect",
          "x0": "2020-10-04T22:00:00",
          "x1": "2020-10-05T00:00:00",
          "xref": "x",
          "y0": 0,
          "y1": 1,
          "yref": "y domain"
         },
         {
          "fillcolor": "#e07070",
          "line": {
           "width": 0
          },
          "opacity": 0.4,
          "type": "rect",
          "x0": "2020-10-05T00:00:00",
          "x1": "2020-10-05T04:00:00",
          "xref": "x",
          "y0": 0,
          "y1": 1,
          "yref": "y domain"
         },
         {
          "fillcolor": "#e07070",
          "line": {
           "width": 0
          },
          "opacity": 0.4,
          "type": "rect",
          "x0": "2020-10-05T04:00:00",
          "x1": "2020-10-05T09:00:00",
          "xref": "x",
          "y0": 0,
          "y1": 1,
          "yref": "y domain"
         },
         {
          "fillcolor": "#e07070",
          "line": {
           "width": 0
          },
          "opacity": 0.4,
          "type": "rect",
          "x0": "2020-10-05T09:00:00",
          "x1": "2020-10-05T13:00:00",
          "xref": "x",
          "y0": 0,
          "y1": 1,
          "yref": "y domain"
         },
         {
          "fillcolor": "#e07070",
          "line": {
           "width": 0
          },
          "opacity": 0.4,
          "type": "rect",
          "x0": "2020-10-05T13:00:00",
          "x1": "2020-10-05T14:00:00",
          "xref": "x",
          "y0": 0,
          "y1": 1,
          "yref": "y domain"
         },
         {
          "fillcolor": "#e07070",
          "line": {
           "width": 0
          },
          "opacity": 0.4,
          "type": "rect",
          "x0": "2020-10-05T14:00:00",
          "x1": "2020-10-05T15:00:00",
          "xref": "x",
          "y0": 0,
          "y1": 1,
          "yref": "y domain"
         },
         {
          "fillcolor": "#e07070",
          "line": {
           "width": 0
          },
          "opacity": 0.4,
          "type": "rect",
          "x0": "2020-10-05T15:00:00",
          "x1": "2020-10-05T16:00:00",
          "xref": "x",
          "y0": 0,
          "y1": 1,
          "yref": "y domain"
         },
         {
          "fillcolor": "#e07070",
          "line": {
           "width": 0
          },
          "opacity": 0.4,
          "type": "rect",
          "x0": "2020-10-05T23:00:00",
          "x1": "2020-10-06T01:00:00",
          "xref": "x",
          "y0": 0,
          "y1": 1,
          "yref": "y domain"
         },
         {
          "fillcolor": "#e07070",
          "line": {
           "width": 0
          },
          "opacity": 0.4,
          "type": "rect",
          "x0": "2020-10-06T01:00:00",
          "x1": "2020-10-06T02:00:00",
          "xref": "x",
          "y0": 0,
          "y1": 1,
          "yref": "y domain"
         },
         {
          "fillcolor": "#e07070",
          "line": {
           "width": 0
          },
          "opacity": 0.4,
          "type": "rect",
          "x0": "2020-10-06T02:00:00",
          "x1": "2020-10-06T03:00:00",
          "xref": "x",
          "y0": 0,
          "y1": 1,
          "yref": "y domain"
         },
         {
          "fillcolor": "#e07070",
          "line": {
           "width": 0
          },
          "opacity": 0.4,
          "type": "rect",
          "x0": "2020-10-06T03:00:00",
          "x1": "2020-10-06T06:00:00",
          "xref": "x",
          "y0": 0,
          "y1": 1,
          "yref": "y domain"
         },
         {
          "fillcolor": "#e07070",
          "line": {
           "width": 0
          },
          "opacity": 0.4,
          "type": "rect",
          "x0": "2020-10-06T06:00:00",
          "x1": "2020-10-06T13:00:00",
          "xref": "x",
          "y0": 0,
          "y1": 1,
          "yref": "y domain"
         },
         {
          "fillcolor": "#e07070",
          "line": {
           "width": 0
          },
          "opacity": 0.4,
          "type": "rect",
          "x0": "2020-10-06T13:00:00",
          "x1": "2020-10-06T14:00:00",
          "xref": "x",
          "y0": 0,
          "y1": 1,
          "yref": "y domain"
         },
         {
          "fillcolor": "#e07070",
          "line": {
           "width": 0
          },
          "opacity": 0.4,
          "type": "rect",
          "x0": "2020-10-06T14:00:00",
          "x1": "2020-10-06T16:00:00",
          "xref": "x",
          "y0": 0,
          "y1": 1,
          "yref": "y domain"
         },
         {
          "fillcolor": "#e07070",
          "line": {
           "width": 0
          },
          "opacity": 0.4,
          "type": "rect",
          "x0": "2020-10-06T16:00:00",
          "x1": "2020-10-06T17:00:00",
          "xref": "x",
          "y0": 0,
          "y1": 1,
          "yref": "y domain"
         },
         {
          "fillcolor": "#e07070",
          "line": {
           "width": 0
          },
          "opacity": 0.4,
          "type": "rect",
          "x0": "2020-10-06T17:00:00",
          "x1": "2020-10-06T18:00:00",
          "xref": "x",
          "y0": 0,
          "y1": 1,
          "yref": "y domain"
         },
         {
          "fillcolor": "#e07070",
          "line": {
           "width": 0
          },
          "opacity": 0.4,
          "type": "rect",
          "x0": "2020-10-06T18:00:00",
          "x1": "2020-10-06T19:00:00",
          "xref": "x",
          "y0": 0,
          "y1": 1,
          "yref": "y domain"
         },
         {
          "fillcolor": "#e07070",
          "line": {
           "width": 0
          },
          "opacity": 0.4,
          "type": "rect",
          "x0": "2020-10-06T19:00:00",
          "x1": "2020-10-06T20:00:00",
          "xref": "x",
          "y0": 0,
          "y1": 1,
          "yref": "y domain"
         },
         {
          "fillcolor": "#e07070",
          "line": {
           "width": 0
          },
          "opacity": 0.4,
          "type": "rect",
          "x0": "2020-10-06T20:00:00",
          "x1": "2020-10-06T21:00:00",
          "xref": "x",
          "y0": 0,
          "y1": 1,
          "yref": "y domain"
         },
         {
          "fillcolor": "#e07070",
          "line": {
           "width": 0
          },
          "opacity": 0.4,
          "type": "rect",
          "x0": "2020-10-06T21:00:00",
          "x1": "2020-10-06T22:00:00",
          "xref": "x",
          "y0": 0,
          "y1": 1,
          "yref": "y domain"
         },
         {
          "fillcolor": "#e07070",
          "line": {
           "width": 0
          },
          "opacity": 0.4,
          "type": "rect",
          "x0": "2020-10-06T22:00:00",
          "x1": "2020-10-06T23:00:00",
          "xref": "x",
          "y0": 0,
          "y1": 1,
          "yref": "y domain"
         },
         {
          "fillcolor": "#e07070",
          "line": {
           "width": 0
          },
          "opacity": 0.4,
          "type": "rect",
          "x0": "2020-10-06T23:00:00",
          "x1": "2020-10-07T00:00:00",
          "xref": "x",
          "y0": 0,
          "y1": 1,
          "yref": "y domain"
         },
         {
          "fillcolor": "#e07070",
          "line": {
           "width": 0
          },
          "opacity": 0.4,
          "type": "rect",
          "x0": "2020-10-07T00:00:00",
          "x1": "2020-10-07T01:00:00",
          "xref": "x",
          "y0": 0,
          "y1": 1,
          "yref": "y domain"
         },
         {
          "fillcolor": "#e07070",
          "line": {
           "width": 0
          },
          "opacity": 0.4,
          "type": "rect",
          "x0": "2020-10-07T01:00:00",
          "x1": "2020-10-07T02:00:00",
          "xref": "x",
          "y0": 0,
          "y1": 1,
          "yref": "y domain"
         },
         {
          "fillcolor": "#e07070",
          "line": {
           "width": 0
          },
          "opacity": 0.4,
          "type": "rect",
          "x0": "2020-10-07T02:00:00",
          "x1": "2020-10-07T03:00:00",
          "xref": "x",
          "y0": 0,
          "y1": 1,
          "yref": "y domain"
         },
         {
          "fillcolor": "#e07070",
          "line": {
           "width": 0
          },
          "opacity": 0.4,
          "type": "rect",
          "x0": "2020-10-07T03:00:00",
          "x1": "2020-10-07T10:00:00",
          "xref": "x",
          "y0": 0,
          "y1": 1,
          "yref": "y domain"
         },
         {
          "fillcolor": "#e07070",
          "line": {
           "width": 0
          },
          "opacity": 0.4,
          "type": "rect",
          "x0": "2020-10-07T10:00:00",
          "x1": "2020-10-07T12:00:00",
          "xref": "x",
          "y0": 0,
          "y1": 1,
          "yref": "y domain"
         },
         {
          "fillcolor": "#e07070",
          "line": {
           "width": 0
          },
          "opacity": 0.4,
          "type": "rect",
          "x0": "2020-10-07T12:00:00",
          "x1": "2020-10-07T14:00:00",
          "xref": "x",
          "y0": 0,
          "y1": 1,
          "yref": "y domain"
         },
         {
          "fillcolor": "#e07070",
          "line": {
           "width": 0
          },
          "opacity": 0.4,
          "type": "rect",
          "x0": "2020-10-07T14:00:00",
          "x1": "2020-10-07T15:00:00",
          "xref": "x",
          "y0": 0,
          "y1": 1,
          "yref": "y domain"
         },
         {
          "fillcolor": "#e07070",
          "line": {
           "width": 0
          },
          "opacity": 0.4,
          "type": "rect",
          "x0": "2020-10-07T15:00:00",
          "x1": "2020-10-07T16:00:00",
          "xref": "x",
          "y0": 0,
          "y1": 1,
          "yref": "y domain"
         },
         {
          "fillcolor": "#e07070",
          "line": {
           "width": 0
          },
          "opacity": 0.4,
          "type": "rect",
          "x0": "2020-10-07T16:00:00",
          "x1": "2020-10-07T17:00:00",
          "xref": "x",
          "y0": 0,
          "y1": 1,
          "yref": "y domain"
         },
         {
          "fillcolor": "#e07070",
          "line": {
           "width": 0
          },
          "opacity": 0.4,
          "type": "rect",
          "x0": "2020-10-07T17:00:00",
          "x1": "2020-10-07T18:00:00",
          "xref": "x",
          "y0": 0,
          "y1": 1,
          "yref": "y domain"
         },
         {
          "fillcolor": "#e07070",
          "line": {
           "width": 0
          },
          "opacity": 0.4,
          "type": "rect",
          "x0": "2020-10-07T18:00:00",
          "x1": "2020-10-07T19:00:00",
          "xref": "x",
          "y0": 0,
          "y1": 1,
          "yref": "y domain"
         },
         {
          "fillcolor": "#e07070",
          "line": {
           "width": 0
          },
          "opacity": 0.4,
          "type": "rect",
          "x0": "2020-10-07T19:00:00",
          "x1": "2020-10-07T20:00:00",
          "xref": "x",
          "y0": 0,
          "y1": 1,
          "yref": "y domain"
         },
         {
          "fillcolor": "#e07070",
          "line": {
           "width": 0
          },
          "opacity": 0.4,
          "type": "rect",
          "x0": "2020-10-07T20:00:00",
          "x1": "2020-10-07T21:00:00",
          "xref": "x",
          "y0": 0,
          "y1": 1,
          "yref": "y domain"
         },
         {
          "fillcolor": "#e07070",
          "line": {
           "width": 0
          },
          "opacity": 0.4,
          "type": "rect",
          "x0": "2020-10-07T23:00:00",
          "x1": "2020-10-08T00:00:00",
          "xref": "x",
          "y0": 0,
          "y1": 1,
          "yref": "y domain"
         },
         {
          "fillcolor": "#e07070",
          "line": {
           "width": 0
          },
          "opacity": 0.4,
          "type": "rect",
          "x0": "2020-10-08T00:00:00",
          "x1": "2020-10-08T01:00:00",
          "xref": "x",
          "y0": 0,
          "y1": 1,
          "yref": "y domain"
         },
         {
          "fillcolor": "#e07070",
          "line": {
           "width": 0
          },
          "opacity": 0.4,
          "type": "rect",
          "x0": "2020-10-08T01:00:00",
          "x1": "2020-10-08T02:00:00",
          "xref": "x",
          "y0": 0,
          "y1": 1,
          "yref": "y domain"
         },
         {
          "fillcolor": "#e07070",
          "line": {
           "width": 0
          },
          "opacity": 0.4,
          "type": "rect",
          "x0": "2020-10-08T02:00:00",
          "x1": "2020-10-08T03:00:00",
          "xref": "x",
          "y0": 0,
          "y1": 1,
          "yref": "y domain"
         },
         {
          "fillcolor": "#e07070",
          "line": {
           "width": 0
          },
          "opacity": 0.4,
          "type": "rect",
          "x0": "2020-10-08T03:00:00",
          "x1": "2020-10-08T04:00:00",
          "xref": "x",
          "y0": 0,
          "y1": 1,
          "yref": "y domain"
         },
         {
          "fillcolor": "#e07070",
          "line": {
           "width": 0
          },
          "opacity": 0.4,
          "type": "rect",
          "x0": "2020-10-08T04:00:00",
          "x1": "2020-10-08T05:00:00",
          "xref": "x",
          "y0": 0,
          "y1": 1,
          "yref": "y domain"
         },
         {
          "fillcolor": "#e07070",
          "line": {
           "width": 0
          },
          "opacity": 0.4,
          "type": "rect",
          "x0": "2020-10-08T05:00:00",
          "x1": "2020-10-08T06:00:00",
          "xref": "x",
          "y0": 0,
          "y1": 1,
          "yref": "y domain"
         },
         {
          "fillcolor": "#e07070",
          "line": {
           "width": 0
          },
          "opacity": 0.4,
          "type": "rect",
          "x0": "2020-10-08T06:00:00",
          "x1": "2020-10-08T07:00:00",
          "xref": "x",
          "y0": 0,
          "y1": 1,
          "yref": "y domain"
         },
         {
          "fillcolor": "#e07070",
          "line": {
           "width": 0
          },
          "opacity": 0.4,
          "type": "rect",
          "x0": "2020-10-08T08:00:00",
          "x1": "2020-10-08T09:00:00",
          "xref": "x",
          "y0": 0,
          "y1": 1,
          "yref": "y domain"
         },
         {
          "fillcolor": "#e07070",
          "line": {
           "width": 0
          },
          "opacity": 0.4,
          "type": "rect",
          "x0": "2020-10-08T09:00:00",
          "x1": "2020-10-08T10:00:00",
          "xref": "x",
          "y0": 0,
          "y1": 1,
          "yref": "y domain"
         },
         {
          "fillcolor": "#e07070",
          "line": {
           "width": 0
          },
          "opacity": 0.4,
          "type": "rect",
          "x0": "2020-10-08T10:00:00",
          "x1": "2020-10-08T11:00:00",
          "xref": "x",
          "y0": 0,
          "y1": 1,
          "yref": "y domain"
         },
         {
          "fillcolor": "#e07070",
          "line": {
           "width": 0
          },
          "opacity": 0.4,
          "type": "rect",
          "x0": "2020-10-08T11:00:00",
          "x1": "2020-10-08T12:00:00",
          "xref": "x",
          "y0": 0,
          "y1": 1,
          "yref": "y domain"
         },
         {
          "fillcolor": "#e07070",
          "line": {
           "width": 0
          },
          "opacity": 0.4,
          "type": "rect",
          "x0": "2020-10-08T12:00:00",
          "x1": "2020-10-08T13:00:00",
          "xref": "x",
          "y0": 0,
          "y1": 1,
          "yref": "y domain"
         },
         {
          "fillcolor": "#e07070",
          "line": {
           "width": 0
          },
          "opacity": 0.4,
          "type": "rect",
          "x0": "2020-10-08T13:00:00",
          "x1": "2020-10-08T14:00:00",
          "xref": "x",
          "y0": 0,
          "y1": 1,
          "yref": "y domain"
         },
         {
          "fillcolor": "#e07070",
          "line": {
           "width": 0
          },
          "opacity": 0.4,
          "type": "rect",
          "x0": "2020-10-08T14:00:00",
          "x1": "2020-10-08T15:00:00",
          "xref": "x",
          "y0": 0,
          "y1": 1,
          "yref": "y domain"
         },
         {
          "fillcolor": "#e07070",
          "line": {
           "width": 0
          },
          "opacity": 0.4,
          "type": "rect",
          "x0": "2020-10-08T15:00:00",
          "x1": "2020-10-08T16:00:00",
          "xref": "x",
          "y0": 0,
          "y1": 1,
          "yref": "y domain"
         },
         {
          "fillcolor": "#e07070",
          "line": {
           "width": 0
          },
          "opacity": 0.4,
          "type": "rect",
          "x0": "2020-10-08T16:00:00",
          "x1": "2020-10-08T17:00:00",
          "xref": "x",
          "y0": 0,
          "y1": 1,
          "yref": "y domain"
         },
         {
          "fillcolor": "#e07070",
          "line": {
           "width": 0
          },
          "opacity": 0.4,
          "type": "rect",
          "x0": "2020-10-08T17:00:00",
          "x1": "2020-10-08T18:00:00",
          "xref": "x",
          "y0": 0,
          "y1": 1,
          "yref": "y domain"
         },
         {
          "fillcolor": "#e07070",
          "line": {
           "width": 0
          },
          "opacity": 0.4,
          "type": "rect",
          "x0": "2020-10-08T18:00:00",
          "x1": "2020-10-08T19:00:00",
          "xref": "x",
          "y0": 0,
          "y1": 1,
          "yref": "y domain"
         },
         {
          "fillcolor": "#e07070",
          "line": {
           "width": 0
          },
          "opacity": 0.4,
          "type": "rect",
          "x0": "2020-10-08T19:00:00",
          "x1": "2020-10-08T20:00:00",
          "xref": "x",
          "y0": 0,
          "y1": 1,
          "yref": "y domain"
         },
         {
          "fillcolor": "#e07070",
          "line": {
           "width": 0
          },
          "opacity": 0.4,
          "type": "rect",
          "x0": "2020-10-08T20:00:00",
          "x1": "2020-10-08T21:00:00",
          "xref": "x",
          "y0": 0,
          "y1": 1,
          "yref": "y domain"
         },
         {
          "fillcolor": "#e07070",
          "line": {
           "width": 0
          },
          "opacity": 0.4,
          "type": "rect",
          "x0": "2020-10-08T21:00:00",
          "x1": "2020-10-08T22:00:00",
          "xref": "x",
          "y0": 0,
          "y1": 1,
          "yref": "y domain"
         },
         {
          "fillcolor": "#e07070",
          "line": {
           "width": 0
          },
          "opacity": 0.4,
          "type": "rect",
          "x0": "2020-10-08T22:00:00",
          "x1": "2020-10-08T23:00:00",
          "xref": "x",
          "y0": 0,
          "y1": 1,
          "yref": "y domain"
         },
         {
          "fillcolor": "#e07070",
          "line": {
           "width": 0
          },
          "opacity": 0.4,
          "type": "rect",
          "x0": "2020-10-08T23:00:00",
          "x1": "2020-10-09T00:00:00",
          "xref": "x",
          "y0": 0,
          "y1": 1,
          "yref": "y domain"
         },
         {
          "fillcolor": "#e07070",
          "line": {
           "width": 0
          },
          "opacity": 0.4,
          "type": "rect",
          "x0": "2020-10-09T00:00:00",
          "x1": "2020-10-09T01:00:00",
          "xref": "x",
          "y0": 0,
          "y1": 1,
          "yref": "y domain"
         },
         {
          "fillcolor": "#e07070",
          "line": {
           "width": 0
          },
          "opacity": 0.4,
          "type": "rect",
          "x0": "2020-10-09T01:00:00",
          "x1": "2020-10-09T02:00:00",
          "xref": "x",
          "y0": 0,
          "y1": 1,
          "yref": "y domain"
         },
         {
          "fillcolor": "#e07070",
          "line": {
           "width": 0
          },
          "opacity": 0.4,
          "type": "rect",
          "x0": "2020-10-09T02:00:00",
          "x1": "2020-10-09T03:00:00",
          "xref": "x",
          "y0": 0,
          "y1": 1,
          "yref": "y domain"
         },
         {
          "fillcolor": "#e07070",
          "line": {
           "width": 0
          },
          "opacity": 0.4,
          "type": "rect",
          "x0": "2020-10-09T03:00:00",
          "x1": "2020-10-09T04:00:00",
          "xref": "x",
          "y0": 0,
          "y1": 1,
          "yref": "y domain"
         },
         {
          "fillcolor": "#e07070",
          "line": {
           "width": 0
          },
          "opacity": 0.4,
          "type": "rect",
          "x0": "2020-10-09T06:00:00",
          "x1": "2020-10-09T09:00:00",
          "xref": "x",
          "y0": 0,
          "y1": 1,
          "yref": "y domain"
         },
         {
          "fillcolor": "#e07070",
          "line": {
           "width": 0
          },
          "opacity": 0.4,
          "type": "rect",
          "x0": "2020-10-09T09:00:00",
          "x1": "2020-10-09T10:00:00",
          "xref": "x",
          "y0": 0,
          "y1": 1,
          "yref": "y domain"
         },
         {
          "fillcolor": "#e07070",
          "line": {
           "width": 0
          },
          "opacity": 0.4,
          "type": "rect",
          "x0": "2020-10-09T10:00:00",
          "x1": "2020-10-09T11:00:00",
          "xref": "x",
          "y0": 0,
          "y1": 1,
          "yref": "y domain"
         },
         {
          "fillcolor": "#e07070",
          "line": {
           "width": 0
          },
          "opacity": 0.4,
          "type": "rect",
          "x0": "2020-10-09T11:00:00",
          "x1": "2020-10-09T12:00:00",
          "xref": "x",
          "y0": 0,
          "y1": 1,
          "yref": "y domain"
         },
         {
          "fillcolor": "#e07070",
          "line": {
           "width": 0
          },
          "opacity": 0.4,
          "type": "rect",
          "x0": "2020-10-09T14:00:00",
          "x1": "2020-10-09T15:00:00",
          "xref": "x",
          "y0": 0,
          "y1": 1,
          "yref": "y domain"
         },
         {
          "fillcolor": "#e07070",
          "line": {
           "width": 0
          },
          "opacity": 0.4,
          "type": "rect",
          "x0": "2020-10-09T15:00:00",
          "x1": "2020-10-09T16:00:00",
          "xref": "x",
          "y0": 0,
          "y1": 1,
          "yref": "y domain"
         },
         {
          "fillcolor": "#e07070",
          "line": {
           "width": 0
          },
          "opacity": 0.4,
          "type": "rect",
          "x0": "2020-10-09T16:00:00",
          "x1": "2020-10-09T17:00:00",
          "xref": "x",
          "y0": 0,
          "y1": 1,
          "yref": "y domain"
         },
         {
          "fillcolor": "#e07070",
          "line": {
           "width": 0
          },
          "opacity": 0.4,
          "type": "rect",
          "x0": "2020-10-09T17:00:00",
          "x1": "2020-10-09T18:00:00",
          "xref": "x",
          "y0": 0,
          "y1": 1,
          "yref": "y domain"
         },
         {
          "fillcolor": "#e07070",
          "line": {
           "width": 0
          },
          "opacity": 0.4,
          "type": "rect",
          "x0": "2020-10-09T18:00:00",
          "x1": "2020-10-09T19:00:00",
          "xref": "x",
          "y0": 0,
          "y1": 1,
          "yref": "y domain"
         },
         {
          "fillcolor": "#e07070",
          "line": {
           "width": 0
          },
          "opacity": 0.4,
          "type": "rect",
          "x0": "2020-10-09T19:00:00",
          "x1": "2020-10-09T20:00:00",
          "xref": "x",
          "y0": 0,
          "y1": 1,
          "yref": "y domain"
         },
         {
          "fillcolor": "#e07070",
          "line": {
           "width": 0
          },
          "opacity": 0.4,
          "type": "rect",
          "x0": "2020-10-09T20:00:00",
          "x1": "2020-10-09T21:00:00",
          "xref": "x",
          "y0": 0,
          "y1": 1,
          "yref": "y domain"
         },
         {
          "fillcolor": "#e07070",
          "line": {
           "width": 0
          },
          "opacity": 0.4,
          "type": "rect",
          "x0": "2020-10-09T21:00:00",
          "x1": "2020-10-09T22:00:00",
          "xref": "x",
          "y0": 0,
          "y1": 1,
          "yref": "y domain"
         },
         {
          "fillcolor": "#e07070",
          "line": {
           "width": 0
          },
          "opacity": 0.4,
          "type": "rect",
          "x0": "2020-10-09T22:00:00",
          "x1": "2020-10-09T23:00:00",
          "xref": "x",
          "y0": 0,
          "y1": 1,
          "yref": "y domain"
         },
         {
          "fillcolor": "#e07070",
          "line": {
           "width": 0
          },
          "opacity": 0.4,
          "type": "rect",
          "x0": "2020-10-09T23:00:00",
          "x1": "2020-10-10T00:00:00",
          "xref": "x",
          "y0": 0,
          "y1": 1,
          "yref": "y domain"
         },
         {
          "fillcolor": "#e07070",
          "line": {
           "width": 0
          },
          "opacity": 0.4,
          "type": "rect",
          "x0": "2020-10-10T00:00:00",
          "x1": "2020-10-10T01:00:00",
          "xref": "x",
          "y0": 0,
          "y1": 1,
          "yref": "y domain"
         },
         {
          "fillcolor": "#e07070",
          "line": {
           "width": 0
          },
          "opacity": 0.4,
          "type": "rect",
          "x0": "2020-10-10T01:00:00",
          "x1": "2020-10-10T02:00:00",
          "xref": "x",
          "y0": 0,
          "y1": 1,
          "yref": "y domain"
         },
         {
          "fillcolor": "#e07070",
          "line": {
           "width": 0
          },
          "opacity": 0.4,
          "type": "rect",
          "x0": "2020-10-10T02:00:00",
          "x1": "2020-10-10T03:00:00",
          "xref": "x",
          "y0": 0,
          "y1": 1,
          "yref": "y domain"
         },
         {
          "fillcolor": "#e07070",
          "line": {
           "width": 0
          },
          "opacity": 0.4,
          "type": "rect",
          "x0": "2020-10-10T04:00:00",
          "x1": "2020-10-10T05:00:00",
          "xref": "x",
          "y0": 0,
          "y1": 1,
          "yref": "y domain"
         },
         {
          "fillcolor": "#e07070",
          "line": {
           "width": 0
          },
          "opacity": 0.4,
          "type": "rect",
          "x0": "2020-10-10T05:00:00",
          "x1": "2020-10-10T07:00:00",
          "xref": "x",
          "y0": 0,
          "y1": 1,
          "yref": "y domain"
         },
         {
          "fillcolor": "#e07070",
          "line": {
           "width": 0
          },
          "opacity": 0.4,
          "type": "rect",
          "x0": "2020-10-10T07:00:00",
          "x1": "2020-10-10T08:00:00",
          "xref": "x",
          "y0": 0,
          "y1": 1,
          "yref": "y domain"
         },
         {
          "fillcolor": "#e07070",
          "line": {
           "width": 0
          },
          "opacity": 0.4,
          "type": "rect",
          "x0": "2020-10-10T08:00:00",
          "x1": "2020-10-10T11:00:00",
          "xref": "x",
          "y0": 0,
          "y1": 1,
          "yref": "y domain"
         },
         {
          "fillcolor": "#e07070",
          "line": {
           "width": 0
          },
          "opacity": 0.4,
          "type": "rect",
          "x0": "2020-10-10T11:00:00",
          "x1": "2020-10-10T12:00:00",
          "xref": "x",
          "y0": 0,
          "y1": 1,
          "yref": "y domain"
         },
         {
          "fillcolor": "#e07070",
          "line": {
           "width": 0
          },
          "opacity": 0.4,
          "type": "rect",
          "x0": "2020-10-10T12:00:00",
          "x1": "2020-10-10T13:00:00",
          "xref": "x",
          "y0": 0,
          "y1": 1,
          "yref": "y domain"
         },
         {
          "fillcolor": "#e07070",
          "line": {
           "width": 0
          },
          "opacity": 0.4,
          "type": "rect",
          "x0": "2020-10-10T13:00:00",
          "x1": "2020-10-10T14:00:00",
          "xref": "x",
          "y0": 0,
          "y1": 1,
          "yref": "y domain"
         },
         {
          "fillcolor": "#e07070",
          "line": {
           "width": 0
          },
          "opacity": 0.4,
          "type": "rect",
          "x0": "2020-10-10T14:00:00",
          "x1": "2020-10-10T15:00:00",
          "xref": "x",
          "y0": 0,
          "y1": 1,
          "yref": "y domain"
         },
         {
          "fillcolor": "#e07070",
          "line": {
           "width": 0
          },
          "opacity": 0.4,
          "type": "rect",
          "x0": "2020-10-10T18:00:00",
          "x1": "2020-10-10T19:00:00",
          "xref": "x",
          "y0": 0,
          "y1": 1,
          "yref": "y domain"
         },
         {
          "fillcolor": "#e07070",
          "line": {
           "width": 0
          },
          "opacity": 0.4,
          "type": "rect",
          "x0": "2020-10-10T19:00:00",
          "x1": "2020-10-10T20:00:00",
          "xref": "x",
          "y0": 0,
          "y1": 1,
          "yref": "y domain"
         },
         {
          "fillcolor": "#e07070",
          "line": {
           "width": 0
          },
          "opacity": 0.4,
          "type": "rect",
          "x0": "2020-10-11T00:00:00",
          "x1": "2020-10-11T01:00:00",
          "xref": "x",
          "y0": 0,
          "y1": 1,
          "yref": "y domain"
         },
         {
          "fillcolor": "#e07070",
          "line": {
           "width": 0
          },
          "opacity": 0.4,
          "type": "rect",
          "x0": "2020-10-11T01:00:00",
          "x1": "2020-10-11T02:00:00",
          "xref": "x",
          "y0": 0,
          "y1": 1,
          "yref": "y domain"
         },
         {
          "fillcolor": "#e07070",
          "line": {
           "width": 0
          },
          "opacity": 0.4,
          "type": "rect",
          "x0": "2020-10-11T04:00:00",
          "x1": "2020-10-11T05:00:00",
          "xref": "x",
          "y0": 0,
          "y1": 1,
          "yref": "y domain"
         },
         {
          "fillcolor": "#e07070",
          "line": {
           "width": 0
          },
          "opacity": 0.4,
          "type": "rect",
          "x0": "2020-10-11T05:00:00",
          "x1": "2020-10-11T07:00:00",
          "xref": "x",
          "y0": 0,
          "y1": 1,
          "yref": "y domain"
         },
         {
          "fillcolor": "#e07070",
          "line": {
           "width": 0
          },
          "opacity": 0.4,
          "type": "rect",
          "x0": "2020-10-11T07:00:00",
          "x1": "2020-10-11T09:00:00",
          "xref": "x",
          "y0": 0,
          "y1": 1,
          "yref": "y domain"
         },
         {
          "fillcolor": "#e07070",
          "line": {
           "width": 0
          },
          "opacity": 0.4,
          "type": "rect",
          "x0": "2020-10-11T09:00:00",
          "x1": "2020-10-11T12:00:00",
          "xref": "x",
          "y0": 0,
          "y1": 1,
          "yref": "y domain"
         },
         {
          "fillcolor": "#e07070",
          "line": {
           "width": 0
          },
          "opacity": 0.4,
          "type": "rect",
          "x0": "2020-10-11T12:00:00",
          "x1": "2020-10-11T13:00:00",
          "xref": "x",
          "y0": 0,
          "y1": 1,
          "yref": "y domain"
         },
         {
          "fillcolor": "#e07070",
          "line": {
           "width": 0
          },
          "opacity": 0.4,
          "type": "rect",
          "x0": "2020-10-11T13:00:00",
          "x1": "2020-10-11T14:00:00",
          "xref": "x",
          "y0": 0,
          "y1": 1,
          "yref": "y domain"
         },
         {
          "fillcolor": "#e07070",
          "line": {
           "width": 0
          },
          "opacity": 0.4,
          "type": "rect",
          "x0": "2020-10-11T14:00:00",
          "x1": "2020-10-11T15:00:00",
          "xref": "x",
          "y0": 0,
          "y1": 1,
          "yref": "y domain"
         },
         {
          "fillcolor": "#e07070",
          "line": {
           "width": 0
          },
          "opacity": 0.4,
          "type": "rect",
          "x0": "2020-10-11T15:00:00",
          "x1": "2020-10-11T16:00:00",
          "xref": "x",
          "y0": 0,
          "y1": 1,
          "yref": "y domain"
         },
         {
          "fillcolor": "#e07070",
          "line": {
           "width": 0
          },
          "opacity": 0.4,
          "type": "rect",
          "x0": "2020-10-11T16:00:00",
          "x1": "2020-10-11T17:00:00",
          "xref": "x",
          "y0": 0,
          "y1": 1,
          "yref": "y domain"
         },
         {
          "fillcolor": "#e07070",
          "line": {
           "width": 0
          },
          "opacity": 0.4,
          "type": "rect",
          "x0": "2020-10-11T17:00:00",
          "x1": "2020-10-11T18:00:00",
          "xref": "x",
          "y0": 0,
          "y1": 1,
          "yref": "y domain"
         },
         {
          "fillcolor": "#e07070",
          "line": {
           "width": 0
          },
          "opacity": 0.4,
          "type": "rect",
          "x0": "2020-10-11T18:00:00",
          "x1": "2020-10-11T19:00:00",
          "xref": "x",
          "y0": 0,
          "y1": 1,
          "yref": "y domain"
         },
         {
          "fillcolor": "#e07070",
          "line": {
           "width": 0
          },
          "opacity": 0.4,
          "type": "rect",
          "x0": "2020-10-11T19:00:00",
          "x1": "2020-10-11T20:00:00",
          "xref": "x",
          "y0": 0,
          "y1": 1,
          "yref": "y domain"
         },
         {
          "fillcolor": "#e07070",
          "line": {
           "width": 0
          },
          "opacity": 0.4,
          "type": "rect",
          "x0": "2020-10-11T20:00:00",
          "x1": "2020-10-11T21:00:00",
          "xref": "x",
          "y0": 0,
          "y1": 1,
          "yref": "y domain"
         },
         {
          "fillcolor": "#e07070",
          "line": {
           "width": 0
          },
          "opacity": 0.4,
          "type": "rect",
          "x0": "2020-10-11T21:00:00",
          "x1": "2020-10-11T22:00:00",
          "xref": "x",
          "y0": 0,
          "y1": 1,
          "yref": "y domain"
         },
         {
          "fillcolor": "#e07070",
          "line": {
           "width": 0
          },
          "opacity": 0.4,
          "type": "rect",
          "x0": "2020-10-11T22:00:00",
          "x1": "2020-10-11T23:00:00",
          "xref": "x",
          "y0": 0,
          "y1": 1,
          "yref": "y domain"
         },
         {
          "fillcolor": "#e07070",
          "line": {
           "width": 0
          },
          "opacity": 0.4,
          "type": "rect",
          "x0": "2020-10-11T23:00:00",
          "x1": "2020-10-12T00:00:00",
          "xref": "x",
          "y0": 0,
          "y1": 1,
          "yref": "y domain"
         },
         {
          "fillcolor": "#e07070",
          "line": {
           "width": 0
          },
          "opacity": 0.4,
          "type": "rect",
          "x0": "2020-10-12T00:00:00",
          "x1": "2020-10-12T01:00:00",
          "xref": "x",
          "y0": 0,
          "y1": 1,
          "yref": "y domain"
         },
         {
          "fillcolor": "#e07070",
          "line": {
           "width": 0
          },
          "opacity": 0.4,
          "type": "rect",
          "x0": "2020-10-12T01:00:00",
          "x1": "2020-10-12T03:00:00",
          "xref": "x",
          "y0": 0,
          "y1": 1,
          "yref": "y domain"
         },
         {
          "fillcolor": "#e07070",
          "line": {
           "width": 0
          },
          "opacity": 0.4,
          "type": "rect",
          "x0": "2020-10-12T03:00:00",
          "x1": "2020-10-12T12:00:00",
          "xref": "x",
          "y0": 0,
          "y1": 1,
          "yref": "y domain"
         },
         {
          "fillcolor": "#e07070",
          "line": {
           "width": 0
          },
          "opacity": 0.4,
          "type": "rect",
          "x0": "2020-10-12T20:00:00",
          "x1": "2020-10-12T21:00:00",
          "xref": "x",
          "y0": 0,
          "y1": 1,
          "yref": "y domain"
         },
         {
          "fillcolor": "#e07070",
          "line": {
           "width": 0
          },
          "opacity": 0.4,
          "type": "rect",
          "x0": "2020-10-12T22:00:00",
          "x1": "2020-10-12T23:00:00",
          "xref": "x",
          "y0": 0,
          "y1": 1,
          "yref": "y domain"
         },
         {
          "fillcolor": "#e07070",
          "line": {
           "width": 0
          },
          "opacity": 0.4,
          "type": "rect",
          "x0": "2020-10-12T23:00:00",
          "x1": "2020-10-13T00:00:00",
          "xref": "x",
          "y0": 0,
          "y1": 1,
          "yref": "y domain"
         }
        ],
        "showlegend": true,
        "template": {
         "data": {
          "bar": [
           {
            "error_x": {
             "color": "#2a3f5f"
            },
            "error_y": {
             "color": "#2a3f5f"
            },
            "marker": {
             "line": {
              "color": "#E5ECF6",
              "width": 0.5
             },
             "pattern": {
              "fillmode": "overlay",
              "size": 10,
              "solidity": 0.2
             }
            },
            "type": "bar"
           }
          ],
          "barpolar": [
           {
            "marker": {
             "line": {
              "color": "#E5ECF6",
              "width": 0.5
             },
             "pattern": {
              "fillmode": "overlay",
              "size": 10,
              "solidity": 0.2
             }
            },
            "type": "barpolar"
           }
          ],
          "carpet": [
           {
            "aaxis": {
             "endlinecolor": "#2a3f5f",
             "gridcolor": "white",
             "linecolor": "white",
             "minorgridcolor": "white",
             "startlinecolor": "#2a3f5f"
            },
            "baxis": {
             "endlinecolor": "#2a3f5f",
             "gridcolor": "white",
             "linecolor": "white",
             "minorgridcolor": "white",
             "startlinecolor": "#2a3f5f"
            },
            "type": "carpet"
           }
          ],
          "choropleth": [
           {
            "colorbar": {
             "outlinewidth": 0,
             "ticks": ""
            },
            "type": "choropleth"
           }
          ],
          "contour": [
           {
            "colorbar": {
             "outlinewidth": 0,
             "ticks": ""
            },
            "colorscale": [
             [
              0,
              "#0d0887"
             ],
             [
              0.1111111111111111,
              "#46039f"
             ],
             [
              0.2222222222222222,
              "#7201a8"
             ],
             [
              0.3333333333333333,
              "#9c179e"
             ],
             [
              0.4444444444444444,
              "#bd3786"
             ],
             [
              0.5555555555555556,
              "#d8576b"
             ],
             [
              0.6666666666666666,
              "#ed7953"
             ],
             [
              0.7777777777777778,
              "#fb9f3a"
             ],
             [
              0.8888888888888888,
              "#fdca26"
             ],
             [
              1,
              "#f0f921"
             ]
            ],
            "type": "contour"
           }
          ],
          "contourcarpet": [
           {
            "colorbar": {
             "outlinewidth": 0,
             "ticks": ""
            },
            "type": "contourcarpet"
           }
          ],
          "heatmap": [
           {
            "colorbar": {
             "outlinewidth": 0,
             "ticks": ""
            },
            "colorscale": [
             [
              0,
              "#0d0887"
             ],
             [
              0.1111111111111111,
              "#46039f"
             ],
             [
              0.2222222222222222,
              "#7201a8"
             ],
             [
              0.3333333333333333,
              "#9c179e"
             ],
             [
              0.4444444444444444,
              "#bd3786"
             ],
             [
              0.5555555555555556,
              "#d8576b"
             ],
             [
              0.6666666666666666,
              "#ed7953"
             ],
             [
              0.7777777777777778,
              "#fb9f3a"
             ],
             [
              0.8888888888888888,
              "#fdca26"
             ],
             [
              1,
              "#f0f921"
             ]
            ],
            "type": "heatmap"
           }
          ],
          "heatmapgl": [
           {
            "colorbar": {
             "outlinewidth": 0,
             "ticks": ""
            },
            "colorscale": [
             [
              0,
              "#0d0887"
             ],
             [
              0.1111111111111111,
              "#46039f"
             ],
             [
              0.2222222222222222,
              "#7201a8"
             ],
             [
              0.3333333333333333,
              "#9c179e"
             ],
             [
              0.4444444444444444,
              "#bd3786"
             ],
             [
              0.5555555555555556,
              "#d8576b"
             ],
             [
              0.6666666666666666,
              "#ed7953"
             ],
             [
              0.7777777777777778,
              "#fb9f3a"
             ],
             [
              0.8888888888888888,
              "#fdca26"
             ],
             [
              1,
              "#f0f921"
             ]
            ],
            "type": "heatmapgl"
           }
          ],
          "histogram": [
           {
            "marker": {
             "pattern": {
              "fillmode": "overlay",
              "size": 10,
              "solidity": 0.2
             }
            },
            "type": "histogram"
           }
          ],
          "histogram2d": [
           {
            "colorbar": {
             "outlinewidth": 0,
             "ticks": ""
            },
            "colorscale": [
             [
              0,
              "#0d0887"
             ],
             [
              0.1111111111111111,
              "#46039f"
             ],
             [
              0.2222222222222222,
              "#7201a8"
             ],
             [
              0.3333333333333333,
              "#9c179e"
             ],
             [
              0.4444444444444444,
              "#bd3786"
             ],
             [
              0.5555555555555556,
              "#d8576b"
             ],
             [
              0.6666666666666666,
              "#ed7953"
             ],
             [
              0.7777777777777778,
              "#fb9f3a"
             ],
             [
              0.8888888888888888,
              "#fdca26"
             ],
             [
              1,
              "#f0f921"
             ]
            ],
            "type": "histogram2d"
           }
          ],
          "histogram2dcontour": [
           {
            "colorbar": {
             "outlinewidth": 0,
             "ticks": ""
            },
            "colorscale": [
             [
              0,
              "#0d0887"
             ],
             [
              0.1111111111111111,
              "#46039f"
             ],
             [
              0.2222222222222222,
              "#7201a8"
             ],
             [
              0.3333333333333333,
              "#9c179e"
             ],
             [
              0.4444444444444444,
              "#bd3786"
             ],
             [
              0.5555555555555556,
              "#d8576b"
             ],
             [
              0.6666666666666666,
              "#ed7953"
             ],
             [
              0.7777777777777778,
              "#fb9f3a"
             ],
             [
              0.8888888888888888,
              "#fdca26"
             ],
             [
              1,
              "#f0f921"
             ]
            ],
            "type": "histogram2dcontour"
           }
          ],
          "mesh3d": [
           {
            "colorbar": {
             "outlinewidth": 0,
             "ticks": ""
            },
            "type": "mesh3d"
           }
          ],
          "parcoords": [
           {
            "line": {
             "colorbar": {
              "outlinewidth": 0,
              "ticks": ""
             }
            },
            "type": "parcoords"
           }
          ],
          "pie": [
           {
            "automargin": true,
            "type": "pie"
           }
          ],
          "scatter": [
           {
            "marker": {
             "colorbar": {
              "outlinewidth": 0,
              "ticks": ""
             }
            },
            "type": "scatter"
           }
          ],
          "scatter3d": [
           {
            "line": {
             "colorbar": {
              "outlinewidth": 0,
              "ticks": ""
             }
            },
            "marker": {
             "colorbar": {
              "outlinewidth": 0,
              "ticks": ""
             }
            },
            "type": "scatter3d"
           }
          ],
          "scattercarpet": [
           {
            "marker": {
             "colorbar": {
              "outlinewidth": 0,
              "ticks": ""
             }
            },
            "type": "scattercarpet"
           }
          ],
          "scattergeo": [
           {
            "marker": {
             "colorbar": {
              "outlinewidth": 0,
              "ticks": ""
             }
            },
            "type": "scattergeo"
           }
          ],
          "scattergl": [
           {
            "marker": {
             "colorbar": {
              "outlinewidth": 0,
              "ticks": ""
             }
            },
            "type": "scattergl"
           }
          ],
          "scattermapbox": [
           {
            "marker": {
             "colorbar": {
              "outlinewidth": 0,
              "ticks": ""
             }
            },
            "type": "scattermapbox"
           }
          ],
          "scatterpolar": [
           {
            "marker": {
             "colorbar": {
              "outlinewidth": 0,
              "ticks": ""
             }
            },
            "type": "scatterpolar"
           }
          ],
          "scatterpolargl": [
           {
            "marker": {
             "colorbar": {
              "outlinewidth": 0,
              "ticks": ""
             }
            },
            "type": "scatterpolargl"
           }
          ],
          "scatterternary": [
           {
            "marker": {
             "colorbar": {
              "outlinewidth": 0,
              "ticks": ""
             }
            },
            "type": "scatterternary"
           }
          ],
          "surface": [
           {
            "colorbar": {
             "outlinewidth": 0,
             "ticks": ""
            },
            "colorscale": [
             [
              0,
              "#0d0887"
             ],
             [
              0.1111111111111111,
              "#46039f"
             ],
             [
              0.2222222222222222,
              "#7201a8"
             ],
             [
              0.3333333333333333,
              "#9c179e"
             ],
             [
              0.4444444444444444,
              "#bd3786"
             ],
             [
              0.5555555555555556,
              "#d8576b"
             ],
             [
              0.6666666666666666,
              "#ed7953"
             ],
             [
              0.7777777777777778,
              "#fb9f3a"
             ],
             [
              0.8888888888888888,
              "#fdca26"
             ],
             [
              1,
              "#f0f921"
             ]
            ],
            "type": "surface"
           }
          ],
          "table": [
           {
            "cells": {
             "fill": {
              "color": "#EBF0F8"
             },
             "line": {
              "color": "white"
             }
            },
            "header": {
             "fill": {
              "color": "#C8D4E3"
             },
             "line": {
              "color": "white"
             }
            },
            "type": "table"
           }
          ]
         },
         "layout": {
          "annotationdefaults": {
           "arrowcolor": "#2a3f5f",
           "arrowhead": 0,
           "arrowwidth": 1
          },
          "autotypenumbers": "strict",
          "coloraxis": {
           "colorbar": {
            "outlinewidth": 0,
            "ticks": ""
           }
          },
          "colorscale": {
           "diverging": [
            [
             0,
             "#8e0152"
            ],
            [
             0.1,
             "#c51b7d"
            ],
            [
             0.2,
             "#de77ae"
            ],
            [
             0.3,
             "#f1b6da"
            ],
            [
             0.4,
             "#fde0ef"
            ],
            [
             0.5,
             "#f7f7f7"
            ],
            [
             0.6,
             "#e6f5d0"
            ],
            [
             0.7,
             "#b8e186"
            ],
            [
             0.8,
             "#7fbc41"
            ],
            [
             0.9,
             "#4d9221"
            ],
            [
             1,
             "#276419"
            ]
           ],
           "sequential": [
            [
             0,
             "#0d0887"
            ],
            [
             0.1111111111111111,
             "#46039f"
            ],
            [
             0.2222222222222222,
             "#7201a8"
            ],
            [
             0.3333333333333333,
             "#9c179e"
            ],
            [
             0.4444444444444444,
             "#bd3786"
            ],
            [
             0.5555555555555556,
             "#d8576b"
            ],
            [
             0.6666666666666666,
             "#ed7953"
            ],
            [
             0.7777777777777778,
             "#fb9f3a"
            ],
            [
             0.8888888888888888,
             "#fdca26"
            ],
            [
             1,
             "#f0f921"
            ]
           ],
           "sequentialminus": [
            [
             0,
             "#0d0887"
            ],
            [
             0.1111111111111111,
             "#46039f"
            ],
            [
             0.2222222222222222,
             "#7201a8"
            ],
            [
             0.3333333333333333,
             "#9c179e"
            ],
            [
             0.4444444444444444,
             "#bd3786"
            ],
            [
             0.5555555555555556,
             "#d8576b"
            ],
            [
             0.6666666666666666,
             "#ed7953"
            ],
            [
             0.7777777777777778,
             "#fb9f3a"
            ],
            [
             0.8888888888888888,
             "#fdca26"
            ],
            [
             1,
             "#f0f921"
            ]
           ]
          },
          "colorway": [
           "#636efa",
           "#EF553B",
           "#00cc96",
           "#ab63fa",
           "#FFA15A",
           "#19d3f3",
           "#FF6692",
           "#B6E880",
           "#FF97FF",
           "#FECB52"
          ],
          "font": {
           "color": "#2a3f5f"
          },
          "geo": {
           "bgcolor": "white",
           "lakecolor": "white",
           "landcolor": "#E5ECF6",
           "showlakes": true,
           "showland": true,
           "subunitcolor": "white"
          },
          "hoverlabel": {
           "align": "left"
          },
          "hovermode": "closest",
          "mapbox": {
           "style": "light"
          },
          "paper_bgcolor": "white",
          "plot_bgcolor": "#E5ECF6",
          "polar": {
           "angularaxis": {
            "gridcolor": "white",
            "linecolor": "white",
            "ticks": ""
           },
           "bgcolor": "#E5ECF6",
           "radialaxis": {
            "gridcolor": "white",
            "linecolor": "white",
            "ticks": ""
           }
          },
          "scene": {
           "xaxis": {
            "backgroundcolor": "#E5ECF6",
            "gridcolor": "white",
            "gridwidth": 2,
            "linecolor": "white",
            "showbackground": true,
            "ticks": "",
            "zerolinecolor": "white"
           },
           "yaxis": {
            "backgroundcolor": "#E5ECF6",
            "gridcolor": "white",
            "gridwidth": 2,
            "linecolor": "white",
            "showbackground": true,
            "ticks": "",
            "zerolinecolor": "white"
           },
           "zaxis": {
            "backgroundcolor": "#E5ECF6",
            "gridcolor": "white",
            "gridwidth": 2,
            "linecolor": "white",
            "showbackground": true,
            "ticks": "",
            "zerolinecolor": "white"
           }
          },
          "shapedefaults": {
           "line": {
            "color": "#2a3f5f"
           }
          },
          "ternary": {
           "aaxis": {
            "gridcolor": "white",
            "linecolor": "white",
            "ticks": ""
           },
           "baxis": {
            "gridcolor": "white",
            "linecolor": "white",
            "ticks": ""
           },
           "bgcolor": "#E5ECF6",
           "caxis": {
            "gridcolor": "white",
            "linecolor": "white",
            "ticks": ""
           }
          },
          "title": {
           "x": 0.05
          },
          "xaxis": {
           "automargin": true,
           "gridcolor": "white",
           "linecolor": "white",
           "ticks": "",
           "title": {
            "standoff": 15
           },
           "zerolinecolor": "white",
           "zerolinewidth": 2
          },
          "yaxis": {
           "automargin": true,
           "gridcolor": "white",
           "linecolor": "white",
           "ticks": "",
           "title": {
            "standoff": 15
           },
           "zerolinecolor": "white",
           "zerolinewidth": 2
          }
         }
        },
        "title": {
         "text": "ProphetDetector: Anomalies in total_count (Forecast Overlaid)"
        },
        "width": 1000,
        "xaxis": {
         "anchor": "y",
         "domain": [
          0,
          0.94
         ],
         "rangeselector": {
          "buttons": [
           {
            "count": 7,
            "label": "1w",
            "step": "day",
            "stepmode": "backward"
           },
           {
            "count": 1,
            "label": "1m",
            "step": "month",
            "stepmode": "backward"
           },
           {
            "count": 6,
            "label": "6m",
            "step": "month",
            "stepmode": "backward"
           },
           {
            "count": 1,
            "label": "1y",
            "step": "year",
            "stepmode": "backward"
           },
           {
            "step": "all"
           }
          ]
         },
         "rangeslider": {
          "visible": true
         },
         "title": {
          "text": "Time"
         },
         "type": "date"
        },
        "yaxis": {
         "anchor": "x",
         "domain": [
          0,
          1
         ],
         "title": {
          "text": "total_count"
         }
        },
        "yaxis2": {
         "anchor": "x",
         "overlaying": "y",
         "range": [
          -2.09009648768247,
          11.938785071284846
         ],
         "side": "right",
         "title": {
          "text": "Anomaly Score"
         }
        }
       }
      }
     },
     "metadata": {}
    }
   ],
   "metadata": {}
  },
  {
   "cell_type": "code",
   "execution_count": 128,
   "source": [
    "for feat in [\"total_count\", \"top1_hashtag_count\", \"top2_hashtag_count\", \"top3_hashtag_count\"]:\n",
    "    detect_anomalies(\n",
    "        df_timeseries, \n",
    "        feat,\n",
    "        model=ProphetDetector(prophet_config)\n",
    "    )"
   ],
   "outputs": [
    {
     "output_type": "stream",
     "name": "stdout",
     "text": [
      "Initial log joint probability = -5.79112\n",
      "    Iter      log prob        ||dx||      ||grad||       alpha      alpha0  # evals  Notes \n",
      "      99       240.942    1.1693e-05       73.8893      0.5456      0.5456      123   \n",
      "    Iter      log prob        ||dx||      ||grad||       alpha      alpha0  # evals  Notes \n",
      "     199        241.06   5.15566e-08       77.4327      0.2683      0.8701      263   \n",
      "    Iter      log prob        ||dx||      ||grad||       alpha      alpha0  # evals  Notes \n",
      "     203        241.06   8.31105e-09       72.3467       0.219       0.219      268   \n",
      "Optimization terminated normally: \n",
      "  Convergence detected: absolute parameter change was below tolerance\n"
     ]
    },
    {
     "output_type": "display_data",
     "data": {
      "application/vnd.plotly.v1+json": {
       "config": {
        "plotlyServerURL": "https://plot.ly"
       },
       "data": [
        {
         "hoverinfo": "skip",
         "line": {
          "width": 0
         },
         "mode": "lines",
         "showlegend": false,
         "type": "scatter",
         "x": [
          "2020-10-01T01:00:00",
          "2020-10-01T02:00:00",
          "2020-10-01T03:00:00",
          "2020-10-01T05:00:00",
          "2020-10-01T11:00:00",
          "2020-10-01T13:00:00",
          "2020-10-01T14:00:00",
          "2020-10-01T15:00:00",
          "2020-10-01T16:00:00",
          "2020-10-01T17:00:00",
          "2020-10-01T18:00:00",
          "2020-10-01T19:00:00",
          "2020-10-01T20:00:00",
          "2020-10-01T21:00:00",
          "2020-10-01T22:00:00",
          "2020-10-01T23:00:00",
          "2020-10-02T00:00:00",
          "2020-10-02T02:00:00",
          "2020-10-02T03:00:00",
          "2020-10-02T04:00:00",
          "2020-10-02T05:00:00",
          "2020-10-02T07:00:00",
          "2020-10-02T12:00:00",
          "2020-10-02T14:00:00",
          "2020-10-02T15:00:00",
          "2020-10-02T16:00:00",
          "2020-10-02T17:00:00",
          "2020-10-02T18:00:00",
          "2020-10-02T19:00:00",
          "2020-10-02T20:00:00",
          "2020-10-02T21:00:00",
          "2020-10-02T22:00:00",
          "2020-10-03T00:00:00",
          "2020-10-03T01:00:00",
          "2020-10-03T02:00:00",
          "2020-10-03T13:00:00",
          "2020-10-03T15:00:00",
          "2020-10-03T16:00:00",
          "2020-10-03T18:00:00",
          "2020-10-03T19:00:00",
          "2020-10-03T20:00:00",
          "2020-10-03T21:00:00",
          "2020-10-03T22:00:00",
          "2020-10-04T12:00:00",
          "2020-10-04T13:00:00",
          "2020-10-04T16:00:00",
          "2020-10-04T20:00:00",
          "2020-10-04T22:00:00",
          "2020-10-05T00:00:00",
          "2020-10-05T04:00:00",
          "2020-10-05T09:00:00",
          "2020-10-05T13:00:00",
          "2020-10-05T14:00:00",
          "2020-10-05T15:00:00",
          "2020-10-05T16:00:00",
          "2020-10-05T17:00:00",
          "2020-10-05T18:00:00",
          "2020-10-05T19:00:00",
          "2020-10-05T20:00:00",
          "2020-10-05T22:00:00",
          "2020-10-05T23:00:00",
          "2020-10-06T01:00:00",
          "2020-10-06T02:00:00",
          "2020-10-06T03:00:00",
          "2020-10-06T06:00:00",
          "2020-10-06T13:00:00",
          "2020-10-06T14:00:00",
          "2020-10-06T16:00:00",
          "2020-10-06T17:00:00",
          "2020-10-06T18:00:00",
          "2020-10-06T19:00:00",
          "2020-10-06T20:00:00",
          "2020-10-06T21:00:00",
          "2020-10-06T22:00:00",
          "2020-10-06T23:00:00",
          "2020-10-07T00:00:00",
          "2020-10-07T01:00:00",
          "2020-10-07T02:00:00",
          "2020-10-07T03:00:00",
          "2020-10-07T10:00:00",
          "2020-10-07T12:00:00",
          "2020-10-07T14:00:00",
          "2020-10-07T15:00:00",
          "2020-10-07T16:00:00",
          "2020-10-07T17:00:00",
          "2020-10-07T18:00:00",
          "2020-10-07T19:00:00",
          "2020-10-07T20:00:00",
          "2020-10-07T21:00:00",
          "2020-10-07T22:00:00",
          "2020-10-07T23:00:00",
          "2020-10-08T00:00:00",
          "2020-10-08T01:00:00",
          "2020-10-08T02:00:00",
          "2020-10-08T03:00:00",
          "2020-10-08T04:00:00",
          "2020-10-08T05:00:00",
          "2020-10-08T06:00:00",
          "2020-10-08T07:00:00",
          "2020-10-08T08:00:00",
          "2020-10-08T09:00:00",
          "2020-10-08T10:00:00",
          "2020-10-08T11:00:00",
          "2020-10-08T12:00:00",
          "2020-10-08T13:00:00",
          "2020-10-08T14:00:00",
          "2020-10-08T15:00:00",
          "2020-10-08T16:00:00",
          "2020-10-08T17:00:00",
          "2020-10-08T18:00:00",
          "2020-10-08T19:00:00",
          "2020-10-08T20:00:00",
          "2020-10-08T21:00:00",
          "2020-10-08T22:00:00",
          "2020-10-08T23:00:00",
          "2020-10-09T00:00:00",
          "2020-10-09T01:00:00",
          "2020-10-09T02:00:00",
          "2020-10-09T03:00:00",
          "2020-10-09T04:00:00",
          "2020-10-09T05:00:00",
          "2020-10-09T06:00:00",
          "2020-10-09T09:00:00",
          "2020-10-09T10:00:00",
          "2020-10-09T11:00:00",
          "2020-10-09T12:00:00",
          "2020-10-09T13:00:00",
          "2020-10-09T14:00:00",
          "2020-10-09T15:00:00",
          "2020-10-09T16:00:00",
          "2020-10-09T17:00:00",
          "2020-10-09T18:00:00",
          "2020-10-09T19:00:00",
          "2020-10-09T20:00:00",
          "2020-10-09T21:00:00",
          "2020-10-09T22:00:00",
          "2020-10-09T23:00:00",
          "2020-10-10T00:00:00",
          "2020-10-10T01:00:00",
          "2020-10-10T02:00:00",
          "2020-10-10T03:00:00",
          "2020-10-10T04:00:00",
          "2020-10-10T05:00:00",
          "2020-10-10T07:00:00",
          "2020-10-10T08:00:00",
          "2020-10-10T11:00:00",
          "2020-10-10T12:00:00",
          "2020-10-10T13:00:00",
          "2020-10-10T14:00:00",
          "2020-10-10T15:00:00",
          "2020-10-10T16:00:00",
          "2020-10-10T17:00:00",
          "2020-10-10T18:00:00",
          "2020-10-10T19:00:00",
          "2020-10-10T20:00:00",
          "2020-10-10T21:00:00",
          "2020-10-10T22:00:00",
          "2020-10-10T23:00:00",
          "2020-10-11T00:00:00",
          "2020-10-11T01:00:00",
          "2020-10-11T02:00:00",
          "2020-10-11T03:00:00",
          "2020-10-11T04:00:00",
          "2020-10-11T05:00:00",
          "2020-10-11T07:00:00",
          "2020-10-11T09:00:00",
          "2020-10-11T12:00:00",
          "2020-10-11T13:00:00",
          "2020-10-11T14:00:00",
          "2020-10-11T15:00:00",
          "2020-10-11T16:00:00",
          "2020-10-11T17:00:00",
          "2020-10-11T18:00:00",
          "2020-10-11T19:00:00",
          "2020-10-11T20:00:00",
          "2020-10-11T21:00:00",
          "2020-10-11T22:00:00",
          "2020-10-11T23:00:00",
          "2020-10-12T00:00:00",
          "2020-10-12T01:00:00",
          "2020-10-12T03:00:00",
          "2020-10-12T12:00:00",
          "2020-10-12T13:00:00",
          "2020-10-12T14:00:00",
          "2020-10-12T15:00:00",
          "2020-10-12T16:00:00",
          "2020-10-12T17:00:00",
          "2020-10-12T18:00:00",
          "2020-10-12T19:00:00",
          "2020-10-12T20:00:00",
          "2020-10-12T21:00:00",
          "2020-10-12T22:00:00",
          "2020-10-12T23:00:00",
          "2020-10-13T00:00:00"
         ],
         "y": [
          8.239710914415737,
          8.203197185459405,
          8.085220030504594,
          9.344327055306408,
          9.017186779977287,
          8.786352385661264,
          10.538834618283186,
          9.459266408064803,
          9.394107309629982,
          10.026517707513705,
          9.638752999637768,
          9.565166160453062,
          9.784734146793152,
          10.691972413773668,
          9.737850203854423,
          10.426357412275577,
          9.325476528938882,
          11.040238191575526,
          11.52184903026723,
          11.500198076558998,
          11.365660095203078,
          11.865748956196619,
          11.30928804201302,
          11.435374973376215,
          11.64356960340033,
          12.05741547167198,
          12.441291610421096,
          12.62582448414876,
          12.21932693652029,
          12.05957593593598,
          11.336877182129765,
          13.787426277220622,
          11.64988181995297,
          13.50917385893326,
          11.793831493197931,
          13.850416592427496,
          15.032746444338466,
          13.554300618917585,
          13.88862498546882,
          14.970708076974082,
          14.54147035780257,
          15.079610717016838,
          15.286453365808239,
          15.86511395104099,
          16.59874350728938,
          17.206460437267232,
          16.67616149617919,
          17.701658062174722,
          17.635485994893735,
          17.58451664270867,
          18.35819530872486,
          17.693637708479667,
          18.73505683584183,
          19.340365167097588,
          19.60436136774728,
          17.77446190105061,
          19.893333221879935,
          18.894830156398108,
          19.593096767728674,
          20.046651442447978,
          19.72813455561362,
          19.526130212732554,
          19.99732641363867,
          20.284140095083096,
          19.69929902567968,
          21.279914394524496,
          21.048850263532596,
          20.571900571721258,
          21.508021636243164,
          21.154241881676345,
          22.209467857340513,
          22.054537281771097,
          20.891419432236336,
          21.45103041432222,
          20.52168665691577,
          21.346153132316175,
          21.73420158580927,
          22.07520984480221,
          20.920783763925755,
          23.160888485484598,
          22.920434549344158,
          23.268874642159197,
          23.27008013718841,
          23.420503779300475,
          23.826796166869087,
          23.341260959349995,
          22.730006737256275,
          23.94124094678604,
          22.571203224074623,
          23.5144424340479,
          24.359482905430415,
          23.5912207366613,
          24.381713208713812,
          24.192912223365433,
          24.761257435305588,
          24.040122941268404,
          24.199756729040114,
          24.53849409359779,
          24.543244927160536,
          24.446108988034997,
          25.253842267361783,
          25.126665588552097,
          24.392748312148676,
          25.369328611856382,
          24.271884703882666,
          25.593543674910133,
          24.114072011989215,
          25.68833399964966,
          25.445942822139287,
          24.860661613953248,
          25.439755655067486,
          25.168763086998048,
          24.760815133124783,
          24.745919463733802,
          23.751278036037455,
          25.690969464801814,
          25.820642882021065,
          25.2362450113544,
          24.676603109320414,
          24.38643200578511,
          24.32876374681119,
          24.63687540151842,
          24.04381015201792,
          23.654167039311968,
          24.213557236925787,
          24.180220969933625,
          23.570603933598974,
          23.007255303662212,
          24.123452613664774,
          23.47541491578096,
          24.872407313802306,
          22.01306526187491,
          23.734911794315188,
          23.23877571976565,
          22.967037277083044,
          23.129084457743808,
          22.71355934994088,
          22.429736471725896,
          22.973112406160062,
          22.618616590837263,
          23.636608712246584,
          23.060216673267504,
          22.624881239558455,
          22.52879975812258,
          20.83482577641001,
          22.380015517390188,
          21.755523153534075,
          21.90519490725068,
          20.419581948647373,
          21.534966774774865,
          22.29553282460168,
          21.17464061318988,
          21.220092907618017,
          20.894054347953556,
          21.344518203914788,
          20.529839304161186,
          20.592224852660326,
          21.467712268528512,
          21.986560761688445,
          20.347523424593128,
          21.183667755379915,
          21.208772461779343,
          19.25448634761962,
          20.522222088867913,
          19.881321212589185,
          20.811792659547216,
          19.870652048695085,
          19.644594251591883,
          19.681011207436086,
          18.996775439782,
          19.6649551677105,
          19.86740871254688,
          18.908278205140142,
          19.244764855940954,
          18.59048588426121,
          18.906453081979734,
          18.877610672034507,
          18.754640221582974,
          18.602948294348867,
          18.071205210490707,
          18.449286477202143,
          17.160623609905013,
          18.465490110285057,
          17.371857877227207,
          16.957904622496223,
          17.78376591442936,
          17.551585194051206,
          15.678795996215463,
          16.862681537763464,
          17.539912662328767,
          16.72227253164765,
          16.41257848305833,
          16.254354080763825,
          16.090325153127544
         ]
        },
        {
         "fill": "tonexty",
         "fillcolor": "rgba(0, 114, 178, 0.2)",
         "line": {
          "color": "#0072B2",
          "width": 2
         },
         "mode": "lines",
         "name": "Forecast",
         "type": "scatter",
         "x": [
          "2020-10-01T01:00:00",
          "2020-10-01T02:00:00",
          "2020-10-01T03:00:00",
          "2020-10-01T05:00:00",
          "2020-10-01T11:00:00",
          "2020-10-01T13:00:00",
          "2020-10-01T14:00:00",
          "2020-10-01T15:00:00",
          "2020-10-01T16:00:00",
          "2020-10-01T17:00:00",
          "2020-10-01T18:00:00",
          "2020-10-01T19:00:00",
          "2020-10-01T20:00:00",
          "2020-10-01T21:00:00",
          "2020-10-01T22:00:00",
          "2020-10-01T23:00:00",
          "2020-10-02T00:00:00",
          "2020-10-02T02:00:00",
          "2020-10-02T03:00:00",
          "2020-10-02T04:00:00",
          "2020-10-02T05:00:00",
          "2020-10-02T07:00:00",
          "2020-10-02T12:00:00",
          "2020-10-02T14:00:00",
          "2020-10-02T15:00:00",
          "2020-10-02T16:00:00",
          "2020-10-02T17:00:00",
          "2020-10-02T18:00:00",
          "2020-10-02T19:00:00",
          "2020-10-02T20:00:00",
          "2020-10-02T21:00:00",
          "2020-10-02T22:00:00",
          "2020-10-03T00:00:00",
          "2020-10-03T01:00:00",
          "2020-10-03T02:00:00",
          "2020-10-03T13:00:00",
          "2020-10-03T15:00:00",
          "2020-10-03T16:00:00",
          "2020-10-03T18:00:00",
          "2020-10-03T19:00:00",
          "2020-10-03T20:00:00",
          "2020-10-03T21:00:00",
          "2020-10-03T22:00:00",
          "2020-10-04T12:00:00",
          "2020-10-04T13:00:00",
          "2020-10-04T16:00:00",
          "2020-10-04T20:00:00",
          "2020-10-04T22:00:00",
          "2020-10-05T00:00:00",
          "2020-10-05T04:00:00",
          "2020-10-05T09:00:00",
          "2020-10-05T13:00:00",
          "2020-10-05T14:00:00",
          "2020-10-05T15:00:00",
          "2020-10-05T16:00:00",
          "2020-10-05T17:00:00",
          "2020-10-05T18:00:00",
          "2020-10-05T19:00:00",
          "2020-10-05T20:00:00",
          "2020-10-05T22:00:00",
          "2020-10-05T23:00:00",
          "2020-10-06T01:00:00",
          "2020-10-06T02:00:00",
          "2020-10-06T03:00:00",
          "2020-10-06T06:00:00",
          "2020-10-06T13:00:00",
          "2020-10-06T14:00:00",
          "2020-10-06T16:00:00",
          "2020-10-06T17:00:00",
          "2020-10-06T18:00:00",
          "2020-10-06T19:00:00",
          "2020-10-06T20:00:00",
          "2020-10-06T21:00:00",
          "2020-10-06T22:00:00",
          "2020-10-06T23:00:00",
          "2020-10-07T00:00:00",
          "2020-10-07T01:00:00",
          "2020-10-07T02:00:00",
          "2020-10-07T03:00:00",
          "2020-10-07T10:00:00",
          "2020-10-07T12:00:00",
          "2020-10-07T14:00:00",
          "2020-10-07T15:00:00",
          "2020-10-07T16:00:00",
          "2020-10-07T17:00:00",
          "2020-10-07T18:00:00",
          "2020-10-07T19:00:00",
          "2020-10-07T20:00:00",
          "2020-10-07T21:00:00",
          "2020-10-07T22:00:00",
          "2020-10-07T23:00:00",
          "2020-10-08T00:00:00",
          "2020-10-08T01:00:00",
          "2020-10-08T02:00:00",
          "2020-10-08T03:00:00",
          "2020-10-08T04:00:00",
          "2020-10-08T05:00:00",
          "2020-10-08T06:00:00",
          "2020-10-08T07:00:00",
          "2020-10-08T08:00:00",
          "2020-10-08T09:00:00",
          "2020-10-08T10:00:00",
          "2020-10-08T11:00:00",
          "2020-10-08T12:00:00",
          "2020-10-08T13:00:00",
          "2020-10-08T14:00:00",
          "2020-10-08T15:00:00",
          "2020-10-08T16:00:00",
          "2020-10-08T17:00:00",
          "2020-10-08T18:00:00",
          "2020-10-08T19:00:00",
          "2020-10-08T20:00:00",
          "2020-10-08T21:00:00",
          "2020-10-08T22:00:00",
          "2020-10-08T23:00:00",
          "2020-10-09T00:00:00",
          "2020-10-09T01:00:00",
          "2020-10-09T02:00:00",
          "2020-10-09T03:00:00",
          "2020-10-09T04:00:00",
          "2020-10-09T05:00:00",
          "2020-10-09T06:00:00",
          "2020-10-09T09:00:00",
          "2020-10-09T10:00:00",
          "2020-10-09T11:00:00",
          "2020-10-09T12:00:00",
          "2020-10-09T13:00:00",
          "2020-10-09T14:00:00",
          "2020-10-09T15:00:00",
          "2020-10-09T16:00:00",
          "2020-10-09T17:00:00",
          "2020-10-09T18:00:00",
          "2020-10-09T19:00:00",
          "2020-10-09T20:00:00",
          "2020-10-09T21:00:00",
          "2020-10-09T22:00:00",
          "2020-10-09T23:00:00",
          "2020-10-10T00:00:00",
          "2020-10-10T01:00:00",
          "2020-10-10T02:00:00",
          "2020-10-10T03:00:00",
          "2020-10-10T04:00:00",
          "2020-10-10T05:00:00",
          "2020-10-10T07:00:00",
          "2020-10-10T08:00:00",
          "2020-10-10T11:00:00",
          "2020-10-10T12:00:00",
          "2020-10-10T13:00:00",
          "2020-10-10T14:00:00",
          "2020-10-10T15:00:00",
          "2020-10-10T16:00:00",
          "2020-10-10T17:00:00",
          "2020-10-10T18:00:00",
          "2020-10-10T19:00:00",
          "2020-10-10T20:00:00",
          "2020-10-10T21:00:00",
          "2020-10-10T22:00:00",
          "2020-10-10T23:00:00",
          "2020-10-11T00:00:00",
          "2020-10-11T01:00:00",
          "2020-10-11T02:00:00",
          "2020-10-11T03:00:00",
          "2020-10-11T04:00:00",
          "2020-10-11T05:00:00",
          "2020-10-11T07:00:00",
          "2020-10-11T09:00:00",
          "2020-10-11T12:00:00",
          "2020-10-11T13:00:00",
          "2020-10-11T14:00:00",
          "2020-10-11T15:00:00",
          "2020-10-11T16:00:00",
          "2020-10-11T17:00:00",
          "2020-10-11T18:00:00",
          "2020-10-11T19:00:00",
          "2020-10-11T20:00:00",
          "2020-10-11T21:00:00",
          "2020-10-11T22:00:00",
          "2020-10-11T23:00:00",
          "2020-10-12T00:00:00",
          "2020-10-12T01:00:00",
          "2020-10-12T03:00:00",
          "2020-10-12T12:00:00",
          "2020-10-12T13:00:00",
          "2020-10-12T14:00:00",
          "2020-10-12T15:00:00",
          "2020-10-12T16:00:00",
          "2020-10-12T17:00:00",
          "2020-10-12T18:00:00",
          "2020-10-12T19:00:00",
          "2020-10-12T20:00:00",
          "2020-10-12T21:00:00",
          "2020-10-12T22:00:00",
          "2020-10-12T23:00:00",
          "2020-10-13T00:00:00"
         ],
         "y": [
          -0.18602719397154768,
          -0.08958014774150433,
          0.006866898488539027,
          0.19976099094862573,
          0.7784432683288859,
          0.9713373607889727,
          1.067784407019016,
          1.1642314521510388,
          1.2606784972830614,
          1.3571255424150843,
          1.4535725875471068,
          1.5500196326791296,
          1.646466677811152,
          1.7429137216120147,
          1.8393607654128774,
          1.9358078092137407,
          2.0322548530146034,
          2.225148940616329,
          2.3215959844171916,
          2.4180430285626064,
          2.514490072708021,
          2.70738416099885,
          3.189619381725924,
          3.3825134700167534,
          3.478960514162168,
          3.575407558307582,
          3.6718546021702414,
          3.7683016460329006,
          3.86474868989556,
          3.961195733758219,
          4.057642777620877,
          4.154089821483537,
          4.346983911818751,
          4.443430956986359,
          4.539878002153966,
          5.600795498997642,
          5.793689589332857,
          5.890136634500465,
          6.083030725390555,
          6.1794777708356,
          6.275924816280646,
          6.372371861725691,
          6.4688189071707365,
          7.819077543401374,
          7.915524586422781,
          8.204865715487006,
          8.59065388757264,
          8.783547973615457,
          8.976442059658273,
          9.362230231743908,
          9.844465446195318,
          10.230253617756446,
          10.326700660646727,
          10.42314770353701,
          10.519594746427291,
          10.616041789317576,
          10.712488832968974,
          10.808935876620376,
          10.905382920271776,
          11.09827700757458,
          11.19472405122598,
          11.387618138528783,
          11.484065182180181,
          11.580512223657431,
          11.869853348089174,
          12.544982638429914,
          12.641429679907162,
          12.834323762861661,
          12.93077080433891,
          13.027217844360997,
          13.123664884383086,
          13.220111924405176,
          13.316558964427264,
          13.413006004449352,
          13.50945304447144,
          13.605900083675738,
          13.702347122880031,
          13.798794162084326,
          13.895241201288624,
          14.570370475718684,
          14.763264554127273,
          14.956147279984089,
          15.0525886429125,
          15.149030005840906,
          15.245471368769312,
          15.341912731697724,
          15.43835409462613,
          15.530851568391016,
          15.623349042155901,
          15.715846515920788,
          15.808343989685673,
          15.900841463450556,
          15.99333893721544,
          16.063546294715593,
          16.133753652215738,
          16.20396100971589,
          16.274168367216035,
          16.344375724716187,
          16.414583082216335,
          16.484790439716484,
          16.52289054618447,
          16.560990652652464,
          16.59909075912045,
          16.637190865588437,
          16.675290972056423,
          16.713391078524413,
          16.713073665380733,
          16.712756252237053,
          16.712438839093373,
          16.712121425949693,
          16.711804012806013,
          16.711486599662333,
          16.671684756648954,
          16.631882913635568,
          16.592081070622186,
          16.552279227608803,
          16.51247738459542,
          16.472675541582035,
          16.39963123749747,
          16.326586933412905,
          16.253542629328336,
          16.180498325243775,
          15.961365412990078,
          15.888321108905517,
          15.802646753428668,
          15.71697239795182,
          15.631298042474969,
          15.54562368699812,
          15.45994933152127,
          15.37427497604442,
          15.284423393360036,
          15.194571810675653,
          15.10472022799127,
          15.014868645306892,
          14.925017062622507,
          14.835165479938123,
          14.745313897253745,
          14.655462301025873,
          14.565610704798003,
          14.47575910857013,
          14.385907512342262,
          14.29605591611439,
          14.206204319886519,
          14.026493242445623,
          13.93663770372518,
          13.667071087563833,
          13.577215548843386,
          13.487360010122938,
          13.397504471402495,
          13.307648931159418,
          13.217793390916343,
          13.127937850673266,
          13.03808231043019,
          12.948226770187118,
          12.858371229944042,
          12.768515691222246,
          12.678660152500447,
          12.588804613778652,
          12.498949075056853,
          12.409093536335059,
          12.319237997613262,
          12.229382458891468,
          12.139526920169669,
          12.049671381447874,
          11.869960304004284,
          11.69024922656069,
          11.4206826103953,
          11.330827071673506,
          11.24097153295171,
          11.15111599422991,
          11.061260455508116,
          10.97140491678632,
          10.881549378064522,
          10.791693839342726,
          10.701838300620926,
          10.611982761899132,
          10.522127223177337,
          10.432271684455538,
          10.342416145733742,
          10.252560607011947,
          10.072849529568353,
          9.264149681072189,
          9.174294142350389,
          9.084438603628595,
          8.994583064906799,
          8.904727526185,
          8.814871987463205,
          8.72501644874141,
          8.63516091001961,
          8.545305371297816,
          8.45544983257602,
          8.365594293854226,
          8.275738755132426,
          8.18588321641063
         ]
        },
        {
         "fill": "tonexty",
         "fillcolor": "rgba(0, 114, 178, 0.2)",
         "hoverinfo": "skip",
         "line": {
          "width": 0
         },
         "mode": "lines",
         "showlegend": false,
         "type": "scatter",
         "x": [
          "2020-10-01T01:00:00",
          "2020-10-01T02:00:00",
          "2020-10-01T03:00:00",
          "2020-10-01T05:00:00",
          "2020-10-01T11:00:00",
          "2020-10-01T13:00:00",
          "2020-10-01T14:00:00",
          "2020-10-01T15:00:00",
          "2020-10-01T16:00:00",
          "2020-10-01T17:00:00",
          "2020-10-01T18:00:00",
          "2020-10-01T19:00:00",
          "2020-10-01T20:00:00",
          "2020-10-01T21:00:00",
          "2020-10-01T22:00:00",
          "2020-10-01T23:00:00",
          "2020-10-02T00:00:00",
          "2020-10-02T02:00:00",
          "2020-10-02T03:00:00",
          "2020-10-02T04:00:00",
          "2020-10-02T05:00:00",
          "2020-10-02T07:00:00",
          "2020-10-02T12:00:00",
          "2020-10-02T14:00:00",
          "2020-10-02T15:00:00",
          "2020-10-02T16:00:00",
          "2020-10-02T17:00:00",
          "2020-10-02T18:00:00",
          "2020-10-02T19:00:00",
          "2020-10-02T20:00:00",
          "2020-10-02T21:00:00",
          "2020-10-02T22:00:00",
          "2020-10-03T00:00:00",
          "2020-10-03T01:00:00",
          "2020-10-03T02:00:00",
          "2020-10-03T13:00:00",
          "2020-10-03T15:00:00",
          "2020-10-03T16:00:00",
          "2020-10-03T18:00:00",
          "2020-10-03T19:00:00",
          "2020-10-03T20:00:00",
          "2020-10-03T21:00:00",
          "2020-10-03T22:00:00",
          "2020-10-04T12:00:00",
          "2020-10-04T13:00:00",
          "2020-10-04T16:00:00",
          "2020-10-04T20:00:00",
          "2020-10-04T22:00:00",
          "2020-10-05T00:00:00",
          "2020-10-05T04:00:00",
          "2020-10-05T09:00:00",
          "2020-10-05T13:00:00",
          "2020-10-05T14:00:00",
          "2020-10-05T15:00:00",
          "2020-10-05T16:00:00",
          "2020-10-05T17:00:00",
          "2020-10-05T18:00:00",
          "2020-10-05T19:00:00",
          "2020-10-05T20:00:00",
          "2020-10-05T22:00:00",
          "2020-10-05T23:00:00",
          "2020-10-06T01:00:00",
          "2020-10-06T02:00:00",
          "2020-10-06T03:00:00",
          "2020-10-06T06:00:00",
          "2020-10-06T13:00:00",
          "2020-10-06T14:00:00",
          "2020-10-06T16:00:00",
          "2020-10-06T17:00:00",
          "2020-10-06T18:00:00",
          "2020-10-06T19:00:00",
          "2020-10-06T20:00:00",
          "2020-10-06T21:00:00",
          "2020-10-06T22:00:00",
          "2020-10-06T23:00:00",
          "2020-10-07T00:00:00",
          "2020-10-07T01:00:00",
          "2020-10-07T02:00:00",
          "2020-10-07T03:00:00",
          "2020-10-07T10:00:00",
          "2020-10-07T12:00:00",
          "2020-10-07T14:00:00",
          "2020-10-07T15:00:00",
          "2020-10-07T16:00:00",
          "2020-10-07T17:00:00",
          "2020-10-07T18:00:00",
          "2020-10-07T19:00:00",
          "2020-10-07T20:00:00",
          "2020-10-07T21:00:00",
          "2020-10-07T22:00:00",
          "2020-10-07T23:00:00",
          "2020-10-08T00:00:00",
          "2020-10-08T01:00:00",
          "2020-10-08T02:00:00",
          "2020-10-08T03:00:00",
          "2020-10-08T04:00:00",
          "2020-10-08T05:00:00",
          "2020-10-08T06:00:00",
          "2020-10-08T07:00:00",
          "2020-10-08T08:00:00",
          "2020-10-08T09:00:00",
          "2020-10-08T10:00:00",
          "2020-10-08T11:00:00",
          "2020-10-08T12:00:00",
          "2020-10-08T13:00:00",
          "2020-10-08T14:00:00",
          "2020-10-08T15:00:00",
          "2020-10-08T16:00:00",
          "2020-10-08T17:00:00",
          "2020-10-08T18:00:00",
          "2020-10-08T19:00:00",
          "2020-10-08T20:00:00",
          "2020-10-08T21:00:00",
          "2020-10-08T22:00:00",
          "2020-10-08T23:00:00",
          "2020-10-09T00:00:00",
          "2020-10-09T01:00:00",
          "2020-10-09T02:00:00",
          "2020-10-09T03:00:00",
          "2020-10-09T04:00:00",
          "2020-10-09T05:00:00",
          "2020-10-09T06:00:00",
          "2020-10-09T09:00:00",
          "2020-10-09T10:00:00",
          "2020-10-09T11:00:00",
          "2020-10-09T12:00:00",
          "2020-10-09T13:00:00",
          "2020-10-09T14:00:00",
          "2020-10-09T15:00:00",
          "2020-10-09T16:00:00",
          "2020-10-09T17:00:00",
          "2020-10-09T18:00:00",
          "2020-10-09T19:00:00",
          "2020-10-09T20:00:00",
          "2020-10-09T21:00:00",
          "2020-10-09T22:00:00",
          "2020-10-09T23:00:00",
          "2020-10-10T00:00:00",
          "2020-10-10T01:00:00",
          "2020-10-10T02:00:00",
          "2020-10-10T03:00:00",
          "2020-10-10T04:00:00",
          "2020-10-10T05:00:00",
          "2020-10-10T07:00:00",
          "2020-10-10T08:00:00",
          "2020-10-10T11:00:00",
          "2020-10-10T12:00:00",
          "2020-10-10T13:00:00",
          "2020-10-10T14:00:00",
          "2020-10-10T15:00:00",
          "2020-10-10T16:00:00",
          "2020-10-10T17:00:00",
          "2020-10-10T18:00:00",
          "2020-10-10T19:00:00",
          "2020-10-10T20:00:00",
          "2020-10-10T21:00:00",
          "2020-10-10T22:00:00",
          "2020-10-10T23:00:00",
          "2020-10-11T00:00:00",
          "2020-10-11T01:00:00",
          "2020-10-11T02:00:00",
          "2020-10-11T03:00:00",
          "2020-10-11T04:00:00",
          "2020-10-11T05:00:00",
          "2020-10-11T07:00:00",
          "2020-10-11T09:00:00",
          "2020-10-11T12:00:00",
          "2020-10-11T13:00:00",
          "2020-10-11T14:00:00",
          "2020-10-11T15:00:00",
          "2020-10-11T16:00:00",
          "2020-10-11T17:00:00",
          "2020-10-11T18:00:00",
          "2020-10-11T19:00:00",
          "2020-10-11T20:00:00",
          "2020-10-11T21:00:00",
          "2020-10-11T22:00:00",
          "2020-10-11T23:00:00",
          "2020-10-12T00:00:00",
          "2020-10-12T01:00:00",
          "2020-10-12T03:00:00",
          "2020-10-12T12:00:00",
          "2020-10-12T13:00:00",
          "2020-10-12T14:00:00",
          "2020-10-12T15:00:00",
          "2020-10-12T16:00:00",
          "2020-10-12T17:00:00",
          "2020-10-12T18:00:00",
          "2020-10-12T19:00:00",
          "2020-10-12T20:00:00",
          "2020-10-12T21:00:00",
          "2020-10-12T22:00:00",
          "2020-10-12T23:00:00",
          "2020-10-13T00:00:00"
         ],
         "y": [
          -9.356227541273988,
          -8.787695709515202,
          -8.881190956744057,
          -8.279248052589612,
          -7.675605985085429,
          -7.67564956627182,
          -7.101249188062431,
          -6.856683149184581,
          -7.455235069703763,
          -7.189339562790809,
          -7.866332396199796,
          -6.237403875121505,
          -6.862448559203066,
          -6.499818059621324,
          -6.448972022408441,
          -6.035339194700172,
          -6.059907966833563,
          -5.099115097390051,
          -5.783220742624652,
          -6.061153580029747,
          -6.223700596577462,
          -5.366931815279673,
          -5.354188038620981,
          -4.984376618101251,
          -4.673748743170178,
          -5.21212235712648,
          -4.663146402733234,
          -4.897887635346269,
          -3.91751169880361,
          -4.332526542494712,
          -5.157321656133828,
          -2.9655112620224804,
          -3.606080882689456,
          -3.571159380965322,
          -3.399971708055884,
          -2.6145242178553127,
          -2.2147454949041467,
          -2.3393238265361767,
          -2.1944426495187033,
          -1.8296076190038004,
          -2.082945307960334,
          -2.290296189399264,
          -2.478938115149714,
          -0.4728769141093139,
          0.23414184550743133,
          -0.6257087555148537,
          0.08951798326313387,
          1.3176210586762478,
          0.7669744916655592,
          0.698550246305194,
          1.4422858002576842,
          1.1067412200765538,
          2.3000924835630023,
          2.4479428717521277,
          0.7651255576248399,
          1.9373161905054062,
          3.809351277814258,
          2.9659889010802587,
          3.039880861395348,
          2.9224786698425618,
          3.6159344115430665,
          3.8099017667118273,
          3.659846855838361,
          3.3264727326022445,
          2.858801323211372,
          3.680498105062604,
          3.934515811484637,
          3.8884108105843858,
          4.3680810605712885,
          5.759060422087755,
          5.007254707801982,
          4.960364650065065,
          5.014649382762505,
          4.451014259994251,
          4.8257399159607015,
          5.3500808619429865,
          4.959991890016601,
          4.896195072681781,
          5.2700100585222245,
          6.410271455553422,
          6.4650078966400475,
          6.753632836070176,
          5.909192844445238,
          6.590090982196916,
          7.4645837688686525,
          7.659286827029309,
          6.458408304891494,
          7.612469346921069,
          6.382134412776889,
          7.306018636625357,
          7.557608839092088,
          7.205265712018674,
          8.214152000859738,
          6.572102837690268,
          8.262509325328367,
          7.330939227749248,
          7.382419694456944,
          6.8560054600014855,
          8.845156289357957,
          7.618115098651664,
          8.157502389422962,
          8.702117051094323,
          7.715109334554345,
          7.944457618996076,
          8.482279165740959,
          8.804750328975237,
          8.400525311191588,
          8.629091620060164,
          8.760376414606675,
          8.635958564100621,
          8.098467725565701,
          9.19159943780097,
          8.236670996296757,
          8.893483210118095,
          8.120335946927401,
          8.759647741029621,
          9.513080463000428,
          8.402801177779825,
          7.718421913912122,
          8.196066751725533,
          7.565713142265617,
          6.767027404302041,
          7.42250424202266,
          7.698018487451616,
          7.678368211493945,
          8.097932930526223,
          7.673207157456577,
          6.6486277059990595,
          7.176548049931199,
          6.827120932065439,
          6.7426219982099,
          6.476112780060324,
          6.835117356222037,
          6.63292306335299,
          6.216791615595854,
          5.854061986497234,
          7.094870952033644,
          7.271934003410239,
          5.445241858310078,
          5.680971752940366,
          6.195180613852733,
          6.043300660994621,
          5.95592047864524,
          5.924783032654526,
          5.390258688259685,
          6.132533785845023,
          5.163117782990728,
          4.658149401387533,
          4.103612522034689,
          4.2086417651220795,
          5.442733302403051,
          4.129796666227579,
          5.552347536877573,
          4.513678968851982,
          4.1824017981704475,
          4.607554910520873,
          4.068471981599641,
          4.016209402724355,
          5.687323212603389,
          4.161466618757753,
          4.075835755193351,
          4.6488930928455074,
          3.657112310991197,
          3.3993858693550774,
          3.0460775985177015,
          4.0390141692496995,
          3.4691012606504064,
          4.150313175592222,
          2.38379429856953,
          2.1970544267079504,
          3.279010739155658,
          2.5727661005549116,
          2.342948856910997,
          2.6836106158122686,
          1.9867676421774227,
          2.369896098242764,
          2.9608366343919617,
          2.6384856876342173,
          2.831943511131122,
          1.813280243203426,
          1.6835712649456447,
          0.49280477167127223,
          1.363131559684069,
          0.8296927854816332,
          0.338465069730443,
          1.5937372399192382,
          0.7763077101349598,
          0.5354547493699098,
          0.4155043350114074,
          0.7336592321711333,
          0.22777215867308875,
          0.27304763286716316,
          -0.27719207003094937,
          -0.3791711516113381
         ]
        },
        {
         "line": {
          "color": "black",
          "width": 2
         },
         "mode": "lines",
         "name": "total_count",
         "type": "scatter",
         "x": [
          "2020-10-01T01:00:00",
          "2020-10-01T02:00:00",
          "2020-10-01T03:00:00",
          "2020-10-01T05:00:00",
          "2020-10-01T11:00:00",
          "2020-10-01T13:00:00",
          "2020-10-01T14:00:00",
          "2020-10-01T15:00:00",
          "2020-10-01T16:00:00",
          "2020-10-01T17:00:00",
          "2020-10-01T18:00:00",
          "2020-10-01T19:00:00",
          "2020-10-01T20:00:00",
          "2020-10-01T21:00:00",
          "2020-10-01T22:00:00",
          "2020-10-01T23:00:00",
          "2020-10-02T00:00:00",
          "2020-10-02T02:00:00",
          "2020-10-02T03:00:00",
          "2020-10-02T04:00:00",
          "2020-10-02T05:00:00",
          "2020-10-02T07:00:00",
          "2020-10-02T12:00:00",
          "2020-10-02T14:00:00",
          "2020-10-02T15:00:00",
          "2020-10-02T16:00:00",
          "2020-10-02T17:00:00",
          "2020-10-02T18:00:00",
          "2020-10-02T19:00:00",
          "2020-10-02T20:00:00",
          "2020-10-02T21:00:00",
          "2020-10-02T22:00:00",
          "2020-10-03T00:00:00",
          "2020-10-03T01:00:00",
          "2020-10-03T02:00:00",
          "2020-10-03T13:00:00",
          "2020-10-03T15:00:00",
          "2020-10-03T16:00:00",
          "2020-10-03T18:00:00",
          "2020-10-03T19:00:00",
          "2020-10-03T20:00:00",
          "2020-10-03T21:00:00",
          "2020-10-03T22:00:00",
          "2020-10-04T12:00:00",
          "2020-10-04T13:00:00",
          "2020-10-04T16:00:00",
          "2020-10-04T20:00:00",
          "2020-10-04T22:00:00",
          "2020-10-05T00:00:00",
          "2020-10-05T04:00:00",
          "2020-10-05T09:00:00",
          "2020-10-05T13:00:00",
          "2020-10-05T14:00:00",
          "2020-10-05T15:00:00",
          "2020-10-05T16:00:00",
          "2020-10-05T17:00:00",
          "2020-10-05T18:00:00",
          "2020-10-05T19:00:00",
          "2020-10-05T20:00:00",
          "2020-10-05T22:00:00",
          "2020-10-05T23:00:00",
          "2020-10-06T01:00:00",
          "2020-10-06T02:00:00",
          "2020-10-06T03:00:00",
          "2020-10-06T06:00:00",
          "2020-10-06T13:00:00",
          "2020-10-06T14:00:00",
          "2020-10-06T16:00:00",
          "2020-10-06T17:00:00",
          "2020-10-06T18:00:00",
          "2020-10-06T19:00:00",
          "2020-10-06T20:00:00",
          "2020-10-06T21:00:00",
          "2020-10-06T22:00:00",
          "2020-10-06T23:00:00",
          "2020-10-07T00:00:00",
          "2020-10-07T01:00:00",
          "2020-10-07T02:00:00",
          "2020-10-07T03:00:00",
          "2020-10-07T10:00:00",
          "2020-10-07T12:00:00",
          "2020-10-07T14:00:00",
          "2020-10-07T15:00:00",
          "2020-10-07T16:00:00",
          "2020-10-07T17:00:00",
          "2020-10-07T18:00:00",
          "2020-10-07T19:00:00",
          "2020-10-07T20:00:00",
          "2020-10-07T21:00:00",
          "2020-10-07T22:00:00",
          "2020-10-07T23:00:00",
          "2020-10-08T00:00:00",
          "2020-10-08T01:00:00",
          "2020-10-08T02:00:00",
          "2020-10-08T03:00:00",
          "2020-10-08T04:00:00",
          "2020-10-08T05:00:00",
          "2020-10-08T06:00:00",
          "2020-10-08T07:00:00",
          "2020-10-08T08:00:00",
          "2020-10-08T09:00:00",
          "2020-10-08T10:00:00",
          "2020-10-08T11:00:00",
          "2020-10-08T12:00:00",
          "2020-10-08T13:00:00",
          "2020-10-08T14:00:00",
          "2020-10-08T15:00:00",
          "2020-10-08T16:00:00",
          "2020-10-08T17:00:00",
          "2020-10-08T18:00:00",
          "2020-10-08T19:00:00",
          "2020-10-08T20:00:00",
          "2020-10-08T21:00:00",
          "2020-10-08T22:00:00",
          "2020-10-08T23:00:00",
          "2020-10-09T00:00:00",
          "2020-10-09T01:00:00",
          "2020-10-09T02:00:00",
          "2020-10-09T03:00:00",
          "2020-10-09T04:00:00",
          "2020-10-09T05:00:00",
          "2020-10-09T06:00:00",
          "2020-10-09T09:00:00",
          "2020-10-09T10:00:00",
          "2020-10-09T11:00:00",
          "2020-10-09T12:00:00",
          "2020-10-09T13:00:00",
          "2020-10-09T14:00:00",
          "2020-10-09T15:00:00",
          "2020-10-09T16:00:00",
          "2020-10-09T17:00:00",
          "2020-10-09T18:00:00",
          "2020-10-09T19:00:00",
          "2020-10-09T20:00:00",
          "2020-10-09T21:00:00",
          "2020-10-09T22:00:00",
          "2020-10-09T23:00:00",
          "2020-10-10T00:00:00",
          "2020-10-10T01:00:00",
          "2020-10-10T02:00:00",
          "2020-10-10T03:00:00",
          "2020-10-10T04:00:00",
          "2020-10-10T05:00:00",
          "2020-10-10T07:00:00",
          "2020-10-10T08:00:00",
          "2020-10-10T11:00:00",
          "2020-10-10T12:00:00",
          "2020-10-10T13:00:00",
          "2020-10-10T14:00:00",
          "2020-10-10T15:00:00",
          "2020-10-10T16:00:00",
          "2020-10-10T17:00:00",
          "2020-10-10T18:00:00",
          "2020-10-10T19:00:00",
          "2020-10-10T20:00:00",
          "2020-10-10T21:00:00",
          "2020-10-10T22:00:00",
          "2020-10-10T23:00:00",
          "2020-10-11T00:00:00",
          "2020-10-11T01:00:00",
          "2020-10-11T02:00:00",
          "2020-10-11T03:00:00",
          "2020-10-11T04:00:00",
          "2020-10-11T05:00:00",
          "2020-10-11T07:00:00",
          "2020-10-11T09:00:00",
          "2020-10-11T12:00:00",
          "2020-10-11T13:00:00",
          "2020-10-11T14:00:00",
          "2020-10-11T15:00:00",
          "2020-10-11T16:00:00",
          "2020-10-11T17:00:00",
          "2020-10-11T18:00:00",
          "2020-10-11T19:00:00",
          "2020-10-11T20:00:00",
          "2020-10-11T21:00:00",
          "2020-10-11T22:00:00",
          "2020-10-11T23:00:00",
          "2020-10-12T00:00:00",
          "2020-10-12T01:00:00",
          "2020-10-12T03:00:00",
          "2020-10-12T12:00:00",
          "2020-10-12T13:00:00",
          "2020-10-12T14:00:00",
          "2020-10-12T15:00:00",
          "2020-10-12T16:00:00",
          "2020-10-12T17:00:00",
          "2020-10-12T18:00:00",
          "2020-10-12T19:00:00",
          "2020-10-12T20:00:00",
          "2020-10-12T21:00:00",
          "2020-10-12T22:00:00",
          "2020-10-12T23:00:00",
          "2020-10-13T00:00:00"
         ],
         "y": [
          1.3333333333333333,
          2.333333333333333,
          2.6666666666666665,
          2,
          1.3333333333333333,
          2.333333333333333,
          3.333333333333333,
          4.666666666666666,
          5.333333333333333,
          5.666666666666666,
          5.666666666666666,
          4.333333333333333,
          4.666666666666666,
          3.333333333333333,
          4.333333333333333,
          2.6666666666666665,
          2.6666666666666665,
          1.3333333333333333,
          2,
          1.9999999999999998,
          1.9999999999999998,
          1,
          1,
          3.6666666666666665,
          10,
          13.666666666666666,
          11.333333333333332,
          5.333333333333334,
          4,
          3.9999999999999996,
          4.666666666666666,
          2.6666666666666665,
          3,
          3.6666666666666665,
          3.3333333333333335,
          3.666666666666667,
          1.9999999999999998,
          1.9999999999999998,
          1,
          2,
          1.9999999999999998,
          1.9999999999999998,
          1.6666666666666665,
          1.6666666666666665,
          1.6666666666666665,
          1.3333333333333333,
          1.3333333333333333,
          1.3333333333333333,
          1,
          1,
          1,
          1,
          1.6666666666666665,
          3.666666666666666,
          6,
          6.333333333333333,
          6,
          5.666666666666666,
          7.666666666666666,
          6.333333333333333,
          5,
          1.9999999999999998,
          1.6666666666666665,
          1.3333333333333333,
          1.3333333333333333,
          1.6666666666666665,
          2,
          3.9999999999999996,
          3.6666666666666665,
          3.6666666666666665,
          4,
          4.333333333333333,
          6.333333333333333,
          5.666666666666666,
          5.333333333333333,
          3.3333333333333335,
          2,
          2.333333333333333,
          2,
          1.6666666666666665,
          1.3333333333333333,
          1.6666666666666665,
          3.666666666666666,
          4.666666666666666,
          7.999999999999999,
          7.666666666666666,
          10,
          9,
          14.666666666666666,
          18.666666666666664,
          30.666666666666664,
          49.33333333333333,
          67.33333333333333,
          76.33333333333333,
          67.33333333333333,
          52.33333333333333,
          37.666666666666664,
          25,
          15.333333333333332,
          6.999999999999999,
          3.666666666666666,
          5,
          8.666666666666666,
          23.333333333333332,
          38,
          51,
          46.666666666666664,
          37.33333333333333,
          31.666666666666664,
          34,
          40,
          53.33333333333333,
          51.99999999999999,
          47.33333333333333,
          30.999999999999996,
          28.333333333333332,
          27.333333333333332,
          27.666666666666664,
          23.666666666666664,
          19.666666666666664,
          11.666666666666666,
          6.333333333333333,
          3.666666666666666,
          4.666666666666666,
          4.666666666666667,
          12,
          19,
          30,
          33.666666666666664,
          34.33333333333333,
          29.33333333333333,
          25.333333333333332,
          21,
          23.333333333333332,
          23.666666666666664,
          21.999999999999996,
          20.666666666666664,
          21,
          26.666666666666664,
          24.333333333333332,
          18.666666666666664,
          9.333333333333332,
          4.333333333333333,
          1.3333333333333333,
          1,
          1,
          1,
          5,
          6.999999999999999,
          11,
          11.666666666666666,
          9.999999999999998,
          7.666666666666667,
          5.333333333333333,
          8.666666666666666,
          8.666666666666666,
          8.666666666666666,
          7.666666666666666,
          6.666666666666666,
          6,
          7.666666666666666,
          7.666666666666666,
          6.999999999999999,
          2.6666666666666665,
          1.9999999999999998,
          1,
          1.3333333333333333,
          1.3333333333333333,
          1.3333333333333333,
          1.6666666666666665,
          3.333333333333333,
          5,
          4.666666666666667,
          3,
          1.3333333333333333,
          1,
          1,
          1.3333333333333333,
          1.3333333333333333,
          1.3333333333333333,
          1,
          4.666666666666667,
          5.666666666666666,
          8,
          10,
          12.333333333333332,
          12.333333333333332,
          7.333333333333333,
          4.333333333333333,
          3,
          10.666666666666666,
          15,
          16.333333333333332,
          7.999999999999999
         ]
        },
        {
         "line": {
          "color": "red",
          "width": 2
         },
         "mode": "lines",
         "name": "Anomaly Score",
         "type": "scatter",
         "x": [
          "2020-10-01T01:00:00",
          "2020-10-01T02:00:00",
          "2020-10-01T03:00:00",
          "2020-10-01T05:00:00",
          "2020-10-01T11:00:00",
          "2020-10-01T13:00:00",
          "2020-10-01T14:00:00",
          "2020-10-01T15:00:00",
          "2020-10-01T16:00:00",
          "2020-10-01T17:00:00",
          "2020-10-01T18:00:00",
          "2020-10-01T19:00:00",
          "2020-10-01T20:00:00",
          "2020-10-01T21:00:00",
          "2020-10-01T22:00:00",
          "2020-10-01T23:00:00",
          "2020-10-02T00:00:00",
          "2020-10-02T02:00:00",
          "2020-10-02T03:00:00",
          "2020-10-02T04:00:00",
          "2020-10-02T05:00:00",
          "2020-10-02T07:00:00",
          "2020-10-02T12:00:00",
          "2020-10-02T14:00:00",
          "2020-10-02T15:00:00",
          "2020-10-02T16:00:00",
          "2020-10-02T17:00:00",
          "2020-10-02T18:00:00",
          "2020-10-02T19:00:00",
          "2020-10-02T20:00:00",
          "2020-10-02T21:00:00",
          "2020-10-02T22:00:00",
          "2020-10-03T00:00:00",
          "2020-10-03T01:00:00",
          "2020-10-03T02:00:00",
          "2020-10-03T13:00:00",
          "2020-10-03T15:00:00",
          "2020-10-03T16:00:00",
          "2020-10-03T18:00:00",
          "2020-10-03T19:00:00",
          "2020-10-03T20:00:00",
          "2020-10-03T21:00:00",
          "2020-10-03T22:00:00",
          "2020-10-04T12:00:00",
          "2020-10-04T13:00:00",
          "2020-10-04T16:00:00",
          "2020-10-04T20:00:00",
          "2020-10-04T22:00:00",
          "2020-10-05T00:00:00",
          "2020-10-05T04:00:00",
          "2020-10-05T09:00:00",
          "2020-10-05T13:00:00",
          "2020-10-05T14:00:00",
          "2020-10-05T15:00:00",
          "2020-10-05T16:00:00",
          "2020-10-05T17:00:00",
          "2020-10-05T18:00:00",
          "2020-10-05T19:00:00",
          "2020-10-05T20:00:00",
          "2020-10-05T22:00:00",
          "2020-10-05T23:00:00",
          "2020-10-06T01:00:00",
          "2020-10-06T02:00:00",
          "2020-10-06T03:00:00",
          "2020-10-06T06:00:00",
          "2020-10-06T13:00:00",
          "2020-10-06T14:00:00",
          "2020-10-06T16:00:00",
          "2020-10-06T17:00:00",
          "2020-10-06T18:00:00",
          "2020-10-06T19:00:00",
          "2020-10-06T20:00:00",
          "2020-10-06T21:00:00",
          "2020-10-06T22:00:00",
          "2020-10-06T23:00:00",
          "2020-10-07T00:00:00",
          "2020-10-07T01:00:00",
          "2020-10-07T02:00:00",
          "2020-10-07T03:00:00",
          "2020-10-07T10:00:00",
          "2020-10-07T12:00:00",
          "2020-10-07T14:00:00",
          "2020-10-07T15:00:00",
          "2020-10-07T16:00:00",
          "2020-10-07T17:00:00",
          "2020-10-07T18:00:00",
          "2020-10-07T19:00:00",
          "2020-10-07T20:00:00",
          "2020-10-07T21:00:00",
          "2020-10-07T22:00:00",
          "2020-10-07T23:00:00",
          "2020-10-08T00:00:00",
          "2020-10-08T01:00:00",
          "2020-10-08T02:00:00",
          "2020-10-08T03:00:00",
          "2020-10-08T04:00:00",
          "2020-10-08T05:00:00",
          "2020-10-08T06:00:00",
          "2020-10-08T07:00:00",
          "2020-10-08T08:00:00",
          "2020-10-08T09:00:00",
          "2020-10-08T10:00:00",
          "2020-10-08T11:00:00",
          "2020-10-08T12:00:00",
          "2020-10-08T13:00:00",
          "2020-10-08T14:00:00",
          "2020-10-08T15:00:00",
          "2020-10-08T16:00:00",
          "2020-10-08T17:00:00",
          "2020-10-08T18:00:00",
          "2020-10-08T19:00:00",
          "2020-10-08T20:00:00",
          "2020-10-08T21:00:00",
          "2020-10-08T22:00:00",
          "2020-10-08T23:00:00",
          "2020-10-09T00:00:00",
          "2020-10-09T01:00:00",
          "2020-10-09T02:00:00",
          "2020-10-09T03:00:00",
          "2020-10-09T04:00:00",
          "2020-10-09T05:00:00",
          "2020-10-09T06:00:00",
          "2020-10-09T09:00:00",
          "2020-10-09T10:00:00",
          "2020-10-09T11:00:00",
          "2020-10-09T12:00:00",
          "2020-10-09T13:00:00",
          "2020-10-09T14:00:00",
          "2020-10-09T15:00:00",
          "2020-10-09T16:00:00",
          "2020-10-09T17:00:00",
          "2020-10-09T18:00:00",
          "2020-10-09T19:00:00",
          "2020-10-09T20:00:00",
          "2020-10-09T21:00:00",
          "2020-10-09T22:00:00",
          "2020-10-09T23:00:00",
          "2020-10-10T00:00:00",
          "2020-10-10T01:00:00",
          "2020-10-10T02:00:00",
          "2020-10-10T03:00:00",
          "2020-10-10T04:00:00",
          "2020-10-10T05:00:00",
          "2020-10-10T07:00:00",
          "2020-10-10T08:00:00",
          "2020-10-10T11:00:00",
          "2020-10-10T12:00:00",
          "2020-10-10T13:00:00",
          "2020-10-10T14:00:00",
          "2020-10-10T15:00:00",
          "2020-10-10T16:00:00",
          "2020-10-10T17:00:00",
          "2020-10-10T18:00:00",
          "2020-10-10T19:00:00",
          "2020-10-10T20:00:00",
          "2020-10-10T21:00:00",
          "2020-10-10T22:00:00",
          "2020-10-10T23:00:00",
          "2020-10-11T00:00:00",
          "2020-10-11T01:00:00",
          "2020-10-11T02:00:00",
          "2020-10-11T03:00:00",
          "2020-10-11T04:00:00",
          "2020-10-11T05:00:00",
          "2020-10-11T07:00:00",
          "2020-10-11T09:00:00",
          "2020-10-11T12:00:00",
          "2020-10-11T13:00:00",
          "2020-10-11T14:00:00",
          "2020-10-11T15:00:00",
          "2020-10-11T16:00:00",
          "2020-10-11T17:00:00",
          "2020-10-11T18:00:00",
          "2020-10-11T19:00:00",
          "2020-10-11T20:00:00",
          "2020-10-11T21:00:00",
          "2020-10-11T22:00:00",
          "2020-10-11T23:00:00",
          "2020-10-12T00:00:00",
          "2020-10-12T01:00:00",
          "2020-10-12T03:00:00",
          "2020-10-12T12:00:00",
          "2020-10-12T13:00:00",
          "2020-10-12T14:00:00",
          "2020-10-12T15:00:00",
          "2020-10-12T16:00:00",
          "2020-10-12T17:00:00",
          "2020-10-12T18:00:00",
          "2020-10-12T19:00:00",
          "2020-10-12T20:00:00",
          "2020-10-12T21:00:00",
          "2020-10-12T22:00:00",
          "2020-10-12T23:00:00",
          "2020-10-13T00:00:00"
         ],
         "xaxis": "x",
         "y": [
          0,
          0,
          0,
          0,
          0,
          0,
          0,
          0,
          0,
          0,
          0,
          0,
          0,
          0,
          0,
          0,
          0,
          0,
          0,
          0,
          0,
          0,
          0,
          0,
          0.6276516793929575,
          1.1321021234746815,
          0.7397280458514266,
          0,
          0,
          0,
          0,
          0,
          0,
          0,
          0,
          0,
          0,
          0,
          0,
          0,
          0,
          0,
          0,
          -0.5880234964054953,
          -0.6229944594744713,
          -0.6573891914460771,
          -0.7074715130274425,
          -0.7494251044336904,
          -0.775933013906071,
          -0.8594728092036006,
          -0.8910352255539719,
          -0.9620420292438874,
          -0.8836303507227746,
          -0.6877711972983477,
          0,
          0,
          0,
          0,
          0,
          0,
          -0.6203676255707521,
          -0.9927972585015862,
          -1.0619376458483616,
          -1.1263546814009748,
          -1.1514698907234318,
          -1.2077845179109168,
          -1.123019775308171,
          -0.8903493382849914,
          -0.9677774059239694,
          -1.0057942050972362,
          -0.9383006953354814,
          -0.9493308720958582,
          -0.6908581758659827,
          -0.7670129275119806,
          -0.8687486017716243,
          -1.171250229141955,
          -1.3923492495745557,
          -1.3436915908875762,
          -1.4615574113462944,
          -1.5002370094287287,
          -1.5244926394599563,
          -1.527431098980896,
          -1.298906193561991,
          -1.0856788420032726,
          -0.7346388421845393,
          -0.7946659285974255,
          -0.525897515550168,
          -0.6226948223355839,
          0,
          0,
          1.6114402924406834,
          2.1276423660757504,
          2.758475036605504,
          2.94866878124597,
          2.648317651852429,
          2.2135433043984674,
          1.812566229981496,
          0.8455065477434157,
          0,
          -0.9983533745520895,
          -1.4763990563426126,
          -1.3476063376290217,
          -0.8078632033733494,
          0.6616742863575719,
          1.824926903712159,
          2.131201931095845,
          2.0536357974372015,
          1.7881231386169503,
          1.6098898133096313,
          1.713320033264983,
          1.8256950780447052,
          2.2204222599061127,
          2.200029456939021,
          2.0429555210382984,
          1.6100891673422524,
          1.3725464181541558,
          1.2016728002736783,
          1.305349663858539,
          0.7356402390642679,
          0,
          0,
          -0.9863217188452585,
          -1.4243047993574818,
          -1.3139661912887763,
          -1.3356449836343869,
          0,
          0,
          1.5994671175145023,
          1.7318634255700516,
          1.75227625750206,
          1.5336888080544953,
          1.1304464599488735,
          0.5558948419598563,
          0.8484791876941272,
          0.8823766544520039,
          0.6958863763058362,
          0.5770443853498405,
          0.638602593743736,
          1.3308030737721237,
          1.01097946080647,
          0,
          0,
          -1.0628669556141497,
          -1.4874426177152198,
          -1.5205843016612621,
          -1.47604613704264,
          -1.4866629585725297,
          -0.881890224337497,
          -0.6437903462871419,
          0,
          0,
          0,
          -0.5409830708726218,
          -0.794038881663507,
          0,
          0,
          0,
          0,
          -0.5746308538119832,
          -0.6236838018433613,
          0,
          0,
          0,
          -0.9419241819283689,
          -1.0726750501326747,
          -1.2263333502863019,
          -1.1083319835560599,
          -1.088305819265899,
          -1.0349920906450363,
          -1.001836303076808,
          -0.752132307033173,
          -0.5684134820757151,
          -0.5959032543984069,
          -0.7540079630929484,
          -0.9567243964498626,
          -0.9770484806934171,
          -1.0343652689065446,
          -0.9301371033341448,
          -0.9519723401467652,
          -0.9154507322971509,
          -0.9220806802597011,
          0,
          0,
          0,
          0,
          0,
          0,
          0,
          0,
          -0.5133872677302741,
          0,
          0.6521758250528422,
          0.816610860999886,
          0
         ],
         "yaxis": "y2"
        }
       ],
       "layout": {
        "height": 600,
        "shapes": [
         {
          "fillcolor": "#e07070",
          "line": {
           "width": 0
          },
          "opacity": 0.4,
          "type": "rect",
          "x0": "2020-10-02T15:00:00",
          "x1": "2020-10-02T16:00:00",
          "xref": "x",
          "y0": 0,
          "y1": 1,
          "yref": "y domain"
         },
         {
          "fillcolor": "#e07070",
          "line": {
           "width": 0
          },
          "opacity": 0.4,
          "type": "rect",
          "x0": "2020-10-02T16:00:00",
          "x1": "2020-10-02T17:00:00",
          "xref": "x",
          "y0": 0,
          "y1": 1,
          "yref": "y domain"
         },
         {
          "fillcolor": "#e07070",
          "line": {
           "width": 0
          },
          "opacity": 0.4,
          "type": "rect",
          "x0": "2020-10-02T17:00:00",
          "x1": "2020-10-02T18:00:00",
          "xref": "x",
          "y0": 0,
          "y1": 1,
          "yref": "y domain"
         },
         {
          "fillcolor": "#e07070",
          "line": {
           "width": 0
          },
          "opacity": 0.4,
          "type": "rect",
          "x0": "2020-10-04T12:00:00",
          "x1": "2020-10-04T13:00:00",
          "xref": "x",
          "y0": 0,
          "y1": 1,
          "yref": "y domain"
         },
         {
          "fillcolor": "#e07070",
          "line": {
           "width": 0
          },
          "opacity": 0.4,
          "type": "rect",
          "x0": "2020-10-04T13:00:00",
          "x1": "2020-10-04T16:00:00",
          "xref": "x",
          "y0": 0,
          "y1": 1,
          "yref": "y domain"
         },
         {
          "fillcolor": "#e07070",
          "line": {
           "width": 0
          },
          "opacity": 0.4,
          "type": "rect",
          "x0": "2020-10-04T16:00:00",
          "x1": "2020-10-04T20:00:00",
          "xref": "x",
          "y0": 0,
          "y1": 1,
          "yref": "y domain"
         },
         {
          "fillcolor": "#e07070",
          "line": {
           "width": 0
          },
          "opacity": 0.4,
          "type": "rect",
          "x0": "2020-10-04T20:00:00",
          "x1": "2020-10-04T22:00:00",
          "xref": "x",
          "y0": 0,
          "y1": 1,
          "yref": "y domain"
         },
         {
          "fillcolor": "#e07070",
          "line": {
           "width": 0
          },
          "opacity": 0.4,
          "type": "rect",
          "x0": "2020-10-04T22:00:00",
          "x1": "2020-10-05T00:00:00",
          "xref": "x",
          "y0": 0,
          "y1": 1,
          "yref": "y domain"
         },
         {
          "fillcolor": "#e07070",
          "line": {
           "width": 0
          },
          "opacity": 0.4,
          "type": "rect",
          "x0": "2020-10-05T00:00:00",
          "x1": "2020-10-05T04:00:00",
          "xref": "x",
          "y0": 0,
          "y1": 1,
          "yref": "y domain"
         },
         {
          "fillcolor": "#e07070",
          "line": {
           "width": 0
          },
          "opacity": 0.4,
          "type": "rect",
          "x0": "2020-10-05T04:00:00",
          "x1": "2020-10-05T09:00:00",
          "xref": "x",
          "y0": 0,
          "y1": 1,
          "yref": "y domain"
         },
         {
          "fillcolor": "#e07070",
          "line": {
           "width": 0
          },
          "opacity": 0.4,
          "type": "rect",
          "x0": "2020-10-05T09:00:00",
          "x1": "2020-10-05T13:00:00",
          "xref": "x",
          "y0": 0,
          "y1": 1,
          "yref": "y domain"
         },
         {
          "fillcolor": "#e07070",
          "line": {
           "width": 0
          },
          "opacity": 0.4,
          "type": "rect",
          "x0": "2020-10-05T13:00:00",
          "x1": "2020-10-05T14:00:00",
          "xref": "x",
          "y0": 0,
          "y1": 1,
          "yref": "y domain"
         },
         {
          "fillcolor": "#e07070",
          "line": {
           "width": 0
          },
          "opacity": 0.4,
          "type": "rect",
          "x0": "2020-10-05T14:00:00",
          "x1": "2020-10-05T15:00:00",
          "xref": "x",
          "y0": 0,
          "y1": 1,
          "yref": "y domain"
         },
         {
          "fillcolor": "#e07070",
          "line": {
           "width": 0
          },
          "opacity": 0.4,
          "type": "rect",
          "x0": "2020-10-05T15:00:00",
          "x1": "2020-10-05T16:00:00",
          "xref": "x",
          "y0": 0,
          "y1": 1,
          "yref": "y domain"
         },
         {
          "fillcolor": "#e07070",
          "line": {
           "width": 0
          },
          "opacity": 0.4,
          "type": "rect",
          "x0": "2020-10-05T23:00:00",
          "x1": "2020-10-06T01:00:00",
          "xref": "x",
          "y0": 0,
          "y1": 1,
          "yref": "y domain"
         },
         {
          "fillcolor": "#e07070",
          "line": {
           "width": 0
          },
          "opacity": 0.4,
          "type": "rect",
          "x0": "2020-10-06T01:00:00",
          "x1": "2020-10-06T02:00:00",
          "xref": "x",
          "y0": 0,
          "y1": 1,
          "yref": "y domain"
         },
         {
          "fillcolor": "#e07070",
          "line": {
           "width": 0
          },
          "opacity": 0.4,
          "type": "rect",
          "x0": "2020-10-06T02:00:00",
          "x1": "2020-10-06T03:00:00",
          "xref": "x",
          "y0": 0,
          "y1": 1,
          "yref": "y domain"
         },
         {
          "fillcolor": "#e07070",
          "line": {
           "width": 0
          },
          "opacity": 0.4,
          "type": "rect",
          "x0": "2020-10-06T03:00:00",
          "x1": "2020-10-06T06:00:00",
          "xref": "x",
          "y0": 0,
          "y1": 1,
          "yref": "y domain"
         },
         {
          "fillcolor": "#e07070",
          "line": {
           "width": 0
          },
          "opacity": 0.4,
          "type": "rect",
          "x0": "2020-10-06T06:00:00",
          "x1": "2020-10-06T13:00:00",
          "xref": "x",
          "y0": 0,
          "y1": 1,
          "yref": "y domain"
         },
         {
          "fillcolor": "#e07070",
          "line": {
           "width": 0
          },
          "opacity": 0.4,
          "type": "rect",
          "x0": "2020-10-06T13:00:00",
          "x1": "2020-10-06T14:00:00",
          "xref": "x",
          "y0": 0,
          "y1": 1,
          "yref": "y domain"
         },
         {
          "fillcolor": "#e07070",
          "line": {
           "width": 0
          },
          "opacity": 0.4,
          "type": "rect",
          "x0": "2020-10-06T14:00:00",
          "x1": "2020-10-06T16:00:00",
          "xref": "x",
          "y0": 0,
          "y1": 1,
          "yref": "y domain"
         },
         {
          "fillcolor": "#e07070",
          "line": {
           "width": 0
          },
          "opacity": 0.4,
          "type": "rect",
          "x0": "2020-10-06T16:00:00",
          "x1": "2020-10-06T17:00:00",
          "xref": "x",
          "y0": 0,
          "y1": 1,
          "yref": "y domain"
         },
         {
          "fillcolor": "#e07070",
          "line": {
           "width": 0
          },
          "opacity": 0.4,
          "type": "rect",
          "x0": "2020-10-06T17:00:00",
          "x1": "2020-10-06T18:00:00",
          "xref": "x",
          "y0": 0,
          "y1": 1,
          "yref": "y domain"
         },
         {
          "fillcolor": "#e07070",
          "line": {
           "width": 0
          },
          "opacity": 0.4,
          "type": "rect",
          "x0": "2020-10-06T18:00:00",
          "x1": "2020-10-06T19:00:00",
          "xref": "x",
          "y0": 0,
          "y1": 1,
          "yref": "y domain"
         },
         {
          "fillcolor": "#e07070",
          "line": {
           "width": 0
          },
          "opacity": 0.4,
          "type": "rect",
          "x0": "2020-10-06T19:00:00",
          "x1": "2020-10-06T20:00:00",
          "xref": "x",
          "y0": 0,
          "y1": 1,
          "yref": "y domain"
         },
         {
          "fillcolor": "#e07070",
          "line": {
           "width": 0
          },
          "opacity": 0.4,
          "type": "rect",
          "x0": "2020-10-06T20:00:00",
          "x1": "2020-10-06T21:00:00",
          "xref": "x",
          "y0": 0,
          "y1": 1,
          "yref": "y domain"
         },
         {
          "fillcolor": "#e07070",
          "line": {
           "width": 0
          },
          "opacity": 0.4,
          "type": "rect",
          "x0": "2020-10-06T21:00:00",
          "x1": "2020-10-06T22:00:00",
          "xref": "x",
          "y0": 0,
          "y1": 1,
          "yref": "y domain"
         },
         {
          "fillcolor": "#e07070",
          "line": {
           "width": 0
          },
          "opacity": 0.4,
          "type": "rect",
          "x0": "2020-10-06T22:00:00",
          "x1": "2020-10-06T23:00:00",
          "xref": "x",
          "y0": 0,
          "y1": 1,
          "yref": "y domain"
         },
         {
          "fillcolor": "#e07070",
          "line": {
           "width": 0
          },
          "opacity": 0.4,
          "type": "rect",
          "x0": "2020-10-06T23:00:00",
          "x1": "2020-10-07T00:00:00",
          "xref": "x",
          "y0": 0,
          "y1": 1,
          "yref": "y domain"
         },
         {
          "fillcolor": "#e07070",
          "line": {
           "width": 0
          },
          "opacity": 0.4,
          "type": "rect",
          "x0": "2020-10-07T00:00:00",
          "x1": "2020-10-07T01:00:00",
          "xref": "x",
          "y0": 0,
          "y1": 1,
          "yref": "y domain"
         },
         {
          "fillcolor": "#e07070",
          "line": {
           "width": 0
          },
          "opacity": 0.4,
          "type": "rect",
          "x0": "2020-10-07T01:00:00",
          "x1": "2020-10-07T02:00:00",
          "xref": "x",
          "y0": 0,
          "y1": 1,
          "yref": "y domain"
         },
         {
          "fillcolor": "#e07070",
          "line": {
           "width": 0
          },
          "opacity": 0.4,
          "type": "rect",
          "x0": "2020-10-07T02:00:00",
          "x1": "2020-10-07T03:00:00",
          "xref": "x",
          "y0": 0,
          "y1": 1,
          "yref": "y domain"
         },
         {
          "fillcolor": "#e07070",
          "line": {
           "width": 0
          },
          "opacity": 0.4,
          "type": "rect",
          "x0": "2020-10-07T03:00:00",
          "x1": "2020-10-07T10:00:00",
          "xref": "x",
          "y0": 0,
          "y1": 1,
          "yref": "y domain"
         },
         {
          "fillcolor": "#e07070",
          "line": {
           "width": 0
          },
          "opacity": 0.4,
          "type": "rect",
          "x0": "2020-10-07T10:00:00",
          "x1": "2020-10-07T12:00:00",
          "xref": "x",
          "y0": 0,
          "y1": 1,
          "yref": "y domain"
         },
         {
          "fillcolor": "#e07070",
          "line": {
           "width": 0
          },
          "opacity": 0.4,
          "type": "rect",
          "x0": "2020-10-07T12:00:00",
          "x1": "2020-10-07T14:00:00",
          "xref": "x",
          "y0": 0,
          "y1": 1,
          "yref": "y domain"
         },
         {
          "fillcolor": "#e07070",
          "line": {
           "width": 0
          },
          "opacity": 0.4,
          "type": "rect",
          "x0": "2020-10-07T14:00:00",
          "x1": "2020-10-07T15:00:00",
          "xref": "x",
          "y0": 0,
          "y1": 1,
          "yref": "y domain"
         },
         {
          "fillcolor": "#e07070",
          "line": {
           "width": 0
          },
          "opacity": 0.4,
          "type": "rect",
          "x0": "2020-10-07T15:00:00",
          "x1": "2020-10-07T16:00:00",
          "xref": "x",
          "y0": 0,
          "y1": 1,
          "yref": "y domain"
         },
         {
          "fillcolor": "#e07070",
          "line": {
           "width": 0
          },
          "opacity": 0.4,
          "type": "rect",
          "x0": "2020-10-07T16:00:00",
          "x1": "2020-10-07T17:00:00",
          "xref": "x",
          "y0": 0,
          "y1": 1,
          "yref": "y domain"
         },
         {
          "fillcolor": "#e07070",
          "line": {
           "width": 0
          },
          "opacity": 0.4,
          "type": "rect",
          "x0": "2020-10-07T17:00:00",
          "x1": "2020-10-07T18:00:00",
          "xref": "x",
          "y0": 0,
          "y1": 1,
          "yref": "y domain"
         },
         {
          "fillcolor": "#e07070",
          "line": {
           "width": 0
          },
          "opacity": 0.4,
          "type": "rect",
          "x0": "2020-10-07T18:00:00",
          "x1": "2020-10-07T19:00:00",
          "xref": "x",
          "y0": 0,
          "y1": 1,
          "yref": "y domain"
         },
         {
          "fillcolor": "#e07070",
          "line": {
           "width": 0
          },
          "opacity": 0.4,
          "type": "rect",
          "x0": "2020-10-07T19:00:00",
          "x1": "2020-10-07T20:00:00",
          "xref": "x",
          "y0": 0,
          "y1": 1,
          "yref": "y domain"
         },
         {
          "fillcolor": "#e07070",
          "line": {
           "width": 0
          },
          "opacity": 0.4,
          "type": "rect",
          "x0": "2020-10-07T20:00:00",
          "x1": "2020-10-07T21:00:00",
          "xref": "x",
          "y0": 0,
          "y1": 1,
          "yref": "y domain"
         },
         {
          "fillcolor": "#e07070",
          "line": {
           "width": 0
          },
          "opacity": 0.4,
          "type": "rect",
          "x0": "2020-10-07T23:00:00",
          "x1": "2020-10-08T00:00:00",
          "xref": "x",
          "y0": 0,
          "y1": 1,
          "yref": "y domain"
         },
         {
          "fillcolor": "#e07070",
          "line": {
           "width": 0
          },
          "opacity": 0.4,
          "type": "rect",
          "x0": "2020-10-08T00:00:00",
          "x1": "2020-10-08T01:00:00",
          "xref": "x",
          "y0": 0,
          "y1": 1,
          "yref": "y domain"
         },
         {
          "fillcolor": "#e07070",
          "line": {
           "width": 0
          },
          "opacity": 0.4,
          "type": "rect",
          "x0": "2020-10-08T01:00:00",
          "x1": "2020-10-08T02:00:00",
          "xref": "x",
          "y0": 0,
          "y1": 1,
          "yref": "y domain"
         },
         {
          "fillcolor": "#e07070",
          "line": {
           "width": 0
          },
          "opacity": 0.4,
          "type": "rect",
          "x0": "2020-10-08T02:00:00",
          "x1": "2020-10-08T03:00:00",
          "xref": "x",
          "y0": 0,
          "y1": 1,
          "yref": "y domain"
         },
         {
          "fillcolor": "#e07070",
          "line": {
           "width": 0
          },
          "opacity": 0.4,
          "type": "rect",
          "x0": "2020-10-08T03:00:00",
          "x1": "2020-10-08T04:00:00",
          "xref": "x",
          "y0": 0,
          "y1": 1,
          "yref": "y domain"
         },
         {
          "fillcolor": "#e07070",
          "line": {
           "width": 0
          },
          "opacity": 0.4,
          "type": "rect",
          "x0": "2020-10-08T04:00:00",
          "x1": "2020-10-08T05:00:00",
          "xref": "x",
          "y0": 0,
          "y1": 1,
          "yref": "y domain"
         },
         {
          "fillcolor": "#e07070",
          "line": {
           "width": 0
          },
          "opacity": 0.4,
          "type": "rect",
          "x0": "2020-10-08T05:00:00",
          "x1": "2020-10-08T06:00:00",
          "xref": "x",
          "y0": 0,
          "y1": 1,
          "yref": "y domain"
         },
         {
          "fillcolor": "#e07070",
          "line": {
           "width": 0
          },
          "opacity": 0.4,
          "type": "rect",
          "x0": "2020-10-08T06:00:00",
          "x1": "2020-10-08T07:00:00",
          "xref": "x",
          "y0": 0,
          "y1": 1,
          "yref": "y domain"
         },
         {
          "fillcolor": "#e07070",
          "line": {
           "width": 0
          },
          "opacity": 0.4,
          "type": "rect",
          "x0": "2020-10-08T08:00:00",
          "x1": "2020-10-08T09:00:00",
          "xref": "x",
          "y0": 0,
          "y1": 1,
          "yref": "y domain"
         },
         {
          "fillcolor": "#e07070",
          "line": {
           "width": 0
          },
          "opacity": 0.4,
          "type": "rect",
          "x0": "2020-10-08T09:00:00",
          "x1": "2020-10-08T10:00:00",
          "xref": "x",
          "y0": 0,
          "y1": 1,
          "yref": "y domain"
         },
         {
          "fillcolor": "#e07070",
          "line": {
           "width": 0
          },
          "opacity": 0.4,
          "type": "rect",
          "x0": "2020-10-08T10:00:00",
          "x1": "2020-10-08T11:00:00",
          "xref": "x",
          "y0": 0,
          "y1": 1,
          "yref": "y domain"
         },
         {
          "fillcolor": "#e07070",
          "line": {
           "width": 0
          },
          "opacity": 0.4,
          "type": "rect",
          "x0": "2020-10-08T11:00:00",
          "x1": "2020-10-08T12:00:00",
          "xref": "x",
          "y0": 0,
          "y1": 1,
          "yref": "y domain"
         },
         {
          "fillcolor": "#e07070",
          "line": {
           "width": 0
          },
          "opacity": 0.4,
          "type": "rect",
          "x0": "2020-10-08T12:00:00",
          "x1": "2020-10-08T13:00:00",
          "xref": "x",
          "y0": 0,
          "y1": 1,
          "yref": "y domain"
         },
         {
          "fillcolor": "#e07070",
          "line": {
           "width": 0
          },
          "opacity": 0.4,
          "type": "rect",
          "x0": "2020-10-08T13:00:00",
          "x1": "2020-10-08T14:00:00",
          "xref": "x",
          "y0": 0,
          "y1": 1,
          "yref": "y domain"
         },
         {
          "fillcolor": "#e07070",
          "line": {
           "width": 0
          },
          "opacity": 0.4,
          "type": "rect",
          "x0": "2020-10-08T14:00:00",
          "x1": "2020-10-08T15:00:00",
          "xref": "x",
          "y0": 0,
          "y1": 1,
          "yref": "y domain"
         },
         {
          "fillcolor": "#e07070",
          "line": {
           "width": 0
          },
          "opacity": 0.4,
          "type": "rect",
          "x0": "2020-10-08T15:00:00",
          "x1": "2020-10-08T16:00:00",
          "xref": "x",
          "y0": 0,
          "y1": 1,
          "yref": "y domain"
         },
         {
          "fillcolor": "#e07070",
          "line": {
           "width": 0
          },
          "opacity": 0.4,
          "type": "rect",
          "x0": "2020-10-08T16:00:00",
          "x1": "2020-10-08T17:00:00",
          "xref": "x",
          "y0": 0,
          "y1": 1,
          "yref": "y domain"
         },
         {
          "fillcolor": "#e07070",
          "line": {
           "width": 0
          },
          "opacity": 0.4,
          "type": "rect",
          "x0": "2020-10-08T17:00:00",
          "x1": "2020-10-08T18:00:00",
          "xref": "x",
          "y0": 0,
          "y1": 1,
          "yref": "y domain"
         },
         {
          "fillcolor": "#e07070",
          "line": {
           "width": 0
          },
          "opacity": 0.4,
          "type": "rect",
          "x0": "2020-10-08T18:00:00",
          "x1": "2020-10-08T19:00:00",
          "xref": "x",
          "y0": 0,
          "y1": 1,
          "yref": "y domain"
         },
         {
          "fillcolor": "#e07070",
          "line": {
           "width": 0
          },
          "opacity": 0.4,
          "type": "rect",
          "x0": "2020-10-08T19:00:00",
          "x1": "2020-10-08T20:00:00",
          "xref": "x",
          "y0": 0,
          "y1": 1,
          "yref": "y domain"
         },
         {
          "fillcolor": "#e07070",
          "line": {
           "width": 0
          },
          "opacity": 0.4,
          "type": "rect",
          "x0": "2020-10-08T20:00:00",
          "x1": "2020-10-08T21:00:00",
          "xref": "x",
          "y0": 0,
          "y1": 1,
          "yref": "y domain"
         },
         {
          "fillcolor": "#e07070",
          "line": {
           "width": 0
          },
          "opacity": 0.4,
          "type": "rect",
          "x0": "2020-10-08T21:00:00",
          "x1": "2020-10-08T22:00:00",
          "xref": "x",
          "y0": 0,
          "y1": 1,
          "yref": "y domain"
         },
         {
          "fillcolor": "#e07070",
          "line": {
           "width": 0
          },
          "opacity": 0.4,
          "type": "rect",
          "x0": "2020-10-08T22:00:00",
          "x1": "2020-10-08T23:00:00",
          "xref": "x",
          "y0": 0,
          "y1": 1,
          "yref": "y domain"
         },
         {
          "fillcolor": "#e07070",
          "line": {
           "width": 0
          },
          "opacity": 0.4,
          "type": "rect",
          "x0": "2020-10-08T23:00:00",
          "x1": "2020-10-09T00:00:00",
          "xref": "x",
          "y0": 0,
          "y1": 1,
          "yref": "y domain"
         },
         {
          "fillcolor": "#e07070",
          "line": {
           "width": 0
          },
          "opacity": 0.4,
          "type": "rect",
          "x0": "2020-10-09T00:00:00",
          "x1": "2020-10-09T01:00:00",
          "xref": "x",
          "y0": 0,
          "y1": 1,
          "yref": "y domain"
         },
         {
          "fillcolor": "#e07070",
          "line": {
           "width": 0
          },
          "opacity": 0.4,
          "type": "rect",
          "x0": "2020-10-09T01:00:00",
          "x1": "2020-10-09T02:00:00",
          "xref": "x",
          "y0": 0,
          "y1": 1,
          "yref": "y domain"
         },
         {
          "fillcolor": "#e07070",
          "line": {
           "width": 0
          },
          "opacity": 0.4,
          "type": "rect",
          "x0": "2020-10-09T02:00:00",
          "x1": "2020-10-09T03:00:00",
          "xref": "x",
          "y0": 0,
          "y1": 1,
          "yref": "y domain"
         },
         {
          "fillcolor": "#e07070",
          "line": {
           "width": 0
          },
          "opacity": 0.4,
          "type": "rect",
          "x0": "2020-10-09T03:00:00",
          "x1": "2020-10-09T04:00:00",
          "xref": "x",
          "y0": 0,
          "y1": 1,
          "yref": "y domain"
         },
         {
          "fillcolor": "#e07070",
          "line": {
           "width": 0
          },
          "opacity": 0.4,
          "type": "rect",
          "x0": "2020-10-09T06:00:00",
          "x1": "2020-10-09T09:00:00",
          "xref": "x",
          "y0": 0,
          "y1": 1,
          "yref": "y domain"
         },
         {
          "fillcolor": "#e07070",
          "line": {
           "width": 0
          },
          "opacity": 0.4,
          "type": "rect",
          "x0": "2020-10-09T09:00:00",
          "x1": "2020-10-09T10:00:00",
          "xref": "x",
          "y0": 0,
          "y1": 1,
          "yref": "y domain"
         },
         {
          "fillcolor": "#e07070",
          "line": {
           "width": 0
          },
          "opacity": 0.4,
          "type": "rect",
          "x0": "2020-10-09T10:00:00",
          "x1": "2020-10-09T11:00:00",
          "xref": "x",
          "y0": 0,
          "y1": 1,
          "yref": "y domain"
         },
         {
          "fillcolor": "#e07070",
          "line": {
           "width": 0
          },
          "opacity": 0.4,
          "type": "rect",
          "x0": "2020-10-09T11:00:00",
          "x1": "2020-10-09T12:00:00",
          "xref": "x",
          "y0": 0,
          "y1": 1,
          "yref": "y domain"
         },
         {
          "fillcolor": "#e07070",
          "line": {
           "width": 0
          },
          "opacity": 0.4,
          "type": "rect",
          "x0": "2020-10-09T14:00:00",
          "x1": "2020-10-09T15:00:00",
          "xref": "x",
          "y0": 0,
          "y1": 1,
          "yref": "y domain"
         },
         {
          "fillcolor": "#e07070",
          "line": {
           "width": 0
          },
          "opacity": 0.4,
          "type": "rect",
          "x0": "2020-10-09T15:00:00",
          "x1": "2020-10-09T16:00:00",
          "xref": "x",
          "y0": 0,
          "y1": 1,
          "yref": "y domain"
         },
         {
          "fillcolor": "#e07070",
          "line": {
           "width": 0
          },
          "opacity": 0.4,
          "type": "rect",
          "x0": "2020-10-09T16:00:00",
          "x1": "2020-10-09T17:00:00",
          "xref": "x",
          "y0": 0,
          "y1": 1,
          "yref": "y domain"
         },
         {
          "fillcolor": "#e07070",
          "line": {
           "width": 0
          },
          "opacity": 0.4,
          "type": "rect",
          "x0": "2020-10-09T17:00:00",
          "x1": "2020-10-09T18:00:00",
          "xref": "x",
          "y0": 0,
          "y1": 1,
          "yref": "y domain"
         },
         {
          "fillcolor": "#e07070",
          "line": {
           "width": 0
          },
          "opacity": 0.4,
          "type": "rect",
          "x0": "2020-10-09T18:00:00",
          "x1": "2020-10-09T19:00:00",
          "xref": "x",
          "y0": 0,
          "y1": 1,
          "yref": "y domain"
         },
         {
          "fillcolor": "#e07070",
          "line": {
           "width": 0
          },
          "opacity": 0.4,
          "type": "rect",
          "x0": "2020-10-09T19:00:00",
          "x1": "2020-10-09T20:00:00",
          "xref": "x",
          "y0": 0,
          "y1": 1,
          "yref": "y domain"
         },
         {
          "fillcolor": "#e07070",
          "line": {
           "width": 0
          },
          "opacity": 0.4,
          "type": "rect",
          "x0": "2020-10-09T20:00:00",
          "x1": "2020-10-09T21:00:00",
          "xref": "x",
          "y0": 0,
          "y1": 1,
          "yref": "y domain"
         },
         {
          "fillcolor": "#e07070",
          "line": {
           "width": 0
          },
          "opacity": 0.4,
          "type": "rect",
          "x0": "2020-10-09T21:00:00",
          "x1": "2020-10-09T22:00:00",
          "xref": "x",
          "y0": 0,
          "y1": 1,
          "yref": "y domain"
         },
         {
          "fillcolor": "#e07070",
          "line": {
           "width": 0
          },
          "opacity": 0.4,
          "type": "rect",
          "x0": "2020-10-09T22:00:00",
          "x1": "2020-10-09T23:00:00",
          "xref": "x",
          "y0": 0,
          "y1": 1,
          "yref": "y domain"
         },
         {
          "fillcolor": "#e07070",
          "line": {
           "width": 0
          },
          "opacity": 0.4,
          "type": "rect",
          "x0": "2020-10-09T23:00:00",
          "x1": "2020-10-10T00:00:00",
          "xref": "x",
          "y0": 0,
          "y1": 1,
          "yref": "y domain"
         },
         {
          "fillcolor": "#e07070",
          "line": {
           "width": 0
          },
          "opacity": 0.4,
          "type": "rect",
          "x0": "2020-10-10T00:00:00",
          "x1": "2020-10-10T01:00:00",
          "xref": "x",
          "y0": 0,
          "y1": 1,
          "yref": "y domain"
         },
         {
          "fillcolor": "#e07070",
          "line": {
           "width": 0
          },
          "opacity": 0.4,
          "type": "rect",
          "x0": "2020-10-10T01:00:00",
          "x1": "2020-10-10T02:00:00",
          "xref": "x",
          "y0": 0,
          "y1": 1,
          "yref": "y domain"
         },
         {
          "fillcolor": "#e07070",
          "line": {
           "width": 0
          },
          "opacity": 0.4,
          "type": "rect",
          "x0": "2020-10-10T02:00:00",
          "x1": "2020-10-10T03:00:00",
          "xref": "x",
          "y0": 0,
          "y1": 1,
          "yref": "y domain"
         },
         {
          "fillcolor": "#e07070",
          "line": {
           "width": 0
          },
          "opacity": 0.4,
          "type": "rect",
          "x0": "2020-10-10T05:00:00",
          "x1": "2020-10-10T07:00:00",
          "xref": "x",
          "y0": 0,
          "y1": 1,
          "yref": "y domain"
         },
         {
          "fillcolor": "#e07070",
          "line": {
           "width": 0
          },
          "opacity": 0.4,
          "type": "rect",
          "x0": "2020-10-10T07:00:00",
          "x1": "2020-10-10T08:00:00",
          "xref": "x",
          "y0": 0,
          "y1": 1,
          "yref": "y domain"
         },
         {
          "fillcolor": "#e07070",
          "line": {
           "width": 0
          },
          "opacity": 0.4,
          "type": "rect",
          "x0": "2020-10-10T08:00:00",
          "x1": "2020-10-10T11:00:00",
          "xref": "x",
          "y0": 0,
          "y1": 1,
          "yref": "y domain"
         },
         {
          "fillcolor": "#e07070",
          "line": {
           "width": 0
          },
          "opacity": 0.4,
          "type": "rect",
          "x0": "2020-10-10T11:00:00",
          "x1": "2020-10-10T12:00:00",
          "xref": "x",
          "y0": 0,
          "y1": 1,
          "yref": "y domain"
         },
         {
          "fillcolor": "#e07070",
          "line": {
           "width": 0
          },
          "opacity": 0.4,
          "type": "rect",
          "x0": "2020-10-10T12:00:00",
          "x1": "2020-10-10T13:00:00",
          "xref": "x",
          "y0": 0,
          "y1": 1,
          "yref": "y domain"
         },
         {
          "fillcolor": "#e07070",
          "line": {
           "width": 0
          },
          "opacity": 0.4,
          "type": "rect",
          "x0": "2020-10-10T13:00:00",
          "x1": "2020-10-10T14:00:00",
          "xref": "x",
          "y0": 0,
          "y1": 1,
          "yref": "y domain"
         },
         {
          "fillcolor": "#e07070",
          "line": {
           "width": 0
          },
          "opacity": 0.4,
          "type": "rect",
          "x0": "2020-10-10T14:00:00",
          "x1": "2020-10-10T15:00:00",
          "xref": "x",
          "y0": 0,
          "y1": 1,
          "yref": "y domain"
         },
         {
          "fillcolor": "#e07070",
          "line": {
           "width": 0
          },
          "opacity": 0.4,
          "type": "rect",
          "x0": "2020-10-10T18:00:00",
          "x1": "2020-10-10T19:00:00",
          "xref": "x",
          "y0": 0,
          "y1": 1,
          "yref": "y domain"
         },
         {
          "fillcolor": "#e07070",
          "line": {
           "width": 0
          },
          "opacity": 0.4,
          "type": "rect",
          "x0": "2020-10-10T19:00:00",
          "x1": "2020-10-10T20:00:00",
          "xref": "x",
          "y0": 0,
          "y1": 1,
          "yref": "y domain"
         },
         {
          "fillcolor": "#e07070",
          "line": {
           "width": 0
          },
          "opacity": 0.4,
          "type": "rect",
          "x0": "2020-10-11T00:00:00",
          "x1": "2020-10-11T01:00:00",
          "xref": "x",
          "y0": 0,
          "y1": 1,
          "yref": "y domain"
         },
         {
          "fillcolor": "#e07070",
          "line": {
           "width": 0
          },
          "opacity": 0.4,
          "type": "rect",
          "x0": "2020-10-11T01:00:00",
          "x1": "2020-10-11T02:00:00",
          "xref": "x",
          "y0": 0,
          "y1": 1,
          "yref": "y domain"
         },
         {
          "fillcolor": "#e07070",
          "line": {
           "width": 0
          },
          "opacity": 0.4,
          "type": "rect",
          "x0": "2020-10-11T05:00:00",
          "x1": "2020-10-11T07:00:00",
          "xref": "x",
          "y0": 0,
          "y1": 1,
          "yref": "y domain"
         },
         {
          "fillcolor": "#e07070",
          "line": {
           "width": 0
          },
          "opacity": 0.4,
          "type": "rect",
          "x0": "2020-10-11T07:00:00",
          "x1": "2020-10-11T09:00:00",
          "xref": "x",
          "y0": 0,
          "y1": 1,
          "yref": "y domain"
         },
         {
          "fillcolor": "#e07070",
          "line": {
           "width": 0
          },
          "opacity": 0.4,
          "type": "rect",
          "x0": "2020-10-11T09:00:00",
          "x1": "2020-10-11T12:00:00",
          "xref": "x",
          "y0": 0,
          "y1": 1,
          "yref": "y domain"
         },
         {
          "fillcolor": "#e07070",
          "line": {
           "width": 0
          },
          "opacity": 0.4,
          "type": "rect",
          "x0": "2020-10-11T12:00:00",
          "x1": "2020-10-11T13:00:00",
          "xref": "x",
          "y0": 0,
          "y1": 1,
          "yref": "y domain"
         },
         {
          "fillcolor": "#e07070",
          "line": {
           "width": 0
          },
          "opacity": 0.4,
          "type": "rect",
          "x0": "2020-10-11T13:00:00",
          "x1": "2020-10-11T14:00:00",
          "xref": "x",
          "y0": 0,
          "y1": 1,
          "yref": "y domain"
         },
         {
          "fillcolor": "#e07070",
          "line": {
           "width": 0
          },
          "opacity": 0.4,
          "type": "rect",
          "x0": "2020-10-11T14:00:00",
          "x1": "2020-10-11T15:00:00",
          "xref": "x",
          "y0": 0,
          "y1": 1,
          "yref": "y domain"
         },
         {
          "fillcolor": "#e07070",
          "line": {
           "width": 0
          },
          "opacity": 0.4,
          "type": "rect",
          "x0": "2020-10-11T15:00:00",
          "x1": "2020-10-11T16:00:00",
          "xref": "x",
          "y0": 0,
          "y1": 1,
          "yref": "y domain"
         },
         {
          "fillcolor": "#e07070",
          "line": {
           "width": 0
          },
          "opacity": 0.4,
          "type": "rect",
          "x0": "2020-10-11T16:00:00",
          "x1": "2020-10-11T17:00:00",
          "xref": "x",
          "y0": 0,
          "y1": 1,
          "yref": "y domain"
         },
         {
          "fillcolor": "#e07070",
          "line": {
           "width": 0
          },
          "opacity": 0.4,
          "type": "rect",
          "x0": "2020-10-11T17:00:00",
          "x1": "2020-10-11T18:00:00",
          "xref": "x",
          "y0": 0,
          "y1": 1,
          "yref": "y domain"
         },
         {
          "fillcolor": "#e07070",
          "line": {
           "width": 0
          },
          "opacity": 0.4,
          "type": "rect",
          "x0": "2020-10-11T18:00:00",
          "x1": "2020-10-11T19:00:00",
          "xref": "x",
          "y0": 0,
          "y1": 1,
          "yref": "y domain"
         },
         {
          "fillcolor": "#e07070",
          "line": {
           "width": 0
          },
          "opacity": 0.4,
          "type": "rect",
          "x0": "2020-10-11T19:00:00",
          "x1": "2020-10-11T20:00:00",
          "xref": "x",
          "y0": 0,
          "y1": 1,
          "yref": "y domain"
         },
         {
          "fillcolor": "#e07070",
          "line": {
           "width": 0
          },
          "opacity": 0.4,
          "type": "rect",
          "x0": "2020-10-11T20:00:00",
          "x1": "2020-10-11T21:00:00",
          "xref": "x",
          "y0": 0,
          "y1": 1,
          "yref": "y domain"
         },
         {
          "fillcolor": "#e07070",
          "line": {
           "width": 0
          },
          "opacity": 0.4,
          "type": "rect",
          "x0": "2020-10-11T21:00:00",
          "x1": "2020-10-11T22:00:00",
          "xref": "x",
          "y0": 0,
          "y1": 1,
          "yref": "y domain"
         },
         {
          "fillcolor": "#e07070",
          "line": {
           "width": 0
          },
          "opacity": 0.4,
          "type": "rect",
          "x0": "2020-10-11T22:00:00",
          "x1": "2020-10-11T23:00:00",
          "xref": "x",
          "y0": 0,
          "y1": 1,
          "yref": "y domain"
         },
         {
          "fillcolor": "#e07070",
          "line": {
           "width": 0
          },
          "opacity": 0.4,
          "type": "rect",
          "x0": "2020-10-11T23:00:00",
          "x1": "2020-10-12T00:00:00",
          "xref": "x",
          "y0": 0,
          "y1": 1,
          "yref": "y domain"
         },
         {
          "fillcolor": "#e07070",
          "line": {
           "width": 0
          },
          "opacity": 0.4,
          "type": "rect",
          "x0": "2020-10-12T00:00:00",
          "x1": "2020-10-12T01:00:00",
          "xref": "x",
          "y0": 0,
          "y1": 1,
          "yref": "y domain"
         },
         {
          "fillcolor": "#e07070",
          "line": {
           "width": 0
          },
          "opacity": 0.4,
          "type": "rect",
          "x0": "2020-10-12T01:00:00",
          "x1": "2020-10-12T03:00:00",
          "xref": "x",
          "y0": 0,
          "y1": 1,
          "yref": "y domain"
         },
         {
          "fillcolor": "#e07070",
          "line": {
           "width": 0
          },
          "opacity": 0.4,
          "type": "rect",
          "x0": "2020-10-12T03:00:00",
          "x1": "2020-10-12T12:00:00",
          "xref": "x",
          "y0": 0,
          "y1": 1,
          "yref": "y domain"
         },
         {
          "fillcolor": "#e07070",
          "line": {
           "width": 0
          },
          "opacity": 0.4,
          "type": "rect",
          "x0": "2020-10-12T20:00:00",
          "x1": "2020-10-12T21:00:00",
          "xref": "x",
          "y0": 0,
          "y1": 1,
          "yref": "y domain"
         },
         {
          "fillcolor": "#e07070",
          "line": {
           "width": 0
          },
          "opacity": 0.4,
          "type": "rect",
          "x0": "2020-10-12T22:00:00",
          "x1": "2020-10-12T23:00:00",
          "xref": "x",
          "y0": 0,
          "y1": 1,
          "yref": "y domain"
         },
         {
          "fillcolor": "#e07070",
          "line": {
           "width": 0
          },
          "opacity": 0.4,
          "type": "rect",
          "x0": "2020-10-12T23:00:00",
          "x1": "2020-10-13T00:00:00",
          "xref": "x",
          "y0": 0,
          "y1": 1,
          "yref": "y domain"
         }
        ],
        "showlegend": true,
        "template": {
         "data": {
          "bar": [
           {
            "error_x": {
             "color": "#2a3f5f"
            },
            "error_y": {
             "color": "#2a3f5f"
            },
            "marker": {
             "line": {
              "color": "#E5ECF6",
              "width": 0.5
             },
             "pattern": {
              "fillmode": "overlay",
              "size": 10,
              "solidity": 0.2
             }
            },
            "type": "bar"
           }
          ],
          "barpolar": [
           {
            "marker": {
             "line": {
              "color": "#E5ECF6",
              "width": 0.5
             },
             "pattern": {
              "fillmode": "overlay",
              "size": 10,
              "solidity": 0.2
             }
            },
            "type": "barpolar"
           }
          ],
          "carpet": [
           {
            "aaxis": {
             "endlinecolor": "#2a3f5f",
             "gridcolor": "white",
             "linecolor": "white",
             "minorgridcolor": "white",
             "startlinecolor": "#2a3f5f"
            },
            "baxis": {
             "endlinecolor": "#2a3f5f",
             "gridcolor": "white",
             "linecolor": "white",
             "minorgridcolor": "white",
             "startlinecolor": "#2a3f5f"
            },
            "type": "carpet"
           }
          ],
          "choropleth": [
           {
            "colorbar": {
             "outlinewidth": 0,
             "ticks": ""
            },
            "type": "choropleth"
           }
          ],
          "contour": [
           {
            "colorbar": {
             "outlinewidth": 0,
             "ticks": ""
            },
            "colorscale": [
             [
              0,
              "#0d0887"
             ],
             [
              0.1111111111111111,
              "#46039f"
             ],
             [
              0.2222222222222222,
              "#7201a8"
             ],
             [
              0.3333333333333333,
              "#9c179e"
             ],
             [
              0.4444444444444444,
              "#bd3786"
             ],
             [
              0.5555555555555556,
              "#d8576b"
             ],
             [
              0.6666666666666666,
              "#ed7953"
             ],
             [
              0.7777777777777778,
              "#fb9f3a"
             ],
             [
              0.8888888888888888,
              "#fdca26"
             ],
             [
              1,
              "#f0f921"
             ]
            ],
            "type": "contour"
           }
          ],
          "contourcarpet": [
           {
            "colorbar": {
             "outlinewidth": 0,
             "ticks": ""
            },
            "type": "contourcarpet"
           }
          ],
          "heatmap": [
           {
            "colorbar": {
             "outlinewidth": 0,
             "ticks": ""
            },
            "colorscale": [
             [
              0,
              "#0d0887"
             ],
             [
              0.1111111111111111,
              "#46039f"
             ],
             [
              0.2222222222222222,
              "#7201a8"
             ],
             [
              0.3333333333333333,
              "#9c179e"
             ],
             [
              0.4444444444444444,
              "#bd3786"
             ],
             [
              0.5555555555555556,
              "#d8576b"
             ],
             [
              0.6666666666666666,
              "#ed7953"
             ],
             [
              0.7777777777777778,
              "#fb9f3a"
             ],
             [
              0.8888888888888888,
              "#fdca26"
             ],
             [
              1,
              "#f0f921"
             ]
            ],
            "type": "heatmap"
           }
          ],
          "heatmapgl": [
           {
            "colorbar": {
             "outlinewidth": 0,
             "ticks": ""
            },
            "colorscale": [
             [
              0,
              "#0d0887"
             ],
             [
              0.1111111111111111,
              "#46039f"
             ],
             [
              0.2222222222222222,
              "#7201a8"
             ],
             [
              0.3333333333333333,
              "#9c179e"
             ],
             [
              0.4444444444444444,
              "#bd3786"
             ],
             [
              0.5555555555555556,
              "#d8576b"
             ],
             [
              0.6666666666666666,
              "#ed7953"
             ],
             [
              0.7777777777777778,
              "#fb9f3a"
             ],
             [
              0.8888888888888888,
              "#fdca26"
             ],
             [
              1,
              "#f0f921"
             ]
            ],
            "type": "heatmapgl"
           }
          ],
          "histogram": [
           {
            "marker": {
             "pattern": {
              "fillmode": "overlay",
              "size": 10,
              "solidity": 0.2
             }
            },
            "type": "histogram"
           }
          ],
          "histogram2d": [
           {
            "colorbar": {
             "outlinewidth": 0,
             "ticks": ""
            },
            "colorscale": [
             [
              0,
              "#0d0887"
             ],
             [
              0.1111111111111111,
              "#46039f"
             ],
             [
              0.2222222222222222,
              "#7201a8"
             ],
             [
              0.3333333333333333,
              "#9c179e"
             ],
             [
              0.4444444444444444,
              "#bd3786"
             ],
             [
              0.5555555555555556,
              "#d8576b"
             ],
             [
              0.6666666666666666,
              "#ed7953"
             ],
             [
              0.7777777777777778,
              "#fb9f3a"
             ],
             [
              0.8888888888888888,
              "#fdca26"
             ],
             [
              1,
              "#f0f921"
             ]
            ],
            "type": "histogram2d"
           }
          ],
          "histogram2dcontour": [
           {
            "colorbar": {
             "outlinewidth": 0,
             "ticks": ""
            },
            "colorscale": [
             [
              0,
              "#0d0887"
             ],
             [
              0.1111111111111111,
              "#46039f"
             ],
             [
              0.2222222222222222,
              "#7201a8"
             ],
             [
              0.3333333333333333,
              "#9c179e"
             ],
             [
              0.4444444444444444,
              "#bd3786"
             ],
             [
              0.5555555555555556,
              "#d8576b"
             ],
             [
              0.6666666666666666,
              "#ed7953"
             ],
             [
              0.7777777777777778,
              "#fb9f3a"
             ],
             [
              0.8888888888888888,
              "#fdca26"
             ],
             [
              1,
              "#f0f921"
             ]
            ],
            "type": "histogram2dcontour"
           }
          ],
          "mesh3d": [
           {
            "colorbar": {
             "outlinewidth": 0,
             "ticks": ""
            },
            "type": "mesh3d"
           }
          ],
          "parcoords": [
           {
            "line": {
             "colorbar": {
              "outlinewidth": 0,
              "ticks": ""
             }
            },
            "type": "parcoords"
           }
          ],
          "pie": [
           {
            "automargin": true,
            "type": "pie"
           }
          ],
          "scatter": [
           {
            "marker": {
             "colorbar": {
              "outlinewidth": 0,
              "ticks": ""
             }
            },
            "type": "scatter"
           }
          ],
          "scatter3d": [
           {
            "line": {
             "colorbar": {
              "outlinewidth": 0,
              "ticks": ""
             }
            },
            "marker": {
             "colorbar": {
              "outlinewidth": 0,
              "ticks": ""
             }
            },
            "type": "scatter3d"
           }
          ],
          "scattercarpet": [
           {
            "marker": {
             "colorbar": {
              "outlinewidth": 0,
              "ticks": ""
             }
            },
            "type": "scattercarpet"
           }
          ],
          "scattergeo": [
           {
            "marker": {
             "colorbar": {
              "outlinewidth": 0,
              "ticks": ""
             }
            },
            "type": "scattergeo"
           }
          ],
          "scattergl": [
           {
            "marker": {
             "colorbar": {
              "outlinewidth": 0,
              "ticks": ""
             }
            },
            "type": "scattergl"
           }
          ],
          "scattermapbox": [
           {
            "marker": {
             "colorbar": {
              "outlinewidth": 0,
              "ticks": ""
             }
            },
            "type": "scattermapbox"
           }
          ],
          "scatterpolar": [
           {
            "marker": {
             "colorbar": {
              "outlinewidth": 0,
              "ticks": ""
             }
            },
            "type": "scatterpolar"
           }
          ],
          "scatterpolargl": [
           {
            "marker": {
             "colorbar": {
              "outlinewidth": 0,
              "ticks": ""
             }
            },
            "type": "scatterpolargl"
           }
          ],
          "scatterternary": [
           {
            "marker": {
             "colorbar": {
              "outlinewidth": 0,
              "ticks": ""
             }
            },
            "type": "scatterternary"
           }
          ],
          "surface": [
           {
            "colorbar": {
             "outlinewidth": 0,
             "ticks": ""
            },
            "colorscale": [
             [
              0,
              "#0d0887"
             ],
             [
              0.1111111111111111,
              "#46039f"
             ],
             [
              0.2222222222222222,
              "#7201a8"
             ],
             [
              0.3333333333333333,
              "#9c179e"
             ],
             [
              0.4444444444444444,
              "#bd3786"
             ],
             [
              0.5555555555555556,
              "#d8576b"
             ],
             [
              0.6666666666666666,
              "#ed7953"
             ],
             [
              0.7777777777777778,
              "#fb9f3a"
             ],
             [
              0.8888888888888888,
              "#fdca26"
             ],
             [
              1,
              "#f0f921"
             ]
            ],
            "type": "surface"
           }
          ],
          "table": [
           {
            "cells": {
             "fill": {
              "color": "#EBF0F8"
             },
             "line": {
              "color": "white"
             }
            },
            "header": {
             "fill": {
              "color": "#C8D4E3"
             },
             "line": {
              "color": "white"
             }
            },
            "type": "table"
           }
          ]
         },
         "layout": {
          "annotationdefaults": {
           "arrowcolor": "#2a3f5f",
           "arrowhead": 0,
           "arrowwidth": 1
          },
          "autotypenumbers": "strict",
          "coloraxis": {
           "colorbar": {
            "outlinewidth": 0,
            "ticks": ""
           }
          },
          "colorscale": {
           "diverging": [
            [
             0,
             "#8e0152"
            ],
            [
             0.1,
             "#c51b7d"
            ],
            [
             0.2,
             "#de77ae"
            ],
            [
             0.3,
             "#f1b6da"
            ],
            [
             0.4,
             "#fde0ef"
            ],
            [
             0.5,
             "#f7f7f7"
            ],
            [
             0.6,
             "#e6f5d0"
            ],
            [
             0.7,
             "#b8e186"
            ],
            [
             0.8,
             "#7fbc41"
            ],
            [
             0.9,
             "#4d9221"
            ],
            [
             1,
             "#276419"
            ]
           ],
           "sequential": [
            [
             0,
             "#0d0887"
            ],
            [
             0.1111111111111111,
             "#46039f"
            ],
            [
             0.2222222222222222,
             "#7201a8"
            ],
            [
             0.3333333333333333,
             "#9c179e"
            ],
            [
             0.4444444444444444,
             "#bd3786"
            ],
            [
             0.5555555555555556,
             "#d8576b"
            ],
            [
             0.6666666666666666,
             "#ed7953"
            ],
            [
             0.7777777777777778,
             "#fb9f3a"
            ],
            [
             0.8888888888888888,
             "#fdca26"
            ],
            [
             1,
             "#f0f921"
            ]
           ],
           "sequentialminus": [
            [
             0,
             "#0d0887"
            ],
            [
             0.1111111111111111,
             "#46039f"
            ],
            [
             0.2222222222222222,
             "#7201a8"
            ],
            [
             0.3333333333333333,
             "#9c179e"
            ],
            [
             0.4444444444444444,
             "#bd3786"
            ],
            [
             0.5555555555555556,
             "#d8576b"
            ],
            [
             0.6666666666666666,
             "#ed7953"
            ],
            [
             0.7777777777777778,
             "#fb9f3a"
            ],
            [
             0.8888888888888888,
             "#fdca26"
            ],
            [
             1,
             "#f0f921"
            ]
           ]
          },
          "colorway": [
           "#636efa",
           "#EF553B",
           "#00cc96",
           "#ab63fa",
           "#FFA15A",
           "#19d3f3",
           "#FF6692",
           "#B6E880",
           "#FF97FF",
           "#FECB52"
          ],
          "font": {
           "color": "#2a3f5f"
          },
          "geo": {
           "bgcolor": "white",
           "lakecolor": "white",
           "landcolor": "#E5ECF6",
           "showlakes": true,
           "showland": true,
           "subunitcolor": "white"
          },
          "hoverlabel": {
           "align": "left"
          },
          "hovermode": "closest",
          "mapbox": {
           "style": "light"
          },
          "paper_bgcolor": "white",
          "plot_bgcolor": "#E5ECF6",
          "polar": {
           "angularaxis": {
            "gridcolor": "white",
            "linecolor": "white",
            "ticks": ""
           },
           "bgcolor": "#E5ECF6",
           "radialaxis": {
            "gridcolor": "white",
            "linecolor": "white",
            "ticks": ""
           }
          },
          "scene": {
           "xaxis": {
            "backgroundcolor": "#E5ECF6",
            "gridcolor": "white",
            "gridwidth": 2,
            "linecolor": "white",
            "showbackground": true,
            "ticks": "",
            "zerolinecolor": "white"
           },
           "yaxis": {
            "backgroundcolor": "#E5ECF6",
            "gridcolor": "white",
            "gridwidth": 2,
            "linecolor": "white",
            "showbackground": true,
            "ticks": "",
            "zerolinecolor": "white"
           },
           "zaxis": {
            "backgroundcolor": "#E5ECF6",
            "gridcolor": "white",
            "gridwidth": 2,
            "linecolor": "white",
            "showbackground": true,
            "ticks": "",
            "zerolinecolor": "white"
           }
          },
          "shapedefaults": {
           "line": {
            "color": "#2a3f5f"
           }
          },
          "ternary": {
           "aaxis": {
            "gridcolor": "white",
            "linecolor": "white",
            "ticks": ""
           },
           "baxis": {
            "gridcolor": "white",
            "linecolor": "white",
            "ticks": ""
           },
           "bgcolor": "#E5ECF6",
           "caxis": {
            "gridcolor": "white",
            "linecolor": "white",
            "ticks": ""
           }
          },
          "title": {
           "x": 0.05
          },
          "xaxis": {
           "automargin": true,
           "gridcolor": "white",
           "linecolor": "white",
           "ticks": "",
           "title": {
            "standoff": 15
           },
           "zerolinecolor": "white",
           "zerolinewidth": 2
          },
          "yaxis": {
           "automargin": true,
           "gridcolor": "white",
           "linecolor": "white",
           "ticks": "",
           "title": {
            "standoff": 15
           },
           "zerolinecolor": "white",
           "zerolinewidth": 2
          }
         }
        },
        "title": {
         "text": "ProphetDetector: Anomalies in total_count (Forecast Overlaid)"
        },
        "width": 1000,
        "xaxis": {
         "anchor": "y",
         "domain": [
          0,
          0.94
         ],
         "rangeselector": {
          "buttons": [
           {
            "count": 7,
            "label": "1w",
            "step": "day",
            "stepmode": "backward"
           },
           {
            "count": 1,
            "label": "1m",
            "step": "month",
            "stepmode": "backward"
           },
           {
            "count": 6,
            "label": "6m",
            "step": "month",
            "stepmode": "backward"
           },
           {
            "count": 1,
            "label": "1y",
            "step": "year",
            "stepmode": "backward"
           },
           {
            "step": "all"
           }
          ]
         },
         "rangeslider": {
          "visible": true
         },
         "title": {
          "text": "Time"
         },
         "type": "date"
        },
        "yaxis": {
         "anchor": "x",
         "domain": [
          0,
          1
         ],
         "title": {
          "text": "total_count"
         }
        },
        "yaxis2": {
         "anchor": "x",
         "overlaying": "y",
         "range": [
          -2.086943584009254,
          11.900868541699703
         ],
         "side": "right",
         "title": {
          "text": "Anomaly Score"
         }
        }
       }
      }
     },
     "metadata": {}
    },
    {
     "output_type": "stream",
     "name": "stdout",
     "text": [
      "Initial log joint probability = -4.5625\n",
      "    Iter      log prob        ||dx||      ||grad||       alpha      alpha0  # evals  Notes \n",
      "      99       266.894   2.13183e-05       101.442           1           1      120   \n",
      "    Iter      log prob        ||dx||      ||grad||       alpha      alpha0  # evals  Notes \n",
      "     107       266.912   0.000108705       82.4613   1.015e-06       0.001      161  LS failed, Hessian reset \n",
      "     173       266.919   3.39712e-07       92.2758   3.189e-09       0.001      284  LS failed, Hessian reset \n",
      "     183       266.919   6.29181e-09       89.6834      0.3757      0.3757      297   \n",
      "Optimization terminated normally: \n",
      "  Convergence detected: absolute parameter change was below tolerance\n"
     ]
    },
    {
     "output_type": "display_data",
     "data": {
      "application/vnd.plotly.v1+json": {
       "config": {
        "plotlyServerURL": "https://plot.ly"
       },
       "data": [
        {
         "hoverinfo": "skip",
         "line": {
          "width": 0
         },
         "mode": "lines",
         "showlegend": false,
         "type": "scatter",
         "x": [
          "2020-10-01T01:00:00",
          "2020-10-01T02:00:00",
          "2020-10-01T03:00:00",
          "2020-10-01T05:00:00",
          "2020-10-01T11:00:00",
          "2020-10-01T13:00:00",
          "2020-10-01T14:00:00",
          "2020-10-01T15:00:00",
          "2020-10-01T16:00:00",
          "2020-10-01T17:00:00",
          "2020-10-01T18:00:00",
          "2020-10-01T19:00:00",
          "2020-10-01T20:00:00",
          "2020-10-01T21:00:00",
          "2020-10-01T22:00:00",
          "2020-10-01T23:00:00",
          "2020-10-02T00:00:00",
          "2020-10-02T02:00:00",
          "2020-10-02T03:00:00",
          "2020-10-02T04:00:00",
          "2020-10-02T05:00:00",
          "2020-10-02T07:00:00",
          "2020-10-02T12:00:00",
          "2020-10-02T14:00:00",
          "2020-10-02T15:00:00",
          "2020-10-02T16:00:00",
          "2020-10-02T17:00:00",
          "2020-10-02T18:00:00",
          "2020-10-02T19:00:00",
          "2020-10-02T20:00:00",
          "2020-10-02T21:00:00",
          "2020-10-02T22:00:00",
          "2020-10-03T00:00:00",
          "2020-10-03T01:00:00",
          "2020-10-03T02:00:00",
          "2020-10-03T13:00:00",
          "2020-10-03T15:00:00",
          "2020-10-03T16:00:00",
          "2020-10-03T18:00:00",
          "2020-10-03T19:00:00",
          "2020-10-03T20:00:00",
          "2020-10-03T21:00:00",
          "2020-10-03T22:00:00",
          "2020-10-04T12:00:00",
          "2020-10-04T13:00:00",
          "2020-10-04T16:00:00",
          "2020-10-04T20:00:00",
          "2020-10-04T22:00:00",
          "2020-10-05T00:00:00",
          "2020-10-05T04:00:00",
          "2020-10-05T09:00:00",
          "2020-10-05T13:00:00",
          "2020-10-05T14:00:00",
          "2020-10-05T15:00:00",
          "2020-10-05T16:00:00",
          "2020-10-05T17:00:00",
          "2020-10-05T18:00:00",
          "2020-10-05T19:00:00",
          "2020-10-05T20:00:00",
          "2020-10-05T22:00:00",
          "2020-10-05T23:00:00",
          "2020-10-06T01:00:00",
          "2020-10-06T02:00:00",
          "2020-10-06T03:00:00",
          "2020-10-06T06:00:00",
          "2020-10-06T13:00:00",
          "2020-10-06T14:00:00",
          "2020-10-06T16:00:00",
          "2020-10-06T17:00:00",
          "2020-10-06T18:00:00",
          "2020-10-06T19:00:00",
          "2020-10-06T20:00:00",
          "2020-10-06T21:00:00",
          "2020-10-06T22:00:00",
          "2020-10-06T23:00:00",
          "2020-10-07T00:00:00",
          "2020-10-07T01:00:00",
          "2020-10-07T02:00:00",
          "2020-10-07T03:00:00",
          "2020-10-07T10:00:00",
          "2020-10-07T12:00:00",
          "2020-10-07T14:00:00",
          "2020-10-07T15:00:00",
          "2020-10-07T16:00:00",
          "2020-10-07T17:00:00",
          "2020-10-07T18:00:00",
          "2020-10-07T19:00:00",
          "2020-10-07T20:00:00",
          "2020-10-07T21:00:00",
          "2020-10-07T22:00:00",
          "2020-10-07T23:00:00",
          "2020-10-08T00:00:00",
          "2020-10-08T01:00:00",
          "2020-10-08T02:00:00",
          "2020-10-08T03:00:00",
          "2020-10-08T04:00:00",
          "2020-10-08T05:00:00",
          "2020-10-08T06:00:00",
          "2020-10-08T07:00:00",
          "2020-10-08T08:00:00",
          "2020-10-08T09:00:00",
          "2020-10-08T10:00:00",
          "2020-10-08T11:00:00",
          "2020-10-08T12:00:00",
          "2020-10-08T13:00:00",
          "2020-10-08T14:00:00",
          "2020-10-08T15:00:00",
          "2020-10-08T16:00:00",
          "2020-10-08T17:00:00",
          "2020-10-08T18:00:00",
          "2020-10-08T19:00:00",
          "2020-10-08T20:00:00",
          "2020-10-08T21:00:00",
          "2020-10-08T22:00:00",
          "2020-10-08T23:00:00",
          "2020-10-09T00:00:00",
          "2020-10-09T01:00:00",
          "2020-10-09T02:00:00",
          "2020-10-09T03:00:00",
          "2020-10-09T04:00:00",
          "2020-10-09T05:00:00",
          "2020-10-09T06:00:00",
          "2020-10-09T09:00:00",
          "2020-10-09T10:00:00",
          "2020-10-09T11:00:00",
          "2020-10-09T12:00:00",
          "2020-10-09T13:00:00",
          "2020-10-09T14:00:00",
          "2020-10-09T15:00:00",
          "2020-10-09T16:00:00",
          "2020-10-09T17:00:00",
          "2020-10-09T18:00:00",
          "2020-10-09T19:00:00",
          "2020-10-09T20:00:00",
          "2020-10-09T21:00:00",
          "2020-10-09T22:00:00",
          "2020-10-09T23:00:00",
          "2020-10-10T00:00:00",
          "2020-10-10T01:00:00",
          "2020-10-10T02:00:00",
          "2020-10-10T03:00:00",
          "2020-10-10T04:00:00",
          "2020-10-10T05:00:00",
          "2020-10-10T07:00:00",
          "2020-10-10T08:00:00",
          "2020-10-10T11:00:00",
          "2020-10-10T12:00:00",
          "2020-10-10T13:00:00",
          "2020-10-10T14:00:00",
          "2020-10-10T15:00:00",
          "2020-10-10T16:00:00",
          "2020-10-10T17:00:00",
          "2020-10-10T18:00:00",
          "2020-10-10T19:00:00",
          "2020-10-10T20:00:00",
          "2020-10-10T21:00:00",
          "2020-10-10T22:00:00",
          "2020-10-10T23:00:00",
          "2020-10-11T00:00:00",
          "2020-10-11T01:00:00",
          "2020-10-11T02:00:00",
          "2020-10-11T03:00:00",
          "2020-10-11T04:00:00",
          "2020-10-11T05:00:00",
          "2020-10-11T07:00:00",
          "2020-10-11T09:00:00",
          "2020-10-11T12:00:00",
          "2020-10-11T13:00:00",
          "2020-10-11T14:00:00",
          "2020-10-11T15:00:00",
          "2020-10-11T16:00:00",
          "2020-10-11T17:00:00",
          "2020-10-11T18:00:00",
          "2020-10-11T19:00:00",
          "2020-10-11T20:00:00",
          "2020-10-11T21:00:00",
          "2020-10-11T22:00:00",
          "2020-10-11T23:00:00",
          "2020-10-12T00:00:00",
          "2020-10-12T01:00:00",
          "2020-10-12T03:00:00",
          "2020-10-12T12:00:00",
          "2020-10-12T13:00:00",
          "2020-10-12T14:00:00",
          "2020-10-12T15:00:00",
          "2020-10-12T16:00:00",
          "2020-10-12T17:00:00",
          "2020-10-12T18:00:00",
          "2020-10-12T19:00:00",
          "2020-10-12T20:00:00",
          "2020-10-12T21:00:00",
          "2020-10-12T22:00:00",
          "2020-10-12T23:00:00",
          "2020-10-13T00:00:00"
         ],
         "y": [
          0.12894798825752374,
          0.13135615553846658,
          0.14612773515844849,
          0.12673577665248859,
          0.13705597054138371,
          0.15241970375776087,
          0.1444115858575314,
          0.14491364434622023,
          0.1385778992943833,
          0.1414789260951483,
          0.13991835389827645,
          0.1453925748122969,
          0.12827746137228366,
          0.14500939534479262,
          0.14317134556881578,
          0.15979853795249352,
          0.15823087286255472,
          0.15594678905496925,
          0.14900876751390948,
          0.16038610693949068,
          0.16016813800466023,
          0.16025516810232807,
          0.14001449332427932,
          0.14520127862570467,
          0.15875763999431808,
          0.14789912418397502,
          0.15832021196703921,
          0.15443513458736485,
          0.14784766148209472,
          0.15568775624626177,
          0.1594265518490282,
          0.16205613026645124,
          0.16882688423278366,
          0.15987769344045435,
          0.15071854696809145,
          0.1435379238392246,
          0.18045999518238698,
          0.160419673670546,
          0.1830992641956703,
          0.189912401744623,
          0.15011407257145665,
          0.16224043816530787,
          0.17019405434239473,
          0.17952564300975016,
          0.18052787873489962,
          0.16361430964093443,
          0.18586543165812347,
          0.17855998819489,
          0.17014083464900742,
          0.17219752060302215,
          0.1770787302506474,
          0.20026149645493532,
          0.19413258258798516,
          0.16649464664195712,
          0.1875307341113578,
          0.1803999791929242,
          0.18747198871976184,
          0.17478353618645975,
          0.1933822499163739,
          0.18429057242364397,
          0.18946761239670382,
          0.2008984650194751,
          0.18745101186452204,
          0.1881109236571456,
          0.18530055664521156,
          0.20174962293185703,
          0.19822488540144717,
          0.18674301760942885,
          0.20839749496639753,
          0.19581328612738808,
          0.19982031349015203,
          0.20320676668598042,
          0.19399720979041682,
          0.20643510834815343,
          0.19424906990055824,
          0.19172979645782506,
          0.2105891564375554,
          0.20473216610834977,
          0.21306415304956336,
          0.1940975623210917,
          0.19139644113238619,
          0.19941681521832497,
          0.20177373202730822,
          0.20224617720098634,
          0.21536577679079827,
          0.21641667833068776,
          0.2065512461779375,
          0.1895898216227318,
          0.2029666985950089,
          0.21488483013514983,
          0.20323380111843875,
          0.20736850169393511,
          0.2060201974685504,
          0.21021082197067445,
          0.20759640379607006,
          0.18912724290871508,
          0.22232425567037772,
          0.20202604790165607,
          0.21255501927048392,
          0.20254510610333648,
          0.2004882155593904,
          0.19305380223168173,
          0.19936367948134107,
          0.2052892323924028,
          0.21587957546357675,
          0.20723211814424558,
          0.2081905163874112,
          0.213468198935097,
          0.21157967876307204,
          0.20959508609881816,
          0.20612893355752893,
          0.22654785957552998,
          0.2118978765792565,
          0.21737262691205136,
          0.22251681351734415,
          0.2218929627602269,
          0.22148278891060147,
          0.1995824887437463,
          0.211214287390672,
          0.2161462383184246,
          0.20012830748240656,
          0.21814731056402636,
          0.21612821376645444,
          0.2207010149907783,
          0.21483059626647608,
          0.2162650629862502,
          0.22624415010698562,
          0.21583080595271464,
          0.2274183622169002,
          0.22676687195396528,
          0.23332720317888106,
          0.22103692640256298,
          0.22956178394657167,
          0.22415491125753062,
          0.22914183485405126,
          0.23734468920420335,
          0.2328120441055162,
          0.21976923508941623,
          0.22396624163197754,
          0.23557198224399628,
          0.22589912736751358,
          0.21763835058213898,
          0.21799884130164435,
          0.23155682766722369,
          0.23635817460407552,
          0.23619278974534583,
          0.22844587022291551,
          0.2549582056576926,
          0.24175755153048928,
          0.21798672504274838,
          0.2400988666778338,
          0.2282168914261078,
          0.2343460036076468,
          0.2402875124991244,
          0.22920333842527585,
          0.23428872152403007,
          0.23209505043307174,
          0.2275369360508616,
          0.258128878515175,
          0.22744702423346538,
          0.2343736028371877,
          0.2473054750751288,
          0.237625177409764,
          0.24137070994889323,
          0.26188573714385893,
          0.24609851348389267,
          0.23672734763016584,
          0.2603557117810598,
          0.24258747728700908,
          0.24241040891892893,
          0.23564693498063122,
          0.2379014201944551,
          0.26557499022811815,
          0.23854640125090826,
          0.24809590003227228,
          0.2567429143181972,
          0.2455075393832069,
          0.247481323925958,
          0.24107965673049672,
          0.23456190405204788,
          0.2405073878902343,
          0.2492722254571345,
          0.250836812962626,
          0.2600976670146877,
          0.2412024197426789,
          0.2560716984186735,
          0.24714750937620608,
          0.24197423152166134,
          0.2536211323024432,
          0.26282581945494526,
          0.2541816180400507,
          0.254487270098127,
          0.27308438510571836,
          0.2601019004381716
         ]
        },
        {
         "fill": "tonexty",
         "fillcolor": "rgba(0, 114, 178, 0.2)",
         "line": {
          "color": "#0072B2",
          "width": 2
         },
         "mode": "lines",
         "name": "Forecast",
         "type": "scatter",
         "x": [
          "2020-10-01T01:00:00",
          "2020-10-01T02:00:00",
          "2020-10-01T03:00:00",
          "2020-10-01T05:00:00",
          "2020-10-01T11:00:00",
          "2020-10-01T13:00:00",
          "2020-10-01T14:00:00",
          "2020-10-01T15:00:00",
          "2020-10-01T16:00:00",
          "2020-10-01T17:00:00",
          "2020-10-01T18:00:00",
          "2020-10-01T19:00:00",
          "2020-10-01T20:00:00",
          "2020-10-01T21:00:00",
          "2020-10-01T22:00:00",
          "2020-10-01T23:00:00",
          "2020-10-02T00:00:00",
          "2020-10-02T02:00:00",
          "2020-10-02T03:00:00",
          "2020-10-02T04:00:00",
          "2020-10-02T05:00:00",
          "2020-10-02T07:00:00",
          "2020-10-02T12:00:00",
          "2020-10-02T14:00:00",
          "2020-10-02T15:00:00",
          "2020-10-02T16:00:00",
          "2020-10-02T17:00:00",
          "2020-10-02T18:00:00",
          "2020-10-02T19:00:00",
          "2020-10-02T20:00:00",
          "2020-10-02T21:00:00",
          "2020-10-02T22:00:00",
          "2020-10-03T00:00:00",
          "2020-10-03T01:00:00",
          "2020-10-03T02:00:00",
          "2020-10-03T13:00:00",
          "2020-10-03T15:00:00",
          "2020-10-03T16:00:00",
          "2020-10-03T18:00:00",
          "2020-10-03T19:00:00",
          "2020-10-03T20:00:00",
          "2020-10-03T21:00:00",
          "2020-10-03T22:00:00",
          "2020-10-04T12:00:00",
          "2020-10-04T13:00:00",
          "2020-10-04T16:00:00",
          "2020-10-04T20:00:00",
          "2020-10-04T22:00:00",
          "2020-10-05T00:00:00",
          "2020-10-05T04:00:00",
          "2020-10-05T09:00:00",
          "2020-10-05T13:00:00",
          "2020-10-05T14:00:00",
          "2020-10-05T15:00:00",
          "2020-10-05T16:00:00",
          "2020-10-05T17:00:00",
          "2020-10-05T18:00:00",
          "2020-10-05T19:00:00",
          "2020-10-05T20:00:00",
          "2020-10-05T22:00:00",
          "2020-10-05T23:00:00",
          "2020-10-06T01:00:00",
          "2020-10-06T02:00:00",
          "2020-10-06T03:00:00",
          "2020-10-06T06:00:00",
          "2020-10-06T13:00:00",
          "2020-10-06T14:00:00",
          "2020-10-06T16:00:00",
          "2020-10-06T17:00:00",
          "2020-10-06T18:00:00",
          "2020-10-06T19:00:00",
          "2020-10-06T20:00:00",
          "2020-10-06T21:00:00",
          "2020-10-06T22:00:00",
          "2020-10-06T23:00:00",
          "2020-10-07T00:00:00",
          "2020-10-07T01:00:00",
          "2020-10-07T02:00:00",
          "2020-10-07T03:00:00",
          "2020-10-07T10:00:00",
          "2020-10-07T12:00:00",
          "2020-10-07T14:00:00",
          "2020-10-07T15:00:00",
          "2020-10-07T16:00:00",
          "2020-10-07T17:00:00",
          "2020-10-07T18:00:00",
          "2020-10-07T19:00:00",
          "2020-10-07T20:00:00",
          "2020-10-07T21:00:00",
          "2020-10-07T22:00:00",
          "2020-10-07T23:00:00",
          "2020-10-08T00:00:00",
          "2020-10-08T01:00:00",
          "2020-10-08T02:00:00",
          "2020-10-08T03:00:00",
          "2020-10-08T04:00:00",
          "2020-10-08T05:00:00",
          "2020-10-08T06:00:00",
          "2020-10-08T07:00:00",
          "2020-10-08T08:00:00",
          "2020-10-08T09:00:00",
          "2020-10-08T10:00:00",
          "2020-10-08T11:00:00",
          "2020-10-08T12:00:00",
          "2020-10-08T13:00:00",
          "2020-10-08T14:00:00",
          "2020-10-08T15:00:00",
          "2020-10-08T16:00:00",
          "2020-10-08T17:00:00",
          "2020-10-08T18:00:00",
          "2020-10-08T19:00:00",
          "2020-10-08T20:00:00",
          "2020-10-08T21:00:00",
          "2020-10-08T22:00:00",
          "2020-10-08T23:00:00",
          "2020-10-09T00:00:00",
          "2020-10-09T01:00:00",
          "2020-10-09T02:00:00",
          "2020-10-09T03:00:00",
          "2020-10-09T04:00:00",
          "2020-10-09T05:00:00",
          "2020-10-09T06:00:00",
          "2020-10-09T09:00:00",
          "2020-10-09T10:00:00",
          "2020-10-09T11:00:00",
          "2020-10-09T12:00:00",
          "2020-10-09T13:00:00",
          "2020-10-09T14:00:00",
          "2020-10-09T15:00:00",
          "2020-10-09T16:00:00",
          "2020-10-09T17:00:00",
          "2020-10-09T18:00:00",
          "2020-10-09T19:00:00",
          "2020-10-09T20:00:00",
          "2020-10-09T21:00:00",
          "2020-10-09T22:00:00",
          "2020-10-09T23:00:00",
          "2020-10-10T00:00:00",
          "2020-10-10T01:00:00",
          "2020-10-10T02:00:00",
          "2020-10-10T03:00:00",
          "2020-10-10T04:00:00",
          "2020-10-10T05:00:00",
          "2020-10-10T07:00:00",
          "2020-10-10T08:00:00",
          "2020-10-10T11:00:00",
          "2020-10-10T12:00:00",
          "2020-10-10T13:00:00",
          "2020-10-10T14:00:00",
          "2020-10-10T15:00:00",
          "2020-10-10T16:00:00",
          "2020-10-10T17:00:00",
          "2020-10-10T18:00:00",
          "2020-10-10T19:00:00",
          "2020-10-10T20:00:00",
          "2020-10-10T21:00:00",
          "2020-10-10T22:00:00",
          "2020-10-10T23:00:00",
          "2020-10-11T00:00:00",
          "2020-10-11T01:00:00",
          "2020-10-11T02:00:00",
          "2020-10-11T03:00:00",
          "2020-10-11T04:00:00",
          "2020-10-11T05:00:00",
          "2020-10-11T07:00:00",
          "2020-10-11T09:00:00",
          "2020-10-11T12:00:00",
          "2020-10-11T13:00:00",
          "2020-10-11T14:00:00",
          "2020-10-11T15:00:00",
          "2020-10-11T16:00:00",
          "2020-10-11T17:00:00",
          "2020-10-11T18:00:00",
          "2020-10-11T19:00:00",
          "2020-10-11T20:00:00",
          "2020-10-11T21:00:00",
          "2020-10-11T22:00:00",
          "2020-10-11T23:00:00",
          "2020-10-12T00:00:00",
          "2020-10-12T01:00:00",
          "2020-10-12T03:00:00",
          "2020-10-12T12:00:00",
          "2020-10-12T13:00:00",
          "2020-10-12T14:00:00",
          "2020-10-12T15:00:00",
          "2020-10-12T16:00:00",
          "2020-10-12T17:00:00",
          "2020-10-12T18:00:00",
          "2020-10-12T19:00:00",
          "2020-10-12T20:00:00",
          "2020-10-12T21:00:00",
          "2020-10-12T22:00:00",
          "2020-10-12T23:00:00",
          "2020-10-13T00:00:00"
         ],
         "y": [
          -0.0018483820986667824,
          -0.0014415421012544795,
          -0.0010347021038421768,
          -0.00022102210901757112,
          0.002220017875456245,
          0.0030336978702808514,
          0.0034405378676931543,
          0.003847378037519714,
          0.004254218207346274,
          0.004661058377172833,
          0.005067898546999393,
          0.005474738716825953,
          0.005881578886652511,
          0.0062884198236941805,
          0.006695260760735851,
          0.00710210169777752,
          0.00750894263481919,
          0.008322624508902528,
          0.008729465445944199,
          0.009136306383641095,
          0.00954314732133799,
          0.010356829196731782,
          0.01239103388521626,
          0.013204715760610055,
          0.01361155669830695,
          0.014018397636003845,
          0.01442523860171622,
          0.014832079567428597,
          0.015238920533140974,
          0.01564576149885335,
          0.016052602464565725,
          0.016459443430278102,
          0.017273125381868905,
          0.01767996635766431,
          0.01808680733345971,
          0.022562058067209127,
          0.02337574001879993,
          0.023782580994595327,
          0.024596262906035074,
          0.025003103861754947,
          0.025409944817474817,
          0.02581678577319469,
          0.02622362672891456,
          0.031919400108992774,
          0.03232624103832196,
          0.03354676382630954,
          0.03517412754362631,
          0.035987809402284694,
          0.03680149126094308,
          0.03842885497825985,
          0.040463059650594164,
          0.04209042338846161,
          0.04249726432292847,
          0.04290410525739533,
          0.043310946191862196,
          0.043717787126329066,
          0.044124628099529786,
          0.044531469072730534,
          0.04493831004593127,
          0.045751991992332736,
          0.04615883296553347,
          0.046972514911934944,
          0.04737935588513568,
          0.04778619683247127,
          0.04900671967447803,
          0.05185460630582717,
          0.05226144725316276,
          0.05307512914783394,
          0.053481970095169515,
          0.05388881104082975,
          0.05429565198648998,
          0.054702492932150217,
          0.055109333877810446,
          0.05551617482347068,
          0.055923015769130904,
          0.05632985674470773,
          0.056736697720284536,
          0.05714353869586134,
          0.05755037967143815,
          0.060398266500475806,
          0.06121194845162943,
          0.062025630326775966,
          0.062432471264349254,
          0.06283931220192251,
          0.06324615313949578,
          0.06365299407706906,
          0.06405983501464232,
          0.06446667593418258,
          0.06487351685372283,
          0.0652803577732631,
          0.06568719869280336,
          0.06609403961234361,
          0.06650088053188385,
          0.06690772145063498,
          0.06731456236938607,
          0.06772140328813717,
          0.06812824420688826,
          0.06853508512563937,
          0.06894192604439046,
          0.06934876696314156,
          0.0697556079032967,
          0.07016244884345185,
          0.07056928978360699,
          0.07097613072376213,
          0.07138297166391727,
          0.07178981260407243,
          0.07219665353031499,
          0.07260349445655755,
          0.0730103353828001,
          0.07341717630904268,
          0.07382401723528524,
          0.0742308581615278,
          0.07463769910106899,
          0.0750445400406102,
          0.07545138098015139,
          0.07585822191969259,
          0.0762650628592338,
          0.07667190379877499,
          0.07707874472909869,
          0.07748558565942239,
          0.0778924265897461,
          0.07829926752006981,
          0.07951979031104092,
          0.07992663124136462,
          0.0803334721682919,
          0.08074031309521916,
          0.08114715402214644,
          0.0815539949490737,
          0.08196083587600098,
          0.08236767680292824,
          0.08277451775345863,
          0.08318135870398902,
          0.08358819965451937,
          0.08399504060504975,
          0.08440188155558015,
          0.08480872250611052,
          0.0852155634566409,
          0.0856223707092848,
          0.08602917796192872,
          0.08643598521457263,
          0.08684279246721652,
          0.08724959971986042,
          0.08765640697250435,
          0.08846913542604595,
          0.08887549965281674,
          0.09009459233312914,
          0.09050095655989995,
          0.09090732078667076,
          0.09131368501344157,
          0.09172004909480552,
          0.0921264131761695,
          0.09253277725753346,
          0.09293914133889741,
          0.09334550542026138,
          0.09375186950162535,
          0.09415823349815346,
          0.09456459749468157,
          0.0949709614912097,
          0.09537732548773782,
          0.09578368948426594,
          0.09619005348079407,
          0.09659641747732217,
          0.0970027814738503,
          0.0974091454703784,
          0.09822187346343465,
          0.0990346014564909,
          0.10025369344607526,
          0.10066005744260338,
          0.10106642143913148,
          0.1014727854356596,
          0.10187914943218773,
          0.10228551342871585,
          0.10269187742524397,
          0.1030982414217721,
          0.10350460541830021,
          0.10391096941482833,
          0.10431733341135643,
          0.10472369740788458,
          0.1051300614044127,
          0.1055364254009408,
          0.10634915339399705,
          0.11000642936275012,
          0.11041279335927824,
          0.11081915735580636,
          0.11122552135233449,
          0.1116318853488626,
          0.11203824934539072,
          0.11244461334191883,
          0.11285097733844697,
          0.11325734133497507,
          0.11366370533150319,
          0.11407006932803132,
          0.11447643332455944,
          0.11488279732108755
         ]
        },
        {
         "fill": "tonexty",
         "fillcolor": "rgba(0, 114, 178, 0.2)",
         "hoverinfo": "skip",
         "line": {
          "width": 0
         },
         "mode": "lines",
         "showlegend": false,
         "type": "scatter",
         "x": [
          "2020-10-01T01:00:00",
          "2020-10-01T02:00:00",
          "2020-10-01T03:00:00",
          "2020-10-01T05:00:00",
          "2020-10-01T11:00:00",
          "2020-10-01T13:00:00",
          "2020-10-01T14:00:00",
          "2020-10-01T15:00:00",
          "2020-10-01T16:00:00",
          "2020-10-01T17:00:00",
          "2020-10-01T18:00:00",
          "2020-10-01T19:00:00",
          "2020-10-01T20:00:00",
          "2020-10-01T21:00:00",
          "2020-10-01T22:00:00",
          "2020-10-01T23:00:00",
          "2020-10-02T00:00:00",
          "2020-10-02T02:00:00",
          "2020-10-02T03:00:00",
          "2020-10-02T04:00:00",
          "2020-10-02T05:00:00",
          "2020-10-02T07:00:00",
          "2020-10-02T12:00:00",
          "2020-10-02T14:00:00",
          "2020-10-02T15:00:00",
          "2020-10-02T16:00:00",
          "2020-10-02T17:00:00",
          "2020-10-02T18:00:00",
          "2020-10-02T19:00:00",
          "2020-10-02T20:00:00",
          "2020-10-02T21:00:00",
          "2020-10-02T22:00:00",
          "2020-10-03T00:00:00",
          "2020-10-03T01:00:00",
          "2020-10-03T02:00:00",
          "2020-10-03T13:00:00",
          "2020-10-03T15:00:00",
          "2020-10-03T16:00:00",
          "2020-10-03T18:00:00",
          "2020-10-03T19:00:00",
          "2020-10-03T20:00:00",
          "2020-10-03T21:00:00",
          "2020-10-03T22:00:00",
          "2020-10-04T12:00:00",
          "2020-10-04T13:00:00",
          "2020-10-04T16:00:00",
          "2020-10-04T20:00:00",
          "2020-10-04T22:00:00",
          "2020-10-05T00:00:00",
          "2020-10-05T04:00:00",
          "2020-10-05T09:00:00",
          "2020-10-05T13:00:00",
          "2020-10-05T14:00:00",
          "2020-10-05T15:00:00",
          "2020-10-05T16:00:00",
          "2020-10-05T17:00:00",
          "2020-10-05T18:00:00",
          "2020-10-05T19:00:00",
          "2020-10-05T20:00:00",
          "2020-10-05T22:00:00",
          "2020-10-05T23:00:00",
          "2020-10-06T01:00:00",
          "2020-10-06T02:00:00",
          "2020-10-06T03:00:00",
          "2020-10-06T06:00:00",
          "2020-10-06T13:00:00",
          "2020-10-06T14:00:00",
          "2020-10-06T16:00:00",
          "2020-10-06T17:00:00",
          "2020-10-06T18:00:00",
          "2020-10-06T19:00:00",
          "2020-10-06T20:00:00",
          "2020-10-06T21:00:00",
          "2020-10-06T22:00:00",
          "2020-10-06T23:00:00",
          "2020-10-07T00:00:00",
          "2020-10-07T01:00:00",
          "2020-10-07T02:00:00",
          "2020-10-07T03:00:00",
          "2020-10-07T10:00:00",
          "2020-10-07T12:00:00",
          "2020-10-07T14:00:00",
          "2020-10-07T15:00:00",
          "2020-10-07T16:00:00",
          "2020-10-07T17:00:00",
          "2020-10-07T18:00:00",
          "2020-10-07T19:00:00",
          "2020-10-07T20:00:00",
          "2020-10-07T21:00:00",
          "2020-10-07T22:00:00",
          "2020-10-07T23:00:00",
          "2020-10-08T00:00:00",
          "2020-10-08T01:00:00",
          "2020-10-08T02:00:00",
          "2020-10-08T03:00:00",
          "2020-10-08T04:00:00",
          "2020-10-08T05:00:00",
          "2020-10-08T06:00:00",
          "2020-10-08T07:00:00",
          "2020-10-08T08:00:00",
          "2020-10-08T09:00:00",
          "2020-10-08T10:00:00",
          "2020-10-08T11:00:00",
          "2020-10-08T12:00:00",
          "2020-10-08T13:00:00",
          "2020-10-08T14:00:00",
          "2020-10-08T15:00:00",
          "2020-10-08T16:00:00",
          "2020-10-08T17:00:00",
          "2020-10-08T18:00:00",
          "2020-10-08T19:00:00",
          "2020-10-08T20:00:00",
          "2020-10-08T21:00:00",
          "2020-10-08T22:00:00",
          "2020-10-08T23:00:00",
          "2020-10-09T00:00:00",
          "2020-10-09T01:00:00",
          "2020-10-09T02:00:00",
          "2020-10-09T03:00:00",
          "2020-10-09T04:00:00",
          "2020-10-09T05:00:00",
          "2020-10-09T06:00:00",
          "2020-10-09T09:00:00",
          "2020-10-09T10:00:00",
          "2020-10-09T11:00:00",
          "2020-10-09T12:00:00",
          "2020-10-09T13:00:00",
          "2020-10-09T14:00:00",
          "2020-10-09T15:00:00",
          "2020-10-09T16:00:00",
          "2020-10-09T17:00:00",
          "2020-10-09T18:00:00",
          "2020-10-09T19:00:00",
          "2020-10-09T20:00:00",
          "2020-10-09T21:00:00",
          "2020-10-09T22:00:00",
          "2020-10-09T23:00:00",
          "2020-10-10T00:00:00",
          "2020-10-10T01:00:00",
          "2020-10-10T02:00:00",
          "2020-10-10T03:00:00",
          "2020-10-10T04:00:00",
          "2020-10-10T05:00:00",
          "2020-10-10T07:00:00",
          "2020-10-10T08:00:00",
          "2020-10-10T11:00:00",
          "2020-10-10T12:00:00",
          "2020-10-10T13:00:00",
          "2020-10-10T14:00:00",
          "2020-10-10T15:00:00",
          "2020-10-10T16:00:00",
          "2020-10-10T17:00:00",
          "2020-10-10T18:00:00",
          "2020-10-10T19:00:00",
          "2020-10-10T20:00:00",
          "2020-10-10T21:00:00",
          "2020-10-10T22:00:00",
          "2020-10-10T23:00:00",
          "2020-10-11T00:00:00",
          "2020-10-11T01:00:00",
          "2020-10-11T02:00:00",
          "2020-10-11T03:00:00",
          "2020-10-11T04:00:00",
          "2020-10-11T05:00:00",
          "2020-10-11T07:00:00",
          "2020-10-11T09:00:00",
          "2020-10-11T12:00:00",
          "2020-10-11T13:00:00",
          "2020-10-11T14:00:00",
          "2020-10-11T15:00:00",
          "2020-10-11T16:00:00",
          "2020-10-11T17:00:00",
          "2020-10-11T18:00:00",
          "2020-10-11T19:00:00",
          "2020-10-11T20:00:00",
          "2020-10-11T21:00:00",
          "2020-10-11T22:00:00",
          "2020-10-11T23:00:00",
          "2020-10-12T00:00:00",
          "2020-10-12T01:00:00",
          "2020-10-12T03:00:00",
          "2020-10-12T12:00:00",
          "2020-10-12T13:00:00",
          "2020-10-12T14:00:00",
          "2020-10-12T15:00:00",
          "2020-10-12T16:00:00",
          "2020-10-12T17:00:00",
          "2020-10-12T18:00:00",
          "2020-10-12T19:00:00",
          "2020-10-12T20:00:00",
          "2020-10-12T21:00:00",
          "2020-10-12T22:00:00",
          "2020-10-12T23:00:00",
          "2020-10-13T00:00:00"
         ],
         "y": [
          -0.14510096554613072,
          -0.14179037481380755,
          -0.1370792449787141,
          -0.1326954778374784,
          -0.13417282501234273,
          -0.15103786308282854,
          -0.1483284650895912,
          -0.13600817497752057,
          -0.13418298754214847,
          -0.14089139447411234,
          -0.12699856311177365,
          -0.13625759759253997,
          -0.13918228720637912,
          -0.1352862024265957,
          -0.1328437735821648,
          -0.1396412840585129,
          -0.1341338502756563,
          -0.1291168342212363,
          -0.1283502914831615,
          -0.1285843159292414,
          -0.13673932348555262,
          -0.10752694887816477,
          -0.13606278369389185,
          -0.11840192914902692,
          -0.10449709935942893,
          -0.13160212040306105,
          -0.11433100109517864,
          -0.13044414959849682,
          -0.1136607929677166,
          -0.12909305115622963,
          -0.11992939580235354,
          -0.13589491269674525,
          -0.11785629314886506,
          -0.11641865121938746,
          -0.1403702428598755,
          -0.1274106197629969,
          -0.11074506408844197,
          -0.10878345932062108,
          -0.12036582279666692,
          -0.10698683565297365,
          -0.10396161975367772,
          -0.1298121871072918,
          -0.12440066238466566,
          -0.10070098220987692,
          -0.09257211373171943,
          -0.11347005550548427,
          -0.1100972337160209,
          -0.1100364375430013,
          -0.09804728137585271,
          -0.10937239655891981,
          -0.10979427300428019,
          -0.08320177249112362,
          -0.08618943063681339,
          -0.09403832040856383,
          -0.09908438949880284,
          -0.0782828407779751,
          -0.09103390463650117,
          -0.11886478525569505,
          -0.0878897848558268,
          -0.08840511296238737,
          -0.0925395513363364,
          -0.07827380522702815,
          -0.09098449089869368,
          -0.09323412747287077,
          -0.084177077500865,
          -0.10067455465609826,
          -0.09191442487588972,
          -0.08972477064051196,
          -0.09497812000844176,
          -0.09174627256854619,
          -0.07976224929971584,
          -0.096106355265379,
          -0.08810118567930861,
          -0.09135744360011236,
          -0.09224634126123392,
          -0.10040185818016803,
          -0.08148841180471059,
          -0.09151351493496088,
          -0.06852028600915305,
          -0.08644204588816407,
          -0.09450152763771401,
          -0.06703938617412555,
          -0.06818788332042919,
          -0.058391969557964024,
          -0.07731067783193024,
          -0.07743463414021992,
          -0.0635763611919247,
          -0.08687126204742975,
          -0.07999383090722417,
          -0.057898985896858365,
          -0.071778105151703,
          -0.08608719672092163,
          -0.08493437331797785,
          -0.07215497619419259,
          -0.07971751693446691,
          -0.08463851532486588,
          -0.05486958721927268,
          -0.07045532077524148,
          -0.09634801248468795,
          -0.06874040594241955,
          -0.055479646213361114,
          -0.08091235890086865,
          -0.06614211759029825,
          -0.08278171810395468,
          -0.07509951448246088,
          -0.07366475877453053,
          -0.06925870016307223,
          -0.06905068080442005,
          -0.06499730396446479,
          -0.06184570626354552,
          -0.07397042013108214,
          -0.053866737359975714,
          -0.0522533102451509,
          -0.06356254658250807,
          -0.06861103648420502,
          -0.05632475010000608,
          -0.05803385341903504,
          -0.07924467402824407,
          -0.06588784680444974,
          -0.05835251130714335,
          -0.07371451663424428,
          -0.07550111222432924,
          -0.05360778046688591,
          -0.06173994330194707,
          -0.06644880577274892,
          -0.06280828822948185,
          -0.050316019349277194,
          -0.06608936996743317,
          -0.060677417783309345,
          -0.04520058160299838,
          -0.058594733695471315,
          -0.0697045295547166,
          -0.055229789158699846,
          -0.07242400856820502,
          -0.06140404046636491,
          -0.04503673378810022,
          -0.05266511496642949,
          -0.05807172231439084,
          -0.04588584645769517,
          -0.048689038519966366,
          -0.05189482837901924,
          -0.05878195393659087,
          -0.06059501943615517,
          -0.05775373520315774,
          -0.0579162750900479,
          -0.040971764131704974,
          -0.049701455778285414,
          -0.0696129392710481,
          -0.04740672810248649,
          -0.06437503942011003,
          -0.046077788261233196,
          -0.033293614726820284,
          -0.04965729588865228,
          -0.03523170917244278,
          -0.05162916530689725,
          -0.042076207538417384,
          -0.04523112040414565,
          -0.05323817083883753,
          -0.020603801292063975,
          -0.04937732545574933,
          -0.04570990581658174,
          -0.03396053605602348,
          -0.042461818932112816,
          -0.05224421885529262,
          -0.04015438107177098,
          -0.044913153742575096,
          -0.03387335484494183,
          -0.03186515366629232,
          -0.030292480181436363,
          -0.024234088180311614,
          -0.042283659741899404,
          -0.04079062595261031,
          -0.04144786136108908,
          -0.04952601307842486,
          -0.03495423027721052,
          -0.028737237792902826,
          -0.027175059527300344,
          -0.03670704435183915,
          -0.059685576976530125,
          -0.03703014477702435,
          -0.028065288808325164,
          -0.020560861391952123,
          -0.0358832533089065,
          -0.029024096924165216,
          -0.0357826441853078,
          -0.028135774150941414,
          -0.04498115078847209,
          -0.042677487407791176,
          -0.03803728936905003,
          -0.017900190713193362,
          -0.01571205014084251,
          -0.017037799668605524,
          -0.01962615522305415,
          -0.035468666589055675
         ]
        },
        {
         "line": {
          "color": "black",
          "width": 2
         },
         "mode": "lines",
         "name": "top1_hashtag_count",
         "type": "scatter",
         "x": [
          "2020-10-01T01:00:00",
          "2020-10-01T02:00:00",
          "2020-10-01T03:00:00",
          "2020-10-01T05:00:00",
          "2020-10-01T11:00:00",
          "2020-10-01T13:00:00",
          "2020-10-01T14:00:00",
          "2020-10-01T15:00:00",
          "2020-10-01T16:00:00",
          "2020-10-01T17:00:00",
          "2020-10-01T18:00:00",
          "2020-10-01T19:00:00",
          "2020-10-01T20:00:00",
          "2020-10-01T21:00:00",
          "2020-10-01T22:00:00",
          "2020-10-01T23:00:00",
          "2020-10-02T00:00:00",
          "2020-10-02T02:00:00",
          "2020-10-02T03:00:00",
          "2020-10-02T04:00:00",
          "2020-10-02T05:00:00",
          "2020-10-02T07:00:00",
          "2020-10-02T12:00:00",
          "2020-10-02T14:00:00",
          "2020-10-02T15:00:00",
          "2020-10-02T16:00:00",
          "2020-10-02T17:00:00",
          "2020-10-02T18:00:00",
          "2020-10-02T19:00:00",
          "2020-10-02T20:00:00",
          "2020-10-02T21:00:00",
          "2020-10-02T22:00:00",
          "2020-10-03T00:00:00",
          "2020-10-03T01:00:00",
          "2020-10-03T02:00:00",
          "2020-10-03T13:00:00",
          "2020-10-03T15:00:00",
          "2020-10-03T16:00:00",
          "2020-10-03T18:00:00",
          "2020-10-03T19:00:00",
          "2020-10-03T20:00:00",
          "2020-10-03T21:00:00",
          "2020-10-03T22:00:00",
          "2020-10-04T12:00:00",
          "2020-10-04T13:00:00",
          "2020-10-04T16:00:00",
          "2020-10-04T20:00:00",
          "2020-10-04T22:00:00",
          "2020-10-05T00:00:00",
          "2020-10-05T04:00:00",
          "2020-10-05T09:00:00",
          "2020-10-05T13:00:00",
          "2020-10-05T14:00:00",
          "2020-10-05T15:00:00",
          "2020-10-05T16:00:00",
          "2020-10-05T17:00:00",
          "2020-10-05T18:00:00",
          "2020-10-05T19:00:00",
          "2020-10-05T20:00:00",
          "2020-10-05T22:00:00",
          "2020-10-05T23:00:00",
          "2020-10-06T01:00:00",
          "2020-10-06T02:00:00",
          "2020-10-06T03:00:00",
          "2020-10-06T06:00:00",
          "2020-10-06T13:00:00",
          "2020-10-06T14:00:00",
          "2020-10-06T16:00:00",
          "2020-10-06T17:00:00",
          "2020-10-06T18:00:00",
          "2020-10-06T19:00:00",
          "2020-10-06T20:00:00",
          "2020-10-06T21:00:00",
          "2020-10-06T22:00:00",
          "2020-10-06T23:00:00",
          "2020-10-07T00:00:00",
          "2020-10-07T01:00:00",
          "2020-10-07T02:00:00",
          "2020-10-07T03:00:00",
          "2020-10-07T10:00:00",
          "2020-10-07T12:00:00",
          "2020-10-07T14:00:00",
          "2020-10-07T15:00:00",
          "2020-10-07T16:00:00",
          "2020-10-07T17:00:00",
          "2020-10-07T18:00:00",
          "2020-10-07T19:00:00",
          "2020-10-07T20:00:00",
          "2020-10-07T21:00:00",
          "2020-10-07T22:00:00",
          "2020-10-07T23:00:00",
          "2020-10-08T00:00:00",
          "2020-10-08T01:00:00",
          "2020-10-08T02:00:00",
          "2020-10-08T03:00:00",
          "2020-10-08T04:00:00",
          "2020-10-08T05:00:00",
          "2020-10-08T06:00:00",
          "2020-10-08T07:00:00",
          "2020-10-08T08:00:00",
          "2020-10-08T09:00:00",
          "2020-10-08T10:00:00",
          "2020-10-08T11:00:00",
          "2020-10-08T12:00:00",
          "2020-10-08T13:00:00",
          "2020-10-08T14:00:00",
          "2020-10-08T15:00:00",
          "2020-10-08T16:00:00",
          "2020-10-08T17:00:00",
          "2020-10-08T18:00:00",
          "2020-10-08T19:00:00",
          "2020-10-08T20:00:00",
          "2020-10-08T21:00:00",
          "2020-10-08T22:00:00",
          "2020-10-08T23:00:00",
          "2020-10-09T00:00:00",
          "2020-10-09T01:00:00",
          "2020-10-09T02:00:00",
          "2020-10-09T03:00:00",
          "2020-10-09T04:00:00",
          "2020-10-09T05:00:00",
          "2020-10-09T06:00:00",
          "2020-10-09T09:00:00",
          "2020-10-09T10:00:00",
          "2020-10-09T11:00:00",
          "2020-10-09T12:00:00",
          "2020-10-09T13:00:00",
          "2020-10-09T14:00:00",
          "2020-10-09T15:00:00",
          "2020-10-09T16:00:00",
          "2020-10-09T17:00:00",
          "2020-10-09T18:00:00",
          "2020-10-09T19:00:00",
          "2020-10-09T20:00:00",
          "2020-10-09T21:00:00",
          "2020-10-09T22:00:00",
          "2020-10-09T23:00:00",
          "2020-10-10T00:00:00",
          "2020-10-10T01:00:00",
          "2020-10-10T02:00:00",
          "2020-10-10T03:00:00",
          "2020-10-10T04:00:00",
          "2020-10-10T05:00:00",
          "2020-10-10T07:00:00",
          "2020-10-10T08:00:00",
          "2020-10-10T11:00:00",
          "2020-10-10T12:00:00",
          "2020-10-10T13:00:00",
          "2020-10-10T14:00:00",
          "2020-10-10T15:00:00",
          "2020-10-10T16:00:00",
          "2020-10-10T17:00:00",
          "2020-10-10T18:00:00",
          "2020-10-10T19:00:00",
          "2020-10-10T20:00:00",
          "2020-10-10T21:00:00",
          "2020-10-10T22:00:00",
          "2020-10-10T23:00:00",
          "2020-10-11T00:00:00",
          "2020-10-11T01:00:00",
          "2020-10-11T02:00:00",
          "2020-10-11T03:00:00",
          "2020-10-11T04:00:00",
          "2020-10-11T05:00:00",
          "2020-10-11T07:00:00",
          "2020-10-11T09:00:00",
          "2020-10-11T12:00:00",
          "2020-10-11T13:00:00",
          "2020-10-11T14:00:00",
          "2020-10-11T15:00:00",
          "2020-10-11T16:00:00",
          "2020-10-11T17:00:00",
          "2020-10-11T18:00:00",
          "2020-10-11T19:00:00",
          "2020-10-11T20:00:00",
          "2020-10-11T21:00:00",
          "2020-10-11T22:00:00",
          "2020-10-11T23:00:00",
          "2020-10-12T00:00:00",
          "2020-10-12T01:00:00",
          "2020-10-12T03:00:00",
          "2020-10-12T12:00:00",
          "2020-10-12T13:00:00",
          "2020-10-12T14:00:00",
          "2020-10-12T15:00:00",
          "2020-10-12T16:00:00",
          "2020-10-12T17:00:00",
          "2020-10-12T18:00:00",
          "2020-10-12T19:00:00",
          "2020-10-12T20:00:00",
          "2020-10-12T21:00:00",
          "2020-10-12T22:00:00",
          "2020-10-12T23:00:00",
          "2020-10-13T00:00:00"
         ],
         "y": [
          0,
          0,
          0,
          0,
          0,
          0,
          0,
          0,
          0,
          0,
          0,
          0,
          0,
          0,
          0,
          0,
          0,
          0,
          0,
          0,
          0,
          0,
          0,
          0,
          0,
          0,
          0,
          0,
          0,
          0,
          0,
          0,
          0,
          0,
          0,
          0,
          0,
          0,
          0,
          0,
          0,
          0,
          0,
          0,
          0,
          0,
          0,
          0,
          0,
          0,
          0,
          0,
          0,
          0,
          0,
          0,
          0,
          0,
          0,
          0,
          0,
          0,
          0,
          0,
          0,
          0,
          0,
          0,
          0,
          0,
          0,
          0,
          0,
          0,
          0,
          0,
          0,
          0,
          0,
          0,
          0,
          0,
          0,
          0,
          0,
          0,
          0,
          0,
          0.3333333333333333,
          0.3333333333333333,
          0.3333333333333333,
          0.3333333333333333,
          0.3333333333333333,
          0.3333333333333333,
          0,
          0,
          0,
          0,
          0,
          0,
          0,
          0,
          0,
          0.3333333333333333,
          0.3333333333333333,
          0.3333333333333333,
          0,
          0,
          0,
          0,
          0,
          0.3333333333333333,
          0.3333333333333333,
          0.3333333333333333,
          0,
          0,
          0,
          0,
          0,
          0,
          0,
          0,
          0,
          0,
          0,
          0,
          0,
          0,
          0,
          0,
          0,
          0,
          0,
          0,
          0.6666666666666666,
          0.6666666666666666,
          0.6666666666666666,
          0,
          0,
          0,
          0,
          0,
          0,
          0,
          0,
          0,
          0,
          1.3333333333333333,
          1.3333333333333333,
          1.3333333333333333,
          0,
          0,
          0,
          0.3333333333333333,
          0.6666666666666666,
          0.6666666666666666,
          0.3333333333333333,
          0,
          0,
          0,
          0,
          0,
          0,
          0,
          0,
          0,
          0,
          0,
          0,
          0,
          0,
          0,
          0,
          0,
          0,
          0,
          0,
          0,
          0,
          0,
          0,
          0,
          0,
          0,
          0,
          0,
          0,
          0,
          0,
          0,
          0,
          0,
          0,
          0
         ]
        },
        {
         "line": {
          "color": "red",
          "width": 2
         },
         "mode": "lines",
         "name": "Anomaly Score",
         "type": "scatter",
         "x": [
          "2020-10-01T01:00:00",
          "2020-10-01T02:00:00",
          "2020-10-01T03:00:00",
          "2020-10-01T05:00:00",
          "2020-10-01T11:00:00",
          "2020-10-01T13:00:00",
          "2020-10-01T14:00:00",
          "2020-10-01T15:00:00",
          "2020-10-01T16:00:00",
          "2020-10-01T17:00:00",
          "2020-10-01T18:00:00",
          "2020-10-01T19:00:00",
          "2020-10-01T20:00:00",
          "2020-10-01T21:00:00",
          "2020-10-01T22:00:00",
          "2020-10-01T23:00:00",
          "2020-10-02T00:00:00",
          "2020-10-02T02:00:00",
          "2020-10-02T03:00:00",
          "2020-10-02T04:00:00",
          "2020-10-02T05:00:00",
          "2020-10-02T07:00:00",
          "2020-10-02T12:00:00",
          "2020-10-02T14:00:00",
          "2020-10-02T15:00:00",
          "2020-10-02T16:00:00",
          "2020-10-02T17:00:00",
          "2020-10-02T18:00:00",
          "2020-10-02T19:00:00",
          "2020-10-02T20:00:00",
          "2020-10-02T21:00:00",
          "2020-10-02T22:00:00",
          "2020-10-03T00:00:00",
          "2020-10-03T01:00:00",
          "2020-10-03T02:00:00",
          "2020-10-03T13:00:00",
          "2020-10-03T15:00:00",
          "2020-10-03T16:00:00",
          "2020-10-03T18:00:00",
          "2020-10-03T19:00:00",
          "2020-10-03T20:00:00",
          "2020-10-03T21:00:00",
          "2020-10-03T22:00:00",
          "2020-10-04T12:00:00",
          "2020-10-04T13:00:00",
          "2020-10-04T16:00:00",
          "2020-10-04T20:00:00",
          "2020-10-04T22:00:00",
          "2020-10-05T00:00:00",
          "2020-10-05T04:00:00",
          "2020-10-05T09:00:00",
          "2020-10-05T13:00:00",
          "2020-10-05T14:00:00",
          "2020-10-05T15:00:00",
          "2020-10-05T16:00:00",
          "2020-10-05T17:00:00",
          "2020-10-05T18:00:00",
          "2020-10-05T19:00:00",
          "2020-10-05T20:00:00",
          "2020-10-05T22:00:00",
          "2020-10-05T23:00:00",
          "2020-10-06T01:00:00",
          "2020-10-06T02:00:00",
          "2020-10-06T03:00:00",
          "2020-10-06T06:00:00",
          "2020-10-06T13:00:00",
          "2020-10-06T14:00:00",
          "2020-10-06T16:00:00",
          "2020-10-06T17:00:00",
          "2020-10-06T18:00:00",
          "2020-10-06T19:00:00",
          "2020-10-06T20:00:00",
          "2020-10-06T21:00:00",
          "2020-10-06T22:00:00",
          "2020-10-06T23:00:00",
          "2020-10-07T00:00:00",
          "2020-10-07T01:00:00",
          "2020-10-07T02:00:00",
          "2020-10-07T03:00:00",
          "2020-10-07T10:00:00",
          "2020-10-07T12:00:00",
          "2020-10-07T14:00:00",
          "2020-10-07T15:00:00",
          "2020-10-07T16:00:00",
          "2020-10-07T17:00:00",
          "2020-10-07T18:00:00",
          "2020-10-07T19:00:00",
          "2020-10-07T20:00:00",
          "2020-10-07T21:00:00",
          "2020-10-07T22:00:00",
          "2020-10-07T23:00:00",
          "2020-10-08T00:00:00",
          "2020-10-08T01:00:00",
          "2020-10-08T02:00:00",
          "2020-10-08T03:00:00",
          "2020-10-08T04:00:00",
          "2020-10-08T05:00:00",
          "2020-10-08T06:00:00",
          "2020-10-08T07:00:00",
          "2020-10-08T08:00:00",
          "2020-10-08T09:00:00",
          "2020-10-08T10:00:00",
          "2020-10-08T11:00:00",
          "2020-10-08T12:00:00",
          "2020-10-08T13:00:00",
          "2020-10-08T14:00:00",
          "2020-10-08T15:00:00",
          "2020-10-08T16:00:00",
          "2020-10-08T17:00:00",
          "2020-10-08T18:00:00",
          "2020-10-08T19:00:00",
          "2020-10-08T20:00:00",
          "2020-10-08T21:00:00",
          "2020-10-08T22:00:00",
          "2020-10-08T23:00:00",
          "2020-10-09T00:00:00",
          "2020-10-09T01:00:00",
          "2020-10-09T02:00:00",
          "2020-10-09T03:00:00",
          "2020-10-09T04:00:00",
          "2020-10-09T05:00:00",
          "2020-10-09T06:00:00",
          "2020-10-09T09:00:00",
          "2020-10-09T10:00:00",
          "2020-10-09T11:00:00",
          "2020-10-09T12:00:00",
          "2020-10-09T13:00:00",
          "2020-10-09T14:00:00",
          "2020-10-09T15:00:00",
          "2020-10-09T16:00:00",
          "2020-10-09T17:00:00",
          "2020-10-09T18:00:00",
          "2020-10-09T19:00:00",
          "2020-10-09T20:00:00",
          "2020-10-09T21:00:00",
          "2020-10-09T22:00:00",
          "2020-10-09T23:00:00",
          "2020-10-10T00:00:00",
          "2020-10-10T01:00:00",
          "2020-10-10T02:00:00",
          "2020-10-10T03:00:00",
          "2020-10-10T04:00:00",
          "2020-10-10T05:00:00",
          "2020-10-10T07:00:00",
          "2020-10-10T08:00:00",
          "2020-10-10T11:00:00",
          "2020-10-10T12:00:00",
          "2020-10-10T13:00:00",
          "2020-10-10T14:00:00",
          "2020-10-10T15:00:00",
          "2020-10-10T16:00:00",
          "2020-10-10T17:00:00",
          "2020-10-10T18:00:00",
          "2020-10-10T19:00:00",
          "2020-10-10T20:00:00",
          "2020-10-10T21:00:00",
          "2020-10-10T22:00:00",
          "2020-10-10T23:00:00",
          "2020-10-11T00:00:00",
          "2020-10-11T01:00:00",
          "2020-10-11T02:00:00",
          "2020-10-11T03:00:00",
          "2020-10-11T04:00:00",
          "2020-10-11T05:00:00",
          "2020-10-11T07:00:00",
          "2020-10-11T09:00:00",
          "2020-10-11T12:00:00",
          "2020-10-11T13:00:00",
          "2020-10-11T14:00:00",
          "2020-10-11T15:00:00",
          "2020-10-11T16:00:00",
          "2020-10-11T17:00:00",
          "2020-10-11T18:00:00",
          "2020-10-11T19:00:00",
          "2020-10-11T20:00:00",
          "2020-10-11T21:00:00",
          "2020-10-11T22:00:00",
          "2020-10-11T23:00:00",
          "2020-10-12T00:00:00",
          "2020-10-12T01:00:00",
          "2020-10-12T03:00:00",
          "2020-10-12T12:00:00",
          "2020-10-12T13:00:00",
          "2020-10-12T14:00:00",
          "2020-10-12T15:00:00",
          "2020-10-12T16:00:00",
          "2020-10-12T17:00:00",
          "2020-10-12T18:00:00",
          "2020-10-12T19:00:00",
          "2020-10-12T20:00:00",
          "2020-10-12T21:00:00",
          "2020-10-12T22:00:00",
          "2020-10-12T23:00:00",
          "2020-10-13T00:00:00"
         ],
         "xaxis": "x",
         "y": [
          0,
          0,
          0,
          0,
          0,
          0,
          0,
          0,
          0,
          0,
          0,
          0,
          0,
          0,
          0,
          0,
          0,
          0,
          0,
          0,
          0,
          0,
          0,
          0,
          0,
          0,
          0,
          0,
          0,
          0,
          0,
          0,
          0,
          0,
          0,
          0,
          0,
          0,
          0,
          0,
          0,
          0,
          0,
          0,
          0,
          0,
          0,
          0,
          0,
          0,
          0,
          0,
          0,
          0,
          0,
          0,
          0,
          0,
          0,
          0,
          0,
          0,
          0,
          0,
          0,
          0,
          0,
          -0.5053124433752058,
          0,
          0,
          0,
          0,
          0,
          0,
          -0.5096774134762547,
          -0.5187808888032025,
          0,
          -0.51222111640159,
          -0.5112106911726264,
          -0.546087195945089,
          -0.5802575067676743,
          -0.6053125529429699,
          -0.5881111446528199,
          -0.5672498511446932,
          -0.5610382441113665,
          -0.5800179366395022,
          -0.577730719940797,
          -0.5703505676529085,
          1.987812173643139,
          1.9794832750648288,
          1.9933765624408242,
          1.973467138530535,
          1.9911063379058955,
          1.9783690540888073,
          -0.6265925897112656,
          -0.6664198139076747,
          -0.6441404855050448,
          -0.6587408494595317,
          -0.6167492729903893,
          -0.6796715225404755,
          -0.6947671701480963,
          -0.6522069200100462,
          -0.6952754167496384,
          1.9640149643057456,
          1.960531430020368,
          1.9829614899839345,
          -0.6959655850331339,
          -0.6907576890120899,
          -0.7479273490105989,
          -0.7642947845514845,
          -0.7114252077055887,
          1.98604605364579,
          1.9758382577342282,
          1.9812608283208344,
          -0.7158393661011723,
          -0.7573589478656386,
          -0.7329875833241011,
          -0.7562180545712827,
          -0.7624365397706354,
          -0.7694642516098396,
          -0.7848904712291891,
          -0.7785285199995071,
          -0.8177597305423586,
          -0.8322161126263641,
          -0.8184357041847842,
          -0.7833045097145879,
          -0.7673191923608127,
          -0.8235965745705474,
          -0.802239160268433,
          -0.8471357439980169,
          -0.8619841848121207,
          -0.8296988041057366,
          -0.8981678774121996,
          -0.8286340520930794,
          2.590079110848268,
          2.696645107718244,
          2.6715631510548667,
          -0.9233990910040037,
          -0.9048037220912738,
          -0.9817919764767064,
          -0.9713517869649139,
          -0.930576273708125,
          -0.8955909634481631,
          -0.9335481884290182,
          -0.9164129078766621,
          -1.0043975426343486,
          -1.0091737894416604,
          3.722580916302943,
          3.810101103976916,
          3.904963112309088,
          -1.0013054952014013,
          -1.163561303541174,
          -1.0697301165871245,
          1.9426146938721975,
          2.647632130640202,
          2.6610429925722294,
          1.9398330165937179,
          -1.0601505949294443,
          -1.0683282594799177,
          -1.1319853180743806,
          -1.160117828603595,
          -1.0329123591771803,
          -1.1773917874660451,
          -1.0446466313866378,
          -1.1075661694885741,
          -1.167169181933612,
          -1.2223780943051588,
          -1.1922249224362333,
          -1.2040213605091503,
          -1.2385839736596551,
          -1.3136498618535464,
          -1.1639750574033934,
          -1.2913154819394634,
          -1.3031033879250304,
          -1.311064715447554,
          -1.341886622506746,
          -1.3650898460203076,
          -1.2828321172852133,
          -1.2809857022378834,
          -1.3512766644314662,
          -1.319581821947805,
          -1.463102373109447,
          -1.4389082019516515,
          -1.4157407484029318,
          -1.5253331950814637,
          -1.5136681897825839,
          -1.4628588536336575,
          -1.5053934883265179,
          -1.45301355243267,
          -1.4810200857285143,
          -1.5260869067542921,
          -1.5380719648612873,
          -1.4579124660966156,
          -1.4942412999678196
         ],
         "yaxis": "y2"
        }
       ],
       "layout": {
        "height": 600,
        "shapes": [
         {
          "fillcolor": "#e07070",
          "line": {
           "width": 0
          },
          "opacity": 0.4,
          "type": "rect",
          "x0": "2020-10-06T16:00:00",
          "x1": "2020-10-06T17:00:00",
          "xref": "x",
          "y0": 0,
          "y1": 1,
          "yref": "y domain"
         },
         {
          "fillcolor": "#e07070",
          "line": {
           "width": 0
          },
          "opacity": 0.4,
          "type": "rect",
          "x0": "2020-10-06T23:00:00",
          "x1": "2020-10-07T00:00:00",
          "xref": "x",
          "y0": 0,
          "y1": 1,
          "yref": "y domain"
         },
         {
          "fillcolor": "#e07070",
          "line": {
           "width": 0
          },
          "opacity": 0.4,
          "type": "rect",
          "x0": "2020-10-07T00:00:00",
          "x1": "2020-10-07T01:00:00",
          "xref": "x",
          "y0": 0,
          "y1": 1,
          "yref": "y domain"
         },
         {
          "fillcolor": "#e07070",
          "line": {
           "width": 0
          },
          "opacity": 0.4,
          "type": "rect",
          "x0": "2020-10-07T02:00:00",
          "x1": "2020-10-07T03:00:00",
          "xref": "x",
          "y0": 0,
          "y1": 1,
          "yref": "y domain"
         },
         {
          "fillcolor": "#e07070",
          "line": {
           "width": 0
          },
          "opacity": 0.4,
          "type": "rect",
          "x0": "2020-10-07T03:00:00",
          "x1": "2020-10-07T10:00:00",
          "xref": "x",
          "y0": 0,
          "y1": 1,
          "yref": "y domain"
         },
         {
          "fillcolor": "#e07070",
          "line": {
           "width": 0
          },
          "opacity": 0.4,
          "type": "rect",
          "x0": "2020-10-07T10:00:00",
          "x1": "2020-10-07T12:00:00",
          "xref": "x",
          "y0": 0,
          "y1": 1,
          "yref": "y domain"
         },
         {
          "fillcolor": "#e07070",
          "line": {
           "width": 0
          },
          "opacity": 0.4,
          "type": "rect",
          "x0": "2020-10-07T12:00:00",
          "x1": "2020-10-07T14:00:00",
          "xref": "x",
          "y0": 0,
          "y1": 1,
          "yref": "y domain"
         },
         {
          "fillcolor": "#e07070",
          "line": {
           "width": 0
          },
          "opacity": 0.4,
          "type": "rect",
          "x0": "2020-10-07T14:00:00",
          "x1": "2020-10-07T15:00:00",
          "xref": "x",
          "y0": 0,
          "y1": 1,
          "yref": "y domain"
         },
         {
          "fillcolor": "#e07070",
          "line": {
           "width": 0
          },
          "opacity": 0.4,
          "type": "rect",
          "x0": "2020-10-07T15:00:00",
          "x1": "2020-10-07T16:00:00",
          "xref": "x",
          "y0": 0,
          "y1": 1,
          "yref": "y domain"
         },
         {
          "fillcolor": "#e07070",
          "line": {
           "width": 0
          },
          "opacity": 0.4,
          "type": "rect",
          "x0": "2020-10-07T16:00:00",
          "x1": "2020-10-07T17:00:00",
          "xref": "x",
          "y0": 0,
          "y1": 1,
          "yref": "y domain"
         },
         {
          "fillcolor": "#e07070",
          "line": {
           "width": 0
          },
          "opacity": 0.4,
          "type": "rect",
          "x0": "2020-10-07T17:00:00",
          "x1": "2020-10-07T18:00:00",
          "xref": "x",
          "y0": 0,
          "y1": 1,
          "yref": "y domain"
         },
         {
          "fillcolor": "#e07070",
          "line": {
           "width": 0
          },
          "opacity": 0.4,
          "type": "rect",
          "x0": "2020-10-07T18:00:00",
          "x1": "2020-10-07T19:00:00",
          "xref": "x",
          "y0": 0,
          "y1": 1,
          "yref": "y domain"
         },
         {
          "fillcolor": "#e07070",
          "line": {
           "width": 0
          },
          "opacity": 0.4,
          "type": "rect",
          "x0": "2020-10-07T19:00:00",
          "x1": "2020-10-07T20:00:00",
          "xref": "x",
          "y0": 0,
          "y1": 1,
          "yref": "y domain"
         },
         {
          "fillcolor": "#e07070",
          "line": {
           "width": 0
          },
          "opacity": 0.4,
          "type": "rect",
          "x0": "2020-10-07T20:00:00",
          "x1": "2020-10-07T21:00:00",
          "xref": "x",
          "y0": 0,
          "y1": 1,
          "yref": "y domain"
         },
         {
          "fillcolor": "#e07070",
          "line": {
           "width": 0
          },
          "opacity": 0.4,
          "type": "rect",
          "x0": "2020-10-07T21:00:00",
          "x1": "2020-10-07T22:00:00",
          "xref": "x",
          "y0": 0,
          "y1": 1,
          "yref": "y domain"
         },
         {
          "fillcolor": "#e07070",
          "line": {
           "width": 0
          },
          "opacity": 0.4,
          "type": "rect",
          "x0": "2020-10-07T22:00:00",
          "x1": "2020-10-07T23:00:00",
          "xref": "x",
          "y0": 0,
          "y1": 1,
          "yref": "y domain"
         },
         {
          "fillcolor": "#e07070",
          "line": {
           "width": 0
          },
          "opacity": 0.4,
          "type": "rect",
          "x0": "2020-10-07T23:00:00",
          "x1": "2020-10-08T00:00:00",
          "xref": "x",
          "y0": 0,
          "y1": 1,
          "yref": "y domain"
         },
         {
          "fillcolor": "#e07070",
          "line": {
           "width": 0
          },
          "opacity": 0.4,
          "type": "rect",
          "x0": "2020-10-08T00:00:00",
          "x1": "2020-10-08T01:00:00",
          "xref": "x",
          "y0": 0,
          "y1": 1,
          "yref": "y domain"
         },
         {
          "fillcolor": "#e07070",
          "line": {
           "width": 0
          },
          "opacity": 0.4,
          "type": "rect",
          "x0": "2020-10-08T01:00:00",
          "x1": "2020-10-08T02:00:00",
          "xref": "x",
          "y0": 0,
          "y1": 1,
          "yref": "y domain"
         },
         {
          "fillcolor": "#e07070",
          "line": {
           "width": 0
          },
          "opacity": 0.4,
          "type": "rect",
          "x0": "2020-10-08T02:00:00",
          "x1": "2020-10-08T03:00:00",
          "xref": "x",
          "y0": 0,
          "y1": 1,
          "yref": "y domain"
         },
         {
          "fillcolor": "#e07070",
          "line": {
           "width": 0
          },
          "opacity": 0.4,
          "type": "rect",
          "x0": "2020-10-08T03:00:00",
          "x1": "2020-10-08T04:00:00",
          "xref": "x",
          "y0": 0,
          "y1": 1,
          "yref": "y domain"
         },
         {
          "fillcolor": "#e07070",
          "line": {
           "width": 0
          },
          "opacity": 0.4,
          "type": "rect",
          "x0": "2020-10-08T04:00:00",
          "x1": "2020-10-08T05:00:00",
          "xref": "x",
          "y0": 0,
          "y1": 1,
          "yref": "y domain"
         },
         {
          "fillcolor": "#e07070",
          "line": {
           "width": 0
          },
          "opacity": 0.4,
          "type": "rect",
          "x0": "2020-10-08T05:00:00",
          "x1": "2020-10-08T06:00:00",
          "xref": "x",
          "y0": 0,
          "y1": 1,
          "yref": "y domain"
         },
         {
          "fillcolor": "#e07070",
          "line": {
           "width": 0
          },
          "opacity": 0.4,
          "type": "rect",
          "x0": "2020-10-08T06:00:00",
          "x1": "2020-10-08T07:00:00",
          "xref": "x",
          "y0": 0,
          "y1": 1,
          "yref": "y domain"
         },
         {
          "fillcolor": "#e07070",
          "line": {
           "width": 0
          },
          "opacity": 0.4,
          "type": "rect",
          "x0": "2020-10-08T07:00:00",
          "x1": "2020-10-08T08:00:00",
          "xref": "x",
          "y0": 0,
          "y1": 1,
          "yref": "y domain"
         },
         {
          "fillcolor": "#e07070",
          "line": {
           "width": 0
          },
          "opacity": 0.4,
          "type": "rect",
          "x0": "2020-10-08T08:00:00",
          "x1": "2020-10-08T09:00:00",
          "xref": "x",
          "y0": 0,
          "y1": 1,
          "yref": "y domain"
         },
         {
          "fillcolor": "#e07070",
          "line": {
           "width": 0
          },
          "opacity": 0.4,
          "type": "rect",
          "x0": "2020-10-08T09:00:00",
          "x1": "2020-10-08T10:00:00",
          "xref": "x",
          "y0": 0,
          "y1": 1,
          "yref": "y domain"
         },
         {
          "fillcolor": "#e07070",
          "line": {
           "width": 0
          },
          "opacity": 0.4,
          "type": "rect",
          "x0": "2020-10-08T10:00:00",
          "x1": "2020-10-08T11:00:00",
          "xref": "x",
          "y0": 0,
          "y1": 1,
          "yref": "y domain"
         },
         {
          "fillcolor": "#e07070",
          "line": {
           "width": 0
          },
          "opacity": 0.4,
          "type": "rect",
          "x0": "2020-10-08T11:00:00",
          "x1": "2020-10-08T12:00:00",
          "xref": "x",
          "y0": 0,
          "y1": 1,
          "yref": "y domain"
         },
         {
          "fillcolor": "#e07070",
          "line": {
           "width": 0
          },
          "opacity": 0.4,
          "type": "rect",
          "x0": "2020-10-08T12:00:00",
          "x1": "2020-10-08T13:00:00",
          "xref": "x",
          "y0": 0,
          "y1": 1,
          "yref": "y domain"
         },
         {
          "fillcolor": "#e07070",
          "line": {
           "width": 0
          },
          "opacity": 0.4,
          "type": "rect",
          "x0": "2020-10-08T13:00:00",
          "x1": "2020-10-08T14:00:00",
          "xref": "x",
          "y0": 0,
          "y1": 1,
          "yref": "y domain"
         },
         {
          "fillcolor": "#e07070",
          "line": {
           "width": 0
          },
          "opacity": 0.4,
          "type": "rect",
          "x0": "2020-10-08T14:00:00",
          "x1": "2020-10-08T15:00:00",
          "xref": "x",
          "y0": 0,
          "y1": 1,
          "yref": "y domain"
         },
         {
          "fillcolor": "#e07070",
          "line": {
           "width": 0
          },
          "opacity": 0.4,
          "type": "rect",
          "x0": "2020-10-08T15:00:00",
          "x1": "2020-10-08T16:00:00",
          "xref": "x",
          "y0": 0,
          "y1": 1,
          "yref": "y domain"
         },
         {
          "fillcolor": "#e07070",
          "line": {
           "width": 0
          },
          "opacity": 0.4,
          "type": "rect",
          "x0": "2020-10-08T16:00:00",
          "x1": "2020-10-08T17:00:00",
          "xref": "x",
          "y0": 0,
          "y1": 1,
          "yref": "y domain"
         },
         {
          "fillcolor": "#e07070",
          "line": {
           "width": 0
          },
          "opacity": 0.4,
          "type": "rect",
          "x0": "2020-10-08T17:00:00",
          "x1": "2020-10-08T18:00:00",
          "xref": "x",
          "y0": 0,
          "y1": 1,
          "yref": "y domain"
         },
         {
          "fillcolor": "#e07070",
          "line": {
           "width": 0
          },
          "opacity": 0.4,
          "type": "rect",
          "x0": "2020-10-08T18:00:00",
          "x1": "2020-10-08T19:00:00",
          "xref": "x",
          "y0": 0,
          "y1": 1,
          "yref": "y domain"
         },
         {
          "fillcolor": "#e07070",
          "line": {
           "width": 0
          },
          "opacity": 0.4,
          "type": "rect",
          "x0": "2020-10-08T19:00:00",
          "x1": "2020-10-08T20:00:00",
          "xref": "x",
          "y0": 0,
          "y1": 1,
          "yref": "y domain"
         },
         {
          "fillcolor": "#e07070",
          "line": {
           "width": 0
          },
          "opacity": 0.4,
          "type": "rect",
          "x0": "2020-10-08T20:00:00",
          "x1": "2020-10-08T21:00:00",
          "xref": "x",
          "y0": 0,
          "y1": 1,
          "yref": "y domain"
         },
         {
          "fillcolor": "#e07070",
          "line": {
           "width": 0
          },
          "opacity": 0.4,
          "type": "rect",
          "x0": "2020-10-08T21:00:00",
          "x1": "2020-10-08T22:00:00",
          "xref": "x",
          "y0": 0,
          "y1": 1,
          "yref": "y domain"
         },
         {
          "fillcolor": "#e07070",
          "line": {
           "width": 0
          },
          "opacity": 0.4,
          "type": "rect",
          "x0": "2020-10-08T22:00:00",
          "x1": "2020-10-08T23:00:00",
          "xref": "x",
          "y0": 0,
          "y1": 1,
          "yref": "y domain"
         },
         {
          "fillcolor": "#e07070",
          "line": {
           "width": 0
          },
          "opacity": 0.4,
          "type": "rect",
          "x0": "2020-10-08T23:00:00",
          "x1": "2020-10-09T00:00:00",
          "xref": "x",
          "y0": 0,
          "y1": 1,
          "yref": "y domain"
         },
         {
          "fillcolor": "#e07070",
          "line": {
           "width": 0
          },
          "opacity": 0.4,
          "type": "rect",
          "x0": "2020-10-09T00:00:00",
          "x1": "2020-10-09T01:00:00",
          "xref": "x",
          "y0": 0,
          "y1": 1,
          "yref": "y domain"
         },
         {
          "fillcolor": "#e07070",
          "line": {
           "width": 0
          },
          "opacity": 0.4,
          "type": "rect",
          "x0": "2020-10-09T01:00:00",
          "x1": "2020-10-09T02:00:00",
          "xref": "x",
          "y0": 0,
          "y1": 1,
          "yref": "y domain"
         },
         {
          "fillcolor": "#e07070",
          "line": {
           "width": 0
          },
          "opacity": 0.4,
          "type": "rect",
          "x0": "2020-10-09T02:00:00",
          "x1": "2020-10-09T03:00:00",
          "xref": "x",
          "y0": 0,
          "y1": 1,
          "yref": "y domain"
         },
         {
          "fillcolor": "#e07070",
          "line": {
           "width": 0
          },
          "opacity": 0.4,
          "type": "rect",
          "x0": "2020-10-09T03:00:00",
          "x1": "2020-10-09T04:00:00",
          "xref": "x",
          "y0": 0,
          "y1": 1,
          "yref": "y domain"
         },
         {
          "fillcolor": "#e07070",
          "line": {
           "width": 0
          },
          "opacity": 0.4,
          "type": "rect",
          "x0": "2020-10-09T04:00:00",
          "x1": "2020-10-09T05:00:00",
          "xref": "x",
          "y0": 0,
          "y1": 1,
          "yref": "y domain"
         },
         {
          "fillcolor": "#e07070",
          "line": {
           "width": 0
          },
          "opacity": 0.4,
          "type": "rect",
          "x0": "2020-10-09T05:00:00",
          "x1": "2020-10-09T06:00:00",
          "xref": "x",
          "y0": 0,
          "y1": 1,
          "yref": "y domain"
         },
         {
          "fillcolor": "#e07070",
          "line": {
           "width": 0
          },
          "opacity": 0.4,
          "type": "rect",
          "x0": "2020-10-09T06:00:00",
          "x1": "2020-10-09T09:00:00",
          "xref": "x",
          "y0": 0,
          "y1": 1,
          "yref": "y domain"
         },
         {
          "fillcolor": "#e07070",
          "line": {
           "width": 0
          },
          "opacity": 0.4,
          "type": "rect",
          "x0": "2020-10-09T09:00:00",
          "x1": "2020-10-09T10:00:00",
          "xref": "x",
          "y0": 0,
          "y1": 1,
          "yref": "y domain"
         },
         {
          "fillcolor": "#e07070",
          "line": {
           "width": 0
          },
          "opacity": 0.4,
          "type": "rect",
          "x0": "2020-10-09T10:00:00",
          "x1": "2020-10-09T11:00:00",
          "xref": "x",
          "y0": 0,
          "y1": 1,
          "yref": "y domain"
         },
         {
          "fillcolor": "#e07070",
          "line": {
           "width": 0
          },
          "opacity": 0.4,
          "type": "rect",
          "x0": "2020-10-09T11:00:00",
          "x1": "2020-10-09T12:00:00",
          "xref": "x",
          "y0": 0,
          "y1": 1,
          "yref": "y domain"
         },
         {
          "fillcolor": "#e07070",
          "line": {
           "width": 0
          },
          "opacity": 0.4,
          "type": "rect",
          "x0": "2020-10-09T12:00:00",
          "x1": "2020-10-09T13:00:00",
          "xref": "x",
          "y0": 0,
          "y1": 1,
          "yref": "y domain"
         },
         {
          "fillcolor": "#e07070",
          "line": {
           "width": 0
          },
          "opacity": 0.4,
          "type": "rect",
          "x0": "2020-10-09T13:00:00",
          "x1": "2020-10-09T14:00:00",
          "xref": "x",
          "y0": 0,
          "y1": 1,
          "yref": "y domain"
         },
         {
          "fillcolor": "#e07070",
          "line": {
           "width": 0
          },
          "opacity": 0.4,
          "type": "rect",
          "x0": "2020-10-09T14:00:00",
          "x1": "2020-10-09T15:00:00",
          "xref": "x",
          "y0": 0,
          "y1": 1,
          "yref": "y domain"
         },
         {
          "fillcolor": "#e07070",
          "line": {
           "width": 0
          },
          "opacity": 0.4,
          "type": "rect",
          "x0": "2020-10-09T15:00:00",
          "x1": "2020-10-09T16:00:00",
          "xref": "x",
          "y0": 0,
          "y1": 1,
          "yref": "y domain"
         },
         {
          "fillcolor": "#e07070",
          "line": {
           "width": 0
          },
          "opacity": 0.4,
          "type": "rect",
          "x0": "2020-10-09T16:00:00",
          "x1": "2020-10-09T17:00:00",
          "xref": "x",
          "y0": 0,
          "y1": 1,
          "yref": "y domain"
         },
         {
          "fillcolor": "#e07070",
          "line": {
           "width": 0
          },
          "opacity": 0.4,
          "type": "rect",
          "x0": "2020-10-09T17:00:00",
          "x1": "2020-10-09T18:00:00",
          "xref": "x",
          "y0": 0,
          "y1": 1,
          "yref": "y domain"
         },
         {
          "fillcolor": "#e07070",
          "line": {
           "width": 0
          },
          "opacity": 0.4,
          "type": "rect",
          "x0": "2020-10-09T18:00:00",
          "x1": "2020-10-09T19:00:00",
          "xref": "x",
          "y0": 0,
          "y1": 1,
          "yref": "y domain"
         },
         {
          "fillcolor": "#e07070",
          "line": {
           "width": 0
          },
          "opacity": 0.4,
          "type": "rect",
          "x0": "2020-10-09T19:00:00",
          "x1": "2020-10-09T20:00:00",
          "xref": "x",
          "y0": 0,
          "y1": 1,
          "yref": "y domain"
         },
         {
          "fillcolor": "#e07070",
          "line": {
           "width": 0
          },
          "opacity": 0.4,
          "type": "rect",
          "x0": "2020-10-09T20:00:00",
          "x1": "2020-10-09T21:00:00",
          "xref": "x",
          "y0": 0,
          "y1": 1,
          "yref": "y domain"
         },
         {
          "fillcolor": "#e07070",
          "line": {
           "width": 0
          },
          "opacity": 0.4,
          "type": "rect",
          "x0": "2020-10-09T21:00:00",
          "x1": "2020-10-09T22:00:00",
          "xref": "x",
          "y0": 0,
          "y1": 1,
          "yref": "y domain"
         },
         {
          "fillcolor": "#e07070",
          "line": {
           "width": 0
          },
          "opacity": 0.4,
          "type": "rect",
          "x0": "2020-10-09T22:00:00",
          "x1": "2020-10-09T23:00:00",
          "xref": "x",
          "y0": 0,
          "y1": 1,
          "yref": "y domain"
         },
         {
          "fillcolor": "#e07070",
          "line": {
           "width": 0
          },
          "opacity": 0.4,
          "type": "rect",
          "x0": "2020-10-09T23:00:00",
          "x1": "2020-10-10T00:00:00",
          "xref": "x",
          "y0": 0,
          "y1": 1,
          "yref": "y domain"
         },
         {
          "fillcolor": "#e07070",
          "line": {
           "width": 0
          },
          "opacity": 0.4,
          "type": "rect",
          "x0": "2020-10-10T00:00:00",
          "x1": "2020-10-10T01:00:00",
          "xref": "x",
          "y0": 0,
          "y1": 1,
          "yref": "y domain"
         },
         {
          "fillcolor": "#e07070",
          "line": {
           "width": 0
          },
          "opacity": 0.4,
          "type": "rect",
          "x0": "2020-10-10T01:00:00",
          "x1": "2020-10-10T02:00:00",
          "xref": "x",
          "y0": 0,
          "y1": 1,
          "yref": "y domain"
         },
         {
          "fillcolor": "#e07070",
          "line": {
           "width": 0
          },
          "opacity": 0.4,
          "type": "rect",
          "x0": "2020-10-10T02:00:00",
          "x1": "2020-10-10T03:00:00",
          "xref": "x",
          "y0": 0,
          "y1": 1,
          "yref": "y domain"
         },
         {
          "fillcolor": "#e07070",
          "line": {
           "width": 0
          },
          "opacity": 0.4,
          "type": "rect",
          "x0": "2020-10-10T03:00:00",
          "x1": "2020-10-10T04:00:00",
          "xref": "x",
          "y0": 0,
          "y1": 1,
          "yref": "y domain"
         },
         {
          "fillcolor": "#e07070",
          "line": {
           "width": 0
          },
          "opacity": 0.4,
          "type": "rect",
          "x0": "2020-10-10T04:00:00",
          "x1": "2020-10-10T05:00:00",
          "xref": "x",
          "y0": 0,
          "y1": 1,
          "yref": "y domain"
         },
         {
          "fillcolor": "#e07070",
          "line": {
           "width": 0
          },
          "opacity": 0.4,
          "type": "rect",
          "x0": "2020-10-10T05:00:00",
          "x1": "2020-10-10T07:00:00",
          "xref": "x",
          "y0": 0,
          "y1": 1,
          "yref": "y domain"
         },
         {
          "fillcolor": "#e07070",
          "line": {
           "width": 0
          },
          "opacity": 0.4,
          "type": "rect",
          "x0": "2020-10-10T07:00:00",
          "x1": "2020-10-10T08:00:00",
          "xref": "x",
          "y0": 0,
          "y1": 1,
          "yref": "y domain"
         },
         {
          "fillcolor": "#e07070",
          "line": {
           "width": 0
          },
          "opacity": 0.4,
          "type": "rect",
          "x0": "2020-10-10T08:00:00",
          "x1": "2020-10-10T11:00:00",
          "xref": "x",
          "y0": 0,
          "y1": 1,
          "yref": "y domain"
         },
         {
          "fillcolor": "#e07070",
          "line": {
           "width": 0
          },
          "opacity": 0.4,
          "type": "rect",
          "x0": "2020-10-10T11:00:00",
          "x1": "2020-10-10T12:00:00",
          "xref": "x",
          "y0": 0,
          "y1": 1,
          "yref": "y domain"
         },
         {
          "fillcolor": "#e07070",
          "line": {
           "width": 0
          },
          "opacity": 0.4,
          "type": "rect",
          "x0": "2020-10-10T12:00:00",
          "x1": "2020-10-10T13:00:00",
          "xref": "x",
          "y0": 0,
          "y1": 1,
          "yref": "y domain"
         },
         {
          "fillcolor": "#e07070",
          "line": {
           "width": 0
          },
          "opacity": 0.4,
          "type": "rect",
          "x0": "2020-10-10T13:00:00",
          "x1": "2020-10-10T14:00:00",
          "xref": "x",
          "y0": 0,
          "y1": 1,
          "yref": "y domain"
         },
         {
          "fillcolor": "#e07070",
          "line": {
           "width": 0
          },
          "opacity": 0.4,
          "type": "rect",
          "x0": "2020-10-10T14:00:00",
          "x1": "2020-10-10T15:00:00",
          "xref": "x",
          "y0": 0,
          "y1": 1,
          "yref": "y domain"
         },
         {
          "fillcolor": "#e07070",
          "line": {
           "width": 0
          },
          "opacity": 0.4,
          "type": "rect",
          "x0": "2020-10-10T15:00:00",
          "x1": "2020-10-10T16:00:00",
          "xref": "x",
          "y0": 0,
          "y1": 1,
          "yref": "y domain"
         },
         {
          "fillcolor": "#e07070",
          "line": {
           "width": 0
          },
          "opacity": 0.4,
          "type": "rect",
          "x0": "2020-10-10T16:00:00",
          "x1": "2020-10-10T17:00:00",
          "xref": "x",
          "y0": 0,
          "y1": 1,
          "yref": "y domain"
         },
         {
          "fillcolor": "#e07070",
          "line": {
           "width": 0
          },
          "opacity": 0.4,
          "type": "rect",
          "x0": "2020-10-10T17:00:00",
          "x1": "2020-10-10T18:00:00",
          "xref": "x",
          "y0": 0,
          "y1": 1,
          "yref": "y domain"
         },
         {
          "fillcolor": "#e07070",
          "line": {
           "width": 0
          },
          "opacity": 0.4,
          "type": "rect",
          "x0": "2020-10-10T18:00:00",
          "x1": "2020-10-10T19:00:00",
          "xref": "x",
          "y0": 0,
          "y1": 1,
          "yref": "y domain"
         },
         {
          "fillcolor": "#e07070",
          "line": {
           "width": 0
          },
          "opacity": 0.4,
          "type": "rect",
          "x0": "2020-10-10T19:00:00",
          "x1": "2020-10-10T20:00:00",
          "xref": "x",
          "y0": 0,
          "y1": 1,
          "yref": "y domain"
         },
         {
          "fillcolor": "#e07070",
          "line": {
           "width": 0
          },
          "opacity": 0.4,
          "type": "rect",
          "x0": "2020-10-10T20:00:00",
          "x1": "2020-10-10T21:00:00",
          "xref": "x",
          "y0": 0,
          "y1": 1,
          "yref": "y domain"
         },
         {
          "fillcolor": "#e07070",
          "line": {
           "width": 0
          },
          "opacity": 0.4,
          "type": "rect",
          "x0": "2020-10-10T21:00:00",
          "x1": "2020-10-10T22:00:00",
          "xref": "x",
          "y0": 0,
          "y1": 1,
          "yref": "y domain"
         },
         {
          "fillcolor": "#e07070",
          "line": {
           "width": 0
          },
          "opacity": 0.4,
          "type": "rect",
          "x0": "2020-10-10T22:00:00",
          "x1": "2020-10-10T23:00:00",
          "xref": "x",
          "y0": 0,
          "y1": 1,
          "yref": "y domain"
         },
         {
          "fillcolor": "#e07070",
          "line": {
           "width": 0
          },
          "opacity": 0.4,
          "type": "rect",
          "x0": "2020-10-10T23:00:00",
          "x1": "2020-10-11T00:00:00",
          "xref": "x",
          "y0": 0,
          "y1": 1,
          "yref": "y domain"
         },
         {
          "fillcolor": "#e07070",
          "line": {
           "width": 0
          },
          "opacity": 0.4,
          "type": "rect",
          "x0": "2020-10-11T00:00:00",
          "x1": "2020-10-11T01:00:00",
          "xref": "x",
          "y0": 0,
          "y1": 1,
          "yref": "y domain"
         },
         {
          "fillcolor": "#e07070",
          "line": {
           "width": 0
          },
          "opacity": 0.4,
          "type": "rect",
          "x0": "2020-10-11T01:00:00",
          "x1": "2020-10-11T02:00:00",
          "xref": "x",
          "y0": 0,
          "y1": 1,
          "yref": "y domain"
         },
         {
          "fillcolor": "#e07070",
          "line": {
           "width": 0
          },
          "opacity": 0.4,
          "type": "rect",
          "x0": "2020-10-11T02:00:00",
          "x1": "2020-10-11T03:00:00",
          "xref": "x",
          "y0": 0,
          "y1": 1,
          "yref": "y domain"
         },
         {
          "fillcolor": "#e07070",
          "line": {
           "width": 0
          },
          "opacity": 0.4,
          "type": "rect",
          "x0": "2020-10-11T03:00:00",
          "x1": "2020-10-11T04:00:00",
          "xref": "x",
          "y0": 0,
          "y1": 1,
          "yref": "y domain"
         },
         {
          "fillcolor": "#e07070",
          "line": {
           "width": 0
          },
          "opacity": 0.4,
          "type": "rect",
          "x0": "2020-10-11T04:00:00",
          "x1": "2020-10-11T05:00:00",
          "xref": "x",
          "y0": 0,
          "y1": 1,
          "yref": "y domain"
         },
         {
          "fillcolor": "#e07070",
          "line": {
           "width": 0
          },
          "opacity": 0.4,
          "type": "rect",
          "x0": "2020-10-11T05:00:00",
          "x1": "2020-10-11T07:00:00",
          "xref": "x",
          "y0": 0,
          "y1": 1,
          "yref": "y domain"
         },
         {
          "fillcolor": "#e07070",
          "line": {
           "width": 0
          },
          "opacity": 0.4,
          "type": "rect",
          "x0": "2020-10-11T07:00:00",
          "x1": "2020-10-11T09:00:00",
          "xref": "x",
          "y0": 0,
          "y1": 1,
          "yref": "y domain"
         },
         {
          "fillcolor": "#e07070",
          "line": {
           "width": 0
          },
          "opacity": 0.4,
          "type": "rect",
          "x0": "2020-10-11T09:00:00",
          "x1": "2020-10-11T12:00:00",
          "xref": "x",
          "y0": 0,
          "y1": 1,
          "yref": "y domain"
         },
         {
          "fillcolor": "#e07070",
          "line": {
           "width": 0
          },
          "opacity": 0.4,
          "type": "rect",
          "x0": "2020-10-11T12:00:00",
          "x1": "2020-10-11T13:00:00",
          "xref": "x",
          "y0": 0,
          "y1": 1,
          "yref": "y domain"
         },
         {
          "fillcolor": "#e07070",
          "line": {
           "width": 0
          },
          "opacity": 0.4,
          "type": "rect",
          "x0": "2020-10-11T13:00:00",
          "x1": "2020-10-11T14:00:00",
          "xref": "x",
          "y0": 0,
          "y1": 1,
          "yref": "y domain"
         },
         {
          "fillcolor": "#e07070",
          "line": {
           "width": 0
          },
          "opacity": 0.4,
          "type": "rect",
          "x0": "2020-10-11T14:00:00",
          "x1": "2020-10-11T15:00:00",
          "xref": "x",
          "y0": 0,
          "y1": 1,
          "yref": "y domain"
         },
         {
          "fillcolor": "#e07070",
          "line": {
           "width": 0
          },
          "opacity": 0.4,
          "type": "rect",
          "x0": "2020-10-11T15:00:00",
          "x1": "2020-10-11T16:00:00",
          "xref": "x",
          "y0": 0,
          "y1": 1,
          "yref": "y domain"
         },
         {
          "fillcolor": "#e07070",
          "line": {
           "width": 0
          },
          "opacity": 0.4,
          "type": "rect",
          "x0": "2020-10-11T16:00:00",
          "x1": "2020-10-11T17:00:00",
          "xref": "x",
          "y0": 0,
          "y1": 1,
          "yref": "y domain"
         },
         {
          "fillcolor": "#e07070",
          "line": {
           "width": 0
          },
          "opacity": 0.4,
          "type": "rect",
          "x0": "2020-10-11T17:00:00",
          "x1": "2020-10-11T18:00:00",
          "xref": "x",
          "y0": 0,
          "y1": 1,
          "yref": "y domain"
         },
         {
          "fillcolor": "#e07070",
          "line": {
           "width": 0
          },
          "opacity": 0.4,
          "type": "rect",
          "x0": "2020-10-11T18:00:00",
          "x1": "2020-10-11T19:00:00",
          "xref": "x",
          "y0": 0,
          "y1": 1,
          "yref": "y domain"
         },
         {
          "fillcolor": "#e07070",
          "line": {
           "width": 0
          },
          "opacity": 0.4,
          "type": "rect",
          "x0": "2020-10-11T19:00:00",
          "x1": "2020-10-11T20:00:00",
          "xref": "x",
          "y0": 0,
          "y1": 1,
          "yref": "y domain"
         },
         {
          "fillcolor": "#e07070",
          "line": {
           "width": 0
          },
          "opacity": 0.4,
          "type": "rect",
          "x0": "2020-10-11T20:00:00",
          "x1": "2020-10-11T21:00:00",
          "xref": "x",
          "y0": 0,
          "y1": 1,
          "yref": "y domain"
         },
         {
          "fillcolor": "#e07070",
          "line": {
           "width": 0
          },
          "opacity": 0.4,
          "type": "rect",
          "x0": "2020-10-11T21:00:00",
          "x1": "2020-10-11T22:00:00",
          "xref": "x",
          "y0": 0,
          "y1": 1,
          "yref": "y domain"
         },
         {
          "fillcolor": "#e07070",
          "line": {
           "width": 0
          },
          "opacity": 0.4,
          "type": "rect",
          "x0": "2020-10-11T22:00:00",
          "x1": "2020-10-11T23:00:00",
          "xref": "x",
          "y0": 0,
          "y1": 1,
          "yref": "y domain"
         },
         {
          "fillcolor": "#e07070",
          "line": {
           "width": 0
          },
          "opacity": 0.4,
          "type": "rect",
          "x0": "2020-10-11T23:00:00",
          "x1": "2020-10-12T00:00:00",
          "xref": "x",
          "y0": 0,
          "y1": 1,
          "yref": "y domain"
         },
         {
          "fillcolor": "#e07070",
          "line": {
           "width": 0
          },
          "opacity": 0.4,
          "type": "rect",
          "x0": "2020-10-12T00:00:00",
          "x1": "2020-10-12T01:00:00",
          "xref": "x",
          "y0": 0,
          "y1": 1,
          "yref": "y domain"
         },
         {
          "fillcolor": "#e07070",
          "line": {
           "width": 0
          },
          "opacity": 0.4,
          "type": "rect",
          "x0": "2020-10-12T01:00:00",
          "x1": "2020-10-12T03:00:00",
          "xref": "x",
          "y0": 0,
          "y1": 1,
          "yref": "y domain"
         },
         {
          "fillcolor": "#e07070",
          "line": {
           "width": 0
          },
          "opacity": 0.4,
          "type": "rect",
          "x0": "2020-10-12T03:00:00",
          "x1": "2020-10-12T12:00:00",
          "xref": "x",
          "y0": 0,
          "y1": 1,
          "yref": "y domain"
         },
         {
          "fillcolor": "#e07070",
          "line": {
           "width": 0
          },
          "opacity": 0.4,
          "type": "rect",
          "x0": "2020-10-12T12:00:00",
          "x1": "2020-10-12T13:00:00",
          "xref": "x",
          "y0": 0,
          "y1": 1,
          "yref": "y domain"
         },
         {
          "fillcolor": "#e07070",
          "line": {
           "width": 0
          },
          "opacity": 0.4,
          "type": "rect",
          "x0": "2020-10-12T13:00:00",
          "x1": "2020-10-12T14:00:00",
          "xref": "x",
          "y0": 0,
          "y1": 1,
          "yref": "y domain"
         },
         {
          "fillcolor": "#e07070",
          "line": {
           "width": 0
          },
          "opacity": 0.4,
          "type": "rect",
          "x0": "2020-10-12T14:00:00",
          "x1": "2020-10-12T15:00:00",
          "xref": "x",
          "y0": 0,
          "y1": 1,
          "yref": "y domain"
         },
         {
          "fillcolor": "#e07070",
          "line": {
           "width": 0
          },
          "opacity": 0.4,
          "type": "rect",
          "x0": "2020-10-12T15:00:00",
          "x1": "2020-10-12T16:00:00",
          "xref": "x",
          "y0": 0,
          "y1": 1,
          "yref": "y domain"
         },
         {
          "fillcolor": "#e07070",
          "line": {
           "width": 0
          },
          "opacity": 0.4,
          "type": "rect",
          "x0": "2020-10-12T16:00:00",
          "x1": "2020-10-12T17:00:00",
          "xref": "x",
          "y0": 0,
          "y1": 1,
          "yref": "y domain"
         },
         {
          "fillcolor": "#e07070",
          "line": {
           "width": 0
          },
          "opacity": 0.4,
          "type": "rect",
          "x0": "2020-10-12T17:00:00",
          "x1": "2020-10-12T18:00:00",
          "xref": "x",
          "y0": 0,
          "y1": 1,
          "yref": "y domain"
         },
         {
          "fillcolor": "#e07070",
          "line": {
           "width": 0
          },
          "opacity": 0.4,
          "type": "rect",
          "x0": "2020-10-12T18:00:00",
          "x1": "2020-10-12T19:00:00",
          "xref": "x",
          "y0": 0,
          "y1": 1,
          "yref": "y domain"
         },
         {
          "fillcolor": "#e07070",
          "line": {
           "width": 0
          },
          "opacity": 0.4,
          "type": "rect",
          "x0": "2020-10-12T19:00:00",
          "x1": "2020-10-12T20:00:00",
          "xref": "x",
          "y0": 0,
          "y1": 1,
          "yref": "y domain"
         },
         {
          "fillcolor": "#e07070",
          "line": {
           "width": 0
          },
          "opacity": 0.4,
          "type": "rect",
          "x0": "2020-10-12T20:00:00",
          "x1": "2020-10-12T21:00:00",
          "xref": "x",
          "y0": 0,
          "y1": 1,
          "yref": "y domain"
         },
         {
          "fillcolor": "#e07070",
          "line": {
           "width": 0
          },
          "opacity": 0.4,
          "type": "rect",
          "x0": "2020-10-12T21:00:00",
          "x1": "2020-10-12T22:00:00",
          "xref": "x",
          "y0": 0,
          "y1": 1,
          "yref": "y domain"
         },
         {
          "fillcolor": "#e07070",
          "line": {
           "width": 0
          },
          "opacity": 0.4,
          "type": "rect",
          "x0": "2020-10-12T22:00:00",
          "x1": "2020-10-12T23:00:00",
          "xref": "x",
          "y0": 0,
          "y1": 1,
          "yref": "y domain"
         },
         {
          "fillcolor": "#e07070",
          "line": {
           "width": 0
          },
          "opacity": 0.4,
          "type": "rect",
          "x0": "2020-10-12T23:00:00",
          "x1": "2020-10-13T00:00:00",
          "xref": "x",
          "y0": 0,
          "y1": 1,
          "yref": "y domain"
         },
         {
          "fillcolor": "#e07070",
          "line": {
           "width": 0
          },
          "opacity": 0.4,
          "type": "rect",
          "x0": "2020-10-13T00:00:00",
          "x1": "2020-10-13T00:00:00",
          "xref": "x",
          "y0": 0,
          "y1": 1,
          "yref": "y domain"
         }
        ],
        "showlegend": true,
        "template": {
         "data": {
          "bar": [
           {
            "error_x": {
             "color": "#2a3f5f"
            },
            "error_y": {
             "color": "#2a3f5f"
            },
            "marker": {
             "line": {
              "color": "#E5ECF6",
              "width": 0.5
             },
             "pattern": {
              "fillmode": "overlay",
              "size": 10,
              "solidity": 0.2
             }
            },
            "type": "bar"
           }
          ],
          "barpolar": [
           {
            "marker": {
             "line": {
              "color": "#E5ECF6",
              "width": 0.5
             },
             "pattern": {
              "fillmode": "overlay",
              "size": 10,
              "solidity": 0.2
             }
            },
            "type": "barpolar"
           }
          ],
          "carpet": [
           {
            "aaxis": {
             "endlinecolor": "#2a3f5f",
             "gridcolor": "white",
             "linecolor": "white",
             "minorgridcolor": "white",
             "startlinecolor": "#2a3f5f"
            },
            "baxis": {
             "endlinecolor": "#2a3f5f",
             "gridcolor": "white",
             "linecolor": "white",
             "minorgridcolor": "white",
             "startlinecolor": "#2a3f5f"
            },
            "type": "carpet"
           }
          ],
          "choropleth": [
           {
            "colorbar": {
             "outlinewidth": 0,
             "ticks": ""
            },
            "type": "choropleth"
           }
          ],
          "contour": [
           {
            "colorbar": {
             "outlinewidth": 0,
             "ticks": ""
            },
            "colorscale": [
             [
              0,
              "#0d0887"
             ],
             [
              0.1111111111111111,
              "#46039f"
             ],
             [
              0.2222222222222222,
              "#7201a8"
             ],
             [
              0.3333333333333333,
              "#9c179e"
             ],
             [
              0.4444444444444444,
              "#bd3786"
             ],
             [
              0.5555555555555556,
              "#d8576b"
             ],
             [
              0.6666666666666666,
              "#ed7953"
             ],
             [
              0.7777777777777778,
              "#fb9f3a"
             ],
             [
              0.8888888888888888,
              "#fdca26"
             ],
             [
              1,
              "#f0f921"
             ]
            ],
            "type": "contour"
           }
          ],
          "contourcarpet": [
           {
            "colorbar": {
             "outlinewidth": 0,
             "ticks": ""
            },
            "type": "contourcarpet"
           }
          ],
          "heatmap": [
           {
            "colorbar": {
             "outlinewidth": 0,
             "ticks": ""
            },
            "colorscale": [
             [
              0,
              "#0d0887"
             ],
             [
              0.1111111111111111,
              "#46039f"
             ],
             [
              0.2222222222222222,
              "#7201a8"
             ],
             [
              0.3333333333333333,
              "#9c179e"
             ],
             [
              0.4444444444444444,
              "#bd3786"
             ],
             [
              0.5555555555555556,
              "#d8576b"
             ],
             [
              0.6666666666666666,
              "#ed7953"
             ],
             [
              0.7777777777777778,
              "#fb9f3a"
             ],
             [
              0.8888888888888888,
              "#fdca26"
             ],
             [
              1,
              "#f0f921"
             ]
            ],
            "type": "heatmap"
           }
          ],
          "heatmapgl": [
           {
            "colorbar": {
             "outlinewidth": 0,
             "ticks": ""
            },
            "colorscale": [
             [
              0,
              "#0d0887"
             ],
             [
              0.1111111111111111,
              "#46039f"
             ],
             [
              0.2222222222222222,
              "#7201a8"
             ],
             [
              0.3333333333333333,
              "#9c179e"
             ],
             [
              0.4444444444444444,
              "#bd3786"
             ],
             [
              0.5555555555555556,
              "#d8576b"
             ],
             [
              0.6666666666666666,
              "#ed7953"
             ],
             [
              0.7777777777777778,
              "#fb9f3a"
             ],
             [
              0.8888888888888888,
              "#fdca26"
             ],
             [
              1,
              "#f0f921"
             ]
            ],
            "type": "heatmapgl"
           }
          ],
          "histogram": [
           {
            "marker": {
             "pattern": {
              "fillmode": "overlay",
              "size": 10,
              "solidity": 0.2
             }
            },
            "type": "histogram"
           }
          ],
          "histogram2d": [
           {
            "colorbar": {
             "outlinewidth": 0,
             "ticks": ""
            },
            "colorscale": [
             [
              0,
              "#0d0887"
             ],
             [
              0.1111111111111111,
              "#46039f"
             ],
             [
              0.2222222222222222,
              "#7201a8"
             ],
             [
              0.3333333333333333,
              "#9c179e"
             ],
             [
              0.4444444444444444,
              "#bd3786"
             ],
             [
              0.5555555555555556,
              "#d8576b"
             ],
             [
              0.6666666666666666,
              "#ed7953"
             ],
             [
              0.7777777777777778,
              "#fb9f3a"
             ],
             [
              0.8888888888888888,
              "#fdca26"
             ],
             [
              1,
              "#f0f921"
             ]
            ],
            "type": "histogram2d"
           }
          ],
          "histogram2dcontour": [
           {
            "colorbar": {
             "outlinewidth": 0,
             "ticks": ""
            },
            "colorscale": [
             [
              0,
              "#0d0887"
             ],
             [
              0.1111111111111111,
              "#46039f"
             ],
             [
              0.2222222222222222,
              "#7201a8"
             ],
             [
              0.3333333333333333,
              "#9c179e"
             ],
             [
              0.4444444444444444,
              "#bd3786"
             ],
             [
              0.5555555555555556,
              "#d8576b"
             ],
             [
              0.6666666666666666,
              "#ed7953"
             ],
             [
              0.7777777777777778,
              "#fb9f3a"
             ],
             [
              0.8888888888888888,
              "#fdca26"
             ],
             [
              1,
              "#f0f921"
             ]
            ],
            "type": "histogram2dcontour"
           }
          ],
          "mesh3d": [
           {
            "colorbar": {
             "outlinewidth": 0,
             "ticks": ""
            },
            "type": "mesh3d"
           }
          ],
          "parcoords": [
           {
            "line": {
             "colorbar": {
              "outlinewidth": 0,
              "ticks": ""
             }
            },
            "type": "parcoords"
           }
          ],
          "pie": [
           {
            "automargin": true,
            "type": "pie"
           }
          ],
          "scatter": [
           {
            "marker": {
             "colorbar": {
              "outlinewidth": 0,
              "ticks": ""
             }
            },
            "type": "scatter"
           }
          ],
          "scatter3d": [
           {
            "line": {
             "colorbar": {
              "outlinewidth": 0,
              "ticks": ""
             }
            },
            "marker": {
             "colorbar": {
              "outlinewidth": 0,
              "ticks": ""
             }
            },
            "type": "scatter3d"
           }
          ],
          "scattercarpet": [
           {
            "marker": {
             "colorbar": {
              "outlinewidth": 0,
              "ticks": ""
             }
            },
            "type": "scattercarpet"
           }
          ],
          "scattergeo": [
           {
            "marker": {
             "colorbar": {
              "outlinewidth": 0,
              "ticks": ""
             }
            },
            "type": "scattergeo"
           }
          ],
          "scattergl": [
           {
            "marker": {
             "colorbar": {
              "outlinewidth": 0,
              "ticks": ""
             }
            },
            "type": "scattergl"
           }
          ],
          "scattermapbox": [
           {
            "marker": {
             "colorbar": {
              "outlinewidth": 0,
              "ticks": ""
             }
            },
            "type": "scattermapbox"
           }
          ],
          "scatterpolar": [
           {
            "marker": {
             "colorbar": {
              "outlinewidth": 0,
              "ticks": ""
             }
            },
            "type": "scatterpolar"
           }
          ],
          "scatterpolargl": [
           {
            "marker": {
             "colorbar": {
              "outlinewidth": 0,
              "ticks": ""
             }
            },
            "type": "scatterpolargl"
           }
          ],
          "scatterternary": [
           {
            "marker": {
             "colorbar": {
              "outlinewidth": 0,
              "ticks": ""
             }
            },
            "type": "scatterternary"
           }
          ],
          "surface": [
           {
            "colorbar": {
             "outlinewidth": 0,
             "ticks": ""
            },
            "colorscale": [
             [
              0,
              "#0d0887"
             ],
             [
              0.1111111111111111,
              "#46039f"
             ],
             [
              0.2222222222222222,
              "#7201a8"
             ],
             [
              0.3333333333333333,
              "#9c179e"
             ],
             [
              0.4444444444444444,
              "#bd3786"
             ],
             [
              0.5555555555555556,
              "#d8576b"
             ],
             [
              0.6666666666666666,
              "#ed7953"
             ],
             [
              0.7777777777777778,
              "#fb9f3a"
             ],
             [
              0.8888888888888888,
              "#fdca26"
             ],
             [
              1,
              "#f0f921"
             ]
            ],
            "type": "surface"
           }
          ],
          "table": [
           {
            "cells": {
             "fill": {
              "color": "#EBF0F8"
             },
             "line": {
              "color": "white"
             }
            },
            "header": {
             "fill": {
              "color": "#C8D4E3"
             },
             "line": {
              "color": "white"
             }
            },
            "type": "table"
           }
          ]
         },
         "layout": {
          "annotationdefaults": {
           "arrowcolor": "#2a3f5f",
           "arrowhead": 0,
           "arrowwidth": 1
          },
          "autotypenumbers": "strict",
          "coloraxis": {
           "colorbar": {
            "outlinewidth": 0,
            "ticks": ""
           }
          },
          "colorscale": {
           "diverging": [
            [
             0,
             "#8e0152"
            ],
            [
             0.1,
             "#c51b7d"
            ],
            [
             0.2,
             "#de77ae"
            ],
            [
             0.3,
             "#f1b6da"
            ],
            [
             0.4,
             "#fde0ef"
            ],
            [
             0.5,
             "#f7f7f7"
            ],
            [
             0.6,
             "#e6f5d0"
            ],
            [
             0.7,
             "#b8e186"
            ],
            [
             0.8,
             "#7fbc41"
            ],
            [
             0.9,
             "#4d9221"
            ],
            [
             1,
             "#276419"
            ]
           ],
           "sequential": [
            [
             0,
             "#0d0887"
            ],
            [
             0.1111111111111111,
             "#46039f"
            ],
            [
             0.2222222222222222,
             "#7201a8"
            ],
            [
             0.3333333333333333,
             "#9c179e"
            ],
            [
             0.4444444444444444,
             "#bd3786"
            ],
            [
             0.5555555555555556,
             "#d8576b"
            ],
            [
             0.6666666666666666,
             "#ed7953"
            ],
            [
             0.7777777777777778,
             "#fb9f3a"
            ],
            [
             0.8888888888888888,
             "#fdca26"
            ],
            [
             1,
             "#f0f921"
            ]
           ],
           "sequentialminus": [
            [
             0,
             "#0d0887"
            ],
            [
             0.1111111111111111,
             "#46039f"
            ],
            [
             0.2222222222222222,
             "#7201a8"
            ],
            [
             0.3333333333333333,
             "#9c179e"
            ],
            [
             0.4444444444444444,
             "#bd3786"
            ],
            [
             0.5555555555555556,
             "#d8576b"
            ],
            [
             0.6666666666666666,
             "#ed7953"
            ],
            [
             0.7777777777777778,
             "#fb9f3a"
            ],
            [
             0.8888888888888888,
             "#fdca26"
            ],
            [
             1,
             "#f0f921"
            ]
           ]
          },
          "colorway": [
           "#636efa",
           "#EF553B",
           "#00cc96",
           "#ab63fa",
           "#FFA15A",
           "#19d3f3",
           "#FF6692",
           "#B6E880",
           "#FF97FF",
           "#FECB52"
          ],
          "font": {
           "color": "#2a3f5f"
          },
          "geo": {
           "bgcolor": "white",
           "lakecolor": "white",
           "landcolor": "#E5ECF6",
           "showlakes": true,
           "showland": true,
           "subunitcolor": "white"
          },
          "hoverlabel": {
           "align": "left"
          },
          "hovermode": "closest",
          "mapbox": {
           "style": "light"
          },
          "paper_bgcolor": "white",
          "plot_bgcolor": "#E5ECF6",
          "polar": {
           "angularaxis": {
            "gridcolor": "white",
            "linecolor": "white",
            "ticks": ""
           },
           "bgcolor": "#E5ECF6",
           "radialaxis": {
            "gridcolor": "white",
            "linecolor": "white",
            "ticks": ""
           }
          },
          "scene": {
           "xaxis": {
            "backgroundcolor": "#E5ECF6",
            "gridcolor": "white",
            "gridwidth": 2,
            "linecolor": "white",
            "showbackground": true,
            "ticks": "",
            "zerolinecolor": "white"
           },
           "yaxis": {
            "backgroundcolor": "#E5ECF6",
            "gridcolor": "white",
            "gridwidth": 2,
            "linecolor": "white",
            "showbackground": true,
            "ticks": "",
            "zerolinecolor": "white"
           },
           "zaxis": {
            "backgroundcolor": "#E5ECF6",
            "gridcolor": "white",
            "gridwidth": 2,
            "linecolor": "white",
            "showbackground": true,
            "ticks": "",
            "zerolinecolor": "white"
           }
          },
          "shapedefaults": {
           "line": {
            "color": "#2a3f5f"
           }
          },
          "ternary": {
           "aaxis": {
            "gridcolor": "white",
            "linecolor": "white",
            "ticks": ""
           },
           "baxis": {
            "gridcolor": "white",
            "linecolor": "white",
            "ticks": ""
           },
           "bgcolor": "#E5ECF6",
           "caxis": {
            "gridcolor": "white",
            "linecolor": "white",
            "ticks": ""
           }
          },
          "title": {
           "x": 0.05
          },
          "xaxis": {
           "automargin": true,
           "gridcolor": "white",
           "linecolor": "white",
           "ticks": "",
           "title": {
            "standoff": 15
           },
           "zerolinecolor": "white",
           "zerolinewidth": 2
          },
          "yaxis": {
           "automargin": true,
           "gridcolor": "white",
           "linecolor": "white",
           "ticks": "",
           "title": {
            "standoff": 15
           },
           "zerolinecolor": "white",
           "zerolinewidth": 2
          }
         }
        },
        "title": {
         "text": "ProphetDetector: Anomalies in top1_hashtag_count (Forecast Overlaid)"
        },
        "width": 1000,
        "xaxis": {
         "anchor": "y",
         "domain": [
          0,
          0.94
         ],
         "rangeselector": {
          "buttons": [
           {
            "count": 7,
            "label": "1w",
            "step": "day",
            "stepmode": "backward"
           },
           {
            "count": 1,
            "label": "1m",
            "step": "month",
            "stepmode": "backward"
           },
           {
            "count": 6,
            "label": "6m",
            "step": "month",
            "stepmode": "backward"
           },
           {
            "count": 1,
            "label": "1y",
            "step": "year",
            "stepmode": "backward"
           },
           {
            "step": "all"
           }
          ]
         },
         "rangeslider": {
          "visible": true
         },
         "title": {
          "text": "Time"
         },
         "type": "date"
        },
        "yaxis": {
         "anchor": "x",
         "domain": [
          0,
          1
         ],
         "title": {
          "text": "top1_hashtag_count"
         }
        },
        "yaxis2": {
         "anchor": "x",
         "overlaying": "y",
         "range": [
          -2.218451349507584,
          14.791033266649839
         ],
         "side": "right",
         "title": {
          "text": "Anomaly Score"
         }
        }
       }
      }
     },
     "metadata": {}
    },
    {
     "output_type": "stream",
     "name": "stdout",
     "text": [
      "Initial log joint probability = -4.15625\n",
      "    Iter      log prob        ||dx||      ||grad||       alpha      alpha0  # evals  Notes \n",
      "      89       284.486   1.49371e-07       85.1398    1.85e-09       0.001      153  LS failed, Hessian reset \n",
      "      99       284.486   1.80863e-08       80.0315      0.2593      0.8434      165   \n",
      "    Iter      log prob        ||dx||      ||grad||       alpha      alpha0  # evals  Notes \n",
      "     100       284.486    4.5694e-09        78.889      0.2547      0.2547      166   \n",
      "Optimization terminated normally: \n",
      "  Convergence detected: absolute parameter change was below tolerance\n"
     ]
    },
    {
     "output_type": "display_data",
     "data": {
      "application/vnd.plotly.v1+json": {
       "config": {
        "plotlyServerURL": "https://plot.ly"
       },
       "data": [
        {
         "hoverinfo": "skip",
         "line": {
          "width": 0
         },
         "mode": "lines",
         "showlegend": false,
         "type": "scatter",
         "x": [
          "2020-10-01T01:00:00",
          "2020-10-01T02:00:00",
          "2020-10-01T03:00:00",
          "2020-10-01T05:00:00",
          "2020-10-01T11:00:00",
          "2020-10-01T13:00:00",
          "2020-10-01T14:00:00",
          "2020-10-01T15:00:00",
          "2020-10-01T16:00:00",
          "2020-10-01T17:00:00",
          "2020-10-01T18:00:00",
          "2020-10-01T19:00:00",
          "2020-10-01T20:00:00",
          "2020-10-01T21:00:00",
          "2020-10-01T22:00:00",
          "2020-10-01T23:00:00",
          "2020-10-02T00:00:00",
          "2020-10-02T02:00:00",
          "2020-10-02T03:00:00",
          "2020-10-02T04:00:00",
          "2020-10-02T05:00:00",
          "2020-10-02T07:00:00",
          "2020-10-02T12:00:00",
          "2020-10-02T14:00:00",
          "2020-10-02T15:00:00",
          "2020-10-02T16:00:00",
          "2020-10-02T17:00:00",
          "2020-10-02T18:00:00",
          "2020-10-02T19:00:00",
          "2020-10-02T20:00:00",
          "2020-10-02T21:00:00",
          "2020-10-02T22:00:00",
          "2020-10-03T00:00:00",
          "2020-10-03T01:00:00",
          "2020-10-03T02:00:00",
          "2020-10-03T13:00:00",
          "2020-10-03T15:00:00",
          "2020-10-03T16:00:00",
          "2020-10-03T18:00:00",
          "2020-10-03T19:00:00",
          "2020-10-03T20:00:00",
          "2020-10-03T21:00:00",
          "2020-10-03T22:00:00",
          "2020-10-04T12:00:00",
          "2020-10-04T13:00:00",
          "2020-10-04T16:00:00",
          "2020-10-04T20:00:00",
          "2020-10-04T22:00:00",
          "2020-10-05T00:00:00",
          "2020-10-05T04:00:00",
          "2020-10-05T09:00:00",
          "2020-10-05T13:00:00",
          "2020-10-05T14:00:00",
          "2020-10-05T15:00:00",
          "2020-10-05T16:00:00",
          "2020-10-05T17:00:00",
          "2020-10-05T18:00:00",
          "2020-10-05T19:00:00",
          "2020-10-05T20:00:00",
          "2020-10-05T22:00:00",
          "2020-10-05T23:00:00",
          "2020-10-06T01:00:00",
          "2020-10-06T02:00:00",
          "2020-10-06T03:00:00",
          "2020-10-06T06:00:00",
          "2020-10-06T13:00:00",
          "2020-10-06T14:00:00",
          "2020-10-06T16:00:00",
          "2020-10-06T17:00:00",
          "2020-10-06T18:00:00",
          "2020-10-06T19:00:00",
          "2020-10-06T20:00:00",
          "2020-10-06T21:00:00",
          "2020-10-06T22:00:00",
          "2020-10-06T23:00:00",
          "2020-10-07T00:00:00",
          "2020-10-07T01:00:00",
          "2020-10-07T02:00:00",
          "2020-10-07T03:00:00",
          "2020-10-07T10:00:00",
          "2020-10-07T12:00:00",
          "2020-10-07T14:00:00",
          "2020-10-07T15:00:00",
          "2020-10-07T16:00:00",
          "2020-10-07T17:00:00",
          "2020-10-07T18:00:00",
          "2020-10-07T19:00:00",
          "2020-10-07T20:00:00",
          "2020-10-07T21:00:00",
          "2020-10-07T22:00:00",
          "2020-10-07T23:00:00",
          "2020-10-08T00:00:00",
          "2020-10-08T01:00:00",
          "2020-10-08T02:00:00",
          "2020-10-08T03:00:00",
          "2020-10-08T04:00:00",
          "2020-10-08T05:00:00",
          "2020-10-08T06:00:00",
          "2020-10-08T07:00:00",
          "2020-10-08T08:00:00",
          "2020-10-08T09:00:00",
          "2020-10-08T10:00:00",
          "2020-10-08T11:00:00",
          "2020-10-08T12:00:00",
          "2020-10-08T13:00:00",
          "2020-10-08T14:00:00",
          "2020-10-08T15:00:00",
          "2020-10-08T16:00:00",
          "2020-10-08T17:00:00",
          "2020-10-08T18:00:00",
          "2020-10-08T19:00:00",
          "2020-10-08T20:00:00",
          "2020-10-08T21:00:00",
          "2020-10-08T22:00:00",
          "2020-10-08T23:00:00",
          "2020-10-09T00:00:00",
          "2020-10-09T01:00:00",
          "2020-10-09T02:00:00",
          "2020-10-09T03:00:00",
          "2020-10-09T04:00:00",
          "2020-10-09T05:00:00",
          "2020-10-09T06:00:00",
          "2020-10-09T09:00:00",
          "2020-10-09T10:00:00",
          "2020-10-09T11:00:00",
          "2020-10-09T12:00:00",
          "2020-10-09T13:00:00",
          "2020-10-09T14:00:00",
          "2020-10-09T15:00:00",
          "2020-10-09T16:00:00",
          "2020-10-09T17:00:00",
          "2020-10-09T18:00:00",
          "2020-10-09T19:00:00",
          "2020-10-09T20:00:00",
          "2020-10-09T21:00:00",
          "2020-10-09T22:00:00",
          "2020-10-09T23:00:00",
          "2020-10-10T00:00:00",
          "2020-10-10T01:00:00",
          "2020-10-10T02:00:00",
          "2020-10-10T03:00:00",
          "2020-10-10T04:00:00",
          "2020-10-10T05:00:00",
          "2020-10-10T07:00:00",
          "2020-10-10T08:00:00",
          "2020-10-10T11:00:00",
          "2020-10-10T12:00:00",
          "2020-10-10T13:00:00",
          "2020-10-10T14:00:00",
          "2020-10-10T15:00:00",
          "2020-10-10T16:00:00",
          "2020-10-10T17:00:00",
          "2020-10-10T18:00:00",
          "2020-10-10T19:00:00",
          "2020-10-10T20:00:00",
          "2020-10-10T21:00:00",
          "2020-10-10T22:00:00",
          "2020-10-10T23:00:00",
          "2020-10-11T00:00:00",
          "2020-10-11T01:00:00",
          "2020-10-11T02:00:00",
          "2020-10-11T03:00:00",
          "2020-10-11T04:00:00",
          "2020-10-11T05:00:00",
          "2020-10-11T07:00:00",
          "2020-10-11T09:00:00",
          "2020-10-11T12:00:00",
          "2020-10-11T13:00:00",
          "2020-10-11T14:00:00",
          "2020-10-11T15:00:00",
          "2020-10-11T16:00:00",
          "2020-10-11T17:00:00",
          "2020-10-11T18:00:00",
          "2020-10-11T19:00:00",
          "2020-10-11T20:00:00",
          "2020-10-11T21:00:00",
          "2020-10-11T22:00:00",
          "2020-10-11T23:00:00",
          "2020-10-12T00:00:00",
          "2020-10-12T01:00:00",
          "2020-10-12T03:00:00",
          "2020-10-12T12:00:00",
          "2020-10-12T13:00:00",
          "2020-10-12T14:00:00",
          "2020-10-12T15:00:00",
          "2020-10-12T16:00:00",
          "2020-10-12T17:00:00",
          "2020-10-12T18:00:00",
          "2020-10-12T19:00:00",
          "2020-10-12T20:00:00",
          "2020-10-12T21:00:00",
          "2020-10-12T22:00:00",
          "2020-10-12T23:00:00",
          "2020-10-13T00:00:00"
         ],
         "y": [
          0.12256682575129692,
          0.12315294009044593,
          0.10620079840723286,
          0.11181841187919234,
          0.1112099144363875,
          0.1187262056807594,
          0.10977638305862196,
          0.11270211096499459,
          0.09878274749433785,
          0.11932404606932984,
          0.1003431615906219,
          0.11245922844989176,
          0.11914755053529646,
          0.12110864474424177,
          0.11322989747537,
          0.12828957272907096,
          0.12509699551261538,
          0.11822656130524997,
          0.1278869699523639,
          0.1248477219893595,
          0.13268659176737968,
          0.1271457688715925,
          0.12737413725816893,
          0.13242110853400021,
          0.14684232846774778,
          0.14166484826427164,
          0.1338080255558309,
          0.1420244807620674,
          0.1359248375180849,
          0.13613086758521428,
          0.13675948427682352,
          0.12436784452880147,
          0.13133975422124947,
          0.14154521976597695,
          0.145671531233149,
          0.13793014907212606,
          0.1450241118957616,
          0.14271847227054105,
          0.14076252679932652,
          0.16117193263420926,
          0.15161654665073293,
          0.16013462937086131,
          0.17558397097039735,
          0.16904406464074925,
          0.1605844230980915,
          0.16633322480625662,
          0.16649098653764915,
          0.1722229665216537,
          0.18594963021018818,
          0.17545277295913286,
          0.18220147027374473,
          0.1926274406332476,
          0.18515898182785273,
          0.19099810656605565,
          0.1875253307202215,
          0.18300433129489027,
          0.1911793895500689,
          0.18741606067276623,
          0.1959283493779672,
          0.1854975546377433,
          0.20767073516631768,
          0.19156526699081242,
          0.20412048215703354,
          0.20677962603808786,
          0.20032848984849178,
          0.20994049665988318,
          0.20666859875247628,
          0.20925542896502308,
          0.20218980424450417,
          0.21401117438730693,
          0.21007874391959147,
          0.22456091049140076,
          0.21240754704812836,
          0.2120664080735138,
          0.2149107315693179,
          0.21955730627151376,
          0.21467652493712464,
          0.2130976889846155,
          0.2069161332360518,
          0.2162505729245352,
          0.22929615169641893,
          0.2251751485917603,
          0.23514628038546903,
          0.22740197656057964,
          0.2291105308160989,
          0.23238901457559585,
          0.23714201372435859,
          0.2247641319257716,
          0.21690357731004567,
          0.22884497041694038,
          0.23530310677594884,
          0.2239544100447476,
          0.24758393302611742,
          0.21993337426037335,
          0.22527869703448083,
          0.2337139947599641,
          0.23755444921146274,
          0.23075899351964288,
          0.23033408674679062,
          0.2466860874474687,
          0.229055190372639,
          0.23171647495207007,
          0.22752051555386404,
          0.23410143437968045,
          0.2308549800094932,
          0.23295493768226022,
          0.22542382492804353,
          0.2370154434877243,
          0.23830632325717385,
          0.23677919073995463,
          0.23116835148074677,
          0.2273018400549859,
          0.23115377860185649,
          0.23367320639055988,
          0.2288047199149377,
          0.23405912816938013,
          0.2311719691127696,
          0.2193320948747487,
          0.22226067797976895,
          0.22441457413187868,
          0.21418781519233604,
          0.22693210572603595,
          0.22182692266685045,
          0.1995368640661222,
          0.21743372010026513,
          0.2128418577088697,
          0.20844356591985047,
          0.20496285396535224,
          0.2135940264837952,
          0.2185431636440103,
          0.2094438886747904,
          0.2084671572649588,
          0.21209601125209965,
          0.20512313876476657,
          0.19919790466176396,
          0.21361916920327526,
          0.19357235955381236,
          0.1971339189767971,
          0.19871909749276576,
          0.19138510774629586,
          0.19061004180075186,
          0.20869442990314765,
          0.1980900798094104,
          0.18448141912187888,
          0.19209008826740445,
          0.1763511928917181,
          0.18643464850379887,
          0.18342614066862836,
          0.18383041739806832,
          0.1804674411839856,
          0.1777964057076381,
          0.17927197208986365,
          0.17338435875732247,
          0.16830892778305656,
          0.1693423579099105,
          0.1814241362622523,
          0.18768600158465376,
          0.17776771236437805,
          0.17118920803750737,
          0.17394901737465945,
          0.17100075457568453,
          0.17511577430177988,
          0.1576073760847945,
          0.16650208549566617,
          0.1648380989415215,
          0.16335777421662284,
          0.1658838144678701,
          0.1685616732845045,
          0.15204695661149842,
          0.16226600505134167,
          0.1445241349446134,
          0.16630410011460983,
          0.13279393519280674,
          0.14669865619413053,
          0.15048366580635947,
          0.1569217027803866,
          0.14693083282715036,
          0.14189707029806328,
          0.14807444775149214,
          0.1449747618860749,
          0.14771458757323738,
          0.12017006740527734,
          0.13554198551522398,
          0.12848871127845055,
          0.1283164585261898,
          0.11318197955272137,
          0.11511142472530816,
          0.13045839676027268,
          0.13931184817858586,
          0.13502362237021417,
          0.12689794534863474,
          0.11618232859357973,
          0.11846084478000844,
          0.11292541483346472
         ]
        },
        {
         "fill": "tonexty",
         "fillcolor": "rgba(0, 114, 178, 0.2)",
         "line": {
          "color": "#0072B2",
          "width": 2
         },
         "mode": "lines",
         "name": "Forecast",
         "type": "scatter",
         "x": [
          "2020-10-01T01:00:00",
          "2020-10-01T02:00:00",
          "2020-10-01T03:00:00",
          "2020-10-01T05:00:00",
          "2020-10-01T11:00:00",
          "2020-10-01T13:00:00",
          "2020-10-01T14:00:00",
          "2020-10-01T15:00:00",
          "2020-10-01T16:00:00",
          "2020-10-01T17:00:00",
          "2020-10-01T18:00:00",
          "2020-10-01T19:00:00",
          "2020-10-01T20:00:00",
          "2020-10-01T21:00:00",
          "2020-10-01T22:00:00",
          "2020-10-01T23:00:00",
          "2020-10-02T00:00:00",
          "2020-10-02T02:00:00",
          "2020-10-02T03:00:00",
          "2020-10-02T04:00:00",
          "2020-10-02T05:00:00",
          "2020-10-02T07:00:00",
          "2020-10-02T12:00:00",
          "2020-10-02T14:00:00",
          "2020-10-02T15:00:00",
          "2020-10-02T16:00:00",
          "2020-10-02T17:00:00",
          "2020-10-02T18:00:00",
          "2020-10-02T19:00:00",
          "2020-10-02T20:00:00",
          "2020-10-02T21:00:00",
          "2020-10-02T22:00:00",
          "2020-10-03T00:00:00",
          "2020-10-03T01:00:00",
          "2020-10-03T02:00:00",
          "2020-10-03T13:00:00",
          "2020-10-03T15:00:00",
          "2020-10-03T16:00:00",
          "2020-10-03T18:00:00",
          "2020-10-03T19:00:00",
          "2020-10-03T20:00:00",
          "2020-10-03T21:00:00",
          "2020-10-03T22:00:00",
          "2020-10-04T12:00:00",
          "2020-10-04T13:00:00",
          "2020-10-04T16:00:00",
          "2020-10-04T20:00:00",
          "2020-10-04T22:00:00",
          "2020-10-05T00:00:00",
          "2020-10-05T04:00:00",
          "2020-10-05T09:00:00",
          "2020-10-05T13:00:00",
          "2020-10-05T14:00:00",
          "2020-10-05T15:00:00",
          "2020-10-05T16:00:00",
          "2020-10-05T17:00:00",
          "2020-10-05T18:00:00",
          "2020-10-05T19:00:00",
          "2020-10-05T20:00:00",
          "2020-10-05T22:00:00",
          "2020-10-05T23:00:00",
          "2020-10-06T01:00:00",
          "2020-10-06T02:00:00",
          "2020-10-06T03:00:00",
          "2020-10-06T06:00:00",
          "2020-10-06T13:00:00",
          "2020-10-06T14:00:00",
          "2020-10-06T16:00:00",
          "2020-10-06T17:00:00",
          "2020-10-06T18:00:00",
          "2020-10-06T19:00:00",
          "2020-10-06T20:00:00",
          "2020-10-06T21:00:00",
          "2020-10-06T22:00:00",
          "2020-10-06T23:00:00",
          "2020-10-07T00:00:00",
          "2020-10-07T01:00:00",
          "2020-10-07T02:00:00",
          "2020-10-07T03:00:00",
          "2020-10-07T10:00:00",
          "2020-10-07T12:00:00",
          "2020-10-07T14:00:00",
          "2020-10-07T15:00:00",
          "2020-10-07T16:00:00",
          "2020-10-07T17:00:00",
          "2020-10-07T18:00:00",
          "2020-10-07T19:00:00",
          "2020-10-07T20:00:00",
          "2020-10-07T21:00:00",
          "2020-10-07T22:00:00",
          "2020-10-07T23:00:00",
          "2020-10-08T00:00:00",
          "2020-10-08T01:00:00",
          "2020-10-08T02:00:00",
          "2020-10-08T03:00:00",
          "2020-10-08T04:00:00",
          "2020-10-08T05:00:00",
          "2020-10-08T06:00:00",
          "2020-10-08T07:00:00",
          "2020-10-08T08:00:00",
          "2020-10-08T09:00:00",
          "2020-10-08T10:00:00",
          "2020-10-08T11:00:00",
          "2020-10-08T12:00:00",
          "2020-10-08T13:00:00",
          "2020-10-08T14:00:00",
          "2020-10-08T15:00:00",
          "2020-10-08T16:00:00",
          "2020-10-08T17:00:00",
          "2020-10-08T18:00:00",
          "2020-10-08T19:00:00",
          "2020-10-08T20:00:00",
          "2020-10-08T21:00:00",
          "2020-10-08T22:00:00",
          "2020-10-08T23:00:00",
          "2020-10-09T00:00:00",
          "2020-10-09T01:00:00",
          "2020-10-09T02:00:00",
          "2020-10-09T03:00:00",
          "2020-10-09T04:00:00",
          "2020-10-09T05:00:00",
          "2020-10-09T06:00:00",
          "2020-10-09T09:00:00",
          "2020-10-09T10:00:00",
          "2020-10-09T11:00:00",
          "2020-10-09T12:00:00",
          "2020-10-09T13:00:00",
          "2020-10-09T14:00:00",
          "2020-10-09T15:00:00",
          "2020-10-09T16:00:00",
          "2020-10-09T17:00:00",
          "2020-10-09T18:00:00",
          "2020-10-09T19:00:00",
          "2020-10-09T20:00:00",
          "2020-10-09T21:00:00",
          "2020-10-09T22:00:00",
          "2020-10-09T23:00:00",
          "2020-10-10T00:00:00",
          "2020-10-10T01:00:00",
          "2020-10-10T02:00:00",
          "2020-10-10T03:00:00",
          "2020-10-10T04:00:00",
          "2020-10-10T05:00:00",
          "2020-10-10T07:00:00",
          "2020-10-10T08:00:00",
          "2020-10-10T11:00:00",
          "2020-10-10T12:00:00",
          "2020-10-10T13:00:00",
          "2020-10-10T14:00:00",
          "2020-10-10T15:00:00",
          "2020-10-10T16:00:00",
          "2020-10-10T17:00:00",
          "2020-10-10T18:00:00",
          "2020-10-10T19:00:00",
          "2020-10-10T20:00:00",
          "2020-10-10T21:00:00",
          "2020-10-10T22:00:00",
          "2020-10-10T23:00:00",
          "2020-10-11T00:00:00",
          "2020-10-11T01:00:00",
          "2020-10-11T02:00:00",
          "2020-10-11T03:00:00",
          "2020-10-11T04:00:00",
          "2020-10-11T05:00:00",
          "2020-10-11T07:00:00",
          "2020-10-11T09:00:00",
          "2020-10-11T12:00:00",
          "2020-10-11T13:00:00",
          "2020-10-11T14:00:00",
          "2020-10-11T15:00:00",
          "2020-10-11T16:00:00",
          "2020-10-11T17:00:00",
          "2020-10-11T18:00:00",
          "2020-10-11T19:00:00",
          "2020-10-11T20:00:00",
          "2020-10-11T21:00:00",
          "2020-10-11T22:00:00",
          "2020-10-11T23:00:00",
          "2020-10-12T00:00:00",
          "2020-10-12T01:00:00",
          "2020-10-12T03:00:00",
          "2020-10-12T12:00:00",
          "2020-10-12T13:00:00",
          "2020-10-12T14:00:00",
          "2020-10-12T15:00:00",
          "2020-10-12T16:00:00",
          "2020-10-12T17:00:00",
          "2020-10-12T18:00:00",
          "2020-10-12T19:00:00",
          "2020-10-12T20:00:00",
          "2020-10-12T21:00:00",
          "2020-10-12T22:00:00",
          "2020-10-12T23:00:00",
          "2020-10-13T00:00:00"
         ],
         "y": [
          -0.017144583968094415,
          -0.016375069318517663,
          -0.015605554668940914,
          -0.014066525369787412,
          -0.009449437472326908,
          -0.007910408173173405,
          -0.007140893523596655,
          -0.006371378892143971,
          -0.005601864260691286,
          -0.004832349629238603,
          -0.004062834997785918,
          -0.003293320366333232,
          -0.0025238057348805493,
          -0.001754291097501417,
          -0.0009847764601222824,
          -0.00021526182274315037,
          0.0005542528146359818,
          0.002093282089394251,
          0.0028627967267733853,
          0.003632311357310516,
          0.004401825987847649,
          0.00594085524892191,
          0.009788428401607572,
          0.011327457662681834,
          0.012096972293218964,
          0.0128664869237561,
          0.013636001569347323,
          0.014405516214938546,
          0.015175030860529768,
          0.015944545506120986,
          0.016714060151712208,
          0.017483574797303433,
          0.01902260408992432,
          0.019792118736234772,
          0.020561633382545217,
          0.029026294491960106,
          0.030565323784580992,
          0.03133483843089144,
          0.0328738676531534,
          0.03364338226428438,
          0.03441289687541536,
          0.03518241148654634,
          0.03595192609767732,
          0.046725130653511054,
          0.047494645283854005,
          0.04980318917488291,
          0.05288124769625477,
          0.05442027695694069,
          0.055959306217626625,
          0.05903736473899847,
          0.06288493788319434,
          0.06596299639855102,
          0.0667325110273902,
          0.06750202565622937,
          0.06827154028506854,
          0.0690410549139077,
          0.06981056952083335,
          0.07058008412775901,
          0.07134959873468466,
          0.07288862794853596,
          0.07365814255546163,
          0.07519717176931293,
          0.07596668637623856,
          0.07673620099832192,
          0.07904474486457198,
          0.08443134721915548,
          0.08520086184123883,
          0.08673989108540554,
          0.0875094057074889,
          0.08827892030103202,
          0.0890484348945751,
          0.08981794948811822,
          0.09058746408166131,
          0.09135697867520443,
          0.09212649326874751,
          0.09289600756237783,
          0.09366552185600813,
          0.09443503614963841,
          0.09520455044326873,
          0.10059115049868081,
          0.10213017908594142,
          0.10360926876891537,
          0.10434881361040238,
          0.10508835845188931,
          0.10582790329337628,
          0.1065674481348633,
          0.10730699297635027,
          0.10783472329939905,
          0.10836245362244784,
          0.10889018394549665,
          0.10941791426854543,
          0.10994564459159423,
          0.110473374914643,
          0.11062468755057221,
          0.11077600018650142,
          0.11092731282243062,
          0.11107862545835984,
          0.11122993809428905,
          0.11138125073021823,
          0.11153256336614745,
          0.11127472565609364,
          0.11101688794603981,
          0.110759050235986,
          0.11050121252593217,
          0.11024337481587837,
          0.10998553710582455,
          0.10934110115235836,
          0.10869666519889215,
          0.10805222924542596,
          0.10740779329195972,
          0.10676335733849353,
          0.10611892138502732,
          0.10518893820885607,
          0.10425895503268474,
          0.10332897185651346,
          0.10239898868034221,
          0.10146900550417089,
          0.1005390223279996,
          0.09944764951733516,
          0.09835627670667071,
          0.09726490389600624,
          0.09617353108534184,
          0.09289941265334847,
          0.09180803984268404,
          0.09071666493303013,
          0.08962529002337623,
          0.08853391511372229,
          0.08744254020406839,
          0.08635116529441447,
          0.08525979038476053,
          0.08414654524933607,
          0.08303330011391159,
          0.08192005497848712,
          0.08080680984306265,
          0.07969356470763818,
          0.0785803195722137,
          0.07746707443678927,
          0.0763538293344664,
          0.07524058423214344,
          0.07412733912982057,
          0.0730140940274977,
          0.07190084892517482,
          0.0707876038228519,
          0.0685611136085917,
          0.06744786850146159,
          0.06410813318007125,
          0.0629948880729411,
          0.061881642965811,
          0.06076839785868089,
          0.059655152701404014,
          0.058541907544127095,
          0.05742866238685022,
          0.05631541722957334,
          0.055202172072296454,
          0.054088926915019576,
          0.052975681748020254,
          0.051862436581020924,
          0.050749191414021566,
          0.0496359462470222,
          0.04852270108002288,
          0.04740945591302355,
          0.046296210746024226,
          0.04518296557902483,
          0.044069720412025504,
          0.04184323007802685,
          0.03961673974402813,
          0.03627700424303011,
          0.03516375907603079,
          0.034050513909031466,
          0.0329372687420321,
          0.03182402357503274,
          0.030710778408033414,
          0.02959753324103409,
          0.028484288074034726,
          0.027371042907035365,
          0.02625779774003604,
          0.025144552573036716,
          0.02403130740603735,
          0.02291806223903803,
          0.021804817072038664,
          0.019578326738039976,
          0.009559120235045904,
          0.008445875068046577,
          0.007332629901047253,
          0.006219384734047891,
          0.005106139567048565,
          0.003992894400049203,
          0.002879649233049878,
          0.001766404066050516,
          0.0006531588990511908,
          -0.00046008626794813434,
          -0.0015733314349474965,
          -0.0026865766019468587,
          -0.0037998217689461837
         ]
        },
        {
         "fill": "tonexty",
         "fillcolor": "rgba(0, 114, 178, 0.2)",
         "hoverinfo": "skip",
         "line": {
          "width": 0
         },
         "mode": "lines",
         "showlegend": false,
         "type": "scatter",
         "x": [
          "2020-10-01T01:00:00",
          "2020-10-01T02:00:00",
          "2020-10-01T03:00:00",
          "2020-10-01T05:00:00",
          "2020-10-01T11:00:00",
          "2020-10-01T13:00:00",
          "2020-10-01T14:00:00",
          "2020-10-01T15:00:00",
          "2020-10-01T16:00:00",
          "2020-10-01T17:00:00",
          "2020-10-01T18:00:00",
          "2020-10-01T19:00:00",
          "2020-10-01T20:00:00",
          "2020-10-01T21:00:00",
          "2020-10-01T22:00:00",
          "2020-10-01T23:00:00",
          "2020-10-02T00:00:00",
          "2020-10-02T02:00:00",
          "2020-10-02T03:00:00",
          "2020-10-02T04:00:00",
          "2020-10-02T05:00:00",
          "2020-10-02T07:00:00",
          "2020-10-02T12:00:00",
          "2020-10-02T14:00:00",
          "2020-10-02T15:00:00",
          "2020-10-02T16:00:00",
          "2020-10-02T17:00:00",
          "2020-10-02T18:00:00",
          "2020-10-02T19:00:00",
          "2020-10-02T20:00:00",
          "2020-10-02T21:00:00",
          "2020-10-02T22:00:00",
          "2020-10-03T00:00:00",
          "2020-10-03T01:00:00",
          "2020-10-03T02:00:00",
          "2020-10-03T13:00:00",
          "2020-10-03T15:00:00",
          "2020-10-03T16:00:00",
          "2020-10-03T18:00:00",
          "2020-10-03T19:00:00",
          "2020-10-03T20:00:00",
          "2020-10-03T21:00:00",
          "2020-10-03T22:00:00",
          "2020-10-04T12:00:00",
          "2020-10-04T13:00:00",
          "2020-10-04T16:00:00",
          "2020-10-04T20:00:00",
          "2020-10-04T22:00:00",
          "2020-10-05T00:00:00",
          "2020-10-05T04:00:00",
          "2020-10-05T09:00:00",
          "2020-10-05T13:00:00",
          "2020-10-05T14:00:00",
          "2020-10-05T15:00:00",
          "2020-10-05T16:00:00",
          "2020-10-05T17:00:00",
          "2020-10-05T18:00:00",
          "2020-10-05T19:00:00",
          "2020-10-05T20:00:00",
          "2020-10-05T22:00:00",
          "2020-10-05T23:00:00",
          "2020-10-06T01:00:00",
          "2020-10-06T02:00:00",
          "2020-10-06T03:00:00",
          "2020-10-06T06:00:00",
          "2020-10-06T13:00:00",
          "2020-10-06T14:00:00",
          "2020-10-06T16:00:00",
          "2020-10-06T17:00:00",
          "2020-10-06T18:00:00",
          "2020-10-06T19:00:00",
          "2020-10-06T20:00:00",
          "2020-10-06T21:00:00",
          "2020-10-06T22:00:00",
          "2020-10-06T23:00:00",
          "2020-10-07T00:00:00",
          "2020-10-07T01:00:00",
          "2020-10-07T02:00:00",
          "2020-10-07T03:00:00",
          "2020-10-07T10:00:00",
          "2020-10-07T12:00:00",
          "2020-10-07T14:00:00",
          "2020-10-07T15:00:00",
          "2020-10-07T16:00:00",
          "2020-10-07T17:00:00",
          "2020-10-07T18:00:00",
          "2020-10-07T19:00:00",
          "2020-10-07T20:00:00",
          "2020-10-07T21:00:00",
          "2020-10-07T22:00:00",
          "2020-10-07T23:00:00",
          "2020-10-08T00:00:00",
          "2020-10-08T01:00:00",
          "2020-10-08T02:00:00",
          "2020-10-08T03:00:00",
          "2020-10-08T04:00:00",
          "2020-10-08T05:00:00",
          "2020-10-08T06:00:00",
          "2020-10-08T07:00:00",
          "2020-10-08T08:00:00",
          "2020-10-08T09:00:00",
          "2020-10-08T10:00:00",
          "2020-10-08T11:00:00",
          "2020-10-08T12:00:00",
          "2020-10-08T13:00:00",
          "2020-10-08T14:00:00",
          "2020-10-08T15:00:00",
          "2020-10-08T16:00:00",
          "2020-10-08T17:00:00",
          "2020-10-08T18:00:00",
          "2020-10-08T19:00:00",
          "2020-10-08T20:00:00",
          "2020-10-08T21:00:00",
          "2020-10-08T22:00:00",
          "2020-10-08T23:00:00",
          "2020-10-09T00:00:00",
          "2020-10-09T01:00:00",
          "2020-10-09T02:00:00",
          "2020-10-09T03:00:00",
          "2020-10-09T04:00:00",
          "2020-10-09T05:00:00",
          "2020-10-09T06:00:00",
          "2020-10-09T09:00:00",
          "2020-10-09T10:00:00",
          "2020-10-09T11:00:00",
          "2020-10-09T12:00:00",
          "2020-10-09T13:00:00",
          "2020-10-09T14:00:00",
          "2020-10-09T15:00:00",
          "2020-10-09T16:00:00",
          "2020-10-09T17:00:00",
          "2020-10-09T18:00:00",
          "2020-10-09T19:00:00",
          "2020-10-09T20:00:00",
          "2020-10-09T21:00:00",
          "2020-10-09T22:00:00",
          "2020-10-09T23:00:00",
          "2020-10-10T00:00:00",
          "2020-10-10T01:00:00",
          "2020-10-10T02:00:00",
          "2020-10-10T03:00:00",
          "2020-10-10T04:00:00",
          "2020-10-10T05:00:00",
          "2020-10-10T07:00:00",
          "2020-10-10T08:00:00",
          "2020-10-10T11:00:00",
          "2020-10-10T12:00:00",
          "2020-10-10T13:00:00",
          "2020-10-10T14:00:00",
          "2020-10-10T15:00:00",
          "2020-10-10T16:00:00",
          "2020-10-10T17:00:00",
          "2020-10-10T18:00:00",
          "2020-10-10T19:00:00",
          "2020-10-10T20:00:00",
          "2020-10-10T21:00:00",
          "2020-10-10T22:00:00",
          "2020-10-10T23:00:00",
          "2020-10-11T00:00:00",
          "2020-10-11T01:00:00",
          "2020-10-11T02:00:00",
          "2020-10-11T03:00:00",
          "2020-10-11T04:00:00",
          "2020-10-11T05:00:00",
          "2020-10-11T07:00:00",
          "2020-10-11T09:00:00",
          "2020-10-11T12:00:00",
          "2020-10-11T13:00:00",
          "2020-10-11T14:00:00",
          "2020-10-11T15:00:00",
          "2020-10-11T16:00:00",
          "2020-10-11T17:00:00",
          "2020-10-11T18:00:00",
          "2020-10-11T19:00:00",
          "2020-10-11T20:00:00",
          "2020-10-11T21:00:00",
          "2020-10-11T22:00:00",
          "2020-10-11T23:00:00",
          "2020-10-12T00:00:00",
          "2020-10-12T01:00:00",
          "2020-10-12T03:00:00",
          "2020-10-12T12:00:00",
          "2020-10-12T13:00:00",
          "2020-10-12T14:00:00",
          "2020-10-12T15:00:00",
          "2020-10-12T16:00:00",
          "2020-10-12T17:00:00",
          "2020-10-12T18:00:00",
          "2020-10-12T19:00:00",
          "2020-10-12T20:00:00",
          "2020-10-12T21:00:00",
          "2020-10-12T22:00:00",
          "2020-10-12T23:00:00",
          "2020-10-13T00:00:00"
         ],
         "y": [
          -0.134882293075602,
          -0.1200148373077078,
          -0.15542648277150395,
          -0.14230722860974526,
          -0.13982685467604472,
          -0.1384511408988783,
          -0.12855231689735466,
          -0.13548433862161466,
          -0.14229367224170644,
          -0.12740783189796756,
          -0.12496725547883786,
          -0.132172813864755,
          -0.12011539290137543,
          -0.1203930280598824,
          -0.13133871566325261,
          -0.13135475082744344,
          -0.12297585748052267,
          -0.12308053484210268,
          -0.11469609394795818,
          -0.1281939242893731,
          -0.1097392413773663,
          -0.11730758061378502,
          -0.10691462590328371,
          -0.10265315216961489,
          -0.11375931720700433,
          -0.10504014127345222,
          -0.12722751968370646,
          -0.10848343536350687,
          -0.1160425889025101,
          -0.10739513290928937,
          -0.0944907166447477,
          -0.12082049182747172,
          -0.11960564755935071,
          -0.1019953551379475,
          -0.09343404029868815,
          -0.1005723560372682,
          -0.09318751020611249,
          -0.0822243119740598,
          -0.09268335468389363,
          -0.09136760226739449,
          -0.09951519827438524,
          -0.08238184557230221,
          -0.07445975897981229,
          -0.06800584645120437,
          -0.08911063302000458,
          -0.05513379498618852,
          -0.06965545155673813,
          -0.0650535067004627,
          -0.06570086359492344,
          -0.05971867492168695,
          -0.06119853139858056,
          -0.04895385487265075,
          -0.058144166464732944,
          -0.058528689022237346,
          -0.04901582956470836,
          -0.059771082995768623,
          -0.04525629413628028,
          -0.041432525716109905,
          -0.033953986993790194,
          -0.04719111063897463,
          -0.04265083761785782,
          -0.0623335959270116,
          -0.03468036302628147,
          -0.03184974628536588,
          -0.05746877458790163,
          -0.03575143471186101,
          -0.038761935488109245,
          -0.04221597491602079,
          -0.04989411268527817,
          -0.04571446889868863,
          -0.04163573251063414,
          -0.025468926396338493,
          -0.03218740526798054,
          -0.03036419691581628,
          -0.037091394229229094,
          -0.029590064096668298,
          -0.028406451996030813,
          -0.023906516548492532,
          -0.04490938656087726,
          -0.03250406705745998,
          -0.011466428982425628,
          -0.027628461884693353,
          -0.018898098440443586,
          -0.016683123942930436,
          -0.01250065845127496,
          -0.0267335848902856,
          -0.00759054405209908,
          -0.00829134634129787,
          -0.02961175052525103,
          -0.01806144992397679,
          -0.011311659914915465,
          -0.02192258885458881,
          -0.009014134462336093,
          -0.026776608222680118,
          -0.022608788479144257,
          -0.019254595135217184,
          -0.006578858965045897,
          -0.0022721213988985967,
          -0.01665835314660155,
          -0.01568559953914378,
          -0.006092294897608694,
          0.003513671741556215,
          -0.014401784009593493,
          -0.005582580116105268,
          -0.01593695845286522,
          -0.0201036174687073,
          -0.013157218569275625,
          -0.012558262229450695,
          -0.012972922629188852,
          -0.002571324614757106,
          -0.0364487742028279,
          -0.008711987098529841,
          -0.01204256331483848,
          0.0013706582135064732,
          -0.002732655815530366,
          -0.008243785392582234,
          -0.024295943629402614,
          -0.022006555896571134,
          -0.03790426050486982,
          -0.02116107962222044,
          -0.031244735578034935,
          -0.010824892671387865,
          -0.04350109237225275,
          -0.04325283277763797,
          -0.036677217154768266,
          -0.03255250018218385,
          -0.02797750037712153,
          -0.035278897248807284,
          -0.034437385508088225,
          -0.027434683991465883,
          -0.031193667734022212,
          -0.04995710582993519,
          -0.02985086027830594,
          -0.05540135998817372,
          -0.04743296205429552,
          -0.04288069753354075,
          -0.04803978157553479,
          -0.04463109632741964,
          -0.04348874503393975,
          -0.043227196458563696,
          -0.05641419892309224,
          -0.03781529766642529,
          -0.047549667239292756,
          -0.06769016728892428,
          -0.05775007297680787,
          -0.05469218882777496,
          -0.05558550125771923,
          -0.05499787440097109,
          -0.05949727413804687,
          -0.056988224086695814,
          -0.07565853047248623,
          -0.06936943628759282,
          -0.06095575805490011,
          -0.07569273292469368,
          -0.08341289868019441,
          -0.06457681208381336,
          -0.07440716347167035,
          -0.060735666249016454,
          -0.07144275024664881,
          -0.07542498593780717,
          -0.06645423387501437,
          -0.07977145852135936,
          -0.09572358106623971,
          -0.07630743703161026,
          -0.07353514243588796,
          -0.09777311883529483,
          -0.07765187843161139,
          -0.105184039576248,
          -0.08218748598835238,
          -0.07778671187447753,
          -0.09045287733454739,
          -0.08857707943773985,
          -0.10244197334247551,
          -0.10179017274747693,
          -0.0991323283381449,
          -0.09650497603292202,
          -0.09821954930925363,
          -0.11432706041462773,
          -0.09794266533227636,
          -0.11126355866953966,
          -0.10147749504625486,
          -0.11438718391012014,
          -0.10786074300813683,
          -0.11440239542867923,
          -0.12107232674793979,
          -0.10931756525067655,
          -0.11744632071406451,
          -0.12526243619093058,
          -0.11742733016597731,
          -0.12570616611030375,
          -0.1184984893689798,
          -0.12836471518507173,
          -0.13309161864174315,
          -0.130243611254966
         ]
        },
        {
         "line": {
          "color": "black",
          "width": 2
         },
         "mode": "lines",
         "name": "top2_hashtag_count",
         "type": "scatter",
         "x": [
          "2020-10-01T01:00:00",
          "2020-10-01T02:00:00",
          "2020-10-01T03:00:00",
          "2020-10-01T05:00:00",
          "2020-10-01T11:00:00",
          "2020-10-01T13:00:00",
          "2020-10-01T14:00:00",
          "2020-10-01T15:00:00",
          "2020-10-01T16:00:00",
          "2020-10-01T17:00:00",
          "2020-10-01T18:00:00",
          "2020-10-01T19:00:00",
          "2020-10-01T20:00:00",
          "2020-10-01T21:00:00",
          "2020-10-01T22:00:00",
          "2020-10-01T23:00:00",
          "2020-10-02T00:00:00",
          "2020-10-02T02:00:00",
          "2020-10-02T03:00:00",
          "2020-10-02T04:00:00",
          "2020-10-02T05:00:00",
          "2020-10-02T07:00:00",
          "2020-10-02T12:00:00",
          "2020-10-02T14:00:00",
          "2020-10-02T15:00:00",
          "2020-10-02T16:00:00",
          "2020-10-02T17:00:00",
          "2020-10-02T18:00:00",
          "2020-10-02T19:00:00",
          "2020-10-02T20:00:00",
          "2020-10-02T21:00:00",
          "2020-10-02T22:00:00",
          "2020-10-03T00:00:00",
          "2020-10-03T01:00:00",
          "2020-10-03T02:00:00",
          "2020-10-03T13:00:00",
          "2020-10-03T15:00:00",
          "2020-10-03T16:00:00",
          "2020-10-03T18:00:00",
          "2020-10-03T19:00:00",
          "2020-10-03T20:00:00",
          "2020-10-03T21:00:00",
          "2020-10-03T22:00:00",
          "2020-10-04T12:00:00",
          "2020-10-04T13:00:00",
          "2020-10-04T16:00:00",
          "2020-10-04T20:00:00",
          "2020-10-04T22:00:00",
          "2020-10-05T00:00:00",
          "2020-10-05T04:00:00",
          "2020-10-05T09:00:00",
          "2020-10-05T13:00:00",
          "2020-10-05T14:00:00",
          "2020-10-05T15:00:00",
          "2020-10-05T16:00:00",
          "2020-10-05T17:00:00",
          "2020-10-05T18:00:00",
          "2020-10-05T19:00:00",
          "2020-10-05T20:00:00",
          "2020-10-05T22:00:00",
          "2020-10-05T23:00:00",
          "2020-10-06T01:00:00",
          "2020-10-06T02:00:00",
          "2020-10-06T03:00:00",
          "2020-10-06T06:00:00",
          "2020-10-06T13:00:00",
          "2020-10-06T14:00:00",
          "2020-10-06T16:00:00",
          "2020-10-06T17:00:00",
          "2020-10-06T18:00:00",
          "2020-10-06T19:00:00",
          "2020-10-06T20:00:00",
          "2020-10-06T21:00:00",
          "2020-10-06T22:00:00",
          "2020-10-06T23:00:00",
          "2020-10-07T00:00:00",
          "2020-10-07T01:00:00",
          "2020-10-07T02:00:00",
          "2020-10-07T03:00:00",
          "2020-10-07T10:00:00",
          "2020-10-07T12:00:00",
          "2020-10-07T14:00:00",
          "2020-10-07T15:00:00",
          "2020-10-07T16:00:00",
          "2020-10-07T17:00:00",
          "2020-10-07T18:00:00",
          "2020-10-07T19:00:00",
          "2020-10-07T20:00:00",
          "2020-10-07T21:00:00",
          "2020-10-07T22:00:00",
          "2020-10-07T23:00:00",
          "2020-10-08T00:00:00",
          "2020-10-08T01:00:00",
          "2020-10-08T02:00:00",
          "2020-10-08T03:00:00",
          "2020-10-08T04:00:00",
          "2020-10-08T05:00:00",
          "2020-10-08T06:00:00",
          "2020-10-08T07:00:00",
          "2020-10-08T08:00:00",
          "2020-10-08T09:00:00",
          "2020-10-08T10:00:00",
          "2020-10-08T11:00:00",
          "2020-10-08T12:00:00",
          "2020-10-08T13:00:00",
          "2020-10-08T14:00:00",
          "2020-10-08T15:00:00",
          "2020-10-08T16:00:00",
          "2020-10-08T17:00:00",
          "2020-10-08T18:00:00",
          "2020-10-08T19:00:00",
          "2020-10-08T20:00:00",
          "2020-10-08T21:00:00",
          "2020-10-08T22:00:00",
          "2020-10-08T23:00:00",
          "2020-10-09T00:00:00",
          "2020-10-09T01:00:00",
          "2020-10-09T02:00:00",
          "2020-10-09T03:00:00",
          "2020-10-09T04:00:00",
          "2020-10-09T05:00:00",
          "2020-10-09T06:00:00",
          "2020-10-09T09:00:00",
          "2020-10-09T10:00:00",
          "2020-10-09T11:00:00",
          "2020-10-09T12:00:00",
          "2020-10-09T13:00:00",
          "2020-10-09T14:00:00",
          "2020-10-09T15:00:00",
          "2020-10-09T16:00:00",
          "2020-10-09T17:00:00",
          "2020-10-09T18:00:00",
          "2020-10-09T19:00:00",
          "2020-10-09T20:00:00",
          "2020-10-09T21:00:00",
          "2020-10-09T22:00:00",
          "2020-10-09T23:00:00",
          "2020-10-10T00:00:00",
          "2020-10-10T01:00:00",
          "2020-10-10T02:00:00",
          "2020-10-10T03:00:00",
          "2020-10-10T04:00:00",
          "2020-10-10T05:00:00",
          "2020-10-10T07:00:00",
          "2020-10-10T08:00:00",
          "2020-10-10T11:00:00",
          "2020-10-10T12:00:00",
          "2020-10-10T13:00:00",
          "2020-10-10T14:00:00",
          "2020-10-10T15:00:00",
          "2020-10-10T16:00:00",
          "2020-10-10T17:00:00",
          "2020-10-10T18:00:00",
          "2020-10-10T19:00:00",
          "2020-10-10T20:00:00",
          "2020-10-10T21:00:00",
          "2020-10-10T22:00:00",
          "2020-10-10T23:00:00",
          "2020-10-11T00:00:00",
          "2020-10-11T01:00:00",
          "2020-10-11T02:00:00",
          "2020-10-11T03:00:00",
          "2020-10-11T04:00:00",
          "2020-10-11T05:00:00",
          "2020-10-11T07:00:00",
          "2020-10-11T09:00:00",
          "2020-10-11T12:00:00",
          "2020-10-11T13:00:00",
          "2020-10-11T14:00:00",
          "2020-10-11T15:00:00",
          "2020-10-11T16:00:00",
          "2020-10-11T17:00:00",
          "2020-10-11T18:00:00",
          "2020-10-11T19:00:00",
          "2020-10-11T20:00:00",
          "2020-10-11T21:00:00",
          "2020-10-11T22:00:00",
          "2020-10-11T23:00:00",
          "2020-10-12T00:00:00",
          "2020-10-12T01:00:00",
          "2020-10-12T03:00:00",
          "2020-10-12T12:00:00",
          "2020-10-12T13:00:00",
          "2020-10-12T14:00:00",
          "2020-10-12T15:00:00",
          "2020-10-12T16:00:00",
          "2020-10-12T17:00:00",
          "2020-10-12T18:00:00",
          "2020-10-12T19:00:00",
          "2020-10-12T20:00:00",
          "2020-10-12T21:00:00",
          "2020-10-12T22:00:00",
          "2020-10-12T23:00:00",
          "2020-10-13T00:00:00"
         ],
         "y": [
          0,
          0,
          0,
          0,
          0,
          0,
          0,
          0,
          0,
          0,
          0,
          0,
          0,
          0,
          0,
          0,
          0,
          0,
          0,
          0,
          0,
          0,
          0,
          0,
          0,
          0,
          0,
          0,
          0,
          0,
          0,
          0,
          0,
          0,
          0,
          0,
          0,
          0,
          0,
          0,
          0,
          0,
          0,
          0,
          0,
          0,
          0,
          0,
          0,
          0,
          0,
          0,
          0,
          0,
          0,
          0,
          0,
          0,
          0,
          0,
          0,
          0,
          0,
          0,
          0,
          0,
          0,
          0,
          0,
          0,
          0,
          0,
          0,
          0,
          0,
          0,
          0,
          0,
          0,
          0,
          0,
          0,
          0,
          0,
          0,
          0,
          0,
          0,
          0,
          0,
          0.3333333333333333,
          0.6666666666666666,
          1.3333333333333333,
          1,
          0.6666666666666666,
          0.3333333333333333,
          0.6666666666666666,
          0.6666666666666666,
          0.3333333333333333,
          0,
          0,
          0,
          0,
          0.3333333333333333,
          0.6666666666666666,
          1,
          0.6666666666666666,
          0.3333333333333333,
          0,
          0,
          0,
          0.3333333333333333,
          0.3333333333333333,
          0.3333333333333333,
          0,
          0,
          0,
          0,
          0.3333333333333333,
          0.3333333333333333,
          0.3333333333333333,
          0,
          0,
          0,
          0,
          0,
          0,
          0,
          0,
          0,
          0,
          0,
          0,
          0,
          0,
          0,
          0,
          0,
          0,
          0,
          0,
          0,
          0,
          0,
          0,
          0,
          0,
          0,
          0,
          0,
          0,
          0,
          0,
          0,
          0,
          0,
          0,
          0,
          0,
          0,
          0,
          0,
          0,
          0,
          0,
          0,
          0,
          0,
          0,
          0,
          0,
          0,
          0,
          0,
          0,
          0,
          0,
          0,
          0,
          0,
          0,
          0,
          0,
          0,
          0,
          0,
          0,
          0,
          0,
          0,
          0,
          0,
          0,
          0
         ]
        },
        {
         "line": {
          "color": "red",
          "width": 2
         },
         "mode": "lines",
         "name": "Anomaly Score",
         "type": "scatter",
         "x": [
          "2020-10-01T01:00:00",
          "2020-10-01T02:00:00",
          "2020-10-01T03:00:00",
          "2020-10-01T05:00:00",
          "2020-10-01T11:00:00",
          "2020-10-01T13:00:00",
          "2020-10-01T14:00:00",
          "2020-10-01T15:00:00",
          "2020-10-01T16:00:00",
          "2020-10-01T17:00:00",
          "2020-10-01T18:00:00",
          "2020-10-01T19:00:00",
          "2020-10-01T20:00:00",
          "2020-10-01T21:00:00",
          "2020-10-01T22:00:00",
          "2020-10-01T23:00:00",
          "2020-10-02T00:00:00",
          "2020-10-02T02:00:00",
          "2020-10-02T03:00:00",
          "2020-10-02T04:00:00",
          "2020-10-02T05:00:00",
          "2020-10-02T07:00:00",
          "2020-10-02T12:00:00",
          "2020-10-02T14:00:00",
          "2020-10-02T15:00:00",
          "2020-10-02T16:00:00",
          "2020-10-02T17:00:00",
          "2020-10-02T18:00:00",
          "2020-10-02T19:00:00",
          "2020-10-02T20:00:00",
          "2020-10-02T21:00:00",
          "2020-10-02T22:00:00",
          "2020-10-03T00:00:00",
          "2020-10-03T01:00:00",
          "2020-10-03T02:00:00",
          "2020-10-03T13:00:00",
          "2020-10-03T15:00:00",
          "2020-10-03T16:00:00",
          "2020-10-03T18:00:00",
          "2020-10-03T19:00:00",
          "2020-10-03T20:00:00",
          "2020-10-03T21:00:00",
          "2020-10-03T22:00:00",
          "2020-10-04T12:00:00",
          "2020-10-04T13:00:00",
          "2020-10-04T16:00:00",
          "2020-10-04T20:00:00",
          "2020-10-04T22:00:00",
          "2020-10-05T00:00:00",
          "2020-10-05T04:00:00",
          "2020-10-05T09:00:00",
          "2020-10-05T13:00:00",
          "2020-10-05T14:00:00",
          "2020-10-05T15:00:00",
          "2020-10-05T16:00:00",
          "2020-10-05T17:00:00",
          "2020-10-05T18:00:00",
          "2020-10-05T19:00:00",
          "2020-10-05T20:00:00",
          "2020-10-05T22:00:00",
          "2020-10-05T23:00:00",
          "2020-10-06T01:00:00",
          "2020-10-06T02:00:00",
          "2020-10-06T03:00:00",
          "2020-10-06T06:00:00",
          "2020-10-06T13:00:00",
          "2020-10-06T14:00:00",
          "2020-10-06T16:00:00",
          "2020-10-06T17:00:00",
          "2020-10-06T18:00:00",
          "2020-10-06T19:00:00",
          "2020-10-06T20:00:00",
          "2020-10-06T21:00:00",
          "2020-10-06T22:00:00",
          "2020-10-06T23:00:00",
          "2020-10-07T00:00:00",
          "2020-10-07T01:00:00",
          "2020-10-07T02:00:00",
          "2020-10-07T03:00:00",
          "2020-10-07T10:00:00",
          "2020-10-07T12:00:00",
          "2020-10-07T14:00:00",
          "2020-10-07T15:00:00",
          "2020-10-07T16:00:00",
          "2020-10-07T17:00:00",
          "2020-10-07T18:00:00",
          "2020-10-07T19:00:00",
          "2020-10-07T20:00:00",
          "2020-10-07T21:00:00",
          "2020-10-07T22:00:00",
          "2020-10-07T23:00:00",
          "2020-10-08T00:00:00",
          "2020-10-08T01:00:00",
          "2020-10-08T02:00:00",
          "2020-10-08T03:00:00",
          "2020-10-08T04:00:00",
          "2020-10-08T05:00:00",
          "2020-10-08T06:00:00",
          "2020-10-08T07:00:00",
          "2020-10-08T08:00:00",
          "2020-10-08T09:00:00",
          "2020-10-08T10:00:00",
          "2020-10-08T11:00:00",
          "2020-10-08T12:00:00",
          "2020-10-08T13:00:00",
          "2020-10-08T14:00:00",
          "2020-10-08T15:00:00",
          "2020-10-08T16:00:00",
          "2020-10-08T17:00:00",
          "2020-10-08T18:00:00",
          "2020-10-08T19:00:00",
          "2020-10-08T20:00:00",
          "2020-10-08T21:00:00",
          "2020-10-08T22:00:00",
          "2020-10-08T23:00:00",
          "2020-10-09T00:00:00",
          "2020-10-09T01:00:00",
          "2020-10-09T02:00:00",
          "2020-10-09T03:00:00",
          "2020-10-09T04:00:00",
          "2020-10-09T05:00:00",
          "2020-10-09T06:00:00",
          "2020-10-09T09:00:00",
          "2020-10-09T10:00:00",
          "2020-10-09T11:00:00",
          "2020-10-09T12:00:00",
          "2020-10-09T13:00:00",
          "2020-10-09T14:00:00",
          "2020-10-09T15:00:00",
          "2020-10-09T16:00:00",
          "2020-10-09T17:00:00",
          "2020-10-09T18:00:00",
          "2020-10-09T19:00:00",
          "2020-10-09T20:00:00",
          "2020-10-09T21:00:00",
          "2020-10-09T22:00:00",
          "2020-10-09T23:00:00",
          "2020-10-10T00:00:00",
          "2020-10-10T01:00:00",
          "2020-10-10T02:00:00",
          "2020-10-10T03:00:00",
          "2020-10-10T04:00:00",
          "2020-10-10T05:00:00",
          "2020-10-10T07:00:00",
          "2020-10-10T08:00:00",
          "2020-10-10T11:00:00",
          "2020-10-10T12:00:00",
          "2020-10-10T13:00:00",
          "2020-10-10T14:00:00",
          "2020-10-10T15:00:00",
          "2020-10-10T16:00:00",
          "2020-10-10T17:00:00",
          "2020-10-10T18:00:00",
          "2020-10-10T19:00:00",
          "2020-10-10T20:00:00",
          "2020-10-10T21:00:00",
          "2020-10-10T22:00:00",
          "2020-10-10T23:00:00",
          "2020-10-11T00:00:00",
          "2020-10-11T01:00:00",
          "2020-10-11T02:00:00",
          "2020-10-11T03:00:00",
          "2020-10-11T04:00:00",
          "2020-10-11T05:00:00",
          "2020-10-11T07:00:00",
          "2020-10-11T09:00:00",
          "2020-10-11T12:00:00",
          "2020-10-11T13:00:00",
          "2020-10-11T14:00:00",
          "2020-10-11T15:00:00",
          "2020-10-11T16:00:00",
          "2020-10-11T17:00:00",
          "2020-10-11T18:00:00",
          "2020-10-11T19:00:00",
          "2020-10-11T20:00:00",
          "2020-10-11T21:00:00",
          "2020-10-11T22:00:00",
          "2020-10-11T23:00:00",
          "2020-10-12T00:00:00",
          "2020-10-12T01:00:00",
          "2020-10-12T03:00:00",
          "2020-10-12T12:00:00",
          "2020-10-12T13:00:00",
          "2020-10-12T14:00:00",
          "2020-10-12T15:00:00",
          "2020-10-12T16:00:00",
          "2020-10-12T17:00:00",
          "2020-10-12T18:00:00",
          "2020-10-12T19:00:00",
          "2020-10-12T20:00:00",
          "2020-10-12T21:00:00",
          "2020-10-12T22:00:00",
          "2020-10-12T23:00:00",
          "2020-10-13T00:00:00"
         ],
         "xaxis": "x",
         "y": [
          0,
          0,
          0,
          0,
          0,
          0,
          0,
          0,
          0,
          0,
          0,
          0,
          0,
          0,
          0,
          0,
          0,
          0,
          0,
          0,
          0,
          0,
          0,
          0,
          0,
          0,
          0,
          0,
          0,
          0,
          0,
          0,
          0,
          0,
          0,
          0,
          0,
          0,
          0,
          0,
          0,
          0,
          0,
          -0.5258930281523337,
          -0.5238580757786429,
          -0.5670050776347552,
          -0.6022905874928555,
          -0.632330725075734,
          -0.6314060394917504,
          -0.6940416171397371,
          -0.7040349618496765,
          -0.7376873087820933,
          -0.7458129873025713,
          -0.7245015196766982,
          -0.7823716046306058,
          -0.8040348408842043,
          -0.7818087914534881,
          -0.8091288440656981,
          -0.835750091963062,
          -0.8586461239670986,
          -0.7801805542580604,
          -0.8367090312426232,
          -0.8621977552476883,
          -0.9295849495438936,
          -0.8701444669587752,
          -0.9549014212218508,
          -0.9736984059281542,
          -0.9804033704402372,
          -0.9899591177498763,
          -0.9999038910868618,
          -1.04088221837676,
          -1.0908717530320242,
          -1.0816711738205034,
          -1.100513173848623,
          -1.1383547574037831,
          -1.1537998507668128,
          -1.1820992842570657,
          -1.3181688787710046,
          -1.2183300181705872,
          -1.2949250609907539,
          -1.3796116849258926,
          -1.441697633326464,
          -1.4261522322742137,
          -1.430557063552718,
          -1.4744707972015403,
          -1.4547042867213185,
          -1.501475883284267,
          -1.4784433087199824,
          -1.4509359400021973,
          -1.4919398896850011,
          1.8686165979720657,
          2.4921249322212744,
          3.7082703176524556,
          3.1857064556464034,
          2.4904046508651647,
          1.8713434507066602,
          2.493414590944468,
          2.5381874499338544,
          1.8708761683729487,
          -1.4744709227237083,
          -1.5149000853502468,
          -1.5273403920707374,
          -1.4982921085531324,
          1.8728652284001852,
          2.4855038105477485,
          3.1131613145737433,
          2.5009179245346833,
          1.872685060061026,
          -1.4923785330780812,
          -1.460041561557518,
          -1.3958354076634367,
          1.8822735700134003,
          1.8836559710312948,
          1.8821640638661619,
          -1.4201612864320454,
          -1.2777483504940605,
          -1.3496968085700156,
          -1.4105689728313817,
          1.8887600325946794,
          1.877355270600311,
          1.8913461910521454,
          -1.2158774207824594,
          -1.12587457020039,
          -1.1780220287162821,
          -1.130360238400193,
          -1.0255650370398663,
          -1.0702034266450147,
          -1.0591253243015832,
          -0.9937331399591145,
          -0.9827242104946861,
          -0.9872362407360469,
          -0.9264243486885547,
          -0.9265400163080622,
          -0.901491704312645,
          -0.9405154990293182,
          -0.8929256340264727,
          -0.9100137717543646,
          -0.8750918738617904,
          -0.8572599789384736,
          -0.8892528841635043,
          -0.8104492013829776,
          -0.8383533689678916,
          -0.7812508334388955,
          -0.7448380360548016,
          -0.7241110802158134,
          -0.7314457440420752,
          -0.7229998574902122,
          -0.7063929695520926,
          -0.6789027894571652,
          -0.6740163713172013,
          -0.6573374522014143,
          -0.6339588898961613,
          -0.6352194262648068,
          -0.6109720600747957,
          -0.5814053679702123,
          -0.5975947150874995,
          -0.5701594741869312,
          -0.5798056092849571,
          -0.5539913777085425,
          -0.5248387207631966,
          -0.5603093941241277,
          0,
          0,
          0,
          0,
          0,
          0,
          0,
          0,
          0,
          0,
          0,
          0,
          0,
          0,
          0,
          0,
          0,
          0,
          0,
          0,
          0,
          0,
          0,
          0,
          0,
          0,
          0,
          0,
          0,
          0,
          0,
          0,
          0
         ],
         "yaxis": "y2"
        }
       ],
       "layout": {
        "height": 600,
        "shapes": [
         {
          "fillcolor": "#e07070",
          "line": {
           "width": 0
          },
          "opacity": 0.4,
          "type": "rect",
          "x0": "2020-10-04T12:00:00",
          "x1": "2020-10-04T13:00:00",
          "xref": "x",
          "y0": 0,
          "y1": 1,
          "yref": "y domain"
         },
         {
          "fillcolor": "#e07070",
          "line": {
           "width": 0
          },
          "opacity": 0.4,
          "type": "rect",
          "x0": "2020-10-04T13:00:00",
          "x1": "2020-10-04T16:00:00",
          "xref": "x",
          "y0": 0,
          "y1": 1,
          "yref": "y domain"
         },
         {
          "fillcolor": "#e07070",
          "line": {
           "width": 0
          },
          "opacity": 0.4,
          "type": "rect",
          "x0": "2020-10-04T16:00:00",
          "x1": "2020-10-04T20:00:00",
          "xref": "x",
          "y0": 0,
          "y1": 1,
          "yref": "y domain"
         },
         {
          "fillcolor": "#e07070",
          "line": {
           "width": 0
          },
          "opacity": 0.4,
          "type": "rect",
          "x0": "2020-10-04T20:00:00",
          "x1": "2020-10-04T22:00:00",
          "xref": "x",
          "y0": 0,
          "y1": 1,
          "yref": "y domain"
         },
         {
          "fillcolor": "#e07070",
          "line": {
           "width": 0
          },
          "opacity": 0.4,
          "type": "rect",
          "x0": "2020-10-04T22:00:00",
          "x1": "2020-10-05T00:00:00",
          "xref": "x",
          "y0": 0,
          "y1": 1,
          "yref": "y domain"
         },
         {
          "fillcolor": "#e07070",
          "line": {
           "width": 0
          },
          "opacity": 0.4,
          "type": "rect",
          "x0": "2020-10-05T00:00:00",
          "x1": "2020-10-05T04:00:00",
          "xref": "x",
          "y0": 0,
          "y1": 1,
          "yref": "y domain"
         },
         {
          "fillcolor": "#e07070",
          "line": {
           "width": 0
          },
          "opacity": 0.4,
          "type": "rect",
          "x0": "2020-10-05T04:00:00",
          "x1": "2020-10-05T09:00:00",
          "xref": "x",
          "y0": 0,
          "y1": 1,
          "yref": "y domain"
         },
         {
          "fillcolor": "#e07070",
          "line": {
           "width": 0
          },
          "opacity": 0.4,
          "type": "rect",
          "x0": "2020-10-05T09:00:00",
          "x1": "2020-10-05T13:00:00",
          "xref": "x",
          "y0": 0,
          "y1": 1,
          "yref": "y domain"
         },
         {
          "fillcolor": "#e07070",
          "line": {
           "width": 0
          },
          "opacity": 0.4,
          "type": "rect",
          "x0": "2020-10-05T13:00:00",
          "x1": "2020-10-05T14:00:00",
          "xref": "x",
          "y0": 0,
          "y1": 1,
          "yref": "y domain"
         },
         {
          "fillcolor": "#e07070",
          "line": {
           "width": 0
          },
          "opacity": 0.4,
          "type": "rect",
          "x0": "2020-10-05T14:00:00",
          "x1": "2020-10-05T15:00:00",
          "xref": "x",
          "y0": 0,
          "y1": 1,
          "yref": "y domain"
         },
         {
          "fillcolor": "#e07070",
          "line": {
           "width": 0
          },
          "opacity": 0.4,
          "type": "rect",
          "x0": "2020-10-05T15:00:00",
          "x1": "2020-10-05T16:00:00",
          "xref": "x",
          "y0": 0,
          "y1": 1,
          "yref": "y domain"
         },
         {
          "fillcolor": "#e07070",
          "line": {
           "width": 0
          },
          "opacity": 0.4,
          "type": "rect",
          "x0": "2020-10-05T16:00:00",
          "x1": "2020-10-05T17:00:00",
          "xref": "x",
          "y0": 0,
          "y1": 1,
          "yref": "y domain"
         },
         {
          "fillcolor": "#e07070",
          "line": {
           "width": 0
          },
          "opacity": 0.4,
          "type": "rect",
          "x0": "2020-10-05T17:00:00",
          "x1": "2020-10-05T18:00:00",
          "xref": "x",
          "y0": 0,
          "y1": 1,
          "yref": "y domain"
         },
         {
          "fillcolor": "#e07070",
          "line": {
           "width": 0
          },
          "opacity": 0.4,
          "type": "rect",
          "x0": "2020-10-05T18:00:00",
          "x1": "2020-10-05T19:00:00",
          "xref": "x",
          "y0": 0,
          "y1": 1,
          "yref": "y domain"
         },
         {
          "fillcolor": "#e07070",
          "line": {
           "width": 0
          },
          "opacity": 0.4,
          "type": "rect",
          "x0": "2020-10-05T19:00:00",
          "x1": "2020-10-05T20:00:00",
          "xref": "x",
          "y0": 0,
          "y1": 1,
          "yref": "y domain"
         },
         {
          "fillcolor": "#e07070",
          "line": {
           "width": 0
          },
          "opacity": 0.4,
          "type": "rect",
          "x0": "2020-10-05T20:00:00",
          "x1": "2020-10-05T22:00:00",
          "xref": "x",
          "y0": 0,
          "y1": 1,
          "yref": "y domain"
         },
         {
          "fillcolor": "#e07070",
          "line": {
           "width": 0
          },
          "opacity": 0.4,
          "type": "rect",
          "x0": "2020-10-05T22:00:00",
          "x1": "2020-10-05T23:00:00",
          "xref": "x",
          "y0": 0,
          "y1": 1,
          "yref": "y domain"
         },
         {
          "fillcolor": "#e07070",
          "line": {
           "width": 0
          },
          "opacity": 0.4,
          "type": "rect",
          "x0": "2020-10-05T23:00:00",
          "x1": "2020-10-06T01:00:00",
          "xref": "x",
          "y0": 0,
          "y1": 1,
          "yref": "y domain"
         },
         {
          "fillcolor": "#e07070",
          "line": {
           "width": 0
          },
          "opacity": 0.4,
          "type": "rect",
          "x0": "2020-10-06T01:00:00",
          "x1": "2020-10-06T02:00:00",
          "xref": "x",
          "y0": 0,
          "y1": 1,
          "yref": "y domain"
         },
         {
          "fillcolor": "#e07070",
          "line": {
           "width": 0
          },
          "opacity": 0.4,
          "type": "rect",
          "x0": "2020-10-06T02:00:00",
          "x1": "2020-10-06T03:00:00",
          "xref": "x",
          "y0": 0,
          "y1": 1,
          "yref": "y domain"
         },
         {
          "fillcolor": "#e07070",
          "line": {
           "width": 0
          },
          "opacity": 0.4,
          "type": "rect",
          "x0": "2020-10-06T03:00:00",
          "x1": "2020-10-06T06:00:00",
          "xref": "x",
          "y0": 0,
          "y1": 1,
          "yref": "y domain"
         },
         {
          "fillcolor": "#e07070",
          "line": {
           "width": 0
          },
          "opacity": 0.4,
          "type": "rect",
          "x0": "2020-10-06T06:00:00",
          "x1": "2020-10-06T13:00:00",
          "xref": "x",
          "y0": 0,
          "y1": 1,
          "yref": "y domain"
         },
         {
          "fillcolor": "#e07070",
          "line": {
           "width": 0
          },
          "opacity": 0.4,
          "type": "rect",
          "x0": "2020-10-06T13:00:00",
          "x1": "2020-10-06T14:00:00",
          "xref": "x",
          "y0": 0,
          "y1": 1,
          "yref": "y domain"
         },
         {
          "fillcolor": "#e07070",
          "line": {
           "width": 0
          },
          "opacity": 0.4,
          "type": "rect",
          "x0": "2020-10-06T14:00:00",
          "x1": "2020-10-06T16:00:00",
          "xref": "x",
          "y0": 0,
          "y1": 1,
          "yref": "y domain"
         },
         {
          "fillcolor": "#e07070",
          "line": {
           "width": 0
          },
          "opacity": 0.4,
          "type": "rect",
          "x0": "2020-10-06T16:00:00",
          "x1": "2020-10-06T17:00:00",
          "xref": "x",
          "y0": 0,
          "y1": 1,
          "yref": "y domain"
         },
         {
          "fillcolor": "#e07070",
          "line": {
           "width": 0
          },
          "opacity": 0.4,
          "type": "rect",
          "x0": "2020-10-06T17:00:00",
          "x1": "2020-10-06T18:00:00",
          "xref": "x",
          "y0": 0,
          "y1": 1,
          "yref": "y domain"
         },
         {
          "fillcolor": "#e07070",
          "line": {
           "width": 0
          },
          "opacity": 0.4,
          "type": "rect",
          "x0": "2020-10-06T18:00:00",
          "x1": "2020-10-06T19:00:00",
          "xref": "x",
          "y0": 0,
          "y1": 1,
          "yref": "y domain"
         },
         {
          "fillcolor": "#e07070",
          "line": {
           "width": 0
          },
          "opacity": 0.4,
          "type": "rect",
          "x0": "2020-10-06T19:00:00",
          "x1": "2020-10-06T20:00:00",
          "xref": "x",
          "y0": 0,
          "y1": 1,
          "yref": "y domain"
         },
         {
          "fillcolor": "#e07070",
          "line": {
           "width": 0
          },
          "opacity": 0.4,
          "type": "rect",
          "x0": "2020-10-06T20:00:00",
          "x1": "2020-10-06T21:00:00",
          "xref": "x",
          "y0": 0,
          "y1": 1,
          "yref": "y domain"
         },
         {
          "fillcolor": "#e07070",
          "line": {
           "width": 0
          },
          "opacity": 0.4,
          "type": "rect",
          "x0": "2020-10-06T21:00:00",
          "x1": "2020-10-06T22:00:00",
          "xref": "x",
          "y0": 0,
          "y1": 1,
          "yref": "y domain"
         },
         {
          "fillcolor": "#e07070",
          "line": {
           "width": 0
          },
          "opacity": 0.4,
          "type": "rect",
          "x0": "2020-10-06T22:00:00",
          "x1": "2020-10-06T23:00:00",
          "xref": "x",
          "y0": 0,
          "y1": 1,
          "yref": "y domain"
         },
         {
          "fillcolor": "#e07070",
          "line": {
           "width": 0
          },
          "opacity": 0.4,
          "type": "rect",
          "x0": "2020-10-06T23:00:00",
          "x1": "2020-10-07T00:00:00",
          "xref": "x",
          "y0": 0,
          "y1": 1,
          "yref": "y domain"
         },
         {
          "fillcolor": "#e07070",
          "line": {
           "width": 0
          },
          "opacity": 0.4,
          "type": "rect",
          "x0": "2020-10-07T00:00:00",
          "x1": "2020-10-07T01:00:00",
          "xref": "x",
          "y0": 0,
          "y1": 1,
          "yref": "y domain"
         },
         {
          "fillcolor": "#e07070",
          "line": {
           "width": 0
          },
          "opacity": 0.4,
          "type": "rect",
          "x0": "2020-10-07T01:00:00",
          "x1": "2020-10-07T02:00:00",
          "xref": "x",
          "y0": 0,
          "y1": 1,
          "yref": "y domain"
         },
         {
          "fillcolor": "#e07070",
          "line": {
           "width": 0
          },
          "opacity": 0.4,
          "type": "rect",
          "x0": "2020-10-07T02:00:00",
          "x1": "2020-10-07T03:00:00",
          "xref": "x",
          "y0": 0,
          "y1": 1,
          "yref": "y domain"
         },
         {
          "fillcolor": "#e07070",
          "line": {
           "width": 0
          },
          "opacity": 0.4,
          "type": "rect",
          "x0": "2020-10-07T03:00:00",
          "x1": "2020-10-07T10:00:00",
          "xref": "x",
          "y0": 0,
          "y1": 1,
          "yref": "y domain"
         },
         {
          "fillcolor": "#e07070",
          "line": {
           "width": 0
          },
          "opacity": 0.4,
          "type": "rect",
          "x0": "2020-10-07T10:00:00",
          "x1": "2020-10-07T12:00:00",
          "xref": "x",
          "y0": 0,
          "y1": 1,
          "yref": "y domain"
         },
         {
          "fillcolor": "#e07070",
          "line": {
           "width": 0
          },
          "opacity": 0.4,
          "type": "rect",
          "x0": "2020-10-07T12:00:00",
          "x1": "2020-10-07T14:00:00",
          "xref": "x",
          "y0": 0,
          "y1": 1,
          "yref": "y domain"
         },
         {
          "fillcolor": "#e07070",
          "line": {
           "width": 0
          },
          "opacity": 0.4,
          "type": "rect",
          "x0": "2020-10-07T14:00:00",
          "x1": "2020-10-07T15:00:00",
          "xref": "x",
          "y0": 0,
          "y1": 1,
          "yref": "y domain"
         },
         {
          "fillcolor": "#e07070",
          "line": {
           "width": 0
          },
          "opacity": 0.4,
          "type": "rect",
          "x0": "2020-10-07T15:00:00",
          "x1": "2020-10-07T16:00:00",
          "xref": "x",
          "y0": 0,
          "y1": 1,
          "yref": "y domain"
         },
         {
          "fillcolor": "#e07070",
          "line": {
           "width": 0
          },
          "opacity": 0.4,
          "type": "rect",
          "x0": "2020-10-07T16:00:00",
          "x1": "2020-10-07T17:00:00",
          "xref": "x",
          "y0": 0,
          "y1": 1,
          "yref": "y domain"
         },
         {
          "fillcolor": "#e07070",
          "line": {
           "width": 0
          },
          "opacity": 0.4,
          "type": "rect",
          "x0": "2020-10-07T17:00:00",
          "x1": "2020-10-07T18:00:00",
          "xref": "x",
          "y0": 0,
          "y1": 1,
          "yref": "y domain"
         },
         {
          "fillcolor": "#e07070",
          "line": {
           "width": 0
          },
          "opacity": 0.4,
          "type": "rect",
          "x0": "2020-10-07T18:00:00",
          "x1": "2020-10-07T19:00:00",
          "xref": "x",
          "y0": 0,
          "y1": 1,
          "yref": "y domain"
         },
         {
          "fillcolor": "#e07070",
          "line": {
           "width": 0
          },
          "opacity": 0.4,
          "type": "rect",
          "x0": "2020-10-07T19:00:00",
          "x1": "2020-10-07T20:00:00",
          "xref": "x",
          "y0": 0,
          "y1": 1,
          "yref": "y domain"
         },
         {
          "fillcolor": "#e07070",
          "line": {
           "width": 0
          },
          "opacity": 0.4,
          "type": "rect",
          "x0": "2020-10-07T20:00:00",
          "x1": "2020-10-07T21:00:00",
          "xref": "x",
          "y0": 0,
          "y1": 1,
          "yref": "y domain"
         },
         {
          "fillcolor": "#e07070",
          "line": {
           "width": 0
          },
          "opacity": 0.4,
          "type": "rect",
          "x0": "2020-10-07T21:00:00",
          "x1": "2020-10-07T22:00:00",
          "xref": "x",
          "y0": 0,
          "y1": 1,
          "yref": "y domain"
         },
         {
          "fillcolor": "#e07070",
          "line": {
           "width": 0
          },
          "opacity": 0.4,
          "type": "rect",
          "x0": "2020-10-07T22:00:00",
          "x1": "2020-10-07T23:00:00",
          "xref": "x",
          "y0": 0,
          "y1": 1,
          "yref": "y domain"
         },
         {
          "fillcolor": "#e07070",
          "line": {
           "width": 0
          },
          "opacity": 0.4,
          "type": "rect",
          "x0": "2020-10-07T23:00:00",
          "x1": "2020-10-08T00:00:00",
          "xref": "x",
          "y0": 0,
          "y1": 1,
          "yref": "y domain"
         },
         {
          "fillcolor": "#e07070",
          "line": {
           "width": 0
          },
          "opacity": 0.4,
          "type": "rect",
          "x0": "2020-10-08T00:00:00",
          "x1": "2020-10-08T01:00:00",
          "xref": "x",
          "y0": 0,
          "y1": 1,
          "yref": "y domain"
         },
         {
          "fillcolor": "#e07070",
          "line": {
           "width": 0
          },
          "opacity": 0.4,
          "type": "rect",
          "x0": "2020-10-08T01:00:00",
          "x1": "2020-10-08T02:00:00",
          "xref": "x",
          "y0": 0,
          "y1": 1,
          "yref": "y domain"
         },
         {
          "fillcolor": "#e07070",
          "line": {
           "width": 0
          },
          "opacity": 0.4,
          "type": "rect",
          "x0": "2020-10-08T02:00:00",
          "x1": "2020-10-08T03:00:00",
          "xref": "x",
          "y0": 0,
          "y1": 1,
          "yref": "y domain"
         },
         {
          "fillcolor": "#e07070",
          "line": {
           "width": 0
          },
          "opacity": 0.4,
          "type": "rect",
          "x0": "2020-10-08T03:00:00",
          "x1": "2020-10-08T04:00:00",
          "xref": "x",
          "y0": 0,
          "y1": 1,
          "yref": "y domain"
         },
         {
          "fillcolor": "#e07070",
          "line": {
           "width": 0
          },
          "opacity": 0.4,
          "type": "rect",
          "x0": "2020-10-08T04:00:00",
          "x1": "2020-10-08T05:00:00",
          "xref": "x",
          "y0": 0,
          "y1": 1,
          "yref": "y domain"
         },
         {
          "fillcolor": "#e07070",
          "line": {
           "width": 0
          },
          "opacity": 0.4,
          "type": "rect",
          "x0": "2020-10-08T05:00:00",
          "x1": "2020-10-08T06:00:00",
          "xref": "x",
          "y0": 0,
          "y1": 1,
          "yref": "y domain"
         },
         {
          "fillcolor": "#e07070",
          "line": {
           "width": 0
          },
          "opacity": 0.4,
          "type": "rect",
          "x0": "2020-10-08T06:00:00",
          "x1": "2020-10-08T07:00:00",
          "xref": "x",
          "y0": 0,
          "y1": 1,
          "yref": "y domain"
         },
         {
          "fillcolor": "#e07070",
          "line": {
           "width": 0
          },
          "opacity": 0.4,
          "type": "rect",
          "x0": "2020-10-08T07:00:00",
          "x1": "2020-10-08T08:00:00",
          "xref": "x",
          "y0": 0,
          "y1": 1,
          "yref": "y domain"
         },
         {
          "fillcolor": "#e07070",
          "line": {
           "width": 0
          },
          "opacity": 0.4,
          "type": "rect",
          "x0": "2020-10-08T08:00:00",
          "x1": "2020-10-08T09:00:00",
          "xref": "x",
          "y0": 0,
          "y1": 1,
          "yref": "y domain"
         },
         {
          "fillcolor": "#e07070",
          "line": {
           "width": 0
          },
          "opacity": 0.4,
          "type": "rect",
          "x0": "2020-10-08T09:00:00",
          "x1": "2020-10-08T10:00:00",
          "xref": "x",
          "y0": 0,
          "y1": 1,
          "yref": "y domain"
         },
         {
          "fillcolor": "#e07070",
          "line": {
           "width": 0
          },
          "opacity": 0.4,
          "type": "rect",
          "x0": "2020-10-08T10:00:00",
          "x1": "2020-10-08T11:00:00",
          "xref": "x",
          "y0": 0,
          "y1": 1,
          "yref": "y domain"
         },
         {
          "fillcolor": "#e07070",
          "line": {
           "width": 0
          },
          "opacity": 0.4,
          "type": "rect",
          "x0": "2020-10-08T11:00:00",
          "x1": "2020-10-08T12:00:00",
          "xref": "x",
          "y0": 0,
          "y1": 1,
          "yref": "y domain"
         },
         {
          "fillcolor": "#e07070",
          "line": {
           "width": 0
          },
          "opacity": 0.4,
          "type": "rect",
          "x0": "2020-10-08T12:00:00",
          "x1": "2020-10-08T13:00:00",
          "xref": "x",
          "y0": 0,
          "y1": 1,
          "yref": "y domain"
         },
         {
          "fillcolor": "#e07070",
          "line": {
           "width": 0
          },
          "opacity": 0.4,
          "type": "rect",
          "x0": "2020-10-08T13:00:00",
          "x1": "2020-10-08T14:00:00",
          "xref": "x",
          "y0": 0,
          "y1": 1,
          "yref": "y domain"
         },
         {
          "fillcolor": "#e07070",
          "line": {
           "width": 0
          },
          "opacity": 0.4,
          "type": "rect",
          "x0": "2020-10-08T14:00:00",
          "x1": "2020-10-08T15:00:00",
          "xref": "x",
          "y0": 0,
          "y1": 1,
          "yref": "y domain"
         },
         {
          "fillcolor": "#e07070",
          "line": {
           "width": 0
          },
          "opacity": 0.4,
          "type": "rect",
          "x0": "2020-10-08T15:00:00",
          "x1": "2020-10-08T16:00:00",
          "xref": "x",
          "y0": 0,
          "y1": 1,
          "yref": "y domain"
         },
         {
          "fillcolor": "#e07070",
          "line": {
           "width": 0
          },
          "opacity": 0.4,
          "type": "rect",
          "x0": "2020-10-08T16:00:00",
          "x1": "2020-10-08T17:00:00",
          "xref": "x",
          "y0": 0,
          "y1": 1,
          "yref": "y domain"
         },
         {
          "fillcolor": "#e07070",
          "line": {
           "width": 0
          },
          "opacity": 0.4,
          "type": "rect",
          "x0": "2020-10-08T17:00:00",
          "x1": "2020-10-08T18:00:00",
          "xref": "x",
          "y0": 0,
          "y1": 1,
          "yref": "y domain"
         },
         {
          "fillcolor": "#e07070",
          "line": {
           "width": 0
          },
          "opacity": 0.4,
          "type": "rect",
          "x0": "2020-10-08T18:00:00",
          "x1": "2020-10-08T19:00:00",
          "xref": "x",
          "y0": 0,
          "y1": 1,
          "yref": "y domain"
         },
         {
          "fillcolor": "#e07070",
          "line": {
           "width": 0
          },
          "opacity": 0.4,
          "type": "rect",
          "x0": "2020-10-08T19:00:00",
          "x1": "2020-10-08T20:00:00",
          "xref": "x",
          "y0": 0,
          "y1": 1,
          "yref": "y domain"
         },
         {
          "fillcolor": "#e07070",
          "line": {
           "width": 0
          },
          "opacity": 0.4,
          "type": "rect",
          "x0": "2020-10-08T20:00:00",
          "x1": "2020-10-08T21:00:00",
          "xref": "x",
          "y0": 0,
          "y1": 1,
          "yref": "y domain"
         },
         {
          "fillcolor": "#e07070",
          "line": {
           "width": 0
          },
          "opacity": 0.4,
          "type": "rect",
          "x0": "2020-10-08T21:00:00",
          "x1": "2020-10-08T22:00:00",
          "xref": "x",
          "y0": 0,
          "y1": 1,
          "yref": "y domain"
         },
         {
          "fillcolor": "#e07070",
          "line": {
           "width": 0
          },
          "opacity": 0.4,
          "type": "rect",
          "x0": "2020-10-08T22:00:00",
          "x1": "2020-10-08T23:00:00",
          "xref": "x",
          "y0": 0,
          "y1": 1,
          "yref": "y domain"
         },
         {
          "fillcolor": "#e07070",
          "line": {
           "width": 0
          },
          "opacity": 0.4,
          "type": "rect",
          "x0": "2020-10-08T23:00:00",
          "x1": "2020-10-09T00:00:00",
          "xref": "x",
          "y0": 0,
          "y1": 1,
          "yref": "y domain"
         },
         {
          "fillcolor": "#e07070",
          "line": {
           "width": 0
          },
          "opacity": 0.4,
          "type": "rect",
          "x0": "2020-10-09T00:00:00",
          "x1": "2020-10-09T01:00:00",
          "xref": "x",
          "y0": 0,
          "y1": 1,
          "yref": "y domain"
         },
         {
          "fillcolor": "#e07070",
          "line": {
           "width": 0
          },
          "opacity": 0.4,
          "type": "rect",
          "x0": "2020-10-09T01:00:00",
          "x1": "2020-10-09T02:00:00",
          "xref": "x",
          "y0": 0,
          "y1": 1,
          "yref": "y domain"
         },
         {
          "fillcolor": "#e07070",
          "line": {
           "width": 0
          },
          "opacity": 0.4,
          "type": "rect",
          "x0": "2020-10-09T02:00:00",
          "x1": "2020-10-09T03:00:00",
          "xref": "x",
          "y0": 0,
          "y1": 1,
          "yref": "y domain"
         },
         {
          "fillcolor": "#e07070",
          "line": {
           "width": 0
          },
          "opacity": 0.4,
          "type": "rect",
          "x0": "2020-10-09T03:00:00",
          "x1": "2020-10-09T04:00:00",
          "xref": "x",
          "y0": 0,
          "y1": 1,
          "yref": "y domain"
         },
         {
          "fillcolor": "#e07070",
          "line": {
           "width": 0
          },
          "opacity": 0.4,
          "type": "rect",
          "x0": "2020-10-09T04:00:00",
          "x1": "2020-10-09T05:00:00",
          "xref": "x",
          "y0": 0,
          "y1": 1,
          "yref": "y domain"
         },
         {
          "fillcolor": "#e07070",
          "line": {
           "width": 0
          },
          "opacity": 0.4,
          "type": "rect",
          "x0": "2020-10-09T05:00:00",
          "x1": "2020-10-09T06:00:00",
          "xref": "x",
          "y0": 0,
          "y1": 1,
          "yref": "y domain"
         },
         {
          "fillcolor": "#e07070",
          "line": {
           "width": 0
          },
          "opacity": 0.4,
          "type": "rect",
          "x0": "2020-10-09T06:00:00",
          "x1": "2020-10-09T09:00:00",
          "xref": "x",
          "y0": 0,
          "y1": 1,
          "yref": "y domain"
         },
         {
          "fillcolor": "#e07070",
          "line": {
           "width": 0
          },
          "opacity": 0.4,
          "type": "rect",
          "x0": "2020-10-09T09:00:00",
          "x1": "2020-10-09T10:00:00",
          "xref": "x",
          "y0": 0,
          "y1": 1,
          "yref": "y domain"
         },
         {
          "fillcolor": "#e07070",
          "line": {
           "width": 0
          },
          "opacity": 0.4,
          "type": "rect",
          "x0": "2020-10-09T10:00:00",
          "x1": "2020-10-09T11:00:00",
          "xref": "x",
          "y0": 0,
          "y1": 1,
          "yref": "y domain"
         },
         {
          "fillcolor": "#e07070",
          "line": {
           "width": 0
          },
          "opacity": 0.4,
          "type": "rect",
          "x0": "2020-10-09T11:00:00",
          "x1": "2020-10-09T12:00:00",
          "xref": "x",
          "y0": 0,
          "y1": 1,
          "yref": "y domain"
         },
         {
          "fillcolor": "#e07070",
          "line": {
           "width": 0
          },
          "opacity": 0.4,
          "type": "rect",
          "x0": "2020-10-09T12:00:00",
          "x1": "2020-10-09T13:00:00",
          "xref": "x",
          "y0": 0,
          "y1": 1,
          "yref": "y domain"
         },
         {
          "fillcolor": "#e07070",
          "line": {
           "width": 0
          },
          "opacity": 0.4,
          "type": "rect",
          "x0": "2020-10-09T13:00:00",
          "x1": "2020-10-09T14:00:00",
          "xref": "x",
          "y0": 0,
          "y1": 1,
          "yref": "y domain"
         },
         {
          "fillcolor": "#e07070",
          "line": {
           "width": 0
          },
          "opacity": 0.4,
          "type": "rect",
          "x0": "2020-10-09T14:00:00",
          "x1": "2020-10-09T15:00:00",
          "xref": "x",
          "y0": 0,
          "y1": 1,
          "yref": "y domain"
         },
         {
          "fillcolor": "#e07070",
          "line": {
           "width": 0
          },
          "opacity": 0.4,
          "type": "rect",
          "x0": "2020-10-09T15:00:00",
          "x1": "2020-10-09T16:00:00",
          "xref": "x",
          "y0": 0,
          "y1": 1,
          "yref": "y domain"
         },
         {
          "fillcolor": "#e07070",
          "line": {
           "width": 0
          },
          "opacity": 0.4,
          "type": "rect",
          "x0": "2020-10-09T16:00:00",
          "x1": "2020-10-09T17:00:00",
          "xref": "x",
          "y0": 0,
          "y1": 1,
          "yref": "y domain"
         },
         {
          "fillcolor": "#e07070",
          "line": {
           "width": 0
          },
          "opacity": 0.4,
          "type": "rect",
          "x0": "2020-10-09T17:00:00",
          "x1": "2020-10-09T18:00:00",
          "xref": "x",
          "y0": 0,
          "y1": 1,
          "yref": "y domain"
         },
         {
          "fillcolor": "#e07070",
          "line": {
           "width": 0
          },
          "opacity": 0.4,
          "type": "rect",
          "x0": "2020-10-09T18:00:00",
          "x1": "2020-10-09T19:00:00",
          "xref": "x",
          "y0": 0,
          "y1": 1,
          "yref": "y domain"
         },
         {
          "fillcolor": "#e07070",
          "line": {
           "width": 0
          },
          "opacity": 0.4,
          "type": "rect",
          "x0": "2020-10-09T19:00:00",
          "x1": "2020-10-09T20:00:00",
          "xref": "x",
          "y0": 0,
          "y1": 1,
          "yref": "y domain"
         },
         {
          "fillcolor": "#e07070",
          "line": {
           "width": 0
          },
          "opacity": 0.4,
          "type": "rect",
          "x0": "2020-10-09T20:00:00",
          "x1": "2020-10-09T21:00:00",
          "xref": "x",
          "y0": 0,
          "y1": 1,
          "yref": "y domain"
         },
         {
          "fillcolor": "#e07070",
          "line": {
           "width": 0
          },
          "opacity": 0.4,
          "type": "rect",
          "x0": "2020-10-09T21:00:00",
          "x1": "2020-10-09T22:00:00",
          "xref": "x",
          "y0": 0,
          "y1": 1,
          "yref": "y domain"
         },
         {
          "fillcolor": "#e07070",
          "line": {
           "width": 0
          },
          "opacity": 0.4,
          "type": "rect",
          "x0": "2020-10-09T22:00:00",
          "x1": "2020-10-09T23:00:00",
          "xref": "x",
          "y0": 0,
          "y1": 1,
          "yref": "y domain"
         },
         {
          "fillcolor": "#e07070",
          "line": {
           "width": 0
          },
          "opacity": 0.4,
          "type": "rect",
          "x0": "2020-10-09T23:00:00",
          "x1": "2020-10-10T00:00:00",
          "xref": "x",
          "y0": 0,
          "y1": 1,
          "yref": "y domain"
         },
         {
          "fillcolor": "#e07070",
          "line": {
           "width": 0
          },
          "opacity": 0.4,
          "type": "rect",
          "x0": "2020-10-10T00:00:00",
          "x1": "2020-10-10T01:00:00",
          "xref": "x",
          "y0": 0,
          "y1": 1,
          "yref": "y domain"
         },
         {
          "fillcolor": "#e07070",
          "line": {
           "width": 0
          },
          "opacity": 0.4,
          "type": "rect",
          "x0": "2020-10-10T01:00:00",
          "x1": "2020-10-10T02:00:00",
          "xref": "x",
          "y0": 0,
          "y1": 1,
          "yref": "y domain"
         },
         {
          "fillcolor": "#e07070",
          "line": {
           "width": 0
          },
          "opacity": 0.4,
          "type": "rect",
          "x0": "2020-10-10T02:00:00",
          "x1": "2020-10-10T03:00:00",
          "xref": "x",
          "y0": 0,
          "y1": 1,
          "yref": "y domain"
         },
         {
          "fillcolor": "#e07070",
          "line": {
           "width": 0
          },
          "opacity": 0.4,
          "type": "rect",
          "x0": "2020-10-10T03:00:00",
          "x1": "2020-10-10T04:00:00",
          "xref": "x",
          "y0": 0,
          "y1": 1,
          "yref": "y domain"
         },
         {
          "fillcolor": "#e07070",
          "line": {
           "width": 0
          },
          "opacity": 0.4,
          "type": "rect",
          "x0": "2020-10-10T04:00:00",
          "x1": "2020-10-10T05:00:00",
          "xref": "x",
          "y0": 0,
          "y1": 1,
          "yref": "y domain"
         },
         {
          "fillcolor": "#e07070",
          "line": {
           "width": 0
          },
          "opacity": 0.4,
          "type": "rect",
          "x0": "2020-10-10T05:00:00",
          "x1": "2020-10-10T07:00:00",
          "xref": "x",
          "y0": 0,
          "y1": 1,
          "yref": "y domain"
         },
         {
          "fillcolor": "#e07070",
          "line": {
           "width": 0
          },
          "opacity": 0.4,
          "type": "rect",
          "x0": "2020-10-10T07:00:00",
          "x1": "2020-10-10T08:00:00",
          "xref": "x",
          "y0": 0,
          "y1": 1,
          "yref": "y domain"
         },
         {
          "fillcolor": "#e07070",
          "line": {
           "width": 0
          },
          "opacity": 0.4,
          "type": "rect",
          "x0": "2020-10-10T08:00:00",
          "x1": "2020-10-10T11:00:00",
          "xref": "x",
          "y0": 0,
          "y1": 1,
          "yref": "y domain"
         },
         {
          "fillcolor": "#e07070",
          "line": {
           "width": 0
          },
          "opacity": 0.4,
          "type": "rect",
          "x0": "2020-10-10T11:00:00",
          "x1": "2020-10-10T12:00:00",
          "xref": "x",
          "y0": 0,
          "y1": 1,
          "yref": "y domain"
         },
         {
          "fillcolor": "#e07070",
          "line": {
           "width": 0
          },
          "opacity": 0.4,
          "type": "rect",
          "x0": "2020-10-10T12:00:00",
          "x1": "2020-10-10T13:00:00",
          "xref": "x",
          "y0": 0,
          "y1": 1,
          "yref": "y domain"
         },
         {
          "fillcolor": "#e07070",
          "line": {
           "width": 0
          },
          "opacity": 0.4,
          "type": "rect",
          "x0": "2020-10-10T13:00:00",
          "x1": "2020-10-10T14:00:00",
          "xref": "x",
          "y0": 0,
          "y1": 1,
          "yref": "y domain"
         },
         {
          "fillcolor": "#e07070",
          "line": {
           "width": 0
          },
          "opacity": 0.4,
          "type": "rect",
          "x0": "2020-10-10T14:00:00",
          "x1": "2020-10-10T15:00:00",
          "xref": "x",
          "y0": 0,
          "y1": 1,
          "yref": "y domain"
         },
         {
          "fillcolor": "#e07070",
          "line": {
           "width": 0
          },
          "opacity": 0.4,
          "type": "rect",
          "x0": "2020-10-10T15:00:00",
          "x1": "2020-10-10T16:00:00",
          "xref": "x",
          "y0": 0,
          "y1": 1,
          "yref": "y domain"
         },
         {
          "fillcolor": "#e07070",
          "line": {
           "width": 0
          },
          "opacity": 0.4,
          "type": "rect",
          "x0": "2020-10-10T16:00:00",
          "x1": "2020-10-10T17:00:00",
          "xref": "x",
          "y0": 0,
          "y1": 1,
          "yref": "y domain"
         },
         {
          "fillcolor": "#e07070",
          "line": {
           "width": 0
          },
          "opacity": 0.4,
          "type": "rect",
          "x0": "2020-10-10T17:00:00",
          "x1": "2020-10-10T18:00:00",
          "xref": "x",
          "y0": 0,
          "y1": 1,
          "yref": "y domain"
         },
         {
          "fillcolor": "#e07070",
          "line": {
           "width": 0
          },
          "opacity": 0.4,
          "type": "rect",
          "x0": "2020-10-10T18:00:00",
          "x1": "2020-10-10T19:00:00",
          "xref": "x",
          "y0": 0,
          "y1": 1,
          "yref": "y domain"
         },
         {
          "fillcolor": "#e07070",
          "line": {
           "width": 0
          },
          "opacity": 0.4,
          "type": "rect",
          "x0": "2020-10-10T19:00:00",
          "x1": "2020-10-10T20:00:00",
          "xref": "x",
          "y0": 0,
          "y1": 1,
          "yref": "y domain"
         },
         {
          "fillcolor": "#e07070",
          "line": {
           "width": 0
          },
          "opacity": 0.4,
          "type": "rect",
          "x0": "2020-10-10T20:00:00",
          "x1": "2020-10-10T21:00:00",
          "xref": "x",
          "y0": 0,
          "y1": 1,
          "yref": "y domain"
         },
         {
          "fillcolor": "#e07070",
          "line": {
           "width": 0
          },
          "opacity": 0.4,
          "type": "rect",
          "x0": "2020-10-10T21:00:00",
          "x1": "2020-10-10T22:00:00",
          "xref": "x",
          "y0": 0,
          "y1": 1,
          "yref": "y domain"
         },
         {
          "fillcolor": "#e07070",
          "line": {
           "width": 0
          },
          "opacity": 0.4,
          "type": "rect",
          "x0": "2020-10-10T22:00:00",
          "x1": "2020-10-10T23:00:00",
          "xref": "x",
          "y0": 0,
          "y1": 1,
          "yref": "y domain"
         },
         {
          "fillcolor": "#e07070",
          "line": {
           "width": 0
          },
          "opacity": 0.4,
          "type": "rect",
          "x0": "2020-10-10T23:00:00",
          "x1": "2020-10-11T00:00:00",
          "xref": "x",
          "y0": 0,
          "y1": 1,
          "yref": "y domain"
         },
         {
          "fillcolor": "#e07070",
          "line": {
           "width": 0
          },
          "opacity": 0.4,
          "type": "rect",
          "x0": "2020-10-11T00:00:00",
          "x1": "2020-10-11T01:00:00",
          "xref": "x",
          "y0": 0,
          "y1": 1,
          "yref": "y domain"
         },
         {
          "fillcolor": "#e07070",
          "line": {
           "width": 0
          },
          "opacity": 0.4,
          "type": "rect",
          "x0": "2020-10-11T01:00:00",
          "x1": "2020-10-11T02:00:00",
          "xref": "x",
          "y0": 0,
          "y1": 1,
          "yref": "y domain"
         },
         {
          "fillcolor": "#e07070",
          "line": {
           "width": 0
          },
          "opacity": 0.4,
          "type": "rect",
          "x0": "2020-10-11T02:00:00",
          "x1": "2020-10-11T03:00:00",
          "xref": "x",
          "y0": 0,
          "y1": 1,
          "yref": "y domain"
         }
        ],
        "showlegend": true,
        "template": {
         "data": {
          "bar": [
           {
            "error_x": {
             "color": "#2a3f5f"
            },
            "error_y": {
             "color": "#2a3f5f"
            },
            "marker": {
             "line": {
              "color": "#E5ECF6",
              "width": 0.5
             },
             "pattern": {
              "fillmode": "overlay",
              "size": 10,
              "solidity": 0.2
             }
            },
            "type": "bar"
           }
          ],
          "barpolar": [
           {
            "marker": {
             "line": {
              "color": "#E5ECF6",
              "width": 0.5
             },
             "pattern": {
              "fillmode": "overlay",
              "size": 10,
              "solidity": 0.2
             }
            },
            "type": "barpolar"
           }
          ],
          "carpet": [
           {
            "aaxis": {
             "endlinecolor": "#2a3f5f",
             "gridcolor": "white",
             "linecolor": "white",
             "minorgridcolor": "white",
             "startlinecolor": "#2a3f5f"
            },
            "baxis": {
             "endlinecolor": "#2a3f5f",
             "gridcolor": "white",
             "linecolor": "white",
             "minorgridcolor": "white",
             "startlinecolor": "#2a3f5f"
            },
            "type": "carpet"
           }
          ],
          "choropleth": [
           {
            "colorbar": {
             "outlinewidth": 0,
             "ticks": ""
            },
            "type": "choropleth"
           }
          ],
          "contour": [
           {
            "colorbar": {
             "outlinewidth": 0,
             "ticks": ""
            },
            "colorscale": [
             [
              0,
              "#0d0887"
             ],
             [
              0.1111111111111111,
              "#46039f"
             ],
             [
              0.2222222222222222,
              "#7201a8"
             ],
             [
              0.3333333333333333,
              "#9c179e"
             ],
             [
              0.4444444444444444,
              "#bd3786"
             ],
             [
              0.5555555555555556,
              "#d8576b"
             ],
             [
              0.6666666666666666,
              "#ed7953"
             ],
             [
              0.7777777777777778,
              "#fb9f3a"
             ],
             [
              0.8888888888888888,
              "#fdca26"
             ],
             [
              1,
              "#f0f921"
             ]
            ],
            "type": "contour"
           }
          ],
          "contourcarpet": [
           {
            "colorbar": {
             "outlinewidth": 0,
             "ticks": ""
            },
            "type": "contourcarpet"
           }
          ],
          "heatmap": [
           {
            "colorbar": {
             "outlinewidth": 0,
             "ticks": ""
            },
            "colorscale": [
             [
              0,
              "#0d0887"
             ],
             [
              0.1111111111111111,
              "#46039f"
             ],
             [
              0.2222222222222222,
              "#7201a8"
             ],
             [
              0.3333333333333333,
              "#9c179e"
             ],
             [
              0.4444444444444444,
              "#bd3786"
             ],
             [
              0.5555555555555556,
              "#d8576b"
             ],
             [
              0.6666666666666666,
              "#ed7953"
             ],
             [
              0.7777777777777778,
              "#fb9f3a"
             ],
             [
              0.8888888888888888,
              "#fdca26"
             ],
             [
              1,
              "#f0f921"
             ]
            ],
            "type": "heatmap"
           }
          ],
          "heatmapgl": [
           {
            "colorbar": {
             "outlinewidth": 0,
             "ticks": ""
            },
            "colorscale": [
             [
              0,
              "#0d0887"
             ],
             [
              0.1111111111111111,
              "#46039f"
             ],
             [
              0.2222222222222222,
              "#7201a8"
             ],
             [
              0.3333333333333333,
              "#9c179e"
             ],
             [
              0.4444444444444444,
              "#bd3786"
             ],
             [
              0.5555555555555556,
              "#d8576b"
             ],
             [
              0.6666666666666666,
              "#ed7953"
             ],
             [
              0.7777777777777778,
              "#fb9f3a"
             ],
             [
              0.8888888888888888,
              "#fdca26"
             ],
             [
              1,
              "#f0f921"
             ]
            ],
            "type": "heatmapgl"
           }
          ],
          "histogram": [
           {
            "marker": {
             "pattern": {
              "fillmode": "overlay",
              "size": 10,
              "solidity": 0.2
             }
            },
            "type": "histogram"
           }
          ],
          "histogram2d": [
           {
            "colorbar": {
             "outlinewidth": 0,
             "ticks": ""
            },
            "colorscale": [
             [
              0,
              "#0d0887"
             ],
             [
              0.1111111111111111,
              "#46039f"
             ],
             [
              0.2222222222222222,
              "#7201a8"
             ],
             [
              0.3333333333333333,
              "#9c179e"
             ],
             [
              0.4444444444444444,
              "#bd3786"
             ],
             [
              0.5555555555555556,
              "#d8576b"
             ],
             [
              0.6666666666666666,
              "#ed7953"
             ],
             [
              0.7777777777777778,
              "#fb9f3a"
             ],
             [
              0.8888888888888888,
              "#fdca26"
             ],
             [
              1,
              "#f0f921"
             ]
            ],
            "type": "histogram2d"
           }
          ],
          "histogram2dcontour": [
           {
            "colorbar": {
             "outlinewidth": 0,
             "ticks": ""
            },
            "colorscale": [
             [
              0,
              "#0d0887"
             ],
             [
              0.1111111111111111,
              "#46039f"
             ],
             [
              0.2222222222222222,
              "#7201a8"
             ],
             [
              0.3333333333333333,
              "#9c179e"
             ],
             [
              0.4444444444444444,
              "#bd3786"
             ],
             [
              0.5555555555555556,
              "#d8576b"
             ],
             [
              0.6666666666666666,
              "#ed7953"
             ],
             [
              0.7777777777777778,
              "#fb9f3a"
             ],
             [
              0.8888888888888888,
              "#fdca26"
             ],
             [
              1,
              "#f0f921"
             ]
            ],
            "type": "histogram2dcontour"
           }
          ],
          "mesh3d": [
           {
            "colorbar": {
             "outlinewidth": 0,
             "ticks": ""
            },
            "type": "mesh3d"
           }
          ],
          "parcoords": [
           {
            "line": {
             "colorbar": {
              "outlinewidth": 0,
              "ticks": ""
             }
            },
            "type": "parcoords"
           }
          ],
          "pie": [
           {
            "automargin": true,
            "type": "pie"
           }
          ],
          "scatter": [
           {
            "marker": {
             "colorbar": {
              "outlinewidth": 0,
              "ticks": ""
             }
            },
            "type": "scatter"
           }
          ],
          "scatter3d": [
           {
            "line": {
             "colorbar": {
              "outlinewidth": 0,
              "ticks": ""
             }
            },
            "marker": {
             "colorbar": {
              "outlinewidth": 0,
              "ticks": ""
             }
            },
            "type": "scatter3d"
           }
          ],
          "scattercarpet": [
           {
            "marker": {
             "colorbar": {
              "outlinewidth": 0,
              "ticks": ""
             }
            },
            "type": "scattercarpet"
           }
          ],
          "scattergeo": [
           {
            "marker": {
             "colorbar": {
              "outlinewidth": 0,
              "ticks": ""
             }
            },
            "type": "scattergeo"
           }
          ],
          "scattergl": [
           {
            "marker": {
             "colorbar": {
              "outlinewidth": 0,
              "ticks": ""
             }
            },
            "type": "scattergl"
           }
          ],
          "scattermapbox": [
           {
            "marker": {
             "colorbar": {
              "outlinewidth": 0,
              "ticks": ""
             }
            },
            "type": "scattermapbox"
           }
          ],
          "scatterpolar": [
           {
            "marker": {
             "colorbar": {
              "outlinewidth": 0,
              "ticks": ""
             }
            },
            "type": "scatterpolar"
           }
          ],
          "scatterpolargl": [
           {
            "marker": {
             "colorbar": {
              "outlinewidth": 0,
              "ticks": ""
             }
            },
            "type": "scatterpolargl"
           }
          ],
          "scatterternary": [
           {
            "marker": {
             "colorbar": {
              "outlinewidth": 0,
              "ticks": ""
             }
            },
            "type": "scatterternary"
           }
          ],
          "surface": [
           {
            "colorbar": {
             "outlinewidth": 0,
             "ticks": ""
            },
            "colorscale": [
             [
              0,
              "#0d0887"
             ],
             [
              0.1111111111111111,
              "#46039f"
             ],
             [
              0.2222222222222222,
              "#7201a8"
             ],
             [
              0.3333333333333333,
              "#9c179e"
             ],
             [
              0.4444444444444444,
              "#bd3786"
             ],
             [
              0.5555555555555556,
              "#d8576b"
             ],
             [
              0.6666666666666666,
              "#ed7953"
             ],
             [
              0.7777777777777778,
              "#fb9f3a"
             ],
             [
              0.8888888888888888,
              "#fdca26"
             ],
             [
              1,
              "#f0f921"
             ]
            ],
            "type": "surface"
           }
          ],
          "table": [
           {
            "cells": {
             "fill": {
              "color": "#EBF0F8"
             },
             "line": {
              "color": "white"
             }
            },
            "header": {
             "fill": {
              "color": "#C8D4E3"
             },
             "line": {
              "color": "white"
             }
            },
            "type": "table"
           }
          ]
         },
         "layout": {
          "annotationdefaults": {
           "arrowcolor": "#2a3f5f",
           "arrowhead": 0,
           "arrowwidth": 1
          },
          "autotypenumbers": "strict",
          "coloraxis": {
           "colorbar": {
            "outlinewidth": 0,
            "ticks": ""
           }
          },
          "colorscale": {
           "diverging": [
            [
             0,
             "#8e0152"
            ],
            [
             0.1,
             "#c51b7d"
            ],
            [
             0.2,
             "#de77ae"
            ],
            [
             0.3,
             "#f1b6da"
            ],
            [
             0.4,
             "#fde0ef"
            ],
            [
             0.5,
             "#f7f7f7"
            ],
            [
             0.6,
             "#e6f5d0"
            ],
            [
             0.7,
             "#b8e186"
            ],
            [
             0.8,
             "#7fbc41"
            ],
            [
             0.9,
             "#4d9221"
            ],
            [
             1,
             "#276419"
            ]
           ],
           "sequential": [
            [
             0,
             "#0d0887"
            ],
            [
             0.1111111111111111,
             "#46039f"
            ],
            [
             0.2222222222222222,
             "#7201a8"
            ],
            [
             0.3333333333333333,
             "#9c179e"
            ],
            [
             0.4444444444444444,
             "#bd3786"
            ],
            [
             0.5555555555555556,
             "#d8576b"
            ],
            [
             0.6666666666666666,
             "#ed7953"
            ],
            [
             0.7777777777777778,
             "#fb9f3a"
            ],
            [
             0.8888888888888888,
             "#fdca26"
            ],
            [
             1,
             "#f0f921"
            ]
           ],
           "sequentialminus": [
            [
             0,
             "#0d0887"
            ],
            [
             0.1111111111111111,
             "#46039f"
            ],
            [
             0.2222222222222222,
             "#7201a8"
            ],
            [
             0.3333333333333333,
             "#9c179e"
            ],
            [
             0.4444444444444444,
             "#bd3786"
            ],
            [
             0.5555555555555556,
             "#d8576b"
            ],
            [
             0.6666666666666666,
             "#ed7953"
            ],
            [
             0.7777777777777778,
             "#fb9f3a"
            ],
            [
             0.8888888888888888,
             "#fdca26"
            ],
            [
             1,
             "#f0f921"
            ]
           ]
          },
          "colorway": [
           "#636efa",
           "#EF553B",
           "#00cc96",
           "#ab63fa",
           "#FFA15A",
           "#19d3f3",
           "#FF6692",
           "#B6E880",
           "#FF97FF",
           "#FECB52"
          ],
          "font": {
           "color": "#2a3f5f"
          },
          "geo": {
           "bgcolor": "white",
           "lakecolor": "white",
           "landcolor": "#E5ECF6",
           "showlakes": true,
           "showland": true,
           "subunitcolor": "white"
          },
          "hoverlabel": {
           "align": "left"
          },
          "hovermode": "closest",
          "mapbox": {
           "style": "light"
          },
          "paper_bgcolor": "white",
          "plot_bgcolor": "#E5ECF6",
          "polar": {
           "angularaxis": {
            "gridcolor": "white",
            "linecolor": "white",
            "ticks": ""
           },
           "bgcolor": "#E5ECF6",
           "radialaxis": {
            "gridcolor": "white",
            "linecolor": "white",
            "ticks": ""
           }
          },
          "scene": {
           "xaxis": {
            "backgroundcolor": "#E5ECF6",
            "gridcolor": "white",
            "gridwidth": 2,
            "linecolor": "white",
            "showbackground": true,
            "ticks": "",
            "zerolinecolor": "white"
           },
           "yaxis": {
            "backgroundcolor": "#E5ECF6",
            "gridcolor": "white",
            "gridwidth": 2,
            "linecolor": "white",
            "showbackground": true,
            "ticks": "",
            "zerolinecolor": "white"
           },
           "zaxis": {
            "backgroundcolor": "#E5ECF6",
            "gridcolor": "white",
            "gridwidth": 2,
            "linecolor": "white",
            "showbackground": true,
            "ticks": "",
            "zerolinecolor": "white"
           }
          },
          "shapedefaults": {
           "line": {
            "color": "#2a3f5f"
           }
          },
          "ternary": {
           "aaxis": {
            "gridcolor": "white",
            "linecolor": "white",
            "ticks": ""
           },
           "baxis": {
            "gridcolor": "white",
            "linecolor": "white",
            "ticks": ""
           },
           "bgcolor": "#E5ECF6",
           "caxis": {
            "gridcolor": "white",
            "linecolor": "white",
            "ticks": ""
           }
          },
          "title": {
           "x": 0.05
          },
          "xaxis": {
           "automargin": true,
           "gridcolor": "white",
           "linecolor": "white",
           "ticks": "",
           "title": {
            "standoff": 15
           },
           "zerolinecolor": "white",
           "zerolinewidth": 2
          },
          "yaxis": {
           "automargin": true,
           "gridcolor": "white",
           "linecolor": "white",
           "ticks": "",
           "title": {
            "standoff": 15
           },
           "zerolinecolor": "white",
           "zerolinewidth": 2
          }
         }
        },
        "title": {
         "text": "ProphetDetector: Anomalies in top2_hashtag_count (Forecast Overlaid)"
        },
        "width": 1000,
        "xaxis": {
         "anchor": "y",
         "domain": [
          0,
          0.94
         ],
         "rangeselector": {
          "buttons": [
           {
            "count": 7,
            "label": "1w",
            "step": "day",
            "stepmode": "backward"
           },
           {
            "count": 1,
            "label": "1m",
            "step": "month",
            "stepmode": "backward"
           },
           {
            "count": 6,
            "label": "6m",
            "step": "month",
            "stepmode": "backward"
           },
           {
            "count": 1,
            "label": "1y",
            "step": "year",
            "stepmode": "backward"
           },
           {
            "step": "all"
           }
          ]
         },
         "rangeslider": {
          "visible": true
         },
         "title": {
          "text": "Time"
         },
         "type": "date"
        },
        "yaxis": {
         "anchor": "x",
         "domain": [
          0,
          1
         ],
         "title": {
          "text": "top2_hashtag_count"
         }
        },
        "yaxis2": {
         "anchor": "x",
         "overlaying": "y",
         "range": [
          -2.1817917307861365,
          14.179491737098843
         ],
         "side": "right",
         "title": {
          "text": "Anomaly Score"
         }
        }
       }
      }
     },
     "metadata": {}
    },
    {
     "output_type": "stream",
     "name": "stdout",
     "text": [
      "Initial log joint probability = -6.875\n",
      "    Iter      log prob        ||dx||      ||grad||       alpha      alpha0  # evals  Notes \n",
      "      87       205.549    0.00075685       89.2884   8.097e-06       0.001      143  LS failed, Hessian reset \n",
      "      99       205.591   8.26345e-06       67.7701      0.3676      0.3676      158   \n",
      "    Iter      log prob        ||dx||      ||grad||       alpha      alpha0  # evals  Notes \n",
      "     150       205.644   0.000678812       99.7859    6.62e-06       0.001      259  LS failed, Hessian reset \n",
      "     199       205.698   2.22557e-05       89.0028           1           1      319   \n",
      "    Iter      log prob        ||dx||      ||grad||       alpha      alpha0  # evals  Notes \n",
      "     210       205.713   0.000104759        95.659   1.098e-06       0.001      368  LS failed, Hessian reset \n",
      "     296       205.726   6.94426e-07       104.687   8.112e-09       0.001      521  LS failed, Hessian reset \n",
      "     299       205.726   9.58604e-08       62.2856      0.3544      0.3544      525   \n",
      "    Iter      log prob        ||dx||      ||grad||       alpha      alpha0  # evals  Notes \n",
      "     316       205.726   4.52993e-09       76.4214      0.2349      0.2349      546   \n",
      "Optimization terminated normally: \n",
      "  Convergence detected: absolute parameter change was below tolerance\n"
     ]
    },
    {
     "output_type": "display_data",
     "data": {
      "application/vnd.plotly.v1+json": {
       "config": {
        "plotlyServerURL": "https://plot.ly"
       },
       "data": [
        {
         "hoverinfo": "skip",
         "line": {
          "width": 0
         },
         "mode": "lines",
         "showlegend": false,
         "type": "scatter",
         "x": [
          "2020-10-01T01:00:00",
          "2020-10-01T02:00:00",
          "2020-10-01T03:00:00",
          "2020-10-01T05:00:00",
          "2020-10-01T11:00:00",
          "2020-10-01T13:00:00",
          "2020-10-01T14:00:00",
          "2020-10-01T15:00:00",
          "2020-10-01T16:00:00",
          "2020-10-01T17:00:00",
          "2020-10-01T18:00:00",
          "2020-10-01T19:00:00",
          "2020-10-01T20:00:00",
          "2020-10-01T21:00:00",
          "2020-10-01T22:00:00",
          "2020-10-01T23:00:00",
          "2020-10-02T00:00:00",
          "2020-10-02T02:00:00",
          "2020-10-02T03:00:00",
          "2020-10-02T04:00:00",
          "2020-10-02T05:00:00",
          "2020-10-02T07:00:00",
          "2020-10-02T12:00:00",
          "2020-10-02T14:00:00",
          "2020-10-02T15:00:00",
          "2020-10-02T16:00:00",
          "2020-10-02T17:00:00",
          "2020-10-02T18:00:00",
          "2020-10-02T19:00:00",
          "2020-10-02T20:00:00",
          "2020-10-02T21:00:00",
          "2020-10-02T22:00:00",
          "2020-10-03T00:00:00",
          "2020-10-03T01:00:00",
          "2020-10-03T02:00:00",
          "2020-10-03T13:00:00",
          "2020-10-03T15:00:00",
          "2020-10-03T16:00:00",
          "2020-10-03T18:00:00",
          "2020-10-03T19:00:00",
          "2020-10-03T20:00:00",
          "2020-10-03T21:00:00",
          "2020-10-03T22:00:00",
          "2020-10-04T12:00:00",
          "2020-10-04T13:00:00",
          "2020-10-04T16:00:00",
          "2020-10-04T20:00:00",
          "2020-10-04T22:00:00",
          "2020-10-05T00:00:00",
          "2020-10-05T04:00:00",
          "2020-10-05T09:00:00",
          "2020-10-05T13:00:00",
          "2020-10-05T14:00:00",
          "2020-10-05T15:00:00",
          "2020-10-05T16:00:00",
          "2020-10-05T17:00:00",
          "2020-10-05T18:00:00",
          "2020-10-05T19:00:00",
          "2020-10-05T20:00:00",
          "2020-10-05T22:00:00",
          "2020-10-05T23:00:00",
          "2020-10-06T01:00:00",
          "2020-10-06T02:00:00",
          "2020-10-06T03:00:00",
          "2020-10-06T06:00:00",
          "2020-10-06T13:00:00",
          "2020-10-06T14:00:00",
          "2020-10-06T16:00:00",
          "2020-10-06T17:00:00",
          "2020-10-06T18:00:00",
          "2020-10-06T19:00:00",
          "2020-10-06T20:00:00",
          "2020-10-06T21:00:00",
          "2020-10-06T22:00:00",
          "2020-10-06T23:00:00",
          "2020-10-07T00:00:00",
          "2020-10-07T01:00:00",
          "2020-10-07T02:00:00",
          "2020-10-07T03:00:00",
          "2020-10-07T10:00:00",
          "2020-10-07T12:00:00",
          "2020-10-07T14:00:00",
          "2020-10-07T15:00:00",
          "2020-10-07T16:00:00",
          "2020-10-07T17:00:00",
          "2020-10-07T18:00:00",
          "2020-10-07T19:00:00",
          "2020-10-07T20:00:00",
          "2020-10-07T21:00:00",
          "2020-10-07T22:00:00",
          "2020-10-07T23:00:00",
          "2020-10-08T00:00:00",
          "2020-10-08T01:00:00",
          "2020-10-08T02:00:00",
          "2020-10-08T03:00:00",
          "2020-10-08T04:00:00",
          "2020-10-08T05:00:00",
          "2020-10-08T06:00:00",
          "2020-10-08T07:00:00",
          "2020-10-08T08:00:00",
          "2020-10-08T09:00:00",
          "2020-10-08T10:00:00",
          "2020-10-08T11:00:00",
          "2020-10-08T12:00:00",
          "2020-10-08T13:00:00",
          "2020-10-08T14:00:00",
          "2020-10-08T15:00:00",
          "2020-10-08T16:00:00",
          "2020-10-08T17:00:00",
          "2020-10-08T18:00:00",
          "2020-10-08T19:00:00",
          "2020-10-08T20:00:00",
          "2020-10-08T21:00:00",
          "2020-10-08T22:00:00",
          "2020-10-08T23:00:00",
          "2020-10-09T00:00:00",
          "2020-10-09T01:00:00",
          "2020-10-09T02:00:00",
          "2020-10-09T03:00:00",
          "2020-10-09T04:00:00",
          "2020-10-09T05:00:00",
          "2020-10-09T06:00:00",
          "2020-10-09T09:00:00",
          "2020-10-09T10:00:00",
          "2020-10-09T11:00:00",
          "2020-10-09T12:00:00",
          "2020-10-09T13:00:00",
          "2020-10-09T14:00:00",
          "2020-10-09T15:00:00",
          "2020-10-09T16:00:00",
          "2020-10-09T17:00:00",
          "2020-10-09T18:00:00",
          "2020-10-09T19:00:00",
          "2020-10-09T20:00:00",
          "2020-10-09T21:00:00",
          "2020-10-09T22:00:00",
          "2020-10-09T23:00:00",
          "2020-10-10T00:00:00",
          "2020-10-10T01:00:00",
          "2020-10-10T02:00:00",
          "2020-10-10T03:00:00",
          "2020-10-10T04:00:00",
          "2020-10-10T05:00:00",
          "2020-10-10T07:00:00",
          "2020-10-10T08:00:00",
          "2020-10-10T11:00:00",
          "2020-10-10T12:00:00",
          "2020-10-10T13:00:00",
          "2020-10-10T14:00:00",
          "2020-10-10T15:00:00",
          "2020-10-10T16:00:00",
          "2020-10-10T17:00:00",
          "2020-10-10T18:00:00",
          "2020-10-10T19:00:00",
          "2020-10-10T20:00:00",
          "2020-10-10T21:00:00",
          "2020-10-10T22:00:00",
          "2020-10-10T23:00:00",
          "2020-10-11T00:00:00",
          "2020-10-11T01:00:00",
          "2020-10-11T02:00:00",
          "2020-10-11T03:00:00",
          "2020-10-11T04:00:00",
          "2020-10-11T05:00:00",
          "2020-10-11T07:00:00",
          "2020-10-11T09:00:00",
          "2020-10-11T12:00:00",
          "2020-10-11T13:00:00",
          "2020-10-11T14:00:00",
          "2020-10-11T15:00:00",
          "2020-10-11T16:00:00",
          "2020-10-11T17:00:00",
          "2020-10-11T18:00:00",
          "2020-10-11T19:00:00",
          "2020-10-11T20:00:00",
          "2020-10-11T21:00:00",
          "2020-10-11T22:00:00",
          "2020-10-11T23:00:00",
          "2020-10-12T00:00:00",
          "2020-10-12T01:00:00",
          "2020-10-12T03:00:00",
          "2020-10-12T12:00:00",
          "2020-10-12T13:00:00",
          "2020-10-12T14:00:00",
          "2020-10-12T15:00:00",
          "2020-10-12T16:00:00",
          "2020-10-12T17:00:00",
          "2020-10-12T18:00:00",
          "2020-10-12T19:00:00",
          "2020-10-12T20:00:00",
          "2020-10-12T21:00:00",
          "2020-10-12T22:00:00",
          "2020-10-12T23:00:00",
          "2020-10-13T00:00:00"
         ],
         "y": [
          0.17293201633098848,
          0.1663589429806166,
          0.17179814863555584,
          0.16827441993113304,
          0.1815327798347341,
          0.17046604497291748,
          0.18515569637179902,
          0.1781135589247272,
          0.16927790875589163,
          0.1704896097657977,
          0.16638506294985056,
          0.16858349676426837,
          0.16560237246317328,
          0.1719033265176661,
          0.16258955161461713,
          0.1798368156889114,
          0.17069497926357818,
          0.1723290358928719,
          0.16687008087900693,
          0.16977283104590596,
          0.17274631257141823,
          0.17174559231938166,
          0.1679412869181353,
          0.16217284010613847,
          0.16627837139743004,
          0.16353672558851196,
          0.16711899099747698,
          0.15647207096038696,
          0.17986266823068686,
          0.16605501051238897,
          0.15934042868043335,
          0.15921102069993884,
          0.16106200250380523,
          0.15955370393176596,
          0.16225409728842463,
          0.17396685119501515,
          0.17080320759576628,
          0.17456028156267964,
          0.16531613263580752,
          0.15949150228023734,
          0.15868456135339692,
          0.16184533351138222,
          0.1565903755612424,
          0.15504054512791027,
          0.15876302832055295,
          0.1609879673428557,
          0.14784175669347066,
          0.15416407334058277,
          0.15886857075577965,
          0.15779044072136764,
          0.14196541605929316,
          0.15181810439292878,
          0.1551730501258327,
          0.15602572431366118,
          0.15783969878468623,
          0.14314209543729112,
          0.14504847688737962,
          0.1453081248672602,
          0.14485766891732688,
          0.1448120777088165,
          0.14896344622359786,
          0.15110542728196305,
          0.14579773799542645,
          0.14431914293266307,
          0.1586461340129428,
          0.14419512918308486,
          0.15010672553849447,
          0.14864170288901957,
          0.14133669771047597,
          0.14168571683641634,
          0.15375777298605783,
          0.14520576223383136,
          0.14548544513988992,
          0.144886750612781,
          0.14253547131526828,
          0.1443759928462199,
          0.1404245950206904,
          0.14212174422655824,
          0.1360067881069073,
          0.13972073646853805,
          0.1411755317591758,
          0.13669884466186794,
          0.13673739054166056,
          0.14886716258987598,
          0.14949398713764894,
          0.13289181349121865,
          0.13582924478850184,
          0.13985699212242653,
          0.13754498469649645,
          0.13388383265997938,
          0.1302451912572418,
          0.1337581330648276,
          0.14698642205532905,
          0.1470803286130133,
          0.1399955033659519,
          0.13605794659622272,
          0.14432642456713027,
          0.13912511523940163,
          0.1312895548437372,
          0.13659562603846265,
          0.12803530850414904,
          0.1409833563221904,
          0.1411371665725993,
          0.1452478045900812,
          0.14646223640036454,
          0.129647596931324,
          0.12928591190459154,
          0.12374428429607019,
          0.13282805099147157,
          0.13324635698431153,
          0.12814168392348593,
          0.12723502456804706,
          0.1391827037872027,
          0.13863360673990244,
          0.1300820053828074,
          0.12380860790714854,
          0.1378507467514939,
          0.13758234924328291,
          0.1289977389970519,
          0.1318328682123384,
          0.13442692882735122,
          0.13008638968650524,
          0.12664765737051517,
          0.13012175821088057,
          0.1375861383688069,
          0.13109963192617222,
          0.12456615064471223,
          0.12115371556145713,
          0.1298197975029901,
          0.12705810193271355,
          0.1302225978228795,
          0.13040668919971732,
          0.13310173889614144,
          0.1293796817159541,
          0.12967741600457433,
          0.12286582695361609,
          0.11433679840820782,
          0.13334893364990563,
          0.12389669395038888,
          0.13578300670844426,
          0.13225738948440902,
          0.13338489842440027,
          0.12784599699655969,
          0.133178073231345,
          0.14227699274162756,
          0.11807991093986553,
          0.12725092496120086,
          0.12101126678680553,
          0.11637021406383674,
          0.12299141168485658,
          0.12122517272016249,
          0.1219751641049166,
          0.1332603736072866,
          0.1247571391294382,
          0.1265047569824579,
          0.12721414288472688,
          0.12489296928203383,
          0.1104495983016005,
          0.11899028485285082,
          0.11929426671284875,
          0.116243138143438,
          0.12215557488072876,
          0.1192569999284075,
          0.1211259331271902,
          0.12035280914924663,
          0.12713560789115272,
          0.13415308411417576,
          0.1142348823974954,
          0.12593138534882586,
          0.12667334438202604,
          0.1237092952629795,
          0.11594215544275946,
          0.11781573978372814,
          0.13262551685747126,
          0.11252271695525301,
          0.11812245889430831,
          0.12322411916888668,
          0.12352812060455297,
          0.11697883148797093,
          0.1202246099404578,
          0.11805395355907483,
          0.10784303075179669,
          0.1084160127691043,
          0.11463460828501545,
          0.12235614396308803,
          0.11481192762843781,
          0.11010331157705869,
          0.11590400987821037,
          0.11060164995684581,
          0.11163637818958913,
          0.10921348832833139,
          0.12203822390281249,
          0.10923141396274008,
          0.11346281739552891
         ]
        },
        {
         "fill": "tonexty",
         "fillcolor": "rgba(0, 114, 178, 0.2)",
         "line": {
          "color": "#0072B2",
          "width": 2
         },
         "mode": "lines",
         "name": "Forecast",
         "type": "scatter",
         "x": [
          "2020-10-01T01:00:00",
          "2020-10-01T02:00:00",
          "2020-10-01T03:00:00",
          "2020-10-01T05:00:00",
          "2020-10-01T11:00:00",
          "2020-10-01T13:00:00",
          "2020-10-01T14:00:00",
          "2020-10-01T15:00:00",
          "2020-10-01T16:00:00",
          "2020-10-01T17:00:00",
          "2020-10-01T18:00:00",
          "2020-10-01T19:00:00",
          "2020-10-01T20:00:00",
          "2020-10-01T21:00:00",
          "2020-10-01T22:00:00",
          "2020-10-01T23:00:00",
          "2020-10-02T00:00:00",
          "2020-10-02T02:00:00",
          "2020-10-02T03:00:00",
          "2020-10-02T04:00:00",
          "2020-10-02T05:00:00",
          "2020-10-02T07:00:00",
          "2020-10-02T12:00:00",
          "2020-10-02T14:00:00",
          "2020-10-02T15:00:00",
          "2020-10-02T16:00:00",
          "2020-10-02T17:00:00",
          "2020-10-02T18:00:00",
          "2020-10-02T19:00:00",
          "2020-10-02T20:00:00",
          "2020-10-02T21:00:00",
          "2020-10-02T22:00:00",
          "2020-10-03T00:00:00",
          "2020-10-03T01:00:00",
          "2020-10-03T02:00:00",
          "2020-10-03T13:00:00",
          "2020-10-03T15:00:00",
          "2020-10-03T16:00:00",
          "2020-10-03T18:00:00",
          "2020-10-03T19:00:00",
          "2020-10-03T20:00:00",
          "2020-10-03T21:00:00",
          "2020-10-03T22:00:00",
          "2020-10-04T12:00:00",
          "2020-10-04T13:00:00",
          "2020-10-04T16:00:00",
          "2020-10-04T20:00:00",
          "2020-10-04T22:00:00",
          "2020-10-05T00:00:00",
          "2020-10-05T04:00:00",
          "2020-10-05T09:00:00",
          "2020-10-05T13:00:00",
          "2020-10-05T14:00:00",
          "2020-10-05T15:00:00",
          "2020-10-05T16:00:00",
          "2020-10-05T17:00:00",
          "2020-10-05T18:00:00",
          "2020-10-05T19:00:00",
          "2020-10-05T20:00:00",
          "2020-10-05T22:00:00",
          "2020-10-05T23:00:00",
          "2020-10-06T01:00:00",
          "2020-10-06T02:00:00",
          "2020-10-06T03:00:00",
          "2020-10-06T06:00:00",
          "2020-10-06T13:00:00",
          "2020-10-06T14:00:00",
          "2020-10-06T16:00:00",
          "2020-10-06T17:00:00",
          "2020-10-06T18:00:00",
          "2020-10-06T19:00:00",
          "2020-10-06T20:00:00",
          "2020-10-06T21:00:00",
          "2020-10-06T22:00:00",
          "2020-10-06T23:00:00",
          "2020-10-07T00:00:00",
          "2020-10-07T01:00:00",
          "2020-10-07T02:00:00",
          "2020-10-07T03:00:00",
          "2020-10-07T10:00:00",
          "2020-10-07T12:00:00",
          "2020-10-07T14:00:00",
          "2020-10-07T15:00:00",
          "2020-10-07T16:00:00",
          "2020-10-07T17:00:00",
          "2020-10-07T18:00:00",
          "2020-10-07T19:00:00",
          "2020-10-07T20:00:00",
          "2020-10-07T21:00:00",
          "2020-10-07T22:00:00",
          "2020-10-07T23:00:00",
          "2020-10-08T00:00:00",
          "2020-10-08T01:00:00",
          "2020-10-08T02:00:00",
          "2020-10-08T03:00:00",
          "2020-10-08T04:00:00",
          "2020-10-08T05:00:00",
          "2020-10-08T06:00:00",
          "2020-10-08T07:00:00",
          "2020-10-08T08:00:00",
          "2020-10-08T09:00:00",
          "2020-10-08T10:00:00",
          "2020-10-08T11:00:00",
          "2020-10-08T12:00:00",
          "2020-10-08T13:00:00",
          "2020-10-08T14:00:00",
          "2020-10-08T15:00:00",
          "2020-10-08T16:00:00",
          "2020-10-08T17:00:00",
          "2020-10-08T18:00:00",
          "2020-10-08T19:00:00",
          "2020-10-08T20:00:00",
          "2020-10-08T21:00:00",
          "2020-10-08T22:00:00",
          "2020-10-08T23:00:00",
          "2020-10-09T00:00:00",
          "2020-10-09T01:00:00",
          "2020-10-09T02:00:00",
          "2020-10-09T03:00:00",
          "2020-10-09T04:00:00",
          "2020-10-09T05:00:00",
          "2020-10-09T06:00:00",
          "2020-10-09T09:00:00",
          "2020-10-09T10:00:00",
          "2020-10-09T11:00:00",
          "2020-10-09T12:00:00",
          "2020-10-09T13:00:00",
          "2020-10-09T14:00:00",
          "2020-10-09T15:00:00",
          "2020-10-09T16:00:00",
          "2020-10-09T17:00:00",
          "2020-10-09T18:00:00",
          "2020-10-09T19:00:00",
          "2020-10-09T20:00:00",
          "2020-10-09T21:00:00",
          "2020-10-09T22:00:00",
          "2020-10-09T23:00:00",
          "2020-10-10T00:00:00",
          "2020-10-10T01:00:00",
          "2020-10-10T02:00:00",
          "2020-10-10T03:00:00",
          "2020-10-10T04:00:00",
          "2020-10-10T05:00:00",
          "2020-10-10T07:00:00",
          "2020-10-10T08:00:00",
          "2020-10-10T11:00:00",
          "2020-10-10T12:00:00",
          "2020-10-10T13:00:00",
          "2020-10-10T14:00:00",
          "2020-10-10T15:00:00",
          "2020-10-10T16:00:00",
          "2020-10-10T17:00:00",
          "2020-10-10T18:00:00",
          "2020-10-10T19:00:00",
          "2020-10-10T20:00:00",
          "2020-10-10T21:00:00",
          "2020-10-10T22:00:00",
          "2020-10-10T23:00:00",
          "2020-10-11T00:00:00",
          "2020-10-11T01:00:00",
          "2020-10-11T02:00:00",
          "2020-10-11T03:00:00",
          "2020-10-11T04:00:00",
          "2020-10-11T05:00:00",
          "2020-10-11T07:00:00",
          "2020-10-11T09:00:00",
          "2020-10-11T12:00:00",
          "2020-10-11T13:00:00",
          "2020-10-11T14:00:00",
          "2020-10-11T15:00:00",
          "2020-10-11T16:00:00",
          "2020-10-11T17:00:00",
          "2020-10-11T18:00:00",
          "2020-10-11T19:00:00",
          "2020-10-11T20:00:00",
          "2020-10-11T21:00:00",
          "2020-10-11T22:00:00",
          "2020-10-11T23:00:00",
          "2020-10-12T00:00:00",
          "2020-10-12T01:00:00",
          "2020-10-12T03:00:00",
          "2020-10-12T12:00:00",
          "2020-10-12T13:00:00",
          "2020-10-12T14:00:00",
          "2020-10-12T15:00:00",
          "2020-10-12T16:00:00",
          "2020-10-12T17:00:00",
          "2020-10-12T18:00:00",
          "2020-10-12T19:00:00",
          "2020-10-12T20:00:00",
          "2020-10-12T21:00:00",
          "2020-10-12T22:00:00",
          "2020-10-12T23:00:00",
          "2020-10-13T00:00:00"
         ],
         "y": [
          0.0805953868195226,
          0.08037916066397163,
          0.08016293450842066,
          0.07973048219731874,
          0.07843312526401294,
          0.07800067295291102,
          0.07778444679736005,
          0.07756822063434654,
          0.07735199447133304,
          0.07713576830831952,
          0.07691954214530601,
          0.07670331598229249,
          0.07648708981927899,
          0.07627086364436117,
          0.07605463746944335,
          0.07583841129452554,
          0.07562218511960773,
          0.0751897327697721,
          0.0749735065948543,
          0.0747572803561743,
          0.07454105411749429,
          0.07410860164013428,
          0.07302747044673424,
          0.07259501796937423,
          0.07237879173069423,
          0.07216256549201423,
          0.07194633921884763,
          0.07173011294568103,
          0.07151388667251443,
          0.07129766039934783,
          0.07108143412618123,
          0.07086520785301463,
          0.07043275520491044,
          0.07021652888085833,
          0.07000030255680623,
          0.06762181299223312,
          0.06718936034412892,
          0.06697313402007682,
          0.06652886925257431,
          0.06630673686882306,
          0.06608460448507182,
          0.06586247210132057,
          0.06564033971756933,
          0.06253048634505184,
          0.06230835389870511,
          0.06164195655966484,
          0.06075342677427782,
          0.06030916188158431,
          0.0598648969888908,
          0.0589763672035038,
          0.05786557529580009,
          0.056976941769637114,
          0.05675478338809638,
          0.056532625006555634,
          0.05631046662501489,
          0.05608830824347416,
          0.055866149864674704,
          0.05564399148587525,
          0.0554218331070758,
          0.054977516349476896,
          0.05475535797067744,
          0.05431104121307854,
          0.054088882834279074,
          0.053866724452984294,
          0.053200249309099945,
          0.05164514064003648,
          0.05142298225874169,
          0.05097866549615213,
          0.05075650711485735,
          0.05053434872989106,
          0.05031219034492477,
          0.05009003195995848,
          0.049867873574992186,
          0.0496457151900259,
          0.04942355680505961,
          0.04920139841411853,
          0.048979240023177446,
          0.04875708163223637,
          0.04853492324129528,
          0.04697981450470771,
          0.04653549772282554,
          0.04609118094041518,
          0.04586902254920999,
          0.0456468641580048,
          0.04542470576679962,
          0.04520254737559443,
          0.04498038898438925,
          0.04475823058914023,
          0.04453607219389122,
          0.044313913798642204,
          0.0440917554033932,
          0.043869597008144176,
          0.04364743861289517,
          0.04342528021293801,
          0.04320312181298086,
          0.042980963413023696,
          0.04275880501306654,
          0.04253664661310939,
          0.04231448821315223,
          0.042092329813195065,
          0.04187017140626285,
          0.041648012999330616,
          0.04142585459239839,
          0.04120369618546616,
          0.04098153777853394,
          0.040759379371601706,
          0.0405372209583639,
          0.040315062545126096,
          0.04009290413188829,
          0.03987074571865048,
          0.03964858730541267,
          0.03942642889217487,
          0.0392042704851523,
          0.038982112078129724,
          0.03875995367110716,
          0.03853779526408459,
          0.03831563685706202,
          0.03809347845003945,
          0.037871320039730656,
          0.03764916162942187,
          0.03742700321911306,
          0.03720484480880427,
          0.03653836957787788,
          0.03631621116756909,
          0.03609405274142394,
          0.03587189431527877,
          0.0356497358891336,
          0.03542757746298845,
          0.03520541903684328,
          0.034983260610698126,
          0.034761102189956636,
          0.034538943769215166,
          0.03431678534847369,
          0.03409462692773221,
          0.03387246850699073,
          0.033650310086249254,
          0.033428151665507784,
          0.033205993224708776,
          0.03298383478390977,
          0.03276167634311076,
          0.03253951790231175,
          0.03231735946151274,
          0.03209520102071373,
          0.03165088413625898,
          0.0314287256940316,
          0.030762250367349465,
          0.03054009192512208,
          0.030317933482894705,
          0.03009577504066733,
          0.029873616598521946,
          0.02965145815637656,
          0.029429299714231184,
          0.029207141272085808,
          0.028984982829940432,
          0.028762824387795045,
          0.028540665946006606,
          0.028318507504218167,
          0.028096349062429728,
          0.02787419062064128,
          0.027652032178852842,
          0.027429873737064403,
          0.027207715295275964,
          0.026985556853487525,
          0.026763398411699085,
          0.026319081528122207,
          0.025874764644545318,
          0.02520828931918,
          0.02498613087739156,
          0.02476397243560312,
          0.024541813993814682,
          0.024319655552026233,
          0.024097497110237794,
          0.023875338668449354,
          0.023653180226660915,
          0.023431021784872476,
          0.023208863343084037,
          0.022986704901295597,
          0.02276454645950715,
          0.022542388017718712,
          0.022320229575930273,
          0.021875912692353394,
          0.01987648671625743,
          0.01965432827446899,
          0.019432169832680552,
          0.019210011390892102,
          0.018987852949103663,
          0.018765694507315224,
          0.018543536065526785,
          0.01832137762373834,
          0.018099219181949906,
          0.017877060740161467,
          0.017654902298373028,
          0.01743274385658458,
          0.017210585414796142
         ]
        },
        {
         "fill": "tonexty",
         "fillcolor": "rgba(0, 114, 178, 0.2)",
         "hoverinfo": "skip",
         "line": {
          "width": 0
         },
         "mode": "lines",
         "showlegend": false,
         "type": "scatter",
         "x": [
          "2020-10-01T01:00:00",
          "2020-10-01T02:00:00",
          "2020-10-01T03:00:00",
          "2020-10-01T05:00:00",
          "2020-10-01T11:00:00",
          "2020-10-01T13:00:00",
          "2020-10-01T14:00:00",
          "2020-10-01T15:00:00",
          "2020-10-01T16:00:00",
          "2020-10-01T17:00:00",
          "2020-10-01T18:00:00",
          "2020-10-01T19:00:00",
          "2020-10-01T20:00:00",
          "2020-10-01T21:00:00",
          "2020-10-01T22:00:00",
          "2020-10-01T23:00:00",
          "2020-10-02T00:00:00",
          "2020-10-02T02:00:00",
          "2020-10-02T03:00:00",
          "2020-10-02T04:00:00",
          "2020-10-02T05:00:00",
          "2020-10-02T07:00:00",
          "2020-10-02T12:00:00",
          "2020-10-02T14:00:00",
          "2020-10-02T15:00:00",
          "2020-10-02T16:00:00",
          "2020-10-02T17:00:00",
          "2020-10-02T18:00:00",
          "2020-10-02T19:00:00",
          "2020-10-02T20:00:00",
          "2020-10-02T21:00:00",
          "2020-10-02T22:00:00",
          "2020-10-03T00:00:00",
          "2020-10-03T01:00:00",
          "2020-10-03T02:00:00",
          "2020-10-03T13:00:00",
          "2020-10-03T15:00:00",
          "2020-10-03T16:00:00",
          "2020-10-03T18:00:00",
          "2020-10-03T19:00:00",
          "2020-10-03T20:00:00",
          "2020-10-03T21:00:00",
          "2020-10-03T22:00:00",
          "2020-10-04T12:00:00",
          "2020-10-04T13:00:00",
          "2020-10-04T16:00:00",
          "2020-10-04T20:00:00",
          "2020-10-04T22:00:00",
          "2020-10-05T00:00:00",
          "2020-10-05T04:00:00",
          "2020-10-05T09:00:00",
          "2020-10-05T13:00:00",
          "2020-10-05T14:00:00",
          "2020-10-05T15:00:00",
          "2020-10-05T16:00:00",
          "2020-10-05T17:00:00",
          "2020-10-05T18:00:00",
          "2020-10-05T19:00:00",
          "2020-10-05T20:00:00",
          "2020-10-05T22:00:00",
          "2020-10-05T23:00:00",
          "2020-10-06T01:00:00",
          "2020-10-06T02:00:00",
          "2020-10-06T03:00:00",
          "2020-10-06T06:00:00",
          "2020-10-06T13:00:00",
          "2020-10-06T14:00:00",
          "2020-10-06T16:00:00",
          "2020-10-06T17:00:00",
          "2020-10-06T18:00:00",
          "2020-10-06T19:00:00",
          "2020-10-06T20:00:00",
          "2020-10-06T21:00:00",
          "2020-10-06T22:00:00",
          "2020-10-06T23:00:00",
          "2020-10-07T00:00:00",
          "2020-10-07T01:00:00",
          "2020-10-07T02:00:00",
          "2020-10-07T03:00:00",
          "2020-10-07T10:00:00",
          "2020-10-07T12:00:00",
          "2020-10-07T14:00:00",
          "2020-10-07T15:00:00",
          "2020-10-07T16:00:00",
          "2020-10-07T17:00:00",
          "2020-10-07T18:00:00",
          "2020-10-07T19:00:00",
          "2020-10-07T20:00:00",
          "2020-10-07T21:00:00",
          "2020-10-07T22:00:00",
          "2020-10-07T23:00:00",
          "2020-10-08T00:00:00",
          "2020-10-08T01:00:00",
          "2020-10-08T02:00:00",
          "2020-10-08T03:00:00",
          "2020-10-08T04:00:00",
          "2020-10-08T05:00:00",
          "2020-10-08T06:00:00",
          "2020-10-08T07:00:00",
          "2020-10-08T08:00:00",
          "2020-10-08T09:00:00",
          "2020-10-08T10:00:00",
          "2020-10-08T11:00:00",
          "2020-10-08T12:00:00",
          "2020-10-08T13:00:00",
          "2020-10-08T14:00:00",
          "2020-10-08T15:00:00",
          "2020-10-08T16:00:00",
          "2020-10-08T17:00:00",
          "2020-10-08T18:00:00",
          "2020-10-08T19:00:00",
          "2020-10-08T20:00:00",
          "2020-10-08T21:00:00",
          "2020-10-08T22:00:00",
          "2020-10-08T23:00:00",
          "2020-10-09T00:00:00",
          "2020-10-09T01:00:00",
          "2020-10-09T02:00:00",
          "2020-10-09T03:00:00",
          "2020-10-09T04:00:00",
          "2020-10-09T05:00:00",
          "2020-10-09T06:00:00",
          "2020-10-09T09:00:00",
          "2020-10-09T10:00:00",
          "2020-10-09T11:00:00",
          "2020-10-09T12:00:00",
          "2020-10-09T13:00:00",
          "2020-10-09T14:00:00",
          "2020-10-09T15:00:00",
          "2020-10-09T16:00:00",
          "2020-10-09T17:00:00",
          "2020-10-09T18:00:00",
          "2020-10-09T19:00:00",
          "2020-10-09T20:00:00",
          "2020-10-09T21:00:00",
          "2020-10-09T22:00:00",
          "2020-10-09T23:00:00",
          "2020-10-10T00:00:00",
          "2020-10-10T01:00:00",
          "2020-10-10T02:00:00",
          "2020-10-10T03:00:00",
          "2020-10-10T04:00:00",
          "2020-10-10T05:00:00",
          "2020-10-10T07:00:00",
          "2020-10-10T08:00:00",
          "2020-10-10T11:00:00",
          "2020-10-10T12:00:00",
          "2020-10-10T13:00:00",
          "2020-10-10T14:00:00",
          "2020-10-10T15:00:00",
          "2020-10-10T16:00:00",
          "2020-10-10T17:00:00",
          "2020-10-10T18:00:00",
          "2020-10-10T19:00:00",
          "2020-10-10T20:00:00",
          "2020-10-10T21:00:00",
          "2020-10-10T22:00:00",
          "2020-10-10T23:00:00",
          "2020-10-11T00:00:00",
          "2020-10-11T01:00:00",
          "2020-10-11T02:00:00",
          "2020-10-11T03:00:00",
          "2020-10-11T04:00:00",
          "2020-10-11T05:00:00",
          "2020-10-11T07:00:00",
          "2020-10-11T09:00:00",
          "2020-10-11T12:00:00",
          "2020-10-11T13:00:00",
          "2020-10-11T14:00:00",
          "2020-10-11T15:00:00",
          "2020-10-11T16:00:00",
          "2020-10-11T17:00:00",
          "2020-10-11T18:00:00",
          "2020-10-11T19:00:00",
          "2020-10-11T20:00:00",
          "2020-10-11T21:00:00",
          "2020-10-11T22:00:00",
          "2020-10-11T23:00:00",
          "2020-10-12T00:00:00",
          "2020-10-12T01:00:00",
          "2020-10-12T03:00:00",
          "2020-10-12T12:00:00",
          "2020-10-12T13:00:00",
          "2020-10-12T14:00:00",
          "2020-10-12T15:00:00",
          "2020-10-12T16:00:00",
          "2020-10-12T17:00:00",
          "2020-10-12T18:00:00",
          "2020-10-12T19:00:00",
          "2020-10-12T20:00:00",
          "2020-10-12T21:00:00",
          "2020-10-12T22:00:00",
          "2020-10-12T23:00:00",
          "2020-10-13T00:00:00"
         ],
         "y": [
          -0.004016478079898134,
          -0.014140452734021217,
          -0.01926342675823392,
          -0.019460604607990387,
          -0.01826285496206817,
          -0.006626324512837414,
          -0.018384290012996102,
          -0.015479185337482701,
          -0.020275547786308454,
          -0.006510094222868648,
          -0.017410721590497544,
          -0.015516167029791486,
          -0.008515858310610178,
          -0.015284954215892418,
          -0.02444032484269093,
          -0.016522511790022676,
          -0.003490910804295963,
          -0.01604877413330026,
          -0.01978020839821358,
          -0.022531029832419544,
          -0.013977623684710214,
          -0.012157638721929681,
          -0.012751724406591211,
          -0.02193518390975996,
          -0.026400723382337496,
          -0.029028332464294093,
          -0.02030107346586571,
          -0.030589512400195418,
          -0.02399498879548359,
          -0.018145805969453657,
          -0.033177904646228606,
          -0.026623833695191293,
          -0.023541428348374735,
          -0.020455350747281345,
          -0.017193377260206977,
          -0.01829427441885688,
          -0.03629895934098372,
          -0.014332971831132288,
          -0.02538706798203061,
          -0.021572615905082707,
          -0.02586768878049414,
          -0.02610905842283104,
          -0.03566819989671911,
          -0.03432054865276475,
          -0.023772571999521416,
          -0.03560440091181527,
          -0.028168259595798925,
          -0.03621848240768854,
          -0.03428008502924254,
          -0.037481214672600835,
          -0.04120965256615124,
          -0.039826506528805365,
          -0.03659567060605233,
          -0.02983678592993845,
          -0.03823185533306235,
          -0.04281766159404862,
          -0.040584568155775165,
          -0.03993323721782434,
          -0.03942422305059052,
          -0.03185181474089796,
          -0.0358961145069101,
          -0.03356093461464096,
          -0.03628222991300042,
          -0.04500340894376935,
          -0.038847324159783966,
          -0.05478053963005052,
          -0.03173368145228517,
          -0.03931030180543665,
          -0.047881222849379054,
          -0.042550488132313435,
          -0.045553460917424786,
          -0.03930227141329326,
          -0.04705035454910429,
          -0.055523948760006346,
          -0.03687729867026977,
          -0.03693390703716636,
          -0.04629496950071819,
          -0.043997017103867095,
          -0.05132844685570852,
          -0.04595053437978797,
          -0.04619881594468699,
          -0.04636171410550768,
          -0.04988551436173155,
          -0.04403633621648374,
          -0.0543389855256213,
          -0.05149035675933566,
          -0.055395082988555736,
          -0.04005164676089601,
          -0.04589336104170827,
          -0.05180319752520236,
          -0.049748669791094234,
          -0.04017693854737957,
          -0.04696530737646532,
          -0.043704168772098206,
          -0.05784368335775586,
          -0.05238967360858074,
          -0.03681183064514632,
          -0.04951771245899409,
          -0.04013770127399725,
          -0.05309274207067925,
          -0.04708912011783518,
          -0.05522775478060732,
          -0.044336297958329426,
          -0.04545114188435143,
          -0.04393321366415518,
          -0.05345315648423568,
          -0.04760994706849106,
          -0.0655232694259465,
          -0.05432978575987686,
          -0.05749908542765154,
          -0.05904213656583813,
          -0.05912399565099726,
          -0.049728967382038976,
          -0.06053075626031229,
          -0.06398663856166159,
          -0.0651018081855411,
          -0.05366550087208749,
          -0.05219533996233547,
          -0.051972891513086254,
          -0.05492537598983863,
          -0.04913196936532384,
          -0.05221627196226828,
          -0.05263928978878562,
          -0.05050226833556525,
          -0.06064844217948796,
          -0.06168245044014948,
          -0.06489638769627233,
          -0.06944480801110026,
          -0.05154068499235688,
          -0.058268774506166555,
          -0.06038069901992289,
          -0.06487622074423789,
          -0.06336593642977753,
          -0.054455362216592904,
          -0.06923822376382843,
          -0.062264660574711424,
          -0.06279367192075827,
          -0.05872484145251466,
          -0.05564188377145154,
          -0.05315407538696761,
          -0.049892317530552475,
          -0.05847715401424367,
          -0.05834211679551147,
          -0.05629425772873807,
          -0.05522225215285394,
          -0.06199018150527294,
          -0.06364224372830363,
          -0.06254741295262335,
          -0.06288557148322804,
          -0.06474320086205673,
          -0.080235625845281,
          -0.05586889526823008,
          -0.05286342960128311,
          -0.05542163937050619,
          -0.05221247931739125,
          -0.06637043392483444,
          -0.059065293322744565,
          -0.07224863591839442,
          -0.06950581168646502,
          -0.0748807329508796,
          -0.07500587621660021,
          -0.05774235892719545,
          -0.07154167360049497,
          -0.06692916679087615,
          -0.07090296523146533,
          -0.07764628963846891,
          -0.07621105111986345,
          -0.06632650162816517,
          -0.06363251399067725,
          -0.05127423108268288,
          -0.07356033507145943,
          -0.0652295621372351,
          -0.07038617380230558,
          -0.06708791299487629,
          -0.07822016712259816,
          -0.07126780748938097,
          -0.06316798058630041,
          -0.07112660995579337,
          -0.0791890167043856,
          -0.06842510322571349,
          -0.08292500115562543,
          -0.07635900423917098,
          -0.06784010656073335,
          -0.0768131539543903,
          -0.07313271023226206,
          -0.07895457505172848,
          -0.0771170806429255,
          -0.08247336259948912,
          -0.07602951179368106,
          -0.07666321733956835,
          -0.07166093512457913,
          -0.06868733067812804,
          -0.07710558506134531,
          -0.0696785431671555
         ]
        },
        {
         "line": {
          "color": "black",
          "width": 2
         },
         "mode": "lines",
         "name": "top3_hashtag_count",
         "type": "scatter",
         "x": [
          "2020-10-01T01:00:00",
          "2020-10-01T02:00:00",
          "2020-10-01T03:00:00",
          "2020-10-01T05:00:00",
          "2020-10-01T11:00:00",
          "2020-10-01T13:00:00",
          "2020-10-01T14:00:00",
          "2020-10-01T15:00:00",
          "2020-10-01T16:00:00",
          "2020-10-01T17:00:00",
          "2020-10-01T18:00:00",
          "2020-10-01T19:00:00",
          "2020-10-01T20:00:00",
          "2020-10-01T21:00:00",
          "2020-10-01T22:00:00",
          "2020-10-01T23:00:00",
          "2020-10-02T00:00:00",
          "2020-10-02T02:00:00",
          "2020-10-02T03:00:00",
          "2020-10-02T04:00:00",
          "2020-10-02T05:00:00",
          "2020-10-02T07:00:00",
          "2020-10-02T12:00:00",
          "2020-10-02T14:00:00",
          "2020-10-02T15:00:00",
          "2020-10-02T16:00:00",
          "2020-10-02T17:00:00",
          "2020-10-02T18:00:00",
          "2020-10-02T19:00:00",
          "2020-10-02T20:00:00",
          "2020-10-02T21:00:00",
          "2020-10-02T22:00:00",
          "2020-10-03T00:00:00",
          "2020-10-03T01:00:00",
          "2020-10-03T02:00:00",
          "2020-10-03T13:00:00",
          "2020-10-03T15:00:00",
          "2020-10-03T16:00:00",
          "2020-10-03T18:00:00",
          "2020-10-03T19:00:00",
          "2020-10-03T20:00:00",
          "2020-10-03T21:00:00",
          "2020-10-03T22:00:00",
          "2020-10-04T12:00:00",
          "2020-10-04T13:00:00",
          "2020-10-04T16:00:00",
          "2020-10-04T20:00:00",
          "2020-10-04T22:00:00",
          "2020-10-05T00:00:00",
          "2020-10-05T04:00:00",
          "2020-10-05T09:00:00",
          "2020-10-05T13:00:00",
          "2020-10-05T14:00:00",
          "2020-10-05T15:00:00",
          "2020-10-05T16:00:00",
          "2020-10-05T17:00:00",
          "2020-10-05T18:00:00",
          "2020-10-05T19:00:00",
          "2020-10-05T20:00:00",
          "2020-10-05T22:00:00",
          "2020-10-05T23:00:00",
          "2020-10-06T01:00:00",
          "2020-10-06T02:00:00",
          "2020-10-06T03:00:00",
          "2020-10-06T06:00:00",
          "2020-10-06T13:00:00",
          "2020-10-06T14:00:00",
          "2020-10-06T16:00:00",
          "2020-10-06T17:00:00",
          "2020-10-06T18:00:00",
          "2020-10-06T19:00:00",
          "2020-10-06T20:00:00",
          "2020-10-06T21:00:00",
          "2020-10-06T22:00:00",
          "2020-10-06T23:00:00",
          "2020-10-07T00:00:00",
          "2020-10-07T01:00:00",
          "2020-10-07T02:00:00",
          "2020-10-07T03:00:00",
          "2020-10-07T10:00:00",
          "2020-10-07T12:00:00",
          "2020-10-07T14:00:00",
          "2020-10-07T15:00:00",
          "2020-10-07T16:00:00",
          "2020-10-07T17:00:00",
          "2020-10-07T18:00:00",
          "2020-10-07T19:00:00",
          "2020-10-07T20:00:00",
          "2020-10-07T21:00:00",
          "2020-10-07T22:00:00",
          "2020-10-07T23:00:00",
          "2020-10-08T00:00:00",
          "2020-10-08T01:00:00",
          "2020-10-08T02:00:00",
          "2020-10-08T03:00:00",
          "2020-10-08T04:00:00",
          "2020-10-08T05:00:00",
          "2020-10-08T06:00:00",
          "2020-10-08T07:00:00",
          "2020-10-08T08:00:00",
          "2020-10-08T09:00:00",
          "2020-10-08T10:00:00",
          "2020-10-08T11:00:00",
          "2020-10-08T12:00:00",
          "2020-10-08T13:00:00",
          "2020-10-08T14:00:00",
          "2020-10-08T15:00:00",
          "2020-10-08T16:00:00",
          "2020-10-08T17:00:00",
          "2020-10-08T18:00:00",
          "2020-10-08T19:00:00",
          "2020-10-08T20:00:00",
          "2020-10-08T21:00:00",
          "2020-10-08T22:00:00",
          "2020-10-08T23:00:00",
          "2020-10-09T00:00:00",
          "2020-10-09T01:00:00",
          "2020-10-09T02:00:00",
          "2020-10-09T03:00:00",
          "2020-10-09T04:00:00",
          "2020-10-09T05:00:00",
          "2020-10-09T06:00:00",
          "2020-10-09T09:00:00",
          "2020-10-09T10:00:00",
          "2020-10-09T11:00:00",
          "2020-10-09T12:00:00",
          "2020-10-09T13:00:00",
          "2020-10-09T14:00:00",
          "2020-10-09T15:00:00",
          "2020-10-09T16:00:00",
          "2020-10-09T17:00:00",
          "2020-10-09T18:00:00",
          "2020-10-09T19:00:00",
          "2020-10-09T20:00:00",
          "2020-10-09T21:00:00",
          "2020-10-09T22:00:00",
          "2020-10-09T23:00:00",
          "2020-10-10T00:00:00",
          "2020-10-10T01:00:00",
          "2020-10-10T02:00:00",
          "2020-10-10T03:00:00",
          "2020-10-10T04:00:00",
          "2020-10-10T05:00:00",
          "2020-10-10T07:00:00",
          "2020-10-10T08:00:00",
          "2020-10-10T11:00:00",
          "2020-10-10T12:00:00",
          "2020-10-10T13:00:00",
          "2020-10-10T14:00:00",
          "2020-10-10T15:00:00",
          "2020-10-10T16:00:00",
          "2020-10-10T17:00:00",
          "2020-10-10T18:00:00",
          "2020-10-10T19:00:00",
          "2020-10-10T20:00:00",
          "2020-10-10T21:00:00",
          "2020-10-10T22:00:00",
          "2020-10-10T23:00:00",
          "2020-10-11T00:00:00",
          "2020-10-11T01:00:00",
          "2020-10-11T02:00:00",
          "2020-10-11T03:00:00",
          "2020-10-11T04:00:00",
          "2020-10-11T05:00:00",
          "2020-10-11T07:00:00",
          "2020-10-11T09:00:00",
          "2020-10-11T12:00:00",
          "2020-10-11T13:00:00",
          "2020-10-11T14:00:00",
          "2020-10-11T15:00:00",
          "2020-10-11T16:00:00",
          "2020-10-11T17:00:00",
          "2020-10-11T18:00:00",
          "2020-10-11T19:00:00",
          "2020-10-11T20:00:00",
          "2020-10-11T21:00:00",
          "2020-10-11T22:00:00",
          "2020-10-11T23:00:00",
          "2020-10-12T00:00:00",
          "2020-10-12T01:00:00",
          "2020-10-12T03:00:00",
          "2020-10-12T12:00:00",
          "2020-10-12T13:00:00",
          "2020-10-12T14:00:00",
          "2020-10-12T15:00:00",
          "2020-10-12T16:00:00",
          "2020-10-12T17:00:00",
          "2020-10-12T18:00:00",
          "2020-10-12T19:00:00",
          "2020-10-12T20:00:00",
          "2020-10-12T21:00:00",
          "2020-10-12T22:00:00",
          "2020-10-12T23:00:00",
          "2020-10-13T00:00:00"
         ],
         "y": [
          0,
          0,
          0,
          0,
          0,
          0,
          0,
          0,
          0,
          0,
          0,
          0,
          0,
          0,
          0,
          0.3333333333333333,
          0.3333333333333333,
          0.3333333333333333,
          0,
          0,
          0,
          0,
          0,
          0,
          0,
          0,
          0,
          0,
          0,
          0,
          0,
          0,
          0,
          0.6666666666666666,
          0.6666666666666666,
          0.6666666666666666,
          0.3333333333333333,
          0.3333333333333333,
          0.3333333333333333,
          0,
          0,
          0,
          0,
          0,
          0,
          0,
          0,
          0,
          0,
          0,
          0,
          0,
          0,
          0,
          0,
          0,
          0,
          0.6666666666666666,
          0.6666666666666666,
          0.6666666666666666,
          0,
          0,
          0,
          0,
          0,
          0,
          0,
          0,
          0,
          0,
          0,
          0,
          0,
          0,
          0,
          0,
          0,
          0,
          0,
          0,
          0,
          0,
          0,
          0,
          0,
          0,
          0,
          0,
          0,
          0,
          0,
          0,
          0,
          0,
          0.3333333333333333,
          0.3333333333333333,
          0.3333333333333333,
          0,
          0,
          0,
          0,
          0,
          0,
          0,
          0,
          0,
          0,
          0,
          0,
          0,
          0,
          0,
          0,
          0,
          0,
          0,
          0,
          0,
          0,
          0,
          0,
          0,
          0,
          0,
          0,
          0,
          0,
          0,
          0,
          0.3333333333333333,
          0.3333333333333333,
          0.3333333333333333,
          0.3333333333333333,
          0.3333333333333333,
          0.3333333333333333,
          0,
          0,
          0,
          0,
          0,
          0,
          0,
          0,
          0,
          0,
          0,
          0,
          0,
          0,
          0,
          0,
          0,
          0,
          0,
          0,
          0,
          0,
          0,
          0,
          0,
          0,
          0,
          0,
          0,
          0,
          0,
          0,
          0,
          0,
          0,
          0,
          0,
          0,
          0,
          0,
          0,
          0,
          0,
          0,
          0,
          0,
          0,
          0,
          0,
          0,
          0,
          0,
          0,
          0,
          0,
          0,
          0,
          0,
          0
         ]
        },
        {
         "line": {
          "color": "red",
          "width": 2
         },
         "mode": "lines",
         "name": "Anomaly Score",
         "type": "scatter",
         "x": [
          "2020-10-01T01:00:00",
          "2020-10-01T02:00:00",
          "2020-10-01T03:00:00",
          "2020-10-01T05:00:00",
          "2020-10-01T11:00:00",
          "2020-10-01T13:00:00",
          "2020-10-01T14:00:00",
          "2020-10-01T15:00:00",
          "2020-10-01T16:00:00",
          "2020-10-01T17:00:00",
          "2020-10-01T18:00:00",
          "2020-10-01T19:00:00",
          "2020-10-01T20:00:00",
          "2020-10-01T21:00:00",
          "2020-10-01T22:00:00",
          "2020-10-01T23:00:00",
          "2020-10-02T00:00:00",
          "2020-10-02T02:00:00",
          "2020-10-02T03:00:00",
          "2020-10-02T04:00:00",
          "2020-10-02T05:00:00",
          "2020-10-02T07:00:00",
          "2020-10-02T12:00:00",
          "2020-10-02T14:00:00",
          "2020-10-02T15:00:00",
          "2020-10-02T16:00:00",
          "2020-10-02T17:00:00",
          "2020-10-02T18:00:00",
          "2020-10-02T19:00:00",
          "2020-10-02T20:00:00",
          "2020-10-02T21:00:00",
          "2020-10-02T22:00:00",
          "2020-10-03T00:00:00",
          "2020-10-03T01:00:00",
          "2020-10-03T02:00:00",
          "2020-10-03T13:00:00",
          "2020-10-03T15:00:00",
          "2020-10-03T16:00:00",
          "2020-10-03T18:00:00",
          "2020-10-03T19:00:00",
          "2020-10-03T20:00:00",
          "2020-10-03T21:00:00",
          "2020-10-03T22:00:00",
          "2020-10-04T12:00:00",
          "2020-10-04T13:00:00",
          "2020-10-04T16:00:00",
          "2020-10-04T20:00:00",
          "2020-10-04T22:00:00",
          "2020-10-05T00:00:00",
          "2020-10-05T04:00:00",
          "2020-10-05T09:00:00",
          "2020-10-05T13:00:00",
          "2020-10-05T14:00:00",
          "2020-10-05T15:00:00",
          "2020-10-05T16:00:00",
          "2020-10-05T17:00:00",
          "2020-10-05T18:00:00",
          "2020-10-05T19:00:00",
          "2020-10-05T20:00:00",
          "2020-10-05T22:00:00",
          "2020-10-05T23:00:00",
          "2020-10-06T01:00:00",
          "2020-10-06T02:00:00",
          "2020-10-06T03:00:00",
          "2020-10-06T06:00:00",
          "2020-10-06T13:00:00",
          "2020-10-06T14:00:00",
          "2020-10-06T16:00:00",
          "2020-10-06T17:00:00",
          "2020-10-06T18:00:00",
          "2020-10-06T19:00:00",
          "2020-10-06T20:00:00",
          "2020-10-06T21:00:00",
          "2020-10-06T22:00:00",
          "2020-10-06T23:00:00",
          "2020-10-07T00:00:00",
          "2020-10-07T01:00:00",
          "2020-10-07T02:00:00",
          "2020-10-07T03:00:00",
          "2020-10-07T10:00:00",
          "2020-10-07T12:00:00",
          "2020-10-07T14:00:00",
          "2020-10-07T15:00:00",
          "2020-10-07T16:00:00",
          "2020-10-07T17:00:00",
          "2020-10-07T18:00:00",
          "2020-10-07T19:00:00",
          "2020-10-07T20:00:00",
          "2020-10-07T21:00:00",
          "2020-10-07T22:00:00",
          "2020-10-07T23:00:00",
          "2020-10-08T00:00:00",
          "2020-10-08T01:00:00",
          "2020-10-08T02:00:00",
          "2020-10-08T03:00:00",
          "2020-10-08T04:00:00",
          "2020-10-08T05:00:00",
          "2020-10-08T06:00:00",
          "2020-10-08T07:00:00",
          "2020-10-08T08:00:00",
          "2020-10-08T09:00:00",
          "2020-10-08T10:00:00",
          "2020-10-08T11:00:00",
          "2020-10-08T12:00:00",
          "2020-10-08T13:00:00",
          "2020-10-08T14:00:00",
          "2020-10-08T15:00:00",
          "2020-10-08T16:00:00",
          "2020-10-08T17:00:00",
          "2020-10-08T18:00:00",
          "2020-10-08T19:00:00",
          "2020-10-08T20:00:00",
          "2020-10-08T21:00:00",
          "2020-10-08T22:00:00",
          "2020-10-08T23:00:00",
          "2020-10-09T00:00:00",
          "2020-10-09T01:00:00",
          "2020-10-09T02:00:00",
          "2020-10-09T03:00:00",
          "2020-10-09T04:00:00",
          "2020-10-09T05:00:00",
          "2020-10-09T06:00:00",
          "2020-10-09T09:00:00",
          "2020-10-09T10:00:00",
          "2020-10-09T11:00:00",
          "2020-10-09T12:00:00",
          "2020-10-09T13:00:00",
          "2020-10-09T14:00:00",
          "2020-10-09T15:00:00",
          "2020-10-09T16:00:00",
          "2020-10-09T17:00:00",
          "2020-10-09T18:00:00",
          "2020-10-09T19:00:00",
          "2020-10-09T20:00:00",
          "2020-10-09T21:00:00",
          "2020-10-09T22:00:00",
          "2020-10-09T23:00:00",
          "2020-10-10T00:00:00",
          "2020-10-10T01:00:00",
          "2020-10-10T02:00:00",
          "2020-10-10T03:00:00",
          "2020-10-10T04:00:00",
          "2020-10-10T05:00:00",
          "2020-10-10T07:00:00",
          "2020-10-10T08:00:00",
          "2020-10-10T11:00:00",
          "2020-10-10T12:00:00",
          "2020-10-10T13:00:00",
          "2020-10-10T14:00:00",
          "2020-10-10T15:00:00",
          "2020-10-10T16:00:00",
          "2020-10-10T17:00:00",
          "2020-10-10T18:00:00",
          "2020-10-10T19:00:00",
          "2020-10-10T20:00:00",
          "2020-10-10T21:00:00",
          "2020-10-10T22:00:00",
          "2020-10-10T23:00:00",
          "2020-10-11T00:00:00",
          "2020-10-11T01:00:00",
          "2020-10-11T02:00:00",
          "2020-10-11T03:00:00",
          "2020-10-11T04:00:00",
          "2020-10-11T05:00:00",
          "2020-10-11T07:00:00",
          "2020-10-11T09:00:00",
          "2020-10-11T12:00:00",
          "2020-10-11T13:00:00",
          "2020-10-11T14:00:00",
          "2020-10-11T15:00:00",
          "2020-10-11T16:00:00",
          "2020-10-11T17:00:00",
          "2020-10-11T18:00:00",
          "2020-10-11T19:00:00",
          "2020-10-11T20:00:00",
          "2020-10-11T21:00:00",
          "2020-10-11T22:00:00",
          "2020-10-11T23:00:00",
          "2020-10-12T00:00:00",
          "2020-10-12T01:00:00",
          "2020-10-12T03:00:00",
          "2020-10-12T12:00:00",
          "2020-10-12T13:00:00",
          "2020-10-12T14:00:00",
          "2020-10-12T15:00:00",
          "2020-10-12T16:00:00",
          "2020-10-12T17:00:00",
          "2020-10-12T18:00:00",
          "2020-10-12T19:00:00",
          "2020-10-12T20:00:00",
          "2020-10-12T21:00:00",
          "2020-10-12T22:00:00",
          "2020-10-12T23:00:00",
          "2020-10-13T00:00:00"
         ],
         "xaxis": "x",
         "y": [
          -1.5293660294032654,
          -1.5172524248951034,
          -1.4964979483085972,
          -1.508383111577134,
          -1.4879885164251812,
          -1.5157818339325457,
          -1.4002360616598617,
          -1.4932546183113737,
          -1.4130120692177235,
          -1.4861618819308635,
          -1.46061278289366,
          -1.4729080733523894,
          -1.5048585340283802,
          -1.430055955857457,
          -1.4228736647388738,
          1.905556899088864,
          1.921941655002902,
          1.9100305959578963,
          -1.4758723634568955,
          -1.4621951733162688,
          -1.3852428447089904,
          -1.4556999207539545,
          -1.4278437627144687,
          -1.3793090991635528,
          -1.368222568507012,
          -1.3927954196422885,
          -1.3151305597093916,
          -1.3931362150920503,
          -1.2577806398056122,
          -1.3622059178852715,
          -1.2793067558875633,
          -1.3493257158265648,
          -1.373501281174725,
          2.8061835651682183,
          2.781197181660943,
          2.828824135120851,
          1.9112364670089361,
          1.927613675729346,
          1.9272488777891161,
          -1.2458262882757305,
          -1.2294554813846743,
          -1.218642561509261,
          -1.2140603048949907,
          -1.0637007781248253,
          -1.0776976747017135,
          -0.9876057086717621,
          -1.0282671444665166,
          -1.0647482115012825,
          -1.0258276476958448,
          -1.007447738905837,
          -0.9979589235779659,
          -0.9047553890790514,
          -0.9368591688942625,
          -0.982082917819288,
          -0.9306699545001885,
          -0.941997663317848,
          -0.9373526999433385,
          2.863936658473475,
          2.8763474650401397,
          2.8684835760855436,
          -0.894274664038374,
          -0.9133339967866551,
          -0.8989866269994604,
          -0.8088464727929591,
          -0.7896418641272656,
          -0.8156521880308265,
          -0.8081300162849423,
          -0.7974841488352836,
          -0.7889210579084719,
          -0.7848006303869536,
          -0.7818746326611181,
          -0.756598335820505,
          -0.7522968700505814,
          -0.7378562801047923,
          -0.7996279206517214,
          -0.757045802008929,
          -0.7619159009364278,
          -0.7553016891266356,
          -0.7451399392388623,
          -0.7241165154440365,
          -0.6561541475239409,
          -0.7184850625497273,
          -0.6709149508027293,
          -0.6979529442411236,
          -0.6356814510154218,
          -0.6341956545477867,
          -0.6533657157106975,
          -0.6504076929142357,
          -0.6615673101256333,
          -0.6469449390457829,
          -0.6471556066272418,
          -0.6815934865126847,
          -0.5750559503983758,
          -0.6163926110278045,
          1.9575350856173588,
          1.9714067502482449,
          1.9976081105873122,
          -0.5566751510892408,
          -0.620082733997047,
          -0.5683674705025745,
          -0.6174011871547518,
          -0.557272148462788,
          -0.5936267735782979,
          -0.5527010053208061,
          -0.5608716406630817,
          -0.5701364910110026,
          -0.5633836423741342,
          -0.506400941578835,
          -0.5502002688404779,
          -0.5230601925026849,
          -0.559523371751653,
          -0.5597718759188498,
          -0.5030546804123145,
          0,
          0,
          -0.5057440373996321,
          0,
          0,
          -0.5085519967168198,
          0,
          0,
          0,
          0,
          0,
          0,
          0,
          0,
          0,
          0,
          2.009593958724856,
          1.9824469903027129,
          1.9759141699973368,
          1.9841952418082882,
          1.9930043212985753,
          1.9866063814007269,
          0,
          0,
          0,
          0,
          0,
          0,
          0,
          0,
          0,
          0,
          0,
          0,
          0,
          0,
          0,
          0,
          0,
          0,
          0,
          0,
          0,
          0,
          0,
          0,
          0,
          0,
          0,
          0,
          0,
          0,
          0,
          0,
          0,
          0,
          0,
          0,
          0,
          0,
          0,
          0,
          0,
          0,
          0,
          0,
          0,
          0,
          0,
          0,
          0,
          0,
          0,
          0,
          0,
          0,
          0,
          0,
          0,
          0,
          0
         ],
         "yaxis": "y2"
        }
       ],
       "layout": {
        "height": 600,
        "shapes": [
         {
          "fillcolor": "#e07070",
          "line": {
           "width": 0
          },
          "opacity": 0.4,
          "type": "rect",
          "x0": "2020-10-01T01:00:00",
          "x1": "2020-10-01T02:00:00",
          "xref": "x",
          "y0": 0,
          "y1": 1,
          "yref": "y domain"
         },
         {
          "fillcolor": "#e07070",
          "line": {
           "width": 0
          },
          "opacity": 0.4,
          "type": "rect",
          "x0": "2020-10-01T02:00:00",
          "x1": "2020-10-01T03:00:00",
          "xref": "x",
          "y0": 0,
          "y1": 1,
          "yref": "y domain"
         },
         {
          "fillcolor": "#e07070",
          "line": {
           "width": 0
          },
          "opacity": 0.4,
          "type": "rect",
          "x0": "2020-10-01T03:00:00",
          "x1": "2020-10-01T05:00:00",
          "xref": "x",
          "y0": 0,
          "y1": 1,
          "yref": "y domain"
         },
         {
          "fillcolor": "#e07070",
          "line": {
           "width": 0
          },
          "opacity": 0.4,
          "type": "rect",
          "x0": "2020-10-01T05:00:00",
          "x1": "2020-10-01T11:00:00",
          "xref": "x",
          "y0": 0,
          "y1": 1,
          "yref": "y domain"
         },
         {
          "fillcolor": "#e07070",
          "line": {
           "width": 0
          },
          "opacity": 0.4,
          "type": "rect",
          "x0": "2020-10-01T11:00:00",
          "x1": "2020-10-01T13:00:00",
          "xref": "x",
          "y0": 0,
          "y1": 1,
          "yref": "y domain"
         },
         {
          "fillcolor": "#e07070",
          "line": {
           "width": 0
          },
          "opacity": 0.4,
          "type": "rect",
          "x0": "2020-10-01T13:00:00",
          "x1": "2020-10-01T14:00:00",
          "xref": "x",
          "y0": 0,
          "y1": 1,
          "yref": "y domain"
         },
         {
          "fillcolor": "#e07070",
          "line": {
           "width": 0
          },
          "opacity": 0.4,
          "type": "rect",
          "x0": "2020-10-01T14:00:00",
          "x1": "2020-10-01T15:00:00",
          "xref": "x",
          "y0": 0,
          "y1": 1,
          "yref": "y domain"
         },
         {
          "fillcolor": "#e07070",
          "line": {
           "width": 0
          },
          "opacity": 0.4,
          "type": "rect",
          "x0": "2020-10-01T15:00:00",
          "x1": "2020-10-01T16:00:00",
          "xref": "x",
          "y0": 0,
          "y1": 1,
          "yref": "y domain"
         },
         {
          "fillcolor": "#e07070",
          "line": {
           "width": 0
          },
          "opacity": 0.4,
          "type": "rect",
          "x0": "2020-10-01T16:00:00",
          "x1": "2020-10-01T17:00:00",
          "xref": "x",
          "y0": 0,
          "y1": 1,
          "yref": "y domain"
         },
         {
          "fillcolor": "#e07070",
          "line": {
           "width": 0
          },
          "opacity": 0.4,
          "type": "rect",
          "x0": "2020-10-01T17:00:00",
          "x1": "2020-10-01T18:00:00",
          "xref": "x",
          "y0": 0,
          "y1": 1,
          "yref": "y domain"
         },
         {
          "fillcolor": "#e07070",
          "line": {
           "width": 0
          },
          "opacity": 0.4,
          "type": "rect",
          "x0": "2020-10-01T18:00:00",
          "x1": "2020-10-01T19:00:00",
          "xref": "x",
          "y0": 0,
          "y1": 1,
          "yref": "y domain"
         },
         {
          "fillcolor": "#e07070",
          "line": {
           "width": 0
          },
          "opacity": 0.4,
          "type": "rect",
          "x0": "2020-10-01T19:00:00",
          "x1": "2020-10-01T20:00:00",
          "xref": "x",
          "y0": 0,
          "y1": 1,
          "yref": "y domain"
         },
         {
          "fillcolor": "#e07070",
          "line": {
           "width": 0
          },
          "opacity": 0.4,
          "type": "rect",
          "x0": "2020-10-01T20:00:00",
          "x1": "2020-10-01T21:00:00",
          "xref": "x",
          "y0": 0,
          "y1": 1,
          "yref": "y domain"
         },
         {
          "fillcolor": "#e07070",
          "line": {
           "width": 0
          },
          "opacity": 0.4,
          "type": "rect",
          "x0": "2020-10-01T21:00:00",
          "x1": "2020-10-01T22:00:00",
          "xref": "x",
          "y0": 0,
          "y1": 1,
          "yref": "y domain"
         },
         {
          "fillcolor": "#e07070",
          "line": {
           "width": 0
          },
          "opacity": 0.4,
          "type": "rect",
          "x0": "2020-10-01T22:00:00",
          "x1": "2020-10-01T23:00:00",
          "xref": "x",
          "y0": 0,
          "y1": 1,
          "yref": "y domain"
         },
         {
          "fillcolor": "#e07070",
          "line": {
           "width": 0
          },
          "opacity": 0.4,
          "type": "rect",
          "x0": "2020-10-01T23:00:00",
          "x1": "2020-10-02T00:00:00",
          "xref": "x",
          "y0": 0,
          "y1": 1,
          "yref": "y domain"
         },
         {
          "fillcolor": "#e07070",
          "line": {
           "width": 0
          },
          "opacity": 0.4,
          "type": "rect",
          "x0": "2020-10-02T00:00:00",
          "x1": "2020-10-02T02:00:00",
          "xref": "x",
          "y0": 0,
          "y1": 1,
          "yref": "y domain"
         },
         {
          "fillcolor": "#e07070",
          "line": {
           "width": 0
          },
          "opacity": 0.4,
          "type": "rect",
          "x0": "2020-10-02T02:00:00",
          "x1": "2020-10-02T03:00:00",
          "xref": "x",
          "y0": 0,
          "y1": 1,
          "yref": "y domain"
         },
         {
          "fillcolor": "#e07070",
          "line": {
           "width": 0
          },
          "opacity": 0.4,
          "type": "rect",
          "x0": "2020-10-02T03:00:00",
          "x1": "2020-10-02T04:00:00",
          "xref": "x",
          "y0": 0,
          "y1": 1,
          "yref": "y domain"
         },
         {
          "fillcolor": "#e07070",
          "line": {
           "width": 0
          },
          "opacity": 0.4,
          "type": "rect",
          "x0": "2020-10-02T04:00:00",
          "x1": "2020-10-02T05:00:00",
          "xref": "x",
          "y0": 0,
          "y1": 1,
          "yref": "y domain"
         },
         {
          "fillcolor": "#e07070",
          "line": {
           "width": 0
          },
          "opacity": 0.4,
          "type": "rect",
          "x0": "2020-10-02T05:00:00",
          "x1": "2020-10-02T07:00:00",
          "xref": "x",
          "y0": 0,
          "y1": 1,
          "yref": "y domain"
         },
         {
          "fillcolor": "#e07070",
          "line": {
           "width": 0
          },
          "opacity": 0.4,
          "type": "rect",
          "x0": "2020-10-02T07:00:00",
          "x1": "2020-10-02T12:00:00",
          "xref": "x",
          "y0": 0,
          "y1": 1,
          "yref": "y domain"
         },
         {
          "fillcolor": "#e07070",
          "line": {
           "width": 0
          },
          "opacity": 0.4,
          "type": "rect",
          "x0": "2020-10-02T12:00:00",
          "x1": "2020-10-02T14:00:00",
          "xref": "x",
          "y0": 0,
          "y1": 1,
          "yref": "y domain"
         },
         {
          "fillcolor": "#e07070",
          "line": {
           "width": 0
          },
          "opacity": 0.4,
          "type": "rect",
          "x0": "2020-10-02T14:00:00",
          "x1": "2020-10-02T15:00:00",
          "xref": "x",
          "y0": 0,
          "y1": 1,
          "yref": "y domain"
         },
         {
          "fillcolor": "#e07070",
          "line": {
           "width": 0
          },
          "opacity": 0.4,
          "type": "rect",
          "x0": "2020-10-02T15:00:00",
          "x1": "2020-10-02T16:00:00",
          "xref": "x",
          "y0": 0,
          "y1": 1,
          "yref": "y domain"
         },
         {
          "fillcolor": "#e07070",
          "line": {
           "width": 0
          },
          "opacity": 0.4,
          "type": "rect",
          "x0": "2020-10-02T16:00:00",
          "x1": "2020-10-02T17:00:00",
          "xref": "x",
          "y0": 0,
          "y1": 1,
          "yref": "y domain"
         },
         {
          "fillcolor": "#e07070",
          "line": {
           "width": 0
          },
          "opacity": 0.4,
          "type": "rect",
          "x0": "2020-10-02T17:00:00",
          "x1": "2020-10-02T18:00:00",
          "xref": "x",
          "y0": 0,
          "y1": 1,
          "yref": "y domain"
         },
         {
          "fillcolor": "#e07070",
          "line": {
           "width": 0
          },
          "opacity": 0.4,
          "type": "rect",
          "x0": "2020-10-02T18:00:00",
          "x1": "2020-10-02T19:00:00",
          "xref": "x",
          "y0": 0,
          "y1": 1,
          "yref": "y domain"
         },
         {
          "fillcolor": "#e07070",
          "line": {
           "width": 0
          },
          "opacity": 0.4,
          "type": "rect",
          "x0": "2020-10-02T19:00:00",
          "x1": "2020-10-02T20:00:00",
          "xref": "x",
          "y0": 0,
          "y1": 1,
          "yref": "y domain"
         },
         {
          "fillcolor": "#e07070",
          "line": {
           "width": 0
          },
          "opacity": 0.4,
          "type": "rect",
          "x0": "2020-10-02T20:00:00",
          "x1": "2020-10-02T21:00:00",
          "xref": "x",
          "y0": 0,
          "y1": 1,
          "yref": "y domain"
         },
         {
          "fillcolor": "#e07070",
          "line": {
           "width": 0
          },
          "opacity": 0.4,
          "type": "rect",
          "x0": "2020-10-02T21:00:00",
          "x1": "2020-10-02T22:00:00",
          "xref": "x",
          "y0": 0,
          "y1": 1,
          "yref": "y domain"
         },
         {
          "fillcolor": "#e07070",
          "line": {
           "width": 0
          },
          "opacity": 0.4,
          "type": "rect",
          "x0": "2020-10-02T22:00:00",
          "x1": "2020-10-03T00:00:00",
          "xref": "x",
          "y0": 0,
          "y1": 1,
          "yref": "y domain"
         },
         {
          "fillcolor": "#e07070",
          "line": {
           "width": 0
          },
          "opacity": 0.4,
          "type": "rect",
          "x0": "2020-10-03T00:00:00",
          "x1": "2020-10-03T01:00:00",
          "xref": "x",
          "y0": 0,
          "y1": 1,
          "yref": "y domain"
         },
         {
          "fillcolor": "#e07070",
          "line": {
           "width": 0
          },
          "opacity": 0.4,
          "type": "rect",
          "x0": "2020-10-03T01:00:00",
          "x1": "2020-10-03T02:00:00",
          "xref": "x",
          "y0": 0,
          "y1": 1,
          "yref": "y domain"
         },
         {
          "fillcolor": "#e07070",
          "line": {
           "width": 0
          },
          "opacity": 0.4,
          "type": "rect",
          "x0": "2020-10-03T02:00:00",
          "x1": "2020-10-03T13:00:00",
          "xref": "x",
          "y0": 0,
          "y1": 1,
          "yref": "y domain"
         },
         {
          "fillcolor": "#e07070",
          "line": {
           "width": 0
          },
          "opacity": 0.4,
          "type": "rect",
          "x0": "2020-10-03T13:00:00",
          "x1": "2020-10-03T15:00:00",
          "xref": "x",
          "y0": 0,
          "y1": 1,
          "yref": "y domain"
         },
         {
          "fillcolor": "#e07070",
          "line": {
           "width": 0
          },
          "opacity": 0.4,
          "type": "rect",
          "x0": "2020-10-03T15:00:00",
          "x1": "2020-10-03T16:00:00",
          "xref": "x",
          "y0": 0,
          "y1": 1,
          "yref": "y domain"
         },
         {
          "fillcolor": "#e07070",
          "line": {
           "width": 0
          },
          "opacity": 0.4,
          "type": "rect",
          "x0": "2020-10-03T16:00:00",
          "x1": "2020-10-03T18:00:00",
          "xref": "x",
          "y0": 0,
          "y1": 1,
          "yref": "y domain"
         },
         {
          "fillcolor": "#e07070",
          "line": {
           "width": 0
          },
          "opacity": 0.4,
          "type": "rect",
          "x0": "2020-10-03T18:00:00",
          "x1": "2020-10-03T19:00:00",
          "xref": "x",
          "y0": 0,
          "y1": 1,
          "yref": "y domain"
         },
         {
          "fillcolor": "#e07070",
          "line": {
           "width": 0
          },
          "opacity": 0.4,
          "type": "rect",
          "x0": "2020-10-03T19:00:00",
          "x1": "2020-10-03T20:00:00",
          "xref": "x",
          "y0": 0,
          "y1": 1,
          "yref": "y domain"
         },
         {
          "fillcolor": "#e07070",
          "line": {
           "width": 0
          },
          "opacity": 0.4,
          "type": "rect",
          "x0": "2020-10-03T20:00:00",
          "x1": "2020-10-03T21:00:00",
          "xref": "x",
          "y0": 0,
          "y1": 1,
          "yref": "y domain"
         },
         {
          "fillcolor": "#e07070",
          "line": {
           "width": 0
          },
          "opacity": 0.4,
          "type": "rect",
          "x0": "2020-10-03T21:00:00",
          "x1": "2020-10-03T22:00:00",
          "xref": "x",
          "y0": 0,
          "y1": 1,
          "yref": "y domain"
         },
         {
          "fillcolor": "#e07070",
          "line": {
           "width": 0
          },
          "opacity": 0.4,
          "type": "rect",
          "x0": "2020-10-03T22:00:00",
          "x1": "2020-10-04T12:00:00",
          "xref": "x",
          "y0": 0,
          "y1": 1,
          "yref": "y domain"
         },
         {
          "fillcolor": "#e07070",
          "line": {
           "width": 0
          },
          "opacity": 0.4,
          "type": "rect",
          "x0": "2020-10-04T12:00:00",
          "x1": "2020-10-04T13:00:00",
          "xref": "x",
          "y0": 0,
          "y1": 1,
          "yref": "y domain"
         },
         {
          "fillcolor": "#e07070",
          "line": {
           "width": 0
          },
          "opacity": 0.4,
          "type": "rect",
          "x0": "2020-10-04T13:00:00",
          "x1": "2020-10-04T16:00:00",
          "xref": "x",
          "y0": 0,
          "y1": 1,
          "yref": "y domain"
         },
         {
          "fillcolor": "#e07070",
          "line": {
           "width": 0
          },
          "opacity": 0.4,
          "type": "rect",
          "x0": "2020-10-04T16:00:00",
          "x1": "2020-10-04T20:00:00",
          "xref": "x",
          "y0": 0,
          "y1": 1,
          "yref": "y domain"
         },
         {
          "fillcolor": "#e07070",
          "line": {
           "width": 0
          },
          "opacity": 0.4,
          "type": "rect",
          "x0": "2020-10-04T20:00:00",
          "x1": "2020-10-04T22:00:00",
          "xref": "x",
          "y0": 0,
          "y1": 1,
          "yref": "y domain"
         },
         {
          "fillcolor": "#e07070",
          "line": {
           "width": 0
          },
          "opacity": 0.4,
          "type": "rect",
          "x0": "2020-10-04T22:00:00",
          "x1": "2020-10-05T00:00:00",
          "xref": "x",
          "y0": 0,
          "y1": 1,
          "yref": "y domain"
         },
         {
          "fillcolor": "#e07070",
          "line": {
           "width": 0
          },
          "opacity": 0.4,
          "type": "rect",
          "x0": "2020-10-05T00:00:00",
          "x1": "2020-10-05T04:00:00",
          "xref": "x",
          "y0": 0,
          "y1": 1,
          "yref": "y domain"
         },
         {
          "fillcolor": "#e07070",
          "line": {
           "width": 0
          },
          "opacity": 0.4,
          "type": "rect",
          "x0": "2020-10-05T04:00:00",
          "x1": "2020-10-05T09:00:00",
          "xref": "x",
          "y0": 0,
          "y1": 1,
          "yref": "y domain"
         },
         {
          "fillcolor": "#e07070",
          "line": {
           "width": 0
          },
          "opacity": 0.4,
          "type": "rect",
          "x0": "2020-10-05T09:00:00",
          "x1": "2020-10-05T13:00:00",
          "xref": "x",
          "y0": 0,
          "y1": 1,
          "yref": "y domain"
         },
         {
          "fillcolor": "#e07070",
          "line": {
           "width": 0
          },
          "opacity": 0.4,
          "type": "rect",
          "x0": "2020-10-05T13:00:00",
          "x1": "2020-10-05T14:00:00",
          "xref": "x",
          "y0": 0,
          "y1": 1,
          "yref": "y domain"
         },
         {
          "fillcolor": "#e07070",
          "line": {
           "width": 0
          },
          "opacity": 0.4,
          "type": "rect",
          "x0": "2020-10-05T14:00:00",
          "x1": "2020-10-05T15:00:00",
          "xref": "x",
          "y0": 0,
          "y1": 1,
          "yref": "y domain"
         },
         {
          "fillcolor": "#e07070",
          "line": {
           "width": 0
          },
          "opacity": 0.4,
          "type": "rect",
          "x0": "2020-10-05T15:00:00",
          "x1": "2020-10-05T16:00:00",
          "xref": "x",
          "y0": 0,
          "y1": 1,
          "yref": "y domain"
         },
         {
          "fillcolor": "#e07070",
          "line": {
           "width": 0
          },
          "opacity": 0.4,
          "type": "rect",
          "x0": "2020-10-05T16:00:00",
          "x1": "2020-10-05T17:00:00",
          "xref": "x",
          "y0": 0,
          "y1": 1,
          "yref": "y domain"
         },
         {
          "fillcolor": "#e07070",
          "line": {
           "width": 0
          },
          "opacity": 0.4,
          "type": "rect",
          "x0": "2020-10-05T17:00:00",
          "x1": "2020-10-05T18:00:00",
          "xref": "x",
          "y0": 0,
          "y1": 1,
          "yref": "y domain"
         },
         {
          "fillcolor": "#e07070",
          "line": {
           "width": 0
          },
          "opacity": 0.4,
          "type": "rect",
          "x0": "2020-10-05T18:00:00",
          "x1": "2020-10-05T19:00:00",
          "xref": "x",
          "y0": 0,
          "y1": 1,
          "yref": "y domain"
         },
         {
          "fillcolor": "#e07070",
          "line": {
           "width": 0
          },
          "opacity": 0.4,
          "type": "rect",
          "x0": "2020-10-05T19:00:00",
          "x1": "2020-10-05T20:00:00",
          "xref": "x",
          "y0": 0,
          "y1": 1,
          "yref": "y domain"
         },
         {
          "fillcolor": "#e07070",
          "line": {
           "width": 0
          },
          "opacity": 0.4,
          "type": "rect",
          "x0": "2020-10-05T20:00:00",
          "x1": "2020-10-05T22:00:00",
          "xref": "x",
          "y0": 0,
          "y1": 1,
          "yref": "y domain"
         },
         {
          "fillcolor": "#e07070",
          "line": {
           "width": 0
          },
          "opacity": 0.4,
          "type": "rect",
          "x0": "2020-10-05T22:00:00",
          "x1": "2020-10-05T23:00:00",
          "xref": "x",
          "y0": 0,
          "y1": 1,
          "yref": "y domain"
         },
         {
          "fillcolor": "#e07070",
          "line": {
           "width": 0
          },
          "opacity": 0.4,
          "type": "rect",
          "x0": "2020-10-05T23:00:00",
          "x1": "2020-10-06T01:00:00",
          "xref": "x",
          "y0": 0,
          "y1": 1,
          "yref": "y domain"
         },
         {
          "fillcolor": "#e07070",
          "line": {
           "width": 0
          },
          "opacity": 0.4,
          "type": "rect",
          "x0": "2020-10-06T01:00:00",
          "x1": "2020-10-06T02:00:00",
          "xref": "x",
          "y0": 0,
          "y1": 1,
          "yref": "y domain"
         },
         {
          "fillcolor": "#e07070",
          "line": {
           "width": 0
          },
          "opacity": 0.4,
          "type": "rect",
          "x0": "2020-10-06T02:00:00",
          "x1": "2020-10-06T03:00:00",
          "xref": "x",
          "y0": 0,
          "y1": 1,
          "yref": "y domain"
         },
         {
          "fillcolor": "#e07070",
          "line": {
           "width": 0
          },
          "opacity": 0.4,
          "type": "rect",
          "x0": "2020-10-06T03:00:00",
          "x1": "2020-10-06T06:00:00",
          "xref": "x",
          "y0": 0,
          "y1": 1,
          "yref": "y domain"
         },
         {
          "fillcolor": "#e07070",
          "line": {
           "width": 0
          },
          "opacity": 0.4,
          "type": "rect",
          "x0": "2020-10-06T06:00:00",
          "x1": "2020-10-06T13:00:00",
          "xref": "x",
          "y0": 0,
          "y1": 1,
          "yref": "y domain"
         },
         {
          "fillcolor": "#e07070",
          "line": {
           "width": 0
          },
          "opacity": 0.4,
          "type": "rect",
          "x0": "2020-10-06T13:00:00",
          "x1": "2020-10-06T14:00:00",
          "xref": "x",
          "y0": 0,
          "y1": 1,
          "yref": "y domain"
         },
         {
          "fillcolor": "#e07070",
          "line": {
           "width": 0
          },
          "opacity": 0.4,
          "type": "rect",
          "x0": "2020-10-06T14:00:00",
          "x1": "2020-10-06T16:00:00",
          "xref": "x",
          "y0": 0,
          "y1": 1,
          "yref": "y domain"
         },
         {
          "fillcolor": "#e07070",
          "line": {
           "width": 0
          },
          "opacity": 0.4,
          "type": "rect",
          "x0": "2020-10-06T16:00:00",
          "x1": "2020-10-06T17:00:00",
          "xref": "x",
          "y0": 0,
          "y1": 1,
          "yref": "y domain"
         },
         {
          "fillcolor": "#e07070",
          "line": {
           "width": 0
          },
          "opacity": 0.4,
          "type": "rect",
          "x0": "2020-10-06T17:00:00",
          "x1": "2020-10-06T18:00:00",
          "xref": "x",
          "y0": 0,
          "y1": 1,
          "yref": "y domain"
         },
         {
          "fillcolor": "#e07070",
          "line": {
           "width": 0
          },
          "opacity": 0.4,
          "type": "rect",
          "x0": "2020-10-06T18:00:00",
          "x1": "2020-10-06T19:00:00",
          "xref": "x",
          "y0": 0,
          "y1": 1,
          "yref": "y domain"
         },
         {
          "fillcolor": "#e07070",
          "line": {
           "width": 0
          },
          "opacity": 0.4,
          "type": "rect",
          "x0": "2020-10-06T19:00:00",
          "x1": "2020-10-06T20:00:00",
          "xref": "x",
          "y0": 0,
          "y1": 1,
          "yref": "y domain"
         },
         {
          "fillcolor": "#e07070",
          "line": {
           "width": 0
          },
          "opacity": 0.4,
          "type": "rect",
          "x0": "2020-10-06T20:00:00",
          "x1": "2020-10-06T21:00:00",
          "xref": "x",
          "y0": 0,
          "y1": 1,
          "yref": "y domain"
         },
         {
          "fillcolor": "#e07070",
          "line": {
           "width": 0
          },
          "opacity": 0.4,
          "type": "rect",
          "x0": "2020-10-06T21:00:00",
          "x1": "2020-10-06T22:00:00",
          "xref": "x",
          "y0": 0,
          "y1": 1,
          "yref": "y domain"
         },
         {
          "fillcolor": "#e07070",
          "line": {
           "width": 0
          },
          "opacity": 0.4,
          "type": "rect",
          "x0": "2020-10-06T22:00:00",
          "x1": "2020-10-06T23:00:00",
          "xref": "x",
          "y0": 0,
          "y1": 1,
          "yref": "y domain"
         },
         {
          "fillcolor": "#e07070",
          "line": {
           "width": 0
          },
          "opacity": 0.4,
          "type": "rect",
          "x0": "2020-10-06T23:00:00",
          "x1": "2020-10-07T00:00:00",
          "xref": "x",
          "y0": 0,
          "y1": 1,
          "yref": "y domain"
         },
         {
          "fillcolor": "#e07070",
          "line": {
           "width": 0
          },
          "opacity": 0.4,
          "type": "rect",
          "x0": "2020-10-07T00:00:00",
          "x1": "2020-10-07T01:00:00",
          "xref": "x",
          "y0": 0,
          "y1": 1,
          "yref": "y domain"
         },
         {
          "fillcolor": "#e07070",
          "line": {
           "width": 0
          },
          "opacity": 0.4,
          "type": "rect",
          "x0": "2020-10-07T01:00:00",
          "x1": "2020-10-07T02:00:00",
          "xref": "x",
          "y0": 0,
          "y1": 1,
          "yref": "y domain"
         },
         {
          "fillcolor": "#e07070",
          "line": {
           "width": 0
          },
          "opacity": 0.4,
          "type": "rect",
          "x0": "2020-10-07T02:00:00",
          "x1": "2020-10-07T03:00:00",
          "xref": "x",
          "y0": 0,
          "y1": 1,
          "yref": "y domain"
         },
         {
          "fillcolor": "#e07070",
          "line": {
           "width": 0
          },
          "opacity": 0.4,
          "type": "rect",
          "x0": "2020-10-07T03:00:00",
          "x1": "2020-10-07T10:00:00",
          "xref": "x",
          "y0": 0,
          "y1": 1,
          "yref": "y domain"
         },
         {
          "fillcolor": "#e07070",
          "line": {
           "width": 0
          },
          "opacity": 0.4,
          "type": "rect",
          "x0": "2020-10-07T10:00:00",
          "x1": "2020-10-07T12:00:00",
          "xref": "x",
          "y0": 0,
          "y1": 1,
          "yref": "y domain"
         },
         {
          "fillcolor": "#e07070",
          "line": {
           "width": 0
          },
          "opacity": 0.4,
          "type": "rect",
          "x0": "2020-10-07T12:00:00",
          "x1": "2020-10-07T14:00:00",
          "xref": "x",
          "y0": 0,
          "y1": 1,
          "yref": "y domain"
         },
         {
          "fillcolor": "#e07070",
          "line": {
           "width": 0
          },
          "opacity": 0.4,
          "type": "rect",
          "x0": "2020-10-07T14:00:00",
          "x1": "2020-10-07T15:00:00",
          "xref": "x",
          "y0": 0,
          "y1": 1,
          "yref": "y domain"
         },
         {
          "fillcolor": "#e07070",
          "line": {
           "width": 0
          },
          "opacity": 0.4,
          "type": "rect",
          "x0": "2020-10-07T15:00:00",
          "x1": "2020-10-07T16:00:00",
          "xref": "x",
          "y0": 0,
          "y1": 1,
          "yref": "y domain"
         },
         {
          "fillcolor": "#e07070",
          "line": {
           "width": 0
          },
          "opacity": 0.4,
          "type": "rect",
          "x0": "2020-10-07T16:00:00",
          "x1": "2020-10-07T17:00:00",
          "xref": "x",
          "y0": 0,
          "y1": 1,
          "yref": "y domain"
         },
         {
          "fillcolor": "#e07070",
          "line": {
           "width": 0
          },
          "opacity": 0.4,
          "type": "rect",
          "x0": "2020-10-07T17:00:00",
          "x1": "2020-10-07T18:00:00",
          "xref": "x",
          "y0": 0,
          "y1": 1,
          "yref": "y domain"
         },
         {
          "fillcolor": "#e07070",
          "line": {
           "width": 0
          },
          "opacity": 0.4,
          "type": "rect",
          "x0": "2020-10-07T18:00:00",
          "x1": "2020-10-07T19:00:00",
          "xref": "x",
          "y0": 0,
          "y1": 1,
          "yref": "y domain"
         },
         {
          "fillcolor": "#e07070",
          "line": {
           "width": 0
          },
          "opacity": 0.4,
          "type": "rect",
          "x0": "2020-10-07T19:00:00",
          "x1": "2020-10-07T20:00:00",
          "xref": "x",
          "y0": 0,
          "y1": 1,
          "yref": "y domain"
         },
         {
          "fillcolor": "#e07070",
          "line": {
           "width": 0
          },
          "opacity": 0.4,
          "type": "rect",
          "x0": "2020-10-07T20:00:00",
          "x1": "2020-10-07T21:00:00",
          "xref": "x",
          "y0": 0,
          "y1": 1,
          "yref": "y domain"
         },
         {
          "fillcolor": "#e07070",
          "line": {
           "width": 0
          },
          "opacity": 0.4,
          "type": "rect",
          "x0": "2020-10-07T21:00:00",
          "x1": "2020-10-07T22:00:00",
          "xref": "x",
          "y0": 0,
          "y1": 1,
          "yref": "y domain"
         },
         {
          "fillcolor": "#e07070",
          "line": {
           "width": 0
          },
          "opacity": 0.4,
          "type": "rect",
          "x0": "2020-10-07T22:00:00",
          "x1": "2020-10-07T23:00:00",
          "xref": "x",
          "y0": 0,
          "y1": 1,
          "yref": "y domain"
         },
         {
          "fillcolor": "#e07070",
          "line": {
           "width": 0
          },
          "opacity": 0.4,
          "type": "rect",
          "x0": "2020-10-07T23:00:00",
          "x1": "2020-10-08T00:00:00",
          "xref": "x",
          "y0": 0,
          "y1": 1,
          "yref": "y domain"
         },
         {
          "fillcolor": "#e07070",
          "line": {
           "width": 0
          },
          "opacity": 0.4,
          "type": "rect",
          "x0": "2020-10-08T00:00:00",
          "x1": "2020-10-08T01:00:00",
          "xref": "x",
          "y0": 0,
          "y1": 1,
          "yref": "y domain"
         },
         {
          "fillcolor": "#e07070",
          "line": {
           "width": 0
          },
          "opacity": 0.4,
          "type": "rect",
          "x0": "2020-10-08T01:00:00",
          "x1": "2020-10-08T02:00:00",
          "xref": "x",
          "y0": 0,
          "y1": 1,
          "yref": "y domain"
         },
         {
          "fillcolor": "#e07070",
          "line": {
           "width": 0
          },
          "opacity": 0.4,
          "type": "rect",
          "x0": "2020-10-08T02:00:00",
          "x1": "2020-10-08T03:00:00",
          "xref": "x",
          "y0": 0,
          "y1": 1,
          "yref": "y domain"
         },
         {
          "fillcolor": "#e07070",
          "line": {
           "width": 0
          },
          "opacity": 0.4,
          "type": "rect",
          "x0": "2020-10-08T03:00:00",
          "x1": "2020-10-08T04:00:00",
          "xref": "x",
          "y0": 0,
          "y1": 1,
          "yref": "y domain"
         },
         {
          "fillcolor": "#e07070",
          "line": {
           "width": 0
          },
          "opacity": 0.4,
          "type": "rect",
          "x0": "2020-10-08T04:00:00",
          "x1": "2020-10-08T05:00:00",
          "xref": "x",
          "y0": 0,
          "y1": 1,
          "yref": "y domain"
         },
         {
          "fillcolor": "#e07070",
          "line": {
           "width": 0
          },
          "opacity": 0.4,
          "type": "rect",
          "x0": "2020-10-08T05:00:00",
          "x1": "2020-10-08T06:00:00",
          "xref": "x",
          "y0": 0,
          "y1": 1,
          "yref": "y domain"
         },
         {
          "fillcolor": "#e07070",
          "line": {
           "width": 0
          },
          "opacity": 0.4,
          "type": "rect",
          "x0": "2020-10-08T06:00:00",
          "x1": "2020-10-08T07:00:00",
          "xref": "x",
          "y0": 0,
          "y1": 1,
          "yref": "y domain"
         },
         {
          "fillcolor": "#e07070",
          "line": {
           "width": 0
          },
          "opacity": 0.4,
          "type": "rect",
          "x0": "2020-10-08T07:00:00",
          "x1": "2020-10-08T08:00:00",
          "xref": "x",
          "y0": 0,
          "y1": 1,
          "yref": "y domain"
         },
         {
          "fillcolor": "#e07070",
          "line": {
           "width": 0
          },
          "opacity": 0.4,
          "type": "rect",
          "x0": "2020-10-08T08:00:00",
          "x1": "2020-10-08T09:00:00",
          "xref": "x",
          "y0": 0,
          "y1": 1,
          "yref": "y domain"
         },
         {
          "fillcolor": "#e07070",
          "line": {
           "width": 0
          },
          "opacity": 0.4,
          "type": "rect",
          "x0": "2020-10-08T09:00:00",
          "x1": "2020-10-08T10:00:00",
          "xref": "x",
          "y0": 0,
          "y1": 1,
          "yref": "y domain"
         },
         {
          "fillcolor": "#e07070",
          "line": {
           "width": 0
          },
          "opacity": 0.4,
          "type": "rect",
          "x0": "2020-10-08T10:00:00",
          "x1": "2020-10-08T11:00:00",
          "xref": "x",
          "y0": 0,
          "y1": 1,
          "yref": "y domain"
         },
         {
          "fillcolor": "#e07070",
          "line": {
           "width": 0
          },
          "opacity": 0.4,
          "type": "rect",
          "x0": "2020-10-08T11:00:00",
          "x1": "2020-10-08T12:00:00",
          "xref": "x",
          "y0": 0,
          "y1": 1,
          "yref": "y domain"
         },
         {
          "fillcolor": "#e07070",
          "line": {
           "width": 0
          },
          "opacity": 0.4,
          "type": "rect",
          "x0": "2020-10-08T12:00:00",
          "x1": "2020-10-08T13:00:00",
          "xref": "x",
          "y0": 0,
          "y1": 1,
          "yref": "y domain"
         },
         {
          "fillcolor": "#e07070",
          "line": {
           "width": 0
          },
          "opacity": 0.4,
          "type": "rect",
          "x0": "2020-10-08T13:00:00",
          "x1": "2020-10-08T14:00:00",
          "xref": "x",
          "y0": 0,
          "y1": 1,
          "yref": "y domain"
         },
         {
          "fillcolor": "#e07070",
          "line": {
           "width": 0
          },
          "opacity": 0.4,
          "type": "rect",
          "x0": "2020-10-08T14:00:00",
          "x1": "2020-10-08T15:00:00",
          "xref": "x",
          "y0": 0,
          "y1": 1,
          "yref": "y domain"
         },
         {
          "fillcolor": "#e07070",
          "line": {
           "width": 0
          },
          "opacity": 0.4,
          "type": "rect",
          "x0": "2020-10-08T15:00:00",
          "x1": "2020-10-08T16:00:00",
          "xref": "x",
          "y0": 0,
          "y1": 1,
          "yref": "y domain"
         },
         {
          "fillcolor": "#e07070",
          "line": {
           "width": 0
          },
          "opacity": 0.4,
          "type": "rect",
          "x0": "2020-10-08T16:00:00",
          "x1": "2020-10-08T17:00:00",
          "xref": "x",
          "y0": 0,
          "y1": 1,
          "yref": "y domain"
         },
         {
          "fillcolor": "#e07070",
          "line": {
           "width": 0
          },
          "opacity": 0.4,
          "type": "rect",
          "x0": "2020-10-08T17:00:00",
          "x1": "2020-10-08T18:00:00",
          "xref": "x",
          "y0": 0,
          "y1": 1,
          "yref": "y domain"
         },
         {
          "fillcolor": "#e07070",
          "line": {
           "width": 0
          },
          "opacity": 0.4,
          "type": "rect",
          "x0": "2020-10-08T18:00:00",
          "x1": "2020-10-08T19:00:00",
          "xref": "x",
          "y0": 0,
          "y1": 1,
          "yref": "y domain"
         },
         {
          "fillcolor": "#e07070",
          "line": {
           "width": 0
          },
          "opacity": 0.4,
          "type": "rect",
          "x0": "2020-10-08T19:00:00",
          "x1": "2020-10-08T20:00:00",
          "xref": "x",
          "y0": 0,
          "y1": 1,
          "yref": "y domain"
         },
         {
          "fillcolor": "#e07070",
          "line": {
           "width": 0
          },
          "opacity": 0.4,
          "type": "rect",
          "x0": "2020-10-08T20:00:00",
          "x1": "2020-10-08T21:00:00",
          "xref": "x",
          "y0": 0,
          "y1": 1,
          "yref": "y domain"
         },
         {
          "fillcolor": "#e07070",
          "line": {
           "width": 0
          },
          "opacity": 0.4,
          "type": "rect",
          "x0": "2020-10-08T21:00:00",
          "x1": "2020-10-08T22:00:00",
          "xref": "x",
          "y0": 0,
          "y1": 1,
          "yref": "y domain"
         },
         {
          "fillcolor": "#e07070",
          "line": {
           "width": 0
          },
          "opacity": 0.4,
          "type": "rect",
          "x0": "2020-10-09T00:00:00",
          "x1": "2020-10-09T01:00:00",
          "xref": "x",
          "y0": 0,
          "y1": 1,
          "yref": "y domain"
         },
         {
          "fillcolor": "#e07070",
          "line": {
           "width": 0
          },
          "opacity": 0.4,
          "type": "rect",
          "x0": "2020-10-09T03:00:00",
          "x1": "2020-10-09T04:00:00",
          "xref": "x",
          "y0": 0,
          "y1": 1,
          "yref": "y domain"
         },
         {
          "fillcolor": "#e07070",
          "line": {
           "width": 0
          },
          "opacity": 0.4,
          "type": "rect",
          "x0": "2020-10-09T16:00:00",
          "x1": "2020-10-09T17:00:00",
          "xref": "x",
          "y0": 0,
          "y1": 1,
          "yref": "y domain"
         },
         {
          "fillcolor": "#e07070",
          "line": {
           "width": 0
          },
          "opacity": 0.4,
          "type": "rect",
          "x0": "2020-10-09T17:00:00",
          "x1": "2020-10-09T18:00:00",
          "xref": "x",
          "y0": 0,
          "y1": 1,
          "yref": "y domain"
         },
         {
          "fillcolor": "#e07070",
          "line": {
           "width": 0
          },
          "opacity": 0.4,
          "type": "rect",
          "x0": "2020-10-09T18:00:00",
          "x1": "2020-10-09T19:00:00",
          "xref": "x",
          "y0": 0,
          "y1": 1,
          "yref": "y domain"
         },
         {
          "fillcolor": "#e07070",
          "line": {
           "width": 0
          },
          "opacity": 0.4,
          "type": "rect",
          "x0": "2020-10-09T19:00:00",
          "x1": "2020-10-09T20:00:00",
          "xref": "x",
          "y0": 0,
          "y1": 1,
          "yref": "y domain"
         },
         {
          "fillcolor": "#e07070",
          "line": {
           "width": 0
          },
          "opacity": 0.4,
          "type": "rect",
          "x0": "2020-10-09T20:00:00",
          "x1": "2020-10-09T21:00:00",
          "xref": "x",
          "y0": 0,
          "y1": 1,
          "yref": "y domain"
         },
         {
          "fillcolor": "#e07070",
          "line": {
           "width": 0
          },
          "opacity": 0.4,
          "type": "rect",
          "x0": "2020-10-09T21:00:00",
          "x1": "2020-10-09T22:00:00",
          "xref": "x",
          "y0": 0,
          "y1": 1,
          "yref": "y domain"
         }
        ],
        "showlegend": true,
        "template": {
         "data": {
          "bar": [
           {
            "error_x": {
             "color": "#2a3f5f"
            },
            "error_y": {
             "color": "#2a3f5f"
            },
            "marker": {
             "line": {
              "color": "#E5ECF6",
              "width": 0.5
             },
             "pattern": {
              "fillmode": "overlay",
              "size": 10,
              "solidity": 0.2
             }
            },
            "type": "bar"
           }
          ],
          "barpolar": [
           {
            "marker": {
             "line": {
              "color": "#E5ECF6",
              "width": 0.5
             },
             "pattern": {
              "fillmode": "overlay",
              "size": 10,
              "solidity": 0.2
             }
            },
            "type": "barpolar"
           }
          ],
          "carpet": [
           {
            "aaxis": {
             "endlinecolor": "#2a3f5f",
             "gridcolor": "white",
             "linecolor": "white",
             "minorgridcolor": "white",
             "startlinecolor": "#2a3f5f"
            },
            "baxis": {
             "endlinecolor": "#2a3f5f",
             "gridcolor": "white",
             "linecolor": "white",
             "minorgridcolor": "white",
             "startlinecolor": "#2a3f5f"
            },
            "type": "carpet"
           }
          ],
          "choropleth": [
           {
            "colorbar": {
             "outlinewidth": 0,
             "ticks": ""
            },
            "type": "choropleth"
           }
          ],
          "contour": [
           {
            "colorbar": {
             "outlinewidth": 0,
             "ticks": ""
            },
            "colorscale": [
             [
              0,
              "#0d0887"
             ],
             [
              0.1111111111111111,
              "#46039f"
             ],
             [
              0.2222222222222222,
              "#7201a8"
             ],
             [
              0.3333333333333333,
              "#9c179e"
             ],
             [
              0.4444444444444444,
              "#bd3786"
             ],
             [
              0.5555555555555556,
              "#d8576b"
             ],
             [
              0.6666666666666666,
              "#ed7953"
             ],
             [
              0.7777777777777778,
              "#fb9f3a"
             ],
             [
              0.8888888888888888,
              "#fdca26"
             ],
             [
              1,
              "#f0f921"
             ]
            ],
            "type": "contour"
           }
          ],
          "contourcarpet": [
           {
            "colorbar": {
             "outlinewidth": 0,
             "ticks": ""
            },
            "type": "contourcarpet"
           }
          ],
          "heatmap": [
           {
            "colorbar": {
             "outlinewidth": 0,
             "ticks": ""
            },
            "colorscale": [
             [
              0,
              "#0d0887"
             ],
             [
              0.1111111111111111,
              "#46039f"
             ],
             [
              0.2222222222222222,
              "#7201a8"
             ],
             [
              0.3333333333333333,
              "#9c179e"
             ],
             [
              0.4444444444444444,
              "#bd3786"
             ],
             [
              0.5555555555555556,
              "#d8576b"
             ],
             [
              0.6666666666666666,
              "#ed7953"
             ],
             [
              0.7777777777777778,
              "#fb9f3a"
             ],
             [
              0.8888888888888888,
              "#fdca26"
             ],
             [
              1,
              "#f0f921"
             ]
            ],
            "type": "heatmap"
           }
          ],
          "heatmapgl": [
           {
            "colorbar": {
             "outlinewidth": 0,
             "ticks": ""
            },
            "colorscale": [
             [
              0,
              "#0d0887"
             ],
             [
              0.1111111111111111,
              "#46039f"
             ],
             [
              0.2222222222222222,
              "#7201a8"
             ],
             [
              0.3333333333333333,
              "#9c179e"
             ],
             [
              0.4444444444444444,
              "#bd3786"
             ],
             [
              0.5555555555555556,
              "#d8576b"
             ],
             [
              0.6666666666666666,
              "#ed7953"
             ],
             [
              0.7777777777777778,
              "#fb9f3a"
             ],
             [
              0.8888888888888888,
              "#fdca26"
             ],
             [
              1,
              "#f0f921"
             ]
            ],
            "type": "heatmapgl"
           }
          ],
          "histogram": [
           {
            "marker": {
             "pattern": {
              "fillmode": "overlay",
              "size": 10,
              "solidity": 0.2
             }
            },
            "type": "histogram"
           }
          ],
          "histogram2d": [
           {
            "colorbar": {
             "outlinewidth": 0,
             "ticks": ""
            },
            "colorscale": [
             [
              0,
              "#0d0887"
             ],
             [
              0.1111111111111111,
              "#46039f"
             ],
             [
              0.2222222222222222,
              "#7201a8"
             ],
             [
              0.3333333333333333,
              "#9c179e"
             ],
             [
              0.4444444444444444,
              "#bd3786"
             ],
             [
              0.5555555555555556,
              "#d8576b"
             ],
             [
              0.6666666666666666,
              "#ed7953"
             ],
             [
              0.7777777777777778,
              "#fb9f3a"
             ],
             [
              0.8888888888888888,
              "#fdca26"
             ],
             [
              1,
              "#f0f921"
             ]
            ],
            "type": "histogram2d"
           }
          ],
          "histogram2dcontour": [
           {
            "colorbar": {
             "outlinewidth": 0,
             "ticks": ""
            },
            "colorscale": [
             [
              0,
              "#0d0887"
             ],
             [
              0.1111111111111111,
              "#46039f"
             ],
             [
              0.2222222222222222,
              "#7201a8"
             ],
             [
              0.3333333333333333,
              "#9c179e"
             ],
             [
              0.4444444444444444,
              "#bd3786"
             ],
             [
              0.5555555555555556,
              "#d8576b"
             ],
             [
              0.6666666666666666,
              "#ed7953"
             ],
             [
              0.7777777777777778,
              "#fb9f3a"
             ],
             [
              0.8888888888888888,
              "#fdca26"
             ],
             [
              1,
              "#f0f921"
             ]
            ],
            "type": "histogram2dcontour"
           }
          ],
          "mesh3d": [
           {
            "colorbar": {
             "outlinewidth": 0,
             "ticks": ""
            },
            "type": "mesh3d"
           }
          ],
          "parcoords": [
           {
            "line": {
             "colorbar": {
              "outlinewidth": 0,
              "ticks": ""
             }
            },
            "type": "parcoords"
           }
          ],
          "pie": [
           {
            "automargin": true,
            "type": "pie"
           }
          ],
          "scatter": [
           {
            "marker": {
             "colorbar": {
              "outlinewidth": 0,
              "ticks": ""
             }
            },
            "type": "scatter"
           }
          ],
          "scatter3d": [
           {
            "line": {
             "colorbar": {
              "outlinewidth": 0,
              "ticks": ""
             }
            },
            "marker": {
             "colorbar": {
              "outlinewidth": 0,
              "ticks": ""
             }
            },
            "type": "scatter3d"
           }
          ],
          "scattercarpet": [
           {
            "marker": {
             "colorbar": {
              "outlinewidth": 0,
              "ticks": ""
             }
            },
            "type": "scattercarpet"
           }
          ],
          "scattergeo": [
           {
            "marker": {
             "colorbar": {
              "outlinewidth": 0,
              "ticks": ""
             }
            },
            "type": "scattergeo"
           }
          ],
          "scattergl": [
           {
            "marker": {
             "colorbar": {
              "outlinewidth": 0,
              "ticks": ""
             }
            },
            "type": "scattergl"
           }
          ],
          "scattermapbox": [
           {
            "marker": {
             "colorbar": {
              "outlinewidth": 0,
              "ticks": ""
             }
            },
            "type": "scattermapbox"
           }
          ],
          "scatterpolar": [
           {
            "marker": {
             "colorbar": {
              "outlinewidth": 0,
              "ticks": ""
             }
            },
            "type": "scatterpolar"
           }
          ],
          "scatterpolargl": [
           {
            "marker": {
             "colorbar": {
              "outlinewidth": 0,
              "ticks": ""
             }
            },
            "type": "scatterpolargl"
           }
          ],
          "scatterternary": [
           {
            "marker": {
             "colorbar": {
              "outlinewidth": 0,
              "ticks": ""
             }
            },
            "type": "scatterternary"
           }
          ],
          "surface": [
           {
            "colorbar": {
             "outlinewidth": 0,
             "ticks": ""
            },
            "colorscale": [
             [
              0,
              "#0d0887"
             ],
             [
              0.1111111111111111,
              "#46039f"
             ],
             [
              0.2222222222222222,
              "#7201a8"
             ],
             [
              0.3333333333333333,
              "#9c179e"
             ],
             [
              0.4444444444444444,
              "#bd3786"
             ],
             [
              0.5555555555555556,
              "#d8576b"
             ],
             [
              0.6666666666666666,
              "#ed7953"
             ],
             [
              0.7777777777777778,
              "#fb9f3a"
             ],
             [
              0.8888888888888888,
              "#fdca26"
             ],
             [
              1,
              "#f0f921"
             ]
            ],
            "type": "surface"
           }
          ],
          "table": [
           {
            "cells": {
             "fill": {
              "color": "#EBF0F8"
             },
             "line": {
              "color": "white"
             }
            },
            "header": {
             "fill": {
              "color": "#C8D4E3"
             },
             "line": {
              "color": "white"
             }
            },
            "type": "table"
           }
          ]
         },
         "layout": {
          "annotationdefaults": {
           "arrowcolor": "#2a3f5f",
           "arrowhead": 0,
           "arrowwidth": 1
          },
          "autotypenumbers": "strict",
          "coloraxis": {
           "colorbar": {
            "outlinewidth": 0,
            "ticks": ""
           }
          },
          "colorscale": {
           "diverging": [
            [
             0,
             "#8e0152"
            ],
            [
             0.1,
             "#c51b7d"
            ],
            [
             0.2,
             "#de77ae"
            ],
            [
             0.3,
             "#f1b6da"
            ],
            [
             0.4,
             "#fde0ef"
            ],
            [
             0.5,
             "#f7f7f7"
            ],
            [
             0.6,
             "#e6f5d0"
            ],
            [
             0.7,
             "#b8e186"
            ],
            [
             0.8,
             "#7fbc41"
            ],
            [
             0.9,
             "#4d9221"
            ],
            [
             1,
             "#276419"
            ]
           ],
           "sequential": [
            [
             0,
             "#0d0887"
            ],
            [
             0.1111111111111111,
             "#46039f"
            ],
            [
             0.2222222222222222,
             "#7201a8"
            ],
            [
             0.3333333333333333,
             "#9c179e"
            ],
            [
             0.4444444444444444,
             "#bd3786"
            ],
            [
             0.5555555555555556,
             "#d8576b"
            ],
            [
             0.6666666666666666,
             "#ed7953"
            ],
            [
             0.7777777777777778,
             "#fb9f3a"
            ],
            [
             0.8888888888888888,
             "#fdca26"
            ],
            [
             1,
             "#f0f921"
            ]
           ],
           "sequentialminus": [
            [
             0,
             "#0d0887"
            ],
            [
             0.1111111111111111,
             "#46039f"
            ],
            [
             0.2222222222222222,
             "#7201a8"
            ],
            [
             0.3333333333333333,
             "#9c179e"
            ],
            [
             0.4444444444444444,
             "#bd3786"
            ],
            [
             0.5555555555555556,
             "#d8576b"
            ],
            [
             0.6666666666666666,
             "#ed7953"
            ],
            [
             0.7777777777777778,
             "#fb9f3a"
            ],
            [
             0.8888888888888888,
             "#fdca26"
            ],
            [
             1,
             "#f0f921"
            ]
           ]
          },
          "colorway": [
           "#636efa",
           "#EF553B",
           "#00cc96",
           "#ab63fa",
           "#FFA15A",
           "#19d3f3",
           "#FF6692",
           "#B6E880",
           "#FF97FF",
           "#FECB52"
          ],
          "font": {
           "color": "#2a3f5f"
          },
          "geo": {
           "bgcolor": "white",
           "lakecolor": "white",
           "landcolor": "#E5ECF6",
           "showlakes": true,
           "showland": true,
           "subunitcolor": "white"
          },
          "hoverlabel": {
           "align": "left"
          },
          "hovermode": "closest",
          "mapbox": {
           "style": "light"
          },
          "paper_bgcolor": "white",
          "plot_bgcolor": "#E5ECF6",
          "polar": {
           "angularaxis": {
            "gridcolor": "white",
            "linecolor": "white",
            "ticks": ""
           },
           "bgcolor": "#E5ECF6",
           "radialaxis": {
            "gridcolor": "white",
            "linecolor": "white",
            "ticks": ""
           }
          },
          "scene": {
           "xaxis": {
            "backgroundcolor": "#E5ECF6",
            "gridcolor": "white",
            "gridwidth": 2,
            "linecolor": "white",
            "showbackground": true,
            "ticks": "",
            "zerolinecolor": "white"
           },
           "yaxis": {
            "backgroundcolor": "#E5ECF6",
            "gridcolor": "white",
            "gridwidth": 2,
            "linecolor": "white",
            "showbackground": true,
            "ticks": "",
            "zerolinecolor": "white"
           },
           "zaxis": {
            "backgroundcolor": "#E5ECF6",
            "gridcolor": "white",
            "gridwidth": 2,
            "linecolor": "white",
            "showbackground": true,
            "ticks": "",
            "zerolinecolor": "white"
           }
          },
          "shapedefaults": {
           "line": {
            "color": "#2a3f5f"
           }
          },
          "ternary": {
           "aaxis": {
            "gridcolor": "white",
            "linecolor": "white",
            "ticks": ""
           },
           "baxis": {
            "gridcolor": "white",
            "linecolor": "white",
            "ticks": ""
           },
           "bgcolor": "#E5ECF6",
           "caxis": {
            "gridcolor": "white",
            "linecolor": "white",
            "ticks": ""
           }
          },
          "title": {
           "x": 0.05
          },
          "xaxis": {
           "automargin": true,
           "gridcolor": "white",
           "linecolor": "white",
           "ticks": "",
           "title": {
            "standoff": 15
           },
           "zerolinecolor": "white",
           "zerolinewidth": 2
          },
          "yaxis": {
           "automargin": true,
           "gridcolor": "white",
           "linecolor": "white",
           "ticks": "",
           "title": {
            "standoff": 15
           },
           "zerolinecolor": "white",
           "zerolinewidth": 2
          }
         }
        },
        "title": {
         "text": "ProphetDetector: Anomalies in top3_hashtag_count (Forecast Overlaid)"
        },
        "width": 1000,
        "xaxis": {
         "anchor": "y",
         "domain": [
          0,
          0.94
         ],
         "rangeselector": {
          "buttons": [
           {
            "count": 7,
            "label": "1w",
            "step": "day",
            "stepmode": "backward"
           },
           {
            "count": 1,
            "label": "1m",
            "step": "month",
            "stepmode": "backward"
           },
           {
            "count": 6,
            "label": "6m",
            "step": "month",
            "stepmode": "backward"
           },
           {
            "count": 1,
            "label": "1y",
            "step": "year",
            "stepmode": "backward"
           },
           {
            "step": "all"
           }
          ]
         },
         "rangeslider": {
          "visible": true
         },
         "title": {
          "text": "Time"
         },
         "type": "date"
        },
        "yaxis": {
         "anchor": "x",
         "domain": [
          0,
          1
         ],
         "title": {
          "text": "top3_hashtag_count"
         }
        },
        "yaxis2": {
         "anchor": "x",
         "overlaying": "y",
         "range": [
          -2.080080216208691,
          11.687774453926949
         ],
         "side": "right",
         "title": {
          "text": "Anomaly Score"
         }
        }
       }
      }
     },
     "metadata": {}
    }
   ],
   "metadata": {}
  },
  {
   "cell_type": "code",
   "execution_count": 129,
   "source": [
    "# Export \n",
    "df_tweets.to_json(\n",
    "    selected_dataset[\"output_location\"],\n",
    "    orient=\"records\"\n",
    ")\n",
    "df_tweets.info()"
   ],
   "outputs": [
    {
     "output_type": "stream",
     "name": "stdout",
     "text": [
      "<class 'pandas.core.frame.DataFrame'>\n",
      "Int64Index: 2126 entries, 2125 to 0\n",
      "Data columns (total 19 columns):\n",
      " #   Column                              Non-Null Count  Dtype              \n",
      "---  ------                              --------------  -----              \n",
      " 0   id                                  2126 non-null   object             \n",
      " 1   text                                2126 non-null   object             \n",
      " 2   created_at                          2126 non-null   datetime64[ns, UTC]\n",
      " 3   hashtags                            2126 non-null   object             \n",
      " 4   mentions                            2126 non-null   object             \n",
      " 5   in_reply_to_user_id                 1302 non-null   object             \n",
      " 6   user_id                             2126 non-null   object             \n",
      " 7   retweet_count                       2126 non-null   int64              \n",
      " 8   quote_count                         2126 non-null   int64              \n",
      " 9   reply_count                         2126 non-null   int64              \n",
      " 10  like_count                          2126 non-null   int64              \n",
      " 11  retweeted                           416 non-null    object             \n",
      " 12  replied_to                          1062 non-null   object             \n",
      " 13  quoted                              51 non-null     object             \n",
      " 14  is_anomaly                          2126 non-null   int64              \n",
      " 15  merlion_anomaly_total_count         2126 non-null   float64            \n",
      " 16  merlion_anomaly_top1_hashtag_count  2126 non-null   float64            \n",
      " 17  merlion_anomaly_top2_hashtag_count  2126 non-null   float64            \n",
      " 18  merlion_anomaly_top3_hashtag_count  2126 non-null   float64            \n",
      "dtypes: datetime64[ns, UTC](1), float64(4), int64(5), object(9)\n",
      "memory usage: 396.7+ KB\n"
     ]
    }
   ],
   "metadata": {}
  }
 ],
 "metadata": {
  "orig_nbformat": 4,
  "language_info": {
   "name": "python",
   "version": "3.8.11",
   "mimetype": "text/x-python",
   "codemirror_mode": {
    "name": "ipython",
    "version": 3
   },
   "pygments_lexer": "ipython3",
   "nbconvert_exporter": "python",
   "file_extension": ".py"
  },
  "kernelspec": {
   "name": "python3",
   "display_name": "Python 3.8.11 64-bit ('spec-project': conda)"
  },
  "interpreter": {
   "hash": "d5626e6117a626f228c3b35b757f4e3d945537012d8c7ec5db5088829d27e251"
  }
 },
 "nbformat": 4,
 "nbformat_minor": 2
}