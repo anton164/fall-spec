{
 "cells": [
  {
   "cell_type": "code",
   "execution_count": 82,
   "source": [
    "from notebook_utils import resolve_paths_from_parent_directory\n",
    "resolve_paths_from_parent_directory()\n",
    "# auto reload notebook deps\n",
    "%reload_ext autoreload\n",
    "%autoreload 2"
   ],
   "outputs": [],
   "metadata": {}
  },
  {
   "cell_type": "code",
   "execution_count": 83,
   "source": [
    "import json\n",
    "import pandas as pd\n",
    "\n",
    "DATASETS = {\n",
    "    \"CentralParkNYC\": {\n",
    "        \"input_location\": \"../data/tweet_objects/CentralParkNYC/2021-01-27-2021-02-06.json\",\n",
    "        \"output_location\": \"../data/labeled_datasets/CentralParkNYC-2021-01-27-2021-02-06.json\",\n",
    "        \"spike_start\": \"Feb 1, 2021, 17:00\",\n",
    "        \"spike_end\": \"Feb 3, 2021, 04:00\",\n",
    "    },\n",
    "    \"united\": {\n",
    "        \"input_location\": \"../data/tweet_objects/united/2020-12-05-2020-12-15.json\",\n",
    "        \"output_location\": \"../data/labeled_datasets/united-2020-12-05-2020-12-15.json\",\n",
    "        \"spike_start\": \"Dec 12, 2020, 05:00\",\n",
    "        \"spike_end\": \"Dec 13, 2020, 06:00\",\n",
    "    },\n",
    "    \"nationalGridUS\": {\n",
    "        \"input_location\": \"../data/tweet_objects/nationalGridUS/2020-10-01-2020-10-12.json\",\n",
    "        \"output_location\": \"../data/labeled_datasets/nationalGridUS-2020-10-01-2020-10-12.json\",\n",
    "        \"spike_start\": \"Oct 7, 2020, 17:00\",\n",
    "        \"spike_end\": \"Oct 9, 2020, 04:00\",\n",
    "    }\n",
    "}\n",
    "\n",
    "selected_dataset = DATASETS[\"united\"]\n",
    "labeled_spike_start = pd.to_datetime(selected_dataset[\"spike_start\"]).tz_localize(\"UTC\")\n",
    "labeled_spike_end = pd.to_datetime(selected_dataset[\"spike_end\"]).tz_localize(\"UTC\")"
   ],
   "outputs": [],
   "metadata": {}
  },
  {
   "cell_type": "code",
   "execution_count": 84,
   "source": [
    "from utils.dataset import create_tweet_df\n",
    "\n",
    "with open(selected_dataset[\"input_location\"], \"r\") as f:\n",
    "    raw_dataset = json.load(f)\n",
    "\n",
    "df_tweets = create_tweet_df(raw_dataset[\"tweets\"])\n",
    "\n",
    "# lower entities\n",
    "df_tweets[\"hashtags\"] = df_tweets.hashtags.apply(lambda xs: [x.lower() for x in xs])\n",
    "df_tweets[\"mentions\"] = df_tweets.mentions.apply(lambda xs: [x.lower() for x in xs])\n",
    "\n",
    "# Set retweet count 0 for retweets\n",
    "df_tweets[\"retweet_count\"] = df_tweets.apply(\n",
    "    lambda x: x.retweet_count if x.retweeted is None else 0, \n",
    "    axis=1\n",
    ")\n",
    "\n",
    "# Label tweets\n",
    "df_tweets[\"is_anomaly\"] = df_tweets.created_at.apply(\n",
    "    lambda x: 0 if (x < labeled_spike_start or x > labeled_spike_end) else 1\n",
    ")\n",
    "\n",
    "df_tweets.head()"
   ],
   "outputs": [
    {
     "output_type": "execute_result",
     "data": {
      "text/html": [
       "<div>\n",
       "<style scoped>\n",
       "    .dataframe tbody tr th:only-of-type {\n",
       "        vertical-align: middle;\n",
       "    }\n",
       "\n",
       "    .dataframe tbody tr th {\n",
       "        vertical-align: top;\n",
       "    }\n",
       "\n",
       "    .dataframe thead th {\n",
       "        text-align: right;\n",
       "    }\n",
       "</style>\n",
       "<table border=\"1\" class=\"dataframe\">\n",
       "  <thead>\n",
       "    <tr style=\"text-align: right;\">\n",
       "      <th></th>\n",
       "      <th>id</th>\n",
       "      <th>text</th>\n",
       "      <th>created_at</th>\n",
       "      <th>hashtags</th>\n",
       "      <th>mentions</th>\n",
       "      <th>in_reply_to_user_id</th>\n",
       "      <th>user_id</th>\n",
       "      <th>retweet_count</th>\n",
       "      <th>quote_count</th>\n",
       "      <th>reply_count</th>\n",
       "      <th>like_count</th>\n",
       "      <th>replied_to</th>\n",
       "      <th>retweeted</th>\n",
       "      <th>quoted</th>\n",
       "      <th>is_anomaly</th>\n",
       "    </tr>\n",
       "  </thead>\n",
       "  <tbody>\n",
       "    <tr>\n",
       "      <th>34642</th>\n",
       "      <td>1336444683875016705</td>\n",
       "      <td>RT @DavidCornDC: Hey @United, a family member ...</td>\n",
       "      <td>2020-12-08 22:56:57+00:00</td>\n",
       "      <td>[]</td>\n",
       "      <td>[davidcorndc, united]</td>\n",
       "      <td>None</td>\n",
       "      <td>779922519285301248</td>\n",
       "      <td>0</td>\n",
       "      <td>0</td>\n",
       "      <td>0</td>\n",
       "      <td>0</td>\n",
       "      <td>NaN</td>\n",
       "      <td>1336361619107049472</td>\n",
       "      <td>NaN</td>\n",
       "      <td>0</td>\n",
       "    </tr>\n",
       "    <tr>\n",
       "      <th>34641</th>\n",
       "      <td>1336444690640465920</td>\n",
       "      <td>RT @DavidCornDC: Hey @United, a family member ...</td>\n",
       "      <td>2020-12-08 22:56:58+00:00</td>\n",
       "      <td>[]</td>\n",
       "      <td>[davidcorndc, united]</td>\n",
       "      <td>None</td>\n",
       "      <td>161003217</td>\n",
       "      <td>0</td>\n",
       "      <td>0</td>\n",
       "      <td>0</td>\n",
       "      <td>0</td>\n",
       "      <td>NaN</td>\n",
       "      <td>1336361619107049472</td>\n",
       "      <td>NaN</td>\n",
       "      <td>0</td>\n",
       "    </tr>\n",
       "    <tr>\n",
       "      <th>34640</th>\n",
       "      <td>1336444721556668416</td>\n",
       "      <td>RT @DavidCornDC: Worse, @United, your flight a...</td>\n",
       "      <td>2020-12-08 22:57:06+00:00</td>\n",
       "      <td>[]</td>\n",
       "      <td>[davidcorndc, united]</td>\n",
       "      <td>None</td>\n",
       "      <td>161003217</td>\n",
       "      <td>0</td>\n",
       "      <td>0</td>\n",
       "      <td>0</td>\n",
       "      <td>0</td>\n",
       "      <td>NaN</td>\n",
       "      <td>1336361619857809408</td>\n",
       "      <td>NaN</td>\n",
       "      <td>0</td>\n",
       "    </tr>\n",
       "    <tr>\n",
       "      <th>34639</th>\n",
       "      <td>1336444729723064320</td>\n",
       "      <td>RT @DavidCornDC: Worse, @United, your flight a...</td>\n",
       "      <td>2020-12-08 22:57:08+00:00</td>\n",
       "      <td>[]</td>\n",
       "      <td>[davidcorndc, united]</td>\n",
       "      <td>None</td>\n",
       "      <td>794448786</td>\n",
       "      <td>0</td>\n",
       "      <td>0</td>\n",
       "      <td>0</td>\n",
       "      <td>0</td>\n",
       "      <td>NaN</td>\n",
       "      <td>1336361619857809408</td>\n",
       "      <td>NaN</td>\n",
       "      <td>0</td>\n",
       "    </tr>\n",
       "    <tr>\n",
       "      <th>34638</th>\n",
       "      <td>1336444732554113024</td>\n",
       "      <td>RT @DavidCornDC: Hey @United, a family member ...</td>\n",
       "      <td>2020-12-08 22:57:08+00:00</td>\n",
       "      <td>[]</td>\n",
       "      <td>[davidcorndc, united]</td>\n",
       "      <td>None</td>\n",
       "      <td>1165791085626396672</td>\n",
       "      <td>0</td>\n",
       "      <td>0</td>\n",
       "      <td>0</td>\n",
       "      <td>0</td>\n",
       "      <td>NaN</td>\n",
       "      <td>1336361619107049472</td>\n",
       "      <td>NaN</td>\n",
       "      <td>0</td>\n",
       "    </tr>\n",
       "  </tbody>\n",
       "</table>\n",
       "</div>"
      ],
      "text/plain": [
       "                        id                                               text  \\\n",
       "34642  1336444683875016705  RT @DavidCornDC: Hey @United, a family member ...   \n",
       "34641  1336444690640465920  RT @DavidCornDC: Hey @United, a family member ...   \n",
       "34640  1336444721556668416  RT @DavidCornDC: Worse, @United, your flight a...   \n",
       "34639  1336444729723064320  RT @DavidCornDC: Worse, @United, your flight a...   \n",
       "34638  1336444732554113024  RT @DavidCornDC: Hey @United, a family member ...   \n",
       "\n",
       "                     created_at hashtags               mentions  \\\n",
       "34642 2020-12-08 22:56:57+00:00       []  [davidcorndc, united]   \n",
       "34641 2020-12-08 22:56:58+00:00       []  [davidcorndc, united]   \n",
       "34640 2020-12-08 22:57:06+00:00       []  [davidcorndc, united]   \n",
       "34639 2020-12-08 22:57:08+00:00       []  [davidcorndc, united]   \n",
       "34638 2020-12-08 22:57:08+00:00       []  [davidcorndc, united]   \n",
       "\n",
       "      in_reply_to_user_id              user_id  retweet_count  quote_count  \\\n",
       "34642                None   779922519285301248              0            0   \n",
       "34641                None            161003217              0            0   \n",
       "34640                None            161003217              0            0   \n",
       "34639                None            794448786              0            0   \n",
       "34638                None  1165791085626396672              0            0   \n",
       "\n",
       "       reply_count  like_count replied_to            retweeted quoted  \\\n",
       "34642            0           0        NaN  1336361619107049472    NaN   \n",
       "34641            0           0        NaN  1336361619107049472    NaN   \n",
       "34640            0           0        NaN  1336361619857809408    NaN   \n",
       "34639            0           0        NaN  1336361619857809408    NaN   \n",
       "34638            0           0        NaN  1336361619107049472    NaN   \n",
       "\n",
       "       is_anomaly  \n",
       "34642           0  \n",
       "34641           0  \n",
       "34640           0  \n",
       "34639           0  \n",
       "34638           0  "
      ]
     },
     "metadata": {},
     "execution_count": 84
    }
   ],
   "metadata": {}
  },
  {
   "cell_type": "code",
   "execution_count": 85,
   "source": [
    "## Create timeseries from tweets\n",
    "from utils.dataset import count_array_column\n",
    "\n",
    "df_top_hashtags = count_array_column(df_tweets[\"hashtags\"])\n",
    "df_top_mentions = count_array_column(df_tweets[\"mentions\"])\n",
    "\n",
    "df_top_hashtags[:5]"
   ],
   "outputs": [
    {
     "output_type": "execute_result",
     "data": {
      "text/html": [
       "<div>\n",
       "<style scoped>\n",
       "    .dataframe tbody tr th:only-of-type {\n",
       "        vertical-align: middle;\n",
       "    }\n",
       "\n",
       "    .dataframe tbody tr th {\n",
       "        vertical-align: top;\n",
       "    }\n",
       "\n",
       "    .dataframe thead th {\n",
       "        text-align: right;\n",
       "    }\n",
       "</style>\n",
       "<table border=\"1\" class=\"dataframe\">\n",
       "  <thead>\n",
       "    <tr style=\"text-align: right;\">\n",
       "      <th></th>\n",
       "      <th>value</th>\n",
       "      <th>count</th>\n",
       "      <th>pct</th>\n",
       "    </tr>\n",
       "  </thead>\n",
       "  <tbody>\n",
       "    <tr>\n",
       "      <th>7</th>\n",
       "      <td>boycottunitedairlines</td>\n",
       "      <td>313</td>\n",
       "      <td>0.009035</td>\n",
       "    </tr>\n",
       "    <tr>\n",
       "      <th>10</th>\n",
       "      <td>unitedairlines</td>\n",
       "      <td>277</td>\n",
       "      <td>0.007996</td>\n",
       "    </tr>\n",
       "    <tr>\n",
       "      <th>33</th>\n",
       "      <td>boycottunited</td>\n",
       "      <td>166</td>\n",
       "      <td>0.004792</td>\n",
       "    </tr>\n",
       "    <tr>\n",
       "      <th>63</th>\n",
       "      <td>covid19</td>\n",
       "      <td>87</td>\n",
       "      <td>0.002511</td>\n",
       "    </tr>\n",
       "    <tr>\n",
       "      <th>18</th>\n",
       "      <td>travel</td>\n",
       "      <td>78</td>\n",
       "      <td>0.002252</td>\n",
       "    </tr>\n",
       "  </tbody>\n",
       "</table>\n",
       "</div>"
      ],
      "text/plain": [
       "                    value  count       pct\n",
       "7   boycottunitedairlines    313  0.009035\n",
       "10         unitedairlines    277  0.007996\n",
       "33          boycottunited    166  0.004792\n",
       "63                covid19     87  0.002511\n",
       "18                 travel     78  0.002252"
      ]
     },
     "metadata": {},
     "execution_count": 85
    }
   ],
   "metadata": {}
  },
  {
   "cell_type": "code",
   "execution_count": 86,
   "source": [
    "def count_col_occurrence(df_col, value):\n",
    "    return df_col.apply(lambda values: value in values).sum()\n",
    "\n",
    "time_bucket_size = \"60Min\"\n",
    "\n",
    "df_timeseries = df_tweets.groupby(df_tweets.created_at.dt.ceil(time_bucket_size)).agg(\n",
    "    total_count=('id', 'count'), \n",
    "    is_anomaly=('is_anomaly', lambda x: x.any()),\n",
    "    retweet_count=('retweeted', lambda x: pd.notna(x).sum()),\n",
    "    quote_count=('quoted', lambda x: pd.notna(x).sum()),\n",
    "    replied_to_count=('replied_to', lambda x: pd.notna(x).sum()),\n",
    "    top1_hashtag_count=(\n",
    "        'hashtags', \n",
    "        lambda x: count_col_occurrence(x, df_top_hashtags.iloc[0].value)\n",
    "    ),\n",
    "    top2_hashtag_count=(\n",
    "        'hashtags', \n",
    "        lambda x: count_col_occurrence(x, df_top_hashtags.iloc[1].value)\n",
    "    ),\n",
    "    top3_hashtag_count=(\n",
    "        'hashtags', \n",
    "        lambda x: count_col_occurrence(x, df_top_hashtags.iloc[2].value)\n",
    "    ),\n",
    "    top1_mention_count=(\n",
    "        'mentions', \n",
    "        lambda x: count_col_occurrence(x, df_top_mentions.iloc[0].value)\n",
    "    ),\n",
    "    top2_mention_count=(\n",
    "        'mentions', \n",
    "        lambda x: count_col_occurrence(x, df_top_mentions.iloc[1].value)\n",
    "    ),\n",
    "    top3_mention_count=(\n",
    "        'mentions', \n",
    "        lambda x: count_col_occurrence(x, df_top_mentions.iloc[2].value)\n",
    "    )\n",
    ")\n",
    "df_timeseries.head()"
   ],
   "outputs": [
    {
     "output_type": "execute_result",
     "data": {
      "text/html": [
       "<div>\n",
       "<style scoped>\n",
       "    .dataframe tbody tr th:only-of-type {\n",
       "        vertical-align: middle;\n",
       "    }\n",
       "\n",
       "    .dataframe tbody tr th {\n",
       "        vertical-align: top;\n",
       "    }\n",
       "\n",
       "    .dataframe thead th {\n",
       "        text-align: right;\n",
       "    }\n",
       "</style>\n",
       "<table border=\"1\" class=\"dataframe\">\n",
       "  <thead>\n",
       "    <tr style=\"text-align: right;\">\n",
       "      <th></th>\n",
       "      <th>total_count</th>\n",
       "      <th>is_anomaly</th>\n",
       "      <th>retweet_count</th>\n",
       "      <th>quote_count</th>\n",
       "      <th>replied_to_count</th>\n",
       "      <th>top1_hashtag_count</th>\n",
       "      <th>top2_hashtag_count</th>\n",
       "      <th>top3_hashtag_count</th>\n",
       "      <th>top1_mention_count</th>\n",
       "      <th>top2_mention_count</th>\n",
       "      <th>top3_mention_count</th>\n",
       "    </tr>\n",
       "    <tr>\n",
       "      <th>created_at</th>\n",
       "      <th></th>\n",
       "      <th></th>\n",
       "      <th></th>\n",
       "      <th></th>\n",
       "      <th></th>\n",
       "      <th></th>\n",
       "      <th></th>\n",
       "      <th></th>\n",
       "      <th></th>\n",
       "      <th></th>\n",
       "      <th></th>\n",
       "    </tr>\n",
       "  </thead>\n",
       "  <tbody>\n",
       "    <tr>\n",
       "      <th>2020-12-08 23:00:00+00:00</th>\n",
       "      <td>51</td>\n",
       "      <td>False</td>\n",
       "      <td>45</td>\n",
       "      <td>1</td>\n",
       "      <td>5</td>\n",
       "      <td>0</td>\n",
       "      <td>0</td>\n",
       "      <td>0</td>\n",
       "      <td>51</td>\n",
       "      <td>0</td>\n",
       "      <td>49</td>\n",
       "    </tr>\n",
       "    <tr>\n",
       "      <th>2020-12-09 00:00:00+00:00</th>\n",
       "      <td>744</td>\n",
       "      <td>False</td>\n",
       "      <td>580</td>\n",
       "      <td>23</td>\n",
       "      <td>135</td>\n",
       "      <td>1</td>\n",
       "      <td>1</td>\n",
       "      <td>0</td>\n",
       "      <td>736</td>\n",
       "      <td>0</td>\n",
       "      <td>676</td>\n",
       "    </tr>\n",
       "    <tr>\n",
       "      <th>2020-12-09 01:00:00+00:00</th>\n",
       "      <td>484</td>\n",
       "      <td>False</td>\n",
       "      <td>390</td>\n",
       "      <td>11</td>\n",
       "      <td>74</td>\n",
       "      <td>0</td>\n",
       "      <td>1</td>\n",
       "      <td>0</td>\n",
       "      <td>472</td>\n",
       "      <td>0</td>\n",
       "      <td>437</td>\n",
       "    </tr>\n",
       "    <tr>\n",
       "      <th>2020-12-09 02:00:00+00:00</th>\n",
       "      <td>561</td>\n",
       "      <td>False</td>\n",
       "      <td>465</td>\n",
       "      <td>12</td>\n",
       "      <td>83</td>\n",
       "      <td>0</td>\n",
       "      <td>0</td>\n",
       "      <td>2</td>\n",
       "      <td>556</td>\n",
       "      <td>0</td>\n",
       "      <td>525</td>\n",
       "    </tr>\n",
       "    <tr>\n",
       "      <th>2020-12-09 03:00:00+00:00</th>\n",
       "      <td>484</td>\n",
       "      <td>False</td>\n",
       "      <td>373</td>\n",
       "      <td>12</td>\n",
       "      <td>94</td>\n",
       "      <td>0</td>\n",
       "      <td>1</td>\n",
       "      <td>0</td>\n",
       "      <td>476</td>\n",
       "      <td>0</td>\n",
       "      <td>440</td>\n",
       "    </tr>\n",
       "  </tbody>\n",
       "</table>\n",
       "</div>"
      ],
      "text/plain": [
       "                           total_count  is_anomaly  retweet_count  \\\n",
       "created_at                                                          \n",
       "2020-12-08 23:00:00+00:00           51       False             45   \n",
       "2020-12-09 00:00:00+00:00          744       False            580   \n",
       "2020-12-09 01:00:00+00:00          484       False            390   \n",
       "2020-12-09 02:00:00+00:00          561       False            465   \n",
       "2020-12-09 03:00:00+00:00          484       False            373   \n",
       "\n",
       "                           quote_count  replied_to_count  top1_hashtag_count  \\\n",
       "created_at                                                                     \n",
       "2020-12-08 23:00:00+00:00            1                 5                   0   \n",
       "2020-12-09 00:00:00+00:00           23               135                   1   \n",
       "2020-12-09 01:00:00+00:00           11                74                   0   \n",
       "2020-12-09 02:00:00+00:00           12                83                   0   \n",
       "2020-12-09 03:00:00+00:00           12                94                   0   \n",
       "\n",
       "                           top2_hashtag_count  top3_hashtag_count  \\\n",
       "created_at                                                          \n",
       "2020-12-08 23:00:00+00:00                   0                   0   \n",
       "2020-12-09 00:00:00+00:00                   1                   0   \n",
       "2020-12-09 01:00:00+00:00                   1                   0   \n",
       "2020-12-09 02:00:00+00:00                   0                   2   \n",
       "2020-12-09 03:00:00+00:00                   1                   0   \n",
       "\n",
       "                           top1_mention_count  top2_mention_count  \\\n",
       "created_at                                                          \n",
       "2020-12-08 23:00:00+00:00                  51                   0   \n",
       "2020-12-09 00:00:00+00:00                 736                   0   \n",
       "2020-12-09 01:00:00+00:00                 472                   0   \n",
       "2020-12-09 02:00:00+00:00                 556                   0   \n",
       "2020-12-09 03:00:00+00:00                 476                   0   \n",
       "\n",
       "                           top3_mention_count  \n",
       "created_at                                     \n",
       "2020-12-08 23:00:00+00:00                  49  \n",
       "2020-12-09 00:00:00+00:00                 676  \n",
       "2020-12-09 01:00:00+00:00                 437  \n",
       "2020-12-09 02:00:00+00:00                 525  \n",
       "2020-12-09 03:00:00+00:00                 440  "
      ]
     },
     "metadata": {},
     "execution_count": 86
    }
   ],
   "metadata": {}
  },
  {
   "cell_type": "code",
   "execution_count": 87,
   "source": [
    "\n",
    "from merlion.utils import TimeSeries\n",
    "from merlion.models.anomaly.forecast_based.prophet import ProphetDetector, ProphetDetectorConfig\n",
    "from merlion.plot import plot_anoms_plotly\n",
    "from merlion.post_process.threshold import AggregateAlarms\n",
    "\n",
    "def convert_to_merlion(df, column):\n",
    "    df = df.copy()\n",
    "    df = df[column]\n",
    "    df.index = df.index.tz_convert(None)\n",
    "    return TimeSeries.from_pd(df)\n",
    "\n",
    "def detect_anomalies(\n",
    "    df_timeseries, \n",
    "    column,\n",
    "    model=ProphetDetector(ProphetDetectorConfig(\n",
    "        threshold=AggregateAlarms(alm_threshold=1.5),\n",
    "        yearly_seasonality=False,\n",
    "        weekly_seasonality=False,\n",
    "        daily_seasonality=False,\n",
    "        add_seasonality=False,\n",
    "        uncertainty_samples=1000\n",
    "    )),\n",
    "    plot=True\n",
    "):\n",
    "    train_data = convert_to_merlion(df_timeseries, column)\n",
    "    anomaly_score = model.train(train_data=train_data, anomaly_labels=None)\n",
    "    scores = model.get_anomaly_score(train_data)\n",
    "    df_scores = scores.to_pd()\n",
    "    labels_train = model.get_anomaly_label(train_data)\n",
    "\n",
    "    fig = model.plot_anomaly_plotly(\n",
    "        time_series=train_data,\n",
    "        plot_forecast=True,\n",
    "        plot_forecast_uncertainty=True\n",
    "    )\n",
    "    plot_anoms_plotly(fig, anomaly_labels=labels_train)\n",
    "    fig.show()\n",
    "\n",
    "    df_labels = labels_train.to_pd()\n",
    "    df_labels.resample(time_bucket_size).fillna(\"bfill\")\n",
    "\n",
    "    def set_anom_score(created_at):\n",
    "        lookup = created_at.tz_convert(None).ceil(\"30Min\")\n",
    "        if lookup in df_labels.index:\n",
    "            return df_labels.loc[lookup].anom_score\n",
    "        else:\n",
    "            return 0    \n",
    "\n",
    "    ## Label df_tweets with anomaly\n",
    "    df_tweets[\"merlion_anomaly_\" + column] = df_tweets.created_at.apply(\n",
    "        set_anom_score\n",
    "    )\n",
    "    return df_scores\n",
    "\n",
    "anomaly_scores = detect_anomalies(\n",
    "    df_timeseries, \n",
    "    \"total_count\"\n",
    ")"
   ],
   "outputs": [
    {
     "output_type": "stream",
     "name": "stdout",
     "text": [
      "Initial log joint probability = -14.1564\n",
      "    Iter      log prob        ||dx||      ||grad||       alpha      alpha0  # evals  Notes \n",
      "      99       266.201   0.000141769       97.1144      0.3363           1      119   \n",
      "    Iter      log prob        ||dx||      ||grad||       alpha      alpha0  # evals  Notes \n",
      "     105       266.227   0.000120227       91.3872   1.284e-06       0.001      163  LS failed, Hessian reset \n",
      "     152       266.251   5.13516e-09       96.1561      0.2147      0.2147      220   \n",
      "Optimization terminated normally: \n",
      "  Convergence detected: absolute parameter change was below tolerance\n"
     ]
    },
    {
     "output_type": "display_data",
     "data": {
      "application/vnd.plotly.v1+json": {
       "config": {
        "plotlyServerURL": "https://plot.ly"
       },
       "data": [
        {
         "hoverinfo": "skip",
         "line": {
          "width": 0
         },
         "mode": "lines",
         "showlegend": false,
         "type": "scatter",
         "x": [
          "2020-12-09T00:00:00",
          "2020-12-09T01:00:00",
          "2020-12-09T02:00:00",
          "2020-12-09T03:00:00",
          "2020-12-09T04:00:00",
          "2020-12-09T05:00:00",
          "2020-12-09T06:00:00",
          "2020-12-09T07:00:00",
          "2020-12-09T08:00:00",
          "2020-12-09T09:00:00",
          "2020-12-09T10:00:00",
          "2020-12-09T11:00:00",
          "2020-12-09T12:00:00",
          "2020-12-09T13:00:00",
          "2020-12-09T14:00:00",
          "2020-12-09T15:00:00",
          "2020-12-09T16:00:00",
          "2020-12-09T17:00:00",
          "2020-12-09T18:00:00",
          "2020-12-09T19:00:00",
          "2020-12-09T20:00:00",
          "2020-12-09T21:00:00",
          "2020-12-09T22:00:00",
          "2020-12-09T23:00:00",
          "2020-12-10T00:00:00",
          "2020-12-10T01:00:00",
          "2020-12-10T02:00:00",
          "2020-12-10T03:00:00",
          "2020-12-10T04:00:00",
          "2020-12-10T05:00:00",
          "2020-12-10T06:00:00",
          "2020-12-10T07:00:00",
          "2020-12-10T08:00:00",
          "2020-12-10T09:00:00",
          "2020-12-10T10:00:00",
          "2020-12-10T11:00:00",
          "2020-12-10T12:00:00",
          "2020-12-10T13:00:00",
          "2020-12-10T14:00:00",
          "2020-12-10T15:00:00",
          "2020-12-10T16:00:00",
          "2020-12-10T17:00:00",
          "2020-12-10T18:00:00",
          "2020-12-10T19:00:00",
          "2020-12-10T20:00:00",
          "2020-12-10T21:00:00",
          "2020-12-10T22:00:00",
          "2020-12-10T23:00:00",
          "2020-12-11T00:00:00",
          "2020-12-11T01:00:00",
          "2020-12-11T02:00:00",
          "2020-12-11T03:00:00",
          "2020-12-11T04:00:00",
          "2020-12-11T05:00:00",
          "2020-12-11T06:00:00",
          "2020-12-11T07:00:00",
          "2020-12-11T08:00:00",
          "2020-12-11T09:00:00",
          "2020-12-11T10:00:00",
          "2020-12-11T11:00:00",
          "2020-12-11T12:00:00",
          "2020-12-11T13:00:00",
          "2020-12-11T14:00:00",
          "2020-12-11T15:00:00",
          "2020-12-11T16:00:00",
          "2020-12-11T17:00:00",
          "2020-12-11T18:00:00",
          "2020-12-11T19:00:00",
          "2020-12-11T20:00:00",
          "2020-12-11T21:00:00",
          "2020-12-11T22:00:00",
          "2020-12-11T23:00:00",
          "2020-12-12T00:00:00",
          "2020-12-12T01:00:00",
          "2020-12-12T02:00:00",
          "2020-12-12T03:00:00",
          "2020-12-12T04:00:00",
          "2020-12-12T05:00:00",
          "2020-12-12T06:00:00",
          "2020-12-12T07:00:00",
          "2020-12-12T08:00:00",
          "2020-12-12T09:00:00",
          "2020-12-12T10:00:00",
          "2020-12-12T11:00:00",
          "2020-12-12T12:00:00",
          "2020-12-12T13:00:00",
          "2020-12-12T14:00:00",
          "2020-12-12T15:00:00",
          "2020-12-12T16:00:00",
          "2020-12-12T17:00:00",
          "2020-12-12T18:00:00",
          "2020-12-12T19:00:00",
          "2020-12-12T20:00:00",
          "2020-12-12T21:00:00",
          "2020-12-12T22:00:00",
          "2020-12-12T23:00:00",
          "2020-12-13T00:00:00",
          "2020-12-13T01:00:00",
          "2020-12-13T02:00:00",
          "2020-12-13T03:00:00",
          "2020-12-13T04:00:00",
          "2020-12-13T05:00:00",
          "2020-12-13T06:00:00",
          "2020-12-13T07:00:00",
          "2020-12-13T08:00:00",
          "2020-12-13T09:00:00",
          "2020-12-13T10:00:00",
          "2020-12-13T11:00:00",
          "2020-12-13T12:00:00",
          "2020-12-13T13:00:00",
          "2020-12-13T14:00:00",
          "2020-12-13T15:00:00",
          "2020-12-13T16:00:00",
          "2020-12-13T17:00:00",
          "2020-12-13T18:00:00",
          "2020-12-13T19:00:00",
          "2020-12-13T20:00:00",
          "2020-12-13T21:00:00",
          "2020-12-13T22:00:00",
          "2020-12-13T23:00:00",
          "2020-12-14T00:00:00",
          "2020-12-14T01:00:00",
          "2020-12-14T02:00:00",
          "2020-12-14T03:00:00",
          "2020-12-14T04:00:00",
          "2020-12-14T05:00:00",
          "2020-12-14T06:00:00",
          "2020-12-14T07:00:00",
          "2020-12-14T08:00:00",
          "2020-12-14T09:00:00",
          "2020-12-14T10:00:00",
          "2020-12-14T11:00:00",
          "2020-12-14T12:00:00",
          "2020-12-14T13:00:00",
          "2020-12-14T14:00:00",
          "2020-12-14T15:00:00",
          "2020-12-14T16:00:00",
          "2020-12-14T17:00:00",
          "2020-12-14T18:00:00",
          "2020-12-14T19:00:00",
          "2020-12-14T20:00:00",
          "2020-12-14T21:00:00",
          "2020-12-14T22:00:00",
          "2020-12-14T23:00:00",
          "2020-12-15T00:00:00",
          "2020-12-15T01:00:00",
          "2020-12-15T02:00:00",
          "2020-12-15T03:00:00",
          "2020-12-15T04:00:00",
          "2020-12-15T05:00:00",
          "2020-12-15T06:00:00",
          "2020-12-15T07:00:00",
          "2020-12-15T08:00:00",
          "2020-12-15T09:00:00",
          "2020-12-15T10:00:00",
          "2020-12-15T11:00:00",
          "2020-12-15T12:00:00",
          "2020-12-15T13:00:00",
          "2020-12-15T14:00:00",
          "2020-12-15T15:00:00",
          "2020-12-15T16:00:00",
          "2020-12-15T17:00:00",
          "2020-12-15T18:00:00",
          "2020-12-15T19:00:00",
          "2020-12-15T20:00:00",
          "2020-12-15T21:00:00",
          "2020-12-15T22:00:00",
          "2020-12-15T23:00:00",
          "2020-12-16T00:00:00"
         ],
         "y": [
          104.01788599923347,
          113.76314002341024,
          104.27350581493937,
          106.27043744982613,
          108.45914731404712,
          113.28793270250345,
          107.2515438159402,
          106.36599917996924,
          103.56398477447226,
          96.6244127296209,
          102.70467839454386,
          108.11764945994415,
          100.29303249415509,
          90.1652398606517,
          104.02939171641039,
          106.04415939827459,
          96.66811644473628,
          109.03996914711092,
          95.169813534052,
          107.5477971510589,
          100.30158146690493,
          111.28195894256726,
          102.97980915721449,
          106.17572551827378,
          105.02615264851916,
          87.37694709541113,
          107.53416700700544,
          99.76601432663014,
          103.2046239335683,
          101.26797201645284,
          98.89680727553352,
          94.49830805115072,
          106.08966138908593,
          97.43018328346658,
          113.5136765399838,
          97.38753281914518,
          88.90946905851386,
          102.50719338849422,
          85.17856470713208,
          101.40351509542317,
          109.43868674682145,
          100.6441084401127,
          94.26019271237722,
          99.45567080610958,
          91.76297697707302,
          82.79847664319469,
          103.71115516924496,
          101.45677182947294,
          91.81360997150315,
          95.07510332878991,
          102.68872200452131,
          110.84125230797876,
          91.68028034070791,
          113.9084663826555,
          98.05126434349208,
          104.0961874332349,
          108.60058847384046,
          96.42791147635721,
          105.05444672834781,
          102.76617385425175,
          99.76480397025493,
          96.19150015558884,
          98.77530946706943,
          106.70421763207317,
          99.12222656129427,
          100.24626772412924,
          103.71532335628777,
          92.09521981543611,
          94.27405834491648,
          85.10246048667673,
          96.39614007496661,
          94.2112219168537,
          103.70799766266543,
          95.94543795305202,
          94.50507482475035,
          90.0034707334034,
          89.26228689571761,
          99.29744484219651,
          97.33239064216359,
          97.83380915727155,
          90.64493331282065,
          90.37688048884212,
          110.55077569221956,
          100.07270181400409,
          95.40882093109101,
          93.350261439407,
          95.28404213659651,
          91.70672418999449,
          91.45216770733465,
          106.22694323511553,
          89.99413704182851,
          89.58488007750441,
          104.05898601093708,
          92.02759138006009,
          85.2542672697042,
          99.82905333029153,
          99.29190493365927,
          86.87208845500429,
          97.70253385973373,
          91.00626607815472,
          93.83954150819942,
          85.30009032873795,
          95.90074711903492,
          88.79016507857965,
          102.05593288196988,
          98.96459060226628,
          101.77491178715458,
          95.02722293346451,
          95.63031412423784,
          99.05883706666941,
          101.31639737366544,
          92.47582412316677,
          101.80268674176389,
          93.17612081735155,
          98.14036739179542,
          96.3148004088042,
          85.06242084921676,
          98.81385761436727,
          96.96760887413541,
          86.81326373912046,
          89.92404200174701,
          87.15030106970441,
          73.9984481087379,
          91.68750898092718,
          85.60417407967707,
          89.8221250295458,
          86.63138977831716,
          85.86127702160442,
          81.30936401581181,
          99.94498705107212,
          95.38410169369253,
          87.05184666265177,
          92.80015538940626,
          92.1984236711628,
          90.94130988018603,
          79.83198517440147,
          87.09441839280333,
          84.38189753685162,
          96.98650494998441,
          96.27362750673652,
          89.70892710845318,
          86.63139566713468,
          86.0409331686229,
          88.60822497363343,
          90.4099608887876,
          90.02388554044063,
          89.17902136385534,
          93.88630978793577,
          83.55499059622149,
          86.37412431558326,
          78.60315014832071,
          98.98595608551823,
          98.95918792672961,
          89.82568099690084,
          78.12393679278493,
          93.41829036792407,
          98.3787392443559,
          91.66441139846556,
          99.43621783816589,
          92.42642538455704,
          83.95368656161197,
          79.0326792360232,
          92.22863038959896,
          85.11443747690154,
          79.29869030224673,
          92.35495550272132,
          83.88426927944622,
          89.86498718371311,
          86.37883409331508
         ]
        },
        {
         "fill": "tonexty",
         "fillcolor": "rgba(0, 114, 178, 0.2)",
         "line": {
          "color": "#0072B2",
          "width": 2
         },
         "mode": "lines",
         "name": "Forecast",
         "type": "scatter",
         "x": [
          "2020-12-09T00:00:00",
          "2020-12-09T01:00:00",
          "2020-12-09T02:00:00",
          "2020-12-09T03:00:00",
          "2020-12-09T04:00:00",
          "2020-12-09T05:00:00",
          "2020-12-09T06:00:00",
          "2020-12-09T07:00:00",
          "2020-12-09T08:00:00",
          "2020-12-09T09:00:00",
          "2020-12-09T10:00:00",
          "2020-12-09T11:00:00",
          "2020-12-09T12:00:00",
          "2020-12-09T13:00:00",
          "2020-12-09T14:00:00",
          "2020-12-09T15:00:00",
          "2020-12-09T16:00:00",
          "2020-12-09T17:00:00",
          "2020-12-09T18:00:00",
          "2020-12-09T19:00:00",
          "2020-12-09T20:00:00",
          "2020-12-09T21:00:00",
          "2020-12-09T22:00:00",
          "2020-12-09T23:00:00",
          "2020-12-10T00:00:00",
          "2020-12-10T01:00:00",
          "2020-12-10T02:00:00",
          "2020-12-10T03:00:00",
          "2020-12-10T04:00:00",
          "2020-12-10T05:00:00",
          "2020-12-10T06:00:00",
          "2020-12-10T07:00:00",
          "2020-12-10T08:00:00",
          "2020-12-10T09:00:00",
          "2020-12-10T10:00:00",
          "2020-12-10T11:00:00",
          "2020-12-10T12:00:00",
          "2020-12-10T13:00:00",
          "2020-12-10T14:00:00",
          "2020-12-10T15:00:00",
          "2020-12-10T16:00:00",
          "2020-12-10T17:00:00",
          "2020-12-10T18:00:00",
          "2020-12-10T19:00:00",
          "2020-12-10T20:00:00",
          "2020-12-10T21:00:00",
          "2020-12-10T22:00:00",
          "2020-12-10T23:00:00",
          "2020-12-11T00:00:00",
          "2020-12-11T01:00:00",
          "2020-12-11T02:00:00",
          "2020-12-11T03:00:00",
          "2020-12-11T04:00:00",
          "2020-12-11T05:00:00",
          "2020-12-11T06:00:00",
          "2020-12-11T07:00:00",
          "2020-12-11T08:00:00",
          "2020-12-11T09:00:00",
          "2020-12-11T10:00:00",
          "2020-12-11T11:00:00",
          "2020-12-11T12:00:00",
          "2020-12-11T13:00:00",
          "2020-12-11T14:00:00",
          "2020-12-11T15:00:00",
          "2020-12-11T16:00:00",
          "2020-12-11T17:00:00",
          "2020-12-11T18:00:00",
          "2020-12-11T19:00:00",
          "2020-12-11T20:00:00",
          "2020-12-11T21:00:00",
          "2020-12-11T22:00:00",
          "2020-12-11T23:00:00",
          "2020-12-12T00:00:00",
          "2020-12-12T01:00:00",
          "2020-12-12T02:00:00",
          "2020-12-12T03:00:00",
          "2020-12-12T04:00:00",
          "2020-12-12T05:00:00",
          "2020-12-12T06:00:00",
          "2020-12-12T07:00:00",
          "2020-12-12T08:00:00",
          "2020-12-12T09:00:00",
          "2020-12-12T10:00:00",
          "2020-12-12T11:00:00",
          "2020-12-12T12:00:00",
          "2020-12-12T13:00:00",
          "2020-12-12T14:00:00",
          "2020-12-12T15:00:00",
          "2020-12-12T16:00:00",
          "2020-12-12T17:00:00",
          "2020-12-12T18:00:00",
          "2020-12-12T19:00:00",
          "2020-12-12T20:00:00",
          "2020-12-12T21:00:00",
          "2020-12-12T22:00:00",
          "2020-12-12T23:00:00",
          "2020-12-13T00:00:00",
          "2020-12-13T01:00:00",
          "2020-12-13T02:00:00",
          "2020-12-13T03:00:00",
          "2020-12-13T04:00:00",
          "2020-12-13T05:00:00",
          "2020-12-13T06:00:00",
          "2020-12-13T07:00:00",
          "2020-12-13T08:00:00",
          "2020-12-13T09:00:00",
          "2020-12-13T10:00:00",
          "2020-12-13T11:00:00",
          "2020-12-13T12:00:00",
          "2020-12-13T13:00:00",
          "2020-12-13T14:00:00",
          "2020-12-13T15:00:00",
          "2020-12-13T16:00:00",
          "2020-12-13T17:00:00",
          "2020-12-13T18:00:00",
          "2020-12-13T19:00:00",
          "2020-12-13T20:00:00",
          "2020-12-13T21:00:00",
          "2020-12-13T22:00:00",
          "2020-12-13T23:00:00",
          "2020-12-14T00:00:00",
          "2020-12-14T01:00:00",
          "2020-12-14T02:00:00",
          "2020-12-14T03:00:00",
          "2020-12-14T04:00:00",
          "2020-12-14T05:00:00",
          "2020-12-14T06:00:00",
          "2020-12-14T07:00:00",
          "2020-12-14T08:00:00",
          "2020-12-14T09:00:00",
          "2020-12-14T10:00:00",
          "2020-12-14T11:00:00",
          "2020-12-14T12:00:00",
          "2020-12-14T13:00:00",
          "2020-12-14T14:00:00",
          "2020-12-14T15:00:00",
          "2020-12-14T16:00:00",
          "2020-12-14T17:00:00",
          "2020-12-14T18:00:00",
          "2020-12-14T19:00:00",
          "2020-12-14T20:00:00",
          "2020-12-14T21:00:00",
          "2020-12-14T22:00:00",
          "2020-12-14T23:00:00",
          "2020-12-15T00:00:00",
          "2020-12-15T01:00:00",
          "2020-12-15T02:00:00",
          "2020-12-15T03:00:00",
          "2020-12-15T04:00:00",
          "2020-12-15T05:00:00",
          "2020-12-15T06:00:00",
          "2020-12-15T07:00:00",
          "2020-12-15T08:00:00",
          "2020-12-15T09:00:00",
          "2020-12-15T10:00:00",
          "2020-12-15T11:00:00",
          "2020-12-15T12:00:00",
          "2020-12-15T13:00:00",
          "2020-12-15T14:00:00",
          "2020-12-15T15:00:00",
          "2020-12-15T16:00:00",
          "2020-12-15T17:00:00",
          "2020-12-15T18:00:00",
          "2020-12-15T19:00:00",
          "2020-12-15T20:00:00",
          "2020-12-15T21:00:00",
          "2020-12-15T22:00:00",
          "2020-12-15T23:00:00",
          "2020-12-16T00:00:00"
         ],
         "y": [
          9.56655028660038,
          9.440618328662035,
          9.31468637072369,
          9.188754412785341,
          9.062822454846996,
          8.936890496908648,
          8.810958627444657,
          8.685026757980665,
          8.559094888516675,
          8.433163019052683,
          8.307231149588691,
          8.1812992801247,
          8.056552317367341,
          7.931805354609982,
          7.807058391852624,
          7.6823114290952645,
          7.557564466337905,
          7.432817576888623,
          7.3080706874393435,
          7.183323797990061,
          7.058576908540781,
          6.933830019091499,
          6.821973812164683,
          6.710117605237865,
          6.598261398311049,
          6.486405191384231,
          6.374548984457414,
          6.262692777530596,
          6.150837904856515,
          6.038983032182434,
          5.927128159508353,
          5.815273286834272,
          5.703418414160193,
          5.591563590878992,
          5.479708767597792,
          5.367853944316592,
          5.255999121035393,
          5.144144297754193,
          5.032289474472993,
          4.920434695680873,
          4.808579916888755,
          4.696725138096636,
          4.584870359304517,
          4.473015580512398,
          4.361160801535681,
          4.249306022558964,
          4.137451243582247,
          4.025596464605531,
          3.913741685628815,
          3.80188689232322,
          3.6900320990176247,
          3.5781773057120296,
          3.4663225124064345,
          3.3544677191008394,
          3.2426129257952434,
          3.13075811873565,
          3.018903311676057,
          2.9070485046164625,
          2.7951936975568685,
          2.683338890497275,
          2.5714842014762187,
          2.459629512455164,
          2.3477748234341074,
          2.235920134413052,
          2.1240654453919974,
          2.0122107365268356,
          1.9003560276616736,
          1.7885013187965118,
          1.6766466099313508,
          1.56479190106619,
          1.4529371922010272,
          1.3410825165319569,
          1.2292278408628856,
          1.1173731651938144,
          1.005518489524743,
          0.893663813855672,
          0.7818091480993998,
          0.6699544823431287,
          0.5580998165868567,
          0.4462451508305855,
          0.33439048507431446,
          0.22253581566747319,
          0.11068114626063386,
          -0.0011735231462074187,
          -0.11302819255304869,
          -0.22488286195988996,
          -0.3367375313667293,
          -0.4485921684652296,
          -0.560446805563728,
          -0.6723014426622264,
          -0.7841560797607248,
          -0.8960107168592231,
          -1.0078653414892018,
          -1.1197199661191766,
          -1.2315745907491513,
          -1.3434292153791279,
          -1.4552838400091046,
          -1.5671384746574784,
          -1.678993109305854,
          -1.7908477439542279,
          -1.9027023786026016,
          -2.0145570132509754,
          -2.126411647899347,
          -2.2382663335854684,
          -2.3501210192715876,
          -2.4619757049577067,
          -2.573830390643826,
          -2.6856850763299454,
          -2.7975397623299725,
          -2.90939444833,
          -3.0212491343300254,
          -3.1331038203300525,
          -3.2449585063300783,
          -3.3568131923301094,
          -3.46866789854451,
          -3.5805226047589103,
          -3.6923773109733085,
          -3.804232017187709,
          -3.9160867234021093,
          -4.0279414066373525,
          -4.139796089872594,
          -4.251650773107835,
          -4.363505456343077,
          -4.475360139578316,
          -4.5872148292249,
          -4.699069518871479,
          -4.810924208518058,
          -4.922778898164638,
          -5.034633587811217,
          -5.1464882774578005,
          -5.258342966536803,
          -5.370197655615808,
          -5.482052344694813,
          -5.5939070337738155,
          -5.705761722852823,
          -5.817616412486115,
          -5.929471102119408,
          -6.041325791752703,
          -6.153180481385997,
          -6.265035171019291,
          -6.376889860652585,
          -6.48874455028588,
          -6.600599239919173,
          -6.712453929552467,
          -6.82430861918576,
          -6.936163308819055,
          -7.04801799845235,
          -7.159872688085644,
          -7.271727377718937,
          -7.38358206735223,
          -7.495436756985526,
          -7.60729144661882,
          -7.719146136252114,
          -7.831000825885406,
          -7.9428555155187,
          -8.054710205151997,
          -8.16656489478529,
          -8.278419584418584,
          -8.390274274051876,
          -8.502128963685173,
          -8.613983653318465,
          -8.72583834295176,
          -8.837693032585053,
          -8.949547722218348,
          -9.06140241185164,
          -9.173257101484934,
          -9.28511179111823,
          -9.396966480751525,
          -9.508821170384817
         ]
        },
        {
         "fill": "tonexty",
         "fillcolor": "rgba(0, 114, 178, 0.2)",
         "hoverinfo": "skip",
         "line": {
          "width": 0
         },
         "mode": "lines",
         "showlegend": false,
         "type": "scatter",
         "x": [
          "2020-12-09T00:00:00",
          "2020-12-09T01:00:00",
          "2020-12-09T02:00:00",
          "2020-12-09T03:00:00",
          "2020-12-09T04:00:00",
          "2020-12-09T05:00:00",
          "2020-12-09T06:00:00",
          "2020-12-09T07:00:00",
          "2020-12-09T08:00:00",
          "2020-12-09T09:00:00",
          "2020-12-09T10:00:00",
          "2020-12-09T11:00:00",
          "2020-12-09T12:00:00",
          "2020-12-09T13:00:00",
          "2020-12-09T14:00:00",
          "2020-12-09T15:00:00",
          "2020-12-09T16:00:00",
          "2020-12-09T17:00:00",
          "2020-12-09T18:00:00",
          "2020-12-09T19:00:00",
          "2020-12-09T20:00:00",
          "2020-12-09T21:00:00",
          "2020-12-09T22:00:00",
          "2020-12-09T23:00:00",
          "2020-12-10T00:00:00",
          "2020-12-10T01:00:00",
          "2020-12-10T02:00:00",
          "2020-12-10T03:00:00",
          "2020-12-10T04:00:00",
          "2020-12-10T05:00:00",
          "2020-12-10T06:00:00",
          "2020-12-10T07:00:00",
          "2020-12-10T08:00:00",
          "2020-12-10T09:00:00",
          "2020-12-10T10:00:00",
          "2020-12-10T11:00:00",
          "2020-12-10T12:00:00",
          "2020-12-10T13:00:00",
          "2020-12-10T14:00:00",
          "2020-12-10T15:00:00",
          "2020-12-10T16:00:00",
          "2020-12-10T17:00:00",
          "2020-12-10T18:00:00",
          "2020-12-10T19:00:00",
          "2020-12-10T20:00:00",
          "2020-12-10T21:00:00",
          "2020-12-10T22:00:00",
          "2020-12-10T23:00:00",
          "2020-12-11T00:00:00",
          "2020-12-11T01:00:00",
          "2020-12-11T02:00:00",
          "2020-12-11T03:00:00",
          "2020-12-11T04:00:00",
          "2020-12-11T05:00:00",
          "2020-12-11T06:00:00",
          "2020-12-11T07:00:00",
          "2020-12-11T08:00:00",
          "2020-12-11T09:00:00",
          "2020-12-11T10:00:00",
          "2020-12-11T11:00:00",
          "2020-12-11T12:00:00",
          "2020-12-11T13:00:00",
          "2020-12-11T14:00:00",
          "2020-12-11T15:00:00",
          "2020-12-11T16:00:00",
          "2020-12-11T17:00:00",
          "2020-12-11T18:00:00",
          "2020-12-11T19:00:00",
          "2020-12-11T20:00:00",
          "2020-12-11T21:00:00",
          "2020-12-11T22:00:00",
          "2020-12-11T23:00:00",
          "2020-12-12T00:00:00",
          "2020-12-12T01:00:00",
          "2020-12-12T02:00:00",
          "2020-12-12T03:00:00",
          "2020-12-12T04:00:00",
          "2020-12-12T05:00:00",
          "2020-12-12T06:00:00",
          "2020-12-12T07:00:00",
          "2020-12-12T08:00:00",
          "2020-12-12T09:00:00",
          "2020-12-12T10:00:00",
          "2020-12-12T11:00:00",
          "2020-12-12T12:00:00",
          "2020-12-12T13:00:00",
          "2020-12-12T14:00:00",
          "2020-12-12T15:00:00",
          "2020-12-12T16:00:00",
          "2020-12-12T17:00:00",
          "2020-12-12T18:00:00",
          "2020-12-12T19:00:00",
          "2020-12-12T20:00:00",
          "2020-12-12T21:00:00",
          "2020-12-12T22:00:00",
          "2020-12-12T23:00:00",
          "2020-12-13T00:00:00",
          "2020-12-13T01:00:00",
          "2020-12-13T02:00:00",
          "2020-12-13T03:00:00",
          "2020-12-13T04:00:00",
          "2020-12-13T05:00:00",
          "2020-12-13T06:00:00",
          "2020-12-13T07:00:00",
          "2020-12-13T08:00:00",
          "2020-12-13T09:00:00",
          "2020-12-13T10:00:00",
          "2020-12-13T11:00:00",
          "2020-12-13T12:00:00",
          "2020-12-13T13:00:00",
          "2020-12-13T14:00:00",
          "2020-12-13T15:00:00",
          "2020-12-13T16:00:00",
          "2020-12-13T17:00:00",
          "2020-12-13T18:00:00",
          "2020-12-13T19:00:00",
          "2020-12-13T20:00:00",
          "2020-12-13T21:00:00",
          "2020-12-13T22:00:00",
          "2020-12-13T23:00:00",
          "2020-12-14T00:00:00",
          "2020-12-14T01:00:00",
          "2020-12-14T02:00:00",
          "2020-12-14T03:00:00",
          "2020-12-14T04:00:00",
          "2020-12-14T05:00:00",
          "2020-12-14T06:00:00",
          "2020-12-14T07:00:00",
          "2020-12-14T08:00:00",
          "2020-12-14T09:00:00",
          "2020-12-14T10:00:00",
          "2020-12-14T11:00:00",
          "2020-12-14T12:00:00",
          "2020-12-14T13:00:00",
          "2020-12-14T14:00:00",
          "2020-12-14T15:00:00",
          "2020-12-14T16:00:00",
          "2020-12-14T17:00:00",
          "2020-12-14T18:00:00",
          "2020-12-14T19:00:00",
          "2020-12-14T20:00:00",
          "2020-12-14T21:00:00",
          "2020-12-14T22:00:00",
          "2020-12-14T23:00:00",
          "2020-12-15T00:00:00",
          "2020-12-15T01:00:00",
          "2020-12-15T02:00:00",
          "2020-12-15T03:00:00",
          "2020-12-15T04:00:00",
          "2020-12-15T05:00:00",
          "2020-12-15T06:00:00",
          "2020-12-15T07:00:00",
          "2020-12-15T08:00:00",
          "2020-12-15T09:00:00",
          "2020-12-15T10:00:00",
          "2020-12-15T11:00:00",
          "2020-12-15T12:00:00",
          "2020-12-15T13:00:00",
          "2020-12-15T14:00:00",
          "2020-12-15T15:00:00",
          "2020-12-15T16:00:00",
          "2020-12-15T17:00:00",
          "2020-12-15T18:00:00",
          "2020-12-15T19:00:00",
          "2020-12-15T20:00:00",
          "2020-12-15T21:00:00",
          "2020-12-15T22:00:00",
          "2020-12-15T23:00:00",
          "2020-12-16T00:00:00"
         ],
         "y": [
          -87.13197015240499,
          -78.9834031748377,
          -97.45695341411219,
          -70.90443126562198,
          -90.08416168866479,
          -82.75569850450132,
          -79.14984421269358,
          -99.73848334021163,
          -95.04406514510848,
          -95.31643185679525,
          -82.2574330437397,
          -88.14412438225892,
          -83.94643038103283,
          -87.5139896505432,
          -87.29369113580803,
          -93.56274011604728,
          -83.65479306434304,
          -81.3182625721787,
          -90.42568779313598,
          -83.09616021222976,
          -99.84689503874418,
          -91.71955042859891,
          -95.42370640862976,
          -88.46324186521339,
          -84.1213488984755,
          -84.05354684822092,
          -84.7581865411196,
          -82.14821056545378,
          -84.9302076683165,
          -92.73922676546646,
          -89.71916573626822,
          -93.497066058398,
          -85.77521264248774,
          -90.62197372165849,
          -97.44329595212494,
          -88.89781541160609,
          -96.0948566310167,
          -97.25147338665009,
          -102.96728498527725,
          -90.99168699689882,
          -85.49092509460434,
          -100.83718142023899,
          -85.30896973186404,
          -95.9736515149001,
          -98.8075996015995,
          -94.96857992098195,
          -95.37629181426146,
          -91.62950863032718,
          -92.89782125294285,
          -103.44444898520288,
          -85.42845193033287,
          -94.20220040561203,
          -96.41249195041587,
          -88.30201218051684,
          -95.81001099444941,
          -95.50109352499595,
          -86.12524331528716,
          -98.89461653462682,
          -95.36284337753612,
          -101.62653620915373,
          -87.61565728277243,
          -94.65886114895065,
          -94.54697964323073,
          -79.4932379679834,
          -93.79139724861561,
          -95.06717184349762,
          -95.79724817627917,
          -90.18521067555169,
          -96.02497002761143,
          -104.40335581535945,
          -93.68063303671079,
          -90.24319165930987,
          -88.82216718695726,
          -99.22141914690265,
          -101.1658438935131,
          -93.06862942600816,
          -97.00048540180893,
          -95.56422536811039,
          -102.41938770192641,
          -89.9675752599974,
          -90.97362473326822,
          -100.64903223834597,
          -84.62452640005938,
          -87.1367786406269,
          -94.7301096511287,
          -96.0021577297854,
          -100.86310771188667,
          -93.54623822383974,
          -99.09443599547058,
          -98.98064534786052,
          -109.88932682521863,
          -103.64507342668301,
          -88.94119013214048,
          -99.40421385113332,
          -103.9972781250214,
          -87.91082664154274,
          -87.53715552458736,
          -97.18683836015627,
          -93.52940483993474,
          -95.67876075495548,
          -93.1534897012405,
          -98.95627674165333,
          -101.36065156289679,
          -111.76670044977561,
          -101.03585495914147,
          -101.02028204433701,
          -89.95584902136838,
          -91.20439862419718,
          -93.32745423641673,
          -92.70998708470259,
          -91.6940604421972,
          -103.88125179664841,
          -109.23381722875675,
          -107.26432838562083,
          -101.87224351487163,
          -96.89334192618625,
          -96.7929015555057,
          -97.3360866173205,
          -106.5020761664972,
          -105.44549396015553,
          -98.9925007534925,
          -90.56473467418282,
          -110.2387055826393,
          -110.84050373406961,
          -99.59102302577566,
          -102.5529028963669,
          -106.34326198291478,
          -103.1631526350517,
          -106.96813164921117,
          -90.83764835762841,
          -99.93922977154843,
          -98.05248558304875,
          -100.64603415396438,
          -108.73050801516091,
          -93.85269378017448,
          -100.63978879473696,
          -96.63318596088396,
          -114.25647098002251,
          -101.10334717733464,
          -104.99527453304259,
          -110.76504526232154,
          -103.84884689421995,
          -106.49567001266563,
          -100.34540421555538,
          -102.19357753900161,
          -106.260476292489,
          -93.94296871589583,
          -98.5179320762874,
          -106.41403049253267,
          -108.93601736336873,
          -118.52991607133117,
          -88.77473591926898,
          -93.55372138354525,
          -115.70102740312876,
          -104.82703695643647,
          -103.59323561903953,
          -94.62560776271502,
          -98.02712280141697,
          -108.73569126342443,
          -105.43559207421666,
          -113.78228395266318,
          -111.86704698659949,
          -98.13659183723334,
          -100.96437164891515,
          -112.56196157376324,
          -97.15781240546293,
          -108.08960097852979,
          -106.59456729368559,
          -94.16343103379283
         ]
        },
        {
         "line": {
          "color": "black",
          "width": 2
         },
         "mode": "lines",
         "name": "total_count",
         "type": "scatter",
         "x": [
          "2020-12-09T00:00:00",
          "2020-12-09T01:00:00",
          "2020-12-09T02:00:00",
          "2020-12-09T03:00:00",
          "2020-12-09T04:00:00",
          "2020-12-09T05:00:00",
          "2020-12-09T06:00:00",
          "2020-12-09T07:00:00",
          "2020-12-09T08:00:00",
          "2020-12-09T09:00:00",
          "2020-12-09T10:00:00",
          "2020-12-09T11:00:00",
          "2020-12-09T12:00:00",
          "2020-12-09T13:00:00",
          "2020-12-09T14:00:00",
          "2020-12-09T15:00:00",
          "2020-12-09T16:00:00",
          "2020-12-09T17:00:00",
          "2020-12-09T18:00:00",
          "2020-12-09T19:00:00",
          "2020-12-09T20:00:00",
          "2020-12-09T21:00:00",
          "2020-12-09T22:00:00",
          "2020-12-09T23:00:00",
          "2020-12-10T00:00:00",
          "2020-12-10T01:00:00",
          "2020-12-10T02:00:00",
          "2020-12-10T03:00:00",
          "2020-12-10T04:00:00",
          "2020-12-10T05:00:00",
          "2020-12-10T06:00:00",
          "2020-12-10T07:00:00",
          "2020-12-10T08:00:00",
          "2020-12-10T09:00:00",
          "2020-12-10T10:00:00",
          "2020-12-10T11:00:00",
          "2020-12-10T12:00:00",
          "2020-12-10T13:00:00",
          "2020-12-10T14:00:00",
          "2020-12-10T15:00:00",
          "2020-12-10T16:00:00",
          "2020-12-10T17:00:00",
          "2020-12-10T18:00:00",
          "2020-12-10T19:00:00",
          "2020-12-10T20:00:00",
          "2020-12-10T21:00:00",
          "2020-12-10T22:00:00",
          "2020-12-10T23:00:00",
          "2020-12-11T00:00:00",
          "2020-12-11T01:00:00",
          "2020-12-11T02:00:00",
          "2020-12-11T03:00:00",
          "2020-12-11T04:00:00",
          "2020-12-11T05:00:00",
          "2020-12-11T06:00:00",
          "2020-12-11T07:00:00",
          "2020-12-11T08:00:00",
          "2020-12-11T09:00:00",
          "2020-12-11T10:00:00",
          "2020-12-11T11:00:00",
          "2020-12-11T12:00:00",
          "2020-12-11T13:00:00",
          "2020-12-11T14:00:00",
          "2020-12-11T15:00:00",
          "2020-12-11T16:00:00",
          "2020-12-11T17:00:00",
          "2020-12-11T18:00:00",
          "2020-12-11T19:00:00",
          "2020-12-11T20:00:00",
          "2020-12-11T21:00:00",
          "2020-12-11T22:00:00",
          "2020-12-11T23:00:00",
          "2020-12-12T00:00:00",
          "2020-12-12T01:00:00",
          "2020-12-12T02:00:00",
          "2020-12-12T03:00:00",
          "2020-12-12T04:00:00",
          "2020-12-12T05:00:00",
          "2020-12-12T06:00:00",
          "2020-12-12T07:00:00",
          "2020-12-12T08:00:00",
          "2020-12-12T09:00:00",
          "2020-12-12T10:00:00",
          "2020-12-12T11:00:00",
          "2020-12-12T12:00:00",
          "2020-12-12T13:00:00",
          "2020-12-12T14:00:00",
          "2020-12-12T15:00:00",
          "2020-12-12T16:00:00",
          "2020-12-12T17:00:00",
          "2020-12-12T18:00:00",
          "2020-12-12T19:00:00",
          "2020-12-12T20:00:00",
          "2020-12-12T21:00:00",
          "2020-12-12T22:00:00",
          "2020-12-12T23:00:00",
          "2020-12-13T00:00:00",
          "2020-12-13T01:00:00",
          "2020-12-13T02:00:00",
          "2020-12-13T03:00:00",
          "2020-12-13T04:00:00",
          "2020-12-13T05:00:00",
          "2020-12-13T06:00:00",
          "2020-12-13T07:00:00",
          "2020-12-13T08:00:00",
          "2020-12-13T09:00:00",
          "2020-12-13T10:00:00",
          "2020-12-13T11:00:00",
          "2020-12-13T12:00:00",
          "2020-12-13T13:00:00",
          "2020-12-13T14:00:00",
          "2020-12-13T15:00:00",
          "2020-12-13T16:00:00",
          "2020-12-13T17:00:00",
          "2020-12-13T18:00:00",
          "2020-12-13T19:00:00",
          "2020-12-13T20:00:00",
          "2020-12-13T21:00:00",
          "2020-12-13T22:00:00",
          "2020-12-13T23:00:00",
          "2020-12-14T00:00:00",
          "2020-12-14T01:00:00",
          "2020-12-14T02:00:00",
          "2020-12-14T03:00:00",
          "2020-12-14T04:00:00",
          "2020-12-14T05:00:00",
          "2020-12-14T06:00:00",
          "2020-12-14T07:00:00",
          "2020-12-14T08:00:00",
          "2020-12-14T09:00:00",
          "2020-12-14T10:00:00",
          "2020-12-14T11:00:00",
          "2020-12-14T12:00:00",
          "2020-12-14T13:00:00",
          "2020-12-14T14:00:00",
          "2020-12-14T15:00:00",
          "2020-12-14T16:00:00",
          "2020-12-14T17:00:00",
          "2020-12-14T18:00:00",
          "2020-12-14T19:00:00",
          "2020-12-14T20:00:00",
          "2020-12-14T21:00:00",
          "2020-12-14T22:00:00",
          "2020-12-14T23:00:00",
          "2020-12-15T00:00:00",
          "2020-12-15T01:00:00",
          "2020-12-15T02:00:00",
          "2020-12-15T03:00:00",
          "2020-12-15T04:00:00",
          "2020-12-15T05:00:00",
          "2020-12-15T06:00:00",
          "2020-12-15T07:00:00",
          "2020-12-15T08:00:00",
          "2020-12-15T09:00:00",
          "2020-12-15T10:00:00",
          "2020-12-15T11:00:00",
          "2020-12-15T12:00:00",
          "2020-12-15T13:00:00",
          "2020-12-15T14:00:00",
          "2020-12-15T15:00:00",
          "2020-12-15T16:00:00",
          "2020-12-15T17:00:00",
          "2020-12-15T18:00:00",
          "2020-12-15T19:00:00",
          "2020-12-15T20:00:00",
          "2020-12-15T21:00:00",
          "2020-12-15T22:00:00",
          "2020-12-15T23:00:00",
          "2020-12-16T00:00:00"
         ],
         "y": [
          693,
          -260,
          77,
          -77,
          58,
          86,
          -265,
          -128,
          -99,
          -38,
          -30,
          44,
          11,
          31,
          -1,
          -60,
          -10,
          5,
          -38,
          20,
          12,
          -15,
          -26,
          10,
          2,
          -4,
          17,
          -7,
          -32,
          2,
          -7,
          28,
          -25,
          -11,
          -6,
          3,
          4,
          20,
          5,
          55,
          -31,
          143,
          -95,
          -79,
          10,
          -9,
          6,
          -3,
          23,
          -27,
          6,
          -3,
          -13,
          0,
          -9,
          -4,
          3,
          4,
          -9,
          0,
          6,
          1,
          5,
          18,
          3,
          -6,
          1,
          3,
          14,
          -20,
          -3,
          27,
          -24,
          -4,
          -10,
          62,
          -27,
          433,
          134,
          -177,
          82,
          -221,
          -18,
          -72,
          23,
          70,
          183,
          42,
          1119,
          -231,
          -17,
          -432,
          -247,
          -173,
          14,
          -44,
          -76,
          -54,
          26,
          -14,
          -51,
          -23,
          -1,
          -141,
          -75,
          -44,
          39,
          -28,
          -9,
          30,
          125,
          -5,
          -66,
          23,
          22,
          -49,
          2,
          -7,
          327,
          488,
          -254,
          -152,
          181,
          -186,
          -68,
          -128,
          -98,
          -59,
          -61,
          -55,
          13,
          -9,
          27,
          148,
          -62,
          6,
          88,
          -35,
          -101,
          11,
          -21,
          37,
          -47,
          7,
          -36,
          6,
          35,
          -14,
          -10,
          -19,
          -40,
          -31,
          -5,
          19,
          -24,
          14,
          -17,
          32,
          29,
          -23,
          7,
          17,
          35,
          -21,
          31,
          -40,
          -21,
          6,
          4
         ]
        },
        {
         "line": {
          "color": "red",
          "width": 2
         },
         "mode": "lines",
         "name": "Anomaly Score",
         "type": "scatter",
         "x": [
          "2020-12-09T00:00:00",
          "2020-12-09T01:00:00",
          "2020-12-09T02:00:00",
          "2020-12-09T03:00:00",
          "2020-12-09T04:00:00",
          "2020-12-09T05:00:00",
          "2020-12-09T06:00:00",
          "2020-12-09T07:00:00",
          "2020-12-09T08:00:00",
          "2020-12-09T09:00:00",
          "2020-12-09T10:00:00",
          "2020-12-09T11:00:00",
          "2020-12-09T12:00:00",
          "2020-12-09T13:00:00",
          "2020-12-09T14:00:00",
          "2020-12-09T15:00:00",
          "2020-12-09T16:00:00",
          "2020-12-09T17:00:00",
          "2020-12-09T18:00:00",
          "2020-12-09T19:00:00",
          "2020-12-09T20:00:00",
          "2020-12-09T21:00:00",
          "2020-12-09T22:00:00",
          "2020-12-09T23:00:00",
          "2020-12-10T00:00:00",
          "2020-12-10T01:00:00",
          "2020-12-10T02:00:00",
          "2020-12-10T03:00:00",
          "2020-12-10T04:00:00",
          "2020-12-10T05:00:00",
          "2020-12-10T06:00:00",
          "2020-12-10T07:00:00",
          "2020-12-10T08:00:00",
          "2020-12-10T09:00:00",
          "2020-12-10T10:00:00",
          "2020-12-10T11:00:00",
          "2020-12-10T12:00:00",
          "2020-12-10T13:00:00",
          "2020-12-10T14:00:00",
          "2020-12-10T15:00:00",
          "2020-12-10T16:00:00",
          "2020-12-10T17:00:00",
          "2020-12-10T18:00:00",
          "2020-12-10T19:00:00",
          "2020-12-10T20:00:00",
          "2020-12-10T21:00:00",
          "2020-12-10T22:00:00",
          "2020-12-10T23:00:00",
          "2020-12-11T00:00:00",
          "2020-12-11T01:00:00",
          "2020-12-11T02:00:00",
          "2020-12-11T03:00:00",
          "2020-12-11T04:00:00",
          "2020-12-11T05:00:00",
          "2020-12-11T06:00:00",
          "2020-12-11T07:00:00",
          "2020-12-11T08:00:00",
          "2020-12-11T09:00:00",
          "2020-12-11T10:00:00",
          "2020-12-11T11:00:00",
          "2020-12-11T12:00:00",
          "2020-12-11T13:00:00",
          "2020-12-11T14:00:00",
          "2020-12-11T15:00:00",
          "2020-12-11T16:00:00",
          "2020-12-11T17:00:00",
          "2020-12-11T18:00:00",
          "2020-12-11T19:00:00",
          "2020-12-11T20:00:00",
          "2020-12-11T21:00:00",
          "2020-12-11T22:00:00",
          "2020-12-11T23:00:00",
          "2020-12-12T00:00:00",
          "2020-12-12T01:00:00",
          "2020-12-12T02:00:00",
          "2020-12-12T03:00:00",
          "2020-12-12T04:00:00",
          "2020-12-12T05:00:00",
          "2020-12-12T06:00:00",
          "2020-12-12T07:00:00",
          "2020-12-12T08:00:00",
          "2020-12-12T09:00:00",
          "2020-12-12T10:00:00",
          "2020-12-12T11:00:00",
          "2020-12-12T12:00:00",
          "2020-12-12T13:00:00",
          "2020-12-12T14:00:00",
          "2020-12-12T15:00:00",
          "2020-12-12T16:00:00",
          "2020-12-12T17:00:00",
          "2020-12-12T18:00:00",
          "2020-12-12T19:00:00",
          "2020-12-12T20:00:00",
          "2020-12-12T21:00:00",
          "2020-12-12T22:00:00",
          "2020-12-12T23:00:00",
          "2020-12-13T00:00:00",
          "2020-12-13T01:00:00",
          "2020-12-13T02:00:00",
          "2020-12-13T03:00:00",
          "2020-12-13T04:00:00",
          "2020-12-13T05:00:00",
          "2020-12-13T06:00:00",
          "2020-12-13T07:00:00",
          "2020-12-13T08:00:00",
          "2020-12-13T09:00:00",
          "2020-12-13T10:00:00",
          "2020-12-13T11:00:00",
          "2020-12-13T12:00:00",
          "2020-12-13T13:00:00",
          "2020-12-13T14:00:00",
          "2020-12-13T15:00:00",
          "2020-12-13T16:00:00",
          "2020-12-13T17:00:00",
          "2020-12-13T18:00:00",
          "2020-12-13T19:00:00",
          "2020-12-13T20:00:00",
          "2020-12-13T21:00:00",
          "2020-12-13T22:00:00",
          "2020-12-13T23:00:00",
          "2020-12-14T00:00:00",
          "2020-12-14T01:00:00",
          "2020-12-14T02:00:00",
          "2020-12-14T03:00:00",
          "2020-12-14T04:00:00",
          "2020-12-14T05:00:00",
          "2020-12-14T06:00:00",
          "2020-12-14T07:00:00",
          "2020-12-14T08:00:00",
          "2020-12-14T09:00:00",
          "2020-12-14T10:00:00",
          "2020-12-14T11:00:00",
          "2020-12-14T12:00:00",
          "2020-12-14T13:00:00",
          "2020-12-14T14:00:00",
          "2020-12-14T15:00:00",
          "2020-12-14T16:00:00",
          "2020-12-14T17:00:00",
          "2020-12-14T18:00:00",
          "2020-12-14T19:00:00",
          "2020-12-14T20:00:00",
          "2020-12-14T21:00:00",
          "2020-12-14T22:00:00",
          "2020-12-14T23:00:00",
          "2020-12-15T00:00:00",
          "2020-12-15T01:00:00",
          "2020-12-15T02:00:00",
          "2020-12-15T03:00:00",
          "2020-12-15T04:00:00",
          "2020-12-15T05:00:00",
          "2020-12-15T06:00:00",
          "2020-12-15T07:00:00",
          "2020-12-15T08:00:00",
          "2020-12-15T09:00:00",
          "2020-12-15T10:00:00",
          "2020-12-15T11:00:00",
          "2020-12-15T12:00:00",
          "2020-12-15T13:00:00",
          "2020-12-15T14:00:00",
          "2020-12-15T15:00:00",
          "2020-12-15T16:00:00",
          "2020-12-15T17:00:00",
          "2020-12-15T18:00:00",
          "2020-12-15T19:00:00",
          "2020-12-15T20:00:00",
          "2020-12-15T21:00:00",
          "2020-12-15T22:00:00",
          "2020-12-15T23:00:00",
          "2020-12-16T00:00:00"
         ],
         "xaxis": "x",
         "y": [
          3.0823400515146053,
          0,
          0,
          0,
          0,
          0,
          -2.0609686435255066,
          0,
          0,
          0,
          0,
          0,
          0,
          0,
          0,
          0,
          0,
          0,
          0,
          0,
          0,
          0,
          0,
          0,
          0,
          0,
          0,
          0,
          0,
          0,
          0,
          0,
          0,
          0,
          0,
          0,
          0,
          0,
          0,
          0,
          0,
          1.510069133568667,
          0,
          0,
          0,
          0,
          0,
          0,
          0,
          0,
          0,
          0,
          0,
          0,
          0,
          0,
          0,
          0,
          0,
          0,
          0,
          0,
          0,
          0,
          0,
          0,
          0,
          0,
          0,
          0,
          0,
          0,
          0,
          0,
          0,
          0,
          0,
          2.4585632640725517,
          0,
          0,
          0,
          -1.891386738720096,
          0,
          0,
          0,
          0,
          1.7631666141760496,
          0,
          0,
          -1.9203623879519285,
          0,
          0,
          -1.9714886341358187,
          0,
          0,
          0,
          0,
          0,
          0,
          0,
          0,
          0,
          0,
          -1.5335032343686708,
          0,
          0,
          0,
          0,
          0,
          0,
          0,
          0,
          0,
          0,
          0,
          0,
          0,
          0,
          2.1901335492202225,
          0,
          0,
          -1.5973818937358437,
          0,
          0,
          0,
          0,
          0,
          0,
          0,
          0,
          0,
          0,
          0,
          1.6168802459405212,
          0,
          0,
          0,
          0,
          0,
          0,
          0,
          0,
          0,
          0,
          0,
          0,
          0,
          0,
          0,
          0,
          0,
          0,
          0,
          0,
          0,
          0,
          0,
          0,
          0,
          0,
          0,
          0,
          0,
          0,
          0,
          0,
          0,
          0,
          0
         ],
         "yaxis": "y2"
        }
       ],
       "layout": {
        "height": 600,
        "shapes": [
         {
          "fillcolor": "#e07070",
          "line": {
           "width": 0
          },
          "opacity": 0.4,
          "type": "rect",
          "x0": "2020-12-09T00:00:00",
          "x1": "2020-12-09T01:00:00",
          "xref": "x",
          "y0": 0,
          "y1": 1,
          "yref": "y domain"
         },
         {
          "fillcolor": "#e07070",
          "line": {
           "width": 0
          },
          "opacity": 0.4,
          "type": "rect",
          "x0": "2020-12-09T06:00:00",
          "x1": "2020-12-09T07:00:00",
          "xref": "x",
          "y0": 0,
          "y1": 1,
          "yref": "y domain"
         },
         {
          "fillcolor": "#e07070",
          "line": {
           "width": 0
          },
          "opacity": 0.4,
          "type": "rect",
          "x0": "2020-12-10T17:00:00",
          "x1": "2020-12-10T18:00:00",
          "xref": "x",
          "y0": 0,
          "y1": 1,
          "yref": "y domain"
         },
         {
          "fillcolor": "#e07070",
          "line": {
           "width": 0
          },
          "opacity": 0.4,
          "type": "rect",
          "x0": "2020-12-12T05:00:00",
          "x1": "2020-12-12T06:00:00",
          "xref": "x",
          "y0": 0,
          "y1": 1,
          "yref": "y domain"
         },
         {
          "fillcolor": "#e07070",
          "line": {
           "width": 0
          },
          "opacity": 0.4,
          "type": "rect",
          "x0": "2020-12-12T09:00:00",
          "x1": "2020-12-12T10:00:00",
          "xref": "x",
          "y0": 0,
          "y1": 1,
          "yref": "y domain"
         },
         {
          "fillcolor": "#e07070",
          "line": {
           "width": 0
          },
          "opacity": 0.4,
          "type": "rect",
          "x0": "2020-12-12T14:00:00",
          "x1": "2020-12-12T15:00:00",
          "xref": "x",
          "y0": 0,
          "y1": 1,
          "yref": "y domain"
         },
         {
          "fillcolor": "#e07070",
          "line": {
           "width": 0
          },
          "opacity": 0.4,
          "type": "rect",
          "x0": "2020-12-12T17:00:00",
          "x1": "2020-12-12T18:00:00",
          "xref": "x",
          "y0": 0,
          "y1": 1,
          "yref": "y domain"
         },
         {
          "fillcolor": "#e07070",
          "line": {
           "width": 0
          },
          "opacity": 0.4,
          "type": "rect",
          "x0": "2020-12-12T20:00:00",
          "x1": "2020-12-12T21:00:00",
          "xref": "x",
          "y0": 0,
          "y1": 1,
          "yref": "y domain"
         },
         {
          "fillcolor": "#e07070",
          "line": {
           "width": 0
          },
          "opacity": 0.4,
          "type": "rect",
          "x0": "2020-12-13T07:00:00",
          "x1": "2020-12-13T08:00:00",
          "xref": "x",
          "y0": 0,
          "y1": 1,
          "yref": "y domain"
         },
         {
          "fillcolor": "#e07070",
          "line": {
           "width": 0
          },
          "opacity": 0.4,
          "type": "rect",
          "x0": "2020-12-13T22:00:00",
          "x1": "2020-12-13T23:00:00",
          "xref": "x",
          "y0": 0,
          "y1": 1,
          "yref": "y domain"
         },
         {
          "fillcolor": "#e07070",
          "line": {
           "width": 0
          },
          "opacity": 0.4,
          "type": "rect",
          "x0": "2020-12-14T01:00:00",
          "x1": "2020-12-14T02:00:00",
          "xref": "x",
          "y0": 0,
          "y1": 1,
          "yref": "y domain"
         },
         {
          "fillcolor": "#e07070",
          "line": {
           "width": 0
          },
          "opacity": 0.4,
          "type": "rect",
          "x0": "2020-12-14T13:00:00",
          "x1": "2020-12-14T14:00:00",
          "xref": "x",
          "y0": 0,
          "y1": 1,
          "yref": "y domain"
         }
        ],
        "showlegend": true,
        "template": {
         "data": {
          "bar": [
           {
            "error_x": {
             "color": "#2a3f5f"
            },
            "error_y": {
             "color": "#2a3f5f"
            },
            "marker": {
             "line": {
              "color": "#E5ECF6",
              "width": 0.5
             },
             "pattern": {
              "fillmode": "overlay",
              "size": 10,
              "solidity": 0.2
             }
            },
            "type": "bar"
           }
          ],
          "barpolar": [
           {
            "marker": {
             "line": {
              "color": "#E5ECF6",
              "width": 0.5
             },
             "pattern": {
              "fillmode": "overlay",
              "size": 10,
              "solidity": 0.2
             }
            },
            "type": "barpolar"
           }
          ],
          "carpet": [
           {
            "aaxis": {
             "endlinecolor": "#2a3f5f",
             "gridcolor": "white",
             "linecolor": "white",
             "minorgridcolor": "white",
             "startlinecolor": "#2a3f5f"
            },
            "baxis": {
             "endlinecolor": "#2a3f5f",
             "gridcolor": "white",
             "linecolor": "white",
             "minorgridcolor": "white",
             "startlinecolor": "#2a3f5f"
            },
            "type": "carpet"
           }
          ],
          "choropleth": [
           {
            "colorbar": {
             "outlinewidth": 0,
             "ticks": ""
            },
            "type": "choropleth"
           }
          ],
          "contour": [
           {
            "colorbar": {
             "outlinewidth": 0,
             "ticks": ""
            },
            "colorscale": [
             [
              0,
              "#0d0887"
             ],
             [
              0.1111111111111111,
              "#46039f"
             ],
             [
              0.2222222222222222,
              "#7201a8"
             ],
             [
              0.3333333333333333,
              "#9c179e"
             ],
             [
              0.4444444444444444,
              "#bd3786"
             ],
             [
              0.5555555555555556,
              "#d8576b"
             ],
             [
              0.6666666666666666,
              "#ed7953"
             ],
             [
              0.7777777777777778,
              "#fb9f3a"
             ],
             [
              0.8888888888888888,
              "#fdca26"
             ],
             [
              1,
              "#f0f921"
             ]
            ],
            "type": "contour"
           }
          ],
          "contourcarpet": [
           {
            "colorbar": {
             "outlinewidth": 0,
             "ticks": ""
            },
            "type": "contourcarpet"
           }
          ],
          "heatmap": [
           {
            "colorbar": {
             "outlinewidth": 0,
             "ticks": ""
            },
            "colorscale": [
             [
              0,
              "#0d0887"
             ],
             [
              0.1111111111111111,
              "#46039f"
             ],
             [
              0.2222222222222222,
              "#7201a8"
             ],
             [
              0.3333333333333333,
              "#9c179e"
             ],
             [
              0.4444444444444444,
              "#bd3786"
             ],
             [
              0.5555555555555556,
              "#d8576b"
             ],
             [
              0.6666666666666666,
              "#ed7953"
             ],
             [
              0.7777777777777778,
              "#fb9f3a"
             ],
             [
              0.8888888888888888,
              "#fdca26"
             ],
             [
              1,
              "#f0f921"
             ]
            ],
            "type": "heatmap"
           }
          ],
          "heatmapgl": [
           {
            "colorbar": {
             "outlinewidth": 0,
             "ticks": ""
            },
            "colorscale": [
             [
              0,
              "#0d0887"
             ],
             [
              0.1111111111111111,
              "#46039f"
             ],
             [
              0.2222222222222222,
              "#7201a8"
             ],
             [
              0.3333333333333333,
              "#9c179e"
             ],
             [
              0.4444444444444444,
              "#bd3786"
             ],
             [
              0.5555555555555556,
              "#d8576b"
             ],
             [
              0.6666666666666666,
              "#ed7953"
             ],
             [
              0.7777777777777778,
              "#fb9f3a"
             ],
             [
              0.8888888888888888,
              "#fdca26"
             ],
             [
              1,
              "#f0f921"
             ]
            ],
            "type": "heatmapgl"
           }
          ],
          "histogram": [
           {
            "marker": {
             "pattern": {
              "fillmode": "overlay",
              "size": 10,
              "solidity": 0.2
             }
            },
            "type": "histogram"
           }
          ],
          "histogram2d": [
           {
            "colorbar": {
             "outlinewidth": 0,
             "ticks": ""
            },
            "colorscale": [
             [
              0,
              "#0d0887"
             ],
             [
              0.1111111111111111,
              "#46039f"
             ],
             [
              0.2222222222222222,
              "#7201a8"
             ],
             [
              0.3333333333333333,
              "#9c179e"
             ],
             [
              0.4444444444444444,
              "#bd3786"
             ],
             [
              0.5555555555555556,
              "#d8576b"
             ],
             [
              0.6666666666666666,
              "#ed7953"
             ],
             [
              0.7777777777777778,
              "#fb9f3a"
             ],
             [
              0.8888888888888888,
              "#fdca26"
             ],
             [
              1,
              "#f0f921"
             ]
            ],
            "type": "histogram2d"
           }
          ],
          "histogram2dcontour": [
           {
            "colorbar": {
             "outlinewidth": 0,
             "ticks": ""
            },
            "colorscale": [
             [
              0,
              "#0d0887"
             ],
             [
              0.1111111111111111,
              "#46039f"
             ],
             [
              0.2222222222222222,
              "#7201a8"
             ],
             [
              0.3333333333333333,
              "#9c179e"
             ],
             [
              0.4444444444444444,
              "#bd3786"
             ],
             [
              0.5555555555555556,
              "#d8576b"
             ],
             [
              0.6666666666666666,
              "#ed7953"
             ],
             [
              0.7777777777777778,
              "#fb9f3a"
             ],
             [
              0.8888888888888888,
              "#fdca26"
             ],
             [
              1,
              "#f0f921"
             ]
            ],
            "type": "histogram2dcontour"
           }
          ],
          "mesh3d": [
           {
            "colorbar": {
             "outlinewidth": 0,
             "ticks": ""
            },
            "type": "mesh3d"
           }
          ],
          "parcoords": [
           {
            "line": {
             "colorbar": {
              "outlinewidth": 0,
              "ticks": ""
             }
            },
            "type": "parcoords"
           }
          ],
          "pie": [
           {
            "automargin": true,
            "type": "pie"
           }
          ],
          "scatter": [
           {
            "marker": {
             "colorbar": {
              "outlinewidth": 0,
              "ticks": ""
             }
            },
            "type": "scatter"
           }
          ],
          "scatter3d": [
           {
            "line": {
             "colorbar": {
              "outlinewidth": 0,
              "ticks": ""
             }
            },
            "marker": {
             "colorbar": {
              "outlinewidth": 0,
              "ticks": ""
             }
            },
            "type": "scatter3d"
           }
          ],
          "scattercarpet": [
           {
            "marker": {
             "colorbar": {
              "outlinewidth": 0,
              "ticks": ""
             }
            },
            "type": "scattercarpet"
           }
          ],
          "scattergeo": [
           {
            "marker": {
             "colorbar": {
              "outlinewidth": 0,
              "ticks": ""
             }
            },
            "type": "scattergeo"
           }
          ],
          "scattergl": [
           {
            "marker": {
             "colorbar": {
              "outlinewidth": 0,
              "ticks": ""
             }
            },
            "type": "scattergl"
           }
          ],
          "scattermapbox": [
           {
            "marker": {
             "colorbar": {
              "outlinewidth": 0,
              "ticks": ""
             }
            },
            "type": "scattermapbox"
           }
          ],
          "scatterpolar": [
           {
            "marker": {
             "colorbar": {
              "outlinewidth": 0,
              "ticks": ""
             }
            },
            "type": "scatterpolar"
           }
          ],
          "scatterpolargl": [
           {
            "marker": {
             "colorbar": {
              "outlinewidth": 0,
              "ticks": ""
             }
            },
            "type": "scatterpolargl"
           }
          ],
          "scatterternary": [
           {
            "marker": {
             "colorbar": {
              "outlinewidth": 0,
              "ticks": ""
             }
            },
            "type": "scatterternary"
           }
          ],
          "surface": [
           {
            "colorbar": {
             "outlinewidth": 0,
             "ticks": ""
            },
            "colorscale": [
             [
              0,
              "#0d0887"
             ],
             [
              0.1111111111111111,
              "#46039f"
             ],
             [
              0.2222222222222222,
              "#7201a8"
             ],
             [
              0.3333333333333333,
              "#9c179e"
             ],
             [
              0.4444444444444444,
              "#bd3786"
             ],
             [
              0.5555555555555556,
              "#d8576b"
             ],
             [
              0.6666666666666666,
              "#ed7953"
             ],
             [
              0.7777777777777778,
              "#fb9f3a"
             ],
             [
              0.8888888888888888,
              "#fdca26"
             ],
             [
              1,
              "#f0f921"
             ]
            ],
            "type": "surface"
           }
          ],
          "table": [
           {
            "cells": {
             "fill": {
              "color": "#EBF0F8"
             },
             "line": {
              "color": "white"
             }
            },
            "header": {
             "fill": {
              "color": "#C8D4E3"
             },
             "line": {
              "color": "white"
             }
            },
            "type": "table"
           }
          ]
         },
         "layout": {
          "annotationdefaults": {
           "arrowcolor": "#2a3f5f",
           "arrowhead": 0,
           "arrowwidth": 1
          },
          "autotypenumbers": "strict",
          "coloraxis": {
           "colorbar": {
            "outlinewidth": 0,
            "ticks": ""
           }
          },
          "colorscale": {
           "diverging": [
            [
             0,
             "#8e0152"
            ],
            [
             0.1,
             "#c51b7d"
            ],
            [
             0.2,
             "#de77ae"
            ],
            [
             0.3,
             "#f1b6da"
            ],
            [
             0.4,
             "#fde0ef"
            ],
            [
             0.5,
             "#f7f7f7"
            ],
            [
             0.6,
             "#e6f5d0"
            ],
            [
             0.7,
             "#b8e186"
            ],
            [
             0.8,
             "#7fbc41"
            ],
            [
             0.9,
             "#4d9221"
            ],
            [
             1,
             "#276419"
            ]
           ],
           "sequential": [
            [
             0,
             "#0d0887"
            ],
            [
             0.1111111111111111,
             "#46039f"
            ],
            [
             0.2222222222222222,
             "#7201a8"
            ],
            [
             0.3333333333333333,
             "#9c179e"
            ],
            [
             0.4444444444444444,
             "#bd3786"
            ],
            [
             0.5555555555555556,
             "#d8576b"
            ],
            [
             0.6666666666666666,
             "#ed7953"
            ],
            [
             0.7777777777777778,
             "#fb9f3a"
            ],
            [
             0.8888888888888888,
             "#fdca26"
            ],
            [
             1,
             "#f0f921"
            ]
           ],
           "sequentialminus": [
            [
             0,
             "#0d0887"
            ],
            [
             0.1111111111111111,
             "#46039f"
            ],
            [
             0.2222222222222222,
             "#7201a8"
            ],
            [
             0.3333333333333333,
             "#9c179e"
            ],
            [
             0.4444444444444444,
             "#bd3786"
            ],
            [
             0.5555555555555556,
             "#d8576b"
            ],
            [
             0.6666666666666666,
             "#ed7953"
            ],
            [
             0.7777777777777778,
             "#fb9f3a"
            ],
            [
             0.8888888888888888,
             "#fdca26"
            ],
            [
             1,
             "#f0f921"
            ]
           ]
          },
          "colorway": [
           "#636efa",
           "#EF553B",
           "#00cc96",
           "#ab63fa",
           "#FFA15A",
           "#19d3f3",
           "#FF6692",
           "#B6E880",
           "#FF97FF",
           "#FECB52"
          ],
          "font": {
           "color": "#2a3f5f"
          },
          "geo": {
           "bgcolor": "white",
           "lakecolor": "white",
           "landcolor": "#E5ECF6",
           "showlakes": true,
           "showland": true,
           "subunitcolor": "white"
          },
          "hoverlabel": {
           "align": "left"
          },
          "hovermode": "closest",
          "mapbox": {
           "style": "light"
          },
          "paper_bgcolor": "white",
          "plot_bgcolor": "#E5ECF6",
          "polar": {
           "angularaxis": {
            "gridcolor": "white",
            "linecolor": "white",
            "ticks": ""
           },
           "bgcolor": "#E5ECF6",
           "radialaxis": {
            "gridcolor": "white",
            "linecolor": "white",
            "ticks": ""
           }
          },
          "scene": {
           "xaxis": {
            "backgroundcolor": "#E5ECF6",
            "gridcolor": "white",
            "gridwidth": 2,
            "linecolor": "white",
            "showbackground": true,
            "ticks": "",
            "zerolinecolor": "white"
           },
           "yaxis": {
            "backgroundcolor": "#E5ECF6",
            "gridcolor": "white",
            "gridwidth": 2,
            "linecolor": "white",
            "showbackground": true,
            "ticks": "",
            "zerolinecolor": "white"
           },
           "zaxis": {
            "backgroundcolor": "#E5ECF6",
            "gridcolor": "white",
            "gridwidth": 2,
            "linecolor": "white",
            "showbackground": true,
            "ticks": "",
            "zerolinecolor": "white"
           }
          },
          "shapedefaults": {
           "line": {
            "color": "#2a3f5f"
           }
          },
          "ternary": {
           "aaxis": {
            "gridcolor": "white",
            "linecolor": "white",
            "ticks": ""
           },
           "baxis": {
            "gridcolor": "white",
            "linecolor": "white",
            "ticks": ""
           },
           "bgcolor": "#E5ECF6",
           "caxis": {
            "gridcolor": "white",
            "linecolor": "white",
            "ticks": ""
           }
          },
          "title": {
           "x": 0.05
          },
          "xaxis": {
           "automargin": true,
           "gridcolor": "white",
           "linecolor": "white",
           "ticks": "",
           "title": {
            "standoff": 15
           },
           "zerolinecolor": "white",
           "zerolinewidth": 2
          },
          "yaxis": {
           "automargin": true,
           "gridcolor": "white",
           "linecolor": "white",
           "ticks": "",
           "title": {
            "standoff": 15
           },
           "zerolinecolor": "white",
           "zerolinewidth": 2
          }
         }
        },
        "title": {
         "text": "ProphetDetector: Anomalies in total_count (Forecast Overlaid)"
        },
        "width": 1000,
        "xaxis": {
         "anchor": "y",
         "domain": [
          0,
          0.94
         ],
         "rangeselector": {
          "buttons": [
           {
            "count": 7,
            "label": "1w",
            "step": "day",
            "stepmode": "backward"
           },
           {
            "count": 1,
            "label": "1m",
            "step": "month",
            "stepmode": "backward"
           },
           {
            "count": 6,
            "label": "6m",
            "step": "month",
            "stepmode": "backward"
           },
           {
            "count": 1,
            "label": "1y",
            "step": "year",
            "stepmode": "backward"
           },
           {
            "step": "all"
           }
          ]
         },
         "rangeslider": {
          "visible": true
         },
         "title": {
          "text": "Time"
         },
         "type": "date"
        },
        "yaxis": {
         "anchor": "x",
         "domain": [
          0,
          1
         ],
         "title": {
          "text": "total_count"
         }
        },
        "yaxis2": {
         "anchor": "x",
         "overlaying": "y",
         "range": [
          -2.7038822304055206,
          13.36895744159483
         ],
         "side": "right",
         "title": {
          "text": "Anomaly Score"
         }
        }
       }
      }
     },
     "metadata": {}
    }
   ],
   "metadata": {}
  },
  {
   "cell_type": "code",
   "execution_count": 88,
   "source": [
    "from merlion.transform.moving_average import MovingAverage\n",
    "from merlion.post_process.threshold import AggregateAlarms\n",
    "\n",
    "prophet_config = ProphetDetectorConfig(\n",
    "    threshold=AggregateAlarms(alm_threshold=1),\n",
    "    transform=MovingAverage(n_steps=6),\n",
    "    yearly_seasonality=False,\n",
    "    weekly_seasonality=False,\n",
    "    daily_seasonality=False,\n",
    "    add_seasonality=False,\n",
    "    uncertainty_samples=1000\n",
    ")\n",
    "\n",
    "anomaly_scores = detect_anomalies(\n",
    "    df_timeseries, \n",
    "    \"total_count\",\n",
    "    model=ProphetDetector(prophet_config)\n",
    ")"
   ],
   "outputs": [
    {
     "output_type": "stream",
     "name": "stdout",
     "text": [
      "Initial log joint probability = -7.05865\n",
      "    Iter      log prob        ||dx||      ||grad||       alpha      alpha0  # evals  Notes \n",
      "      73       187.399   8.36198e-05       79.6571   1.185e-06       0.001      159  LS failed, Hessian reset \n",
      "      99       187.409   0.000158366       83.9444       4.419           1      197   \n",
      "    Iter      log prob        ||dx||      ||grad||       alpha      alpha0  # evals  Notes \n",
      "     101       187.411   3.04007e-05       79.6057   3.592e-07       0.001      237  LS failed, Hessian reset \n",
      "     128       187.413   4.63415e-09       72.6984      0.1991      0.1991      279   \n",
      "Optimization terminated normally: \n",
      "  Convergence detected: absolute parameter change was below tolerance\n"
     ]
    },
    {
     "output_type": "display_data",
     "data": {
      "application/vnd.plotly.v1+json": {
       "config": {
        "plotlyServerURL": "https://plot.ly"
       },
       "data": [
        {
         "hoverinfo": "skip",
         "line": {
          "width": 0
         },
         "mode": "lines",
         "showlegend": false,
         "type": "scatter",
         "x": [
          "2020-12-08T23:00:00",
          "2020-12-09T00:00:00",
          "2020-12-09T01:00:00",
          "2020-12-09T02:00:00",
          "2020-12-09T03:00:00",
          "2020-12-09T04:00:00",
          "2020-12-09T05:00:00",
          "2020-12-09T06:00:00",
          "2020-12-09T07:00:00",
          "2020-12-09T08:00:00",
          "2020-12-09T09:00:00",
          "2020-12-09T10:00:00",
          "2020-12-09T11:00:00",
          "2020-12-09T12:00:00",
          "2020-12-09T13:00:00",
          "2020-12-09T14:00:00",
          "2020-12-09T15:00:00",
          "2020-12-09T16:00:00",
          "2020-12-09T17:00:00",
          "2020-12-09T18:00:00",
          "2020-12-09T19:00:00",
          "2020-12-09T20:00:00",
          "2020-12-09T21:00:00",
          "2020-12-09T22:00:00",
          "2020-12-09T23:00:00",
          "2020-12-10T00:00:00",
          "2020-12-10T01:00:00",
          "2020-12-10T02:00:00",
          "2020-12-10T03:00:00",
          "2020-12-10T04:00:00",
          "2020-12-10T05:00:00",
          "2020-12-10T06:00:00",
          "2020-12-10T07:00:00",
          "2020-12-10T08:00:00",
          "2020-12-10T09:00:00",
          "2020-12-10T10:00:00",
          "2020-12-10T11:00:00",
          "2020-12-10T12:00:00",
          "2020-12-10T13:00:00",
          "2020-12-10T14:00:00",
          "2020-12-10T15:00:00",
          "2020-12-10T16:00:00",
          "2020-12-10T17:00:00",
          "2020-12-10T18:00:00",
          "2020-12-10T19:00:00",
          "2020-12-10T20:00:00",
          "2020-12-10T21:00:00",
          "2020-12-10T22:00:00",
          "2020-12-10T23:00:00",
          "2020-12-11T00:00:00",
          "2020-12-11T01:00:00",
          "2020-12-11T02:00:00",
          "2020-12-11T03:00:00",
          "2020-12-11T04:00:00",
          "2020-12-11T05:00:00",
          "2020-12-11T06:00:00",
          "2020-12-11T07:00:00",
          "2020-12-11T08:00:00",
          "2020-12-11T09:00:00",
          "2020-12-11T10:00:00",
          "2020-12-11T11:00:00",
          "2020-12-11T12:00:00",
          "2020-12-11T13:00:00",
          "2020-12-11T14:00:00",
          "2020-12-11T15:00:00",
          "2020-12-11T16:00:00",
          "2020-12-11T17:00:00",
          "2020-12-11T18:00:00",
          "2020-12-11T19:00:00",
          "2020-12-11T20:00:00",
          "2020-12-11T21:00:00",
          "2020-12-11T22:00:00",
          "2020-12-11T23:00:00",
          "2020-12-12T00:00:00",
          "2020-12-12T01:00:00",
          "2020-12-12T02:00:00",
          "2020-12-12T03:00:00",
          "2020-12-12T04:00:00",
          "2020-12-12T05:00:00",
          "2020-12-12T06:00:00",
          "2020-12-12T07:00:00",
          "2020-12-12T08:00:00",
          "2020-12-12T09:00:00",
          "2020-12-12T10:00:00",
          "2020-12-12T11:00:00",
          "2020-12-12T12:00:00",
          "2020-12-12T13:00:00",
          "2020-12-12T14:00:00",
          "2020-12-12T15:00:00",
          "2020-12-12T16:00:00",
          "2020-12-12T17:00:00",
          "2020-12-12T18:00:00",
          "2020-12-12T19:00:00",
          "2020-12-12T20:00:00",
          "2020-12-12T21:00:00",
          "2020-12-12T22:00:00",
          "2020-12-12T23:00:00",
          "2020-12-13T00:00:00",
          "2020-12-13T01:00:00",
          "2020-12-13T02:00:00",
          "2020-12-13T03:00:00",
          "2020-12-13T04:00:00",
          "2020-12-13T05:00:00",
          "2020-12-13T06:00:00",
          "2020-12-13T07:00:00",
          "2020-12-13T08:00:00",
          "2020-12-13T09:00:00",
          "2020-12-13T10:00:00",
          "2020-12-13T11:00:00",
          "2020-12-13T12:00:00",
          "2020-12-13T13:00:00",
          "2020-12-13T14:00:00",
          "2020-12-13T15:00:00",
          "2020-12-13T16:00:00",
          "2020-12-13T17:00:00",
          "2020-12-13T18:00:00",
          "2020-12-13T19:00:00",
          "2020-12-13T20:00:00",
          "2020-12-13T21:00:00",
          "2020-12-13T22:00:00",
          "2020-12-13T23:00:00",
          "2020-12-14T00:00:00",
          "2020-12-14T01:00:00",
          "2020-12-14T02:00:00",
          "2020-12-14T03:00:00",
          "2020-12-14T04:00:00",
          "2020-12-14T05:00:00",
          "2020-12-14T06:00:00",
          "2020-12-14T07:00:00",
          "2020-12-14T08:00:00",
          "2020-12-14T09:00:00",
          "2020-12-14T10:00:00",
          "2020-12-14T11:00:00",
          "2020-12-14T12:00:00",
          "2020-12-14T13:00:00",
          "2020-12-14T14:00:00",
          "2020-12-14T15:00:00",
          "2020-12-14T16:00:00",
          "2020-12-14T17:00:00",
          "2020-12-14T18:00:00",
          "2020-12-14T19:00:00",
          "2020-12-14T20:00:00",
          "2020-12-14T21:00:00",
          "2020-12-14T22:00:00",
          "2020-12-14T23:00:00",
          "2020-12-15T00:00:00",
          "2020-12-15T01:00:00",
          "2020-12-15T02:00:00",
          "2020-12-15T03:00:00",
          "2020-12-15T04:00:00",
          "2020-12-15T05:00:00",
          "2020-12-15T06:00:00",
          "2020-12-15T07:00:00",
          "2020-12-15T08:00:00",
          "2020-12-15T09:00:00",
          "2020-12-15T10:00:00",
          "2020-12-15T11:00:00",
          "2020-12-15T12:00:00",
          "2020-12-15T13:00:00",
          "2020-12-15T14:00:00",
          "2020-12-15T15:00:00",
          "2020-12-15T16:00:00",
          "2020-12-15T17:00:00",
          "2020-12-15T18:00:00",
          "2020-12-15T19:00:00",
          "2020-12-15T20:00:00",
          "2020-12-15T21:00:00",
          "2020-12-15T22:00:00",
          "2020-12-15T23:00:00",
          "2020-12-16T00:00:00"
         ],
         "y": [
          320.6050488070233,
          320.0918663074593,
          316.159354074111,
          310.60065840044587,
          308.6760006125627,
          305.26227702796655,
          296.00769958251476,
          322.5007851952741,
          321.28504680382764,
          310.8697868226112,
          315.1889777236072,
          330.563847100934,
          319.7730267024438,
          312.4227019091752,
          304.8784596883002,
          307.19856878273026,
          328.1663019087537,
          314.1722021370967,
          328.08233903361645,
          325.3803281891477,
          330.83083653329504,
          329.3666022505704,
          315.078846671045,
          311.3188409560882,
          339.8336382777893,
          327.16943452646257,
          336.51777985562546,
          327.23661358076595,
          328.79874383070353,
          319.24448511231446,
          329.6869447691761,
          344.19299023159203,
          323.57268585990676,
          321.68273947849343,
          333.5617034428308,
          325.89004164125635,
          320.929557876895,
          315.335616849964,
          341.7759889646868,
          330.5810824049124,
          334.18470005040206,
          326.82484553023323,
          339.05907858819717,
          340.6460141366442,
          343.5797212151592,
          322.3704402468254,
          338.9607951952524,
          333.61162951318215,
          324.2509925455174,
          338.72771501395755,
          351.7506474388209,
          330.0682211083805,
          333.69968425052355,
          338.05920754267703,
          346.00578658162806,
          333.4558654416641,
          366.3307170548061,
          364.08770815090577,
          344.80775300994463,
          328.4945436820134,
          341.9543023853989,
          353.4425169684599,
          352.0011667780468,
          346.2053504460023,
          349.72535921955347,
          340.6104195167029,
          356.3926412428166,
          364.5409594541783,
          342.17024879426265,
          348.594757542516,
          347.1419548623459,
          339.10616935085375,
          360.8798259826099,
          351.14908442139927,
          347.2805784471384,
          353.878796372586,
          365.0061111353374,
          342.2241798377463,
          373.9548641492387,
          349.9377782387927,
          349.51098930884683,
          363.20537783458025,
          372.4486966377013,
          355.55932878342816,
          350.8163617254475,
          355.3997416453362,
          359.3303063159526,
          365.8045135279425,
          364.0134019689703,
          369.83829989477533,
          372.8339274219487,
          342.8444942589603,
          370.53121519820104,
          370.46780717315664,
          360.06223022431027,
          361.3916571224603,
          379.17325484511383,
          366.1892899420583,
          389.3141997224062,
          387.0933401748542,
          350.8662806992489,
          374.7154204375665,
          391.3374146426656,
          381.68433119990516,
          384.240143223465,
          383.65091099249014,
          381.72986274999107,
          380.1861943265328,
          371.32706425534997,
          356.8267702056497,
          389.59434533148055,
          388.2706575068162,
          364.6270447714804,
          379.7752312090314,
          365.2024691394432,
          372.61606383826427,
          372.3948905105143,
          378.11584556562553,
          357.21976443431777,
          356.98299261213367,
          378.19824973109314,
          371.3391504078164,
          382.72988836940976,
          357.13518978465663,
          368.48837552142385,
          394.3559324979359,
          385.2051981830628,
          374.0914890296346,
          365.4364626243862,
          384.53722154166974,
          373.33515630101,
          366.01342841309133,
          377.7653846748233,
          383.10938332711385,
          375.0602387317043,
          363.2289338543481,
          362.2811745554153,
          388.2234474651411,
          375.2087305672981,
          388.75635724540734,
          373.1964916898031,
          377.9056696871579,
          383.3086947177957,
          374.13577836148295,
          378.4267346142185,
          379.13045976617457,
          376.9483376799144,
          381.87164310228206,
          386.59618976415857,
          390.4728908695181,
          378.4235414678645,
          383.88220181872794,
          362.5415587098315,
          369.5490204275877,
          387.15469872234974,
          380.7947224928773,
          388.1545383124243,
          379.04857912356636,
          380.65372164525115,
          382.77698955529036,
          374.2355253723675,
          382.1958610636333,
          383.19955131287975,
          369.8385931278923,
          385.6137605269489,
          372.90025058113804,
          373.2911370851264,
          380.36395507607654,
          371.33535825537524,
          376.32257319948053
         ]
        },
        {
         "fill": "tonexty",
         "fillcolor": "rgba(0, 114, 178, 0.2)",
         "line": {
          "color": "#0072B2",
          "width": 2
         },
         "mode": "lines",
         "name": "Forecast",
         "type": "scatter",
         "x": [
          "2020-12-08T23:00:00",
          "2020-12-09T00:00:00",
          "2020-12-09T01:00:00",
          "2020-12-09T02:00:00",
          "2020-12-09T03:00:00",
          "2020-12-09T04:00:00",
          "2020-12-09T05:00:00",
          "2020-12-09T06:00:00",
          "2020-12-09T07:00:00",
          "2020-12-09T08:00:00",
          "2020-12-09T09:00:00",
          "2020-12-09T10:00:00",
          "2020-12-09T11:00:00",
          "2020-12-09T12:00:00",
          "2020-12-09T13:00:00",
          "2020-12-09T14:00:00",
          "2020-12-09T15:00:00",
          "2020-12-09T16:00:00",
          "2020-12-09T17:00:00",
          "2020-12-09T18:00:00",
          "2020-12-09T19:00:00",
          "2020-12-09T20:00:00",
          "2020-12-09T21:00:00",
          "2020-12-09T22:00:00",
          "2020-12-09T23:00:00",
          "2020-12-10T00:00:00",
          "2020-12-10T01:00:00",
          "2020-12-10T02:00:00",
          "2020-12-10T03:00:00",
          "2020-12-10T04:00:00",
          "2020-12-10T05:00:00",
          "2020-12-10T06:00:00",
          "2020-12-10T07:00:00",
          "2020-12-10T08:00:00",
          "2020-12-10T09:00:00",
          "2020-12-10T10:00:00",
          "2020-12-10T11:00:00",
          "2020-12-10T12:00:00",
          "2020-12-10T13:00:00",
          "2020-12-10T14:00:00",
          "2020-12-10T15:00:00",
          "2020-12-10T16:00:00",
          "2020-12-10T17:00:00",
          "2020-12-10T18:00:00",
          "2020-12-10T19:00:00",
          "2020-12-10T20:00:00",
          "2020-12-10T21:00:00",
          "2020-12-10T22:00:00",
          "2020-12-10T23:00:00",
          "2020-12-11T00:00:00",
          "2020-12-11T01:00:00",
          "2020-12-11T02:00:00",
          "2020-12-11T03:00:00",
          "2020-12-11T04:00:00",
          "2020-12-11T05:00:00",
          "2020-12-11T06:00:00",
          "2020-12-11T07:00:00",
          "2020-12-11T08:00:00",
          "2020-12-11T09:00:00",
          "2020-12-11T10:00:00",
          "2020-12-11T11:00:00",
          "2020-12-11T12:00:00",
          "2020-12-11T13:00:00",
          "2020-12-11T14:00:00",
          "2020-12-11T15:00:00",
          "2020-12-11T16:00:00",
          "2020-12-11T17:00:00",
          "2020-12-11T18:00:00",
          "2020-12-11T19:00:00",
          "2020-12-11T20:00:00",
          "2020-12-11T21:00:00",
          "2020-12-11T22:00:00",
          "2020-12-11T23:00:00",
          "2020-12-12T00:00:00",
          "2020-12-12T01:00:00",
          "2020-12-12T02:00:00",
          "2020-12-12T03:00:00",
          "2020-12-12T04:00:00",
          "2020-12-12T05:00:00",
          "2020-12-12T06:00:00",
          "2020-12-12T07:00:00",
          "2020-12-12T08:00:00",
          "2020-12-12T09:00:00",
          "2020-12-12T10:00:00",
          "2020-12-12T11:00:00",
          "2020-12-12T12:00:00",
          "2020-12-12T13:00:00",
          "2020-12-12T14:00:00",
          "2020-12-12T15:00:00",
          "2020-12-12T16:00:00",
          "2020-12-12T17:00:00",
          "2020-12-12T18:00:00",
          "2020-12-12T19:00:00",
          "2020-12-12T20:00:00",
          "2020-12-12T21:00:00",
          "2020-12-12T22:00:00",
          "2020-12-12T23:00:00",
          "2020-12-13T00:00:00",
          "2020-12-13T01:00:00",
          "2020-12-13T02:00:00",
          "2020-12-13T03:00:00",
          "2020-12-13T04:00:00",
          "2020-12-13T05:00:00",
          "2020-12-13T06:00:00",
          "2020-12-13T07:00:00",
          "2020-12-13T08:00:00",
          "2020-12-13T09:00:00",
          "2020-12-13T10:00:00",
          "2020-12-13T11:00:00",
          "2020-12-13T12:00:00",
          "2020-12-13T13:00:00",
          "2020-12-13T14:00:00",
          "2020-12-13T15:00:00",
          "2020-12-13T16:00:00",
          "2020-12-13T17:00:00",
          "2020-12-13T18:00:00",
          "2020-12-13T19:00:00",
          "2020-12-13T20:00:00",
          "2020-12-13T21:00:00",
          "2020-12-13T22:00:00",
          "2020-12-13T23:00:00",
          "2020-12-14T00:00:00",
          "2020-12-14T01:00:00",
          "2020-12-14T02:00:00",
          "2020-12-14T03:00:00",
          "2020-12-14T04:00:00",
          "2020-12-14T05:00:00",
          "2020-12-14T06:00:00",
          "2020-12-14T07:00:00",
          "2020-12-14T08:00:00",
          "2020-12-14T09:00:00",
          "2020-12-14T10:00:00",
          "2020-12-14T11:00:00",
          "2020-12-14T12:00:00",
          "2020-12-14T13:00:00",
          "2020-12-14T14:00:00",
          "2020-12-14T15:00:00",
          "2020-12-14T16:00:00",
          "2020-12-14T17:00:00",
          "2020-12-14T18:00:00",
          "2020-12-14T19:00:00",
          "2020-12-14T20:00:00",
          "2020-12-14T21:00:00",
          "2020-12-14T22:00:00",
          "2020-12-14T23:00:00",
          "2020-12-15T00:00:00",
          "2020-12-15T01:00:00",
          "2020-12-15T02:00:00",
          "2020-12-15T03:00:00",
          "2020-12-15T04:00:00",
          "2020-12-15T05:00:00",
          "2020-12-15T06:00:00",
          "2020-12-15T07:00:00",
          "2020-12-15T08:00:00",
          "2020-12-15T09:00:00",
          "2020-12-15T10:00:00",
          "2020-12-15T11:00:00",
          "2020-12-15T12:00:00",
          "2020-12-15T13:00:00",
          "2020-12-15T14:00:00",
          "2020-12-15T15:00:00",
          "2020-12-15T16:00:00",
          "2020-12-15T17:00:00",
          "2020-12-15T18:00:00",
          "2020-12-15T19:00:00",
          "2020-12-15T20:00:00",
          "2020-12-15T21:00:00",
          "2020-12-15T22:00:00",
          "2020-12-15T23:00:00",
          "2020-12-16T00:00:00"
         ],
         "y": [
          158.0952426262633,
          158.75259507175852,
          159.40994751725373,
          160.06729996274896,
          160.72465240824414,
          161.38200485373937,
          162.03935711863588,
          162.69670938353238,
          163.35406164842885,
          164.01141391332536,
          164.66876617822186,
          165.32611844311836,
          165.98347069639823,
          166.64082294967807,
          167.29817520295794,
          167.9555274562378,
          168.61287970951767,
          169.27023200750773,
          169.92758430549773,
          170.5849366034878,
          171.24228890147785,
          171.89964119946788,
          172.55699349745794,
          173.21434577222112,
          173.87169804698428,
          174.52905032174746,
          175.18640259651065,
          175.84375487127377,
          176.50110731779458,
          177.15845976431538,
          177.81581221083619,
          178.47316465735696,
          179.1305171038778,
          179.78786954129598,
          180.4452219787142,
          181.1025744161324,
          181.75992685355055,
          182.41727929096876,
          183.07463172838695,
          183.73198417314683,
          184.38933661790665,
          185.04668906266653,
          185.70404150742638,
          186.36139395218626,
          187.01874652621763,
          187.67609910024905,
          188.33345167428047,
          188.99080424831186,
          189.64815682234325,
          190.30550939637467,
          190.96286193445192,
          191.62021447252923,
          192.2775670106065,
          192.93491954868378,
          193.59227208676106,
          194.24962461667616,
          194.90697714659123,
          195.56432967650633,
          196.22168220642138,
          196.8790347363365,
          197.536387262915,
          198.19373978949355,
          198.85109231607208,
          199.50844484265065,
          200.16579736922915,
          200.82314989580772,
          201.48050244210435,
          202.13785498840096,
          202.7952075346976,
          203.45256008099426,
          204.10991262729087,
          204.76726500478694,
          205.424617382283,
          206.08196975977907,
          206.73932213727514,
          207.39667451477118,
          208.05402689226725,
          208.71137882175296,
          209.36873075123867,
          210.0260826807244,
          210.6834346102101,
          211.34078653969578,
          211.99813811846747,
          212.65548969723912,
          213.3128412760108,
          213.97019285478245,
          214.62754443355414,
          215.2366841231989,
          215.84582381284372,
          216.45496350248848,
          217.06410319213327,
          217.67324288177807,
          218.28238257142286,
          218.77462106055856,
          219.26685954969426,
          219.75909803883,
          220.25133652796572,
          220.74357501710145,
          221.10666665058292,
          221.46975828406437,
          221.83284991754584,
          222.19594155102732,
          222.55903318450873,
          222.9221248179902,
          223.17744757561093,
          223.4327703332316,
          223.68809309085228,
          223.94341584847294,
          224.1987386060936,
          224.3744033120642,
          224.55006801803484,
          224.72573272400547,
          224.9013974299761,
          225.0770621359467,
          225.1984762316678,
          225.3198903273889,
          225.44130442310998,
          225.5627185188311,
          225.68413261455217,
          225.80554671027326,
          225.8979051047677,
          225.99026349926217,
          226.0826218937566,
          226.17498028825102,
          226.2673386827455,
          226.3552367743623,
          226.44313486597912,
          226.53103295759595,
          226.61893104921276,
          226.70682914082957,
          226.79472723244638,
          226.87348931613676,
          226.95225139982708,
          227.0310134835174,
          227.10977556720778,
          227.18853765089813,
          227.26727860113306,
          227.346019551368,
          227.42476050160292,
          227.50350145183785,
          227.5822424020728,
          227.66098335230774,
          227.73972430254267,
          227.81846525277757,
          227.89720620301256,
          227.97594715324746,
          228.0546881034824,
          228.13342905371732,
          228.21217000395225,
          228.2909109541872,
          228.36965190442214,
          228.44839285465707,
          228.527133804892,
          228.60587475512696,
          228.6846157053619,
          228.76335665559682,
          228.84209760583175,
          228.92083855606668,
          228.99957950630164,
          229.07832045653657,
          229.1570614067715,
          229.23580235700643,
          229.31454330724137,
          229.39328425747632,
          229.47202520771125,
          229.55076615794619,
          229.62950710818112,
          229.70824805841607,
          229.786989008651,
          229.86572995888594
         ]
        },
        {
         "fill": "tonexty",
         "fillcolor": "rgba(0, 114, 178, 0.2)",
         "hoverinfo": "skip",
         "line": {
          "width": 0
         },
         "mode": "lines",
         "showlegend": false,
         "type": "scatter",
         "x": [
          "2020-12-08T23:00:00",
          "2020-12-09T00:00:00",
          "2020-12-09T01:00:00",
          "2020-12-09T02:00:00",
          "2020-12-09T03:00:00",
          "2020-12-09T04:00:00",
          "2020-12-09T05:00:00",
          "2020-12-09T06:00:00",
          "2020-12-09T07:00:00",
          "2020-12-09T08:00:00",
          "2020-12-09T09:00:00",
          "2020-12-09T10:00:00",
          "2020-12-09T11:00:00",
          "2020-12-09T12:00:00",
          "2020-12-09T13:00:00",
          "2020-12-09T14:00:00",
          "2020-12-09T15:00:00",
          "2020-12-09T16:00:00",
          "2020-12-09T17:00:00",
          "2020-12-09T18:00:00",
          "2020-12-09T19:00:00",
          "2020-12-09T20:00:00",
          "2020-12-09T21:00:00",
          "2020-12-09T22:00:00",
          "2020-12-09T23:00:00",
          "2020-12-10T00:00:00",
          "2020-12-10T01:00:00",
          "2020-12-10T02:00:00",
          "2020-12-10T03:00:00",
          "2020-12-10T04:00:00",
          "2020-12-10T05:00:00",
          "2020-12-10T06:00:00",
          "2020-12-10T07:00:00",
          "2020-12-10T08:00:00",
          "2020-12-10T09:00:00",
          "2020-12-10T10:00:00",
          "2020-12-10T11:00:00",
          "2020-12-10T12:00:00",
          "2020-12-10T13:00:00",
          "2020-12-10T14:00:00",
          "2020-12-10T15:00:00",
          "2020-12-10T16:00:00",
          "2020-12-10T17:00:00",
          "2020-12-10T18:00:00",
          "2020-12-10T19:00:00",
          "2020-12-10T20:00:00",
          "2020-12-10T21:00:00",
          "2020-12-10T22:00:00",
          "2020-12-10T23:00:00",
          "2020-12-11T00:00:00",
          "2020-12-11T01:00:00",
          "2020-12-11T02:00:00",
          "2020-12-11T03:00:00",
          "2020-12-11T04:00:00",
          "2020-12-11T05:00:00",
          "2020-12-11T06:00:00",
          "2020-12-11T07:00:00",
          "2020-12-11T08:00:00",
          "2020-12-11T09:00:00",
          "2020-12-11T10:00:00",
          "2020-12-11T11:00:00",
          "2020-12-11T12:00:00",
          "2020-12-11T13:00:00",
          "2020-12-11T14:00:00",
          "2020-12-11T15:00:00",
          "2020-12-11T16:00:00",
          "2020-12-11T17:00:00",
          "2020-12-11T18:00:00",
          "2020-12-11T19:00:00",
          "2020-12-11T20:00:00",
          "2020-12-11T21:00:00",
          "2020-12-11T22:00:00",
          "2020-12-11T23:00:00",
          "2020-12-12T00:00:00",
          "2020-12-12T01:00:00",
          "2020-12-12T02:00:00",
          "2020-12-12T03:00:00",
          "2020-12-12T04:00:00",
          "2020-12-12T05:00:00",
          "2020-12-12T06:00:00",
          "2020-12-12T07:00:00",
          "2020-12-12T08:00:00",
          "2020-12-12T09:00:00",
          "2020-12-12T10:00:00",
          "2020-12-12T11:00:00",
          "2020-12-12T12:00:00",
          "2020-12-12T13:00:00",
          "2020-12-12T14:00:00",
          "2020-12-12T15:00:00",
          "2020-12-12T16:00:00",
          "2020-12-12T17:00:00",
          "2020-12-12T18:00:00",
          "2020-12-12T19:00:00",
          "2020-12-12T20:00:00",
          "2020-12-12T21:00:00",
          "2020-12-12T22:00:00",
          "2020-12-12T23:00:00",
          "2020-12-13T00:00:00",
          "2020-12-13T01:00:00",
          "2020-12-13T02:00:00",
          "2020-12-13T03:00:00",
          "2020-12-13T04:00:00",
          "2020-12-13T05:00:00",
          "2020-12-13T06:00:00",
          "2020-12-13T07:00:00",
          "2020-12-13T08:00:00",
          "2020-12-13T09:00:00",
          "2020-12-13T10:00:00",
          "2020-12-13T11:00:00",
          "2020-12-13T12:00:00",
          "2020-12-13T13:00:00",
          "2020-12-13T14:00:00",
          "2020-12-13T15:00:00",
          "2020-12-13T16:00:00",
          "2020-12-13T17:00:00",
          "2020-12-13T18:00:00",
          "2020-12-13T19:00:00",
          "2020-12-13T20:00:00",
          "2020-12-13T21:00:00",
          "2020-12-13T22:00:00",
          "2020-12-13T23:00:00",
          "2020-12-14T00:00:00",
          "2020-12-14T01:00:00",
          "2020-12-14T02:00:00",
          "2020-12-14T03:00:00",
          "2020-12-14T04:00:00",
          "2020-12-14T05:00:00",
          "2020-12-14T06:00:00",
          "2020-12-14T07:00:00",
          "2020-12-14T08:00:00",
          "2020-12-14T09:00:00",
          "2020-12-14T10:00:00",
          "2020-12-14T11:00:00",
          "2020-12-14T12:00:00",
          "2020-12-14T13:00:00",
          "2020-12-14T14:00:00",
          "2020-12-14T15:00:00",
          "2020-12-14T16:00:00",
          "2020-12-14T17:00:00",
          "2020-12-14T18:00:00",
          "2020-12-14T19:00:00",
          "2020-12-14T20:00:00",
          "2020-12-14T21:00:00",
          "2020-12-14T22:00:00",
          "2020-12-14T23:00:00",
          "2020-12-15T00:00:00",
          "2020-12-15T01:00:00",
          "2020-12-15T02:00:00",
          "2020-12-15T03:00:00",
          "2020-12-15T04:00:00",
          "2020-12-15T05:00:00",
          "2020-12-15T06:00:00",
          "2020-12-15T07:00:00",
          "2020-12-15T08:00:00",
          "2020-12-15T09:00:00",
          "2020-12-15T10:00:00",
          "2020-12-15T11:00:00",
          "2020-12-15T12:00:00",
          "2020-12-15T13:00:00",
          "2020-12-15T14:00:00",
          "2020-12-15T15:00:00",
          "2020-12-15T16:00:00",
          "2020-12-15T17:00:00",
          "2020-12-15T18:00:00",
          "2020-12-15T19:00:00",
          "2020-12-15T20:00:00",
          "2020-12-15T21:00:00",
          "2020-12-15T22:00:00",
          "2020-12-15T23:00:00",
          "2020-12-16T00:00:00"
         ],
         "y": [
          14.606062257319195,
          20.788873790562974,
          1.4135081502715252,
          8.87845051432032,
          -2.5425038957670836,
          23.920704451836883,
          25.28467149171155,
          22.360164605189027,
          13.933569225484064,
          16.951184366948553,
          6.919421440763813,
          8.76435324715581,
          15.781660158937228,
          20.30972627974714,
          21.115108673452966,
          4.870035518273056,
          16.93939177834713,
          13.97169651440953,
          11.016229187935267,
          1.596352598947135,
          15.535359205371122,
          29.974970239350768,
          6.163202412565596,
          16.19199703410743,
          13.994786603020117,
          20.628513464698358,
          36.65726454392447,
          14.74806483001396,
          24.209782835266992,
          31.13859906896127,
          40.41827205174394,
          50.7454681897885,
          21.958276514829976,
          33.74990345115802,
          26.687099267604054,
          37.75351645027635,
          15.583604510938699,
          24.78121757920863,
          30.85403273200339,
          25.982423471443695,
          39.37214432963998,
          27.39080753543459,
          48.65771509649693,
          43.173026894258385,
          33.150634842181944,
          36.46440625262909,
          11.236587404250429,
          43.39586187743191,
          28.146543902235038,
          46.123838389035484,
          32.89886582126525,
          38.80582921311017,
          38.826911368223364,
          44.88159308590568,
          48.89136889527299,
          32.510898511239645,
          43.82710601011439,
          40.327233814171706,
          58.215577747110075,
          47.69775424869175,
          53.286724076018686,
          65.13595234117537,
          57.77875252701182,
          36.55911873956268,
          52.611045597765724,
          60.48159693515163,
          48.03292637588618,
          45.3720219221961,
          56.934041902423814,
          62.57168134004388,
          49.28661206883703,
          45.93648673088694,
          56.83166961560738,
          39.6165963256033,
          51.29944316828693,
          51.05714349595394,
          57.7802130208828,
          47.57726204029623,
          69.02634035990613,
          53.075059721602,
          54.46763046796838,
          59.81700088144245,
          63.10336042211077,
          55.18779076621891,
          54.96664298768252,
          63.476658848193296,
          68.7298198431125,
          70.40626324229655,
          66.52249357415462,
          79.99562880145763,
          61.77014702710548,
          61.53861894417861,
          62.29737172352449,
          66.63963295416846,
          61.59995274204144,
          60.26367618830875,
          64.51563457570634,
          67.14454815023907,
          85.60458063467328,
          78.61954528077098,
          69.58441179041156,
          73.34821104980779,
          82.10199827863784,
          74.41147080924503,
          52.73814000232383,
          85.17720075593112,
          79.69804542295134,
          81.543677150827,
          65.1826552641617,
          59.610893437103925,
          76.14774092173025,
          85.87163352934161,
          84.87311364299998,
          71.64484865701542,
          69.68903956166761,
          90.30025393969782,
          80.54534116595445,
          70.10160082657987,
          63.54410894916717,
          68.64533221334784,
          79.94109325355745,
          74.6920983266842,
          80.48695733649188,
          66.41849791464716,
          68.48779989194372,
          79.21152471628059,
          86.1826557571471,
          66.92431068691798,
          75.69750964828026,
          72.67644227147457,
          69.71447473668013,
          77.53681425935324,
          96.96655026039045,
          81.44261423876131,
          73.57465559736767,
          81.8916565231005,
          77.26789834482264,
          87.4533717210978,
          92.84314822346258,
          81.03189710331279,
          65.7473684250117,
          71.6197180217936,
          81.94784899502918,
          81.22287216092215,
          72.11056491174637,
          78.41646156815526,
          77.85207179826864,
          79.63651293131878,
          84.79781188395603,
          78.27169463766674,
          68.13307139019824,
          78.8242181878642,
          69.23516665081524,
          71.50325012570218,
          76.08939320475469,
          67.52838763346554,
          72.27816056413255,
          83.66817970588355,
          79.39121691147733,
          88.56366282885378,
          81.51010538184408,
          82.22479294230166,
          84.06512745558513,
          88.09810010436806,
          77.39436351952074,
          76.15576591340641,
          67.29536764517087,
          80.67895674540586,
          84.9109600893868,
          80.37374635390415
         ]
        },
        {
         "line": {
          "color": "black",
          "width": 2
         },
         "mode": "lines",
         "name": "total_count",
         "type": "scatter",
         "x": [
          "2020-12-08T23:00:00",
          "2020-12-09T00:00:00",
          "2020-12-09T01:00:00",
          "2020-12-09T02:00:00",
          "2020-12-09T03:00:00",
          "2020-12-09T04:00:00",
          "2020-12-09T05:00:00",
          "2020-12-09T06:00:00",
          "2020-12-09T07:00:00",
          "2020-12-09T08:00:00",
          "2020-12-09T09:00:00",
          "2020-12-09T10:00:00",
          "2020-12-09T11:00:00",
          "2020-12-09T12:00:00",
          "2020-12-09T13:00:00",
          "2020-12-09T14:00:00",
          "2020-12-09T15:00:00",
          "2020-12-09T16:00:00",
          "2020-12-09T17:00:00",
          "2020-12-09T18:00:00",
          "2020-12-09T19:00:00",
          "2020-12-09T20:00:00",
          "2020-12-09T21:00:00",
          "2020-12-09T22:00:00",
          "2020-12-09T23:00:00",
          "2020-12-10T00:00:00",
          "2020-12-10T01:00:00",
          "2020-12-10T02:00:00",
          "2020-12-10T03:00:00",
          "2020-12-10T04:00:00",
          "2020-12-10T05:00:00",
          "2020-12-10T06:00:00",
          "2020-12-10T07:00:00",
          "2020-12-10T08:00:00",
          "2020-12-10T09:00:00",
          "2020-12-10T10:00:00",
          "2020-12-10T11:00:00",
          "2020-12-10T12:00:00",
          "2020-12-10T13:00:00",
          "2020-12-10T14:00:00",
          "2020-12-10T15:00:00",
          "2020-12-10T16:00:00",
          "2020-12-10T17:00:00",
          "2020-12-10T18:00:00",
          "2020-12-10T19:00:00",
          "2020-12-10T20:00:00",
          "2020-12-10T21:00:00",
          "2020-12-10T22:00:00",
          "2020-12-10T23:00:00",
          "2020-12-11T00:00:00",
          "2020-12-11T01:00:00",
          "2020-12-11T02:00:00",
          "2020-12-11T03:00:00",
          "2020-12-11T04:00:00",
          "2020-12-11T05:00:00",
          "2020-12-11T06:00:00",
          "2020-12-11T07:00:00",
          "2020-12-11T08:00:00",
          "2020-12-11T09:00:00",
          "2020-12-11T10:00:00",
          "2020-12-11T11:00:00",
          "2020-12-11T12:00:00",
          "2020-12-11T13:00:00",
          "2020-12-11T14:00:00",
          "2020-12-11T15:00:00",
          "2020-12-11T16:00:00",
          "2020-12-11T17:00:00",
          "2020-12-11T18:00:00",
          "2020-12-11T19:00:00",
          "2020-12-11T20:00:00",
          "2020-12-11T21:00:00",
          "2020-12-11T22:00:00",
          "2020-12-11T23:00:00",
          "2020-12-12T00:00:00",
          "2020-12-12T01:00:00",
          "2020-12-12T02:00:00",
          "2020-12-12T03:00:00",
          "2020-12-12T04:00:00",
          "2020-12-12T05:00:00",
          "2020-12-12T06:00:00",
          "2020-12-12T07:00:00",
          "2020-12-12T08:00:00",
          "2020-12-12T09:00:00",
          "2020-12-12T10:00:00",
          "2020-12-12T11:00:00",
          "2020-12-12T12:00:00",
          "2020-12-12T13:00:00",
          "2020-12-12T14:00:00",
          "2020-12-12T15:00:00",
          "2020-12-12T16:00:00",
          "2020-12-12T17:00:00",
          "2020-12-12T18:00:00",
          "2020-12-12T19:00:00",
          "2020-12-12T20:00:00",
          "2020-12-12T21:00:00",
          "2020-12-12T22:00:00",
          "2020-12-12T23:00:00",
          "2020-12-13T00:00:00",
          "2020-12-13T01:00:00",
          "2020-12-13T02:00:00",
          "2020-12-13T03:00:00",
          "2020-12-13T04:00:00",
          "2020-12-13T05:00:00",
          "2020-12-13T06:00:00",
          "2020-12-13T07:00:00",
          "2020-12-13T08:00:00",
          "2020-12-13T09:00:00",
          "2020-12-13T10:00:00",
          "2020-12-13T11:00:00",
          "2020-12-13T12:00:00",
          "2020-12-13T13:00:00",
          "2020-12-13T14:00:00",
          "2020-12-13T15:00:00",
          "2020-12-13T16:00:00",
          "2020-12-13T17:00:00",
          "2020-12-13T18:00:00",
          "2020-12-13T19:00:00",
          "2020-12-13T20:00:00",
          "2020-12-13T21:00:00",
          "2020-12-13T22:00:00",
          "2020-12-13T23:00:00",
          "2020-12-14T00:00:00",
          "2020-12-14T01:00:00",
          "2020-12-14T02:00:00",
          "2020-12-14T03:00:00",
          "2020-12-14T04:00:00",
          "2020-12-14T05:00:00",
          "2020-12-14T06:00:00",
          "2020-12-14T07:00:00",
          "2020-12-14T08:00:00",
          "2020-12-14T09:00:00",
          "2020-12-14T10:00:00",
          "2020-12-14T11:00:00",
          "2020-12-14T12:00:00",
          "2020-12-14T13:00:00",
          "2020-12-14T14:00:00",
          "2020-12-14T15:00:00",
          "2020-12-14T16:00:00",
          "2020-12-14T17:00:00",
          "2020-12-14T18:00:00",
          "2020-12-14T19:00:00",
          "2020-12-14T20:00:00",
          "2020-12-14T21:00:00",
          "2020-12-14T22:00:00",
          "2020-12-14T23:00:00",
          "2020-12-15T00:00:00",
          "2020-12-15T01:00:00",
          "2020-12-15T02:00:00",
          "2020-12-15T03:00:00",
          "2020-12-15T04:00:00",
          "2020-12-15T05:00:00",
          "2020-12-15T06:00:00",
          "2020-12-15T07:00:00",
          "2020-12-15T08:00:00",
          "2020-12-15T09:00:00",
          "2020-12-15T10:00:00",
          "2020-12-15T11:00:00",
          "2020-12-15T12:00:00",
          "2020-12-15T13:00:00",
          "2020-12-15T14:00:00",
          "2020-12-15T15:00:00",
          "2020-12-15T16:00:00",
          "2020-12-15T17:00:00",
          "2020-12-15T18:00:00",
          "2020-12-15T19:00:00",
          "2020-12-15T20:00:00",
          "2020-12-15T21:00:00",
          "2020-12-15T22:00:00",
          "2020-12-15T23:00:00",
          "2020-12-16T00:00:00"
         ],
         "y": [
          8.5,
          132.5,
          213.16666666666666,
          306.66666666666663,
          387.3333333333333,
          477.6666666666666,
          573.8333333333333,
          510.33333333333326,
          468.8333333333333,
          398,
          333.6666666666667,
          254.66666666666666,
          168.66666666666666,
          128.66666666666666,
          115.16666666666666,
          118,
          117.16666666666666,
          119.66666666666666,
          115.66666666666666,
          103.49999999999999,
          89.5,
          77.66666666666666,
          73.33333333333333,
          66.33333333333333,
          60.166666666666664,
          60.66666666666667,
          57.166666666666664,
          54.49999999999999,
          53.16666666666666,
          50.83333333333333,
          47.166666666666664,
          42,
          42.16666666666666,
          35.33333333333333,
          27.833333333333325,
          24.666666666666664,
          21.66666666666666,
          20.499999999999996,
          18,
          20.5,
          34,
          43.33333333333333,
          76,
          92.16666666666666,
          91.83333333333331,
          92.33333333333333,
          82.16666666666667,
          78.16666666666667,
          49.83333333333332,
          41.166666666666664,
          41.166666666666664,
          40.5,
          40.83333333333333,
          38,
          35.666666666666664,
          27.999999999999996,
          24.166666666666664,
          19.833333333333332,
          16.666666666666664,
          14.166666666666666,
          11.666666666666668,
          11.666666666666664,
          12.5,
          13.666666666666664,
          17.166666666666664,
          22.666666666666664,
          27.166666666666664,
          30.833333333333332,
          34.83333333333333,
          40.33333333333333,
          39.5,
          37.666666666666664,
          41.33333333333333,
          40.83333333333333,
          39.166666666666664,
          33.5,
          41.5,
          45.5,
          117.16666666666666,
          215.16666666666666,
          284.3333333333333,
          368.83333333333326,
          406.1666666666666,
          444.9999999999999,
          399.6666666666666,
          335.8333333333333,
          313.16666666666663,
          307.3333333333333,
          345.33333333333326,
          572.8333333333333,
          773.8333333333333,
          968.1666666666666,
          1078.8333333333333,
          1117.8333333333333,
          1121,
          940,
          790.1666666666667,
          630.5,
          533.8333333333333,
          482.66666666666663,
          457.99999999999994,
          422.4999999999999,
          390.49999999999994,
          370.99999999999994,
          336.99999999999994,
          286.16666666666663,
          230.33333333333334,
          189.5,
          147.83333333333334,
          104.83333333333331,
          90.33333333333331,
          109.16666666666666,
          134.5,
          142.33333333333331,
          158.66666666666666,
          180.16666666666663,
          188.49999999999997,
          176.33333333333331,
          163.83333333333334,
          216.83333333333331,
          347.3333333333333,
          431.8333333333333,
          499.16666666666663,
          596.3333333333333,
          663.6666666666666,
          665.1666666666666,
          564,
          488.8333333333333,
          429.16666666666663,
          329.1666666666667,
          250.99999999999997,
          186.33333333333331,
          141.5,
          117.5,
          127.99999999999999,
          138.33333333333331,
          158.83333333333331,
          191.83333333333331,
          220.5,
          227.83333333333331,
          212.33333333333334,
          203.66666666666669,
          200.16666666666669,
          174.16666666666666,
          155.16666666666666,
          147,
          138,
          138.33333333333331,
          130.16666666666666,
          128.16666666666666,
          121.83333333333331,
          114.83333333333333,
          101.66666666666666,
          81.83333333333333,
          67.5,
          50.833333333333336,
          39.666666666666664,
          32.33333333333333,
          35.5,
          44.33333333333333,
          46.16666666666666,
          53.16666666666666,
          60.66666666666666,
          76.83333333333331,
          84.16666666666666,
          91.83333333333333,
          96.66666666666667,
          96.83333333333334,
          95.16666666666667,
          88.33333333333333
         ]
        },
        {
         "line": {
          "color": "red",
          "width": 2
         },
         "mode": "lines",
         "name": "Anomaly Score",
         "type": "scatter",
         "x": [
          "2020-12-08T23:00:00",
          "2020-12-09T00:00:00",
          "2020-12-09T01:00:00",
          "2020-12-09T02:00:00",
          "2020-12-09T03:00:00",
          "2020-12-09T04:00:00",
          "2020-12-09T05:00:00",
          "2020-12-09T06:00:00",
          "2020-12-09T07:00:00",
          "2020-12-09T08:00:00",
          "2020-12-09T09:00:00",
          "2020-12-09T10:00:00",
          "2020-12-09T11:00:00",
          "2020-12-09T12:00:00",
          "2020-12-09T13:00:00",
          "2020-12-09T14:00:00",
          "2020-12-09T15:00:00",
          "2020-12-09T16:00:00",
          "2020-12-09T17:00:00",
          "2020-12-09T18:00:00",
          "2020-12-09T19:00:00",
          "2020-12-09T20:00:00",
          "2020-12-09T21:00:00",
          "2020-12-09T22:00:00",
          "2020-12-09T23:00:00",
          "2020-12-10T00:00:00",
          "2020-12-10T01:00:00",
          "2020-12-10T02:00:00",
          "2020-12-10T03:00:00",
          "2020-12-10T04:00:00",
          "2020-12-10T05:00:00",
          "2020-12-10T06:00:00",
          "2020-12-10T07:00:00",
          "2020-12-10T08:00:00",
          "2020-12-10T09:00:00",
          "2020-12-10T10:00:00",
          "2020-12-10T11:00:00",
          "2020-12-10T12:00:00",
          "2020-12-10T13:00:00",
          "2020-12-10T14:00:00",
          "2020-12-10T15:00:00",
          "2020-12-10T16:00:00",
          "2020-12-10T17:00:00",
          "2020-12-10T18:00:00",
          "2020-12-10T19:00:00",
          "2020-12-10T20:00:00",
          "2020-12-10T21:00:00",
          "2020-12-10T22:00:00",
          "2020-12-10T23:00:00",
          "2020-12-11T00:00:00",
          "2020-12-11T01:00:00",
          "2020-12-11T02:00:00",
          "2020-12-11T03:00:00",
          "2020-12-11T04:00:00",
          "2020-12-11T05:00:00",
          "2020-12-11T06:00:00",
          "2020-12-11T07:00:00",
          "2020-12-11T08:00:00",
          "2020-12-11T09:00:00",
          "2020-12-11T10:00:00",
          "2020-12-11T11:00:00",
          "2020-12-11T12:00:00",
          "2020-12-11T13:00:00",
          "2020-12-11T14:00:00",
          "2020-12-11T15:00:00",
          "2020-12-11T16:00:00",
          "2020-12-11T17:00:00",
          "2020-12-11T18:00:00",
          "2020-12-11T19:00:00",
          "2020-12-11T20:00:00",
          "2020-12-11T21:00:00",
          "2020-12-11T22:00:00",
          "2020-12-11T23:00:00",
          "2020-12-12T00:00:00",
          "2020-12-12T01:00:00",
          "2020-12-12T02:00:00",
          "2020-12-12T03:00:00",
          "2020-12-12T04:00:00",
          "2020-12-12T05:00:00",
          "2020-12-12T06:00:00",
          "2020-12-12T07:00:00",
          "2020-12-12T08:00:00",
          "2020-12-12T09:00:00",
          "2020-12-12T10:00:00",
          "2020-12-12T11:00:00",
          "2020-12-12T12:00:00",
          "2020-12-12T13:00:00",
          "2020-12-12T14:00:00",
          "2020-12-12T15:00:00",
          "2020-12-12T16:00:00",
          "2020-12-12T17:00:00",
          "2020-12-12T18:00:00",
          "2020-12-12T19:00:00",
          "2020-12-12T20:00:00",
          "2020-12-12T21:00:00",
          "2020-12-12T22:00:00",
          "2020-12-12T23:00:00",
          "2020-12-13T00:00:00",
          "2020-12-13T01:00:00",
          "2020-12-13T02:00:00",
          "2020-12-13T03:00:00",
          "2020-12-13T04:00:00",
          "2020-12-13T05:00:00",
          "2020-12-13T06:00:00",
          "2020-12-13T07:00:00",
          "2020-12-13T08:00:00",
          "2020-12-13T09:00:00",
          "2020-12-13T10:00:00",
          "2020-12-13T11:00:00",
          "2020-12-13T12:00:00",
          "2020-12-13T13:00:00",
          "2020-12-13T14:00:00",
          "2020-12-13T15:00:00",
          "2020-12-13T16:00:00",
          "2020-12-13T17:00:00",
          "2020-12-13T18:00:00",
          "2020-12-13T19:00:00",
          "2020-12-13T20:00:00",
          "2020-12-13T21:00:00",
          "2020-12-13T22:00:00",
          "2020-12-13T23:00:00",
          "2020-12-14T00:00:00",
          "2020-12-14T01:00:00",
          "2020-12-14T02:00:00",
          "2020-12-14T03:00:00",
          "2020-12-14T04:00:00",
          "2020-12-14T05:00:00",
          "2020-12-14T06:00:00",
          "2020-12-14T07:00:00",
          "2020-12-14T08:00:00",
          "2020-12-14T09:00:00",
          "2020-12-14T10:00:00",
          "2020-12-14T11:00:00",
          "2020-12-14T12:00:00",
          "2020-12-14T13:00:00",
          "2020-12-14T14:00:00",
          "2020-12-14T15:00:00",
          "2020-12-14T16:00:00",
          "2020-12-14T17:00:00",
          "2020-12-14T18:00:00",
          "2020-12-14T19:00:00",
          "2020-12-14T20:00:00",
          "2020-12-14T21:00:00",
          "2020-12-14T22:00:00",
          "2020-12-14T23:00:00",
          "2020-12-15T00:00:00",
          "2020-12-15T01:00:00",
          "2020-12-15T02:00:00",
          "2020-12-15T03:00:00",
          "2020-12-15T04:00:00",
          "2020-12-15T05:00:00",
          "2020-12-15T06:00:00",
          "2020-12-15T07:00:00",
          "2020-12-15T08:00:00",
          "2020-12-15T09:00:00",
          "2020-12-15T10:00:00",
          "2020-12-15T11:00:00",
          "2020-12-15T12:00:00",
          "2020-12-15T13:00:00",
          "2020-12-15T14:00:00",
          "2020-12-15T15:00:00",
          "2020-12-15T16:00:00",
          "2020-12-15T17:00:00",
          "2020-12-15T18:00:00",
          "2020-12-15T19:00:00",
          "2020-12-15T20:00:00",
          "2020-12-15T21:00:00",
          "2020-12-15T22:00:00",
          "2020-12-15T23:00:00",
          "2020-12-16T00:00:00"
         ],
         "xaxis": "x",
         "y": [
          0,
          0,
          0,
          0,
          1.4167810182224452,
          0,
          0,
          1.793737005374189,
          0,
          0,
          0,
          0,
          0,
          0,
          0,
          0,
          0,
          0,
          0,
          0,
          0,
          0,
          0,
          0,
          0,
          0,
          0,
          0,
          0,
          0,
          0,
          0,
          0,
          0,
          0,
          0,
          0,
          0,
          0,
          0,
          0,
          0,
          0,
          0,
          0,
          0,
          0,
          0,
          0,
          0,
          0,
          0,
          0,
          0,
          0,
          -1.0503209622339165,
          0,
          0,
          -1.1410439393767318,
          0,
          0,
          -1.2111757571747475,
          0,
          0,
          -1.1358010130880856,
          0,
          0,
          0,
          -1.0409299627676942,
          0,
          0,
          -1.0519772214293244,
          0,
          0,
          -1.0139242192810738,
          0,
          0,
          0,
          0,
          0,
          0,
          0,
          1.238971052097874,
          0,
          0,
          0,
          0,
          0,
          0,
          1.8385266937463853,
          0,
          0,
          2.9709235341898417,
          0,
          0,
          2.641250600947936,
          0,
          0,
          1.7197301961270546,
          0,
          0,
          1.2766693969202652,
          0,
          0,
          0,
          0,
          0,
          0,
          0,
          0,
          0,
          0,
          0,
          0,
          0,
          0,
          0,
          0,
          0,
          0,
          0,
          1.3307732247637805,
          0,
          0,
          2.0337657334998327,
          0,
          0,
          1.5878018605002497,
          0,
          0,
          0,
          0,
          0,
          0,
          0,
          0,
          0,
          0,
          0,
          0,
          0,
          0,
          0,
          0,
          0,
          0,
          0,
          0,
          0,
          0,
          0,
          0,
          0,
          0,
          0,
          -1.041932494953744,
          0,
          0,
          -1.189087765391849,
          0,
          0,
          -1.0412481759191512,
          0,
          0,
          0,
          0,
          0,
          0,
          0,
          0
         ],
         "yaxis": "y2"
        }
       ],
       "layout": {
        "height": 600,
        "shapes": [
         {
          "fillcolor": "#e07070",
          "line": {
           "width": 0
          },
          "opacity": 0.4,
          "type": "rect",
          "x0": "2020-12-09T03:00:00",
          "x1": "2020-12-09T04:00:00",
          "xref": "x",
          "y0": 0,
          "y1": 1,
          "yref": "y domain"
         },
         {
          "fillcolor": "#e07070",
          "line": {
           "width": 0
          },
          "opacity": 0.4,
          "type": "rect",
          "x0": "2020-12-09T06:00:00",
          "x1": "2020-12-09T07:00:00",
          "xref": "x",
          "y0": 0,
          "y1": 1,
          "yref": "y domain"
         },
         {
          "fillcolor": "#e07070",
          "line": {
           "width": 0
          },
          "opacity": 0.4,
          "type": "rect",
          "x0": "2020-12-11T06:00:00",
          "x1": "2020-12-11T07:00:00",
          "xref": "x",
          "y0": 0,
          "y1": 1,
          "yref": "y domain"
         },
         {
          "fillcolor": "#e07070",
          "line": {
           "width": 0
          },
          "opacity": 0.4,
          "type": "rect",
          "x0": "2020-12-11T09:00:00",
          "x1": "2020-12-11T10:00:00",
          "xref": "x",
          "y0": 0,
          "y1": 1,
          "yref": "y domain"
         },
         {
          "fillcolor": "#e07070",
          "line": {
           "width": 0
          },
          "opacity": 0.4,
          "type": "rect",
          "x0": "2020-12-11T12:00:00",
          "x1": "2020-12-11T13:00:00",
          "xref": "x",
          "y0": 0,
          "y1": 1,
          "yref": "y domain"
         },
         {
          "fillcolor": "#e07070",
          "line": {
           "width": 0
          },
          "opacity": 0.4,
          "type": "rect",
          "x0": "2020-12-11T15:00:00",
          "x1": "2020-12-11T16:00:00",
          "xref": "x",
          "y0": 0,
          "y1": 1,
          "yref": "y domain"
         },
         {
          "fillcolor": "#e07070",
          "line": {
           "width": 0
          },
          "opacity": 0.4,
          "type": "rect",
          "x0": "2020-12-11T19:00:00",
          "x1": "2020-12-11T20:00:00",
          "xref": "x",
          "y0": 0,
          "y1": 1,
          "yref": "y domain"
         },
         {
          "fillcolor": "#e07070",
          "line": {
           "width": 0
          },
          "opacity": 0.4,
          "type": "rect",
          "x0": "2020-12-11T22:00:00",
          "x1": "2020-12-11T23:00:00",
          "xref": "x",
          "y0": 0,
          "y1": 1,
          "yref": "y domain"
         },
         {
          "fillcolor": "#e07070",
          "line": {
           "width": 0
          },
          "opacity": 0.4,
          "type": "rect",
          "x0": "2020-12-12T01:00:00",
          "x1": "2020-12-12T02:00:00",
          "xref": "x",
          "y0": 0,
          "y1": 1,
          "yref": "y domain"
         },
         {
          "fillcolor": "#e07070",
          "line": {
           "width": 0
          },
          "opacity": 0.4,
          "type": "rect",
          "x0": "2020-12-12T09:00:00",
          "x1": "2020-12-12T10:00:00",
          "xref": "x",
          "y0": 0,
          "y1": 1,
          "yref": "y domain"
         },
         {
          "fillcolor": "#e07070",
          "line": {
           "width": 0
          },
          "opacity": 0.4,
          "type": "rect",
          "x0": "2020-12-12T16:00:00",
          "x1": "2020-12-12T17:00:00",
          "xref": "x",
          "y0": 0,
          "y1": 1,
          "yref": "y domain"
         },
         {
          "fillcolor": "#e07070",
          "line": {
           "width": 0
          },
          "opacity": 0.4,
          "type": "rect",
          "x0": "2020-12-12T19:00:00",
          "x1": "2020-12-12T20:00:00",
          "xref": "x",
          "y0": 0,
          "y1": 1,
          "yref": "y domain"
         },
         {
          "fillcolor": "#e07070",
          "line": {
           "width": 0
          },
          "opacity": 0.4,
          "type": "rect",
          "x0": "2020-12-12T22:00:00",
          "x1": "2020-12-12T23:00:00",
          "xref": "x",
          "y0": 0,
          "y1": 1,
          "yref": "y domain"
         },
         {
          "fillcolor": "#e07070",
          "line": {
           "width": 0
          },
          "opacity": 0.4,
          "type": "rect",
          "x0": "2020-12-13T01:00:00",
          "x1": "2020-12-13T02:00:00",
          "xref": "x",
          "y0": 0,
          "y1": 1,
          "yref": "y domain"
         },
         {
          "fillcolor": "#e07070",
          "line": {
           "width": 0
          },
          "opacity": 0.4,
          "type": "rect",
          "x0": "2020-12-13T04:00:00",
          "x1": "2020-12-13T05:00:00",
          "xref": "x",
          "y0": 0,
          "y1": 1,
          "yref": "y domain"
         },
         {
          "fillcolor": "#e07070",
          "line": {
           "width": 0
          },
          "opacity": 0.4,
          "type": "rect",
          "x0": "2020-12-14T00:00:00",
          "x1": "2020-12-14T01:00:00",
          "xref": "x",
          "y0": 0,
          "y1": 1,
          "yref": "y domain"
         },
         {
          "fillcolor": "#e07070",
          "line": {
           "width": 0
          },
          "opacity": 0.4,
          "type": "rect",
          "x0": "2020-12-14T03:00:00",
          "x1": "2020-12-14T04:00:00",
          "xref": "x",
          "y0": 0,
          "y1": 1,
          "yref": "y domain"
         },
         {
          "fillcolor": "#e07070",
          "line": {
           "width": 0
          },
          "opacity": 0.4,
          "type": "rect",
          "x0": "2020-12-14T06:00:00",
          "x1": "2020-12-14T07:00:00",
          "xref": "x",
          "y0": 0,
          "y1": 1,
          "yref": "y domain"
         },
         {
          "fillcolor": "#e07070",
          "line": {
           "width": 0
          },
          "opacity": 0.4,
          "type": "rect",
          "x0": "2020-12-15T10:00:00",
          "x1": "2020-12-15T11:00:00",
          "xref": "x",
          "y0": 0,
          "y1": 1,
          "yref": "y domain"
         },
         {
          "fillcolor": "#e07070",
          "line": {
           "width": 0
          },
          "opacity": 0.4,
          "type": "rect",
          "x0": "2020-12-15T13:00:00",
          "x1": "2020-12-15T14:00:00",
          "xref": "x",
          "y0": 0,
          "y1": 1,
          "yref": "y domain"
         },
         {
          "fillcolor": "#e07070",
          "line": {
           "width": 0
          },
          "opacity": 0.4,
          "type": "rect",
          "x0": "2020-12-15T16:00:00",
          "x1": "2020-12-15T17:00:00",
          "xref": "x",
          "y0": 0,
          "y1": 1,
          "yref": "y domain"
         }
        ],
        "showlegend": true,
        "template": {
         "data": {
          "bar": [
           {
            "error_x": {
             "color": "#2a3f5f"
            },
            "error_y": {
             "color": "#2a3f5f"
            },
            "marker": {
             "line": {
              "color": "#E5ECF6",
              "width": 0.5
             },
             "pattern": {
              "fillmode": "overlay",
              "size": 10,
              "solidity": 0.2
             }
            },
            "type": "bar"
           }
          ],
          "barpolar": [
           {
            "marker": {
             "line": {
              "color": "#E5ECF6",
              "width": 0.5
             },
             "pattern": {
              "fillmode": "overlay",
              "size": 10,
              "solidity": 0.2
             }
            },
            "type": "barpolar"
           }
          ],
          "carpet": [
           {
            "aaxis": {
             "endlinecolor": "#2a3f5f",
             "gridcolor": "white",
             "linecolor": "white",
             "minorgridcolor": "white",
             "startlinecolor": "#2a3f5f"
            },
            "baxis": {
             "endlinecolor": "#2a3f5f",
             "gridcolor": "white",
             "linecolor": "white",
             "minorgridcolor": "white",
             "startlinecolor": "#2a3f5f"
            },
            "type": "carpet"
           }
          ],
          "choropleth": [
           {
            "colorbar": {
             "outlinewidth": 0,
             "ticks": ""
            },
            "type": "choropleth"
           }
          ],
          "contour": [
           {
            "colorbar": {
             "outlinewidth": 0,
             "ticks": ""
            },
            "colorscale": [
             [
              0,
              "#0d0887"
             ],
             [
              0.1111111111111111,
              "#46039f"
             ],
             [
              0.2222222222222222,
              "#7201a8"
             ],
             [
              0.3333333333333333,
              "#9c179e"
             ],
             [
              0.4444444444444444,
              "#bd3786"
             ],
             [
              0.5555555555555556,
              "#d8576b"
             ],
             [
              0.6666666666666666,
              "#ed7953"
             ],
             [
              0.7777777777777778,
              "#fb9f3a"
             ],
             [
              0.8888888888888888,
              "#fdca26"
             ],
             [
              1,
              "#f0f921"
             ]
            ],
            "type": "contour"
           }
          ],
          "contourcarpet": [
           {
            "colorbar": {
             "outlinewidth": 0,
             "ticks": ""
            },
            "type": "contourcarpet"
           }
          ],
          "heatmap": [
           {
            "colorbar": {
             "outlinewidth": 0,
             "ticks": ""
            },
            "colorscale": [
             [
              0,
              "#0d0887"
             ],
             [
              0.1111111111111111,
              "#46039f"
             ],
             [
              0.2222222222222222,
              "#7201a8"
             ],
             [
              0.3333333333333333,
              "#9c179e"
             ],
             [
              0.4444444444444444,
              "#bd3786"
             ],
             [
              0.5555555555555556,
              "#d8576b"
             ],
             [
              0.6666666666666666,
              "#ed7953"
             ],
             [
              0.7777777777777778,
              "#fb9f3a"
             ],
             [
              0.8888888888888888,
              "#fdca26"
             ],
             [
              1,
              "#f0f921"
             ]
            ],
            "type": "heatmap"
           }
          ],
          "heatmapgl": [
           {
            "colorbar": {
             "outlinewidth": 0,
             "ticks": ""
            },
            "colorscale": [
             [
              0,
              "#0d0887"
             ],
             [
              0.1111111111111111,
              "#46039f"
             ],
             [
              0.2222222222222222,
              "#7201a8"
             ],
             [
              0.3333333333333333,
              "#9c179e"
             ],
             [
              0.4444444444444444,
              "#bd3786"
             ],
             [
              0.5555555555555556,
              "#d8576b"
             ],
             [
              0.6666666666666666,
              "#ed7953"
             ],
             [
              0.7777777777777778,
              "#fb9f3a"
             ],
             [
              0.8888888888888888,
              "#fdca26"
             ],
             [
              1,
              "#f0f921"
             ]
            ],
            "type": "heatmapgl"
           }
          ],
          "histogram": [
           {
            "marker": {
             "pattern": {
              "fillmode": "overlay",
              "size": 10,
              "solidity": 0.2
             }
            },
            "type": "histogram"
           }
          ],
          "histogram2d": [
           {
            "colorbar": {
             "outlinewidth": 0,
             "ticks": ""
            },
            "colorscale": [
             [
              0,
              "#0d0887"
             ],
             [
              0.1111111111111111,
              "#46039f"
             ],
             [
              0.2222222222222222,
              "#7201a8"
             ],
             [
              0.3333333333333333,
              "#9c179e"
             ],
             [
              0.4444444444444444,
              "#bd3786"
             ],
             [
              0.5555555555555556,
              "#d8576b"
             ],
             [
              0.6666666666666666,
              "#ed7953"
             ],
             [
              0.7777777777777778,
              "#fb9f3a"
             ],
             [
              0.8888888888888888,
              "#fdca26"
             ],
             [
              1,
              "#f0f921"
             ]
            ],
            "type": "histogram2d"
           }
          ],
          "histogram2dcontour": [
           {
            "colorbar": {
             "outlinewidth": 0,
             "ticks": ""
            },
            "colorscale": [
             [
              0,
              "#0d0887"
             ],
             [
              0.1111111111111111,
              "#46039f"
             ],
             [
              0.2222222222222222,
              "#7201a8"
             ],
             [
              0.3333333333333333,
              "#9c179e"
             ],
             [
              0.4444444444444444,
              "#bd3786"
             ],
             [
              0.5555555555555556,
              "#d8576b"
             ],
             [
              0.6666666666666666,
              "#ed7953"
             ],
             [
              0.7777777777777778,
              "#fb9f3a"
             ],
             [
              0.8888888888888888,
              "#fdca26"
             ],
             [
              1,
              "#f0f921"
             ]
            ],
            "type": "histogram2dcontour"
           }
          ],
          "mesh3d": [
           {
            "colorbar": {
             "outlinewidth": 0,
             "ticks": ""
            },
            "type": "mesh3d"
           }
          ],
          "parcoords": [
           {
            "line": {
             "colorbar": {
              "outlinewidth": 0,
              "ticks": ""
             }
            },
            "type": "parcoords"
           }
          ],
          "pie": [
           {
            "automargin": true,
            "type": "pie"
           }
          ],
          "scatter": [
           {
            "marker": {
             "colorbar": {
              "outlinewidth": 0,
              "ticks": ""
             }
            },
            "type": "scatter"
           }
          ],
          "scatter3d": [
           {
            "line": {
             "colorbar": {
              "outlinewidth": 0,
              "ticks": ""
             }
            },
            "marker": {
             "colorbar": {
              "outlinewidth": 0,
              "ticks": ""
             }
            },
            "type": "scatter3d"
           }
          ],
          "scattercarpet": [
           {
            "marker": {
             "colorbar": {
              "outlinewidth": 0,
              "ticks": ""
             }
            },
            "type": "scattercarpet"
           }
          ],
          "scattergeo": [
           {
            "marker": {
             "colorbar": {
              "outlinewidth": 0,
              "ticks": ""
             }
            },
            "type": "scattergeo"
           }
          ],
          "scattergl": [
           {
            "marker": {
             "colorbar": {
              "outlinewidth": 0,
              "ticks": ""
             }
            },
            "type": "scattergl"
           }
          ],
          "scattermapbox": [
           {
            "marker": {
             "colorbar": {
              "outlinewidth": 0,
              "ticks": ""
             }
            },
            "type": "scattermapbox"
           }
          ],
          "scatterpolar": [
           {
            "marker": {
             "colorbar": {
              "outlinewidth": 0,
              "ticks": ""
             }
            },
            "type": "scatterpolar"
           }
          ],
          "scatterpolargl": [
           {
            "marker": {
             "colorbar": {
              "outlinewidth": 0,
              "ticks": ""
             }
            },
            "type": "scatterpolargl"
           }
          ],
          "scatterternary": [
           {
            "marker": {
             "colorbar": {
              "outlinewidth": 0,
              "ticks": ""
             }
            },
            "type": "scatterternary"
           }
          ],
          "surface": [
           {
            "colorbar": {
             "outlinewidth": 0,
             "ticks": ""
            },
            "colorscale": [
             [
              0,
              "#0d0887"
             ],
             [
              0.1111111111111111,
              "#46039f"
             ],
             [
              0.2222222222222222,
              "#7201a8"
             ],
             [
              0.3333333333333333,
              "#9c179e"
             ],
             [
              0.4444444444444444,
              "#bd3786"
             ],
             [
              0.5555555555555556,
              "#d8576b"
             ],
             [
              0.6666666666666666,
              "#ed7953"
             ],
             [
              0.7777777777777778,
              "#fb9f3a"
             ],
             [
              0.8888888888888888,
              "#fdca26"
             ],
             [
              1,
              "#f0f921"
             ]
            ],
            "type": "surface"
           }
          ],
          "table": [
           {
            "cells": {
             "fill": {
              "color": "#EBF0F8"
             },
             "line": {
              "color": "white"
             }
            },
            "header": {
             "fill": {
              "color": "#C8D4E3"
             },
             "line": {
              "color": "white"
             }
            },
            "type": "table"
           }
          ]
         },
         "layout": {
          "annotationdefaults": {
           "arrowcolor": "#2a3f5f",
           "arrowhead": 0,
           "arrowwidth": 1
          },
          "autotypenumbers": "strict",
          "coloraxis": {
           "colorbar": {
            "outlinewidth": 0,
            "ticks": ""
           }
          },
          "colorscale": {
           "diverging": [
            [
             0,
             "#8e0152"
            ],
            [
             0.1,
             "#c51b7d"
            ],
            [
             0.2,
             "#de77ae"
            ],
            [
             0.3,
             "#f1b6da"
            ],
            [
             0.4,
             "#fde0ef"
            ],
            [
             0.5,
             "#f7f7f7"
            ],
            [
             0.6,
             "#e6f5d0"
            ],
            [
             0.7,
             "#b8e186"
            ],
            [
             0.8,
             "#7fbc41"
            ],
            [
             0.9,
             "#4d9221"
            ],
            [
             1,
             "#276419"
            ]
           ],
           "sequential": [
            [
             0,
             "#0d0887"
            ],
            [
             0.1111111111111111,
             "#46039f"
            ],
            [
             0.2222222222222222,
             "#7201a8"
            ],
            [
             0.3333333333333333,
             "#9c179e"
            ],
            [
             0.4444444444444444,
             "#bd3786"
            ],
            [
             0.5555555555555556,
             "#d8576b"
            ],
            [
             0.6666666666666666,
             "#ed7953"
            ],
            [
             0.7777777777777778,
             "#fb9f3a"
            ],
            [
             0.8888888888888888,
             "#fdca26"
            ],
            [
             1,
             "#f0f921"
            ]
           ],
           "sequentialminus": [
            [
             0,
             "#0d0887"
            ],
            [
             0.1111111111111111,
             "#46039f"
            ],
            [
             0.2222222222222222,
             "#7201a8"
            ],
            [
             0.3333333333333333,
             "#9c179e"
            ],
            [
             0.4444444444444444,
             "#bd3786"
            ],
            [
             0.5555555555555556,
             "#d8576b"
            ],
            [
             0.6666666666666666,
             "#ed7953"
            ],
            [
             0.7777777777777778,
             "#fb9f3a"
            ],
            [
             0.8888888888888888,
             "#fdca26"
            ],
            [
             1,
             "#f0f921"
            ]
           ]
          },
          "colorway": [
           "#636efa",
           "#EF553B",
           "#00cc96",
           "#ab63fa",
           "#FFA15A",
           "#19d3f3",
           "#FF6692",
           "#B6E880",
           "#FF97FF",
           "#FECB52"
          ],
          "font": {
           "color": "#2a3f5f"
          },
          "geo": {
           "bgcolor": "white",
           "lakecolor": "white",
           "landcolor": "#E5ECF6",
           "showlakes": true,
           "showland": true,
           "subunitcolor": "white"
          },
          "hoverlabel": {
           "align": "left"
          },
          "hovermode": "closest",
          "mapbox": {
           "style": "light"
          },
          "paper_bgcolor": "white",
          "plot_bgcolor": "#E5ECF6",
          "polar": {
           "angularaxis": {
            "gridcolor": "white",
            "linecolor": "white",
            "ticks": ""
           },
           "bgcolor": "#E5ECF6",
           "radialaxis": {
            "gridcolor": "white",
            "linecolor": "white",
            "ticks": ""
           }
          },
          "scene": {
           "xaxis": {
            "backgroundcolor": "#E5ECF6",
            "gridcolor": "white",
            "gridwidth": 2,
            "linecolor": "white",
            "showbackground": true,
            "ticks": "",
            "zerolinecolor": "white"
           },
           "yaxis": {
            "backgroundcolor": "#E5ECF6",
            "gridcolor": "white",
            "gridwidth": 2,
            "linecolor": "white",
            "showbackground": true,
            "ticks": "",
            "zerolinecolor": "white"
           },
           "zaxis": {
            "backgroundcolor": "#E5ECF6",
            "gridcolor": "white",
            "gridwidth": 2,
            "linecolor": "white",
            "showbackground": true,
            "ticks": "",
            "zerolinecolor": "white"
           }
          },
          "shapedefaults": {
           "line": {
            "color": "#2a3f5f"
           }
          },
          "ternary": {
           "aaxis": {
            "gridcolor": "white",
            "linecolor": "white",
            "ticks": ""
           },
           "baxis": {
            "gridcolor": "white",
            "linecolor": "white",
            "ticks": ""
           },
           "bgcolor": "#E5ECF6",
           "caxis": {
            "gridcolor": "white",
            "linecolor": "white",
            "ticks": ""
           }
          },
          "title": {
           "x": 0.05
          },
          "xaxis": {
           "automargin": true,
           "gridcolor": "white",
           "linecolor": "white",
           "ticks": "",
           "title": {
            "standoff": 15
           },
           "zerolinecolor": "white",
           "zerolinewidth": 2
          },
          "yaxis": {
           "automargin": true,
           "gridcolor": "white",
           "linecolor": "white",
           "ticks": "",
           "title": {
            "standoff": 15
           },
           "zerolinecolor": "white",
           "zerolinewidth": 2
          }
         }
        },
        "title": {
         "text": "ProphetDetector: Anomalies in total_count (Forecast Overlaid)"
        },
        "width": 1000,
        "xaxis": {
         "anchor": "y",
         "domain": [
          0,
          0.94
         ],
         "rangeselector": {
          "buttons": [
           {
            "count": 7,
            "label": "1w",
            "step": "day",
            "stepmode": "backward"
           },
           {
            "count": 1,
            "label": "1m",
            "step": "month",
            "stepmode": "backward"
           },
           {
            "count": 6,
            "label": "6m",
            "step": "month",
            "stepmode": "backward"
           },
           {
            "count": 1,
            "label": "1y",
            "step": "year",
            "stepmode": "backward"
           },
           {
            "step": "all"
           }
          ]
         },
         "rangeslider": {
          "visible": true
         },
         "title": {
          "text": "Time"
         },
         "type": "date"
        },
        "yaxis": {
         "anchor": "x",
         "domain": [
          0,
          1
         ],
         "title": {
          "text": "total_count"
         }
        },
        "yaxis2": {
         "anchor": "x",
         "overlaying": "y",
         "range": [
          -1.733938168595321,
          11.33512211691902
         ],
         "side": "right",
         "title": {
          "text": "Anomaly Score"
         }
        }
       }
      }
     },
     "metadata": {}
    }
   ],
   "metadata": {}
  },
  {
   "cell_type": "code",
   "execution_count": 89,
   "source": [
    "for feat in [\"total_count\", \"top1_hashtag_count\", \"top2_hashtag_count\", \"top3_hashtag_count\"]:\n",
    "    detect_anomalies(\n",
    "        df_timeseries, \n",
    "        feat,\n",
    "        model=ProphetDetector(prophet_config)\n",
    "    )"
   ],
   "outputs": [
    {
     "output_type": "stream",
     "name": "stdout",
     "text": [
      "Initial log joint probability = -7.05865\n",
      "    Iter      log prob        ||dx||      ||grad||       alpha      alpha0  # evals  Notes \n",
      "      73       187.399   8.36198e-05       79.6571   1.185e-06       0.001      159  LS failed, Hessian reset \n",
      "      99       187.409   0.000158366       83.9444       4.419           1      197   \n",
      "    Iter      log prob        ||dx||      ||grad||       alpha      alpha0  # evals  Notes \n",
      "     101       187.411   3.04007e-05       79.6057   3.592e-07       0.001      237  LS failed, Hessian reset \n",
      "     128       187.413   4.63415e-09       72.6984      0.1991      0.1991      279   \n",
      "Optimization terminated normally: \n",
      "  Convergence detected: absolute parameter change was below tolerance\n"
     ]
    },
    {
     "output_type": "display_data",
     "data": {
      "application/vnd.plotly.v1+json": {
       "config": {
        "plotlyServerURL": "https://plot.ly"
       },
       "data": [
        {
         "hoverinfo": "skip",
         "line": {
          "width": 0
         },
         "mode": "lines",
         "showlegend": false,
         "type": "scatter",
         "x": [
          "2020-12-08T23:00:00",
          "2020-12-09T00:00:00",
          "2020-12-09T01:00:00",
          "2020-12-09T02:00:00",
          "2020-12-09T03:00:00",
          "2020-12-09T04:00:00",
          "2020-12-09T05:00:00",
          "2020-12-09T06:00:00",
          "2020-12-09T07:00:00",
          "2020-12-09T08:00:00",
          "2020-12-09T09:00:00",
          "2020-12-09T10:00:00",
          "2020-12-09T11:00:00",
          "2020-12-09T12:00:00",
          "2020-12-09T13:00:00",
          "2020-12-09T14:00:00",
          "2020-12-09T15:00:00",
          "2020-12-09T16:00:00",
          "2020-12-09T17:00:00",
          "2020-12-09T18:00:00",
          "2020-12-09T19:00:00",
          "2020-12-09T20:00:00",
          "2020-12-09T21:00:00",
          "2020-12-09T22:00:00",
          "2020-12-09T23:00:00",
          "2020-12-10T00:00:00",
          "2020-12-10T01:00:00",
          "2020-12-10T02:00:00",
          "2020-12-10T03:00:00",
          "2020-12-10T04:00:00",
          "2020-12-10T05:00:00",
          "2020-12-10T06:00:00",
          "2020-12-10T07:00:00",
          "2020-12-10T08:00:00",
          "2020-12-10T09:00:00",
          "2020-12-10T10:00:00",
          "2020-12-10T11:00:00",
          "2020-12-10T12:00:00",
          "2020-12-10T13:00:00",
          "2020-12-10T14:00:00",
          "2020-12-10T15:00:00",
          "2020-12-10T16:00:00",
          "2020-12-10T17:00:00",
          "2020-12-10T18:00:00",
          "2020-12-10T19:00:00",
          "2020-12-10T20:00:00",
          "2020-12-10T21:00:00",
          "2020-12-10T22:00:00",
          "2020-12-10T23:00:00",
          "2020-12-11T00:00:00",
          "2020-12-11T01:00:00",
          "2020-12-11T02:00:00",
          "2020-12-11T03:00:00",
          "2020-12-11T04:00:00",
          "2020-12-11T05:00:00",
          "2020-12-11T06:00:00",
          "2020-12-11T07:00:00",
          "2020-12-11T08:00:00",
          "2020-12-11T09:00:00",
          "2020-12-11T10:00:00",
          "2020-12-11T11:00:00",
          "2020-12-11T12:00:00",
          "2020-12-11T13:00:00",
          "2020-12-11T14:00:00",
          "2020-12-11T15:00:00",
          "2020-12-11T16:00:00",
          "2020-12-11T17:00:00",
          "2020-12-11T18:00:00",
          "2020-12-11T19:00:00",
          "2020-12-11T20:00:00",
          "2020-12-11T21:00:00",
          "2020-12-11T22:00:00",
          "2020-12-11T23:00:00",
          "2020-12-12T00:00:00",
          "2020-12-12T01:00:00",
          "2020-12-12T02:00:00",
          "2020-12-12T03:00:00",
          "2020-12-12T04:00:00",
          "2020-12-12T05:00:00",
          "2020-12-12T06:00:00",
          "2020-12-12T07:00:00",
          "2020-12-12T08:00:00",
          "2020-12-12T09:00:00",
          "2020-12-12T10:00:00",
          "2020-12-12T11:00:00",
          "2020-12-12T12:00:00",
          "2020-12-12T13:00:00",
          "2020-12-12T14:00:00",
          "2020-12-12T15:00:00",
          "2020-12-12T16:00:00",
          "2020-12-12T17:00:00",
          "2020-12-12T18:00:00",
          "2020-12-12T19:00:00",
          "2020-12-12T20:00:00",
          "2020-12-12T21:00:00",
          "2020-12-12T22:00:00",
          "2020-12-12T23:00:00",
          "2020-12-13T00:00:00",
          "2020-12-13T01:00:00",
          "2020-12-13T02:00:00",
          "2020-12-13T03:00:00",
          "2020-12-13T04:00:00",
          "2020-12-13T05:00:00",
          "2020-12-13T06:00:00",
          "2020-12-13T07:00:00",
          "2020-12-13T08:00:00",
          "2020-12-13T09:00:00",
          "2020-12-13T10:00:00",
          "2020-12-13T11:00:00",
          "2020-12-13T12:00:00",
          "2020-12-13T13:00:00",
          "2020-12-13T14:00:00",
          "2020-12-13T15:00:00",
          "2020-12-13T16:00:00",
          "2020-12-13T17:00:00",
          "2020-12-13T18:00:00",
          "2020-12-13T19:00:00",
          "2020-12-13T20:00:00",
          "2020-12-13T21:00:00",
          "2020-12-13T22:00:00",
          "2020-12-13T23:00:00",
          "2020-12-14T00:00:00",
          "2020-12-14T01:00:00",
          "2020-12-14T02:00:00",
          "2020-12-14T03:00:00",
          "2020-12-14T04:00:00",
          "2020-12-14T05:00:00",
          "2020-12-14T06:00:00",
          "2020-12-14T07:00:00",
          "2020-12-14T08:00:00",
          "2020-12-14T09:00:00",
          "2020-12-14T10:00:00",
          "2020-12-14T11:00:00",
          "2020-12-14T12:00:00",
          "2020-12-14T13:00:00",
          "2020-12-14T14:00:00",
          "2020-12-14T15:00:00",
          "2020-12-14T16:00:00",
          "2020-12-14T17:00:00",
          "2020-12-14T18:00:00",
          "2020-12-14T19:00:00",
          "2020-12-14T20:00:00",
          "2020-12-14T21:00:00",
          "2020-12-14T22:00:00",
          "2020-12-14T23:00:00",
          "2020-12-15T00:00:00",
          "2020-12-15T01:00:00",
          "2020-12-15T02:00:00",
          "2020-12-15T03:00:00",
          "2020-12-15T04:00:00",
          "2020-12-15T05:00:00",
          "2020-12-15T06:00:00",
          "2020-12-15T07:00:00",
          "2020-12-15T08:00:00",
          "2020-12-15T09:00:00",
          "2020-12-15T10:00:00",
          "2020-12-15T11:00:00",
          "2020-12-15T12:00:00",
          "2020-12-15T13:00:00",
          "2020-12-15T14:00:00",
          "2020-12-15T15:00:00",
          "2020-12-15T16:00:00",
          "2020-12-15T17:00:00",
          "2020-12-15T18:00:00",
          "2020-12-15T19:00:00",
          "2020-12-15T20:00:00",
          "2020-12-15T21:00:00",
          "2020-12-15T22:00:00",
          "2020-12-15T23:00:00",
          "2020-12-16T00:00:00"
         ],
         "y": [
          291.92295890121994,
          302.51294762660456,
          324.29265820651096,
          309.85885694408034,
          308.8488209462258,
          315.1397777827677,
          322.72313260007,
          309.21074383445733,
          327.3779515677853,
          318.52705765231246,
          316.0130807636806,
          317.2346481109158,
          310.21098941894326,
          298.6927201969005,
          326.47565428098574,
          294.65486016469936,
          310.47010451201743,
          315.71084768175524,
          305.8022517556026,
          352.03427727161136,
          315.5123220687186,
          319.7738186346935,
          331.13984052055787,
          313.9560593440874,
          322.727341115227,
          327.4917577432519,
          324.417487767993,
          323.1847511720277,
          338.11083687378357,
          321.88109572597716,
          308.29648354259507,
          330.4494228645842,
          336.31242762279487,
          338.79066993340996,
          334.63018371795124,
          334.71338276902475,
          339.3232378572772,
          328.5614043524439,
          344.85397769498206,
          341.09277794783196,
          323.05626114815925,
          336.7451497672544,
          333.425182738703,
          337.8448384417584,
          337.9580435103268,
          353.25977259721196,
          333.53792815600804,
          329.3572164770058,
          332.9893096192916,
          327.51266744287585,
          346.96847937670145,
          337.80116877686896,
          351.014990721625,
          337.84331989535696,
          345.5305091645424,
          340.9899233042755,
          361.1583060526557,
          331.8517371237251,
          356.78760898604685,
          354.49569676172155,
          351.24752663238405,
          342.82831663570045,
          346.636918271817,
          358.48774848085907,
          348.84457022394764,
          339.8665591945709,
          356.0989859552466,
          348.59328085133234,
          364.2698218417267,
          363.84551473319743,
          357.0935224387987,
          352.9620229293233,
          362.71514384586703,
          382.02171954141374,
          344.529147529257,
          364.42723609045476,
          384.4020328134919,
          347.3867870941799,
          367.78346001372626,
          364.8833357184333,
          365.3443741684687,
          367.31749061101596,
          360.5433564985051,
          363.82742848757573,
          364.0122659002305,
          357.90435958333313,
          356.0045288589773,
          351.44396006315117,
          356.56945481048314,
          354.7145012400717,
          387.07741762552257,
          368.1938719144415,
          371.3835350946904,
          381.37890622391967,
          375.4568688726826,
          355.0907446192881,
          380.8936188049572,
          368.288881252186,
          368.661471462647,
          384.44888226602154,
          373.2833806576016,
          358.74844094208856,
          367.85567803517506,
          371.75514608308964,
          376.7737765621009,
          373.70517525768093,
          370.797765842122,
          389.11545360740297,
          361.09906776329694,
          384.1747466101958,
          352.59387776546197,
          366.60410056193257,
          374.8998596178547,
          390.9556072048508,
          371.57069690165486,
          365.0291896343531,
          390.1756394094085,
          370.51011241774586,
          358.45766726842504,
          380.9428704560505,
          362.08677791222743,
          380.3822946239168,
          374.62468502246276,
          372.92787282625653,
          381.8620756092009,
          366.31987348973263,
          372.84217342179625,
          402.41529794685505,
          365.71098546626234,
          383.43804077026823,
          372.77280837413105,
          385.07631524570866,
          361.98552299069615,
          388.730051220855,
          364.47828685420995,
          374.28978038741377,
          378.651186198216,
          379.8251203500969,
          384.81421373477104,
          388.55525503633476,
          382.5604553325486,
          378.39314526551675,
          393.38224423476817,
          383.704660408574,
          370.1052777344404,
          375.00028662038983,
          362.4043240902413,
          390.95576105462294,
          374.4857216381632,
          363.9374018378209,
          386.8831597295912,
          375.78475039333875,
          384.1426391519412,
          386.72907009087385,
          382.41844145572895,
          375.86138276906314,
          381.31366516117043,
          384.81977525473656,
          370.4331154925462,
          396.8077634308469,
          382.79312618722264,
          360.228685411177,
          359.28315769464234,
          375.92619392626796,
          369.06287476137857,
          377.26639826048915,
          381.0458500956576,
          384.6046067758508,
          386.0813497717936,
          386.22272937513696
         ]
        },
        {
         "fill": "tonexty",
         "fillcolor": "rgba(0, 114, 178, 0.2)",
         "line": {
          "color": "#0072B2",
          "width": 2
         },
         "mode": "lines",
         "name": "Forecast",
         "type": "scatter",
         "x": [
          "2020-12-08T23:00:00",
          "2020-12-09T00:00:00",
          "2020-12-09T01:00:00",
          "2020-12-09T02:00:00",
          "2020-12-09T03:00:00",
          "2020-12-09T04:00:00",
          "2020-12-09T05:00:00",
          "2020-12-09T06:00:00",
          "2020-12-09T07:00:00",
          "2020-12-09T08:00:00",
          "2020-12-09T09:00:00",
          "2020-12-09T10:00:00",
          "2020-12-09T11:00:00",
          "2020-12-09T12:00:00",
          "2020-12-09T13:00:00",
          "2020-12-09T14:00:00",
          "2020-12-09T15:00:00",
          "2020-12-09T16:00:00",
          "2020-12-09T17:00:00",
          "2020-12-09T18:00:00",
          "2020-12-09T19:00:00",
          "2020-12-09T20:00:00",
          "2020-12-09T21:00:00",
          "2020-12-09T22:00:00",
          "2020-12-09T23:00:00",
          "2020-12-10T00:00:00",
          "2020-12-10T01:00:00",
          "2020-12-10T02:00:00",
          "2020-12-10T03:00:00",
          "2020-12-10T04:00:00",
          "2020-12-10T05:00:00",
          "2020-12-10T06:00:00",
          "2020-12-10T07:00:00",
          "2020-12-10T08:00:00",
          "2020-12-10T09:00:00",
          "2020-12-10T10:00:00",
          "2020-12-10T11:00:00",
          "2020-12-10T12:00:00",
          "2020-12-10T13:00:00",
          "2020-12-10T14:00:00",
          "2020-12-10T15:00:00",
          "2020-12-10T16:00:00",
          "2020-12-10T17:00:00",
          "2020-12-10T18:00:00",
          "2020-12-10T19:00:00",
          "2020-12-10T20:00:00",
          "2020-12-10T21:00:00",
          "2020-12-10T22:00:00",
          "2020-12-10T23:00:00",
          "2020-12-11T00:00:00",
          "2020-12-11T01:00:00",
          "2020-12-11T02:00:00",
          "2020-12-11T03:00:00",
          "2020-12-11T04:00:00",
          "2020-12-11T05:00:00",
          "2020-12-11T06:00:00",
          "2020-12-11T07:00:00",
          "2020-12-11T08:00:00",
          "2020-12-11T09:00:00",
          "2020-12-11T10:00:00",
          "2020-12-11T11:00:00",
          "2020-12-11T12:00:00",
          "2020-12-11T13:00:00",
          "2020-12-11T14:00:00",
          "2020-12-11T15:00:00",
          "2020-12-11T16:00:00",
          "2020-12-11T17:00:00",
          "2020-12-11T18:00:00",
          "2020-12-11T19:00:00",
          "2020-12-11T20:00:00",
          "2020-12-11T21:00:00",
          "2020-12-11T22:00:00",
          "2020-12-11T23:00:00",
          "2020-12-12T00:00:00",
          "2020-12-12T01:00:00",
          "2020-12-12T02:00:00",
          "2020-12-12T03:00:00",
          "2020-12-12T04:00:00",
          "2020-12-12T05:00:00",
          "2020-12-12T06:00:00",
          "2020-12-12T07:00:00",
          "2020-12-12T08:00:00",
          "2020-12-12T09:00:00",
          "2020-12-12T10:00:00",
          "2020-12-12T11:00:00",
          "2020-12-12T12:00:00",
          "2020-12-12T13:00:00",
          "2020-12-12T14:00:00",
          "2020-12-12T15:00:00",
          "2020-12-12T16:00:00",
          "2020-12-12T17:00:00",
          "2020-12-12T18:00:00",
          "2020-12-12T19:00:00",
          "2020-12-12T20:00:00",
          "2020-12-12T21:00:00",
          "2020-12-12T22:00:00",
          "2020-12-12T23:00:00",
          "2020-12-13T00:00:00",
          "2020-12-13T01:00:00",
          "2020-12-13T02:00:00",
          "2020-12-13T03:00:00",
          "2020-12-13T04:00:00",
          "2020-12-13T05:00:00",
          "2020-12-13T06:00:00",
          "2020-12-13T07:00:00",
          "2020-12-13T08:00:00",
          "2020-12-13T09:00:00",
          "2020-12-13T10:00:00",
          "2020-12-13T11:00:00",
          "2020-12-13T12:00:00",
          "2020-12-13T13:00:00",
          "2020-12-13T14:00:00",
          "2020-12-13T15:00:00",
          "2020-12-13T16:00:00",
          "2020-12-13T17:00:00",
          "2020-12-13T18:00:00",
          "2020-12-13T19:00:00",
          "2020-12-13T20:00:00",
          "2020-12-13T21:00:00",
          "2020-12-13T22:00:00",
          "2020-12-13T23:00:00",
          "2020-12-14T00:00:00",
          "2020-12-14T01:00:00",
          "2020-12-14T02:00:00",
          "2020-12-14T03:00:00",
          "2020-12-14T04:00:00",
          "2020-12-14T05:00:00",
          "2020-12-14T06:00:00",
          "2020-12-14T07:00:00",
          "2020-12-14T08:00:00",
          "2020-12-14T09:00:00",
          "2020-12-14T10:00:00",
          "2020-12-14T11:00:00",
          "2020-12-14T12:00:00",
          "2020-12-14T13:00:00",
          "2020-12-14T14:00:00",
          "2020-12-14T15:00:00",
          "2020-12-14T16:00:00",
          "2020-12-14T17:00:00",
          "2020-12-14T18:00:00",
          "2020-12-14T19:00:00",
          "2020-12-14T20:00:00",
          "2020-12-14T21:00:00",
          "2020-12-14T22:00:00",
          "2020-12-14T23:00:00",
          "2020-12-15T00:00:00",
          "2020-12-15T01:00:00",
          "2020-12-15T02:00:00",
          "2020-12-15T03:00:00",
          "2020-12-15T04:00:00",
          "2020-12-15T05:00:00",
          "2020-12-15T06:00:00",
          "2020-12-15T07:00:00",
          "2020-12-15T08:00:00",
          "2020-12-15T09:00:00",
          "2020-12-15T10:00:00",
          "2020-12-15T11:00:00",
          "2020-12-15T12:00:00",
          "2020-12-15T13:00:00",
          "2020-12-15T14:00:00",
          "2020-12-15T15:00:00",
          "2020-12-15T16:00:00",
          "2020-12-15T17:00:00",
          "2020-12-15T18:00:00",
          "2020-12-15T19:00:00",
          "2020-12-15T20:00:00",
          "2020-12-15T21:00:00",
          "2020-12-15T22:00:00",
          "2020-12-15T23:00:00",
          "2020-12-16T00:00:00"
         ],
         "y": [
          158.0952426262633,
          158.75259507175852,
          159.40994751725373,
          160.06729996274896,
          160.72465240824414,
          161.38200485373937,
          162.03935711863588,
          162.69670938353238,
          163.35406164842885,
          164.01141391332536,
          164.66876617822186,
          165.32611844311836,
          165.98347069639823,
          166.64082294967807,
          167.29817520295794,
          167.9555274562378,
          168.61287970951767,
          169.27023200750773,
          169.92758430549773,
          170.5849366034878,
          171.24228890147785,
          171.89964119946788,
          172.55699349745794,
          173.21434577222112,
          173.87169804698428,
          174.52905032174746,
          175.18640259651065,
          175.84375487127377,
          176.50110731779458,
          177.15845976431538,
          177.81581221083619,
          178.47316465735696,
          179.1305171038778,
          179.78786954129598,
          180.4452219787142,
          181.1025744161324,
          181.75992685355055,
          182.41727929096876,
          183.07463172838695,
          183.73198417314683,
          184.38933661790665,
          185.04668906266653,
          185.70404150742638,
          186.36139395218626,
          187.01874652621763,
          187.67609910024905,
          188.33345167428047,
          188.99080424831186,
          189.64815682234325,
          190.30550939637467,
          190.96286193445192,
          191.62021447252923,
          192.2775670106065,
          192.93491954868378,
          193.59227208676106,
          194.24962461667616,
          194.90697714659123,
          195.56432967650633,
          196.22168220642138,
          196.8790347363365,
          197.536387262915,
          198.19373978949355,
          198.85109231607208,
          199.50844484265065,
          200.16579736922915,
          200.82314989580772,
          201.48050244210435,
          202.13785498840096,
          202.7952075346976,
          203.45256008099426,
          204.10991262729087,
          204.76726500478694,
          205.424617382283,
          206.08196975977907,
          206.73932213727514,
          207.39667451477118,
          208.05402689226725,
          208.71137882175296,
          209.36873075123867,
          210.0260826807244,
          210.6834346102101,
          211.34078653969578,
          211.99813811846747,
          212.65548969723912,
          213.3128412760108,
          213.97019285478245,
          214.62754443355414,
          215.2366841231989,
          215.84582381284372,
          216.45496350248848,
          217.06410319213327,
          217.67324288177807,
          218.28238257142286,
          218.77462106055856,
          219.26685954969426,
          219.75909803883,
          220.25133652796572,
          220.74357501710145,
          221.10666665058292,
          221.46975828406437,
          221.83284991754584,
          222.19594155102732,
          222.55903318450873,
          222.9221248179902,
          223.17744757561093,
          223.4327703332316,
          223.68809309085228,
          223.94341584847294,
          224.1987386060936,
          224.3744033120642,
          224.55006801803484,
          224.72573272400547,
          224.9013974299761,
          225.0770621359467,
          225.1984762316678,
          225.3198903273889,
          225.44130442310998,
          225.5627185188311,
          225.68413261455217,
          225.80554671027326,
          225.8979051047677,
          225.99026349926217,
          226.0826218937566,
          226.17498028825102,
          226.2673386827455,
          226.3552367743623,
          226.44313486597912,
          226.53103295759595,
          226.61893104921276,
          226.70682914082957,
          226.79472723244638,
          226.87348931613676,
          226.95225139982708,
          227.0310134835174,
          227.10977556720778,
          227.18853765089813,
          227.26727860113306,
          227.346019551368,
          227.42476050160292,
          227.50350145183785,
          227.5822424020728,
          227.66098335230774,
          227.73972430254267,
          227.81846525277757,
          227.89720620301256,
          227.97594715324746,
          228.0546881034824,
          228.13342905371732,
          228.21217000395225,
          228.2909109541872,
          228.36965190442214,
          228.44839285465707,
          228.527133804892,
          228.60587475512696,
          228.6846157053619,
          228.76335665559682,
          228.84209760583175,
          228.92083855606668,
          228.99957950630164,
          229.07832045653657,
          229.1570614067715,
          229.23580235700643,
          229.31454330724137,
          229.39328425747632,
          229.47202520771125,
          229.55076615794619,
          229.62950710818112,
          229.70824805841607,
          229.786989008651,
          229.86572995888594
         ]
        },
        {
         "fill": "tonexty",
         "fillcolor": "rgba(0, 114, 178, 0.2)",
         "hoverinfo": "skip",
         "line": {
          "width": 0
         },
         "mode": "lines",
         "showlegend": false,
         "type": "scatter",
         "x": [
          "2020-12-08T23:00:00",
          "2020-12-09T00:00:00",
          "2020-12-09T01:00:00",
          "2020-12-09T02:00:00",
          "2020-12-09T03:00:00",
          "2020-12-09T04:00:00",
          "2020-12-09T05:00:00",
          "2020-12-09T06:00:00",
          "2020-12-09T07:00:00",
          "2020-12-09T08:00:00",
          "2020-12-09T09:00:00",
          "2020-12-09T10:00:00",
          "2020-12-09T11:00:00",
          "2020-12-09T12:00:00",
          "2020-12-09T13:00:00",
          "2020-12-09T14:00:00",
          "2020-12-09T15:00:00",
          "2020-12-09T16:00:00",
          "2020-12-09T17:00:00",
          "2020-12-09T18:00:00",
          "2020-12-09T19:00:00",
          "2020-12-09T20:00:00",
          "2020-12-09T21:00:00",
          "2020-12-09T22:00:00",
          "2020-12-09T23:00:00",
          "2020-12-10T00:00:00",
          "2020-12-10T01:00:00",
          "2020-12-10T02:00:00",
          "2020-12-10T03:00:00",
          "2020-12-10T04:00:00",
          "2020-12-10T05:00:00",
          "2020-12-10T06:00:00",
          "2020-12-10T07:00:00",
          "2020-12-10T08:00:00",
          "2020-12-10T09:00:00",
          "2020-12-10T10:00:00",
          "2020-12-10T11:00:00",
          "2020-12-10T12:00:00",
          "2020-12-10T13:00:00",
          "2020-12-10T14:00:00",
          "2020-12-10T15:00:00",
          "2020-12-10T16:00:00",
          "2020-12-10T17:00:00",
          "2020-12-10T18:00:00",
          "2020-12-10T19:00:00",
          "2020-12-10T20:00:00",
          "2020-12-10T21:00:00",
          "2020-12-10T22:00:00",
          "2020-12-10T23:00:00",
          "2020-12-11T00:00:00",
          "2020-12-11T01:00:00",
          "2020-12-11T02:00:00",
          "2020-12-11T03:00:00",
          "2020-12-11T04:00:00",
          "2020-12-11T05:00:00",
          "2020-12-11T06:00:00",
          "2020-12-11T07:00:00",
          "2020-12-11T08:00:00",
          "2020-12-11T09:00:00",
          "2020-12-11T10:00:00",
          "2020-12-11T11:00:00",
          "2020-12-11T12:00:00",
          "2020-12-11T13:00:00",
          "2020-12-11T14:00:00",
          "2020-12-11T15:00:00",
          "2020-12-11T16:00:00",
          "2020-12-11T17:00:00",
          "2020-12-11T18:00:00",
          "2020-12-11T19:00:00",
          "2020-12-11T20:00:00",
          "2020-12-11T21:00:00",
          "2020-12-11T22:00:00",
          "2020-12-11T23:00:00",
          "2020-12-12T00:00:00",
          "2020-12-12T01:00:00",
          "2020-12-12T02:00:00",
          "2020-12-12T03:00:00",
          "2020-12-12T04:00:00",
          "2020-12-12T05:00:00",
          "2020-12-12T06:00:00",
          "2020-12-12T07:00:00",
          "2020-12-12T08:00:00",
          "2020-12-12T09:00:00",
          "2020-12-12T10:00:00",
          "2020-12-12T11:00:00",
          "2020-12-12T12:00:00",
          "2020-12-12T13:00:00",
          "2020-12-12T14:00:00",
          "2020-12-12T15:00:00",
          "2020-12-12T16:00:00",
          "2020-12-12T17:00:00",
          "2020-12-12T18:00:00",
          "2020-12-12T19:00:00",
          "2020-12-12T20:00:00",
          "2020-12-12T21:00:00",
          "2020-12-12T22:00:00",
          "2020-12-12T23:00:00",
          "2020-12-13T00:00:00",
          "2020-12-13T01:00:00",
          "2020-12-13T02:00:00",
          "2020-12-13T03:00:00",
          "2020-12-13T04:00:00",
          "2020-12-13T05:00:00",
          "2020-12-13T06:00:00",
          "2020-12-13T07:00:00",
          "2020-12-13T08:00:00",
          "2020-12-13T09:00:00",
          "2020-12-13T10:00:00",
          "2020-12-13T11:00:00",
          "2020-12-13T12:00:00",
          "2020-12-13T13:00:00",
          "2020-12-13T14:00:00",
          "2020-12-13T15:00:00",
          "2020-12-13T16:00:00",
          "2020-12-13T17:00:00",
          "2020-12-13T18:00:00",
          "2020-12-13T19:00:00",
          "2020-12-13T20:00:00",
          "2020-12-13T21:00:00",
          "2020-12-13T22:00:00",
          "2020-12-13T23:00:00",
          "2020-12-14T00:00:00",
          "2020-12-14T01:00:00",
          "2020-12-14T02:00:00",
          "2020-12-14T03:00:00",
          "2020-12-14T04:00:00",
          "2020-12-14T05:00:00",
          "2020-12-14T06:00:00",
          "2020-12-14T07:00:00",
          "2020-12-14T08:00:00",
          "2020-12-14T09:00:00",
          "2020-12-14T10:00:00",
          "2020-12-14T11:00:00",
          "2020-12-14T12:00:00",
          "2020-12-14T13:00:00",
          "2020-12-14T14:00:00",
          "2020-12-14T15:00:00",
          "2020-12-14T16:00:00",
          "2020-12-14T17:00:00",
          "2020-12-14T18:00:00",
          "2020-12-14T19:00:00",
          "2020-12-14T20:00:00",
          "2020-12-14T21:00:00",
          "2020-12-14T22:00:00",
          "2020-12-14T23:00:00",
          "2020-12-15T00:00:00",
          "2020-12-15T01:00:00",
          "2020-12-15T02:00:00",
          "2020-12-15T03:00:00",
          "2020-12-15T04:00:00",
          "2020-12-15T05:00:00",
          "2020-12-15T06:00:00",
          "2020-12-15T07:00:00",
          "2020-12-15T08:00:00",
          "2020-12-15T09:00:00",
          "2020-12-15T10:00:00",
          "2020-12-15T11:00:00",
          "2020-12-15T12:00:00",
          "2020-12-15T13:00:00",
          "2020-12-15T14:00:00",
          "2020-12-15T15:00:00",
          "2020-12-15T16:00:00",
          "2020-12-15T17:00:00",
          "2020-12-15T18:00:00",
          "2020-12-15T19:00:00",
          "2020-12-15T20:00:00",
          "2020-12-15T21:00:00",
          "2020-12-15T22:00:00",
          "2020-12-15T23:00:00",
          "2020-12-16T00:00:00"
         ],
         "y": [
          -5.846705199485399,
          5.735001087337793,
          5.019987026738022,
          9.183108930046615,
          3.3942787184225267,
          7.087030311342858,
          11.244603530036926,
          2.3260514359503475,
          14.368212874001586,
          2.8933593576168732,
          -1.7294603684482013,
          12.499484983311106,
          16.14388894963986,
          12.085826158601577,
          22.571210207207457,
          4.711771316892168,
          -0.6176115475065274,
          24.513033716805637,
          10.18809107357194,
          33.56331966748155,
          13.074921959267698,
          20.77213621398701,
          18.447171544600735,
          27.058272102336446,
          22.168961294234492,
          17.31232446394438,
          23.063456336396683,
          9.094698830519604,
          32.86268655294708,
          40.636328444920565,
          7.725853762732754,
          32.16219689816444,
          21.01401149057577,
          32.22072116241438,
          38.808339068592915,
          18.190347263238465,
          39.31023619535216,
          33.48780864531378,
          43.965357256035105,
          46.51534078909435,
          31.5955635604831,
          55.30712295565988,
          49.76761297485595,
          29.844056766686606,
          44.11571790040841,
          41.138402560424225,
          41.04755443190902,
          32.0271457096992,
          58.75496245328557,
          20.845312747001174,
          44.57404851219326,
          32.094100810802814,
          39.33839021321356,
          37.307530271292904,
          46.22750515200286,
          37.543444111199676,
          44.295443334564766,
          28.479214891430786,
          62.26572967894634,
          42.36193674854462,
          54.764542454208765,
          46.16626344524943,
          54.1241011710751,
          71.17480003862954,
          50.00748808381297,
          53.90917248409315,
          26.042995699460107,
          60.73705337246875,
          64.34754186967862,
          48.67340531152095,
          39.959238037858114,
          58.17477256570683,
          75.40462699570386,
          61.027143000421574,
          63.555126286640444,
          67.21758122418638,
          59.4708042156453,
          65.03556343210192,
          64.04028021328205,
          58.14420595973786,
          67.01091244500498,
          70.4323925407391,
          49.28400765091618,
          73.90693367782481,
          60.536061202847435,
          65.81988024710145,
          63.23446050976355,
          48.97035080086394,
          53.372241862112276,
          68.10620195958265,
          69.49284586576763,
          59.64621299575472,
          62.828133786323065,
          80.8771912650468,
          64.6456974788305,
          52.28807783167994,
          80.25173686334423,
          66.99597901036006,
          55.06816126286063,
          75.75941827024718,
          78.51761857493707,
          70.35966698286066,
          64.34802879738407,
          57.856500957863744,
          90.61371837214969,
          57.86160583558777,
          70.26581292694763,
          87.56523723461177,
          66.28000966891605,
          90.55529064369699,
          63.759707521977816,
          74.15436538145843,
          85.0592344393101,
          84.94163060976737,
          65.46263870267111,
          64.82811351336673,
          82.14998333890804,
          72.74635971116626,
          76.07676217246998,
          76.73790384296663,
          79.45803099986415,
          76.244053908003,
          64.88278323756822,
          76.82946832587291,
          91.83933480221012,
          63.35837733330882,
          62.549224681894,
          79.81810455336651,
          67.00415204528375,
          88.3207566650739,
          61.45416811172964,
          91.46684204252884,
          64.38954301560798,
          91.42670779896736,
          78.098603845268,
          67.42161622185739,
          75.98437762962055,
          83.10586841202817,
          64.8040703372696,
          55.40668621284286,
          88.98325055988099,
          81.56059125427029,
          73.51193287636394,
          85.53020022675213,
          66.14194458810502,
          80.63713483830207,
          64.6422225834074,
          76.88521746184605,
          74.09858383372881,
          53.500143274245175,
          91.61657907627318,
          84.8772537667156,
          75.11080151939822,
          79.31091376978574,
          84.44543574963615,
          72.3214200449913,
          85.12304706115674,
          82.4812649550725,
          87.29819065175485,
          75.75790359729297,
          85.72197922318276,
          67.68530716871362,
          61.680421577200775,
          55.637795357178135,
          69.36621218662151,
          83.76248427532039,
          73.72974194674399,
          79.11420262349645,
          77.91315345697373,
          68.15882288380186
         ]
        },
        {
         "line": {
          "color": "black",
          "width": 2
         },
         "mode": "lines",
         "name": "total_count",
         "type": "scatter",
         "x": [
          "2020-12-08T23:00:00",
          "2020-12-09T00:00:00",
          "2020-12-09T01:00:00",
          "2020-12-09T02:00:00",
          "2020-12-09T03:00:00",
          "2020-12-09T04:00:00",
          "2020-12-09T05:00:00",
          "2020-12-09T06:00:00",
          "2020-12-09T07:00:00",
          "2020-12-09T08:00:00",
          "2020-12-09T09:00:00",
          "2020-12-09T10:00:00",
          "2020-12-09T11:00:00",
          "2020-12-09T12:00:00",
          "2020-12-09T13:00:00",
          "2020-12-09T14:00:00",
          "2020-12-09T15:00:00",
          "2020-12-09T16:00:00",
          "2020-12-09T17:00:00",
          "2020-12-09T18:00:00",
          "2020-12-09T19:00:00",
          "2020-12-09T20:00:00",
          "2020-12-09T21:00:00",
          "2020-12-09T22:00:00",
          "2020-12-09T23:00:00",
          "2020-12-10T00:00:00",
          "2020-12-10T01:00:00",
          "2020-12-10T02:00:00",
          "2020-12-10T03:00:00",
          "2020-12-10T04:00:00",
          "2020-12-10T05:00:00",
          "2020-12-10T06:00:00",
          "2020-12-10T07:00:00",
          "2020-12-10T08:00:00",
          "2020-12-10T09:00:00",
          "2020-12-10T10:00:00",
          "2020-12-10T11:00:00",
          "2020-12-10T12:00:00",
          "2020-12-10T13:00:00",
          "2020-12-10T14:00:00",
          "2020-12-10T15:00:00",
          "2020-12-10T16:00:00",
          "2020-12-10T17:00:00",
          "2020-12-10T18:00:00",
          "2020-12-10T19:00:00",
          "2020-12-10T20:00:00",
          "2020-12-10T21:00:00",
          "2020-12-10T22:00:00",
          "2020-12-10T23:00:00",
          "2020-12-11T00:00:00",
          "2020-12-11T01:00:00",
          "2020-12-11T02:00:00",
          "2020-12-11T03:00:00",
          "2020-12-11T04:00:00",
          "2020-12-11T05:00:00",
          "2020-12-11T06:00:00",
          "2020-12-11T07:00:00",
          "2020-12-11T08:00:00",
          "2020-12-11T09:00:00",
          "2020-12-11T10:00:00",
          "2020-12-11T11:00:00",
          "2020-12-11T12:00:00",
          "2020-12-11T13:00:00",
          "2020-12-11T14:00:00",
          "2020-12-11T15:00:00",
          "2020-12-11T16:00:00",
          "2020-12-11T17:00:00",
          "2020-12-11T18:00:00",
          "2020-12-11T19:00:00",
          "2020-12-11T20:00:00",
          "2020-12-11T21:00:00",
          "2020-12-11T22:00:00",
          "2020-12-11T23:00:00",
          "2020-12-12T00:00:00",
          "2020-12-12T01:00:00",
          "2020-12-12T02:00:00",
          "2020-12-12T03:00:00",
          "2020-12-12T04:00:00",
          "2020-12-12T05:00:00",
          "2020-12-12T06:00:00",
          "2020-12-12T07:00:00",
          "2020-12-12T08:00:00",
          "2020-12-12T09:00:00",
          "2020-12-12T10:00:00",
          "2020-12-12T11:00:00",
          "2020-12-12T12:00:00",
          "2020-12-12T13:00:00",
          "2020-12-12T14:00:00",
          "2020-12-12T15:00:00",
          "2020-12-12T16:00:00",
          "2020-12-12T17:00:00",
          "2020-12-12T18:00:00",
          "2020-12-12T19:00:00",
          "2020-12-12T20:00:00",
          "2020-12-12T21:00:00",
          "2020-12-12T22:00:00",
          "2020-12-12T23:00:00",
          "2020-12-13T00:00:00",
          "2020-12-13T01:00:00",
          "2020-12-13T02:00:00",
          "2020-12-13T03:00:00",
          "2020-12-13T04:00:00",
          "2020-12-13T05:00:00",
          "2020-12-13T06:00:00",
          "2020-12-13T07:00:00",
          "2020-12-13T08:00:00",
          "2020-12-13T09:00:00",
          "2020-12-13T10:00:00",
          "2020-12-13T11:00:00",
          "2020-12-13T12:00:00",
          "2020-12-13T13:00:00",
          "2020-12-13T14:00:00",
          "2020-12-13T15:00:00",
          "2020-12-13T16:00:00",
          "2020-12-13T17:00:00",
          "2020-12-13T18:00:00",
          "2020-12-13T19:00:00",
          "2020-12-13T20:00:00",
          "2020-12-13T21:00:00",
          "2020-12-13T22:00:00",
          "2020-12-13T23:00:00",
          "2020-12-14T00:00:00",
          "2020-12-14T01:00:00",
          "2020-12-14T02:00:00",
          "2020-12-14T03:00:00",
          "2020-12-14T04:00:00",
          "2020-12-14T05:00:00",
          "2020-12-14T06:00:00",
          "2020-12-14T07:00:00",
          "2020-12-14T08:00:00",
          "2020-12-14T09:00:00",
          "2020-12-14T10:00:00",
          "2020-12-14T11:00:00",
          "2020-12-14T12:00:00",
          "2020-12-14T13:00:00",
          "2020-12-14T14:00:00",
          "2020-12-14T15:00:00",
          "2020-12-14T16:00:00",
          "2020-12-14T17:00:00",
          "2020-12-14T18:00:00",
          "2020-12-14T19:00:00",
          "2020-12-14T20:00:00",
          "2020-12-14T21:00:00",
          "2020-12-14T22:00:00",
          "2020-12-14T23:00:00",
          "2020-12-15T00:00:00",
          "2020-12-15T01:00:00",
          "2020-12-15T02:00:00",
          "2020-12-15T03:00:00",
          "2020-12-15T04:00:00",
          "2020-12-15T05:00:00",
          "2020-12-15T06:00:00",
          "2020-12-15T07:00:00",
          "2020-12-15T08:00:00",
          "2020-12-15T09:00:00",
          "2020-12-15T10:00:00",
          "2020-12-15T11:00:00",
          "2020-12-15T12:00:00",
          "2020-12-15T13:00:00",
          "2020-12-15T14:00:00",
          "2020-12-15T15:00:00",
          "2020-12-15T16:00:00",
          "2020-12-15T17:00:00",
          "2020-12-15T18:00:00",
          "2020-12-15T19:00:00",
          "2020-12-15T20:00:00",
          "2020-12-15T21:00:00",
          "2020-12-15T22:00:00",
          "2020-12-15T23:00:00",
          "2020-12-16T00:00:00"
         ],
         "y": [
          8.5,
          132.5,
          213.16666666666666,
          306.66666666666663,
          387.3333333333333,
          477.6666666666666,
          573.8333333333333,
          510.33333333333326,
          468.8333333333333,
          398,
          333.6666666666667,
          254.66666666666666,
          168.66666666666666,
          128.66666666666666,
          115.16666666666666,
          118,
          117.16666666666666,
          119.66666666666666,
          115.66666666666666,
          103.49999999999999,
          89.5,
          77.66666666666666,
          73.33333333333333,
          66.33333333333333,
          60.166666666666664,
          60.66666666666667,
          57.166666666666664,
          54.49999999999999,
          53.16666666666666,
          50.83333333333333,
          47.166666666666664,
          42,
          42.16666666666666,
          35.33333333333333,
          27.833333333333325,
          24.666666666666664,
          21.66666666666666,
          20.499999999999996,
          18,
          20.5,
          34,
          43.33333333333333,
          76,
          92.16666666666666,
          91.83333333333331,
          92.33333333333333,
          82.16666666666667,
          78.16666666666667,
          49.83333333333332,
          41.166666666666664,
          41.166666666666664,
          40.5,
          40.83333333333333,
          38,
          35.666666666666664,
          27.999999999999996,
          24.166666666666664,
          19.833333333333332,
          16.666666666666664,
          14.166666666666666,
          11.666666666666668,
          11.666666666666664,
          12.5,
          13.666666666666664,
          17.166666666666664,
          22.666666666666664,
          27.166666666666664,
          30.833333333333332,
          34.83333333333333,
          40.33333333333333,
          39.5,
          37.666666666666664,
          41.33333333333333,
          40.83333333333333,
          39.166666666666664,
          33.5,
          41.5,
          45.5,
          117.16666666666666,
          215.16666666666666,
          284.3333333333333,
          368.83333333333326,
          406.1666666666666,
          444.9999999999999,
          399.6666666666666,
          335.8333333333333,
          313.16666666666663,
          307.3333333333333,
          345.33333333333326,
          572.8333333333333,
          773.8333333333333,
          968.1666666666666,
          1078.8333333333333,
          1117.8333333333333,
          1121,
          940,
          790.1666666666667,
          630.5,
          533.8333333333333,
          482.66666666666663,
          457.99999999999994,
          422.4999999999999,
          390.49999999999994,
          370.99999999999994,
          336.99999999999994,
          286.16666666666663,
          230.33333333333334,
          189.5,
          147.83333333333334,
          104.83333333333331,
          90.33333333333331,
          109.16666666666666,
          134.5,
          142.33333333333331,
          158.66666666666666,
          180.16666666666663,
          188.49999999999997,
          176.33333333333331,
          163.83333333333334,
          216.83333333333331,
          347.3333333333333,
          431.8333333333333,
          499.16666666666663,
          596.3333333333333,
          663.6666666666666,
          665.1666666666666,
          564,
          488.8333333333333,
          429.16666666666663,
          329.1666666666667,
          250.99999999999997,
          186.33333333333331,
          141.5,
          117.5,
          127.99999999999999,
          138.33333333333331,
          158.83333333333331,
          191.83333333333331,
          220.5,
          227.83333333333331,
          212.33333333333334,
          203.66666666666669,
          200.16666666666669,
          174.16666666666666,
          155.16666666666666,
          147,
          138,
          138.33333333333331,
          130.16666666666666,
          128.16666666666666,
          121.83333333333331,
          114.83333333333333,
          101.66666666666666,
          81.83333333333333,
          67.5,
          50.833333333333336,
          39.666666666666664,
          32.33333333333333,
          35.5,
          44.33333333333333,
          46.16666666666666,
          53.16666666666666,
          60.66666666666666,
          76.83333333333331,
          84.16666666666666,
          91.83333333333333,
          96.66666666666667,
          96.83333333333334,
          95.16666666666667,
          88.33333333333333
         ]
        },
        {
         "line": {
          "color": "red",
          "width": 2
         },
         "mode": "lines",
         "name": "Anomaly Score",
         "type": "scatter",
         "x": [
          "2020-12-08T23:00:00",
          "2020-12-09T00:00:00",
          "2020-12-09T01:00:00",
          "2020-12-09T02:00:00",
          "2020-12-09T03:00:00",
          "2020-12-09T04:00:00",
          "2020-12-09T05:00:00",
          "2020-12-09T06:00:00",
          "2020-12-09T07:00:00",
          "2020-12-09T08:00:00",
          "2020-12-09T09:00:00",
          "2020-12-09T10:00:00",
          "2020-12-09T11:00:00",
          "2020-12-09T12:00:00",
          "2020-12-09T13:00:00",
          "2020-12-09T14:00:00",
          "2020-12-09T15:00:00",
          "2020-12-09T16:00:00",
          "2020-12-09T17:00:00",
          "2020-12-09T18:00:00",
          "2020-12-09T19:00:00",
          "2020-12-09T20:00:00",
          "2020-12-09T21:00:00",
          "2020-12-09T22:00:00",
          "2020-12-09T23:00:00",
          "2020-12-10T00:00:00",
          "2020-12-10T01:00:00",
          "2020-12-10T02:00:00",
          "2020-12-10T03:00:00",
          "2020-12-10T04:00:00",
          "2020-12-10T05:00:00",
          "2020-12-10T06:00:00",
          "2020-12-10T07:00:00",
          "2020-12-10T08:00:00",
          "2020-12-10T09:00:00",
          "2020-12-10T10:00:00",
          "2020-12-10T11:00:00",
          "2020-12-10T12:00:00",
          "2020-12-10T13:00:00",
          "2020-12-10T14:00:00",
          "2020-12-10T15:00:00",
          "2020-12-10T16:00:00",
          "2020-12-10T17:00:00",
          "2020-12-10T18:00:00",
          "2020-12-10T19:00:00",
          "2020-12-10T20:00:00",
          "2020-12-10T21:00:00",
          "2020-12-10T22:00:00",
          "2020-12-10T23:00:00",
          "2020-12-11T00:00:00",
          "2020-12-11T01:00:00",
          "2020-12-11T02:00:00",
          "2020-12-11T03:00:00",
          "2020-12-11T04:00:00",
          "2020-12-11T05:00:00",
          "2020-12-11T06:00:00",
          "2020-12-11T07:00:00",
          "2020-12-11T08:00:00",
          "2020-12-11T09:00:00",
          "2020-12-11T10:00:00",
          "2020-12-11T11:00:00",
          "2020-12-11T12:00:00",
          "2020-12-11T13:00:00",
          "2020-12-11T14:00:00",
          "2020-12-11T15:00:00",
          "2020-12-11T16:00:00",
          "2020-12-11T17:00:00",
          "2020-12-11T18:00:00",
          "2020-12-11T19:00:00",
          "2020-12-11T20:00:00",
          "2020-12-11T21:00:00",
          "2020-12-11T22:00:00",
          "2020-12-11T23:00:00",
          "2020-12-12T00:00:00",
          "2020-12-12T01:00:00",
          "2020-12-12T02:00:00",
          "2020-12-12T03:00:00",
          "2020-12-12T04:00:00",
          "2020-12-12T05:00:00",
          "2020-12-12T06:00:00",
          "2020-12-12T07:00:00",
          "2020-12-12T08:00:00",
          "2020-12-12T09:00:00",
          "2020-12-12T10:00:00",
          "2020-12-12T11:00:00",
          "2020-12-12T12:00:00",
          "2020-12-12T13:00:00",
          "2020-12-12T14:00:00",
          "2020-12-12T15:00:00",
          "2020-12-12T16:00:00",
          "2020-12-12T17:00:00",
          "2020-12-12T18:00:00",
          "2020-12-12T19:00:00",
          "2020-12-12T20:00:00",
          "2020-12-12T21:00:00",
          "2020-12-12T22:00:00",
          "2020-12-12T23:00:00",
          "2020-12-13T00:00:00",
          "2020-12-13T01:00:00",
          "2020-12-13T02:00:00",
          "2020-12-13T03:00:00",
          "2020-12-13T04:00:00",
          "2020-12-13T05:00:00",
          "2020-12-13T06:00:00",
          "2020-12-13T07:00:00",
          "2020-12-13T08:00:00",
          "2020-12-13T09:00:00",
          "2020-12-13T10:00:00",
          "2020-12-13T11:00:00",
          "2020-12-13T12:00:00",
          "2020-12-13T13:00:00",
          "2020-12-13T14:00:00",
          "2020-12-13T15:00:00",
          "2020-12-13T16:00:00",
          "2020-12-13T17:00:00",
          "2020-12-13T18:00:00",
          "2020-12-13T19:00:00",
          "2020-12-13T20:00:00",
          "2020-12-13T21:00:00",
          "2020-12-13T22:00:00",
          "2020-12-13T23:00:00",
          "2020-12-14T00:00:00",
          "2020-12-14T01:00:00",
          "2020-12-14T02:00:00",
          "2020-12-14T03:00:00",
          "2020-12-14T04:00:00",
          "2020-12-14T05:00:00",
          "2020-12-14T06:00:00",
          "2020-12-14T07:00:00",
          "2020-12-14T08:00:00",
          "2020-12-14T09:00:00",
          "2020-12-14T10:00:00",
          "2020-12-14T11:00:00",
          "2020-12-14T12:00:00",
          "2020-12-14T13:00:00",
          "2020-12-14T14:00:00",
          "2020-12-14T15:00:00",
          "2020-12-14T16:00:00",
          "2020-12-14T17:00:00",
          "2020-12-14T18:00:00",
          "2020-12-14T19:00:00",
          "2020-12-14T20:00:00",
          "2020-12-14T21:00:00",
          "2020-12-14T22:00:00",
          "2020-12-14T23:00:00",
          "2020-12-15T00:00:00",
          "2020-12-15T01:00:00",
          "2020-12-15T02:00:00",
          "2020-12-15T03:00:00",
          "2020-12-15T04:00:00",
          "2020-12-15T05:00:00",
          "2020-12-15T06:00:00",
          "2020-12-15T07:00:00",
          "2020-12-15T08:00:00",
          "2020-12-15T09:00:00",
          "2020-12-15T10:00:00",
          "2020-12-15T11:00:00",
          "2020-12-15T12:00:00",
          "2020-12-15T13:00:00",
          "2020-12-15T14:00:00",
          "2020-12-15T15:00:00",
          "2020-12-15T16:00:00",
          "2020-12-15T17:00:00",
          "2020-12-15T18:00:00",
          "2020-12-15T19:00:00",
          "2020-12-15T20:00:00",
          "2020-12-15T21:00:00",
          "2020-12-15T22:00:00",
          "2020-12-15T23:00:00",
          "2020-12-16T00:00:00"
         ],
         "xaxis": "x",
         "y": [
          0,
          0,
          0,
          0,
          1.4988955355767841,
          0,
          0,
          1.8054610638337356,
          0,
          0,
          0,
          0,
          0,
          0,
          0,
          0,
          0,
          0,
          0,
          0,
          0,
          0,
          0,
          0,
          0,
          0,
          0,
          0,
          0,
          0,
          0,
          0,
          0,
          0,
          0,
          0,
          0,
          0,
          0,
          0,
          0,
          0,
          0,
          0,
          0,
          0,
          0,
          0,
          0,
          0,
          0,
          0,
          0,
          0,
          0,
          0,
          0,
          -1.0296668512996527,
          0,
          0,
          -1.148000285154664,
          0,
          0,
          -1.1495157572707764,
          0,
          0,
          0,
          -1.0403894590722278,
          0,
          0,
          0,
          0,
          0,
          0,
          0,
          -1.0609106005501978,
          0,
          0,
          0,
          0,
          0,
          0,
          1.2360066135750216,
          0,
          0,
          0,
          0,
          0,
          0,
          1.8386792813714727,
          0,
          0,
          2.918339596996271,
          0,
          0,
          2.652799076918618,
          0,
          0,
          1.7436219194558142,
          0,
          0,
          1.3106471445084351,
          0,
          0,
          0,
          0,
          0,
          0,
          0,
          0,
          0,
          0,
          0,
          0,
          0,
          0,
          0,
          0,
          0,
          0,
          0,
          1.2662520816437626,
          0,
          0,
          2.02020943783208,
          0,
          0,
          1.5890817971194362,
          0,
          0,
          0,
          0,
          0,
          0,
          0,
          0,
          0,
          0,
          0,
          0,
          0,
          0,
          0,
          0,
          0,
          0,
          0,
          0,
          0,
          0,
          0,
          0,
          0,
          0,
          0,
          -1.104313284785965,
          0,
          0,
          -1.2133837960112643,
          0,
          0,
          -1.0108292002305814,
          0,
          0,
          0,
          0,
          0,
          0,
          0,
          0
         ],
         "yaxis": "y2"
        }
       ],
       "layout": {
        "height": 600,
        "shapes": [
         {
          "fillcolor": "#e07070",
          "line": {
           "width": 0
          },
          "opacity": 0.4,
          "type": "rect",
          "x0": "2020-12-09T03:00:00",
          "x1": "2020-12-09T04:00:00",
          "xref": "x",
          "y0": 0,
          "y1": 1,
          "yref": "y domain"
         },
         {
          "fillcolor": "#e07070",
          "line": {
           "width": 0
          },
          "opacity": 0.4,
          "type": "rect",
          "x0": "2020-12-09T06:00:00",
          "x1": "2020-12-09T07:00:00",
          "xref": "x",
          "y0": 0,
          "y1": 1,
          "yref": "y domain"
         },
         {
          "fillcolor": "#e07070",
          "line": {
           "width": 0
          },
          "opacity": 0.4,
          "type": "rect",
          "x0": "2020-12-11T08:00:00",
          "x1": "2020-12-11T09:00:00",
          "xref": "x",
          "y0": 0,
          "y1": 1,
          "yref": "y domain"
         },
         {
          "fillcolor": "#e07070",
          "line": {
           "width": 0
          },
          "opacity": 0.4,
          "type": "rect",
          "x0": "2020-12-11T11:00:00",
          "x1": "2020-12-11T12:00:00",
          "xref": "x",
          "y0": 0,
          "y1": 1,
          "yref": "y domain"
         },
         {
          "fillcolor": "#e07070",
          "line": {
           "width": 0
          },
          "opacity": 0.4,
          "type": "rect",
          "x0": "2020-12-11T14:00:00",
          "x1": "2020-12-11T15:00:00",
          "xref": "x",
          "y0": 0,
          "y1": 1,
          "yref": "y domain"
         },
         {
          "fillcolor": "#e07070",
          "line": {
           "width": 0
          },
          "opacity": 0.4,
          "type": "rect",
          "x0": "2020-12-11T18:00:00",
          "x1": "2020-12-11T19:00:00",
          "xref": "x",
          "y0": 0,
          "y1": 1,
          "yref": "y domain"
         },
         {
          "fillcolor": "#e07070",
          "line": {
           "width": 0
          },
          "opacity": 0.4,
          "type": "rect",
          "x0": "2020-12-12T02:00:00",
          "x1": "2020-12-12T03:00:00",
          "xref": "x",
          "y0": 0,
          "y1": 1,
          "yref": "y domain"
         },
         {
          "fillcolor": "#e07070",
          "line": {
           "width": 0
          },
          "opacity": 0.4,
          "type": "rect",
          "x0": "2020-12-12T09:00:00",
          "x1": "2020-12-12T10:00:00",
          "xref": "x",
          "y0": 0,
          "y1": 1,
          "yref": "y domain"
         },
         {
          "fillcolor": "#e07070",
          "line": {
           "width": 0
          },
          "opacity": 0.4,
          "type": "rect",
          "x0": "2020-12-12T16:00:00",
          "x1": "2020-12-12T17:00:00",
          "xref": "x",
          "y0": 0,
          "y1": 1,
          "yref": "y domain"
         },
         {
          "fillcolor": "#e07070",
          "line": {
           "width": 0
          },
          "opacity": 0.4,
          "type": "rect",
          "x0": "2020-12-12T19:00:00",
          "x1": "2020-12-12T20:00:00",
          "xref": "x",
          "y0": 0,
          "y1": 1,
          "yref": "y domain"
         },
         {
          "fillcolor": "#e07070",
          "line": {
           "width": 0
          },
          "opacity": 0.4,
          "type": "rect",
          "x0": "2020-12-12T22:00:00",
          "x1": "2020-12-12T23:00:00",
          "xref": "x",
          "y0": 0,
          "y1": 1,
          "yref": "y domain"
         },
         {
          "fillcolor": "#e07070",
          "line": {
           "width": 0
          },
          "opacity": 0.4,
          "type": "rect",
          "x0": "2020-12-13T01:00:00",
          "x1": "2020-12-13T02:00:00",
          "xref": "x",
          "y0": 0,
          "y1": 1,
          "yref": "y domain"
         },
         {
          "fillcolor": "#e07070",
          "line": {
           "width": 0
          },
          "opacity": 0.4,
          "type": "rect",
          "x0": "2020-12-13T04:00:00",
          "x1": "2020-12-13T05:00:00",
          "xref": "x",
          "y0": 0,
          "y1": 1,
          "yref": "y domain"
         },
         {
          "fillcolor": "#e07070",
          "line": {
           "width": 0
          },
          "opacity": 0.4,
          "type": "rect",
          "x0": "2020-12-14T00:00:00",
          "x1": "2020-12-14T01:00:00",
          "xref": "x",
          "y0": 0,
          "y1": 1,
          "yref": "y domain"
         },
         {
          "fillcolor": "#e07070",
          "line": {
           "width": 0
          },
          "opacity": 0.4,
          "type": "rect",
          "x0": "2020-12-14T03:00:00",
          "x1": "2020-12-14T04:00:00",
          "xref": "x",
          "y0": 0,
          "y1": 1,
          "yref": "y domain"
         },
         {
          "fillcolor": "#e07070",
          "line": {
           "width": 0
          },
          "opacity": 0.4,
          "type": "rect",
          "x0": "2020-12-14T06:00:00",
          "x1": "2020-12-14T07:00:00",
          "xref": "x",
          "y0": 0,
          "y1": 1,
          "yref": "y domain"
         },
         {
          "fillcolor": "#e07070",
          "line": {
           "width": 0
          },
          "opacity": 0.4,
          "type": "rect",
          "x0": "2020-12-15T10:00:00",
          "x1": "2020-12-15T11:00:00",
          "xref": "x",
          "y0": 0,
          "y1": 1,
          "yref": "y domain"
         },
         {
          "fillcolor": "#e07070",
          "line": {
           "width": 0
          },
          "opacity": 0.4,
          "type": "rect",
          "x0": "2020-12-15T13:00:00",
          "x1": "2020-12-15T14:00:00",
          "xref": "x",
          "y0": 0,
          "y1": 1,
          "yref": "y domain"
         },
         {
          "fillcolor": "#e07070",
          "line": {
           "width": 0
          },
          "opacity": 0.4,
          "type": "rect",
          "x0": "2020-12-15T16:00:00",
          "x1": "2020-12-15T17:00:00",
          "xref": "x",
          "y0": 0,
          "y1": 1,
          "yref": "y domain"
         }
        ],
        "showlegend": true,
        "template": {
         "data": {
          "bar": [
           {
            "error_x": {
             "color": "#2a3f5f"
            },
            "error_y": {
             "color": "#2a3f5f"
            },
            "marker": {
             "line": {
              "color": "#E5ECF6",
              "width": 0.5
             },
             "pattern": {
              "fillmode": "overlay",
              "size": 10,
              "solidity": 0.2
             }
            },
            "type": "bar"
           }
          ],
          "barpolar": [
           {
            "marker": {
             "line": {
              "color": "#E5ECF6",
              "width": 0.5
             },
             "pattern": {
              "fillmode": "overlay",
              "size": 10,
              "solidity": 0.2
             }
            },
            "type": "barpolar"
           }
          ],
          "carpet": [
           {
            "aaxis": {
             "endlinecolor": "#2a3f5f",
             "gridcolor": "white",
             "linecolor": "white",
             "minorgridcolor": "white",
             "startlinecolor": "#2a3f5f"
            },
            "baxis": {
             "endlinecolor": "#2a3f5f",
             "gridcolor": "white",
             "linecolor": "white",
             "minorgridcolor": "white",
             "startlinecolor": "#2a3f5f"
            },
            "type": "carpet"
           }
          ],
          "choropleth": [
           {
            "colorbar": {
             "outlinewidth": 0,
             "ticks": ""
            },
            "type": "choropleth"
           }
          ],
          "contour": [
           {
            "colorbar": {
             "outlinewidth": 0,
             "ticks": ""
            },
            "colorscale": [
             [
              0,
              "#0d0887"
             ],
             [
              0.1111111111111111,
              "#46039f"
             ],
             [
              0.2222222222222222,
              "#7201a8"
             ],
             [
              0.3333333333333333,
              "#9c179e"
             ],
             [
              0.4444444444444444,
              "#bd3786"
             ],
             [
              0.5555555555555556,
              "#d8576b"
             ],
             [
              0.6666666666666666,
              "#ed7953"
             ],
             [
              0.7777777777777778,
              "#fb9f3a"
             ],
             [
              0.8888888888888888,
              "#fdca26"
             ],
             [
              1,
              "#f0f921"
             ]
            ],
            "type": "contour"
           }
          ],
          "contourcarpet": [
           {
            "colorbar": {
             "outlinewidth": 0,
             "ticks": ""
            },
            "type": "contourcarpet"
           }
          ],
          "heatmap": [
           {
            "colorbar": {
             "outlinewidth": 0,
             "ticks": ""
            },
            "colorscale": [
             [
              0,
              "#0d0887"
             ],
             [
              0.1111111111111111,
              "#46039f"
             ],
             [
              0.2222222222222222,
              "#7201a8"
             ],
             [
              0.3333333333333333,
              "#9c179e"
             ],
             [
              0.4444444444444444,
              "#bd3786"
             ],
             [
              0.5555555555555556,
              "#d8576b"
             ],
             [
              0.6666666666666666,
              "#ed7953"
             ],
             [
              0.7777777777777778,
              "#fb9f3a"
             ],
             [
              0.8888888888888888,
              "#fdca26"
             ],
             [
              1,
              "#f0f921"
             ]
            ],
            "type": "heatmap"
           }
          ],
          "heatmapgl": [
           {
            "colorbar": {
             "outlinewidth": 0,
             "ticks": ""
            },
            "colorscale": [
             [
              0,
              "#0d0887"
             ],
             [
              0.1111111111111111,
              "#46039f"
             ],
             [
              0.2222222222222222,
              "#7201a8"
             ],
             [
              0.3333333333333333,
              "#9c179e"
             ],
             [
              0.4444444444444444,
              "#bd3786"
             ],
             [
              0.5555555555555556,
              "#d8576b"
             ],
             [
              0.6666666666666666,
              "#ed7953"
             ],
             [
              0.7777777777777778,
              "#fb9f3a"
             ],
             [
              0.8888888888888888,
              "#fdca26"
             ],
             [
              1,
              "#f0f921"
             ]
            ],
            "type": "heatmapgl"
           }
          ],
          "histogram": [
           {
            "marker": {
             "pattern": {
              "fillmode": "overlay",
              "size": 10,
              "solidity": 0.2
             }
            },
            "type": "histogram"
           }
          ],
          "histogram2d": [
           {
            "colorbar": {
             "outlinewidth": 0,
             "ticks": ""
            },
            "colorscale": [
             [
              0,
              "#0d0887"
             ],
             [
              0.1111111111111111,
              "#46039f"
             ],
             [
              0.2222222222222222,
              "#7201a8"
             ],
             [
              0.3333333333333333,
              "#9c179e"
             ],
             [
              0.4444444444444444,
              "#bd3786"
             ],
             [
              0.5555555555555556,
              "#d8576b"
             ],
             [
              0.6666666666666666,
              "#ed7953"
             ],
             [
              0.7777777777777778,
              "#fb9f3a"
             ],
             [
              0.8888888888888888,
              "#fdca26"
             ],
             [
              1,
              "#f0f921"
             ]
            ],
            "type": "histogram2d"
           }
          ],
          "histogram2dcontour": [
           {
            "colorbar": {
             "outlinewidth": 0,
             "ticks": ""
            },
            "colorscale": [
             [
              0,
              "#0d0887"
             ],
             [
              0.1111111111111111,
              "#46039f"
             ],
             [
              0.2222222222222222,
              "#7201a8"
             ],
             [
              0.3333333333333333,
              "#9c179e"
             ],
             [
              0.4444444444444444,
              "#bd3786"
             ],
             [
              0.5555555555555556,
              "#d8576b"
             ],
             [
              0.6666666666666666,
              "#ed7953"
             ],
             [
              0.7777777777777778,
              "#fb9f3a"
             ],
             [
              0.8888888888888888,
              "#fdca26"
             ],
             [
              1,
              "#f0f921"
             ]
            ],
            "type": "histogram2dcontour"
           }
          ],
          "mesh3d": [
           {
            "colorbar": {
             "outlinewidth": 0,
             "ticks": ""
            },
            "type": "mesh3d"
           }
          ],
          "parcoords": [
           {
            "line": {
             "colorbar": {
              "outlinewidth": 0,
              "ticks": ""
             }
            },
            "type": "parcoords"
           }
          ],
          "pie": [
           {
            "automargin": true,
            "type": "pie"
           }
          ],
          "scatter": [
           {
            "marker": {
             "colorbar": {
              "outlinewidth": 0,
              "ticks": ""
             }
            },
            "type": "scatter"
           }
          ],
          "scatter3d": [
           {
            "line": {
             "colorbar": {
              "outlinewidth": 0,
              "ticks": ""
             }
            },
            "marker": {
             "colorbar": {
              "outlinewidth": 0,
              "ticks": ""
             }
            },
            "type": "scatter3d"
           }
          ],
          "scattercarpet": [
           {
            "marker": {
             "colorbar": {
              "outlinewidth": 0,
              "ticks": ""
             }
            },
            "type": "scattercarpet"
           }
          ],
          "scattergeo": [
           {
            "marker": {
             "colorbar": {
              "outlinewidth": 0,
              "ticks": ""
             }
            },
            "type": "scattergeo"
           }
          ],
          "scattergl": [
           {
            "marker": {
             "colorbar": {
              "outlinewidth": 0,
              "ticks": ""
             }
            },
            "type": "scattergl"
           }
          ],
          "scattermapbox": [
           {
            "marker": {
             "colorbar": {
              "outlinewidth": 0,
              "ticks": ""
             }
            },
            "type": "scattermapbox"
           }
          ],
          "scatterpolar": [
           {
            "marker": {
             "colorbar": {
              "outlinewidth": 0,
              "ticks": ""
             }
            },
            "type": "scatterpolar"
           }
          ],
          "scatterpolargl": [
           {
            "marker": {
             "colorbar": {
              "outlinewidth": 0,
              "ticks": ""
             }
            },
            "type": "scatterpolargl"
           }
          ],
          "scatterternary": [
           {
            "marker": {
             "colorbar": {
              "outlinewidth": 0,
              "ticks": ""
             }
            },
            "type": "scatterternary"
           }
          ],
          "surface": [
           {
            "colorbar": {
             "outlinewidth": 0,
             "ticks": ""
            },
            "colorscale": [
             [
              0,
              "#0d0887"
             ],
             [
              0.1111111111111111,
              "#46039f"
             ],
             [
              0.2222222222222222,
              "#7201a8"
             ],
             [
              0.3333333333333333,
              "#9c179e"
             ],
             [
              0.4444444444444444,
              "#bd3786"
             ],
             [
              0.5555555555555556,
              "#d8576b"
             ],
             [
              0.6666666666666666,
              "#ed7953"
             ],
             [
              0.7777777777777778,
              "#fb9f3a"
             ],
             [
              0.8888888888888888,
              "#fdca26"
             ],
             [
              1,
              "#f0f921"
             ]
            ],
            "type": "surface"
           }
          ],
          "table": [
           {
            "cells": {
             "fill": {
              "color": "#EBF0F8"
             },
             "line": {
              "color": "white"
             }
            },
            "header": {
             "fill": {
              "color": "#C8D4E3"
             },
             "line": {
              "color": "white"
             }
            },
            "type": "table"
           }
          ]
         },
         "layout": {
          "annotationdefaults": {
           "arrowcolor": "#2a3f5f",
           "arrowhead": 0,
           "arrowwidth": 1
          },
          "autotypenumbers": "strict",
          "coloraxis": {
           "colorbar": {
            "outlinewidth": 0,
            "ticks": ""
           }
          },
          "colorscale": {
           "diverging": [
            [
             0,
             "#8e0152"
            ],
            [
             0.1,
             "#c51b7d"
            ],
            [
             0.2,
             "#de77ae"
            ],
            [
             0.3,
             "#f1b6da"
            ],
            [
             0.4,
             "#fde0ef"
            ],
            [
             0.5,
             "#f7f7f7"
            ],
            [
             0.6,
             "#e6f5d0"
            ],
            [
             0.7,
             "#b8e186"
            ],
            [
             0.8,
             "#7fbc41"
            ],
            [
             0.9,
             "#4d9221"
            ],
            [
             1,
             "#276419"
            ]
           ],
           "sequential": [
            [
             0,
             "#0d0887"
            ],
            [
             0.1111111111111111,
             "#46039f"
            ],
            [
             0.2222222222222222,
             "#7201a8"
            ],
            [
             0.3333333333333333,
             "#9c179e"
            ],
            [
             0.4444444444444444,
             "#bd3786"
            ],
            [
             0.5555555555555556,
             "#d8576b"
            ],
            [
             0.6666666666666666,
             "#ed7953"
            ],
            [
             0.7777777777777778,
             "#fb9f3a"
            ],
            [
             0.8888888888888888,
             "#fdca26"
            ],
            [
             1,
             "#f0f921"
            ]
           ],
           "sequentialminus": [
            [
             0,
             "#0d0887"
            ],
            [
             0.1111111111111111,
             "#46039f"
            ],
            [
             0.2222222222222222,
             "#7201a8"
            ],
            [
             0.3333333333333333,
             "#9c179e"
            ],
            [
             0.4444444444444444,
             "#bd3786"
            ],
            [
             0.5555555555555556,
             "#d8576b"
            ],
            [
             0.6666666666666666,
             "#ed7953"
            ],
            [
             0.7777777777777778,
             "#fb9f3a"
            ],
            [
             0.8888888888888888,
             "#fdca26"
            ],
            [
             1,
             "#f0f921"
            ]
           ]
          },
          "colorway": [
           "#636efa",
           "#EF553B",
           "#00cc96",
           "#ab63fa",
           "#FFA15A",
           "#19d3f3",
           "#FF6692",
           "#B6E880",
           "#FF97FF",
           "#FECB52"
          ],
          "font": {
           "color": "#2a3f5f"
          },
          "geo": {
           "bgcolor": "white",
           "lakecolor": "white",
           "landcolor": "#E5ECF6",
           "showlakes": true,
           "showland": true,
           "subunitcolor": "white"
          },
          "hoverlabel": {
           "align": "left"
          },
          "hovermode": "closest",
          "mapbox": {
           "style": "light"
          },
          "paper_bgcolor": "white",
          "plot_bgcolor": "#E5ECF6",
          "polar": {
           "angularaxis": {
            "gridcolor": "white",
            "linecolor": "white",
            "ticks": ""
           },
           "bgcolor": "#E5ECF6",
           "radialaxis": {
            "gridcolor": "white",
            "linecolor": "white",
            "ticks": ""
           }
          },
          "scene": {
           "xaxis": {
            "backgroundcolor": "#E5ECF6",
            "gridcolor": "white",
            "gridwidth": 2,
            "linecolor": "white",
            "showbackground": true,
            "ticks": "",
            "zerolinecolor": "white"
           },
           "yaxis": {
            "backgroundcolor": "#E5ECF6",
            "gridcolor": "white",
            "gridwidth": 2,
            "linecolor": "white",
            "showbackground": true,
            "ticks": "",
            "zerolinecolor": "white"
           },
           "zaxis": {
            "backgroundcolor": "#E5ECF6",
            "gridcolor": "white",
            "gridwidth": 2,
            "linecolor": "white",
            "showbackground": true,
            "ticks": "",
            "zerolinecolor": "white"
           }
          },
          "shapedefaults": {
           "line": {
            "color": "#2a3f5f"
           }
          },
          "ternary": {
           "aaxis": {
            "gridcolor": "white",
            "linecolor": "white",
            "ticks": ""
           },
           "baxis": {
            "gridcolor": "white",
            "linecolor": "white",
            "ticks": ""
           },
           "bgcolor": "#E5ECF6",
           "caxis": {
            "gridcolor": "white",
            "linecolor": "white",
            "ticks": ""
           }
          },
          "title": {
           "x": 0.05
          },
          "xaxis": {
           "automargin": true,
           "gridcolor": "white",
           "linecolor": "white",
           "ticks": "",
           "title": {
            "standoff": 15
           },
           "zerolinecolor": "white",
           "zerolinewidth": 2
          },
          "yaxis": {
           "automargin": true,
           "gridcolor": "white",
           "linecolor": "white",
           "ticks": "",
           "title": {
            "standoff": 15
           },
           "zerolinecolor": "white",
           "zerolinewidth": 2
          }
         }
        },
        "title": {
         "text": "ProphetDetector: Anomalies in total_count (Forecast Overlaid)"
        },
        "width": 1000,
        "xaxis": {
         "anchor": "y",
         "domain": [
          0,
          0.94
         ],
         "rangeselector": {
          "buttons": [
           {
            "count": 7,
            "label": "1w",
            "step": "day",
            "stepmode": "backward"
           },
           {
            "count": 1,
            "label": "1m",
            "step": "month",
            "stepmode": "backward"
           },
           {
            "count": 6,
            "label": "6m",
            "step": "month",
            "stepmode": "backward"
           },
           {
            "count": 1,
            "label": "1y",
            "step": "year",
            "stepmode": "backward"
           },
           {
            "step": "all"
           }
          ]
         },
         "rangeslider": {
          "visible": true
         },
         "title": {
          "text": "Time"
         },
         "type": "date"
        },
        "yaxis": {
         "anchor": "x",
         "domain": [
          0,
          1
         ],
         "title": {
          "text": "total_count"
         }
        },
        "yaxis2": {
         "anchor": "x",
         "overlaying": "y",
         "range": [
          -1.7298492201372062,
          11.18178638301134
         ],
         "side": "right",
         "title": {
          "text": "Anomaly Score"
         }
        }
       }
      }
     },
     "metadata": {}
    },
    {
     "output_type": "stream",
     "name": "stdout",
     "text": [
      "Initial log joint probability = -8.83585\n",
      "    Iter      log prob        ||dx||      ||grad||       alpha      alpha0  # evals  Notes \n",
      "      99       169.586   0.000118594       64.9917           1           1      129   \n",
      "    Iter      log prob        ||dx||      ||grad||       alpha      alpha0  # evals  Notes \n",
      "     162       170.235    0.00040976       92.3991   5.676e-06       0.001      250  LS failed, Hessian reset \n",
      "     199       170.402   1.06447e-06        84.413      0.6463      0.6463      298   \n",
      "    Iter      log prob        ||dx||      ||grad||       alpha      alpha0  # evals  Notes \n",
      "     241       170.402   4.85562e-09       61.1014      0.2677           1      358   \n",
      "Optimization terminated normally: \n",
      "  Convergence detected: absolute parameter change was below tolerance\n"
     ]
    },
    {
     "output_type": "display_data",
     "data": {
      "application/vnd.plotly.v1+json": {
       "config": {
        "plotlyServerURL": "https://plot.ly"
       },
       "data": [
        {
         "hoverinfo": "skip",
         "line": {
          "width": 0
         },
         "mode": "lines",
         "showlegend": false,
         "type": "scatter",
         "x": [
          "2020-12-08T23:00:00",
          "2020-12-09T00:00:00",
          "2020-12-09T01:00:00",
          "2020-12-09T02:00:00",
          "2020-12-09T03:00:00",
          "2020-12-09T04:00:00",
          "2020-12-09T05:00:00",
          "2020-12-09T06:00:00",
          "2020-12-09T07:00:00",
          "2020-12-09T08:00:00",
          "2020-12-09T09:00:00",
          "2020-12-09T10:00:00",
          "2020-12-09T11:00:00",
          "2020-12-09T12:00:00",
          "2020-12-09T13:00:00",
          "2020-12-09T14:00:00",
          "2020-12-09T15:00:00",
          "2020-12-09T16:00:00",
          "2020-12-09T17:00:00",
          "2020-12-09T18:00:00",
          "2020-12-09T19:00:00",
          "2020-12-09T20:00:00",
          "2020-12-09T21:00:00",
          "2020-12-09T22:00:00",
          "2020-12-09T23:00:00",
          "2020-12-10T00:00:00",
          "2020-12-10T01:00:00",
          "2020-12-10T02:00:00",
          "2020-12-10T03:00:00",
          "2020-12-10T04:00:00",
          "2020-12-10T05:00:00",
          "2020-12-10T06:00:00",
          "2020-12-10T07:00:00",
          "2020-12-10T08:00:00",
          "2020-12-10T09:00:00",
          "2020-12-10T10:00:00",
          "2020-12-10T11:00:00",
          "2020-12-10T12:00:00",
          "2020-12-10T13:00:00",
          "2020-12-10T14:00:00",
          "2020-12-10T15:00:00",
          "2020-12-10T16:00:00",
          "2020-12-10T17:00:00",
          "2020-12-10T18:00:00",
          "2020-12-10T19:00:00",
          "2020-12-10T20:00:00",
          "2020-12-10T21:00:00",
          "2020-12-10T22:00:00",
          "2020-12-10T23:00:00",
          "2020-12-11T00:00:00",
          "2020-12-11T01:00:00",
          "2020-12-11T02:00:00",
          "2020-12-11T03:00:00",
          "2020-12-11T04:00:00",
          "2020-12-11T05:00:00",
          "2020-12-11T06:00:00",
          "2020-12-11T07:00:00",
          "2020-12-11T08:00:00",
          "2020-12-11T09:00:00",
          "2020-12-11T10:00:00",
          "2020-12-11T11:00:00",
          "2020-12-11T12:00:00",
          "2020-12-11T13:00:00",
          "2020-12-11T14:00:00",
          "2020-12-11T15:00:00",
          "2020-12-11T16:00:00",
          "2020-12-11T17:00:00",
          "2020-12-11T18:00:00",
          "2020-12-11T19:00:00",
          "2020-12-11T20:00:00",
          "2020-12-11T21:00:00",
          "2020-12-11T22:00:00",
          "2020-12-11T23:00:00",
          "2020-12-12T00:00:00",
          "2020-12-12T01:00:00",
          "2020-12-12T02:00:00",
          "2020-12-12T03:00:00",
          "2020-12-12T04:00:00",
          "2020-12-12T05:00:00",
          "2020-12-12T06:00:00",
          "2020-12-12T07:00:00",
          "2020-12-12T08:00:00",
          "2020-12-12T09:00:00",
          "2020-12-12T10:00:00",
          "2020-12-12T11:00:00",
          "2020-12-12T12:00:00",
          "2020-12-12T13:00:00",
          "2020-12-12T14:00:00",
          "2020-12-12T15:00:00",
          "2020-12-12T16:00:00",
          "2020-12-12T17:00:00",
          "2020-12-12T18:00:00",
          "2020-12-12T19:00:00",
          "2020-12-12T20:00:00",
          "2020-12-12T21:00:00",
          "2020-12-12T22:00:00",
          "2020-12-12T23:00:00",
          "2020-12-13T00:00:00",
          "2020-12-13T01:00:00",
          "2020-12-13T02:00:00",
          "2020-12-13T03:00:00",
          "2020-12-13T04:00:00",
          "2020-12-13T05:00:00",
          "2020-12-13T06:00:00",
          "2020-12-13T07:00:00",
          "2020-12-13T08:00:00",
          "2020-12-13T09:00:00",
          "2020-12-13T10:00:00",
          "2020-12-13T11:00:00",
          "2020-12-13T12:00:00",
          "2020-12-13T13:00:00",
          "2020-12-13T14:00:00",
          "2020-12-13T15:00:00",
          "2020-12-13T16:00:00",
          "2020-12-13T17:00:00",
          "2020-12-13T18:00:00",
          "2020-12-13T19:00:00",
          "2020-12-13T20:00:00",
          "2020-12-13T21:00:00",
          "2020-12-13T22:00:00",
          "2020-12-13T23:00:00",
          "2020-12-14T00:00:00",
          "2020-12-14T01:00:00",
          "2020-12-14T02:00:00",
          "2020-12-14T03:00:00",
          "2020-12-14T04:00:00",
          "2020-12-14T05:00:00",
          "2020-12-14T06:00:00",
          "2020-12-14T07:00:00",
          "2020-12-14T08:00:00",
          "2020-12-14T09:00:00",
          "2020-12-14T10:00:00",
          "2020-12-14T11:00:00",
          "2020-12-14T12:00:00",
          "2020-12-14T13:00:00",
          "2020-12-14T14:00:00",
          "2020-12-14T15:00:00",
          "2020-12-14T16:00:00",
          "2020-12-14T17:00:00",
          "2020-12-14T18:00:00",
          "2020-12-14T19:00:00",
          "2020-12-14T20:00:00",
          "2020-12-14T21:00:00",
          "2020-12-14T22:00:00",
          "2020-12-14T23:00:00",
          "2020-12-15T00:00:00",
          "2020-12-15T01:00:00",
          "2020-12-15T02:00:00",
          "2020-12-15T03:00:00",
          "2020-12-15T04:00:00",
          "2020-12-15T05:00:00",
          "2020-12-15T06:00:00",
          "2020-12-15T07:00:00",
          "2020-12-15T08:00:00",
          "2020-12-15T09:00:00",
          "2020-12-15T10:00:00",
          "2020-12-15T11:00:00",
          "2020-12-15T12:00:00",
          "2020-12-15T13:00:00",
          "2020-12-15T14:00:00",
          "2020-12-15T15:00:00",
          "2020-12-15T16:00:00",
          "2020-12-15T17:00:00",
          "2020-12-15T18:00:00",
          "2020-12-15T19:00:00",
          "2020-12-15T20:00:00",
          "2020-12-15T21:00:00",
          "2020-12-15T22:00:00",
          "2020-12-15T23:00:00",
          "2020-12-16T00:00:00"
         ],
         "y": [
          1.0533136205413283,
          0.9552260686056575,
          0.98247341874634,
          1.020470401900392,
          1.0720763634397708,
          1.1322155248876218,
          1.0551178030033848,
          1.2655310002016282,
          1.256651494975763,
          1.2369398457944447,
          1.3546614711556852,
          1.3350601976266465,
          1.521319849209979,
          1.4483960683887944,
          1.5416980375073728,
          1.6407770260851904,
          1.423223087466866,
          1.7164762367514985,
          1.6680719904508605,
          1.690694106505648,
          1.7484460276219784,
          1.8846632970915604,
          1.7942357265481448,
          1.8709644459258117,
          1.810594578746053,
          1.8253541167381289,
          1.941105608546732,
          1.9684850365259186,
          1.887873197311142,
          2.198339120092304,
          1.9500092665742885,
          2.0558879829968473,
          2.089658462023035,
          2.0469019502463097,
          2.339044471393816,
          2.2463149338940838,
          2.3028676161783665,
          2.281533287562062,
          2.216270237606957,
          2.3301038368367877,
          2.319611854736346,
          2.424498405819282,
          2.4945994235452202,
          2.551170080999171,
          2.6592528891086964,
          2.5328052200429187,
          2.623010131463854,
          2.7110443361875274,
          2.8497411202120504,
          2.670819702865109,
          2.83250902002364,
          2.6758060868983824,
          2.8965034202553603,
          2.8891361100758766,
          3.022839850679446,
          3.069985080218565,
          3.055065018472429,
          2.9830350420526344,
          2.982017479524173,
          3.1093345662511003,
          3.1557739953620016,
          3.145070175225582,
          3.1069383738768597,
          3.163565668843005,
          3.256479546180012,
          3.421867338627478,
          3.419261752701626,
          3.248433246417754,
          3.3028816370129257,
          3.389940701954952,
          3.5123252421292426,
          3.526155759653948,
          3.459303098190449,
          3.6145445667605713,
          3.5516872573060945,
          3.5571340059470273,
          3.771830927061929,
          3.853189527157892,
          3.7802966400630305,
          3.741674497707211,
          3.684561716933312,
          3.997762763068171,
          3.8446407855229796,
          3.788207017714713,
          3.9596488773754777,
          4.03516642347534,
          4.13875086127213,
          4.018631044074558,
          4.077982442972808,
          4.105487290279839,
          4.265423230430534,
          4.015215657162498,
          4.193427266539762,
          4.1732100414389715,
          4.276309226373799,
          4.313313863656717,
          4.19280284757027,
          4.197361728988602,
          4.156079234852552,
          4.3178431169360945,
          4.402027360344597,
          4.2204163556893715,
          4.2239528027095,
          4.573326055856043,
          4.397204502591187,
          4.304318300668147,
          4.332113705039649,
          4.275626944452071,
          4.357710934369456,
          4.281241469310862,
          4.468365035247573,
          4.330072178634024,
          4.3701988848286675,
          4.07199361552129,
          4.440815355740338,
          4.310606435335176,
          4.231304016292283,
          4.219753843654171,
          4.254704537952875,
          4.124158437950008,
          4.181564166677096,
          3.99236787912102,
          4.039073409726382,
          4.135698363878512,
          4.168833656051275,
          4.132248321859589,
          4.043002657249132,
          4.2328964597877174,
          4.032279465164128,
          4.06536715594927,
          4.05159638455828,
          4.00362266198491,
          3.9828052719720413,
          4.023685189044354,
          4.01829200541939,
          3.6555980451269017,
          3.939510571658778,
          3.872257230497497,
          3.9262940926913146,
          4.04015323113878,
          3.9336469504678493,
          3.9563886982481393,
          3.762123960401791,
          3.6587984932973416,
          3.745766094259747,
          3.712117874979429,
          3.705445039991557,
          3.732830533416549,
          3.685511765289333,
          3.5662241515118,
          3.671199412076393,
          3.7438254102383888,
          3.696502294209801,
          3.5840948092445624,
          3.7049760724186385,
          3.7175014728356564,
          3.8124545940264083,
          3.7271779309032715,
          3.655125130125172,
          3.5452214763316885,
          3.544101213594902,
          3.4181004085617497,
          3.4239810542384603,
          3.545733023332187,
          3.4934520138611704,
          3.5254449928023437,
          3.350574001091327,
          3.36178788682993,
          3.507406230217957,
          3.4814413967990245
         ]
        },
        {
         "fill": "tonexty",
         "fillcolor": "rgba(0, 114, 178, 0.2)",
         "line": {
          "color": "#0072B2",
          "width": 2
         },
         "mode": "lines",
         "name": "Forecast",
         "type": "scatter",
         "x": [
          "2020-12-08T23:00:00",
          "2020-12-09T00:00:00",
          "2020-12-09T01:00:00",
          "2020-12-09T02:00:00",
          "2020-12-09T03:00:00",
          "2020-12-09T04:00:00",
          "2020-12-09T05:00:00",
          "2020-12-09T06:00:00",
          "2020-12-09T07:00:00",
          "2020-12-09T08:00:00",
          "2020-12-09T09:00:00",
          "2020-12-09T10:00:00",
          "2020-12-09T11:00:00",
          "2020-12-09T12:00:00",
          "2020-12-09T13:00:00",
          "2020-12-09T14:00:00",
          "2020-12-09T15:00:00",
          "2020-12-09T16:00:00",
          "2020-12-09T17:00:00",
          "2020-12-09T18:00:00",
          "2020-12-09T19:00:00",
          "2020-12-09T20:00:00",
          "2020-12-09T21:00:00",
          "2020-12-09T22:00:00",
          "2020-12-09T23:00:00",
          "2020-12-10T00:00:00",
          "2020-12-10T01:00:00",
          "2020-12-10T02:00:00",
          "2020-12-10T03:00:00",
          "2020-12-10T04:00:00",
          "2020-12-10T05:00:00",
          "2020-12-10T06:00:00",
          "2020-12-10T07:00:00",
          "2020-12-10T08:00:00",
          "2020-12-10T09:00:00",
          "2020-12-10T10:00:00",
          "2020-12-10T11:00:00",
          "2020-12-10T12:00:00",
          "2020-12-10T13:00:00",
          "2020-12-10T14:00:00",
          "2020-12-10T15:00:00",
          "2020-12-10T16:00:00",
          "2020-12-10T17:00:00",
          "2020-12-10T18:00:00",
          "2020-12-10T19:00:00",
          "2020-12-10T20:00:00",
          "2020-12-10T21:00:00",
          "2020-12-10T22:00:00",
          "2020-12-10T23:00:00",
          "2020-12-11T00:00:00",
          "2020-12-11T01:00:00",
          "2020-12-11T02:00:00",
          "2020-12-11T03:00:00",
          "2020-12-11T04:00:00",
          "2020-12-11T05:00:00",
          "2020-12-11T06:00:00",
          "2020-12-11T07:00:00",
          "2020-12-11T08:00:00",
          "2020-12-11T09:00:00",
          "2020-12-11T10:00:00",
          "2020-12-11T11:00:00",
          "2020-12-11T12:00:00",
          "2020-12-11T13:00:00",
          "2020-12-11T14:00:00",
          "2020-12-11T15:00:00",
          "2020-12-11T16:00:00",
          "2020-12-11T17:00:00",
          "2020-12-11T18:00:00",
          "2020-12-11T19:00:00",
          "2020-12-11T20:00:00",
          "2020-12-11T21:00:00",
          "2020-12-11T22:00:00",
          "2020-12-11T23:00:00",
          "2020-12-12T00:00:00",
          "2020-12-12T01:00:00",
          "2020-12-12T02:00:00",
          "2020-12-12T03:00:00",
          "2020-12-12T04:00:00",
          "2020-12-12T05:00:00",
          "2020-12-12T06:00:00",
          "2020-12-12T07:00:00",
          "2020-12-12T08:00:00",
          "2020-12-12T09:00:00",
          "2020-12-12T10:00:00",
          "2020-12-12T11:00:00",
          "2020-12-12T12:00:00",
          "2020-12-12T13:00:00",
          "2020-12-12T14:00:00",
          "2020-12-12T15:00:00",
          "2020-12-12T16:00:00",
          "2020-12-12T17:00:00",
          "2020-12-12T18:00:00",
          "2020-12-12T19:00:00",
          "2020-12-12T20:00:00",
          "2020-12-12T21:00:00",
          "2020-12-12T22:00:00",
          "2020-12-12T23:00:00",
          "2020-12-13T00:00:00",
          "2020-12-13T01:00:00",
          "2020-12-13T02:00:00",
          "2020-12-13T03:00:00",
          "2020-12-13T04:00:00",
          "2020-12-13T05:00:00",
          "2020-12-13T06:00:00",
          "2020-12-13T07:00:00",
          "2020-12-13T08:00:00",
          "2020-12-13T09:00:00",
          "2020-12-13T10:00:00",
          "2020-12-13T11:00:00",
          "2020-12-13T12:00:00",
          "2020-12-13T13:00:00",
          "2020-12-13T14:00:00",
          "2020-12-13T15:00:00",
          "2020-12-13T16:00:00",
          "2020-12-13T17:00:00",
          "2020-12-13T18:00:00",
          "2020-12-13T19:00:00",
          "2020-12-13T20:00:00",
          "2020-12-13T21:00:00",
          "2020-12-13T22:00:00",
          "2020-12-13T23:00:00",
          "2020-12-14T00:00:00",
          "2020-12-14T01:00:00",
          "2020-12-14T02:00:00",
          "2020-12-14T03:00:00",
          "2020-12-14T04:00:00",
          "2020-12-14T05:00:00",
          "2020-12-14T06:00:00",
          "2020-12-14T07:00:00",
          "2020-12-14T08:00:00",
          "2020-12-14T09:00:00",
          "2020-12-14T10:00:00",
          "2020-12-14T11:00:00",
          "2020-12-14T12:00:00",
          "2020-12-14T13:00:00",
          "2020-12-14T14:00:00",
          "2020-12-14T15:00:00",
          "2020-12-14T16:00:00",
          "2020-12-14T17:00:00",
          "2020-12-14T18:00:00",
          "2020-12-14T19:00:00",
          "2020-12-14T20:00:00",
          "2020-12-14T21:00:00",
          "2020-12-14T22:00:00",
          "2020-12-14T23:00:00",
          "2020-12-15T00:00:00",
          "2020-12-15T01:00:00",
          "2020-12-15T02:00:00",
          "2020-12-15T03:00:00",
          "2020-12-15T04:00:00",
          "2020-12-15T05:00:00",
          "2020-12-15T06:00:00",
          "2020-12-15T07:00:00",
          "2020-12-15T08:00:00",
          "2020-12-15T09:00:00",
          "2020-12-15T10:00:00",
          "2020-12-15T11:00:00",
          "2020-12-15T12:00:00",
          "2020-12-15T13:00:00",
          "2020-12-15T14:00:00",
          "2020-12-15T15:00:00",
          "2020-12-15T16:00:00",
          "2020-12-15T17:00:00",
          "2020-12-15T18:00:00",
          "2020-12-15T19:00:00",
          "2020-12-15T20:00:00",
          "2020-12-15T21:00:00",
          "2020-12-15T22:00:00",
          "2020-12-15T23:00:00",
          "2020-12-16T00:00:00"
         ],
         "y": [
          -0.3914524865994405,
          -0.3566898650319552,
          -0.32192724346447,
          -0.2871646218969848,
          -0.2524020003294995,
          -0.21763937876201428,
          -0.18287675692347247,
          -0.14811413508493068,
          -0.11335151324638891,
          -0.07858889140784714,
          -0.043826269569305396,
          -0.009063647730763548,
          0.02569897423536223,
          0.060461596201488076,
          0.09522421816761385,
          0.12998684013373957,
          0.16474946209986532,
          0.19951208406610785,
          0.2342747060323503,
          0.2690373279985927,
          0.30379994996483506,
          0.3385625719310776,
          0.37332519389731994,
          0.40808781644644015,
          0.4428504389955602,
          0.47761306154468025,
          0.5123756840938003,
          0.5471383066429205,
          0.5819009294742468,
          0.616663552305573,
          0.6514261751368994,
          0.6861887979682257,
          0.7209514207995519,
          0.7557140440049036,
          0.7904766672102554,
          0.8252392904156072,
          0.860001913620959,
          0.8947645368263107,
          0.9295271600316628,
          0.964289783481802,
          0.9990524069319413,
          1.0338150303820806,
          1.06857765383222,
          1.1033402772823593,
          1.138102900876907,
          1.172865524471455,
          1.2076281480660027,
          1.2423907716605505,
          1.2771533952550984,
          1.3119160188496461,
          1.3466786423328645,
          1.381441265816083,
          1.4162038892993014,
          1.4509665127825193,
          1.4857291362657374,
          1.5204917600274002,
          1.555254383789063,
          1.5900170075507254,
          1.624779631312388,
          1.6595422550740508,
          1.694304878798211,
          1.729067502522371,
          1.7638301262465308,
          1.798592749970691,
          1.833355373694851,
          1.8681179974190112,
          1.9028806210894753,
          1.9376432447599399,
          1.9724058684304038,
          2.007168492100868,
          2.0419311157713325,
          2.076693739364173,
          2.1114563629570147,
          2.146218986549856,
          2.1809816101426978,
          2.2157442337355384,
          2.25050685732838,
          2.2852694809155847,
          2.3200321045027894,
          2.3547947280899932,
          2.389557351677198,
          2.4243199752644027,
          2.458942256160378,
          2.4935645370563546,
          2.52818681795233,
          2.5628090988483065,
          2.5974313797442825,
          2.628203265505669,
          2.658975151267057,
          2.689747037028445,
          2.7205189227898323,
          2.7512908085512193,
          2.782062694312607,
          2.8007469030428296,
          2.819431111773052,
          2.8381153205032743,
          2.856799529233497,
          2.8754837379637186,
          2.8834472230240316,
          2.891410708084345,
          2.8993741931446584,
          2.9073376782049714,
          2.9153011632652848,
          2.9232646483255977,
          2.919787421498995,
          2.9163101946723926,
          2.91283296784579,
          2.909355741019187,
          2.905878514192585,
          2.8950375090161304,
          2.8841965038396755,
          2.873355498663221,
          2.862514493486766,
          2.851673488310312,
          2.83776058299735,
          2.8238476776843875,
          2.8099347723714265,
          2.7960218670584642,
          2.782108961745502,
          2.7681960564325396,
          2.753335387360359,
          2.7384747182881775,
          2.723614049215997,
          2.7087533801438157,
          2.6938927110716353,
          2.6790002029051183,
          2.6641076947386013,
          2.6492151865720848,
          2.6343226784055678,
          2.619430170239051,
          2.6045376620725342,
          2.5896451537516363,
          2.5747526454307383,
          2.5598601371098404,
          2.544967628788942,
          2.5300751204680445,
          2.5151826119705194,
          2.5002901034729943,
          2.485397594975469,
          2.4705050864779436,
          2.4556125779804185,
          2.4407200694828934,
          2.425827560985369,
          2.4109350524878432,
          2.396042543990318,
          2.381150035492793,
          2.3662575269952684,
          2.351365018497743,
          2.3364725100002177,
          2.3215800015026926,
          2.3066874930051675,
          2.2917949845076424,
          2.2769024760101173,
          2.262009967512592,
          2.247117459015067,
          2.232224950517542,
          2.217332442020017,
          2.202439933522492,
          2.1875474250249667,
          2.1726549165274416,
          2.1577624080299165,
          2.1428698995323914,
          2.127977391034866,
          2.113084882537341,
          2.098192374039816,
          2.083299865542291,
          2.0684073570447654,
          2.0535148485472408,
          2.0386223400497157,
          2.02372983155219
         ]
        },
        {
         "fill": "tonexty",
         "fillcolor": "rgba(0, 114, 178, 0.2)",
         "hoverinfo": "skip",
         "line": {
          "width": 0
         },
         "mode": "lines",
         "showlegend": false,
         "type": "scatter",
         "x": [
          "2020-12-08T23:00:00",
          "2020-12-09T00:00:00",
          "2020-12-09T01:00:00",
          "2020-12-09T02:00:00",
          "2020-12-09T03:00:00",
          "2020-12-09T04:00:00",
          "2020-12-09T05:00:00",
          "2020-12-09T06:00:00",
          "2020-12-09T07:00:00",
          "2020-12-09T08:00:00",
          "2020-12-09T09:00:00",
          "2020-12-09T10:00:00",
          "2020-12-09T11:00:00",
          "2020-12-09T12:00:00",
          "2020-12-09T13:00:00",
          "2020-12-09T14:00:00",
          "2020-12-09T15:00:00",
          "2020-12-09T16:00:00",
          "2020-12-09T17:00:00",
          "2020-12-09T18:00:00",
          "2020-12-09T19:00:00",
          "2020-12-09T20:00:00",
          "2020-12-09T21:00:00",
          "2020-12-09T22:00:00",
          "2020-12-09T23:00:00",
          "2020-12-10T00:00:00",
          "2020-12-10T01:00:00",
          "2020-12-10T02:00:00",
          "2020-12-10T03:00:00",
          "2020-12-10T04:00:00",
          "2020-12-10T05:00:00",
          "2020-12-10T06:00:00",
          "2020-12-10T07:00:00",
          "2020-12-10T08:00:00",
          "2020-12-10T09:00:00",
          "2020-12-10T10:00:00",
          "2020-12-10T11:00:00",
          "2020-12-10T12:00:00",
          "2020-12-10T13:00:00",
          "2020-12-10T14:00:00",
          "2020-12-10T15:00:00",
          "2020-12-10T16:00:00",
          "2020-12-10T17:00:00",
          "2020-12-10T18:00:00",
          "2020-12-10T19:00:00",
          "2020-12-10T20:00:00",
          "2020-12-10T21:00:00",
          "2020-12-10T22:00:00",
          "2020-12-10T23:00:00",
          "2020-12-11T00:00:00",
          "2020-12-11T01:00:00",
          "2020-12-11T02:00:00",
          "2020-12-11T03:00:00",
          "2020-12-11T04:00:00",
          "2020-12-11T05:00:00",
          "2020-12-11T06:00:00",
          "2020-12-11T07:00:00",
          "2020-12-11T08:00:00",
          "2020-12-11T09:00:00",
          "2020-12-11T10:00:00",
          "2020-12-11T11:00:00",
          "2020-12-11T12:00:00",
          "2020-12-11T13:00:00",
          "2020-12-11T14:00:00",
          "2020-12-11T15:00:00",
          "2020-12-11T16:00:00",
          "2020-12-11T17:00:00",
          "2020-12-11T18:00:00",
          "2020-12-11T19:00:00",
          "2020-12-11T20:00:00",
          "2020-12-11T21:00:00",
          "2020-12-11T22:00:00",
          "2020-12-11T23:00:00",
          "2020-12-12T00:00:00",
          "2020-12-12T01:00:00",
          "2020-12-12T02:00:00",
          "2020-12-12T03:00:00",
          "2020-12-12T04:00:00",
          "2020-12-12T05:00:00",
          "2020-12-12T06:00:00",
          "2020-12-12T07:00:00",
          "2020-12-12T08:00:00",
          "2020-12-12T09:00:00",
          "2020-12-12T10:00:00",
          "2020-12-12T11:00:00",
          "2020-12-12T12:00:00",
          "2020-12-12T13:00:00",
          "2020-12-12T14:00:00",
          "2020-12-12T15:00:00",
          "2020-12-12T16:00:00",
          "2020-12-12T17:00:00",
          "2020-12-12T18:00:00",
          "2020-12-12T19:00:00",
          "2020-12-12T20:00:00",
          "2020-12-12T21:00:00",
          "2020-12-12T22:00:00",
          "2020-12-12T23:00:00",
          "2020-12-13T00:00:00",
          "2020-12-13T01:00:00",
          "2020-12-13T02:00:00",
          "2020-12-13T03:00:00",
          "2020-12-13T04:00:00",
          "2020-12-13T05:00:00",
          "2020-12-13T06:00:00",
          "2020-12-13T07:00:00",
          "2020-12-13T08:00:00",
          "2020-12-13T09:00:00",
          "2020-12-13T10:00:00",
          "2020-12-13T11:00:00",
          "2020-12-13T12:00:00",
          "2020-12-13T13:00:00",
          "2020-12-13T14:00:00",
          "2020-12-13T15:00:00",
          "2020-12-13T16:00:00",
          "2020-12-13T17:00:00",
          "2020-12-13T18:00:00",
          "2020-12-13T19:00:00",
          "2020-12-13T20:00:00",
          "2020-12-13T21:00:00",
          "2020-12-13T22:00:00",
          "2020-12-13T23:00:00",
          "2020-12-14T00:00:00",
          "2020-12-14T01:00:00",
          "2020-12-14T02:00:00",
          "2020-12-14T03:00:00",
          "2020-12-14T04:00:00",
          "2020-12-14T05:00:00",
          "2020-12-14T06:00:00",
          "2020-12-14T07:00:00",
          "2020-12-14T08:00:00",
          "2020-12-14T09:00:00",
          "2020-12-14T10:00:00",
          "2020-12-14T11:00:00",
          "2020-12-14T12:00:00",
          "2020-12-14T13:00:00",
          "2020-12-14T14:00:00",
          "2020-12-14T15:00:00",
          "2020-12-14T16:00:00",
          "2020-12-14T17:00:00",
          "2020-12-14T18:00:00",
          "2020-12-14T19:00:00",
          "2020-12-14T20:00:00",
          "2020-12-14T21:00:00",
          "2020-12-14T22:00:00",
          "2020-12-14T23:00:00",
          "2020-12-15T00:00:00",
          "2020-12-15T01:00:00",
          "2020-12-15T02:00:00",
          "2020-12-15T03:00:00",
          "2020-12-15T04:00:00",
          "2020-12-15T05:00:00",
          "2020-12-15T06:00:00",
          "2020-12-15T07:00:00",
          "2020-12-15T08:00:00",
          "2020-12-15T09:00:00",
          "2020-12-15T10:00:00",
          "2020-12-15T11:00:00",
          "2020-12-15T12:00:00",
          "2020-12-15T13:00:00",
          "2020-12-15T14:00:00",
          "2020-12-15T15:00:00",
          "2020-12-15T16:00:00",
          "2020-12-15T17:00:00",
          "2020-12-15T18:00:00",
          "2020-12-15T19:00:00",
          "2020-12-15T20:00:00",
          "2020-12-15T21:00:00",
          "2020-12-15T22:00:00",
          "2020-12-15T23:00:00",
          "2020-12-16T00:00:00"
         ],
         "y": [
          -1.834933454082601,
          -1.843612818243866,
          -1.7691812374446063,
          -1.7333989506317733,
          -1.5952199444741766,
          -1.4766694227305814,
          -1.6308002965111696,
          -1.4492986251430324,
          -1.5029231338104323,
          -1.3776868535354012,
          -1.491458476911272,
          -1.4114655464891146,
          -1.4038330608399516,
          -1.3680265966439082,
          -1.1516467228989997,
          -1.1534615374150174,
          -1.2530563121725342,
          -1.0848296318542494,
          -1.0970519328850565,
          -1.0618089665693322,
          -1.0659208202847803,
          -0.9929780965473551,
          -0.9867797167512018,
          -1.0403593003242557,
          -1.003920759309887,
          -0.9044694809678173,
          -0.725614624437569,
          -0.707518254802149,
          -0.886403206987979,
          -0.7684005009904753,
          -0.8519860335722543,
          -0.8830275544333137,
          -0.7511371688484528,
          -0.7797401387465864,
          -0.5179517404441485,
          -0.4718587914850101,
          -0.7456260134733347,
          -0.5501477422737991,
          -0.42289709589718427,
          -0.32246968203144366,
          -0.3178026780351697,
          -0.48841105531094775,
          -0.42018170654527087,
          -0.2635466511209821,
          -0.1655540063005927,
          -0.19889890062925053,
          -0.11541999217387477,
          -0.04889833141785416,
          -0.1849059701559601,
          -0.017820064942086766,
          -0.11079728306721437,
          -0.08610777645130141,
          -0.07217468296454443,
          0.13949130949921273,
          0.03349842543392656,
          0.22205699558209036,
          0.12353537661147729,
          0.15000157446721407,
          0.2226363914886953,
          0.30754050017757883,
          0.37407571922743976,
          0.3228124039424529,
          0.2700110315014135,
          0.3496497426008185,
          0.4756404171788662,
          0.5753708174239587,
          0.5996950138751493,
          0.5021230536296881,
          0.5549321597016741,
          0.6317980586529364,
          0.7641439737491615,
          0.6110834182733029,
          0.7519081123344429,
          0.7707044072102451,
          0.8808642299224703,
          0.6739484318255367,
          0.9335454864423258,
          0.98316210262846,
          0.9208870632798376,
          1.065729456353294,
          0.9290833622840031,
          1.0466328040309312,
          1.1374406908170016,
          1.0043270472205403,
          1.0600549607680678,
          1.2405509044407648,
          1.238469827595552,
          1.2374526386092275,
          1.3254688592533312,
          1.4391362168852913,
          1.4326350089208566,
          1.3701442580749847,
          1.379406037843857,
          1.3365192444169995,
          1.49355123890048,
          1.329167957151187,
          1.4644707114998907,
          1.3555276132268357,
          1.3742364638988753,
          1.6279795241072033,
          1.5700170294110074,
          1.4272014545455787,
          1.5552073220075913,
          1.6349689850501072,
          1.5754357901338776,
          1.441148616009135,
          1.5441334280497436,
          1.434097583273462,
          1.3945161416258913,
          1.422923736432711,
          1.6356608308156142,
          1.6444611278818255,
          1.4186959944903499,
          1.5562862301138956,
          1.4448608745191627,
          1.5627968469010953,
          1.4002533167543283,
          1.369126674522887,
          1.3004221512450715,
          1.4058619700655925,
          1.3299708072896559,
          1.2601856917639702,
          1.3012556692662864,
          1.3299732642090274,
          1.2586129326713662,
          1.2308433761885855,
          1.1604793459640006,
          1.3918826392570258,
          1.2718312395126432,
          1.310150285269567,
          1.295625152506606,
          1.1735063824691072,
          1.1150628326505587,
          1.1434221506820987,
          1.2120649111551365,
          1.2916151432605587,
          1.1761512808127872,
          1.00751391496505,
          1.0806193374922994,
          1.1990033855601356,
          1.1567045476692202,
          0.9212975995091899,
          1.0303588820767517,
          0.9692785603988778,
          0.8613048741080471,
          0.9826961679814032,
          0.9640813258338017,
          1.0572267820325614,
          1.1083020159781045,
          0.7736728091571492,
          0.9203534927469876,
          1.0597022817504578,
          1.13279010506678,
          0.8102329407215558,
          0.9543673382737432,
          0.7121572889718015,
          1.0128107921804261,
          0.8455459130585441,
          0.7972904067465749,
          0.9058612651943347,
          0.7660504293677466,
          0.885297832902114,
          0.6865967826823627,
          0.6587663785102533,
          0.7399625500574567,
          0.5122662102940523,
          0.627834304708804,
          0.6496210739452497,
          0.7128186942081316,
          0.5044477173432487
         ]
        },
        {
         "line": {
          "color": "black",
          "width": 2
         },
         "mode": "lines",
         "name": "top1_hashtag_count",
         "type": "scatter",
         "x": [
          "2020-12-08T23:00:00",
          "2020-12-09T00:00:00",
          "2020-12-09T01:00:00",
          "2020-12-09T02:00:00",
          "2020-12-09T03:00:00",
          "2020-12-09T04:00:00",
          "2020-12-09T05:00:00",
          "2020-12-09T06:00:00",
          "2020-12-09T07:00:00",
          "2020-12-09T08:00:00",
          "2020-12-09T09:00:00",
          "2020-12-09T10:00:00",
          "2020-12-09T11:00:00",
          "2020-12-09T12:00:00",
          "2020-12-09T13:00:00",
          "2020-12-09T14:00:00",
          "2020-12-09T15:00:00",
          "2020-12-09T16:00:00",
          "2020-12-09T17:00:00",
          "2020-12-09T18:00:00",
          "2020-12-09T19:00:00",
          "2020-12-09T20:00:00",
          "2020-12-09T21:00:00",
          "2020-12-09T22:00:00",
          "2020-12-09T23:00:00",
          "2020-12-10T00:00:00",
          "2020-12-10T01:00:00",
          "2020-12-10T02:00:00",
          "2020-12-10T03:00:00",
          "2020-12-10T04:00:00",
          "2020-12-10T05:00:00",
          "2020-12-10T06:00:00",
          "2020-12-10T07:00:00",
          "2020-12-10T08:00:00",
          "2020-12-10T09:00:00",
          "2020-12-10T10:00:00",
          "2020-12-10T11:00:00",
          "2020-12-10T12:00:00",
          "2020-12-10T13:00:00",
          "2020-12-10T14:00:00",
          "2020-12-10T15:00:00",
          "2020-12-10T16:00:00",
          "2020-12-10T17:00:00",
          "2020-12-10T18:00:00",
          "2020-12-10T19:00:00",
          "2020-12-10T20:00:00",
          "2020-12-10T21:00:00",
          "2020-12-10T22:00:00",
          "2020-12-10T23:00:00",
          "2020-12-11T00:00:00",
          "2020-12-11T01:00:00",
          "2020-12-11T02:00:00",
          "2020-12-11T03:00:00",
          "2020-12-11T04:00:00",
          "2020-12-11T05:00:00",
          "2020-12-11T06:00:00",
          "2020-12-11T07:00:00",
          "2020-12-11T08:00:00",
          "2020-12-11T09:00:00",
          "2020-12-11T10:00:00",
          "2020-12-11T11:00:00",
          "2020-12-11T12:00:00",
          "2020-12-11T13:00:00",
          "2020-12-11T14:00:00",
          "2020-12-11T15:00:00",
          "2020-12-11T16:00:00",
          "2020-12-11T17:00:00",
          "2020-12-11T18:00:00",
          "2020-12-11T19:00:00",
          "2020-12-11T20:00:00",
          "2020-12-11T21:00:00",
          "2020-12-11T22:00:00",
          "2020-12-11T23:00:00",
          "2020-12-12T00:00:00",
          "2020-12-12T01:00:00",
          "2020-12-12T02:00:00",
          "2020-12-12T03:00:00",
          "2020-12-12T04:00:00",
          "2020-12-12T05:00:00",
          "2020-12-12T06:00:00",
          "2020-12-12T07:00:00",
          "2020-12-12T08:00:00",
          "2020-12-12T09:00:00",
          "2020-12-12T10:00:00",
          "2020-12-12T11:00:00",
          "2020-12-12T12:00:00",
          "2020-12-12T13:00:00",
          "2020-12-12T14:00:00",
          "2020-12-12T15:00:00",
          "2020-12-12T16:00:00",
          "2020-12-12T17:00:00",
          "2020-12-12T18:00:00",
          "2020-12-12T19:00:00",
          "2020-12-12T20:00:00",
          "2020-12-12T21:00:00",
          "2020-12-12T22:00:00",
          "2020-12-12T23:00:00",
          "2020-12-13T00:00:00",
          "2020-12-13T01:00:00",
          "2020-12-13T02:00:00",
          "2020-12-13T03:00:00",
          "2020-12-13T04:00:00",
          "2020-12-13T05:00:00",
          "2020-12-13T06:00:00",
          "2020-12-13T07:00:00",
          "2020-12-13T08:00:00",
          "2020-12-13T09:00:00",
          "2020-12-13T10:00:00",
          "2020-12-13T11:00:00",
          "2020-12-13T12:00:00",
          "2020-12-13T13:00:00",
          "2020-12-13T14:00:00",
          "2020-12-13T15:00:00",
          "2020-12-13T16:00:00",
          "2020-12-13T17:00:00",
          "2020-12-13T18:00:00",
          "2020-12-13T19:00:00",
          "2020-12-13T20:00:00",
          "2020-12-13T21:00:00",
          "2020-12-13T22:00:00",
          "2020-12-13T23:00:00",
          "2020-12-14T00:00:00",
          "2020-12-14T01:00:00",
          "2020-12-14T02:00:00",
          "2020-12-14T03:00:00",
          "2020-12-14T04:00:00",
          "2020-12-14T05:00:00",
          "2020-12-14T06:00:00",
          "2020-12-14T07:00:00",
          "2020-12-14T08:00:00",
          "2020-12-14T09:00:00",
          "2020-12-14T10:00:00",
          "2020-12-14T11:00:00",
          "2020-12-14T12:00:00",
          "2020-12-14T13:00:00",
          "2020-12-14T14:00:00",
          "2020-12-14T15:00:00",
          "2020-12-14T16:00:00",
          "2020-12-14T17:00:00",
          "2020-12-14T18:00:00",
          "2020-12-14T19:00:00",
          "2020-12-14T20:00:00",
          "2020-12-14T21:00:00",
          "2020-12-14T22:00:00",
          "2020-12-14T23:00:00",
          "2020-12-15T00:00:00",
          "2020-12-15T01:00:00",
          "2020-12-15T02:00:00",
          "2020-12-15T03:00:00",
          "2020-12-15T04:00:00",
          "2020-12-15T05:00:00",
          "2020-12-15T06:00:00",
          "2020-12-15T07:00:00",
          "2020-12-15T08:00:00",
          "2020-12-15T09:00:00",
          "2020-12-15T10:00:00",
          "2020-12-15T11:00:00",
          "2020-12-15T12:00:00",
          "2020-12-15T13:00:00",
          "2020-12-15T14:00:00",
          "2020-12-15T15:00:00",
          "2020-12-15T16:00:00",
          "2020-12-15T17:00:00",
          "2020-12-15T18:00:00",
          "2020-12-15T19:00:00",
          "2020-12-15T20:00:00",
          "2020-12-15T21:00:00",
          "2020-12-15T22:00:00",
          "2020-12-15T23:00:00",
          "2020-12-16T00:00:00"
         ],
         "y": [
          0,
          0.16666666666666666,
          0.16666666666666666,
          0.16666666666666666,
          0.16666666666666666,
          0.3333333333333333,
          0.3333333333333333,
          0.5,
          0.5,
          0.5,
          0.5,
          0.3333333333333333,
          0.3333333333333333,
          0,
          0,
          0,
          0,
          0,
          0,
          0,
          0,
          0,
          0,
          0,
          0,
          0,
          0,
          0,
          0,
          0,
          0,
          0,
          0,
          0,
          0,
          0,
          0,
          0,
          0,
          0,
          0,
          0,
          0,
          0,
          0,
          0,
          0,
          0,
          0,
          0,
          0,
          0,
          0,
          0,
          0,
          0,
          0,
          0,
          0,
          0,
          0,
          0,
          0,
          0,
          0,
          0,
          0,
          0,
          0,
          0,
          0,
          0,
          0,
          0,
          0,
          0,
          0,
          0,
          0.6666666666666666,
          1.833333333333333,
          6.833333333333333,
          7.833333333333333,
          8.166666666666666,
          8.5,
          7.999999999999999,
          7,
          2.6666666666666665,
          1.8333333333333333,
          2.833333333333333,
          3.833333333333333,
          5.333333333333332,
          7.166666666666666,
          8.833333333333332,
          10.333333333333332,
          10.333333333333334,
          9.833333333333334,
          9.666666666666666,
          9,
          7.333333333333333,
          6.166666666666667,
          5.333333333333333,
          5.166666666666667,
          3.833333333333333,
          3.666666666666666,
          3.833333333333333,
          3.6666666666666665,
          3.1666666666666665,
          3.1666666666666665,
          2.9999999999999996,
          2.333333333333333,
          1.5,
          1.6666666666666665,
          2.333333333333333,
          2.333333333333333,
          2.833333333333333,
          2.833333333333333,
          3.4999999999999996,
          3.833333333333333,
          3.3333333333333326,
          3.1666666666666665,
          3.5,
          4.333333333333333,
          5.333333333333332,
          4.5,
          4.5,
          4.5,
          4,
          3.333333333333333,
          1.6666666666666665,
          1.8333333333333333,
          1.8333333333333335,
          1.5000000000000002,
          1.1666666666666665,
          0.6666666666666666,
          1,
          0.9999999999999999,
          0.9999999999999999,
          1.3333333333333333,
          2.5,
          2.6666666666666665,
          2.833333333333333,
          2.833333333333333,
          2.833333333333333,
          2.333333333333333,
          1.1666666666666665,
          1.3333333333333333,
          0.9999999999999999,
          1.3333333333333333,
          1.4999999999999998,
          1.6666666666666665,
          3.6666666666666665,
          3.5000000000000004,
          3.3333333333333335,
          3,
          2.833333333333333,
          2.6666666666666665,
          0.6666666666666666,
          0.5,
          0.5,
          0.5,
          0.5,
          0.5,
          0.5,
          0.3333333333333333,
          0.5,
          0.3333333333333333,
          0.3333333333333333,
          0.5,
          0.5,
          0.5
         ]
        },
        {
         "line": {
          "color": "red",
          "width": 2
         },
         "mode": "lines",
         "name": "Anomaly Score",
         "type": "scatter",
         "x": [
          "2020-12-08T23:00:00",
          "2020-12-09T00:00:00",
          "2020-12-09T01:00:00",
          "2020-12-09T02:00:00",
          "2020-12-09T03:00:00",
          "2020-12-09T04:00:00",
          "2020-12-09T05:00:00",
          "2020-12-09T06:00:00",
          "2020-12-09T07:00:00",
          "2020-12-09T08:00:00",
          "2020-12-09T09:00:00",
          "2020-12-09T10:00:00",
          "2020-12-09T11:00:00",
          "2020-12-09T12:00:00",
          "2020-12-09T13:00:00",
          "2020-12-09T14:00:00",
          "2020-12-09T15:00:00",
          "2020-12-09T16:00:00",
          "2020-12-09T17:00:00",
          "2020-12-09T18:00:00",
          "2020-12-09T19:00:00",
          "2020-12-09T20:00:00",
          "2020-12-09T21:00:00",
          "2020-12-09T22:00:00",
          "2020-12-09T23:00:00",
          "2020-12-10T00:00:00",
          "2020-12-10T01:00:00",
          "2020-12-10T02:00:00",
          "2020-12-10T03:00:00",
          "2020-12-10T04:00:00",
          "2020-12-10T05:00:00",
          "2020-12-10T06:00:00",
          "2020-12-10T07:00:00",
          "2020-12-10T08:00:00",
          "2020-12-10T09:00:00",
          "2020-12-10T10:00:00",
          "2020-12-10T11:00:00",
          "2020-12-10T12:00:00",
          "2020-12-10T13:00:00",
          "2020-12-10T14:00:00",
          "2020-12-10T15:00:00",
          "2020-12-10T16:00:00",
          "2020-12-10T17:00:00",
          "2020-12-10T18:00:00",
          "2020-12-10T19:00:00",
          "2020-12-10T20:00:00",
          "2020-12-10T21:00:00",
          "2020-12-10T22:00:00",
          "2020-12-10T23:00:00",
          "2020-12-11T00:00:00",
          "2020-12-11T01:00:00",
          "2020-12-11T02:00:00",
          "2020-12-11T03:00:00",
          "2020-12-11T04:00:00",
          "2020-12-11T05:00:00",
          "2020-12-11T06:00:00",
          "2020-12-11T07:00:00",
          "2020-12-11T08:00:00",
          "2020-12-11T09:00:00",
          "2020-12-11T10:00:00",
          "2020-12-11T11:00:00",
          "2020-12-11T12:00:00",
          "2020-12-11T13:00:00",
          "2020-12-11T14:00:00",
          "2020-12-11T15:00:00",
          "2020-12-11T16:00:00",
          "2020-12-11T17:00:00",
          "2020-12-11T18:00:00",
          "2020-12-11T19:00:00",
          "2020-12-11T20:00:00",
          "2020-12-11T21:00:00",
          "2020-12-11T22:00:00",
          "2020-12-11T23:00:00",
          "2020-12-12T00:00:00",
          "2020-12-12T01:00:00",
          "2020-12-12T02:00:00",
          "2020-12-12T03:00:00",
          "2020-12-12T04:00:00",
          "2020-12-12T05:00:00",
          "2020-12-12T06:00:00",
          "2020-12-12T07:00:00",
          "2020-12-12T08:00:00",
          "2020-12-12T09:00:00",
          "2020-12-12T10:00:00",
          "2020-12-12T11:00:00",
          "2020-12-12T12:00:00",
          "2020-12-12T13:00:00",
          "2020-12-12T14:00:00",
          "2020-12-12T15:00:00",
          "2020-12-12T16:00:00",
          "2020-12-12T17:00:00",
          "2020-12-12T18:00:00",
          "2020-12-12T19:00:00",
          "2020-12-12T20:00:00",
          "2020-12-12T21:00:00",
          "2020-12-12T22:00:00",
          "2020-12-12T23:00:00",
          "2020-12-13T00:00:00",
          "2020-12-13T01:00:00",
          "2020-12-13T02:00:00",
          "2020-12-13T03:00:00",
          "2020-12-13T04:00:00",
          "2020-12-13T05:00:00",
          "2020-12-13T06:00:00",
          "2020-12-13T07:00:00",
          "2020-12-13T08:00:00",
          "2020-12-13T09:00:00",
          "2020-12-13T10:00:00",
          "2020-12-13T11:00:00",
          "2020-12-13T12:00:00",
          "2020-12-13T13:00:00",
          "2020-12-13T14:00:00",
          "2020-12-13T15:00:00",
          "2020-12-13T16:00:00",
          "2020-12-13T17:00:00",
          "2020-12-13T18:00:00",
          "2020-12-13T19:00:00",
          "2020-12-13T20:00:00",
          "2020-12-13T21:00:00",
          "2020-12-13T22:00:00",
          "2020-12-13T23:00:00",
          "2020-12-14T00:00:00",
          "2020-12-14T01:00:00",
          "2020-12-14T02:00:00",
          "2020-12-14T03:00:00",
          "2020-12-14T04:00:00",
          "2020-12-14T05:00:00",
          "2020-12-14T06:00:00",
          "2020-12-14T07:00:00",
          "2020-12-14T08:00:00",
          "2020-12-14T09:00:00",
          "2020-12-14T10:00:00",
          "2020-12-14T11:00:00",
          "2020-12-14T12:00:00",
          "2020-12-14T13:00:00",
          "2020-12-14T14:00:00",
          "2020-12-14T15:00:00",
          "2020-12-14T16:00:00",
          "2020-12-14T17:00:00",
          "2020-12-14T18:00:00",
          "2020-12-14T19:00:00",
          "2020-12-14T20:00:00",
          "2020-12-14T21:00:00",
          "2020-12-14T22:00:00",
          "2020-12-14T23:00:00",
          "2020-12-15T00:00:00",
          "2020-12-15T01:00:00",
          "2020-12-15T02:00:00",
          "2020-12-15T03:00:00",
          "2020-12-15T04:00:00",
          "2020-12-15T05:00:00",
          "2020-12-15T06:00:00",
          "2020-12-15T07:00:00",
          "2020-12-15T08:00:00",
          "2020-12-15T09:00:00",
          "2020-12-15T10:00:00",
          "2020-12-15T11:00:00",
          "2020-12-15T12:00:00",
          "2020-12-15T13:00:00",
          "2020-12-15T14:00:00",
          "2020-12-15T15:00:00",
          "2020-12-15T16:00:00",
          "2020-12-15T17:00:00",
          "2020-12-15T18:00:00",
          "2020-12-15T19:00:00",
          "2020-12-15T20:00:00",
          "2020-12-15T21:00:00",
          "2020-12-15T22:00:00",
          "2020-12-15T23:00:00",
          "2020-12-16T00:00:00"
         ],
         "xaxis": "x",
         "y": [
          0,
          0,
          0,
          0,
          0,
          0,
          0,
          0,
          0,
          0,
          0,
          0,
          0,
          0,
          0,
          0,
          0,
          0,
          0,
          0,
          0,
          0,
          0,
          0,
          0,
          0,
          0,
          0,
          0,
          0,
          0,
          0,
          0,
          0,
          0,
          0,
          0,
          0,
          0,
          0,
          0,
          0,
          0,
          0,
          0,
          0,
          0,
          0,
          0,
          0,
          0,
          0,
          0,
          0,
          0,
          0,
          0,
          0,
          -1.0154805554419577,
          0,
          0,
          -1.095493372376668,
          0,
          0,
          -1.2144402089545863,
          0,
          0,
          -1.308065517736441,
          0,
          0,
          -1.4372573501565908,
          0,
          0,
          -1.4809391456893957,
          0,
          0,
          -1.5110529038392138,
          0,
          0,
          0,
          1.8444132314668218,
          0,
          0,
          2.0984163244359157,
          0,
          0,
          0,
          0,
          0,
          0,
          1.6152745090029565,
          0,
          0,
          2.366559473671015,
          0,
          0,
          2.3072585354962634,
          0,
          0,
          1.7226454622600043,
          0,
          0,
          0,
          0,
          0,
          0,
          0,
          0,
          0,
          0,
          0,
          0,
          0,
          0,
          0,
          0,
          0,
          0,
          0,
          0,
          0,
          0,
          1.6164850221735751,
          0,
          0,
          1.1753855956748176,
          0,
          0,
          0,
          0,
          0,
          0,
          0,
          -1.227240160690845,
          0,
          0,
          0,
          0,
          0,
          0,
          0,
          0,
          0,
          0,
          0,
          0,
          0,
          0,
          0,
          0,
          0,
          0,
          0,
          0,
          0,
          0,
          0,
          -1.0808905411130263,
          0,
          0,
          -1.0434676270387166,
          0,
          0,
          -1.1213726782215538,
          0,
          0,
          -1.1101431665115056,
          0,
          0,
          0
         ],
         "yaxis": "y2"
        }
       ],
       "layout": {
        "height": 600,
        "shapes": [
         {
          "fillcolor": "#e07070",
          "line": {
           "width": 0
          },
          "opacity": 0.4,
          "type": "rect",
          "x0": "2020-12-11T09:00:00",
          "x1": "2020-12-11T10:00:00",
          "xref": "x",
          "y0": 0,
          "y1": 1,
          "yref": "y domain"
         },
         {
          "fillcolor": "#e07070",
          "line": {
           "width": 0
          },
          "opacity": 0.4,
          "type": "rect",
          "x0": "2020-12-11T12:00:00",
          "x1": "2020-12-11T13:00:00",
          "xref": "x",
          "y0": 0,
          "y1": 1,
          "yref": "y domain"
         },
         {
          "fillcolor": "#e07070",
          "line": {
           "width": 0
          },
          "opacity": 0.4,
          "type": "rect",
          "x0": "2020-12-11T15:00:00",
          "x1": "2020-12-11T16:00:00",
          "xref": "x",
          "y0": 0,
          "y1": 1,
          "yref": "y domain"
         },
         {
          "fillcolor": "#e07070",
          "line": {
           "width": 0
          },
          "opacity": 0.4,
          "type": "rect",
          "x0": "2020-12-11T18:00:00",
          "x1": "2020-12-11T19:00:00",
          "xref": "x",
          "y0": 0,
          "y1": 1,
          "yref": "y domain"
         },
         {
          "fillcolor": "#e07070",
          "line": {
           "width": 0
          },
          "opacity": 0.4,
          "type": "rect",
          "x0": "2020-12-11T21:00:00",
          "x1": "2020-12-11T22:00:00",
          "xref": "x",
          "y0": 0,
          "y1": 1,
          "yref": "y domain"
         },
         {
          "fillcolor": "#e07070",
          "line": {
           "width": 0
          },
          "opacity": 0.4,
          "type": "rect",
          "x0": "2020-12-12T00:00:00",
          "x1": "2020-12-12T01:00:00",
          "xref": "x",
          "y0": 0,
          "y1": 1,
          "yref": "y domain"
         },
         {
          "fillcolor": "#e07070",
          "line": {
           "width": 0
          },
          "opacity": 0.4,
          "type": "rect",
          "x0": "2020-12-12T03:00:00",
          "x1": "2020-12-12T04:00:00",
          "xref": "x",
          "y0": 0,
          "y1": 1,
          "yref": "y domain"
         },
         {
          "fillcolor": "#e07070",
          "line": {
           "width": 0
          },
          "opacity": 0.4,
          "type": "rect",
          "x0": "2020-12-12T07:00:00",
          "x1": "2020-12-12T08:00:00",
          "xref": "x",
          "y0": 0,
          "y1": 1,
          "yref": "y domain"
         },
         {
          "fillcolor": "#e07070",
          "line": {
           "width": 0
          },
          "opacity": 0.4,
          "type": "rect",
          "x0": "2020-12-12T10:00:00",
          "x1": "2020-12-12T11:00:00",
          "xref": "x",
          "y0": 0,
          "y1": 1,
          "yref": "y domain"
         },
         {
          "fillcolor": "#e07070",
          "line": {
           "width": 0
          },
          "opacity": 0.4,
          "type": "rect",
          "x0": "2020-12-12T17:00:00",
          "x1": "2020-12-12T18:00:00",
          "xref": "x",
          "y0": 0,
          "y1": 1,
          "yref": "y domain"
         },
         {
          "fillcolor": "#e07070",
          "line": {
           "width": 0
          },
          "opacity": 0.4,
          "type": "rect",
          "x0": "2020-12-12T20:00:00",
          "x1": "2020-12-12T21:00:00",
          "xref": "x",
          "y0": 0,
          "y1": 1,
          "yref": "y domain"
         },
         {
          "fillcolor": "#e07070",
          "line": {
           "width": 0
          },
          "opacity": 0.4,
          "type": "rect",
          "x0": "2020-12-12T23:00:00",
          "x1": "2020-12-13T00:00:00",
          "xref": "x",
          "y0": 0,
          "y1": 1,
          "yref": "y domain"
         },
         {
          "fillcolor": "#e07070",
          "line": {
           "width": 0
          },
          "opacity": 0.4,
          "type": "rect",
          "x0": "2020-12-13T02:00:00",
          "x1": "2020-12-13T03:00:00",
          "xref": "x",
          "y0": 0,
          "y1": 1,
          "yref": "y domain"
         },
         {
          "fillcolor": "#e07070",
          "line": {
           "width": 0
          },
          "opacity": 0.4,
          "type": "rect",
          "x0": "2020-12-14T01:00:00",
          "x1": "2020-12-14T02:00:00",
          "xref": "x",
          "y0": 0,
          "y1": 1,
          "yref": "y domain"
         },
         {
          "fillcolor": "#e07070",
          "line": {
           "width": 0
          },
          "opacity": 0.4,
          "type": "rect",
          "x0": "2020-12-14T04:00:00",
          "x1": "2020-12-14T05:00:00",
          "xref": "x",
          "y0": 0,
          "y1": 1,
          "yref": "y domain"
         },
         {
          "fillcolor": "#e07070",
          "line": {
           "width": 0
          },
          "opacity": 0.4,
          "type": "rect",
          "x0": "2020-12-14T12:00:00",
          "x1": "2020-12-14T13:00:00",
          "xref": "x",
          "y0": 0,
          "y1": 1,
          "yref": "y domain"
         },
         {
          "fillcolor": "#e07070",
          "line": {
           "width": 0
          },
          "opacity": 0.4,
          "type": "rect",
          "x0": "2020-12-15T12:00:00",
          "x1": "2020-12-15T13:00:00",
          "xref": "x",
          "y0": 0,
          "y1": 1,
          "yref": "y domain"
         },
         {
          "fillcolor": "#e07070",
          "line": {
           "width": 0
          },
          "opacity": 0.4,
          "type": "rect",
          "x0": "2020-12-15T15:00:00",
          "x1": "2020-12-15T16:00:00",
          "xref": "x",
          "y0": 0,
          "y1": 1,
          "yref": "y domain"
         },
         {
          "fillcolor": "#e07070",
          "line": {
           "width": 0
          },
          "opacity": 0.4,
          "type": "rect",
          "x0": "2020-12-15T18:00:00",
          "x1": "2020-12-15T19:00:00",
          "xref": "x",
          "y0": 0,
          "y1": 1,
          "yref": "y domain"
         },
         {
          "fillcolor": "#e07070",
          "line": {
           "width": 0
          },
          "opacity": 0.4,
          "type": "rect",
          "x0": "2020-12-15T21:00:00",
          "x1": "2020-12-15T22:00:00",
          "xref": "x",
          "y0": 0,
          "y1": 1,
          "yref": "y domain"
         }
        ],
        "showlegend": true,
        "template": {
         "data": {
          "bar": [
           {
            "error_x": {
             "color": "#2a3f5f"
            },
            "error_y": {
             "color": "#2a3f5f"
            },
            "marker": {
             "line": {
              "color": "#E5ECF6",
              "width": 0.5
             },
             "pattern": {
              "fillmode": "overlay",
              "size": 10,
              "solidity": 0.2
             }
            },
            "type": "bar"
           }
          ],
          "barpolar": [
           {
            "marker": {
             "line": {
              "color": "#E5ECF6",
              "width": 0.5
             },
             "pattern": {
              "fillmode": "overlay",
              "size": 10,
              "solidity": 0.2
             }
            },
            "type": "barpolar"
           }
          ],
          "carpet": [
           {
            "aaxis": {
             "endlinecolor": "#2a3f5f",
             "gridcolor": "white",
             "linecolor": "white",
             "minorgridcolor": "white",
             "startlinecolor": "#2a3f5f"
            },
            "baxis": {
             "endlinecolor": "#2a3f5f",
             "gridcolor": "white",
             "linecolor": "white",
             "minorgridcolor": "white",
             "startlinecolor": "#2a3f5f"
            },
            "type": "carpet"
           }
          ],
          "choropleth": [
           {
            "colorbar": {
             "outlinewidth": 0,
             "ticks": ""
            },
            "type": "choropleth"
           }
          ],
          "contour": [
           {
            "colorbar": {
             "outlinewidth": 0,
             "ticks": ""
            },
            "colorscale": [
             [
              0,
              "#0d0887"
             ],
             [
              0.1111111111111111,
              "#46039f"
             ],
             [
              0.2222222222222222,
              "#7201a8"
             ],
             [
              0.3333333333333333,
              "#9c179e"
             ],
             [
              0.4444444444444444,
              "#bd3786"
             ],
             [
              0.5555555555555556,
              "#d8576b"
             ],
             [
              0.6666666666666666,
              "#ed7953"
             ],
             [
              0.7777777777777778,
              "#fb9f3a"
             ],
             [
              0.8888888888888888,
              "#fdca26"
             ],
             [
              1,
              "#f0f921"
             ]
            ],
            "type": "contour"
           }
          ],
          "contourcarpet": [
           {
            "colorbar": {
             "outlinewidth": 0,
             "ticks": ""
            },
            "type": "contourcarpet"
           }
          ],
          "heatmap": [
           {
            "colorbar": {
             "outlinewidth": 0,
             "ticks": ""
            },
            "colorscale": [
             [
              0,
              "#0d0887"
             ],
             [
              0.1111111111111111,
              "#46039f"
             ],
             [
              0.2222222222222222,
              "#7201a8"
             ],
             [
              0.3333333333333333,
              "#9c179e"
             ],
             [
              0.4444444444444444,
              "#bd3786"
             ],
             [
              0.5555555555555556,
              "#d8576b"
             ],
             [
              0.6666666666666666,
              "#ed7953"
             ],
             [
              0.7777777777777778,
              "#fb9f3a"
             ],
             [
              0.8888888888888888,
              "#fdca26"
             ],
             [
              1,
              "#f0f921"
             ]
            ],
            "type": "heatmap"
           }
          ],
          "heatmapgl": [
           {
            "colorbar": {
             "outlinewidth": 0,
             "ticks": ""
            },
            "colorscale": [
             [
              0,
              "#0d0887"
             ],
             [
              0.1111111111111111,
              "#46039f"
             ],
             [
              0.2222222222222222,
              "#7201a8"
             ],
             [
              0.3333333333333333,
              "#9c179e"
             ],
             [
              0.4444444444444444,
              "#bd3786"
             ],
             [
              0.5555555555555556,
              "#d8576b"
             ],
             [
              0.6666666666666666,
              "#ed7953"
             ],
             [
              0.7777777777777778,
              "#fb9f3a"
             ],
             [
              0.8888888888888888,
              "#fdca26"
             ],
             [
              1,
              "#f0f921"
             ]
            ],
            "type": "heatmapgl"
           }
          ],
          "histogram": [
           {
            "marker": {
             "pattern": {
              "fillmode": "overlay",
              "size": 10,
              "solidity": 0.2
             }
            },
            "type": "histogram"
           }
          ],
          "histogram2d": [
           {
            "colorbar": {
             "outlinewidth": 0,
             "ticks": ""
            },
            "colorscale": [
             [
              0,
              "#0d0887"
             ],
             [
              0.1111111111111111,
              "#46039f"
             ],
             [
              0.2222222222222222,
              "#7201a8"
             ],
             [
              0.3333333333333333,
              "#9c179e"
             ],
             [
              0.4444444444444444,
              "#bd3786"
             ],
             [
              0.5555555555555556,
              "#d8576b"
             ],
             [
              0.6666666666666666,
              "#ed7953"
             ],
             [
              0.7777777777777778,
              "#fb9f3a"
             ],
             [
              0.8888888888888888,
              "#fdca26"
             ],
             [
              1,
              "#f0f921"
             ]
            ],
            "type": "histogram2d"
           }
          ],
          "histogram2dcontour": [
           {
            "colorbar": {
             "outlinewidth": 0,
             "ticks": ""
            },
            "colorscale": [
             [
              0,
              "#0d0887"
             ],
             [
              0.1111111111111111,
              "#46039f"
             ],
             [
              0.2222222222222222,
              "#7201a8"
             ],
             [
              0.3333333333333333,
              "#9c179e"
             ],
             [
              0.4444444444444444,
              "#bd3786"
             ],
             [
              0.5555555555555556,
              "#d8576b"
             ],
             [
              0.6666666666666666,
              "#ed7953"
             ],
             [
              0.7777777777777778,
              "#fb9f3a"
             ],
             [
              0.8888888888888888,
              "#fdca26"
             ],
             [
              1,
              "#f0f921"
             ]
            ],
            "type": "histogram2dcontour"
           }
          ],
          "mesh3d": [
           {
            "colorbar": {
             "outlinewidth": 0,
             "ticks": ""
            },
            "type": "mesh3d"
           }
          ],
          "parcoords": [
           {
            "line": {
             "colorbar": {
              "outlinewidth": 0,
              "ticks": ""
             }
            },
            "type": "parcoords"
           }
          ],
          "pie": [
           {
            "automargin": true,
            "type": "pie"
           }
          ],
          "scatter": [
           {
            "marker": {
             "colorbar": {
              "outlinewidth": 0,
              "ticks": ""
             }
            },
            "type": "scatter"
           }
          ],
          "scatter3d": [
           {
            "line": {
             "colorbar": {
              "outlinewidth": 0,
              "ticks": ""
             }
            },
            "marker": {
             "colorbar": {
              "outlinewidth": 0,
              "ticks": ""
             }
            },
            "type": "scatter3d"
           }
          ],
          "scattercarpet": [
           {
            "marker": {
             "colorbar": {
              "outlinewidth": 0,
              "ticks": ""
             }
            },
            "type": "scattercarpet"
           }
          ],
          "scattergeo": [
           {
            "marker": {
             "colorbar": {
              "outlinewidth": 0,
              "ticks": ""
             }
            },
            "type": "scattergeo"
           }
          ],
          "scattergl": [
           {
            "marker": {
             "colorbar": {
              "outlinewidth": 0,
              "ticks": ""
             }
            },
            "type": "scattergl"
           }
          ],
          "scattermapbox": [
           {
            "marker": {
             "colorbar": {
              "outlinewidth": 0,
              "ticks": ""
             }
            },
            "type": "scattermapbox"
           }
          ],
          "scatterpolar": [
           {
            "marker": {
             "colorbar": {
              "outlinewidth": 0,
              "ticks": ""
             }
            },
            "type": "scatterpolar"
           }
          ],
          "scatterpolargl": [
           {
            "marker": {
             "colorbar": {
              "outlinewidth": 0,
              "ticks": ""
             }
            },
            "type": "scatterpolargl"
           }
          ],
          "scatterternary": [
           {
            "marker": {
             "colorbar": {
              "outlinewidth": 0,
              "ticks": ""
             }
            },
            "type": "scatterternary"
           }
          ],
          "surface": [
           {
            "colorbar": {
             "outlinewidth": 0,
             "ticks": ""
            },
            "colorscale": [
             [
              0,
              "#0d0887"
             ],
             [
              0.1111111111111111,
              "#46039f"
             ],
             [
              0.2222222222222222,
              "#7201a8"
             ],
             [
              0.3333333333333333,
              "#9c179e"
             ],
             [
              0.4444444444444444,
              "#bd3786"
             ],
             [
              0.5555555555555556,
              "#d8576b"
             ],
             [
              0.6666666666666666,
              "#ed7953"
             ],
             [
              0.7777777777777778,
              "#fb9f3a"
             ],
             [
              0.8888888888888888,
              "#fdca26"
             ],
             [
              1,
              "#f0f921"
             ]
            ],
            "type": "surface"
           }
          ],
          "table": [
           {
            "cells": {
             "fill": {
              "color": "#EBF0F8"
             },
             "line": {
              "color": "white"
             }
            },
            "header": {
             "fill": {
              "color": "#C8D4E3"
             },
             "line": {
              "color": "white"
             }
            },
            "type": "table"
           }
          ]
         },
         "layout": {
          "annotationdefaults": {
           "arrowcolor": "#2a3f5f",
           "arrowhead": 0,
           "arrowwidth": 1
          },
          "autotypenumbers": "strict",
          "coloraxis": {
           "colorbar": {
            "outlinewidth": 0,
            "ticks": ""
           }
          },
          "colorscale": {
           "diverging": [
            [
             0,
             "#8e0152"
            ],
            [
             0.1,
             "#c51b7d"
            ],
            [
             0.2,
             "#de77ae"
            ],
            [
             0.3,
             "#f1b6da"
            ],
            [
             0.4,
             "#fde0ef"
            ],
            [
             0.5,
             "#f7f7f7"
            ],
            [
             0.6,
             "#e6f5d0"
            ],
            [
             0.7,
             "#b8e186"
            ],
            [
             0.8,
             "#7fbc41"
            ],
            [
             0.9,
             "#4d9221"
            ],
            [
             1,
             "#276419"
            ]
           ],
           "sequential": [
            [
             0,
             "#0d0887"
            ],
            [
             0.1111111111111111,
             "#46039f"
            ],
            [
             0.2222222222222222,
             "#7201a8"
            ],
            [
             0.3333333333333333,
             "#9c179e"
            ],
            [
             0.4444444444444444,
             "#bd3786"
            ],
            [
             0.5555555555555556,
             "#d8576b"
            ],
            [
             0.6666666666666666,
             "#ed7953"
            ],
            [
             0.7777777777777778,
             "#fb9f3a"
            ],
            [
             0.8888888888888888,
             "#fdca26"
            ],
            [
             1,
             "#f0f921"
            ]
           ],
           "sequentialminus": [
            [
             0,
             "#0d0887"
            ],
            [
             0.1111111111111111,
             "#46039f"
            ],
            [
             0.2222222222222222,
             "#7201a8"
            ],
            [
             0.3333333333333333,
             "#9c179e"
            ],
            [
             0.4444444444444444,
             "#bd3786"
            ],
            [
             0.5555555555555556,
             "#d8576b"
            ],
            [
             0.6666666666666666,
             "#ed7953"
            ],
            [
             0.7777777777777778,
             "#fb9f3a"
            ],
            [
             0.8888888888888888,
             "#fdca26"
            ],
            [
             1,
             "#f0f921"
            ]
           ]
          },
          "colorway": [
           "#636efa",
           "#EF553B",
           "#00cc96",
           "#ab63fa",
           "#FFA15A",
           "#19d3f3",
           "#FF6692",
           "#B6E880",
           "#FF97FF",
           "#FECB52"
          ],
          "font": {
           "color": "#2a3f5f"
          },
          "geo": {
           "bgcolor": "white",
           "lakecolor": "white",
           "landcolor": "#E5ECF6",
           "showlakes": true,
           "showland": true,
           "subunitcolor": "white"
          },
          "hoverlabel": {
           "align": "left"
          },
          "hovermode": "closest",
          "mapbox": {
           "style": "light"
          },
          "paper_bgcolor": "white",
          "plot_bgcolor": "#E5ECF6",
          "polar": {
           "angularaxis": {
            "gridcolor": "white",
            "linecolor": "white",
            "ticks": ""
           },
           "bgcolor": "#E5ECF6",
           "radialaxis": {
            "gridcolor": "white",
            "linecolor": "white",
            "ticks": ""
           }
          },
          "scene": {
           "xaxis": {
            "backgroundcolor": "#E5ECF6",
            "gridcolor": "white",
            "gridwidth": 2,
            "linecolor": "white",
            "showbackground": true,
            "ticks": "",
            "zerolinecolor": "white"
           },
           "yaxis": {
            "backgroundcolor": "#E5ECF6",
            "gridcolor": "white",
            "gridwidth": 2,
            "linecolor": "white",
            "showbackground": true,
            "ticks": "",
            "zerolinecolor": "white"
           },
           "zaxis": {
            "backgroundcolor": "#E5ECF6",
            "gridcolor": "white",
            "gridwidth": 2,
            "linecolor": "white",
            "showbackground": true,
            "ticks": "",
            "zerolinecolor": "white"
           }
          },
          "shapedefaults": {
           "line": {
            "color": "#2a3f5f"
           }
          },
          "ternary": {
           "aaxis": {
            "gridcolor": "white",
            "linecolor": "white",
            "ticks": ""
           },
           "baxis": {
            "gridcolor": "white",
            "linecolor": "white",
            "ticks": ""
           },
           "bgcolor": "#E5ECF6",
           "caxis": {
            "gridcolor": "white",
            "linecolor": "white",
            "ticks": ""
           }
          },
          "title": {
           "x": 0.05
          },
          "xaxis": {
           "automargin": true,
           "gridcolor": "white",
           "linecolor": "white",
           "ticks": "",
           "title": {
            "standoff": 15
           },
           "zerolinecolor": "white",
           "zerolinewidth": 2
          },
          "yaxis": {
           "automargin": true,
           "gridcolor": "white",
           "linecolor": "white",
           "ticks": "",
           "title": {
            "standoff": 15
           },
           "zerolinecolor": "white",
           "zerolinewidth": 2
          }
         }
        },
        "title": {
         "text": "ProphetDetector: Anomalies in top1_hashtag_count (Forecast Overlaid)"
        },
        "width": 1000,
        "xaxis": {
         "anchor": "y",
         "domain": [
          0,
          0.94
         ],
         "rangeselector": {
          "buttons": [
           {
            "count": 7,
            "label": "1w",
            "step": "day",
            "stepmode": "backward"
           },
           {
            "count": 1,
            "label": "1m",
            "step": "month",
            "stepmode": "backward"
           },
           {
            "count": 6,
            "label": "6m",
            "step": "month",
            "stepmode": "backward"
           },
           {
            "count": 1,
            "label": "1y",
            "step": "year",
            "stepmode": "backward"
           },
           {
            "step": "all"
           }
          ]
         },
         "rangeslider": {
          "visible": true
         },
         "title": {
          "text": "Time"
         },
         "type": "date"
        },
        "yaxis": {
         "anchor": "x",
         "domain": [
          0,
          1
         ],
         "title": {
          "text": "top1_hashtag_count"
         }
        },
        "yaxis2": {
         "anchor": "x",
         "overlaying": "y",
         "range": [
          -1.9957544510279923,
          10.121784228691471
         ],
         "side": "right",
         "title": {
          "text": "Anomaly Score"
         }
        }
       }
      }
     },
     "metadata": {}
    },
    {
     "output_type": "stream",
     "name": "stdout",
     "text": [
      "Initial log joint probability = -6.37247\n",
      "    Iter      log prob        ||dx||      ||grad||       alpha      alpha0  # evals  Notes \n",
      "      69       203.422    0.00300759        84.365    3.38e-05       0.001      130  LS failed, Hessian reset \n",
      "      99       203.604   2.64385e-05       75.8737           1           1      170   \n",
      "    Iter      log prob        ||dx||      ||grad||       alpha      alpha0  # evals  Notes \n",
      "     110       203.613   6.93806e-05       77.5385   8.162e-07       0.001      219  LS failed, Hessian reset \n",
      "     152       203.616   3.21001e-06       71.1483   4.126e-08       0.001      311  LS failed, Hessian reset \n",
      "     185       203.616   2.77471e-09       83.1181      0.0779      0.0779      360   \n",
      "Optimization terminated normally: \n",
      "  Convergence detected: absolute parameter change was below tolerance\n"
     ]
    },
    {
     "output_type": "display_data",
     "data": {
      "application/vnd.plotly.v1+json": {
       "config": {
        "plotlyServerURL": "https://plot.ly"
       },
       "data": [
        {
         "hoverinfo": "skip",
         "line": {
          "width": 0
         },
         "mode": "lines",
         "showlegend": false,
         "type": "scatter",
         "x": [
          "2020-12-08T23:00:00",
          "2020-12-09T00:00:00",
          "2020-12-09T01:00:00",
          "2020-12-09T02:00:00",
          "2020-12-09T03:00:00",
          "2020-12-09T04:00:00",
          "2020-12-09T05:00:00",
          "2020-12-09T06:00:00",
          "2020-12-09T07:00:00",
          "2020-12-09T08:00:00",
          "2020-12-09T09:00:00",
          "2020-12-09T10:00:00",
          "2020-12-09T11:00:00",
          "2020-12-09T12:00:00",
          "2020-12-09T13:00:00",
          "2020-12-09T14:00:00",
          "2020-12-09T15:00:00",
          "2020-12-09T16:00:00",
          "2020-12-09T17:00:00",
          "2020-12-09T18:00:00",
          "2020-12-09T19:00:00",
          "2020-12-09T20:00:00",
          "2020-12-09T21:00:00",
          "2020-12-09T22:00:00",
          "2020-12-09T23:00:00",
          "2020-12-10T00:00:00",
          "2020-12-10T01:00:00",
          "2020-12-10T02:00:00",
          "2020-12-10T03:00:00",
          "2020-12-10T04:00:00",
          "2020-12-10T05:00:00",
          "2020-12-10T06:00:00",
          "2020-12-10T07:00:00",
          "2020-12-10T08:00:00",
          "2020-12-10T09:00:00",
          "2020-12-10T10:00:00",
          "2020-12-10T11:00:00",
          "2020-12-10T12:00:00",
          "2020-12-10T13:00:00",
          "2020-12-10T14:00:00",
          "2020-12-10T15:00:00",
          "2020-12-10T16:00:00",
          "2020-12-10T17:00:00",
          "2020-12-10T18:00:00",
          "2020-12-10T19:00:00",
          "2020-12-10T20:00:00",
          "2020-12-10T21:00:00",
          "2020-12-10T22:00:00",
          "2020-12-10T23:00:00",
          "2020-12-11T00:00:00",
          "2020-12-11T01:00:00",
          "2020-12-11T02:00:00",
          "2020-12-11T03:00:00",
          "2020-12-11T04:00:00",
          "2020-12-11T05:00:00",
          "2020-12-11T06:00:00",
          "2020-12-11T07:00:00",
          "2020-12-11T08:00:00",
          "2020-12-11T09:00:00",
          "2020-12-11T10:00:00",
          "2020-12-11T11:00:00",
          "2020-12-11T12:00:00",
          "2020-12-11T13:00:00",
          "2020-12-11T14:00:00",
          "2020-12-11T15:00:00",
          "2020-12-11T16:00:00",
          "2020-12-11T17:00:00",
          "2020-12-11T18:00:00",
          "2020-12-11T19:00:00",
          "2020-12-11T20:00:00",
          "2020-12-11T21:00:00",
          "2020-12-11T22:00:00",
          "2020-12-11T23:00:00",
          "2020-12-12T00:00:00",
          "2020-12-12T01:00:00",
          "2020-12-12T02:00:00",
          "2020-12-12T03:00:00",
          "2020-12-12T04:00:00",
          "2020-12-12T05:00:00",
          "2020-12-12T06:00:00",
          "2020-12-12T07:00:00",
          "2020-12-12T08:00:00",
          "2020-12-12T09:00:00",
          "2020-12-12T10:00:00",
          "2020-12-12T11:00:00",
          "2020-12-12T12:00:00",
          "2020-12-12T13:00:00",
          "2020-12-12T14:00:00",
          "2020-12-12T15:00:00",
          "2020-12-12T16:00:00",
          "2020-12-12T17:00:00",
          "2020-12-12T18:00:00",
          "2020-12-12T19:00:00",
          "2020-12-12T20:00:00",
          "2020-12-12T21:00:00",
          "2020-12-12T22:00:00",
          "2020-12-12T23:00:00",
          "2020-12-13T00:00:00",
          "2020-12-13T01:00:00",
          "2020-12-13T02:00:00",
          "2020-12-13T03:00:00",
          "2020-12-13T04:00:00",
          "2020-12-13T05:00:00",
          "2020-12-13T06:00:00",
          "2020-12-13T07:00:00",
          "2020-12-13T08:00:00",
          "2020-12-13T09:00:00",
          "2020-12-13T10:00:00",
          "2020-12-13T11:00:00",
          "2020-12-13T12:00:00",
          "2020-12-13T13:00:00",
          "2020-12-13T14:00:00",
          "2020-12-13T15:00:00",
          "2020-12-13T16:00:00",
          "2020-12-13T17:00:00",
          "2020-12-13T18:00:00",
          "2020-12-13T19:00:00",
          "2020-12-13T20:00:00",
          "2020-12-13T21:00:00",
          "2020-12-13T22:00:00",
          "2020-12-13T23:00:00",
          "2020-12-14T00:00:00",
          "2020-12-14T01:00:00",
          "2020-12-14T02:00:00",
          "2020-12-14T03:00:00",
          "2020-12-14T04:00:00",
          "2020-12-14T05:00:00",
          "2020-12-14T06:00:00",
          "2020-12-14T07:00:00",
          "2020-12-14T08:00:00",
          "2020-12-14T09:00:00",
          "2020-12-14T10:00:00",
          "2020-12-14T11:00:00",
          "2020-12-14T12:00:00",
          "2020-12-14T13:00:00",
          "2020-12-14T14:00:00",
          "2020-12-14T15:00:00",
          "2020-12-14T16:00:00",
          "2020-12-14T17:00:00",
          "2020-12-14T18:00:00",
          "2020-12-14T19:00:00",
          "2020-12-14T20:00:00",
          "2020-12-14T21:00:00",
          "2020-12-14T22:00:00",
          "2020-12-14T23:00:00",
          "2020-12-15T00:00:00",
          "2020-12-15T01:00:00",
          "2020-12-15T02:00:00",
          "2020-12-15T03:00:00",
          "2020-12-15T04:00:00",
          "2020-12-15T05:00:00",
          "2020-12-15T06:00:00",
          "2020-12-15T07:00:00",
          "2020-12-15T08:00:00",
          "2020-12-15T09:00:00",
          "2020-12-15T10:00:00",
          "2020-12-15T11:00:00",
          "2020-12-15T12:00:00",
          "2020-12-15T13:00:00",
          "2020-12-15T14:00:00",
          "2020-12-15T15:00:00",
          "2020-12-15T16:00:00",
          "2020-12-15T17:00:00",
          "2020-12-15T18:00:00",
          "2020-12-15T19:00:00",
          "2020-12-15T20:00:00",
          "2020-12-15T21:00:00",
          "2020-12-15T22:00:00",
          "2020-12-15T23:00:00",
          "2020-12-16T00:00:00"
         ],
         "y": [
          0.7154930273451124,
          0.878749459661753,
          0.9240082270031378,
          0.8094204497499735,
          0.9212030991782787,
          0.9918887779359447,
          0.9213345717535729,
          0.9350088588976233,
          1.0740827714070371,
          0.9407601108028196,
          1.0860174280525892,
          1.0183781244319656,
          1.0922710439414927,
          1.1997013531518883,
          1.1569232824268598,
          1.3427831737062794,
          1.2104625998496135,
          1.332411013500895,
          1.2976717846767756,
          1.227124573844707,
          1.39101219359594,
          1.3193772496755056,
          1.4762702793542344,
          1.525026529125352,
          1.4530027772562644,
          1.5340349577116028,
          1.5011512476925049,
          1.5895246705133292,
          1.5769210749692726,
          1.6458378481572602,
          1.703472545035198,
          1.7636754209335859,
          1.7677048095154761,
          1.7757309689827494,
          1.7920120926407588,
          1.718113164876117,
          1.7410827544846328,
          1.9664524451353618,
          1.8499427087617502,
          2.023532583076986,
          1.981848809890426,
          2.0202864891203807,
          2.188121642080991,
          2.173306605523819,
          2.0844550163719155,
          2.2098446084120957,
          2.24086794898014,
          2.2225779946263935,
          2.2470684443033404,
          2.307861952208345,
          2.3077848091982904,
          2.3964745349866012,
          2.4012988180499844,
          2.4071807076529637,
          2.451806247657923,
          2.414132675033113,
          2.517557004926791,
          2.572725001193917,
          2.615379812142634,
          2.6013619800788064,
          2.7324173756791392,
          2.785210582324269,
          2.626087753416909,
          2.744454740195091,
          2.7598699129161552,
          2.8999889559110636,
          2.8147584840096584,
          2.8460623522018027,
          2.865727197154265,
          2.9679708921489065,
          2.9580390083267334,
          3.0534790503045057,
          2.9207290804950103,
          2.984640397461502,
          3.139363867182108,
          3.0121139587325567,
          3.1646348942226123,
          3.10867198547579,
          3.257682451493668,
          3.207260219858695,
          3.212214887187768,
          3.334540140422976,
          3.250949790875751,
          3.535042011463702,
          3.40593688240641,
          3.375590739585284,
          3.4980846911054435,
          3.479597942610456,
          3.6294371046705423,
          3.4581772718527177,
          3.5394654595388717,
          3.531882600450709,
          3.6706197877030906,
          3.5507041986180417,
          3.629905022772807,
          3.6543950911436407,
          3.621193544505098,
          3.572679744439404,
          3.702501630325738,
          3.6321629622108147,
          3.560398727510457,
          3.6462292572177786,
          3.7092422811096872,
          3.731658116281681,
          3.6627672860232314,
          3.646962604148956,
          3.70315514659766,
          3.5923135011467298,
          3.7192764697239094,
          3.7204051515978773,
          3.663327667954572,
          3.6747855321359353,
          3.555337836256741,
          3.6306556981736695,
          3.657535153665059,
          3.5577988451722233,
          3.523555076271652,
          3.5181600712150165,
          3.561766230156046,
          3.5571663420328914,
          3.4375645565845767,
          3.330468034329147,
          3.569130088805392,
          3.4238282245331497,
          3.5146375277906428,
          3.4394812546843543,
          3.357210902594322,
          3.466455267777998,
          3.4087434465182875,
          3.236043322891848,
          3.3444704734660937,
          3.373432208807726,
          3.1706574475303615,
          3.1201110939117913,
          3.2682766753009718,
          3.3039089173066816,
          3.2309820853274624,
          3.258307316843781,
          3.2652729320641027,
          3.157453623676629,
          3.0178745161485727,
          3.0596210590861266,
          3.1319218137638227,
          3.0580338490757475,
          3.0868594505276317,
          3.0984078328205507,
          3.043834295695457,
          2.8855504651301427,
          2.9297320650216996,
          2.92226147282632,
          3.0065283688438633,
          3.0236174096211306,
          3.0775799883546426,
          2.9627333591968066,
          2.8610624165584415,
          2.8696449703665428,
          2.8204998732551276,
          2.8628792824001192,
          2.8197384594884083,
          2.6923884216201555,
          2.7016146899549494,
          2.761514012570742,
          2.762536790512632,
          2.765263811829884,
          2.8171195992884144,
          2.696050620413623,
          2.8614560851687756,
          2.6498625006845775,
          2.668409552857531,
          2.626566122543781
         ]
        },
        {
         "fill": "tonexty",
         "fillcolor": "rgba(0, 114, 178, 0.2)",
         "line": {
          "color": "#0072B2",
          "width": 2
         },
         "mode": "lines",
         "name": "Forecast",
         "type": "scatter",
         "x": [
          "2020-12-08T23:00:00",
          "2020-12-09T00:00:00",
          "2020-12-09T01:00:00",
          "2020-12-09T02:00:00",
          "2020-12-09T03:00:00",
          "2020-12-09T04:00:00",
          "2020-12-09T05:00:00",
          "2020-12-09T06:00:00",
          "2020-12-09T07:00:00",
          "2020-12-09T08:00:00",
          "2020-12-09T09:00:00",
          "2020-12-09T10:00:00",
          "2020-12-09T11:00:00",
          "2020-12-09T12:00:00",
          "2020-12-09T13:00:00",
          "2020-12-09T14:00:00",
          "2020-12-09T15:00:00",
          "2020-12-09T16:00:00",
          "2020-12-09T17:00:00",
          "2020-12-09T18:00:00",
          "2020-12-09T19:00:00",
          "2020-12-09T20:00:00",
          "2020-12-09T21:00:00",
          "2020-12-09T22:00:00",
          "2020-12-09T23:00:00",
          "2020-12-10T00:00:00",
          "2020-12-10T01:00:00",
          "2020-12-10T02:00:00",
          "2020-12-10T03:00:00",
          "2020-12-10T04:00:00",
          "2020-12-10T05:00:00",
          "2020-12-10T06:00:00",
          "2020-12-10T07:00:00",
          "2020-12-10T08:00:00",
          "2020-12-10T09:00:00",
          "2020-12-10T10:00:00",
          "2020-12-10T11:00:00",
          "2020-12-10T12:00:00",
          "2020-12-10T13:00:00",
          "2020-12-10T14:00:00",
          "2020-12-10T15:00:00",
          "2020-12-10T16:00:00",
          "2020-12-10T17:00:00",
          "2020-12-10T18:00:00",
          "2020-12-10T19:00:00",
          "2020-12-10T20:00:00",
          "2020-12-10T21:00:00",
          "2020-12-10T22:00:00",
          "2020-12-10T23:00:00",
          "2020-12-11T00:00:00",
          "2020-12-11T01:00:00",
          "2020-12-11T02:00:00",
          "2020-12-11T03:00:00",
          "2020-12-11T04:00:00",
          "2020-12-11T05:00:00",
          "2020-12-11T06:00:00",
          "2020-12-11T07:00:00",
          "2020-12-11T08:00:00",
          "2020-12-11T09:00:00",
          "2020-12-11T10:00:00",
          "2020-12-11T11:00:00",
          "2020-12-11T12:00:00",
          "2020-12-11T13:00:00",
          "2020-12-11T14:00:00",
          "2020-12-11T15:00:00",
          "2020-12-11T16:00:00",
          "2020-12-11T17:00:00",
          "2020-12-11T18:00:00",
          "2020-12-11T19:00:00",
          "2020-12-11T20:00:00",
          "2020-12-11T21:00:00",
          "2020-12-11T22:00:00",
          "2020-12-11T23:00:00",
          "2020-12-12T00:00:00",
          "2020-12-12T01:00:00",
          "2020-12-12T02:00:00",
          "2020-12-12T03:00:00",
          "2020-12-12T04:00:00",
          "2020-12-12T05:00:00",
          "2020-12-12T06:00:00",
          "2020-12-12T07:00:00",
          "2020-12-12T08:00:00",
          "2020-12-12T09:00:00",
          "2020-12-12T10:00:00",
          "2020-12-12T11:00:00",
          "2020-12-12T12:00:00",
          "2020-12-12T13:00:00",
          "2020-12-12T14:00:00",
          "2020-12-12T15:00:00",
          "2020-12-12T16:00:00",
          "2020-12-12T17:00:00",
          "2020-12-12T18:00:00",
          "2020-12-12T19:00:00",
          "2020-12-12T20:00:00",
          "2020-12-12T21:00:00",
          "2020-12-12T22:00:00",
          "2020-12-12T23:00:00",
          "2020-12-13T00:00:00",
          "2020-12-13T01:00:00",
          "2020-12-13T02:00:00",
          "2020-12-13T03:00:00",
          "2020-12-13T04:00:00",
          "2020-12-13T05:00:00",
          "2020-12-13T06:00:00",
          "2020-12-13T07:00:00",
          "2020-12-13T08:00:00",
          "2020-12-13T09:00:00",
          "2020-12-13T10:00:00",
          "2020-12-13T11:00:00",
          "2020-12-13T12:00:00",
          "2020-12-13T13:00:00",
          "2020-12-13T14:00:00",
          "2020-12-13T15:00:00",
          "2020-12-13T16:00:00",
          "2020-12-13T17:00:00",
          "2020-12-13T18:00:00",
          "2020-12-13T19:00:00",
          "2020-12-13T20:00:00",
          "2020-12-13T21:00:00",
          "2020-12-13T22:00:00",
          "2020-12-13T23:00:00",
          "2020-12-14T00:00:00",
          "2020-12-14T01:00:00",
          "2020-12-14T02:00:00",
          "2020-12-14T03:00:00",
          "2020-12-14T04:00:00",
          "2020-12-14T05:00:00",
          "2020-12-14T06:00:00",
          "2020-12-14T07:00:00",
          "2020-12-14T08:00:00",
          "2020-12-14T09:00:00",
          "2020-12-14T10:00:00",
          "2020-12-14T11:00:00",
          "2020-12-14T12:00:00",
          "2020-12-14T13:00:00",
          "2020-12-14T14:00:00",
          "2020-12-14T15:00:00",
          "2020-12-14T16:00:00",
          "2020-12-14T17:00:00",
          "2020-12-14T18:00:00",
          "2020-12-14T19:00:00",
          "2020-12-14T20:00:00",
          "2020-12-14T21:00:00",
          "2020-12-14T22:00:00",
          "2020-12-14T23:00:00",
          "2020-12-15T00:00:00",
          "2020-12-15T01:00:00",
          "2020-12-15T02:00:00",
          "2020-12-15T03:00:00",
          "2020-12-15T04:00:00",
          "2020-12-15T05:00:00",
          "2020-12-15T06:00:00",
          "2020-12-15T07:00:00",
          "2020-12-15T08:00:00",
          "2020-12-15T09:00:00",
          "2020-12-15T10:00:00",
          "2020-12-15T11:00:00",
          "2020-12-15T12:00:00",
          "2020-12-15T13:00:00",
          "2020-12-15T14:00:00",
          "2020-12-15T15:00:00",
          "2020-12-15T16:00:00",
          "2020-12-15T17:00:00",
          "2020-12-15T18:00:00",
          "2020-12-15T19:00:00",
          "2020-12-15T20:00:00",
          "2020-12-15T21:00:00",
          "2020-12-15T22:00:00",
          "2020-12-15T23:00:00",
          "2020-12-16T00:00:00"
         ],
         "y": [
          -0.316337365408044,
          -0.2849674595003989,
          -0.2535975535927539,
          -0.22222764768510878,
          -0.1908577417774637,
          -0.15948783586981866,
          -0.12811792997107518,
          -0.0967480240723317,
          -0.06537811817358828,
          -0.0340082122748448,
          -0.0026383063761013835,
          0.028731599522642166,
          0.06010150564929868,
          0.09147141177595526,
          0.12284131790261184,
          0.15421122402926826,
          0.18558113015592478,
          0.21695103688376005,
          0.24832094361159524,
          0.2796908503394304,
          0.31106075706726555,
          0.34243066379510084,
          0.37380057052293597,
          0.40517047785235644,
          0.4365403851817768,
          0.46791029251119715,
          0.4992801998406175,
          0.5306501071700379,
          0.5620200143664381,
          0.5933899215628382,
          0.6247598287592385,
          0.6561297359556387,
          0.6874996431520389,
          0.7188695504724689,
          0.7502394577928987,
          0.7816093651133283,
          0.8129792724337581,
          0.8443491797541881,
          0.8757190870746177,
          0.9070889945508591,
          0.9384589020271007,
          0.9698288095033422,
          1.0011987169795835,
          1.0325686244558254,
          1.0639385318911299,
          1.0953084393264345,
          1.1266783467617387,
          1.1580482541970434,
          1.189418161632348,
          1.2207880690676522,
          1.25215797689486,
          1.283527884722068,
          1.3148977925492755,
          1.3462677003764831,
          1.3776376082036912,
          1.4090075160276863,
          1.4403774238516818,
          1.471747331675677,
          1.5031172394996724,
          1.5344871473236679,
          1.565857054962902,
          1.5972269626021367,
          1.628596870241371,
          1.6599667778806053,
          1.6913366855198393,
          1.7227065931590742,
          1.7540765003478023,
          1.7854464075365313,
          1.8168163147252594,
          1.848186221913988,
          1.8795561291027167,
          1.9109260352753414,
          1.9422959414479661,
          1.973665847620591,
          2.0050357537932157,
          2.0364056599658404,
          2.0677755661384656,
          2.0991454723558935,
          2.1305153785733224,
          2.1618852847907504,
          2.193255191008179,
          2.224625097225607,
          2.255982769298892,
          2.2873404413721774,
          2.318698113445462,
          2.3500557855187467,
          2.381413457592032,
          2.4057627481522847,
          2.4301120387125374,
          2.4544613292727906,
          2.4788106198330433,
          2.503159910393296,
          2.527509200953549,
          2.5422093175511145,
          2.5569094341486798,
          2.571609550746245,
          2.58630966734381,
          2.6010097839413757,
          2.6049854320579753,
          2.6089610801745757,
          2.6129367282911757,
          2.616912376407776,
          2.6208880245243757,
          2.624863672640976,
          2.62040931496905,
          2.6159549572971237,
          2.611500599625198,
          2.6070462419532716,
          2.6025918842813454,
          2.5931451843312794,
          2.583698484381214,
          2.574251784431148,
          2.564805084481082,
          2.555358384531016,
          2.539542904726148,
          2.5237274249212804,
          2.5079119451164136,
          2.4920964653115454,
          2.4762809855066776,
          2.4604655057018094,
          2.4425641909592923,
          2.4246628762167752,
          2.4067615614742577,
          2.3888602467317397,
          2.3709589319892226,
          2.353054421809933,
          2.335149911630644,
          2.3172454014513546,
          2.2993408912720654,
          2.281436381092776,
          2.2635318709134866,
          2.2456230545663005,
          2.227714238219114,
          2.2098054218719274,
          2.191896605524741,
          2.1739877891775548,
          2.1560789741899606,
          2.138170159202367,
          2.1202613442147737,
          2.10235252922718,
          2.0844437142395864,
          2.0665348992519927,
          2.0486260842643986,
          2.030717269276805,
          2.0128084542892113,
          1.9948996393016176,
          1.9769908243140244,
          1.9590820093264307,
          1.941173194338837,
          1.9232643793512434,
          1.9053555643636495,
          1.8874467493760558,
          1.8695379343884622,
          1.851629119400869,
          1.8337203044132746,
          1.815811489425681,
          1.7979026744380873,
          1.779993859450494,
          1.7620850444629004,
          1.7441762294753067,
          1.7262674144877128,
          1.7083585995001191,
          1.6904497845125255,
          1.6725409695249318,
          1.6546321545373386,
          1.6367233395497447,
          1.618814524562151,
          1.6009057095745574,
          1.5829968945869637,
          1.5650880795993698
         ]
        },
        {
         "fill": "tonexty",
         "fillcolor": "rgba(0, 114, 178, 0.2)",
         "hoverinfo": "skip",
         "line": {
          "width": 0
         },
         "mode": "lines",
         "showlegend": false,
         "type": "scatter",
         "x": [
          "2020-12-08T23:00:00",
          "2020-12-09T00:00:00",
          "2020-12-09T01:00:00",
          "2020-12-09T02:00:00",
          "2020-12-09T03:00:00",
          "2020-12-09T04:00:00",
          "2020-12-09T05:00:00",
          "2020-12-09T06:00:00",
          "2020-12-09T07:00:00",
          "2020-12-09T08:00:00",
          "2020-12-09T09:00:00",
          "2020-12-09T10:00:00",
          "2020-12-09T11:00:00",
          "2020-12-09T12:00:00",
          "2020-12-09T13:00:00",
          "2020-12-09T14:00:00",
          "2020-12-09T15:00:00",
          "2020-12-09T16:00:00",
          "2020-12-09T17:00:00",
          "2020-12-09T18:00:00",
          "2020-12-09T19:00:00",
          "2020-12-09T20:00:00",
          "2020-12-09T21:00:00",
          "2020-12-09T22:00:00",
          "2020-12-09T23:00:00",
          "2020-12-10T00:00:00",
          "2020-12-10T01:00:00",
          "2020-12-10T02:00:00",
          "2020-12-10T03:00:00",
          "2020-12-10T04:00:00",
          "2020-12-10T05:00:00",
          "2020-12-10T06:00:00",
          "2020-12-10T07:00:00",
          "2020-12-10T08:00:00",
          "2020-12-10T09:00:00",
          "2020-12-10T10:00:00",
          "2020-12-10T11:00:00",
          "2020-12-10T12:00:00",
          "2020-12-10T13:00:00",
          "2020-12-10T14:00:00",
          "2020-12-10T15:00:00",
          "2020-12-10T16:00:00",
          "2020-12-10T17:00:00",
          "2020-12-10T18:00:00",
          "2020-12-10T19:00:00",
          "2020-12-10T20:00:00",
          "2020-12-10T21:00:00",
          "2020-12-10T22:00:00",
          "2020-12-10T23:00:00",
          "2020-12-11T00:00:00",
          "2020-12-11T01:00:00",
          "2020-12-11T02:00:00",
          "2020-12-11T03:00:00",
          "2020-12-11T04:00:00",
          "2020-12-11T05:00:00",
          "2020-12-11T06:00:00",
          "2020-12-11T07:00:00",
          "2020-12-11T08:00:00",
          "2020-12-11T09:00:00",
          "2020-12-11T10:00:00",
          "2020-12-11T11:00:00",
          "2020-12-11T12:00:00",
          "2020-12-11T13:00:00",
          "2020-12-11T14:00:00",
          "2020-12-11T15:00:00",
          "2020-12-11T16:00:00",
          "2020-12-11T17:00:00",
          "2020-12-11T18:00:00",
          "2020-12-11T19:00:00",
          "2020-12-11T20:00:00",
          "2020-12-11T21:00:00",
          "2020-12-11T22:00:00",
          "2020-12-11T23:00:00",
          "2020-12-12T00:00:00",
          "2020-12-12T01:00:00",
          "2020-12-12T02:00:00",
          "2020-12-12T03:00:00",
          "2020-12-12T04:00:00",
          "2020-12-12T05:00:00",
          "2020-12-12T06:00:00",
          "2020-12-12T07:00:00",
          "2020-12-12T08:00:00",
          "2020-12-12T09:00:00",
          "2020-12-12T10:00:00",
          "2020-12-12T11:00:00",
          "2020-12-12T12:00:00",
          "2020-12-12T13:00:00",
          "2020-12-12T14:00:00",
          "2020-12-12T15:00:00",
          "2020-12-12T16:00:00",
          "2020-12-12T17:00:00",
          "2020-12-12T18:00:00",
          "2020-12-12T19:00:00",
          "2020-12-12T20:00:00",
          "2020-12-12T21:00:00",
          "2020-12-12T22:00:00",
          "2020-12-12T23:00:00",
          "2020-12-13T00:00:00",
          "2020-12-13T01:00:00",
          "2020-12-13T02:00:00",
          "2020-12-13T03:00:00",
          "2020-12-13T04:00:00",
          "2020-12-13T05:00:00",
          "2020-12-13T06:00:00",
          "2020-12-13T07:00:00",
          "2020-12-13T08:00:00",
          "2020-12-13T09:00:00",
          "2020-12-13T10:00:00",
          "2020-12-13T11:00:00",
          "2020-12-13T12:00:00",
          "2020-12-13T13:00:00",
          "2020-12-13T14:00:00",
          "2020-12-13T15:00:00",
          "2020-12-13T16:00:00",
          "2020-12-13T17:00:00",
          "2020-12-13T18:00:00",
          "2020-12-13T19:00:00",
          "2020-12-13T20:00:00",
          "2020-12-13T21:00:00",
          "2020-12-13T22:00:00",
          "2020-12-13T23:00:00",
          "2020-12-14T00:00:00",
          "2020-12-14T01:00:00",
          "2020-12-14T02:00:00",
          "2020-12-14T03:00:00",
          "2020-12-14T04:00:00",
          "2020-12-14T05:00:00",
          "2020-12-14T06:00:00",
          "2020-12-14T07:00:00",
          "2020-12-14T08:00:00",
          "2020-12-14T09:00:00",
          "2020-12-14T10:00:00",
          "2020-12-14T11:00:00",
          "2020-12-14T12:00:00",
          "2020-12-14T13:00:00",
          "2020-12-14T14:00:00",
          "2020-12-14T15:00:00",
          "2020-12-14T16:00:00",
          "2020-12-14T17:00:00",
          "2020-12-14T18:00:00",
          "2020-12-14T19:00:00",
          "2020-12-14T20:00:00",
          "2020-12-14T21:00:00",
          "2020-12-14T22:00:00",
          "2020-12-14T23:00:00",
          "2020-12-15T00:00:00",
          "2020-12-15T01:00:00",
          "2020-12-15T02:00:00",
          "2020-12-15T03:00:00",
          "2020-12-15T04:00:00",
          "2020-12-15T05:00:00",
          "2020-12-15T06:00:00",
          "2020-12-15T07:00:00",
          "2020-12-15T08:00:00",
          "2020-12-15T09:00:00",
          "2020-12-15T10:00:00",
          "2020-12-15T11:00:00",
          "2020-12-15T12:00:00",
          "2020-12-15T13:00:00",
          "2020-12-15T14:00:00",
          "2020-12-15T15:00:00",
          "2020-12-15T16:00:00",
          "2020-12-15T17:00:00",
          "2020-12-15T18:00:00",
          "2020-12-15T19:00:00",
          "2020-12-15T20:00:00",
          "2020-12-15T21:00:00",
          "2020-12-15T22:00:00",
          "2020-12-15T23:00:00",
          "2020-12-16T00:00:00"
         ],
         "y": [
          -1.5160361311429478,
          -1.3955722489996356,
          -1.1239907885472753,
          -1.3230251624911997,
          -1.2167257988038434,
          -1.2663394701338677,
          -1.2196012792025144,
          -1.121550588532884,
          -1.1601871145707048,
          -1.0945538878582846,
          -1.1095354431239042,
          -1.1138851792183875,
          -0.9919014274941084,
          -1.0344312733517314,
          -0.9858339667848767,
          -0.9508834148330191,
          -0.9537106415888165,
          -0.8126239828915188,
          -0.7283429556080374,
          -0.7663668475522178,
          -0.7459819971653908,
          -0.7574118717413798,
          -0.6236962284218504,
          -0.6272046647457947,
          -0.672259471640875,
          -0.6448303874985195,
          -0.4432590277867479,
          -0.6673648985178392,
          -0.5314569931695007,
          -0.5078368607555017,
          -0.39593105843798215,
          -0.3629380326568855,
          -0.3653990146029268,
          -0.4334928175718129,
          -0.25705351762798345,
          -0.4391232040499623,
          -0.3234069872352705,
          -0.15219899479994692,
          -0.20926137787261045,
          -0.18929050510501377,
          -0.09029326043789643,
          -0.10862947459968353,
          -0.04908934090821049,
          -0.059428172187771855,
          -0.05031367361918937,
          0.0339291181714938,
          0.0015648384206745636,
          0.15069553157719007,
          0.1416687784601114,
          0.19507661171453838,
          0.29842308685549834,
          0.25468660531404863,
          0.21296769329755505,
          0.3214996631980771,
          0.33284039258569353,
          0.23068410934370842,
          0.4732662043904424,
          0.4443179119244609,
          0.38183418859006846,
          0.4446570032297883,
          0.4869668846747728,
          0.5480171578389319,
          0.6223807101867382,
          0.6519407424729822,
          0.6697554046956484,
          0.7123038607227967,
          0.7528501702389105,
          0.7483078449278211,
          0.7060130072489312,
          0.776436882205408,
          0.7611750500030756,
          0.7893657119809063,
          0.7455429804139295,
          0.8480385452638008,
          0.8977521031007711,
          0.9524208487953363,
          0.9151677680423389,
          1.0400915866544063,
          1.1149608697852584,
          1.057258665756788,
          1.033025090886297,
          1.1155131358338122,
          1.2761220642362596,
          1.2314174102582667,
          1.2463282510984397,
          1.137969294600587,
          1.2369088768950214,
          1.2109787353240267,
          1.408908693166285,
          1.3797360034169524,
          1.429042471519205,
          1.4958759411574654,
          1.454452665061383,
          1.5236437254534503,
          1.381459599574094,
          1.4630264894796352,
          1.5730314658967295,
          1.4922775932337482,
          1.591933122091986,
          1.5482171712850836,
          1.4577747143560218,
          1.5756847246330994,
          1.5249743266015485,
          1.6150736981789304,
          1.4713245589208852,
          1.4781080324557028,
          1.4835070392880032,
          1.4796673939601988,
          1.5030081565319748,
          1.5538604372721248,
          1.5743892045961934,
          1.51189013712906,
          1.511312835800322,
          1.325066375590191,
          1.523035284433309,
          1.3988275300599842,
          1.413681639543814,
          1.392340738458619,
          1.3627181779063438,
          1.4152509878199069,
          1.3532755142358734,
          1.1722894057106008,
          1.4813524041677284,
          1.3764705264771537,
          1.2904388636414335,
          1.2753899309592132,
          1.1950476083929709,
          1.1196367324110525,
          1.2511352833187723,
          1.079801766033126,
          1.1557128841850624,
          1.2010971222183384,
          1.0685717708855504,
          1.1274188645813168,
          1.1372803244209733,
          1.0218929841846192,
          1.0947509638367765,
          1.0827665397191204,
          1.2077248350990728,
          1.0448554391243459,
          0.8906369739484643,
          0.8466305378110526,
          1.06825516548406,
          0.9648013457154008,
          0.9644562786857886,
          0.8530403805040934,
          0.9419113837578152,
          0.8224015253805406,
          0.8953519747685228,
          0.8558631297878909,
          0.7873484002479152,
          0.9395255679354177,
          0.8387248801259608,
          0.7217836801887951,
          0.7627579132496174,
          0.7696462216583124,
          0.729492038988597,
          0.7344772918761509,
          0.7712151222825698,
          0.6171199420296196,
          0.6513859310955614,
          0.7731477485250771,
          0.6326991654679424,
          0.696431881745974,
          0.7158602855948211,
          0.4846793692030227,
          0.6256056898785458,
          0.5439390960659372,
          0.4531167967848033,
          0.5184654841091774
         ]
        },
        {
         "line": {
          "color": "black",
          "width": 2
         },
         "mode": "lines",
         "name": "top2_hashtag_count",
         "type": "scatter",
         "x": [
          "2020-12-08T23:00:00",
          "2020-12-09T00:00:00",
          "2020-12-09T01:00:00",
          "2020-12-09T02:00:00",
          "2020-12-09T03:00:00",
          "2020-12-09T04:00:00",
          "2020-12-09T05:00:00",
          "2020-12-09T06:00:00",
          "2020-12-09T07:00:00",
          "2020-12-09T08:00:00",
          "2020-12-09T09:00:00",
          "2020-12-09T10:00:00",
          "2020-12-09T11:00:00",
          "2020-12-09T12:00:00",
          "2020-12-09T13:00:00",
          "2020-12-09T14:00:00",
          "2020-12-09T15:00:00",
          "2020-12-09T16:00:00",
          "2020-12-09T17:00:00",
          "2020-12-09T18:00:00",
          "2020-12-09T19:00:00",
          "2020-12-09T20:00:00",
          "2020-12-09T21:00:00",
          "2020-12-09T22:00:00",
          "2020-12-09T23:00:00",
          "2020-12-10T00:00:00",
          "2020-12-10T01:00:00",
          "2020-12-10T02:00:00",
          "2020-12-10T03:00:00",
          "2020-12-10T04:00:00",
          "2020-12-10T05:00:00",
          "2020-12-10T06:00:00",
          "2020-12-10T07:00:00",
          "2020-12-10T08:00:00",
          "2020-12-10T09:00:00",
          "2020-12-10T10:00:00",
          "2020-12-10T11:00:00",
          "2020-12-10T12:00:00",
          "2020-12-10T13:00:00",
          "2020-12-10T14:00:00",
          "2020-12-10T15:00:00",
          "2020-12-10T16:00:00",
          "2020-12-10T17:00:00",
          "2020-12-10T18:00:00",
          "2020-12-10T19:00:00",
          "2020-12-10T20:00:00",
          "2020-12-10T21:00:00",
          "2020-12-10T22:00:00",
          "2020-12-10T23:00:00",
          "2020-12-11T00:00:00",
          "2020-12-11T01:00:00",
          "2020-12-11T02:00:00",
          "2020-12-11T03:00:00",
          "2020-12-11T04:00:00",
          "2020-12-11T05:00:00",
          "2020-12-11T06:00:00",
          "2020-12-11T07:00:00",
          "2020-12-11T08:00:00",
          "2020-12-11T09:00:00",
          "2020-12-11T10:00:00",
          "2020-12-11T11:00:00",
          "2020-12-11T12:00:00",
          "2020-12-11T13:00:00",
          "2020-12-11T14:00:00",
          "2020-12-11T15:00:00",
          "2020-12-11T16:00:00",
          "2020-12-11T17:00:00",
          "2020-12-11T18:00:00",
          "2020-12-11T19:00:00",
          "2020-12-11T20:00:00",
          "2020-12-11T21:00:00",
          "2020-12-11T22:00:00",
          "2020-12-11T23:00:00",
          "2020-12-12T00:00:00",
          "2020-12-12T01:00:00",
          "2020-12-12T02:00:00",
          "2020-12-12T03:00:00",
          "2020-12-12T04:00:00",
          "2020-12-12T05:00:00",
          "2020-12-12T06:00:00",
          "2020-12-12T07:00:00",
          "2020-12-12T08:00:00",
          "2020-12-12T09:00:00",
          "2020-12-12T10:00:00",
          "2020-12-12T11:00:00",
          "2020-12-12T12:00:00",
          "2020-12-12T13:00:00",
          "2020-12-12T14:00:00",
          "2020-12-12T15:00:00",
          "2020-12-12T16:00:00",
          "2020-12-12T17:00:00",
          "2020-12-12T18:00:00",
          "2020-12-12T19:00:00",
          "2020-12-12T20:00:00",
          "2020-12-12T21:00:00",
          "2020-12-12T22:00:00",
          "2020-12-12T23:00:00",
          "2020-12-13T00:00:00",
          "2020-12-13T01:00:00",
          "2020-12-13T02:00:00",
          "2020-12-13T03:00:00",
          "2020-12-13T04:00:00",
          "2020-12-13T05:00:00",
          "2020-12-13T06:00:00",
          "2020-12-13T07:00:00",
          "2020-12-13T08:00:00",
          "2020-12-13T09:00:00",
          "2020-12-13T10:00:00",
          "2020-12-13T11:00:00",
          "2020-12-13T12:00:00",
          "2020-12-13T13:00:00",
          "2020-12-13T14:00:00",
          "2020-12-13T15:00:00",
          "2020-12-13T16:00:00",
          "2020-12-13T17:00:00",
          "2020-12-13T18:00:00",
          "2020-12-13T19:00:00",
          "2020-12-13T20:00:00",
          "2020-12-13T21:00:00",
          "2020-12-13T22:00:00",
          "2020-12-13T23:00:00",
          "2020-12-14T00:00:00",
          "2020-12-14T01:00:00",
          "2020-12-14T02:00:00",
          "2020-12-14T03:00:00",
          "2020-12-14T04:00:00",
          "2020-12-14T05:00:00",
          "2020-12-14T06:00:00",
          "2020-12-14T07:00:00",
          "2020-12-14T08:00:00",
          "2020-12-14T09:00:00",
          "2020-12-14T10:00:00",
          "2020-12-14T11:00:00",
          "2020-12-14T12:00:00",
          "2020-12-14T13:00:00",
          "2020-12-14T14:00:00",
          "2020-12-14T15:00:00",
          "2020-12-14T16:00:00",
          "2020-12-14T17:00:00",
          "2020-12-14T18:00:00",
          "2020-12-14T19:00:00",
          "2020-12-14T20:00:00",
          "2020-12-14T21:00:00",
          "2020-12-14T22:00:00",
          "2020-12-14T23:00:00",
          "2020-12-15T00:00:00",
          "2020-12-15T01:00:00",
          "2020-12-15T02:00:00",
          "2020-12-15T03:00:00",
          "2020-12-15T04:00:00",
          "2020-12-15T05:00:00",
          "2020-12-15T06:00:00",
          "2020-12-15T07:00:00",
          "2020-12-15T08:00:00",
          "2020-12-15T09:00:00",
          "2020-12-15T10:00:00",
          "2020-12-15T11:00:00",
          "2020-12-15T12:00:00",
          "2020-12-15T13:00:00",
          "2020-12-15T14:00:00",
          "2020-12-15T15:00:00",
          "2020-12-15T16:00:00",
          "2020-12-15T17:00:00",
          "2020-12-15T18:00:00",
          "2020-12-15T19:00:00",
          "2020-12-15T20:00:00",
          "2020-12-15T21:00:00",
          "2020-12-15T22:00:00",
          "2020-12-15T23:00:00",
          "2020-12-16T00:00:00"
         ],
         "y": [
          0,
          0.16666666666666666,
          0.3333333333333333,
          0.3333333333333333,
          0.5,
          0.5,
          0.8333333333333333,
          0.6666666666666666,
          0.5,
          0.5,
          0.5,
          0.6666666666666666,
          0.3333333333333333,
          0.3333333333333333,
          0.3333333333333333,
          0.3333333333333333,
          0.16666666666666666,
          0,
          0.16666666666666666,
          0.16666666666666666,
          0.16666666666666666,
          0.16666666666666666,
          0.16666666666666666,
          0.16666666666666666,
          0,
          0,
          0,
          0.3333333333333333,
          0.3333333333333333,
          0.3333333333333333,
          0.3333333333333333,
          0.3333333333333333,
          0.3333333333333333,
          0,
          0,
          0,
          0,
          0,
          0,
          0.3333333333333333,
          0.3333333333333333,
          0.3333333333333333,
          0.6666666666666666,
          0.6666666666666666,
          0.6666666666666666,
          0.3333333333333333,
          0.3333333333333333,
          0.3333333333333333,
          0,
          0,
          0,
          0,
          0.3333333333333333,
          0.3333333333333333,
          0.3333333333333333,
          0.3333333333333333,
          0.3333333333333333,
          0.3333333333333333,
          0,
          0,
          0,
          0,
          0,
          0,
          0,
          0,
          0.16666666666666666,
          0.16666666666666666,
          0.16666666666666666,
          0.3333333333333333,
          0.3333333333333333,
          0.3333333333333333,
          0.16666666666666666,
          0.16666666666666666,
          0.5,
          0.5,
          0.5,
          0.6666666666666666,
          2,
          3.5,
          3.333333333333333,
          4.166666666666666,
          4.666666666666666,
          5,
          3.666666666666667,
          2.5000000000000004,
          3,
          2.6666666666666665,
          2.833333333333333,
          5.666666666666666,
          7.499999999999999,
          9,
          9.666666666666666,
          9.166666666666666,
          9.499999999999998,
          7,
          5.999999999999999,
          4.833333333333333,
          3.9999999999999996,
          5.333333333333333,
          4.5,
          4.5,
          4.333333333333333,
          4.166666666666666,
          3.833333333333333,
          2.6666666666666665,
          2.6666666666666665,
          1.8333333333333333,
          1.5,
          1.3333333333333333,
          1.4999999999999998,
          1.6666666666666665,
          2.5,
          2.8333333333333335,
          2.5,
          3.333333333333333,
          3.1666666666666665,
          3,
          2.333333333333333,
          2.1666666666666665,
          2.833333333333333,
          2.333333333333333,
          3,
          2.8333333333333326,
          3.166666666666666,
          3.333333333333333,
          3.166666666666667,
          2.6666666666666665,
          1.8333333333333333,
          1.6666666666666667,
          0.9999999999999999,
          0.8333333333333333,
          0.5,
          0.3333333333333333,
          0.6666666666666666,
          1,
          1.3333333333333333,
          1.833333333333333,
          2.1666666666666665,
          2.6666666666666665,
          2.4999999999999996,
          2.5,
          2.5,
          3.333333333333333,
          3.333333333333333,
          2.833333333333333,
          2.833333333333333,
          2.9999999999999996,
          2.833333333333333,
          1.6666666666666665,
          1.1666666666666665,
          1.1666666666666665,
          1.3333333333333333,
          0.8333333333333333,
          0.6666666666666666,
          0.3333333333333333,
          0.5,
          0.5,
          0.16666666666666666,
          0.5,
          0.6666666666666666,
          0.6666666666666666,
          0.5,
          0.8333333333333333,
          1.1666666666666665,
          0.8333333333333333,
          0.6666666666666666,
          0.8333333333333333,
          0.8333333333333333,
          1
         ]
        },
        {
         "line": {
          "color": "red",
          "width": 2
         },
         "mode": "lines",
         "name": "Anomaly Score",
         "type": "scatter",
         "x": [
          "2020-12-08T23:00:00",
          "2020-12-09T00:00:00",
          "2020-12-09T01:00:00",
          "2020-12-09T02:00:00",
          "2020-12-09T03:00:00",
          "2020-12-09T04:00:00",
          "2020-12-09T05:00:00",
          "2020-12-09T06:00:00",
          "2020-12-09T07:00:00",
          "2020-12-09T08:00:00",
          "2020-12-09T09:00:00",
          "2020-12-09T10:00:00",
          "2020-12-09T11:00:00",
          "2020-12-09T12:00:00",
          "2020-12-09T13:00:00",
          "2020-12-09T14:00:00",
          "2020-12-09T15:00:00",
          "2020-12-09T16:00:00",
          "2020-12-09T17:00:00",
          "2020-12-09T18:00:00",
          "2020-12-09T19:00:00",
          "2020-12-09T20:00:00",
          "2020-12-09T21:00:00",
          "2020-12-09T22:00:00",
          "2020-12-09T23:00:00",
          "2020-12-10T00:00:00",
          "2020-12-10T01:00:00",
          "2020-12-10T02:00:00",
          "2020-12-10T03:00:00",
          "2020-12-10T04:00:00",
          "2020-12-10T05:00:00",
          "2020-12-10T06:00:00",
          "2020-12-10T07:00:00",
          "2020-12-10T08:00:00",
          "2020-12-10T09:00:00",
          "2020-12-10T10:00:00",
          "2020-12-10T11:00:00",
          "2020-12-10T12:00:00",
          "2020-12-10T13:00:00",
          "2020-12-10T14:00:00",
          "2020-12-10T15:00:00",
          "2020-12-10T16:00:00",
          "2020-12-10T17:00:00",
          "2020-12-10T18:00:00",
          "2020-12-10T19:00:00",
          "2020-12-10T20:00:00",
          "2020-12-10T21:00:00",
          "2020-12-10T22:00:00",
          "2020-12-10T23:00:00",
          "2020-12-11T00:00:00",
          "2020-12-11T01:00:00",
          "2020-12-11T02:00:00",
          "2020-12-11T03:00:00",
          "2020-12-11T04:00:00",
          "2020-12-11T05:00:00",
          "2020-12-11T06:00:00",
          "2020-12-11T07:00:00",
          "2020-12-11T08:00:00",
          "2020-12-11T09:00:00",
          "2020-12-11T10:00:00",
          "2020-12-11T11:00:00",
          "2020-12-11T12:00:00",
          "2020-12-11T13:00:00",
          "2020-12-11T14:00:00",
          "2020-12-11T15:00:00",
          "2020-12-11T16:00:00",
          "2020-12-11T17:00:00",
          "2020-12-11T18:00:00",
          "2020-12-11T19:00:00",
          "2020-12-11T20:00:00",
          "2020-12-11T21:00:00",
          "2020-12-11T22:00:00",
          "2020-12-11T23:00:00",
          "2020-12-12T00:00:00",
          "2020-12-12T01:00:00",
          "2020-12-12T02:00:00",
          "2020-12-12T03:00:00",
          "2020-12-12T04:00:00",
          "2020-12-12T05:00:00",
          "2020-12-12T06:00:00",
          "2020-12-12T07:00:00",
          "2020-12-12T08:00:00",
          "2020-12-12T09:00:00",
          "2020-12-12T10:00:00",
          "2020-12-12T11:00:00",
          "2020-12-12T12:00:00",
          "2020-12-12T13:00:00",
          "2020-12-12T14:00:00",
          "2020-12-12T15:00:00",
          "2020-12-12T16:00:00",
          "2020-12-12T17:00:00",
          "2020-12-12T18:00:00",
          "2020-12-12T19:00:00",
          "2020-12-12T20:00:00",
          "2020-12-12T21:00:00",
          "2020-12-12T22:00:00",
          "2020-12-12T23:00:00",
          "2020-12-13T00:00:00",
          "2020-12-13T01:00:00",
          "2020-12-13T02:00:00",
          "2020-12-13T03:00:00",
          "2020-12-13T04:00:00",
          "2020-12-13T05:00:00",
          "2020-12-13T06:00:00",
          "2020-12-13T07:00:00",
          "2020-12-13T08:00:00",
          "2020-12-13T09:00:00",
          "2020-12-13T10:00:00",
          "2020-12-13T11:00:00",
          "2020-12-13T12:00:00",
          "2020-12-13T13:00:00",
          "2020-12-13T14:00:00",
          "2020-12-13T15:00:00",
          "2020-12-13T16:00:00",
          "2020-12-13T17:00:00",
          "2020-12-13T18:00:00",
          "2020-12-13T19:00:00",
          "2020-12-13T20:00:00",
          "2020-12-13T21:00:00",
          "2020-12-13T22:00:00",
          "2020-12-13T23:00:00",
          "2020-12-14T00:00:00",
          "2020-12-14T01:00:00",
          "2020-12-14T02:00:00",
          "2020-12-14T03:00:00",
          "2020-12-14T04:00:00",
          "2020-12-14T05:00:00",
          "2020-12-14T06:00:00",
          "2020-12-14T07:00:00",
          "2020-12-14T08:00:00",
          "2020-12-14T09:00:00",
          "2020-12-14T10:00:00",
          "2020-12-14T11:00:00",
          "2020-12-14T12:00:00",
          "2020-12-14T13:00:00",
          "2020-12-14T14:00:00",
          "2020-12-14T15:00:00",
          "2020-12-14T16:00:00",
          "2020-12-14T17:00:00",
          "2020-12-14T18:00:00",
          "2020-12-14T19:00:00",
          "2020-12-14T20:00:00",
          "2020-12-14T21:00:00",
          "2020-12-14T22:00:00",
          "2020-12-14T23:00:00",
          "2020-12-15T00:00:00",
          "2020-12-15T01:00:00",
          "2020-12-15T02:00:00",
          "2020-12-15T03:00:00",
          "2020-12-15T04:00:00",
          "2020-12-15T05:00:00",
          "2020-12-15T06:00:00",
          "2020-12-15T07:00:00",
          "2020-12-15T08:00:00",
          "2020-12-15T09:00:00",
          "2020-12-15T10:00:00",
          "2020-12-15T11:00:00",
          "2020-12-15T12:00:00",
          "2020-12-15T13:00:00",
          "2020-12-15T14:00:00",
          "2020-12-15T15:00:00",
          "2020-12-15T16:00:00",
          "2020-12-15T17:00:00",
          "2020-12-15T18:00:00",
          "2020-12-15T19:00:00",
          "2020-12-15T20:00:00",
          "2020-12-15T21:00:00",
          "2020-12-15T22:00:00",
          "2020-12-15T23:00:00",
          "2020-12-16T00:00:00"
         ],
         "xaxis": "x",
         "y": [
          0,
          0,
          0,
          0,
          0,
          0,
          0,
          0,
          0,
          0,
          0,
          0,
          0,
          0,
          0,
          0,
          0,
          0,
          0,
          0,
          0,
          0,
          0,
          0,
          0,
          0,
          0,
          0,
          0,
          0,
          0,
          0,
          0,
          0,
          0,
          0,
          0,
          0,
          0,
          0,
          0,
          0,
          0,
          0,
          0,
          0,
          0,
          0,
          0,
          0,
          -1.1077151426103509,
          0,
          0,
          0,
          0,
          0,
          0,
          0,
          -1.3201362104989933,
          0,
          0,
          -1.4414416945006734,
          0,
          0,
          -1.514196449636424,
          0,
          0,
          -1.4797183971250263,
          0,
          0,
          -1.3497050753809416,
          0,
          0,
          -1.5907692859544091,
          0,
          0,
          -1.3685599901644012,
          0,
          0,
          1.1059933743742005,
          0,
          0,
          1.860702000042208,
          0,
          0,
          0,
          0,
          0,
          0,
          2.0872640371887052,
          0,
          0,
          3.2699494984698734,
          0,
          0,
          2.44151895330001,
          0,
          0,
          1.1177818640038941,
          0,
          0,
          1.64034122722141,
          0,
          0,
          0,
          0,
          0,
          0,
          0,
          -1.0207969843692655,
          0,
          0,
          0,
          0,
          0,
          0,
          0,
          0,
          0,
          0,
          0,
          0,
          0,
          0,
          0,
          0,
          0,
          0,
          0,
          0,
          0,
          -1.2252916692104998,
          0,
          0,
          -1.403354929822285,
          0,
          0,
          0,
          0,
          0,
          0,
          0,
          0,
          1.1183842431059183,
          0,
          0,
          0,
          0,
          0,
          0,
          0,
          0,
          0,
          0,
          0,
          -1.3809898918453607,
          0,
          0,
          -1.4113584809690498,
          0,
          0,
          0,
          0,
          0,
          0,
          0,
          0,
          0,
          0,
          0
         ],
         "yaxis": "y2"
        }
       ],
       "layout": {
        "height": 600,
        "shapes": [
         {
          "fillcolor": "#e07070",
          "line": {
           "width": 0
          },
          "opacity": 0.4,
          "type": "rect",
          "x0": "2020-12-11T01:00:00",
          "x1": "2020-12-11T02:00:00",
          "xref": "x",
          "y0": 0,
          "y1": 1,
          "yref": "y domain"
         },
         {
          "fillcolor": "#e07070",
          "line": {
           "width": 0
          },
          "opacity": 0.4,
          "type": "rect",
          "x0": "2020-12-11T09:00:00",
          "x1": "2020-12-11T10:00:00",
          "xref": "x",
          "y0": 0,
          "y1": 1,
          "yref": "y domain"
         },
         {
          "fillcolor": "#e07070",
          "line": {
           "width": 0
          },
          "opacity": 0.4,
          "type": "rect",
          "x0": "2020-12-11T12:00:00",
          "x1": "2020-12-11T13:00:00",
          "xref": "x",
          "y0": 0,
          "y1": 1,
          "yref": "y domain"
         },
         {
          "fillcolor": "#e07070",
          "line": {
           "width": 0
          },
          "opacity": 0.4,
          "type": "rect",
          "x0": "2020-12-11T15:00:00",
          "x1": "2020-12-11T16:00:00",
          "xref": "x",
          "y0": 0,
          "y1": 1,
          "yref": "y domain"
         },
         {
          "fillcolor": "#e07070",
          "line": {
           "width": 0
          },
          "opacity": 0.4,
          "type": "rect",
          "x0": "2020-12-11T18:00:00",
          "x1": "2020-12-11T19:00:00",
          "xref": "x",
          "y0": 0,
          "y1": 1,
          "yref": "y domain"
         },
         {
          "fillcolor": "#e07070",
          "line": {
           "width": 0
          },
          "opacity": 0.4,
          "type": "rect",
          "x0": "2020-12-11T21:00:00",
          "x1": "2020-12-11T22:00:00",
          "xref": "x",
          "y0": 0,
          "y1": 1,
          "yref": "y domain"
         },
         {
          "fillcolor": "#e07070",
          "line": {
           "width": 0
          },
          "opacity": 0.4,
          "type": "rect",
          "x0": "2020-12-12T00:00:00",
          "x1": "2020-12-12T01:00:00",
          "xref": "x",
          "y0": 0,
          "y1": 1,
          "yref": "y domain"
         },
         {
          "fillcolor": "#e07070",
          "line": {
           "width": 0
          },
          "opacity": 0.4,
          "type": "rect",
          "x0": "2020-12-12T03:00:00",
          "x1": "2020-12-12T04:00:00",
          "xref": "x",
          "y0": 0,
          "y1": 1,
          "yref": "y domain"
         },
         {
          "fillcolor": "#e07070",
          "line": {
           "width": 0
          },
          "opacity": 0.4,
          "type": "rect",
          "x0": "2020-12-12T06:00:00",
          "x1": "2020-12-12T07:00:00",
          "xref": "x",
          "y0": 0,
          "y1": 1,
          "yref": "y domain"
         },
         {
          "fillcolor": "#e07070",
          "line": {
           "width": 0
          },
          "opacity": 0.4,
          "type": "rect",
          "x0": "2020-12-12T09:00:00",
          "x1": "2020-12-12T10:00:00",
          "xref": "x",
          "y0": 0,
          "y1": 1,
          "yref": "y domain"
         },
         {
          "fillcolor": "#e07070",
          "line": {
           "width": 0
          },
          "opacity": 0.4,
          "type": "rect",
          "x0": "2020-12-12T16:00:00",
          "x1": "2020-12-12T17:00:00",
          "xref": "x",
          "y0": 0,
          "y1": 1,
          "yref": "y domain"
         },
         {
          "fillcolor": "#e07070",
          "line": {
           "width": 0
          },
          "opacity": 0.4,
          "type": "rect",
          "x0": "2020-12-12T19:00:00",
          "x1": "2020-12-12T20:00:00",
          "xref": "x",
          "y0": 0,
          "y1": 1,
          "yref": "y domain"
         },
         {
          "fillcolor": "#e07070",
          "line": {
           "width": 0
          },
          "opacity": 0.4,
          "type": "rect",
          "x0": "2020-12-12T22:00:00",
          "x1": "2020-12-12T23:00:00",
          "xref": "x",
          "y0": 0,
          "y1": 1,
          "yref": "y domain"
         },
         {
          "fillcolor": "#e07070",
          "line": {
           "width": 0
          },
          "opacity": 0.4,
          "type": "rect",
          "x0": "2020-12-13T01:00:00",
          "x1": "2020-12-13T02:00:00",
          "xref": "x",
          "y0": 0,
          "y1": 1,
          "yref": "y domain"
         },
         {
          "fillcolor": "#e07070",
          "line": {
           "width": 0
          },
          "opacity": 0.4,
          "type": "rect",
          "x0": "2020-12-13T04:00:00",
          "x1": "2020-12-13T05:00:00",
          "xref": "x",
          "y0": 0,
          "y1": 1,
          "yref": "y domain"
         },
         {
          "fillcolor": "#e07070",
          "line": {
           "width": 0
          },
          "opacity": 0.4,
          "type": "rect",
          "x0": "2020-12-13T12:00:00",
          "x1": "2020-12-13T13:00:00",
          "xref": "x",
          "y0": 0,
          "y1": 1,
          "yref": "y domain"
         },
         {
          "fillcolor": "#e07070",
          "line": {
           "width": 0
          },
          "opacity": 0.4,
          "type": "rect",
          "x0": "2020-12-14T10:00:00",
          "x1": "2020-12-14T11:00:00",
          "xref": "x",
          "y0": 0,
          "y1": 1,
          "yref": "y domain"
         },
         {
          "fillcolor": "#e07070",
          "line": {
           "width": 0
          },
          "opacity": 0.4,
          "type": "rect",
          "x0": "2020-12-14T13:00:00",
          "x1": "2020-12-14T14:00:00",
          "xref": "x",
          "y0": 0,
          "y1": 1,
          "yref": "y domain"
         },
         {
          "fillcolor": "#e07070",
          "line": {
           "width": 0
          },
          "opacity": 0.4,
          "type": "rect",
          "x0": "2020-12-14T22:00:00",
          "x1": "2020-12-14T23:00:00",
          "xref": "x",
          "y0": 0,
          "y1": 1,
          "yref": "y domain"
         },
         {
          "fillcolor": "#e07070",
          "line": {
           "width": 0
          },
          "opacity": 0.4,
          "type": "rect",
          "x0": "2020-12-15T10:00:00",
          "x1": "2020-12-15T11:00:00",
          "xref": "x",
          "y0": 0,
          "y1": 1,
          "yref": "y domain"
         },
         {
          "fillcolor": "#e07070",
          "line": {
           "width": 0
          },
          "opacity": 0.4,
          "type": "rect",
          "x0": "2020-12-15T13:00:00",
          "x1": "2020-12-15T14:00:00",
          "xref": "x",
          "y0": 0,
          "y1": 1,
          "yref": "y domain"
         }
        ],
        "showlegend": true,
        "template": {
         "data": {
          "bar": [
           {
            "error_x": {
             "color": "#2a3f5f"
            },
            "error_y": {
             "color": "#2a3f5f"
            },
            "marker": {
             "line": {
              "color": "#E5ECF6",
              "width": 0.5
             },
             "pattern": {
              "fillmode": "overlay",
              "size": 10,
              "solidity": 0.2
             }
            },
            "type": "bar"
           }
          ],
          "barpolar": [
           {
            "marker": {
             "line": {
              "color": "#E5ECF6",
              "width": 0.5
             },
             "pattern": {
              "fillmode": "overlay",
              "size": 10,
              "solidity": 0.2
             }
            },
            "type": "barpolar"
           }
          ],
          "carpet": [
           {
            "aaxis": {
             "endlinecolor": "#2a3f5f",
             "gridcolor": "white",
             "linecolor": "white",
             "minorgridcolor": "white",
             "startlinecolor": "#2a3f5f"
            },
            "baxis": {
             "endlinecolor": "#2a3f5f",
             "gridcolor": "white",
             "linecolor": "white",
             "minorgridcolor": "white",
             "startlinecolor": "#2a3f5f"
            },
            "type": "carpet"
           }
          ],
          "choropleth": [
           {
            "colorbar": {
             "outlinewidth": 0,
             "ticks": ""
            },
            "type": "choropleth"
           }
          ],
          "contour": [
           {
            "colorbar": {
             "outlinewidth": 0,
             "ticks": ""
            },
            "colorscale": [
             [
              0,
              "#0d0887"
             ],
             [
              0.1111111111111111,
              "#46039f"
             ],
             [
              0.2222222222222222,
              "#7201a8"
             ],
             [
              0.3333333333333333,
              "#9c179e"
             ],
             [
              0.4444444444444444,
              "#bd3786"
             ],
             [
              0.5555555555555556,
              "#d8576b"
             ],
             [
              0.6666666666666666,
              "#ed7953"
             ],
             [
              0.7777777777777778,
              "#fb9f3a"
             ],
             [
              0.8888888888888888,
              "#fdca26"
             ],
             [
              1,
              "#f0f921"
             ]
            ],
            "type": "contour"
           }
          ],
          "contourcarpet": [
           {
            "colorbar": {
             "outlinewidth": 0,
             "ticks": ""
            },
            "type": "contourcarpet"
           }
          ],
          "heatmap": [
           {
            "colorbar": {
             "outlinewidth": 0,
             "ticks": ""
            },
            "colorscale": [
             [
              0,
              "#0d0887"
             ],
             [
              0.1111111111111111,
              "#46039f"
             ],
             [
              0.2222222222222222,
              "#7201a8"
             ],
             [
              0.3333333333333333,
              "#9c179e"
             ],
             [
              0.4444444444444444,
              "#bd3786"
             ],
             [
              0.5555555555555556,
              "#d8576b"
             ],
             [
              0.6666666666666666,
              "#ed7953"
             ],
             [
              0.7777777777777778,
              "#fb9f3a"
             ],
             [
              0.8888888888888888,
              "#fdca26"
             ],
             [
              1,
              "#f0f921"
             ]
            ],
            "type": "heatmap"
           }
          ],
          "heatmapgl": [
           {
            "colorbar": {
             "outlinewidth": 0,
             "ticks": ""
            },
            "colorscale": [
             [
              0,
              "#0d0887"
             ],
             [
              0.1111111111111111,
              "#46039f"
             ],
             [
              0.2222222222222222,
              "#7201a8"
             ],
             [
              0.3333333333333333,
              "#9c179e"
             ],
             [
              0.4444444444444444,
              "#bd3786"
             ],
             [
              0.5555555555555556,
              "#d8576b"
             ],
             [
              0.6666666666666666,
              "#ed7953"
             ],
             [
              0.7777777777777778,
              "#fb9f3a"
             ],
             [
              0.8888888888888888,
              "#fdca26"
             ],
             [
              1,
              "#f0f921"
             ]
            ],
            "type": "heatmapgl"
           }
          ],
          "histogram": [
           {
            "marker": {
             "pattern": {
              "fillmode": "overlay",
              "size": 10,
              "solidity": 0.2
             }
            },
            "type": "histogram"
           }
          ],
          "histogram2d": [
           {
            "colorbar": {
             "outlinewidth": 0,
             "ticks": ""
            },
            "colorscale": [
             [
              0,
              "#0d0887"
             ],
             [
              0.1111111111111111,
              "#46039f"
             ],
             [
              0.2222222222222222,
              "#7201a8"
             ],
             [
              0.3333333333333333,
              "#9c179e"
             ],
             [
              0.4444444444444444,
              "#bd3786"
             ],
             [
              0.5555555555555556,
              "#d8576b"
             ],
             [
              0.6666666666666666,
              "#ed7953"
             ],
             [
              0.7777777777777778,
              "#fb9f3a"
             ],
             [
              0.8888888888888888,
              "#fdca26"
             ],
             [
              1,
              "#f0f921"
             ]
            ],
            "type": "histogram2d"
           }
          ],
          "histogram2dcontour": [
           {
            "colorbar": {
             "outlinewidth": 0,
             "ticks": ""
            },
            "colorscale": [
             [
              0,
              "#0d0887"
             ],
             [
              0.1111111111111111,
              "#46039f"
             ],
             [
              0.2222222222222222,
              "#7201a8"
             ],
             [
              0.3333333333333333,
              "#9c179e"
             ],
             [
              0.4444444444444444,
              "#bd3786"
             ],
             [
              0.5555555555555556,
              "#d8576b"
             ],
             [
              0.6666666666666666,
              "#ed7953"
             ],
             [
              0.7777777777777778,
              "#fb9f3a"
             ],
             [
              0.8888888888888888,
              "#fdca26"
             ],
             [
              1,
              "#f0f921"
             ]
            ],
            "type": "histogram2dcontour"
           }
          ],
          "mesh3d": [
           {
            "colorbar": {
             "outlinewidth": 0,
             "ticks": ""
            },
            "type": "mesh3d"
           }
          ],
          "parcoords": [
           {
            "line": {
             "colorbar": {
              "outlinewidth": 0,
              "ticks": ""
             }
            },
            "type": "parcoords"
           }
          ],
          "pie": [
           {
            "automargin": true,
            "type": "pie"
           }
          ],
          "scatter": [
           {
            "marker": {
             "colorbar": {
              "outlinewidth": 0,
              "ticks": ""
             }
            },
            "type": "scatter"
           }
          ],
          "scatter3d": [
           {
            "line": {
             "colorbar": {
              "outlinewidth": 0,
              "ticks": ""
             }
            },
            "marker": {
             "colorbar": {
              "outlinewidth": 0,
              "ticks": ""
             }
            },
            "type": "scatter3d"
           }
          ],
          "scattercarpet": [
           {
            "marker": {
             "colorbar": {
              "outlinewidth": 0,
              "ticks": ""
             }
            },
            "type": "scattercarpet"
           }
          ],
          "scattergeo": [
           {
            "marker": {
             "colorbar": {
              "outlinewidth": 0,
              "ticks": ""
             }
            },
            "type": "scattergeo"
           }
          ],
          "scattergl": [
           {
            "marker": {
             "colorbar": {
              "outlinewidth": 0,
              "ticks": ""
             }
            },
            "type": "scattergl"
           }
          ],
          "scattermapbox": [
           {
            "marker": {
             "colorbar": {
              "outlinewidth": 0,
              "ticks": ""
             }
            },
            "type": "scattermapbox"
           }
          ],
          "scatterpolar": [
           {
            "marker": {
             "colorbar": {
              "outlinewidth": 0,
              "ticks": ""
             }
            },
            "type": "scatterpolar"
           }
          ],
          "scatterpolargl": [
           {
            "marker": {
             "colorbar": {
              "outlinewidth": 0,
              "ticks": ""
             }
            },
            "type": "scatterpolargl"
           }
          ],
          "scatterternary": [
           {
            "marker": {
             "colorbar": {
              "outlinewidth": 0,
              "ticks": ""
             }
            },
            "type": "scatterternary"
           }
          ],
          "surface": [
           {
            "colorbar": {
             "outlinewidth": 0,
             "ticks": ""
            },
            "colorscale": [
             [
              0,
              "#0d0887"
             ],
             [
              0.1111111111111111,
              "#46039f"
             ],
             [
              0.2222222222222222,
              "#7201a8"
             ],
             [
              0.3333333333333333,
              "#9c179e"
             ],
             [
              0.4444444444444444,
              "#bd3786"
             ],
             [
              0.5555555555555556,
              "#d8576b"
             ],
             [
              0.6666666666666666,
              "#ed7953"
             ],
             [
              0.7777777777777778,
              "#fb9f3a"
             ],
             [
              0.8888888888888888,
              "#fdca26"
             ],
             [
              1,
              "#f0f921"
             ]
            ],
            "type": "surface"
           }
          ],
          "table": [
           {
            "cells": {
             "fill": {
              "color": "#EBF0F8"
             },
             "line": {
              "color": "white"
             }
            },
            "header": {
             "fill": {
              "color": "#C8D4E3"
             },
             "line": {
              "color": "white"
             }
            },
            "type": "table"
           }
          ]
         },
         "layout": {
          "annotationdefaults": {
           "arrowcolor": "#2a3f5f",
           "arrowhead": 0,
           "arrowwidth": 1
          },
          "autotypenumbers": "strict",
          "coloraxis": {
           "colorbar": {
            "outlinewidth": 0,
            "ticks": ""
           }
          },
          "colorscale": {
           "diverging": [
            [
             0,
             "#8e0152"
            ],
            [
             0.1,
             "#c51b7d"
            ],
            [
             0.2,
             "#de77ae"
            ],
            [
             0.3,
             "#f1b6da"
            ],
            [
             0.4,
             "#fde0ef"
            ],
            [
             0.5,
             "#f7f7f7"
            ],
            [
             0.6,
             "#e6f5d0"
            ],
            [
             0.7,
             "#b8e186"
            ],
            [
             0.8,
             "#7fbc41"
            ],
            [
             0.9,
             "#4d9221"
            ],
            [
             1,
             "#276419"
            ]
           ],
           "sequential": [
            [
             0,
             "#0d0887"
            ],
            [
             0.1111111111111111,
             "#46039f"
            ],
            [
             0.2222222222222222,
             "#7201a8"
            ],
            [
             0.3333333333333333,
             "#9c179e"
            ],
            [
             0.4444444444444444,
             "#bd3786"
            ],
            [
             0.5555555555555556,
             "#d8576b"
            ],
            [
             0.6666666666666666,
             "#ed7953"
            ],
            [
             0.7777777777777778,
             "#fb9f3a"
            ],
            [
             0.8888888888888888,
             "#fdca26"
            ],
            [
             1,
             "#f0f921"
            ]
           ],
           "sequentialminus": [
            [
             0,
             "#0d0887"
            ],
            [
             0.1111111111111111,
             "#46039f"
            ],
            [
             0.2222222222222222,
             "#7201a8"
            ],
            [
             0.3333333333333333,
             "#9c179e"
            ],
            [
             0.4444444444444444,
             "#bd3786"
            ],
            [
             0.5555555555555556,
             "#d8576b"
            ],
            [
             0.6666666666666666,
             "#ed7953"
            ],
            [
             0.7777777777777778,
             "#fb9f3a"
            ],
            [
             0.8888888888888888,
             "#fdca26"
            ],
            [
             1,
             "#f0f921"
            ]
           ]
          },
          "colorway": [
           "#636efa",
           "#EF553B",
           "#00cc96",
           "#ab63fa",
           "#FFA15A",
           "#19d3f3",
           "#FF6692",
           "#B6E880",
           "#FF97FF",
           "#FECB52"
          ],
          "font": {
           "color": "#2a3f5f"
          },
          "geo": {
           "bgcolor": "white",
           "lakecolor": "white",
           "landcolor": "#E5ECF6",
           "showlakes": true,
           "showland": true,
           "subunitcolor": "white"
          },
          "hoverlabel": {
           "align": "left"
          },
          "hovermode": "closest",
          "mapbox": {
           "style": "light"
          },
          "paper_bgcolor": "white",
          "plot_bgcolor": "#E5ECF6",
          "polar": {
           "angularaxis": {
            "gridcolor": "white",
            "linecolor": "white",
            "ticks": ""
           },
           "bgcolor": "#E5ECF6",
           "radialaxis": {
            "gridcolor": "white",
            "linecolor": "white",
            "ticks": ""
           }
          },
          "scene": {
           "xaxis": {
            "backgroundcolor": "#E5ECF6",
            "gridcolor": "white",
            "gridwidth": 2,
            "linecolor": "white",
            "showbackground": true,
            "ticks": "",
            "zerolinecolor": "white"
           },
           "yaxis": {
            "backgroundcolor": "#E5ECF6",
            "gridcolor": "white",
            "gridwidth": 2,
            "linecolor": "white",
            "showbackground": true,
            "ticks": "",
            "zerolinecolor": "white"
           },
           "zaxis": {
            "backgroundcolor": "#E5ECF6",
            "gridcolor": "white",
            "gridwidth": 2,
            "linecolor": "white",
            "showbackground": true,
            "ticks": "",
            "zerolinecolor": "white"
           }
          },
          "shapedefaults": {
           "line": {
            "color": "#2a3f5f"
           }
          },
          "ternary": {
           "aaxis": {
            "gridcolor": "white",
            "linecolor": "white",
            "ticks": ""
           },
           "baxis": {
            "gridcolor": "white",
            "linecolor": "white",
            "ticks": ""
           },
           "bgcolor": "#E5ECF6",
           "caxis": {
            "gridcolor": "white",
            "linecolor": "white",
            "ticks": ""
           }
          },
          "title": {
           "x": 0.05
          },
          "xaxis": {
           "automargin": true,
           "gridcolor": "white",
           "linecolor": "white",
           "ticks": "",
           "title": {
            "standoff": 15
           },
           "zerolinecolor": "white",
           "zerolinewidth": 2
          },
          "yaxis": {
           "automargin": true,
           "gridcolor": "white",
           "linecolor": "white",
           "ticks": "",
           "title": {
            "standoff": 15
           },
           "zerolinecolor": "white",
           "zerolinewidth": 2
          }
         }
        },
        "title": {
         "text": "ProphetDetector: Anomalies in top2_hashtag_count (Forecast Overlaid)"
        },
        "width": 1000,
        "xaxis": {
         "anchor": "y",
         "domain": [
          0,
          0.94
         ],
         "rangeselector": {
          "buttons": [
           {
            "count": 7,
            "label": "1w",
            "step": "day",
            "stepmode": "backward"
           },
           {
            "count": 1,
            "label": "1m",
            "step": "month",
            "stepmode": "backward"
           },
           {
            "count": 6,
            "label": "6m",
            "step": "month",
            "stepmode": "backward"
           },
           {
            "count": 1,
            "label": "1y",
            "step": "year",
            "stepmode": "backward"
           },
           {
            "step": "all"
           }
          ]
         },
         "rangeslider": {
          "visible": true
         },
         "title": {
          "text": "Time"
         },
         "type": "date"
        },
        "yaxis": {
         "anchor": "x",
         "domain": [
          0,
          1
         ],
         "title": {
          "text": "top2_hashtag_count"
         }
        },
        "yaxis2": {
         "anchor": "x",
         "overlaying": "y",
         "range": [
          -2.198359134007444,
          12.991387067318438
         ],
         "side": "right",
         "title": {
          "text": "Anomaly Score"
         }
        }
       }
      }
     },
     "metadata": {}
    },
    {
     "output_type": "stream",
     "name": "stdout",
     "text": [
      "Initial log joint probability = -6.01908\n",
      "    Iter      log prob        ||dx||      ||grad||       alpha      alpha0  # evals  Notes \n",
      "      99       199.954   1.53719e-07       83.0131      0.3811      0.3811      125   \n",
      "    Iter      log prob        ||dx||      ||grad||       alpha      alpha0  # evals  Notes \n",
      "     154       200.146   0.000579687       81.2062   6.744e-06       0.001      232  LS failed, Hessian reset \n",
      "     199        200.26   7.66185e-05        82.435      0.5388      0.5388      291   \n",
      "    Iter      log prob        ||dx||      ||grad||       alpha      alpha0  # evals  Notes \n",
      "     239       200.265    2.8749e-09       81.0128     0.06565           1      348   \n",
      "Optimization terminated normally: \n",
      "  Convergence detected: absolute parameter change was below tolerance\n"
     ]
    },
    {
     "output_type": "display_data",
     "data": {
      "application/vnd.plotly.v1+json": {
       "config": {
        "plotlyServerURL": "https://plot.ly"
       },
       "data": [
        {
         "hoverinfo": "skip",
         "line": {
          "width": 0
         },
         "mode": "lines",
         "showlegend": false,
         "type": "scatter",
         "x": [
          "2020-12-08T23:00:00",
          "2020-12-09T00:00:00",
          "2020-12-09T01:00:00",
          "2020-12-09T02:00:00",
          "2020-12-09T03:00:00",
          "2020-12-09T04:00:00",
          "2020-12-09T05:00:00",
          "2020-12-09T06:00:00",
          "2020-12-09T07:00:00",
          "2020-12-09T08:00:00",
          "2020-12-09T09:00:00",
          "2020-12-09T10:00:00",
          "2020-12-09T11:00:00",
          "2020-12-09T12:00:00",
          "2020-12-09T13:00:00",
          "2020-12-09T14:00:00",
          "2020-12-09T15:00:00",
          "2020-12-09T16:00:00",
          "2020-12-09T17:00:00",
          "2020-12-09T18:00:00",
          "2020-12-09T19:00:00",
          "2020-12-09T20:00:00",
          "2020-12-09T21:00:00",
          "2020-12-09T22:00:00",
          "2020-12-09T23:00:00",
          "2020-12-10T00:00:00",
          "2020-12-10T01:00:00",
          "2020-12-10T02:00:00",
          "2020-12-10T03:00:00",
          "2020-12-10T04:00:00",
          "2020-12-10T05:00:00",
          "2020-12-10T06:00:00",
          "2020-12-10T07:00:00",
          "2020-12-10T08:00:00",
          "2020-12-10T09:00:00",
          "2020-12-10T10:00:00",
          "2020-12-10T11:00:00",
          "2020-12-10T12:00:00",
          "2020-12-10T13:00:00",
          "2020-12-10T14:00:00",
          "2020-12-10T15:00:00",
          "2020-12-10T16:00:00",
          "2020-12-10T17:00:00",
          "2020-12-10T18:00:00",
          "2020-12-10T19:00:00",
          "2020-12-10T20:00:00",
          "2020-12-10T21:00:00",
          "2020-12-10T22:00:00",
          "2020-12-10T23:00:00",
          "2020-12-11T00:00:00",
          "2020-12-11T01:00:00",
          "2020-12-11T02:00:00",
          "2020-12-11T03:00:00",
          "2020-12-11T04:00:00",
          "2020-12-11T05:00:00",
          "2020-12-11T06:00:00",
          "2020-12-11T07:00:00",
          "2020-12-11T08:00:00",
          "2020-12-11T09:00:00",
          "2020-12-11T10:00:00",
          "2020-12-11T11:00:00",
          "2020-12-11T12:00:00",
          "2020-12-11T13:00:00",
          "2020-12-11T14:00:00",
          "2020-12-11T15:00:00",
          "2020-12-11T16:00:00",
          "2020-12-11T17:00:00",
          "2020-12-11T18:00:00",
          "2020-12-11T19:00:00",
          "2020-12-11T20:00:00",
          "2020-12-11T21:00:00",
          "2020-12-11T22:00:00",
          "2020-12-11T23:00:00",
          "2020-12-12T00:00:00",
          "2020-12-12T01:00:00",
          "2020-12-12T02:00:00",
          "2020-12-12T03:00:00",
          "2020-12-12T04:00:00",
          "2020-12-12T05:00:00",
          "2020-12-12T06:00:00",
          "2020-12-12T07:00:00",
          "2020-12-12T08:00:00",
          "2020-12-12T09:00:00",
          "2020-12-12T10:00:00",
          "2020-12-12T11:00:00",
          "2020-12-12T12:00:00",
          "2020-12-12T13:00:00",
          "2020-12-12T14:00:00",
          "2020-12-12T15:00:00",
          "2020-12-12T16:00:00",
          "2020-12-12T17:00:00",
          "2020-12-12T18:00:00",
          "2020-12-12T19:00:00",
          "2020-12-12T20:00:00",
          "2020-12-12T21:00:00",
          "2020-12-12T22:00:00",
          "2020-12-12T23:00:00",
          "2020-12-13T00:00:00",
          "2020-12-13T01:00:00",
          "2020-12-13T02:00:00",
          "2020-12-13T03:00:00",
          "2020-12-13T04:00:00",
          "2020-12-13T05:00:00",
          "2020-12-13T06:00:00",
          "2020-12-13T07:00:00",
          "2020-12-13T08:00:00",
          "2020-12-13T09:00:00",
          "2020-12-13T10:00:00",
          "2020-12-13T11:00:00",
          "2020-12-13T12:00:00",
          "2020-12-13T13:00:00",
          "2020-12-13T14:00:00",
          "2020-12-13T15:00:00",
          "2020-12-13T16:00:00",
          "2020-12-13T17:00:00",
          "2020-12-13T18:00:00",
          "2020-12-13T19:00:00",
          "2020-12-13T20:00:00",
          "2020-12-13T21:00:00",
          "2020-12-13T22:00:00",
          "2020-12-13T23:00:00",
          "2020-12-14T00:00:00",
          "2020-12-14T01:00:00",
          "2020-12-14T02:00:00",
          "2020-12-14T03:00:00",
          "2020-12-14T04:00:00",
          "2020-12-14T05:00:00",
          "2020-12-14T06:00:00",
          "2020-12-14T07:00:00",
          "2020-12-14T08:00:00",
          "2020-12-14T09:00:00",
          "2020-12-14T10:00:00",
          "2020-12-14T11:00:00",
          "2020-12-14T12:00:00",
          "2020-12-14T13:00:00",
          "2020-12-14T14:00:00",
          "2020-12-14T15:00:00",
          "2020-12-14T16:00:00",
          "2020-12-14T17:00:00",
          "2020-12-14T18:00:00",
          "2020-12-14T19:00:00",
          "2020-12-14T20:00:00",
          "2020-12-14T21:00:00",
          "2020-12-14T22:00:00",
          "2020-12-14T23:00:00",
          "2020-12-15T00:00:00",
          "2020-12-15T01:00:00",
          "2020-12-15T02:00:00",
          "2020-12-15T03:00:00",
          "2020-12-15T04:00:00",
          "2020-12-15T05:00:00",
          "2020-12-15T06:00:00",
          "2020-12-15T07:00:00",
          "2020-12-15T08:00:00",
          "2020-12-15T09:00:00",
          "2020-12-15T10:00:00",
          "2020-12-15T11:00:00",
          "2020-12-15T12:00:00",
          "2020-12-15T13:00:00",
          "2020-12-15T14:00:00",
          "2020-12-15T15:00:00",
          "2020-12-15T16:00:00",
          "2020-12-15T17:00:00",
          "2020-12-15T18:00:00",
          "2020-12-15T19:00:00",
          "2020-12-15T20:00:00",
          "2020-12-15T21:00:00",
          "2020-12-15T22:00:00",
          "2020-12-15T23:00:00",
          "2020-12-16T00:00:00"
         ],
         "y": [
          0.873178841909308,
          0.881282900380276,
          0.9603862816625546,
          1.0978763952235338,
          0.957229741367796,
          1.0182811158014302,
          0.9598570233623742,
          0.9613053085111476,
          1.0883485451915251,
          1.0558532346505334,
          1.0287339081667768,
          1.0974428535360226,
          1.133531151507191,
          1.2493447510981268,
          1.2963482105255941,
          1.368926839822992,
          1.215257217144633,
          1.3332702777271177,
          1.2985377018723594,
          1.3166956629206654,
          1.2844017768729221,
          1.3276157702343887,
          1.4426124420777173,
          1.414525780433123,
          1.5421983919298476,
          1.3834247270884137,
          1.3507978810873746,
          1.559883980271322,
          1.5551168261528543,
          1.5214743204292152,
          1.4223825245410855,
          1.5793173657191955,
          1.5229766463618961,
          1.5719374849034553,
          1.7744037363471388,
          1.699798232110889,
          1.732231892620831,
          1.8019219662520016,
          1.7908925728382066,
          1.7285948252847716,
          1.8237025400324736,
          1.7825776855001674,
          1.834635725188406,
          1.7793734666508532,
          2.042981121643563,
          1.9043206229208534,
          1.9085065401502428,
          2.0875423486218887,
          1.9581497515312267,
          2.094171209470977,
          2.004632961853426,
          2.049991473413484,
          2.0107578760338907,
          2.2077231433625513,
          1.9892063322567062,
          2.218847902767224,
          2.1737750861381215,
          2.2224601948091687,
          2.211129650907854,
          2.3597969187728114,
          2.332944811340859,
          2.368481639542673,
          2.400937834057701,
          2.304190162918688,
          2.3443635606511926,
          2.35160900360266,
          2.4103371244940557,
          2.381386640143949,
          2.4625022671538357,
          2.46736943004588,
          2.617970615163343,
          2.6568310186052777,
          2.6142156144909654,
          2.506460608591263,
          2.524048094935087,
          2.4782989006042566,
          2.6159553840013112,
          2.6283184936850867,
          2.694124031246316,
          2.7690510506654515,
          2.641207473797729,
          2.7593547605186224,
          2.766557188533854,
          2.8245667117094957,
          2.81232064397691,
          2.8358233386962794,
          2.855384127017591,
          2.9209173503130286,
          2.8001539173365284,
          2.8110783196024602,
          2.862908025488445,
          2.9254964659441014,
          2.8403035990852468,
          2.751024523120753,
          2.706885861261341,
          2.700268010811713,
          2.872083037517911,
          3.0015908577855113,
          2.893442867497795,
          2.80436092591326,
          2.7746159071324064,
          2.7541785759223965,
          2.7042641810074706,
          2.8520767866641368,
          2.828510462330208,
          2.565810388314587,
          2.7058507050540443,
          2.6037330431874963,
          2.6203332047340977,
          2.4296624913787292,
          2.5756049460408788,
          2.560918700488096,
          2.6440869468390913,
          2.450362234397624,
          2.4205724173565617,
          2.5051935461078543,
          2.472434766767911,
          2.4929408821794348,
          2.4717069415158672,
          2.348385005869874,
          2.4777680053673814,
          2.16633742559739,
          2.2619571813052426,
          2.305708271724815,
          2.263171524708867,
          2.3315207183756375,
          2.304424160741413,
          2.089800939568308,
          2.085858976001748,
          2.1835715626482157,
          2.1527801569511835,
          2.13230761075771,
          2.217724568672813,
          2.078780326476344,
          2.044085871843913,
          2.1370390651673943,
          1.921340405746375,
          2.015387249813375,
          1.9977965413315157,
          2.0039277990440256,
          1.9262098111783363,
          2.0267370932346083,
          1.9976645072665467,
          1.9300961966052939,
          1.8001718020477364,
          1.7709986285001853,
          1.6716640225983288,
          1.7560314229590415,
          1.7515917551626257,
          1.6042990038238707,
          1.6929718213102065,
          1.7509332663204484,
          1.6412998849517986,
          1.6913015709210195,
          1.6884393761981564,
          1.6283801268103244,
          1.5585416165293813,
          1.652355930158504,
          1.602170150239414,
          1.5057713383749074,
          1.5434996306568478,
          1.5199368407103913,
          1.370634083447743,
          1.5245787799670223,
          1.3784006762692242,
          1.4072973253757168,
          1.268388941121982,
          1.3148608488002138,
          1.2885524235900996,
          1.2319987121864568
         ]
        },
        {
         "fill": "tonexty",
         "fillcolor": "rgba(0, 114, 178, 0.2)",
         "line": {
          "color": "#0072B2",
          "width": 2
         },
         "mode": "lines",
         "name": "Forecast",
         "type": "scatter",
         "x": [
          "2020-12-08T23:00:00",
          "2020-12-09T00:00:00",
          "2020-12-09T01:00:00",
          "2020-12-09T02:00:00",
          "2020-12-09T03:00:00",
          "2020-12-09T04:00:00",
          "2020-12-09T05:00:00",
          "2020-12-09T06:00:00",
          "2020-12-09T07:00:00",
          "2020-12-09T08:00:00",
          "2020-12-09T09:00:00",
          "2020-12-09T10:00:00",
          "2020-12-09T11:00:00",
          "2020-12-09T12:00:00",
          "2020-12-09T13:00:00",
          "2020-12-09T14:00:00",
          "2020-12-09T15:00:00",
          "2020-12-09T16:00:00",
          "2020-12-09T17:00:00",
          "2020-12-09T18:00:00",
          "2020-12-09T19:00:00",
          "2020-12-09T20:00:00",
          "2020-12-09T21:00:00",
          "2020-12-09T22:00:00",
          "2020-12-09T23:00:00",
          "2020-12-10T00:00:00",
          "2020-12-10T01:00:00",
          "2020-12-10T02:00:00",
          "2020-12-10T03:00:00",
          "2020-12-10T04:00:00",
          "2020-12-10T05:00:00",
          "2020-12-10T06:00:00",
          "2020-12-10T07:00:00",
          "2020-12-10T08:00:00",
          "2020-12-10T09:00:00",
          "2020-12-10T10:00:00",
          "2020-12-10T11:00:00",
          "2020-12-10T12:00:00",
          "2020-12-10T13:00:00",
          "2020-12-10T14:00:00",
          "2020-12-10T15:00:00",
          "2020-12-10T16:00:00",
          "2020-12-10T17:00:00",
          "2020-12-10T18:00:00",
          "2020-12-10T19:00:00",
          "2020-12-10T20:00:00",
          "2020-12-10T21:00:00",
          "2020-12-10T22:00:00",
          "2020-12-10T23:00:00",
          "2020-12-11T00:00:00",
          "2020-12-11T01:00:00",
          "2020-12-11T02:00:00",
          "2020-12-11T03:00:00",
          "2020-12-11T04:00:00",
          "2020-12-11T05:00:00",
          "2020-12-11T06:00:00",
          "2020-12-11T07:00:00",
          "2020-12-11T08:00:00",
          "2020-12-11T09:00:00",
          "2020-12-11T10:00:00",
          "2020-12-11T11:00:00",
          "2020-12-11T12:00:00",
          "2020-12-11T13:00:00",
          "2020-12-11T14:00:00",
          "2020-12-11T15:00:00",
          "2020-12-11T16:00:00",
          "2020-12-11T17:00:00",
          "2020-12-11T18:00:00",
          "2020-12-11T19:00:00",
          "2020-12-11T20:00:00",
          "2020-12-11T21:00:00",
          "2020-12-11T22:00:00",
          "2020-12-11T23:00:00",
          "2020-12-12T00:00:00",
          "2020-12-12T01:00:00",
          "2020-12-12T02:00:00",
          "2020-12-12T03:00:00",
          "2020-12-12T04:00:00",
          "2020-12-12T05:00:00",
          "2020-12-12T06:00:00",
          "2020-12-12T07:00:00",
          "2020-12-12T08:00:00",
          "2020-12-12T09:00:00",
          "2020-12-12T10:00:00",
          "2020-12-12T11:00:00",
          "2020-12-12T12:00:00",
          "2020-12-12T13:00:00",
          "2020-12-12T14:00:00",
          "2020-12-12T15:00:00",
          "2020-12-12T16:00:00",
          "2020-12-12T17:00:00",
          "2020-12-12T18:00:00",
          "2020-12-12T19:00:00",
          "2020-12-12T20:00:00",
          "2020-12-12T21:00:00",
          "2020-12-12T22:00:00",
          "2020-12-12T23:00:00",
          "2020-12-13T00:00:00",
          "2020-12-13T01:00:00",
          "2020-12-13T02:00:00",
          "2020-12-13T03:00:00",
          "2020-12-13T04:00:00",
          "2020-12-13T05:00:00",
          "2020-12-13T06:00:00",
          "2020-12-13T07:00:00",
          "2020-12-13T08:00:00",
          "2020-12-13T09:00:00",
          "2020-12-13T10:00:00",
          "2020-12-13T11:00:00",
          "2020-12-13T12:00:00",
          "2020-12-13T13:00:00",
          "2020-12-13T14:00:00",
          "2020-12-13T15:00:00",
          "2020-12-13T16:00:00",
          "2020-12-13T17:00:00",
          "2020-12-13T18:00:00",
          "2020-12-13T19:00:00",
          "2020-12-13T20:00:00",
          "2020-12-13T21:00:00",
          "2020-12-13T22:00:00",
          "2020-12-13T23:00:00",
          "2020-12-14T00:00:00",
          "2020-12-14T01:00:00",
          "2020-12-14T02:00:00",
          "2020-12-14T03:00:00",
          "2020-12-14T04:00:00",
          "2020-12-14T05:00:00",
          "2020-12-14T06:00:00",
          "2020-12-14T07:00:00",
          "2020-12-14T08:00:00",
          "2020-12-14T09:00:00",
          "2020-12-14T10:00:00",
          "2020-12-14T11:00:00",
          "2020-12-14T12:00:00",
          "2020-12-14T13:00:00",
          "2020-12-14T14:00:00",
          "2020-12-14T15:00:00",
          "2020-12-14T16:00:00",
          "2020-12-14T17:00:00",
          "2020-12-14T18:00:00",
          "2020-12-14T19:00:00",
          "2020-12-14T20:00:00",
          "2020-12-14T21:00:00",
          "2020-12-14T22:00:00",
          "2020-12-14T23:00:00",
          "2020-12-15T00:00:00",
          "2020-12-15T01:00:00",
          "2020-12-15T02:00:00",
          "2020-12-15T03:00:00",
          "2020-12-15T04:00:00",
          "2020-12-15T05:00:00",
          "2020-12-15T06:00:00",
          "2020-12-15T07:00:00",
          "2020-12-15T08:00:00",
          "2020-12-15T09:00:00",
          "2020-12-15T10:00:00",
          "2020-12-15T11:00:00",
          "2020-12-15T12:00:00",
          "2020-12-15T13:00:00",
          "2020-12-15T14:00:00",
          "2020-12-15T15:00:00",
          "2020-12-15T16:00:00",
          "2020-12-15T17:00:00",
          "2020-12-15T18:00:00",
          "2020-12-15T19:00:00",
          "2020-12-15T20:00:00",
          "2020-12-15T21:00:00",
          "2020-12-15T22:00:00",
          "2020-12-15T23:00:00",
          "2020-12-16T00:00:00"
         ],
         "y": [
          -0.2061592705822947,
          -0.18305566813794388,
          -0.15995206569359305,
          -0.13684846324924219,
          -0.11374486080489137,
          -0.09064125836054053,
          -0.06753765569991191,
          -0.044434053039283314,
          -0.02133045037865472,
          0.001773152281973913,
          0.02487675494260251,
          0.04798035760323114,
          0.0710839602624103,
          0.09418756292158946,
          0.11729116558076862,
          0.1403947682399477,
          0.1634983708991269,
          0.18660197383871122,
          0.20970557677829546,
          0.23280917971787973,
          0.2559127826574639,
          0.2790163855970483,
          0.3021199885366325,
          0.32522359136770423,
          0.348327194198776,
          0.3714307970298477,
          0.39453439986091937,
          0.4176380026919912,
          0.4407416055636682,
          0.46384520843534516,
          0.4869488113070223,
          0.5100524141786993,
          0.5331560170503764,
          0.5562596199343436,
          0.5793632228183107,
          0.6024668257022778,
          0.6255704285862449,
          0.6486740314702121,
          0.6717776343541791,
          0.6948812372216129,
          0.7179848400890463,
          0.7410884429564797,
          0.7641920458239133,
          0.7872956486913469,
          0.8103992515522458,
          0.8335028544131448,
          0.8566064572740436,
          0.8797100601349425,
          0.9028136629958415,
          0.9259172658567403,
          0.9490208688745769,
          0.9721244718924134,
          0.99522807491025,
          1.0183316779280864,
          1.041435280945923,
          1.0645388838873018,
          1.0876424868286805,
          1.1107460897700592,
          1.1338496927114377,
          1.1569532956528163,
          1.1800568981956225,
          1.2031605007384292,
          1.2262641032812354,
          1.2493677058240422,
          1.2724713083668484,
          1.295574910909655,
          1.3186785130900136,
          1.3417821152703724,
          1.364885717450731,
          1.3879893196310895,
          1.4110929218114483,
          1.4341965237696677,
          1.4573001257278873,
          1.4804037276861064,
          1.503507329644326,
          1.5266109316025454,
          1.5497145335607652,
          1.5728177332138835,
          1.5959209328670023,
          1.619024132520121,
          1.6421273321732393,
          1.6652305318263583,
          1.6821234863680736,
          1.699016440909789,
          1.7159093954515043,
          1.73280234999322,
          1.749695304534935,
          1.7555062969185828,
          1.761317289302231,
          1.7671282816858787,
          1.7729392740695267,
          1.7787502664531747,
          1.7845612588368223,
          1.77770833687354,
          1.7708554149102576,
          1.764002492946975,
          1.7571495709836928,
          1.7502966490204102,
          1.7328360486664243,
          1.715375448312438,
          1.6979148479584518,
          1.6804542476044655,
          1.6629936472504798,
          1.6455330468964933,
          1.6233407588606497,
          1.6011484708248058,
          1.5789561827889618,
          1.556763894753118,
          1.534571606717274,
          1.512379185155863,
          1.4901867635944523,
          1.4679943420330412,
          1.4458019204716301,
          1.423609498910219,
          1.4014069930441058,
          1.3792044871779923,
          1.357001981311879,
          1.3347994754457653,
          1.3125969695796518,
          1.2903944637135385,
          1.2681919557773353,
          1.2459894478411322,
          1.2237869399049284,
          1.2015844319687252,
          1.179381924032522,
          1.1571794161347184,
          1.134976908236915,
          1.1127744003391118,
          1.0905718924413081,
          1.0683693845435043,
          1.046166876645701,
          1.0239643686055298,
          1.0017618605653582,
          0.9795593525251864,
          0.957356844485015,
          0.9351543364448436,
          0.9129518286037764,
          0.8907493207627099,
          0.8685468129216433,
          0.8463443050805761,
          0.8241417972395095,
          0.8019392893984425,
          0.7797367815573764,
          0.7575342737163093,
          0.7353317658752422,
          0.7131292580341756,
          0.690926750193109,
          0.6687242423520419,
          0.6465217345109753,
          0.6243192266699087,
          0.6021167188288417,
          0.5799142109877751,
          0.5577117031467079,
          0.5355091953056413,
          0.5133066874645748,
          0.4911041796235076,
          0.468901671782441,
          0.44669916394137443,
          0.4244966561003073,
          0.4022941482592407,
          0.3800916404181741,
          0.357889132577107,
          0.33568662473604044,
          0.31348411689497335,
          0.29128160905390676,
          0.2690791012128402,
          0.24687659337177303,
          0.22467408553070592,
          0.20247157768963986,
          0.18026906984857274
         ]
        },
        {
         "fill": "tonexty",
         "fillcolor": "rgba(0, 114, 178, 0.2)",
         "hoverinfo": "skip",
         "line": {
          "width": 0
         },
         "mode": "lines",
         "showlegend": false,
         "type": "scatter",
         "x": [
          "2020-12-08T23:00:00",
          "2020-12-09T00:00:00",
          "2020-12-09T01:00:00",
          "2020-12-09T02:00:00",
          "2020-12-09T03:00:00",
          "2020-12-09T04:00:00",
          "2020-12-09T05:00:00",
          "2020-12-09T06:00:00",
          "2020-12-09T07:00:00",
          "2020-12-09T08:00:00",
          "2020-12-09T09:00:00",
          "2020-12-09T10:00:00",
          "2020-12-09T11:00:00",
          "2020-12-09T12:00:00",
          "2020-12-09T13:00:00",
          "2020-12-09T14:00:00",
          "2020-12-09T15:00:00",
          "2020-12-09T16:00:00",
          "2020-12-09T17:00:00",
          "2020-12-09T18:00:00",
          "2020-12-09T19:00:00",
          "2020-12-09T20:00:00",
          "2020-12-09T21:00:00",
          "2020-12-09T22:00:00",
          "2020-12-09T23:00:00",
          "2020-12-10T00:00:00",
          "2020-12-10T01:00:00",
          "2020-12-10T02:00:00",
          "2020-12-10T03:00:00",
          "2020-12-10T04:00:00",
          "2020-12-10T05:00:00",
          "2020-12-10T06:00:00",
          "2020-12-10T07:00:00",
          "2020-12-10T08:00:00",
          "2020-12-10T09:00:00",
          "2020-12-10T10:00:00",
          "2020-12-10T11:00:00",
          "2020-12-10T12:00:00",
          "2020-12-10T13:00:00",
          "2020-12-10T14:00:00",
          "2020-12-10T15:00:00",
          "2020-12-10T16:00:00",
          "2020-12-10T17:00:00",
          "2020-12-10T18:00:00",
          "2020-12-10T19:00:00",
          "2020-12-10T20:00:00",
          "2020-12-10T21:00:00",
          "2020-12-10T22:00:00",
          "2020-12-10T23:00:00",
          "2020-12-11T00:00:00",
          "2020-12-11T01:00:00",
          "2020-12-11T02:00:00",
          "2020-12-11T03:00:00",
          "2020-12-11T04:00:00",
          "2020-12-11T05:00:00",
          "2020-12-11T06:00:00",
          "2020-12-11T07:00:00",
          "2020-12-11T08:00:00",
          "2020-12-11T09:00:00",
          "2020-12-11T10:00:00",
          "2020-12-11T11:00:00",
          "2020-12-11T12:00:00",
          "2020-12-11T13:00:00",
          "2020-12-11T14:00:00",
          "2020-12-11T15:00:00",
          "2020-12-11T16:00:00",
          "2020-12-11T17:00:00",
          "2020-12-11T18:00:00",
          "2020-12-11T19:00:00",
          "2020-12-11T20:00:00",
          "2020-12-11T21:00:00",
          "2020-12-11T22:00:00",
          "2020-12-11T23:00:00",
          "2020-12-12T00:00:00",
          "2020-12-12T01:00:00",
          "2020-12-12T02:00:00",
          "2020-12-12T03:00:00",
          "2020-12-12T04:00:00",
          "2020-12-12T05:00:00",
          "2020-12-12T06:00:00",
          "2020-12-12T07:00:00",
          "2020-12-12T08:00:00",
          "2020-12-12T09:00:00",
          "2020-12-12T10:00:00",
          "2020-12-12T11:00:00",
          "2020-12-12T12:00:00",
          "2020-12-12T13:00:00",
          "2020-12-12T14:00:00",
          "2020-12-12T15:00:00",
          "2020-12-12T16:00:00",
          "2020-12-12T17:00:00",
          "2020-12-12T18:00:00",
          "2020-12-12T19:00:00",
          "2020-12-12T20:00:00",
          "2020-12-12T21:00:00",
          "2020-12-12T22:00:00",
          "2020-12-12T23:00:00",
          "2020-12-13T00:00:00",
          "2020-12-13T01:00:00",
          "2020-12-13T02:00:00",
          "2020-12-13T03:00:00",
          "2020-12-13T04:00:00",
          "2020-12-13T05:00:00",
          "2020-12-13T06:00:00",
          "2020-12-13T07:00:00",
          "2020-12-13T08:00:00",
          "2020-12-13T09:00:00",
          "2020-12-13T10:00:00",
          "2020-12-13T11:00:00",
          "2020-12-13T12:00:00",
          "2020-12-13T13:00:00",
          "2020-12-13T14:00:00",
          "2020-12-13T15:00:00",
          "2020-12-13T16:00:00",
          "2020-12-13T17:00:00",
          "2020-12-13T18:00:00",
          "2020-12-13T19:00:00",
          "2020-12-13T20:00:00",
          "2020-12-13T21:00:00",
          "2020-12-13T22:00:00",
          "2020-12-13T23:00:00",
          "2020-12-14T00:00:00",
          "2020-12-14T01:00:00",
          "2020-12-14T02:00:00",
          "2020-12-14T03:00:00",
          "2020-12-14T04:00:00",
          "2020-12-14T05:00:00",
          "2020-12-14T06:00:00",
          "2020-12-14T07:00:00",
          "2020-12-14T08:00:00",
          "2020-12-14T09:00:00",
          "2020-12-14T10:00:00",
          "2020-12-14T11:00:00",
          "2020-12-14T12:00:00",
          "2020-12-14T13:00:00",
          "2020-12-14T14:00:00",
          "2020-12-14T15:00:00",
          "2020-12-14T16:00:00",
          "2020-12-14T17:00:00",
          "2020-12-14T18:00:00",
          "2020-12-14T19:00:00",
          "2020-12-14T20:00:00",
          "2020-12-14T21:00:00",
          "2020-12-14T22:00:00",
          "2020-12-14T23:00:00",
          "2020-12-15T00:00:00",
          "2020-12-15T01:00:00",
          "2020-12-15T02:00:00",
          "2020-12-15T03:00:00",
          "2020-12-15T04:00:00",
          "2020-12-15T05:00:00",
          "2020-12-15T06:00:00",
          "2020-12-15T07:00:00",
          "2020-12-15T08:00:00",
          "2020-12-15T09:00:00",
          "2020-12-15T10:00:00",
          "2020-12-15T11:00:00",
          "2020-12-15T12:00:00",
          "2020-12-15T13:00:00",
          "2020-12-15T14:00:00",
          "2020-12-15T15:00:00",
          "2020-12-15T16:00:00",
          "2020-12-15T17:00:00",
          "2020-12-15T18:00:00",
          "2020-12-15T19:00:00",
          "2020-12-15T20:00:00",
          "2020-12-15T21:00:00",
          "2020-12-15T22:00:00",
          "2020-12-15T23:00:00",
          "2020-12-16T00:00:00"
         ],
         "y": [
          -1.2780689159681198,
          -1.2037633848609646,
          -1.2738440879145503,
          -1.2378177486294384,
          -1.2346877236827052,
          -1.2916287845291168,
          -1.1892386677579165,
          -1.1995570235545003,
          -1.0559143475501562,
          -0.9938416151800009,
          -1.1331387496715637,
          -1.089842676648329,
          -1.0689693867037828,
          -1.0708043162730272,
          -0.9056427668614994,
          -0.8224016602378924,
          -0.933872503742984,
          -0.8522398588906592,
          -0.9573871479065862,
          -0.817708720864956,
          -0.8978345998746928,
          -0.8472450288556954,
          -0.7530056015856792,
          -0.7052811755928821,
          -0.7026938053248726,
          -0.7560583329850029,
          -0.6725674163804574,
          -0.6885597826279946,
          -0.5344963826936742,
          -0.6391938605460051,
          -0.6881498099198208,
          -0.6467795718124318,
          -0.5575944060541136,
          -0.49999722843517047,
          -0.6302259705313703,
          -0.41105312449636866,
          -0.443262303019069,
          -0.33696097321943796,
          -0.379849023589267,
          -0.47704684794382524,
          -0.4209002280841543,
          -0.3485810705899206,
          -0.30675060562452994,
          -0.3145516561575259,
          -0.12390808348538385,
          -0.3139588222443118,
          -0.1402948430452593,
          -0.20785908005546194,
          -0.1455555488071768,
          -0.20125017256908428,
          -0.17843804004452934,
          0.007359504464749311,
          -0.14118659492303332,
          -0.05734795428851136,
          -0.19181181869797426,
          -0.026853531617735404,
          -0.10668286384930759,
          0.028038091388417508,
          0.12769054196247698,
          0.10116598557532397,
          0.03479759692017925,
          0.05341511220673656,
          0.17146595037285728,
          0.03219158229197161,
          0.22232216502329205,
          0.2050900915995535,
          0.13132598483596158,
          0.3179635385372752,
          0.29022626039182176,
          0.286902399264265,
          0.36186374931496434,
          0.35176913397348497,
          0.44592360633412387,
          0.3660910477158885,
          0.4064400928972627,
          0.40118210346038174,
          0.5131732321638536,
          0.3820898351861062,
          0.40792182584204806,
          0.5568088470213581,
          0.5918337303433432,
          0.5763355571595157,
          0.577971050199561,
          0.6679130001513347,
          0.5227193649049384,
          0.6513267753305276,
          0.7104249339507738,
          0.6613106422151256,
          0.5680513420436721,
          0.6532013350124786,
          0.6319838152484536,
          0.6566372385875126,
          0.5749483355092573,
          0.5459434736113626,
          0.6946489092056483,
          0.5063189507495272,
          0.5978729605378299,
          0.7928248067462373,
          0.6788873386353169,
          0.6903265923935955,
          0.6553392340607944,
          0.5931782459478643,
          0.6739328316446391,
          0.7250117298561483,
          0.6978253658213553,
          0.4082856773128849,
          0.5918093023054812,
          0.36772833989985476,
          0.5557697923201734,
          0.35050765665385186,
          0.5040873034153583,
          0.34872162951720864,
          0.38313731275298224,
          0.28848281729154746,
          0.334926922139718,
          0.1934628582140241,
          0.13456744929477882,
          0.3700156009980782,
          0.21025422261803484,
          0.2775098227493964,
          0.18660567386434845,
          0.014404998212129927,
          0.12091634650800609,
          0.10806115386460169,
          0.09492352303536111,
          0.02108567902839331,
          -0.03948698618068103,
          -0.04888574312522809,
          -0.14003032944209393,
          0.03921081919190206,
          -0.13124692935040527,
          -0.13164520155140358,
          -0.12375474611024151,
          -0.07053155310815251,
          -0.08009167707185771,
          -0.13881940973065432,
          -0.12656001416589147,
          -0.16662221474164107,
          -0.15940566977487503,
          -0.2329897511778758,
          -0.2565246614083554,
          -0.1448388374854832,
          -0.14631982361943874,
          -0.26483528695832304,
          -0.19230456242975702,
          -0.3609885187072822,
          -0.48677208192863,
          -0.3478132766259858,
          -0.5516769481048953,
          -0.435564022736018,
          -0.5079273988897834,
          -0.5125635546533827,
          -0.5749849889103634,
          -0.5440552271407325,
          -0.573741647538759,
          -0.5485969132803532,
          -0.6716729909677235,
          -0.5735014706744912,
          -0.6522108630899385,
          -0.560096336274542,
          -0.5851665876736708,
          -0.838771894472621,
          -0.6496600431124995,
          -0.8079734602992745,
          -0.7387211995345517,
          -0.7480361736139678,
          -0.83959032711271,
          -0.9054520533110497,
          -0.8779871205566055,
          -0.9397051340633225
         ]
        },
        {
         "line": {
          "color": "black",
          "width": 2
         },
         "mode": "lines",
         "name": "top3_hashtag_count",
         "type": "scatter",
         "x": [
          "2020-12-08T23:00:00",
          "2020-12-09T00:00:00",
          "2020-12-09T01:00:00",
          "2020-12-09T02:00:00",
          "2020-12-09T03:00:00",
          "2020-12-09T04:00:00",
          "2020-12-09T05:00:00",
          "2020-12-09T06:00:00",
          "2020-12-09T07:00:00",
          "2020-12-09T08:00:00",
          "2020-12-09T09:00:00",
          "2020-12-09T10:00:00",
          "2020-12-09T11:00:00",
          "2020-12-09T12:00:00",
          "2020-12-09T13:00:00",
          "2020-12-09T14:00:00",
          "2020-12-09T15:00:00",
          "2020-12-09T16:00:00",
          "2020-12-09T17:00:00",
          "2020-12-09T18:00:00",
          "2020-12-09T19:00:00",
          "2020-12-09T20:00:00",
          "2020-12-09T21:00:00",
          "2020-12-09T22:00:00",
          "2020-12-09T23:00:00",
          "2020-12-10T00:00:00",
          "2020-12-10T01:00:00",
          "2020-12-10T02:00:00",
          "2020-12-10T03:00:00",
          "2020-12-10T04:00:00",
          "2020-12-10T05:00:00",
          "2020-12-10T06:00:00",
          "2020-12-10T07:00:00",
          "2020-12-10T08:00:00",
          "2020-12-10T09:00:00",
          "2020-12-10T10:00:00",
          "2020-12-10T11:00:00",
          "2020-12-10T12:00:00",
          "2020-12-10T13:00:00",
          "2020-12-10T14:00:00",
          "2020-12-10T15:00:00",
          "2020-12-10T16:00:00",
          "2020-12-10T17:00:00",
          "2020-12-10T18:00:00",
          "2020-12-10T19:00:00",
          "2020-12-10T20:00:00",
          "2020-12-10T21:00:00",
          "2020-12-10T22:00:00",
          "2020-12-10T23:00:00",
          "2020-12-11T00:00:00",
          "2020-12-11T01:00:00",
          "2020-12-11T02:00:00",
          "2020-12-11T03:00:00",
          "2020-12-11T04:00:00",
          "2020-12-11T05:00:00",
          "2020-12-11T06:00:00",
          "2020-12-11T07:00:00",
          "2020-12-11T08:00:00",
          "2020-12-11T09:00:00",
          "2020-12-11T10:00:00",
          "2020-12-11T11:00:00",
          "2020-12-11T12:00:00",
          "2020-12-11T13:00:00",
          "2020-12-11T14:00:00",
          "2020-12-11T15:00:00",
          "2020-12-11T16:00:00",
          "2020-12-11T17:00:00",
          "2020-12-11T18:00:00",
          "2020-12-11T19:00:00",
          "2020-12-11T20:00:00",
          "2020-12-11T21:00:00",
          "2020-12-11T22:00:00",
          "2020-12-11T23:00:00",
          "2020-12-12T00:00:00",
          "2020-12-12T01:00:00",
          "2020-12-12T02:00:00",
          "2020-12-12T03:00:00",
          "2020-12-12T04:00:00",
          "2020-12-12T05:00:00",
          "2020-12-12T06:00:00",
          "2020-12-12T07:00:00",
          "2020-12-12T08:00:00",
          "2020-12-12T09:00:00",
          "2020-12-12T10:00:00",
          "2020-12-12T11:00:00",
          "2020-12-12T12:00:00",
          "2020-12-12T13:00:00",
          "2020-12-12T14:00:00",
          "2020-12-12T15:00:00",
          "2020-12-12T16:00:00",
          "2020-12-12T17:00:00",
          "2020-12-12T18:00:00",
          "2020-12-12T19:00:00",
          "2020-12-12T20:00:00",
          "2020-12-12T21:00:00",
          "2020-12-12T22:00:00",
          "2020-12-12T23:00:00",
          "2020-12-13T00:00:00",
          "2020-12-13T01:00:00",
          "2020-12-13T02:00:00",
          "2020-12-13T03:00:00",
          "2020-12-13T04:00:00",
          "2020-12-13T05:00:00",
          "2020-12-13T06:00:00",
          "2020-12-13T07:00:00",
          "2020-12-13T08:00:00",
          "2020-12-13T09:00:00",
          "2020-12-13T10:00:00",
          "2020-12-13T11:00:00",
          "2020-12-13T12:00:00",
          "2020-12-13T13:00:00",
          "2020-12-13T14:00:00",
          "2020-12-13T15:00:00",
          "2020-12-13T16:00:00",
          "2020-12-13T17:00:00",
          "2020-12-13T18:00:00",
          "2020-12-13T19:00:00",
          "2020-12-13T20:00:00",
          "2020-12-13T21:00:00",
          "2020-12-13T22:00:00",
          "2020-12-13T23:00:00",
          "2020-12-14T00:00:00",
          "2020-12-14T01:00:00",
          "2020-12-14T02:00:00",
          "2020-12-14T03:00:00",
          "2020-12-14T04:00:00",
          "2020-12-14T05:00:00",
          "2020-12-14T06:00:00",
          "2020-12-14T07:00:00",
          "2020-12-14T08:00:00",
          "2020-12-14T09:00:00",
          "2020-12-14T10:00:00",
          "2020-12-14T11:00:00",
          "2020-12-14T12:00:00",
          "2020-12-14T13:00:00",
          "2020-12-14T14:00:00",
          "2020-12-14T15:00:00",
          "2020-12-14T16:00:00",
          "2020-12-14T17:00:00",
          "2020-12-14T18:00:00",
          "2020-12-14T19:00:00",
          "2020-12-14T20:00:00",
          "2020-12-14T21:00:00",
          "2020-12-14T22:00:00",
          "2020-12-14T23:00:00",
          "2020-12-15T00:00:00",
          "2020-12-15T01:00:00",
          "2020-12-15T02:00:00",
          "2020-12-15T03:00:00",
          "2020-12-15T04:00:00",
          "2020-12-15T05:00:00",
          "2020-12-15T06:00:00",
          "2020-12-15T07:00:00",
          "2020-12-15T08:00:00",
          "2020-12-15T09:00:00",
          "2020-12-15T10:00:00",
          "2020-12-15T11:00:00",
          "2020-12-15T12:00:00",
          "2020-12-15T13:00:00",
          "2020-12-15T14:00:00",
          "2020-12-15T15:00:00",
          "2020-12-15T16:00:00",
          "2020-12-15T17:00:00",
          "2020-12-15T18:00:00",
          "2020-12-15T19:00:00",
          "2020-12-15T20:00:00",
          "2020-12-15T21:00:00",
          "2020-12-15T22:00:00",
          "2020-12-15T23:00:00",
          "2020-12-16T00:00:00"
         ],
         "y": [
          0,
          0,
          0,
          0.3333333333333333,
          0.3333333333333333,
          0.3333333333333333,
          0.8333333333333333,
          0.8333333333333333,
          1.1666666666666665,
          0.9999999999999999,
          0.9999999999999999,
          0.9999999999999999,
          0.5,
          0.5,
          0.16666666666666666,
          0,
          0,
          0,
          0,
          0,
          0,
          0,
          0,
          0,
          0,
          0,
          0,
          0,
          0,
          0,
          0,
          0,
          0,
          0,
          0,
          0,
          0,
          0,
          0,
          0,
          0,
          0,
          0,
          0,
          0,
          0,
          0,
          0,
          0,
          0,
          0,
          0,
          0,
          0,
          0,
          0,
          0,
          0,
          0,
          0,
          0,
          0,
          0,
          0,
          0,
          0,
          0,
          0,
          0,
          0,
          0,
          0,
          0,
          0,
          0,
          0,
          0,
          0,
          1,
          3.1666666666666665,
          7.333333333333332,
          8.666666666666666,
          9.166666666666666,
          9.5,
          8.499999999999998,
          6.499999999999999,
          2.9999999999999996,
          1.8333333333333333,
          2.333333333333333,
          3.1666666666666665,
          4.5,
          5,
          4.833333333333333,
          5.166666666666667,
          5.833333333333332,
          4.666666666666666,
          4.333333333333333,
          4.333333333333333,
          3.9999999999999996,
          3.833333333333333,
          2.1666666666666665,
          2.6666666666666665,
          1.6666666666666665,
          1.6666666666666665,
          1.6666666666666667,
          1.5,
          1.6666666666666667,
          1.1666666666666665,
          1.1666666666666665,
          0.5,
          0.3333333333333333,
          0.16666666666666666,
          0.3333333333333333,
          0.5,
          0.8333333333333333,
          0.8333333333333333,
          0.9999999999999999,
          0.9999999999999999,
          0.6666666666666666,
          0.6666666666666666,
          0.5,
          0.6666666666666666,
          0.6666666666666666,
          0.6666666666666666,
          0.6666666666666666,
          0.5,
          0.6666666666666666,
          0.8333333333333333,
          0.6666666666666666,
          0.6666666666666666,
          0.6666666666666666,
          0.6666666666666666,
          0.3333333333333333,
          0,
          0.16666666666666666,
          0.3333333333333333,
          0.3333333333333333,
          0.6666666666666666,
          0.8333333333333333,
          0.8333333333333333,
          0.6666666666666666,
          0.5,
          0.5,
          0.16666666666666666,
          0.3333333333333333,
          0.3333333333333333,
          0.5,
          0.5,
          0.5,
          0.5,
          0.16666666666666666,
          0.16666666666666666,
          0,
          0.16666666666666666,
          0.16666666666666666,
          0.16666666666666666,
          0.16666666666666666,
          0.16666666666666666,
          0.3333333333333333,
          0.16666666666666666,
          0.16666666666666666,
          0.16666666666666666,
          0.16666666666666666,
          0.16666666666666666,
          0,
          0,
          0,
          0,
          0,
          0
         ]
        },
        {
         "line": {
          "color": "red",
          "width": 2
         },
         "mode": "lines",
         "name": "Anomaly Score",
         "type": "scatter",
         "x": [
          "2020-12-08T23:00:00",
          "2020-12-09T00:00:00",
          "2020-12-09T01:00:00",
          "2020-12-09T02:00:00",
          "2020-12-09T03:00:00",
          "2020-12-09T04:00:00",
          "2020-12-09T05:00:00",
          "2020-12-09T06:00:00",
          "2020-12-09T07:00:00",
          "2020-12-09T08:00:00",
          "2020-12-09T09:00:00",
          "2020-12-09T10:00:00",
          "2020-12-09T11:00:00",
          "2020-12-09T12:00:00",
          "2020-12-09T13:00:00",
          "2020-12-09T14:00:00",
          "2020-12-09T15:00:00",
          "2020-12-09T16:00:00",
          "2020-12-09T17:00:00",
          "2020-12-09T18:00:00",
          "2020-12-09T19:00:00",
          "2020-12-09T20:00:00",
          "2020-12-09T21:00:00",
          "2020-12-09T22:00:00",
          "2020-12-09T23:00:00",
          "2020-12-10T00:00:00",
          "2020-12-10T01:00:00",
          "2020-12-10T02:00:00",
          "2020-12-10T03:00:00",
          "2020-12-10T04:00:00",
          "2020-12-10T05:00:00",
          "2020-12-10T06:00:00",
          "2020-12-10T07:00:00",
          "2020-12-10T08:00:00",
          "2020-12-10T09:00:00",
          "2020-12-10T10:00:00",
          "2020-12-10T11:00:00",
          "2020-12-10T12:00:00",
          "2020-12-10T13:00:00",
          "2020-12-10T14:00:00",
          "2020-12-10T15:00:00",
          "2020-12-10T16:00:00",
          "2020-12-10T17:00:00",
          "2020-12-10T18:00:00",
          "2020-12-10T19:00:00",
          "2020-12-10T20:00:00",
          "2020-12-10T21:00:00",
          "2020-12-10T22:00:00",
          "2020-12-10T23:00:00",
          "2020-12-11T00:00:00",
          "2020-12-11T01:00:00",
          "2020-12-11T02:00:00",
          "2020-12-11T03:00:00",
          "2020-12-11T04:00:00",
          "2020-12-11T05:00:00",
          "2020-12-11T06:00:00",
          "2020-12-11T07:00:00",
          "2020-12-11T08:00:00",
          "2020-12-11T09:00:00",
          "2020-12-11T10:00:00",
          "2020-12-11T11:00:00",
          "2020-12-11T12:00:00",
          "2020-12-11T13:00:00",
          "2020-12-11T14:00:00",
          "2020-12-11T15:00:00",
          "2020-12-11T16:00:00",
          "2020-12-11T17:00:00",
          "2020-12-11T18:00:00",
          "2020-12-11T19:00:00",
          "2020-12-11T20:00:00",
          "2020-12-11T21:00:00",
          "2020-12-11T22:00:00",
          "2020-12-11T23:00:00",
          "2020-12-12T00:00:00",
          "2020-12-12T01:00:00",
          "2020-12-12T02:00:00",
          "2020-12-12T03:00:00",
          "2020-12-12T04:00:00",
          "2020-12-12T05:00:00",
          "2020-12-12T06:00:00",
          "2020-12-12T07:00:00",
          "2020-12-12T08:00:00",
          "2020-12-12T09:00:00",
          "2020-12-12T10:00:00",
          "2020-12-12T11:00:00",
          "2020-12-12T12:00:00",
          "2020-12-12T13:00:00",
          "2020-12-12T14:00:00",
          "2020-12-12T15:00:00",
          "2020-12-12T16:00:00",
          "2020-12-12T17:00:00",
          "2020-12-12T18:00:00",
          "2020-12-12T19:00:00",
          "2020-12-12T20:00:00",
          "2020-12-12T21:00:00",
          "2020-12-12T22:00:00",
          "2020-12-12T23:00:00",
          "2020-12-13T00:00:00",
          "2020-12-13T01:00:00",
          "2020-12-13T02:00:00",
          "2020-12-13T03:00:00",
          "2020-12-13T04:00:00",
          "2020-12-13T05:00:00",
          "2020-12-13T06:00:00",
          "2020-12-13T07:00:00",
          "2020-12-13T08:00:00",
          "2020-12-13T09:00:00",
          "2020-12-13T10:00:00",
          "2020-12-13T11:00:00",
          "2020-12-13T12:00:00",
          "2020-12-13T13:00:00",
          "2020-12-13T14:00:00",
          "2020-12-13T15:00:00",
          "2020-12-13T16:00:00",
          "2020-12-13T17:00:00",
          "2020-12-13T18:00:00",
          "2020-12-13T19:00:00",
          "2020-12-13T20:00:00",
          "2020-12-13T21:00:00",
          "2020-12-13T22:00:00",
          "2020-12-13T23:00:00",
          "2020-12-14T00:00:00",
          "2020-12-14T01:00:00",
          "2020-12-14T02:00:00",
          "2020-12-14T03:00:00",
          "2020-12-14T04:00:00",
          "2020-12-14T05:00:00",
          "2020-12-14T06:00:00",
          "2020-12-14T07:00:00",
          "2020-12-14T08:00:00",
          "2020-12-14T09:00:00",
          "2020-12-14T10:00:00",
          "2020-12-14T11:00:00",
          "2020-12-14T12:00:00",
          "2020-12-14T13:00:00",
          "2020-12-14T14:00:00",
          "2020-12-14T15:00:00",
          "2020-12-14T16:00:00",
          "2020-12-14T17:00:00",
          "2020-12-14T18:00:00",
          "2020-12-14T19:00:00",
          "2020-12-14T20:00:00",
          "2020-12-14T21:00:00",
          "2020-12-14T22:00:00",
          "2020-12-14T23:00:00",
          "2020-12-15T00:00:00",
          "2020-12-15T01:00:00",
          "2020-12-15T02:00:00",
          "2020-12-15T03:00:00",
          "2020-12-15T04:00:00",
          "2020-12-15T05:00:00",
          "2020-12-15T06:00:00",
          "2020-12-15T07:00:00",
          "2020-12-15T08:00:00",
          "2020-12-15T09:00:00",
          "2020-12-15T10:00:00",
          "2020-12-15T11:00:00",
          "2020-12-15T12:00:00",
          "2020-12-15T13:00:00",
          "2020-12-15T14:00:00",
          "2020-12-15T15:00:00",
          "2020-12-15T16:00:00",
          "2020-12-15T17:00:00",
          "2020-12-15T18:00:00",
          "2020-12-15T19:00:00",
          "2020-12-15T20:00:00",
          "2020-12-15T21:00:00",
          "2020-12-15T22:00:00",
          "2020-12-15T23:00:00",
          "2020-12-16T00:00:00"
         ],
         "xaxis": "x",
         "y": [
          0,
          0,
          0,
          0,
          0,
          0,
          0,
          0,
          1.283508595167181,
          0,
          0,
          0,
          0,
          0,
          0,
          0,
          0,
          0,
          0,
          0,
          0,
          0,
          0,
          0,
          0,
          0,
          0,
          0,
          0,
          0,
          0,
          0,
          0,
          0,
          0,
          0,
          0,
          0,
          0,
          0,
          0,
          0,
          0,
          0,
          0,
          0,
          0,
          0,
          0,
          0,
          0,
          -1.0541220198225683,
          0,
          0,
          -1.0931511424425824,
          0,
          0,
          -1.1446183268136747,
          0,
          0,
          -1.2563023979663075,
          0,
          0,
          -1.2517301662643334,
          0,
          0,
          -1.4028011966220846,
          0,
          0,
          -1.4762439476394604,
          0,
          0,
          -1.506677575929046,
          0,
          0,
          -1.5453553589291347,
          0,
          0,
          0,
          1.5438576489124114,
          0,
          0,
          3.087854757685168,
          0,
          0,
          2.405622705458135,
          0,
          0,
          0,
          1.4775692435232766,
          0,
          0,
          1.9462442321609514,
          0,
          0,
          1.912013855297035,
          0,
          0,
          1.7961955635169913,
          0,
          0,
          1.0405196211112895,
          0,
          0,
          0,
          0,
          0,
          0,
          0,
          -1.0723313841145925,
          0,
          0,
          -1.1932654393719,
          0,
          0,
          0,
          0,
          0,
          0,
          0,
          0,
          0,
          0,
          0,
          0,
          0,
          0,
          0,
          0,
          0,
          0,
          0,
          0,
          -1.0060613378297107,
          0,
          0,
          0,
          0,
          0,
          0,
          0,
          0,
          0,
          0,
          0,
          0,
          0,
          0,
          0,
          0,
          0,
          0,
          0,
          0,
          0,
          0,
          0,
          0,
          0,
          0,
          0,
          0,
          0,
          0,
          0,
          0,
          0,
          0,
          0,
          0
         ],
         "yaxis": "y2"
        }
       ],
       "layout": {
        "height": 600,
        "shapes": [
         {
          "fillcolor": "#e07070",
          "line": {
           "width": 0
          },
          "opacity": 0.4,
          "type": "rect",
          "x0": "2020-12-09T07:00:00",
          "x1": "2020-12-09T08:00:00",
          "xref": "x",
          "y0": 0,
          "y1": 1,
          "yref": "y domain"
         },
         {
          "fillcolor": "#e07070",
          "line": {
           "width": 0
          },
          "opacity": 0.4,
          "type": "rect",
          "x0": "2020-12-11T02:00:00",
          "x1": "2020-12-11T03:00:00",
          "xref": "x",
          "y0": 0,
          "y1": 1,
          "yref": "y domain"
         },
         {
          "fillcolor": "#e07070",
          "line": {
           "width": 0
          },
          "opacity": 0.4,
          "type": "rect",
          "x0": "2020-12-11T05:00:00",
          "x1": "2020-12-11T06:00:00",
          "xref": "x",
          "y0": 0,
          "y1": 1,
          "yref": "y domain"
         },
         {
          "fillcolor": "#e07070",
          "line": {
           "width": 0
          },
          "opacity": 0.4,
          "type": "rect",
          "x0": "2020-12-11T08:00:00",
          "x1": "2020-12-11T09:00:00",
          "xref": "x",
          "y0": 0,
          "y1": 1,
          "yref": "y domain"
         },
         {
          "fillcolor": "#e07070",
          "line": {
           "width": 0
          },
          "opacity": 0.4,
          "type": "rect",
          "x0": "2020-12-11T11:00:00",
          "x1": "2020-12-11T12:00:00",
          "xref": "x",
          "y0": 0,
          "y1": 1,
          "yref": "y domain"
         },
         {
          "fillcolor": "#e07070",
          "line": {
           "width": 0
          },
          "opacity": 0.4,
          "type": "rect",
          "x0": "2020-12-11T14:00:00",
          "x1": "2020-12-11T15:00:00",
          "xref": "x",
          "y0": 0,
          "y1": 1,
          "yref": "y domain"
         },
         {
          "fillcolor": "#e07070",
          "line": {
           "width": 0
          },
          "opacity": 0.4,
          "type": "rect",
          "x0": "2020-12-11T17:00:00",
          "x1": "2020-12-11T18:00:00",
          "xref": "x",
          "y0": 0,
          "y1": 1,
          "yref": "y domain"
         },
         {
          "fillcolor": "#e07070",
          "line": {
           "width": 0
          },
          "opacity": 0.4,
          "type": "rect",
          "x0": "2020-12-11T20:00:00",
          "x1": "2020-12-11T21:00:00",
          "xref": "x",
          "y0": 0,
          "y1": 1,
          "yref": "y domain"
         },
         {
          "fillcolor": "#e07070",
          "line": {
           "width": 0
          },
          "opacity": 0.4,
          "type": "rect",
          "x0": "2020-12-11T23:00:00",
          "x1": "2020-12-12T00:00:00",
          "xref": "x",
          "y0": 0,
          "y1": 1,
          "yref": "y domain"
         },
         {
          "fillcolor": "#e07070",
          "line": {
           "width": 0
          },
          "opacity": 0.4,
          "type": "rect",
          "x0": "2020-12-12T02:00:00",
          "x1": "2020-12-12T03:00:00",
          "xref": "x",
          "y0": 0,
          "y1": 1,
          "yref": "y domain"
         },
         {
          "fillcolor": "#e07070",
          "line": {
           "width": 0
          },
          "opacity": 0.4,
          "type": "rect",
          "x0": "2020-12-12T06:00:00",
          "x1": "2020-12-12T07:00:00",
          "xref": "x",
          "y0": 0,
          "y1": 1,
          "yref": "y domain"
         },
         {
          "fillcolor": "#e07070",
          "line": {
           "width": 0
          },
          "opacity": 0.4,
          "type": "rect",
          "x0": "2020-12-12T09:00:00",
          "x1": "2020-12-12T10:00:00",
          "xref": "x",
          "y0": 0,
          "y1": 1,
          "yref": "y domain"
         },
         {
          "fillcolor": "#e07070",
          "line": {
           "width": 0
          },
          "opacity": 0.4,
          "type": "rect",
          "x0": "2020-12-12T12:00:00",
          "x1": "2020-12-12T13:00:00",
          "xref": "x",
          "y0": 0,
          "y1": 1,
          "yref": "y domain"
         },
         {
          "fillcolor": "#e07070",
          "line": {
           "width": 0
          },
          "opacity": 0.4,
          "type": "rect",
          "x0": "2020-12-12T16:00:00",
          "x1": "2020-12-12T17:00:00",
          "xref": "x",
          "y0": 0,
          "y1": 1,
          "yref": "y domain"
         },
         {
          "fillcolor": "#e07070",
          "line": {
           "width": 0
          },
          "opacity": 0.4,
          "type": "rect",
          "x0": "2020-12-12T19:00:00",
          "x1": "2020-12-12T20:00:00",
          "xref": "x",
          "y0": 0,
          "y1": 1,
          "yref": "y domain"
         },
         {
          "fillcolor": "#e07070",
          "line": {
           "width": 0
          },
          "opacity": 0.4,
          "type": "rect",
          "x0": "2020-12-12T22:00:00",
          "x1": "2020-12-12T23:00:00",
          "xref": "x",
          "y0": 0,
          "y1": 1,
          "yref": "y domain"
         },
         {
          "fillcolor": "#e07070",
          "line": {
           "width": 0
          },
          "opacity": 0.4,
          "type": "rect",
          "x0": "2020-12-13T01:00:00",
          "x1": "2020-12-13T02:00:00",
          "xref": "x",
          "y0": 0,
          "y1": 1,
          "yref": "y domain"
         },
         {
          "fillcolor": "#e07070",
          "line": {
           "width": 0
          },
          "opacity": 0.4,
          "type": "rect",
          "x0": "2020-12-13T04:00:00",
          "x1": "2020-12-13T05:00:00",
          "xref": "x",
          "y0": 0,
          "y1": 1,
          "yref": "y domain"
         },
         {
          "fillcolor": "#e07070",
          "line": {
           "width": 0
          },
          "opacity": 0.4,
          "type": "rect",
          "x0": "2020-12-13T12:00:00",
          "x1": "2020-12-13T13:00:00",
          "xref": "x",
          "y0": 0,
          "y1": 1,
          "yref": "y domain"
         },
         {
          "fillcolor": "#e07070",
          "line": {
           "width": 0
          },
          "opacity": 0.4,
          "type": "rect",
          "x0": "2020-12-13T15:00:00",
          "x1": "2020-12-13T16:00:00",
          "xref": "x",
          "y0": 0,
          "y1": 1,
          "yref": "y domain"
         },
         {
          "fillcolor": "#e07070",
          "line": {
           "width": 0
          },
          "opacity": 0.4,
          "type": "rect",
          "x0": "2020-12-14T12:00:00",
          "x1": "2020-12-14T13:00:00",
          "xref": "x",
          "y0": 0,
          "y1": 1,
          "yref": "y domain"
         }
        ],
        "showlegend": true,
        "template": {
         "data": {
          "bar": [
           {
            "error_x": {
             "color": "#2a3f5f"
            },
            "error_y": {
             "color": "#2a3f5f"
            },
            "marker": {
             "line": {
              "color": "#E5ECF6",
              "width": 0.5
             },
             "pattern": {
              "fillmode": "overlay",
              "size": 10,
              "solidity": 0.2
             }
            },
            "type": "bar"
           }
          ],
          "barpolar": [
           {
            "marker": {
             "line": {
              "color": "#E5ECF6",
              "width": 0.5
             },
             "pattern": {
              "fillmode": "overlay",
              "size": 10,
              "solidity": 0.2
             }
            },
            "type": "barpolar"
           }
          ],
          "carpet": [
           {
            "aaxis": {
             "endlinecolor": "#2a3f5f",
             "gridcolor": "white",
             "linecolor": "white",
             "minorgridcolor": "white",
             "startlinecolor": "#2a3f5f"
            },
            "baxis": {
             "endlinecolor": "#2a3f5f",
             "gridcolor": "white",
             "linecolor": "white",
             "minorgridcolor": "white",
             "startlinecolor": "#2a3f5f"
            },
            "type": "carpet"
           }
          ],
          "choropleth": [
           {
            "colorbar": {
             "outlinewidth": 0,
             "ticks": ""
            },
            "type": "choropleth"
           }
          ],
          "contour": [
           {
            "colorbar": {
             "outlinewidth": 0,
             "ticks": ""
            },
            "colorscale": [
             [
              0,
              "#0d0887"
             ],
             [
              0.1111111111111111,
              "#46039f"
             ],
             [
              0.2222222222222222,
              "#7201a8"
             ],
             [
              0.3333333333333333,
              "#9c179e"
             ],
             [
              0.4444444444444444,
              "#bd3786"
             ],
             [
              0.5555555555555556,
              "#d8576b"
             ],
             [
              0.6666666666666666,
              "#ed7953"
             ],
             [
              0.7777777777777778,
              "#fb9f3a"
             ],
             [
              0.8888888888888888,
              "#fdca26"
             ],
             [
              1,
              "#f0f921"
             ]
            ],
            "type": "contour"
           }
          ],
          "contourcarpet": [
           {
            "colorbar": {
             "outlinewidth": 0,
             "ticks": ""
            },
            "type": "contourcarpet"
           }
          ],
          "heatmap": [
           {
            "colorbar": {
             "outlinewidth": 0,
             "ticks": ""
            },
            "colorscale": [
             [
              0,
              "#0d0887"
             ],
             [
              0.1111111111111111,
              "#46039f"
             ],
             [
              0.2222222222222222,
              "#7201a8"
             ],
             [
              0.3333333333333333,
              "#9c179e"
             ],
             [
              0.4444444444444444,
              "#bd3786"
             ],
             [
              0.5555555555555556,
              "#d8576b"
             ],
             [
              0.6666666666666666,
              "#ed7953"
             ],
             [
              0.7777777777777778,
              "#fb9f3a"
             ],
             [
              0.8888888888888888,
              "#fdca26"
             ],
             [
              1,
              "#f0f921"
             ]
            ],
            "type": "heatmap"
           }
          ],
          "heatmapgl": [
           {
            "colorbar": {
             "outlinewidth": 0,
             "ticks": ""
            },
            "colorscale": [
             [
              0,
              "#0d0887"
             ],
             [
              0.1111111111111111,
              "#46039f"
             ],
             [
              0.2222222222222222,
              "#7201a8"
             ],
             [
              0.3333333333333333,
              "#9c179e"
             ],
             [
              0.4444444444444444,
              "#bd3786"
             ],
             [
              0.5555555555555556,
              "#d8576b"
             ],
             [
              0.6666666666666666,
              "#ed7953"
             ],
             [
              0.7777777777777778,
              "#fb9f3a"
             ],
             [
              0.8888888888888888,
              "#fdca26"
             ],
             [
              1,
              "#f0f921"
             ]
            ],
            "type": "heatmapgl"
           }
          ],
          "histogram": [
           {
            "marker": {
             "pattern": {
              "fillmode": "overlay",
              "size": 10,
              "solidity": 0.2
             }
            },
            "type": "histogram"
           }
          ],
          "histogram2d": [
           {
            "colorbar": {
             "outlinewidth": 0,
             "ticks": ""
            },
            "colorscale": [
             [
              0,
              "#0d0887"
             ],
             [
              0.1111111111111111,
              "#46039f"
             ],
             [
              0.2222222222222222,
              "#7201a8"
             ],
             [
              0.3333333333333333,
              "#9c179e"
             ],
             [
              0.4444444444444444,
              "#bd3786"
             ],
             [
              0.5555555555555556,
              "#d8576b"
             ],
             [
              0.6666666666666666,
              "#ed7953"
             ],
             [
              0.7777777777777778,
              "#fb9f3a"
             ],
             [
              0.8888888888888888,
              "#fdca26"
             ],
             [
              1,
              "#f0f921"
             ]
            ],
            "type": "histogram2d"
           }
          ],
          "histogram2dcontour": [
           {
            "colorbar": {
             "outlinewidth": 0,
             "ticks": ""
            },
            "colorscale": [
             [
              0,
              "#0d0887"
             ],
             [
              0.1111111111111111,
              "#46039f"
             ],
             [
              0.2222222222222222,
              "#7201a8"
             ],
             [
              0.3333333333333333,
              "#9c179e"
             ],
             [
              0.4444444444444444,
              "#bd3786"
             ],
             [
              0.5555555555555556,
              "#d8576b"
             ],
             [
              0.6666666666666666,
              "#ed7953"
             ],
             [
              0.7777777777777778,
              "#fb9f3a"
             ],
             [
              0.8888888888888888,
              "#fdca26"
             ],
             [
              1,
              "#f0f921"
             ]
            ],
            "type": "histogram2dcontour"
           }
          ],
          "mesh3d": [
           {
            "colorbar": {
             "outlinewidth": 0,
             "ticks": ""
            },
            "type": "mesh3d"
           }
          ],
          "parcoords": [
           {
            "line": {
             "colorbar": {
              "outlinewidth": 0,
              "ticks": ""
             }
            },
            "type": "parcoords"
           }
          ],
          "pie": [
           {
            "automargin": true,
            "type": "pie"
           }
          ],
          "scatter": [
           {
            "marker": {
             "colorbar": {
              "outlinewidth": 0,
              "ticks": ""
             }
            },
            "type": "scatter"
           }
          ],
          "scatter3d": [
           {
            "line": {
             "colorbar": {
              "outlinewidth": 0,
              "ticks": ""
             }
            },
            "marker": {
             "colorbar": {
              "outlinewidth": 0,
              "ticks": ""
             }
            },
            "type": "scatter3d"
           }
          ],
          "scattercarpet": [
           {
            "marker": {
             "colorbar": {
              "outlinewidth": 0,
              "ticks": ""
             }
            },
            "type": "scattercarpet"
           }
          ],
          "scattergeo": [
           {
            "marker": {
             "colorbar": {
              "outlinewidth": 0,
              "ticks": ""
             }
            },
            "type": "scattergeo"
           }
          ],
          "scattergl": [
           {
            "marker": {
             "colorbar": {
              "outlinewidth": 0,
              "ticks": ""
             }
            },
            "type": "scattergl"
           }
          ],
          "scattermapbox": [
           {
            "marker": {
             "colorbar": {
              "outlinewidth": 0,
              "ticks": ""
             }
            },
            "type": "scattermapbox"
           }
          ],
          "scatterpolar": [
           {
            "marker": {
             "colorbar": {
              "outlinewidth": 0,
              "ticks": ""
             }
            },
            "type": "scatterpolar"
           }
          ],
          "scatterpolargl": [
           {
            "marker": {
             "colorbar": {
              "outlinewidth": 0,
              "ticks": ""
             }
            },
            "type": "scatterpolargl"
           }
          ],
          "scatterternary": [
           {
            "marker": {
             "colorbar": {
              "outlinewidth": 0,
              "ticks": ""
             }
            },
            "type": "scatterternary"
           }
          ],
          "surface": [
           {
            "colorbar": {
             "outlinewidth": 0,
             "ticks": ""
            },
            "colorscale": [
             [
              0,
              "#0d0887"
             ],
             [
              0.1111111111111111,
              "#46039f"
             ],
             [
              0.2222222222222222,
              "#7201a8"
             ],
             [
              0.3333333333333333,
              "#9c179e"
             ],
             [
              0.4444444444444444,
              "#bd3786"
             ],
             [
              0.5555555555555556,
              "#d8576b"
             ],
             [
              0.6666666666666666,
              "#ed7953"
             ],
             [
              0.7777777777777778,
              "#fb9f3a"
             ],
             [
              0.8888888888888888,
              "#fdca26"
             ],
             [
              1,
              "#f0f921"
             ]
            ],
            "type": "surface"
           }
          ],
          "table": [
           {
            "cells": {
             "fill": {
              "color": "#EBF0F8"
             },
             "line": {
              "color": "white"
             }
            },
            "header": {
             "fill": {
              "color": "#C8D4E3"
             },
             "line": {
              "color": "white"
             }
            },
            "type": "table"
           }
          ]
         },
         "layout": {
          "annotationdefaults": {
           "arrowcolor": "#2a3f5f",
           "arrowhead": 0,
           "arrowwidth": 1
          },
          "autotypenumbers": "strict",
          "coloraxis": {
           "colorbar": {
            "outlinewidth": 0,
            "ticks": ""
           }
          },
          "colorscale": {
           "diverging": [
            [
             0,
             "#8e0152"
            ],
            [
             0.1,
             "#c51b7d"
            ],
            [
             0.2,
             "#de77ae"
            ],
            [
             0.3,
             "#f1b6da"
            ],
            [
             0.4,
             "#fde0ef"
            ],
            [
             0.5,
             "#f7f7f7"
            ],
            [
             0.6,
             "#e6f5d0"
            ],
            [
             0.7,
             "#b8e186"
            ],
            [
             0.8,
             "#7fbc41"
            ],
            [
             0.9,
             "#4d9221"
            ],
            [
             1,
             "#276419"
            ]
           ],
           "sequential": [
            [
             0,
             "#0d0887"
            ],
            [
             0.1111111111111111,
             "#46039f"
            ],
            [
             0.2222222222222222,
             "#7201a8"
            ],
            [
             0.3333333333333333,
             "#9c179e"
            ],
            [
             0.4444444444444444,
             "#bd3786"
            ],
            [
             0.5555555555555556,
             "#d8576b"
            ],
            [
             0.6666666666666666,
             "#ed7953"
            ],
            [
             0.7777777777777778,
             "#fb9f3a"
            ],
            [
             0.8888888888888888,
             "#fdca26"
            ],
            [
             1,
             "#f0f921"
            ]
           ],
           "sequentialminus": [
            [
             0,
             "#0d0887"
            ],
            [
             0.1111111111111111,
             "#46039f"
            ],
            [
             0.2222222222222222,
             "#7201a8"
            ],
            [
             0.3333333333333333,
             "#9c179e"
            ],
            [
             0.4444444444444444,
             "#bd3786"
            ],
            [
             0.5555555555555556,
             "#d8576b"
            ],
            [
             0.6666666666666666,
             "#ed7953"
            ],
            [
             0.7777777777777778,
             "#fb9f3a"
            ],
            [
             0.8888888888888888,
             "#fdca26"
            ],
            [
             1,
             "#f0f921"
            ]
           ]
          },
          "colorway": [
           "#636efa",
           "#EF553B",
           "#00cc96",
           "#ab63fa",
           "#FFA15A",
           "#19d3f3",
           "#FF6692",
           "#B6E880",
           "#FF97FF",
           "#FECB52"
          ],
          "font": {
           "color": "#2a3f5f"
          },
          "geo": {
           "bgcolor": "white",
           "lakecolor": "white",
           "landcolor": "#E5ECF6",
           "showlakes": true,
           "showland": true,
           "subunitcolor": "white"
          },
          "hoverlabel": {
           "align": "left"
          },
          "hovermode": "closest",
          "mapbox": {
           "style": "light"
          },
          "paper_bgcolor": "white",
          "plot_bgcolor": "#E5ECF6",
          "polar": {
           "angularaxis": {
            "gridcolor": "white",
            "linecolor": "white",
            "ticks": ""
           },
           "bgcolor": "#E5ECF6",
           "radialaxis": {
            "gridcolor": "white",
            "linecolor": "white",
            "ticks": ""
           }
          },
          "scene": {
           "xaxis": {
            "backgroundcolor": "#E5ECF6",
            "gridcolor": "white",
            "gridwidth": 2,
            "linecolor": "white",
            "showbackground": true,
            "ticks": "",
            "zerolinecolor": "white"
           },
           "yaxis": {
            "backgroundcolor": "#E5ECF6",
            "gridcolor": "white",
            "gridwidth": 2,
            "linecolor": "white",
            "showbackground": true,
            "ticks": "",
            "zerolinecolor": "white"
           },
           "zaxis": {
            "backgroundcolor": "#E5ECF6",
            "gridcolor": "white",
            "gridwidth": 2,
            "linecolor": "white",
            "showbackground": true,
            "ticks": "",
            "zerolinecolor": "white"
           }
          },
          "shapedefaults": {
           "line": {
            "color": "#2a3f5f"
           }
          },
          "ternary": {
           "aaxis": {
            "gridcolor": "white",
            "linecolor": "white",
            "ticks": ""
           },
           "baxis": {
            "gridcolor": "white",
            "linecolor": "white",
            "ticks": ""
           },
           "bgcolor": "#E5ECF6",
           "caxis": {
            "gridcolor": "white",
            "linecolor": "white",
            "ticks": ""
           }
          },
          "title": {
           "x": 0.05
          },
          "xaxis": {
           "automargin": true,
           "gridcolor": "white",
           "linecolor": "white",
           "ticks": "",
           "title": {
            "standoff": 15
           },
           "zerolinecolor": "white",
           "zerolinewidth": 2
          },
          "yaxis": {
           "automargin": true,
           "gridcolor": "white",
           "linecolor": "white",
           "ticks": "",
           "title": {
            "standoff": 15
           },
           "zerolinecolor": "white",
           "zerolinewidth": 2
          }
         }
        },
        "title": {
         "text": "ProphetDetector: Anomalies in top3_hashtag_count (Forecast Overlaid)"
        },
        "width": 1000,
        "xaxis": {
         "anchor": "y",
         "domain": [
          0,
          0.94
         ],
         "rangeselector": {
          "buttons": [
           {
            "count": 7,
            "label": "1w",
            "step": "day",
            "stepmode": "backward"
           },
           {
            "count": 1,
            "label": "1m",
            "step": "month",
            "stepmode": "backward"
           },
           {
            "count": 6,
            "label": "6m",
            "step": "month",
            "stepmode": "backward"
           },
           {
            "count": 1,
            "label": "1y",
            "step": "year",
            "stepmode": "backward"
           },
           {
            "step": "all"
           }
          ]
         },
         "rangeslider": {
          "visible": true
         },
         "title": {
          "text": "Time"
         },
         "type": "date"
        },
        "yaxis": {
         "anchor": "x",
         "domain": [
          0,
          1
         ],
         "title": {
          "text": "top3_hashtag_count"
         }
        },
        "yaxis2": {
         "anchor": "x",
         "overlaying": "y",
         "range": [
          -2.1245066235059227,
          12.354274990913773
         ],
         "side": "right",
         "title": {
          "text": "Anomaly Score"
         }
        }
       }
      }
     },
     "metadata": {}
    }
   ],
   "metadata": {}
  },
  {
   "cell_type": "code",
   "execution_count": 90,
   "source": [
    "# Export \n",
    "df_tweets.to_json(\n",
    "    selected_dataset[\"output_location\"],\n",
    "    orient=\"records\"\n",
    ")\n",
    "df_tweets.info()"
   ],
   "outputs": [
    {
     "output_type": "stream",
     "name": "stdout",
     "text": [
      "<class 'pandas.core.frame.DataFrame'>\n",
      "Int64Index: 34643 entries, 34642 to 0\n",
      "Data columns (total 19 columns):\n",
      " #   Column                              Non-Null Count  Dtype              \n",
      "---  ------                              --------------  -----              \n",
      " 0   id                                  34643 non-null  object             \n",
      " 1   text                                34643 non-null  object             \n",
      " 2   created_at                          34643 non-null  datetime64[ns, UTC]\n",
      " 3   hashtags                            34643 non-null  object             \n",
      " 4   mentions                            34643 non-null  object             \n",
      " 5   in_reply_to_user_id                 15238 non-null  object             \n",
      " 6   user_id                             34643 non-null  object             \n",
      " 7   retweet_count                       34643 non-null  int64              \n",
      " 8   quote_count                         34643 non-null  int64              \n",
      " 9   reply_count                         34643 non-null  int64              \n",
      " 10  like_count                          34643 non-null  int64              \n",
      " 11  replied_to                          13384 non-null  object             \n",
      " 12  retweeted                           16921 non-null  object             \n",
      " 13  quoted                              2340 non-null   object             \n",
      " 14  is_anomaly                          34643 non-null  int64              \n",
      " 15  merlion_anomaly_total_count         34643 non-null  float64            \n",
      " 16  merlion_anomaly_top1_hashtag_count  34643 non-null  float64            \n",
      " 17  merlion_anomaly_top2_hashtag_count  34643 non-null  float64            \n",
      " 18  merlion_anomaly_top3_hashtag_count  34643 non-null  float64            \n",
      "dtypes: datetime64[ns, UTC](1), float64(4), int64(5), object(9)\n",
      "memory usage: 6.3+ MB\n"
     ]
    }
   ],
   "metadata": {}
  }
 ],
 "metadata": {
  "orig_nbformat": 4,
  "language_info": {
   "name": "python",
   "version": "3.8.11",
   "mimetype": "text/x-python",
   "codemirror_mode": {
    "name": "ipython",
    "version": 3
   },
   "pygments_lexer": "ipython3",
   "nbconvert_exporter": "python",
   "file_extension": ".py"
  },
  "kernelspec": {
   "name": "python3",
   "display_name": "Python 3.8.11 64-bit ('spec-project': conda)"
  },
  "interpreter": {
   "hash": "d5626e6117a626f228c3b35b757f4e3d945537012d8c7ec5db5088829d27e251"
  }
 },
 "nbformat": 4,
 "nbformat_minor": 2
}