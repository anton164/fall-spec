{
 "cells": [
  {
   "cell_type": "code",
   "execution_count": 18,
   "source": [
    "import json\n",
    "\n",
    "with open(\"../data/embeddings/CentralParkNYC.json\", \"r\") as f:\n",
    "    emb_json = json.load(f)\n",
    "emb_json.keys()"
   ],
   "outputs": [
    {
     "output_type": "execute_result",
     "data": {
      "text/plain": [
       "dict_keys(['rows', 'fasttext_lookup'])"
      ]
     },
     "metadata": {},
     "execution_count": 18
    }
   ],
   "metadata": {}
  },
  {
   "cell_type": "code",
   "execution_count": 19,
   "source": [
    "import pandas as pd\n",
    "df = pd.DataFrame(emb_json[\"rows\"])\n",
    "df.head()"
   ],
   "outputs": [
    {
     "output_type": "execute_result",
     "data": {
      "text/html": [
       "<div>\n",
       "<style scoped>\n",
       "    .dataframe tbody tr th:only-of-type {\n",
       "        vertical-align: middle;\n",
       "    }\n",
       "\n",
       "    .dataframe tbody tr th {\n",
       "        vertical-align: top;\n",
       "    }\n",
       "\n",
       "    .dataframe thead th {\n",
       "        text-align: right;\n",
       "    }\n",
       "</style>\n",
       "<table border=\"1\" class=\"dataframe\">\n",
       "  <thead>\n",
       "    <tr style=\"text-align: right;\">\n",
       "      <th></th>\n",
       "      <th>id</th>\n",
       "      <th>text_tokenized</th>\n",
       "    </tr>\n",
       "  </thead>\n",
       "  <tbody>\n",
       "    <tr>\n",
       "      <th>0</th>\n",
       "      <td>1354218419441315840</td>\n",
       "      <td>[with, today, ’, s, winter, weather—and, more,...</td>\n",
       "    </tr>\n",
       "    <tr>\n",
       "      <th>1</th>\n",
       "      <td>1354218565977706498</td>\n",
       "      <td>[rt, @, centralparknyc, :, with, today, ’, s, ...</td>\n",
       "    </tr>\n",
       "    <tr>\n",
       "      <th>2</th>\n",
       "      <td>1354219142048440323</td>\n",
       "      <td>[@, centralparknyc, https, :, //t.co/0dtezya1xx]</td>\n",
       "    </tr>\n",
       "    <tr>\n",
       "      <th>3</th>\n",
       "      <td>1354219554138968065</td>\n",
       "      <td>[rt, @, centralparknyc, :, with, today, ’, s, ...</td>\n",
       "    </tr>\n",
       "    <tr>\n",
       "      <th>4</th>\n",
       "      <td>1354226585956716548</td>\n",
       "      <td>[rt, @, centralparknyc, :, with, today, ’, s, ...</td>\n",
       "    </tr>\n",
       "  </tbody>\n",
       "</table>\n",
       "</div>"
      ],
      "text/plain": [
       "                    id                                     text_tokenized\n",
       "0  1354218419441315840  [with, today, ’, s, winter, weather—and, more,...\n",
       "1  1354218565977706498  [rt, @, centralparknyc, :, with, today, ’, s, ...\n",
       "2  1354219142048440323   [@, centralparknyc, https, :, //t.co/0dtezya1xx]\n",
       "3  1354219554138968065  [rt, @, centralparknyc, :, with, today, ’, s, ...\n",
       "4  1354226585956716548  [rt, @, centralparknyc, :, with, today, ’, s, ..."
      ]
     },
     "metadata": {},
     "execution_count": 19
    }
   ],
   "metadata": {}
  },
  {
   "cell_type": "code",
   "execution_count": 20,
   "source": [
    "fasttext_lookup = emb_json[\"fasttext_lookup\"]\n",
    "\n",
    "# check for unk\n",
    "\"not existing\" in fasttext_lookup"
   ],
   "outputs": [
    {
     "output_type": "execute_result",
     "data": {
      "text/plain": [
       "False"
      ]
     },
     "metadata": {},
     "execution_count": 20
    }
   ],
   "metadata": {}
  },
  {
   "cell_type": "code",
   "execution_count": 21,
   "source": [
    "# Note that the fasttext lookup is str -> list embedding\n",
    "import numpy as np\n",
    "emb = np.array(emb_json[\"fasttext_lookup\"][\"with\"])\n",
    "print(\n",
    "    emb.shape,\n",
    "    emb.dtype\n",
    ")"
   ],
   "outputs": [
    {
     "output_type": "stream",
     "name": "stdout",
     "text": [
      "(300,) float64\n"
     ]
    }
   ],
   "metadata": {}
  },
  {
   "cell_type": "code",
   "execution_count": 22,
   "source": [
    "# Convert dataset to embeddings\n",
    "for tokens in df[\"text_tokenized\"]:\n",
    "    for token in tokens:\n",
    "        if token in fasttext_lookup:\n",
    "            embedding = np.array(fasttext_lookup[token])\n",
    "            # do something with embedding"
   ],
   "outputs": [],
   "metadata": {}
  }
 ],
 "metadata": {
  "orig_nbformat": 4,
  "language_info": {
   "name": "python",
   "version": "3.8.11",
   "mimetype": "text/x-python",
   "codemirror_mode": {
    "name": "ipython",
    "version": 3
   },
   "pygments_lexer": "ipython3",
   "nbconvert_exporter": "python",
   "file_extension": ".py"
  },
  "kernelspec": {
   "name": "python3",
   "display_name": "Python 3.8.11 64-bit ('spec-project': conda)"
  },
  "interpreter": {
   "hash": "d5626e6117a626f228c3b35b757f4e3d945537012d8c7ec5db5088829d27e251"
  }
 },
 "nbformat": 4,
 "nbformat_minor": 2
}