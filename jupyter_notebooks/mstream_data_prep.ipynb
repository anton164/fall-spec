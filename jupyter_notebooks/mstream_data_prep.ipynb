{
 "cells": [
  {
   "cell_type": "code",
   "execution_count": 22,
   "metadata": {},
   "outputs": [],
   "source": [
    "import pandas as pd\n",
    "import numpy as np\n",
    "import time\n",
    "import datetime\n",
    "import time\n",
    "import datetime"
   ]
  },
  {
   "cell_type": "code",
   "execution_count": 23,
   "metadata": {},
   "outputs": [],
   "source": [
    "# read data \n",
    "df = pd.read_csv(\"../MStream/data/data/kddcup.data\", lineterminator='\\n', header=None)"
   ]
  },
  {
   "cell_type": "code",
   "execution_count": 24,
   "metadata": {},
   "outputs": [],
   "source": [
    "# check which column is categorical abd which is continuous\n",
    "columns = open(\"../MStream/data/data/columns\", \"r\")\n",
    "type_list = columns.readlines()\n",
    "name_list = type_list.copy()\n",
    "for j, column in enumerate(type_list):\n",
    "    type_list[j] = column.split(\": \")[1].replace(\".\\n\", \"\").replace(\".\", \"\")\n",
    "    name_list[j] = column.split(\": \")[0].replace(\".\\n\", \"\").replace(\".\", \"\")"
   ]
  },
  {
   "cell_type": "code",
   "execution_count": 25,
   "metadata": {},
   "outputs": [],
   "source": [
    "continuous_index = [i for i, column in enumerate(type_list) if column == 'continuous'] \n",
    "symbolic_index = [i for i, column in enumerate(type_list) if column == 'symbolic'] "
   ]
  },
  {
   "cell_type": "code",
   "execution_count": 26,
   "metadata": {},
   "outputs": [],
   "source": [
    "df_continuous = df.iloc[:, continuous_index]\n",
    "df_symbolic = df.iloc[:, symbolic_index]\n",
    "df_label = df.iloc[:, [41]]"
   ]
  },
  {
   "cell_type": "code",
   "execution_count": 27,
   "metadata": {},
   "outputs": [
    {
     "name": "stdout",
     "output_type": "stream",
     "text": [
      "normal.\n",
      "buffer_overflow.\n",
      "loadmodule.\n",
      "perl.\n",
      "neptune.\n",
      "smurf.\n",
      "guess_passwd.\n",
      "pod.\n",
      "teardrop.\n",
      "portsweep.\n",
      "ipsweep.\n",
      "land.\n",
      "ftp_write.\n",
      "back.\n",
      "imap.\n",
      "satan.\n",
      "phf.\n",
      "nmap.\n",
      "multihop.\n",
      "warezmaster.\n",
      "warezclient.\n",
      "spy.\n",
      "rootkit.\n"
     ]
    }
   ],
   "source": [
    "df_symbolic.loc[:,1].unique()\n",
    "df_symbolic.loc[:,2].unique()\n",
    "df_symbolic.loc[:,3].unique()\n",
    "\n",
    "protocol_dict = {}\n",
    "for i, entry in enumerate(df_symbolic.loc[:,1].unique()):\n",
    "    protocol_dict[entry] = i\n",
    "    \n",
    "service_dict = {}\n",
    "for i, entry in enumerate(df_symbolic.loc[:,2].unique()):\n",
    "    service_dict[entry] = i\n",
    "\n",
    "flag_dict = {}\n",
    "for i, entry in enumerate(df_symbolic.loc[:,3].unique()):\n",
    "    flag_dict[entry] = i\n",
    "\n",
    "label_dict = {}\n",
    "for i, entry in enumerate(df_label.loc[:,41].unique()):\n",
    "    print(entry)\n",
    "    if entry == 'normal.':\n",
    "        label_dict[entry] = 0\n",
    "    else:\n",
    "        label_dict[entry] = 1"
   ]
  },
  {
   "cell_type": "code",
   "execution_count": 28,
   "metadata": {},
   "outputs": [],
   "source": [
    "# Create mapping for categorical values\n",
    "df_symbolic.loc[:,1] =  df_symbolic.loc[:,1].map(protocol_dict)\n",
    "df_symbolic.loc[:,2] =  df_symbolic.loc[:,2].map(service_dict)\n",
    "df_symbolic.loc[:,3] =  df_symbolic.loc[:,3].map(flag_dict)\n",
    "df_label.loc[:,41] =  df_label.loc[:,41].map(label_dict)"
   ]
  },
  {
   "cell_type": "code",
   "execution_count": 29,
   "metadata": {},
   "outputs": [],
   "source": [
    "import datetime\n",
    "a = datetime.datetime(2020,1,1,11,34,59)\n",
    "times = []\n",
    "for i in range(df.shape[0]):\n",
    "    #tmp = (a + datetime.timedelta(0,i)).strftime('%Y %m %d %H %M %S')\n",
    "    tmp = int(time.mktime((a + datetime.timedelta(0,i)).timetuple()))\n",
    "    times.append(str(tmp))"
   ]
  },
  {
   "cell_type": "code",
   "execution_count": 30,
   "metadata": {},
   "outputs": [],
   "source": [
    "times = times[:100000]\n",
    "textfile = open(\"kddtime.txt\", \"w\")\n",
    "for element in times:\n",
    "    textfile.write(element + \"\\n\")\n",
    "textfile.close()"
   ]
  },
  {
   "cell_type": "code",
   "execution_count": 31,
   "metadata": {},
   "outputs": [],
   "source": [
    "# save\n",
    "df_continuous[:100000].to_csv(\"kddnumeric.txt\", index=False, header=False)\n",
    "df_symbolic[:100000].to_csv(\"kddcateg.txt\", index=False, header=False)\n",
    "df_label[:100000].to_csv(\"kdd_label.txt\", index=False, header=False)"
   ]
  },
  {
   "cell_type": "code",
   "execution_count": 32,
   "metadata": {},
   "outputs": [
    {
     "data": {
      "text/plain": [
       "{'normal.': 0,\n",
       " 'buffer_overflow.': 1,\n",
       " 'loadmodule.': 1,\n",
       " 'perl.': 1,\n",
       " 'neptune.': 1,\n",
       " 'smurf.': 1,\n",
       " 'guess_passwd.': 1,\n",
       " 'pod.': 1,\n",
       " 'teardrop.': 1,\n",
       " 'portsweep.': 1,\n",
       " 'ipsweep.': 1,\n",
       " 'land.': 1,\n",
       " 'ftp_write.': 1,\n",
       " 'back.': 1,\n",
       " 'imap.': 1,\n",
       " 'satan.': 1,\n",
       " 'phf.': 1,\n",
       " 'nmap.': 1,\n",
       " 'multihop.': 1,\n",
       " 'warezmaster.': 1,\n",
       " 'warezclient.': 1,\n",
       " 'spy.': 1,\n",
       " 'rootkit.': 1}"
      ]
     },
     "execution_count": 32,
     "metadata": {},
     "output_type": "execute_result"
    }
   ],
   "source": [
    "label_dict"
   ]
  },
  {
   "cell_type": "code",
   "execution_count": 33,
   "metadata": {},
   "outputs": [
    {
     "data": {
      "text/plain": [
       "(4898431, 34)"
      ]
     },
     "execution_count": 33,
     "metadata": {},
     "output_type": "execute_result"
    }
   ],
   "source": [
    "df_continuous.shape"
   ]
  },
  {
   "cell_type": "code",
   "execution_count": 34,
   "metadata": {},
   "outputs": [
    {
     "data": {
      "text/plain": [
       "100000"
      ]
     },
     "execution_count": 34,
     "metadata": {},
     "output_type": "execute_result"
    }
   ],
   "source": [
    "len(times)"
   ]
  },
  {
   "cell_type": "code",
   "execution_count": null,
   "metadata": {},
   "outputs": [],
   "source": []
  }
 ],
 "metadata": {
  "kernelspec": {
   "display_name": "Python 3",
   "language": "python",
   "name": "python3"
  },
  "language_info": {
   "codemirror_mode": {
    "name": "ipython",
    "version": 3
   },
   "file_extension": ".py",
   "mimetype": "text/x-python",
   "name": "python",
   "nbconvert_exporter": "python",
   "pygments_lexer": "ipython3",
   "version": "3.8.3"
  }
 },
 "nbformat": 4,
 "nbformat_minor": 4
}
